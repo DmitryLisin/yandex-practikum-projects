{
 "cells": [
  {
   "cell_type": "markdown",
   "id": "af6bdbf6",
   "metadata": {
    "deletable": false,
    "editable": false,
    "id": "c81daeeb"
   },
   "source": [
    "# Исследование надежности заемщиков\n"
   ]
  },
  {
   "cell_type": "markdown",
   "id": "67adf269",
   "metadata": {
    "deletable": false,
    "editable": false,
    "id": "827c20bf"
   },
   "source": [
    "Во второй части проекта вы выполните шаги 3 и 4. Их вручную проверит ревьюер.\n",
    "Чтобы вам не пришлось писать код заново для шагов 1 и 2, мы добавили авторские решения в ячейки с кодом. \n",
    "\n"
   ]
  },
  {
   "cell_type": "markdown",
   "id": "72e9ca43",
   "metadata": {
    "deletable": false,
    "editable": false,
    "id": "744d7639"
   },
   "source": [
    "## Откройте таблицу и изучите общую информацию о данных"
   ]
  },
  {
   "cell_type": "markdown",
   "id": "8d8d8c7e",
   "metadata": {
    "deletable": false,
    "editable": false,
    "id": "e7a14c31"
   },
   "source": [
    "**Задание 1. Импортируйте библиотеку pandas. Считайте данные из csv-файла в датафрейм и сохраните в переменную `data`. Путь к файлу:**\n",
    "\n",
    "`/datasets/data.csv`"
   ]
  },
  {
   "cell_type": "code",
   "execution_count": 2,
   "id": "8e557220",
   "metadata": {
    "deletable": false,
    "id": "7bcf75c9"
   },
   "outputs": [],
   "source": [
    "import pandas as pd\n",
    "\n",
    "try:\n",
    "    data = pd.read_csv('/datasets/data.csv')\n",
    "except:\n",
    "    data = pd.read_csv('https://code.s3.yandex.net/datasets/data.csv')\n",
    "\n",
    "data.to_csv('data.csv')"
   ]
  },
  {
   "cell_type": "markdown",
   "id": "619bf78e",
   "metadata": {
    "deletable": false,
    "editable": false,
    "id": "b8038fe3"
   },
   "source": [
    "**Задание 2. Выведите первые 20 строчек датафрейма `data` на экран.**"
   ]
  },
  {
   "cell_type": "code",
   "execution_count": 2,
   "id": "47d276ad",
   "metadata": {
    "deletable": false,
    "id": "2a7cab99",
    "outputId": "1a8f3ef2-d323-4ec2-ddf7-89670b5944c4"
   },
   "outputs": [
    {
     "data": {
      "text/html": [
       "<div>\n",
       "<style scoped>\n",
       "    .dataframe tbody tr th:only-of-type {\n",
       "        vertical-align: middle;\n",
       "    }\n",
       "\n",
       "    .dataframe tbody tr th {\n",
       "        vertical-align: top;\n",
       "    }\n",
       "\n",
       "    .dataframe thead th {\n",
       "        text-align: right;\n",
       "    }\n",
       "</style>\n",
       "<table border=\"1\" class=\"dataframe\">\n",
       "  <thead>\n",
       "    <tr style=\"text-align: right;\">\n",
       "      <th></th>\n",
       "      <th>children</th>\n",
       "      <th>days_employed</th>\n",
       "      <th>dob_years</th>\n",
       "      <th>education</th>\n",
       "      <th>education_id</th>\n",
       "      <th>family_status</th>\n",
       "      <th>family_status_id</th>\n",
       "      <th>gender</th>\n",
       "      <th>income_type</th>\n",
       "      <th>debt</th>\n",
       "      <th>total_income</th>\n",
       "      <th>purpose</th>\n",
       "    </tr>\n",
       "  </thead>\n",
       "  <tbody>\n",
       "    <tr>\n",
       "      <th>0</th>\n",
       "      <td>1</td>\n",
       "      <td>-8437.673028</td>\n",
       "      <td>42</td>\n",
       "      <td>высшее</td>\n",
       "      <td>0</td>\n",
       "      <td>женат / замужем</td>\n",
       "      <td>0</td>\n",
       "      <td>F</td>\n",
       "      <td>сотрудник</td>\n",
       "      <td>0</td>\n",
       "      <td>253875.639453</td>\n",
       "      <td>покупка жилья</td>\n",
       "    </tr>\n",
       "    <tr>\n",
       "      <th>1</th>\n",
       "      <td>1</td>\n",
       "      <td>-4024.803754</td>\n",
       "      <td>36</td>\n",
       "      <td>среднее</td>\n",
       "      <td>1</td>\n",
       "      <td>женат / замужем</td>\n",
       "      <td>0</td>\n",
       "      <td>F</td>\n",
       "      <td>сотрудник</td>\n",
       "      <td>0</td>\n",
       "      <td>112080.014102</td>\n",
       "      <td>приобретение автомобиля</td>\n",
       "    </tr>\n",
       "    <tr>\n",
       "      <th>2</th>\n",
       "      <td>0</td>\n",
       "      <td>-5623.422610</td>\n",
       "      <td>33</td>\n",
       "      <td>Среднее</td>\n",
       "      <td>1</td>\n",
       "      <td>женат / замужем</td>\n",
       "      <td>0</td>\n",
       "      <td>M</td>\n",
       "      <td>сотрудник</td>\n",
       "      <td>0</td>\n",
       "      <td>145885.952297</td>\n",
       "      <td>покупка жилья</td>\n",
       "    </tr>\n",
       "    <tr>\n",
       "      <th>3</th>\n",
       "      <td>3</td>\n",
       "      <td>-4124.747207</td>\n",
       "      <td>32</td>\n",
       "      <td>среднее</td>\n",
       "      <td>1</td>\n",
       "      <td>женат / замужем</td>\n",
       "      <td>0</td>\n",
       "      <td>M</td>\n",
       "      <td>сотрудник</td>\n",
       "      <td>0</td>\n",
       "      <td>267628.550329</td>\n",
       "      <td>дополнительное образование</td>\n",
       "    </tr>\n",
       "    <tr>\n",
       "      <th>4</th>\n",
       "      <td>0</td>\n",
       "      <td>340266.072047</td>\n",
       "      <td>53</td>\n",
       "      <td>среднее</td>\n",
       "      <td>1</td>\n",
       "      <td>гражданский брак</td>\n",
       "      <td>1</td>\n",
       "      <td>F</td>\n",
       "      <td>пенсионер</td>\n",
       "      <td>0</td>\n",
       "      <td>158616.077870</td>\n",
       "      <td>сыграть свадьбу</td>\n",
       "    </tr>\n",
       "    <tr>\n",
       "      <th>5</th>\n",
       "      <td>0</td>\n",
       "      <td>-926.185831</td>\n",
       "      <td>27</td>\n",
       "      <td>высшее</td>\n",
       "      <td>0</td>\n",
       "      <td>гражданский брак</td>\n",
       "      <td>1</td>\n",
       "      <td>M</td>\n",
       "      <td>компаньон</td>\n",
       "      <td>0</td>\n",
       "      <td>255763.565419</td>\n",
       "      <td>покупка жилья</td>\n",
       "    </tr>\n",
       "    <tr>\n",
       "      <th>6</th>\n",
       "      <td>0</td>\n",
       "      <td>-2879.202052</td>\n",
       "      <td>43</td>\n",
       "      <td>высшее</td>\n",
       "      <td>0</td>\n",
       "      <td>женат / замужем</td>\n",
       "      <td>0</td>\n",
       "      <td>F</td>\n",
       "      <td>компаньон</td>\n",
       "      <td>0</td>\n",
       "      <td>240525.971920</td>\n",
       "      <td>операции с жильем</td>\n",
       "    </tr>\n",
       "    <tr>\n",
       "      <th>7</th>\n",
       "      <td>0</td>\n",
       "      <td>-152.779569</td>\n",
       "      <td>50</td>\n",
       "      <td>СРЕДНЕЕ</td>\n",
       "      <td>1</td>\n",
       "      <td>женат / замужем</td>\n",
       "      <td>0</td>\n",
       "      <td>M</td>\n",
       "      <td>сотрудник</td>\n",
       "      <td>0</td>\n",
       "      <td>135823.934197</td>\n",
       "      <td>образование</td>\n",
       "    </tr>\n",
       "    <tr>\n",
       "      <th>8</th>\n",
       "      <td>2</td>\n",
       "      <td>-6929.865299</td>\n",
       "      <td>35</td>\n",
       "      <td>ВЫСШЕЕ</td>\n",
       "      <td>0</td>\n",
       "      <td>гражданский брак</td>\n",
       "      <td>1</td>\n",
       "      <td>F</td>\n",
       "      <td>сотрудник</td>\n",
       "      <td>0</td>\n",
       "      <td>95856.832424</td>\n",
       "      <td>на проведение свадьбы</td>\n",
       "    </tr>\n",
       "    <tr>\n",
       "      <th>9</th>\n",
       "      <td>0</td>\n",
       "      <td>-2188.756445</td>\n",
       "      <td>41</td>\n",
       "      <td>среднее</td>\n",
       "      <td>1</td>\n",
       "      <td>женат / замужем</td>\n",
       "      <td>0</td>\n",
       "      <td>M</td>\n",
       "      <td>сотрудник</td>\n",
       "      <td>0</td>\n",
       "      <td>144425.938277</td>\n",
       "      <td>покупка жилья для семьи</td>\n",
       "    </tr>\n",
       "    <tr>\n",
       "      <th>10</th>\n",
       "      <td>2</td>\n",
       "      <td>-4171.483647</td>\n",
       "      <td>36</td>\n",
       "      <td>высшее</td>\n",
       "      <td>0</td>\n",
       "      <td>женат / замужем</td>\n",
       "      <td>0</td>\n",
       "      <td>M</td>\n",
       "      <td>компаньон</td>\n",
       "      <td>0</td>\n",
       "      <td>113943.491460</td>\n",
       "      <td>покупка недвижимости</td>\n",
       "    </tr>\n",
       "    <tr>\n",
       "      <th>11</th>\n",
       "      <td>0</td>\n",
       "      <td>-792.701887</td>\n",
       "      <td>40</td>\n",
       "      <td>среднее</td>\n",
       "      <td>1</td>\n",
       "      <td>женат / замужем</td>\n",
       "      <td>0</td>\n",
       "      <td>F</td>\n",
       "      <td>сотрудник</td>\n",
       "      <td>0</td>\n",
       "      <td>77069.234271</td>\n",
       "      <td>покупка коммерческой недвижимости</td>\n",
       "    </tr>\n",
       "    <tr>\n",
       "      <th>12</th>\n",
       "      <td>0</td>\n",
       "      <td>NaN</td>\n",
       "      <td>65</td>\n",
       "      <td>среднее</td>\n",
       "      <td>1</td>\n",
       "      <td>гражданский брак</td>\n",
       "      <td>1</td>\n",
       "      <td>M</td>\n",
       "      <td>пенсионер</td>\n",
       "      <td>0</td>\n",
       "      <td>NaN</td>\n",
       "      <td>сыграть свадьбу</td>\n",
       "    </tr>\n",
       "    <tr>\n",
       "      <th>13</th>\n",
       "      <td>0</td>\n",
       "      <td>-1846.641941</td>\n",
       "      <td>54</td>\n",
       "      <td>неоконченное высшее</td>\n",
       "      <td>2</td>\n",
       "      <td>женат / замужем</td>\n",
       "      <td>0</td>\n",
       "      <td>F</td>\n",
       "      <td>сотрудник</td>\n",
       "      <td>0</td>\n",
       "      <td>130458.228857</td>\n",
       "      <td>приобретение автомобиля</td>\n",
       "    </tr>\n",
       "    <tr>\n",
       "      <th>14</th>\n",
       "      <td>0</td>\n",
       "      <td>-1844.956182</td>\n",
       "      <td>56</td>\n",
       "      <td>высшее</td>\n",
       "      <td>0</td>\n",
       "      <td>гражданский брак</td>\n",
       "      <td>1</td>\n",
       "      <td>F</td>\n",
       "      <td>компаньон</td>\n",
       "      <td>1</td>\n",
       "      <td>165127.911772</td>\n",
       "      <td>покупка жилой недвижимости</td>\n",
       "    </tr>\n",
       "    <tr>\n",
       "      <th>15</th>\n",
       "      <td>1</td>\n",
       "      <td>-972.364419</td>\n",
       "      <td>26</td>\n",
       "      <td>среднее</td>\n",
       "      <td>1</td>\n",
       "      <td>женат / замужем</td>\n",
       "      <td>0</td>\n",
       "      <td>F</td>\n",
       "      <td>сотрудник</td>\n",
       "      <td>0</td>\n",
       "      <td>116820.904450</td>\n",
       "      <td>строительство собственной недвижимости</td>\n",
       "    </tr>\n",
       "    <tr>\n",
       "      <th>16</th>\n",
       "      <td>0</td>\n",
       "      <td>-1719.934226</td>\n",
       "      <td>35</td>\n",
       "      <td>среднее</td>\n",
       "      <td>1</td>\n",
       "      <td>женат / замужем</td>\n",
       "      <td>0</td>\n",
       "      <td>F</td>\n",
       "      <td>сотрудник</td>\n",
       "      <td>0</td>\n",
       "      <td>289202.704229</td>\n",
       "      <td>недвижимость</td>\n",
       "    </tr>\n",
       "    <tr>\n",
       "      <th>17</th>\n",
       "      <td>0</td>\n",
       "      <td>-2369.999720</td>\n",
       "      <td>33</td>\n",
       "      <td>высшее</td>\n",
       "      <td>0</td>\n",
       "      <td>гражданский брак</td>\n",
       "      <td>1</td>\n",
       "      <td>M</td>\n",
       "      <td>сотрудник</td>\n",
       "      <td>0</td>\n",
       "      <td>90410.586745</td>\n",
       "      <td>строительство недвижимости</td>\n",
       "    </tr>\n",
       "    <tr>\n",
       "      <th>18</th>\n",
       "      <td>0</td>\n",
       "      <td>400281.136913</td>\n",
       "      <td>53</td>\n",
       "      <td>среднее</td>\n",
       "      <td>1</td>\n",
       "      <td>вдовец / вдова</td>\n",
       "      <td>2</td>\n",
       "      <td>F</td>\n",
       "      <td>пенсионер</td>\n",
       "      <td>0</td>\n",
       "      <td>56823.777243</td>\n",
       "      <td>на покупку подержанного автомобиля</td>\n",
       "    </tr>\n",
       "    <tr>\n",
       "      <th>19</th>\n",
       "      <td>0</td>\n",
       "      <td>-10038.818549</td>\n",
       "      <td>48</td>\n",
       "      <td>СРЕДНЕЕ</td>\n",
       "      <td>1</td>\n",
       "      <td>в разводе</td>\n",
       "      <td>3</td>\n",
       "      <td>F</td>\n",
       "      <td>сотрудник</td>\n",
       "      <td>0</td>\n",
       "      <td>242831.107982</td>\n",
       "      <td>на покупку своего автомобиля</td>\n",
       "    </tr>\n",
       "  </tbody>\n",
       "</table>\n",
       "</div>"
      ],
      "text/plain": [
       "    children  days_employed  dob_years            education  education_id  \\\n",
       "0          1   -8437.673028         42               высшее             0   \n",
       "1          1   -4024.803754         36              среднее             1   \n",
       "2          0   -5623.422610         33              Среднее             1   \n",
       "3          3   -4124.747207         32              среднее             1   \n",
       "4          0  340266.072047         53              среднее             1   \n",
       "5          0    -926.185831         27               высшее             0   \n",
       "6          0   -2879.202052         43               высшее             0   \n",
       "7          0    -152.779569         50              СРЕДНЕЕ             1   \n",
       "8          2   -6929.865299         35               ВЫСШЕЕ             0   \n",
       "9          0   -2188.756445         41              среднее             1   \n",
       "10         2   -4171.483647         36               высшее             0   \n",
       "11         0    -792.701887         40              среднее             1   \n",
       "12         0            NaN         65              среднее             1   \n",
       "13         0   -1846.641941         54  неоконченное высшее             2   \n",
       "14         0   -1844.956182         56               высшее             0   \n",
       "15         1    -972.364419         26              среднее             1   \n",
       "16         0   -1719.934226         35              среднее             1   \n",
       "17         0   -2369.999720         33               высшее             0   \n",
       "18         0  400281.136913         53              среднее             1   \n",
       "19         0  -10038.818549         48              СРЕДНЕЕ             1   \n",
       "\n",
       "       family_status  family_status_id gender income_type  debt  \\\n",
       "0    женат / замужем                 0      F   сотрудник     0   \n",
       "1    женат / замужем                 0      F   сотрудник     0   \n",
       "2    женат / замужем                 0      M   сотрудник     0   \n",
       "3    женат / замужем                 0      M   сотрудник     0   \n",
       "4   гражданский брак                 1      F   пенсионер     0   \n",
       "5   гражданский брак                 1      M   компаньон     0   \n",
       "6    женат / замужем                 0      F   компаньон     0   \n",
       "7    женат / замужем                 0      M   сотрудник     0   \n",
       "8   гражданский брак                 1      F   сотрудник     0   \n",
       "9    женат / замужем                 0      M   сотрудник     0   \n",
       "10   женат / замужем                 0      M   компаньон     0   \n",
       "11   женат / замужем                 0      F   сотрудник     0   \n",
       "12  гражданский брак                 1      M   пенсионер     0   \n",
       "13   женат / замужем                 0      F   сотрудник     0   \n",
       "14  гражданский брак                 1      F   компаньон     1   \n",
       "15   женат / замужем                 0      F   сотрудник     0   \n",
       "16   женат / замужем                 0      F   сотрудник     0   \n",
       "17  гражданский брак                 1      M   сотрудник     0   \n",
       "18    вдовец / вдова                 2      F   пенсионер     0   \n",
       "19         в разводе                 3      F   сотрудник     0   \n",
       "\n",
       "     total_income                                 purpose  \n",
       "0   253875.639453                           покупка жилья  \n",
       "1   112080.014102                 приобретение автомобиля  \n",
       "2   145885.952297                           покупка жилья  \n",
       "3   267628.550329              дополнительное образование  \n",
       "4   158616.077870                         сыграть свадьбу  \n",
       "5   255763.565419                           покупка жилья  \n",
       "6   240525.971920                       операции с жильем  \n",
       "7   135823.934197                             образование  \n",
       "8    95856.832424                   на проведение свадьбы  \n",
       "9   144425.938277                 покупка жилья для семьи  \n",
       "10  113943.491460                    покупка недвижимости  \n",
       "11   77069.234271       покупка коммерческой недвижимости  \n",
       "12            NaN                         сыграть свадьбу  \n",
       "13  130458.228857                 приобретение автомобиля  \n",
       "14  165127.911772              покупка жилой недвижимости  \n",
       "15  116820.904450  строительство собственной недвижимости  \n",
       "16  289202.704229                            недвижимость  \n",
       "17   90410.586745              строительство недвижимости  \n",
       "18   56823.777243      на покупку подержанного автомобиля  \n",
       "19  242831.107982            на покупку своего автомобиля  "
      ]
     },
     "execution_count": 2,
     "metadata": {},
     "output_type": "execute_result"
    }
   ],
   "source": [
    "data.head(20)"
   ]
  },
  {
   "cell_type": "markdown",
   "id": "b27b9d65",
   "metadata": {
    "deletable": false,
    "editable": false,
    "id": "1c12e233"
   },
   "source": [
    "**Задание 3. Выведите основную информацию о датафрейме с помощью метода `info()`.**"
   ]
  },
  {
   "cell_type": "code",
   "execution_count": 3,
   "id": "832e41fa",
   "metadata": {
    "deletable": false,
    "id": "2b757bca",
    "outputId": "15376089-8dad-46c9-b520-c05248d43158"
   },
   "outputs": [
    {
     "name": "stdout",
     "output_type": "stream",
     "text": [
      "<class 'pandas.core.frame.DataFrame'>\n",
      "RangeIndex: 21525 entries, 0 to 21524\n",
      "Data columns (total 12 columns):\n",
      " #   Column            Non-Null Count  Dtype  \n",
      "---  ------            --------------  -----  \n",
      " 0   children          21525 non-null  int64  \n",
      " 1   days_employed     19351 non-null  float64\n",
      " 2   dob_years         21525 non-null  int64  \n",
      " 3   education         21525 non-null  object \n",
      " 4   education_id      21525 non-null  int64  \n",
      " 5   family_status     21525 non-null  object \n",
      " 6   family_status_id  21525 non-null  int64  \n",
      " 7   gender            21525 non-null  object \n",
      " 8   income_type       21525 non-null  object \n",
      " 9   debt              21525 non-null  int64  \n",
      " 10  total_income      19351 non-null  float64\n",
      " 11  purpose           21525 non-null  object \n",
      "dtypes: float64(2), int64(5), object(5)\n",
      "memory usage: 2.0+ MB\n"
     ]
    }
   ],
   "source": [
    "data.info()"
   ]
  },
  {
   "cell_type": "markdown",
   "id": "00ab65f4",
   "metadata": {
    "deletable": false,
    "editable": false,
    "id": "333ec665"
   },
   "source": [
    "## Предобработка данных"
   ]
  },
  {
   "cell_type": "markdown",
   "id": "b13b5f0e",
   "metadata": {
    "deletable": false,
    "editable": false,
    "id": "02d92d53"
   },
   "source": [
    "### Удаление пропусков"
   ]
  },
  {
   "cell_type": "markdown",
   "id": "a60bdb29",
   "metadata": {
    "deletable": false,
    "editable": false,
    "id": "cd84967c"
   },
   "source": [
    "**Задание 4. Выведите количество пропущенных значений для каждого столбца. Используйте комбинацию двух методов.**"
   ]
  },
  {
   "cell_type": "code",
   "execution_count": 4,
   "id": "e0837f31",
   "metadata": {
    "deletable": false,
    "id": "7f9b2309",
    "outputId": "81f4d817-781c-465c-ed15-91ce4446810d"
   },
   "outputs": [
    {
     "data": {
      "text/plain": [
       "children               0\n",
       "days_employed       2174\n",
       "dob_years              0\n",
       "education              0\n",
       "education_id           0\n",
       "family_status          0\n",
       "family_status_id       0\n",
       "gender                 0\n",
       "income_type            0\n",
       "debt                   0\n",
       "total_income        2174\n",
       "purpose                0\n",
       "dtype: int64"
      ]
     },
     "execution_count": 4,
     "metadata": {},
     "output_type": "execute_result"
    }
   ],
   "source": [
    "data.isna().sum()"
   ]
  },
  {
   "cell_type": "markdown",
   "id": "7d60fe14",
   "metadata": {
    "deletable": false,
    "editable": false,
    "id": "db86e27b"
   },
   "source": [
    "**Задание 5. В двух столбцах есть пропущенные значения. Один из них — `days_employed`. Пропуски в этом столбце вы обработаете на следующем этапе. Другой столбец с пропущенными значениями — `total_income` — хранит данные о доходах. На сумму дохода сильнее всего влияет тип занятости, поэтому заполнить пропуски в этом столбце нужно медианным значением по каждому типу из столбца `income_type`. Например, у человека с типом занятости `сотрудник` пропуск в столбце `total_income` должен быть заполнен медианным доходом среди всех записей с тем же типом.**"
   ]
  },
  {
   "cell_type": "code",
   "execution_count": 3,
   "id": "555cdaff",
   "metadata": {
    "deletable": false,
    "id": "42006a93"
   },
   "outputs": [],
   "source": [
    "for t in data['income_type'].unique():\n",
    "    data.loc[(data['income_type'] == t) & (data['total_income'].isna()), 'total_income'] = \\\n",
    "    data.loc[(data['income_type'] == t), 'total_income'].median()"
   ]
  },
  {
   "cell_type": "markdown",
   "id": "acefdd24",
   "metadata": {
    "deletable": false,
    "editable": false,
    "id": "89da5ece"
   },
   "source": [
    "### Обработка аномальных значений"
   ]
  },
  {
   "cell_type": "markdown",
   "id": "25531743",
   "metadata": {
    "deletable": false,
    "editable": false,
    "id": "57964554"
   },
   "source": [
    "**Задание 6. В данных могут встречаться артефакты (аномалии) — значения, которые не отражают действительность и появились по какой-то ошибке. таким артефактом будет отрицательное количество дней трудового стажа в столбце `days_employed`. Для реальных данных это нормально. Обработайте значения в этом столбце: замените все отрицательные значения положительными с помощью метода `abs()`.**"
   ]
  },
  {
   "cell_type": "code",
   "execution_count": 6,
   "id": "770345f0",
   "metadata": {
    "deletable": false,
    "id": "f6f055bf"
   },
   "outputs": [],
   "source": [
    "data['days_employed'] = data['days_employed'].abs()"
   ]
  },
  {
   "cell_type": "markdown",
   "id": "ee3dfeac",
   "metadata": {
    "deletable": false,
    "editable": false,
    "id": "6107dd2f"
   },
   "source": [
    "**Задание 7. Для каждого типа занятости выведите медианное значение трудового стажа `days_employed` в днях.**"
   ]
  },
  {
   "cell_type": "code",
   "execution_count": 7,
   "id": "aaab53d3",
   "metadata": {
    "deletable": false,
    "id": "85a5faf6",
    "outputId": "801ef80e-522b-4668-f34e-565af7432bcf"
   },
   "outputs": [
    {
     "data": {
      "text/plain": [
       "income_type\n",
       "безработный        366413.652744\n",
       "в декрете            3296.759962\n",
       "госслужащий          2689.368353\n",
       "компаньон            1547.382223\n",
       "пенсионер          365213.306266\n",
       "предприниматель       520.848083\n",
       "сотрудник            1574.202821\n",
       "студент               578.751554\n",
       "Name: days_employed, dtype: float64"
      ]
     },
     "execution_count": 7,
     "metadata": {},
     "output_type": "execute_result"
    }
   ],
   "source": [
    "data.groupby('income_type')['days_employed'].agg('median')"
   ]
  },
  {
   "cell_type": "markdown",
   "id": "aa771095",
   "metadata": {
    "deletable": false,
    "editable": false,
    "id": "38d1a030"
   },
   "source": [
    "У двух типов (безработные и пенсионеры) получатся аномально большие значения. Исправить такие значения сложно, поэтому оставьте их как есть. Тем более этот столбец не понадобится вам для исследования."
   ]
  },
  {
   "cell_type": "markdown",
   "id": "ec9e9ee0",
   "metadata": {
    "deletable": false,
    "editable": false,
    "id": "d8a9f147"
   },
   "source": [
    "**Задание 8. Выведите перечень уникальных значений столбца `children`.**"
   ]
  },
  {
   "cell_type": "code",
   "execution_count": 8,
   "id": "0b19e4a1",
   "metadata": {
    "deletable": false,
    "id": "ef5056eb",
    "outputId": "6975b15c-7f95-4697-d16d-a0c79b657b03"
   },
   "outputs": [
    {
     "data": {
      "text/plain": [
       "array([ 1,  0,  3,  2, -1,  4, 20,  5])"
      ]
     },
     "execution_count": 8,
     "metadata": {},
     "output_type": "execute_result"
    }
   ],
   "source": [
    "data['children'].unique()"
   ]
  },
  {
   "cell_type": "markdown",
   "id": "58c345e1",
   "metadata": {
    "deletable": false,
    "editable": false,
    "id": "40b9ebf2"
   },
   "source": [
    "**Задание 9. В столбце `children` есть два аномальных значения. Удалите строки, в которых встречаются такие аномальные значения из датафрейма `data`.**"
   ]
  },
  {
   "cell_type": "code",
   "execution_count": 9,
   "id": "aa4e41e2",
   "metadata": {
    "deletable": false,
    "id": "3ff9801d"
   },
   "outputs": [],
   "source": [
    "data = data[(data['children'] != -1) & (data['children'] != 20)]"
   ]
  },
  {
   "cell_type": "markdown",
   "id": "12cf3bf2",
   "metadata": {
    "deletable": false,
    "editable": false,
    "id": "bbc4d0ce"
   },
   "source": [
    "**Задание 10. Ещё раз выведите перечень уникальных значений столбца `children`, чтобы убедиться, что артефакты удалены.**"
   ]
  },
  {
   "cell_type": "code",
   "execution_count": 10,
   "id": "16a8f67c",
   "metadata": {
    "deletable": false,
    "id": "ad4fa8b7",
    "outputId": "b2097101-d49d-44d9-901b-32a65c9463d1"
   },
   "outputs": [
    {
     "data": {
      "text/plain": [
       "array([1, 0, 3, 2, 4, 5])"
      ]
     },
     "execution_count": 10,
     "metadata": {},
     "output_type": "execute_result"
    }
   ],
   "source": [
    "data['children'].unique()"
   ]
  },
  {
   "cell_type": "markdown",
   "id": "8f13ce08",
   "metadata": {
    "deletable": false,
    "editable": false,
    "id": "75440b63"
   },
   "source": [
    "### Удаление пропусков (продолжение)"
   ]
  },
  {
   "cell_type": "markdown",
   "id": "aa3f897a",
   "metadata": {
    "deletable": false,
    "editable": false,
    "id": "f4ea573f"
   },
   "source": [
    "**Задание 11. Заполните пропуски в столбце `days_employed` медианными значениями по каждого типа занятости `income_type`.**"
   ]
  },
  {
   "cell_type": "code",
   "execution_count": 11,
   "id": "1dc1f5fc",
   "metadata": {
    "deletable": false,
    "id": "af6b1a7e"
   },
   "outputs": [],
   "source": [
    "for t in data['income_type'].unique():\n",
    "    data.loc[(data['income_type'] == t) & (data['days_employed'].isna()), 'days_employed'] = \\\n",
    "    data.loc[(data['income_type'] == t), 'days_employed'].median()"
   ]
  },
  {
   "cell_type": "markdown",
   "id": "0e93dd8e",
   "metadata": {
    "deletable": false,
    "editable": false,
    "id": "2753f40d"
   },
   "source": [
    "**Задание 12. Убедитесь, что все пропуски заполнены. Проверьте себя и ещё раз выведите количество пропущенных значений для каждого столбца с помощью двух методов.**"
   ]
  },
  {
   "cell_type": "code",
   "execution_count": 12,
   "id": "f4c2bdf7",
   "metadata": {
    "deletable": false,
    "id": "55f78bc2",
    "outputId": "8da1e4e1-358e-4e87-98c9-f261bce0a7b2"
   },
   "outputs": [
    {
     "data": {
      "text/plain": [
       "children            0\n",
       "days_employed       0\n",
       "dob_years           0\n",
       "education           0\n",
       "education_id        0\n",
       "family_status       0\n",
       "family_status_id    0\n",
       "gender              0\n",
       "income_type         0\n",
       "debt                0\n",
       "total_income        0\n",
       "purpose             0\n",
       "dtype: int64"
      ]
     },
     "execution_count": 12,
     "metadata": {},
     "output_type": "execute_result"
    }
   ],
   "source": [
    "data.isna().sum()"
   ]
  },
  {
   "cell_type": "markdown",
   "id": "44b76050",
   "metadata": {
    "deletable": false,
    "editable": false,
    "id": "ddc81e43"
   },
   "source": [
    "### Изменение типов данных"
   ]
  },
  {
   "cell_type": "markdown",
   "id": "ad1c319e",
   "metadata": {
    "deletable": false,
    "editable": false,
    "id": "42d19d24"
   },
   "source": [
    "**Задание 13. Замените вещественный тип данных в столбце `total_income` на целочисленный с помощью метода `astype()`.**"
   ]
  },
  {
   "cell_type": "code",
   "execution_count": 13,
   "id": "16761c38",
   "metadata": {
    "deletable": false,
    "id": "920b65ad"
   },
   "outputs": [],
   "source": [
    "data['total_income'] = data['total_income'].astype(int)"
   ]
  },
  {
   "cell_type": "markdown",
   "id": "ef325dc4",
   "metadata": {
    "deletable": false,
    "editable": false,
    "id": "80c420ba"
   },
   "source": [
    "### Обработка дубликатов"
   ]
  },
  {
   "cell_type": "markdown",
   "id": "abb98cf7",
   "metadata": {
    "deletable": false,
    "editable": false
   },
   "source": [
    "**Задание 14. Обработайте неявные дубликаты в столбце `education`. В этом столбце есть одни и те же значения, но записанные по-разному: с использованием заглавных и строчных букв. Приведите их к нижнему регистру. Проверьте остальные столбцы.**"
   ]
  },
  {
   "cell_type": "code",
   "execution_count": 14,
   "id": "96d9f6b7",
   "metadata": {
    "deletable": false
   },
   "outputs": [],
   "source": [
    "data['education'] = data['education'].str.lower()"
   ]
  },
  {
   "cell_type": "markdown",
   "id": "c2bc95f1",
   "metadata": {
    "deletable": false,
    "editable": false,
    "id": "dc587695"
   },
   "source": [
    "**Задание 15. Выведите на экран количество строк-дубликатов в данных. Если такие строки присутствуют, удалите их.**"
   ]
  },
  {
   "cell_type": "code",
   "execution_count": 15,
   "id": "f25d63aa",
   "metadata": {
    "deletable": false,
    "id": "3ee445e4",
    "outputId": "9684deba-1934-42d1-99e1-cda61740f822"
   },
   "outputs": [
    {
     "data": {
      "text/plain": [
       "71"
      ]
     },
     "execution_count": 15,
     "metadata": {},
     "output_type": "execute_result"
    }
   ],
   "source": [
    "data.duplicated().sum()"
   ]
  },
  {
   "cell_type": "code",
   "execution_count": 16,
   "id": "121ddbff",
   "metadata": {
    "deletable": false,
    "id": "8575fe05"
   },
   "outputs": [],
   "source": [
    "data = data.drop_duplicates()"
   ]
  },
  {
   "cell_type": "markdown",
   "id": "9267f5f3",
   "metadata": {
    "deletable": false,
    "editable": false,
    "id": "9904cf55"
   },
   "source": [
    "### Категоризация данных"
   ]
  },
  {
   "cell_type": "markdown",
   "id": "c7870d6c",
   "metadata": {
    "deletable": false,
    "editable": false,
    "id": "72fcc8a2"
   },
   "source": [
    "**Задание 16. На основании диапазонов, указанных ниже, создайте в датафрейме `data` столбец `total_income_category` с категориями:**\n",
    "\n",
    "- 0–30000 — `'E'`;\n",
    "- 30001–50000 — `'D'`;\n",
    "- 50001–200000 — `'C'`;\n",
    "- 200001–1000000 — `'B'`;\n",
    "- 1000001 и выше — `'A'`.\n",
    "\n",
    "\n",
    "**Например, кредитополучателю с доходом 25000 нужно назначить категорию `'E'`, а клиенту, получающему 235000, — `'B'`. Используйте собственную функцию с именем `categorize_income()` и метод `apply()`.**"
   ]
  },
  {
   "cell_type": "code",
   "execution_count": 17,
   "id": "5c55d3df",
   "metadata": {
    "deletable": false,
    "id": "e1771346"
   },
   "outputs": [],
   "source": [
    "def categorize_income(income):\n",
    "    try:\n",
    "        if 0 <= income <= 30000:\n",
    "            return 'E'\n",
    "        elif 30001 <= income <= 50000:\n",
    "            return 'D'\n",
    "        elif 50001 <= income <= 200000:\n",
    "            return 'C'\n",
    "        elif 200001 <= income <= 1000000:\n",
    "            return 'B'\n",
    "        elif income >= 1000001:\n",
    "            return 'A'\n",
    "    except:\n",
    "        pass"
   ]
  },
  {
   "cell_type": "code",
   "execution_count": 18,
   "id": "0e23ae7a",
   "metadata": {
    "deletable": false,
    "id": "d5f3586d"
   },
   "outputs": [],
   "source": [
    "data['total_income_category'] = data['total_income'].apply(categorize_income)"
   ]
  },
  {
   "cell_type": "markdown",
   "id": "0bc15dfa",
   "metadata": {
    "deletable": false,
    "editable": false,
    "id": "dde49b5c"
   },
   "source": [
    "**Задание 17. Выведите на экран перечень уникальных целей взятия кредита из столбца `purpose`.**"
   ]
  },
  {
   "cell_type": "code",
   "execution_count": 19,
   "id": "40390578",
   "metadata": {
    "deletable": false,
    "id": "f67ce9b3",
    "outputId": "673c12d9-7d7e-4ae0-9812-c622c89dd244"
   },
   "outputs": [
    {
     "data": {
      "text/plain": [
       "array(['покупка жилья', 'приобретение автомобиля',\n",
       "       'дополнительное образование', 'сыграть свадьбу',\n",
       "       'операции с жильем', 'образование', 'на проведение свадьбы',\n",
       "       'покупка жилья для семьи', 'покупка недвижимости',\n",
       "       'покупка коммерческой недвижимости', 'покупка жилой недвижимости',\n",
       "       'строительство собственной недвижимости', 'недвижимость',\n",
       "       'строительство недвижимости', 'на покупку подержанного автомобиля',\n",
       "       'на покупку своего автомобиля',\n",
       "       'операции с коммерческой недвижимостью',\n",
       "       'строительство жилой недвижимости', 'жилье',\n",
       "       'операции со своей недвижимостью', 'автомобили',\n",
       "       'заняться образованием', 'сделка с подержанным автомобилем',\n",
       "       'получение образования', 'автомобиль', 'свадьба',\n",
       "       'получение дополнительного образования', 'покупка своего жилья',\n",
       "       'операции с недвижимостью', 'получение высшего образования',\n",
       "       'свой автомобиль', 'сделка с автомобилем',\n",
       "       'профильное образование', 'высшее образование',\n",
       "       'покупка жилья для сдачи', 'на покупку автомобиля', 'ремонт жилью',\n",
       "       'заняться высшим образованием'], dtype=object)"
      ]
     },
     "execution_count": 19,
     "metadata": {},
     "output_type": "execute_result"
    }
   ],
   "source": [
    "data['purpose'].unique()"
   ]
  },
  {
   "cell_type": "markdown",
   "id": "208d954b",
   "metadata": {
    "deletable": false,
    "editable": false,
    "id": "85d0aef0"
   },
   "source": [
    "**Задание 18. Создайте функцию, которая на основании данных из столбца `purpose` сформирует новый столбец `purpose_category`, в который войдут следующие категории:**\n",
    "\n",
    "- `'операции с автомобилем'`,\n",
    "- `'операции с недвижимостью'`,\n",
    "- `'проведение свадьбы'`,\n",
    "- `'получение образования'`.\n",
    "\n",
    "**Например, если в столбце `purpose` находится подстрока `'на покупку автомобиля'`, то в столбце `purpose_category` должна появиться строка `'операции с автомобилем'`.**\n",
    "\n",
    "**Используйте собственную функцию с именем `categorize_purpose()` и метод `apply()`. Изучите данные в столбце `purpose` и определите, какие подстроки помогут вам правильно определить категорию.**"
   ]
  },
  {
   "cell_type": "code",
   "execution_count": 20,
   "id": "8c40dff6",
   "metadata": {
    "deletable": false,
    "id": "e149fab4"
   },
   "outputs": [],
   "source": [
    "def categorize_purpose(row):\n",
    "    try:\n",
    "        if 'автом' in row:\n",
    "            return 'операции с автомобилем'\n",
    "        elif 'жил' in row or 'недвиж' in row:\n",
    "            return 'операции с недвижимостью'\n",
    "        elif 'свад' in row:\n",
    "            return 'проведение свадьбы'\n",
    "        elif 'образов' in row:\n",
    "            return 'получение образования'\n",
    "    except:\n",
    "        return 'нет категории'"
   ]
  },
  {
   "cell_type": "code",
   "execution_count": 21,
   "id": "e52de971",
   "metadata": {
    "deletable": false,
    "id": "bf36e69b"
   },
   "outputs": [],
   "source": [
    "data['purpose_category'] = data['purpose'].apply(categorize_purpose)"
   ]
  },
  {
   "cell_type": "markdown",
   "id": "dcad989d",
   "metadata": {
    "deletable": false,
    "editable": false,
    "id": "09b242bf"
   },
   "source": [
    "### Шаг 3. Исследуйте данные и ответьте на вопросы"
   ]
  },
  {
   "cell_type": "markdown",
   "id": "d9982efc",
   "metadata": {
    "deletable": false,
    "editable": false,
    "id": "c5d66278"
   },
   "source": [
    "#### 3.1 Есть ли зависимость между количеством детей и возвратом кредита в срок?"
   ]
  },
  {
   "cell_type": "markdown",
   "id": "f3a1163d",
   "metadata": {},
   "source": [
    "Перед ответом на вопросы создадим функцию, строящую сводную таблицу на основани заданного фрейма данных и столбцов для группировки."
   ]
  },
  {
   "cell_type": "code",
   "execution_count": 22,
   "id": "d7dce46f",
   "metadata": {},
   "outputs": [],
   "source": [
    "#Функция для построения сводной таблицы\n",
    "#Функция будет принимать два аргумента\n",
    "    #1. data - набор данных\n",
    "    #2. col - список столбцов по которым будет производится группировка\n",
    "#Значением везде будет выступать столбец \"debt\"\n",
    "#Функции аггрегирования: \"sum\" и \"count\"\n",
    "#Дополнительно рассчитаем долю должников в столбце \"percentage\"\n",
    "\n",
    "def create_pivot_table(data, col):\n",
    "    data_pivot = data.pivot_table(index=col, values=['debt'], aggfunc=['sum', 'count'])\n",
    "    data_pivot['percentage'] = (100 * data_pivot['sum'] / data_pivot['count'])\n",
    "    return data_pivot"
   ]
  },
  {
   "cell_type": "markdown",
   "id": "d1c8fb64",
   "metadata": {},
   "source": [
    "Для ответа на первый вопрос сгруппируем данные по количеству детей. Для этого применим нашу функцию `create_pivot_table()`"
   ]
  },
  {
   "cell_type": "code",
   "execution_count": 23,
   "id": "364b4dfd",
   "metadata": {
    "deletable": false,
    "id": "2cacfc4a"
   },
   "outputs": [
    {
     "data": {
      "text/html": [
       "<div>\n",
       "<style scoped>\n",
       "    .dataframe tbody tr th:only-of-type {\n",
       "        vertical-align: middle;\n",
       "    }\n",
       "\n",
       "    .dataframe tbody tr th {\n",
       "        vertical-align: top;\n",
       "    }\n",
       "\n",
       "    .dataframe thead tr th {\n",
       "        text-align: left;\n",
       "    }\n",
       "\n",
       "    .dataframe thead tr:last-of-type th {\n",
       "        text-align: right;\n",
       "    }\n",
       "</style>\n",
       "<table border=\"1\" class=\"dataframe\">\n",
       "  <thead>\n",
       "    <tr>\n",
       "      <th></th>\n",
       "      <th>sum</th>\n",
       "      <th>count</th>\n",
       "      <th>percentage</th>\n",
       "    </tr>\n",
       "    <tr>\n",
       "      <th></th>\n",
       "      <th>debt</th>\n",
       "      <th>debt</th>\n",
       "      <th></th>\n",
       "    </tr>\n",
       "    <tr>\n",
       "      <th>children</th>\n",
       "      <th></th>\n",
       "      <th></th>\n",
       "      <th></th>\n",
       "    </tr>\n",
       "  </thead>\n",
       "  <tbody>\n",
       "    <tr>\n",
       "      <th>0</th>\n",
       "      <td>1063</td>\n",
       "      <td>14091</td>\n",
       "      <td>7.543822</td>\n",
       "    </tr>\n",
       "    <tr>\n",
       "      <th>1</th>\n",
       "      <td>444</td>\n",
       "      <td>4808</td>\n",
       "      <td>9.234609</td>\n",
       "    </tr>\n",
       "    <tr>\n",
       "      <th>2</th>\n",
       "      <td>194</td>\n",
       "      <td>2052</td>\n",
       "      <td>9.454191</td>\n",
       "    </tr>\n",
       "    <tr>\n",
       "      <th>3</th>\n",
       "      <td>27</td>\n",
       "      <td>330</td>\n",
       "      <td>8.181818</td>\n",
       "    </tr>\n",
       "    <tr>\n",
       "      <th>4</th>\n",
       "      <td>4</td>\n",
       "      <td>41</td>\n",
       "      <td>9.756098</td>\n",
       "    </tr>\n",
       "    <tr>\n",
       "      <th>5</th>\n",
       "      <td>0</td>\n",
       "      <td>9</td>\n",
       "      <td>0.000000</td>\n",
       "    </tr>\n",
       "  </tbody>\n",
       "</table>\n",
       "</div>"
      ],
      "text/plain": [
       "           sum  count percentage\n",
       "          debt   debt           \n",
       "children                        \n",
       "0         1063  14091   7.543822\n",
       "1          444   4808   9.234609\n",
       "2          194   2052   9.454191\n",
       "3           27    330   8.181818\n",
       "4            4     41   9.756098\n",
       "5            0      9   0.000000"
      ]
     },
     "execution_count": 23,
     "metadata": {},
     "output_type": "execute_result"
    }
   ],
   "source": [
    "#Сводная таблица по количеству детей\n",
    "create_pivot_table(data, ['children'])"
   ]
  },
  {
   "cell_type": "markdown",
   "id": "b961a7ad",
   "metadata": {},
   "source": [
    "Как мы можем увидеть, клиенты с 5-ю детьми вообще не имеют просрочек. Не считая это, наименьшая доля у группы без детей (7,54). Наибольшая доля у группы с 4-мя детьми (9.75). \n",
    "Группа \"5\" сильно выделяется от остальных строк, возможно из-за малого количества человек в выборке. Также тенденцию нарушает группа \"3\".\n",
    "\n",
    "В целом мы можем увидеть, что наличие детей увеличивает риск иметь просрочку. Но однозначно сказать что, с увеличением количества детей, количество просрочек увеличивается - нельзя.\n",
    "\n",
    "\n",
    "Попробуем разбить данные по трем категориям:\n",
    "\n",
    "- Нет детей\n",
    "- 1 ребенок\n",
    "- Много детей"
   ]
  },
  {
   "cell_type": "code",
   "execution_count": 24,
   "id": "3eda59d0",
   "metadata": {},
   "outputs": [
    {
     "data": {
      "text/html": [
       "<div>\n",
       "<style scoped>\n",
       "    .dataframe tbody tr th:only-of-type {\n",
       "        vertical-align: middle;\n",
       "    }\n",
       "\n",
       "    .dataframe tbody tr th {\n",
       "        vertical-align: top;\n",
       "    }\n",
       "\n",
       "    .dataframe thead th {\n",
       "        text-align: right;\n",
       "    }\n",
       "</style>\n",
       "<table border=\"1\" class=\"dataframe\">\n",
       "  <thead>\n",
       "    <tr style=\"text-align: right;\">\n",
       "      <th></th>\n",
       "      <th>children</th>\n",
       "      <th>days_employed</th>\n",
       "      <th>dob_years</th>\n",
       "      <th>education</th>\n",
       "      <th>education_id</th>\n",
       "      <th>family_status</th>\n",
       "      <th>family_status_id</th>\n",
       "      <th>gender</th>\n",
       "      <th>income_type</th>\n",
       "      <th>debt</th>\n",
       "      <th>total_income</th>\n",
       "      <th>purpose</th>\n",
       "      <th>total_income_category</th>\n",
       "      <th>purpose_category</th>\n",
       "      <th>group_children</th>\n",
       "    </tr>\n",
       "  </thead>\n",
       "  <tbody>\n",
       "    <tr>\n",
       "      <th>0</th>\n",
       "      <td>1</td>\n",
       "      <td>8437.673028</td>\n",
       "      <td>42</td>\n",
       "      <td>высшее</td>\n",
       "      <td>0</td>\n",
       "      <td>женат / замужем</td>\n",
       "      <td>0</td>\n",
       "      <td>F</td>\n",
       "      <td>сотрудник</td>\n",
       "      <td>0</td>\n",
       "      <td>253875</td>\n",
       "      <td>покупка жилья</td>\n",
       "      <td>B</td>\n",
       "      <td>операции с недвижимостью</td>\n",
       "      <td>1 ребенок</td>\n",
       "    </tr>\n",
       "    <tr>\n",
       "      <th>1</th>\n",
       "      <td>1</td>\n",
       "      <td>4024.803754</td>\n",
       "      <td>36</td>\n",
       "      <td>среднее</td>\n",
       "      <td>1</td>\n",
       "      <td>женат / замужем</td>\n",
       "      <td>0</td>\n",
       "      <td>F</td>\n",
       "      <td>сотрудник</td>\n",
       "      <td>0</td>\n",
       "      <td>112080</td>\n",
       "      <td>приобретение автомобиля</td>\n",
       "      <td>C</td>\n",
       "      <td>операции с автомобилем</td>\n",
       "      <td>1 ребенок</td>\n",
       "    </tr>\n",
       "    <tr>\n",
       "      <th>2</th>\n",
       "      <td>0</td>\n",
       "      <td>5623.422610</td>\n",
       "      <td>33</td>\n",
       "      <td>среднее</td>\n",
       "      <td>1</td>\n",
       "      <td>женат / замужем</td>\n",
       "      <td>0</td>\n",
       "      <td>M</td>\n",
       "      <td>сотрудник</td>\n",
       "      <td>0</td>\n",
       "      <td>145885</td>\n",
       "      <td>покупка жилья</td>\n",
       "      <td>C</td>\n",
       "      <td>операции с недвижимостью</td>\n",
       "      <td>Нет детей</td>\n",
       "    </tr>\n",
       "    <tr>\n",
       "      <th>3</th>\n",
       "      <td>3</td>\n",
       "      <td>4124.747207</td>\n",
       "      <td>32</td>\n",
       "      <td>среднее</td>\n",
       "      <td>1</td>\n",
       "      <td>женат / замужем</td>\n",
       "      <td>0</td>\n",
       "      <td>M</td>\n",
       "      <td>сотрудник</td>\n",
       "      <td>0</td>\n",
       "      <td>267628</td>\n",
       "      <td>дополнительное образование</td>\n",
       "      <td>B</td>\n",
       "      <td>получение образования</td>\n",
       "      <td>Много детей</td>\n",
       "    </tr>\n",
       "    <tr>\n",
       "      <th>4</th>\n",
       "      <td>0</td>\n",
       "      <td>340266.072047</td>\n",
       "      <td>53</td>\n",
       "      <td>среднее</td>\n",
       "      <td>1</td>\n",
       "      <td>гражданский брак</td>\n",
       "      <td>1</td>\n",
       "      <td>F</td>\n",
       "      <td>пенсионер</td>\n",
       "      <td>0</td>\n",
       "      <td>158616</td>\n",
       "      <td>сыграть свадьбу</td>\n",
       "      <td>C</td>\n",
       "      <td>проведение свадьбы</td>\n",
       "      <td>Нет детей</td>\n",
       "    </tr>\n",
       "  </tbody>\n",
       "</table>\n",
       "</div>"
      ],
      "text/plain": [
       "   children  days_employed  dob_years education  education_id  \\\n",
       "0         1    8437.673028         42    высшее             0   \n",
       "1         1    4024.803754         36   среднее             1   \n",
       "2         0    5623.422610         33   среднее             1   \n",
       "3         3    4124.747207         32   среднее             1   \n",
       "4         0  340266.072047         53   среднее             1   \n",
       "\n",
       "      family_status  family_status_id gender income_type  debt  total_income  \\\n",
       "0   женат / замужем                 0      F   сотрудник     0        253875   \n",
       "1   женат / замужем                 0      F   сотрудник     0        112080   \n",
       "2   женат / замужем                 0      M   сотрудник     0        145885   \n",
       "3   женат / замужем                 0      M   сотрудник     0        267628   \n",
       "4  гражданский брак                 1      F   пенсионер     0        158616   \n",
       "\n",
       "                      purpose total_income_category          purpose_category  \\\n",
       "0               покупка жилья                     B  операции с недвижимостью   \n",
       "1     приобретение автомобиля                     C    операции с автомобилем   \n",
       "2               покупка жилья                     C  операции с недвижимостью   \n",
       "3  дополнительное образование                     B     получение образования   \n",
       "4             сыграть свадьбу                     C        проведение свадьбы   \n",
       "\n",
       "  group_children  \n",
       "0      1 ребенок  \n",
       "1      1 ребенок  \n",
       "2      Нет детей  \n",
       "3    Много детей  \n",
       "4      Нет детей  "
      ]
     },
     "execution_count": 24,
     "metadata": {},
     "output_type": "execute_result"
    }
   ],
   "source": [
    "#Напишем функцию для разбивки и применим в таблице\n",
    "def categorized_children(col):\n",
    "    if col == 0:\n",
    "        return 'Нет детей'\n",
    "    if col == 1:\n",
    "        return \"1 ребенок\"\n",
    "    return \"Много детей\"\n",
    "data['group_children'] = data['children'].apply(categorized_children)\n",
    "data.head()"
   ]
  },
  {
   "cell_type": "code",
   "execution_count": 25,
   "id": "073ccc9f",
   "metadata": {},
   "outputs": [
    {
     "data": {
      "text/html": [
       "<div>\n",
       "<style scoped>\n",
       "    .dataframe tbody tr th:only-of-type {\n",
       "        vertical-align: middle;\n",
       "    }\n",
       "\n",
       "    .dataframe tbody tr th {\n",
       "        vertical-align: top;\n",
       "    }\n",
       "\n",
       "    .dataframe thead tr th {\n",
       "        text-align: left;\n",
       "    }\n",
       "\n",
       "    .dataframe thead tr:last-of-type th {\n",
       "        text-align: right;\n",
       "    }\n",
       "</style>\n",
       "<table border=\"1\" class=\"dataframe\">\n",
       "  <thead>\n",
       "    <tr>\n",
       "      <th></th>\n",
       "      <th>sum</th>\n",
       "      <th>count</th>\n",
       "      <th>percentage</th>\n",
       "    </tr>\n",
       "    <tr>\n",
       "      <th></th>\n",
       "      <th>debt</th>\n",
       "      <th>debt</th>\n",
       "      <th></th>\n",
       "    </tr>\n",
       "    <tr>\n",
       "      <th>group_children</th>\n",
       "      <th></th>\n",
       "      <th></th>\n",
       "      <th></th>\n",
       "    </tr>\n",
       "  </thead>\n",
       "  <tbody>\n",
       "    <tr>\n",
       "      <th>Нет детей</th>\n",
       "      <td>1063</td>\n",
       "      <td>14091</td>\n",
       "      <td>7.543822</td>\n",
       "    </tr>\n",
       "    <tr>\n",
       "      <th>1 ребенок</th>\n",
       "      <td>444</td>\n",
       "      <td>4808</td>\n",
       "      <td>9.234609</td>\n",
       "    </tr>\n",
       "    <tr>\n",
       "      <th>Много детей</th>\n",
       "      <td>225</td>\n",
       "      <td>2432</td>\n",
       "      <td>9.251645</td>\n",
       "    </tr>\n",
       "  </tbody>\n",
       "</table>\n",
       "</div>"
      ],
      "text/plain": [
       "                 sum  count percentage\n",
       "                debt   debt           \n",
       "group_children                        \n",
       "Нет детей       1063  14091   7.543822\n",
       "1 ребенок        444   4808   9.234609\n",
       "Много детей      225   2432   9.251645"
      ]
     },
     "execution_count": 25,
     "metadata": {},
     "output_type": "execute_result"
    }
   ],
   "source": [
    "#Сводная таблица по созданным категориям\n",
    "create_pivot_table(data, ['group_children']).sort_values('percentage')"
   ]
  },
  {
   "cell_type": "markdown",
   "id": "521a3adb",
   "metadata": {
    "deletable": false,
    "id": "3a6b99ec"
   },
   "source": [
    "**Вывод:**\n",
    "\n",
    "\n",
    "Несмотря на то, что разница долей между группами \"1 ребенок\" и \"Много детей\" есть, она очень мала. Из-за клиентов, которые имеют 3 и 5 детей.\n",
    "Таким образом зависимость между наличием детей и количеством клиентов с просрочками есть.\n",
    "А ответ на главный вопрос про наличие зависимости между количеством детей и количеством клиентов с просрочками - нет.\n",
    "\n",
    "\n",
    "Это может говорить, что наличие уже одного ребенка может повлиять на распределение семейного бюджета и неспособность погасить платеж в срок."
   ]
  },
  {
   "cell_type": "markdown",
   "id": "4a3a2978",
   "metadata": {
    "deletable": false,
    "editable": false,
    "id": "97be82ca"
   },
   "source": [
    "#### 3.2 Есть ли зависимость между семейным положением и возвратом кредита в срок?"
   ]
  },
  {
   "cell_type": "markdown",
   "id": "f0a24aeb",
   "metadata": {},
   "source": [
    "Аналогично предыдущей гипотезе - сгруппируем наши данные. Только в этот раз по семейному положению."
   ]
  },
  {
   "cell_type": "code",
   "execution_count": 26,
   "id": "92c2560f",
   "metadata": {
    "deletable": false,
    "id": "dc3f7ee8"
   },
   "outputs": [
    {
     "data": {
      "text/html": [
       "<div>\n",
       "<style scoped>\n",
       "    .dataframe tbody tr th:only-of-type {\n",
       "        vertical-align: middle;\n",
       "    }\n",
       "\n",
       "    .dataframe tbody tr th {\n",
       "        vertical-align: top;\n",
       "    }\n",
       "\n",
       "    .dataframe thead tr th {\n",
       "        text-align: left;\n",
       "    }\n",
       "\n",
       "    .dataframe thead tr:last-of-type th {\n",
       "        text-align: right;\n",
       "    }\n",
       "</style>\n",
       "<table border=\"1\" class=\"dataframe\">\n",
       "  <thead>\n",
       "    <tr>\n",
       "      <th></th>\n",
       "      <th>sum</th>\n",
       "      <th>count</th>\n",
       "      <th>percentage</th>\n",
       "    </tr>\n",
       "    <tr>\n",
       "      <th></th>\n",
       "      <th>debt</th>\n",
       "      <th>debt</th>\n",
       "      <th></th>\n",
       "    </tr>\n",
       "    <tr>\n",
       "      <th>family_status</th>\n",
       "      <th></th>\n",
       "      <th></th>\n",
       "      <th></th>\n",
       "    </tr>\n",
       "  </thead>\n",
       "  <tbody>\n",
       "    <tr>\n",
       "      <th>вдовец / вдова</th>\n",
       "      <td>63</td>\n",
       "      <td>951</td>\n",
       "      <td>6.624606</td>\n",
       "    </tr>\n",
       "    <tr>\n",
       "      <th>в разводе</th>\n",
       "      <td>84</td>\n",
       "      <td>1189</td>\n",
       "      <td>7.064760</td>\n",
       "    </tr>\n",
       "    <tr>\n",
       "      <th>женат / замужем</th>\n",
       "      <td>927</td>\n",
       "      <td>12261</td>\n",
       "      <td>7.560558</td>\n",
       "    </tr>\n",
       "    <tr>\n",
       "      <th>гражданский брак</th>\n",
       "      <td>385</td>\n",
       "      <td>4134</td>\n",
       "      <td>9.313014</td>\n",
       "    </tr>\n",
       "    <tr>\n",
       "      <th>Не женат / не замужем</th>\n",
       "      <td>273</td>\n",
       "      <td>2796</td>\n",
       "      <td>9.763948</td>\n",
       "    </tr>\n",
       "  </tbody>\n",
       "</table>\n",
       "</div>"
      ],
      "text/plain": [
       "                       sum  count percentage\n",
       "                      debt   debt           \n",
       "family_status                               \n",
       "вдовец / вдова          63    951   6.624606\n",
       "в разводе               84   1189   7.064760\n",
       "женат / замужем        927  12261   7.560558\n",
       "гражданский брак       385   4134   9.313014\n",
       "Не женат / не замужем  273   2796   9.763948"
      ]
     },
     "execution_count": 26,
     "metadata": {},
     "output_type": "execute_result"
    }
   ],
   "source": [
    "#Сводная таблица по семейному положению\n",
    "create_pivot_table(data, ['family_status']).sort_values('percentage')"
   ]
  },
  {
   "cell_type": "markdown",
   "id": "edb52fcd",
   "metadata": {
    "deletable": false,
    "id": "1cef7837"
   },
   "source": [
    "**Вывод:** \n",
    "\n",
    "Мы видим, что те кто состояли в браке имеют наименьшую долю просрочек. Дальше идут те кто состоят в серьезных отношениях (официально зарегистрированных или нет). И наконец наибольшую долю просрочек имеют те, кто не состоит в \"серьезных\" отношениях.\n",
    "\n",
    "Это может говорить о том, что наличие имеющихся или закончившихся зарегистрированных браков положительно влияет на финансовую грамотность людей и на распределение своего бюджета. Возможно это связано с созданием \"семейного бюджета\", и им приходится считаться с партнером. Свободные же люди менее серьезно относятся к своевременному возврату заемных средств, вероятно ввиду большей свободы по распоряжению своими средствами и у них нет дополнительной мотивации гасить платежи день в день.\n",
    "\n",
    "**Таким образом, зависимость между семейным положением и возвратом кредита в срок - есть.**"
   ]
  },
  {
   "cell_type": "markdown",
   "id": "adf1ec54",
   "metadata": {
    "deletable": false,
    "editable": false,
    "id": "1e8b2fca"
   },
   "source": [
    "#### 3.3 Есть ли зависимость между уровнем дохода и возвратом кредита в срок?"
   ]
  },
  {
   "cell_type": "markdown",
   "id": "0174d8b2",
   "metadata": {
    "deletable": false,
    "id": "cd7e3720"
   },
   "source": [
    "Напомним что мы разбили доходы клиентов по категориям:\n",
    "\n",
    "- 0–30000 — `'E'`;\n",
    "- 30001–50000 — `'D'`;\n",
    "- 50001–200000 — `'C'`;\n",
    "- 200001–1000000 — `'B'`;\n",
    "- 1000001 и выше — `'A'`.\n",
    "\n",
    "Сгуппируем данные по этим категориям."
   ]
  },
  {
   "cell_type": "code",
   "execution_count": 27,
   "id": "281a3b64",
   "metadata": {},
   "outputs": [
    {
     "data": {
      "text/html": [
       "<div>\n",
       "<style scoped>\n",
       "    .dataframe tbody tr th:only-of-type {\n",
       "        vertical-align: middle;\n",
       "    }\n",
       "\n",
       "    .dataframe tbody tr th {\n",
       "        vertical-align: top;\n",
       "    }\n",
       "\n",
       "    .dataframe thead tr th {\n",
       "        text-align: left;\n",
       "    }\n",
       "\n",
       "    .dataframe thead tr:last-of-type th {\n",
       "        text-align: right;\n",
       "    }\n",
       "</style>\n",
       "<table border=\"1\" class=\"dataframe\">\n",
       "  <thead>\n",
       "    <tr>\n",
       "      <th></th>\n",
       "      <th>sum</th>\n",
       "      <th>count</th>\n",
       "      <th>percentage</th>\n",
       "    </tr>\n",
       "    <tr>\n",
       "      <th></th>\n",
       "      <th>debt</th>\n",
       "      <th>debt</th>\n",
       "      <th></th>\n",
       "    </tr>\n",
       "    <tr>\n",
       "      <th>total_income_category</th>\n",
       "      <th></th>\n",
       "      <th></th>\n",
       "      <th></th>\n",
       "    </tr>\n",
       "  </thead>\n",
       "  <tbody>\n",
       "    <tr>\n",
       "      <th>D</th>\n",
       "      <td>21</td>\n",
       "      <td>349</td>\n",
       "      <td>6.017192</td>\n",
       "    </tr>\n",
       "    <tr>\n",
       "      <th>B</th>\n",
       "      <td>354</td>\n",
       "      <td>5014</td>\n",
       "      <td>7.060231</td>\n",
       "    </tr>\n",
       "    <tr>\n",
       "      <th>A</th>\n",
       "      <td>2</td>\n",
       "      <td>25</td>\n",
       "      <td>8.000000</td>\n",
       "    </tr>\n",
       "    <tr>\n",
       "      <th>C</th>\n",
       "      <td>1353</td>\n",
       "      <td>15921</td>\n",
       "      <td>8.498210</td>\n",
       "    </tr>\n",
       "    <tr>\n",
       "      <th>E</th>\n",
       "      <td>2</td>\n",
       "      <td>22</td>\n",
       "      <td>9.090909</td>\n",
       "    </tr>\n",
       "  </tbody>\n",
       "</table>\n",
       "</div>"
      ],
      "text/plain": [
       "                        sum  count percentage\n",
       "                       debt   debt           \n",
       "total_income_category                        \n",
       "D                        21    349   6.017192\n",
       "B                       354   5014   7.060231\n",
       "A                         2     25   8.000000\n",
       "C                      1353  15921   8.498210\n",
       "E                         2     22   9.090909"
      ]
     },
     "execution_count": 27,
     "metadata": {},
     "output_type": "execute_result"
    }
   ],
   "source": [
    "#Группировка по уровню дохода\n",
    "create_pivot_table(data, ['total_income_category']).sort_values('percentage')"
   ]
  },
  {
   "cell_type": "markdown",
   "id": "829f6ad4",
   "metadata": {
    "deletable": false,
    "id": "e8593def"
   },
   "source": [
    "**Вывод:** \n",
    "\n",
    "Результаты очень неоднозначны. Группы \"D\", \"A\", \"E\" слишком малы относительно других, чтобы по ним можно было сделать выводы.\n",
    "Это можно можно объяснить тем, что представители групп \"A\" и \"E\" не склонны оформлять заявки на кредит.\n",
    "- Группа \"E\" имеет слишком маленький доход для обеспечения кредита\n",
    "- Группа \"A\" имеет слишком большой доход, и им нет необходимости брать кредит\n",
    "\n",
    "Группу \"D\" мы можем отнести к среднему классу в регионах, и такие люди склонны брать кредиты (что мы можем увидеть в смежной группе \"C\", которую можно отнести к среднему классу в крупных городах). Недостаток данных в этой группе может быть вызван тем, что набор данных состоит из клиентов проживающих и работающих в крупных городах.\n",
    "\n",
    "Рассмотрим осташиеся категории \"B\" и \"C\".\n",
    "\n",
    "Группа \"B\" также малочисленна относительно группы \"C\", но не критично как остальные. Представители этой группы в меньшей степени подвержены просрочкам, что можно объяснить достаточно высоким доходом.\n",
    "\n",
    "Группа \"C\", как мы уже предположили, состоит из представителей среднего класса в крупных городах, и как мы можеи увидеть люди с этой категорией дохода являются менее надежными заемщиками.\n",
    "\n",
    "**Прямой зависимости между уровнем дохода и возвратом кредита в срок - есть (чем больше доход, тем надежнее заемщик)**\n",
    "\n",
    "**Вывод сделан с учетом отброса категорий с недостаточным количеством данных.**"
   ]
  },
  {
   "cell_type": "markdown",
   "id": "3f6814b8",
   "metadata": {
    "deletable": false,
    "editable": false,
    "id": "99ecbd1f"
   },
   "source": [
    "#### 3.4 Как разные цели кредита влияют на его возврат в срок?"
   ]
  },
  {
   "cell_type": "markdown",
   "id": "e76cb4aa",
   "metadata": {},
   "source": [
    "Мы разбили данные по следующим целям:\n",
    "\n",
    "- `'операции с автомобилем'`,\n",
    "- `'операции с недвижимостью'`,\n",
    "- `'проведение свадьбы'`,\n",
    "- `'получение образования'`.\n",
    "\n",
    "Сгруппируем данные по этим категориям."
   ]
  },
  {
   "cell_type": "code",
   "execution_count": 28,
   "id": "c7a2614a",
   "metadata": {
    "deletable": false,
    "id": "2b687290"
   },
   "outputs": [
    {
     "data": {
      "text/html": [
       "<div>\n",
       "<style scoped>\n",
       "    .dataframe tbody tr th:only-of-type {\n",
       "        vertical-align: middle;\n",
       "    }\n",
       "\n",
       "    .dataframe tbody tr th {\n",
       "        vertical-align: top;\n",
       "    }\n",
       "\n",
       "    .dataframe thead tr th {\n",
       "        text-align: left;\n",
       "    }\n",
       "\n",
       "    .dataframe thead tr:last-of-type th {\n",
       "        text-align: right;\n",
       "    }\n",
       "</style>\n",
       "<table border=\"1\" class=\"dataframe\">\n",
       "  <thead>\n",
       "    <tr>\n",
       "      <th></th>\n",
       "      <th>sum</th>\n",
       "      <th>count</th>\n",
       "      <th>percentage</th>\n",
       "    </tr>\n",
       "    <tr>\n",
       "      <th></th>\n",
       "      <th>debt</th>\n",
       "      <th>debt</th>\n",
       "      <th></th>\n",
       "    </tr>\n",
       "    <tr>\n",
       "      <th>purpose_category</th>\n",
       "      <th></th>\n",
       "      <th></th>\n",
       "      <th></th>\n",
       "    </tr>\n",
       "  </thead>\n",
       "  <tbody>\n",
       "    <tr>\n",
       "      <th>операции с недвижимостью</th>\n",
       "      <td>780</td>\n",
       "      <td>10751</td>\n",
       "      <td>7.255139</td>\n",
       "    </tr>\n",
       "    <tr>\n",
       "      <th>проведение свадьбы</th>\n",
       "      <td>183</td>\n",
       "      <td>2313</td>\n",
       "      <td>7.911803</td>\n",
       "    </tr>\n",
       "    <tr>\n",
       "      <th>получение образования</th>\n",
       "      <td>369</td>\n",
       "      <td>3988</td>\n",
       "      <td>9.252758</td>\n",
       "    </tr>\n",
       "    <tr>\n",
       "      <th>операции с автомобилем</th>\n",
       "      <td>400</td>\n",
       "      <td>4279</td>\n",
       "      <td>9.347978</td>\n",
       "    </tr>\n",
       "  </tbody>\n",
       "</table>\n",
       "</div>"
      ],
      "text/plain": [
       "                          sum  count percentage\n",
       "                         debt   debt           \n",
       "purpose_category                               \n",
       "операции с недвижимостью  780  10751   7.255139\n",
       "проведение свадьбы        183   2313   7.911803\n",
       "получение образования     369   3988   9.252758\n",
       "операции с автомобилем    400   4279   9.347978"
      ]
     },
     "execution_count": 28,
     "metadata": {},
     "output_type": "execute_result"
    }
   ],
   "source": [
    "#Группировка по цели кредита\n",
    "create_pivot_table(data, ['purpose_category']).sort_values('percentage')"
   ]
  },
  {
   "cell_type": "markdown",
   "id": "3daecfa5",
   "metadata": {
    "deletable": false,
    "id": "b4bb2ce6"
   },
   "source": [
    "**Вывод:** \n",
    "\n",
    "Клиенты берущие кредит на операции с недвижимостью и на свадьбу более своевременно гасят платежи чем остальные группы. Это можно связать с тем, что эти люди имеют семейный бюджет и распределяют доходы более ответственно. Также подарки на свадьбе, могут покрыть часть кредита или кредит полностью. А покупка недвижимости процесс обдуманный, и требует глубокого рассмотрения финансовых возможностей.\n",
    "\n",
    "Люди взявшие деньги на получение образования и операции с автомобилем более подвержены рискам стать должником. Вероятнее всего, это связано с тем, что люди получающие образование работают в небольшое свободное время на низкоквалифицированной работе и помимо кредита есть еще базовые потребности, которые им нужно удовлетворить в первую очередь. \n",
    "А автомобиль уже давно не является предметом роскоши и любой человек с доходом от среднего и выше может его себе позволить. Это покупка может быть импульсивной и необдуманной, а так же никто не исключает возможность ДТП, и все деньги будут уходить на покрытие ущерба."
   ]
  },
  {
   "cell_type": "markdown",
   "id": "85fc6cba",
   "metadata": {
    "deletable": false,
    "editable": false,
    "id": "09c3ac4c"
   },
   "source": [
    "#### 3.5 Приведите возможные причины появления пропусков в исходных данных."
   ]
  },
  {
   "cell_type": "markdown",
   "id": "b497bcba",
   "metadata": {
    "deletable": false,
    "id": "9da2ceda"
   },
   "source": [
    "*Ответ:* Клиент скрыл данные о работе, некорректная загрузка/ввод данных, некорректная выгрузка (неправильно составлен SQL-запрос, неправильное объединение таблиц), сотрудник не запросил данные.\n"
   ]
  },
  {
   "cell_type": "markdown",
   "id": "02d8d02d",
   "metadata": {
    "deletable": false,
    "editable": false,
    "id": "7b0487d6"
   },
   "source": [
    "#### 3.6 Объясните, почему заполнить пропуски медианным значением — лучшее решение для количественных переменных."
   ]
  },
  {
   "cell_type": "markdown",
   "id": "0b068982",
   "metadata": {
    "deletable": false,
    "id": "7ecf2b8e"
   },
   "source": [
    "*Ответ:* Медианное значение лучше чем среднее в случаях, когда можно видеть большой разброс данных и есть значения, которые выделяются среди остальных. В случае с данным датасетом, уровень дохода и стаж работы как раз подходят под эти критерии."
   ]
  },
  {
   "cell_type": "markdown",
   "id": "547a055c",
   "metadata": {
    "deletable": false,
    "editable": false,
    "id": "6db5255a"
   },
   "source": [
    "### Шаг 4: общий вывод."
   ]
  },
  {
   "cell_type": "markdown",
   "id": "e3ab3206",
   "metadata": {
    "deletable": false,
    "id": "bad65432"
   },
   "source": [
    "В данном проекте мы провели следующую работу над данными о платёжеспособности клиентов:\n",
    "- Заменили пропуски в столбцах `days_employed` и `total_income` медианными значениями по каждому типу занятости `income_type`\n",
    "- Обработали аномальные значения в столбцах `days_employed` и `children`\n",
    "- Заменили вещественный тип данных в столбце `total_income` на целочисленный\n",
    "- Обработали неявные дубликаты в столбце `education`\n",
    "- Категоризировали данные по уровню дохода, целям кредита и количеству детей.\n",
    "\n",
    "Обработав данные и проведя иследование мы пришли к следющим выводам:\n",
    "\n",
    "1. Наличие детей увеличивает вероятность задолженности, но количество детей нет.\n",
    "2. Люди не имеющие/не имевшие зарегистрированный брак имеют большую верятность стать должником.\n",
    "3. Уровень дохода клиента влияет на факт погашения кредита в срок. При анализе двух крупных категорий \"B\" и \"C\", мы выяснили, что клиенты с большим уровнем дохода имеют меньше шансов стать должниками.\n",
    "4. Люди берущие кредит на получение образования или на операции с автомобилем чаще становятся должниками.\n",
    "\n",
    "Таким образом мы можем описать портреты \"идеального\" и рискованного клиента.\n",
    "\n",
    "\"Идеальный\" клиент имеет следующие черты:\n",
    "- Не имеет детей\n",
    "- Состоял/состоит в браке\n",
    "- Уровень дохода выше среднего (200001–1000000)\n",
    "- Берет кредит на операции с недвижимостью.\n",
    "\n",
    "Рискованный клиент имеет следующие черты:\n",
    "- Имеет детей (>=1)\n",
    "- Не имел/не имеет зарегистрированных отношений\n",
    "- Уровень дохода - средний (50001–200000)\n",
    "- Берет кредит на получение образования или операции с автомобилем\n",
    " "
   ]
  }
 ],
 "metadata": {
  "ExecuteTimeLog": [
   {
    "duration": 78,
    "start_time": "2023-03-23T18:34:38.396Z"
   },
   {
    "duration": 595,
    "start_time": "2023-03-23T18:34:53.342Z"
   },
   {
    "duration": 39,
    "start_time": "2023-03-23T18:34:53.939Z"
   },
   {
    "duration": 17,
    "start_time": "2023-03-23T18:34:53.980Z"
   },
   {
    "duration": 10,
    "start_time": "2023-03-23T18:34:53.999Z"
   },
   {
    "duration": 70,
    "start_time": "2023-03-23T18:34:54.011Z"
   },
   {
    "duration": 4,
    "start_time": "2023-03-23T18:34:54.083Z"
   },
   {
    "duration": 13,
    "start_time": "2023-03-23T18:34:54.089Z"
   },
   {
    "duration": 9,
    "start_time": "2023-03-23T18:34:54.103Z"
   },
   {
    "duration": 14,
    "start_time": "2023-03-23T18:34:54.114Z"
   },
   {
    "duration": 15,
    "start_time": "2023-03-23T18:34:54.131Z"
   },
   {
    "duration": 65,
    "start_time": "2023-03-23T18:34:54.147Z"
   },
   {
    "duration": 9,
    "start_time": "2023-03-23T18:34:54.214Z"
   },
   {
    "duration": 8,
    "start_time": "2023-03-23T18:34:54.225Z"
   },
   {
    "duration": 57,
    "start_time": "2023-03-23T18:34:54.235Z"
   },
   {
    "duration": 22,
    "start_time": "2023-03-23T18:34:54.294Z"
   },
   {
    "duration": 26,
    "start_time": "2023-03-23T18:34:54.318Z"
   },
   {
    "duration": 5,
    "start_time": "2023-03-23T18:34:54.347Z"
   },
   {
    "duration": 66,
    "start_time": "2023-03-23T18:34:54.354Z"
   },
   {
    "duration": 8,
    "start_time": "2023-03-23T18:34:54.422Z"
   },
   {
    "duration": 6,
    "start_time": "2023-03-23T18:34:54.432Z"
   },
   {
    "duration": 45,
    "start_time": "2023-03-23T18:34:54.440Z"
   },
   {
    "duration": 90,
    "start_time": "2023-03-23T18:34:54.486Z"
   },
   {
    "duration": 0,
    "start_time": "2023-03-23T18:34:54.578Z"
   },
   {
    "duration": 0,
    "start_time": "2023-03-23T18:34:54.580Z"
   },
   {
    "duration": 0,
    "start_time": "2023-03-23T18:34:54.581Z"
   },
   {
    "duration": 12,
    "start_time": "2023-03-23T18:35:10.667Z"
   },
   {
    "duration": 7,
    "start_time": "2023-03-23T18:35:14.270Z"
   },
   {
    "duration": 55,
    "start_time": "2023-03-23T18:35:22.258Z"
   },
   {
    "duration": 7,
    "start_time": "2023-03-23T18:35:29.297Z"
   },
   {
    "duration": 8,
    "start_time": "2023-03-23T18:36:46.230Z"
   },
   {
    "duration": 8,
    "start_time": "2023-03-23T18:39:49.164Z"
   },
   {
    "duration": 11,
    "start_time": "2023-03-23T18:42:54.819Z"
   },
   {
    "duration": 72,
    "start_time": "2023-03-23T18:43:34.554Z"
   },
   {
    "duration": 10,
    "start_time": "2023-03-23T18:43:46.763Z"
   },
   {
    "duration": 9,
    "start_time": "2023-03-23T18:45:30.230Z"
   },
   {
    "duration": 12,
    "start_time": "2023-03-23T18:46:01.163Z"
   },
   {
    "duration": 19,
    "start_time": "2023-03-23T18:47:38.910Z"
   },
   {
    "duration": 7,
    "start_time": "2023-03-23T18:47:44.764Z"
   },
   {
    "duration": 9,
    "start_time": "2023-03-23T18:51:11.655Z"
   },
   {
    "duration": 8,
    "start_time": "2023-03-23T18:51:36.227Z"
   },
   {
    "duration": 9,
    "start_time": "2023-03-23T18:51:43.528Z"
   },
   {
    "duration": 13,
    "start_time": "2023-03-23T18:52:14.242Z"
   },
   {
    "duration": 13,
    "start_time": "2023-03-23T18:53:07.009Z"
   },
   {
    "duration": 9,
    "start_time": "2023-03-23T19:06:37.996Z"
   },
   {
    "duration": 9,
    "start_time": "2023-03-23T19:07:44.176Z"
   },
   {
    "duration": 3,
    "start_time": "2023-03-23T19:09:49.415Z"
   },
   {
    "duration": 4,
    "start_time": "2023-03-23T19:10:02.404Z"
   },
   {
    "duration": 5,
    "start_time": "2023-03-23T19:11:06.170Z"
   },
   {
    "duration": 4,
    "start_time": "2023-03-23T19:11:23.346Z"
   },
   {
    "duration": 95,
    "start_time": "2023-03-23T19:11:59.241Z"
   },
   {
    "duration": 4,
    "start_time": "2023-03-23T19:12:05.628Z"
   },
   {
    "duration": 4,
    "start_time": "2023-03-23T19:15:53.080Z"
   },
   {
    "duration": 84,
    "start_time": "2023-03-23T19:16:04.292Z"
   },
   {
    "duration": 91,
    "start_time": "2023-03-23T19:31:27.675Z"
   },
   {
    "duration": 10,
    "start_time": "2023-03-23T19:31:33.854Z"
   },
   {
    "duration": 9,
    "start_time": "2023-03-23T19:32:02.484Z"
   },
   {
    "duration": 8,
    "start_time": "2023-03-23T19:32:15.709Z"
   },
   {
    "duration": 84,
    "start_time": "2023-03-23T19:33:47.697Z"
   },
   {
    "duration": 11,
    "start_time": "2023-03-23T19:33:57.564Z"
   },
   {
    "duration": 47,
    "start_time": "2023-03-26T11:13:09.419Z"
   },
   {
    "duration": 6,
    "start_time": "2023-03-26T11:13:18.990Z"
   },
   {
    "duration": 558,
    "start_time": "2023-03-26T11:13:24.300Z"
   },
   {
    "duration": 24,
    "start_time": "2023-03-26T11:13:24.860Z"
   },
   {
    "duration": 15,
    "start_time": "2023-03-26T11:13:24.886Z"
   },
   {
    "duration": 14,
    "start_time": "2023-03-26T11:13:24.907Z"
   },
   {
    "duration": 34,
    "start_time": "2023-03-26T11:13:24.923Z"
   },
   {
    "duration": 4,
    "start_time": "2023-03-26T11:13:24.959Z"
   },
   {
    "duration": 11,
    "start_time": "2023-03-26T11:13:24.965Z"
   },
   {
    "duration": 26,
    "start_time": "2023-03-26T11:13:24.977Z"
   },
   {
    "duration": 18,
    "start_time": "2023-03-26T11:13:25.004Z"
   },
   {
    "duration": 8,
    "start_time": "2023-03-26T11:13:25.024Z"
   },
   {
    "duration": 31,
    "start_time": "2023-03-26T11:13:25.034Z"
   },
   {
    "duration": 9,
    "start_time": "2023-03-26T11:13:25.067Z"
   },
   {
    "duration": 13,
    "start_time": "2023-03-26T11:13:25.078Z"
   },
   {
    "duration": 32,
    "start_time": "2023-03-26T11:13:25.102Z"
   },
   {
    "duration": 23,
    "start_time": "2023-03-26T11:13:25.136Z"
   },
   {
    "duration": 16,
    "start_time": "2023-03-26T11:13:25.161Z"
   },
   {
    "duration": 3,
    "start_time": "2023-03-26T11:13:25.179Z"
   },
   {
    "duration": 38,
    "start_time": "2023-03-26T11:13:25.185Z"
   },
   {
    "duration": 16,
    "start_time": "2023-03-26T11:13:25.224Z"
   },
   {
    "duration": 16,
    "start_time": "2023-03-26T11:13:25.242Z"
   },
   {
    "duration": 22,
    "start_time": "2023-03-26T11:13:25.260Z"
   },
   {
    "duration": 13,
    "start_time": "2023-03-26T11:13:25.284Z"
   },
   {
    "duration": 15,
    "start_time": "2023-03-26T11:13:25.299Z"
   },
   {
    "duration": 6,
    "start_time": "2023-03-26T11:13:31.365Z"
   },
   {
    "duration": 8,
    "start_time": "2023-03-26T11:13:36.645Z"
   },
   {
    "duration": 872,
    "start_time": "2023-03-26T11:14:14.633Z"
   },
   {
    "duration": 560,
    "start_time": "2023-03-26T11:14:32.789Z"
   },
   {
    "duration": 8,
    "start_time": "2023-03-26T11:14:46.637Z"
   },
   {
    "duration": 10,
    "start_time": "2023-03-26T11:16:40.716Z"
   },
   {
    "duration": 8,
    "start_time": "2023-03-26T11:16:52.701Z"
   },
   {
    "duration": 7,
    "start_time": "2023-03-26T11:17:05.531Z"
   },
   {
    "duration": 14,
    "start_time": "2023-03-26T11:17:14.364Z"
   },
   {
    "duration": 14,
    "start_time": "2023-03-26T11:17:24.085Z"
   },
   {
    "duration": 13,
    "start_time": "2023-03-26T11:28:26.035Z"
   },
   {
    "duration": 11,
    "start_time": "2023-03-26T11:28:59.928Z"
   },
   {
    "duration": 11,
    "start_time": "2023-03-26T11:29:09.653Z"
   },
   {
    "duration": 13,
    "start_time": "2023-03-26T11:30:33.004Z"
   },
   {
    "duration": 495,
    "start_time": "2023-03-26T11:34:10.473Z"
   },
   {
    "duration": 24,
    "start_time": "2023-03-26T11:34:10.970Z"
   },
   {
    "duration": 15,
    "start_time": "2023-03-26T11:34:10.995Z"
   },
   {
    "duration": 8,
    "start_time": "2023-03-26T11:34:11.012Z"
   },
   {
    "duration": 37,
    "start_time": "2023-03-26T11:34:11.022Z"
   },
   {
    "duration": 4,
    "start_time": "2023-03-26T11:34:11.060Z"
   },
   {
    "duration": 18,
    "start_time": "2023-03-26T11:34:11.065Z"
   },
   {
    "duration": 21,
    "start_time": "2023-03-26T11:34:11.084Z"
   },
   {
    "duration": 8,
    "start_time": "2023-03-26T11:34:11.106Z"
   },
   {
    "duration": 5,
    "start_time": "2023-03-26T11:34:11.118Z"
   },
   {
    "duration": 39,
    "start_time": "2023-03-26T11:34:11.124Z"
   },
   {
    "duration": 11,
    "start_time": "2023-03-26T11:34:11.165Z"
   },
   {
    "duration": 25,
    "start_time": "2023-03-26T11:34:11.178Z"
   },
   {
    "duration": 17,
    "start_time": "2023-03-26T11:34:11.205Z"
   },
   {
    "duration": 21,
    "start_time": "2023-03-26T11:34:11.224Z"
   },
   {
    "duration": 18,
    "start_time": "2023-03-26T11:34:11.247Z"
   },
   {
    "duration": 4,
    "start_time": "2023-03-26T11:34:11.267Z"
   },
   {
    "duration": 38,
    "start_time": "2023-03-26T11:34:11.273Z"
   },
   {
    "duration": 8,
    "start_time": "2023-03-26T11:34:11.313Z"
   },
   {
    "duration": 4,
    "start_time": "2023-03-26T11:34:11.323Z"
   },
   {
    "duration": 19,
    "start_time": "2023-03-26T11:34:11.329Z"
   },
   {
    "duration": 22,
    "start_time": "2023-03-26T11:34:11.350Z"
   },
   {
    "duration": 12,
    "start_time": "2023-03-26T11:34:11.374Z"
   },
   {
    "duration": 2,
    "start_time": "2023-03-26T11:34:11.403Z"
   },
   {
    "duration": 10,
    "start_time": "2023-03-26T11:34:11.407Z"
   },
   {
    "duration": 5,
    "start_time": "2023-03-26T11:34:11.418Z"
   },
   {
    "duration": 15,
    "start_time": "2023-03-26T11:35:26.667Z"
   },
   {
    "duration": 16,
    "start_time": "2023-03-26T11:37:19.830Z"
   },
   {
    "duration": 507,
    "start_time": "2023-03-26T11:47:24.898Z"
   },
   {
    "duration": 25,
    "start_time": "2023-03-26T11:47:25.407Z"
   },
   {
    "duration": 16,
    "start_time": "2023-03-26T11:47:25.434Z"
   },
   {
    "duration": 12,
    "start_time": "2023-03-26T11:47:25.452Z"
   },
   {
    "duration": 60,
    "start_time": "2023-03-26T11:47:25.466Z"
   },
   {
    "duration": 4,
    "start_time": "2023-03-26T11:47:25.527Z"
   },
   {
    "duration": 22,
    "start_time": "2023-03-26T11:47:25.532Z"
   },
   {
    "duration": 4,
    "start_time": "2023-03-26T11:47:25.556Z"
   },
   {
    "duration": 10,
    "start_time": "2023-03-26T11:47:25.562Z"
   },
   {
    "duration": 4,
    "start_time": "2023-03-26T11:47:25.575Z"
   },
   {
    "duration": 52,
    "start_time": "2023-03-26T11:47:25.581Z"
   },
   {
    "duration": 10,
    "start_time": "2023-03-26T11:47:25.634Z"
   },
   {
    "duration": 9,
    "start_time": "2023-03-26T11:47:25.646Z"
   },
   {
    "duration": 11,
    "start_time": "2023-03-26T11:47:25.657Z"
   },
   {
    "duration": 39,
    "start_time": "2023-03-26T11:47:25.669Z"
   },
   {
    "duration": 19,
    "start_time": "2023-03-26T11:47:25.709Z"
   },
   {
    "duration": 4,
    "start_time": "2023-03-26T11:47:25.730Z"
   },
   {
    "duration": 19,
    "start_time": "2023-03-26T11:47:25.736Z"
   },
   {
    "duration": 6,
    "start_time": "2023-03-26T11:47:25.757Z"
   },
   {
    "duration": 7,
    "start_time": "2023-03-26T11:47:25.765Z"
   },
   {
    "duration": 31,
    "start_time": "2023-03-26T11:47:25.774Z"
   },
   {
    "duration": 12,
    "start_time": "2023-03-26T11:47:25.807Z"
   },
   {
    "duration": 12,
    "start_time": "2023-03-26T11:47:25.822Z"
   },
   {
    "duration": 6,
    "start_time": "2023-03-26T11:47:25.836Z"
   },
   {
    "duration": 6,
    "start_time": "2023-03-26T11:47:25.844Z"
   },
   {
    "duration": 9,
    "start_time": "2023-03-26T11:47:25.852Z"
   },
   {
    "duration": 32,
    "start_time": "2023-03-26T11:49:05.300Z"
   },
   {
    "duration": 11,
    "start_time": "2023-03-26T11:49:29.900Z"
   },
   {
    "duration": 12,
    "start_time": "2023-03-26T11:49:48.820Z"
   },
   {
    "duration": 807,
    "start_time": "2023-03-26T11:52:23.507Z"
   },
   {
    "duration": 13,
    "start_time": "2023-03-26T11:52:30.580Z"
   },
   {
    "duration": 689,
    "start_time": "2023-03-26T11:52:33.763Z"
   },
   {
    "duration": 13,
    "start_time": "2023-03-26T11:52:52.755Z"
   },
   {
    "duration": 8,
    "start_time": "2023-03-26T12:21:04.866Z"
   },
   {
    "duration": 12,
    "start_time": "2023-03-26T12:21:09.650Z"
   },
   {
    "duration": 15,
    "start_time": "2023-03-26T12:21:11.826Z"
   },
   {
    "duration": 21,
    "start_time": "2023-03-26T12:23:18.923Z"
   },
   {
    "duration": 48,
    "start_time": "2023-03-26T12:23:42.467Z"
   },
   {
    "duration": 17,
    "start_time": "2023-03-26T12:23:48.362Z"
   },
   {
    "duration": 15,
    "start_time": "2023-03-26T12:24:12.811Z"
   },
   {
    "duration": 21,
    "start_time": "2023-03-26T12:34:21.268Z"
   },
   {
    "duration": 25,
    "start_time": "2023-03-26T12:34:53.484Z"
   },
   {
    "duration": 19,
    "start_time": "2023-03-26T12:36:57.772Z"
   },
   {
    "duration": 11,
    "start_time": "2023-03-26T12:45:15.228Z"
   },
   {
    "duration": 12,
    "start_time": "2023-03-26T12:45:19.532Z"
   },
   {
    "duration": 14,
    "start_time": "2023-03-26T12:45:39.540Z"
   },
   {
    "duration": 24,
    "start_time": "2023-03-26T12:46:33.405Z"
   },
   {
    "duration": 20,
    "start_time": "2023-03-26T12:59:19.756Z"
   },
   {
    "duration": 47,
    "start_time": "2023-03-26T14:03:02.210Z"
   },
   {
    "duration": 46,
    "start_time": "2023-03-26T14:03:09.026Z"
   },
   {
    "duration": 17,
    "start_time": "2023-03-26T14:03:16.922Z"
   },
   {
    "duration": 28,
    "start_time": "2023-03-26T14:18:39.090Z"
   },
   {
    "duration": 15,
    "start_time": "2023-03-26T14:18:57.234Z"
   },
   {
    "duration": 783,
    "start_time": "2023-03-26T14:21:47.521Z"
   },
   {
    "duration": 17,
    "start_time": "2023-03-26T14:21:54.522Z"
   },
   {
    "duration": 20,
    "start_time": "2023-03-26T14:22:18.970Z"
   },
   {
    "duration": 16,
    "start_time": "2023-03-26T14:22:33.481Z"
   },
   {
    "duration": 14,
    "start_time": "2023-03-26T14:24:34.215Z"
   },
   {
    "duration": 13,
    "start_time": "2023-03-26T14:24:51.939Z"
   },
   {
    "duration": 876,
    "start_time": "2023-03-26T14:25:13.377Z"
   },
   {
    "duration": 20,
    "start_time": "2023-03-26T14:25:44.690Z"
   },
   {
    "duration": 23,
    "start_time": "2023-03-26T14:26:00.171Z"
   },
   {
    "duration": 8,
    "start_time": "2023-03-26T14:28:54.938Z"
   },
   {
    "duration": 26,
    "start_time": "2023-03-26T14:29:01.289Z"
   },
   {
    "duration": 19,
    "start_time": "2023-03-26T14:29:21.853Z"
   },
   {
    "duration": 23,
    "start_time": "2023-03-26T14:29:24.031Z"
   },
   {
    "duration": 44,
    "start_time": "2023-03-26T14:30:25.364Z"
   },
   {
    "duration": 27,
    "start_time": "2023-03-26T14:31:18.726Z"
   },
   {
    "duration": 25,
    "start_time": "2023-03-26T14:31:32.601Z"
   },
   {
    "duration": 27,
    "start_time": "2023-03-26T14:31:57.629Z"
   },
   {
    "duration": 15,
    "start_time": "2023-03-26T14:45:14.993Z"
   },
   {
    "duration": 22,
    "start_time": "2023-03-26T14:45:16.978Z"
   },
   {
    "duration": 18,
    "start_time": "2023-03-26T14:45:23.058Z"
   },
   {
    "duration": 15,
    "start_time": "2023-03-26T14:45:53.122Z"
   },
   {
    "duration": 19,
    "start_time": "2023-03-26T14:46:08.450Z"
   },
   {
    "duration": 24,
    "start_time": "2023-03-26T14:46:20.138Z"
   },
   {
    "duration": 26,
    "start_time": "2023-03-26T14:46:22.698Z"
   },
   {
    "duration": 541,
    "start_time": "2023-03-26T15:06:48.123Z"
   },
   {
    "duration": 28,
    "start_time": "2023-03-26T15:06:48.667Z"
   },
   {
    "duration": 35,
    "start_time": "2023-03-26T15:06:48.711Z"
   },
   {
    "duration": 15,
    "start_time": "2023-03-26T15:06:48.749Z"
   },
   {
    "duration": 46,
    "start_time": "2023-03-26T15:06:48.766Z"
   },
   {
    "duration": 13,
    "start_time": "2023-03-26T15:06:48.817Z"
   },
   {
    "duration": 11,
    "start_time": "2023-03-26T15:06:48.832Z"
   },
   {
    "duration": 5,
    "start_time": "2023-03-26T15:06:48.844Z"
   },
   {
    "duration": 8,
    "start_time": "2023-03-26T15:06:48.851Z"
   },
   {
    "duration": 4,
    "start_time": "2023-03-26T15:06:48.861Z"
   },
   {
    "duration": 65,
    "start_time": "2023-03-26T15:06:48.867Z"
   },
   {
    "duration": 13,
    "start_time": "2023-03-26T15:06:48.934Z"
   },
   {
    "duration": 4,
    "start_time": "2023-03-26T15:06:48.950Z"
   },
   {
    "duration": 18,
    "start_time": "2023-03-26T15:06:48.956Z"
   },
   {
    "duration": 56,
    "start_time": "2023-03-26T15:06:48.976Z"
   },
   {
    "duration": 24,
    "start_time": "2023-03-26T15:06:49.037Z"
   },
   {
    "duration": 3,
    "start_time": "2023-03-26T15:06:49.063Z"
   },
   {
    "duration": 71,
    "start_time": "2023-03-26T15:06:49.068Z"
   },
   {
    "duration": 7,
    "start_time": "2023-03-26T15:06:49.141Z"
   },
   {
    "duration": 4,
    "start_time": "2023-03-26T15:06:49.150Z"
   },
   {
    "duration": 11,
    "start_time": "2023-03-26T15:06:49.156Z"
   },
   {
    "duration": 15,
    "start_time": "2023-03-26T15:06:49.169Z"
   },
   {
    "duration": 38,
    "start_time": "2023-03-26T15:06:49.186Z"
   },
   {
    "duration": 28,
    "start_time": "2023-03-26T15:06:49.231Z"
   },
   {
    "duration": 21,
    "start_time": "2023-03-26T15:06:49.261Z"
   },
   {
    "duration": 11,
    "start_time": "2023-03-26T15:06:49.284Z"
   },
   {
    "duration": 15,
    "start_time": "2023-03-26T15:06:49.296Z"
   },
   {
    "duration": 15,
    "start_time": "2023-03-26T15:06:49.312Z"
   },
   {
    "duration": 22,
    "start_time": "2023-03-26T15:07:42.637Z"
   },
   {
    "duration": 19,
    "start_time": "2023-03-26T15:13:00.378Z"
   },
   {
    "duration": 23,
    "start_time": "2023-03-26T15:45:08.362Z"
   },
   {
    "duration": 18,
    "start_time": "2023-03-26T15:46:52.247Z"
   },
   {
    "duration": 26,
    "start_time": "2023-03-26T15:49:44.034Z"
   },
   {
    "duration": 19,
    "start_time": "2023-03-26T15:50:17.473Z"
   },
   {
    "duration": 25,
    "start_time": "2023-03-26T15:50:44.970Z"
   },
   {
    "duration": 1336,
    "start_time": "2023-03-26T16:35:37.618Z"
   },
   {
    "duration": 28,
    "start_time": "2023-03-26T16:35:38.961Z"
   },
   {
    "duration": 16,
    "start_time": "2023-03-26T16:35:38.990Z"
   },
   {
    "duration": 10,
    "start_time": "2023-03-26T16:35:39.009Z"
   },
   {
    "duration": 60,
    "start_time": "2023-03-26T16:35:39.021Z"
   },
   {
    "duration": 4,
    "start_time": "2023-03-26T16:35:39.083Z"
   },
   {
    "duration": 11,
    "start_time": "2023-03-26T16:35:39.089Z"
   },
   {
    "duration": 5,
    "start_time": "2023-03-26T16:35:39.102Z"
   },
   {
    "duration": 10,
    "start_time": "2023-03-26T16:35:39.108Z"
   },
   {
    "duration": 17,
    "start_time": "2023-03-26T16:35:39.141Z"
   },
   {
    "duration": 45,
    "start_time": "2023-03-26T16:35:39.165Z"
   },
   {
    "duration": 11,
    "start_time": "2023-03-26T16:35:39.212Z"
   },
   {
    "duration": 5,
    "start_time": "2023-03-26T16:35:39.225Z"
   },
   {
    "duration": 40,
    "start_time": "2023-03-26T16:35:39.231Z"
   },
   {
    "duration": 23,
    "start_time": "2023-03-26T16:35:39.276Z"
   },
   {
    "duration": 19,
    "start_time": "2023-03-26T16:35:39.301Z"
   },
   {
    "duration": 8,
    "start_time": "2023-03-26T16:35:39.322Z"
   },
   {
    "duration": 65,
    "start_time": "2023-03-26T16:35:39.332Z"
   },
   {
    "duration": 14,
    "start_time": "2023-03-26T16:35:39.399Z"
   },
   {
    "duration": 4,
    "start_time": "2023-03-26T16:35:39.415Z"
   },
   {
    "duration": 20,
    "start_time": "2023-03-26T16:35:39.420Z"
   },
   {
    "duration": 53,
    "start_time": "2023-03-26T16:35:39.443Z"
   },
   {
    "duration": 19,
    "start_time": "2023-03-26T16:35:39.498Z"
   },
   {
    "duration": 46,
    "start_time": "2023-03-26T16:35:39.518Z"
   },
   {
    "duration": 38,
    "start_time": "2023-03-26T16:35:39.566Z"
   },
   {
    "duration": 18,
    "start_time": "2023-03-26T16:35:39.606Z"
   },
   {
    "duration": 17,
    "start_time": "2023-03-26T16:35:39.626Z"
   },
   {
    "duration": 23,
    "start_time": "2023-03-26T16:36:45.677Z"
   },
   {
    "duration": 27,
    "start_time": "2023-03-26T16:38:14.261Z"
   },
   {
    "duration": 93,
    "start_time": "2023-03-26T16:46:00.512Z"
   },
   {
    "duration": 11,
    "start_time": "2023-03-26T16:46:29.481Z"
   },
   {
    "duration": 26,
    "start_time": "2023-03-26T16:48:06.074Z"
   },
   {
    "duration": 25,
    "start_time": "2023-03-26T16:48:23.202Z"
   },
   {
    "duration": 123,
    "start_time": "2023-03-26T16:54:50.308Z"
   },
   {
    "duration": 13,
    "start_time": "2023-03-26T16:54:59.717Z"
   },
   {
    "duration": 22,
    "start_time": "2023-03-26T16:55:09.710Z"
   },
   {
    "duration": 14,
    "start_time": "2023-03-26T17:06:08.792Z"
   },
   {
    "duration": 18,
    "start_time": "2023-03-26T17:06:14.262Z"
   },
   {
    "duration": 511,
    "start_time": "2023-03-26T17:32:38.294Z"
   },
   {
    "duration": 46,
    "start_time": "2023-03-26T17:32:38.807Z"
   },
   {
    "duration": 24,
    "start_time": "2023-03-26T17:32:38.861Z"
   },
   {
    "duration": 11,
    "start_time": "2023-03-26T17:32:38.887Z"
   },
   {
    "duration": 55,
    "start_time": "2023-03-26T17:32:38.901Z"
   },
   {
    "duration": 10,
    "start_time": "2023-03-26T17:32:38.962Z"
   },
   {
    "duration": 16,
    "start_time": "2023-03-26T17:32:38.974Z"
   },
   {
    "duration": 7,
    "start_time": "2023-03-26T17:32:38.993Z"
   },
   {
    "duration": 10,
    "start_time": "2023-03-26T17:32:39.002Z"
   },
   {
    "duration": 5,
    "start_time": "2023-03-26T17:32:39.018Z"
   },
   {
    "duration": 60,
    "start_time": "2023-03-26T17:32:39.025Z"
   },
   {
    "duration": 12,
    "start_time": "2023-03-26T17:32:39.086Z"
   },
   {
    "duration": 9,
    "start_time": "2023-03-26T17:32:39.100Z"
   },
   {
    "duration": 40,
    "start_time": "2023-03-26T17:32:39.112Z"
   },
   {
    "duration": 39,
    "start_time": "2023-03-26T17:32:39.161Z"
   },
   {
    "duration": 19,
    "start_time": "2023-03-26T17:32:39.202Z"
   },
   {
    "duration": 5,
    "start_time": "2023-03-26T17:32:39.222Z"
   },
   {
    "duration": 42,
    "start_time": "2023-03-26T17:32:39.229Z"
   },
   {
    "duration": 14,
    "start_time": "2023-03-26T17:32:39.273Z"
   },
   {
    "duration": 5,
    "start_time": "2023-03-26T17:32:39.289Z"
   },
   {
    "duration": 14,
    "start_time": "2023-03-26T17:32:39.296Z"
   },
   {
    "duration": 38,
    "start_time": "2023-03-26T17:32:39.312Z"
   },
   {
    "duration": 24,
    "start_time": "2023-03-26T17:32:39.352Z"
   },
   {
    "duration": 45,
    "start_time": "2023-03-26T17:32:39.378Z"
   },
   {
    "duration": 41,
    "start_time": "2023-03-26T17:32:39.425Z"
   },
   {
    "duration": 29,
    "start_time": "2023-03-26T17:32:39.476Z"
   },
   {
    "duration": 20,
    "start_time": "2023-03-26T17:32:39.507Z"
   },
   {
    "duration": 652,
    "start_time": "2023-03-26T17:35:12.378Z"
   },
   {
    "duration": 62,
    "start_time": "2023-03-26T17:35:13.032Z"
   },
   {
    "duration": 26,
    "start_time": "2023-03-26T17:35:13.096Z"
   },
   {
    "duration": 23,
    "start_time": "2023-03-26T17:35:13.125Z"
   },
   {
    "duration": 100,
    "start_time": "2023-03-26T17:35:13.151Z"
   },
   {
    "duration": 5,
    "start_time": "2023-03-26T17:35:13.253Z"
   },
   {
    "duration": 65,
    "start_time": "2023-03-26T17:35:13.260Z"
   },
   {
    "duration": 52,
    "start_time": "2023-03-26T17:35:13.327Z"
   },
   {
    "duration": 41,
    "start_time": "2023-03-26T17:35:13.381Z"
   },
   {
    "duration": 64,
    "start_time": "2023-03-26T17:35:13.424Z"
   },
   {
    "duration": 72,
    "start_time": "2023-03-26T17:35:13.490Z"
   },
   {
    "duration": 25,
    "start_time": "2023-03-26T17:35:13.565Z"
   },
   {
    "duration": 27,
    "start_time": "2023-03-26T17:35:13.594Z"
   },
   {
    "duration": 34,
    "start_time": "2023-03-26T17:35:13.624Z"
   },
   {
    "duration": 79,
    "start_time": "2023-03-26T17:35:13.661Z"
   },
   {
    "duration": 44,
    "start_time": "2023-03-26T17:35:13.742Z"
   },
   {
    "duration": 19,
    "start_time": "2023-03-26T17:35:13.789Z"
   },
   {
    "duration": 83,
    "start_time": "2023-03-26T17:35:13.810Z"
   },
   {
    "duration": 9,
    "start_time": "2023-03-26T17:35:13.896Z"
   },
   {
    "duration": 4,
    "start_time": "2023-03-26T17:35:13.907Z"
   },
   {
    "duration": 14,
    "start_time": "2023-03-26T17:35:13.912Z"
   },
   {
    "duration": 36,
    "start_time": "2023-03-26T17:35:13.927Z"
   },
   {
    "duration": 42,
    "start_time": "2023-03-26T17:35:13.965Z"
   },
   {
    "duration": 21,
    "start_time": "2023-03-26T17:35:14.009Z"
   },
   {
    "duration": 34,
    "start_time": "2023-03-26T17:35:14.032Z"
   },
   {
    "duration": 70,
    "start_time": "2023-03-26T17:35:14.068Z"
   },
   {
    "duration": 46,
    "start_time": "2023-03-26T17:35:14.140Z"
   },
   {
    "duration": 477,
    "start_time": "2023-03-26T17:52:40.466Z"
   },
   {
    "duration": 37,
    "start_time": "2023-03-26T17:52:40.946Z"
   },
   {
    "duration": 21,
    "start_time": "2023-03-26T17:52:40.984Z"
   },
   {
    "duration": 36,
    "start_time": "2023-03-26T17:52:41.007Z"
   },
   {
    "duration": 38,
    "start_time": "2023-03-26T17:52:41.049Z"
   },
   {
    "duration": 3,
    "start_time": "2023-03-26T17:52:41.089Z"
   },
   {
    "duration": 10,
    "start_time": "2023-03-26T17:52:41.093Z"
   },
   {
    "duration": 4,
    "start_time": "2023-03-26T17:52:41.104Z"
   },
   {
    "duration": 5,
    "start_time": "2023-03-26T17:52:41.110Z"
   },
   {
    "duration": 7,
    "start_time": "2023-03-26T17:52:41.141Z"
   },
   {
    "duration": 34,
    "start_time": "2023-03-26T17:52:41.150Z"
   },
   {
    "duration": 8,
    "start_time": "2023-03-26T17:52:41.186Z"
   },
   {
    "duration": 5,
    "start_time": "2023-03-26T17:52:41.196Z"
   },
   {
    "duration": 39,
    "start_time": "2023-03-26T17:52:41.203Z"
   },
   {
    "duration": 21,
    "start_time": "2023-03-26T17:52:41.244Z"
   },
   {
    "duration": 16,
    "start_time": "2023-03-26T17:52:41.267Z"
   },
   {
    "duration": 3,
    "start_time": "2023-03-26T17:52:41.285Z"
   },
   {
    "duration": 11,
    "start_time": "2023-03-26T17:52:41.290Z"
   },
   {
    "duration": 6,
    "start_time": "2023-03-26T17:52:41.302Z"
   },
   {
    "duration": 3,
    "start_time": "2023-03-26T17:52:41.309Z"
   },
   {
    "duration": 13,
    "start_time": "2023-03-26T17:52:41.341Z"
   },
   {
    "duration": 18,
    "start_time": "2023-03-26T17:52:41.356Z"
   },
   {
    "duration": 16,
    "start_time": "2023-03-26T17:52:41.375Z"
   },
   {
    "duration": 18,
    "start_time": "2023-03-26T17:52:41.393Z"
   },
   {
    "duration": 52,
    "start_time": "2023-03-26T17:52:41.412Z"
   },
   {
    "duration": 15,
    "start_time": "2023-03-26T17:52:41.466Z"
   },
   {
    "duration": 16,
    "start_time": "2023-03-26T17:52:41.482Z"
   },
   {
    "duration": 55,
    "start_time": "2023-03-27T18:48:23.954Z"
   },
   {
    "duration": 538,
    "start_time": "2023-03-27T18:48:37.614Z"
   },
   {
    "duration": 27,
    "start_time": "2023-03-27T18:48:38.153Z"
   },
   {
    "duration": 14,
    "start_time": "2023-03-27T18:48:38.182Z"
   },
   {
    "duration": 10,
    "start_time": "2023-03-27T18:48:38.198Z"
   },
   {
    "duration": 55,
    "start_time": "2023-03-27T18:48:38.210Z"
   },
   {
    "duration": 7,
    "start_time": "2023-03-27T18:48:38.267Z"
   },
   {
    "duration": 12,
    "start_time": "2023-03-27T18:48:38.275Z"
   },
   {
    "duration": 4,
    "start_time": "2023-03-27T18:48:38.289Z"
   },
   {
    "duration": 11,
    "start_time": "2023-03-27T18:48:38.295Z"
   },
   {
    "duration": 5,
    "start_time": "2023-03-27T18:48:38.321Z"
   },
   {
    "duration": 59,
    "start_time": "2023-03-27T18:48:38.327Z"
   },
   {
    "duration": 10,
    "start_time": "2023-03-27T18:48:38.388Z"
   },
   {
    "duration": 14,
    "start_time": "2023-03-27T18:48:38.399Z"
   },
   {
    "duration": 11,
    "start_time": "2023-03-27T18:48:38.415Z"
   },
   {
    "duration": 21,
    "start_time": "2023-03-27T18:48:38.428Z"
   },
   {
    "duration": 23,
    "start_time": "2023-03-27T18:48:38.466Z"
   },
   {
    "duration": 7,
    "start_time": "2023-03-27T18:48:38.491Z"
   },
   {
    "duration": 16,
    "start_time": "2023-03-27T18:48:38.500Z"
   },
   {
    "duration": 8,
    "start_time": "2023-03-27T18:48:38.518Z"
   },
   {
    "duration": 5,
    "start_time": "2023-03-27T18:48:38.528Z"
   },
   {
    "duration": 38,
    "start_time": "2023-03-27T18:48:38.534Z"
   },
   {
    "duration": 23,
    "start_time": "2023-03-27T18:48:38.573Z"
   },
   {
    "duration": 21,
    "start_time": "2023-03-27T18:48:38.598Z"
   },
   {
    "duration": 24,
    "start_time": "2023-03-27T18:48:43.815Z"
   },
   {
    "duration": 15,
    "start_time": "2023-03-27T18:48:46.700Z"
   },
   {
    "duration": 16,
    "start_time": "2023-03-27T18:48:56.000Z"
   },
   {
    "duration": 18,
    "start_time": "2023-03-27T18:49:10.516Z"
   },
   {
    "duration": 33,
    "start_time": "2023-03-27T18:50:35.175Z"
   },
   {
    "duration": 31,
    "start_time": "2023-03-27T18:50:43.277Z"
   },
   {
    "duration": 38,
    "start_time": "2023-03-27T18:50:53.556Z"
   },
   {
    "duration": 26,
    "start_time": "2023-03-27T18:51:01.258Z"
   },
   {
    "duration": 31,
    "start_time": "2023-03-27T18:54:55.918Z"
   },
   {
    "duration": 5,
    "start_time": "2023-03-27T18:58:52.525Z"
   },
   {
    "duration": 58,
    "start_time": "2023-03-27T18:58:58.460Z"
   },
   {
    "duration": 21,
    "start_time": "2023-03-27T19:01:18.211Z"
   },
   {
    "duration": 3,
    "start_time": "2023-03-27T19:04:05.582Z"
   },
   {
    "duration": 3,
    "start_time": "2023-03-27T19:05:17.219Z"
   },
   {
    "duration": 6,
    "start_time": "2023-03-27T19:05:43.224Z"
   },
   {
    "duration": 22,
    "start_time": "2023-03-27T19:07:48.913Z"
   },
   {
    "duration": 39,
    "start_time": "2023-03-27T19:13:09.858Z"
   },
   {
    "duration": 17,
    "start_time": "2023-03-27T19:14:11.706Z"
   },
   {
    "duration": 20,
    "start_time": "2023-03-27T19:14:27.187Z"
   },
   {
    "duration": 31,
    "start_time": "2023-03-27T19:14:29.713Z"
   },
   {
    "duration": 33,
    "start_time": "2023-03-27T19:15:04.691Z"
   },
   {
    "duration": 24,
    "start_time": "2023-03-27T19:15:10.432Z"
   },
   {
    "duration": 44,
    "start_time": "2023-03-27T19:16:13.062Z"
   },
   {
    "duration": 6,
    "start_time": "2023-03-27T19:19:23.537Z"
   },
   {
    "duration": 7,
    "start_time": "2023-03-27T19:20:11.531Z"
   },
   {
    "duration": 19,
    "start_time": "2023-03-27T19:20:26.759Z"
   },
   {
    "duration": 5,
    "start_time": "2023-03-27T19:20:33.392Z"
   },
   {
    "duration": 7,
    "start_time": "2023-03-27T19:20:39.135Z"
   },
   {
    "duration": 4,
    "start_time": "2023-03-27T19:20:44.444Z"
   },
   {
    "duration": 6,
    "start_time": "2023-03-27T19:20:47.597Z"
   },
   {
    "duration": 30,
    "start_time": "2023-03-27T19:20:53.660Z"
   },
   {
    "duration": 7,
    "start_time": "2023-03-27T19:21:04.107Z"
   },
   {
    "duration": 36,
    "start_time": "2023-03-27T19:21:40.899Z"
   },
   {
    "duration": 50,
    "start_time": "2023-03-27T19:22:04.159Z"
   },
   {
    "duration": 5,
    "start_time": "2023-03-27T19:23:09.420Z"
   },
   {
    "duration": 10,
    "start_time": "2023-03-27T19:23:17.102Z"
   },
   {
    "duration": 4,
    "start_time": "2023-03-27T19:23:24.103Z"
   },
   {
    "duration": 6,
    "start_time": "2023-03-27T19:23:29.194Z"
   },
   {
    "duration": 7,
    "start_time": "2023-03-27T19:23:49.842Z"
   },
   {
    "duration": 5,
    "start_time": "2023-03-27T19:24:10.507Z"
   },
   {
    "duration": 35,
    "start_time": "2023-03-27T19:33:45.957Z"
   },
   {
    "duration": 52,
    "start_time": "2023-03-27T19:34:43.634Z"
   },
   {
    "duration": 18,
    "start_time": "2023-03-27T20:07:38.073Z"
   },
   {
    "duration": 26,
    "start_time": "2023-03-27T20:07:55.960Z"
   },
   {
    "duration": 9,
    "start_time": "2023-03-27T20:08:15.423Z"
   },
   {
    "duration": 14,
    "start_time": "2023-03-27T20:16:07.371Z"
   },
   {
    "duration": 8,
    "start_time": "2023-03-27T20:16:27.727Z"
   },
   {
    "duration": 10,
    "start_time": "2023-03-27T20:17:20.501Z"
   },
   {
    "duration": 11,
    "start_time": "2023-03-27T20:17:28.113Z"
   },
   {
    "duration": 9,
    "start_time": "2023-03-27T20:17:42.390Z"
   },
   {
    "duration": 8,
    "start_time": "2023-03-27T20:17:46.043Z"
   },
   {
    "duration": 14,
    "start_time": "2023-03-27T20:17:47.328Z"
   },
   {
    "duration": 10,
    "start_time": "2023-03-27T20:18:11.609Z"
   },
   {
    "duration": 16,
    "start_time": "2023-03-27T20:18:25.715Z"
   },
   {
    "duration": 25,
    "start_time": "2023-03-27T20:18:55.040Z"
   },
   {
    "duration": 8,
    "start_time": "2023-03-27T20:19:33.583Z"
   },
   {
    "duration": 11,
    "start_time": "2023-03-27T20:19:48.383Z"
   },
   {
    "duration": 5,
    "start_time": "2023-03-27T20:20:35.091Z"
   },
   {
    "duration": 9,
    "start_time": "2023-03-27T20:20:56.262Z"
   },
   {
    "duration": 4,
    "start_time": "2023-03-27T20:21:13.936Z"
   },
   {
    "duration": 6,
    "start_time": "2023-03-27T20:21:39.322Z"
   },
   {
    "duration": 4,
    "start_time": "2023-03-27T20:21:52.111Z"
   },
   {
    "duration": 42,
    "start_time": "2023-03-27T21:08:04.232Z"
   },
   {
    "duration": 41,
    "start_time": "2023-03-27T21:08:26.329Z"
   },
   {
    "duration": 42,
    "start_time": "2023-03-27T21:08:54.238Z"
   },
   {
    "duration": 34,
    "start_time": "2023-03-27T21:09:29.578Z"
   },
   {
    "duration": 28,
    "start_time": "2023-03-27T21:09:59.678Z"
   },
   {
    "duration": 45,
    "start_time": "2023-03-27T21:22:50.585Z"
   },
   {
    "duration": 33,
    "start_time": "2023-03-27T21:32:57.211Z"
   },
   {
    "duration": 469,
    "start_time": "2023-03-27T21:34:39.264Z"
   },
   {
    "duration": 22,
    "start_time": "2023-03-27T21:34:39.736Z"
   },
   {
    "duration": 16,
    "start_time": "2023-03-27T21:34:39.760Z"
   },
   {
    "duration": 10,
    "start_time": "2023-03-27T21:34:39.779Z"
   },
   {
    "duration": 34,
    "start_time": "2023-03-27T21:34:39.790Z"
   },
   {
    "duration": 4,
    "start_time": "2023-03-27T21:34:39.825Z"
   },
   {
    "duration": 36,
    "start_time": "2023-03-27T21:34:39.831Z"
   },
   {
    "duration": 4,
    "start_time": "2023-03-27T21:34:39.869Z"
   },
   {
    "duration": 7,
    "start_time": "2023-03-27T21:34:39.874Z"
   },
   {
    "duration": 4,
    "start_time": "2023-03-27T21:34:39.885Z"
   },
   {
    "duration": 32,
    "start_time": "2023-03-27T21:34:39.891Z"
   },
   {
    "duration": 37,
    "start_time": "2023-03-27T21:34:39.925Z"
   },
   {
    "duration": 4,
    "start_time": "2023-03-27T21:34:39.964Z"
   },
   {
    "duration": 13,
    "start_time": "2023-03-27T21:34:39.969Z"
   },
   {
    "duration": 20,
    "start_time": "2023-03-27T21:34:39.984Z"
   },
   {
    "duration": 17,
    "start_time": "2023-03-27T21:34:40.006Z"
   },
   {
    "duration": 4,
    "start_time": "2023-03-27T21:34:40.025Z"
   },
   {
    "duration": 11,
    "start_time": "2023-03-27T21:34:40.061Z"
   },
   {
    "duration": 6,
    "start_time": "2023-03-27T21:34:40.074Z"
   },
   {
    "duration": 20,
    "start_time": "2023-03-27T21:34:40.082Z"
   },
   {
    "duration": 11,
    "start_time": "2023-03-27T21:34:40.104Z"
   },
   {
    "duration": 5,
    "start_time": "2023-03-27T21:34:40.117Z"
   },
   {
    "duration": 42,
    "start_time": "2023-03-27T21:34:40.124Z"
   },
   {
    "duration": 19,
    "start_time": "2023-03-27T21:34:40.168Z"
   },
   {
    "duration": 34,
    "start_time": "2023-03-27T21:34:40.189Z"
   },
   {
    "duration": 47,
    "start_time": "2023-03-27T21:34:40.225Z"
   },
   {
    "duration": 28,
    "start_time": "2023-03-27T21:34:40.273Z"
   },
   {
    "duration": 31,
    "start_time": "2023-03-27T21:34:40.304Z"
   },
   {
    "duration": 58,
    "start_time": "2023-03-27T21:34:40.337Z"
   },
   {
    "duration": 437,
    "start_time": "2023-03-27T21:46:38.276Z"
   },
   {
    "duration": 22,
    "start_time": "2023-03-27T21:46:38.714Z"
   },
   {
    "duration": 15,
    "start_time": "2023-03-27T21:46:38.737Z"
   },
   {
    "duration": 15,
    "start_time": "2023-03-27T21:46:38.754Z"
   },
   {
    "duration": 35,
    "start_time": "2023-03-27T21:46:38.770Z"
   },
   {
    "duration": 3,
    "start_time": "2023-03-27T21:46:38.807Z"
   },
   {
    "duration": 10,
    "start_time": "2023-03-27T21:46:38.812Z"
   },
   {
    "duration": 4,
    "start_time": "2023-03-27T21:46:38.824Z"
   },
   {
    "duration": 40,
    "start_time": "2023-03-27T21:46:38.829Z"
   },
   {
    "duration": 5,
    "start_time": "2023-03-27T21:46:38.873Z"
   },
   {
    "duration": 54,
    "start_time": "2023-03-27T21:46:38.880Z"
   },
   {
    "duration": 13,
    "start_time": "2023-03-27T21:46:38.936Z"
   },
   {
    "duration": 4,
    "start_time": "2023-03-27T21:46:38.961Z"
   },
   {
    "duration": 13,
    "start_time": "2023-03-27T21:46:38.967Z"
   },
   {
    "duration": 22,
    "start_time": "2023-03-27T21:46:38.982Z"
   },
   {
    "duration": 16,
    "start_time": "2023-03-27T21:46:39.006Z"
   },
   {
    "duration": 3,
    "start_time": "2023-03-27T21:46:39.024Z"
   },
   {
    "duration": 11,
    "start_time": "2023-03-27T21:46:39.029Z"
   },
   {
    "duration": 6,
    "start_time": "2023-03-27T21:46:39.062Z"
   },
   {
    "duration": 4,
    "start_time": "2023-03-27T21:46:39.069Z"
   },
   {
    "duration": 9,
    "start_time": "2023-03-27T21:46:39.075Z"
   },
   {
    "duration": 13,
    "start_time": "2023-03-27T21:46:39.085Z"
   },
   {
    "duration": 25,
    "start_time": "2023-03-27T21:46:39.099Z"
   },
   {
    "duration": 16,
    "start_time": "2023-03-27T21:46:39.125Z"
   },
   {
    "duration": 45,
    "start_time": "2023-03-27T21:46:39.143Z"
   },
   {
    "duration": 23,
    "start_time": "2023-03-27T21:46:39.189Z"
   },
   {
    "duration": 23,
    "start_time": "2023-03-27T21:46:39.213Z"
   },
   {
    "duration": 46,
    "start_time": "2023-03-27T21:46:39.238Z"
   },
   {
    "duration": 31,
    "start_time": "2023-03-27T21:46:39.285Z"
   },
   {
    "duration": 33,
    "start_time": "2023-03-27T21:48:25.132Z"
   },
   {
    "duration": 475,
    "start_time": "2023-03-27T21:49:58.432Z"
   },
   {
    "duration": 20,
    "start_time": "2023-03-27T21:49:58.909Z"
   },
   {
    "duration": 13,
    "start_time": "2023-03-27T21:49:58.931Z"
   },
   {
    "duration": 22,
    "start_time": "2023-03-27T21:49:58.946Z"
   },
   {
    "duration": 32,
    "start_time": "2023-03-27T21:49:58.970Z"
   },
   {
    "duration": 3,
    "start_time": "2023-03-27T21:49:59.004Z"
   },
   {
    "duration": 11,
    "start_time": "2023-03-27T21:49:59.009Z"
   },
   {
    "duration": 5,
    "start_time": "2023-03-27T21:49:59.021Z"
   },
   {
    "duration": 35,
    "start_time": "2023-03-27T21:49:59.027Z"
   },
   {
    "duration": 5,
    "start_time": "2023-03-27T21:49:59.067Z"
   },
   {
    "duration": 35,
    "start_time": "2023-03-27T21:49:59.074Z"
   },
   {
    "duration": 9,
    "start_time": "2023-03-27T21:49:59.111Z"
   },
   {
    "duration": 4,
    "start_time": "2023-03-27T21:49:59.122Z"
   },
   {
    "duration": 43,
    "start_time": "2023-03-27T21:49:59.127Z"
   },
   {
    "duration": 21,
    "start_time": "2023-03-27T21:49:59.172Z"
   },
   {
    "duration": 20,
    "start_time": "2023-03-27T21:49:59.195Z"
   },
   {
    "duration": 7,
    "start_time": "2023-03-27T21:49:59.216Z"
   },
   {
    "duration": 13,
    "start_time": "2023-03-27T21:49:59.225Z"
   },
   {
    "duration": 25,
    "start_time": "2023-03-27T21:49:59.240Z"
   },
   {
    "duration": 5,
    "start_time": "2023-03-27T21:49:59.267Z"
   },
   {
    "duration": 9,
    "start_time": "2023-03-27T21:49:59.274Z"
   },
   {
    "duration": 4,
    "start_time": "2023-03-27T21:49:59.285Z"
   },
   {
    "duration": 27,
    "start_time": "2023-03-27T21:49:59.290Z"
   },
   {
    "duration": 18,
    "start_time": "2023-03-27T21:49:59.319Z"
   },
   {
    "duration": 30,
    "start_time": "2023-03-27T21:49:59.362Z"
   },
   {
    "duration": 28,
    "start_time": "2023-03-27T21:49:59.394Z"
   },
   {
    "duration": 50,
    "start_time": "2023-03-27T21:49:59.423Z"
   },
   {
    "duration": 28,
    "start_time": "2023-03-27T21:49:59.476Z"
   },
   {
    "duration": 34,
    "start_time": "2023-03-27T21:49:59.506Z"
   },
   {
    "duration": 26,
    "start_time": "2023-03-27T21:51:05.195Z"
   },
   {
    "duration": 419,
    "start_time": "2023-03-27T21:51:42.013Z"
   },
   {
    "duration": 22,
    "start_time": "2023-03-27T21:51:42.435Z"
   },
   {
    "duration": 14,
    "start_time": "2023-03-27T21:51:42.458Z"
   },
   {
    "duration": 9,
    "start_time": "2023-03-27T21:51:42.473Z"
   },
   {
    "duration": 31,
    "start_time": "2023-03-27T21:51:42.484Z"
   },
   {
    "duration": 3,
    "start_time": "2023-03-27T21:51:42.517Z"
   },
   {
    "duration": 9,
    "start_time": "2023-03-27T21:51:42.522Z"
   },
   {
    "duration": 29,
    "start_time": "2023-03-27T21:51:42.533Z"
   },
   {
    "duration": 8,
    "start_time": "2023-03-27T21:51:42.564Z"
   },
   {
    "duration": 4,
    "start_time": "2023-03-27T21:51:42.574Z"
   },
   {
    "duration": 31,
    "start_time": "2023-03-27T21:51:42.580Z"
   },
   {
    "duration": 9,
    "start_time": "2023-03-27T21:51:42.613Z"
   },
   {
    "duration": 4,
    "start_time": "2023-03-27T21:51:42.624Z"
   },
   {
    "duration": 11,
    "start_time": "2023-03-27T21:51:42.662Z"
   },
   {
    "duration": 22,
    "start_time": "2023-03-27T21:51:42.675Z"
   },
   {
    "duration": 17,
    "start_time": "2023-03-27T21:51:42.699Z"
   },
   {
    "duration": 3,
    "start_time": "2023-03-27T21:51:42.718Z"
   },
   {
    "duration": 11,
    "start_time": "2023-03-27T21:51:42.722Z"
   },
   {
    "duration": 28,
    "start_time": "2023-03-27T21:51:42.735Z"
   },
   {
    "duration": 4,
    "start_time": "2023-03-27T21:51:42.764Z"
   },
   {
    "duration": 12,
    "start_time": "2023-03-27T21:51:42.769Z"
   },
   {
    "duration": 3,
    "start_time": "2023-03-27T21:51:42.782Z"
   },
   {
    "duration": 25,
    "start_time": "2023-03-27T21:51:42.787Z"
   },
   {
    "duration": 18,
    "start_time": "2023-03-27T21:51:42.814Z"
   },
   {
    "duration": 28,
    "start_time": "2023-03-27T21:51:42.861Z"
   },
   {
    "duration": 26,
    "start_time": "2023-03-27T21:51:42.891Z"
   },
   {
    "duration": 47,
    "start_time": "2023-03-27T21:51:42.919Z"
   },
   {
    "duration": 25,
    "start_time": "2023-03-27T21:51:42.968Z"
   },
   {
    "duration": 485,
    "start_time": "2023-03-28T10:34:08.743Z"
   },
   {
    "duration": 28,
    "start_time": "2023-03-28T10:34:09.230Z"
   },
   {
    "duration": 17,
    "start_time": "2023-03-28T10:34:09.260Z"
   },
   {
    "duration": 12,
    "start_time": "2023-03-28T10:34:09.278Z"
   },
   {
    "duration": 32,
    "start_time": "2023-03-28T10:34:09.292Z"
   },
   {
    "duration": 3,
    "start_time": "2023-03-28T10:34:09.326Z"
   },
   {
    "duration": 8,
    "start_time": "2023-03-28T10:34:09.331Z"
   },
   {
    "duration": 3,
    "start_time": "2023-03-28T10:34:09.341Z"
   },
   {
    "duration": 26,
    "start_time": "2023-03-28T10:34:09.346Z"
   },
   {
    "duration": 7,
    "start_time": "2023-03-28T10:34:09.373Z"
   },
   {
    "duration": 34,
    "start_time": "2023-03-28T10:34:09.382Z"
   },
   {
    "duration": 9,
    "start_time": "2023-03-28T10:34:09.418Z"
   },
   {
    "duration": 13,
    "start_time": "2023-03-28T10:34:09.428Z"
   },
   {
    "duration": 10,
    "start_time": "2023-03-28T10:34:09.443Z"
   },
   {
    "duration": 29,
    "start_time": "2023-03-28T10:34:09.454Z"
   },
   {
    "duration": 16,
    "start_time": "2023-03-28T10:34:09.485Z"
   },
   {
    "duration": 4,
    "start_time": "2023-03-28T10:34:09.503Z"
   },
   {
    "duration": 16,
    "start_time": "2023-03-28T10:34:09.509Z"
   },
   {
    "duration": 5,
    "start_time": "2023-03-28T10:34:09.526Z"
   },
   {
    "duration": 16,
    "start_time": "2023-03-28T10:34:09.533Z"
   },
   {
    "duration": 25,
    "start_time": "2023-03-28T10:34:09.551Z"
   },
   {
    "duration": 9,
    "start_time": "2023-03-28T10:34:09.577Z"
   },
   {
    "duration": 34,
    "start_time": "2023-03-28T10:34:09.587Z"
   },
   {
    "duration": 16,
    "start_time": "2023-03-28T10:34:09.623Z"
   },
   {
    "duration": 32,
    "start_time": "2023-03-28T10:34:09.640Z"
   },
   {
    "duration": 24,
    "start_time": "2023-03-28T10:34:09.674Z"
   },
   {
    "duration": 26,
    "start_time": "2023-03-28T10:34:09.700Z"
   },
   {
    "duration": 45,
    "start_time": "2023-03-28T10:34:09.728Z"
   },
   {
    "duration": 810,
    "start_time": "2023-03-28T18:41:55.619Z"
   },
   {
    "duration": 94,
    "start_time": "2023-03-28T18:42:03.892Z"
   },
   {
    "duration": 509,
    "start_time": "2023-03-28T18:42:42.052Z"
   },
   {
    "duration": 52,
    "start_time": "2023-04-09T16:52:25.051Z"
   },
   {
    "duration": 942,
    "start_time": "2023-04-09T16:52:33.511Z"
   },
   {
    "duration": 37,
    "start_time": "2023-04-09T16:52:37.751Z"
   }
  ],
  "colab": {
   "name": "dpp_template_part2.ipynb",
   "provenance": []
  },
  "kernelspec": {
   "display_name": "Python 3 (ipykernel)",
   "language": "python",
   "name": "python3"
  },
  "language_info": {
   "codemirror_mode": {
    "name": "ipython",
    "version": 3
   },
   "file_extension": ".py",
   "mimetype": "text/x-python",
   "name": "python",
   "nbconvert_exporter": "python",
   "pygments_lexer": "ipython3",
   "version": "3.9.5"
  },
  "toc": {
   "base_numbering": 1,
   "nav_menu": {},
   "number_sections": true,
   "sideBar": true,
   "skip_h1_title": true,
   "title_cell": "Table of Contents",
   "title_sidebar": "Contents",
   "toc_cell": false,
   "toc_position": {},
   "toc_section_display": true,
   "toc_window_display": false
  }
 },
 "nbformat": 4,
 "nbformat_minor": 5
}
