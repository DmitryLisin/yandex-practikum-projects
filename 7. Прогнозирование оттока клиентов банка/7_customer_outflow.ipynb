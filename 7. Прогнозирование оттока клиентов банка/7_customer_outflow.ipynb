{
 "cells": [
  {
   "cell_type": "markdown",
   "metadata": {
    "toc": true
   },
   "source": [
    "<h1>Содержание<span class=\"tocSkip\"></span></h1>\n",
    "<div class=\"toc\"><ul class=\"toc-item\"><li><span><a href=\"#Подготовка-данных\" data-toc-modified-id=\"Подготовка-данных-1\"><span class=\"toc-item-num\">1&nbsp;&nbsp;</span>Подготовка данных</a></span><ul class=\"toc-item\"><li><span><a href=\"#Обзор-данных\" data-toc-modified-id=\"Обзор-данных-1.1\"><span class=\"toc-item-num\">1.1&nbsp;&nbsp;</span>Обзор данных</a></span></li><li><span><a href=\"#Предобработка-данных\" data-toc-modified-id=\"Предобработка-данных-1.2\"><span class=\"toc-item-num\">1.2&nbsp;&nbsp;</span>Предобработка данных</a></span><ul class=\"toc-item\"><li><span><a href=\"#Стиль-заголовков\" data-toc-modified-id=\"Стиль-заголовков-1.2.1\"><span class=\"toc-item-num\">1.2.1&nbsp;&nbsp;</span>Стиль заголовков</a></span></li><li><span><a href=\"#Обработка-пропусков\" data-toc-modified-id=\"Обработка-пропусков-1.2.2\"><span class=\"toc-item-num\">1.2.2&nbsp;&nbsp;</span>Обработка пропусков</a></span></li><li><span><a href=\"#Обработка-дубликатов\" data-toc-modified-id=\"Обработка-дубликатов-1.2.3\"><span class=\"toc-item-num\">1.2.3&nbsp;&nbsp;</span>Обработка дубликатов</a></span></li><li><span><a href=\"#Обработка-аномальных-значений\" data-toc-modified-id=\"Обработка-аномальных-значений-1.2.4\"><span class=\"toc-item-num\">1.2.4&nbsp;&nbsp;</span>Обработка аномальных значений</a></span></li></ul></li><li><span><a href=\"#Разбиение-данных\" data-toc-modified-id=\"Разбиение-данных-1.3\"><span class=\"toc-item-num\">1.3&nbsp;&nbsp;</span>Разбиение данных</a></span></li><li><span><a href=\"#Кодирование-категоральных-переменных\" data-toc-modified-id=\"Кодирование-категоральных-переменных-1.4\"><span class=\"toc-item-num\">1.4&nbsp;&nbsp;</span>Кодирование категоральных переменных</a></span></li><li><span><a href=\"#Масштабирование-признаков\" data-toc-modified-id=\"Масштабирование-признаков-1.5\"><span class=\"toc-item-num\">1.5&nbsp;&nbsp;</span>Масштабирование признаков</a></span></li></ul></li><li><span><a href=\"#Исследование-задачи\" data-toc-modified-id=\"Исследование-задачи-2\"><span class=\"toc-item-num\">2&nbsp;&nbsp;</span>Исследование задачи</a></span><ul class=\"toc-item\"><li><ul class=\"toc-item\"><li><span><a href=\"#Дерево-решений\" data-toc-modified-id=\"Дерево-решений-2.0.1\"><span class=\"toc-item-num\">2.0.1&nbsp;&nbsp;</span>Дерево решений</a></span></li><li><span><a href=\"#Случайный-лес\" data-toc-modified-id=\"Случайный-лес-2.0.2\"><span class=\"toc-item-num\">2.0.2&nbsp;&nbsp;</span>Случайный лес</a></span></li><li><span><a href=\"#Логистическая-регрессия\" data-toc-modified-id=\"Логистическая-регрессия-2.0.3\"><span class=\"toc-item-num\">2.0.3&nbsp;&nbsp;</span>Логистическая регрессия</a></span></li><li><span><a href=\"#AUC-ROC\" data-toc-modified-id=\"AUC-ROC-2.0.4\"><span class=\"toc-item-num\">2.0.4&nbsp;&nbsp;</span>AUC-ROC</a></span></li></ul></li></ul></li><li><span><a href=\"#Борьба-с-дисбалансом\" data-toc-modified-id=\"Борьба-с-дисбалансом-3\"><span class=\"toc-item-num\">3&nbsp;&nbsp;</span>Борьба с дисбалансом</a></span><ul class=\"toc-item\"><li><ul class=\"toc-item\"><li><span><a href=\"#Взвешивание-классов\" data-toc-modified-id=\"Взвешивание-классов-3.0.1\"><span class=\"toc-item-num\">3.0.1&nbsp;&nbsp;</span>Взвешивание классов</a></span></li><li><span><a href=\"#Увеличение-выборки\" data-toc-modified-id=\"Увеличение-выборки-3.0.2\"><span class=\"toc-item-num\">3.0.2&nbsp;&nbsp;</span>Увеличение выборки</a></span></li><li><span><a href=\"#Уменьшение-выборки\" data-toc-modified-id=\"Уменьшение-выборки-3.0.3\"><span class=\"toc-item-num\">3.0.3&nbsp;&nbsp;</span>Уменьшение выборки</a></span></li></ul></li></ul></li><li><span><a href=\"#Тестирование-модели\" data-toc-modified-id=\"Тестирование-модели-4\"><span class=\"toc-item-num\">4&nbsp;&nbsp;</span>Тестирование модели</a></span><ul class=\"toc-item\"><li><ul class=\"toc-item\"><li><span><a href=\"#Проверка-на-адекватность\" data-toc-modified-id=\"Проверка-на-адекватность-4.0.1\"><span class=\"toc-item-num\">4.0.1&nbsp;&nbsp;</span>Проверка на адекватность</a></span></li></ul></li></ul></li><li><span><a href=\"#Общий-вывод\" data-toc-modified-id=\"Общий-вывод-5\"><span class=\"toc-item-num\">5&nbsp;&nbsp;</span>Общий вывод</a></span></li></ul></div>"
   ]
  },
  {
   "cell_type": "markdown",
   "metadata": {},
   "source": [
    "# Отток клиентов"
   ]
  },
  {
   "cell_type": "markdown",
   "metadata": {},
   "source": [
    "Из «Бета-Банка» стали уходить клиенты. Каждый месяц. Немного, но заметно. Банковские маркетологи посчитали: сохранять текущих клиентов дешевле, чем привлекать новых.\n",
    "\n",
    "Нужно спрогнозировать, уйдёт клиент из банка в ближайшее время или нет. Вам предоставлены исторические данные о поведении клиентов и расторжении договоров с банком. \n",
    "\n",
    "Постройте модель с предельно большим значением *F1*-меры. Чтобы сдать проект успешно, нужно довести метрику до 0.59. Проверьте *F1*-меру на тестовой выборке самостоятельно.\n",
    "\n",
    "Дополнительно измеряйте *AUC-ROC*, сравнивайте её значение с *F1*-мерой.\n",
    "\n",
    "Источник данных: [https://www.kaggle.com/barelydedicated/bank-customer-churn-modeling](https://www.kaggle.com/barelydedicated/bank-customer-churn-modeling)\n",
    "\n",
    "Цель исследования: Построить модель с максимально большим значением *F1*-меры (>= 0.59).\n",
    "\n",
    "\n",
    "Ход исследования:\n",
    "1. Обзор данных\n",
    "2. Предобработка данных\n",
    "3. Подготовка данных к обучению\n",
    "4. Создание моделей без учета дисбаланса классов\n",
    "5. Исследование моделей без учета дисбаланса классов\n",
    "6. Создание моделей с учетом дисбаланса классов\n",
    "7. Исследование моделей с учетом дисбаланса классов\n",
    "8. Проверка модели на тестовой выборке\n",
    "9. Проверка модели на вменяемость\n",
    "10. Общий вывод"
   ]
  },
  {
   "cell_type": "markdown",
   "metadata": {},
   "source": [
    "## Подготовка данных"
   ]
  },
  {
   "cell_type": "markdown",
   "metadata": {},
   "source": [
    "### Обзор данных"
   ]
  },
  {
   "cell_type": "code",
   "execution_count": 1,
   "metadata": {},
   "outputs": [
    {
     "name": "stdout",
     "output_type": "stream",
     "text": [
      "Requirement already satisfied: scikit-learn==1.1.3 in /opt/conda/lib/python3.9/site-packages (1.1.3)\n",
      "Requirement already satisfied: threadpoolctl>=2.0.0 in /opt/conda/lib/python3.9/site-packages (from scikit-learn==1.1.3) (3.1.0)\n",
      "Requirement already satisfied: scipy>=1.3.2 in /opt/conda/lib/python3.9/site-packages (from scikit-learn==1.1.3) (1.9.1)\n",
      "Requirement already satisfied: numpy>=1.17.3 in /opt/conda/lib/python3.9/site-packages (from scikit-learn==1.1.3) (1.21.1)\n",
      "Requirement already satisfied: joblib>=1.0.0 in /opt/conda/lib/python3.9/site-packages (from scikit-learn==1.1.3) (1.3.1)\n",
      "Requirement already satisfied: imblearn in /opt/conda/lib/python3.9/site-packages (0.0)\n",
      "Requirement already satisfied: imbalanced-learn in /opt/conda/lib/python3.9/site-packages (from imblearn) (0.10.1)\n",
      "Requirement already satisfied: joblib>=1.1.1 in /opt/conda/lib/python3.9/site-packages (from imbalanced-learn->imblearn) (1.3.1)\n",
      "Requirement already satisfied: numpy>=1.17.3 in /opt/conda/lib/python3.9/site-packages (from imbalanced-learn->imblearn) (1.21.1)\n",
      "Requirement already satisfied: scikit-learn>=1.0.2 in /opt/conda/lib/python3.9/site-packages (from imbalanced-learn->imblearn) (1.1.3)\n",
      "Requirement already satisfied: threadpoolctl>=2.0.0 in /opt/conda/lib/python3.9/site-packages (from imbalanced-learn->imblearn) (3.1.0)\n",
      "Requirement already satisfied: scipy>=1.3.2 in /opt/conda/lib/python3.9/site-packages (from imbalanced-learn->imblearn) (1.9.1)\n"
     ]
    }
   ],
   "source": [
    "# устанавливаем необходимую версию scikit-learn\n",
    "!pip install scikit-learn==1.1.3\n",
    "!pip install imblearn\n",
    "\n",
    "# импорт библиотек\n",
    "import pandas as pd\n",
    "import numpy as np\n",
    "import matplotlib.pyplot as plt \n",
    "from sklearn.model_selection import train_test_split\n",
    "from sklearn.preprocessing import StandardScaler, OneHotEncoder\n",
    "from sklearn.tree import DecisionTreeClassifier\n",
    "from sklearn.ensemble import RandomForestClassifier\n",
    "from sklearn.linear_model import LogisticRegression\n",
    "from sklearn.metrics import (\n",
    "    accuracy_score,\n",
    "    confusion_matrix,\n",
    "    recall_score,\n",
    "    precision_score,\n",
    "    f1_score,\n",
    "    roc_curve,\n",
    "    roc_auc_score)\n",
    "from imblearn.over_sampling import SMOTE\n",
    "from imblearn.under_sampling import RandomUnderSampler\n",
    "from sklearn.dummy import DummyClassifier"
   ]
  },
  {
   "cell_type": "code",
   "execution_count": 2,
   "metadata": {},
   "outputs": [],
   "source": [
    "# считываем файл с данными\n",
    "try:\n",
    "    data = pd.read_csv('/datasets/Churn.csv')\n",
    "except:\n",
    "    data = pd.read_csv('https://code.s3.yandex.net/datasets/Churn.csv')\n",
    "\n",
    "data.to_csv('Churn.csv')"
   ]
  },
  {
   "cell_type": "markdown",
   "metadata": {},
   "source": [
    "Выведем первые 10 строк и общую информацию датафрейма `data`"
   ]
  },
  {
   "cell_type": "code",
   "execution_count": 3,
   "metadata": {
    "scrolled": true
   },
   "outputs": [
    {
     "data": {
      "text/html": [
       "<div>\n",
       "<style scoped>\n",
       "    .dataframe tbody tr th:only-of-type {\n",
       "        vertical-align: middle;\n",
       "    }\n",
       "\n",
       "    .dataframe tbody tr th {\n",
       "        vertical-align: top;\n",
       "    }\n",
       "\n",
       "    .dataframe thead th {\n",
       "        text-align: right;\n",
       "    }\n",
       "</style>\n",
       "<table border=\"1\" class=\"dataframe\">\n",
       "  <thead>\n",
       "    <tr style=\"text-align: right;\">\n",
       "      <th></th>\n",
       "      <th>RowNumber</th>\n",
       "      <th>CustomerId</th>\n",
       "      <th>Surname</th>\n",
       "      <th>CreditScore</th>\n",
       "      <th>Geography</th>\n",
       "      <th>Gender</th>\n",
       "      <th>Age</th>\n",
       "      <th>Tenure</th>\n",
       "      <th>Balance</th>\n",
       "      <th>NumOfProducts</th>\n",
       "      <th>HasCrCard</th>\n",
       "      <th>IsActiveMember</th>\n",
       "      <th>EstimatedSalary</th>\n",
       "      <th>Exited</th>\n",
       "    </tr>\n",
       "  </thead>\n",
       "  <tbody>\n",
       "    <tr>\n",
       "      <th>0</th>\n",
       "      <td>1</td>\n",
       "      <td>15634602</td>\n",
       "      <td>Hargrave</td>\n",
       "      <td>619</td>\n",
       "      <td>France</td>\n",
       "      <td>Female</td>\n",
       "      <td>42</td>\n",
       "      <td>2.0</td>\n",
       "      <td>0.00</td>\n",
       "      <td>1</td>\n",
       "      <td>1</td>\n",
       "      <td>1</td>\n",
       "      <td>101348.88</td>\n",
       "      <td>1</td>\n",
       "    </tr>\n",
       "    <tr>\n",
       "      <th>1</th>\n",
       "      <td>2</td>\n",
       "      <td>15647311</td>\n",
       "      <td>Hill</td>\n",
       "      <td>608</td>\n",
       "      <td>Spain</td>\n",
       "      <td>Female</td>\n",
       "      <td>41</td>\n",
       "      <td>1.0</td>\n",
       "      <td>83807.86</td>\n",
       "      <td>1</td>\n",
       "      <td>0</td>\n",
       "      <td>1</td>\n",
       "      <td>112542.58</td>\n",
       "      <td>0</td>\n",
       "    </tr>\n",
       "    <tr>\n",
       "      <th>2</th>\n",
       "      <td>3</td>\n",
       "      <td>15619304</td>\n",
       "      <td>Onio</td>\n",
       "      <td>502</td>\n",
       "      <td>France</td>\n",
       "      <td>Female</td>\n",
       "      <td>42</td>\n",
       "      <td>8.0</td>\n",
       "      <td>159660.80</td>\n",
       "      <td>3</td>\n",
       "      <td>1</td>\n",
       "      <td>0</td>\n",
       "      <td>113931.57</td>\n",
       "      <td>1</td>\n",
       "    </tr>\n",
       "    <tr>\n",
       "      <th>3</th>\n",
       "      <td>4</td>\n",
       "      <td>15701354</td>\n",
       "      <td>Boni</td>\n",
       "      <td>699</td>\n",
       "      <td>France</td>\n",
       "      <td>Female</td>\n",
       "      <td>39</td>\n",
       "      <td>1.0</td>\n",
       "      <td>0.00</td>\n",
       "      <td>2</td>\n",
       "      <td>0</td>\n",
       "      <td>0</td>\n",
       "      <td>93826.63</td>\n",
       "      <td>0</td>\n",
       "    </tr>\n",
       "    <tr>\n",
       "      <th>4</th>\n",
       "      <td>5</td>\n",
       "      <td>15737888</td>\n",
       "      <td>Mitchell</td>\n",
       "      <td>850</td>\n",
       "      <td>Spain</td>\n",
       "      <td>Female</td>\n",
       "      <td>43</td>\n",
       "      <td>2.0</td>\n",
       "      <td>125510.82</td>\n",
       "      <td>1</td>\n",
       "      <td>1</td>\n",
       "      <td>1</td>\n",
       "      <td>79084.10</td>\n",
       "      <td>0</td>\n",
       "    </tr>\n",
       "    <tr>\n",
       "      <th>5</th>\n",
       "      <td>6</td>\n",
       "      <td>15574012</td>\n",
       "      <td>Chu</td>\n",
       "      <td>645</td>\n",
       "      <td>Spain</td>\n",
       "      <td>Male</td>\n",
       "      <td>44</td>\n",
       "      <td>8.0</td>\n",
       "      <td>113755.78</td>\n",
       "      <td>2</td>\n",
       "      <td>1</td>\n",
       "      <td>0</td>\n",
       "      <td>149756.71</td>\n",
       "      <td>1</td>\n",
       "    </tr>\n",
       "    <tr>\n",
       "      <th>6</th>\n",
       "      <td>7</td>\n",
       "      <td>15592531</td>\n",
       "      <td>Bartlett</td>\n",
       "      <td>822</td>\n",
       "      <td>France</td>\n",
       "      <td>Male</td>\n",
       "      <td>50</td>\n",
       "      <td>7.0</td>\n",
       "      <td>0.00</td>\n",
       "      <td>2</td>\n",
       "      <td>1</td>\n",
       "      <td>1</td>\n",
       "      <td>10062.80</td>\n",
       "      <td>0</td>\n",
       "    </tr>\n",
       "    <tr>\n",
       "      <th>7</th>\n",
       "      <td>8</td>\n",
       "      <td>15656148</td>\n",
       "      <td>Obinna</td>\n",
       "      <td>376</td>\n",
       "      <td>Germany</td>\n",
       "      <td>Female</td>\n",
       "      <td>29</td>\n",
       "      <td>4.0</td>\n",
       "      <td>115046.74</td>\n",
       "      <td>4</td>\n",
       "      <td>1</td>\n",
       "      <td>0</td>\n",
       "      <td>119346.88</td>\n",
       "      <td>1</td>\n",
       "    </tr>\n",
       "    <tr>\n",
       "      <th>8</th>\n",
       "      <td>9</td>\n",
       "      <td>15792365</td>\n",
       "      <td>He</td>\n",
       "      <td>501</td>\n",
       "      <td>France</td>\n",
       "      <td>Male</td>\n",
       "      <td>44</td>\n",
       "      <td>4.0</td>\n",
       "      <td>142051.07</td>\n",
       "      <td>2</td>\n",
       "      <td>0</td>\n",
       "      <td>1</td>\n",
       "      <td>74940.50</td>\n",
       "      <td>0</td>\n",
       "    </tr>\n",
       "    <tr>\n",
       "      <th>9</th>\n",
       "      <td>10</td>\n",
       "      <td>15592389</td>\n",
       "      <td>H?</td>\n",
       "      <td>684</td>\n",
       "      <td>France</td>\n",
       "      <td>Male</td>\n",
       "      <td>27</td>\n",
       "      <td>2.0</td>\n",
       "      <td>134603.88</td>\n",
       "      <td>1</td>\n",
       "      <td>1</td>\n",
       "      <td>1</td>\n",
       "      <td>71725.73</td>\n",
       "      <td>0</td>\n",
       "    </tr>\n",
       "  </tbody>\n",
       "</table>\n",
       "</div>"
      ],
      "text/plain": [
       "   RowNumber  CustomerId   Surname  CreditScore Geography  Gender  Age  \\\n",
       "0          1    15634602  Hargrave          619    France  Female   42   \n",
       "1          2    15647311      Hill          608     Spain  Female   41   \n",
       "2          3    15619304      Onio          502    France  Female   42   \n",
       "3          4    15701354      Boni          699    France  Female   39   \n",
       "4          5    15737888  Mitchell          850     Spain  Female   43   \n",
       "5          6    15574012       Chu          645     Spain    Male   44   \n",
       "6          7    15592531  Bartlett          822    France    Male   50   \n",
       "7          8    15656148    Obinna          376   Germany  Female   29   \n",
       "8          9    15792365        He          501    France    Male   44   \n",
       "9         10    15592389        H?          684    France    Male   27   \n",
       "\n",
       "   Tenure    Balance  NumOfProducts  HasCrCard  IsActiveMember  \\\n",
       "0     2.0       0.00              1          1               1   \n",
       "1     1.0   83807.86              1          0               1   \n",
       "2     8.0  159660.80              3          1               0   \n",
       "3     1.0       0.00              2          0               0   \n",
       "4     2.0  125510.82              1          1               1   \n",
       "5     8.0  113755.78              2          1               0   \n",
       "6     7.0       0.00              2          1               1   \n",
       "7     4.0  115046.74              4          1               0   \n",
       "8     4.0  142051.07              2          0               1   \n",
       "9     2.0  134603.88              1          1               1   \n",
       "\n",
       "   EstimatedSalary  Exited  \n",
       "0        101348.88       1  \n",
       "1        112542.58       0  \n",
       "2        113931.57       1  \n",
       "3         93826.63       0  \n",
       "4         79084.10       0  \n",
       "5        149756.71       1  \n",
       "6         10062.80       0  \n",
       "7        119346.88       1  \n",
       "8         74940.50       0  \n",
       "9         71725.73       0  "
      ]
     },
     "execution_count": 3,
     "metadata": {},
     "output_type": "execute_result"
    }
   ],
   "source": [
    "data.head(10)"
   ]
  },
  {
   "cell_type": "code",
   "execution_count": 4,
   "metadata": {},
   "outputs": [
    {
     "name": "stdout",
     "output_type": "stream",
     "text": [
      "<class 'pandas.core.frame.DataFrame'>\n",
      "RangeIndex: 10000 entries, 0 to 9999\n",
      "Data columns (total 14 columns):\n",
      " #   Column           Non-Null Count  Dtype  \n",
      "---  ------           --------------  -----  \n",
      " 0   RowNumber        10000 non-null  int64  \n",
      " 1   CustomerId       10000 non-null  int64  \n",
      " 2   Surname          10000 non-null  object \n",
      " 3   CreditScore      10000 non-null  int64  \n",
      " 4   Geography        10000 non-null  object \n",
      " 5   Gender           10000 non-null  object \n",
      " 6   Age              10000 non-null  int64  \n",
      " 7   Tenure           9091 non-null   float64\n",
      " 8   Balance          10000 non-null  float64\n",
      " 9   NumOfProducts    10000 non-null  int64  \n",
      " 10  HasCrCard        10000 non-null  int64  \n",
      " 11  IsActiveMember   10000 non-null  int64  \n",
      " 12  EstimatedSalary  10000 non-null  float64\n",
      " 13  Exited           10000 non-null  int64  \n",
      "dtypes: float64(3), int64(8), object(3)\n",
      "memory usage: 1.1+ MB\n"
     ]
    }
   ],
   "source": [
    "data.info()"
   ]
  },
  {
   "cell_type": "code",
   "execution_count": 5,
   "metadata": {},
   "outputs": [
    {
     "data": {
      "text/html": [
       "<div>\n",
       "<style scoped>\n",
       "    .dataframe tbody tr th:only-of-type {\n",
       "        vertical-align: middle;\n",
       "    }\n",
       "\n",
       "    .dataframe tbody tr th {\n",
       "        vertical-align: top;\n",
       "    }\n",
       "\n",
       "    .dataframe thead th {\n",
       "        text-align: right;\n",
       "    }\n",
       "</style>\n",
       "<table border=\"1\" class=\"dataframe\">\n",
       "  <thead>\n",
       "    <tr style=\"text-align: right;\">\n",
       "      <th></th>\n",
       "      <th>count</th>\n",
       "      <th>unique</th>\n",
       "      <th>top</th>\n",
       "      <th>freq</th>\n",
       "      <th>mean</th>\n",
       "      <th>std</th>\n",
       "      <th>min</th>\n",
       "      <th>25%</th>\n",
       "      <th>50%</th>\n",
       "      <th>75%</th>\n",
       "      <th>max</th>\n",
       "    </tr>\n",
       "  </thead>\n",
       "  <tbody>\n",
       "    <tr>\n",
       "      <th>RowNumber</th>\n",
       "      <td>10000.0</td>\n",
       "      <td>NaN</td>\n",
       "      <td>NaN</td>\n",
       "      <td>NaN</td>\n",
       "      <td>5000.5</td>\n",
       "      <td>2886.89568</td>\n",
       "      <td>1.0</td>\n",
       "      <td>2500.75</td>\n",
       "      <td>5000.5</td>\n",
       "      <td>7500.25</td>\n",
       "      <td>10000.0</td>\n",
       "    </tr>\n",
       "    <tr>\n",
       "      <th>CustomerId</th>\n",
       "      <td>10000.0</td>\n",
       "      <td>NaN</td>\n",
       "      <td>NaN</td>\n",
       "      <td>NaN</td>\n",
       "      <td>15690940.5694</td>\n",
       "      <td>71936.186123</td>\n",
       "      <td>15565701.0</td>\n",
       "      <td>15628528.25</td>\n",
       "      <td>15690738.0</td>\n",
       "      <td>15753233.75</td>\n",
       "      <td>15815690.0</td>\n",
       "    </tr>\n",
       "    <tr>\n",
       "      <th>Surname</th>\n",
       "      <td>10000</td>\n",
       "      <td>2932</td>\n",
       "      <td>Smith</td>\n",
       "      <td>32</td>\n",
       "      <td>NaN</td>\n",
       "      <td>NaN</td>\n",
       "      <td>NaN</td>\n",
       "      <td>NaN</td>\n",
       "      <td>NaN</td>\n",
       "      <td>NaN</td>\n",
       "      <td>NaN</td>\n",
       "    </tr>\n",
       "    <tr>\n",
       "      <th>CreditScore</th>\n",
       "      <td>10000.0</td>\n",
       "      <td>NaN</td>\n",
       "      <td>NaN</td>\n",
       "      <td>NaN</td>\n",
       "      <td>650.5288</td>\n",
       "      <td>96.653299</td>\n",
       "      <td>350.0</td>\n",
       "      <td>584.0</td>\n",
       "      <td>652.0</td>\n",
       "      <td>718.0</td>\n",
       "      <td>850.0</td>\n",
       "    </tr>\n",
       "    <tr>\n",
       "      <th>Geography</th>\n",
       "      <td>10000</td>\n",
       "      <td>3</td>\n",
       "      <td>France</td>\n",
       "      <td>5014</td>\n",
       "      <td>NaN</td>\n",
       "      <td>NaN</td>\n",
       "      <td>NaN</td>\n",
       "      <td>NaN</td>\n",
       "      <td>NaN</td>\n",
       "      <td>NaN</td>\n",
       "      <td>NaN</td>\n",
       "    </tr>\n",
       "    <tr>\n",
       "      <th>Gender</th>\n",
       "      <td>10000</td>\n",
       "      <td>2</td>\n",
       "      <td>Male</td>\n",
       "      <td>5457</td>\n",
       "      <td>NaN</td>\n",
       "      <td>NaN</td>\n",
       "      <td>NaN</td>\n",
       "      <td>NaN</td>\n",
       "      <td>NaN</td>\n",
       "      <td>NaN</td>\n",
       "      <td>NaN</td>\n",
       "    </tr>\n",
       "    <tr>\n",
       "      <th>Age</th>\n",
       "      <td>10000.0</td>\n",
       "      <td>NaN</td>\n",
       "      <td>NaN</td>\n",
       "      <td>NaN</td>\n",
       "      <td>38.9218</td>\n",
       "      <td>10.487806</td>\n",
       "      <td>18.0</td>\n",
       "      <td>32.0</td>\n",
       "      <td>37.0</td>\n",
       "      <td>44.0</td>\n",
       "      <td>92.0</td>\n",
       "    </tr>\n",
       "    <tr>\n",
       "      <th>Tenure</th>\n",
       "      <td>9091.0</td>\n",
       "      <td>NaN</td>\n",
       "      <td>NaN</td>\n",
       "      <td>NaN</td>\n",
       "      <td>4.99769</td>\n",
       "      <td>2.894723</td>\n",
       "      <td>0.0</td>\n",
       "      <td>2.0</td>\n",
       "      <td>5.0</td>\n",
       "      <td>7.0</td>\n",
       "      <td>10.0</td>\n",
       "    </tr>\n",
       "    <tr>\n",
       "      <th>Balance</th>\n",
       "      <td>10000.0</td>\n",
       "      <td>NaN</td>\n",
       "      <td>NaN</td>\n",
       "      <td>NaN</td>\n",
       "      <td>76485.889288</td>\n",
       "      <td>62397.405202</td>\n",
       "      <td>0.0</td>\n",
       "      <td>0.0</td>\n",
       "      <td>97198.54</td>\n",
       "      <td>127644.24</td>\n",
       "      <td>250898.09</td>\n",
       "    </tr>\n",
       "    <tr>\n",
       "      <th>NumOfProducts</th>\n",
       "      <td>10000.0</td>\n",
       "      <td>NaN</td>\n",
       "      <td>NaN</td>\n",
       "      <td>NaN</td>\n",
       "      <td>1.5302</td>\n",
       "      <td>0.581654</td>\n",
       "      <td>1.0</td>\n",
       "      <td>1.0</td>\n",
       "      <td>1.0</td>\n",
       "      <td>2.0</td>\n",
       "      <td>4.0</td>\n",
       "    </tr>\n",
       "    <tr>\n",
       "      <th>HasCrCard</th>\n",
       "      <td>10000.0</td>\n",
       "      <td>NaN</td>\n",
       "      <td>NaN</td>\n",
       "      <td>NaN</td>\n",
       "      <td>0.7055</td>\n",
       "      <td>0.45584</td>\n",
       "      <td>0.0</td>\n",
       "      <td>0.0</td>\n",
       "      <td>1.0</td>\n",
       "      <td>1.0</td>\n",
       "      <td>1.0</td>\n",
       "    </tr>\n",
       "    <tr>\n",
       "      <th>IsActiveMember</th>\n",
       "      <td>10000.0</td>\n",
       "      <td>NaN</td>\n",
       "      <td>NaN</td>\n",
       "      <td>NaN</td>\n",
       "      <td>0.5151</td>\n",
       "      <td>0.499797</td>\n",
       "      <td>0.0</td>\n",
       "      <td>0.0</td>\n",
       "      <td>1.0</td>\n",
       "      <td>1.0</td>\n",
       "      <td>1.0</td>\n",
       "    </tr>\n",
       "    <tr>\n",
       "      <th>EstimatedSalary</th>\n",
       "      <td>10000.0</td>\n",
       "      <td>NaN</td>\n",
       "      <td>NaN</td>\n",
       "      <td>NaN</td>\n",
       "      <td>100090.239881</td>\n",
       "      <td>57510.492818</td>\n",
       "      <td>11.58</td>\n",
       "      <td>51002.11</td>\n",
       "      <td>100193.915</td>\n",
       "      <td>149388.2475</td>\n",
       "      <td>199992.48</td>\n",
       "    </tr>\n",
       "    <tr>\n",
       "      <th>Exited</th>\n",
       "      <td>10000.0</td>\n",
       "      <td>NaN</td>\n",
       "      <td>NaN</td>\n",
       "      <td>NaN</td>\n",
       "      <td>0.2037</td>\n",
       "      <td>0.402769</td>\n",
       "      <td>0.0</td>\n",
       "      <td>0.0</td>\n",
       "      <td>0.0</td>\n",
       "      <td>0.0</td>\n",
       "      <td>1.0</td>\n",
       "    </tr>\n",
       "  </tbody>\n",
       "</table>\n",
       "</div>"
      ],
      "text/plain": [
       "                   count unique     top  freq           mean           std  \\\n",
       "RowNumber        10000.0    NaN     NaN   NaN         5000.5    2886.89568   \n",
       "CustomerId       10000.0    NaN     NaN   NaN  15690940.5694  71936.186123   \n",
       "Surname            10000   2932   Smith    32            NaN           NaN   \n",
       "CreditScore      10000.0    NaN     NaN   NaN       650.5288     96.653299   \n",
       "Geography          10000      3  France  5014            NaN           NaN   \n",
       "Gender             10000      2    Male  5457            NaN           NaN   \n",
       "Age              10000.0    NaN     NaN   NaN        38.9218     10.487806   \n",
       "Tenure            9091.0    NaN     NaN   NaN        4.99769      2.894723   \n",
       "Balance          10000.0    NaN     NaN   NaN   76485.889288  62397.405202   \n",
       "NumOfProducts    10000.0    NaN     NaN   NaN         1.5302      0.581654   \n",
       "HasCrCard        10000.0    NaN     NaN   NaN         0.7055       0.45584   \n",
       "IsActiveMember   10000.0    NaN     NaN   NaN         0.5151      0.499797   \n",
       "EstimatedSalary  10000.0    NaN     NaN   NaN  100090.239881  57510.492818   \n",
       "Exited           10000.0    NaN     NaN   NaN         0.2037      0.402769   \n",
       "\n",
       "                        min          25%         50%          75%         max  \n",
       "RowNumber               1.0      2500.75      5000.5      7500.25     10000.0  \n",
       "CustomerId       15565701.0  15628528.25  15690738.0  15753233.75  15815690.0  \n",
       "Surname                 NaN          NaN         NaN          NaN         NaN  \n",
       "CreditScore           350.0        584.0       652.0        718.0       850.0  \n",
       "Geography               NaN          NaN         NaN          NaN         NaN  \n",
       "Gender                  NaN          NaN         NaN          NaN         NaN  \n",
       "Age                    18.0         32.0        37.0         44.0        92.0  \n",
       "Tenure                  0.0          2.0         5.0          7.0        10.0  \n",
       "Balance                 0.0          0.0    97198.54    127644.24   250898.09  \n",
       "NumOfProducts           1.0          1.0         1.0          2.0         4.0  \n",
       "HasCrCard               0.0          0.0         1.0          1.0         1.0  \n",
       "IsActiveMember          0.0          0.0         1.0          1.0         1.0  \n",
       "EstimatedSalary       11.58     51002.11  100193.915  149388.2475   199992.48  \n",
       "Exited                  0.0          0.0         0.0          0.0         1.0  "
      ]
     },
     "execution_count": 5,
     "metadata": {},
     "output_type": "execute_result"
    }
   ],
   "source": [
    "data.describe(include='all').T"
   ]
  },
  {
   "cell_type": "markdown",
   "metadata": {},
   "source": [
    "Описание даных:\n",
    "    \n",
    "- Признаки\n",
    "    - RowNumber — индекс строки в данных\n",
    "    - CustomerId — уникальный идентификатор клиента\n",
    "    - Surname — фамилия\n",
    "    - CreditScore — кредитный рейтинг\n",
    "    - Geography — страна проживания\n",
    "    - Gender — пол\n",
    "    - Age — возраст\n",
    "    - Tenure — сколько лет человек является клиентом банка\n",
    "    - Balance — баланс на счёте\n",
    "    - NumOfProducts — количество продуктов банка, используемых клиентом\n",
    "    - HasCrCard — наличие кредитной карты\n",
    "    - IsActiveMember — активность клиента\n",
    "    - EstimatedSalary — предполагаемая зарплата\n",
    "- Целевой признак\n",
    "    - Exited — факт ухода клиента\n",
    "    \n",
    "Построим общую гистограмму для всех чиловых столбцов таблицы."
   ]
  },
  {
   "cell_type": "code",
   "execution_count": 6,
   "metadata": {},
   "outputs": [
    {
     "data": {
      "image/png": "[encoded data removed]",
      "text/plain": [
       "<Figure size 1080x1440 with 12 Axes>"
      ]
     },
     "metadata": {
      "needs_background": "light"
     },
     "output_type": "display_data"
    }
   ],
   "source": [
    "data.hist(figsize=(15, 20))\n",
    "plt.show()"
   ]
  },
  {
   "cell_type": "markdown",
   "metadata": {},
   "source": [
    "**Вывод:** \n",
    "- Столбцы RowNumber и Customer_id ивляются уникальными идентификаторами строки и клиента, поэтому особенного интереса для исследования не представляют.\n",
    "- CreditScore находится в диапазоне от 350 до 850 и представляет из себя некоторое число, оцениваюищее кредитоспособность заемщика на основе некоторых факторов риска. Столбец распределен нормально.\n",
    "- Основная возрастная категория оцениваемых клиентов 32 - 44 года.\n",
    "- В выборку попали клиенты банка с клиентским стажем не более 10 лет. В этом столбце имеются пропуски.\n",
    "- На момент проведения исследования 25% клиентов имеют на балансе 0 у.е. На графике можно увидеть рост баланса после значения 50000. Медиана составляет 97198.54 у.е.\n",
    "- Большинство клиентов имеют 1 или 2 продукта банка.\n",
    "- Клиентов имеющих кредитную карту больше чем не имеющих более чем в два раза.\n",
    "- Количество активных и неактивных клиентов в районе 5 тыс. человек с небольшим перевесом активных. Данные не раскрывают нам, что подразумевается под активностью. Из столбца Balance можно понять, что какая-то часть неактивных клиентов может иметь ненулевой баланс. Вероятно это те клиенты кто в течение определенного времени не совершал операции с банковскими продуктами.\n",
    "- Зарплаты в нашем датасете распределены примерно равнеомерно.\n",
    "- Количество ушедших клиентов в 4 раза меньше чем оставшихся. Видим дисбаланс классов."
   ]
  },
  {
   "cell_type": "markdown",
   "metadata": {},
   "source": [
    "### Предобработка данных"
   ]
  },
  {
   "cell_type": "markdown",
   "metadata": {},
   "source": [
    "#### Стиль заголовков"
   ]
  },
  {
   "cell_type": "markdown",
   "metadata": {},
   "source": [
    "Выведем на экран список столбцов"
   ]
  },
  {
   "cell_type": "code",
   "execution_count": 7,
   "metadata": {},
   "outputs": [
    {
     "data": {
      "text/plain": [
       "Index(['RowNumber', 'CustomerId', 'Surname', 'CreditScore', 'Geography',\n",
       "       'Gender', 'Age', 'Tenure', 'Balance', 'NumOfProducts', 'HasCrCard',\n",
       "       'IsActiveMember', 'EstimatedSalary', 'Exited'],\n",
       "      dtype='object')"
      ]
     },
     "execution_count": 7,
     "metadata": {},
     "output_type": "execute_result"
    }
   ],
   "source": [
    "data.columns"
   ]
  },
  {
   "cell_type": "markdown",
   "metadata": {},
   "source": [
    "Все столбцы не соответсвуют хорошему стилю из-за \"верблюжьего\" регистра. Приведем все названия к \"змеиному\" регистру и сделаем проверку."
   ]
  },
  {
   "cell_type": "code",
   "execution_count": 8,
   "metadata": {},
   "outputs": [
    {
     "data": {
      "text/plain": [
       "Index(['row_number', 'customer_id', 'surname', 'credit_score', 'geography',\n",
       "       'gender', 'age', 'tenure', 'balance', 'num_of_products', 'has_cr_card',\n",
       "       'is_active_member', 'estimated_salary', 'exited'],\n",
       "      dtype='object')"
      ]
     },
     "execution_count": 8,
     "metadata": {},
     "output_type": "execute_result"
    }
   ],
   "source": [
    "data = data.rename(columns={'RowNumber':'row_number', 'CustomerId':'customer_id', 'Surname':'surname', 'CreditScore':'credit_score',\n",
    "                           'Geography':'geography', 'Gender':'gender', 'Age':'age' ,'Tenure':'tenure' ,'Balance':'balance',\n",
    "                           'NumOfProducts':'num_of_products', 'HasCrCard':'has_cr_card', 'IsActiveMember':'is_active_member',\n",
    "                           'EstimatedSalary':'estimated_salary', 'Exited':'exited'})\n",
    "data.columns"
   ]
  },
  {
   "cell_type": "markdown",
   "metadata": {},
   "source": [
    "Готово."
   ]
  },
  {
   "cell_type": "markdown",
   "metadata": {},
   "source": [
    "#### Обработка пропусков"
   ]
  },
  {
   "cell_type": "markdown",
   "metadata": {},
   "source": [
    "Посмотрим на количество пропусков."
   ]
  },
  {
   "cell_type": "code",
   "execution_count": 9,
   "metadata": {},
   "outputs": [
    {
     "data": {
      "text/plain": [
       "row_number            0\n",
       "customer_id           0\n",
       "surname               0\n",
       "credit_score          0\n",
       "geography             0\n",
       "gender                0\n",
       "age                   0\n",
       "tenure              909\n",
       "balance               0\n",
       "num_of_products       0\n",
       "has_cr_card           0\n",
       "is_active_member      0\n",
       "estimated_salary      0\n",
       "exited                0\n",
       "dtype: int64"
      ]
     },
     "execution_count": 9,
     "metadata": {},
     "output_type": "execute_result"
    }
   ],
   "source": [
    "data.isna().sum()"
   ]
  },
  {
   "cell_type": "markdown",
   "metadata": {},
   "source": [
    "В нашем датасете имеем пропуски только в столбце `tenure`. Их количество состовляет около 9%. Адекватную замену мы предложить не можем, также sklearn не может работать с пропущенными значениями. Удалим их."
   ]
  },
  {
   "cell_type": "code",
   "execution_count": 10,
   "metadata": {},
   "outputs": [],
   "source": [
    "data = data.dropna(subset=['tenure']).reset_index(drop=True)"
   ]
  },
  {
   "cell_type": "markdown",
   "metadata": {},
   "source": [
    "Проверим."
   ]
  },
  {
   "cell_type": "code",
   "execution_count": 11,
   "metadata": {},
   "outputs": [
    {
     "data": {
      "text/plain": [
       "row_number          0\n",
       "customer_id         0\n",
       "surname             0\n",
       "credit_score        0\n",
       "geography           0\n",
       "gender              0\n",
       "age                 0\n",
       "tenure              0\n",
       "balance             0\n",
       "num_of_products     0\n",
       "has_cr_card         0\n",
       "is_active_member    0\n",
       "estimated_salary    0\n",
       "exited              0\n",
       "dtype: int64"
      ]
     },
     "execution_count": 11,
     "metadata": {},
     "output_type": "execute_result"
    }
   ],
   "source": [
    "data.isna().sum()"
   ]
  },
  {
   "cell_type": "markdown",
   "metadata": {},
   "source": [
    "Пропущенных значений нет."
   ]
  },
  {
   "cell_type": "markdown",
   "metadata": {},
   "source": [
    "#### Обработка дубликатов"
   ]
  },
  {
   "cell_type": "markdown",
   "metadata": {},
   "source": [
    "Проверим таблицу на наличие явных дубликатов."
   ]
  },
  {
   "cell_type": "code",
   "execution_count": 12,
   "metadata": {},
   "outputs": [
    {
     "data": {
      "text/plain": [
       "0"
      ]
     },
     "execution_count": 12,
     "metadata": {},
     "output_type": "execute_result"
    }
   ],
   "source": [
    "data.duplicated().sum()"
   ]
  },
  {
   "cell_type": "markdown",
   "metadata": {},
   "source": [
    "Явных дубликатов нет. Дополнительно проверим дубликаты в столбцах `geografy` и `gender`."
   ]
  },
  {
   "cell_type": "code",
   "execution_count": 13,
   "metadata": {},
   "outputs": [
    {
     "data": {
      "text/plain": [
       "France     4550\n",
       "Germany    2293\n",
       "Spain      2248\n",
       "Name: geography, dtype: int64"
      ]
     },
     "execution_count": 13,
     "metadata": {},
     "output_type": "execute_result"
    }
   ],
   "source": [
    "# стобец geography\n",
    "data['geography'].value_counts()"
   ]
  },
  {
   "cell_type": "markdown",
   "metadata": {},
   "source": [
    "Имеем дело с клиентами из трех стран: Франция, Германия, Испания."
   ]
  },
  {
   "cell_type": "code",
   "execution_count": 14,
   "metadata": {},
   "outputs": [
    {
     "data": {
      "text/plain": [
       "Male      4974\n",
       "Female    4117\n",
       "Name: gender, dtype: int64"
      ]
     },
     "execution_count": 14,
     "metadata": {},
     "output_type": "execute_result"
    }
   ],
   "source": [
    "# стобец gender\n",
    "data['gender'].value_counts()"
   ]
  },
  {
   "cell_type": "markdown",
   "metadata": {},
   "source": [
    "Все в порядке.\n",
    "\n",
    "Дубликаты в датасете не обнаружены."
   ]
  },
  {
   "cell_type": "markdown",
   "metadata": {},
   "source": [
    "#### Обработка аномальных значений"
   ]
  },
  {
   "cell_type": "markdown",
   "metadata": {},
   "source": [
    "Выведем информацию обо всех количественных полях таблицы."
   ]
  },
  {
   "cell_type": "code",
   "execution_count": 15,
   "metadata": {},
   "outputs": [
    {
     "data": {
      "text/html": [
       "<div>\n",
       "<style scoped>\n",
       "    .dataframe tbody tr th:only-of-type {\n",
       "        vertical-align: middle;\n",
       "    }\n",
       "\n",
       "    .dataframe tbody tr th {\n",
       "        vertical-align: top;\n",
       "    }\n",
       "\n",
       "    .dataframe thead th {\n",
       "        text-align: right;\n",
       "    }\n",
       "</style>\n",
       "<table border=\"1\" class=\"dataframe\">\n",
       "  <thead>\n",
       "    <tr style=\"text-align: right;\">\n",
       "      <th></th>\n",
       "      <th>credit_score</th>\n",
       "      <th>age</th>\n",
       "      <th>tenure</th>\n",
       "      <th>balance</th>\n",
       "      <th>num_of_products</th>\n",
       "      <th>estimated_salary</th>\n",
       "    </tr>\n",
       "  </thead>\n",
       "  <tbody>\n",
       "    <tr>\n",
       "      <th>count</th>\n",
       "      <td>9091.000000</td>\n",
       "      <td>9091.000000</td>\n",
       "      <td>9091.000000</td>\n",
       "      <td>9091.000000</td>\n",
       "      <td>9091.000000</td>\n",
       "      <td>9091.000000</td>\n",
       "    </tr>\n",
       "    <tr>\n",
       "      <th>mean</th>\n",
       "      <td>650.736553</td>\n",
       "      <td>38.949181</td>\n",
       "      <td>4.997690</td>\n",
       "      <td>76522.740015</td>\n",
       "      <td>1.530195</td>\n",
       "      <td>100181.214924</td>\n",
       "    </tr>\n",
       "    <tr>\n",
       "      <th>std</th>\n",
       "      <td>96.410471</td>\n",
       "      <td>10.555581</td>\n",
       "      <td>2.894723</td>\n",
       "      <td>62329.528576</td>\n",
       "      <td>0.581003</td>\n",
       "      <td>57624.755647</td>\n",
       "    </tr>\n",
       "    <tr>\n",
       "      <th>min</th>\n",
       "      <td>350.000000</td>\n",
       "      <td>18.000000</td>\n",
       "      <td>0.000000</td>\n",
       "      <td>0.000000</td>\n",
       "      <td>1.000000</td>\n",
       "      <td>11.580000</td>\n",
       "    </tr>\n",
       "    <tr>\n",
       "      <th>25%</th>\n",
       "      <td>584.000000</td>\n",
       "      <td>32.000000</td>\n",
       "      <td>2.000000</td>\n",
       "      <td>0.000000</td>\n",
       "      <td>1.000000</td>\n",
       "      <td>51227.745000</td>\n",
       "    </tr>\n",
       "    <tr>\n",
       "      <th>50%</th>\n",
       "      <td>652.000000</td>\n",
       "      <td>37.000000</td>\n",
       "      <td>5.000000</td>\n",
       "      <td>97318.250000</td>\n",
       "      <td>1.000000</td>\n",
       "      <td>100240.200000</td>\n",
       "    </tr>\n",
       "    <tr>\n",
       "      <th>75%</th>\n",
       "      <td>717.000000</td>\n",
       "      <td>44.000000</td>\n",
       "      <td>7.000000</td>\n",
       "      <td>127561.890000</td>\n",
       "      <td>2.000000</td>\n",
       "      <td>149567.210000</td>\n",
       "    </tr>\n",
       "    <tr>\n",
       "      <th>max</th>\n",
       "      <td>850.000000</td>\n",
       "      <td>92.000000</td>\n",
       "      <td>10.000000</td>\n",
       "      <td>250898.090000</td>\n",
       "      <td>4.000000</td>\n",
       "      <td>199992.480000</td>\n",
       "    </tr>\n",
       "  </tbody>\n",
       "</table>\n",
       "</div>"
      ],
      "text/plain": [
       "       credit_score          age       tenure        balance  num_of_products  \\\n",
       "count   9091.000000  9091.000000  9091.000000    9091.000000      9091.000000   \n",
       "mean     650.736553    38.949181     4.997690   76522.740015         1.530195   \n",
       "std       96.410471    10.555581     2.894723   62329.528576         0.581003   \n",
       "min      350.000000    18.000000     0.000000       0.000000         1.000000   \n",
       "25%      584.000000    32.000000     2.000000       0.000000         1.000000   \n",
       "50%      652.000000    37.000000     5.000000   97318.250000         1.000000   \n",
       "75%      717.000000    44.000000     7.000000  127561.890000         2.000000   \n",
       "max      850.000000    92.000000    10.000000  250898.090000         4.000000   \n",
       "\n",
       "       estimated_salary  \n",
       "count       9091.000000  \n",
       "mean      100181.214924  \n",
       "std        57624.755647  \n",
       "min           11.580000  \n",
       "25%        51227.745000  \n",
       "50%       100240.200000  \n",
       "75%       149567.210000  \n",
       "max       199992.480000  "
      ]
     },
     "execution_count": 15,
     "metadata": {},
     "output_type": "execute_result"
    }
   ],
   "source": [
    "data[['credit_score', 'age', 'tenure', 'balance', 'num_of_products', 'estimated_salary']].describe()"
   ]
  },
  {
   "cell_type": "markdown",
   "metadata": {},
   "source": [
    "Все значения адекватны и их можно объяснить логически.\n",
    "\n",
    "Мы имеем столбцы с идентификаторами, которые могут помешать нам построить модель. Это столбцы `row_number`, `customer_id`, `surname`. Удалим эти поля."
   ]
  },
  {
   "cell_type": "code",
   "execution_count": 16,
   "metadata": {},
   "outputs": [
    {
     "data": {
      "text/html": [
       "<div>\n",
       "<style scoped>\n",
       "    .dataframe tbody tr th:only-of-type {\n",
       "        vertical-align: middle;\n",
       "    }\n",
       "\n",
       "    .dataframe tbody tr th {\n",
       "        vertical-align: top;\n",
       "    }\n",
       "\n",
       "    .dataframe thead th {\n",
       "        text-align: right;\n",
       "    }\n",
       "</style>\n",
       "<table border=\"1\" class=\"dataframe\">\n",
       "  <thead>\n",
       "    <tr style=\"text-align: right;\">\n",
       "      <th></th>\n",
       "      <th>credit_score</th>\n",
       "      <th>geography</th>\n",
       "      <th>gender</th>\n",
       "      <th>age</th>\n",
       "      <th>tenure</th>\n",
       "      <th>balance</th>\n",
       "      <th>num_of_products</th>\n",
       "      <th>has_cr_card</th>\n",
       "      <th>is_active_member</th>\n",
       "      <th>estimated_salary</th>\n",
       "      <th>exited</th>\n",
       "    </tr>\n",
       "  </thead>\n",
       "  <tbody>\n",
       "    <tr>\n",
       "      <th>0</th>\n",
       "      <td>619</td>\n",
       "      <td>France</td>\n",
       "      <td>Female</td>\n",
       "      <td>42</td>\n",
       "      <td>2.0</td>\n",
       "      <td>0.00</td>\n",
       "      <td>1</td>\n",
       "      <td>1</td>\n",
       "      <td>1</td>\n",
       "      <td>101348.88</td>\n",
       "      <td>1</td>\n",
       "    </tr>\n",
       "    <tr>\n",
       "      <th>1</th>\n",
       "      <td>608</td>\n",
       "      <td>Spain</td>\n",
       "      <td>Female</td>\n",
       "      <td>41</td>\n",
       "      <td>1.0</td>\n",
       "      <td>83807.86</td>\n",
       "      <td>1</td>\n",
       "      <td>0</td>\n",
       "      <td>1</td>\n",
       "      <td>112542.58</td>\n",
       "      <td>0</td>\n",
       "    </tr>\n",
       "    <tr>\n",
       "      <th>2</th>\n",
       "      <td>502</td>\n",
       "      <td>France</td>\n",
       "      <td>Female</td>\n",
       "      <td>42</td>\n",
       "      <td>8.0</td>\n",
       "      <td>159660.80</td>\n",
       "      <td>3</td>\n",
       "      <td>1</td>\n",
       "      <td>0</td>\n",
       "      <td>113931.57</td>\n",
       "      <td>1</td>\n",
       "    </tr>\n",
       "    <tr>\n",
       "      <th>3</th>\n",
       "      <td>699</td>\n",
       "      <td>France</td>\n",
       "      <td>Female</td>\n",
       "      <td>39</td>\n",
       "      <td>1.0</td>\n",
       "      <td>0.00</td>\n",
       "      <td>2</td>\n",
       "      <td>0</td>\n",
       "      <td>0</td>\n",
       "      <td>93826.63</td>\n",
       "      <td>0</td>\n",
       "    </tr>\n",
       "    <tr>\n",
       "      <th>4</th>\n",
       "      <td>850</td>\n",
       "      <td>Spain</td>\n",
       "      <td>Female</td>\n",
       "      <td>43</td>\n",
       "      <td>2.0</td>\n",
       "      <td>125510.82</td>\n",
       "      <td>1</td>\n",
       "      <td>1</td>\n",
       "      <td>1</td>\n",
       "      <td>79084.10</td>\n",
       "      <td>0</td>\n",
       "    </tr>\n",
       "  </tbody>\n",
       "</table>\n",
       "</div>"
      ],
      "text/plain": [
       "   credit_score geography  gender  age  tenure    balance  num_of_products  \\\n",
       "0           619    France  Female   42     2.0       0.00                1   \n",
       "1           608     Spain  Female   41     1.0   83807.86                1   \n",
       "2           502    France  Female   42     8.0  159660.80                3   \n",
       "3           699    France  Female   39     1.0       0.00                2   \n",
       "4           850     Spain  Female   43     2.0  125510.82                1   \n",
       "\n",
       "   has_cr_card  is_active_member  estimated_salary  exited  \n",
       "0            1                 1         101348.88       1  \n",
       "1            0                 1         112542.58       0  \n",
       "2            1                 0         113931.57       1  \n",
       "3            0                 0          93826.63       0  \n",
       "4            1                 1          79084.10       0  "
      ]
     },
     "execution_count": 16,
     "metadata": {},
     "output_type": "execute_result"
    }
   ],
   "source": [
    "data = data.drop(['row_number', 'customer_id', 'surname'], axis=1)\n",
    "data.head()"
   ]
  },
  {
   "cell_type": "markdown",
   "metadata": {},
   "source": [
    "**Вывод:** В результате предобработки данных мы:\n",
    "- поменяли названия всех столбцов.\n",
    "- удалили пропуски в столбце `tenure` (9.09% данных)\n",
    "- удалили столбцы `row_number`, `customer_id`, `surname` за ненадобностью\n",
    "\n",
    "Дубликаты и аномалии обнаружены не были."
   ]
  },
  {
   "cell_type": "markdown",
   "metadata": {},
   "source": [
    "### Разбиение данных"
   ]
  },
  {
   "cell_type": "markdown",
   "metadata": {},
   "source": [
    "Данные нужно разбить на три части: обучающую, валидационную и тестовую в соотношении 3:1:1.\n",
    "- Обучающая - 60%\n",
    "- Тестовая - 20%\n",
    "- Валидационная - 20%"
   ]
  },
  {
   "cell_type": "code",
   "execution_count": 17,
   "metadata": {},
   "outputs": [],
   "source": [
    "features = data.drop(['exited'], axis=1) \n",
    "target = data['exited'] \n",
    "\n",
    "# для начала разделим данные для выделения обучающей выборки.\n",
    "features_train, features_test_valid, target_train, target_test_valid = train_test_split(\n",
    "    features, target, train_size=0.6, random_state=96)\n",
    "\n",
    "# теперь разделим получившуюся тестовую выборку на тестовую и валидационную\n",
    "features_test, features_valid, target_test, target_valid = train_test_split(\n",
    "    features_test_valid, target_test_valid, train_size=0.5, random_state=96)"
   ]
  },
  {
   "cell_type": "markdown",
   "metadata": {},
   "source": [
    "Проверим размеры выборок:"
   ]
  },
  {
   "cell_type": "code",
   "execution_count": 18,
   "metadata": {},
   "outputs": [
    {
     "name": "stdout",
     "output_type": "stream",
     "text": [
      "Размер фрейма признаков обучающей выборки: (5454, 10)\n",
      "Размер фрейма целевого признака обучающей выборки: (5454,)\n",
      "Размер фрейма признаков валидационной выборки: (1819, 10)\n",
      "Размер фрейма целевого признака валидационной выборки: (1819,)\n",
      "Размер фрейма признаков тестовой выборки: (1818, 10)\n",
      "Размер фрейма целевого признака тестовой выборки: (1818,)\n"
     ]
    }
   ],
   "source": [
    "print('Размер фрейма признаков обучающей выборки:', features_train.shape)\n",
    "print('Размер фрейма целевого признака обучающей выборки:', target_train.shape)\n",
    "print('Размер фрейма признаков валидационной выборки:', features_valid.shape)\n",
    "print('Размер фрейма целевого признака валидационной выборки:', target_valid.shape)\n",
    "print('Размер фрейма признаков тестовой выборки:', features_test.shape)\n",
    "print('Размер фрейма целевого признака тестовой выборки:', target_test.shape)"
   ]
  },
  {
   "cell_type": "markdown",
   "metadata": {},
   "source": [
    "Все правильно.\n",
    "\n",
    "**Вывод:** Мы разделили данные на три части обучающую, валидационную и тестовую в соотношении 3:1:1."
   ]
  },
  {
   "cell_type": "markdown",
   "metadata": {},
   "source": [
    "### Кодирование категоральных переменных"
   ]
  },
  {
   "cell_type": "markdown",
   "metadata": {},
   "source": [
    "У нас есть категоральные признаки (`geography`, `gender`), которые мы должны преобразовать в числа. Для этого воспользуемся техникой **One-Hot Encoding (OHE)**. Эта техника универсальна, и подойдет для построения любых моделей."
   ]
  },
  {
   "cell_type": "code",
   "execution_count": 19,
   "metadata": {},
   "outputs": [
    {
     "data": {
      "text/html": [
       "<div>\n",
       "<style scoped>\n",
       "    .dataframe tbody tr th:only-of-type {\n",
       "        vertical-align: middle;\n",
       "    }\n",
       "\n",
       "    .dataframe tbody tr th {\n",
       "        vertical-align: top;\n",
       "    }\n",
       "\n",
       "    .dataframe thead th {\n",
       "        text-align: right;\n",
       "    }\n",
       "</style>\n",
       "<table border=\"1\" class=\"dataframe\">\n",
       "  <thead>\n",
       "    <tr style=\"text-align: right;\">\n",
       "      <th></th>\n",
       "      <th>credit_score</th>\n",
       "      <th>age</th>\n",
       "      <th>tenure</th>\n",
       "      <th>balance</th>\n",
       "      <th>num_of_products</th>\n",
       "      <th>has_cr_card</th>\n",
       "      <th>is_active_member</th>\n",
       "      <th>estimated_salary</th>\n",
       "      <th>geography_Germany</th>\n",
       "      <th>geography_Spain</th>\n",
       "      <th>gender_Male</th>\n",
       "    </tr>\n",
       "  </thead>\n",
       "  <tbody>\n",
       "    <tr>\n",
       "      <th>4566</th>\n",
       "      <td>850</td>\n",
       "      <td>33</td>\n",
       "      <td>3.0</td>\n",
       "      <td>0.00</td>\n",
       "      <td>2</td>\n",
       "      <td>1</td>\n",
       "      <td>1</td>\n",
       "      <td>11159.19</td>\n",
       "      <td>0.0</td>\n",
       "      <td>0.0</td>\n",
       "      <td>0.0</td>\n",
       "    </tr>\n",
       "    <tr>\n",
       "      <th>5086</th>\n",
       "      <td>623</td>\n",
       "      <td>40</td>\n",
       "      <td>4.0</td>\n",
       "      <td>0.00</td>\n",
       "      <td>3</td>\n",
       "      <td>1</td>\n",
       "      <td>0</td>\n",
       "      <td>31669.18</td>\n",
       "      <td>0.0</td>\n",
       "      <td>1.0</td>\n",
       "      <td>0.0</td>\n",
       "    </tr>\n",
       "    <tr>\n",
       "      <th>8226</th>\n",
       "      <td>630</td>\n",
       "      <td>55</td>\n",
       "      <td>2.0</td>\n",
       "      <td>0.00</td>\n",
       "      <td>1</td>\n",
       "      <td>1</td>\n",
       "      <td>1</td>\n",
       "      <td>106202.07</td>\n",
       "      <td>0.0</td>\n",
       "      <td>0.0</td>\n",
       "      <td>1.0</td>\n",
       "    </tr>\n",
       "    <tr>\n",
       "      <th>7599</th>\n",
       "      <td>499</td>\n",
       "      <td>60</td>\n",
       "      <td>7.0</td>\n",
       "      <td>76961.60</td>\n",
       "      <td>2</td>\n",
       "      <td>1</td>\n",
       "      <td>1</td>\n",
       "      <td>83643.87</td>\n",
       "      <td>0.0</td>\n",
       "      <td>0.0</td>\n",
       "      <td>1.0</td>\n",
       "    </tr>\n",
       "    <tr>\n",
       "      <th>3054</th>\n",
       "      <td>581</td>\n",
       "      <td>40</td>\n",
       "      <td>0.0</td>\n",
       "      <td>101016.53</td>\n",
       "      <td>1</td>\n",
       "      <td>0</td>\n",
       "      <td>1</td>\n",
       "      <td>7926.35</td>\n",
       "      <td>1.0</td>\n",
       "      <td>0.0</td>\n",
       "      <td>1.0</td>\n",
       "    </tr>\n",
       "  </tbody>\n",
       "</table>\n",
       "</div>"
      ],
      "text/plain": [
       "      credit_score  age  tenure    balance  num_of_products  has_cr_card  \\\n",
       "4566           850   33     3.0       0.00                2            1   \n",
       "5086           623   40     4.0       0.00                3            1   \n",
       "8226           630   55     2.0       0.00                1            1   \n",
       "7599           499   60     7.0   76961.60                2            1   \n",
       "3054           581   40     0.0  101016.53                1            0   \n",
       "\n",
       "      is_active_member  estimated_salary  geography_Germany  geography_Spain  \\\n",
       "4566                 1          11159.19                0.0              0.0   \n",
       "5086                 0          31669.18                0.0              1.0   \n",
       "8226                 1         106202.07                0.0              0.0   \n",
       "7599                 1          83643.87                0.0              0.0   \n",
       "3054                 1           7926.35                1.0              0.0   \n",
       "\n",
       "      gender_Male  \n",
       "4566          0.0  \n",
       "5086          0.0  \n",
       "8226          1.0  \n",
       "7599          1.0  \n",
       "3054          1.0  "
      ]
     },
     "execution_count": 19,
     "metadata": {},
     "output_type": "execute_result"
    }
   ],
   "source": [
    "ohe_features = ['geography', 'gender']\n",
    "\n",
    "# drop='first' удаляет первый признак из закодированных:\n",
    "# таким образом обходим dummy-ловушку\n",
    "# задаём handle_unknown='ignore':\n",
    "# игнорируется ранее невстречающиеся значения признака (при transform)\n",
    "encoder_ohe = OneHotEncoder(drop='first', handle_unknown='ignore', sparse=False)\n",
    "\n",
    "# обучаем энкодер на тренировочной выборке\n",
    "encoder_ohe.fit(features_train[ohe_features])\n",
    "\n",
    "# добавляем закодированные признакии удаляем изначальные\n",
    "features_train[encoder_ohe.get_feature_names_out()] = encoder_ohe.transform(features_train[ohe_features])\n",
    "features_train = features_train.drop(ohe_features, axis=1)\n",
    "\n",
    "features_train.head()"
   ]
  },
  {
   "cell_type": "markdown",
   "metadata": {},
   "source": [
    "Все успешно. Теперь закодируем валидационную и тестовую выборки."
   ]
  },
  {
   "cell_type": "code",
   "execution_count": 20,
   "metadata": {},
   "outputs": [
    {
     "name": "stdout",
     "output_type": "stream",
     "text": [
      "Размер тренировочной выборки: (5454, 11)\n",
      "Размер валидационной выборки: (1819, 11)\n",
      "Размер тестовой выборки: (1818, 11)\n"
     ]
    }
   ],
   "source": [
    "# кодируем валидационную выборку\n",
    "features_valid[encoder_ohe.get_feature_names_out()] = encoder_ohe.transform(features_valid[ohe_features])\n",
    "features_valid = features_valid.drop(ohe_features, axis=1)\n",
    "\n",
    "# тестовую выборку\n",
    "features_test[encoder_ohe.get_feature_names_out()] = encoder_ohe.transform(features_test[ohe_features])\n",
    "features_test = features_test.drop(ohe_features, axis=1)\n",
    "\n",
    "print('Размер тренировочной выборки:', features_train.shape)\n",
    "print('Размер валидационной выборки:', features_valid.shape)\n",
    "print('Размер тестовой выборки:', features_test.shape)"
   ]
  },
  {
   "cell_type": "markdown",
   "metadata": {},
   "source": [
    "**Вывод:** Мы закодировали категоральные признаки (geography, gender) в количественые с помощью техники OHE."
   ]
  },
  {
   "cell_type": "markdown",
   "metadata": {},
   "source": [
    "### Масштабирование признаков"
   ]
  },
  {
   "cell_type": "markdown",
   "metadata": {},
   "source": [
    "Выведем информацию о количественных признаках:"
   ]
  },
  {
   "cell_type": "code",
   "execution_count": 21,
   "metadata": {
    "scrolled": false
   },
   "outputs": [
    {
     "data": {
      "text/html": [
       "<div>\n",
       "<style scoped>\n",
       "    .dataframe tbody tr th:only-of-type {\n",
       "        vertical-align: middle;\n",
       "    }\n",
       "\n",
       "    .dataframe tbody tr th {\n",
       "        vertical-align: top;\n",
       "    }\n",
       "\n",
       "    .dataframe thead th {\n",
       "        text-align: right;\n",
       "    }\n",
       "</style>\n",
       "<table border=\"1\" class=\"dataframe\">\n",
       "  <thead>\n",
       "    <tr style=\"text-align: right;\">\n",
       "      <th></th>\n",
       "      <th>credit_score</th>\n",
       "      <th>age</th>\n",
       "      <th>tenure</th>\n",
       "      <th>balance</th>\n",
       "      <th>num_of_products</th>\n",
       "      <th>has_cr_card</th>\n",
       "      <th>is_active_member</th>\n",
       "      <th>estimated_salary</th>\n",
       "      <th>exited</th>\n",
       "    </tr>\n",
       "  </thead>\n",
       "  <tbody>\n",
       "    <tr>\n",
       "      <th>count</th>\n",
       "      <td>9091.000000</td>\n",
       "      <td>9091.000000</td>\n",
       "      <td>9091.000000</td>\n",
       "      <td>9091.000000</td>\n",
       "      <td>9091.000000</td>\n",
       "      <td>9091.000000</td>\n",
       "      <td>9091.000000</td>\n",
       "      <td>9091.000000</td>\n",
       "      <td>9091.000000</td>\n",
       "    </tr>\n",
       "    <tr>\n",
       "      <th>mean</th>\n",
       "      <td>650.736553</td>\n",
       "      <td>38.949181</td>\n",
       "      <td>4.997690</td>\n",
       "      <td>76522.740015</td>\n",
       "      <td>1.530195</td>\n",
       "      <td>0.704983</td>\n",
       "      <td>0.515565</td>\n",
       "      <td>100181.214924</td>\n",
       "      <td>0.203938</td>\n",
       "    </tr>\n",
       "    <tr>\n",
       "      <th>std</th>\n",
       "      <td>96.410471</td>\n",
       "      <td>10.555581</td>\n",
       "      <td>2.894723</td>\n",
       "      <td>62329.528576</td>\n",
       "      <td>0.581003</td>\n",
       "      <td>0.456076</td>\n",
       "      <td>0.499785</td>\n",
       "      <td>57624.755647</td>\n",
       "      <td>0.402946</td>\n",
       "    </tr>\n",
       "    <tr>\n",
       "      <th>min</th>\n",
       "      <td>350.000000</td>\n",
       "      <td>18.000000</td>\n",
       "      <td>0.000000</td>\n",
       "      <td>0.000000</td>\n",
       "      <td>1.000000</td>\n",
       "      <td>0.000000</td>\n",
       "      <td>0.000000</td>\n",
       "      <td>11.580000</td>\n",
       "      <td>0.000000</td>\n",
       "    </tr>\n",
       "    <tr>\n",
       "      <th>25%</th>\n",
       "      <td>584.000000</td>\n",
       "      <td>32.000000</td>\n",
       "      <td>2.000000</td>\n",
       "      <td>0.000000</td>\n",
       "      <td>1.000000</td>\n",
       "      <td>0.000000</td>\n",
       "      <td>0.000000</td>\n",
       "      <td>51227.745000</td>\n",
       "      <td>0.000000</td>\n",
       "    </tr>\n",
       "    <tr>\n",
       "      <th>50%</th>\n",
       "      <td>652.000000</td>\n",
       "      <td>37.000000</td>\n",
       "      <td>5.000000</td>\n",
       "      <td>97318.250000</td>\n",
       "      <td>1.000000</td>\n",
       "      <td>1.000000</td>\n",
       "      <td>1.000000</td>\n",
       "      <td>100240.200000</td>\n",
       "      <td>0.000000</td>\n",
       "    </tr>\n",
       "    <tr>\n",
       "      <th>75%</th>\n",
       "      <td>717.000000</td>\n",
       "      <td>44.000000</td>\n",
       "      <td>7.000000</td>\n",
       "      <td>127561.890000</td>\n",
       "      <td>2.000000</td>\n",
       "      <td>1.000000</td>\n",
       "      <td>1.000000</td>\n",
       "      <td>149567.210000</td>\n",
       "      <td>0.000000</td>\n",
       "    </tr>\n",
       "    <tr>\n",
       "      <th>max</th>\n",
       "      <td>850.000000</td>\n",
       "      <td>92.000000</td>\n",
       "      <td>10.000000</td>\n",
       "      <td>250898.090000</td>\n",
       "      <td>4.000000</td>\n",
       "      <td>1.000000</td>\n",
       "      <td>1.000000</td>\n",
       "      <td>199992.480000</td>\n",
       "      <td>1.000000</td>\n",
       "    </tr>\n",
       "  </tbody>\n",
       "</table>\n",
       "</div>"
      ],
      "text/plain": [
       "       credit_score          age       tenure        balance  num_of_products  \\\n",
       "count   9091.000000  9091.000000  9091.000000    9091.000000      9091.000000   \n",
       "mean     650.736553    38.949181     4.997690   76522.740015         1.530195   \n",
       "std       96.410471    10.555581     2.894723   62329.528576         0.581003   \n",
       "min      350.000000    18.000000     0.000000       0.000000         1.000000   \n",
       "25%      584.000000    32.000000     2.000000       0.000000         1.000000   \n",
       "50%      652.000000    37.000000     5.000000   97318.250000         1.000000   \n",
       "75%      717.000000    44.000000     7.000000  127561.890000         2.000000   \n",
       "max      850.000000    92.000000    10.000000  250898.090000         4.000000   \n",
       "\n",
       "       has_cr_card  is_active_member  estimated_salary       exited  \n",
       "count  9091.000000       9091.000000       9091.000000  9091.000000  \n",
       "mean      0.704983          0.515565     100181.214924     0.203938  \n",
       "std       0.456076          0.499785      57624.755647     0.402946  \n",
       "min       0.000000          0.000000         11.580000     0.000000  \n",
       "25%       0.000000          0.000000      51227.745000     0.000000  \n",
       "50%       1.000000          1.000000     100240.200000     0.000000  \n",
       "75%       1.000000          1.000000     149567.210000     0.000000  \n",
       "max       1.000000          1.000000     199992.480000     1.000000  "
      ]
     },
     "execution_count": 21,
     "metadata": {},
     "output_type": "execute_result"
    }
   ],
   "source": [
    "data.describe()"
   ]
  },
  {
   "cell_type": "markdown",
   "metadata": {},
   "source": [
    "Видим, что многие признаки имеют разный разброс значений. Приведем их к одному масштабу с помощью метода **стандартизации данных**."
   ]
  },
  {
   "cell_type": "code",
   "execution_count": 22,
   "metadata": {
    "scrolled": true
   },
   "outputs": [
    {
     "data": {
      "text/html": [
       "<div>\n",
       "<style scoped>\n",
       "    .dataframe tbody tr th:only-of-type {\n",
       "        vertical-align: middle;\n",
       "    }\n",
       "\n",
       "    .dataframe tbody tr th {\n",
       "        vertical-align: top;\n",
       "    }\n",
       "\n",
       "    .dataframe thead th {\n",
       "        text-align: right;\n",
       "    }\n",
       "</style>\n",
       "<table border=\"1\" class=\"dataframe\">\n",
       "  <thead>\n",
       "    <tr style=\"text-align: right;\">\n",
       "      <th></th>\n",
       "      <th>credit_score</th>\n",
       "      <th>age</th>\n",
       "      <th>tenure</th>\n",
       "      <th>balance</th>\n",
       "      <th>num_of_products</th>\n",
       "      <th>has_cr_card</th>\n",
       "      <th>is_active_member</th>\n",
       "      <th>estimated_salary</th>\n",
       "      <th>geography_Germany</th>\n",
       "      <th>geography_Spain</th>\n",
       "      <th>gender_Male</th>\n",
       "    </tr>\n",
       "  </thead>\n",
       "  <tbody>\n",
       "    <tr>\n",
       "      <th>4566</th>\n",
       "      <td>2.075138</td>\n",
       "      <td>-0.555350</td>\n",
       "      <td>-0.699698</td>\n",
       "      <td>-1.227302</td>\n",
       "      <td>0.826344</td>\n",
       "      <td>1</td>\n",
       "      <td>1</td>\n",
       "      <td>-1.550188</td>\n",
       "      <td>0.0</td>\n",
       "      <td>0.0</td>\n",
       "      <td>0.0</td>\n",
       "    </tr>\n",
       "    <tr>\n",
       "      <th>5086</th>\n",
       "      <td>-0.300147</td>\n",
       "      <td>0.108316</td>\n",
       "      <td>-0.353718</td>\n",
       "      <td>-1.227302</td>\n",
       "      <td>2.557098</td>\n",
       "      <td>1</td>\n",
       "      <td>0</td>\n",
       "      <td>-1.193745</td>\n",
       "      <td>0.0</td>\n",
       "      <td>1.0</td>\n",
       "      <td>0.0</td>\n",
       "    </tr>\n",
       "    <tr>\n",
       "      <th>8226</th>\n",
       "      <td>-0.226900</td>\n",
       "      <td>1.530459</td>\n",
       "      <td>-1.045677</td>\n",
       "      <td>-1.227302</td>\n",
       "      <td>-0.904409</td>\n",
       "      <td>1</td>\n",
       "      <td>1</td>\n",
       "      <td>0.101563</td>\n",
       "      <td>0.0</td>\n",
       "      <td>0.0</td>\n",
       "      <td>1.0</td>\n",
       "    </tr>\n",
       "    <tr>\n",
       "      <th>7599</th>\n",
       "      <td>-1.597659</td>\n",
       "      <td>2.004506</td>\n",
       "      <td>0.684219</td>\n",
       "      <td>0.011483</td>\n",
       "      <td>0.826344</td>\n",
       "      <td>1</td>\n",
       "      <td>1</td>\n",
       "      <td>-0.290476</td>\n",
       "      <td>0.0</td>\n",
       "      <td>0.0</td>\n",
       "      <td>1.0</td>\n",
       "    </tr>\n",
       "    <tr>\n",
       "      <th>3054</th>\n",
       "      <td>-0.739627</td>\n",
       "      <td>0.108316</td>\n",
       "      <td>-1.737636</td>\n",
       "      <td>0.398675</td>\n",
       "      <td>-0.904409</td>\n",
       "      <td>0</td>\n",
       "      <td>1</td>\n",
       "      <td>-1.606372</td>\n",
       "      <td>1.0</td>\n",
       "      <td>0.0</td>\n",
       "      <td>1.0</td>\n",
       "    </tr>\n",
       "  </tbody>\n",
       "</table>\n",
       "</div>"
      ],
      "text/plain": [
       "      credit_score       age    tenure   balance  num_of_products  \\\n",
       "4566      2.075138 -0.555350 -0.699698 -1.227302         0.826344   \n",
       "5086     -0.300147  0.108316 -0.353718 -1.227302         2.557098   \n",
       "8226     -0.226900  1.530459 -1.045677 -1.227302        -0.904409   \n",
       "7599     -1.597659  2.004506  0.684219  0.011483         0.826344   \n",
       "3054     -0.739627  0.108316 -1.737636  0.398675        -0.904409   \n",
       "\n",
       "      has_cr_card  is_active_member  estimated_salary  geography_Germany  \\\n",
       "4566            1                 1         -1.550188                0.0   \n",
       "5086            1                 0         -1.193745                0.0   \n",
       "8226            1                 1          0.101563                0.0   \n",
       "7599            1                 1         -0.290476                0.0   \n",
       "3054            0                 1         -1.606372                1.0   \n",
       "\n",
       "      geography_Spain  gender_Male  \n",
       "4566              0.0          0.0  \n",
       "5086              1.0          0.0  \n",
       "8226              0.0          1.0  \n",
       "7599              0.0          1.0  \n",
       "3054              0.0          1.0  "
      ]
     },
     "execution_count": 22,
     "metadata": {},
     "output_type": "execute_result"
    }
   ],
   "source": [
    "# убираем предупреждение о цепном присвоивании\n",
    "pd.options.mode.chained_assignment = None\n",
    "\n",
    "# список числовых столбцов\n",
    "numeric = ['credit_score', 'age', 'tenure', 'balance', 'num_of_products',  'estimated_salary']\n",
    "\n",
    "scaler = StandardScaler()\n",
    "scaler.fit(features_train[numeric])\n",
    "features_train[numeric] = scaler.transform(features_train[numeric])\n",
    "features_valid[numeric] = scaler.transform(features_valid[numeric])\n",
    "features_test[numeric] = scaler.transform(features_test[numeric])\n",
    "\n",
    "features_train.head()"
   ]
  },
  {
   "cell_type": "markdown",
   "metadata": {},
   "source": [
    "**Вывод**: Мы привели числовые признаки к одному масштабу с помощью метода стандартизации данных."
   ]
  },
  {
   "cell_type": "markdown",
   "metadata": {},
   "source": [
    "**Общий вывод:** В результате подготовки данных к обчуению мы сделали следующее:\n",
    "1. Привели заголовки таблицы к хорошему стилю.\n",
    "2. Удалили пропущенные значения в столбце `tenure`.\n",
    "3. Разбили данные на обучающую, валидационную и тестовую выборки.\n",
    "4. Закодировали категоральные признаки техникой OHE.\n",
    "5. Масштабировали числовые признаки методом стандартизации данных."
   ]
  },
  {
   "cell_type": "markdown",
   "metadata": {},
   "source": [
    "## Исследование задачи"
   ]
  },
  {
   "cell_type": "markdown",
   "metadata": {},
   "source": [
    "На этапе предобработки данных мы заметили что целевой признак `exited` имеет явное несбалансированное колиечство классов. Проверим еще раз."
   ]
  },
  {
   "cell_type": "code",
   "execution_count": 23,
   "metadata": {},
   "outputs": [
    {
     "data": {
      "text/plain": [
       "0    0.796062\n",
       "1    0.203938\n",
       "Name: exited, dtype: float64"
      ]
     },
     "execution_count": 23,
     "metadata": {},
     "output_type": "execute_result"
    }
   ],
   "source": [
    "# доля классов\n",
    "data['exited'].value_counts(normalize=True)"
   ]
  },
  {
   "cell_type": "markdown",
   "metadata": {},
   "source": [
    "Действительно положительных классов в разы меньше чем отрицательных. Это может привести к неправильному обучению модели. Проверим c помощью трех разных моделей. Рассчитаем значение меры F1, recall, precision."
   ]
  },
  {
   "cell_type": "markdown",
   "metadata": {},
   "source": [
    "#### Дерево решений"
   ]
  },
  {
   "cell_type": "code",
   "execution_count": 24,
   "metadata": {},
   "outputs": [
    {
     "name": "stdout",
     "output_type": "stream",
     "text": [
      "\n",
      "F1 наилучшей модели на валидационной выборке: 0.5918699186991869 \n",
      "Глубина дерева: 7 \n",
      "Recall: 0.5013774104683195 \n",
      "Precision: 0.7222222222222222\n"
     ]
    }
   ],
   "source": [
    "best_model_tree = None\n",
    "best_result_tree = 0\n",
    "best_depth_tree = 0\n",
    "best_prediction_tree = 0\n",
    "\n",
    "# в цикле меняем глубину дерева\n",
    "for depth in range(1,16):\n",
    "    model = DecisionTreeClassifier(random_state=96, max_depth=depth)\n",
    "    model.fit(features_train, target_train)\n",
    "    prediction = model.predict(features_valid)\n",
    "    result = f1_score(target_valid, prediction)\n",
    "    if result > best_result_tree:\n",
    "        best_prediction_tree = prediction # сохраним лучшие предсказания\n",
    "        best_model_tree = model # сохраним наилучшую модель\n",
    "        best_result_tree = result #  сохраним наилучшее значение метрики accuracy на валидационных данных\n",
    "        best_depth_tree = depth # сохраним наилучшую глубину\n",
    "    \n",
    "# лучший результат и модель\n",
    "print(\"\\nF1 наилучшей модели на валидационной выборке:\", best_result_tree, \"\\nГлубина дерева:\", best_depth_tree,\n",
    "     \"\\nRecall:\", recall_score(target_valid, best_prediction_tree), \"\\nPrecision:\", precision_score(target_valid, best_prediction_tree))\n"
   ]
  },
  {
   "cell_type": "markdown",
   "metadata": {},
   "source": [
    "#### Случайный лес"
   ]
  },
  {
   "cell_type": "code",
   "execution_count": 25,
   "metadata": {},
   "outputs": [
    {
     "name": "stdout",
     "output_type": "stream",
     "text": [
      "\n",
      "F1 наилучшей модели на валидационной выборке: 0.5916955017301038 \n",
      "Количество деревьев: 20 \n",
      "Глубина дерева: 10 \n",
      "Recall: 0.47107438016528924 \n",
      "Precision: 0.7953488372093023\n"
     ]
    }
   ],
   "source": [
    "best_model_forest = None\n",
    "best_result_forest = 0\n",
    "best_depth_forest = 0\n",
    "best_est_forest = 0\n",
    "best_prediction_forest = 0\n",
    "\n",
    "# в цикле меняем количество деревьев и их глубину\n",
    "for est in range(10, 51, 10):\n",
    "    for depth in range (1, 16):\n",
    "        model = RandomForestClassifier(random_state=96, n_estimators=est, max_depth=depth)\n",
    "        model.fit(features_train, target_train)\n",
    "        prediction = model.predict(features_valid)\n",
    "        result = f1_score(target_valid, prediction)\n",
    "        if result > best_result_forest:\n",
    "            best_prediction_forest = prediction # сохраним лучшие предсказания\n",
    "            best_model_forest = model # сохраним наилучшую модель\n",
    "            best_result_forest = result #  сохраним наилучшее значение метрики accuracy на валидационных данных\n",
    "            best_depth_forest = depth # сохраним наилучшую глубину\n",
    "            best_est_forest = est # сохраним оптимальное количество деревьев\n",
    "    \n",
    "# лучший результат и модель\n",
    "print(\"\\nF1 наилучшей модели на валидационной выборке:\", best_result_forest, \"\\nКоличество деревьев:\", best_est_forest,\n",
    "      \"\\nГлубина дерева:\", best_depth_forest,  \"\\nRecall:\", recall_score(target_valid, best_prediction_forest), \n",
    "      \"\\nPrecision:\", precision_score(target_valid, best_prediction_forest))"
   ]
  },
  {
   "cell_type": "markdown",
   "metadata": {},
   "source": [
    "#### Логистическая регрессия"
   ]
  },
  {
   "cell_type": "code",
   "execution_count": 26,
   "metadata": {},
   "outputs": [
    {
     "name": "stdout",
     "output_type": "stream",
     "text": [
      "\n",
      "F1 модели на валидационной выборке: 0.29821073558648115 \n",
      "Количество итераций: 100 \n",
      "Recall: 0.2066115702479339 \n",
      "Precision: 0.5357142857142857\n"
     ]
    }
   ],
   "source": [
    "best_model_reg = None\n",
    "best_result_reg = 0\n",
    "best_iter_reg = 0\n",
    "best_prediction_reg = 0\n",
    "\n",
    "# в цикле перебираем количество итераций\n",
    "for iter in [100, 1000, 10000]:\n",
    "    model = LogisticRegression(random_state=96, solver='lbfgs', max_iter=iter)\n",
    "    model.fit(features_train, target_train)\n",
    "    prediction = model.predict(features_valid)\n",
    "    result = f1_score(target_valid, prediction)\n",
    "    if result > best_result_reg:\n",
    "        best_prediction_reg = prediction # сохраним лучшие предсказания\n",
    "        best_model_reg = model # сохраним наилучшую модель\n",
    "        best_result_reg = result #  сохраним наилучшее значение метрики accuracy на валидационных данных\n",
    "        best_iter_reg = iter # сохраним оптимальное количетсво итераций\n",
    "\n",
    "print(\"\\nF1 модели на валидационной выборке:\", best_result_reg, \"\\nКоличество итераций:\", best_iter_reg,\n",
    "      \"\\nRecall:\", recall_score(target_valid, best_prediction_reg), \"\\nPrecision:\", precision_score(target_valid, best_prediction_reg))"
   ]
  },
  {
   "cell_type": "markdown",
   "metadata": {},
   "source": [
    "**Выводы:**\n",
    "1. Наилучшее значение меры F1 мы получили у модели дерева решений с глубиной 7. С минимальным отрывом за ней идет модель случайного леса с 20-ю деревьями и глубиной 10. Модель логистической регрессии показывает очень низкий результат.\n",
    "2. Значение recall у всех моделей среднее или ниже. Модели удовлетворительно находят положительные классы.\n",
    "3. Значение precision достаточно хорошее у модели случайного леса, эта модель находит гораздо меньше ложноположительных ответов."
   ]
  },
  {
   "cell_type": "markdown",
   "metadata": {},
   "source": [
    "#### AUC-ROC"
   ]
  },
  {
   "cell_type": "markdown",
   "metadata": {},
   "source": [
    "При расчете своего ответа модель вычисляет вероятность принадлежности ответа к одному из двух классов. По умолчанию заложен порог классификации 0.5. Метрика AUC-ROC (площадь под кривой ошибок) позволяет оценить модель перебирая различные пороги классификации.\n",
    "Кривая ROC строится по координатам TPR (доля истинно положительных ответов) и FPR (доля ложноположительных ответов), которые вычилсяются при некотором пороге.\n",
    "Площадь под кривой ROC показывает качество алгоритма (чем больше, тем лучше), соответственно лучше там, где кривая лежит выше.\n",
    "\n",
    "Построим ROC-кривую для нашей лучшей модели дерева решений."
   ]
  },
  {
   "cell_type": "code",
   "execution_count": 27,
   "metadata": {},
   "outputs": [
    {
     "data": {
      "image/png": "[encoded data removed]",
      "text/plain": [
       "<Figure size 432x288 with 1 Axes>"
      ]
     },
     "metadata": {
      "needs_background": "light"
     },
     "output_type": "display_data"
    },
    {
     "name": "stdout",
     "output_type": "stream",
     "text": [
      "AUC-ROC: 0.8142605500560046\n"
     ]
    }
   ],
   "source": [
    "# с помощью функции predict_proba() вычилсяем вероятности для классов 0 и 1.\n",
    "# для дальнейших расчетов нам понадобятся только вероятности класса 1\n",
    "probabilities_valid = best_model_tree.predict_proba(features_valid)\n",
    "probabilities_one_valid = probabilities_valid[:, 1]\n",
    "\n",
    "# функция roc_curve возвращает списки fpr, tpr и пороги классификации\n",
    "fpr, tpr, thresholds = roc_curve(target_valid, probabilities_one_valid) \n",
    "\n",
    "plt.figure()\n",
    "\n",
    "# ROC-кривая случайной модели (выглядит как прямая)\n",
    "plt.plot([0, 1], [0, 1], linestyle='--')\n",
    "plt.plot(fpr, tpr, linestyle='--')\n",
    "\n",
    "# устанавливаем границы осей от 0 до 1\n",
    "plt.xlim(0, 1)\n",
    "plt.ylim(0, 1)\n",
    "\n",
    "# подписываем оси и добавляем заголовок\n",
    "plt.xlabel('False Positive Rate')\n",
    "plt.ylabel('True Positive Rate')\n",
    "plt.title('ROC-кривая')\n",
    "\n",
    "plt.show()\n",
    "\n",
    "#значение AUC-ROC\n",
    "auc_roc = roc_auc_score(target_valid, probabilities_one_valid)\n",
    "print('AUC-ROC:', auc_roc)"
   ]
  },
  {
   "cell_type": "markdown",
   "metadata": {},
   "source": [
    "Метрика получилась достаточно высокой. Дальше будем сравнивать её различные значения при разных способах устранения дисбаланса."
   ]
  },
  {
   "cell_type": "markdown",
   "metadata": {},
   "source": [
    "**Вывод:** Мы построили лучшую модель для предсказывания целевого признака - это дерево решений с глубиной 8. F1 при таких гиперпараметрах составляет 0.59. Также применив метрики recall и precision, мы обнаружили что модель может работать не так как нам нужно. В частности она видит отрицательные ответы там где их нет. Это значит, что модель плохо распознает положительные классы. В дальнейшем мы несколькими методами решим проблему дисбаланса, чтобы побороть эту проблему.\n",
    "\n",
    "F1 лучшей модели 0.5919, а AUC-ROC - 0.814.\n",
    "\n",
    "Recall равен 0.50, precision равен 0.72.\n",
    "\n",
    "Можем увидеть, что значение AUC-ROC достаточно неплохое. Проверим, как оно изменится при устранении дисбаланса классов разными способами."
   ]
  },
  {
   "cell_type": "markdown",
   "metadata": {},
   "source": [
    "## Борьба с дисбалансом"
   ]
  },
  {
   "cell_type": "markdown",
   "metadata": {},
   "source": [
    "#### Взвешивание классов"
   ]
  },
  {
   "cell_type": "markdown",
   "metadata": {},
   "source": [
    "Алгоритмы машинного обучения считают все объекты обучающей выборки\n",
    "равнозначными по умолчанию. Если важно указать, что какие-то объекты\n",
    "важнее, их классу присваивается вес. Для этого к каждой модели применим аргумент `class_weight='balanced'` для того, чтобы придать редкому классу больший вес. Найдем наилучшую метрику F1. "
   ]
  },
  {
   "cell_type": "code",
   "execution_count": 28,
   "metadata": {
    "scrolled": true
   },
   "outputs": [
    {
     "name": "stdout",
     "output_type": "stream",
     "text": [
      "\n",
      "F1 наилучшей модели на валидационной выборке: 0.579957356076759 \n",
      "Глубина дерева: 7 \n",
      "AUC-ROC: 0.8397823767141949 \n",
      "Recall: 0.7493112947658402 \n",
      "Precision: 0.47304347826086957\n"
     ]
    }
   ],
   "source": [
    "#Дерево решений\n",
    "best_model_tree_weight = None\n",
    "best_result_tree_weight = 0\n",
    "best_depth_tree_weight = 0\n",
    "best_prediction_tree_weight = 0\n",
    "best_auc_roc_tree_weight = 0\n",
    "\n",
    "# в цикле меняем глубину дерева\n",
    "for depth in range(1,16):\n",
    "    model = DecisionTreeClassifier(random_state=96, max_depth=depth, class_weight='balanced')\n",
    "    model.fit(features_train, target_train)\n",
    "    prediction = model.predict(features_valid)\n",
    "    result = f1_score(target_valid, prediction)\n",
    "    probabilities_valid = model.predict_proba(features_valid)\n",
    "    probabilities_one_valid = probabilities_valid[:, 1]\n",
    "    auc_roc = roc_auc_score(target_valid, probabilities_one_valid)\n",
    "    if result > best_result_tree_weight:\n",
    "        best_prediction_tree_weight = prediction # сохраним лучшие предсказания\n",
    "        best_model_tree_weight = model # сохраним наилучшую модель\n",
    "        best_result_tree_weight = result #  сохраним наилучшее значение метрики F1 на валидационных данных\n",
    "        best_depth_tree_weight = depth # сохраним наилучшую глубину\n",
    "        best_auc_roc_tree_weight = auc_roc # сохраним наилучший auc_roc\n",
    "    \n",
    "# лучший результат и модель\n",
    "print(\"\\nF1 наилучшей модели на валидационной выборке:\", best_result_tree_weight, \"\\nГлубина дерева:\", best_depth_tree_weight,\n",
    "     '\\nAUC-ROC:', best_auc_roc_tree_weight, \"\\nRecall:\", recall_score(target_valid, best_prediction_tree_weight), \n",
    "      \"\\nPrecision:\", precision_score(target_valid, best_prediction_tree_weight))"
   ]
  },
  {
   "cell_type": "code",
   "execution_count": 29,
   "metadata": {},
   "outputs": [
    {
     "name": "stdout",
     "output_type": "stream",
     "text": [
      "\n",
      "F1 наилучшей модели на валидационной выборке: 0.6085714285714285 \n",
      "Количество деревьев: 40 \n",
      "Глубина дерева: 11 \n",
      "AUC-ROC: 0.8494838494838495 \n",
      "Recall: 0.5867768595041323 \n",
      "Precision: 0.6320474777448071\n"
     ]
    }
   ],
   "source": [
    "# случайный лес\n",
    "best_model_forest_weight = None\n",
    "best_result_forest_weight = 0\n",
    "best_depth_forest_weight = 0\n",
    "best_est_forest_weight = 0\n",
    "best_prediction_forest_weight = 0\n",
    "best_auc_roc_forest_weight = 0\n",
    "\n",
    "\n",
    "# в цикле меняем количество деревьев и их глубину\n",
    "for est in range(10, 51, 10):\n",
    "    for depth in range (1, 16):\n",
    "        model = RandomForestClassifier(random_state=96, n_estimators=est, max_depth=depth, class_weight='balanced')\n",
    "        model.fit(features_train, target_train)\n",
    "        prediction = model.predict(features_valid)\n",
    "        result = f1_score(target_valid, prediction)\n",
    "        probabilities_valid = model.predict_proba(features_valid)\n",
    "        probabilities_one_valid = probabilities_valid[:, 1]\n",
    "        auc_roc = roc_auc_score(target_valid, probabilities_one_valid)\n",
    "        if result > best_result_forest_weight:\n",
    "            best_prediction_forest_weight = prediction # сохраним лучшие предсказания\n",
    "            best_model_forest_weight = model # сохраним наилучшую модель\n",
    "            best_result_forest_weight = result #  сохраним наилучшее значение метрики f1 на валидационных данных\n",
    "            best_depth_forest_weight = depth # сохраним наилучшую глубину\n",
    "            best_est_forest_weight = est # сохраним оптимальное количество деревьев\n",
    "            best_auc_roc_forest_weight = auc_roc # сохраним наилучший auc_roc\n",
    "\n",
    "    \n",
    "# лучший результат и модель\n",
    "print(\"\\nF1 наилучшей модели на валидационной выборке:\", best_result_forest_weight, \"\\nКоличество деревьев:\", best_est_forest_weight,\n",
    "      \"\\nГлубина дерева:\", best_depth_forest_weight, '\\nAUC-ROC:', best_auc_roc_forest_weight, \"\\nRecall:\",\n",
    "      recall_score(target_valid, best_prediction_forest_weight), \"\\nPrecision:\", precision_score(target_valid, best_prediction_forest_weight))"
   ]
  },
  {
   "cell_type": "code",
   "execution_count": 30,
   "metadata": {},
   "outputs": [
    {
     "name": "stdout",
     "output_type": "stream",
     "text": [
      "\n",
      "F1 модели на валидационной выборке: 0.4808635917566241 \n",
      "Количество итераций: 100 \n",
      "AUC-ROC: 0.7477617079889807 \n",
      "Recall: 0.6749311294765841 \n",
      "Precision: 0.37347560975609756\n"
     ]
    }
   ],
   "source": [
    "# логистическая регрессия\n",
    "best_model_reg_weight = None\n",
    "best_result_reg_weight = 0\n",
    "best_iter_reg_weight = 0\n",
    "best_prediction_reg_weight = 0\n",
    "best_auc_roc_reg_weight = 0\n",
    "\n",
    "# в цикле перебираем количество итераций\n",
    "for iter in [100, 1000, 10000]:\n",
    "    model = LogisticRegression(random_state=96, solver='liblinear', max_iter=iter, class_weight='balanced')\n",
    "    model.fit(features_train, target_train)\n",
    "    prediction = model.predict(features_valid)\n",
    "    result = f1_score(target_valid, prediction)\n",
    "    probabilities_valid = model.predict_proba(features_valid)\n",
    "    probabilities_one_valid = probabilities_valid[:, 1]\n",
    "    auc_roc = roc_auc_score(target_valid, probabilities_one_valid)\n",
    "    if result > best_result_reg_weight:\n",
    "        best_prediction_reg_weight = prediction # сохраним лучшие предсказания\n",
    "        best_model_reg_weight = model # сохраним наилучшую модель\n",
    "        best_result_reg_weight = result #  сохраним наилучшее значение метрики f1 на валидационных данных\n",
    "        best_iter_reg_weight = iter # сохраним оптимальное количетсво итераций\n",
    "        best_auc_roc_reg_weight = auc_roc # сохраним наилучший auc_roc\n",
    "\n",
    "print(\"\\nF1 модели на валидационной выборке:\", best_result_reg_weight, \"\\nКоличество итераций:\", best_iter_reg_weight,\n",
    "      '\\nAUC-ROC:', best_auc_roc_reg_weight, \"\\nRecall:\",\n",
    "      recall_score(target_valid, best_prediction_reg_weight), \"\\nPrecision:\", precision_score(target_valid, best_prediction_reg_weight))"
   ]
  },
  {
   "cell_type": "markdown",
   "metadata": {},
   "source": [
    "**Вывод:** Наилучшая метрика F1 (0.609) получилась у модели случайного леса с гиперпараметрами: количество деревьев 40, глубина дерева 11. AUC-ROC в данном случае равен 0.850. Также мы увеличили значение recall до 0.58. Модель стала лучше распозновать положительные классы, но параметр precision уменьшился, значит модель стала давать больше ложноположительных ответов."
   ]
  },
  {
   "cell_type": "markdown",
   "metadata": {},
   "source": [
    "#### Увеличение выборки"
   ]
  },
  {
   "cell_type": "markdown",
   "metadata": {},
   "source": [
    "Еще один метод борьбы с дисбалансов классов заключается в увеличении количества строк с редким классом. Используем алгоритм SMOTE."
   ]
  },
  {
   "cell_type": "code",
   "execution_count": 31,
   "metadata": {},
   "outputs": [],
   "source": [
    "oversample = SMOTE(random_state=96)\n",
    "\n",
    "features_upsampled, target_upsampled = oversample.fit_resample(features_train, target_train)"
   ]
  },
  {
   "cell_type": "markdown",
   "metadata": {},
   "source": [
    "Перейдем к обучению моделей."
   ]
  },
  {
   "cell_type": "code",
   "execution_count": 32,
   "metadata": {},
   "outputs": [
    {
     "name": "stdout",
     "output_type": "stream",
     "text": [
      "\n",
      "F1 наилучшей модели на валидационной выборке: 0.5646173149309912 \n",
      "Глубина дерева: 9 \n",
      "AUC-ROC: 0.8119806330033602 \n",
      "Recall: 0.6198347107438017 \n",
      "Precision: 0.5184331797235023\n"
     ]
    }
   ],
   "source": [
    "#Дерево решений\n",
    "best_model_tree_upsample = None\n",
    "best_result_tree_upsample = 0\n",
    "best_depth_tree_upsample = 0\n",
    "best_prediction_tree_upsample = 0\n",
    "best_auc_roc_tree_upsample = 0\n",
    "\n",
    "# в цикле меняем глубину дерева\n",
    "for depth in range(1,16):\n",
    "    model = DecisionTreeClassifier(random_state=96, max_depth=depth)\n",
    "    model.fit(features_upsampled, target_upsampled)\n",
    "    prediction = model.predict(features_valid)\n",
    "    result = f1_score(target_valid, prediction)\n",
    "    probabilities_valid = model.predict_proba(features_valid)\n",
    "    probabilities_one_valid = probabilities_valid[:, 1]\n",
    "    auc_roc = roc_auc_score(target_valid, probabilities_one_valid)\n",
    "    if result > best_result_tree_upsample:\n",
    "        best_prediction_tree_upsample = prediction # сохраним лучшие предсказания\n",
    "        best_model_tree_upsample = model # сохраним наилучшую модель\n",
    "        best_result_tree_upsample = result #  сохраним наилучшее значение метрики F1 на валидационных данных\n",
    "        best_depth_tree_upsample = depth # сохраним наилучшую глубину\n",
    "        best_auc_roc_tree_upsample = auc_roc # сохраним наилучший auc_roc\n",
    "    \n",
    "# лучший результат и модель\n",
    "print(\"\\nF1 наилучшей модели на валидационной выборке:\", best_result_tree_upsample, \"\\nГлубина дерева:\", best_depth_tree_upsample,\n",
    "     '\\nAUC-ROC:', best_auc_roc_tree_upsample, \"\\nRecall:\", recall_score(target_valid, best_prediction_tree_upsample), \n",
    "      \"\\nPrecision:\", precision_score(target_valid, best_prediction_tree_upsample))"
   ]
  },
  {
   "cell_type": "code",
   "execution_count": 33,
   "metadata": {},
   "outputs": [
    {
     "name": "stdout",
     "output_type": "stream",
     "text": [
      "\n",
      "F1 наилучшей модели на валидационной выборке: 0.613607188703466 \n",
      "Количество деревьев: 40 \n",
      "Глубина дерева: 10 \n",
      "AUC-ROC: 0.8446477764659583 \n",
      "Recall: 0.6584022038567493 \n",
      "Precision: 0.5745192307692307\n"
     ]
    }
   ],
   "source": [
    "# случайный лес\n",
    "best_model_forest_upsample = None\n",
    "best_result_forest_upsample = 0\n",
    "best_depth_forest_upsample = 0\n",
    "best_est_forest_upsample = 0\n",
    "best_prediction_forest_upsample = 0\n",
    "best_auc_roc_forest_upsample = 0\n",
    "\n",
    "# в цикле меняем количество деревьев и их глубину\n",
    "for est in range(10, 51, 10):\n",
    "    for depth in range (1, 16):\n",
    "        model = RandomForestClassifier(random_state=96, n_estimators=est, max_depth=depth)\n",
    "        model.fit(features_upsampled, target_upsampled)\n",
    "        prediction = model.predict(features_valid)\n",
    "        result = f1_score(target_valid, prediction)\n",
    "        probabilities_valid = model.predict_proba(features_valid)\n",
    "        probabilities_one_valid = probabilities_valid[:, 1]\n",
    "        auc_roc = roc_auc_score(target_valid, probabilities_one_valid)\n",
    "        if result > best_result_forest_upsample:\n",
    "            best_prediction_forest_upsample = prediction # сохраним лучшие предсказания\n",
    "            best_model_forest_upsample = model # сохраним наилучшую модель\n",
    "            best_result_forest_upsample = result #  сохраним наилучшее значение метрики f1 на валидационных данных\n",
    "            best_depth_forest_upsample = depth # сохраним наилучшую глубину\n",
    "            best_est_forest_upsample = est # сохраним оптимальное количество деревьев\n",
    "            best_auc_roc_forest_upsample = auc_roc # сохраним наилучший auc_roc\n",
    "\n",
    "    \n",
    "# лучший результат и модель\n",
    "print(\"\\nF1 наилучшей модели на валидационной выборке:\", best_result_forest_upsample, \"\\nКоличество деревьев:\", best_est_forest_upsample,\n",
    "      \"\\nГлубина дерева:\", best_depth_forest_upsample, '\\nAUC-ROC:', best_auc_roc_forest_upsample, \n",
    "      \"\\nRecall:\", recall_score(target_valid, best_prediction_forest_upsample), \"\\nPrecision:\", precision_score(target_valid, best_prediction_forest_upsample))"
   ]
  },
  {
   "cell_type": "code",
   "execution_count": 34,
   "metadata": {},
   "outputs": [
    {
     "name": "stdout",
     "output_type": "stream",
     "text": [
      "\n",
      "F1 модели на валидационной выборке: 0.4637096774193548 \n",
      "Количество итераций: 100 \n",
      "AUC-ROC: 0.7439246359700904 \n",
      "Recall: 0.6336088154269972 \n",
      "Precision: 0.3656597774244833\n"
     ]
    }
   ],
   "source": [
    "# логистическая регрессия\n",
    "best_model_reg_upsample = None\n",
    "best_result_reg_upsample = 0\n",
    "best_iter_reg_upsample = 0\n",
    "best_prediction_reg_upsample = 0\n",
    "best_auc_roc_reg_upsample = 0\n",
    "\n",
    "# в цикле перебираем количество итераций\n",
    "for iter in [100, 1000, 10000]:\n",
    "    model = LogisticRegression(random_state=96, solver='liblinear', max_iter=iter)\n",
    "    model.fit(features_upsampled, target_upsampled)\n",
    "    prediction = model.predict(features_valid)\n",
    "    result = f1_score(target_valid, prediction)\n",
    "    probabilities_valid = model.predict_proba(features_valid)\n",
    "    probabilities_one_valid = probabilities_valid[:, 1]\n",
    "    auc_roc = roc_auc_score(target_valid, probabilities_one_valid)\n",
    "    if result > best_result_reg_upsample:\n",
    "        best_prediction_reg_upsample = prediction # сохраним лучшие предсказания\n",
    "        best_model_reg_upsample = model # сохраним наилучшую модель\n",
    "        best_result_reg_upsample = result #  сохраним наилучшее значение метрики f1 на валидационных данных\n",
    "        best_iter_reg_upsample = iter # сохраним оптимальное количетсво итераций\n",
    "        best_auc_roc_reg_upsample = auc_roc # сохраним наилучший auc_roc\n",
    "\n",
    "print(\"\\nF1 модели на валидационной выборке:\", best_result_reg_upsample, \"\\nКоличество итераций:\", best_iter_reg_upsample,\n",
    "      '\\nAUC-ROC:', best_auc_roc_reg_upsample, \"\\nRecall:\", recall_score(target_valid, best_prediction_reg_upsample), \n",
    "      \"\\nPrecision:\", precision_score(target_valid, best_prediction_reg_upsample))"
   ]
  },
  {
   "cell_type": "markdown",
   "metadata": {},
   "source": [
    "**Вывод:** Наилучшая метрика F1 (0.614) получилась у модели случайного леса с гиперпараметрами: количество деревьев 40, глубина дерева 10. AUC-ROC в данном случае равен 0.845. Также мы увеличили значение recall и уменьшили precision."
   ]
  },
  {
   "cell_type": "markdown",
   "metadata": {},
   "source": [
    "#### Уменьшение выборки"
   ]
  },
  {
   "cell_type": "markdown",
   "metadata": {},
   "source": [
    "Теперь вместо дублирования редкого класса, уменьшим часть преобладающего. Для этого используем алгоритм RandomUnderSampler"
   ]
  },
  {
   "cell_type": "code",
   "execution_count": 35,
   "metadata": {},
   "outputs": [],
   "source": [
    "downsample = RandomUnderSampler(random_state=96)\n",
    "\n",
    "features_downsampled, target_downsampled = downsample.fit_resample(features_train, target_train)"
   ]
  },
  {
   "cell_type": "markdown",
   "metadata": {},
   "source": [
    "Обучим модели."
   ]
  },
  {
   "cell_type": "code",
   "execution_count": 36,
   "metadata": {},
   "outputs": [
    {
     "name": "stdout",
     "output_type": "stream",
     "text": [
      "\n",
      "F1 наилучшей модели на валидационной выборке: 0.5570599613152806 \n",
      "Глубина дерева: 5 \n",
      "AUC-ROC: 0.8366955014682289 \n",
      "Recall: 0.7933884297520661 \n",
      "Precision: 0.42921013412816694\n"
     ]
    }
   ],
   "source": [
    "#Дерево решений\n",
    "best_model_tree_downsample = None\n",
    "best_result_tree_downsample = 0\n",
    "best_depth_tree_downsample = 0\n",
    "best_prediction_tree_downsample = 0\n",
    "best_auc_roc_tree_downsample = 0\n",
    "\n",
    "# в цикле меняем глубину дерева\n",
    "for depth in range(1,16):\n",
    "    model = DecisionTreeClassifier(random_state=96, max_depth=depth)\n",
    "    model.fit(features_downsampled, target_downsampled)\n",
    "    prediction = model.predict(features_valid)\n",
    "    result = f1_score(target_valid, prediction)\n",
    "    probabilities_valid = model.predict_proba(features_valid)\n",
    "    probabilities_one_valid = probabilities_valid[:, 1]\n",
    "    auc_roc = roc_auc_score(target_valid, probabilities_one_valid)\n",
    "    if result > best_result_tree_downsample:\n",
    "        best_prediction_tree_downsample = prediction # сохраним лучшие предсказания\n",
    "        best_model_tree_downsample = model # сохраним наилучшую модель\n",
    "        best_result_tree_downsample = result #  сохраним наилучшее значение метрики F1 на валидационных данных\n",
    "        best_depth_tree_downsample = depth # сохраним наилучшую глубину\n",
    "        best_auc_roc_tree_downsample = auc_roc # сохраним наилучший auc_roc\n",
    "    \n",
    "# лучший результат и модель\n",
    "print(\"\\nF1 наилучшей модели на валидационной выборке:\", best_result_tree_downsample, \"\\nГлубина дерева:\", best_depth_tree_downsample,\n",
    "     '\\nAUC-ROC:', best_auc_roc_tree_downsample, \"\\nRecall:\", recall_score(target_valid, best_prediction_tree_downsample), \n",
    "      \"\\nPrecision:\", precision_score(target_valid, best_prediction_tree_downsample))"
   ]
  },
  {
   "cell_type": "code",
   "execution_count": 37,
   "metadata": {},
   "outputs": [
    {
     "name": "stdout",
     "output_type": "stream",
     "text": [
      "\n",
      "F1 наилучшей модели на валидационной выборке: 0.5796178343949046 \n",
      "Количество деревьев: 40 \n",
      "Глубина дерева: 12 \n",
      "AUC-ROC: 0.8393074728302 \n",
      "Recall: 0.7520661157024794 \n",
      "Precision: 0.47150259067357514\n"
     ]
    }
   ],
   "source": [
    "# случайный лес\n",
    "best_model_forest_downsample = None\n",
    "best_result_forest_downsample = 0\n",
    "best_depth_forest_downsample = 0\n",
    "best_est_forest_downsample = 0\n",
    "best_prediction_forest_downsample = 0\n",
    "best_auc_roc_forest_downsample = 0\n",
    "\n",
    "# в цикле меняем количество деревьев и их глубину\n",
    "for est in range(10, 51, 10):\n",
    "    for depth in range (1, 16):\n",
    "        model = RandomForestClassifier(random_state=96, n_estimators=est, max_depth=depth)\n",
    "        model.fit(features_downsampled, target_downsampled)\n",
    "        prediction = model.predict(features_valid)\n",
    "        result = f1_score(target_valid, prediction)\n",
    "        probabilities_valid = model.predict_proba(features_valid)\n",
    "        probabilities_one_valid = probabilities_valid[:, 1]\n",
    "        auc_roc = roc_auc_score(target_valid, probabilities_one_valid)\n",
    "        if result > best_result_forest_downsample:\n",
    "            best_prediction_forest_downsample = prediction # сохраним лучшие предсказания\n",
    "            best_model_forest_downsample = model # сохраним наилучшую модель\n",
    "            best_result_forest_downsample = result #  сохраним наилучшее значение метрики f1 на валидационных данных\n",
    "            best_depth_forest_downsample = depth # сохраним наилучшую глубину\n",
    "            best_est_forest_downsample = est # сохраним оптимальное количество деревьев\n",
    "            best_auc_roc_forest_downsample = auc_roc # сохраним наилучший auc_roc\n",
    "\n",
    "    \n",
    "# лучший результат и модель\n",
    "print(\"\\nF1 наилучшей модели на валидационной выборке:\", best_result_forest_downsample, \"\\nКоличество деревьев:\", best_est_forest_downsample,\n",
    "      \"\\nГлубина дерева:\", best_depth_forest_downsample, '\\nAUC-ROC:', best_auc_roc_forest_downsample, \n",
    "      \"\\nRecall:\", recall_score(target_valid, best_prediction_forest_downsample), \n",
    "      \"\\nPrecision:\", precision_score(target_valid, best_prediction_forest_downsample))"
   ]
  },
  {
   "cell_type": "code",
   "execution_count": 38,
   "metadata": {
    "scrolled": true
   },
   "outputs": [
    {
     "name": "stdout",
     "output_type": "stream",
     "text": [
      "\n",
      "F1 модели на валидационной выборке: 0.4783464566929134 \n",
      "Количество итераций: 100 \n",
      "AUC-ROC: 0.7448536312172677 \n",
      "Recall: 0.6694214876033058 \n",
      "Precision: 0.3721286370597244\n"
     ]
    }
   ],
   "source": [
    "# логистическая регрессия\n",
    "best_model_reg_downsample = None\n",
    "best_result_reg_downsample = 0\n",
    "best_iter_reg_downsample = 0\n",
    "best_prediction_reg_downsample = 0\n",
    "best_auc_roc_reg_downsample = 0\n",
    "\n",
    "# в цикле перебираем количество итераций\n",
    "for iter in [100, 1000, 10000]:\n",
    "    model = LogisticRegression(random_state=96, solver='liblinear', max_iter=iter)\n",
    "    model.fit(features_downsampled, target_downsampled)\n",
    "    prediction = model.predict(features_valid)\n",
    "    result = f1_score(target_valid, prediction)\n",
    "    probabilities_valid = model.predict_proba(features_valid)\n",
    "    probabilities_one_valid = probabilities_valid[:, 1]\n",
    "    auc_roc = roc_auc_score(target_valid, probabilities_one_valid)\n",
    "    if result > best_result_reg_downsample:\n",
    "        best_prediction_reg_downsample = prediction # сохраним лучшие предсказания\n",
    "        best_model_reg_downsample = model # сохраним наилучшую модель\n",
    "        best_result_reg_downsample = result #  сохраним наилучшее значение метрики f1 на валидационных данных\n",
    "        best_iter_reg_downsample = iter # сохраним оптимальное количетсво итераций\n",
    "        best_auc_roc_reg_downsample = auc_roc # сохраним наилучший auc_roc\n",
    "\n",
    "print(\"\\nF1 модели на валидационной выборке:\", best_result_reg_downsample, \"\\nКоличество итераций:\", best_iter_reg_downsample,\n",
    "      '\\nAUC-ROC:', best_auc_roc_reg_downsample, \"\\nRecall:\", recall_score(target_valid, best_prediction_reg_downsample), \n",
    "      \"\\nPrecision:\", precision_score(target_valid, best_prediction_reg_downsample))"
   ]
  },
  {
   "cell_type": "markdown",
   "metadata": {},
   "source": [
    "**Вывод:** Наилучшая метрика F1 (0.580) получилась у модели случайного леса с гиперпараметрами: количество деревьев 40, глубина дерева 12. AUC-ROC в данном случае получился 0.839. Значения recall поднялись еще больше чем в предыдущих случаях, но precision уменьшился еще больше."
   ]
  },
  {
   "cell_type": "markdown",
   "metadata": {},
   "source": [
    "**Общий вывод:** Мы применили три способа борьбы с дисбалансом классов: Взвешивание классов, увеличение выборки и уменьшение выборки. Наилучшее значение меры F1 (0.614) мы получили используя технику увеличения выборки, обучая модель случайного леса с 40 деревьями и глубиной 10, также получили относительно относительно высокий AUC-ROC 0.845.\n",
    "\n",
    "Еще одна модель которая показала хорошие результаты F1 (0.609) получилась у модели случайного леса с гиперпараметрами: количество деревьев 40, глубина дерева 11 используя технику взвешивания классов. AUC-ROC в данном случае равен 0.850.\n",
    "\n",
    "Разница F1 у них минимальна, поэтому эти две модели мы будем использовать в дальнейших тестах.\n",
    "\n",
    "Техника уменьшения выборки показала нахудшие результаты из всех.\n",
    "\n",
    "Во всех случаях мы обнаружили увеличение метрики recall и уменьшение precision, по сравнению с исследованием без устранения дисбаланса.  Это значит, что модели стали лучше распозновать положительные классы, но также модели стала давать больше ложноположительных ответов. Тем не менее мы увеличи меру F1, которая является средним гармоничным precision и recall, а это хорошо.\n",
    "\n",
    "В прошлой главе не устраняя дисбаланс класса мы получили значение 0.814, и по результатам этой части мы получили, что при малом возрастании F1, AUC-ROC не обязательно увеличивается, но обязательно находится в диапазоне 0.81-0.85."
   ]
  },
  {
   "cell_type": "markdown",
   "metadata": {},
   "source": [
    "## Тестирование модели"
   ]
  },
  {
   "cell_type": "markdown",
   "metadata": {},
   "source": [
    "Для тестирования возьмем модели показавшие наилучшее значение метрики F1."
   ]
  },
  {
   "cell_type": "code",
   "execution_count": 39,
   "metadata": {
    "scrolled": true
   },
   "outputs": [
    {
     "name": "stdout",
     "output_type": "stream",
     "text": [
      "Модель случайного леса с 40 деревьями и глубиной 10, обученная с помощью техники увеличения выборки.\n",
      "\n",
      "F1 на валидационной выборке: 0.613607188703466\n",
      "AUC-ROC на валидационной выборке: 0.8446477764659583\n",
      "Recall на валидационной выборке: 0.6584022038567493\n",
      "Precision на валидационной выборке: 0.5745192307692307\n",
      "\n",
      "F1 на тестовой выборке: 0.6126582278481012\n",
      "AUC-ROC на тестовой выборке: 0.8525781876430374\n",
      "Recall на тестовой выборке: 0.6351706036745407\n",
      "Precision на тестовой выборке: 0.5916870415647921\n"
     ]
    }
   ],
   "source": [
    "print(\"Модель случайного леса с 40 деревьями и глубиной 10, обученная с помощью техники увеличения выборки.\\n\")\n",
    "print(\"F1 на валидационной выборке:\", best_result_forest_upsample)\n",
    "print(\"AUC-ROC на валидационной выборке:\", best_auc_roc_forest_upsample)\n",
    "print(\"Recall на валидационной выборке:\", recall_score(target_valid, best_prediction_forest_upsample))\n",
    "print(\"Precision на валидационной выборке:\", precision_score(target_valid, best_prediction_forest_upsample))\n",
    "prediction = best_model_forest_upsample.predict(features_test)\n",
    "print(\"\\nF1 на тестовой выборке:\", f1_score(target_test, prediction))\n",
    "probabilities_valid = best_model_forest_upsample.predict_proba(features_test)\n",
    "probabilities_one_valid = probabilities_valid[:, 1]\n",
    "print(\"AUC-ROC на тестовой выборке:\", roc_auc_score(target_test, probabilities_one_valid))\n",
    "print(\"Recall на тестовой выборке:\", recall_score(target_test,prediction))\n",
    "print(\"Precision на тестовой выборке:\", precision_score(target_test, prediction))"
   ]
  },
  {
   "cell_type": "code",
   "execution_count": 40,
   "metadata": {},
   "outputs": [
    {
     "name": "stdout",
     "output_type": "stream",
     "text": [
      "Модель случайного леса с 40 деревьями и глубиной 11, обученная с помощью техники взвешивания классов.\n",
      "\n",
      "F1 на валидационной выборке: 0.6085714285714285\n",
      "AUC-ROC на валидационной выборке: 0.8494838494838495\n",
      "Recall на валидационной выборке: 0.5867768595041323\n",
      "Precision на валидационной выборке: 0.6320474777448071\n",
      "\n",
      "F1 на тестовой выборке: 0.6129943502824858\n",
      "AUC-ROC на тестовой выборке: 0.8501416446117512\n",
      "Recall на тестовой выборке: 0.5695538057742782\n",
      "Precision на тестовой выборке: 0.6636085626911316\n"
     ]
    }
   ],
   "source": [
    "print(\"Модель случайного леса с 40 деревьями и глубиной 11, обученная с помощью техники взвешивания классов.\\n\")\n",
    "print(\"F1 на валидационной выборке:\", best_result_forest_weight)\n",
    "print(\"AUC-ROC на валидационной выборке:\", best_auc_roc_forest_weight)\n",
    "print(\"Recall на валидационной выборке:\", recall_score(target_valid, best_prediction_forest_weight))\n",
    "print(\"Precision на валидационной выборке:\", precision_score(target_valid, best_prediction_forest_weight))\n",
    "prediction = best_model_forest_weight.predict(features_test)\n",
    "print(\"\\nF1 на тестовой выборке:\", f1_score(target_test, prediction))\n",
    "probabilities_valid = best_model_forest_weight.predict_proba(features_test)\n",
    "probabilities_one_valid = probabilities_valid[:, 1]\n",
    "print(\"AUC-ROC на тестовой выборке:\", roc_auc_score(target_test, probabilities_one_valid))\n",
    "print(\"Recall на тестовой выборке:\", recall_score(target_test,prediction))\n",
    "print(\"Precision на тестовой выборке:\", precision_score(target_test, prediction))"
   ]
  },
  {
   "cell_type": "markdown",
   "metadata": {},
   "source": [
    "**Вывод:** Модель случайного леса с 40 деревьями и глубиной 11, обученная с помощью техники взвешивания классов на тестировании показала себя лучше по метрике F1. **В производство берем её.** Но также она показала себя чуть хуже в метрике AUC-ROC, что еще раз говорит о том, что увеличение F1 не ведет к увеличению AUC-ROC."
   ]
  },
  {
   "cell_type": "markdown",
   "metadata": {},
   "source": [
    "#### Проверка на адекватность"
   ]
  },
  {
   "cell_type": "markdown",
   "metadata": {},
   "source": [
    "Сравним нашу лучшую модель с константной моделью. Построим константную модель и рассчитаем для нее значения всех мер. Моделируем ситуацию, что все клиенты банка ушли. Значение recall в таком случае должно быть 1, т.к. все предсказываемые объекты положительные и кол-во FN равно 0."
   ]
  },
  {
   "cell_type": "code",
   "execution_count": 41,
   "metadata": {},
   "outputs": [
    {
     "name": "stdout",
     "output_type": "stream",
     "text": [
      "F1: 0.34652114597544337\n",
      "Recall: 1.0\n",
      "Precision: 0.20957095709570958\n"
     ]
    }
   ],
   "source": [
    "dummy_model = DummyClassifier(strategy='constant', constant=1)\n",
    "dummy_model.fit(features_train, target_train)\n",
    "print('F1:', f1_score(target_test, dummy_model.predict(features_test)))\n",
    "print('Recall:', recall_score(target_test, dummy_model.predict(features_test)))\n",
    "print('Precision:', precision_score(target_test, dummy_model.predict(features_test)))"
   ]
  },
  {
   "cell_type": "markdown",
   "metadata": {},
   "source": [
    "**Выводы:**\n",
    "\n",
    "1. Значение F1 у нашей лучшей модели (0.613) выше чем у константной модели. \n",
    "2. Значение precision нашей лучшей модели (0.57) выше чем у константной модели. В случае с константной моделью precision равен accuracy. Наша модель гораздо меньше ошибается при определении положительного класса."
   ]
  },
  {
   "cell_type": "markdown",
   "metadata": {},
   "source": [
    "## Общий вывод"
   ]
  },
  {
   "cell_type": "markdown",
   "metadata": {},
   "source": [
    "В данном проекте мы изучили исторические данные о поведении клиентов и расторжении договоров с \"Бета-Банком\". Эти данные нужны были для постройки модели прогонизующую уйдет ли клиент из банка или нет. Это часть мероприятий компании по сохранению клиентов.\n",
    "\n",
    "В результате подготовки данных к обчуению мы сделали следующее:\n",
    "1. Привели заголовки таблицы к хорошему стилю.\n",
    "2. Удалили пропущенные значения в столбце `tenure`.\n",
    "3. Разбили данные на обучающую, валидационную и тестовую выборки.\n",
    "4. Закодировали категоральные признаки техникой OHE.\n",
    "5. Масштабировали числовые признаки методом стандартизации данных.\n",
    "\n",
    "Изначальные модели дерева решений и случайного леса дали относительно высокий результат F1, но из-за дисбаланса мы не смогли их использовать для предсказания целевого признака. Количество ушедших клиентов в 4 раза меньше чем оставшихся. Дальше мы применили три способа борьбы с дисбалансом классов: Взвешивание классов, увеличение выборки и уменьшение выборки.\n",
    "\n",
    "Мы выполнили цель (создать модель со значением F1-меры не менее 0.59) и построили модель случайного леса с 40 деревьями и глубиной 11, обученную с помощью техники взвешивания классов. Получили значение меры F1:\n",
    "\n",
    "- на валидационной выборке: 0.609\n",
    "- на тестовой выборке: 0.613\n",
    "\n",
    "Параллельно мы изучили метрику AUC-ROC и поняли, что несмотря на увеличение F1-меры, мы получали достаточно скачущее значение AUC-ROC в пределах 0.81-0.85.\n",
    "\n",
    "Дальнейшие рекомендации:\n",
    "- Для улучшения метрик можно попробовать увеличить исходный набор данных.\n",
    "- Методы взвешивания классов и увеличения выборки лучше подходят для борьбы с дисбалансом классов\n",
    "- Модель случайного леса показывает наилучшие значения метрик\n",
    "- Модель логистической регрессии показывает наихудшие результаты на всех этапах проекта и не подходит для прогнозирования с имеющимися признаками."
   ]
  }
 ],
 "metadata": {
  "ExecuteTimeLog": [
   {
    "duration": 49,
    "start_time": "2023-06-17T11:20:05.020Z"
   },
   {
    "duration": 1540,
    "start_time": "2023-06-17T11:20:21.353Z"
   },
   {
    "duration": 326,
    "start_time": "2023-06-17T11:20:27.734Z"
   },
   {
    "duration": 17,
    "start_time": "2023-06-17T11:21:35.101Z"
   },
   {
    "duration": 11,
    "start_time": "2023-06-17T11:21:49.650Z"
   },
   {
    "duration": 184,
    "start_time": "2023-06-17T11:23:00.003Z"
   },
   {
    "duration": 1267,
    "start_time": "2023-06-17T11:23:56.503Z"
   },
   {
    "duration": 37,
    "start_time": "2023-06-17T11:26:39.658Z"
   },
   {
    "duration": 66,
    "start_time": "2023-06-17T12:50:46.500Z"
   },
   {
    "duration": 4,
    "start_time": "2023-06-17T12:50:48.698Z"
   },
   {
    "duration": 5,
    "start_time": "2023-06-17T12:51:24.398Z"
   },
   {
    "duration": 8,
    "start_time": "2023-06-17T12:56:38.131Z"
   },
   {
    "duration": 1337,
    "start_time": "2023-06-17T12:56:50.071Z"
   },
   {
    "duration": 191,
    "start_time": "2023-06-17T12:56:51.410Z"
   },
   {
    "duration": 17,
    "start_time": "2023-06-17T12:56:51.603Z"
   },
   {
    "duration": 35,
    "start_time": "2023-06-17T12:56:51.621Z"
   },
   {
    "duration": 42,
    "start_time": "2023-06-17T12:56:51.658Z"
   },
   {
    "duration": 1327,
    "start_time": "2023-06-17T12:56:51.701Z"
   },
   {
    "duration": 4,
    "start_time": "2023-06-17T12:56:53.030Z"
   },
   {
    "duration": 36,
    "start_time": "2023-06-17T12:56:53.035Z"
   },
   {
    "duration": 13,
    "start_time": "2023-06-17T13:00:20.989Z"
   },
   {
    "duration": 7,
    "start_time": "2023-06-17T13:03:42.093Z"
   },
   {
    "duration": 11,
    "start_time": "2023-06-17T13:07:23.306Z"
   },
   {
    "duration": 1245,
    "start_time": "2023-06-17T13:09:16.158Z"
   },
   {
    "duration": 1273,
    "start_time": "2023-06-17T13:09:55.724Z"
   },
   {
    "duration": 175,
    "start_time": "2023-06-17T13:09:56.999Z"
   },
   {
    "duration": 18,
    "start_time": "2023-06-17T13:09:57.175Z"
   },
   {
    "duration": 19,
    "start_time": "2023-06-17T13:09:57.194Z"
   },
   {
    "duration": 34,
    "start_time": "2023-06-17T13:09:57.215Z"
   },
   {
    "duration": 1247,
    "start_time": "2023-06-17T13:09:57.250Z"
   },
   {
    "duration": 4,
    "start_time": "2023-06-17T13:09:58.498Z"
   },
   {
    "duration": 45,
    "start_time": "2023-06-17T13:09:58.503Z"
   },
   {
    "duration": 29,
    "start_time": "2023-06-17T13:09:58.550Z"
   },
   {
    "duration": 44,
    "start_time": "2023-06-17T13:09:58.580Z"
   },
   {
    "duration": 5,
    "start_time": "2023-06-17T13:09:58.626Z"
   },
   {
    "duration": 6,
    "start_time": "2023-06-17T13:10:53.141Z"
   },
   {
    "duration": 1339,
    "start_time": "2023-06-17T13:13:10.434Z"
   },
   {
    "duration": 176,
    "start_time": "2023-06-17T13:13:11.775Z"
   },
   {
    "duration": 17,
    "start_time": "2023-06-17T13:13:11.952Z"
   },
   {
    "duration": 36,
    "start_time": "2023-06-17T13:13:11.970Z"
   },
   {
    "duration": 49,
    "start_time": "2023-06-17T13:13:12.008Z"
   },
   {
    "duration": 1345,
    "start_time": "2023-06-17T13:13:12.059Z"
   },
   {
    "duration": 5,
    "start_time": "2023-06-17T13:13:13.405Z"
   },
   {
    "duration": 23,
    "start_time": "2023-06-17T13:13:13.412Z"
   },
   {
    "duration": 28,
    "start_time": "2023-06-17T13:13:13.437Z"
   },
   {
    "duration": 34,
    "start_time": "2023-06-17T13:13:13.467Z"
   },
   {
    "duration": 16,
    "start_time": "2023-06-17T13:13:13.503Z"
   },
   {
    "duration": 20,
    "start_time": "2023-06-17T13:13:13.521Z"
   },
   {
    "duration": 140,
    "start_time": "2023-06-17T13:13:13.543Z"
   },
   {
    "duration": 16,
    "start_time": "2023-06-17T13:14:20.804Z"
   },
   {
    "duration": 20,
    "start_time": "2023-06-17T13:14:26.708Z"
   },
   {
    "duration": 25,
    "start_time": "2023-06-17T13:14:56.584Z"
   },
   {
    "duration": 85,
    "start_time": "2023-06-17T13:16:43.773Z"
   },
   {
    "duration": 126,
    "start_time": "2023-06-17T13:17:22.526Z"
   },
   {
    "duration": 110,
    "start_time": "2023-06-17T13:17:53.574Z"
   },
   {
    "duration": 103,
    "start_time": "2023-06-17T13:18:21.934Z"
   },
   {
    "duration": 116,
    "start_time": "2023-06-17T13:18:39.063Z"
   },
   {
    "duration": 20,
    "start_time": "2023-06-17T13:21:04.126Z"
   },
   {
    "duration": 9,
    "start_time": "2023-06-17T13:21:15.261Z"
   },
   {
    "duration": 21,
    "start_time": "2023-06-17T13:21:20.509Z"
   },
   {
    "duration": 131,
    "start_time": "2023-06-17T13:21:42.814Z"
   },
   {
    "duration": 117,
    "start_time": "2023-06-17T13:21:47.596Z"
   },
   {
    "duration": 222,
    "start_time": "2023-06-17T13:22:02.959Z"
   },
   {
    "duration": 125,
    "start_time": "2023-06-17T13:22:07.651Z"
   },
   {
    "duration": 233,
    "start_time": "2023-06-17T13:22:49.574Z"
   },
   {
    "duration": 188,
    "start_time": "2023-06-17T13:28:46.307Z"
   },
   {
    "duration": 102,
    "start_time": "2023-06-17T13:28:59.934Z"
   },
   {
    "duration": 107,
    "start_time": "2023-06-17T13:29:08.326Z"
   },
   {
    "duration": 114,
    "start_time": "2023-06-17T13:29:21.611Z"
   },
   {
    "duration": 12,
    "start_time": "2023-06-17T13:47:21.650Z"
   },
   {
    "duration": 25,
    "start_time": "2023-06-17T13:54:05.520Z"
   },
   {
    "duration": 5,
    "start_time": "2023-06-17T13:54:16.408Z"
   },
   {
    "duration": 14,
    "start_time": "2023-06-17T13:54:25.149Z"
   },
   {
    "duration": 1367,
    "start_time": "2023-06-17T13:54:34.483Z"
   },
   {
    "duration": 187,
    "start_time": "2023-06-17T13:54:35.852Z"
   },
   {
    "duration": 18,
    "start_time": "2023-06-17T13:54:36.041Z"
   },
   {
    "duration": 43,
    "start_time": "2023-06-17T13:54:36.060Z"
   },
   {
    "duration": 39,
    "start_time": "2023-06-17T13:54:36.105Z"
   },
   {
    "duration": 1300,
    "start_time": "2023-06-17T13:54:36.146Z"
   },
   {
    "duration": 4,
    "start_time": "2023-06-17T13:54:37.448Z"
   },
   {
    "duration": 23,
    "start_time": "2023-06-17T13:54:37.454Z"
   },
   {
    "duration": 30,
    "start_time": "2023-06-17T13:54:37.479Z"
   },
   {
    "duration": 38,
    "start_time": "2023-06-17T13:54:37.510Z"
   },
   {
    "duration": 5,
    "start_time": "2023-06-17T13:54:37.550Z"
   },
   {
    "duration": 11,
    "start_time": "2023-06-17T13:54:37.556Z"
   },
   {
    "duration": 38,
    "start_time": "2023-06-17T13:54:37.568Z"
   },
   {
    "duration": 10,
    "start_time": "2023-06-17T13:54:37.608Z"
   },
   {
    "duration": 35,
    "start_time": "2023-06-17T13:54:37.620Z"
   },
   {
    "duration": 133,
    "start_time": "2023-06-17T14:01:45.741Z"
   },
   {
    "duration": 11,
    "start_time": "2023-06-17T14:01:56.156Z"
   },
   {
    "duration": 13,
    "start_time": "2023-06-17T14:02:02.398Z"
   },
   {
    "duration": 1286,
    "start_time": "2023-06-17T14:02:37.091Z"
   },
   {
    "duration": 208,
    "start_time": "2023-06-17T14:02:38.379Z"
   },
   {
    "duration": 16,
    "start_time": "2023-06-17T14:02:38.588Z"
   },
   {
    "duration": 39,
    "start_time": "2023-06-17T14:02:38.606Z"
   },
   {
    "duration": 105,
    "start_time": "2023-06-17T14:02:38.647Z"
   },
   {
    "duration": 1336,
    "start_time": "2023-06-17T14:02:38.754Z"
   },
   {
    "duration": 3,
    "start_time": "2023-06-17T14:02:40.092Z"
   },
   {
    "duration": 55,
    "start_time": "2023-06-17T14:02:40.097Z"
   },
   {
    "duration": 22,
    "start_time": "2023-06-17T14:02:40.153Z"
   },
   {
    "duration": 17,
    "start_time": "2023-06-17T14:02:40.176Z"
   },
   {
    "duration": 7,
    "start_time": "2023-06-17T14:02:40.195Z"
   },
   {
    "duration": 48,
    "start_time": "2023-06-17T14:02:40.203Z"
   },
   {
    "duration": 38,
    "start_time": "2023-06-17T14:02:40.253Z"
   },
   {
    "duration": 9,
    "start_time": "2023-06-17T14:02:40.294Z"
   },
   {
    "duration": 42,
    "start_time": "2023-06-17T14:02:40.304Z"
   },
   {
    "duration": 33,
    "start_time": "2023-06-17T14:02:40.347Z"
   },
   {
    "duration": 31,
    "start_time": "2023-06-17T14:03:08.624Z"
   },
   {
    "duration": 16,
    "start_time": "2023-06-17T14:04:06.049Z"
   },
   {
    "duration": 1642,
    "start_time": "2023-06-17T14:13:05.472Z"
   },
   {
    "duration": 10,
    "start_time": "2023-06-17T14:13:14.207Z"
   },
   {
    "duration": 5,
    "start_time": "2023-06-17T14:13:47.170Z"
   },
   {
    "duration": 8,
    "start_time": "2023-06-17T14:17:33.792Z"
   },
   {
    "duration": 35,
    "start_time": "2023-06-17T14:18:05.568Z"
   },
   {
    "duration": 4,
    "start_time": "2023-06-17T14:21:51.689Z"
   },
   {
    "duration": 36,
    "start_time": "2023-06-17T14:26:23.590Z"
   },
   {
    "duration": 14,
    "start_time": "2023-06-17T14:27:08.920Z"
   },
   {
    "duration": 16,
    "start_time": "2023-06-17T14:27:14.865Z"
   },
   {
    "duration": 1340,
    "start_time": "2023-06-17T14:27:30.696Z"
   },
   {
    "duration": 200,
    "start_time": "2023-06-17T14:27:32.038Z"
   },
   {
    "duration": 17,
    "start_time": "2023-06-17T14:27:32.239Z"
   },
   {
    "duration": 69,
    "start_time": "2023-06-17T14:27:32.258Z"
   },
   {
    "duration": 183,
    "start_time": "2023-06-17T14:27:32.329Z"
   },
   {
    "duration": 1459,
    "start_time": "2023-06-17T14:27:32.514Z"
   },
   {
    "duration": 3,
    "start_time": "2023-06-17T14:27:33.975Z"
   },
   {
    "duration": 17,
    "start_time": "2023-06-17T14:27:33.980Z"
   },
   {
    "duration": 45,
    "start_time": "2023-06-17T14:27:33.998Z"
   },
   {
    "duration": 31,
    "start_time": "2023-06-17T14:27:34.044Z"
   },
   {
    "duration": 9,
    "start_time": "2023-06-17T14:27:34.076Z"
   },
   {
    "duration": 30,
    "start_time": "2023-06-17T14:27:34.087Z"
   },
   {
    "duration": 68,
    "start_time": "2023-06-17T14:27:34.119Z"
   },
   {
    "duration": 13,
    "start_time": "2023-06-17T14:27:34.190Z"
   },
   {
    "duration": 54,
    "start_time": "2023-06-17T14:27:34.204Z"
   },
   {
    "duration": 36,
    "start_time": "2023-06-17T14:27:34.260Z"
   },
   {
    "duration": 11,
    "start_time": "2023-06-17T14:27:34.297Z"
   },
   {
    "duration": 32,
    "start_time": "2023-06-17T14:27:34.310Z"
   },
   {
    "duration": 44,
    "start_time": "2023-06-17T14:27:34.344Z"
   },
   {
    "duration": 36,
    "start_time": "2023-06-17T14:27:34.390Z"
   },
   {
    "duration": 31,
    "start_time": "2023-06-17T14:28:18.361Z"
   },
   {
    "duration": 86,
    "start_time": "2023-06-17T14:28:33.000Z"
   },
   {
    "duration": 90,
    "start_time": "2023-06-17T14:28:51.464Z"
   },
   {
    "duration": 26,
    "start_time": "2023-06-17T14:29:12.353Z"
   },
   {
    "duration": 31,
    "start_time": "2023-06-17T14:30:17.997Z"
   },
   {
    "duration": 27,
    "start_time": "2023-06-17T14:30:28.846Z"
   },
   {
    "duration": 54,
    "start_time": "2023-06-19T14:34:11.664Z"
   },
   {
    "duration": 1554,
    "start_time": "2023-06-19T14:34:19.015Z"
   },
   {
    "duration": 490,
    "start_time": "2023-06-19T14:34:20.575Z"
   },
   {
    "duration": 28,
    "start_time": "2023-06-19T14:34:21.067Z"
   },
   {
    "duration": 12,
    "start_time": "2023-06-19T14:34:21.096Z"
   },
   {
    "duration": 33,
    "start_time": "2023-06-19T14:34:21.110Z"
   },
   {
    "duration": 1505,
    "start_time": "2023-06-19T14:34:21.145Z"
   },
   {
    "duration": 5,
    "start_time": "2023-06-19T14:34:22.652Z"
   },
   {
    "duration": 14,
    "start_time": "2023-06-19T14:34:22.667Z"
   },
   {
    "duration": 8,
    "start_time": "2023-06-19T14:34:22.683Z"
   },
   {
    "duration": 12,
    "start_time": "2023-06-19T14:34:22.693Z"
   },
   {
    "duration": 4,
    "start_time": "2023-06-19T14:34:22.707Z"
   },
   {
    "duration": 7,
    "start_time": "2023-06-19T14:34:22.713Z"
   },
   {
    "duration": 58,
    "start_time": "2023-06-19T14:34:22.721Z"
   },
   {
    "duration": 11,
    "start_time": "2023-06-19T14:34:22.782Z"
   },
   {
    "duration": 12,
    "start_time": "2023-06-19T14:34:22.794Z"
   },
   {
    "duration": 18,
    "start_time": "2023-06-19T14:34:22.807Z"
   },
   {
    "duration": 9,
    "start_time": "2023-06-19T14:34:22.826Z"
   },
   {
    "duration": 5,
    "start_time": "2023-06-19T14:34:22.837Z"
   },
   {
    "duration": 63,
    "start_time": "2023-06-19T14:34:22.844Z"
   },
   {
    "duration": 30,
    "start_time": "2023-06-19T14:34:22.909Z"
   },
   {
    "duration": 40,
    "start_time": "2023-06-19T14:35:20.161Z"
   },
   {
    "duration": 32,
    "start_time": "2023-06-19T14:35:35.804Z"
   },
   {
    "duration": 26,
    "start_time": "2023-06-19T14:35:56.190Z"
   },
   {
    "duration": 28,
    "start_time": "2023-06-19T14:36:36.102Z"
   },
   {
    "duration": 29,
    "start_time": "2023-06-19T14:38:34.325Z"
   },
   {
    "duration": 25,
    "start_time": "2023-06-19T14:41:27.601Z"
   },
   {
    "duration": 31,
    "start_time": "2023-06-19T14:43:30.780Z"
   },
   {
    "duration": 111,
    "start_time": "2023-06-19T14:51:06.149Z"
   },
   {
    "duration": 7,
    "start_time": "2023-06-19T15:15:49.914Z"
   },
   {
    "duration": 10,
    "start_time": "2023-06-19T15:16:14.067Z"
   },
   {
    "duration": 1416,
    "start_time": "2023-06-19T15:17:30.783Z"
   },
   {
    "duration": 178,
    "start_time": "2023-06-19T15:17:32.202Z"
   },
   {
    "duration": 23,
    "start_time": "2023-06-19T15:17:32.382Z"
   },
   {
    "duration": 17,
    "start_time": "2023-06-19T15:17:32.407Z"
   },
   {
    "duration": 49,
    "start_time": "2023-06-19T15:17:32.427Z"
   },
   {
    "duration": 1387,
    "start_time": "2023-06-19T15:17:32.477Z"
   },
   {
    "duration": 4,
    "start_time": "2023-06-19T15:17:33.867Z"
   },
   {
    "duration": 10,
    "start_time": "2023-06-19T15:17:33.872Z"
   },
   {
    "duration": 12,
    "start_time": "2023-06-19T15:17:33.884Z"
   },
   {
    "duration": 8,
    "start_time": "2023-06-19T15:17:33.899Z"
   },
   {
    "duration": 7,
    "start_time": "2023-06-19T15:17:33.908Z"
   },
   {
    "duration": 12,
    "start_time": "2023-06-19T15:17:33.917Z"
   },
   {
    "duration": 6,
    "start_time": "2023-06-19T15:17:33.930Z"
   },
   {
    "duration": 9,
    "start_time": "2023-06-19T15:17:33.967Z"
   },
   {
    "duration": 38,
    "start_time": "2023-06-19T15:17:33.978Z"
   },
   {
    "duration": 15,
    "start_time": "2023-06-19T15:17:34.018Z"
   },
   {
    "duration": 43,
    "start_time": "2023-06-19T15:17:34.035Z"
   },
   {
    "duration": 22,
    "start_time": "2023-06-19T15:17:34.082Z"
   },
   {
    "duration": 13,
    "start_time": "2023-06-19T15:17:34.106Z"
   },
   {
    "duration": 7,
    "start_time": "2023-06-19T15:17:34.122Z"
   },
   {
    "duration": 76,
    "start_time": "2023-06-19T15:17:34.131Z"
   },
   {
    "duration": 130,
    "start_time": "2023-06-19T15:17:34.209Z"
   },
   {
    "duration": 0,
    "start_time": "2023-06-19T15:17:34.341Z"
   },
   {
    "duration": 34,
    "start_time": "2023-06-19T15:18:41.627Z"
   },
   {
    "duration": 21,
    "start_time": "2023-06-19T15:19:56.644Z"
   },
   {
    "duration": 7,
    "start_time": "2023-06-19T15:20:27.906Z"
   },
   {
    "duration": 1341,
    "start_time": "2023-06-19T15:20:34.235Z"
   },
   {
    "duration": 170,
    "start_time": "2023-06-19T15:20:35.578Z"
   },
   {
    "duration": 17,
    "start_time": "2023-06-19T15:20:35.750Z"
   },
   {
    "duration": 21,
    "start_time": "2023-06-19T15:20:35.769Z"
   },
   {
    "duration": 54,
    "start_time": "2023-06-19T15:20:35.792Z"
   },
   {
    "duration": 1361,
    "start_time": "2023-06-19T15:20:35.848Z"
   },
   {
    "duration": 4,
    "start_time": "2023-06-19T15:20:37.211Z"
   },
   {
    "duration": 8,
    "start_time": "2023-06-19T15:20:37.217Z"
   },
   {
    "duration": 8,
    "start_time": "2023-06-19T15:20:37.227Z"
   },
   {
    "duration": 30,
    "start_time": "2023-06-19T15:20:37.238Z"
   },
   {
    "duration": 9,
    "start_time": "2023-06-19T15:20:37.270Z"
   },
   {
    "duration": 18,
    "start_time": "2023-06-19T15:20:37.281Z"
   },
   {
    "duration": 7,
    "start_time": "2023-06-19T15:20:37.300Z"
   },
   {
    "duration": 17,
    "start_time": "2023-06-19T15:20:37.309Z"
   },
   {
    "duration": 47,
    "start_time": "2023-06-19T15:20:37.328Z"
   },
   {
    "duration": 12,
    "start_time": "2023-06-19T15:20:37.377Z"
   },
   {
    "duration": 12,
    "start_time": "2023-06-19T15:20:37.391Z"
   },
   {
    "duration": 27,
    "start_time": "2023-06-19T15:20:37.405Z"
   },
   {
    "duration": 17,
    "start_time": "2023-06-19T15:20:37.434Z"
   },
   {
    "duration": 18,
    "start_time": "2023-06-19T15:20:37.453Z"
   },
   {
    "duration": 45,
    "start_time": "2023-06-19T15:20:37.473Z"
   },
   {
    "duration": 144,
    "start_time": "2023-06-19T15:20:37.520Z"
   },
   {
    "duration": 0,
    "start_time": "2023-06-19T15:20:37.666Z"
   },
   {
    "duration": 1421,
    "start_time": "2023-06-19T15:20:54.612Z"
   },
   {
    "duration": 245,
    "start_time": "2023-06-19T15:20:56.035Z"
   },
   {
    "duration": 18,
    "start_time": "2023-06-19T15:20:56.282Z"
   },
   {
    "duration": 11,
    "start_time": "2023-06-19T15:20:56.302Z"
   },
   {
    "duration": 41,
    "start_time": "2023-06-19T15:20:56.315Z"
   },
   {
    "duration": 1594,
    "start_time": "2023-06-19T15:20:56.358Z"
   },
   {
    "duration": 5,
    "start_time": "2023-06-19T15:20:57.953Z"
   },
   {
    "duration": 35,
    "start_time": "2023-06-19T15:20:57.959Z"
   },
   {
    "duration": 12,
    "start_time": "2023-06-19T15:20:57.996Z"
   },
   {
    "duration": 9,
    "start_time": "2023-06-19T15:20:58.010Z"
   },
   {
    "duration": 7,
    "start_time": "2023-06-19T15:20:58.020Z"
   },
   {
    "duration": 11,
    "start_time": "2023-06-19T15:20:58.029Z"
   },
   {
    "duration": 6,
    "start_time": "2023-06-19T15:20:58.041Z"
   },
   {
    "duration": 8,
    "start_time": "2023-06-19T15:20:58.071Z"
   },
   {
    "duration": 64,
    "start_time": "2023-06-19T15:20:58.081Z"
   },
   {
    "duration": 12,
    "start_time": "2023-06-19T15:20:58.147Z"
   },
   {
    "duration": 15,
    "start_time": "2023-06-19T15:20:58.160Z"
   },
   {
    "duration": 40,
    "start_time": "2023-06-19T15:20:58.177Z"
   },
   {
    "duration": 18,
    "start_time": "2023-06-19T15:20:58.218Z"
   },
   {
    "duration": 17,
    "start_time": "2023-06-19T15:20:58.238Z"
   },
   {
    "duration": 50,
    "start_time": "2023-06-19T15:20:58.257Z"
   },
   {
    "duration": 133,
    "start_time": "2023-06-19T15:20:58.309Z"
   },
   {
    "duration": 0,
    "start_time": "2023-06-19T15:20:58.444Z"
   },
   {
    "duration": 31,
    "start_time": "2023-06-19T15:21:40.183Z"
   },
   {
    "duration": 7,
    "start_time": "2023-06-19T15:33:47.667Z"
   },
   {
    "duration": 8,
    "start_time": "2023-06-19T15:36:13.218Z"
   },
   {
    "duration": 9,
    "start_time": "2023-06-19T15:36:29.795Z"
   },
   {
    "duration": 7,
    "start_time": "2023-06-19T15:36:33.138Z"
   },
   {
    "duration": 6,
    "start_time": "2023-06-19T15:36:49.833Z"
   },
   {
    "duration": 7,
    "start_time": "2023-06-19T15:36:53.992Z"
   },
   {
    "duration": 32,
    "start_time": "2023-06-19T15:51:24.398Z"
   },
   {
    "duration": 7,
    "start_time": "2023-06-19T15:54:58.329Z"
   },
   {
    "duration": 289,
    "start_time": "2023-06-19T15:58:22.783Z"
   },
   {
    "duration": 272,
    "start_time": "2023-06-19T16:01:29.453Z"
   },
   {
    "duration": 10001,
    "start_time": "2023-06-19T16:02:36.034Z"
   },
   {
    "duration": 527,
    "start_time": "2023-06-19T16:03:52.352Z"
   },
   {
    "duration": 24,
    "start_time": "2023-06-19T16:06:03.669Z"
   },
   {
    "duration": 15,
    "start_time": "2023-06-19T16:06:14.660Z"
   },
   {
    "duration": 7,
    "start_time": "2023-06-19T16:06:37.505Z"
   },
   {
    "duration": 21,
    "start_time": "2023-06-19T16:20:08.213Z"
   },
   {
    "duration": 345,
    "start_time": "2023-06-19T16:22:19.528Z"
   },
   {
    "duration": 326,
    "start_time": "2023-06-19T16:23:01.318Z"
   },
   {
    "duration": 9905,
    "start_time": "2023-06-19T16:23:49.324Z"
   },
   {
    "duration": 10078,
    "start_time": "2023-06-19T16:24:01.208Z"
   },
   {
    "duration": 575,
    "start_time": "2023-06-19T16:24:38.499Z"
   },
   {
    "duration": 35321,
    "start_time": "2023-06-19T17:03:19.288Z"
   },
   {
    "duration": 4,
    "start_time": "2023-06-19T17:05:46.394Z"
   },
   {
    "duration": 1460,
    "start_time": "2023-06-19T17:05:52.157Z"
   },
   {
    "duration": 185,
    "start_time": "2023-06-19T17:05:53.618Z"
   },
   {
    "duration": 18,
    "start_time": "2023-06-19T17:05:53.805Z"
   },
   {
    "duration": 18,
    "start_time": "2023-06-19T17:05:53.825Z"
   },
   {
    "duration": 59,
    "start_time": "2023-06-19T17:05:53.845Z"
   },
   {
    "duration": 1443,
    "start_time": "2023-06-19T17:05:53.906Z"
   },
   {
    "duration": 5,
    "start_time": "2023-06-19T17:05:55.352Z"
   },
   {
    "duration": 22,
    "start_time": "2023-06-19T17:05:55.358Z"
   },
   {
    "duration": 32,
    "start_time": "2023-06-19T17:05:55.381Z"
   },
   {
    "duration": 16,
    "start_time": "2023-06-19T17:05:55.417Z"
   },
   {
    "duration": 37,
    "start_time": "2023-06-19T17:05:55.435Z"
   },
   {
    "duration": 37,
    "start_time": "2023-06-19T17:05:55.475Z"
   },
   {
    "duration": 9,
    "start_time": "2023-06-19T17:05:55.515Z"
   },
   {
    "duration": 17,
    "start_time": "2023-06-19T17:05:55.526Z"
   },
   {
    "duration": 38,
    "start_time": "2023-06-19T17:05:55.545Z"
   },
   {
    "duration": 11,
    "start_time": "2023-06-19T17:05:55.584Z"
   },
   {
    "duration": 13,
    "start_time": "2023-06-19T17:05:55.596Z"
   },
   {
    "duration": 40,
    "start_time": "2023-06-19T17:05:55.610Z"
   },
   {
    "duration": 27,
    "start_time": "2023-06-19T17:05:55.652Z"
   },
   {
    "duration": 9,
    "start_time": "2023-06-19T17:05:55.680Z"
   },
   {
    "duration": 54,
    "start_time": "2023-06-19T17:05:55.691Z"
   },
   {
    "duration": 34,
    "start_time": "2023-06-19T17:05:55.746Z"
   },
   {
    "duration": 5,
    "start_time": "2023-06-19T17:05:55.781Z"
   },
   {
    "duration": 320,
    "start_time": "2023-06-19T17:05:55.788Z"
   },
   {
    "duration": 36021,
    "start_time": "2023-06-19T17:05:56.111Z"
   },
   {
    "duration": 1044,
    "start_time": "2023-06-19T17:06:32.134Z"
   },
   {
    "duration": 10430,
    "start_time": "2023-06-19T17:08:21.437Z"
   },
   {
    "duration": 29982,
    "start_time": "2023-06-19T17:08:44.744Z"
   },
   {
    "duration": 10329,
    "start_time": "2023-06-19T17:09:59.823Z"
   },
   {
    "duration": 1555,
    "start_time": "2023-06-20T14:27:38.153Z"
   },
   {
    "duration": 217,
    "start_time": "2023-06-20T14:27:39.710Z"
   },
   {
    "duration": 18,
    "start_time": "2023-06-20T14:27:39.929Z"
   },
   {
    "duration": 13,
    "start_time": "2023-06-20T14:27:39.949Z"
   },
   {
    "duration": 45,
    "start_time": "2023-06-20T14:27:39.963Z"
   },
   {
    "duration": 1434,
    "start_time": "2023-06-20T14:27:40.009Z"
   },
   {
    "duration": 4,
    "start_time": "2023-06-20T14:27:41.445Z"
   },
   {
    "duration": 21,
    "start_time": "2023-06-20T14:27:41.450Z"
   },
   {
    "duration": 10,
    "start_time": "2023-06-20T14:27:41.472Z"
   },
   {
    "duration": 8,
    "start_time": "2023-06-20T14:27:41.486Z"
   },
   {
    "duration": 11,
    "start_time": "2023-06-20T14:27:41.496Z"
   },
   {
    "duration": 14,
    "start_time": "2023-06-20T14:27:41.509Z"
   },
   {
    "duration": 6,
    "start_time": "2023-06-20T14:27:41.525Z"
   },
   {
    "duration": 20,
    "start_time": "2023-06-20T14:27:41.532Z"
   },
   {
    "duration": 40,
    "start_time": "2023-06-20T14:27:41.554Z"
   },
   {
    "duration": 14,
    "start_time": "2023-06-20T14:27:41.596Z"
   },
   {
    "duration": 21,
    "start_time": "2023-06-20T14:27:41.612Z"
   },
   {
    "duration": 27,
    "start_time": "2023-06-20T14:27:41.635Z"
   },
   {
    "duration": 10,
    "start_time": "2023-06-20T14:27:41.676Z"
   },
   {
    "duration": 22,
    "start_time": "2023-06-20T14:27:41.687Z"
   },
   {
    "duration": 53,
    "start_time": "2023-06-20T14:27:41.711Z"
   },
   {
    "duration": 32,
    "start_time": "2023-06-20T14:27:41.766Z"
   },
   {
    "duration": 5,
    "start_time": "2023-06-20T14:27:41.800Z"
   },
   {
    "duration": 295,
    "start_time": "2023-06-20T14:27:41.807Z"
   },
   {
    "duration": 9875,
    "start_time": "2023-06-20T14:27:42.103Z"
   },
   {
    "duration": 799,
    "start_time": "2023-06-20T14:27:51.980Z"
   },
   {
    "duration": 9799,
    "start_time": "2023-06-20T14:28:46.348Z"
   },
   {
    "duration": 6,
    "start_time": "2023-06-20T14:29:06.185Z"
   },
   {
    "duration": 8,
    "start_time": "2023-06-20T14:35:21.444Z"
   },
   {
    "duration": 10,
    "start_time": "2023-06-20T14:39:40.358Z"
   },
   {
    "duration": 101,
    "start_time": "2023-06-20T14:49:21.782Z"
   },
   {
    "duration": 8,
    "start_time": "2023-06-20T14:49:27.709Z"
   },
   {
    "duration": 6,
    "start_time": "2023-06-20T14:49:30.795Z"
   },
   {
    "duration": 335,
    "start_time": "2023-06-20T15:02:56.291Z"
   },
   {
    "duration": 294,
    "start_time": "2023-06-20T15:03:04.500Z"
   },
   {
    "duration": 1428,
    "start_time": "2023-06-20T15:03:18.188Z"
   },
   {
    "duration": 270,
    "start_time": "2023-06-20T15:03:19.618Z"
   },
   {
    "duration": 19,
    "start_time": "2023-06-20T15:03:19.889Z"
   },
   {
    "duration": 38,
    "start_time": "2023-06-20T15:03:19.910Z"
   },
   {
    "duration": 38,
    "start_time": "2023-06-20T15:03:19.950Z"
   },
   {
    "duration": 1457,
    "start_time": "2023-06-20T15:03:19.990Z"
   },
   {
    "duration": 4,
    "start_time": "2023-06-20T15:03:21.449Z"
   },
   {
    "duration": 23,
    "start_time": "2023-06-20T15:03:21.455Z"
   },
   {
    "duration": 12,
    "start_time": "2023-06-20T15:03:21.480Z"
   },
   {
    "duration": 15,
    "start_time": "2023-06-20T15:03:21.494Z"
   },
   {
    "duration": 14,
    "start_time": "2023-06-20T15:03:21.511Z"
   },
   {
    "duration": 12,
    "start_time": "2023-06-20T15:03:21.527Z"
   },
   {
    "duration": 6,
    "start_time": "2023-06-20T15:03:21.541Z"
   },
   {
    "duration": 11,
    "start_time": "2023-06-20T15:03:21.548Z"
   },
   {
    "duration": 37,
    "start_time": "2023-06-20T15:03:21.561Z"
   },
   {
    "duration": 13,
    "start_time": "2023-06-20T15:03:21.600Z"
   },
   {
    "duration": 14,
    "start_time": "2023-06-20T15:03:21.614Z"
   },
   {
    "duration": 50,
    "start_time": "2023-06-20T15:03:21.630Z"
   },
   {
    "duration": 11,
    "start_time": "2023-06-20T15:03:21.682Z"
   },
   {
    "duration": 11,
    "start_time": "2023-06-20T15:03:21.695Z"
   },
   {
    "duration": 47,
    "start_time": "2023-06-20T15:03:21.707Z"
   },
   {
    "duration": 47,
    "start_time": "2023-06-20T15:03:21.756Z"
   },
   {
    "duration": 5,
    "start_time": "2023-06-20T15:03:21.805Z"
   },
   {
    "duration": 305,
    "start_time": "2023-06-20T15:03:21.812Z"
   },
   {
    "duration": 10695,
    "start_time": "2023-06-20T15:03:22.119Z"
   },
   {
    "duration": 863,
    "start_time": "2023-06-20T15:03:32.816Z"
   },
   {
    "duration": 99,
    "start_time": "2023-06-20T15:03:33.682Z"
   },
   {
    "duration": 95,
    "start_time": "2023-06-20T15:03:33.784Z"
   },
   {
    "duration": 24,
    "start_time": "2023-06-20T15:03:33.881Z"
   },
   {
    "duration": 35,
    "start_time": "2023-06-20T15:03:33.907Z"
   },
   {
    "duration": 336,
    "start_time": "2023-06-20T15:03:33.944Z"
   },
   {
    "duration": 118,
    "start_time": "2023-06-20T15:04:31.052Z"
   },
   {
    "duration": 122,
    "start_time": "2023-06-20T15:05:21.574Z"
   },
   {
    "duration": 278,
    "start_time": "2023-06-20T15:42:27.769Z"
   },
   {
    "duration": 298,
    "start_time": "2023-06-20T15:44:49.572Z"
   },
   {
    "duration": 10653,
    "start_time": "2023-06-20T15:45:11.593Z"
   },
   {
    "duration": 514,
    "start_time": "2023-06-20T15:45:26.792Z"
   },
   {
    "duration": 308,
    "start_time": "2023-06-20T15:46:20.871Z"
   },
   {
    "duration": 324,
    "start_time": "2023-06-20T15:46:57.712Z"
   },
   {
    "duration": 318,
    "start_time": "2023-06-20T15:47:10.439Z"
   },
   {
    "duration": 309,
    "start_time": "2023-06-20T15:48:14.668Z"
   },
   {
    "duration": 307,
    "start_time": "2023-06-20T15:48:25.448Z"
   },
   {
    "duration": 326,
    "start_time": "2023-06-20T15:50:47.892Z"
   },
   {
    "duration": 348,
    "start_time": "2023-06-20T15:51:00.828Z"
   },
   {
    "duration": 314,
    "start_time": "2023-06-20T15:51:25.229Z"
   },
   {
    "duration": 335,
    "start_time": "2023-06-20T15:53:45.727Z"
   },
   {
    "duration": 10812,
    "start_time": "2023-06-20T15:54:29.926Z"
   },
   {
    "duration": 9988,
    "start_time": "2023-06-20T15:55:32.432Z"
   },
   {
    "duration": 1320,
    "start_time": "2023-06-20T15:55:44.359Z"
   },
   {
    "duration": 738,
    "start_time": "2023-06-20T15:56:10.840Z"
   },
   {
    "duration": 10191,
    "start_time": "2023-06-20T15:56:18.032Z"
   },
   {
    "duration": 269,
    "start_time": "2023-06-20T15:57:29.307Z"
   },
   {
    "duration": 281,
    "start_time": "2023-06-20T15:57:59.483Z"
   },
   {
    "duration": 310,
    "start_time": "2023-06-20T15:59:12.539Z"
   },
   {
    "duration": 298,
    "start_time": "2023-06-20T15:59:16.668Z"
   },
   {
    "duration": 413,
    "start_time": "2023-06-20T15:59:24.764Z"
   },
   {
    "duration": 6,
    "start_time": "2023-06-20T16:13:35.458Z"
   },
   {
    "duration": 123,
    "start_time": "2023-06-20T16:15:21.548Z"
   },
   {
    "duration": 4,
    "start_time": "2023-06-20T16:15:25.244Z"
   },
   {
    "duration": 18,
    "start_time": "2023-06-20T16:15:28.037Z"
   },
   {
    "duration": 3,
    "start_time": "2023-06-20T16:16:08.499Z"
   },
   {
    "duration": 10,
    "start_time": "2023-06-20T16:16:16.669Z"
   },
   {
    "duration": 5,
    "start_time": "2023-06-20T16:16:19.814Z"
   },
   {
    "duration": 5,
    "start_time": "2023-06-20T16:16:25.300Z"
   },
   {
    "duration": 4,
    "start_time": "2023-06-20T16:16:27.473Z"
   },
   {
    "duration": 10,
    "start_time": "2023-06-20T16:16:30.475Z"
   },
   {
    "duration": 1371,
    "start_time": "2023-06-20T16:16:39.188Z"
   },
   {
    "duration": 209,
    "start_time": "2023-06-20T16:16:40.561Z"
   },
   {
    "duration": 17,
    "start_time": "2023-06-20T16:16:40.771Z"
   },
   {
    "duration": 11,
    "start_time": "2023-06-20T16:16:40.790Z"
   },
   {
    "duration": 36,
    "start_time": "2023-06-20T16:16:40.802Z"
   },
   {
    "duration": 1509,
    "start_time": "2023-06-20T16:16:40.839Z"
   },
   {
    "duration": 5,
    "start_time": "2023-06-20T16:16:42.349Z"
   },
   {
    "duration": 9,
    "start_time": "2023-06-20T16:16:42.355Z"
   },
   {
    "duration": 8,
    "start_time": "2023-06-20T16:16:42.375Z"
   },
   {
    "duration": 8,
    "start_time": "2023-06-20T16:16:42.387Z"
   },
   {
    "duration": 7,
    "start_time": "2023-06-20T16:16:42.397Z"
   },
   {
    "duration": 47,
    "start_time": "2023-06-20T16:16:42.406Z"
   },
   {
    "duration": 6,
    "start_time": "2023-06-20T16:16:42.454Z"
   },
   {
    "duration": 7,
    "start_time": "2023-06-20T16:16:42.462Z"
   },
   {
    "duration": 29,
    "start_time": "2023-06-20T16:16:42.470Z"
   },
   {
    "duration": 11,
    "start_time": "2023-06-20T16:16:42.500Z"
   },
   {
    "duration": 11,
    "start_time": "2023-06-20T16:16:42.513Z"
   },
   {
    "duration": 24,
    "start_time": "2023-06-20T16:16:42.525Z"
   },
   {
    "duration": 33,
    "start_time": "2023-06-20T16:16:42.551Z"
   },
   {
    "duration": 5,
    "start_time": "2023-06-20T16:16:42.586Z"
   },
   {
    "duration": 52,
    "start_time": "2023-06-20T16:16:42.592Z"
   },
   {
    "duration": 51,
    "start_time": "2023-06-20T16:16:42.646Z"
   },
   {
    "duration": 6,
    "start_time": "2023-06-20T16:16:42.699Z"
   },
   {
    "duration": 287,
    "start_time": "2023-06-20T16:16:42.706Z"
   },
   {
    "duration": 9940,
    "start_time": "2023-06-20T16:16:42.995Z"
   },
   {
    "duration": 940,
    "start_time": "2023-06-20T16:16:52.937Z"
   },
   {
    "duration": 98,
    "start_time": "2023-06-20T16:16:53.879Z"
   },
   {
    "duration": 13,
    "start_time": "2023-06-20T16:16:53.981Z"
   },
   {
    "duration": 32,
    "start_time": "2023-06-20T16:16:53.996Z"
   },
   {
    "duration": 7,
    "start_time": "2023-06-20T16:16:54.030Z"
   },
   {
    "duration": 303,
    "start_time": "2023-06-20T16:16:54.038Z"
   },
   {
    "duration": 10617,
    "start_time": "2023-06-20T16:16:54.343Z"
   },
   {
    "duration": 321,
    "start_time": "2023-06-20T16:17:04.961Z"
   },
   {
    "duration": 94,
    "start_time": "2023-06-20T16:17:05.285Z"
   },
   {
    "duration": 17,
    "start_time": "2023-06-20T16:17:05.475Z"
   },
   {
    "duration": 11,
    "start_time": "2023-06-20T16:17:05.494Z"
   },
   {
    "duration": 12,
    "start_time": "2023-06-20T16:17:09.385Z"
   },
   {
    "duration": 12,
    "start_time": "2023-06-20T16:17:13.452Z"
   },
   {
    "duration": 11,
    "start_time": "2023-06-20T16:17:15.542Z"
   },
   {
    "duration": 1364,
    "start_time": "2023-06-20T16:17:59.386Z"
   },
   {
    "duration": 208,
    "start_time": "2023-06-20T16:18:00.753Z"
   },
   {
    "duration": 21,
    "start_time": "2023-06-20T16:18:00.963Z"
   },
   {
    "duration": 62,
    "start_time": "2023-06-20T16:18:00.986Z"
   },
   {
    "duration": 97,
    "start_time": "2023-06-20T16:18:01.050Z"
   },
   {
    "duration": 1694,
    "start_time": "2023-06-20T16:18:01.149Z"
   },
   {
    "duration": 5,
    "start_time": "2023-06-20T16:18:02.845Z"
   },
   {
    "duration": 38,
    "start_time": "2023-06-20T16:18:02.852Z"
   },
   {
    "duration": 8,
    "start_time": "2023-06-20T16:18:02.892Z"
   },
   {
    "duration": 14,
    "start_time": "2023-06-20T16:18:02.901Z"
   },
   {
    "duration": 7,
    "start_time": "2023-06-20T16:18:02.917Z"
   },
   {
    "duration": 14,
    "start_time": "2023-06-20T16:18:02.925Z"
   },
   {
    "duration": 12,
    "start_time": "2023-06-20T16:18:02.940Z"
   },
   {
    "duration": 16,
    "start_time": "2023-06-20T16:18:02.955Z"
   },
   {
    "duration": 35,
    "start_time": "2023-06-20T16:18:02.975Z"
   },
   {
    "duration": 11,
    "start_time": "2023-06-20T16:18:03.011Z"
   },
   {
    "duration": 26,
    "start_time": "2023-06-20T16:18:03.023Z"
   },
   {
    "duration": 56,
    "start_time": "2023-06-20T16:18:03.051Z"
   },
   {
    "duration": 28,
    "start_time": "2023-06-20T16:18:03.109Z"
   },
   {
    "duration": 19,
    "start_time": "2023-06-20T16:18:03.139Z"
   },
   {
    "duration": 67,
    "start_time": "2023-06-20T16:18:03.160Z"
   },
   {
    "duration": 47,
    "start_time": "2023-06-20T16:18:03.229Z"
   },
   {
    "duration": 26,
    "start_time": "2023-06-20T16:18:03.279Z"
   },
   {
    "duration": 302,
    "start_time": "2023-06-20T16:18:03.307Z"
   },
   {
    "duration": 10660,
    "start_time": "2023-06-20T16:18:03.611Z"
   },
   {
    "duration": 621,
    "start_time": "2023-06-20T16:18:14.272Z"
   },
   {
    "duration": 83,
    "start_time": "2023-06-20T16:18:14.895Z"
   },
   {
    "duration": 117,
    "start_time": "2023-06-20T16:18:14.983Z"
   },
   {
    "duration": 18,
    "start_time": "2023-06-20T16:18:15.102Z"
   },
   {
    "duration": 24,
    "start_time": "2023-06-20T16:18:15.121Z"
   },
   {
    "duration": 313,
    "start_time": "2023-06-20T16:18:15.147Z"
   },
   {
    "duration": 10701,
    "start_time": "2023-06-20T16:18:15.462Z"
   },
   {
    "duration": 221,
    "start_time": "2023-06-20T16:18:26.164Z"
   },
   {
    "duration": 7,
    "start_time": "2023-06-20T16:18:26.387Z"
   },
   {
    "duration": 124,
    "start_time": "2023-06-20T16:18:26.476Z"
   },
   {
    "duration": 28,
    "start_time": "2023-06-20T16:18:26.601Z"
   },
   {
    "duration": 398,
    "start_time": "2023-06-20T16:19:19.958Z"
   },
   {
    "duration": 15901,
    "start_time": "2023-06-20T16:20:12.602Z"
   },
   {
    "duration": 263,
    "start_time": "2023-06-20T16:20:40.538Z"
   },
   {
    "duration": 4,
    "start_time": "2023-06-20T16:44:21.422Z"
   },
   {
    "duration": 12,
    "start_time": "2023-06-20T16:44:42.794Z"
   },
   {
    "duration": 11,
    "start_time": "2023-06-20T16:44:49.957Z"
   },
   {
    "duration": 11,
    "start_time": "2023-06-20T16:45:37.483Z"
   },
   {
    "duration": 109,
    "start_time": "2023-06-20T16:46:22.496Z"
   },
   {
    "duration": 171,
    "start_time": "2023-06-20T16:46:32.634Z"
   },
   {
    "duration": 6559,
    "start_time": "2023-06-20T16:46:56.629Z"
   },
   {
    "duration": 187,
    "start_time": "2023-06-20T16:47:21.988Z"
   },
   {
    "duration": 285,
    "start_time": "2023-06-20T16:48:08.701Z"
   },
   {
    "duration": 279,
    "start_time": "2023-06-20T16:48:18.708Z"
   },
   {
    "duration": 696,
    "start_time": "2023-06-20T16:48:34.982Z"
   },
   {
    "duration": 1558,
    "start_time": "2023-06-20T16:48:55.750Z"
   },
   {
    "duration": 196,
    "start_time": "2023-06-20T16:48:57.309Z"
   },
   {
    "duration": 18,
    "start_time": "2023-06-20T16:48:57.507Z"
   },
   {
    "duration": 20,
    "start_time": "2023-06-20T16:48:57.527Z"
   },
   {
    "duration": 55,
    "start_time": "2023-06-20T16:48:57.549Z"
   },
   {
    "duration": 1485,
    "start_time": "2023-06-20T16:48:57.606Z"
   },
   {
    "duration": 5,
    "start_time": "2023-06-20T16:48:59.093Z"
   },
   {
    "duration": 23,
    "start_time": "2023-06-20T16:48:59.101Z"
   },
   {
    "duration": 25,
    "start_time": "2023-06-20T16:48:59.126Z"
   },
   {
    "duration": 20,
    "start_time": "2023-06-20T16:48:59.155Z"
   },
   {
    "duration": 28,
    "start_time": "2023-06-20T16:48:59.177Z"
   },
   {
    "duration": 23,
    "start_time": "2023-06-20T16:48:59.207Z"
   },
   {
    "duration": 9,
    "start_time": "2023-06-20T16:48:59.232Z"
   },
   {
    "duration": 17,
    "start_time": "2023-06-20T16:48:59.243Z"
   },
   {
    "duration": 32,
    "start_time": "2023-06-20T16:48:59.262Z"
   },
   {
    "duration": 11,
    "start_time": "2023-06-20T16:48:59.295Z"
   },
   {
    "duration": 14,
    "start_time": "2023-06-20T16:48:59.308Z"
   },
   {
    "duration": 21,
    "start_time": "2023-06-20T16:48:59.323Z"
   },
   {
    "duration": 36,
    "start_time": "2023-06-20T16:48:59.345Z"
   },
   {
    "duration": 6,
    "start_time": "2023-06-20T16:48:59.382Z"
   },
   {
    "duration": 63,
    "start_time": "2023-06-20T16:48:59.389Z"
   },
   {
    "duration": 30,
    "start_time": "2023-06-20T16:48:59.453Z"
   },
   {
    "duration": 5,
    "start_time": "2023-06-20T16:48:59.484Z"
   },
   {
    "duration": 289,
    "start_time": "2023-06-20T16:48:59.491Z"
   },
   {
    "duration": 10246,
    "start_time": "2023-06-20T16:48:59.782Z"
   },
   {
    "duration": 751,
    "start_time": "2023-06-20T16:49:10.030Z"
   },
   {
    "duration": 99,
    "start_time": "2023-06-20T16:49:10.784Z"
   },
   {
    "duration": 88,
    "start_time": "2023-06-20T16:49:10.889Z"
   },
   {
    "duration": 33,
    "start_time": "2023-06-20T16:49:10.979Z"
   },
   {
    "duration": 47,
    "start_time": "2023-06-20T16:49:11.014Z"
   },
   {
    "duration": 335,
    "start_time": "2023-06-20T16:49:11.063Z"
   },
   {
    "duration": 9986,
    "start_time": "2023-06-20T16:49:11.400Z"
   },
   {
    "duration": 296,
    "start_time": "2023-06-20T16:49:21.388Z"
   },
   {
    "duration": 91,
    "start_time": "2023-06-20T16:49:21.686Z"
   },
   {
    "duration": 113,
    "start_time": "2023-06-20T16:49:21.780Z"
   },
   {
    "duration": 15,
    "start_time": "2023-06-20T16:49:21.895Z"
   },
   {
    "duration": 377,
    "start_time": "2023-06-20T16:49:21.911Z"
   },
   {
    "duration": 13918,
    "start_time": "2023-06-20T16:49:22.290Z"
   },
   {
    "duration": 371,
    "start_time": "2023-06-20T16:49:36.209Z"
   },
   {
    "duration": 94,
    "start_time": "2023-06-20T16:49:36.582Z"
   },
   {
    "duration": 19,
    "start_time": "2023-06-20T16:49:36.678Z"
   },
   {
    "duration": 215,
    "start_time": "2023-06-20T16:49:36.699Z"
   },
   {
    "duration": 6272,
    "start_time": "2023-06-20T16:49:36.916Z"
   },
   {
    "duration": 191,
    "start_time": "2023-06-20T16:49:43.190Z"
   },
   {
    "duration": 155,
    "start_time": "2023-06-20T16:50:29.225Z"
   },
   {
    "duration": 137,
    "start_time": "2023-06-20T16:51:40.944Z"
   },
   {
    "duration": 109,
    "start_time": "2023-06-20T16:51:58.401Z"
   },
   {
    "duration": 4,
    "start_time": "2023-06-20T16:52:02.478Z"
   },
   {
    "duration": 4,
    "start_time": "2023-06-20T16:52:09.126Z"
   },
   {
    "duration": 180,
    "start_time": "2023-06-20T16:52:37.500Z"
   },
   {
    "duration": 1362,
    "start_time": "2023-06-20T16:54:43.324Z"
   },
   {
    "duration": 178,
    "start_time": "2023-06-20T16:54:44.688Z"
   },
   {
    "duration": 17,
    "start_time": "2023-06-20T16:54:44.868Z"
   },
   {
    "duration": 18,
    "start_time": "2023-06-20T16:54:44.887Z"
   },
   {
    "duration": 41,
    "start_time": "2023-06-20T16:54:44.906Z"
   },
   {
    "duration": 1506,
    "start_time": "2023-06-20T16:54:44.949Z"
   },
   {
    "duration": 5,
    "start_time": "2023-06-20T16:54:46.457Z"
   },
   {
    "duration": 14,
    "start_time": "2023-06-20T16:54:46.464Z"
   },
   {
    "duration": 9,
    "start_time": "2023-06-20T16:54:46.480Z"
   },
   {
    "duration": 21,
    "start_time": "2023-06-20T16:54:46.492Z"
   },
   {
    "duration": 8,
    "start_time": "2023-06-20T16:54:46.515Z"
   },
   {
    "duration": 13,
    "start_time": "2023-06-20T16:54:46.524Z"
   },
   {
    "duration": 6,
    "start_time": "2023-06-20T16:54:46.538Z"
   },
   {
    "duration": 30,
    "start_time": "2023-06-20T16:54:46.546Z"
   },
   {
    "duration": 27,
    "start_time": "2023-06-20T16:54:46.577Z"
   },
   {
    "duration": 10,
    "start_time": "2023-06-20T16:54:46.605Z"
   },
   {
    "duration": 11,
    "start_time": "2023-06-20T16:54:46.617Z"
   },
   {
    "duration": 46,
    "start_time": "2023-06-20T16:54:46.630Z"
   },
   {
    "duration": 10,
    "start_time": "2023-06-20T16:54:46.678Z"
   },
   {
    "duration": 12,
    "start_time": "2023-06-20T16:54:46.689Z"
   },
   {
    "duration": 58,
    "start_time": "2023-06-20T16:54:46.702Z"
   },
   {
    "duration": 37,
    "start_time": "2023-06-20T16:54:46.761Z"
   },
   {
    "duration": 5,
    "start_time": "2023-06-20T16:54:46.799Z"
   },
   {
    "duration": 304,
    "start_time": "2023-06-20T16:54:46.805Z"
   },
   {
    "duration": 9952,
    "start_time": "2023-06-20T16:54:47.111Z"
   },
   {
    "duration": 718,
    "start_time": "2023-06-20T16:54:57.064Z"
   },
   {
    "duration": 100,
    "start_time": "2023-06-20T16:54:57.784Z"
   },
   {
    "duration": 14,
    "start_time": "2023-06-20T16:54:57.978Z"
   },
   {
    "duration": 22,
    "start_time": "2023-06-20T16:54:57.994Z"
   },
   {
    "duration": 26,
    "start_time": "2023-06-20T16:54:58.017Z"
   },
   {
    "duration": 298,
    "start_time": "2023-06-20T16:54:58.045Z"
   },
   {
    "duration": 10524,
    "start_time": "2023-06-20T16:54:58.344Z"
   },
   {
    "duration": 407,
    "start_time": "2023-06-20T16:55:08.870Z"
   },
   {
    "duration": 97,
    "start_time": "2023-06-20T16:55:09.279Z"
   },
   {
    "duration": 13,
    "start_time": "2023-06-20T16:55:09.378Z"
   },
   {
    "duration": 16,
    "start_time": "2023-06-20T16:55:09.393Z"
   },
   {
    "duration": 373,
    "start_time": "2023-06-20T16:55:09.411Z"
   },
   {
    "duration": 13456,
    "start_time": "2023-06-20T16:55:09.786Z"
   },
   {
    "duration": 336,
    "start_time": "2023-06-20T16:55:23.244Z"
   },
   {
    "duration": 94,
    "start_time": "2023-06-20T16:55:23.582Z"
   },
   {
    "duration": 140,
    "start_time": "2023-06-20T16:55:23.682Z"
   },
   {
    "duration": 166,
    "start_time": "2023-06-20T16:55:23.823Z"
   },
   {
    "duration": 6185,
    "start_time": "2023-06-20T16:55:23.990Z"
   },
   {
    "duration": 203,
    "start_time": "2023-06-20T16:55:30.177Z"
   },
   {
    "duration": 1162,
    "start_time": "2023-06-22T15:43:49.896Z"
   },
   {
    "duration": 47,
    "start_time": "2023-06-23T16:53:04.705Z"
   },
   {
    "duration": 1690,
    "start_time": "2023-06-23T16:53:28.342Z"
   },
   {
    "duration": 426,
    "start_time": "2023-06-23T16:53:30.035Z"
   },
   {
    "duration": 21,
    "start_time": "2023-06-23T16:53:30.463Z"
   },
   {
    "duration": 142,
    "start_time": "2023-06-23T16:53:30.486Z"
   },
   {
    "duration": 76,
    "start_time": "2023-06-23T16:53:30.631Z"
   },
   {
    "duration": 1521,
    "start_time": "2023-06-23T16:53:30.709Z"
   },
   {
    "duration": 4,
    "start_time": "2023-06-23T16:53:32.232Z"
   },
   {
    "duration": 19,
    "start_time": "2023-06-23T16:53:32.238Z"
   },
   {
    "duration": 57,
    "start_time": "2023-06-23T16:53:32.258Z"
   },
   {
    "duration": 20,
    "start_time": "2023-06-23T16:53:32.320Z"
   },
   {
    "duration": 22,
    "start_time": "2023-06-23T16:53:32.343Z"
   },
   {
    "duration": 33,
    "start_time": "2023-06-23T16:53:32.367Z"
   },
   {
    "duration": 27,
    "start_time": "2023-06-23T16:53:32.402Z"
   },
   {
    "duration": 19,
    "start_time": "2023-06-23T16:53:32.431Z"
   },
   {
    "duration": 56,
    "start_time": "2023-06-23T16:53:32.452Z"
   },
   {
    "duration": 26,
    "start_time": "2023-06-23T16:53:32.510Z"
   },
   {
    "duration": 22,
    "start_time": "2023-06-23T16:53:32.538Z"
   },
   {
    "duration": 39,
    "start_time": "2023-06-23T16:53:32.562Z"
   },
   {
    "duration": 25,
    "start_time": "2023-06-23T16:53:32.603Z"
   },
   {
    "duration": 5,
    "start_time": "2023-06-23T16:53:32.630Z"
   },
   {
    "duration": 53,
    "start_time": "2023-06-23T16:53:32.637Z"
   },
   {
    "duration": 41,
    "start_time": "2023-06-23T16:53:32.695Z"
   },
   {
    "duration": 5,
    "start_time": "2023-06-23T16:53:32.738Z"
   },
   {
    "duration": 311,
    "start_time": "2023-06-23T16:53:32.745Z"
   },
   {
    "duration": 10980,
    "start_time": "2023-06-23T16:53:33.058Z"
   },
   {
    "duration": 2346,
    "start_time": "2023-06-23T16:53:44.040Z"
   },
   {
    "duration": 92,
    "start_time": "2023-06-23T16:53:46.388Z"
   },
   {
    "duration": 17,
    "start_time": "2023-06-23T16:53:46.485Z"
   },
   {
    "duration": 27,
    "start_time": "2023-06-23T16:53:46.504Z"
   },
   {
    "duration": 25,
    "start_time": "2023-06-23T16:53:46.532Z"
   },
   {
    "duration": 127,
    "start_time": "2023-06-23T17:09:46.722Z"
   },
   {
    "duration": 10,
    "start_time": "2023-06-23T17:10:53.113Z"
   },
   {
    "duration": 10,
    "start_time": "2023-06-23T17:11:16.573Z"
   },
   {
    "duration": 128,
    "start_time": "2023-06-23T17:11:27.292Z"
   },
   {
    "duration": 1753,
    "start_time": "2023-07-03T19:13:56.757Z"
   },
   {
    "duration": 308,
    "start_time": "2023-07-03T19:13:58.513Z"
   },
   {
    "duration": 26,
    "start_time": "2023-07-03T19:13:58.823Z"
   },
   {
    "duration": 19,
    "start_time": "2023-07-03T19:13:58.852Z"
   },
   {
    "duration": 47,
    "start_time": "2023-07-03T19:13:58.873Z"
   },
   {
    "duration": 2162,
    "start_time": "2023-07-03T19:13:58.923Z"
   },
   {
    "duration": 5,
    "start_time": "2023-07-03T19:14:01.087Z"
   },
   {
    "duration": 76,
    "start_time": "2023-07-03T19:14:01.095Z"
   },
   {
    "duration": 62,
    "start_time": "2023-07-03T19:14:01.173Z"
   },
   {
    "duration": 62,
    "start_time": "2023-07-03T19:14:01.269Z"
   },
   {
    "duration": 39,
    "start_time": "2023-07-03T19:14:01.334Z"
   },
   {
    "duration": 111,
    "start_time": "2023-07-03T19:14:01.375Z"
   },
   {
    "duration": 95,
    "start_time": "2023-07-03T19:14:01.488Z"
   },
   {
    "duration": 159,
    "start_time": "2023-07-03T19:14:01.587Z"
   },
   {
    "duration": 153,
    "start_time": "2023-07-03T19:14:01.766Z"
   },
   {
    "duration": 42,
    "start_time": "2023-07-03T19:14:01.921Z"
   },
   {
    "duration": 58,
    "start_time": "2023-07-03T19:14:01.965Z"
   },
   {
    "duration": 50,
    "start_time": "2023-07-03T19:14:02.025Z"
   },
   {
    "duration": 48,
    "start_time": "2023-07-03T19:14:02.077Z"
   },
   {
    "duration": 48,
    "start_time": "2023-07-03T19:14:02.128Z"
   },
   {
    "duration": 113,
    "start_time": "2023-07-03T19:14:02.179Z"
   },
   {
    "duration": 76,
    "start_time": "2023-07-03T19:14:02.294Z"
   },
   {
    "duration": 10,
    "start_time": "2023-07-03T19:14:02.373Z"
   },
   {
    "duration": 362,
    "start_time": "2023-07-03T19:14:02.385Z"
   },
   {
    "duration": 12018,
    "start_time": "2023-07-03T19:14:02.749Z"
   },
   {
    "duration": 601,
    "start_time": "2023-07-03T19:14:14.769Z"
   },
   {
    "duration": 8,
    "start_time": "2023-07-03T19:14:15.372Z"
   },
   {
    "duration": 94,
    "start_time": "2023-07-03T19:14:15.385Z"
   },
   {
    "duration": 87,
    "start_time": "2023-07-03T19:14:15.481Z"
   },
   {
    "duration": 7,
    "start_time": "2023-07-03T19:14:15.570Z"
   },
   {
    "duration": 176,
    "start_time": "2023-07-03T19:14:15.579Z"
   },
   {
    "duration": 349,
    "start_time": "2023-07-03T19:14:15.758Z"
   },
   {
    "duration": 12493,
    "start_time": "2023-07-03T19:14:16.109Z"
   },
   {
    "duration": 372,
    "start_time": "2023-07-03T19:14:28.604Z"
   },
   {
    "duration": 89,
    "start_time": "2023-07-03T19:14:28.979Z"
   },
   {
    "duration": 16,
    "start_time": "2023-07-03T19:14:29.070Z"
   },
   {
    "duration": 18,
    "start_time": "2023-07-03T19:14:29.089Z"
   },
   {
    "duration": 441,
    "start_time": "2023-07-03T19:14:29.108Z"
   },
   {
    "duration": 15707,
    "start_time": "2023-07-03T19:14:29.551Z"
   },
   {
    "duration": 430,
    "start_time": "2023-07-03T19:14:45.260Z"
   },
   {
    "duration": 84,
    "start_time": "2023-07-03T19:14:45.693Z"
   },
   {
    "duration": 102,
    "start_time": "2023-07-03T19:14:45.779Z"
   },
   {
    "duration": 209,
    "start_time": "2023-07-03T19:14:45.883Z"
   },
   {
    "duration": 7320,
    "start_time": "2023-07-03T19:14:46.094Z"
   },
   {
    "duration": 152,
    "start_time": "2023-07-03T19:14:53.416Z"
   },
   {
    "duration": 154,
    "start_time": "2023-07-03T19:15:25.954Z"
   },
   {
    "duration": 158,
    "start_time": "2023-07-03T19:19:50.323Z"
   },
   {
    "duration": 401,
    "start_time": "2023-07-03T19:20:02.742Z"
   },
   {
    "duration": 378,
    "start_time": "2023-07-03T19:24:48.025Z"
   },
   {
    "duration": 413,
    "start_time": "2023-07-03T19:26:45.728Z"
   },
   {
    "duration": 13744,
    "start_time": "2023-07-03T19:28:45.409Z"
   },
   {
    "duration": 470,
    "start_time": "2023-07-03T19:30:05.932Z"
   },
   {
    "duration": 390,
    "start_time": "2023-07-03T19:30:15.794Z"
   },
   {
    "duration": 13117,
    "start_time": "2023-07-03T19:30:51.173Z"
   },
   {
    "duration": 13480,
    "start_time": "2023-07-03T19:31:53.939Z"
   },
   {
    "duration": 13288,
    "start_time": "2023-07-03T19:34:54.103Z"
   },
   {
    "duration": 388,
    "start_time": "2023-07-03T19:36:13.498Z"
   },
   {
    "duration": 445,
    "start_time": "2023-07-03T19:37:02.421Z"
   },
   {
    "duration": 405,
    "start_time": "2023-07-03T19:37:10.008Z"
   },
   {
    "duration": 13199,
    "start_time": "2023-07-03T19:37:44.984Z"
   },
   {
    "duration": 13348,
    "start_time": "2023-07-03T19:38:47.632Z"
   },
   {
    "duration": 396,
    "start_time": "2023-07-03T19:47:40.742Z"
   },
   {
    "duration": 382,
    "start_time": "2023-07-03T19:47:46.957Z"
   },
   {
    "duration": 430,
    "start_time": "2023-07-03T19:48:06.362Z"
   },
   {
    "duration": 13103,
    "start_time": "2023-07-03T19:49:04.555Z"
   },
   {
    "duration": 525,
    "start_time": "2023-07-03T19:50:37.951Z"
   },
   {
    "duration": 420,
    "start_time": "2023-07-03T19:50:50.158Z"
   },
   {
    "duration": 474,
    "start_time": "2023-07-03T19:54:02.357Z"
   },
   {
    "duration": 16761,
    "start_time": "2023-07-03T19:55:19.882Z"
   },
   {
    "duration": 353,
    "start_time": "2023-07-03T19:58:11.437Z"
   },
   {
    "duration": 223,
    "start_time": "2023-07-03T20:02:26.731Z"
   },
   {
    "duration": 8794,
    "start_time": "2023-07-03T20:02:50.650Z"
   },
   {
    "duration": 264,
    "start_time": "2023-07-03T20:03:17.512Z"
   },
   {
    "duration": 413,
    "start_time": "2023-07-03T20:18:32.572Z"
   },
   {
    "duration": 394,
    "start_time": "2023-07-03T20:19:01.275Z"
   },
   {
    "duration": 12968,
    "start_time": "2023-07-03T20:19:21.278Z"
   },
   {
    "duration": 12864,
    "start_time": "2023-07-03T20:20:07.363Z"
   },
   {
    "duration": 236,
    "start_time": "2023-07-03T20:20:39.344Z"
   },
   {
    "duration": 440,
    "start_time": "2023-07-03T20:21:52.589Z"
   },
   {
    "duration": 16876,
    "start_time": "2023-07-03T20:22:47.373Z"
   },
   {
    "duration": 438,
    "start_time": "2023-07-03T20:23:22.634Z"
   },
   {
    "duration": 229,
    "start_time": "2023-07-03T20:24:51.096Z"
   },
   {
    "duration": 8111,
    "start_time": "2023-07-03T20:26:09.044Z"
   },
   {
    "duration": 561,
    "start_time": "2023-07-03T20:26:44.714Z"
   },
   {
    "duration": 1768,
    "start_time": "2023-07-04T15:31:24.264Z"
   },
   {
    "duration": 341,
    "start_time": "2023-07-04T15:31:26.034Z"
   },
   {
    "duration": 20,
    "start_time": "2023-07-04T15:31:26.376Z"
   },
   {
    "duration": 14,
    "start_time": "2023-07-04T15:31:26.398Z"
   },
   {
    "duration": 57,
    "start_time": "2023-07-04T15:31:26.414Z"
   },
   {
    "duration": 1648,
    "start_time": "2023-07-04T15:31:26.473Z"
   },
   {
    "duration": 4,
    "start_time": "2023-07-04T15:31:28.123Z"
   },
   {
    "duration": 26,
    "start_time": "2023-07-04T15:31:28.129Z"
   },
   {
    "duration": 18,
    "start_time": "2023-07-04T15:31:28.160Z"
   },
   {
    "duration": 16,
    "start_time": "2023-07-04T15:31:28.181Z"
   },
   {
    "duration": 17,
    "start_time": "2023-07-04T15:31:28.199Z"
   },
   {
    "duration": 38,
    "start_time": "2023-07-04T15:31:28.218Z"
   },
   {
    "duration": 25,
    "start_time": "2023-07-04T15:31:28.257Z"
   },
   {
    "duration": 23,
    "start_time": "2023-07-04T15:31:28.284Z"
   },
   {
    "duration": 38,
    "start_time": "2023-07-04T15:31:28.309Z"
   },
   {
    "duration": 29,
    "start_time": "2023-07-04T15:31:28.349Z"
   },
   {
    "duration": 27,
    "start_time": "2023-07-04T15:31:28.379Z"
   },
   {
    "duration": 29,
    "start_time": "2023-07-04T15:31:28.408Z"
   },
   {
    "duration": 16,
    "start_time": "2023-07-04T15:31:28.439Z"
   },
   {
    "duration": 6,
    "start_time": "2023-07-04T15:31:28.464Z"
   },
   {
    "duration": 46,
    "start_time": "2023-07-04T15:31:28.472Z"
   },
   {
    "duration": 50,
    "start_time": "2023-07-04T15:31:28.519Z"
   },
   {
    "duration": 7,
    "start_time": "2023-07-04T15:31:28.571Z"
   },
   {
    "duration": 328,
    "start_time": "2023-07-04T15:31:28.580Z"
   },
   {
    "duration": 11866,
    "start_time": "2023-07-04T15:31:28.909Z"
   },
   {
    "duration": 2889,
    "start_time": "2023-07-04T15:31:40.777Z"
   },
   {
    "duration": 11,
    "start_time": "2023-07-04T15:31:43.753Z"
   },
   {
    "duration": 18,
    "start_time": "2023-07-04T15:31:43.768Z"
   },
   {
    "duration": 27,
    "start_time": "2023-07-04T15:31:43.788Z"
   },
   {
    "duration": 14,
    "start_time": "2023-07-04T15:31:43.817Z"
   },
   {
    "duration": 157,
    "start_time": "2023-07-04T15:31:43.833Z"
   },
   {
    "duration": 431,
    "start_time": "2023-07-04T15:31:43.992Z"
   },
   {
    "duration": 13182,
    "start_time": "2023-07-04T15:31:44.425Z"
   },
   {
    "duration": 348,
    "start_time": "2023-07-04T15:31:57.609Z"
   },
   {
    "duration": 12,
    "start_time": "2023-07-04T15:31:57.963Z"
   },
   {
    "duration": 106,
    "start_time": "2023-07-04T15:31:57.984Z"
   },
   {
    "duration": 33,
    "start_time": "2023-07-04T15:31:58.092Z"
   },
   {
    "duration": 470,
    "start_time": "2023-07-04T15:31:58.127Z"
   },
   {
    "duration": 17183,
    "start_time": "2023-07-04T15:31:58.599Z"
   },
   {
    "duration": 578,
    "start_time": "2023-07-04T15:32:15.785Z"
   },
   {
    "duration": 6,
    "start_time": "2023-07-04T15:32:16.365Z"
   },
   {
    "duration": 125,
    "start_time": "2023-07-04T15:32:16.374Z"
   },
   {
    "duration": 237,
    "start_time": "2023-07-04T15:32:16.501Z"
   },
   {
    "duration": 8154,
    "start_time": "2023-07-04T15:32:16.739Z"
   },
   {
    "duration": 459,
    "start_time": "2023-07-04T15:32:24.894Z"
   },
   {
    "duration": 18,
    "start_time": "2023-07-04T15:32:25.360Z"
   },
   {
    "duration": 126,
    "start_time": "2023-07-04T15:35:50.307Z"
   },
   {
    "duration": 24,
    "start_time": "2023-07-04T15:36:17.182Z"
   },
   {
    "duration": 59,
    "start_time": "2023-07-04T15:37:43.508Z"
   },
   {
    "duration": 23,
    "start_time": "2023-07-04T15:38:08.831Z"
   },
   {
    "duration": 53,
    "start_time": "2023-07-04T15:38:30.521Z"
   },
   {
    "duration": 26,
    "start_time": "2023-07-04T15:47:12.520Z"
   },
   {
    "duration": 50,
    "start_time": "2023-07-04T15:47:14.319Z"
   },
   {
    "duration": 51,
    "start_time": "2023-07-04T15:47:59.363Z"
   },
   {
    "duration": 20,
    "start_time": "2023-07-04T15:48:11.774Z"
   },
   {
    "duration": 48,
    "start_time": "2023-07-04T15:48:16.257Z"
   },
   {
    "duration": 13,
    "start_time": "2023-07-04T16:27:30.515Z"
   },
   {
    "duration": 55,
    "start_time": "2023-07-04T19:16:32.287Z"
   },
   {
    "duration": 1674,
    "start_time": "2023-07-04T19:16:45.854Z"
   },
   {
    "duration": 299,
    "start_time": "2023-07-04T19:16:47.530Z"
   },
   {
    "duration": 19,
    "start_time": "2023-07-04T19:16:47.831Z"
   },
   {
    "duration": 23,
    "start_time": "2023-07-04T19:16:47.852Z"
   },
   {
    "duration": 43,
    "start_time": "2023-07-04T19:16:47.878Z"
   },
   {
    "duration": 1540,
    "start_time": "2023-07-04T19:16:47.923Z"
   },
   {
    "duration": 4,
    "start_time": "2023-07-04T19:16:49.465Z"
   },
   {
    "duration": 9,
    "start_time": "2023-07-04T19:16:49.470Z"
   },
   {
    "duration": 9,
    "start_time": "2023-07-04T19:16:49.480Z"
   },
   {
    "duration": 9,
    "start_time": "2023-07-04T19:16:49.491Z"
   },
   {
    "duration": 12,
    "start_time": "2023-07-04T19:16:49.501Z"
   },
   {
    "duration": 52,
    "start_time": "2023-07-04T19:16:49.515Z"
   },
   {
    "duration": 6,
    "start_time": "2023-07-04T19:16:49.569Z"
   },
   {
    "duration": 11,
    "start_time": "2023-07-04T19:16:49.576Z"
   },
   {
    "duration": 30,
    "start_time": "2023-07-04T19:16:49.588Z"
   },
   {
    "duration": 11,
    "start_time": "2023-07-04T19:16:49.619Z"
   },
   {
    "duration": 29,
    "start_time": "2023-07-04T19:16:49.631Z"
   },
   {
    "duration": 24,
    "start_time": "2023-07-04T19:16:49.661Z"
   },
   {
    "duration": 10,
    "start_time": "2023-07-04T19:16:49.687Z"
   },
   {
    "duration": 16,
    "start_time": "2023-07-04T19:16:49.698Z"
   },
   {
    "duration": 55,
    "start_time": "2023-07-04T19:16:49.715Z"
   },
   {
    "duration": 35,
    "start_time": "2023-07-04T19:16:49.771Z"
   },
   {
    "duration": 6,
    "start_time": "2023-07-04T19:16:49.808Z"
   },
   {
    "duration": 315,
    "start_time": "2023-07-04T19:16:49.815Z"
   },
   {
    "duration": 10369,
    "start_time": "2023-07-04T19:16:50.132Z"
   },
   {
    "duration": 661,
    "start_time": "2023-07-04T19:17:00.502Z"
   },
   {
    "duration": 103,
    "start_time": "2023-07-04T19:17:01.166Z"
   },
   {
    "duration": 21,
    "start_time": "2023-07-04T19:17:01.273Z"
   },
   {
    "duration": 32,
    "start_time": "2023-07-04T19:17:01.296Z"
   },
   {
    "duration": 51,
    "start_time": "2023-07-04T19:17:01.330Z"
   },
   {
    "duration": 184,
    "start_time": "2023-07-04T19:17:01.383Z"
   },
   {
    "duration": 368,
    "start_time": "2023-07-04T19:17:01.569Z"
   },
   {
    "duration": 11626,
    "start_time": "2023-07-04T19:17:01.939Z"
   },
   {
    "duration": 401,
    "start_time": "2023-07-04T19:17:13.567Z"
   },
   {
    "duration": 4,
    "start_time": "2023-07-04T19:17:14.060Z"
   },
   {
    "duration": 138,
    "start_time": "2023-07-04T19:17:14.066Z"
   },
   {
    "duration": 30,
    "start_time": "2023-07-04T19:17:14.206Z"
   },
   {
    "duration": 405,
    "start_time": "2023-07-04T19:17:14.239Z"
   },
   {
    "duration": 14940,
    "start_time": "2023-07-04T19:17:14.646Z"
   },
   {
    "duration": 482,
    "start_time": "2023-07-04T19:17:29.588Z"
   },
   {
    "duration": 92,
    "start_time": "2023-07-04T19:17:30.072Z"
   },
   {
    "duration": 145,
    "start_time": "2023-07-04T19:17:30.167Z"
   },
   {
    "duration": 218,
    "start_time": "2023-07-04T19:17:30.313Z"
   },
   {
    "duration": 7442,
    "start_time": "2023-07-04T19:17:30.533Z"
   },
   {
    "duration": 291,
    "start_time": "2023-07-04T19:17:37.977Z"
   },
   {
    "duration": 201,
    "start_time": "2023-07-04T19:17:38.270Z"
   },
   {
    "duration": 49,
    "start_time": "2023-07-04T19:17:38.474Z"
   },
   {
    "duration": 1397,
    "start_time": "2023-07-04T19:31:27.801Z"
   },
   {
    "duration": 178,
    "start_time": "2023-07-04T19:31:29.201Z"
   },
   {
    "duration": 19,
    "start_time": "2023-07-04T19:31:29.381Z"
   },
   {
    "duration": 15,
    "start_time": "2023-07-04T19:31:29.403Z"
   },
   {
    "duration": 44,
    "start_time": "2023-07-04T19:31:29.420Z"
   },
   {
    "duration": 1569,
    "start_time": "2023-07-04T19:31:29.466Z"
   },
   {
    "duration": 5,
    "start_time": "2023-07-04T19:31:31.037Z"
   },
   {
    "duration": 45,
    "start_time": "2023-07-04T19:31:31.043Z"
   },
   {
    "duration": 51,
    "start_time": "2023-07-04T19:31:31.090Z"
   },
   {
    "duration": 48,
    "start_time": "2023-07-04T19:31:31.144Z"
   },
   {
    "duration": 41,
    "start_time": "2023-07-04T19:31:31.194Z"
   },
   {
    "duration": 44,
    "start_time": "2023-07-04T19:31:31.237Z"
   },
   {
    "duration": 29,
    "start_time": "2023-07-04T19:31:31.283Z"
   },
   {
    "duration": 37,
    "start_time": "2023-07-04T19:31:31.314Z"
   },
   {
    "duration": 59,
    "start_time": "2023-07-04T19:31:31.353Z"
   },
   {
    "duration": 11,
    "start_time": "2023-07-04T19:31:31.413Z"
   },
   {
    "duration": 35,
    "start_time": "2023-07-04T19:31:31.426Z"
   },
   {
    "duration": 42,
    "start_time": "2023-07-04T19:31:31.463Z"
   },
   {
    "duration": 39,
    "start_time": "2023-07-04T19:31:31.508Z"
   },
   {
    "duration": 15,
    "start_time": "2023-07-04T19:31:31.549Z"
   },
   {
    "duration": 61,
    "start_time": "2023-07-04T19:31:31.566Z"
   },
   {
    "duration": 35,
    "start_time": "2023-07-04T19:31:31.629Z"
   },
   {
    "duration": 19,
    "start_time": "2023-07-04T19:31:31.666Z"
   },
   {
    "duration": 326,
    "start_time": "2023-07-04T19:31:31.687Z"
   },
   {
    "duration": 10575,
    "start_time": "2023-07-04T19:31:32.014Z"
   },
   {
    "duration": 572,
    "start_time": "2023-07-04T19:31:42.590Z"
   },
   {
    "duration": 98,
    "start_time": "2023-07-04T19:31:43.165Z"
   },
   {
    "duration": 6,
    "start_time": "2023-07-04T19:31:43.268Z"
   },
   {
    "duration": 84,
    "start_time": "2023-07-04T19:31:43.276Z"
   },
   {
    "duration": 8,
    "start_time": "2023-07-04T19:31:43.362Z"
   },
   {
    "duration": 188,
    "start_time": "2023-07-04T19:31:43.372Z"
   },
   {
    "duration": 354,
    "start_time": "2023-07-04T19:31:43.562Z"
   },
   {
    "duration": 12008,
    "start_time": "2023-07-04T19:31:43.918Z"
   },
   {
    "duration": 536,
    "start_time": "2023-07-04T19:31:55.929Z"
   },
   {
    "duration": 91,
    "start_time": "2023-07-04T19:31:56.467Z"
   },
   {
    "duration": 11,
    "start_time": "2023-07-04T19:31:56.561Z"
   },
   {
    "duration": 86,
    "start_time": "2023-07-04T19:31:56.575Z"
   },
   {
    "duration": 470,
    "start_time": "2023-07-04T19:31:56.663Z"
   },
   {
    "duration": 15559,
    "start_time": "2023-07-04T19:31:57.134Z"
   },
   {
    "duration": 382,
    "start_time": "2023-07-04T19:32:12.694Z"
   },
   {
    "duration": 7,
    "start_time": "2023-07-04T19:32:13.158Z"
   },
   {
    "duration": 114,
    "start_time": "2023-07-04T19:32:13.167Z"
   },
   {
    "duration": 213,
    "start_time": "2023-07-04T19:32:13.284Z"
   },
   {
    "duration": 7572,
    "start_time": "2023-07-04T19:32:13.499Z"
   },
   {
    "duration": 195,
    "start_time": "2023-07-04T19:32:21.073Z"
   },
   {
    "duration": 114,
    "start_time": "2023-07-04T19:32:21.360Z"
   },
   {
    "duration": 57,
    "start_time": "2023-07-04T19:32:21.476Z"
   },
   {
    "duration": 2288,
    "start_time": "2023-07-04T19:43:37.928Z"
   },
   {
    "duration": 315,
    "start_time": "2023-07-04T19:43:40.218Z"
   },
   {
    "duration": 22,
    "start_time": "2023-07-04T19:43:40.536Z"
   },
   {
    "duration": 14,
    "start_time": "2023-07-04T19:43:40.561Z"
   },
   {
    "duration": 43,
    "start_time": "2023-07-04T19:43:40.577Z"
   },
   {
    "duration": 1701,
    "start_time": "2023-07-04T19:43:40.622Z"
   },
   {
    "duration": 6,
    "start_time": "2023-07-04T19:43:42.325Z"
   },
   {
    "duration": 15,
    "start_time": "2023-07-04T19:43:42.333Z"
   },
   {
    "duration": 10,
    "start_time": "2023-07-04T19:43:42.367Z"
   },
   {
    "duration": 12,
    "start_time": "2023-07-04T19:43:42.380Z"
   },
   {
    "duration": 19,
    "start_time": "2023-07-04T19:43:42.394Z"
   },
   {
    "duration": 16,
    "start_time": "2023-07-04T19:43:42.415Z"
   },
   {
    "duration": 7,
    "start_time": "2023-07-04T19:43:42.433Z"
   },
   {
    "duration": 32,
    "start_time": "2023-07-04T19:43:42.442Z"
   },
   {
    "duration": 32,
    "start_time": "2023-07-04T19:43:42.476Z"
   },
   {
    "duration": 12,
    "start_time": "2023-07-04T19:43:42.510Z"
   },
   {
    "duration": 16,
    "start_time": "2023-07-04T19:43:42.524Z"
   },
   {
    "duration": 45,
    "start_time": "2023-07-04T19:43:42.542Z"
   },
   {
    "duration": 12,
    "start_time": "2023-07-04T19:43:42.588Z"
   },
   {
    "duration": 6,
    "start_time": "2023-07-04T19:43:42.603Z"
   },
   {
    "duration": 85,
    "start_time": "2023-07-04T19:43:42.611Z"
   },
   {
    "duration": 38,
    "start_time": "2023-07-04T19:43:42.698Z"
   },
   {
    "duration": 6,
    "start_time": "2023-07-04T19:43:42.738Z"
   },
   {
    "duration": 335,
    "start_time": "2023-07-04T19:43:42.768Z"
   },
   {
    "duration": 11447,
    "start_time": "2023-07-04T19:43:43.105Z"
   },
   {
    "duration": 622,
    "start_time": "2023-07-04T19:43:54.554Z"
   },
   {
    "duration": 90,
    "start_time": "2023-07-04T19:43:55.178Z"
   },
   {
    "duration": 93,
    "start_time": "2023-07-04T19:43:55.276Z"
   },
   {
    "duration": 7,
    "start_time": "2023-07-04T19:43:55.372Z"
   },
   {
    "duration": 8,
    "start_time": "2023-07-04T19:43:55.381Z"
   },
   {
    "duration": 168,
    "start_time": "2023-07-04T19:43:55.391Z"
   },
   {
    "duration": 378,
    "start_time": "2023-07-04T19:43:55.566Z"
   },
   {
    "duration": 12810,
    "start_time": "2023-07-04T19:43:55.946Z"
   },
   {
    "duration": 512,
    "start_time": "2023-07-04T19:44:08.759Z"
   },
   {
    "duration": 93,
    "start_time": "2023-07-04T19:44:09.274Z"
   },
   {
    "duration": 22,
    "start_time": "2023-07-04T19:44:09.370Z"
   },
   {
    "duration": 17,
    "start_time": "2023-07-04T19:44:09.394Z"
   },
   {
    "duration": 471,
    "start_time": "2023-07-04T19:44:09.413Z"
   },
   {
    "duration": 16847,
    "start_time": "2023-07-04T19:44:09.886Z"
   },
   {
    "duration": 446,
    "start_time": "2023-07-04T19:44:26.735Z"
   },
   {
    "duration": 89,
    "start_time": "2023-07-04T19:44:27.183Z"
   },
   {
    "duration": 110,
    "start_time": "2023-07-04T19:44:27.275Z"
   },
   {
    "duration": 245,
    "start_time": "2023-07-04T19:44:27.387Z"
   },
   {
    "duration": 8323,
    "start_time": "2023-07-04T19:44:27.635Z"
   },
   {
    "duration": 308,
    "start_time": "2023-07-04T19:44:35.960Z"
   },
   {
    "duration": 113,
    "start_time": "2023-07-04T19:44:36.270Z"
   },
   {
    "duration": 53,
    "start_time": "2023-07-04T19:44:36.385Z"
   },
   {
    "duration": 2067,
    "start_time": "2023-07-05T13:11:07.402Z"
   },
   {
    "duration": 5,
    "start_time": "2023-07-05T13:11:52.038Z"
   },
   {
    "duration": 158,
    "start_time": "2023-07-05T13:49:27.943Z"
   },
   {
    "duration": 5,
    "start_time": "2023-07-05T13:49:37.693Z"
   },
   {
    "duration": 589,
    "start_time": "2023-07-05T13:49:37.701Z"
   },
   {
    "duration": 30,
    "start_time": "2023-07-05T13:49:38.300Z"
   },
   {
    "duration": 289,
    "start_time": "2023-07-05T13:49:38.333Z"
   },
   {
    "duration": 275,
    "start_time": "2023-07-05T13:49:38.624Z"
   },
   {
    "duration": 92,
    "start_time": "2023-07-05T13:49:53.634Z"
   },
   {
    "duration": 72,
    "start_time": "2023-07-05T13:50:21.876Z"
   },
   {
    "duration": 58,
    "start_time": "2023-07-05T13:50:37.693Z"
   },
   {
    "duration": 90,
    "start_time": "2023-07-05T13:50:49.339Z"
   },
   {
    "duration": 53,
    "start_time": "2023-07-06T14:35:05.815Z"
   },
   {
    "duration": 1685,
    "start_time": "2023-07-06T14:35:16.126Z"
   },
   {
    "duration": 360,
    "start_time": "2023-07-06T14:35:17.814Z"
   },
   {
    "duration": 29,
    "start_time": "2023-07-06T14:35:18.177Z"
   },
   {
    "duration": 16,
    "start_time": "2023-07-06T14:35:18.208Z"
   },
   {
    "duration": 61,
    "start_time": "2023-07-06T14:35:18.227Z"
   },
   {
    "duration": 1554,
    "start_time": "2023-07-06T14:35:18.290Z"
   },
   {
    "duration": 4,
    "start_time": "2023-07-06T14:35:19.845Z"
   },
   {
    "duration": 33,
    "start_time": "2023-07-06T14:35:19.851Z"
   },
   {
    "duration": 8,
    "start_time": "2023-07-06T14:35:19.886Z"
   },
   {
    "duration": 8,
    "start_time": "2023-07-06T14:35:19.895Z"
   },
   {
    "duration": 12,
    "start_time": "2023-07-06T14:35:19.904Z"
   },
   {
    "duration": 13,
    "start_time": "2023-07-06T14:35:19.918Z"
   },
   {
    "duration": 5,
    "start_time": "2023-07-06T14:35:19.933Z"
   },
   {
    "duration": 9,
    "start_time": "2023-07-06T14:35:19.941Z"
   },
   {
    "duration": 50,
    "start_time": "2023-07-06T14:35:19.952Z"
   },
   {
    "duration": 264,
    "start_time": "2023-07-06T14:35:20.005Z"
   },
   {
    "duration": 0,
    "start_time": "2023-07-06T14:35:20.271Z"
   },
   {
    "duration": 0,
    "start_time": "2023-07-06T14:35:20.273Z"
   },
   {
    "duration": 10,
    "start_time": "2023-07-06T14:35:37.513Z"
   },
   {
    "duration": 5,
    "start_time": "2023-07-06T14:35:40.657Z"
   },
   {
    "duration": 18,
    "start_time": "2023-07-06T14:35:53.053Z"
   },
   {
    "duration": 83,
    "start_time": "2023-07-06T14:38:04.835Z"
   },
   {
    "duration": 18,
    "start_time": "2023-07-06T14:38:07.812Z"
   },
   {
    "duration": 1423,
    "start_time": "2023-07-06T14:39:55.610Z"
   },
   {
    "duration": 171,
    "start_time": "2023-07-06T14:39:57.035Z"
   },
   {
    "duration": 25,
    "start_time": "2023-07-06T14:39:57.208Z"
   },
   {
    "duration": 13,
    "start_time": "2023-07-06T14:39:57.236Z"
   },
   {
    "duration": 60,
    "start_time": "2023-07-06T14:39:57.251Z"
   },
   {
    "duration": 1384,
    "start_time": "2023-07-06T14:39:57.313Z"
   },
   {
    "duration": 4,
    "start_time": "2023-07-06T14:39:58.699Z"
   },
   {
    "duration": 8,
    "start_time": "2023-07-06T14:39:58.705Z"
   },
   {
    "duration": 9,
    "start_time": "2023-07-06T14:39:58.714Z"
   },
   {
    "duration": 9,
    "start_time": "2023-07-06T14:39:58.725Z"
   },
   {
    "duration": 8,
    "start_time": "2023-07-06T14:39:58.767Z"
   },
   {
    "duration": 21,
    "start_time": "2023-07-06T14:39:58.777Z"
   },
   {
    "duration": 9,
    "start_time": "2023-07-06T14:39:58.800Z"
   },
   {
    "duration": 8,
    "start_time": "2023-07-06T14:39:58.812Z"
   },
   {
    "duration": 61,
    "start_time": "2023-07-06T14:39:58.822Z"
   },
   {
    "duration": 16,
    "start_time": "2023-07-06T14:39:58.885Z"
   },
   {
    "duration": 10,
    "start_time": "2023-07-06T14:39:58.903Z"
   },
   {
    "duration": 10,
    "start_time": "2023-07-06T14:39:58.915Z"
   },
   {
    "duration": 4,
    "start_time": "2023-07-06T14:41:35.316Z"
   },
   {
    "duration": 134,
    "start_time": "2023-07-06T14:45:34.025Z"
   },
   {
    "duration": 7284,
    "start_time": "2023-07-06T14:46:21.732Z"
   },
   {
    "duration": 4,
    "start_time": "2023-07-06T14:46:37.811Z"
   },
   {
    "duration": 21,
    "start_time": "2023-07-06T14:46:49.061Z"
   },
   {
    "duration": 2264,
    "start_time": "2023-07-06T14:47:33.004Z"
   },
   {
    "duration": 1257,
    "start_time": "2023-07-06T14:47:35.271Z"
   },
   {
    "duration": 179,
    "start_time": "2023-07-06T14:47:36.529Z"
   },
   {
    "duration": 18,
    "start_time": "2023-07-06T14:47:36.709Z"
   },
   {
    "duration": 19,
    "start_time": "2023-07-06T14:47:36.730Z"
   },
   {
    "duration": 57,
    "start_time": "2023-07-06T14:47:36.750Z"
   },
   {
    "duration": 1386,
    "start_time": "2023-07-06T14:47:36.809Z"
   },
   {
    "duration": 4,
    "start_time": "2023-07-06T14:47:38.197Z"
   },
   {
    "duration": 8,
    "start_time": "2023-07-06T14:47:38.202Z"
   },
   {
    "duration": 12,
    "start_time": "2023-07-06T14:47:38.212Z"
   },
   {
    "duration": 10,
    "start_time": "2023-07-06T14:47:38.225Z"
   },
   {
    "duration": 34,
    "start_time": "2023-07-06T14:47:38.237Z"
   },
   {
    "duration": 11,
    "start_time": "2023-07-06T14:47:38.272Z"
   },
   {
    "duration": 5,
    "start_time": "2023-07-06T14:47:38.285Z"
   },
   {
    "duration": 6,
    "start_time": "2023-07-06T14:47:38.292Z"
   },
   {
    "duration": 137,
    "start_time": "2023-07-06T14:47:38.299Z"
   },
   {
    "duration": 13,
    "start_time": "2023-07-06T14:47:38.438Z"
   },
   {
    "duration": 19,
    "start_time": "2023-07-06T14:47:38.452Z"
   },
   {
    "duration": 6,
    "start_time": "2023-07-06T14:47:38.473Z"
   },
   {
    "duration": 11,
    "start_time": "2023-07-06T14:47:42.939Z"
   },
   {
    "duration": 2131,
    "start_time": "2023-07-06T14:48:43.407Z"
   },
   {
    "duration": 9,
    "start_time": "2023-07-06T14:48:54.631Z"
   },
   {
    "duration": 14,
    "start_time": "2023-07-06T14:49:15.592Z"
   },
   {
    "duration": 4,
    "start_time": "2023-07-06T14:49:28.011Z"
   },
   {
    "duration": 29,
    "start_time": "2023-07-06T14:52:39.567Z"
   },
   {
    "duration": 135,
    "start_time": "2023-07-06T14:56:24.645Z"
   },
   {
    "duration": 15,
    "start_time": "2023-07-06T14:57:57.939Z"
   },
   {
    "duration": 3237,
    "start_time": "2023-07-06T14:58:26.983Z"
   },
   {
    "duration": 183,
    "start_time": "2023-07-06T14:58:30.222Z"
   },
   {
    "duration": 18,
    "start_time": "2023-07-06T14:58:30.407Z"
   },
   {
    "duration": 13,
    "start_time": "2023-07-06T14:58:30.427Z"
   },
   {
    "duration": 89,
    "start_time": "2023-07-06T14:58:30.443Z"
   },
   {
    "duration": 1348,
    "start_time": "2023-07-06T14:58:30.534Z"
   },
   {
    "duration": 4,
    "start_time": "2023-07-06T14:58:31.884Z"
   },
   {
    "duration": 25,
    "start_time": "2023-07-06T14:58:31.890Z"
   },
   {
    "duration": 34,
    "start_time": "2023-07-06T14:58:31.917Z"
   },
   {
    "duration": 27,
    "start_time": "2023-07-06T14:58:31.953Z"
   },
   {
    "duration": 35,
    "start_time": "2023-07-06T14:58:31.981Z"
   },
   {
    "duration": 38,
    "start_time": "2023-07-06T14:58:32.018Z"
   },
   {
    "duration": 35,
    "start_time": "2023-07-06T14:58:32.058Z"
   },
   {
    "duration": 53,
    "start_time": "2023-07-06T14:58:32.095Z"
   },
   {
    "duration": 118,
    "start_time": "2023-07-06T14:58:32.150Z"
   },
   {
    "duration": 33,
    "start_time": "2023-07-06T14:58:32.270Z"
   },
   {
    "duration": 18,
    "start_time": "2023-07-06T14:58:32.305Z"
   },
   {
    "duration": 14,
    "start_time": "2023-07-06T14:58:32.324Z"
   },
   {
    "duration": 27,
    "start_time": "2023-07-06T14:58:54.936Z"
   },
   {
    "duration": 28,
    "start_time": "2023-07-06T15:02:04.143Z"
   },
   {
    "duration": 136,
    "start_time": "2023-07-06T15:02:23.684Z"
   },
   {
    "duration": 3249,
    "start_time": "2023-07-06T15:02:40.307Z"
   },
   {
    "duration": 185,
    "start_time": "2023-07-06T15:02:43.559Z"
   },
   {
    "duration": 17,
    "start_time": "2023-07-06T15:02:43.746Z"
   },
   {
    "duration": 13,
    "start_time": "2023-07-06T15:02:43.766Z"
   },
   {
    "duration": 44,
    "start_time": "2023-07-06T15:02:43.780Z"
   },
   {
    "duration": 1409,
    "start_time": "2023-07-06T15:02:43.825Z"
   },
   {
    "duration": 4,
    "start_time": "2023-07-06T15:02:45.236Z"
   },
   {
    "duration": 25,
    "start_time": "2023-07-06T15:02:45.241Z"
   },
   {
    "duration": 7,
    "start_time": "2023-07-06T15:02:45.268Z"
   },
   {
    "duration": 8,
    "start_time": "2023-07-06T15:02:45.278Z"
   },
   {
    "duration": 20,
    "start_time": "2023-07-06T15:02:45.287Z"
   },
   {
    "duration": 20,
    "start_time": "2023-07-06T15:02:45.308Z"
   },
   {
    "duration": 14,
    "start_time": "2023-07-06T15:02:45.330Z"
   },
   {
    "duration": 12,
    "start_time": "2023-07-06T15:02:45.345Z"
   },
   {
    "duration": 121,
    "start_time": "2023-07-06T15:02:45.367Z"
   },
   {
    "duration": 25,
    "start_time": "2023-07-06T15:02:45.490Z"
   },
   {
    "duration": 24,
    "start_time": "2023-07-06T15:02:45.517Z"
   },
   {
    "duration": 17,
    "start_time": "2023-07-06T15:02:45.542Z"
   },
   {
    "duration": 34,
    "start_time": "2023-07-06T15:02:45.560Z"
   },
   {
    "duration": 18,
    "start_time": "2023-07-06T15:03:17.842Z"
   },
   {
    "duration": 3290,
    "start_time": "2023-07-06T15:04:43.353Z"
   },
   {
    "duration": 153,
    "start_time": "2023-07-06T15:04:46.645Z"
   },
   {
    "duration": 18,
    "start_time": "2023-07-06T15:04:46.799Z"
   },
   {
    "duration": 13,
    "start_time": "2023-07-06T15:04:46.819Z"
   },
   {
    "duration": 45,
    "start_time": "2023-07-06T15:04:46.833Z"
   },
   {
    "duration": 1347,
    "start_time": "2023-07-06T15:04:46.880Z"
   },
   {
    "duration": 4,
    "start_time": "2023-07-06T15:04:48.229Z"
   },
   {
    "duration": 8,
    "start_time": "2023-07-06T15:04:48.234Z"
   },
   {
    "duration": 25,
    "start_time": "2023-07-06T15:04:48.243Z"
   },
   {
    "duration": 8,
    "start_time": "2023-07-06T15:04:48.270Z"
   },
   {
    "duration": 6,
    "start_time": "2023-07-06T15:04:48.280Z"
   },
   {
    "duration": 10,
    "start_time": "2023-07-06T15:04:48.287Z"
   },
   {
    "duration": 6,
    "start_time": "2023-07-06T15:04:48.298Z"
   },
   {
    "duration": 9,
    "start_time": "2023-07-06T15:04:48.305Z"
   },
   {
    "duration": 153,
    "start_time": "2023-07-06T15:04:48.316Z"
   },
   {
    "duration": 12,
    "start_time": "2023-07-06T15:04:48.470Z"
   },
   {
    "duration": 10,
    "start_time": "2023-07-06T15:04:48.483Z"
   },
   {
    "duration": 14,
    "start_time": "2023-07-06T15:04:48.494Z"
   },
   {
    "duration": 23,
    "start_time": "2023-07-06T15:04:48.509Z"
   },
   {
    "duration": 17,
    "start_time": "2023-07-06T15:05:05.390Z"
   },
   {
    "duration": 2301,
    "start_time": "2023-07-06T15:06:34.375Z"
   },
   {
    "duration": 204,
    "start_time": "2023-07-06T15:06:36.679Z"
   },
   {
    "duration": 18,
    "start_time": "2023-07-06T15:06:36.886Z"
   },
   {
    "duration": 15,
    "start_time": "2023-07-06T15:06:36.906Z"
   },
   {
    "duration": 53,
    "start_time": "2023-07-06T15:06:36.924Z"
   },
   {
    "duration": 1512,
    "start_time": "2023-07-06T15:06:36.979Z"
   },
   {
    "duration": 4,
    "start_time": "2023-07-06T15:06:38.493Z"
   },
   {
    "duration": 9,
    "start_time": "2023-07-06T15:06:38.499Z"
   },
   {
    "duration": 11,
    "start_time": "2023-07-06T15:06:38.509Z"
   },
   {
    "duration": 18,
    "start_time": "2023-07-06T15:06:38.521Z"
   },
   {
    "duration": 10,
    "start_time": "2023-07-06T15:06:38.541Z"
   },
   {
    "duration": 34,
    "start_time": "2023-07-06T15:06:38.552Z"
   },
   {
    "duration": 7,
    "start_time": "2023-07-06T15:06:38.588Z"
   },
   {
    "duration": 6,
    "start_time": "2023-07-06T15:06:38.598Z"
   },
   {
    "duration": 42,
    "start_time": "2023-07-06T15:06:38.605Z"
   },
   {
    "duration": 26,
    "start_time": "2023-07-06T15:06:38.649Z"
   },
   {
    "duration": 16,
    "start_time": "2023-07-06T15:06:38.677Z"
   },
   {
    "duration": 9,
    "start_time": "2023-07-06T15:06:38.695Z"
   },
   {
    "duration": 26,
    "start_time": "2023-07-06T15:06:38.706Z"
   },
   {
    "duration": 49,
    "start_time": "2023-07-06T15:06:38.734Z"
   },
   {
    "duration": 132,
    "start_time": "2023-07-06T15:06:38.786Z"
   },
   {
    "duration": 0,
    "start_time": "2023-07-06T15:06:38.920Z"
   },
   {
    "duration": 0,
    "start_time": "2023-07-06T15:06:38.921Z"
   },
   {
    "duration": 34,
    "start_time": "2023-07-06T15:06:58.413Z"
   },
   {
    "duration": 41,
    "start_time": "2023-07-06T15:07:22.381Z"
   },
   {
    "duration": 8,
    "start_time": "2023-07-06T15:07:30.888Z"
   },
   {
    "duration": 315,
    "start_time": "2023-07-06T15:07:45.344Z"
   },
   {
    "duration": 11956,
    "start_time": "2023-07-06T15:08:06.777Z"
   },
   {
    "duration": 9014,
    "start_time": "2023-07-06T18:35:13.957Z"
   },
   {
    "duration": 259,
    "start_time": "2023-07-06T18:35:22.973Z"
   },
   {
    "duration": 18,
    "start_time": "2023-07-06T18:35:23.233Z"
   },
   {
    "duration": 12,
    "start_time": "2023-07-06T18:35:23.253Z"
   },
   {
    "duration": 43,
    "start_time": "2023-07-06T18:35:23.266Z"
   },
   {
    "duration": 1340,
    "start_time": "2023-07-06T18:35:23.310Z"
   },
   {
    "duration": 7,
    "start_time": "2023-07-06T18:35:24.652Z"
   },
   {
    "duration": 17,
    "start_time": "2023-07-06T18:35:24.661Z"
   },
   {
    "duration": 33,
    "start_time": "2023-07-06T18:35:24.681Z"
   },
   {
    "duration": 16,
    "start_time": "2023-07-06T18:35:24.716Z"
   },
   {
    "duration": 14,
    "start_time": "2023-07-06T18:35:24.734Z"
   },
   {
    "duration": 17,
    "start_time": "2023-07-06T18:35:24.750Z"
   },
   {
    "duration": 13,
    "start_time": "2023-07-06T18:35:24.769Z"
   },
   {
    "duration": 9,
    "start_time": "2023-07-06T18:35:24.785Z"
   },
   {
    "duration": 120,
    "start_time": "2023-07-06T18:35:24.795Z"
   },
   {
    "duration": 21,
    "start_time": "2023-07-06T18:35:24.917Z"
   },
   {
    "duration": 11,
    "start_time": "2023-07-06T18:35:24.940Z"
   },
   {
    "duration": 15,
    "start_time": "2023-07-06T18:35:24.952Z"
   },
   {
    "duration": 25,
    "start_time": "2023-07-06T18:35:24.968Z"
   },
   {
    "duration": 38,
    "start_time": "2023-07-06T18:35:24.995Z"
   },
   {
    "duration": 32,
    "start_time": "2023-07-06T18:35:25.034Z"
   },
   {
    "duration": 34,
    "start_time": "2023-07-06T18:35:25.068Z"
   },
   {
    "duration": 28,
    "start_time": "2023-07-06T18:35:25.104Z"
   },
   {
    "duration": 302,
    "start_time": "2023-07-06T18:35:25.134Z"
   },
   {
    "duration": 9955,
    "start_time": "2023-07-06T18:35:25.438Z"
   },
   {
    "duration": 443,
    "start_time": "2023-07-06T18:36:11.499Z"
   },
   {
    "duration": 267,
    "start_time": "2023-07-06T18:48:50.959Z"
   },
   {
    "duration": 281,
    "start_time": "2023-07-06T18:50:33.358Z"
   },
   {
    "duration": 9593,
    "start_time": "2023-07-06T18:52:05.095Z"
   },
   {
    "duration": 9770,
    "start_time": "2023-07-06T18:52:27.894Z"
   },
   {
    "duration": 299,
    "start_time": "2023-07-06T18:52:48.244Z"
   },
   {
    "duration": 494,
    "start_time": "2023-07-06T18:53:11.247Z"
   },
   {
    "duration": 123,
    "start_time": "2023-07-06T19:06:57.738Z"
   },
   {
    "duration": 3327,
    "start_time": "2023-07-06T19:10:48.653Z"
   },
   {
    "duration": 233,
    "start_time": "2023-07-06T19:10:51.982Z"
   },
   {
    "duration": 17,
    "start_time": "2023-07-06T19:10:52.216Z"
   },
   {
    "duration": 24,
    "start_time": "2023-07-06T19:10:52.236Z"
   },
   {
    "duration": 52,
    "start_time": "2023-07-06T19:10:52.262Z"
   },
   {
    "duration": 1322,
    "start_time": "2023-07-06T19:10:52.316Z"
   },
   {
    "duration": 6,
    "start_time": "2023-07-06T19:10:53.642Z"
   },
   {
    "duration": 27,
    "start_time": "2023-07-06T19:10:53.650Z"
   },
   {
    "duration": 14,
    "start_time": "2023-07-06T19:10:53.678Z"
   },
   {
    "duration": 24,
    "start_time": "2023-07-06T19:10:53.695Z"
   },
   {
    "duration": 8,
    "start_time": "2023-07-06T19:10:53.720Z"
   },
   {
    "duration": 13,
    "start_time": "2023-07-06T19:10:53.729Z"
   },
   {
    "duration": 7,
    "start_time": "2023-07-06T19:10:53.744Z"
   },
   {
    "duration": 107,
    "start_time": "2023-07-06T19:10:53.754Z"
   },
   {
    "duration": 47,
    "start_time": "2023-07-06T19:10:53.862Z"
   },
   {
    "duration": 14,
    "start_time": "2023-07-06T19:10:53.911Z"
   },
   {
    "duration": 31,
    "start_time": "2023-07-06T19:10:53.927Z"
   },
   {
    "duration": 23,
    "start_time": "2023-07-06T19:10:53.960Z"
   },
   {
    "duration": 68,
    "start_time": "2023-07-06T19:10:53.985Z"
   },
   {
    "duration": 15,
    "start_time": "2023-07-06T19:10:54.055Z"
   },
   {
    "duration": 34,
    "start_time": "2023-07-06T19:10:54.072Z"
   },
   {
    "duration": 61,
    "start_time": "2023-07-06T19:10:54.108Z"
   },
   {
    "duration": 12,
    "start_time": "2023-07-06T19:10:54.171Z"
   },
   {
    "duration": 337,
    "start_time": "2023-07-06T19:10:54.185Z"
   },
   {
    "duration": 10665,
    "start_time": "2023-07-06T19:10:54.523Z"
   },
   {
    "duration": 1650,
    "start_time": "2023-07-06T19:11:05.191Z"
   },
   {
    "duration": 276,
    "start_time": "2023-07-06T19:11:06.848Z"
   },
   {
    "duration": 344,
    "start_time": "2023-07-06T19:11:11.748Z"
   },
   {
    "duration": 11862,
    "start_time": "2023-07-06T19:11:18.536Z"
   },
   {
    "duration": 452,
    "start_time": "2023-07-06T19:11:37.107Z"
   },
   {
    "duration": 5,
    "start_time": "2023-07-06T19:12:54.770Z"
   },
   {
    "duration": 114,
    "start_time": "2023-07-06T19:23:28.359Z"
   },
   {
    "duration": 6627,
    "start_time": "2023-07-06T19:24:18.268Z"
   },
   {
    "duration": 18,
    "start_time": "2023-07-06T19:24:35.004Z"
   },
   {
    "duration": 42,
    "start_time": "2023-07-06T19:24:42.719Z"
   },
   {
    "duration": 559,
    "start_time": "2023-07-06T19:24:50.896Z"
   },
   {
    "duration": 17410,
    "start_time": "2023-07-06T19:24:58.740Z"
   },
   {
    "duration": 422,
    "start_time": "2023-07-06T19:25:21.738Z"
   },
   {
    "duration": 25,
    "start_time": "2023-07-06T19:27:17.414Z"
   },
   {
    "duration": 500,
    "start_time": "2023-07-06T19:27:24.133Z"
   },
   {
    "duration": 16281,
    "start_time": "2023-07-06T19:27:29.309Z"
   },
   {
    "duration": 34,
    "start_time": "2023-07-06T19:27:56.192Z"
   },
   {
    "duration": 498,
    "start_time": "2023-07-06T19:27:59.535Z"
   },
   {
    "duration": 16671,
    "start_time": "2023-07-06T19:28:02.805Z"
   },
   {
    "duration": 4495,
    "start_time": "2023-07-06T19:30:56.126Z"
   },
   {
    "duration": 30,
    "start_time": "2023-07-06T19:33:07.895Z"
   },
   {
    "duration": 495,
    "start_time": "2023-07-06T19:33:12.169Z"
   },
   {
    "duration": 17501,
    "start_time": "2023-07-06T19:33:16.212Z"
   },
   {
    "duration": 477,
    "start_time": "2023-07-06T19:33:56.855Z"
   },
   {
    "duration": 9,
    "start_time": "2023-07-06T19:34:18.780Z"
   },
   {
    "duration": 196,
    "start_time": "2023-07-06T19:34:20.404Z"
   },
   {
    "duration": 6863,
    "start_time": "2023-07-06T19:34:23.622Z"
   },
   {
    "duration": 292,
    "start_time": "2023-07-06T19:34:36.647Z"
   },
   {
    "duration": 40,
    "start_time": "2023-07-06T19:47:03.109Z"
   },
   {
    "duration": 42,
    "start_time": "2023-07-06T19:47:05.471Z"
   },
   {
    "duration": 329,
    "start_time": "2023-07-06T20:02:35.099Z"
   },
   {
    "duration": 10658,
    "start_time": "2023-07-06T20:03:42.525Z"
   },
   {
    "duration": 12105,
    "start_time": "2023-07-06T20:04:17.053Z"
   },
   {
    "duration": 5,
    "start_time": "2023-07-06T20:06:50.034Z"
   },
   {
    "duration": 801,
    "start_time": "2023-07-06T20:07:00.631Z"
   },
   {
    "duration": 592,
    "start_time": "2023-07-06T20:11:55.688Z"
   },
   {
    "duration": 18204,
    "start_time": "2023-07-06T20:12:30.493Z"
   },
   {
    "duration": 19030,
    "start_time": "2023-07-06T20:12:56.143Z"
   },
   {
    "duration": 506,
    "start_time": "2023-07-06T20:13:17.729Z"
   },
   {
    "duration": 226,
    "start_time": "2023-07-06T20:15:06.456Z"
   },
   {
    "duration": 7205,
    "start_time": "2023-07-06T20:15:41.373Z"
   },
   {
    "duration": 166,
    "start_time": "2023-07-06T20:15:59.668Z"
   },
   {
    "duration": 349,
    "start_time": "2023-07-06T20:17:24.090Z"
   },
   {
    "duration": 4693,
    "start_time": "2023-07-06T20:23:17.259Z"
   },
   {
    "duration": 10,
    "start_time": "2023-07-06T20:23:45.745Z"
   },
   {
    "duration": 17,
    "start_time": "2023-07-06T20:24:44.186Z"
   },
   {
    "duration": 13,
    "start_time": "2023-07-06T20:24:58.252Z"
   },
   {
    "duration": 10,
    "start_time": "2023-07-06T20:27:08.424Z"
   },
   {
    "duration": 46,
    "start_time": "2023-07-06T20:30:59.823Z"
   },
   {
    "duration": 67,
    "start_time": "2023-07-06T20:31:34.231Z"
   },
   {
    "duration": 55,
    "start_time": "2023-07-06T20:32:50.828Z"
   },
   {
    "duration": 45,
    "start_time": "2023-07-06T20:33:57.179Z"
   },
   {
    "duration": 9,
    "start_time": "2023-07-06T20:36:07.604Z"
   },
   {
    "duration": 47,
    "start_time": "2023-07-06T20:41:10.757Z"
   },
   {
    "duration": 80,
    "start_time": "2023-07-07T07:09:38.216Z"
   },
   {
    "duration": 17232,
    "start_time": "2023-07-07T07:09:49.146Z"
   },
   {
    "duration": 305,
    "start_time": "2023-07-07T07:10:06.382Z"
   },
   {
    "duration": 23,
    "start_time": "2023-07-07T07:10:06.689Z"
   },
   {
    "duration": 16,
    "start_time": "2023-07-07T07:10:06.714Z"
   },
   {
    "duration": 72,
    "start_time": "2023-07-07T07:10:06.732Z"
   },
   {
    "duration": 1353,
    "start_time": "2023-07-07T07:10:06.806Z"
   },
   {
    "duration": 16,
    "start_time": "2023-07-07T07:10:08.160Z"
   },
   {
    "duration": 12,
    "start_time": "2023-07-07T07:10:08.177Z"
   },
   {
    "duration": 27,
    "start_time": "2023-07-07T07:10:08.191Z"
   },
   {
    "duration": 8,
    "start_time": "2023-07-07T07:10:08.222Z"
   },
   {
    "duration": 19,
    "start_time": "2023-07-07T07:10:08.231Z"
   },
   {
    "duration": 11,
    "start_time": "2023-07-07T07:10:08.251Z"
   },
   {
    "duration": 12,
    "start_time": "2023-07-07T07:10:08.264Z"
   },
   {
    "duration": 6,
    "start_time": "2023-07-07T07:10:08.277Z"
   },
   {
    "duration": 31,
    "start_time": "2023-07-07T07:10:08.285Z"
   },
   {
    "duration": 12,
    "start_time": "2023-07-07T07:10:08.318Z"
   },
   {
    "duration": 9,
    "start_time": "2023-07-07T07:10:08.331Z"
   },
   {
    "duration": 34,
    "start_time": "2023-07-07T07:10:08.341Z"
   },
   {
    "duration": 23,
    "start_time": "2023-07-07T07:10:08.377Z"
   },
   {
    "duration": 14,
    "start_time": "2023-07-07T07:10:08.402Z"
   },
   {
    "duration": 32,
    "start_time": "2023-07-07T07:10:08.418Z"
   },
   {
    "duration": 35,
    "start_time": "2023-07-07T07:10:08.474Z"
   },
   {
    "duration": 7,
    "start_time": "2023-07-07T07:10:08.510Z"
   },
   {
    "duration": 298,
    "start_time": "2023-07-07T07:10:08.519Z"
   },
   {
    "duration": 9696,
    "start_time": "2023-07-07T07:10:08.820Z"
   },
   {
    "duration": 460,
    "start_time": "2023-07-07T07:10:18.518Z"
   },
   {
    "duration": 237,
    "start_time": "2023-07-07T07:10:18.980Z"
   },
   {
    "duration": 347,
    "start_time": "2023-07-07T07:10:19.221Z"
   },
   {
    "duration": 10684,
    "start_time": "2023-07-07T07:10:19.570Z"
   },
   {
    "duration": 621,
    "start_time": "2023-07-07T07:10:30.256Z"
   },
   {
    "duration": 116,
    "start_time": "2023-07-07T07:10:30.882Z"
   },
   {
    "duration": 576,
    "start_time": "2023-07-07T07:10:31.000Z"
   },
   {
    "duration": 16041,
    "start_time": "2023-07-07T07:10:31.578Z"
   },
   {
    "duration": 363,
    "start_time": "2023-07-07T07:10:47.621Z"
   },
   {
    "duration": 98,
    "start_time": "2023-07-07T07:10:47.986Z"
   },
   {
    "duration": 284,
    "start_time": "2023-07-07T07:10:48.087Z"
   },
   {
    "duration": 6521,
    "start_time": "2023-07-07T07:10:48.375Z"
   },
   {
    "duration": 582,
    "start_time": "2023-07-07T07:10:54.898Z"
   },
   {
    "duration": 126,
    "start_time": "2023-07-07T07:10:55.483Z"
   },
   {
    "duration": 64,
    "start_time": "2023-07-07T07:10:55.611Z"
   },
   {
    "duration": 9,
    "start_time": "2023-07-07T07:10:55.677Z"
   },
   {
    "duration": 3,
    "start_time": "2023-07-07T07:10:55.688Z"
   },
   {
    "duration": 92,
    "start_time": "2023-07-07T07:11:13.499Z"
   },
   {
    "duration": 4,
    "start_time": "2023-07-07T07:11:18.488Z"
   },
   {
    "duration": 4,
    "start_time": "2023-07-07T07:11:26.009Z"
   },
   {
    "duration": 5,
    "start_time": "2023-07-07T07:12:19.850Z"
   },
   {
    "duration": 3,
    "start_time": "2023-07-07T07:12:32.881Z"
   },
   {
    "duration": 6,
    "start_time": "2023-07-07T07:14:15.719Z"
   },
   {
    "duration": 172,
    "start_time": "2023-07-07T07:14:32.531Z"
   },
   {
    "duration": 6,
    "start_time": "2023-07-07T07:14:35.961Z"
   },
   {
    "duration": 9,
    "start_time": "2023-07-07T07:14:55.807Z"
   },
   {
    "duration": 6,
    "start_time": "2023-07-07T07:19:36.406Z"
   },
   {
    "duration": 14,
    "start_time": "2023-07-07T07:19:39.463Z"
   },
   {
    "duration": 16,
    "start_time": "2023-07-07T07:26:08.899Z"
   },
   {
    "duration": 14,
    "start_time": "2023-07-07T07:47:56.755Z"
   },
   {
    "duration": 6541,
    "start_time": "2023-07-07T07:56:59.093Z"
   },
   {
    "duration": 199,
    "start_time": "2023-07-07T07:57:05.638Z"
   },
   {
    "duration": 19,
    "start_time": "2023-07-07T07:57:05.839Z"
   },
   {
    "duration": 28,
    "start_time": "2023-07-07T07:57:05.860Z"
   },
   {
    "duration": 74,
    "start_time": "2023-07-07T07:57:05.891Z"
   },
   {
    "duration": 1558,
    "start_time": "2023-07-07T07:57:05.966Z"
   },
   {
    "duration": 4,
    "start_time": "2023-07-07T07:57:07.526Z"
   },
   {
    "duration": 24,
    "start_time": "2023-07-07T07:57:07.532Z"
   },
   {
    "duration": 16,
    "start_time": "2023-07-07T07:57:07.558Z"
   },
   {
    "duration": 29,
    "start_time": "2023-07-07T07:57:07.576Z"
   },
   {
    "duration": 19,
    "start_time": "2023-07-07T07:57:07.607Z"
   },
   {
    "duration": 19,
    "start_time": "2023-07-07T07:57:07.628Z"
   },
   {
    "duration": 17,
    "start_time": "2023-07-07T07:57:07.649Z"
   },
   {
    "duration": 33,
    "start_time": "2023-07-07T07:57:07.669Z"
   },
   {
    "duration": 40,
    "start_time": "2023-07-07T07:57:07.704Z"
   },
   {
    "duration": 15,
    "start_time": "2023-07-07T07:57:07.746Z"
   },
   {
    "duration": 49,
    "start_time": "2023-07-07T07:57:07.763Z"
   },
   {
    "duration": 14,
    "start_time": "2023-07-07T07:57:07.814Z"
   },
   {
    "duration": 30,
    "start_time": "2023-07-07T07:57:07.830Z"
   },
   {
    "duration": 22,
    "start_time": "2023-07-07T07:57:07.862Z"
   },
   {
    "duration": 51,
    "start_time": "2023-07-07T07:57:07.886Z"
   },
   {
    "duration": 42,
    "start_time": "2023-07-07T07:57:07.939Z"
   },
   {
    "duration": 39,
    "start_time": "2023-07-07T07:57:07.984Z"
   },
   {
    "duration": 326,
    "start_time": "2023-07-07T07:57:08.025Z"
   },
   {
    "duration": 10529,
    "start_time": "2023-07-07T07:57:08.353Z"
   },
   {
    "duration": 911,
    "start_time": "2023-07-07T07:57:18.884Z"
   },
   {
    "duration": 211,
    "start_time": "2023-07-07T07:57:19.800Z"
   },
   {
    "duration": 384,
    "start_time": "2023-07-07T07:57:20.014Z"
   },
   {
    "duration": 11758,
    "start_time": "2023-07-07T07:57:20.400Z"
   },
   {
    "duration": 440,
    "start_time": "2023-07-07T07:57:32.160Z"
   },
   {
    "duration": 119,
    "start_time": "2023-07-07T07:57:32.674Z"
   },
   {
    "duration": 600,
    "start_time": "2023-07-07T07:57:32.799Z"
   },
   {
    "duration": 18171,
    "start_time": "2023-07-07T07:57:33.402Z"
   },
   {
    "duration": 803,
    "start_time": "2023-07-07T07:57:51.575Z"
   },
   {
    "duration": 10,
    "start_time": "2023-07-07T07:57:52.380Z"
   },
   {
    "duration": 224,
    "start_time": "2023-07-07T07:57:52.392Z"
   },
   {
    "duration": 7222,
    "start_time": "2023-07-07T07:57:52.617Z"
   },
   {
    "duration": 537,
    "start_time": "2023-07-07T07:57:59.842Z"
   },
   {
    "duration": 144,
    "start_time": "2023-07-07T07:58:00.387Z"
   },
   {
    "duration": 84,
    "start_time": "2023-07-07T07:58:00.533Z"
   },
   {
    "duration": 16,
    "start_time": "2023-07-07T07:58:00.622Z"
   }
  ],
  "kernelspec": {
   "display_name": "Python 3 (ipykernel)",
   "language": "python",
   "name": "python3"
  },
  "language_info": {
   "codemirror_mode": {
    "name": "ipython",
    "version": 3
   },
   "file_extension": ".py",
   "mimetype": "text/x-python",
   "name": "python",
   "nbconvert_exporter": "python",
   "pygments_lexer": "ipython3",
   "version": "3.9.5"
  },
  "toc": {
   "base_numbering": 1,
   "nav_menu": {},
   "number_sections": true,
   "sideBar": true,
   "skip_h1_title": true,
   "title_cell": "Содержание",
   "title_sidebar": "Contents",
   "toc_cell": true,
   "toc_position": {},
   "toc_section_display": true,
   "toc_window_display": false
  }
 },
 "nbformat": 4,
 "nbformat_minor": 2
}
