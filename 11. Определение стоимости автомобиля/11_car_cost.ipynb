{
 "cells": [
  {
   "cell_type": "markdown",
   "metadata": {},
   "source": [
    "# Определение стоимости автомобилей"
   ]
  },
  {
   "cell_type": "markdown",
   "metadata": {},
   "source": [
    "Сервис по продаже автомобилей с пробегом «Не бит, не крашен» разрабатывает приложение для привлечения новых клиентов. В нём можно быстро узнать рыночную стоимость своего автомобиля. В вашем распоряжении исторические данные: технические характеристики, комплектации и цены автомобилей. Вам нужно построить модель для определения стоимости. \n",
    "\n",
    "Заказчику важны:\n",
    "\n",
    "- качество предсказания;\n",
    "- скорость предсказания;\n",
    "- время обучения.\n",
    "\n",
    "Цель исследования: Создать модель со значением метрики RMSE меньше 2500.\n",
    "\n",
    "Ход исследования:\n",
    "1. Обзор данных\n",
    "2. Предобработка данных\n",
    "3. Подготовка выборок\n",
    "4. Обучение бустинговых моделей\n",
    "5. Обучение не бустинговых моделей\n",
    "6. Проверка на тестовой выборке\n",
    "7. Общий вывод"
   ]
  },
  {
   "cell_type": "markdown",
   "metadata": {},
   "source": [
    "## Подготовка данных"
   ]
  },
  {
   "cell_type": "code",
   "execution_count": 1,
   "metadata": {},
   "outputs": [
    {
     "name": "stdout",
     "output_type": "stream",
     "text": [
      "Requirement already satisfied: scikit-learn==1.3.0 in /opt/conda/lib/python3.9/site-packages (1.3.0)\n",
      "Requirement already satisfied: numpy>=1.17.3 in /opt/conda/lib/python3.9/site-packages (from scikit-learn==1.3.0) (1.21.1)\n",
      "Requirement already satisfied: scipy>=1.5.0 in /opt/conda/lib/python3.9/site-packages (from scikit-learn==1.3.0) (1.9.1)\n",
      "Requirement already satisfied: threadpoolctl>=2.0.0 in /opt/conda/lib/python3.9/site-packages (from scikit-learn==1.3.0) (3.1.0)\n",
      "Requirement already satisfied: joblib>=1.1.1 in /opt/conda/lib/python3.9/site-packages (from scikit-learn==1.3.0) (1.3.2)\n"
     ]
    }
   ],
   "source": [
    "# устанавливаем последнюю версию scikit-learn\n",
    "!pip install scikit-learn==1.3.0\n",
    "\n",
    "\n",
    "# импорт библиотек\n",
    "import pandas as pd\n",
    "import numpy as np\n",
    "import matplotlib.pyplot as plt\n",
    "import re\n",
    "import seaborn as sns\n",
    "from sklearn.compose import make_column_transformer\n",
    "from sklearn.ensemble import RandomForestRegressor\n",
    "from sklearn.linear_model import LinearRegression\n",
    "from sklearn.metrics import mean_squared_error\n",
    "from sklearn.model_selection import (\n",
    "    cross_validate, \n",
    "    GridSearchCV,\n",
    "    RandomizedSearchCV,\n",
    "    train_test_split\n",
    ")\n",
    "from sklearn.pipeline import make_pipeline\n",
    "from sklearn.preprocessing import (\n",
    "    OneHotEncoder,\n",
    "    OrdinalEncoder,\n",
    "    StandardScaler\n",
    ")\n",
    "\n",
    "from lightgbm import LGBMRegressor\n",
    "\n",
    "# игнорируем предупреждения\n",
    "import warnings\n",
    "warnings.filterwarnings(\"ignore\")"
   ]
  },
  {
   "cell_type": "markdown",
   "metadata": {},
   "source": [
    "### Обзор данных"
   ]
  },
  {
   "cell_type": "code",
   "execution_count": 2,
   "metadata": {},
   "outputs": [],
   "source": [
    "# загрузка данных\n",
    "try:\n",
    "    data = pd.read_csv('/datasets/autos.csv')\n",
    "except:\n",
    "    data = pd.read_csv('https://code.s3.yandex.net//datasets/autos.csv')"
   ]
  },
  {
   "cell_type": "code",
   "execution_count": 3,
   "metadata": {},
   "outputs": [
    {
     "data": {
      "text/html": [
       "<div>\n",
       "<style scoped>\n",
       "    .dataframe tbody tr th:only-of-type {\n",
       "        vertical-align: middle;\n",
       "    }\n",
       "\n",
       "    .dataframe tbody tr th {\n",
       "        vertical-align: top;\n",
       "    }\n",
       "\n",
       "    .dataframe thead th {\n",
       "        text-align: right;\n",
       "    }\n",
       "</style>\n",
       "<table border=\"1\" class=\"dataframe\">\n",
       "  <thead>\n",
       "    <tr style=\"text-align: right;\">\n",
       "      <th></th>\n",
       "      <th>DateCrawled</th>\n",
       "      <th>Price</th>\n",
       "      <th>VehicleType</th>\n",
       "      <th>RegistrationYear</th>\n",
       "      <th>Gearbox</th>\n",
       "      <th>Power</th>\n",
       "      <th>Model</th>\n",
       "      <th>Kilometer</th>\n",
       "      <th>RegistrationMonth</th>\n",
       "      <th>FuelType</th>\n",
       "      <th>Brand</th>\n",
       "      <th>Repaired</th>\n",
       "      <th>DateCreated</th>\n",
       "      <th>NumberOfPictures</th>\n",
       "      <th>PostalCode</th>\n",
       "      <th>LastSeen</th>\n",
       "    </tr>\n",
       "  </thead>\n",
       "  <tbody>\n",
       "    <tr>\n",
       "      <th>0</th>\n",
       "      <td>2016-03-24 11:52:17</td>\n",
       "      <td>480</td>\n",
       "      <td>NaN</td>\n",
       "      <td>1993</td>\n",
       "      <td>manual</td>\n",
       "      <td>0</td>\n",
       "      <td>golf</td>\n",
       "      <td>150000</td>\n",
       "      <td>0</td>\n",
       "      <td>petrol</td>\n",
       "      <td>volkswagen</td>\n",
       "      <td>NaN</td>\n",
       "      <td>2016-03-24 00:00:00</td>\n",
       "      <td>0</td>\n",
       "      <td>70435</td>\n",
       "      <td>2016-04-07 03:16:57</td>\n",
       "    </tr>\n",
       "    <tr>\n",
       "      <th>1</th>\n",
       "      <td>2016-03-24 10:58:45</td>\n",
       "      <td>18300</td>\n",
       "      <td>coupe</td>\n",
       "      <td>2011</td>\n",
       "      <td>manual</td>\n",
       "      <td>190</td>\n",
       "      <td>NaN</td>\n",
       "      <td>125000</td>\n",
       "      <td>5</td>\n",
       "      <td>gasoline</td>\n",
       "      <td>audi</td>\n",
       "      <td>yes</td>\n",
       "      <td>2016-03-24 00:00:00</td>\n",
       "      <td>0</td>\n",
       "      <td>66954</td>\n",
       "      <td>2016-04-07 01:46:50</td>\n",
       "    </tr>\n",
       "    <tr>\n",
       "      <th>2</th>\n",
       "      <td>2016-03-14 12:52:21</td>\n",
       "      <td>9800</td>\n",
       "      <td>suv</td>\n",
       "      <td>2004</td>\n",
       "      <td>auto</td>\n",
       "      <td>163</td>\n",
       "      <td>grand</td>\n",
       "      <td>125000</td>\n",
       "      <td>8</td>\n",
       "      <td>gasoline</td>\n",
       "      <td>jeep</td>\n",
       "      <td>NaN</td>\n",
       "      <td>2016-03-14 00:00:00</td>\n",
       "      <td>0</td>\n",
       "      <td>90480</td>\n",
       "      <td>2016-04-05 12:47:46</td>\n",
       "    </tr>\n",
       "    <tr>\n",
       "      <th>3</th>\n",
       "      <td>2016-03-17 16:54:04</td>\n",
       "      <td>1500</td>\n",
       "      <td>small</td>\n",
       "      <td>2001</td>\n",
       "      <td>manual</td>\n",
       "      <td>75</td>\n",
       "      <td>golf</td>\n",
       "      <td>150000</td>\n",
       "      <td>6</td>\n",
       "      <td>petrol</td>\n",
       "      <td>volkswagen</td>\n",
       "      <td>no</td>\n",
       "      <td>2016-03-17 00:00:00</td>\n",
       "      <td>0</td>\n",
       "      <td>91074</td>\n",
       "      <td>2016-03-17 17:40:17</td>\n",
       "    </tr>\n",
       "    <tr>\n",
       "      <th>4</th>\n",
       "      <td>2016-03-31 17:25:20</td>\n",
       "      <td>3600</td>\n",
       "      <td>small</td>\n",
       "      <td>2008</td>\n",
       "      <td>manual</td>\n",
       "      <td>69</td>\n",
       "      <td>fabia</td>\n",
       "      <td>90000</td>\n",
       "      <td>7</td>\n",
       "      <td>gasoline</td>\n",
       "      <td>skoda</td>\n",
       "      <td>no</td>\n",
       "      <td>2016-03-31 00:00:00</td>\n",
       "      <td>0</td>\n",
       "      <td>60437</td>\n",
       "      <td>2016-04-06 10:17:21</td>\n",
       "    </tr>\n",
       "  </tbody>\n",
       "</table>\n",
       "</div>"
      ],
      "text/plain": [
       "           DateCrawled  Price VehicleType  RegistrationYear Gearbox  Power  \\\n",
       "0  2016-03-24 11:52:17    480         NaN              1993  manual      0   \n",
       "1  2016-03-24 10:58:45  18300       coupe              2011  manual    190   \n",
       "2  2016-03-14 12:52:21   9800         suv              2004    auto    163   \n",
       "3  2016-03-17 16:54:04   1500       small              2001  manual     75   \n",
       "4  2016-03-31 17:25:20   3600       small              2008  manual     69   \n",
       "\n",
       "   Model  Kilometer  RegistrationMonth  FuelType       Brand Repaired  \\\n",
       "0   golf     150000                  0    petrol  volkswagen      NaN   \n",
       "1    NaN     125000                  5  gasoline        audi      yes   \n",
       "2  grand     125000                  8  gasoline        jeep      NaN   \n",
       "3   golf     150000                  6    petrol  volkswagen       no   \n",
       "4  fabia      90000                  7  gasoline       skoda       no   \n",
       "\n",
       "           DateCreated  NumberOfPictures  PostalCode             LastSeen  \n",
       "0  2016-03-24 00:00:00                 0       70435  2016-04-07 03:16:57  \n",
       "1  2016-03-24 00:00:00                 0       66954  2016-04-07 01:46:50  \n",
       "2  2016-03-14 00:00:00                 0       90480  2016-04-05 12:47:46  \n",
       "3  2016-03-17 00:00:00                 0       91074  2016-03-17 17:40:17  \n",
       "4  2016-03-31 00:00:00                 0       60437  2016-04-06 10:17:21  "
      ]
     },
     "execution_count": 3,
     "metadata": {},
     "output_type": "execute_result"
    }
   ],
   "source": [
    "# первые строки датафрейма\n",
    "data.head()"
   ]
  },
  {
   "cell_type": "code",
   "execution_count": 4,
   "metadata": {},
   "outputs": [
    {
     "name": "stdout",
     "output_type": "stream",
     "text": [
      "<class 'pandas.core.frame.DataFrame'>\n",
      "RangeIndex: 354369 entries, 0 to 354368\n",
      "Data columns (total 16 columns):\n",
      " #   Column             Non-Null Count   Dtype \n",
      "---  ------             --------------   ----- \n",
      " 0   DateCrawled        354369 non-null  object\n",
      " 1   Price              354369 non-null  int64 \n",
      " 2   VehicleType        316879 non-null  object\n",
      " 3   RegistrationYear   354369 non-null  int64 \n",
      " 4   Gearbox            334536 non-null  object\n",
      " 5   Power              354369 non-null  int64 \n",
      " 6   Model              334664 non-null  object\n",
      " 7   Kilometer          354369 non-null  int64 \n",
      " 8   RegistrationMonth  354369 non-null  int64 \n",
      " 9   FuelType           321474 non-null  object\n",
      " 10  Brand              354369 non-null  object\n",
      " 11  Repaired           283215 non-null  object\n",
      " 12  DateCreated        354369 non-null  object\n",
      " 13  NumberOfPictures   354369 non-null  int64 \n",
      " 14  PostalCode         354369 non-null  int64 \n",
      " 15  LastSeen           354369 non-null  object\n",
      "dtypes: int64(7), object(9)\n",
      "memory usage: 43.3+ MB\n"
     ]
    }
   ],
   "source": [
    "# общая информация о датафрейме\n",
    "data.info()"
   ]
  },
  {
   "cell_type": "code",
   "execution_count": 5,
   "metadata": {
    "scrolled": true
   },
   "outputs": [
    {
     "data": {
      "text/html": [
       "<div>\n",
       "<style scoped>\n",
       "    .dataframe tbody tr th:only-of-type {\n",
       "        vertical-align: middle;\n",
       "    }\n",
       "\n",
       "    .dataframe tbody tr th {\n",
       "        vertical-align: top;\n",
       "    }\n",
       "\n",
       "    .dataframe thead th {\n",
       "        text-align: right;\n",
       "    }\n",
       "</style>\n",
       "<table border=\"1\" class=\"dataframe\">\n",
       "  <thead>\n",
       "    <tr style=\"text-align: right;\">\n",
       "      <th></th>\n",
       "      <th>count</th>\n",
       "      <th>unique</th>\n",
       "      <th>top</th>\n",
       "      <th>freq</th>\n",
       "      <th>mean</th>\n",
       "      <th>std</th>\n",
       "      <th>min</th>\n",
       "      <th>25%</th>\n",
       "      <th>50%</th>\n",
       "      <th>75%</th>\n",
       "      <th>max</th>\n",
       "    </tr>\n",
       "  </thead>\n",
       "  <tbody>\n",
       "    <tr>\n",
       "      <th>DateCrawled</th>\n",
       "      <td>354369</td>\n",
       "      <td>271174</td>\n",
       "      <td>2016-03-24 14:49:47</td>\n",
       "      <td>7</td>\n",
       "      <td>NaN</td>\n",
       "      <td>NaN</td>\n",
       "      <td>NaN</td>\n",
       "      <td>NaN</td>\n",
       "      <td>NaN</td>\n",
       "      <td>NaN</td>\n",
       "      <td>NaN</td>\n",
       "    </tr>\n",
       "    <tr>\n",
       "      <th>Price</th>\n",
       "      <td>354369.0</td>\n",
       "      <td>NaN</td>\n",
       "      <td>NaN</td>\n",
       "      <td>NaN</td>\n",
       "      <td>4416.656776</td>\n",
       "      <td>4514.158514</td>\n",
       "      <td>0.0</td>\n",
       "      <td>1050.0</td>\n",
       "      <td>2700.0</td>\n",
       "      <td>6400.0</td>\n",
       "      <td>20000.0</td>\n",
       "    </tr>\n",
       "    <tr>\n",
       "      <th>VehicleType</th>\n",
       "      <td>316879</td>\n",
       "      <td>8</td>\n",
       "      <td>sedan</td>\n",
       "      <td>91457</td>\n",
       "      <td>NaN</td>\n",
       "      <td>NaN</td>\n",
       "      <td>NaN</td>\n",
       "      <td>NaN</td>\n",
       "      <td>NaN</td>\n",
       "      <td>NaN</td>\n",
       "      <td>NaN</td>\n",
       "    </tr>\n",
       "    <tr>\n",
       "      <th>RegistrationYear</th>\n",
       "      <td>354369.0</td>\n",
       "      <td>NaN</td>\n",
       "      <td>NaN</td>\n",
       "      <td>NaN</td>\n",
       "      <td>2004.234448</td>\n",
       "      <td>90.227958</td>\n",
       "      <td>1000.0</td>\n",
       "      <td>1999.0</td>\n",
       "      <td>2003.0</td>\n",
       "      <td>2008.0</td>\n",
       "      <td>9999.0</td>\n",
       "    </tr>\n",
       "    <tr>\n",
       "      <th>Gearbox</th>\n",
       "      <td>334536</td>\n",
       "      <td>2</td>\n",
       "      <td>manual</td>\n",
       "      <td>268251</td>\n",
       "      <td>NaN</td>\n",
       "      <td>NaN</td>\n",
       "      <td>NaN</td>\n",
       "      <td>NaN</td>\n",
       "      <td>NaN</td>\n",
       "      <td>NaN</td>\n",
       "      <td>NaN</td>\n",
       "    </tr>\n",
       "    <tr>\n",
       "      <th>Power</th>\n",
       "      <td>354369.0</td>\n",
       "      <td>NaN</td>\n",
       "      <td>NaN</td>\n",
       "      <td>NaN</td>\n",
       "      <td>110.094337</td>\n",
       "      <td>189.850405</td>\n",
       "      <td>0.0</td>\n",
       "      <td>69.0</td>\n",
       "      <td>105.0</td>\n",
       "      <td>143.0</td>\n",
       "      <td>20000.0</td>\n",
       "    </tr>\n",
       "    <tr>\n",
       "      <th>Model</th>\n",
       "      <td>334664</td>\n",
       "      <td>250</td>\n",
       "      <td>golf</td>\n",
       "      <td>29232</td>\n",
       "      <td>NaN</td>\n",
       "      <td>NaN</td>\n",
       "      <td>NaN</td>\n",
       "      <td>NaN</td>\n",
       "      <td>NaN</td>\n",
       "      <td>NaN</td>\n",
       "      <td>NaN</td>\n",
       "    </tr>\n",
       "    <tr>\n",
       "      <th>Kilometer</th>\n",
       "      <td>354369.0</td>\n",
       "      <td>NaN</td>\n",
       "      <td>NaN</td>\n",
       "      <td>NaN</td>\n",
       "      <td>128211.172535</td>\n",
       "      <td>37905.34153</td>\n",
       "      <td>5000.0</td>\n",
       "      <td>125000.0</td>\n",
       "      <td>150000.0</td>\n",
       "      <td>150000.0</td>\n",
       "      <td>150000.0</td>\n",
       "    </tr>\n",
       "    <tr>\n",
       "      <th>RegistrationMonth</th>\n",
       "      <td>354369.0</td>\n",
       "      <td>NaN</td>\n",
       "      <td>NaN</td>\n",
       "      <td>NaN</td>\n",
       "      <td>5.714645</td>\n",
       "      <td>3.726421</td>\n",
       "      <td>0.0</td>\n",
       "      <td>3.0</td>\n",
       "      <td>6.0</td>\n",
       "      <td>9.0</td>\n",
       "      <td>12.0</td>\n",
       "    </tr>\n",
       "    <tr>\n",
       "      <th>FuelType</th>\n",
       "      <td>321474</td>\n",
       "      <td>7</td>\n",
       "      <td>petrol</td>\n",
       "      <td>216352</td>\n",
       "      <td>NaN</td>\n",
       "      <td>NaN</td>\n",
       "      <td>NaN</td>\n",
       "      <td>NaN</td>\n",
       "      <td>NaN</td>\n",
       "      <td>NaN</td>\n",
       "      <td>NaN</td>\n",
       "    </tr>\n",
       "    <tr>\n",
       "      <th>Brand</th>\n",
       "      <td>354369</td>\n",
       "      <td>40</td>\n",
       "      <td>volkswagen</td>\n",
       "      <td>77013</td>\n",
       "      <td>NaN</td>\n",
       "      <td>NaN</td>\n",
       "      <td>NaN</td>\n",
       "      <td>NaN</td>\n",
       "      <td>NaN</td>\n",
       "      <td>NaN</td>\n",
       "      <td>NaN</td>\n",
       "    </tr>\n",
       "    <tr>\n",
       "      <th>Repaired</th>\n",
       "      <td>283215</td>\n",
       "      <td>2</td>\n",
       "      <td>no</td>\n",
       "      <td>247161</td>\n",
       "      <td>NaN</td>\n",
       "      <td>NaN</td>\n",
       "      <td>NaN</td>\n",
       "      <td>NaN</td>\n",
       "      <td>NaN</td>\n",
       "      <td>NaN</td>\n",
       "      <td>NaN</td>\n",
       "    </tr>\n",
       "    <tr>\n",
       "      <th>DateCreated</th>\n",
       "      <td>354369</td>\n",
       "      <td>109</td>\n",
       "      <td>2016-04-03 00:00:00</td>\n",
       "      <td>13719</td>\n",
       "      <td>NaN</td>\n",
       "      <td>NaN</td>\n",
       "      <td>NaN</td>\n",
       "      <td>NaN</td>\n",
       "      <td>NaN</td>\n",
       "      <td>NaN</td>\n",
       "      <td>NaN</td>\n",
       "    </tr>\n",
       "    <tr>\n",
       "      <th>NumberOfPictures</th>\n",
       "      <td>354369.0</td>\n",
       "      <td>NaN</td>\n",
       "      <td>NaN</td>\n",
       "      <td>NaN</td>\n",
       "      <td>0.0</td>\n",
       "      <td>0.0</td>\n",
       "      <td>0.0</td>\n",
       "      <td>0.0</td>\n",
       "      <td>0.0</td>\n",
       "      <td>0.0</td>\n",
       "      <td>0.0</td>\n",
       "    </tr>\n",
       "    <tr>\n",
       "      <th>PostalCode</th>\n",
       "      <td>354369.0</td>\n",
       "      <td>NaN</td>\n",
       "      <td>NaN</td>\n",
       "      <td>NaN</td>\n",
       "      <td>50508.689087</td>\n",
       "      <td>25783.096248</td>\n",
       "      <td>1067.0</td>\n",
       "      <td>30165.0</td>\n",
       "      <td>49413.0</td>\n",
       "      <td>71083.0</td>\n",
       "      <td>99998.0</td>\n",
       "    </tr>\n",
       "    <tr>\n",
       "      <th>LastSeen</th>\n",
       "      <td>354369</td>\n",
       "      <td>179150</td>\n",
       "      <td>2016-04-06 13:45:54</td>\n",
       "      <td>17</td>\n",
       "      <td>NaN</td>\n",
       "      <td>NaN</td>\n",
       "      <td>NaN</td>\n",
       "      <td>NaN</td>\n",
       "      <td>NaN</td>\n",
       "      <td>NaN</td>\n",
       "      <td>NaN</td>\n",
       "    </tr>\n",
       "  </tbody>\n",
       "</table>\n",
       "</div>"
      ],
      "text/plain": [
       "                      count  unique                  top    freq  \\\n",
       "DateCrawled          354369  271174  2016-03-24 14:49:47       7   \n",
       "Price              354369.0     NaN                  NaN     NaN   \n",
       "VehicleType          316879       8                sedan   91457   \n",
       "RegistrationYear   354369.0     NaN                  NaN     NaN   \n",
       "Gearbox              334536       2               manual  268251   \n",
       "Power              354369.0     NaN                  NaN     NaN   \n",
       "Model                334664     250                 golf   29232   \n",
       "Kilometer          354369.0     NaN                  NaN     NaN   \n",
       "RegistrationMonth  354369.0     NaN                  NaN     NaN   \n",
       "FuelType             321474       7               petrol  216352   \n",
       "Brand                354369      40           volkswagen   77013   \n",
       "Repaired             283215       2                   no  247161   \n",
       "DateCreated          354369     109  2016-04-03 00:00:00   13719   \n",
       "NumberOfPictures   354369.0     NaN                  NaN     NaN   \n",
       "PostalCode         354369.0     NaN                  NaN     NaN   \n",
       "LastSeen             354369  179150  2016-04-06 13:45:54      17   \n",
       "\n",
       "                            mean           std     min       25%       50%  \\\n",
       "DateCrawled                  NaN           NaN     NaN       NaN       NaN   \n",
       "Price                4416.656776   4514.158514     0.0    1050.0    2700.0   \n",
       "VehicleType                  NaN           NaN     NaN       NaN       NaN   \n",
       "RegistrationYear     2004.234448     90.227958  1000.0    1999.0    2003.0   \n",
       "Gearbox                      NaN           NaN     NaN       NaN       NaN   \n",
       "Power                 110.094337    189.850405     0.0      69.0     105.0   \n",
       "Model                        NaN           NaN     NaN       NaN       NaN   \n",
       "Kilometer          128211.172535   37905.34153  5000.0  125000.0  150000.0   \n",
       "RegistrationMonth       5.714645      3.726421     0.0       3.0       6.0   \n",
       "FuelType                     NaN           NaN     NaN       NaN       NaN   \n",
       "Brand                        NaN           NaN     NaN       NaN       NaN   \n",
       "Repaired                     NaN           NaN     NaN       NaN       NaN   \n",
       "DateCreated                  NaN           NaN     NaN       NaN       NaN   \n",
       "NumberOfPictures             0.0           0.0     0.0       0.0       0.0   \n",
       "PostalCode          50508.689087  25783.096248  1067.0   30165.0   49413.0   \n",
       "LastSeen                     NaN           NaN     NaN       NaN       NaN   \n",
       "\n",
       "                        75%       max  \n",
       "DateCrawled             NaN       NaN  \n",
       "Price                6400.0   20000.0  \n",
       "VehicleType             NaN       NaN  \n",
       "RegistrationYear     2008.0    9999.0  \n",
       "Gearbox                 NaN       NaN  \n",
       "Power                 143.0   20000.0  \n",
       "Model                   NaN       NaN  \n",
       "Kilometer          150000.0  150000.0  \n",
       "RegistrationMonth       9.0      12.0  \n",
       "FuelType                NaN       NaN  \n",
       "Brand                   NaN       NaN  \n",
       "Repaired                NaN       NaN  \n",
       "DateCreated             NaN       NaN  \n",
       "NumberOfPictures        0.0       0.0  \n",
       "PostalCode          71083.0   99998.0  \n",
       "LastSeen                NaN       NaN  "
      ]
     },
     "execution_count": 5,
     "metadata": {},
     "output_type": "execute_result"
    }
   ],
   "source": [
    "# информация о полях\n",
    "data.describe(include='all').T"
   ]
  },
  {
   "cell_type": "markdown",
   "metadata": {},
   "source": [
    "**Признаки:**\n",
    "- DateCrawled — дата скачивания анкеты из базы\n",
    "- VehicleType — тип автомобильного кузова\n",
    "- RegistrationYear — год регистрации автомобиля\n",
    "- Gearbox — тип коробки передач\n",
    "- Power — мощность (л. с.)\n",
    "- Model — модель автомобиля\n",
    "- Kilometer — пробег (км)\n",
    "- RegistrationMonth — месяц регистрации автомобиля\n",
    "- FuelType — тип топлива\n",
    "- Brand — марка автомобиля\n",
    "- Repaired — была машина в ремонте или нет\n",
    "- DateCreated — дата создания анкеты\n",
    "- NumberOfPictures — количество фотографий автомобиля\n",
    "- PostalCode — почтовый индекс владельца анкеты (пользователя)\n",
    "- LastSeen — дата последней активности пользователя\n",
    "\n",
    "**Целевой признак**:\n",
    "- Price — цена (евро)"
   ]
  },
  {
   "cell_type": "code",
   "execution_count": 6,
   "metadata": {
    "scrolled": true
   },
   "outputs": [
    {
     "data": {
      "image/png": "[encoded data removed]",
      "text/plain": [
       "<Figure size 1296x1440 with 9 Axes>"
      ]
     },
     "metadata": {
      "needs_background": "light"
     },
     "output_type": "display_data"
    }
   ],
   "source": [
    "# распределение числовых признаков\n",
    "data.hist(figsize = (18,20))\n",
    "plt.show()"
   ]
  },
  {
   "cell_type": "markdown",
   "metadata": {},
   "source": [
    "**Выводы:**\n",
    "1. DateCrawled. Имеет тип object, но предполагает datetime. Является неинформативным признаком.\n",
    "2. Price. По графику видим, что чем больше цена, тем меньше встречается объявлений. График имеет длинный хвост вправо. Имеются выбросы.\n",
    "3. VehicleType. Имеет 8 уникальных значений. Самый частый тип кузова - седан. Имеются пропуски.\n",
    "4. RegistrationYear. Основная масса значений находится в пределах 2000 - 2010 г. Имеются выбросы.\n",
    "5. Gearbox. Принимает два значения - manual и auto. Большинство авто из анкет имеет ручную коробку передач. Имеются пропуски.\n",
    "6. Power. Оснвная масса значений в пределах 69 - 143 л.с. Имеются выбросы.\n",
    "7. Model. Имеет 250 уникальных значений. Самый частая модель - golf. Имеются пропуски.\n",
    "8. Kilometer. Основная масса значений находится в пределах 125000 - 150000 км. График имеет длинный хвост влево. Имеются выбросы .\n",
    "9. RegistrationMonth. Имеются выбросы. Является неинформативным признаком. Для успешного прогнозирования цены достаточно года регистрации автомобиля + количество строк со значением 0 чрезвычайно велико, возможно этот столбец изначально неправильно заполнялся.\n",
    "10. FuelType. Имеет 7 уникальных значений. Самый частый тип топлива - petrol. Имеются пропуски.\n",
    "11. Brand. Имеет 40 уникальных значений. Самый частая марка - volkswagen.\n",
    "12. Repaired. Имеет 2 уникальных значений - yes и no. Большинство машин не были в ремонте. Имеются пропуски.\n",
    "13. DateCreated. Имеет тип object, но предполагает datetime. Является неинформативным признаком.\n",
    "14. NumberOfPictures. Во всех анкетах 0 фотографий. Является неинформативным признаком.\n",
    "15. PostalCode. Является неинформативным признаком.\n",
    "16. LastSeen. Имеет тип object, но предполагает datetime. Является неинформативным признаком.\n",
    "17. Все названия колонок указаны в стиле CamelCase, приведем их к принятому в Python snake_case."
   ]
  },
  {
   "cell_type": "markdown",
   "metadata": {},
   "source": [
    "### Предобработка данных"
   ]
  },
  {
   "cell_type": "markdown",
   "metadata": {},
   "source": [
    "#### Изменение названий столбцов"
   ]
  },
  {
   "cell_type": "code",
   "execution_count": 7,
   "metadata": {},
   "outputs": [
    {
     "data": {
      "text/plain": [
       "Index(['date_crawled', 'price', 'vehicle_type', 'registration_year', 'gearbox',\n",
       "       'power', 'model', 'kilometer', 'registration_month', 'fuel_type',\n",
       "       'brand', 'repaired', 'date_created', 'number_of_pictures',\n",
       "       'postal_code', 'last_seen'],\n",
       "      dtype='object')"
      ]
     },
     "execution_count": 7,
     "metadata": {},
     "output_type": "execute_result"
    }
   ],
   "source": [
    "data.columns = [re.sub(r'(?<!^)(?=[A-Z])', '_', i).lower() for i in data.columns]\n",
    "data.columns"
   ]
  },
  {
   "cell_type": "markdown",
   "metadata": {},
   "source": [
    "#### Обработка дубликатов"
   ]
  },
  {
   "cell_type": "code",
   "execution_count": 8,
   "metadata": {
    "scrolled": true
   },
   "outputs": [
    {
     "data": {
      "text/plain": [
       "4"
      ]
     },
     "execution_count": 8,
     "metadata": {},
     "output_type": "execute_result"
    }
   ],
   "source": [
    "# количество дубликатов\n",
    "data.duplicated().sum()"
   ]
  },
  {
   "cell_type": "markdown",
   "metadata": {},
   "source": [
    "Обнаружены 4 дубликата. Проверим заполненность полей в них."
   ]
  },
  {
   "cell_type": "code",
   "execution_count": 9,
   "metadata": {
    "scrolled": true
   },
   "outputs": [
    {
     "data": {
      "text/html": [
       "<div>\n",
       "<style scoped>\n",
       "    .dataframe tbody tr th:only-of-type {\n",
       "        vertical-align: middle;\n",
       "    }\n",
       "\n",
       "    .dataframe tbody tr th {\n",
       "        vertical-align: top;\n",
       "    }\n",
       "\n",
       "    .dataframe thead th {\n",
       "        text-align: right;\n",
       "    }\n",
       "</style>\n",
       "<table border=\"1\" class=\"dataframe\">\n",
       "  <thead>\n",
       "    <tr style=\"text-align: right;\">\n",
       "      <th></th>\n",
       "      <th>date_crawled</th>\n",
       "      <th>price</th>\n",
       "      <th>vehicle_type</th>\n",
       "      <th>registration_year</th>\n",
       "      <th>gearbox</th>\n",
       "      <th>power</th>\n",
       "      <th>model</th>\n",
       "      <th>kilometer</th>\n",
       "      <th>registration_month</th>\n",
       "      <th>fuel_type</th>\n",
       "      <th>brand</th>\n",
       "      <th>repaired</th>\n",
       "      <th>date_created</th>\n",
       "      <th>number_of_pictures</th>\n",
       "      <th>postal_code</th>\n",
       "      <th>last_seen</th>\n",
       "    </tr>\n",
       "  </thead>\n",
       "  <tbody>\n",
       "    <tr>\n",
       "      <th>171088</th>\n",
       "      <td>2016-03-08 18:42:48</td>\n",
       "      <td>1799</td>\n",
       "      <td>coupe</td>\n",
       "      <td>1999</td>\n",
       "      <td>auto</td>\n",
       "      <td>193</td>\n",
       "      <td>clk</td>\n",
       "      <td>20000</td>\n",
       "      <td>7</td>\n",
       "      <td>petrol</td>\n",
       "      <td>mercedes_benz</td>\n",
       "      <td>no</td>\n",
       "      <td>2016-03-08 00:00:00</td>\n",
       "      <td>0</td>\n",
       "      <td>89518</td>\n",
       "      <td>2016-03-09 09:46:57</td>\n",
       "    </tr>\n",
       "    <tr>\n",
       "      <th>231258</th>\n",
       "      <td>2016-03-28 00:56:10</td>\n",
       "      <td>1000</td>\n",
       "      <td>small</td>\n",
       "      <td>2002</td>\n",
       "      <td>manual</td>\n",
       "      <td>83</td>\n",
       "      <td>other</td>\n",
       "      <td>150000</td>\n",
       "      <td>1</td>\n",
       "      <td>petrol</td>\n",
       "      <td>suzuki</td>\n",
       "      <td>no</td>\n",
       "      <td>2016-03-28 00:00:00</td>\n",
       "      <td>0</td>\n",
       "      <td>66589</td>\n",
       "      <td>2016-03-28 08:46:21</td>\n",
       "    </tr>\n",
       "    <tr>\n",
       "      <th>258109</th>\n",
       "      <td>2016-04-03 09:01:15</td>\n",
       "      <td>4699</td>\n",
       "      <td>coupe</td>\n",
       "      <td>2003</td>\n",
       "      <td>auto</td>\n",
       "      <td>218</td>\n",
       "      <td>clk</td>\n",
       "      <td>125000</td>\n",
       "      <td>6</td>\n",
       "      <td>petrol</td>\n",
       "      <td>mercedes_benz</td>\n",
       "      <td>yes</td>\n",
       "      <td>2016-04-03 00:00:00</td>\n",
       "      <td>0</td>\n",
       "      <td>75196</td>\n",
       "      <td>2016-04-07 09:44:54</td>\n",
       "    </tr>\n",
       "    <tr>\n",
       "      <th>325651</th>\n",
       "      <td>2016-03-18 18:46:15</td>\n",
       "      <td>1999</td>\n",
       "      <td>wagon</td>\n",
       "      <td>2001</td>\n",
       "      <td>manual</td>\n",
       "      <td>131</td>\n",
       "      <td>passat</td>\n",
       "      <td>150000</td>\n",
       "      <td>7</td>\n",
       "      <td>gasoline</td>\n",
       "      <td>volkswagen</td>\n",
       "      <td>no</td>\n",
       "      <td>2016-03-18 00:00:00</td>\n",
       "      <td>0</td>\n",
       "      <td>36391</td>\n",
       "      <td>2016-03-18 18:46:15</td>\n",
       "    </tr>\n",
       "  </tbody>\n",
       "</table>\n",
       "</div>"
      ],
      "text/plain": [
       "               date_crawled  price vehicle_type  registration_year gearbox  \\\n",
       "171088  2016-03-08 18:42:48   1799        coupe               1999    auto   \n",
       "231258  2016-03-28 00:56:10   1000        small               2002  manual   \n",
       "258109  2016-04-03 09:01:15   4699        coupe               2003    auto   \n",
       "325651  2016-03-18 18:46:15   1999        wagon               2001  manual   \n",
       "\n",
       "        power   model  kilometer  registration_month fuel_type          brand  \\\n",
       "171088    193     clk      20000                   7    petrol  mercedes_benz   \n",
       "231258     83   other     150000                   1    petrol         suzuki   \n",
       "258109    218     clk     125000                   6    petrol  mercedes_benz   \n",
       "325651    131  passat     150000                   7  gasoline     volkswagen   \n",
       "\n",
       "       repaired         date_created  number_of_pictures  postal_code  \\\n",
       "171088       no  2016-03-08 00:00:00                   0        89518   \n",
       "231258       no  2016-03-28 00:00:00                   0        66589   \n",
       "258109      yes  2016-04-03 00:00:00                   0        75196   \n",
       "325651       no  2016-03-18 00:00:00                   0        36391   \n",
       "\n",
       "                  last_seen  \n",
       "171088  2016-03-09 09:46:57  \n",
       "231258  2016-03-28 08:46:21  \n",
       "258109  2016-04-07 09:44:54  \n",
       "325651  2016-03-18 18:46:15  "
      ]
     },
     "execution_count": 9,
     "metadata": {},
     "output_type": "execute_result"
    }
   ],
   "source": [
    "data[data.duplicated()]"
   ]
  },
  {
   "cell_type": "markdown",
   "metadata": {},
   "source": [
    "Все поля заполнены, т.е. дубликаты являются полными. Удалим их."
   ]
  },
  {
   "cell_type": "code",
   "execution_count": 10,
   "metadata": {
    "scrolled": true
   },
   "outputs": [],
   "source": [
    "data = data.drop_duplicates().reset_index(drop=True)"
   ]
  },
  {
   "cell_type": "markdown",
   "metadata": {},
   "source": [
    "Проверим наличие неявных дубликатов в категоральных признаках."
   ]
  },
  {
   "cell_type": "code",
   "execution_count": 11,
   "metadata": {},
   "outputs": [
    {
     "name": "stdout",
     "output_type": "stream",
     "text": [
      "vehicle_type ['bus' 'convertible' 'coupe' 'nan' 'other' 'sedan' 'small' 'suv' 'wagon'] \n",
      "\n",
      "gearbox ['auto' 'manual' 'nan'] \n",
      "\n",
      "model ['100' '145' '147' '156' '159' '1_reihe' '1er' '200' '2_reihe' '300c'\n",
      " '3_reihe' '3er' '4_reihe' '500' '5_reihe' '5er' '601' '6_reihe' '6er'\n",
      " '7er' '80' '850' '90' '900' '9000' '911' 'a1' 'a2' 'a3' 'a4' 'a5' 'a6'\n",
      " 'a8' 'a_klasse' 'accord' 'agila' 'alhambra' 'almera' 'altea' 'amarok'\n",
      " 'antara' 'arosa' 'astra' 'auris' 'avensis' 'aveo' 'aygo' 'b_klasse'\n",
      " 'b_max' 'beetle' 'berlingo' 'bora' 'boxster' 'bravo' 'c1' 'c2' 'c3' 'c4'\n",
      " 'c5' 'c_klasse' 'c_max' 'c_reihe' 'caddy' 'calibra' 'captiva' 'carisma'\n",
      " 'carnival' 'cayenne' 'cc' 'ceed' 'charade' 'cherokee' 'citigo' 'civic'\n",
      " 'cl' 'clio' 'clk' 'clubman' 'colt' 'combo' 'cooper' 'cordoba' 'corolla'\n",
      " 'corsa' 'cr_reihe' 'croma' 'crossfire' 'cuore' 'cx_reihe' 'defender'\n",
      " 'delta' 'discovery' 'doblo' 'ducato' 'duster' 'e_klasse' 'elefantino'\n",
      " 'eos' 'escort' 'espace' 'exeo' 'fabia' 'fiesta' 'focus' 'forester'\n",
      " 'forfour' 'fortwo' 'fox' 'freelander' 'fusion' 'g_klasse' 'galant'\n",
      " 'galaxy' 'getz' 'gl' 'glk' 'golf' 'grand' 'i3' 'i_reihe' 'ibiza'\n",
      " 'impreza' 'insignia' 'jazz' 'jetta' 'jimny' 'juke' 'justy' 'ka' 'kadett'\n",
      " 'kaefer' 'kalina' 'kalos' 'kangoo' 'kappa' 'kuga' 'laguna' 'lancer'\n",
      " 'lanos' 'legacy' 'leon' 'lodgy' 'logan' 'lupo' 'lybra' 'm_klasse'\n",
      " 'm_reihe' 'materia' 'matiz' 'megane' 'meriva' 'micra' 'mii' 'modus'\n",
      " 'mondeo' 'move' 'musa' 'mustang' 'mx_reihe' 'nan' 'navara' 'niva' 'note'\n",
      " 'nubira' 'octavia' 'omega' 'one' 'other' 'outlander' 'pajero' 'panda'\n",
      " 'passat' 'phaeton' 'picanto' 'polo' 'primera' 'ptcruiser' 'punto' 'q3'\n",
      " 'q5' 'q7' 'qashqai' 'r19' 'range_rover' 'range_rover_evoque'\n",
      " 'range_rover_sport' 'rangerover' 'rav' 'rio' 'roadster' 'roomster'\n",
      " 'rx_reihe' 's60' 's_klasse' 's_max' 's_type' 'samara' 'sandero' 'santa'\n",
      " 'scenic' 'scirocco' 'seicento' 'serie_1' 'serie_2' 'serie_3' 'sharan'\n",
      " 'signum' 'sirion' 'sl' 'slk' 'sorento' 'spark' 'spider' 'sportage'\n",
      " 'sprinter' 'stilo' 'superb' 'swift' 'terios' 'tigra' 'tiguan' 'toledo'\n",
      " 'touareg' 'touran' 'transit' 'transporter' 'tt' 'tucson' 'twingo' 'up'\n",
      " 'v40' 'v50' 'v60' 'v70' 'v_klasse' 'vectra' 'verso' 'viano' 'vito'\n",
      " 'vivaro' 'voyager' 'wrangler' 'x_reihe' 'x_trail' 'x_type' 'xc_reihe'\n",
      " 'yaris' 'yeti' 'ypsilon' 'z_reihe' 'zafira'] \n",
      "\n",
      "fuel_type ['cng' 'electric' 'gasoline' 'hybrid' 'lpg' 'nan' 'other' 'petrol'] \n",
      "\n",
      "brand ['alfa_romeo' 'audi' 'bmw' 'chevrolet' 'chrysler' 'citroen' 'dacia'\n",
      " 'daewoo' 'daihatsu' 'fiat' 'ford' 'honda' 'hyundai' 'jaguar' 'jeep' 'kia'\n",
      " 'lada' 'lancia' 'land_rover' 'mazda' 'mercedes_benz' 'mini' 'mitsubishi'\n",
      " 'nissan' 'opel' 'peugeot' 'porsche' 'renault' 'rover' 'saab' 'seat'\n",
      " 'skoda' 'smart' 'sonstige_autos' 'subaru' 'suzuki' 'toyota' 'trabant'\n",
      " 'volkswagen' 'volvo'] \n",
      "\n",
      "repaired ['nan' 'no' 'yes'] \n",
      "\n"
     ]
    }
   ],
   "source": [
    "for i in ['vehicle_type', 'gearbox', 'model', 'fuel_type', 'brand', 'repaired']:\n",
    "    print(i, np.sort(data[i].astype(str).unique()), '\\n')"
   ]
  },
  {
   "cell_type": "markdown",
   "metadata": {},
   "source": [
    "Видим, что в столбцах `vehicle_type`, `model`, `fuel_type` присутствует значение other. Вряд ли пользователю неизвестно об этой характеристике автомобиля, скорее всего на ресурсе где владелец анкеты заполнял информацию, во всплывающем списке отсутствовали эти значения. Рассчитаем их количество."
   ]
  },
  {
   "cell_type": "code",
   "execution_count": 12,
   "metadata": {
    "scrolled": true
   },
   "outputs": [
    {
     "name": "stdout",
     "output_type": "stream",
     "text": [
      "vehicle_type 3288\n",
      "model 24420\n",
      "fuel_type 204\n"
     ]
    }
   ],
   "source": [
    "for i in ['vehicle_type', 'model', 'fuel_type']:\n",
    "    print(i, data[data[i]=='other'][i].count())"
   ]
  },
  {
   "cell_type": "markdown",
   "metadata": {},
   "source": [
    "В столбце `model` достаточно много значений `other`. Такое может быть, ведь в таблице на 40 брендов приходится всего 250 моделей машин. Остальных значений не так много. Оставим их.\n",
    "\n",
    "В столбце `fuel_type` присутствуют значения gasoline и petrol, это означает одно и то же, в разных регионах так называют бензин. Заменим gasoline на petrol в таблице."
   ]
  },
  {
   "cell_type": "code",
   "execution_count": 13,
   "metadata": {},
   "outputs": [
    {
     "data": {
      "text/plain": [
       "petrol      315068\n",
       "lpg           5310\n",
       "cng            565\n",
       "hybrid         233\n",
       "other          204\n",
       "electric        90\n",
       "Name: fuel_type, dtype: int64"
      ]
     },
     "execution_count": 13,
     "metadata": {},
     "output_type": "execute_result"
    }
   ],
   "source": [
    "data['fuel_type'] = data['fuel_type'].replace('gasoline', 'petrol')\n",
    "data['fuel_type'].value_counts()"
   ]
  },
  {
   "cell_type": "markdown",
   "metadata": {},
   "source": [
    "#### Изменение типов данных"
   ]
  },
  {
   "cell_type": "markdown",
   "metadata": {},
   "source": [
    "Столбцы `date_crawled`, `date_created` и `last_seen` имеют тип данных object. Изменим это."
   ]
  },
  {
   "cell_type": "code",
   "execution_count": 14,
   "metadata": {},
   "outputs": [
    {
     "name": "stdout",
     "output_type": "stream",
     "text": [
      "<class 'pandas.core.frame.DataFrame'>\n",
      "RangeIndex: 354365 entries, 0 to 354364\n",
      "Data columns (total 16 columns):\n",
      " #   Column              Non-Null Count   Dtype         \n",
      "---  ------              --------------   -----         \n",
      " 0   date_crawled        354365 non-null  datetime64[ns]\n",
      " 1   price               354365 non-null  int64         \n",
      " 2   vehicle_type        316875 non-null  object        \n",
      " 3   registration_year   354365 non-null  int64         \n",
      " 4   gearbox             334532 non-null  object        \n",
      " 5   power               354365 non-null  int64         \n",
      " 6   model               334660 non-null  object        \n",
      " 7   kilometer           354365 non-null  int64         \n",
      " 8   registration_month  354365 non-null  int64         \n",
      " 9   fuel_type           321470 non-null  object        \n",
      " 10  brand               354365 non-null  object        \n",
      " 11  repaired            283211 non-null  object        \n",
      " 12  date_created        354365 non-null  datetime64[ns]\n",
      " 13  number_of_pictures  354365 non-null  int64         \n",
      " 14  postal_code         354365 non-null  int64         \n",
      " 15  last_seen           354365 non-null  datetime64[ns]\n",
      "dtypes: datetime64[ns](3), int64(7), object(6)\n",
      "memory usage: 43.3+ MB\n"
     ]
    }
   ],
   "source": [
    "for i in ['date_crawled', 'date_created', 'last_seen']:\n",
    "    data[i] = pd.to_datetime(data[i], format='%Y-%m-%d %H:%M:%S')\n",
    "    \n",
    "data.info()"
   ]
  },
  {
   "cell_type": "markdown",
   "metadata": {},
   "source": [
    "#### Обработка пропусков"
   ]
  },
  {
   "cell_type": "code",
   "execution_count": 15,
   "metadata": {},
   "outputs": [
    {
     "data": {
      "text/plain": [
       "date_crawled              0\n",
       "price                     0\n",
       "vehicle_type          37490\n",
       "registration_year         0\n",
       "gearbox               19833\n",
       "power                     0\n",
       "model                 19705\n",
       "kilometer                 0\n",
       "registration_month        0\n",
       "fuel_type             32895\n",
       "brand                     0\n",
       "repaired              71154\n",
       "date_created              0\n",
       "number_of_pictures        0\n",
       "postal_code               0\n",
       "last_seen                 0\n",
       "dtype: int64"
      ]
     },
     "execution_count": 15,
     "metadata": {},
     "output_type": "execute_result"
    }
   ],
   "source": [
    "# количество пропусков\n",
    "data.isna().sum()"
   ]
  },
  {
   "cell_type": "code",
   "execution_count": 16,
   "metadata": {
    "scrolled": true
   },
   "outputs": [
    {
     "data": {
      "image/png": "[encoded data removed]",
      "text/plain": [
       "<Figure size 720x360 with 2 Axes>"
      ]
     },
     "metadata": {
      "needs_background": "light"
     },
     "output_type": "display_data"
    }
   ],
   "source": [
    "plt.figure(figsize=(10, 5))\n",
    "sns.heatmap(data.isna().sort_values(['repaired', 'vehicle_type', 'fuel_type', 'gearbox', 'model'] ))\n",
    "plt.title('Тепловая карта пропущенных значений')\n",
    "plt.show()"
   ]
  },
  {
   "cell_type": "markdown",
   "metadata": {},
   "source": [
    "Пропуски разбросаны по всему датасету. Какой-то системности мы не наблюдаем. Вероятность того, что ошибки технической природы минимально. Скорее всего пользователь самостоятельно не заполнил некоторые значения. Обработаем каждое поле отдельно.\n",
    "\n",
    "**model** Предполагая, что выбор машин у создателя анкеты на сайте был ограничен и не все модели он мог внести. Делаем вывод, что пользователь мог осознано не заполнить это поле и все пропуски синонимичны значению `other`.\n",
    "Заменим их."
   ]
  },
  {
   "cell_type": "code",
   "execution_count": 17,
   "metadata": {},
   "outputs": [
    {
     "name": "stdout",
     "output_type": "stream",
     "text": [
      "<class 'pandas.core.frame.DataFrame'>\n",
      "RangeIndex: 354365 entries, 0 to 354364\n",
      "Data columns (total 16 columns):\n",
      " #   Column              Non-Null Count   Dtype         \n",
      "---  ------              --------------   -----         \n",
      " 0   date_crawled        354365 non-null  datetime64[ns]\n",
      " 1   price               354365 non-null  int64         \n",
      " 2   vehicle_type        316875 non-null  object        \n",
      " 3   registration_year   354365 non-null  int64         \n",
      " 4   gearbox             334532 non-null  object        \n",
      " 5   power               354365 non-null  int64         \n",
      " 6   model               354365 non-null  object        \n",
      " 7   kilometer           354365 non-null  int64         \n",
      " 8   registration_month  354365 non-null  int64         \n",
      " 9   fuel_type           321470 non-null  object        \n",
      " 10  brand               354365 non-null  object        \n",
      " 11  repaired            283211 non-null  object        \n",
      " 12  date_created        354365 non-null  datetime64[ns]\n",
      " 13  number_of_pictures  354365 non-null  int64         \n",
      " 14  postal_code         354365 non-null  int64         \n",
      " 15  last_seen           354365 non-null  datetime64[ns]\n",
      "dtypes: datetime64[ns](3), int64(7), object(6)\n",
      "memory usage: 43.3+ MB\n"
     ]
    }
   ],
   "source": [
    "data['model'] = data['model'].fillna('other')\n",
    "data.info()"
   ]
  },
  {
   "cell_type": "markdown",
   "metadata": {},
   "source": [
    "**vehicle_type** Предполагаем, что пользователь не заполнил это значение указывая на то что выбранная им модель имеет только один вариант кузова, либо имеет самый встречающийся (можно сказать стандартный), либо при заполнении этого значения не было (то же самое что и other). Заполним часть этих пропусков модальными значениями типов кузова по каждой модели автомобиля, за исключением моделей `other`. Остальные заменим `other`.\n",
    "Так же поступим с **fuel_type** и **gearbox**, т.к. причины пропусков могут быть аналогичны. \n",
    "\n",
    "Создадим функцию."
   ]
  },
  {
   "cell_type": "code",
   "execution_count": 18,
   "metadata": {
    "scrolled": false
   },
   "outputs": [
    {
     "name": "stdout",
     "output_type": "stream",
     "text": [
      "Заменяем 8699 значений vehicle_type на other\n",
      "Заменяем 9122 значений fuel_type на other\n",
      "Заменяем 5527 значений gearbox на other\n"
     ]
    },
    {
     "data": {
      "text/plain": [
       "date_crawled              0\n",
       "price                     0\n",
       "vehicle_type              0\n",
       "registration_year         0\n",
       "gearbox                   0\n",
       "power                     0\n",
       "model                     0\n",
       "kilometer                 0\n",
       "registration_month        0\n",
       "fuel_type                 0\n",
       "brand                     0\n",
       "repaired              71154\n",
       "date_created              0\n",
       "number_of_pictures        0\n",
       "postal_code               0\n",
       "last_seen                 0\n",
       "dtype: int64"
      ]
     },
     "execution_count": 18,
     "metadata": {},
     "output_type": "execute_result"
    }
   ],
   "source": [
    "def mode_replace(column):\n",
    "    for b in data['brand'].unique():\n",
    "        for m in data[data['brand'] == b]['model'].unique():\n",
    "            # берем только те модели где одна мода и модель не равна other\n",
    "            if m !='other' and data.loc[(data['brand'] == b) & (data['model'] == m), column].mode().count() == 1:\n",
    "                data.loc[(data['brand'] == b) & (data['model'] == m) & (data[column].isna()), column]= \\\n",
    "                data.loc[(data['brand'] == b) & (data['model'] == m), column].mode()[0]\n",
    "\n",
    "    # заменяем остальные пропуска\n",
    "    print('Заменяем', data[column].isna().sum(), 'значений', column, 'на other')\n",
    "    data[column] = data[column].fillna('other')\n",
    "    \n",
    "for i in ['vehicle_type', 'fuel_type', 'gearbox']:\n",
    "    mode_replace(i)\n",
    "    \n",
    "# количество пропусков\n",
    "data.isna().sum()"
   ]
  },
  {
   "cell_type": "markdown",
   "metadata": {},
   "source": [
    "**repaired** Предполагаем, что поле не заполнено т.к. ремонта не было."
   ]
  },
  {
   "cell_type": "code",
   "execution_count": 19,
   "metadata": {
    "scrolled": false
   },
   "outputs": [
    {
     "data": {
      "text/plain": [
       "date_crawled          0\n",
       "price                 0\n",
       "vehicle_type          0\n",
       "registration_year     0\n",
       "gearbox               0\n",
       "power                 0\n",
       "model                 0\n",
       "kilometer             0\n",
       "registration_month    0\n",
       "fuel_type             0\n",
       "brand                 0\n",
       "repaired              0\n",
       "date_created          0\n",
       "number_of_pictures    0\n",
       "postal_code           0\n",
       "last_seen             0\n",
       "dtype: int64"
      ]
     },
     "execution_count": 19,
     "metadata": {},
     "output_type": "execute_result"
    }
   ],
   "source": [
    "data['repaired'] = data['repaired'].fillna('no')\n",
    "\n",
    "# количество пропусков\n",
    "data.isna().sum()"
   ]
  },
  {
   "cell_type": "markdown",
   "metadata": {},
   "source": [
    "#### Обработка аномальных значений"
   ]
  },
  {
   "cell_type": "code",
   "execution_count": 20,
   "metadata": {
    "scrolled": true
   },
   "outputs": [
    {
     "data": {
      "text/html": [
       "<div>\n",
       "<style scoped>\n",
       "    .dataframe tbody tr th:only-of-type {\n",
       "        vertical-align: middle;\n",
       "    }\n",
       "\n",
       "    .dataframe tbody tr th {\n",
       "        vertical-align: top;\n",
       "    }\n",
       "\n",
       "    .dataframe thead th {\n",
       "        text-align: right;\n",
       "    }\n",
       "</style>\n",
       "<table border=\"1\" class=\"dataframe\">\n",
       "  <thead>\n",
       "    <tr style=\"text-align: right;\">\n",
       "      <th></th>\n",
       "      <th>count</th>\n",
       "      <th>mean</th>\n",
       "      <th>std</th>\n",
       "      <th>min</th>\n",
       "      <th>25%</th>\n",
       "      <th>50%</th>\n",
       "      <th>75%</th>\n",
       "      <th>max</th>\n",
       "    </tr>\n",
       "  </thead>\n",
       "  <tbody>\n",
       "    <tr>\n",
       "      <th>price</th>\n",
       "      <td>354365.0</td>\n",
       "      <td>4416.679830</td>\n",
       "      <td>4514.176349</td>\n",
       "      <td>0.0</td>\n",
       "      <td>1050.0</td>\n",
       "      <td>2700.0</td>\n",
       "      <td>6400.0</td>\n",
       "      <td>20000.0</td>\n",
       "    </tr>\n",
       "    <tr>\n",
       "      <th>registration_year</th>\n",
       "      <td>354365.0</td>\n",
       "      <td>2004.234481</td>\n",
       "      <td>90.228466</td>\n",
       "      <td>1000.0</td>\n",
       "      <td>1999.0</td>\n",
       "      <td>2003.0</td>\n",
       "      <td>2008.0</td>\n",
       "      <td>9999.0</td>\n",
       "    </tr>\n",
       "    <tr>\n",
       "      <th>power</th>\n",
       "      <td>354365.0</td>\n",
       "      <td>110.093816</td>\n",
       "      <td>189.851330</td>\n",
       "      <td>0.0</td>\n",
       "      <td>69.0</td>\n",
       "      <td>105.0</td>\n",
       "      <td>143.0</td>\n",
       "      <td>20000.0</td>\n",
       "    </tr>\n",
       "    <tr>\n",
       "      <th>kilometer</th>\n",
       "      <td>354365.0</td>\n",
       "      <td>128211.363989</td>\n",
       "      <td>37905.083858</td>\n",
       "      <td>5000.0</td>\n",
       "      <td>125000.0</td>\n",
       "      <td>150000.0</td>\n",
       "      <td>150000.0</td>\n",
       "      <td>150000.0</td>\n",
       "    </tr>\n",
       "    <tr>\n",
       "      <th>registration_month</th>\n",
       "      <td>354365.0</td>\n",
       "      <td>5.714650</td>\n",
       "      <td>3.726432</td>\n",
       "      <td>0.0</td>\n",
       "      <td>3.0</td>\n",
       "      <td>6.0</td>\n",
       "      <td>9.0</td>\n",
       "      <td>12.0</td>\n",
       "    </tr>\n",
       "    <tr>\n",
       "      <th>number_of_pictures</th>\n",
       "      <td>354365.0</td>\n",
       "      <td>0.000000</td>\n",
       "      <td>0.000000</td>\n",
       "      <td>0.0</td>\n",
       "      <td>0.0</td>\n",
       "      <td>0.0</td>\n",
       "      <td>0.0</td>\n",
       "      <td>0.0</td>\n",
       "    </tr>\n",
       "    <tr>\n",
       "      <th>postal_code</th>\n",
       "      <td>354365.0</td>\n",
       "      <td>50508.503800</td>\n",
       "      <td>25783.100078</td>\n",
       "      <td>1067.0</td>\n",
       "      <td>30165.0</td>\n",
       "      <td>49413.0</td>\n",
       "      <td>71083.0</td>\n",
       "      <td>99998.0</td>\n",
       "    </tr>\n",
       "  </tbody>\n",
       "</table>\n",
       "</div>"
      ],
      "text/plain": [
       "                       count           mean           std     min       25%  \\\n",
       "price               354365.0    4416.679830   4514.176349     0.0    1050.0   \n",
       "registration_year   354365.0    2004.234481     90.228466  1000.0    1999.0   \n",
       "power               354365.0     110.093816    189.851330     0.0      69.0   \n",
       "kilometer           354365.0  128211.363989  37905.083858  5000.0  125000.0   \n",
       "registration_month  354365.0       5.714650      3.726432     0.0       3.0   \n",
       "number_of_pictures  354365.0       0.000000      0.000000     0.0       0.0   \n",
       "postal_code         354365.0   50508.503800  25783.100078  1067.0   30165.0   \n",
       "\n",
       "                         50%       75%       max  \n",
       "price                 2700.0    6400.0   20000.0  \n",
       "registration_year     2003.0    2008.0    9999.0  \n",
       "power                  105.0     143.0   20000.0  \n",
       "kilometer           150000.0  150000.0  150000.0  \n",
       "registration_month       6.0       9.0      12.0  \n",
       "number_of_pictures       0.0       0.0       0.0  \n",
       "postal_code          49413.0   71083.0   99998.0  "
      ]
     },
     "execution_count": 20,
     "metadata": {},
     "output_type": "execute_result"
    }
   ],
   "source": [
    "# информация о полях\n",
    "data.describe().T"
   ]
  },
  {
   "cell_type": "markdown",
   "metadata": {},
   "source": [
    "**registration_year** Видим аномальный минимум и максимум. Проверим максимальные даты загрузки анкеты из базы и дату последней активности пользователей."
   ]
  },
  {
   "cell_type": "code",
   "execution_count": 21,
   "metadata": {},
   "outputs": [
    {
     "name": "stdout",
     "output_type": "stream",
     "text": [
      "Максимальная дата загрузки анкеты: 2016-04-07 14:36:58\n",
      "Дата последней активности пользователей 2016-04-07 14:58:51\n"
     ]
    }
   ],
   "source": [
    "print('Максимальная дата загрузки анкеты:', data['date_crawled'].max())\n",
    "print('Дата последней активности пользователей', data['last_seen'].max())"
   ]
  },
  {
   "cell_type": "markdown",
   "metadata": {},
   "source": [
    "Последние даты установлены апрелем 2016 года. Дата регистрации авто никак не может быть позже этого времени, поэтому удалим все значения позже этого периода."
   ]
  },
  {
   "cell_type": "code",
   "execution_count": 22,
   "metadata": {
    "scrolled": false
   },
   "outputs": [
    {
     "name": "stdout",
     "output_type": "stream",
     "text": [
      "Удалим 19220 строк\n"
     ]
    }
   ],
   "source": [
    "print('Удалим', data[~((data['registration_year'] < 2016) | ((data['registration_year'] == 2016) & (data['registration_month'] <= 4)))]['registration_year'].count(), 'строк')\n",
    "\n",
    "data = data[(data['registration_year'] < 2016) | ((data['registration_year'] == 2016) & (data['registration_month'] <= 4))]"
   ]
  },
  {
   "cell_type": "markdown",
   "metadata": {},
   "source": [
    "Посмотрим на распределение годов регистрации в ХХ веке."
   ]
  },
  {
   "cell_type": "code",
   "execution_count": 23,
   "metadata": {},
   "outputs": [
    {
     "data": {
      "image/png": "[encoded data removed]",
      "text/plain": [
       "<Figure size 720x360 with 1 Axes>"
      ]
     },
     "metadata": {
      "needs_background": "light"
     },
     "output_type": "display_data"
    }
   ],
   "source": [
    "data['registration_year'].hist(figsize=(10,5), bins=100, range=(1900, 2000))\n",
    "plt.title('Рапсределение годов регестрации')\n",
    "plt.xlabel('Год')\n",
    "plt.show()"
   ]
  },
  {
   "cell_type": "markdown",
   "metadata": {},
   "source": [
    "Видим непрерывное появление анкет с машинами 1960 года регистрации и больше. Удалим строки с меньшими значениями."
   ]
  },
  {
   "cell_type": "code",
   "execution_count": 24,
   "metadata": {},
   "outputs": [
    {
     "name": "stdout",
     "output_type": "stream",
     "text": [
      "Удалим 422 строк\n"
     ]
    }
   ],
   "source": [
    "print('Удалим', data[data['registration_year']<1960]['registration_year'].count(), 'строк')\n",
    "\n",
    "data = data[data['registration_year']>=1960]"
   ]
  },
  {
   "cell_type": "markdown",
   "metadata": {},
   "source": [
    "**price** Цена 0 евро является аномальным значением, т.к. маловероятно что какую-нибудь машину могли оценить так. Построим гистограмму и посмотрим на распределение значений цены."
   ]
  },
  {
   "cell_type": "code",
   "execution_count": 25,
   "metadata": {},
   "outputs": [
    {
     "data": {
      "image/png": "[encoded data removed]",
      "text/plain": [
       "<Figure size 720x360 with 1 Axes>"
      ]
     },
     "metadata": {
      "needs_background": "light"
     },
     "output_type": "display_data"
    }
   ],
   "source": [
    "data['price'].hist(range=(0, 1000), bins=100, figsize=(10,5))\n",
    "plt.title('Рапсределение цены')\n",
    "plt.xlabel('Цена, евро')\n",
    "plt.show()"
   ]
  },
  {
   "cell_type": "markdown",
   "metadata": {},
   "source": [
    "Видим большое количество выбросов от 0 до 99 евро. Эти значения маловероятны и их достаточно мало, поэтому для дальнейшего исследования удалим эти строки кроме строк с ценой 0."
   ]
  },
  {
   "cell_type": "code",
   "execution_count": 26,
   "metadata": {},
   "outputs": [
    {
     "name": "stdout",
     "output_type": "stream",
     "text": [
      "Удалим 2372 строк\n"
     ]
    }
   ],
   "source": [
    "print('Удалим', data[(data['price']<100) & (data['price']!=0)]['price'].count(), 'строк')\n",
    "data = data[(data['price']>=100) | (data['price']==0)]"
   ]
  },
  {
   "cell_type": "markdown",
   "metadata": {},
   "source": [
    "Значения с ценой 0 обработаем отдельно. Большое их количество говорит о том, что форма заполнения анкеты некорректная, т.к. пользователь в теории должен был обязательно заполнить это поле. Заполним это поле медианным значением цены по марке автомобиля, модели и году регистрации. Те строки, которые мы не смогли заменить, удалим. Создадим функцию."
   ]
  },
  {
   "cell_type": "code",
   "execution_count": 27,
   "metadata": {},
   "outputs": [],
   "source": [
    "def median_replace(column, data, df):\n",
    "    for row in df.itertuples():\n",
    "        if data.loc[(data['brand']==row.brand) & (data['model']==row.model) & (data['registration_year']==row.registration_year) & (data[column]!=0), column].count() != 0:\n",
    "            data.loc[(data['brand']==row.brand) & (data['model']==row.model) & (data['registration_year']==row.registration_year) & (data[column]==0), column]= \\\n",
    "            data.loc[(data['brand']==row.brand) & (data['model']==row.model) & (data['registration_year']==row.registration_year) & (data[column]!=0), column].median()\n",
    "        else:\n",
    "            # Если нет совпадений по марке, модели и году, то ищем по марке и модели\n",
    "            data.loc[(data['brand']==row.brand) & (data['model']==row.model) & (data['registration_year']==row.registration_year) & (data[column]==0), column] =\\\n",
    "            data.loc[(data['brand']==row.brand) & (data['model']==row.model) & (data[column]!=0), column].median()\n",
    "\n",
    "    # удаляем остальные нули и пустые значения\n",
    "    data[column] = data[column].replace(0, np.nan)\n",
    "    print('Удалим', data[column].isna().sum(), 'строк', column)\n",
    "    return data.dropna()"
   ]
  },
  {
   "cell_type": "markdown",
   "metadata": {},
   "source": [
    "Создадим фрейм данных с маркой, моделью и годом регистрации при цене равной 0. И применим на ней функцию `median_replace`."
   ]
  },
  {
   "cell_type": "code",
   "execution_count": 28,
   "metadata": {},
   "outputs": [
    {
     "name": "stdout",
     "output_type": "stream",
     "text": [
      "Удалим 0 строк price\n"
     ]
    }
   ],
   "source": [
    "df_zero = data[data['price']==0][['brand', 'model', 'registration_year']].drop_duplicates()\n",
    "data = median_replace('price', data, df_zero)"
   ]
  },
  {
   "cell_type": "markdown",
   "metadata": {},
   "source": [
    "**power** Видим аномальный минимум и максимум."
   ]
  },
  {
   "cell_type": "code",
   "execution_count": 29,
   "metadata": {},
   "outputs": [
    {
     "data": {
      "image/png": "[encoded data removed]",
      "text/plain": [
       "<Figure size 720x360 with 1 Axes>"
      ]
     },
     "metadata": {
      "needs_background": "light"
     },
     "output_type": "display_data"
    }
   ],
   "source": [
    "data['power'].hist(figsize=(10,5),bins=100, range=(0, 1000))\n",
    "plt.title('Рапсределение мощности')\n",
    "plt.xlabel('Мощность')\n",
    "plt.show()"
   ]
  },
  {
   "cell_type": "markdown",
   "metadata": {},
   "source": [
    "Анкеты с автомобилями с мощностью больше 500 л.с. почти не встречаются, удалим их."
   ]
  },
  {
   "cell_type": "code",
   "execution_count": 30,
   "metadata": {},
   "outputs": [
    {
     "name": "stdout",
     "output_type": "stream",
     "text": [
      "Удалим 402 строк\n"
     ]
    }
   ],
   "source": [
    "print('Удалим', data[data['power']>500]['power'].count(), 'строк')\n",
    "\n",
    "data = data[data['power'] <= 500]"
   ]
  },
  {
   "cell_type": "markdown",
   "metadata": {},
   "source": [
    "Проверим минимум"
   ]
  },
  {
   "cell_type": "code",
   "execution_count": 31,
   "metadata": {},
   "outputs": [
    {
     "data": {
      "image/png": "[encoded data removed]",
      "text/plain": [
       "<Figure size 720x360 with 1 Axes>"
      ]
     },
     "metadata": {
      "needs_background": "light"
     },
     "output_type": "display_data"
    }
   ],
   "source": [
    "data['power'].hist(figsize=(10,5),bins=100, range=(0,100))\n",
    "plt.title('Рапсределение мощности')\n",
    "plt.xlabel('Мощность')\n",
    "plt.show()"
   ]
  },
  {
   "cell_type": "markdown",
   "metadata": {},
   "source": [
    "Видим что в основном встречаются анкеты с автомобилями с мощностью больше 40 л.с. остальные значения выглядят неправдоподобно. Удалим строки со значениями мощности 1 - 39."
   ]
  },
  {
   "cell_type": "code",
   "execution_count": 32,
   "metadata": {},
   "outputs": [
    {
     "name": "stdout",
     "output_type": "stream",
     "text": [
      "Удалим 1288 строк\n"
     ]
    }
   ],
   "source": [
    "print('Удалим', data[(data['power']<40) & (data['power']!=0)]['power'].count(), 'строк')\n",
    "data = data[(data['power']>=40) | (data['power']==0)]"
   ]
  },
  {
   "cell_type": "markdown",
   "metadata": {},
   "source": [
    "Нули мы заменим медианой по аналогии с ценой с помощью функции `median_replace`."
   ]
  },
  {
   "cell_type": "code",
   "execution_count": 33,
   "metadata": {
    "scrolled": true
   },
   "outputs": [
    {
     "name": "stdout",
     "output_type": "stream",
     "text": [
      "Удалим 2 строк power\n"
     ]
    }
   ],
   "source": [
    "df_zero = data[data['power']==0][['brand', 'model', 'registration_year']].drop_duplicates()\n",
    "data = median_replace('power', data, df_zero)"
   ]
  },
  {
   "cell_type": "markdown",
   "metadata": {},
   "source": [
    "**registration_month** Видим значение 0 в столбце с месяцами. "
   ]
  },
  {
   "cell_type": "code",
   "execution_count": 34,
   "metadata": {
    "scrolled": true
   },
   "outputs": [
    {
     "data": {
      "image/png": "[encoded data removed]",
      "text/plain": [
       "<Figure size 720x360 with 1 Axes>"
      ]
     },
     "metadata": {
      "needs_background": "light"
     },
     "output_type": "display_data"
    }
   ],
   "source": [
    "data['registration_month'].hist(figsize=(10,5), bins=30)\n",
    "plt.title('Рапсределение месяцев')\n",
    "plt.xlabel('Месяц')\n",
    "plt.show()"
   ]
  },
  {
   "cell_type": "markdown",
   "metadata": {},
   "source": [
    "Нулевых значений достаточно много и их заменить нельзя + этот признак обладает сомнительной информативностью, поэтому обрабатывать их не будем, а в дальнейшем удалим этот столбец.\n",
    "\n",
    "Проверим описание полей."
   ]
  },
  {
   "cell_type": "code",
   "execution_count": 35,
   "metadata": {},
   "outputs": [
    {
     "data": {
      "text/html": [
       "<div>\n",
       "<style scoped>\n",
       "    .dataframe tbody tr th:only-of-type {\n",
       "        vertical-align: middle;\n",
       "    }\n",
       "\n",
       "    .dataframe tbody tr th {\n",
       "        vertical-align: top;\n",
       "    }\n",
       "\n",
       "    .dataframe thead th {\n",
       "        text-align: right;\n",
       "    }\n",
       "</style>\n",
       "<table border=\"1\" class=\"dataframe\">\n",
       "  <thead>\n",
       "    <tr style=\"text-align: right;\">\n",
       "      <th></th>\n",
       "      <th>count</th>\n",
       "      <th>mean</th>\n",
       "      <th>std</th>\n",
       "      <th>min</th>\n",
       "      <th>25%</th>\n",
       "      <th>50%</th>\n",
       "      <th>75%</th>\n",
       "      <th>max</th>\n",
       "    </tr>\n",
       "  </thead>\n",
       "  <tbody>\n",
       "    <tr>\n",
       "      <th>price</th>\n",
       "      <td>330659.0</td>\n",
       "      <td>4611.120028</td>\n",
       "      <td>4532.625773</td>\n",
       "      <td>100.0</td>\n",
       "      <td>1200.0</td>\n",
       "      <td>2900.0</td>\n",
       "      <td>6600.0</td>\n",
       "      <td>20000.0</td>\n",
       "    </tr>\n",
       "    <tr>\n",
       "      <th>registration_year</th>\n",
       "      <td>330659.0</td>\n",
       "      <td>2002.438573</td>\n",
       "      <td>6.484393</td>\n",
       "      <td>1960.0</td>\n",
       "      <td>1999.0</td>\n",
       "      <td>2003.0</td>\n",
       "      <td>2007.0</td>\n",
       "      <td>2016.0</td>\n",
       "    </tr>\n",
       "    <tr>\n",
       "      <th>power</th>\n",
       "      <td>330659.0</td>\n",
       "      <td>119.538883</td>\n",
       "      <td>52.616074</td>\n",
       "      <td>40.0</td>\n",
       "      <td>75.0</td>\n",
       "      <td>110.0</td>\n",
       "      <td>147.0</td>\n",
       "      <td>500.0</td>\n",
       "    </tr>\n",
       "    <tr>\n",
       "      <th>kilometer</th>\n",
       "      <td>330659.0</td>\n",
       "      <td>128405.940864</td>\n",
       "      <td>37403.956142</td>\n",
       "      <td>5000.0</td>\n",
       "      <td>125000.0</td>\n",
       "      <td>150000.0</td>\n",
       "      <td>150000.0</td>\n",
       "      <td>150000.0</td>\n",
       "    </tr>\n",
       "    <tr>\n",
       "      <th>registration_month</th>\n",
       "      <td>330659.0</td>\n",
       "      <td>5.747132</td>\n",
       "      <td>3.703362</td>\n",
       "      <td>0.0</td>\n",
       "      <td>3.0</td>\n",
       "      <td>6.0</td>\n",
       "      <td>9.0</td>\n",
       "      <td>12.0</td>\n",
       "    </tr>\n",
       "    <tr>\n",
       "      <th>number_of_pictures</th>\n",
       "      <td>330659.0</td>\n",
       "      <td>0.000000</td>\n",
       "      <td>0.000000</td>\n",
       "      <td>0.0</td>\n",
       "      <td>0.0</td>\n",
       "      <td>0.0</td>\n",
       "      <td>0.0</td>\n",
       "      <td>0.0</td>\n",
       "    </tr>\n",
       "    <tr>\n",
       "      <th>postal_code</th>\n",
       "      <td>330659.0</td>\n",
       "      <td>50687.345059</td>\n",
       "      <td>25786.102598</td>\n",
       "      <td>1067.0</td>\n",
       "      <td>30419.0</td>\n",
       "      <td>49565.0</td>\n",
       "      <td>71263.0</td>\n",
       "      <td>99998.0</td>\n",
       "    </tr>\n",
       "  </tbody>\n",
       "</table>\n",
       "</div>"
      ],
      "text/plain": [
       "                       count           mean           std     min       25%  \\\n",
       "price               330659.0    4611.120028   4532.625773   100.0    1200.0   \n",
       "registration_year   330659.0    2002.438573      6.484393  1960.0    1999.0   \n",
       "power               330659.0     119.538883     52.616074    40.0      75.0   \n",
       "kilometer           330659.0  128405.940864  37403.956142  5000.0  125000.0   \n",
       "registration_month  330659.0       5.747132      3.703362     0.0       3.0   \n",
       "number_of_pictures  330659.0       0.000000      0.000000     0.0       0.0   \n",
       "postal_code         330659.0   50687.345059  25786.102598  1067.0   30419.0   \n",
       "\n",
       "                         50%       75%       max  \n",
       "price                 2900.0    6600.0   20000.0  \n",
       "registration_year     2003.0    2007.0    2016.0  \n",
       "power                  110.0     147.0     500.0  \n",
       "kilometer           150000.0  150000.0  150000.0  \n",
       "registration_month       6.0       9.0      12.0  \n",
       "number_of_pictures       0.0       0.0       0.0  \n",
       "postal_code          49565.0   71263.0   99998.0  "
      ]
     },
     "execution_count": 35,
     "metadata": {},
     "output_type": "execute_result"
    }
   ],
   "source": [
    "data.describe().T"
   ]
  },
  {
   "cell_type": "markdown",
   "metadata": {},
   "source": [
    "Значения столбца `kilometer` находятся в пределах нормы, не будем его трогать. Столбцы `number_of_pictures` и `postal_code` удалим за их ненадобностью."
   ]
  },
  {
   "cell_type": "markdown",
   "metadata": {},
   "source": [
    "#### Удаление неинформативных признаков."
   ]
  },
  {
   "cell_type": "code",
   "execution_count": 36,
   "metadata": {},
   "outputs": [],
   "source": [
    "data = data.drop(['date_crawled', 'registration_month', 'date_created', 'number_of_pictures', 'postal_code', 'last_seen'], axis=1)"
   ]
  },
  {
   "cell_type": "code",
   "execution_count": 37,
   "metadata": {
    "scrolled": true
   },
   "outputs": [
    {
     "name": "stdout",
     "output_type": "stream",
     "text": [
      "<class 'pandas.core.frame.DataFrame'>\n",
      "Int64Index: 330659 entries, 0 to 354364\n",
      "Data columns (total 10 columns):\n",
      " #   Column             Non-Null Count   Dtype  \n",
      "---  ------             --------------   -----  \n",
      " 0   price              330659 non-null  float64\n",
      " 1   vehicle_type       330659 non-null  object \n",
      " 2   registration_year  330659 non-null  int64  \n",
      " 3   gearbox            330659 non-null  object \n",
      " 4   power              330659 non-null  float64\n",
      " 5   model              330659 non-null  object \n",
      " 6   kilometer          330659 non-null  int64  \n",
      " 7   fuel_type          330659 non-null  object \n",
      " 8   brand              330659 non-null  object \n",
      " 9   repaired           330659 non-null  object \n",
      "dtypes: float64(2), int64(2), object(6)\n",
      "memory usage: 27.8+ MB\n"
     ]
    }
   ],
   "source": [
    "data.info()"
   ]
  },
  {
   "cell_type": "markdown",
   "metadata": {},
   "source": [
    "**Вывод:** \n",
    "\n",
    "В результате предобработки данных мы:\n",
    "\n",
    "1. Изменили названия столбцов\n",
    "2. Удалили 4 полных дубликата строк\n",
    "3. В столбце `fuel_type` заменили значение gasoline на petrol\n",
    "4. В столбце `model` заменили пропуски значением other. В столбцах `fuel_type`, `vehicle_type`, `gearbox` заменили часть пропусков модальными значениями по каждой модели автомобиля. Остальные значения заменили на other\n",
    "5. В столбце `repaired` заменили пропуски значением no\n",
    "6. Обработали аномальные значения в столбце `registration_year` удалив их. В столбцах `price` и `power` также удалили часть аномальных значений + заменили часть 0-вых на медианные значения по марке автомобиля, модели и году регистрации\n",
    "7. Удалили неинформативные признаки `date_crawled`, `registration_month`, `date_created`, `number_of_pictures`, `postal_code`, `last_seen`\n",
    "8. Всего мы удалили 23710 строк. Что составляет 6.7%."
   ]
  },
  {
   "cell_type": "markdown",
   "metadata": {},
   "source": [
    "### Подготовка выборок"
   ]
  },
  {
   "cell_type": "markdown",
   "metadata": {},
   "source": [
    "#### Разбиение данных"
   ]
  },
  {
   "cell_type": "markdown",
   "metadata": {},
   "source": [
    "Данные нужно разбить на две части: обучающую и тестовую в соотношении 3:1.\n",
    "- Обучающая - 75%\n",
    "- Тестовая - 25%"
   ]
  },
  {
   "cell_type": "code",
   "execution_count": 38,
   "metadata": {},
   "outputs": [],
   "source": [
    "features = data.drop(['price'], axis=1) \n",
    "target = data['price'] \n",
    "\n",
    "features_train, features_test, target_train, target_test = train_test_split(\n",
    "    features, target, train_size=0.75, random_state=96)"
   ]
  },
  {
   "cell_type": "markdown",
   "metadata": {},
   "source": [
    "Проверим размеры выборок:"
   ]
  },
  {
   "cell_type": "code",
   "execution_count": 39,
   "metadata": {
    "scrolled": true
   },
   "outputs": [
    {
     "name": "stdout",
     "output_type": "stream",
     "text": [
      "Размер фрейма признаков обучающей выборки: (247994, 9)\n",
      "Размер фрейма целевого признака обучающей выборки: (247994,)\n",
      "Размер фрейма признаков тестовой выборки: (82665, 9)\n",
      "Размер фрейма целевого признака тестовой выборки: (82665,)\n"
     ]
    }
   ],
   "source": [
    "print('Размер фрейма признаков обучающей выборки:', features_train.shape)\n",
    "print('Размер фрейма целевого признака обучающей выборки:', target_train.shape)\n",
    "print('Размер фрейма признаков тестовой выборки:', features_test.shape)\n",
    "print('Размер фрейма целевого признака тестовой выборки:', target_test.shape)"
   ]
  },
  {
   "cell_type": "markdown",
   "metadata": {},
   "source": [
    "**Вывод:** В данном разделе мы произвели обзор и предобработку данных. Обозначили значение каждого поля, устранили аномалии и пропуски там где смогли. Также мы обработали дубликаты, названия и типы столбцов. В результате наших преобразований мы сохранили 93.3% исходных строк. В конце мы разделили датасет на обучающую и тестовую выборки."
   ]
  },
  {
   "cell_type": "markdown",
   "metadata": {},
   "source": [
    "## Обучение моделей"
   ]
  },
  {
   "cell_type": "markdown",
   "metadata": {},
   "source": [
    "### Линейная регрессия"
   ]
  },
  {
   "cell_type": "code",
   "execution_count": 40,
   "metadata": {},
   "outputs": [],
   "source": [
    "#категориальные признаки\n",
    "# для модели линейной регрессии кодируем все признаки методом OHE\n",
    "ohe_features_reg = features_train.select_dtypes(include='object').columns.to_list()\n",
    "\n",
    "# численные признаки (создадим одну переменную для всех моделей)\n",
    "num_features = features_train.select_dtypes(exclude='object').columns.to_list()\n",
    "\n",
    "# используем функцию make_column_transformer для предварительной обработки столбцов\n",
    "# drop='first' удаляет первый признак из закодированных, таким образом обходим dummy-ловушку\n",
    "# задаём handle_unknown='ignore': игнорируется ранее невстречающиеся значения признака (при transform)\n",
    "transformer_reg = make_column_transformer(\n",
    "    (\n",
    "        OneHotEncoder(drop='first', handle_unknown='ignore'),\n",
    "        ohe_features_reg\n",
    "    ),\n",
    "    (\n",
    "        StandardScaler(), \n",
    "        num_features\n",
    "    )\n",
    ")\n",
    "\n",
    "# создаем модель\n",
    "model_reg = LinearRegression()\n",
    "\n",
    "# передаем предварительно обработанные данные в модель машинного обучения с помощью `make_pipeline`\n",
    "pipeline_reg = make_pipeline(transformer_reg, model_reg)\n",
    "\n",
    "# используем метод кросс-валидации\n",
    "cv_reg_results = cross_validate(pipeline_reg, features_train, target_train, scoring='neg_root_mean_squared_error')"
   ]
  },
  {
   "cell_type": "code",
   "execution_count": 41,
   "metadata": {},
   "outputs": [
    {
     "name": "stdout",
     "output_type": "stream",
     "text": [
      "RMSE: 2689.306546589739\n",
      "Время обучения: 30.19529709815979\n",
      "Время предсказания: 0.2570353507995605\n"
     ]
    }
   ],
   "source": [
    "print(f'RMSE: {cv_reg_results[\"test_score\"].mean() * -1}')\n",
    "print(f'Время обучения: {cv_reg_results[\"fit_time\"].mean()}')\n",
    "print(f'Время предсказания: {cv_reg_results[\"score_time\"].mean()}')"
   ]
  },
  {
   "cell_type": "markdown",
   "metadata": {},
   "source": [
    "### Случайный лес"
   ]
  },
  {
   "cell_type": "code",
   "execution_count": 42,
   "metadata": {
    "scrolled": true
   },
   "outputs": [
    {
     "data": {
      "text/html": [
       "<style>#sk-container-id-1 {color: black;}#sk-container-id-1 pre{padding: 0;}#sk-container-id-1 div.sk-toggleable {background-color: white;}#sk-container-id-1 label.sk-toggleable__label {cursor: pointer;display: block;width: 100%;margin-bottom: 0;padding: 0.3em;box-sizing: border-box;text-align: center;}#sk-container-id-1 label.sk-toggleable__label-arrow:before {content: \"▸\";float: left;margin-right: 0.25em;color: #696969;}#sk-container-id-1 label.sk-toggleable__label-arrow:hover:before {color: black;}#sk-container-id-1 div.sk-estimator:hover label.sk-toggleable__label-arrow:before {color: black;}#sk-container-id-1 div.sk-toggleable__content {max-height: 0;max-width: 0;overflow: hidden;text-align: left;background-color: #f0f8ff;}#sk-container-id-1 div.sk-toggleable__content pre {margin: 0.2em;color: black;border-radius: 0.25em;background-color: #f0f8ff;}#sk-container-id-1 input.sk-toggleable__control:checked~div.sk-toggleable__content {max-height: 200px;max-width: 100%;overflow: auto;}#sk-container-id-1 input.sk-toggleable__control:checked~label.sk-toggleable__label-arrow:before {content: \"▾\";}#sk-container-id-1 div.sk-estimator input.sk-toggleable__control:checked~label.sk-toggleable__label {background-color: #d4ebff;}#sk-container-id-1 div.sk-label input.sk-toggleable__control:checked~label.sk-toggleable__label {background-color: #d4ebff;}#sk-container-id-1 input.sk-hidden--visually {border: 0;clip: rect(1px 1px 1px 1px);clip: rect(1px, 1px, 1px, 1px);height: 1px;margin: -1px;overflow: hidden;padding: 0;position: absolute;width: 1px;}#sk-container-id-1 div.sk-estimator {font-family: monospace;background-color: #f0f8ff;border: 1px dotted black;border-radius: 0.25em;box-sizing: border-box;margin-bottom: 0.5em;}#sk-container-id-1 div.sk-estimator:hover {background-color: #d4ebff;}#sk-container-id-1 div.sk-parallel-item::after {content: \"\";width: 100%;border-bottom: 1px solid gray;flex-grow: 1;}#sk-container-id-1 div.sk-label:hover label.sk-toggleable__label {background-color: #d4ebff;}#sk-container-id-1 div.sk-serial::before {content: \"\";position: absolute;border-left: 1px solid gray;box-sizing: border-box;top: 0;bottom: 0;left: 50%;z-index: 0;}#sk-container-id-1 div.sk-serial {display: flex;flex-direction: column;align-items: center;background-color: white;padding-right: 0.2em;padding-left: 0.2em;position: relative;}#sk-container-id-1 div.sk-item {position: relative;z-index: 1;}#sk-container-id-1 div.sk-parallel {display: flex;align-items: stretch;justify-content: center;background-color: white;position: relative;}#sk-container-id-1 div.sk-item::before, #sk-container-id-1 div.sk-parallel-item::before {content: \"\";position: absolute;border-left: 1px solid gray;box-sizing: border-box;top: 0;bottom: 0;left: 50%;z-index: -1;}#sk-container-id-1 div.sk-parallel-item {display: flex;flex-direction: column;z-index: 1;position: relative;background-color: white;}#sk-container-id-1 div.sk-parallel-item:first-child::after {align-self: flex-end;width: 50%;}#sk-container-id-1 div.sk-parallel-item:last-child::after {align-self: flex-start;width: 50%;}#sk-container-id-1 div.sk-parallel-item:only-child::after {width: 0;}#sk-container-id-1 div.sk-dashed-wrapped {border: 1px dashed gray;margin: 0 0.4em 0.5em 0.4em;box-sizing: border-box;padding-bottom: 0.4em;background-color: white;}#sk-container-id-1 div.sk-label label {font-family: monospace;font-weight: bold;display: inline-block;line-height: 1.2em;}#sk-container-id-1 div.sk-label-container {text-align: center;}#sk-container-id-1 div.sk-container {/* jupyter's `normalize.less` sets `[hidden] { display: none; }` but bootstrap.min.css set `[hidden] { display: none !important; }` so we also need the `!important` here to be able to override the default hidden behavior on the sphinx rendered scikit-learn.org. See: https://github.com/scikit-learn/scikit-learn/issues/21755 */display: inline-block !important;position: relative;}#sk-container-id-1 div.sk-text-repr-fallback {display: none;}</style><div id=\"sk-container-id-1\" class=\"sk-top-container\"><div class=\"sk-text-repr-fallback\"><pre>RandomizedSearchCV(estimator=Pipeline(steps=[(&#x27;columntransformer&#x27;,\n",
       "                                              ColumnTransformer(transformers=[(&#x27;onehotencoder&#x27;,\n",
       "                                                                               OneHotEncoder(drop=&#x27;first&#x27;,\n",
       "                                                                                             handle_unknown=&#x27;ignore&#x27;),\n",
       "                                                                               [&#x27;vehicle_type&#x27;,\n",
       "                                                                                &#x27;gearbox&#x27;,\n",
       "                                                                                &#x27;fuel_type&#x27;,\n",
       "                                                                                &#x27;brand&#x27;,\n",
       "                                                                                &#x27;repaired&#x27;]),\n",
       "                                                                              (&#x27;ordinalencoder&#x27;,\n",
       "                                                                               OrdinalEncoder(handle_unknown=&#x27;use_encoded_value&#x27;,\n",
       "                                                                                              unknown_value=-1),\n",
       "                                                                               [&#x27;model&#x27;]),\n",
       "                                                                              (&#x27;standardscaler&#x27;,\n",
       "                                                                               StandardS...\n",
       "                                             (&#x27;randomforestregressor&#x27;,\n",
       "                                              RandomForestRegressor(random_state=96))]),\n",
       "                   n_jobs=-1,\n",
       "                   param_distributions={&#x27;randomforestregressor__max_depth&#x27;: range(2, 15),\n",
       "                                        &#x27;randomforestregressor__min_samples_leaf&#x27;: (1,\n",
       "                                                                                    2,\n",
       "                                                                                    3,\n",
       "                                                                                    4),\n",
       "                                        &#x27;randomforestregressor__min_samples_split&#x27;: (2,\n",
       "                                                                                     3,\n",
       "                                                                                     4),\n",
       "                                        &#x27;randomforestregressor__n_estimators&#x27;: range(10, 51, 10)},\n",
       "                   random_state=96, scoring=&#x27;neg_root_mean_squared_error&#x27;)</pre><b>In a Jupyter environment, please rerun this cell to show the HTML representation or trust the notebook. <br />On GitHub, the HTML representation is unable to render, please try loading this page with nbviewer.org.</b></div><div class=\"sk-container\" hidden><div class=\"sk-item sk-dashed-wrapped\"><div class=\"sk-label-container\"><div class=\"sk-label sk-toggleable\"><input class=\"sk-toggleable__control sk-hidden--visually\" id=\"sk-estimator-id-1\" type=\"checkbox\" ><label for=\"sk-estimator-id-1\" class=\"sk-toggleable__label sk-toggleable__label-arrow\">RandomizedSearchCV</label><div class=\"sk-toggleable__content\"><pre>RandomizedSearchCV(estimator=Pipeline(steps=[(&#x27;columntransformer&#x27;,\n",
       "                                              ColumnTransformer(transformers=[(&#x27;onehotencoder&#x27;,\n",
       "                                                                               OneHotEncoder(drop=&#x27;first&#x27;,\n",
       "                                                                                             handle_unknown=&#x27;ignore&#x27;),\n",
       "                                                                               [&#x27;vehicle_type&#x27;,\n",
       "                                                                                &#x27;gearbox&#x27;,\n",
       "                                                                                &#x27;fuel_type&#x27;,\n",
       "                                                                                &#x27;brand&#x27;,\n",
       "                                                                                &#x27;repaired&#x27;]),\n",
       "                                                                              (&#x27;ordinalencoder&#x27;,\n",
       "                                                                               OrdinalEncoder(handle_unknown=&#x27;use_encoded_value&#x27;,\n",
       "                                                                                              unknown_value=-1),\n",
       "                                                                               [&#x27;model&#x27;]),\n",
       "                                                                              (&#x27;standardscaler&#x27;,\n",
       "                                                                               StandardS...\n",
       "                                             (&#x27;randomforestregressor&#x27;,\n",
       "                                              RandomForestRegressor(random_state=96))]),\n",
       "                   n_jobs=-1,\n",
       "                   param_distributions={&#x27;randomforestregressor__max_depth&#x27;: range(2, 15),\n",
       "                                        &#x27;randomforestregressor__min_samples_leaf&#x27;: (1,\n",
       "                                                                                    2,\n",
       "                                                                                    3,\n",
       "                                                                                    4),\n",
       "                                        &#x27;randomforestregressor__min_samples_split&#x27;: (2,\n",
       "                                                                                     3,\n",
       "                                                                                     4),\n",
       "                                        &#x27;randomforestregressor__n_estimators&#x27;: range(10, 51, 10)},\n",
       "                   random_state=96, scoring=&#x27;neg_root_mean_squared_error&#x27;)</pre></div></div></div><div class=\"sk-parallel\"><div class=\"sk-parallel-item\"><div class=\"sk-item\"><div class=\"sk-label-container\"><div class=\"sk-label sk-toggleable\"><input class=\"sk-toggleable__control sk-hidden--visually\" id=\"sk-estimator-id-2\" type=\"checkbox\" ><label for=\"sk-estimator-id-2\" class=\"sk-toggleable__label sk-toggleable__label-arrow\">estimator: Pipeline</label><div class=\"sk-toggleable__content\"><pre>Pipeline(steps=[(&#x27;columntransformer&#x27;,\n",
       "                 ColumnTransformer(transformers=[(&#x27;onehotencoder&#x27;,\n",
       "                                                  OneHotEncoder(drop=&#x27;first&#x27;,\n",
       "                                                                handle_unknown=&#x27;ignore&#x27;),\n",
       "                                                  [&#x27;vehicle_type&#x27;, &#x27;gearbox&#x27;,\n",
       "                                                   &#x27;fuel_type&#x27;, &#x27;brand&#x27;,\n",
       "                                                   &#x27;repaired&#x27;]),\n",
       "                                                 (&#x27;ordinalencoder&#x27;,\n",
       "                                                  OrdinalEncoder(handle_unknown=&#x27;use_encoded_value&#x27;,\n",
       "                                                                 unknown_value=-1),\n",
       "                                                  [&#x27;model&#x27;]),\n",
       "                                                 (&#x27;standardscaler&#x27;,\n",
       "                                                  StandardScaler(),\n",
       "                                                  [&#x27;registration_year&#x27;, &#x27;power&#x27;,\n",
       "                                                   &#x27;kilometer&#x27;])])),\n",
       "                (&#x27;randomforestregressor&#x27;,\n",
       "                 RandomForestRegressor(random_state=96))])</pre></div></div></div><div class=\"sk-serial\"><div class=\"sk-item\"><div class=\"sk-serial\"><div class=\"sk-item sk-dashed-wrapped\"><div class=\"sk-label-container\"><div class=\"sk-label sk-toggleable\"><input class=\"sk-toggleable__control sk-hidden--visually\" id=\"sk-estimator-id-3\" type=\"checkbox\" ><label for=\"sk-estimator-id-3\" class=\"sk-toggleable__label sk-toggleable__label-arrow\">columntransformer: ColumnTransformer</label><div class=\"sk-toggleable__content\"><pre>ColumnTransformer(transformers=[(&#x27;onehotencoder&#x27;,\n",
       "                                 OneHotEncoder(drop=&#x27;first&#x27;,\n",
       "                                               handle_unknown=&#x27;ignore&#x27;),\n",
       "                                 [&#x27;vehicle_type&#x27;, &#x27;gearbox&#x27;, &#x27;fuel_type&#x27;,\n",
       "                                  &#x27;brand&#x27;, &#x27;repaired&#x27;]),\n",
       "                                (&#x27;ordinalencoder&#x27;,\n",
       "                                 OrdinalEncoder(handle_unknown=&#x27;use_encoded_value&#x27;,\n",
       "                                                unknown_value=-1),\n",
       "                                 [&#x27;model&#x27;]),\n",
       "                                (&#x27;standardscaler&#x27;, StandardScaler(),\n",
       "                                 [&#x27;registration_year&#x27;, &#x27;power&#x27;, &#x27;kilometer&#x27;])])</pre></div></div></div><div class=\"sk-parallel\"><div class=\"sk-parallel-item\"><div class=\"sk-item\"><div class=\"sk-label-container\"><div class=\"sk-label sk-toggleable\"><input class=\"sk-toggleable__control sk-hidden--visually\" id=\"sk-estimator-id-4\" type=\"checkbox\" ><label for=\"sk-estimator-id-4\" class=\"sk-toggleable__label sk-toggleable__label-arrow\">onehotencoder</label><div class=\"sk-toggleable__content\"><pre>[&#x27;vehicle_type&#x27;, &#x27;gearbox&#x27;, &#x27;fuel_type&#x27;, &#x27;brand&#x27;, &#x27;repaired&#x27;]</pre></div></div></div><div class=\"sk-serial\"><div class=\"sk-item\"><div class=\"sk-estimator sk-toggleable\"><input class=\"sk-toggleable__control sk-hidden--visually\" id=\"sk-estimator-id-5\" type=\"checkbox\" ><label for=\"sk-estimator-id-5\" class=\"sk-toggleable__label sk-toggleable__label-arrow\">OneHotEncoder</label><div class=\"sk-toggleable__content\"><pre>OneHotEncoder(drop=&#x27;first&#x27;, handle_unknown=&#x27;ignore&#x27;)</pre></div></div></div></div></div></div><div class=\"sk-parallel-item\"><div class=\"sk-item\"><div class=\"sk-label-container\"><div class=\"sk-label sk-toggleable\"><input class=\"sk-toggleable__control sk-hidden--visually\" id=\"sk-estimator-id-6\" type=\"checkbox\" ><label for=\"sk-estimator-id-6\" class=\"sk-toggleable__label sk-toggleable__label-arrow\">ordinalencoder</label><div class=\"sk-toggleable__content\"><pre>[&#x27;model&#x27;]</pre></div></div></div><div class=\"sk-serial\"><div class=\"sk-item\"><div class=\"sk-estimator sk-toggleable\"><input class=\"sk-toggleable__control sk-hidden--visually\" id=\"sk-estimator-id-7\" type=\"checkbox\" ><label for=\"sk-estimator-id-7\" class=\"sk-toggleable__label sk-toggleable__label-arrow\">OrdinalEncoder</label><div class=\"sk-toggleable__content\"><pre>OrdinalEncoder(handle_unknown=&#x27;use_encoded_value&#x27;, unknown_value=-1)</pre></div></div></div></div></div></div><div class=\"sk-parallel-item\"><div class=\"sk-item\"><div class=\"sk-label-container\"><div class=\"sk-label sk-toggleable\"><input class=\"sk-toggleable__control sk-hidden--visually\" id=\"sk-estimator-id-8\" type=\"checkbox\" ><label for=\"sk-estimator-id-8\" class=\"sk-toggleable__label sk-toggleable__label-arrow\">standardscaler</label><div class=\"sk-toggleable__content\"><pre>[&#x27;registration_year&#x27;, &#x27;power&#x27;, &#x27;kilometer&#x27;]</pre></div></div></div><div class=\"sk-serial\"><div class=\"sk-item\"><div class=\"sk-estimator sk-toggleable\"><input class=\"sk-toggleable__control sk-hidden--visually\" id=\"sk-estimator-id-9\" type=\"checkbox\" ><label for=\"sk-estimator-id-9\" class=\"sk-toggleable__label sk-toggleable__label-arrow\">StandardScaler</label><div class=\"sk-toggleable__content\"><pre>StandardScaler()</pre></div></div></div></div></div></div></div></div><div class=\"sk-item\"><div class=\"sk-estimator sk-toggleable\"><input class=\"sk-toggleable__control sk-hidden--visually\" id=\"sk-estimator-id-10\" type=\"checkbox\" ><label for=\"sk-estimator-id-10\" class=\"sk-toggleable__label sk-toggleable__label-arrow\">RandomForestRegressor</label><div class=\"sk-toggleable__content\"><pre>RandomForestRegressor(random_state=96)</pre></div></div></div></div></div></div></div></div></div></div></div></div>"
      ],
      "text/plain": [
       "RandomizedSearchCV(estimator=Pipeline(steps=[('columntransformer',\n",
       "                                              ColumnTransformer(transformers=[('onehotencoder',\n",
       "                                                                               OneHotEncoder(drop='first',\n",
       "                                                                                             handle_unknown='ignore'),\n",
       "                                                                               ['vehicle_type',\n",
       "                                                                                'gearbox',\n",
       "                                                                                'fuel_type',\n",
       "                                                                                'brand',\n",
       "                                                                                'repaired']),\n",
       "                                                                              ('ordinalencoder',\n",
       "                                                                               OrdinalEncoder(handle_unknown='use_encoded_value',\n",
       "                                                                                              unknown_value=-1),\n",
       "                                                                               ['model']),\n",
       "                                                                              ('standardscaler',\n",
       "                                                                               StandardS...\n",
       "                                             ('randomforestregressor',\n",
       "                                              RandomForestRegressor(random_state=96))]),\n",
       "                   n_jobs=-1,\n",
       "                   param_distributions={'randomforestregressor__max_depth': range(2, 15),\n",
       "                                        'randomforestregressor__min_samples_leaf': (1,\n",
       "                                                                                    2,\n",
       "                                                                                    3,\n",
       "                                                                                    4),\n",
       "                                        'randomforestregressor__min_samples_split': (2,\n",
       "                                                                                     3,\n",
       "                                                                                     4),\n",
       "                                        'randomforestregressor__n_estimators': range(10, 51, 10)},\n",
       "                   random_state=96, scoring='neg_root_mean_squared_error')"
      ]
     },
     "execution_count": 42,
     "metadata": {},
     "output_type": "execute_result"
    }
   ],
   "source": [
    "#категориальные признаки\n",
    "# для модели случайного леса кодируем все признаки методом OHE кроме 'model'\n",
    "# т.к. большое количество столбцов повлияет на скорость обучения модели случайного леса\n",
    "# 'model' будем кодировать методом OrdinalScaler\n",
    "ohe_features_for = ohe_features_reg.copy()\n",
    "ohe_features_for.remove('model')\n",
    "\n",
    "\n",
    "# используем функцию make_column_transformer для предварительной обработки столбцов\n",
    "# drop='first' удаляет первый признак из закодированных, таким образом обходим dummy-ловушку\n",
    "# в OHE задаём handle_unknown='ignore': игнорируется ранее невстречающиеся значения признака (при transform)\n",
    "# в OrdinalEncoder задаем handle_unknown='use_encoded_value' чтобы задать ранее невстречающиеся значения признака как -1\n",
    "transformer_for = make_column_transformer(\n",
    "    (\n",
    "        OneHotEncoder(drop='first', handle_unknown='ignore'),\n",
    "        ohe_features_for\n",
    "    ),\n",
    "    (\n",
    "        OrdinalEncoder(handle_unknown='use_encoded_value', unknown_value=-1), \n",
    "        ['model']\n",
    "    ),\n",
    "    (\n",
    "        StandardScaler(), \n",
    "        num_features\n",
    "    )\n",
    ")\n",
    "\n",
    "# создаем модель\n",
    "model_for = RandomForestRegressor(random_state=96)\n",
    "\n",
    "# передаем предварительно обработанные данные в модель машинного обучения с помощью `make_pipeline`\n",
    "pipeline_for = make_pipeline(transformer_for, model_for)\n",
    "\n",
    "# сетка гиперпараметров для обучения модели\n",
    "param_grid_for = {\n",
    "    'randomforestregressor__n_estimators': range(10, 51, 10),\n",
    "    'randomforestregressor__max_depth': range(2, 15),\n",
    "    'randomforestregressor__min_samples_split': (2, 3, 4),\n",
    "    'randomforestregressor__min_samples_leaf': (1, 2, 3, 4)\n",
    "}\n",
    "\n",
    "\n",
    "# используем RandomizedSearchCV т.к присутствует много параметров при переборе\n",
    "# и он работает быстрее чем GridSearchCV\n",
    "rs_for = RandomizedSearchCV(\n",
    "    pipeline_for, \n",
    "    param_distributions=param_grid_for, \n",
    "    scoring='neg_root_mean_squared_error', \n",
    "    n_jobs=-1, \n",
    "    random_state=96\n",
    ")\n",
    "\n",
    "#Обучение модели\n",
    "rs_for.fit(features_train, target_train)"
   ]
  },
  {
   "cell_type": "code",
   "execution_count": 43,
   "metadata": {},
   "outputs": [
    {
     "name": "stdout",
     "output_type": "stream",
     "text": [
      "Лучший RMSE: 1714.6282816793682\n",
      "Лучшие параметры: {'randomforestregressor__n_estimators': 20, 'randomforestregressor__min_samples_split': 2, 'randomforestregressor__min_samples_leaf': 1, 'randomforestregressor__max_depth': 14}\n",
      "Лучшее время обучения: 97.65611662864686\n",
      "Лучшее время предсказания: 0.24478015899658204\n"
     ]
    }
   ],
   "source": [
    "print(f'Лучший RMSE: {rs_for.best_score_ * -1}')\n",
    "print(f'Лучшие параметры: {rs_for.best_params_}')\n",
    "#получаем время с помощью индекса лучшего результата в массиве\n",
    "print(f'Лучшее время обучения: {rs_for.cv_results_[\"mean_fit_time\"][np.where(rs_for.cv_results_[\"mean_test_score\"]==rs_for.best_score_)][0]}')\n",
    "print(f'Лучшее время предсказания: {rs_for.cv_results_[\"mean_score_time\"][np.where(rs_for.cv_results_[\"mean_test_score\"]==rs_for.best_score_)][0]}')"
   ]
  },
  {
   "cell_type": "markdown",
   "metadata": {},
   "source": [
    "### LightGBM"
   ]
  },
  {
   "cell_type": "code",
   "execution_count": 44,
   "metadata": {},
   "outputs": [
    {
     "data": {
      "text/html": [
       "<style>#sk-container-id-2 {color: black;}#sk-container-id-2 pre{padding: 0;}#sk-container-id-2 div.sk-toggleable {background-color: white;}#sk-container-id-2 label.sk-toggleable__label {cursor: pointer;display: block;width: 100%;margin-bottom: 0;padding: 0.3em;box-sizing: border-box;text-align: center;}#sk-container-id-2 label.sk-toggleable__label-arrow:before {content: \"▸\";float: left;margin-right: 0.25em;color: #696969;}#sk-container-id-2 label.sk-toggleable__label-arrow:hover:before {color: black;}#sk-container-id-2 div.sk-estimator:hover label.sk-toggleable__label-arrow:before {color: black;}#sk-container-id-2 div.sk-toggleable__content {max-height: 0;max-width: 0;overflow: hidden;text-align: left;background-color: #f0f8ff;}#sk-container-id-2 div.sk-toggleable__content pre {margin: 0.2em;color: black;border-radius: 0.25em;background-color: #f0f8ff;}#sk-container-id-2 input.sk-toggleable__control:checked~div.sk-toggleable__content {max-height: 200px;max-width: 100%;overflow: auto;}#sk-container-id-2 input.sk-toggleable__control:checked~label.sk-toggleable__label-arrow:before {content: \"▾\";}#sk-container-id-2 div.sk-estimator input.sk-toggleable__control:checked~label.sk-toggleable__label {background-color: #d4ebff;}#sk-container-id-2 div.sk-label input.sk-toggleable__control:checked~label.sk-toggleable__label {background-color: #d4ebff;}#sk-container-id-2 input.sk-hidden--visually {border: 0;clip: rect(1px 1px 1px 1px);clip: rect(1px, 1px, 1px, 1px);height: 1px;margin: -1px;overflow: hidden;padding: 0;position: absolute;width: 1px;}#sk-container-id-2 div.sk-estimator {font-family: monospace;background-color: #f0f8ff;border: 1px dotted black;border-radius: 0.25em;box-sizing: border-box;margin-bottom: 0.5em;}#sk-container-id-2 div.sk-estimator:hover {background-color: #d4ebff;}#sk-container-id-2 div.sk-parallel-item::after {content: \"\";width: 100%;border-bottom: 1px solid gray;flex-grow: 1;}#sk-container-id-2 div.sk-label:hover label.sk-toggleable__label {background-color: #d4ebff;}#sk-container-id-2 div.sk-serial::before {content: \"\";position: absolute;border-left: 1px solid gray;box-sizing: border-box;top: 0;bottom: 0;left: 50%;z-index: 0;}#sk-container-id-2 div.sk-serial {display: flex;flex-direction: column;align-items: center;background-color: white;padding-right: 0.2em;padding-left: 0.2em;position: relative;}#sk-container-id-2 div.sk-item {position: relative;z-index: 1;}#sk-container-id-2 div.sk-parallel {display: flex;align-items: stretch;justify-content: center;background-color: white;position: relative;}#sk-container-id-2 div.sk-item::before, #sk-container-id-2 div.sk-parallel-item::before {content: \"\";position: absolute;border-left: 1px solid gray;box-sizing: border-box;top: 0;bottom: 0;left: 50%;z-index: -1;}#sk-container-id-2 div.sk-parallel-item {display: flex;flex-direction: column;z-index: 1;position: relative;background-color: white;}#sk-container-id-2 div.sk-parallel-item:first-child::after {align-self: flex-end;width: 50%;}#sk-container-id-2 div.sk-parallel-item:last-child::after {align-self: flex-start;width: 50%;}#sk-container-id-2 div.sk-parallel-item:only-child::after {width: 0;}#sk-container-id-2 div.sk-dashed-wrapped {border: 1px dashed gray;margin: 0 0.4em 0.5em 0.4em;box-sizing: border-box;padding-bottom: 0.4em;background-color: white;}#sk-container-id-2 div.sk-label label {font-family: monospace;font-weight: bold;display: inline-block;line-height: 1.2em;}#sk-container-id-2 div.sk-label-container {text-align: center;}#sk-container-id-2 div.sk-container {/* jupyter's `normalize.less` sets `[hidden] { display: none; }` but bootstrap.min.css set `[hidden] { display: none !important; }` so we also need the `!important` here to be able to override the default hidden behavior on the sphinx rendered scikit-learn.org. See: https://github.com/scikit-learn/scikit-learn/issues/21755 */display: inline-block !important;position: relative;}#sk-container-id-2 div.sk-text-repr-fallback {display: none;}</style><div id=\"sk-container-id-2\" class=\"sk-top-container\"><div class=\"sk-text-repr-fallback\"><pre>GridSearchCV(estimator=Pipeline(steps=[(&#x27;columntransformer&#x27;,\n",
       "                                        ColumnTransformer(transformers=[(&#x27;onehotencoder&#x27;,\n",
       "                                                                         OneHotEncoder(drop=&#x27;first&#x27;,\n",
       "                                                                                       handle_unknown=&#x27;ignore&#x27;),\n",
       "                                                                         [&#x27;vehicle_type&#x27;,\n",
       "                                                                          &#x27;gearbox&#x27;,\n",
       "                                                                          &#x27;fuel_type&#x27;,\n",
       "                                                                          &#x27;brand&#x27;,\n",
       "                                                                          &#x27;repaired&#x27;]),\n",
       "                                                                        (&#x27;ordinalencoder&#x27;,\n",
       "                                                                         OrdinalEncoder(handle_unknown=&#x27;use_encoded_value&#x27;,\n",
       "                                                                                        unknown_value=-1),\n",
       "                                                                         [&#x27;model&#x27;]),\n",
       "                                                                        (&#x27;standardscaler&#x27;,\n",
       "                                                                         StandardScaler(),\n",
       "                                                                         [&#x27;registration_year&#x27;,\n",
       "                                                                          &#x27;power&#x27;,\n",
       "                                                                          &#x27;kilometer&#x27;])])),\n",
       "                                       (&#x27;lgbmregressor&#x27;,\n",
       "                                        LGBMRegressor(random_state=96))]),\n",
       "             n_jobs=-1,\n",
       "             param_grid={&#x27;lgbmregressor__learning_rate&#x27;: (0.1, 0.2, 0.3, 0.4),\n",
       "                         &#x27;lgbmregressor__max_depth&#x27;: range(2, 15)},\n",
       "             scoring=&#x27;neg_root_mean_squared_error&#x27;)</pre><b>In a Jupyter environment, please rerun this cell to show the HTML representation or trust the notebook. <br />On GitHub, the HTML representation is unable to render, please try loading this page with nbviewer.org.</b></div><div class=\"sk-container\" hidden><div class=\"sk-item sk-dashed-wrapped\"><div class=\"sk-label-container\"><div class=\"sk-label sk-toggleable\"><input class=\"sk-toggleable__control sk-hidden--visually\" id=\"sk-estimator-id-11\" type=\"checkbox\" ><label for=\"sk-estimator-id-11\" class=\"sk-toggleable__label sk-toggleable__label-arrow\">GridSearchCV</label><div class=\"sk-toggleable__content\"><pre>GridSearchCV(estimator=Pipeline(steps=[(&#x27;columntransformer&#x27;,\n",
       "                                        ColumnTransformer(transformers=[(&#x27;onehotencoder&#x27;,\n",
       "                                                                         OneHotEncoder(drop=&#x27;first&#x27;,\n",
       "                                                                                       handle_unknown=&#x27;ignore&#x27;),\n",
       "                                                                         [&#x27;vehicle_type&#x27;,\n",
       "                                                                          &#x27;gearbox&#x27;,\n",
       "                                                                          &#x27;fuel_type&#x27;,\n",
       "                                                                          &#x27;brand&#x27;,\n",
       "                                                                          &#x27;repaired&#x27;]),\n",
       "                                                                        (&#x27;ordinalencoder&#x27;,\n",
       "                                                                         OrdinalEncoder(handle_unknown=&#x27;use_encoded_value&#x27;,\n",
       "                                                                                        unknown_value=-1),\n",
       "                                                                         [&#x27;model&#x27;]),\n",
       "                                                                        (&#x27;standardscaler&#x27;,\n",
       "                                                                         StandardScaler(),\n",
       "                                                                         [&#x27;registration_year&#x27;,\n",
       "                                                                          &#x27;power&#x27;,\n",
       "                                                                          &#x27;kilometer&#x27;])])),\n",
       "                                       (&#x27;lgbmregressor&#x27;,\n",
       "                                        LGBMRegressor(random_state=96))]),\n",
       "             n_jobs=-1,\n",
       "             param_grid={&#x27;lgbmregressor__learning_rate&#x27;: (0.1, 0.2, 0.3, 0.4),\n",
       "                         &#x27;lgbmregressor__max_depth&#x27;: range(2, 15)},\n",
       "             scoring=&#x27;neg_root_mean_squared_error&#x27;)</pre></div></div></div><div class=\"sk-parallel\"><div class=\"sk-parallel-item\"><div class=\"sk-item\"><div class=\"sk-label-container\"><div class=\"sk-label sk-toggleable\"><input class=\"sk-toggleable__control sk-hidden--visually\" id=\"sk-estimator-id-12\" type=\"checkbox\" ><label for=\"sk-estimator-id-12\" class=\"sk-toggleable__label sk-toggleable__label-arrow\">estimator: Pipeline</label><div class=\"sk-toggleable__content\"><pre>Pipeline(steps=[(&#x27;columntransformer&#x27;,\n",
       "                 ColumnTransformer(transformers=[(&#x27;onehotencoder&#x27;,\n",
       "                                                  OneHotEncoder(drop=&#x27;first&#x27;,\n",
       "                                                                handle_unknown=&#x27;ignore&#x27;),\n",
       "                                                  [&#x27;vehicle_type&#x27;, &#x27;gearbox&#x27;,\n",
       "                                                   &#x27;fuel_type&#x27;, &#x27;brand&#x27;,\n",
       "                                                   &#x27;repaired&#x27;]),\n",
       "                                                 (&#x27;ordinalencoder&#x27;,\n",
       "                                                  OrdinalEncoder(handle_unknown=&#x27;use_encoded_value&#x27;,\n",
       "                                                                 unknown_value=-1),\n",
       "                                                  [&#x27;model&#x27;]),\n",
       "                                                 (&#x27;standardscaler&#x27;,\n",
       "                                                  StandardScaler(),\n",
       "                                                  [&#x27;registration_year&#x27;, &#x27;power&#x27;,\n",
       "                                                   &#x27;kilometer&#x27;])])),\n",
       "                (&#x27;lgbmregressor&#x27;, LGBMRegressor(random_state=96))])</pre></div></div></div><div class=\"sk-serial\"><div class=\"sk-item\"><div class=\"sk-serial\"><div class=\"sk-item sk-dashed-wrapped\"><div class=\"sk-label-container\"><div class=\"sk-label sk-toggleable\"><input class=\"sk-toggleable__control sk-hidden--visually\" id=\"sk-estimator-id-13\" type=\"checkbox\" ><label for=\"sk-estimator-id-13\" class=\"sk-toggleable__label sk-toggleable__label-arrow\">columntransformer: ColumnTransformer</label><div class=\"sk-toggleable__content\"><pre>ColumnTransformer(transformers=[(&#x27;onehotencoder&#x27;,\n",
       "                                 OneHotEncoder(drop=&#x27;first&#x27;,\n",
       "                                               handle_unknown=&#x27;ignore&#x27;),\n",
       "                                 [&#x27;vehicle_type&#x27;, &#x27;gearbox&#x27;, &#x27;fuel_type&#x27;,\n",
       "                                  &#x27;brand&#x27;, &#x27;repaired&#x27;]),\n",
       "                                (&#x27;ordinalencoder&#x27;,\n",
       "                                 OrdinalEncoder(handle_unknown=&#x27;use_encoded_value&#x27;,\n",
       "                                                unknown_value=-1),\n",
       "                                 [&#x27;model&#x27;]),\n",
       "                                (&#x27;standardscaler&#x27;, StandardScaler(),\n",
       "                                 [&#x27;registration_year&#x27;, &#x27;power&#x27;, &#x27;kilometer&#x27;])])</pre></div></div></div><div class=\"sk-parallel\"><div class=\"sk-parallel-item\"><div class=\"sk-item\"><div class=\"sk-label-container\"><div class=\"sk-label sk-toggleable\"><input class=\"sk-toggleable__control sk-hidden--visually\" id=\"sk-estimator-id-14\" type=\"checkbox\" ><label for=\"sk-estimator-id-14\" class=\"sk-toggleable__label sk-toggleable__label-arrow\">onehotencoder</label><div class=\"sk-toggleable__content\"><pre>[&#x27;vehicle_type&#x27;, &#x27;gearbox&#x27;, &#x27;fuel_type&#x27;, &#x27;brand&#x27;, &#x27;repaired&#x27;]</pre></div></div></div><div class=\"sk-serial\"><div class=\"sk-item\"><div class=\"sk-estimator sk-toggleable\"><input class=\"sk-toggleable__control sk-hidden--visually\" id=\"sk-estimator-id-15\" type=\"checkbox\" ><label for=\"sk-estimator-id-15\" class=\"sk-toggleable__label sk-toggleable__label-arrow\">OneHotEncoder</label><div class=\"sk-toggleable__content\"><pre>OneHotEncoder(drop=&#x27;first&#x27;, handle_unknown=&#x27;ignore&#x27;)</pre></div></div></div></div></div></div><div class=\"sk-parallel-item\"><div class=\"sk-item\"><div class=\"sk-label-container\"><div class=\"sk-label sk-toggleable\"><input class=\"sk-toggleable__control sk-hidden--visually\" id=\"sk-estimator-id-16\" type=\"checkbox\" ><label for=\"sk-estimator-id-16\" class=\"sk-toggleable__label sk-toggleable__label-arrow\">ordinalencoder</label><div class=\"sk-toggleable__content\"><pre>[&#x27;model&#x27;]</pre></div></div></div><div class=\"sk-serial\"><div class=\"sk-item\"><div class=\"sk-estimator sk-toggleable\"><input class=\"sk-toggleable__control sk-hidden--visually\" id=\"sk-estimator-id-17\" type=\"checkbox\" ><label for=\"sk-estimator-id-17\" class=\"sk-toggleable__label sk-toggleable__label-arrow\">OrdinalEncoder</label><div class=\"sk-toggleable__content\"><pre>OrdinalEncoder(handle_unknown=&#x27;use_encoded_value&#x27;, unknown_value=-1)</pre></div></div></div></div></div></div><div class=\"sk-parallel-item\"><div class=\"sk-item\"><div class=\"sk-label-container\"><div class=\"sk-label sk-toggleable\"><input class=\"sk-toggleable__control sk-hidden--visually\" id=\"sk-estimator-id-18\" type=\"checkbox\" ><label for=\"sk-estimator-id-18\" class=\"sk-toggleable__label sk-toggleable__label-arrow\">standardscaler</label><div class=\"sk-toggleable__content\"><pre>[&#x27;registration_year&#x27;, &#x27;power&#x27;, &#x27;kilometer&#x27;]</pre></div></div></div><div class=\"sk-serial\"><div class=\"sk-item\"><div class=\"sk-estimator sk-toggleable\"><input class=\"sk-toggleable__control sk-hidden--visually\" id=\"sk-estimator-id-19\" type=\"checkbox\" ><label for=\"sk-estimator-id-19\" class=\"sk-toggleable__label sk-toggleable__label-arrow\">StandardScaler</label><div class=\"sk-toggleable__content\"><pre>StandardScaler()</pre></div></div></div></div></div></div></div></div><div class=\"sk-item\"><div class=\"sk-estimator sk-toggleable\"><input class=\"sk-toggleable__control sk-hidden--visually\" id=\"sk-estimator-id-20\" type=\"checkbox\" ><label for=\"sk-estimator-id-20\" class=\"sk-toggleable__label sk-toggleable__label-arrow\">LGBMRegressor</label><div class=\"sk-toggleable__content\"><pre>LGBMRegressor(random_state=96)</pre></div></div></div></div></div></div></div></div></div></div></div></div>"
      ],
      "text/plain": [
       "GridSearchCV(estimator=Pipeline(steps=[('columntransformer',\n",
       "                                        ColumnTransformer(transformers=[('onehotencoder',\n",
       "                                                                         OneHotEncoder(drop='first',\n",
       "                                                                                       handle_unknown='ignore'),\n",
       "                                                                         ['vehicle_type',\n",
       "                                                                          'gearbox',\n",
       "                                                                          'fuel_type',\n",
       "                                                                          'brand',\n",
       "                                                                          'repaired']),\n",
       "                                                                        ('ordinalencoder',\n",
       "                                                                         OrdinalEncoder(handle_unknown='use_encoded_value',\n",
       "                                                                                        unknown_value=-1),\n",
       "                                                                         ['model']),\n",
       "                                                                        ('standardscaler',\n",
       "                                                                         StandardScaler(),\n",
       "                                                                         ['registration_year',\n",
       "                                                                          'power',\n",
       "                                                                          'kilometer'])])),\n",
       "                                       ('lgbmregressor',\n",
       "                                        LGBMRegressor(random_state=96))]),\n",
       "             n_jobs=-1,\n",
       "             param_grid={'lgbmregressor__learning_rate': (0.1, 0.2, 0.3, 0.4),\n",
       "                         'lgbmregressor__max_depth': range(2, 15)},\n",
       "             scoring='neg_root_mean_squared_error')"
      ]
     },
     "execution_count": 44,
     "metadata": {},
     "output_type": "execute_result"
    }
   ],
   "source": [
    "model_boost = LGBMRegressor(random_state=96)\n",
    "\n",
    "# будем использовать фреймы данных 'features_train_for' и 'features_test_for' т.к.\n",
    "# они закодированы нужным нам способом (OHE и OrdinalEncoder)\n",
    "\n",
    "# передаем предварительно обработанные данные в модель машинного обучения с помощью `make_pipeline`\n",
    "pipeline_boost = make_pipeline(transformer_for, model_boost)\n",
    "\n",
    "# сетка гиперпараметров для обучения модели\n",
    "param_grid_boost = {\n",
    "    'lgbmregressor__max_depth': range(2, 15),\n",
    "    'lgbmregressor__learning_rate': (0.1, 0.2, 0.3, 0.4)\n",
    "}\n",
    "\n",
    "\n",
    "# используем GridSearchCV\n",
    "gs_boost = GridSearchCV(\n",
    "    pipeline_boost, \n",
    "    param_grid=param_grid_boost, \n",
    "    scoring='neg_root_mean_squared_error', \n",
    "    n_jobs=-1, \n",
    ")\n",
    "\n",
    "gs_boost.fit(features_train, target_train)"
   ]
  },
  {
   "cell_type": "code",
   "execution_count": 45,
   "metadata": {},
   "outputs": [
    {
     "name": "stdout",
     "output_type": "stream",
     "text": [
      "Лучший RMSE: 1646.5830396284043\n",
      "Лучшие параметры: {'lgbmregressor__learning_rate': 0.4, 'lgbmregressor__max_depth': 14}\n",
      "Лучшее время обучения: 5.0885398387908936\n",
      "Лучшее время предсказания: 0.5472163200378418\n"
     ]
    }
   ],
   "source": [
    "print(f'Лучший RMSE: {gs_boost.best_score_ * -1}')\n",
    "print(f'Лучшие параметры: {gs_boost.best_params_}')\n",
    "#получаем время с помощью индекса лучшего результата в массиве\n",
    "print(f'Лучшее время обучения: {gs_boost.cv_results_[\"mean_fit_time\"][np.where(rs_for.cv_results_[\"mean_test_score\"]==rs_for.best_score_)][0]}')\n",
    "print(f'Лучшее время предсказания: {gs_boost.cv_results_[\"mean_score_time\"][np.where(rs_for.cv_results_[\"mean_test_score\"]==rs_for.best_score_)][0]}')"
   ]
  },
  {
   "cell_type": "markdown",
   "metadata": {},
   "source": [
    "**Вывод:** Лучше всех справилась модель градиентного бустинга:\n",
    "- Лучший RMSE: 1646.5830396284043\n",
    "- Лучшие параметры: {'lgbmregressor__learning_rate': 0.4, 'lgbmregressor__max_depth': 14}\n",
    "- Лучшее время обучения: 5.0885398387908936\n",
    "- Лучшее время предсказания: 0.5472163200378418\n",
    "\n",
    "Потом идет модель случайного леса:\n",
    "- Лучший RMSE: 1714.6282816793682\n",
    "- Лучшие параметры: {'randomforestregressor__n_estimators': 20, 'randomforestregressor__min_samples_split': 2, 'randomforestregressor__min_samples_leaf': 1, 'randomforestregressor__max_depth': 14}\n",
    "- Лучшее время обучения: 97.65611662864686\n",
    "- Лучшее время предсказания: 0.24478015899658204\n",
    "\n",
    "И хуже всех справилась модель линйеной регрессии с результатом:\n",
    "- RMSE: 2689.306546589739\n",
    "- Время обучения: 30.19529709815979\n",
    "- Время предсказания: 0.2570353507995605"
   ]
  },
  {
   "cell_type": "markdown",
   "metadata": {},
   "source": [
    "## Тест лучшей модели"
   ]
  },
  {
   "cell_type": "markdown",
   "metadata": {},
   "source": [
    "Проверим модель градиентного бустинга на тестовой выборке."
   ]
  },
  {
   "cell_type": "code",
   "execution_count": 48,
   "metadata": {},
   "outputs": [
    {
     "name": "stdout",
     "output_type": "stream",
     "text": [
      "RMSE модели градиентного бустинга на тестовой выборке: 1652.64\n"
     ]
    }
   ],
   "source": [
    "prediction_boost = gs_boost.predict(features_test)\n",
    "rmse_boost = mean_squared_error(target_test, prediction_boost, squared=False)\n",
    "print(f'RMSE модели градиентного бустинга на тестовой выборке: {rmse_boost:.2f}')"
   ]
  },
  {
   "cell_type": "markdown",
   "metadata": {},
   "source": [
    "**Вывод:** Модель градиентного бустинга показывает допустимый результат на тестовой выборке. Берем эту модель в производство."
   ]
  },
  {
   "cell_type": "markdown",
   "metadata": {},
   "source": [
    "## Общий вывод"
   ]
  },
  {
   "cell_type": "markdown",
   "metadata": {},
   "source": [
    "В данном проекте мы провели исследование исторических данных о продаже автомобилей, там имеется инфа о технических характеристиках, комплектации и ценах автомобилей. Нам нужно было разработать модель умеющую определть рыночную стоимость автомобиля. Заказчик - сервис по продаже автомобилей с пробегом «Не бит, не крашен» разрабатывает приложение, чтобы привлечь новых клиентов. В нём можно будет узнать рыночную стоимость своего автомобиля. \n",
    "\n",
    "В процессе исследования мы провели обзор данных в котором описали признаки.\n",
    "В результате предобработки данных мы:\n",
    "\n",
    "1. Изменили названия столбцов\n",
    "2. Удалили 4 полных дубликата строк\n",
    "3. В столбце `fuel_type` заменили значение gasoline на petrol\n",
    "4. В столбце `model` заменили пропуски значением other. В столбцах `fuel_type`, `vehicle_type`, `gearbox` заменили часть пропусков модальными значениями по каждой модели автомобиля. Остальные значения заменили на other\n",
    "5. В столбце `repaired` заменили пропуски значением no\n",
    "6. Обработали аномальные значения в столбце `registration_year` удалив их. В столбцах `price` и `power` также удалили часть аномальных значений + заменили часть 0-вых на медианные значения по марке автомобиля, модели и году регистрации\n",
    "7. Удалили неинформативные признаки `date_crawled`, `registration_month`, `date_created`, `number_of_pictures`, `postal_code`, `last_seen`\n",
    "8. Всего мы удалили 23710 строк. Что составляет 6.7%.\n",
    "9. Разделили таблицу на тренировочную и тестовую выборки в соотношении 3:1. \n",
    "10. Кодирование категоральных признаков:\n",
    "    - Для модели линейной регрессии все категоральные признаки мы закодировали методом OHE\n",
    "    - Для модели случайного леса и градиентного бустинга мы закодировали признак 'model' с помощью OrninalEncoder, остальные с помощью OHE\n",
    "11. Численные признаки масштабировали с помощью StandardScaler\n",
    "\n",
    "Мы выполнили цель и создали модель предсказывающую стоимость автомобиля со значением метрики RMSE меньше 2500. Это модель градиентного бустинга, построенная с помощью LightGBM.\n",
    "\n",
    "- Лучший RMSE (кросс-валидация): 1646.58\n",
    "- Лучший RMSE (тестовая выборка): 1652.64\n",
    "- Лучшие параметры: {'lgbmregressor__learning_rate': 0.4, 'lgbmregressor__max_depth': 14}\n",
    "- Лучшее время обучения: 5.0885398387908936\n",
    "- Лучшее время предсказания: 0.5472163200378418\n",
    "\n",
    "Эта модель пойдет в дальнейшее производство.\n",
    "\n",
    "Помимо модели градиентного бустинга мы обучили и проанализировали еще 2 модели.  Но они как по качеству так и по производительности оказались хуже.\n",
    "Модель случайного леса:\n",
    "- Лучший RMSE: 1714.6282816793682\n",
    "- Лучшие параметры: {'randomforestregressor__n_estimators': 20, 'randomforestregressor__min_samples_split': 2, 'randomforestregressor__min_samples_leaf': 1, 'randomforestregressor__max_depth': 14}\n",
    "- Лучшее время обучения: 97.65611662864686\n",
    "- Лучшее время предсказания: 0.24478015899658204\n",
    "\n",
    "Линейная регрессия:\n",
    "- RMSE: 2689.306546589739\n",
    "- Время обучения: 30.19529709815979\n",
    "- Время предсказания: 0.2570353507995605\n",
    "\n",
    "Дальнейшие рекомендации:\n",
    "- Обратить внимание на загрузку данных. В этом датасете большое количество аномалий и пропусков.\n",
    "- Проверить настройки веб-формы, чтобы значения введенные пользователем проверялись.\n",
    "- Модель градиентного бустинга выгодно использовать, т.к. она дает лучшие результаты при лучшей производительности.\n",
    "- Для улучшения результата можно поэкспериментировать с количеством деревьев в модели градиентного бустинга. "
   ]
  }
 ],
 "metadata": {
  "ExecuteTimeLog": [
   {
    "duration": 52,
    "start_time": "2023-08-15T03:47:47.919Z"
   },
   {
    "duration": 767,
    "start_time": "2023-08-15T03:47:53.972Z"
   },
   {
    "duration": 1029,
    "start_time": "2023-08-15T03:47:54.742Z"
   },
   {
    "duration": 14,
    "start_time": "2023-08-15T03:48:11.092Z"
   },
   {
    "duration": 112,
    "start_time": "2023-08-15T03:50:27.279Z"
   },
   {
    "duration": 87,
    "start_time": "2023-08-15T03:50:53.575Z"
   },
   {
    "duration": 692,
    "start_time": "2023-08-15T03:51:28.305Z"
   },
   {
    "duration": 632,
    "start_time": "2023-08-15T03:51:38.765Z"
   },
   {
    "duration": 525,
    "start_time": "2023-08-15T03:55:30.676Z"
   },
   {
    "duration": 582,
    "start_time": "2023-08-15T03:56:43.516Z"
   },
   {
    "duration": 7,
    "start_time": "2023-08-15T03:56:56.759Z"
   },
   {
    "duration": 912,
    "start_time": "2023-08-15T03:57:02.058Z"
   },
   {
    "duration": 976,
    "start_time": "2023-08-15T03:57:44.350Z"
   },
   {
    "duration": 9,
    "start_time": "2023-08-15T04:51:23.585Z"
   },
   {
    "duration": 3,
    "start_time": "2023-08-15T04:51:32.374Z"
   },
   {
    "duration": 4,
    "start_time": "2023-08-15T04:51:37.665Z"
   },
   {
    "duration": 360,
    "start_time": "2023-08-15T04:52:20.591Z"
   },
   {
    "duration": 342,
    "start_time": "2023-08-15T04:52:24.975Z"
   },
   {
    "duration": 1579,
    "start_time": "2023-08-15T04:52:54.514Z"
   },
   {
    "duration": 1843,
    "start_time": "2023-08-15T04:53:03.595Z"
   },
   {
    "duration": 352,
    "start_time": "2023-08-15T04:53:22.640Z"
   },
   {
    "duration": 452,
    "start_time": "2023-08-15T04:56:33.301Z"
   },
   {
    "duration": 10,
    "start_time": "2023-08-15T05:04:54.445Z"
   },
   {
    "duration": 3897,
    "start_time": "2023-08-15T05:05:00.054Z"
   },
   {
    "duration": 239,
    "start_time": "2023-08-15T05:05:07.918Z"
   },
   {
    "duration": 80,
    "start_time": "2023-08-15T05:06:22.692Z"
   },
   {
    "duration": 458,
    "start_time": "2023-08-15T05:10:33.510Z"
   },
   {
    "duration": 4067,
    "start_time": "2023-08-15T05:11:09.443Z"
   },
   {
    "duration": 3975,
    "start_time": "2023-08-15T05:11:32.434Z"
   },
   {
    "duration": 3,
    "start_time": "2023-08-15T05:11:41.915Z"
   },
   {
    "duration": 4001,
    "start_time": "2023-08-15T05:11:43.724Z"
   },
   {
    "duration": 4084,
    "start_time": "2023-08-15T05:12:10.626Z"
   },
   {
    "duration": 3993,
    "start_time": "2023-08-15T05:12:31.790Z"
   },
   {
    "duration": 4266,
    "start_time": "2023-08-15T05:29:02.067Z"
   },
   {
    "duration": 5285,
    "start_time": "2023-08-15T05:29:12.604Z"
   },
   {
    "duration": 167,
    "start_time": "2023-08-15T07:29:40.358Z"
   },
   {
    "duration": 1129,
    "start_time": "2023-08-15T07:29:51.281Z"
   },
   {
    "duration": 766,
    "start_time": "2023-08-15T07:29:52.411Z"
   },
   {
    "duration": 15,
    "start_time": "2023-08-15T07:29:53.179Z"
   },
   {
    "duration": 135,
    "start_time": "2023-08-15T07:29:53.196Z"
   },
   {
    "duration": 767,
    "start_time": "2023-08-15T07:29:53.333Z"
   },
   {
    "duration": 1003,
    "start_time": "2023-08-15T07:29:54.101Z"
   },
   {
    "duration": 5,
    "start_time": "2023-08-15T07:29:55.105Z"
   },
   {
    "duration": 421,
    "start_time": "2023-08-15T07:29:55.111Z"
   },
   {
    "duration": 415,
    "start_time": "2023-08-15T07:29:55.533Z"
   },
   {
    "duration": 507,
    "start_time": "2023-08-15T07:29:55.950Z"
   },
   {
    "duration": 313,
    "start_time": "2023-08-15T07:29:56.459Z"
   },
   {
    "duration": 82,
    "start_time": "2023-08-15T07:29:56.773Z"
   },
   {
    "duration": 5317,
    "start_time": "2023-08-15T07:29:56.857Z"
   },
   {
    "duration": 1148,
    "start_time": "2023-08-15T07:30:18.254Z"
   },
   {
    "duration": 756,
    "start_time": "2023-08-15T07:30:19.404Z"
   },
   {
    "duration": 16,
    "start_time": "2023-08-15T07:30:20.161Z"
   },
   {
    "duration": 132,
    "start_time": "2023-08-15T07:30:20.179Z"
   },
   {
    "duration": 749,
    "start_time": "2023-08-15T07:30:20.313Z"
   },
   {
    "duration": 1007,
    "start_time": "2023-08-15T07:30:21.064Z"
   },
   {
    "duration": 5,
    "start_time": "2023-08-15T07:30:22.073Z"
   },
   {
    "duration": 394,
    "start_time": "2023-08-15T07:30:22.080Z"
   },
   {
    "duration": 390,
    "start_time": "2023-08-15T07:30:22.476Z"
   },
   {
    "duration": 457,
    "start_time": "2023-08-15T07:30:22.869Z"
   },
   {
    "duration": 294,
    "start_time": "2023-08-15T07:30:23.328Z"
   },
   {
    "duration": 84,
    "start_time": "2023-08-15T07:30:23.623Z"
   },
   {
    "duration": 5261,
    "start_time": "2023-08-15T07:30:23.709Z"
   },
   {
    "duration": 3,
    "start_time": "2023-08-15T07:30:46.481Z"
   },
   {
    "duration": 4,
    "start_time": "2023-08-15T07:33:07.889Z"
   },
   {
    "duration": 12156,
    "start_time": "2023-08-15T07:36:29.650Z"
   },
   {
    "duration": 79,
    "start_time": "2023-08-15T07:36:54.814Z"
   },
   {
    "duration": 34,
    "start_time": "2023-08-15T07:38:32.350Z"
   },
   {
    "duration": 42,
    "start_time": "2023-08-15T07:39:08.251Z"
   },
   {
    "duration": 61,
    "start_time": "2023-08-15T07:41:34.493Z"
   },
   {
    "duration": 12385,
    "start_time": "2023-08-15T07:41:58.210Z"
   },
   {
    "duration": 79,
    "start_time": "2023-08-15T07:42:30.198Z"
   },
   {
    "duration": 47,
    "start_time": "2023-08-15T07:44:05.182Z"
   },
   {
    "duration": 71,
    "start_time": "2023-08-15T07:44:18.112Z"
   },
   {
    "duration": 63,
    "start_time": "2023-08-15T07:44:26.758Z"
   },
   {
    "duration": 77,
    "start_time": "2023-08-15T07:45:05.578Z"
   },
   {
    "duration": 40,
    "start_time": "2023-08-15T07:45:14.015Z"
   },
   {
    "duration": 50,
    "start_time": "2023-08-15T07:45:54.773Z"
   },
   {
    "duration": 23,
    "start_time": "2023-08-15T07:46:00.974Z"
   },
   {
    "duration": 23,
    "start_time": "2023-08-15T07:46:11.578Z"
   },
   {
    "duration": 22,
    "start_time": "2023-08-15T07:46:16.478Z"
   },
   {
    "duration": 37,
    "start_time": "2023-08-15T07:46:22.497Z"
   },
   {
    "duration": 97,
    "start_time": "2023-08-15T07:46:25.560Z"
   },
   {
    "duration": 38,
    "start_time": "2023-08-15T07:46:26.835Z"
   },
   {
    "duration": 13804,
    "start_time": "2023-08-15T07:47:01.867Z"
   },
   {
    "duration": 222,
    "start_time": "2023-08-15T07:47:34.611Z"
   },
   {
    "duration": 23204,
    "start_time": "2023-08-15T07:47:39.157Z"
   },
   {
    "duration": 1238,
    "start_time": "2023-08-15T07:48:11.550Z"
   },
   {
    "duration": 833,
    "start_time": "2023-08-15T07:48:12.790Z"
   },
   {
    "duration": 20,
    "start_time": "2023-08-15T07:48:13.625Z"
   },
   {
    "duration": 168,
    "start_time": "2023-08-15T07:48:13.652Z"
   },
   {
    "duration": 966,
    "start_time": "2023-08-15T07:48:13.822Z"
   },
   {
    "duration": 1135,
    "start_time": "2023-08-15T07:48:14.790Z"
   },
   {
    "duration": 5,
    "start_time": "2023-08-15T07:48:15.927Z"
   },
   {
    "duration": 496,
    "start_time": "2023-08-15T07:48:15.933Z"
   },
   {
    "duration": 464,
    "start_time": "2023-08-15T07:48:16.431Z"
   },
   {
    "duration": 487,
    "start_time": "2023-08-15T07:48:16.897Z"
   },
   {
    "duration": 301,
    "start_time": "2023-08-15T07:48:17.386Z"
   },
   {
    "duration": 88,
    "start_time": "2023-08-15T07:48:17.689Z"
   },
   {
    "duration": 5678,
    "start_time": "2023-08-15T07:48:17.779Z"
   },
   {
    "duration": 21206,
    "start_time": "2023-08-15T07:48:27.257Z"
   },
   {
    "duration": 27,
    "start_time": "2023-08-15T07:49:41.159Z"
   },
   {
    "duration": 34,
    "start_time": "2023-08-15T07:49:49.198Z"
   },
   {
    "duration": 23,
    "start_time": "2023-08-15T07:49:56.973Z"
   },
   {
    "duration": 56,
    "start_time": "2023-08-15T07:50:27.764Z"
   },
   {
    "duration": 59,
    "start_time": "2023-08-15T07:50:35.838Z"
   },
   {
    "duration": 45,
    "start_time": "2023-08-15T07:50:41.423Z"
   },
   {
    "duration": 64,
    "start_time": "2023-08-15T07:50:50.010Z"
   },
   {
    "duration": 34,
    "start_time": "2023-08-15T07:51:02.678Z"
   },
   {
    "duration": 36,
    "start_time": "2023-08-15T07:51:05.401Z"
   },
   {
    "duration": 149,
    "start_time": "2023-08-15T07:51:14.397Z"
   },
   {
    "duration": 37,
    "start_time": "2023-08-15T07:51:17.365Z"
   },
   {
    "duration": 31,
    "start_time": "2023-08-15T07:51:52.333Z"
   },
   {
    "duration": 25,
    "start_time": "2023-08-15T07:51:55.986Z"
   },
   {
    "duration": 1457,
    "start_time": "2023-08-15T07:52:18.232Z"
   },
   {
    "duration": 3242,
    "start_time": "2023-08-15T07:52:19.691Z"
   },
   {
    "duration": 32,
    "start_time": "2023-08-15T07:52:22.934Z"
   },
   {
    "duration": 183,
    "start_time": "2023-08-15T07:52:22.969Z"
   },
   {
    "duration": 942,
    "start_time": "2023-08-15T07:52:23.153Z"
   },
   {
    "duration": 1121,
    "start_time": "2023-08-15T07:52:24.097Z"
   },
   {
    "duration": 5,
    "start_time": "2023-08-15T07:52:25.220Z"
   },
   {
    "duration": 480,
    "start_time": "2023-08-15T07:52:25.227Z"
   },
   {
    "duration": 453,
    "start_time": "2023-08-15T07:52:25.709Z"
   },
   {
    "duration": 549,
    "start_time": "2023-08-15T07:52:26.165Z"
   },
   {
    "duration": 317,
    "start_time": "2023-08-15T07:52:26.715Z"
   },
   {
    "duration": 121,
    "start_time": "2023-08-15T07:52:27.037Z"
   },
   {
    "duration": 6478,
    "start_time": "2023-08-15T07:52:27.167Z"
   },
   {
    "duration": 33,
    "start_time": "2023-08-15T07:53:51.438Z"
   },
   {
    "duration": 146,
    "start_time": "2023-08-15T07:53:56.219Z"
   },
   {
    "duration": 31,
    "start_time": "2023-08-15T07:53:58.436Z"
   },
   {
    "duration": 29,
    "start_time": "2023-08-15T07:54:34.725Z"
   },
   {
    "duration": 40,
    "start_time": "2023-08-15T07:54:57.831Z"
   },
   {
    "duration": 22,
    "start_time": "2023-08-15T07:55:09.659Z"
   },
   {
    "duration": 24,
    "start_time": "2023-08-15T07:55:22.395Z"
   },
   {
    "duration": 15702,
    "start_time": "2023-08-15T07:55:32.558Z"
   },
   {
    "duration": 83,
    "start_time": "2023-08-15T07:55:55.802Z"
   },
   {
    "duration": 1253,
    "start_time": "2023-08-15T07:56:16.866Z"
   },
   {
    "duration": 785,
    "start_time": "2023-08-15T07:56:18.120Z"
   },
   {
    "duration": 15,
    "start_time": "2023-08-15T07:56:18.906Z"
   },
   {
    "duration": 167,
    "start_time": "2023-08-15T07:56:18.924Z"
   },
   {
    "duration": 822,
    "start_time": "2023-08-15T07:56:19.093Z"
   },
   {
    "duration": 974,
    "start_time": "2023-08-15T07:56:19.916Z"
   },
   {
    "duration": 4,
    "start_time": "2023-08-15T07:56:20.892Z"
   },
   {
    "duration": 450,
    "start_time": "2023-08-15T07:56:20.898Z"
   },
   {
    "duration": 438,
    "start_time": "2023-08-15T07:56:21.349Z"
   },
   {
    "duration": 564,
    "start_time": "2023-08-15T07:56:21.789Z"
   },
   {
    "duration": 299,
    "start_time": "2023-08-15T07:56:22.354Z"
   },
   {
    "duration": 73,
    "start_time": "2023-08-15T07:56:22.655Z"
   },
   {
    "duration": 5383,
    "start_time": "2023-08-15T07:56:22.738Z"
   },
   {
    "duration": 5868,
    "start_time": "2023-08-15T07:58:03.284Z"
   },
   {
    "duration": 332,
    "start_time": "2023-08-15T08:00:03.417Z"
   },
   {
    "duration": 194,
    "start_time": "2023-08-15T08:00:16.020Z"
   },
   {
    "duration": 73,
    "start_time": "2023-08-15T08:01:16.511Z"
   },
   {
    "duration": 5077,
    "start_time": "2023-08-15T08:01:19.367Z"
   },
   {
    "duration": 50,
    "start_time": "2023-08-15T08:05:38.850Z"
   },
   {
    "duration": 5441,
    "start_time": "2023-08-15T08:06:40.362Z"
   },
   {
    "duration": 90,
    "start_time": "2023-08-15T08:06:49.199Z"
   },
   {
    "duration": 3,
    "start_time": "2023-08-15T08:07:25.424Z"
   },
   {
    "duration": 12,
    "start_time": "2023-08-15T08:12:27.585Z"
   },
   {
    "duration": 84,
    "start_time": "2023-08-15T08:13:06.350Z"
   },
   {
    "duration": 62,
    "start_time": "2023-08-15T08:13:12.524Z"
   },
   {
    "duration": 73,
    "start_time": "2023-08-15T08:13:16.016Z"
   },
   {
    "duration": 1116,
    "start_time": "2023-08-15T08:14:58.972Z"
   },
   {
    "duration": 820,
    "start_time": "2023-08-15T08:15:00.090Z"
   },
   {
    "duration": 15,
    "start_time": "2023-08-15T08:15:00.911Z"
   },
   {
    "duration": 163,
    "start_time": "2023-08-15T08:15:00.928Z"
   },
   {
    "duration": 906,
    "start_time": "2023-08-15T08:15:01.093Z"
   },
   {
    "duration": 997,
    "start_time": "2023-08-15T08:15:02.000Z"
   },
   {
    "duration": 4,
    "start_time": "2023-08-15T08:15:02.999Z"
   },
   {
    "duration": 464,
    "start_time": "2023-08-15T08:15:03.005Z"
   },
   {
    "duration": 416,
    "start_time": "2023-08-15T08:15:03.471Z"
   },
   {
    "duration": 496,
    "start_time": "2023-08-15T08:15:03.889Z"
   },
   {
    "duration": 355,
    "start_time": "2023-08-15T08:15:04.387Z"
   },
   {
    "duration": 85,
    "start_time": "2023-08-15T08:15:04.744Z"
   },
   {
    "duration": 5337,
    "start_time": "2023-08-15T08:15:04.830Z"
   },
   {
    "duration": 12436,
    "start_time": "2023-08-15T08:15:10.169Z"
   },
   {
    "duration": 85,
    "start_time": "2023-08-15T08:15:22.607Z"
   },
   {
    "duration": 32,
    "start_time": "2023-08-15T08:15:54.824Z"
   },
   {
    "duration": 44,
    "start_time": "2023-08-15T08:15:58.436Z"
   },
   {
    "duration": 239,
    "start_time": "2023-08-15T08:16:08.070Z"
   },
   {
    "duration": 13,
    "start_time": "2023-08-15T08:16:29.765Z"
   },
   {
    "duration": 53,
    "start_time": "2023-08-15T08:16:33.782Z"
   },
   {
    "duration": 11,
    "start_time": "2023-08-15T08:16:40.595Z"
   },
   {
    "duration": 1166,
    "start_time": "2023-08-15T08:17:03.950Z"
   },
   {
    "duration": 803,
    "start_time": "2023-08-15T08:17:05.118Z"
   },
   {
    "duration": 24,
    "start_time": "2023-08-15T08:17:05.923Z"
   },
   {
    "duration": 143,
    "start_time": "2023-08-15T08:17:05.953Z"
   },
   {
    "duration": 799,
    "start_time": "2023-08-15T08:17:06.098Z"
   },
   {
    "duration": 984,
    "start_time": "2023-08-15T08:17:06.898Z"
   },
   {
    "duration": 6,
    "start_time": "2023-08-15T08:17:07.883Z"
   },
   {
    "duration": 418,
    "start_time": "2023-08-15T08:17:07.891Z"
   },
   {
    "duration": 401,
    "start_time": "2023-08-15T08:17:08.311Z"
   },
   {
    "duration": 484,
    "start_time": "2023-08-15T08:17:08.713Z"
   },
   {
    "duration": 317,
    "start_time": "2023-08-15T08:17:09.199Z"
   },
   {
    "duration": 83,
    "start_time": "2023-08-15T08:17:09.518Z"
   },
   {
    "duration": 5452,
    "start_time": "2023-08-15T08:17:09.603Z"
   },
   {
    "duration": 220,
    "start_time": "2023-08-15T08:17:15.058Z"
   },
   {
    "duration": 0,
    "start_time": "2023-08-15T08:17:15.280Z"
   },
   {
    "duration": 82,
    "start_time": "2023-08-15T08:17:26.835Z"
   },
   {
    "duration": 6,
    "start_time": "2023-08-15T08:17:36.699Z"
   },
   {
    "duration": 3,
    "start_time": "2023-08-15T08:17:51.791Z"
   },
   {
    "duration": 21,
    "start_time": "2023-08-15T08:18:14.278Z"
   },
   {
    "duration": 6,
    "start_time": "2023-08-15T08:19:47.015Z"
   },
   {
    "duration": 35,
    "start_time": "2023-08-15T08:20:04.451Z"
   },
   {
    "duration": 163,
    "start_time": "2023-08-15T08:20:27.896Z"
   },
   {
    "duration": 20,
    "start_time": "2023-08-15T08:20:31.753Z"
   },
   {
    "duration": 10,
    "start_time": "2023-08-15T08:20:35.365Z"
   },
   {
    "duration": 29,
    "start_time": "2023-08-15T08:20:50.329Z"
   },
   {
    "duration": 35,
    "start_time": "2023-08-15T08:21:06.136Z"
   },
   {
    "duration": 38,
    "start_time": "2023-08-15T08:21:08.574Z"
   },
   {
    "duration": 24,
    "start_time": "2023-08-15T08:21:20.305Z"
   },
   {
    "duration": 21,
    "start_time": "2023-08-15T08:21:26.797Z"
   },
   {
    "duration": 20,
    "start_time": "2023-08-15T08:21:50.360Z"
   },
   {
    "duration": 74,
    "start_time": "2023-08-15T08:22:01.758Z"
   },
   {
    "duration": 64,
    "start_time": "2023-08-15T08:22:34.274Z"
   },
   {
    "duration": 71,
    "start_time": "2023-08-15T08:22:42.172Z"
   },
   {
    "duration": 63,
    "start_time": "2023-08-15T08:23:06.502Z"
   },
   {
    "duration": 102,
    "start_time": "2023-08-15T08:23:15.154Z"
   },
   {
    "duration": 70,
    "start_time": "2023-08-15T08:23:32.519Z"
   },
   {
    "duration": 91,
    "start_time": "2023-08-15T08:23:45.823Z"
   },
   {
    "duration": 19,
    "start_time": "2023-08-15T08:25:06.856Z"
   },
   {
    "duration": 42,
    "start_time": "2023-08-15T08:25:29.207Z"
   },
   {
    "duration": 3,
    "start_time": "2023-08-15T08:28:00.796Z"
   },
   {
    "duration": 115,
    "start_time": "2023-08-15T08:28:23.469Z"
   },
   {
    "duration": 122,
    "start_time": "2023-08-15T08:29:29.431Z"
   },
   {
    "duration": 194,
    "start_time": "2023-08-15T08:31:40.255Z"
   },
   {
    "duration": 200,
    "start_time": "2023-08-15T08:32:09.957Z"
   },
   {
    "duration": 73,
    "start_time": "2023-08-15T08:38:23.775Z"
   },
   {
    "duration": 202,
    "start_time": "2023-08-15T08:38:28.150Z"
   },
   {
    "duration": 81,
    "start_time": "2023-08-15T08:38:35.597Z"
   },
   {
    "duration": 1033,
    "start_time": "2023-08-15T08:39:23.380Z"
   },
   {
    "duration": 892,
    "start_time": "2023-08-15T08:39:24.415Z"
   },
   {
    "duration": 16,
    "start_time": "2023-08-15T08:39:25.308Z"
   },
   {
    "duration": 161,
    "start_time": "2023-08-15T08:39:25.325Z"
   },
   {
    "duration": 837,
    "start_time": "2023-08-15T08:39:25.488Z"
   },
   {
    "duration": 1047,
    "start_time": "2023-08-15T08:39:26.327Z"
   },
   {
    "duration": 5,
    "start_time": "2023-08-15T08:39:27.375Z"
   },
   {
    "duration": 444,
    "start_time": "2023-08-15T08:39:27.382Z"
   },
   {
    "duration": 403,
    "start_time": "2023-08-15T08:39:27.828Z"
   },
   {
    "duration": 472,
    "start_time": "2023-08-15T08:39:28.245Z"
   },
   {
    "duration": 212,
    "start_time": "2023-08-15T08:39:28.718Z"
   },
   {
    "duration": 127,
    "start_time": "2023-08-15T08:39:28.932Z"
   },
   {
    "duration": 109,
    "start_time": "2023-08-15T08:39:29.060Z"
   },
   {
    "duration": 117,
    "start_time": "2023-08-15T08:39:29.171Z"
   },
   {
    "duration": 1119,
    "start_time": "2023-08-15T08:57:58.535Z"
   },
   {
    "duration": 763,
    "start_time": "2023-08-15T08:57:59.656Z"
   },
   {
    "duration": 17,
    "start_time": "2023-08-15T08:58:00.421Z"
   },
   {
    "duration": 143,
    "start_time": "2023-08-15T08:58:00.440Z"
   },
   {
    "duration": 854,
    "start_time": "2023-08-15T08:58:00.586Z"
   },
   {
    "duration": 997,
    "start_time": "2023-08-15T08:58:01.442Z"
   },
   {
    "duration": 4,
    "start_time": "2023-08-15T08:58:02.441Z"
   },
   {
    "duration": 496,
    "start_time": "2023-08-15T08:58:02.447Z"
   },
   {
    "duration": 401,
    "start_time": "2023-08-15T08:58:02.945Z"
   },
   {
    "duration": 455,
    "start_time": "2023-08-15T08:58:03.347Z"
   },
   {
    "duration": 200,
    "start_time": "2023-08-15T08:58:03.803Z"
   },
   {
    "duration": 710,
    "start_time": "2023-08-15T08:58:04.005Z"
   },
   {
    "duration": 43,
    "start_time": "2023-08-15T08:58:16.697Z"
   },
   {
    "duration": 41,
    "start_time": "2023-08-15T08:58:22.155Z"
   },
   {
    "duration": 31,
    "start_time": "2023-08-15T08:58:34.775Z"
   },
   {
    "duration": 20,
    "start_time": "2023-08-15T08:59:46.054Z"
   },
   {
    "duration": 34,
    "start_time": "2023-08-15T08:59:52.772Z"
   },
   {
    "duration": 41,
    "start_time": "2023-08-15T09:00:23.652Z"
   },
   {
    "duration": 24,
    "start_time": "2023-08-15T09:02:59.959Z"
   },
   {
    "duration": 23,
    "start_time": "2023-08-15T09:03:11.550Z"
   },
   {
    "duration": 43,
    "start_time": "2023-08-15T09:03:23.008Z"
   },
   {
    "duration": 31,
    "start_time": "2023-08-15T09:03:41.639Z"
   },
   {
    "duration": 1799,
    "start_time": "2023-08-15T09:04:18.918Z"
   },
   {
    "duration": 23,
    "start_time": "2023-08-15T09:04:26.919Z"
   },
   {
    "duration": 21,
    "start_time": "2023-08-15T09:04:41.193Z"
   },
   {
    "duration": 24,
    "start_time": "2023-08-15T09:05:39.879Z"
   },
   {
    "duration": 4,
    "start_time": "2023-08-15T09:08:52.991Z"
   },
   {
    "duration": 83,
    "start_time": "2023-08-15T09:08:57.695Z"
   },
   {
    "duration": 10,
    "start_time": "2023-08-15T09:09:03.940Z"
   },
   {
    "duration": 5,
    "start_time": "2023-08-15T09:09:19.530Z"
   },
   {
    "duration": 42,
    "start_time": "2023-08-15T09:09:23.241Z"
   },
   {
    "duration": 224,
    "start_time": "2023-08-15T09:09:51.736Z"
   },
   {
    "duration": 139,
    "start_time": "2023-08-15T09:10:00.333Z"
   },
   {
    "duration": 101,
    "start_time": "2023-08-15T09:10:07.405Z"
   },
   {
    "duration": 69,
    "start_time": "2023-08-15T09:10:12.722Z"
   },
   {
    "duration": 111,
    "start_time": "2023-08-15T09:45:04.998Z"
   },
   {
    "duration": 119,
    "start_time": "2023-08-15T09:45:13.670Z"
   },
   {
    "duration": 125,
    "start_time": "2023-08-15T09:45:31.490Z"
   },
   {
    "duration": 108,
    "start_time": "2023-08-15T09:45:36.855Z"
   },
   {
    "duration": 106,
    "start_time": "2023-08-15T09:45:42.173Z"
   },
   {
    "duration": 64,
    "start_time": "2023-08-15T09:46:28.439Z"
   },
   {
    "duration": 81,
    "start_time": "2023-08-15T09:54:01.871Z"
   },
   {
    "duration": 192,
    "start_time": "2023-08-15T09:54:35.090Z"
   },
   {
    "duration": 1099,
    "start_time": "2023-08-15T09:55:16.858Z"
   },
   {
    "duration": 784,
    "start_time": "2023-08-15T09:55:17.959Z"
   },
   {
    "duration": 15,
    "start_time": "2023-08-15T09:55:18.745Z"
   },
   {
    "duration": 124,
    "start_time": "2023-08-15T09:55:18.762Z"
   },
   {
    "duration": 793,
    "start_time": "2023-08-15T09:55:18.888Z"
   },
   {
    "duration": 995,
    "start_time": "2023-08-15T09:55:19.683Z"
   },
   {
    "duration": 5,
    "start_time": "2023-08-15T09:55:20.680Z"
   },
   {
    "duration": 410,
    "start_time": "2023-08-15T09:55:20.686Z"
   },
   {
    "duration": 399,
    "start_time": "2023-08-15T09:55:21.098Z"
   },
   {
    "duration": 495,
    "start_time": "2023-08-15T09:55:21.498Z"
   },
   {
    "duration": 199,
    "start_time": "2023-08-15T09:55:21.994Z"
   },
   {
    "duration": 69,
    "start_time": "2023-08-15T09:55:22.195Z"
   },
   {
    "duration": 140,
    "start_time": "2023-08-15T09:55:22.266Z"
   },
   {
    "duration": 237,
    "start_time": "2023-08-15T09:55:22.408Z"
   },
   {
    "duration": 75,
    "start_time": "2023-08-15T09:55:22.646Z"
   },
   {
    "duration": 5117,
    "start_time": "2023-08-15T09:55:22.723Z"
   },
   {
    "duration": 1068,
    "start_time": "2023-08-15T09:56:06.172Z"
   },
   {
    "duration": 743,
    "start_time": "2023-08-15T09:56:07.242Z"
   },
   {
    "duration": 15,
    "start_time": "2023-08-15T09:56:07.986Z"
   },
   {
    "duration": 139,
    "start_time": "2023-08-15T09:56:08.003Z"
   },
   {
    "duration": 765,
    "start_time": "2023-08-15T09:56:08.144Z"
   },
   {
    "duration": 935,
    "start_time": "2023-08-15T09:56:08.911Z"
   },
   {
    "duration": 5,
    "start_time": "2023-08-15T09:56:09.848Z"
   },
   {
    "duration": 394,
    "start_time": "2023-08-15T09:56:09.854Z"
   },
   {
    "duration": 376,
    "start_time": "2023-08-15T09:56:10.249Z"
   },
   {
    "duration": 456,
    "start_time": "2023-08-15T09:56:10.627Z"
   },
   {
    "duration": 213,
    "start_time": "2023-08-15T09:56:11.085Z"
   },
   {
    "duration": 74,
    "start_time": "2023-08-15T09:56:11.299Z"
   },
   {
    "duration": 132,
    "start_time": "2023-08-15T09:56:11.375Z"
   },
   {
    "duration": 0,
    "start_time": "2023-08-15T09:56:11.508Z"
   },
   {
    "duration": 0,
    "start_time": "2023-08-15T09:56:11.509Z"
   },
   {
    "duration": 0,
    "start_time": "2023-08-15T09:56:11.510Z"
   },
   {
    "duration": 11,
    "start_time": "2023-08-15T09:56:42.748Z"
   },
   {
    "duration": 1197,
    "start_time": "2023-08-15T09:57:01.015Z"
   },
   {
    "duration": 778,
    "start_time": "2023-08-15T09:57:02.214Z"
   },
   {
    "duration": 16,
    "start_time": "2023-08-15T09:57:02.993Z"
   },
   {
    "duration": 174,
    "start_time": "2023-08-15T09:57:03.010Z"
   },
   {
    "duration": 763,
    "start_time": "2023-08-15T09:57:03.186Z"
   },
   {
    "duration": 1039,
    "start_time": "2023-08-15T09:57:03.951Z"
   },
   {
    "duration": 6,
    "start_time": "2023-08-15T09:57:04.991Z"
   },
   {
    "duration": 431,
    "start_time": "2023-08-15T09:57:04.998Z"
   },
   {
    "duration": 392,
    "start_time": "2023-08-15T09:57:05.430Z"
   },
   {
    "duration": 470,
    "start_time": "2023-08-15T09:57:05.824Z"
   },
   {
    "duration": 198,
    "start_time": "2023-08-15T09:57:06.296Z"
   },
   {
    "duration": 68,
    "start_time": "2023-08-15T09:57:06.495Z"
   },
   {
    "duration": 41,
    "start_time": "2023-08-15T09:57:06.565Z"
   },
   {
    "duration": 301,
    "start_time": "2023-08-15T09:57:06.608Z"
   },
   {
    "duration": 75,
    "start_time": "2023-08-15T09:57:06.910Z"
   },
   {
    "duration": 4967,
    "start_time": "2023-08-15T09:57:06.986Z"
   },
   {
    "duration": 178,
    "start_time": "2023-08-15T09:57:11.955Z"
   },
   {
    "duration": 0,
    "start_time": "2023-08-15T09:57:12.138Z"
   },
   {
    "duration": 0,
    "start_time": "2023-08-15T09:57:12.138Z"
   },
   {
    "duration": 1,
    "start_time": "2023-08-15T09:57:12.139Z"
   },
   {
    "duration": 0,
    "start_time": "2023-08-15T09:57:12.140Z"
   },
   {
    "duration": 0,
    "start_time": "2023-08-15T09:57:12.142Z"
   },
   {
    "duration": 1193,
    "start_time": "2023-08-15T09:57:28.052Z"
   },
   {
    "duration": 804,
    "start_time": "2023-08-15T09:57:29.247Z"
   },
   {
    "duration": 17,
    "start_time": "2023-08-15T09:57:30.052Z"
   },
   {
    "duration": 141,
    "start_time": "2023-08-15T09:57:30.071Z"
   },
   {
    "duration": 801,
    "start_time": "2023-08-15T09:57:30.213Z"
   },
   {
    "duration": 1007,
    "start_time": "2023-08-15T09:57:31.015Z"
   },
   {
    "duration": 5,
    "start_time": "2023-08-15T09:57:32.024Z"
   },
   {
    "duration": 427,
    "start_time": "2023-08-15T09:57:32.030Z"
   },
   {
    "duration": 397,
    "start_time": "2023-08-15T09:57:32.459Z"
   },
   {
    "duration": 466,
    "start_time": "2023-08-15T09:57:32.859Z"
   },
   {
    "duration": 201,
    "start_time": "2023-08-15T09:57:33.327Z"
   },
   {
    "duration": 65,
    "start_time": "2023-08-15T09:57:33.537Z"
   },
   {
    "duration": 57,
    "start_time": "2023-08-15T09:57:33.603Z"
   },
   {
    "duration": 319,
    "start_time": "2023-08-15T09:57:33.662Z"
   },
   {
    "duration": 82,
    "start_time": "2023-08-15T09:57:33.982Z"
   },
   {
    "duration": 5139,
    "start_time": "2023-08-15T09:57:34.065Z"
   },
   {
    "duration": 5381,
    "start_time": "2023-08-15T10:09:20.991Z"
   },
   {
    "duration": 5240,
    "start_time": "2023-08-15T10:10:03.708Z"
   },
   {
    "duration": 17,
    "start_time": "2023-08-15T10:12:30.977Z"
   },
   {
    "duration": 81,
    "start_time": "2023-08-15T10:12:41.013Z"
   },
   {
    "duration": 262,
    "start_time": "2023-08-15T10:22:06.493Z"
   },
   {
    "duration": 26,
    "start_time": "2023-08-15T10:25:25.788Z"
   },
   {
    "duration": 171,
    "start_time": "2023-08-15T10:25:57.959Z"
   },
   {
    "duration": 25,
    "start_time": "2023-08-15T10:26:31.381Z"
   },
   {
    "duration": 25,
    "start_time": "2023-08-15T10:26:37.657Z"
   },
   {
    "duration": 25,
    "start_time": "2023-08-15T10:26:40.902Z"
   },
   {
    "duration": 163,
    "start_time": "2023-08-15T10:28:30.963Z"
   },
   {
    "duration": 27,
    "start_time": "2023-08-15T10:28:37.481Z"
   },
   {
    "duration": 42,
    "start_time": "2023-08-15T10:29:27.821Z"
   },
   {
    "duration": 27,
    "start_time": "2023-08-15T10:40:02.374Z"
   },
   {
    "duration": 20,
    "start_time": "2023-08-15T10:41:34.634Z"
   },
   {
    "duration": 53,
    "start_time": "2023-08-15T10:41:41.906Z"
   },
   {
    "duration": 67,
    "start_time": "2023-08-15T10:41:51.025Z"
   },
   {
    "duration": 41,
    "start_time": "2023-08-15T10:42:02.003Z"
   },
   {
    "duration": 27,
    "start_time": "2023-08-15T10:42:15.277Z"
   },
   {
    "duration": 25,
    "start_time": "2023-08-15T10:42:18.275Z"
   },
   {
    "duration": 25,
    "start_time": "2023-08-15T10:42:24.857Z"
   },
   {
    "duration": 25,
    "start_time": "2023-08-15T10:42:30.983Z"
   },
   {
    "duration": 101,
    "start_time": "2023-08-15T10:42:38.862Z"
   },
   {
    "duration": 32,
    "start_time": "2023-08-15T10:42:42.028Z"
   },
   {
    "duration": 1185,
    "start_time": "2023-08-15T10:45:49.115Z"
   },
   {
    "duration": 761,
    "start_time": "2023-08-15T10:45:50.302Z"
   },
   {
    "duration": 15,
    "start_time": "2023-08-15T10:45:51.064Z"
   },
   {
    "duration": 137,
    "start_time": "2023-08-15T10:45:51.081Z"
   },
   {
    "duration": 808,
    "start_time": "2023-08-15T10:45:51.219Z"
   },
   {
    "duration": 973,
    "start_time": "2023-08-15T10:45:52.029Z"
   },
   {
    "duration": 5,
    "start_time": "2023-08-15T10:45:53.003Z"
   },
   {
    "duration": 450,
    "start_time": "2023-08-15T10:45:53.010Z"
   },
   {
    "duration": 407,
    "start_time": "2023-08-15T10:45:53.462Z"
   },
   {
    "duration": 483,
    "start_time": "2023-08-15T10:45:53.872Z"
   },
   {
    "duration": 214,
    "start_time": "2023-08-15T10:45:54.357Z"
   },
   {
    "duration": 83,
    "start_time": "2023-08-15T10:45:54.572Z"
   },
   {
    "duration": 50,
    "start_time": "2023-08-15T10:45:54.657Z"
   },
   {
    "duration": 365,
    "start_time": "2023-08-15T10:45:54.709Z"
   },
   {
    "duration": 80,
    "start_time": "2023-08-15T10:45:55.076Z"
   },
   {
    "duration": 5258,
    "start_time": "2023-08-15T10:45:55.158Z"
   },
   {
    "duration": 31,
    "start_time": "2023-08-15T10:46:00.418Z"
   },
   {
    "duration": 64,
    "start_time": "2023-08-15T10:47:34.628Z"
   },
   {
    "duration": 1100,
    "start_time": "2023-08-15T10:47:43.332Z"
   },
   {
    "duration": 819,
    "start_time": "2023-08-15T10:47:44.433Z"
   },
   {
    "duration": 21,
    "start_time": "2023-08-15T10:47:45.254Z"
   },
   {
    "duration": 147,
    "start_time": "2023-08-15T10:47:45.277Z"
   },
   {
    "duration": 799,
    "start_time": "2023-08-15T10:47:45.425Z"
   },
   {
    "duration": 1022,
    "start_time": "2023-08-15T10:47:46.226Z"
   },
   {
    "duration": 5,
    "start_time": "2023-08-15T10:47:47.250Z"
   },
   {
    "duration": 440,
    "start_time": "2023-08-15T10:47:47.257Z"
   },
   {
    "duration": 420,
    "start_time": "2023-08-15T10:47:47.698Z"
   },
   {
    "duration": 512,
    "start_time": "2023-08-15T10:47:48.121Z"
   },
   {
    "duration": 217,
    "start_time": "2023-08-15T10:47:48.634Z"
   },
   {
    "duration": 71,
    "start_time": "2023-08-15T10:47:48.853Z"
   },
   {
    "duration": 177,
    "start_time": "2023-08-15T10:47:48.926Z"
   },
   {
    "duration": 345,
    "start_time": "2023-08-15T10:47:49.104Z"
   },
   {
    "duration": 100,
    "start_time": "2023-08-15T10:47:49.451Z"
   },
   {
    "duration": 5328,
    "start_time": "2023-08-15T10:47:49.553Z"
   },
   {
    "duration": 16,
    "start_time": "2023-08-15T10:47:54.883Z"
   },
   {
    "duration": 114,
    "start_time": "2023-08-15T10:48:03.150Z"
   },
   {
    "duration": 39,
    "start_time": "2023-08-15T10:48:08.377Z"
   },
   {
    "duration": 1124,
    "start_time": "2023-08-15T10:51:54.174Z"
   },
   {
    "duration": 787,
    "start_time": "2023-08-15T10:51:55.300Z"
   },
   {
    "duration": 15,
    "start_time": "2023-08-15T10:51:56.088Z"
   },
   {
    "duration": 128,
    "start_time": "2023-08-15T10:51:56.104Z"
   },
   {
    "duration": 760,
    "start_time": "2023-08-15T10:51:56.238Z"
   },
   {
    "duration": 963,
    "start_time": "2023-08-15T10:51:56.999Z"
   },
   {
    "duration": 5,
    "start_time": "2023-08-15T10:51:57.963Z"
   },
   {
    "duration": 433,
    "start_time": "2023-08-15T10:51:57.969Z"
   },
   {
    "duration": 398,
    "start_time": "2023-08-15T10:51:58.403Z"
   },
   {
    "duration": 492,
    "start_time": "2023-08-15T10:51:58.803Z"
   },
   {
    "duration": 210,
    "start_time": "2023-08-15T10:51:59.297Z"
   },
   {
    "duration": 81,
    "start_time": "2023-08-15T10:51:59.509Z"
   },
   {
    "duration": 63,
    "start_time": "2023-08-15T10:51:59.591Z"
   },
   {
    "duration": 343,
    "start_time": "2023-08-15T10:51:59.657Z"
   },
   {
    "duration": 91,
    "start_time": "2023-08-15T10:52:00.002Z"
   },
   {
    "duration": 5472,
    "start_time": "2023-08-15T10:52:00.095Z"
   },
   {
    "duration": 19,
    "start_time": "2023-08-15T10:52:05.569Z"
   },
   {
    "duration": 35824,
    "start_time": "2023-08-15T10:52:27.249Z"
   },
   {
    "duration": 204,
    "start_time": "2023-08-15T10:53:10.922Z"
   },
   {
    "duration": 31,
    "start_time": "2023-08-15T10:54:23.985Z"
   },
   {
    "duration": 30,
    "start_time": "2023-08-15T10:58:08.887Z"
   },
   {
    "duration": 1193,
    "start_time": "2023-08-15T10:59:41.815Z"
   },
   {
    "duration": 793,
    "start_time": "2023-08-15T10:59:43.010Z"
   },
   {
    "duration": 16,
    "start_time": "2023-08-15T10:59:43.804Z"
   },
   {
    "duration": 142,
    "start_time": "2023-08-15T10:59:43.822Z"
   },
   {
    "duration": 827,
    "start_time": "2023-08-15T10:59:43.965Z"
   },
   {
    "duration": 1036,
    "start_time": "2023-08-15T10:59:44.793Z"
   },
   {
    "duration": 5,
    "start_time": "2023-08-15T10:59:45.830Z"
   },
   {
    "duration": 409,
    "start_time": "2023-08-15T10:59:45.837Z"
   },
   {
    "duration": 386,
    "start_time": "2023-08-15T10:59:46.248Z"
   },
   {
    "duration": 472,
    "start_time": "2023-08-15T10:59:46.636Z"
   },
   {
    "duration": 219,
    "start_time": "2023-08-15T10:59:47.110Z"
   },
   {
    "duration": 73,
    "start_time": "2023-08-15T10:59:47.330Z"
   },
   {
    "duration": 61,
    "start_time": "2023-08-15T10:59:47.405Z"
   },
   {
    "duration": 356,
    "start_time": "2023-08-15T10:59:47.467Z"
   },
   {
    "duration": 78,
    "start_time": "2023-08-15T10:59:47.825Z"
   },
   {
    "duration": 5380,
    "start_time": "2023-08-15T10:59:47.905Z"
   },
   {
    "duration": 30,
    "start_time": "2023-08-15T10:59:53.287Z"
   },
   {
    "duration": 1346,
    "start_time": "2023-08-15T11:00:00.738Z"
   },
   {
    "duration": 817,
    "start_time": "2023-08-15T11:00:02.086Z"
   },
   {
    "duration": 17,
    "start_time": "2023-08-15T11:00:02.904Z"
   },
   {
    "duration": 280,
    "start_time": "2023-08-15T11:00:02.922Z"
   },
   {
    "duration": 853,
    "start_time": "2023-08-15T11:00:03.204Z"
   },
   {
    "duration": 1223,
    "start_time": "2023-08-15T11:00:04.058Z"
   },
   {
    "duration": 6,
    "start_time": "2023-08-15T11:00:05.283Z"
   },
   {
    "duration": 482,
    "start_time": "2023-08-15T11:00:05.290Z"
   },
   {
    "duration": 413,
    "start_time": "2023-08-15T11:00:05.773Z"
   },
   {
    "duration": 496,
    "start_time": "2023-08-15T11:00:06.187Z"
   },
   {
    "duration": 199,
    "start_time": "2023-08-15T11:00:06.685Z"
   },
   {
    "duration": 77,
    "start_time": "2023-08-15T11:00:06.885Z"
   },
   {
    "duration": 45,
    "start_time": "2023-08-15T11:00:06.964Z"
   },
   {
    "duration": 344,
    "start_time": "2023-08-15T11:00:07.011Z"
   },
   {
    "duration": 86,
    "start_time": "2023-08-15T11:00:07.357Z"
   },
   {
    "duration": 5310,
    "start_time": "2023-08-15T11:00:07.445Z"
   },
   {
    "duration": 121,
    "start_time": "2023-08-15T11:12:14.061Z"
   },
   {
    "duration": 3480,
    "start_time": "2023-08-15T11:12:20.724Z"
   },
   {
    "duration": 186,
    "start_time": "2023-08-15T11:12:40.604Z"
   },
   {
    "duration": 3,
    "start_time": "2023-08-15T11:13:11.406Z"
   },
   {
    "duration": 1199,
    "start_time": "2023-08-15T11:14:45.420Z"
   },
   {
    "duration": 752,
    "start_time": "2023-08-15T11:14:46.623Z"
   },
   {
    "duration": 16,
    "start_time": "2023-08-15T11:14:47.377Z"
   },
   {
    "duration": 127,
    "start_time": "2023-08-15T11:14:47.394Z"
   },
   {
    "duration": 759,
    "start_time": "2023-08-15T11:14:47.523Z"
   },
   {
    "duration": 975,
    "start_time": "2023-08-15T11:14:48.284Z"
   },
   {
    "duration": 5,
    "start_time": "2023-08-15T11:14:49.261Z"
   },
   {
    "duration": 424,
    "start_time": "2023-08-15T11:14:49.268Z"
   },
   {
    "duration": 393,
    "start_time": "2023-08-15T11:14:49.693Z"
   },
   {
    "duration": 476,
    "start_time": "2023-08-15T11:14:50.089Z"
   },
   {
    "duration": 201,
    "start_time": "2023-08-15T11:14:50.566Z"
   },
   {
    "duration": 74,
    "start_time": "2023-08-15T11:14:50.768Z"
   },
   {
    "duration": 41,
    "start_time": "2023-08-15T11:14:50.844Z"
   },
   {
    "duration": 344,
    "start_time": "2023-08-15T11:14:50.887Z"
   },
   {
    "duration": 79,
    "start_time": "2023-08-15T11:14:51.233Z"
   },
   {
    "duration": 5277,
    "start_time": "2023-08-15T11:14:51.313Z"
   },
   {
    "duration": 98,
    "start_time": "2023-08-15T11:14:56.591Z"
   },
   {
    "duration": 34943,
    "start_time": "2023-08-15T11:14:56.690Z"
   },
   {
    "duration": 3,
    "start_time": "2023-08-15T11:15:31.637Z"
   },
   {
    "duration": 108,
    "start_time": "2023-08-15T11:16:42.479Z"
   },
   {
    "duration": 74,
    "start_time": "2023-08-15T11:16:57.363Z"
   },
   {
    "duration": 322,
    "start_time": "2023-08-15T11:17:12.508Z"
   },
   {
    "duration": 30601,
    "start_time": "2023-08-15T11:18:29.415Z"
   },
   {
    "duration": 15,
    "start_time": "2023-08-15T11:19:35.704Z"
   },
   {
    "duration": 1236,
    "start_time": "2023-08-15T11:19:47.802Z"
   },
   {
    "duration": 774,
    "start_time": "2023-08-15T11:19:49.040Z"
   },
   {
    "duration": 16,
    "start_time": "2023-08-15T11:19:49.815Z"
   },
   {
    "duration": 141,
    "start_time": "2023-08-15T11:19:49.838Z"
   },
   {
    "duration": 788,
    "start_time": "2023-08-15T11:19:49.980Z"
   },
   {
    "duration": 956,
    "start_time": "2023-08-15T11:19:50.769Z"
   },
   {
    "duration": 5,
    "start_time": "2023-08-15T11:19:51.726Z"
   },
   {
    "duration": 513,
    "start_time": "2023-08-15T11:19:51.737Z"
   },
   {
    "duration": 388,
    "start_time": "2023-08-15T11:19:52.251Z"
   },
   {
    "duration": 472,
    "start_time": "2023-08-15T11:19:52.641Z"
   },
   {
    "duration": 217,
    "start_time": "2023-08-15T11:19:53.115Z"
   },
   {
    "duration": 68,
    "start_time": "2023-08-15T11:19:53.334Z"
   },
   {
    "duration": 57,
    "start_time": "2023-08-15T11:19:53.403Z"
   },
   {
    "duration": 324,
    "start_time": "2023-08-15T11:19:53.461Z"
   },
   {
    "duration": 79,
    "start_time": "2023-08-15T11:19:53.787Z"
   },
   {
    "duration": 5308,
    "start_time": "2023-08-15T11:19:53.868Z"
   },
   {
    "duration": 18,
    "start_time": "2023-08-15T11:19:59.178Z"
   },
   {
    "duration": 35096,
    "start_time": "2023-08-15T11:19:59.198Z"
   },
   {
    "duration": 3,
    "start_time": "2023-08-15T11:20:34.297Z"
   },
   {
    "duration": 30046,
    "start_time": "2023-08-15T11:23:13.872Z"
   },
   {
    "duration": 7,
    "start_time": "2023-08-15T11:33:39.228Z"
   },
   {
    "duration": 109,
    "start_time": "2023-08-15T11:34:42.240Z"
   },
   {
    "duration": 1137,
    "start_time": "2023-08-15T11:35:57.295Z"
   },
   {
    "duration": 773,
    "start_time": "2023-08-15T11:35:58.434Z"
   },
   {
    "duration": 16,
    "start_time": "2023-08-15T11:35:59.208Z"
   },
   {
    "duration": 138,
    "start_time": "2023-08-15T11:35:59.226Z"
   },
   {
    "duration": 829,
    "start_time": "2023-08-15T11:35:59.366Z"
   },
   {
    "duration": 964,
    "start_time": "2023-08-15T11:36:00.197Z"
   },
   {
    "duration": 7,
    "start_time": "2023-08-15T11:36:01.163Z"
   },
   {
    "duration": 461,
    "start_time": "2023-08-15T11:36:01.172Z"
   },
   {
    "duration": 426,
    "start_time": "2023-08-15T11:36:01.635Z"
   },
   {
    "duration": 527,
    "start_time": "2023-08-15T11:36:02.064Z"
   },
   {
    "duration": 199,
    "start_time": "2023-08-15T11:36:02.593Z"
   },
   {
    "duration": 68,
    "start_time": "2023-08-15T11:36:02.793Z"
   },
   {
    "duration": 140,
    "start_time": "2023-08-15T11:36:02.862Z"
   },
   {
    "duration": 368,
    "start_time": "2023-08-15T11:36:03.003Z"
   },
   {
    "duration": 80,
    "start_time": "2023-08-15T11:36:03.372Z"
   },
   {
    "duration": 1103,
    "start_time": "2023-08-15T11:36:48.715Z"
   },
   {
    "duration": 754,
    "start_time": "2023-08-15T11:36:49.821Z"
   },
   {
    "duration": 24,
    "start_time": "2023-08-15T11:36:50.577Z"
   },
   {
    "duration": 117,
    "start_time": "2023-08-15T11:36:50.602Z"
   },
   {
    "duration": 839,
    "start_time": "2023-08-15T11:36:50.722Z"
   },
   {
    "duration": 1000,
    "start_time": "2023-08-15T11:36:51.563Z"
   },
   {
    "duration": 5,
    "start_time": "2023-08-15T11:36:52.565Z"
   },
   {
    "duration": 389,
    "start_time": "2023-08-15T11:36:52.572Z"
   },
   {
    "duration": 381,
    "start_time": "2023-08-15T11:36:52.962Z"
   },
   {
    "duration": 457,
    "start_time": "2023-08-15T11:36:53.345Z"
   },
   {
    "duration": 198,
    "start_time": "2023-08-15T11:36:53.803Z"
   },
   {
    "duration": 80,
    "start_time": "2023-08-15T11:36:54.003Z"
   },
   {
    "duration": 56,
    "start_time": "2023-08-15T11:36:54.085Z"
   },
   {
    "duration": 298,
    "start_time": "2023-08-15T11:36:54.143Z"
   },
   {
    "duration": 103,
    "start_time": "2023-08-15T11:36:54.443Z"
   },
   {
    "duration": 5280,
    "start_time": "2023-08-15T11:36:54.548Z"
   },
   {
    "duration": 27,
    "start_time": "2023-08-15T11:36:59.830Z"
   },
   {
    "duration": 1146,
    "start_time": "2023-08-15T11:37:46.868Z"
   },
   {
    "duration": 764,
    "start_time": "2023-08-15T11:37:48.016Z"
   },
   {
    "duration": 25,
    "start_time": "2023-08-15T11:37:48.784Z"
   },
   {
    "duration": 199,
    "start_time": "2023-08-15T11:37:48.812Z"
   },
   {
    "duration": 831,
    "start_time": "2023-08-15T11:37:49.013Z"
   },
   {
    "duration": 1039,
    "start_time": "2023-08-15T11:37:49.846Z"
   },
   {
    "duration": 8,
    "start_time": "2023-08-15T11:37:50.887Z"
   },
   {
    "duration": 469,
    "start_time": "2023-08-15T11:37:50.897Z"
   },
   {
    "duration": 540,
    "start_time": "2023-08-15T11:37:51.368Z"
   },
   {
    "duration": 504,
    "start_time": "2023-08-15T11:37:51.911Z"
   },
   {
    "duration": 214,
    "start_time": "2023-08-15T11:37:52.417Z"
   },
   {
    "duration": 86,
    "start_time": "2023-08-15T11:37:52.633Z"
   },
   {
    "duration": 85,
    "start_time": "2023-08-15T11:37:52.720Z"
   },
   {
    "duration": 423,
    "start_time": "2023-08-15T11:37:52.807Z"
   },
   {
    "duration": 82,
    "start_time": "2023-08-15T11:37:53.232Z"
   },
   {
    "duration": 5432,
    "start_time": "2023-08-15T11:37:53.317Z"
   },
   {
    "duration": 29,
    "start_time": "2023-08-15T11:37:58.752Z"
   },
   {
    "duration": 100519,
    "start_time": "2023-08-15T11:37:58.783Z"
   },
   {
    "duration": 5,
    "start_time": "2023-08-15T11:39:39.304Z"
   },
   {
    "duration": 198,
    "start_time": "2023-08-15T11:39:56.494Z"
   },
   {
    "duration": 1231,
    "start_time": "2023-08-15T11:40:52.109Z"
   },
   {
    "duration": 762,
    "start_time": "2023-08-15T11:40:53.342Z"
   },
   {
    "duration": 20,
    "start_time": "2023-08-15T11:40:54.106Z"
   },
   {
    "duration": 128,
    "start_time": "2023-08-15T11:40:54.139Z"
   },
   {
    "duration": 892,
    "start_time": "2023-08-15T11:40:54.269Z"
   },
   {
    "duration": 990,
    "start_time": "2023-08-15T11:40:55.163Z"
   },
   {
    "duration": 7,
    "start_time": "2023-08-15T11:40:56.155Z"
   },
   {
    "duration": 426,
    "start_time": "2023-08-15T11:40:56.164Z"
   },
   {
    "duration": 408,
    "start_time": "2023-08-15T11:40:56.591Z"
   },
   {
    "duration": 510,
    "start_time": "2023-08-15T11:40:57.001Z"
   },
   {
    "duration": 235,
    "start_time": "2023-08-15T11:40:57.512Z"
   },
   {
    "duration": 107,
    "start_time": "2023-08-15T11:40:57.750Z"
   },
   {
    "duration": 50,
    "start_time": "2023-08-15T11:40:57.859Z"
   },
   {
    "duration": 400,
    "start_time": "2023-08-15T11:40:57.911Z"
   },
   {
    "duration": 106,
    "start_time": "2023-08-15T11:40:58.313Z"
   },
   {
    "duration": 5690,
    "start_time": "2023-08-15T11:40:58.421Z"
   },
   {
    "duration": 28,
    "start_time": "2023-08-15T11:41:04.113Z"
   },
   {
    "duration": 100073,
    "start_time": "2023-08-15T11:41:04.142Z"
   },
   {
    "duration": 205,
    "start_time": "2023-08-15T11:47:32.150Z"
   },
   {
    "duration": 1170,
    "start_time": "2023-08-15T11:47:57.220Z"
   },
   {
    "duration": 733,
    "start_time": "2023-08-15T11:47:58.391Z"
   },
   {
    "duration": 25,
    "start_time": "2023-08-15T11:47:59.126Z"
   },
   {
    "duration": 143,
    "start_time": "2023-08-15T11:47:59.153Z"
   },
   {
    "duration": 761,
    "start_time": "2023-08-15T11:47:59.298Z"
   },
   {
    "duration": 1011,
    "start_time": "2023-08-15T11:48:00.061Z"
   },
   {
    "duration": 6,
    "start_time": "2023-08-15T11:48:01.073Z"
   },
   {
    "duration": 507,
    "start_time": "2023-08-15T11:48:01.081Z"
   },
   {
    "duration": 450,
    "start_time": "2023-08-15T11:48:01.590Z"
   },
   {
    "duration": 522,
    "start_time": "2023-08-15T11:48:02.043Z"
   },
   {
    "duration": 209,
    "start_time": "2023-08-15T11:48:02.567Z"
   },
   {
    "duration": 67,
    "start_time": "2023-08-15T11:48:02.777Z"
   },
   {
    "duration": 174,
    "start_time": "2023-08-15T11:48:02.845Z"
   },
   {
    "duration": 392,
    "start_time": "2023-08-15T11:48:03.021Z"
   },
   {
    "duration": 76,
    "start_time": "2023-08-15T11:48:03.414Z"
   },
   {
    "duration": 5174,
    "start_time": "2023-08-15T11:48:03.491Z"
   },
   {
    "duration": 18,
    "start_time": "2023-08-15T11:48:08.667Z"
   },
   {
    "duration": 96941,
    "start_time": "2023-08-15T11:48:08.687Z"
   },
   {
    "duration": 236,
    "start_time": "2023-08-15T11:49:45.630Z"
   },
   {
    "duration": 215,
    "start_time": "2023-08-15T11:50:39.704Z"
   },
   {
    "duration": 102,
    "start_time": "2023-08-15T11:50:53.170Z"
   },
   {
    "duration": 102,
    "start_time": "2023-08-15T11:50:57.978Z"
   },
   {
    "duration": 12,
    "start_time": "2023-08-15T11:51:42.201Z"
   },
   {
    "duration": 99,
    "start_time": "2023-08-15T11:52:08.327Z"
   },
   {
    "duration": 208,
    "start_time": "2023-08-15T11:52:42.188Z"
   },
   {
    "duration": 1136,
    "start_time": "2023-08-15T11:53:30.191Z"
   },
   {
    "duration": 797,
    "start_time": "2023-08-15T11:53:31.329Z"
   },
   {
    "duration": 17,
    "start_time": "2023-08-15T11:53:32.127Z"
   },
   {
    "duration": 141,
    "start_time": "2023-08-15T11:53:32.146Z"
   },
   {
    "duration": 850,
    "start_time": "2023-08-15T11:53:32.290Z"
   },
   {
    "duration": 1016,
    "start_time": "2023-08-15T11:53:33.142Z"
   },
   {
    "duration": 5,
    "start_time": "2023-08-15T11:53:34.160Z"
   },
   {
    "duration": 426,
    "start_time": "2023-08-15T11:53:34.166Z"
   },
   {
    "duration": 511,
    "start_time": "2023-08-15T11:53:34.594Z"
   },
   {
    "duration": 478,
    "start_time": "2023-08-15T11:53:35.107Z"
   },
   {
    "duration": 217,
    "start_time": "2023-08-15T11:53:35.587Z"
   },
   {
    "duration": 100,
    "start_time": "2023-08-15T11:53:35.807Z"
   },
   {
    "duration": 58,
    "start_time": "2023-08-15T11:53:35.909Z"
   },
   {
    "duration": 334,
    "start_time": "2023-08-15T11:53:35.969Z"
   },
   {
    "duration": 79,
    "start_time": "2023-08-15T11:53:36.305Z"
   },
   {
    "duration": 5260,
    "start_time": "2023-08-15T11:53:36.386Z"
   },
   {
    "duration": 29,
    "start_time": "2023-08-15T11:53:41.648Z"
   },
   {
    "duration": 99846,
    "start_time": "2023-08-15T11:53:41.679Z"
   },
   {
    "duration": 220,
    "start_time": "2023-08-15T11:55:21.527Z"
   },
   {
    "duration": 243,
    "start_time": "2023-08-15T11:55:21.749Z"
   },
   {
    "duration": 1228,
    "start_time": "2023-08-15T11:56:13.607Z"
   },
   {
    "duration": 807,
    "start_time": "2023-08-15T11:56:14.838Z"
   },
   {
    "duration": 16,
    "start_time": "2023-08-15T11:56:15.646Z"
   },
   {
    "duration": 129,
    "start_time": "2023-08-15T11:56:15.664Z"
   },
   {
    "duration": 790,
    "start_time": "2023-08-15T11:56:15.794Z"
   },
   {
    "duration": 994,
    "start_time": "2023-08-15T11:56:16.585Z"
   },
   {
    "duration": 5,
    "start_time": "2023-08-15T11:56:17.581Z"
   },
   {
    "duration": 411,
    "start_time": "2023-08-15T11:56:17.587Z"
   },
   {
    "duration": 397,
    "start_time": "2023-08-15T11:56:17.999Z"
   },
   {
    "duration": 465,
    "start_time": "2023-08-15T11:56:18.398Z"
   },
   {
    "duration": 209,
    "start_time": "2023-08-15T11:56:18.866Z"
   },
   {
    "duration": 117,
    "start_time": "2023-08-15T11:56:19.078Z"
   },
   {
    "duration": 54,
    "start_time": "2023-08-15T11:56:19.197Z"
   },
   {
    "duration": 332,
    "start_time": "2023-08-15T11:56:19.252Z"
   },
   {
    "duration": 82,
    "start_time": "2023-08-15T11:56:19.586Z"
   },
   {
    "duration": 5415,
    "start_time": "2023-08-15T11:56:19.670Z"
   },
   {
    "duration": 107,
    "start_time": "2023-08-15T11:56:25.087Z"
   },
   {
    "duration": 97699,
    "start_time": "2023-08-15T11:57:04.544Z"
   },
   {
    "duration": 18,
    "start_time": "2023-08-15T11:58:51.226Z"
   },
   {
    "duration": 1181,
    "start_time": "2023-08-15T11:59:32.423Z"
   },
   {
    "duration": 746,
    "start_time": "2023-08-15T11:59:33.606Z"
   },
   {
    "duration": 19,
    "start_time": "2023-08-15T11:59:34.354Z"
   },
   {
    "duration": 161,
    "start_time": "2023-08-15T11:59:34.376Z"
   },
   {
    "duration": 866,
    "start_time": "2023-08-15T11:59:34.539Z"
   },
   {
    "duration": 957,
    "start_time": "2023-08-15T11:59:35.407Z"
   },
   {
    "duration": 5,
    "start_time": "2023-08-15T11:59:36.365Z"
   },
   {
    "duration": 513,
    "start_time": "2023-08-15T11:59:36.372Z"
   },
   {
    "duration": 415,
    "start_time": "2023-08-15T11:59:36.888Z"
   },
   {
    "duration": 469,
    "start_time": "2023-08-15T11:59:37.306Z"
   },
   {
    "duration": 210,
    "start_time": "2023-08-15T11:59:37.776Z"
   },
   {
    "duration": 74,
    "start_time": "2023-08-15T11:59:37.987Z"
   },
   {
    "duration": 43,
    "start_time": "2023-08-15T11:59:38.063Z"
   },
   {
    "duration": 320,
    "start_time": "2023-08-15T11:59:38.107Z"
   },
   {
    "duration": 78,
    "start_time": "2023-08-15T11:59:38.429Z"
   },
   {
    "duration": 5107,
    "start_time": "2023-08-15T11:59:38.509Z"
   },
   {
    "duration": 141,
    "start_time": "2023-08-15T11:59:43.618Z"
   },
   {
    "duration": 93245,
    "start_time": "2023-08-15T11:59:43.761Z"
   },
   {
    "duration": 20,
    "start_time": "2023-08-15T12:01:17.008Z"
   },
   {
    "duration": 96,
    "start_time": "2023-08-15T12:01:17.038Z"
   },
   {
    "duration": 393,
    "start_time": "2023-08-15T12:01:17.136Z"
   },
   {
    "duration": 5420,
    "start_time": "2023-08-15T12:02:02.364Z"
   },
   {
    "duration": 412,
    "start_time": "2023-08-15T12:03:29.270Z"
   },
   {
    "duration": 95,
    "start_time": "2023-08-15T12:04:23.376Z"
   },
   {
    "duration": 36,
    "start_time": "2023-08-15T12:05:24.700Z"
   },
   {
    "duration": 9,
    "start_time": "2023-08-15T12:06:11.775Z"
   },
   {
    "duration": 30,
    "start_time": "2023-08-15T12:06:16.655Z"
   },
   {
    "duration": 23,
    "start_time": "2023-08-15T12:06:29.965Z"
   },
   {
    "duration": 23,
    "start_time": "2023-08-15T12:12:10.611Z"
   },
   {
    "duration": 26,
    "start_time": "2023-08-15T12:12:16.135Z"
   },
   {
    "duration": 8,
    "start_time": "2023-08-15T12:14:28.554Z"
   },
   {
    "duration": 544,
    "start_time": "2023-08-15T12:16:19.666Z"
   },
   {
    "duration": 116,
    "start_time": "2023-08-15T12:16:35.633Z"
   },
   {
    "duration": 146,
    "start_time": "2023-08-15T12:16:40.412Z"
   },
   {
    "duration": 170,
    "start_time": "2023-08-15T12:17:03.738Z"
   },
   {
    "duration": 129,
    "start_time": "2023-08-15T12:17:46.357Z"
   },
   {
    "duration": 120,
    "start_time": "2023-08-15T12:17:57.600Z"
   },
   {
    "duration": 121,
    "start_time": "2023-08-15T12:18:06.412Z"
   },
   {
    "duration": 123,
    "start_time": "2023-08-15T12:18:12.476Z"
   },
   {
    "duration": 130,
    "start_time": "2023-08-15T12:18:15.079Z"
   },
   {
    "duration": 199,
    "start_time": "2023-08-15T12:18:19.996Z"
   },
   {
    "duration": 119,
    "start_time": "2023-08-15T12:18:23.725Z"
   },
   {
    "duration": 123,
    "start_time": "2023-08-15T12:18:55.551Z"
   },
   {
    "duration": 133,
    "start_time": "2023-08-15T12:19:03.328Z"
   },
   {
    "duration": 117,
    "start_time": "2023-08-15T12:19:09.701Z"
   },
   {
    "duration": 229,
    "start_time": "2023-08-15T12:19:15.481Z"
   },
   {
    "duration": 199,
    "start_time": "2023-08-15T12:19:25.069Z"
   },
   {
    "duration": 148,
    "start_time": "2023-08-15T12:19:31.250Z"
   },
   {
    "duration": 150,
    "start_time": "2023-08-15T12:19:40.750Z"
   },
   {
    "duration": 194,
    "start_time": "2023-08-15T12:19:46.216Z"
   },
   {
    "duration": 141,
    "start_time": "2023-08-15T12:19:50.958Z"
   },
   {
    "duration": 137,
    "start_time": "2023-08-15T12:20:01.713Z"
   },
   {
    "duration": 126,
    "start_time": "2023-08-15T12:20:08.807Z"
   },
   {
    "duration": 210,
    "start_time": "2023-08-15T12:20:17.156Z"
   },
   {
    "duration": 174,
    "start_time": "2023-08-15T12:20:24.853Z"
   },
   {
    "duration": 402,
    "start_time": "2023-08-15T12:21:38.191Z"
   },
   {
    "duration": 52,
    "start_time": "2023-08-15T12:21:58.435Z"
   },
   {
    "duration": 155,
    "start_time": "2023-08-15T12:23:39.414Z"
   },
   {
    "duration": 427,
    "start_time": "2023-08-15T12:24:18.473Z"
   },
   {
    "duration": 149,
    "start_time": "2023-08-15T12:24:24.260Z"
   },
   {
    "duration": 416,
    "start_time": "2023-08-15T12:24:27.763Z"
   },
   {
    "duration": 170,
    "start_time": "2023-08-15T12:24:37.972Z"
   },
   {
    "duration": 422,
    "start_time": "2023-08-15T12:24:44.735Z"
   },
   {
    "duration": 216,
    "start_time": "2023-08-15T12:25:00.955Z"
   },
   {
    "duration": 31,
    "start_time": "2023-08-15T12:26:36.391Z"
   },
   {
    "duration": 1223,
    "start_time": "2023-08-16T05:05:58.287Z"
   },
   {
    "duration": 1024,
    "start_time": "2023-08-16T05:05:59.512Z"
   },
   {
    "duration": 21,
    "start_time": "2023-08-16T05:06:00.537Z"
   },
   {
    "duration": 140,
    "start_time": "2023-08-16T05:06:00.561Z"
   },
   {
    "duration": 780,
    "start_time": "2023-08-16T05:06:00.702Z"
   },
   {
    "duration": 1002,
    "start_time": "2023-08-16T05:06:01.483Z"
   },
   {
    "duration": 4,
    "start_time": "2023-08-16T05:06:02.487Z"
   },
   {
    "duration": 456,
    "start_time": "2023-08-16T05:06:02.492Z"
   },
   {
    "duration": 382,
    "start_time": "2023-08-16T05:06:02.950Z"
   },
   {
    "duration": 443,
    "start_time": "2023-08-16T05:06:03.338Z"
   },
   {
    "duration": 205,
    "start_time": "2023-08-16T05:06:03.783Z"
   },
   {
    "duration": 77,
    "start_time": "2023-08-16T05:06:03.990Z"
   },
   {
    "duration": 45,
    "start_time": "2023-08-16T05:06:04.068Z"
   },
   {
    "duration": 338,
    "start_time": "2023-08-16T05:06:04.114Z"
   },
   {
    "duration": 95,
    "start_time": "2023-08-16T05:06:04.454Z"
   },
   {
    "duration": 5015,
    "start_time": "2023-08-16T05:06:04.551Z"
   },
   {
    "duration": 101,
    "start_time": "2023-08-16T05:06:09.568Z"
   },
   {
    "duration": 87835,
    "start_time": "2023-08-16T05:06:09.670Z"
   },
   {
    "duration": 93,
    "start_time": "2023-08-16T05:07:37.506Z"
   },
   {
    "duration": 92,
    "start_time": "2023-08-16T05:07:37.600Z"
   },
   {
    "duration": 258,
    "start_time": "2023-08-16T05:07:37.694Z"
   },
   {
    "duration": 398,
    "start_time": "2023-08-16T05:07:37.954Z"
   },
   {
    "duration": 24,
    "start_time": "2023-08-16T05:07:38.354Z"
   },
   {
    "duration": 221,
    "start_time": "2023-08-16T05:10:28.303Z"
   },
   {
    "duration": 216,
    "start_time": "2023-08-16T05:10:34.634Z"
   },
   {
    "duration": 222,
    "start_time": "2023-08-16T05:11:09.498Z"
   },
   {
    "duration": 26,
    "start_time": "2023-08-16T05:20:05.807Z"
   },
   {
    "duration": 393,
    "start_time": "2023-08-16T05:20:09.354Z"
   },
   {
    "duration": 1053,
    "start_time": "2023-08-16T05:21:37.650Z"
   },
   {
    "duration": 717,
    "start_time": "2023-08-16T05:21:38.705Z"
   },
   {
    "duration": 16,
    "start_time": "2023-08-16T05:21:39.423Z"
   },
   {
    "duration": 126,
    "start_time": "2023-08-16T05:21:39.441Z"
   },
   {
    "duration": 717,
    "start_time": "2023-08-16T05:21:39.569Z"
   },
   {
    "duration": 923,
    "start_time": "2023-08-16T05:21:40.288Z"
   },
   {
    "duration": 4,
    "start_time": "2023-08-16T05:21:41.213Z"
   },
   {
    "duration": 381,
    "start_time": "2023-08-16T05:21:41.218Z"
   },
   {
    "duration": 385,
    "start_time": "2023-08-16T05:21:41.600Z"
   },
   {
    "duration": 433,
    "start_time": "2023-08-16T05:21:41.987Z"
   },
   {
    "duration": 190,
    "start_time": "2023-08-16T05:21:42.422Z"
   },
   {
    "duration": 64,
    "start_time": "2023-08-16T05:21:42.613Z"
   },
   {
    "duration": 45,
    "start_time": "2023-08-16T05:21:42.678Z"
   },
   {
    "duration": 308,
    "start_time": "2023-08-16T05:21:42.724Z"
   },
   {
    "duration": 72,
    "start_time": "2023-08-16T05:21:43.037Z"
   },
   {
    "duration": 5037,
    "start_time": "2023-08-16T05:21:43.110Z"
   },
   {
    "duration": 104,
    "start_time": "2023-08-16T05:21:48.149Z"
   },
   {
    "duration": 88659,
    "start_time": "2023-08-16T05:21:48.254Z"
   },
   {
    "duration": 108,
    "start_time": "2023-08-16T05:23:16.914Z"
   },
   {
    "duration": 92,
    "start_time": "2023-08-16T05:23:17.024Z"
   },
   {
    "duration": 299,
    "start_time": "2023-08-16T05:23:17.118Z"
   },
   {
    "duration": 41,
    "start_time": "2023-08-16T05:23:17.418Z"
   },
   {
    "duration": 417,
    "start_time": "2023-08-16T05:23:17.460Z"
   },
   {
    "duration": 336,
    "start_time": "2023-08-16T05:23:42.095Z"
   },
   {
    "duration": 27,
    "start_time": "2023-08-16T05:24:31.192Z"
   },
   {
    "duration": 129,
    "start_time": "2023-08-16T05:26:13.192Z"
   },
   {
    "duration": 208,
    "start_time": "2023-08-16T05:26:35.819Z"
   },
   {
    "duration": 7,
    "start_time": "2023-08-16T05:28:04.933Z"
   },
   {
    "duration": 344,
    "start_time": "2023-08-16T05:28:55.588Z"
   },
   {
    "duration": 329,
    "start_time": "2023-08-16T05:29:20.678Z"
   },
   {
    "duration": 211,
    "start_time": "2023-08-16T05:29:55.009Z"
   },
   {
    "duration": 294,
    "start_time": "2023-08-16T05:30:12.133Z"
   },
   {
    "duration": 210,
    "start_time": "2023-08-16T05:30:20.625Z"
   },
   {
    "duration": 389,
    "start_time": "2023-08-16T05:30:34.242Z"
   },
   {
    "duration": 1093,
    "start_time": "2023-08-16T05:35:48.728Z"
   },
   {
    "duration": 733,
    "start_time": "2023-08-16T05:35:49.823Z"
   },
   {
    "duration": 15,
    "start_time": "2023-08-16T05:35:50.560Z"
   },
   {
    "duration": 132,
    "start_time": "2023-08-16T05:35:50.577Z"
   },
   {
    "duration": 710,
    "start_time": "2023-08-16T05:35:50.711Z"
   },
   {
    "duration": 979,
    "start_time": "2023-08-16T05:35:51.422Z"
   },
   {
    "duration": 4,
    "start_time": "2023-08-16T05:35:52.403Z"
   },
   {
    "duration": 414,
    "start_time": "2023-08-16T05:35:52.409Z"
   },
   {
    "duration": 373,
    "start_time": "2023-08-16T05:35:52.825Z"
   },
   {
    "duration": 445,
    "start_time": "2023-08-16T05:35:53.200Z"
   },
   {
    "duration": 199,
    "start_time": "2023-08-16T05:35:53.647Z"
   },
   {
    "duration": 63,
    "start_time": "2023-08-16T05:35:53.848Z"
   },
   {
    "duration": 54,
    "start_time": "2023-08-16T05:35:53.912Z"
   },
   {
    "duration": 302,
    "start_time": "2023-08-16T05:35:53.968Z"
   },
   {
    "duration": 77,
    "start_time": "2023-08-16T05:35:54.271Z"
   },
   {
    "duration": 4288,
    "start_time": "2023-08-16T05:35:54.350Z"
   },
   {
    "duration": 103,
    "start_time": "2023-08-16T05:35:58.640Z"
   },
   {
    "duration": 87158,
    "start_time": "2023-08-16T05:35:58.745Z"
   },
   {
    "duration": 94,
    "start_time": "2023-08-16T05:37:25.904Z"
   },
   {
    "duration": 374,
    "start_time": "2023-08-16T05:37:25.999Z"
   },
   {
    "duration": 276,
    "start_time": "2023-08-16T05:37:26.374Z"
   },
   {
    "duration": 39,
    "start_time": "2023-08-16T05:37:26.651Z"
   },
   {
    "duration": 8,
    "start_time": "2023-08-16T05:37:26.691Z"
   },
   {
    "duration": 222,
    "start_time": "2023-08-16T05:37:26.700Z"
   },
   {
    "duration": 351,
    "start_time": "2023-08-16T05:37:26.924Z"
   },
   {
    "duration": 84,
    "start_time": "2023-08-16T05:47:19.212Z"
   },
   {
    "duration": 373,
    "start_time": "2023-08-16T05:47:51.808Z"
   },
   {
    "duration": 337,
    "start_time": "2023-08-16T05:48:02.303Z"
   },
   {
    "duration": 333,
    "start_time": "2023-08-16T05:48:10.336Z"
   },
   {
    "duration": 211,
    "start_time": "2023-08-16T05:48:25.431Z"
   },
   {
    "duration": 6,
    "start_time": "2023-08-16T05:49:05.414Z"
   },
   {
    "duration": 49,
    "start_time": "2023-08-16T09:23:41.693Z"
   },
   {
    "duration": 1386,
    "start_time": "2023-08-16T09:23:51.004Z"
   },
   {
    "duration": 2958,
    "start_time": "2023-08-16T09:23:52.393Z"
   },
   {
    "duration": 21,
    "start_time": "2023-08-16T09:23:55.353Z"
   },
   {
    "duration": 120,
    "start_time": "2023-08-16T09:23:55.376Z"
   },
   {
    "duration": 1011,
    "start_time": "2023-08-16T09:23:55.498Z"
   },
   {
    "duration": 1162,
    "start_time": "2023-08-16T09:23:56.511Z"
   },
   {
    "duration": 6,
    "start_time": "2023-08-16T09:23:57.674Z"
   },
   {
    "duration": 498,
    "start_time": "2023-08-16T09:23:57.681Z"
   },
   {
    "duration": 477,
    "start_time": "2023-08-16T09:23:58.181Z"
   },
   {
    "duration": 604,
    "start_time": "2023-08-16T09:23:58.662Z"
   },
   {
    "duration": 200,
    "start_time": "2023-08-16T09:23:59.267Z"
   },
   {
    "duration": 74,
    "start_time": "2023-08-16T09:23:59.469Z"
   },
   {
    "duration": 47,
    "start_time": "2023-08-16T09:23:59.559Z"
   },
   {
    "duration": 338,
    "start_time": "2023-08-16T09:23:59.609Z"
   },
   {
    "duration": 77,
    "start_time": "2023-08-16T09:23:59.949Z"
   },
   {
    "duration": 4937,
    "start_time": "2023-08-16T09:24:00.028Z"
   },
   {
    "duration": 111,
    "start_time": "2023-08-16T09:24:04.967Z"
   },
   {
    "duration": 88244,
    "start_time": "2023-08-16T09:24:05.080Z"
   },
   {
    "duration": 99,
    "start_time": "2023-08-16T09:25:33.326Z"
   },
   {
    "duration": 108,
    "start_time": "2023-08-16T09:25:33.427Z"
   },
   {
    "duration": 350,
    "start_time": "2023-08-16T09:25:33.537Z"
   },
   {
    "duration": 43,
    "start_time": "2023-08-16T09:25:33.889Z"
   },
   {
    "duration": 29,
    "start_time": "2023-08-16T09:25:33.934Z"
   },
   {
    "duration": 330,
    "start_time": "2023-08-16T09:25:33.965Z"
   },
   {
    "duration": 7,
    "start_time": "2023-08-16T09:25:34.297Z"
   },
   {
    "duration": 34,
    "start_time": "2023-08-16T09:25:34.305Z"
   },
   {
    "duration": 401,
    "start_time": "2023-08-16T09:25:34.341Z"
   },
   {
    "duration": 118,
    "start_time": "2023-08-16T09:26:23.011Z"
   },
   {
    "duration": 307,
    "start_time": "2023-08-16T09:26:27.053Z"
   },
   {
    "duration": 263,
    "start_time": "2023-08-16T09:26:37.140Z"
   },
   {
    "duration": 8,
    "start_time": "2023-08-16T09:28:01.037Z"
   },
   {
    "duration": 6,
    "start_time": "2023-08-16T09:28:56.479Z"
   },
   {
    "duration": 41,
    "start_time": "2023-08-16T09:37:02.107Z"
   },
   {
    "duration": 275,
    "start_time": "2023-08-16T09:37:17.270Z"
   },
   {
    "duration": 9,
    "start_time": "2023-08-16T09:37:50.967Z"
   },
   {
    "duration": 400,
    "start_time": "2023-08-16T09:37:58.739Z"
   },
   {
    "duration": 13,
    "start_time": "2023-08-16T09:38:55.652Z"
   },
   {
    "duration": 11,
    "start_time": "2023-08-16T09:39:21.716Z"
   },
   {
    "duration": 9,
    "start_time": "2023-08-16T09:39:27.279Z"
   },
   {
    "duration": 10,
    "start_time": "2023-08-16T09:39:31.286Z"
   },
   {
    "duration": 1203,
    "start_time": "2023-08-16T09:41:50.278Z"
   },
   {
    "duration": 835,
    "start_time": "2023-08-16T09:41:51.483Z"
   },
   {
    "duration": 17,
    "start_time": "2023-08-16T09:41:52.320Z"
   },
   {
    "duration": 128,
    "start_time": "2023-08-16T09:41:52.340Z"
   },
   {
    "duration": 955,
    "start_time": "2023-08-16T09:41:52.470Z"
   },
   {
    "duration": 1235,
    "start_time": "2023-08-16T09:41:53.427Z"
   },
   {
    "duration": 6,
    "start_time": "2023-08-16T09:41:54.664Z"
   },
   {
    "duration": 506,
    "start_time": "2023-08-16T09:41:54.672Z"
   },
   {
    "duration": 536,
    "start_time": "2023-08-16T09:41:55.181Z"
   },
   {
    "duration": 671,
    "start_time": "2023-08-16T09:41:55.720Z"
   },
   {
    "duration": 200,
    "start_time": "2023-08-16T09:41:56.393Z"
   },
   {
    "duration": 84,
    "start_time": "2023-08-16T09:41:56.595Z"
   },
   {
    "duration": 44,
    "start_time": "2023-08-16T09:41:56.681Z"
   },
   {
    "duration": 364,
    "start_time": "2023-08-16T09:41:56.727Z"
   },
   {
    "duration": 80,
    "start_time": "2023-08-16T09:41:57.093Z"
   },
   {
    "duration": 4989,
    "start_time": "2023-08-16T09:41:57.175Z"
   },
   {
    "duration": 127,
    "start_time": "2023-08-16T09:42:02.166Z"
   },
   {
    "duration": 92487,
    "start_time": "2023-08-16T09:42:02.295Z"
   },
   {
    "duration": 107,
    "start_time": "2023-08-16T09:43:34.784Z"
   },
   {
    "duration": 119,
    "start_time": "2023-08-16T09:43:34.894Z"
   },
   {
    "duration": 397,
    "start_time": "2023-08-16T09:43:35.015Z"
   },
   {
    "duration": 56,
    "start_time": "2023-08-16T09:43:35.414Z"
   },
   {
    "duration": 8,
    "start_time": "2023-08-16T09:43:35.472Z"
   },
   {
    "duration": 66,
    "start_time": "2023-08-16T09:43:35.482Z"
   },
   {
    "duration": 288,
    "start_time": "2023-08-16T09:43:35.559Z"
   },
   {
    "duration": 422,
    "start_time": "2023-08-16T09:43:35.849Z"
   },
   {
    "duration": 1204,
    "start_time": "2023-08-16T09:44:05.491Z"
   },
   {
    "duration": 873,
    "start_time": "2023-08-16T09:44:06.698Z"
   },
   {
    "duration": 19,
    "start_time": "2023-08-16T09:44:07.573Z"
   },
   {
    "duration": 123,
    "start_time": "2023-08-16T09:44:07.594Z"
   },
   {
    "duration": 972,
    "start_time": "2023-08-16T09:44:07.718Z"
   },
   {
    "duration": 1110,
    "start_time": "2023-08-16T09:44:08.692Z"
   },
   {
    "duration": 7,
    "start_time": "2023-08-16T09:44:09.805Z"
   },
   {
    "duration": 526,
    "start_time": "2023-08-16T09:44:09.813Z"
   },
   {
    "duration": 487,
    "start_time": "2023-08-16T09:44:10.341Z"
   },
   {
    "duration": 591,
    "start_time": "2023-08-16T09:44:10.831Z"
   },
   {
    "duration": 319,
    "start_time": "2023-08-16T09:44:11.423Z"
   },
   {
    "duration": 94,
    "start_time": "2023-08-16T09:44:11.744Z"
   },
   {
    "duration": 53,
    "start_time": "2023-08-16T09:44:11.840Z"
   },
   {
    "duration": 335,
    "start_time": "2023-08-16T09:44:11.894Z"
   },
   {
    "duration": 77,
    "start_time": "2023-08-16T09:44:12.231Z"
   },
   {
    "duration": 5030,
    "start_time": "2023-08-16T09:44:12.310Z"
   },
   {
    "duration": 106,
    "start_time": "2023-08-16T09:44:17.342Z"
   },
   {
    "duration": 91469,
    "start_time": "2023-08-16T09:44:17.458Z"
   },
   {
    "duration": 140,
    "start_time": "2023-08-16T09:45:48.928Z"
   },
   {
    "duration": 144,
    "start_time": "2023-08-16T09:45:49.070Z"
   },
   {
    "duration": 447,
    "start_time": "2023-08-16T09:45:49.215Z"
   },
   {
    "duration": 37,
    "start_time": "2023-08-16T09:45:49.664Z"
   },
   {
    "duration": 59,
    "start_time": "2023-08-16T09:45:49.703Z"
   },
   {
    "duration": 103,
    "start_time": "2023-08-16T09:45:49.764Z"
   },
   {
    "duration": 530,
    "start_time": "2023-08-16T09:45:49.870Z"
   },
   {
    "duration": 795,
    "start_time": "2023-08-16T09:45:50.402Z"
   },
   {
    "duration": 31,
    "start_time": "2023-08-16T09:47:30.043Z"
   },
   {
    "duration": 5,
    "start_time": "2023-08-16T09:48:02.250Z"
   },
   {
    "duration": 4,
    "start_time": "2023-08-16T09:48:09.249Z"
   },
   {
    "duration": 282,
    "start_time": "2023-08-16T09:48:27.059Z"
   },
   {
    "duration": 417,
    "start_time": "2023-08-16T09:48:30.381Z"
   },
   {
    "duration": 386,
    "start_time": "2023-08-16T09:48:37.384Z"
   },
   {
    "duration": 382,
    "start_time": "2023-08-16T09:48:41.159Z"
   },
   {
    "duration": 400,
    "start_time": "2023-08-16T09:48:57.959Z"
   },
   {
    "duration": 396,
    "start_time": "2023-08-16T09:53:55.423Z"
   },
   {
    "duration": 502,
    "start_time": "2023-08-16T09:54:14.413Z"
   },
   {
    "duration": 14,
    "start_time": "2023-08-16T09:54:47.365Z"
   },
   {
    "duration": 4,
    "start_time": "2023-08-16T09:55:51.784Z"
   },
   {
    "duration": 275,
    "start_time": "2023-08-16T09:57:00.987Z"
   },
   {
    "duration": 266,
    "start_time": "2023-08-16T09:57:29.235Z"
   },
   {
    "duration": 377,
    "start_time": "2023-08-16T09:57:44.038Z"
   },
   {
    "duration": 259,
    "start_time": "2023-08-16T09:57:59.458Z"
   },
   {
    "duration": 230,
    "start_time": "2023-08-16T09:59:16.103Z"
   },
   {
    "duration": 355,
    "start_time": "2023-08-16T09:59:22.239Z"
   },
   {
    "duration": 12,
    "start_time": "2023-08-16T10:00:11.331Z"
   },
   {
    "duration": 244,
    "start_time": "2023-08-16T10:00:22.241Z"
   },
   {
    "duration": 343,
    "start_time": "2023-08-16T10:00:34.054Z"
   },
   {
    "duration": 249,
    "start_time": "2023-08-16T10:00:39.322Z"
   },
   {
    "duration": 258,
    "start_time": "2023-08-16T10:02:37.732Z"
   },
   {
    "duration": 8,
    "start_time": "2023-08-16T10:05:26.891Z"
   },
   {
    "duration": 37,
    "start_time": "2023-08-16T10:06:19.030Z"
   },
   {
    "duration": 44,
    "start_time": "2023-08-16T10:08:02.799Z"
   },
   {
    "duration": 35,
    "start_time": "2023-08-16T10:08:25.690Z"
   },
   {
    "duration": 31,
    "start_time": "2023-08-16T10:08:30.444Z"
   },
   {
    "duration": 4,
    "start_time": "2023-08-16T10:09:59.939Z"
   },
   {
    "duration": 31,
    "start_time": "2023-08-16T10:31:43.843Z"
   },
   {
    "duration": 5,
    "start_time": "2023-08-16T10:31:51.583Z"
   },
   {
    "duration": 367,
    "start_time": "2023-08-16T10:36:43.714Z"
   },
   {
    "duration": 517,
    "start_time": "2023-08-16T10:36:52.693Z"
   },
   {
    "duration": 309,
    "start_time": "2023-08-16T10:37:41.922Z"
   },
   {
    "duration": 321,
    "start_time": "2023-08-16T10:37:55.764Z"
   },
   {
    "duration": 311,
    "start_time": "2023-08-16T10:38:00.360Z"
   },
   {
    "duration": 292,
    "start_time": "2023-08-16T10:39:41.116Z"
   },
   {
    "duration": 27,
    "start_time": "2023-08-16T10:40:38.261Z"
   },
   {
    "duration": 36,
    "start_time": "2023-08-16T10:42:05.937Z"
   },
   {
    "duration": 282,
    "start_time": "2023-08-16T10:42:40.316Z"
   },
   {
    "duration": 24,
    "start_time": "2023-08-16T10:43:13.656Z"
   },
   {
    "duration": 267,
    "start_time": "2023-08-16T10:43:51.320Z"
   },
   {
    "duration": 269,
    "start_time": "2023-08-16T10:43:57.080Z"
   },
   {
    "duration": 371,
    "start_time": "2023-08-16T10:44:07.992Z"
   },
   {
    "duration": 28,
    "start_time": "2023-08-16T10:44:18.510Z"
   },
   {
    "duration": 31,
    "start_time": "2023-08-16T10:46:56.476Z"
   },
   {
    "duration": 303,
    "start_time": "2023-08-16T10:47:07.545Z"
   },
   {
    "duration": 298,
    "start_time": "2023-08-16T10:47:24.433Z"
   },
   {
    "duration": 302,
    "start_time": "2023-08-16T10:47:32.342Z"
   },
   {
    "duration": 360,
    "start_time": "2023-08-16T10:48:24.011Z"
   },
   {
    "duration": 1467,
    "start_time": "2023-08-24T09:01:13.888Z"
   },
   {
    "duration": 1127,
    "start_time": "2023-08-24T09:01:15.357Z"
   },
   {
    "duration": 16,
    "start_time": "2023-08-24T09:01:16.486Z"
   },
   {
    "duration": 151,
    "start_time": "2023-08-24T09:01:16.504Z"
   },
   {
    "duration": 876,
    "start_time": "2023-08-24T09:01:16.656Z"
   },
   {
    "duration": 1014,
    "start_time": "2023-08-24T09:01:17.533Z"
   },
   {
    "duration": 5,
    "start_time": "2023-08-24T09:01:18.548Z"
   },
   {
    "duration": 468,
    "start_time": "2023-08-24T09:01:18.554Z"
   },
   {
    "duration": 420,
    "start_time": "2023-08-24T09:01:19.024Z"
   },
   {
    "duration": 502,
    "start_time": "2023-08-24T09:01:19.447Z"
   },
   {
    "duration": 189,
    "start_time": "2023-08-24T09:01:19.951Z"
   },
   {
    "duration": 83,
    "start_time": "2023-08-24T09:01:20.141Z"
   },
   {
    "duration": 72,
    "start_time": "2023-08-24T09:01:20.226Z"
   },
   {
    "duration": 435,
    "start_time": "2023-08-24T09:01:20.299Z"
   },
   {
    "duration": 90,
    "start_time": "2023-08-24T09:01:20.736Z"
   },
   {
    "duration": 4685,
    "start_time": "2023-08-24T09:01:20.828Z"
   },
   {
    "duration": 111,
    "start_time": "2023-08-24T09:01:25.515Z"
   },
   {
    "duration": 93808,
    "start_time": "2023-08-24T09:01:25.628Z"
   },
   {
    "duration": 109,
    "start_time": "2023-08-24T09:02:59.437Z"
   },
   {
    "duration": 101,
    "start_time": "2023-08-24T09:02:59.548Z"
   },
   {
    "duration": 250,
    "start_time": "2023-08-24T09:02:59.651Z"
   },
   {
    "duration": 42,
    "start_time": "2023-08-24T09:02:59.903Z"
   },
   {
    "duration": 6,
    "start_time": "2023-08-24T09:02:59.946Z"
   },
   {
    "duration": 39,
    "start_time": "2023-08-24T09:02:59.954Z"
   },
   {
    "duration": 266,
    "start_time": "2023-08-24T09:02:59.995Z"
   },
   {
    "duration": 31,
    "start_time": "2023-08-24T09:03:00.263Z"
   },
   {
    "duration": 290,
    "start_time": "2023-08-24T09:03:00.297Z"
   },
   {
    "duration": 34,
    "start_time": "2023-08-24T09:03:00.591Z"
   },
   {
    "duration": 279,
    "start_time": "2023-08-24T09:03:00.627Z"
   },
   {
    "duration": 325,
    "start_time": "2023-08-24T09:03:00.908Z"
   },
   {
    "duration": 9,
    "start_time": "2023-08-24T09:03:01.235Z"
   },
   {
    "duration": 139,
    "start_time": "2023-08-24T09:03:01.246Z"
   },
   {
    "duration": 4,
    "start_time": "2023-08-24T09:12:40.648Z"
   },
   {
    "duration": 27,
    "start_time": "2023-08-24T09:14:04.054Z"
   },
   {
    "duration": 1062,
    "start_time": "2023-08-24T09:19:09.253Z"
   },
   {
    "duration": 819,
    "start_time": "2023-08-24T09:19:10.317Z"
   },
   {
    "duration": 17,
    "start_time": "2023-08-24T09:19:11.138Z"
   },
   {
    "duration": 158,
    "start_time": "2023-08-24T09:19:11.157Z"
   },
   {
    "duration": 857,
    "start_time": "2023-08-24T09:19:11.318Z"
   },
   {
    "duration": 1041,
    "start_time": "2023-08-24T09:19:12.177Z"
   },
   {
    "duration": 5,
    "start_time": "2023-08-24T09:19:13.223Z"
   },
   {
    "duration": 437,
    "start_time": "2023-08-24T09:19:13.230Z"
   },
   {
    "duration": 461,
    "start_time": "2023-08-24T09:19:13.669Z"
   },
   {
    "duration": 492,
    "start_time": "2023-08-24T09:19:14.132Z"
   },
   {
    "duration": 200,
    "start_time": "2023-08-24T09:19:14.626Z"
   },
   {
    "duration": 102,
    "start_time": "2023-08-24T09:19:14.828Z"
   },
   {
    "duration": 69,
    "start_time": "2023-08-24T09:19:14.932Z"
   },
   {
    "duration": 427,
    "start_time": "2023-08-24T09:19:15.003Z"
   },
   {
    "duration": 94,
    "start_time": "2023-08-24T09:19:15.431Z"
   },
   {
    "duration": 4814,
    "start_time": "2023-08-24T09:19:15.526Z"
   },
   {
    "duration": 123,
    "start_time": "2023-08-24T09:19:20.346Z"
   },
   {
    "duration": 95927,
    "start_time": "2023-08-24T09:19:20.471Z"
   },
   {
    "duration": 108,
    "start_time": "2023-08-24T09:20:56.400Z"
   },
   {
    "duration": 101,
    "start_time": "2023-08-24T09:20:56.510Z"
   },
   {
    "duration": 350,
    "start_time": "2023-08-24T09:20:56.625Z"
   },
   {
    "duration": 46,
    "start_time": "2023-08-24T09:20:56.977Z"
   },
   {
    "duration": 1081,
    "start_time": "2023-08-24T09:27:13.262Z"
   },
   {
    "duration": 760,
    "start_time": "2023-08-24T09:27:14.345Z"
   },
   {
    "duration": 19,
    "start_time": "2023-08-24T09:27:15.106Z"
   },
   {
    "duration": 163,
    "start_time": "2023-08-24T09:27:15.126Z"
   },
   {
    "duration": 902,
    "start_time": "2023-08-24T09:27:15.291Z"
   },
   {
    "duration": 996,
    "start_time": "2023-08-24T09:27:16.195Z"
   },
   {
    "duration": 5,
    "start_time": "2023-08-24T09:27:17.193Z"
   },
   {
    "duration": 413,
    "start_time": "2023-08-24T09:27:17.199Z"
   },
   {
    "duration": 403,
    "start_time": "2023-08-24T09:27:17.614Z"
   },
   {
    "duration": 474,
    "start_time": "2023-08-24T09:27:18.019Z"
   },
   {
    "duration": 178,
    "start_time": "2023-08-24T09:27:18.495Z"
   },
   {
    "duration": 81,
    "start_time": "2023-08-24T09:27:18.675Z"
   },
   {
    "duration": 45,
    "start_time": "2023-08-24T09:27:18.758Z"
   },
   {
    "duration": 301,
    "start_time": "2023-08-24T09:27:18.807Z"
   },
   {
    "duration": 86,
    "start_time": "2023-08-24T09:27:19.110Z"
   },
   {
    "duration": 4330,
    "start_time": "2023-08-24T09:27:19.198Z"
   },
   {
    "duration": 111,
    "start_time": "2023-08-24T09:27:23.530Z"
   },
   {
    "duration": 90465,
    "start_time": "2023-08-24T09:27:23.643Z"
   },
   {
    "duration": 104,
    "start_time": "2023-08-24T09:28:54.110Z"
   },
   {
    "duration": 91,
    "start_time": "2023-08-24T09:28:54.215Z"
   },
   {
    "duration": 320,
    "start_time": "2023-08-24T09:28:54.307Z"
   },
   {
    "duration": 4,
    "start_time": "2023-08-24T09:31:34.337Z"
   },
   {
    "duration": 140,
    "start_time": "2023-08-24T09:31:38.484Z"
   },
   {
    "duration": 28,
    "start_time": "2023-08-24T09:31:48.973Z"
   },
   {
    "duration": 243,
    "start_time": "2023-08-24T09:32:08.476Z"
   },
   {
    "duration": 133,
    "start_time": "2023-08-24T09:34:27.466Z"
   },
   {
    "duration": 28,
    "start_time": "2023-08-24T09:34:33.019Z"
   },
   {
    "duration": 10,
    "start_time": "2023-08-24T09:34:49.986Z"
   },
   {
    "duration": 349,
    "start_time": "2023-08-24T09:40:28.075Z"
   },
   {
    "duration": 243,
    "start_time": "2023-08-24T09:40:39.356Z"
   },
   {
    "duration": 26,
    "start_time": "2023-08-24T10:05:07.895Z"
   },
   {
    "duration": 17,
    "start_time": "2023-08-24T10:05:54.822Z"
   },
   {
    "duration": 46,
    "start_time": "2023-08-24T10:07:03.495Z"
   },
   {
    "duration": 230,
    "start_time": "2023-08-24T10:07:14.301Z"
   },
   {
    "duration": 32,
    "start_time": "2023-08-24T10:07:18.241Z"
   },
   {
    "duration": 1083,
    "start_time": "2023-08-24T10:10:38.250Z"
   },
   {
    "duration": 823,
    "start_time": "2023-08-24T10:10:39.335Z"
   },
   {
    "duration": 16,
    "start_time": "2023-08-24T10:10:40.159Z"
   },
   {
    "duration": 141,
    "start_time": "2023-08-24T10:10:40.177Z"
   },
   {
    "duration": 917,
    "start_time": "2023-08-24T10:10:40.321Z"
   },
   {
    "duration": 1019,
    "start_time": "2023-08-24T10:10:41.240Z"
   },
   {
    "duration": 8,
    "start_time": "2023-08-24T10:10:42.260Z"
   },
   {
    "duration": 458,
    "start_time": "2023-08-24T10:10:42.270Z"
   },
   {
    "duration": 446,
    "start_time": "2023-08-24T10:10:42.729Z"
   },
   {
    "duration": 514,
    "start_time": "2023-08-24T10:10:43.177Z"
   },
   {
    "duration": 186,
    "start_time": "2023-08-24T10:10:43.693Z"
   },
   {
    "duration": 81,
    "start_time": "2023-08-24T10:10:43.881Z"
   },
   {
    "duration": 44,
    "start_time": "2023-08-24T10:10:43.964Z"
   },
   {
    "duration": 314,
    "start_time": "2023-08-24T10:10:44.024Z"
   },
   {
    "duration": 92,
    "start_time": "2023-08-24T10:10:44.340Z"
   },
   {
    "duration": 4685,
    "start_time": "2023-08-24T10:10:44.434Z"
   },
   {
    "duration": 113,
    "start_time": "2023-08-24T10:10:49.123Z"
   },
   {
    "duration": 92640,
    "start_time": "2023-08-24T10:10:49.238Z"
   },
   {
    "duration": 111,
    "start_time": "2023-08-24T10:12:21.880Z"
   },
   {
    "duration": 94,
    "start_time": "2023-08-24T10:12:21.992Z"
   },
   {
    "duration": 6,
    "start_time": "2023-08-24T10:27:58.863Z"
   },
   {
    "duration": 385,
    "start_time": "2023-08-24T10:28:12.588Z"
   },
   {
    "duration": 234,
    "start_time": "2023-08-24T10:28:22.914Z"
   },
   {
    "duration": 39,
    "start_time": "2023-08-24T10:30:37.120Z"
   },
   {
    "duration": 237,
    "start_time": "2023-08-24T10:30:41.032Z"
   },
   {
    "duration": 264,
    "start_time": "2023-08-24T10:30:48.156Z"
   },
   {
    "duration": 29,
    "start_time": "2023-08-24T10:31:00.219Z"
   },
   {
    "duration": 239,
    "start_time": "2023-08-24T10:31:10.834Z"
   },
   {
    "duration": 36,
    "start_time": "2023-08-24T10:31:23.517Z"
   },
   {
    "duration": 110,
    "start_time": "2023-08-24T10:31:34.376Z"
   },
   {
    "duration": 109,
    "start_time": "2023-08-24T10:31:46.185Z"
   },
   {
    "duration": 19,
    "start_time": "2023-08-24T10:31:59.976Z"
   },
   {
    "duration": 18,
    "start_time": "2023-08-24T10:32:32.217Z"
   },
   {
    "duration": 12,
    "start_time": "2023-08-24T10:32:41.316Z"
   },
   {
    "duration": 296,
    "start_time": "2023-08-24T10:35:36.236Z"
   },
   {
    "duration": 260,
    "start_time": "2023-08-24T10:36:23.773Z"
   },
   {
    "duration": 50,
    "start_time": "2023-08-24T10:36:35.109Z"
   },
   {
    "duration": 212,
    "start_time": "2023-08-24T10:37:00.637Z"
   },
   {
    "duration": 356,
    "start_time": "2023-08-24T10:37:03.604Z"
   },
   {
    "duration": 41,
    "start_time": "2023-08-24T10:37:08.877Z"
   },
   {
    "duration": 244,
    "start_time": "2023-08-24T10:37:15.104Z"
   },
   {
    "duration": 597,
    "start_time": "2023-08-24T10:37:43.146Z"
   },
   {
    "duration": 5,
    "start_time": "2023-08-24T10:43:39.705Z"
   },
   {
    "duration": 4,
    "start_time": "2023-08-24T10:45:46.805Z"
   },
   {
    "duration": 273455,
    "start_time": "2023-08-24T10:46:12.546Z"
   },
   {
    "duration": 4,
    "start_time": "2023-08-24T10:51:35.091Z"
   },
   {
    "duration": 21,
    "start_time": "2023-08-24T10:51:39.058Z"
   },
   {
    "duration": 5,
    "start_time": "2023-08-24T10:54:04.466Z"
   },
   {
    "duration": 1115,
    "start_time": "2023-08-24T10:54:17.217Z"
   },
   {
    "duration": 811,
    "start_time": "2023-08-24T10:54:18.335Z"
   },
   {
    "duration": 15,
    "start_time": "2023-08-24T10:54:19.148Z"
   },
   {
    "duration": 145,
    "start_time": "2023-08-24T10:54:19.165Z"
   },
   {
    "duration": 895,
    "start_time": "2023-08-24T10:54:19.312Z"
   },
   {
    "duration": 1064,
    "start_time": "2023-08-24T10:54:20.209Z"
   },
   {
    "duration": 6,
    "start_time": "2023-08-24T10:54:21.275Z"
   },
   {
    "duration": 490,
    "start_time": "2023-08-24T10:54:21.282Z"
   },
   {
    "duration": 459,
    "start_time": "2023-08-24T10:54:21.775Z"
   },
   {
    "duration": 534,
    "start_time": "2023-08-24T10:54:22.238Z"
   },
   {
    "duration": 196,
    "start_time": "2023-08-24T10:54:22.774Z"
   },
   {
    "duration": 89,
    "start_time": "2023-08-24T10:54:22.973Z"
   },
   {
    "duration": 46,
    "start_time": "2023-08-24T10:54:23.063Z"
   },
   {
    "duration": 352,
    "start_time": "2023-08-24T10:54:23.124Z"
   },
   {
    "duration": 94,
    "start_time": "2023-08-24T10:54:23.478Z"
   },
   {
    "duration": 4978,
    "start_time": "2023-08-24T10:54:23.573Z"
   },
   {
    "duration": 117,
    "start_time": "2023-08-24T10:54:28.553Z"
   },
   {
    "duration": 100616,
    "start_time": "2023-08-24T10:54:28.672Z"
   },
   {
    "duration": 110,
    "start_time": "2023-08-24T10:56:09.289Z"
   },
   {
    "duration": 100,
    "start_time": "2023-08-24T10:56:09.401Z"
   },
   {
    "duration": 6,
    "start_time": "2023-08-24T10:56:09.502Z"
   },
   {
    "duration": 53,
    "start_time": "2023-08-24T10:56:09.524Z"
   },
   {
    "duration": 369,
    "start_time": "2023-08-24T10:56:09.579Z"
   },
   {
    "duration": 31,
    "start_time": "2023-08-24T10:56:09.949Z"
   },
   {
    "duration": 373,
    "start_time": "2023-08-24T10:56:09.982Z"
   },
   {
    "duration": 90,
    "start_time": "2023-08-24T10:56:10.357Z"
   },
   {
    "duration": 6,
    "start_time": "2023-08-24T10:56:10.449Z"
   },
   {
    "duration": 272,
    "start_time": "2023-08-24T10:56:10.460Z"
   },
   {
    "duration": 6,
    "start_time": "2023-08-24T10:57:10.757Z"
   },
   {
    "duration": 87,
    "start_time": "2023-08-24T10:57:13.729Z"
   },
   {
    "duration": 9,
    "start_time": "2023-08-24T10:57:46.376Z"
   },
   {
    "duration": 10,
    "start_time": "2023-08-24T10:57:57.289Z"
   },
   {
    "duration": 9,
    "start_time": "2023-08-24T10:58:01.674Z"
   },
   {
    "duration": 111,
    "start_time": "2023-08-24T10:58:06.758Z"
   },
   {
    "duration": 34,
    "start_time": "2023-08-24T10:58:27.277Z"
   },
   {
    "duration": 5,
    "start_time": "2023-08-24T10:58:46.874Z"
   },
   {
    "duration": 141600,
    "start_time": "2023-08-24T10:58:48.826Z"
   },
   {
    "duration": 6,
    "start_time": "2023-08-24T11:03:27.130Z"
   },
   {
    "duration": 136513,
    "start_time": "2023-08-24T11:03:28.500Z"
   },
   {
    "duration": 1215,
    "start_time": "2023-08-24T11:07:02.617Z"
   },
   {
    "duration": 804,
    "start_time": "2023-08-24T11:07:03.833Z"
   },
   {
    "duration": 16,
    "start_time": "2023-08-24T11:07:04.639Z"
   },
   {
    "duration": 141,
    "start_time": "2023-08-24T11:07:04.657Z"
   },
   {
    "duration": 884,
    "start_time": "2023-08-24T11:07:04.800Z"
   },
   {
    "duration": 1054,
    "start_time": "2023-08-24T11:07:05.686Z"
   },
   {
    "duration": 5,
    "start_time": "2023-08-24T11:07:06.741Z"
   },
   {
    "duration": 448,
    "start_time": "2023-08-24T11:07:06.748Z"
   },
   {
    "duration": 441,
    "start_time": "2023-08-24T11:07:07.198Z"
   },
   {
    "duration": 505,
    "start_time": "2023-08-24T11:07:07.641Z"
   },
   {
    "duration": 196,
    "start_time": "2023-08-24T11:07:08.147Z"
   },
   {
    "duration": 79,
    "start_time": "2023-08-24T11:07:08.345Z"
   },
   {
    "duration": 43,
    "start_time": "2023-08-24T11:07:08.426Z"
   },
   {
    "duration": 348,
    "start_time": "2023-08-24T11:07:08.472Z"
   },
   {
    "duration": 102,
    "start_time": "2023-08-24T11:07:08.823Z"
   },
   {
    "duration": 4642,
    "start_time": "2023-08-24T11:07:08.926Z"
   },
   {
    "duration": 106,
    "start_time": "2023-08-24T11:07:13.570Z"
   },
   {
    "duration": 98251,
    "start_time": "2023-08-24T11:07:13.678Z"
   },
   {
    "duration": 123,
    "start_time": "2023-08-24T11:08:51.931Z"
   },
   {
    "duration": 102,
    "start_time": "2023-08-24T11:08:52.055Z"
   },
   {
    "duration": 6,
    "start_time": "2023-08-24T11:08:52.158Z"
   },
   {
    "duration": 67,
    "start_time": "2023-08-24T11:08:52.166Z"
   },
   {
    "duration": 394,
    "start_time": "2023-08-24T11:08:52.235Z"
   },
   {
    "duration": 29,
    "start_time": "2023-08-24T11:08:52.631Z"
   },
   {
    "duration": 273,
    "start_time": "2023-08-24T11:08:52.662Z"
   },
   {
    "duration": 32,
    "start_time": "2023-08-24T11:08:52.937Z"
   },
   {
    "duration": 5,
    "start_time": "2023-08-24T11:08:57.929Z"
   },
   {
    "duration": 277417,
    "start_time": "2023-08-24T11:09:01.220Z"
   },
   {
    "duration": 5,
    "start_time": "2023-08-24T11:13:42.685Z"
   },
   {
    "duration": 23,
    "start_time": "2023-08-24T11:13:48.806Z"
   },
   {
    "duration": 1219,
    "start_time": "2023-08-24T11:14:00.508Z"
   },
   {
    "duration": 863,
    "start_time": "2023-08-24T11:14:01.729Z"
   },
   {
    "duration": 17,
    "start_time": "2023-08-24T11:14:02.595Z"
   },
   {
    "duration": 184,
    "start_time": "2023-08-24T11:14:02.614Z"
   },
   {
    "duration": 967,
    "start_time": "2023-08-24T11:14:02.801Z"
   },
   {
    "duration": 1007,
    "start_time": "2023-08-24T11:14:03.769Z"
   },
   {
    "duration": 4,
    "start_time": "2023-08-24T11:14:04.778Z"
   },
   {
    "duration": 493,
    "start_time": "2023-08-24T11:14:04.784Z"
   },
   {
    "duration": 449,
    "start_time": "2023-08-24T11:14:05.279Z"
   },
   {
    "duration": 583,
    "start_time": "2023-08-24T11:14:05.730Z"
   },
   {
    "duration": 198,
    "start_time": "2023-08-24T11:14:06.314Z"
   },
   {
    "duration": 76,
    "start_time": "2023-08-24T11:14:06.514Z"
   },
   {
    "duration": 57,
    "start_time": "2023-08-24T11:14:06.592Z"
   },
   {
    "duration": 333,
    "start_time": "2023-08-24T11:14:06.652Z"
   },
   {
    "duration": 86,
    "start_time": "2023-08-24T11:14:06.986Z"
   },
   {
    "duration": 4593,
    "start_time": "2023-08-24T11:14:07.074Z"
   },
   {
    "duration": 113,
    "start_time": "2023-08-24T11:14:11.669Z"
   },
   {
    "duration": 98088,
    "start_time": "2023-08-24T11:14:11.784Z"
   },
   {
    "duration": 114,
    "start_time": "2023-08-24T11:15:49.874Z"
   },
   {
    "duration": 100,
    "start_time": "2023-08-24T11:15:49.989Z"
   },
   {
    "duration": 6,
    "start_time": "2023-08-24T11:15:50.090Z"
   },
   {
    "duration": 56,
    "start_time": "2023-08-24T11:15:50.098Z"
   },
   {
    "duration": 353,
    "start_time": "2023-08-24T11:15:50.156Z"
   },
   {
    "duration": 36,
    "start_time": "2023-08-24T11:15:50.510Z"
   },
   {
    "duration": 241,
    "start_time": "2023-08-24T11:15:50.548Z"
   },
   {
    "duration": 38,
    "start_time": "2023-08-24T11:15:50.791Z"
   },
   {
    "duration": 9,
    "start_time": "2023-08-24T11:15:59.147Z"
   },
   {
    "duration": 170553,
    "start_time": "2023-08-24T11:16:00.640Z"
   },
   {
    "duration": 232,
    "start_time": "2023-08-24T11:19:21.804Z"
   },
   {
    "duration": 6,
    "start_time": "2023-08-24T11:23:47.590Z"
   },
   {
    "duration": 1212,
    "start_time": "2023-08-24T11:24:34.422Z"
   },
   {
    "duration": 954,
    "start_time": "2023-08-24T11:24:35.637Z"
   },
   {
    "duration": 17,
    "start_time": "2023-08-24T11:24:36.593Z"
   },
   {
    "duration": 140,
    "start_time": "2023-08-24T11:24:36.612Z"
   },
   {
    "duration": 894,
    "start_time": "2023-08-24T11:24:36.754Z"
   },
   {
    "duration": 1038,
    "start_time": "2023-08-24T11:24:37.650Z"
   },
   {
    "duration": 5,
    "start_time": "2023-08-24T11:24:38.690Z"
   },
   {
    "duration": 452,
    "start_time": "2023-08-24T11:24:38.696Z"
   },
   {
    "duration": 427,
    "start_time": "2023-08-24T11:24:39.149Z"
   },
   {
    "duration": 515,
    "start_time": "2023-08-24T11:24:39.578Z"
   },
   {
    "duration": 187,
    "start_time": "2023-08-24T11:24:40.094Z"
   },
   {
    "duration": 93,
    "start_time": "2023-08-24T11:24:40.283Z"
   },
   {
    "duration": 60,
    "start_time": "2023-08-24T11:24:40.378Z"
   },
   {
    "duration": 315,
    "start_time": "2023-08-24T11:24:40.439Z"
   },
   {
    "duration": 86,
    "start_time": "2023-08-24T11:24:40.756Z"
   },
   {
    "duration": 4510,
    "start_time": "2023-08-24T11:24:40.844Z"
   },
   {
    "duration": 113,
    "start_time": "2023-08-24T11:24:45.356Z"
   },
   {
    "duration": 92355,
    "start_time": "2023-08-24T11:24:45.471Z"
   },
   {
    "duration": 114,
    "start_time": "2023-08-24T11:26:17.828Z"
   },
   {
    "duration": 100,
    "start_time": "2023-08-24T11:26:17.943Z"
   },
   {
    "duration": 6,
    "start_time": "2023-08-24T11:26:18.044Z"
   },
   {
    "duration": 63,
    "start_time": "2023-08-24T11:26:18.052Z"
   },
   {
    "duration": 373,
    "start_time": "2023-08-24T11:26:18.117Z"
   },
   {
    "duration": 35,
    "start_time": "2023-08-24T11:26:18.491Z"
   },
   {
    "duration": 293,
    "start_time": "2023-08-24T11:26:18.527Z"
   },
   {
    "duration": 32,
    "start_time": "2023-08-24T11:26:18.824Z"
   },
   {
    "duration": 22,
    "start_time": "2023-08-24T11:26:18.858Z"
   },
   {
    "duration": 153936,
    "start_time": "2023-08-24T11:26:18.883Z"
   },
   {
    "duration": 1244,
    "start_time": "2023-08-24T11:30:14.664Z"
   },
   {
    "duration": 905,
    "start_time": "2023-08-24T11:30:15.910Z"
   },
   {
    "duration": 29,
    "start_time": "2023-08-24T11:30:16.817Z"
   },
   {
    "duration": 223,
    "start_time": "2023-08-24T11:30:16.849Z"
   },
   {
    "duration": 945,
    "start_time": "2023-08-24T11:30:17.075Z"
   },
   {
    "duration": 1027,
    "start_time": "2023-08-24T11:30:18.025Z"
   },
   {
    "duration": 5,
    "start_time": "2023-08-24T11:30:19.054Z"
   },
   {
    "duration": 469,
    "start_time": "2023-08-24T11:30:19.061Z"
   },
   {
    "duration": 445,
    "start_time": "2023-08-24T11:30:19.533Z"
   },
   {
    "duration": 553,
    "start_time": "2023-08-24T11:30:19.980Z"
   },
   {
    "duration": 200,
    "start_time": "2023-08-24T11:30:20.534Z"
   },
   {
    "duration": 71,
    "start_time": "2023-08-24T11:30:20.741Z"
   },
   {
    "duration": 63,
    "start_time": "2023-08-24T11:30:20.813Z"
   },
   {
    "duration": 341,
    "start_time": "2023-08-24T11:30:20.879Z"
   },
   {
    "duration": 89,
    "start_time": "2023-08-24T11:30:21.224Z"
   },
   {
    "duration": 4843,
    "start_time": "2023-08-24T11:30:21.326Z"
   },
   {
    "duration": 146,
    "start_time": "2023-08-24T11:30:26.171Z"
   },
   {
    "duration": 102141,
    "start_time": "2023-08-24T11:30:26.319Z"
   },
   {
    "duration": 119,
    "start_time": "2023-08-24T11:32:08.461Z"
   },
   {
    "duration": 100,
    "start_time": "2023-08-24T11:32:08.581Z"
   },
   {
    "duration": 5,
    "start_time": "2023-08-24T11:32:08.683Z"
   },
   {
    "duration": 57,
    "start_time": "2023-08-24T11:32:08.690Z"
   },
   {
    "duration": 353,
    "start_time": "2023-08-24T11:32:08.749Z"
   },
   {
    "duration": 48,
    "start_time": "2023-08-24T11:32:09.104Z"
   },
   {
    "duration": 236,
    "start_time": "2023-08-24T11:32:09.154Z"
   },
   {
    "duration": 48,
    "start_time": "2023-08-24T11:32:09.391Z"
   },
   {
    "duration": 6,
    "start_time": "2023-08-24T11:32:09.441Z"
   },
   {
    "duration": 245040,
    "start_time": "2023-08-24T11:32:09.449Z"
   },
   {
    "duration": 250,
    "start_time": "2023-08-24T11:37:20.240Z"
   },
   {
    "duration": 254,
    "start_time": "2023-08-24T11:38:37.713Z"
   },
   {
    "duration": 248,
    "start_time": "2023-08-24T11:38:47.930Z"
   },
   {
    "duration": 356,
    "start_time": "2023-08-24T11:38:57.300Z"
   },
   {
    "duration": 364,
    "start_time": "2023-08-24T11:39:20.769Z"
   },
   {
    "duration": 30,
    "start_time": "2023-08-24T11:40:00.765Z"
   },
   {
    "duration": 337,
    "start_time": "2023-08-24T11:40:23.969Z"
   },
   {
    "duration": 276,
    "start_time": "2023-08-24T11:44:30.724Z"
   },
   {
    "duration": 251,
    "start_time": "2023-08-24T11:44:41.003Z"
   },
   {
    "duration": 340,
    "start_time": "2023-08-24T11:44:51.710Z"
   },
   {
    "duration": 368,
    "start_time": "2023-08-24T11:44:59.012Z"
   },
   {
    "duration": 269,
    "start_time": "2023-08-24T11:45:39.249Z"
   },
   {
    "duration": 388,
    "start_time": "2023-08-24T11:45:55.900Z"
   },
   {
    "duration": 249,
    "start_time": "2023-08-24T11:46:06.325Z"
   },
   {
    "duration": 1278,
    "start_time": "2023-08-24T11:47:22.996Z"
   },
   {
    "duration": 896,
    "start_time": "2023-08-24T11:47:24.276Z"
   },
   {
    "duration": 16,
    "start_time": "2023-08-24T11:47:25.174Z"
   },
   {
    "duration": 179,
    "start_time": "2023-08-24T11:47:25.191Z"
   },
   {
    "duration": 1001,
    "start_time": "2023-08-24T11:47:25.372Z"
   },
   {
    "duration": 1113,
    "start_time": "2023-08-24T11:47:26.375Z"
   },
   {
    "duration": 5,
    "start_time": "2023-08-24T11:47:27.490Z"
   },
   {
    "duration": 470,
    "start_time": "2023-08-24T11:47:27.497Z"
   },
   {
    "duration": 454,
    "start_time": "2023-08-24T11:47:27.968Z"
   },
   {
    "duration": 568,
    "start_time": "2023-08-24T11:47:28.425Z"
   },
   {
    "duration": 204,
    "start_time": "2023-08-24T11:47:28.995Z"
   },
   {
    "duration": 81,
    "start_time": "2023-08-24T11:47:29.200Z"
   },
   {
    "duration": 62,
    "start_time": "2023-08-24T11:47:29.283Z"
   },
   {
    "duration": 320,
    "start_time": "2023-08-24T11:47:29.348Z"
   },
   {
    "duration": 92,
    "start_time": "2023-08-24T11:47:29.670Z"
   },
   {
    "duration": 5156,
    "start_time": "2023-08-24T11:47:29.763Z"
   },
   {
    "duration": 138,
    "start_time": "2023-08-24T11:47:34.924Z"
   },
   {
    "duration": 102304,
    "start_time": "2023-08-24T11:47:35.064Z"
   },
   {
    "duration": 114,
    "start_time": "2023-08-24T11:49:17.369Z"
   },
   {
    "duration": 98,
    "start_time": "2023-08-24T11:49:17.485Z"
   },
   {
    "duration": 6,
    "start_time": "2023-08-24T11:49:17.585Z"
   },
   {
    "duration": 111,
    "start_time": "2023-08-24T11:49:17.592Z"
   },
   {
    "duration": 345,
    "start_time": "2023-08-24T11:49:17.705Z"
   },
   {
    "duration": 145,
    "start_time": "2023-08-24T11:49:53.653Z"
   },
   {
    "duration": 1471,
    "start_time": "2023-08-24T11:49:59.433Z"
   },
   {
    "duration": 268,
    "start_time": "2023-08-24T11:50:05.298Z"
   },
   {
    "duration": 205,
    "start_time": "2023-08-24T11:50:17.594Z"
   },
   {
    "duration": 159,
    "start_time": "2023-08-24T11:50:29.454Z"
   },
   {
    "duration": 221,
    "start_time": "2023-08-24T11:50:35.522Z"
   },
   {
    "duration": 181,
    "start_time": "2023-08-24T11:50:39.860Z"
   },
   {
    "duration": 217,
    "start_time": "2023-08-24T11:51:12.421Z"
   },
   {
    "duration": 417,
    "start_time": "2023-08-24T11:51:19.093Z"
   },
   {
    "duration": 26,
    "start_time": "2023-08-24T11:51:42.638Z"
   },
   {
    "duration": 237,
    "start_time": "2023-08-24T11:51:45.338Z"
   },
   {
    "duration": 249,
    "start_time": "2023-08-24T11:51:51.855Z"
   },
   {
    "duration": 341,
    "start_time": "2023-08-24T11:52:02.852Z"
   },
   {
    "duration": 259,
    "start_time": "2023-08-24T11:52:14.813Z"
   },
   {
    "duration": 250,
    "start_time": "2023-08-24T11:52:22.420Z"
   },
   {
    "duration": 31,
    "start_time": "2023-08-24T11:52:26.070Z"
   },
   {
    "duration": 111,
    "start_time": "2023-08-24T11:52:34.935Z"
   },
   {
    "duration": 240702,
    "start_time": "2023-08-24T11:52:35.990Z"
   },
   {
    "duration": 276,
    "start_time": "2023-08-24T11:56:50.509Z"
   },
   {
    "duration": 40,
    "start_time": "2023-08-24T11:57:03.913Z"
   },
   {
    "duration": 248,
    "start_time": "2023-08-24T11:57:07.623Z"
   },
   {
    "duration": 256,
    "start_time": "2023-08-24T11:57:18.016Z"
   },
   {
    "duration": 271,
    "start_time": "2023-08-24T11:57:28.706Z"
   },
   {
    "duration": 370,
    "start_time": "2023-08-24T11:57:38.714Z"
   },
   {
    "duration": 233,
    "start_time": "2023-08-24T11:58:04.555Z"
   },
   {
    "duration": 348,
    "start_time": "2023-08-24T12:01:11.162Z"
   },
   {
    "duration": 274,
    "start_time": "2023-08-24T12:01:17.820Z"
   },
   {
    "duration": 259,
    "start_time": "2023-08-24T12:01:29.536Z"
   },
   {
    "duration": 250,
    "start_time": "2023-08-24T12:01:37.013Z"
   },
   {
    "duration": 37,
    "start_time": "2023-08-24T12:01:59.205Z"
   },
   {
    "duration": 35,
    "start_time": "2023-08-24T12:02:08.107Z"
   },
   {
    "duration": 35,
    "start_time": "2023-08-24T12:02:36.217Z"
   },
   {
    "duration": 24,
    "start_time": "2023-08-24T12:02:47.585Z"
   },
   {
    "duration": 264,
    "start_time": "2023-08-24T12:03:11.894Z"
   },
   {
    "duration": 336,
    "start_time": "2023-08-24T12:03:20.398Z"
   },
   {
    "duration": 27,
    "start_time": "2023-08-24T12:03:52.097Z"
   },
   {
    "duration": 24,
    "start_time": "2023-08-24T12:04:59.362Z"
   },
   {
    "duration": 45,
    "start_time": "2023-08-24T12:07:50.413Z"
   },
   {
    "duration": 39,
    "start_time": "2023-08-24T12:08:12.605Z"
   },
   {
    "duration": 1328,
    "start_time": "2023-08-24T12:08:28.843Z"
   },
   {
    "duration": 884,
    "start_time": "2023-08-24T12:08:30.173Z"
   },
   {
    "duration": 16,
    "start_time": "2023-08-24T12:08:31.058Z"
   },
   {
    "duration": 161,
    "start_time": "2023-08-24T12:08:31.075Z"
   },
   {
    "duration": 902,
    "start_time": "2023-08-24T12:08:31.241Z"
   },
   {
    "duration": 1102,
    "start_time": "2023-08-24T12:08:32.145Z"
   },
   {
    "duration": 5,
    "start_time": "2023-08-24T12:08:33.249Z"
   },
   {
    "duration": 485,
    "start_time": "2023-08-24T12:08:33.256Z"
   },
   {
    "duration": 432,
    "start_time": "2023-08-24T12:08:33.743Z"
   },
   {
    "duration": 535,
    "start_time": "2023-08-24T12:08:34.177Z"
   },
   {
    "duration": 215,
    "start_time": "2023-08-24T12:08:34.714Z"
   },
   {
    "duration": 75,
    "start_time": "2023-08-24T12:08:34.930Z"
   },
   {
    "duration": 64,
    "start_time": "2023-08-24T12:08:35.007Z"
   },
   {
    "duration": 342,
    "start_time": "2023-08-24T12:08:35.074Z"
   },
   {
    "duration": 92,
    "start_time": "2023-08-24T12:08:35.418Z"
   },
   {
    "duration": 4906,
    "start_time": "2023-08-24T12:08:35.512Z"
   },
   {
    "duration": 125,
    "start_time": "2023-08-24T12:08:40.419Z"
   },
   {
    "duration": 100570,
    "start_time": "2023-08-24T12:08:40.545Z"
   },
   {
    "duration": 134,
    "start_time": "2023-08-24T12:10:21.117Z"
   },
   {
    "duration": 100,
    "start_time": "2023-08-24T12:10:21.253Z"
   },
   {
    "duration": 6,
    "start_time": "2023-08-24T12:10:21.354Z"
   },
   {
    "duration": 59,
    "start_time": "2023-08-24T12:10:21.361Z"
   },
   {
    "duration": 343,
    "start_time": "2023-08-24T12:10:21.425Z"
   },
   {
    "duration": 36,
    "start_time": "2023-08-24T12:10:21.770Z"
   },
   {
    "duration": 313,
    "start_time": "2023-08-24T12:10:21.808Z"
   },
   {
    "duration": 33,
    "start_time": "2023-08-24T12:10:22.130Z"
   },
   {
    "duration": 7,
    "start_time": "2023-08-24T12:10:22.165Z"
   },
   {
    "duration": 243208,
    "start_time": "2023-08-24T12:10:22.173Z"
   },
   {
    "duration": 256,
    "start_time": "2023-08-24T12:14:25.383Z"
   },
   {
    "duration": 27,
    "start_time": "2023-08-24T12:14:25.641Z"
   },
   {
    "duration": 355,
    "start_time": "2023-08-24T12:14:25.669Z"
   },
   {
    "duration": 44,
    "start_time": "2023-08-24T12:14:26.033Z"
   },
   {
    "duration": 426780,
    "start_time": "2023-08-24T12:14:40.262Z"
   },
   {
    "duration": 261,
    "start_time": "2023-08-24T12:22:33.180Z"
   },
   {
    "duration": 30,
    "start_time": "2023-08-24T12:27:54.448Z"
   },
   {
    "duration": 1216,
    "start_time": "2023-08-24T12:30:17.809Z"
   },
   {
    "duration": 825,
    "start_time": "2023-08-24T12:30:19.027Z"
   },
   {
    "duration": 18,
    "start_time": "2023-08-24T12:30:19.853Z"
   },
   {
    "duration": 141,
    "start_time": "2023-08-24T12:30:19.873Z"
   },
   {
    "duration": 934,
    "start_time": "2023-08-24T12:30:20.015Z"
   },
   {
    "duration": 1029,
    "start_time": "2023-08-24T12:30:20.951Z"
   },
   {
    "duration": 5,
    "start_time": "2023-08-24T12:30:21.982Z"
   },
   {
    "duration": 494,
    "start_time": "2023-08-24T12:30:21.989Z"
   },
   {
    "duration": 439,
    "start_time": "2023-08-24T12:30:22.485Z"
   },
   {
    "duration": 546,
    "start_time": "2023-08-24T12:30:22.927Z"
   },
   {
    "duration": 195,
    "start_time": "2023-08-24T12:30:23.475Z"
   },
   {
    "duration": 115,
    "start_time": "2023-08-24T12:30:23.672Z"
   },
   {
    "duration": 57,
    "start_time": "2023-08-24T12:30:23.789Z"
   },
   {
    "duration": 319,
    "start_time": "2023-08-24T12:30:23.848Z"
   },
   {
    "duration": 90,
    "start_time": "2023-08-24T12:30:24.168Z"
   },
   {
    "duration": 4643,
    "start_time": "2023-08-24T12:30:24.259Z"
   },
   {
    "duration": 109,
    "start_time": "2023-08-24T12:30:28.903Z"
   },
   {
    "duration": 94823,
    "start_time": "2023-08-24T12:30:29.014Z"
   },
   {
    "duration": 115,
    "start_time": "2023-08-24T12:32:03.839Z"
   },
   {
    "duration": 110,
    "start_time": "2023-08-24T12:32:03.956Z"
   },
   {
    "duration": 6,
    "start_time": "2023-08-24T12:32:04.068Z"
   },
   {
    "duration": 67,
    "start_time": "2023-08-24T12:32:04.076Z"
   },
   {
    "duration": 338,
    "start_time": "2023-08-24T12:32:04.145Z"
   },
   {
    "duration": 39,
    "start_time": "2023-08-24T12:32:04.485Z"
   },
   {
    "duration": 264,
    "start_time": "2023-08-24T12:32:04.526Z"
   },
   {
    "duration": 40,
    "start_time": "2023-08-24T12:32:04.791Z"
   },
   {
    "duration": 210,
    "start_time": "2023-08-24T12:32:04.833Z"
   },
   {
    "duration": 0,
    "start_time": "2023-08-24T12:32:05.045Z"
   },
   {
    "duration": 0,
    "start_time": "2023-08-24T12:32:05.046Z"
   },
   {
    "duration": 0,
    "start_time": "2023-08-24T12:32:05.047Z"
   },
   {
    "duration": 0,
    "start_time": "2023-08-24T12:32:05.049Z"
   },
   {
    "duration": 0,
    "start_time": "2023-08-24T12:32:05.050Z"
   },
   {
    "duration": 0,
    "start_time": "2023-08-24T12:32:05.051Z"
   },
   {
    "duration": 0,
    "start_time": "2023-08-24T12:32:05.053Z"
   },
   {
    "duration": 0,
    "start_time": "2023-08-24T12:32:05.054Z"
   },
   {
    "duration": 10,
    "start_time": "2023-08-24T12:32:24.624Z"
   },
   {
    "duration": 225219,
    "start_time": "2023-08-24T12:32:29.107Z"
   },
   {
    "duration": 268,
    "start_time": "2023-08-24T12:36:14.329Z"
   },
   {
    "duration": 41,
    "start_time": "2023-08-24T12:36:14.599Z"
   },
   {
    "duration": 268,
    "start_time": "2023-08-24T12:36:14.643Z"
   },
   {
    "duration": 39,
    "start_time": "2023-08-24T12:36:14.913Z"
   },
   {
    "duration": 409629,
    "start_time": "2023-08-24T12:36:14.954Z"
   },
   {
    "duration": 247,
    "start_time": "2023-08-24T12:43:04.585Z"
   },
   {
    "duration": 156,
    "start_time": "2023-08-24T12:43:04.834Z"
   },
   {
    "duration": 2,
    "start_time": "2023-08-24T12:43:06.493Z"
   },
   {
    "duration": 3,
    "start_time": "2023-08-24T12:43:09.528Z"
   },
   {
    "duration": 3,
    "start_time": "2023-08-24T12:52:47.733Z"
   },
   {
    "duration": 157,
    "start_time": "2023-08-24T12:54:33.056Z"
   },
   {
    "duration": 266,
    "start_time": "2023-08-24T12:54:40.389Z"
   },
   {
    "duration": 383,
    "start_time": "2023-08-24T12:54:45.309Z"
   },
   {
    "duration": 270,
    "start_time": "2023-08-24T12:54:49.367Z"
   },
   {
    "duration": 285,
    "start_time": "2023-08-24T12:54:52.124Z"
   },
   {
    "duration": 190,
    "start_time": "2023-08-24T12:55:06.327Z"
   },
   {
    "duration": 128,
    "start_time": "2023-08-24T12:58:32.460Z"
   },
   {
    "duration": 12,
    "start_time": "2023-08-24T13:00:42.492Z"
   },
   {
    "duration": 554,
    "start_time": "2023-08-24T13:00:52.216Z"
   },
   {
    "duration": 1588,
    "start_time": "2023-08-28T14:14:54.474Z"
   },
   {
    "duration": 1294,
    "start_time": "2023-08-28T14:14:56.064Z"
   },
   {
    "duration": 18,
    "start_time": "2023-08-28T14:14:57.361Z"
   },
   {
    "duration": 206,
    "start_time": "2023-08-28T14:14:57.383Z"
   },
   {
    "duration": 1069,
    "start_time": "2023-08-28T14:14:57.591Z"
   },
   {
    "duration": 1253,
    "start_time": "2023-08-28T14:14:58.662Z"
   },
   {
    "duration": 7,
    "start_time": "2023-08-28T14:14:59.918Z"
   },
   {
    "duration": 527,
    "start_time": "2023-08-28T14:14:59.926Z"
   },
   {
    "duration": 528,
    "start_time": "2023-08-28T14:15:00.455Z"
   },
   {
    "duration": 616,
    "start_time": "2023-08-28T14:15:00.987Z"
   },
   {
    "duration": 233,
    "start_time": "2023-08-28T14:15:01.610Z"
   },
   {
    "duration": 99,
    "start_time": "2023-08-28T14:15:01.845Z"
   },
   {
    "duration": 82,
    "start_time": "2023-08-28T14:15:01.947Z"
   },
   {
    "duration": 526,
    "start_time": "2023-08-28T14:15:02.032Z"
   },
   {
    "duration": 114,
    "start_time": "2023-08-28T14:15:02.561Z"
   },
   {
    "duration": 5782,
    "start_time": "2023-08-28T14:15:02.677Z"
   },
   {
    "duration": 155,
    "start_time": "2023-08-28T14:15:08.461Z"
   },
   {
    "duration": 117924,
    "start_time": "2023-08-28T14:15:08.619Z"
   },
   {
    "duration": 141,
    "start_time": "2023-08-28T14:17:06.546Z"
   },
   {
    "duration": 122,
    "start_time": "2023-08-28T14:17:06.689Z"
   },
   {
    "duration": 8,
    "start_time": "2023-08-28T14:17:06.814Z"
   },
   {
    "duration": 66,
    "start_time": "2023-08-28T14:17:06.824Z"
   },
   {
    "duration": 381,
    "start_time": "2023-08-28T14:17:06.892Z"
   },
   {
    "duration": 46,
    "start_time": "2023-08-28T14:17:07.275Z"
   },
   {
    "duration": 304,
    "start_time": "2023-08-28T14:17:07.323Z"
   },
   {
    "duration": 32,
    "start_time": "2023-08-28T14:17:07.629Z"
   },
   {
    "duration": 24,
    "start_time": "2023-08-28T14:17:07.663Z"
   },
   {
    "duration": 285474,
    "start_time": "2023-08-28T14:17:07.691Z"
   },
   {
    "duration": 292,
    "start_time": "2023-08-28T14:21:53.167Z"
   },
   {
    "duration": 49,
    "start_time": "2023-08-28T14:21:53.461Z"
   },
   {
    "duration": 300,
    "start_time": "2023-08-28T14:21:53.515Z"
   },
   {
    "duration": 40,
    "start_time": "2023-08-28T14:21:53.818Z"
   },
   {
    "duration": 511757,
    "start_time": "2023-08-28T14:21:53.861Z"
   },
   {
    "duration": 253,
    "start_time": "2023-08-28T14:30:25.623Z"
   },
   {
    "duration": 123,
    "start_time": "2023-08-28T14:30:25.878Z"
   },
   {
    "duration": 184,
    "start_time": "2023-08-28T14:30:26.005Z"
   },
   {
    "duration": 28,
    "start_time": "2023-08-28T14:30:35.699Z"
   },
   {
    "duration": 49,
    "start_time": "2023-08-28T14:30:48.470Z"
   },
   {
    "duration": 13,
    "start_time": "2023-08-28T14:31:45.374Z"
   },
   {
    "duration": 15,
    "start_time": "2023-08-28T14:32:53.920Z"
   },
   {
    "duration": 22,
    "start_time": "2023-08-28T14:33:07.625Z"
   },
   {
    "duration": 341,
    "start_time": "2023-08-28T14:33:41.836Z"
   },
   {
    "duration": 122,
    "start_time": "2023-08-28T14:33:50.818Z"
   },
   {
    "duration": 7,
    "start_time": "2023-08-28T14:34:09.941Z"
   },
   {
    "duration": 4,
    "start_time": "2023-08-28T14:34:46.880Z"
   },
   {
    "duration": 109,
    "start_time": "2023-08-28T14:39:55.539Z"
   },
   {
    "duration": 4,
    "start_time": "2023-08-28T14:49:51.241Z"
   },
   {
    "duration": 4,
    "start_time": "2023-08-28T14:50:14.477Z"
   },
   {
    "duration": 4,
    "start_time": "2023-08-28T14:50:20.827Z"
   },
   {
    "duration": 1547,
    "start_time": "2023-08-29T06:38:24.663Z"
   },
   {
    "duration": 2866,
    "start_time": "2023-08-29T06:38:26.212Z"
   },
   {
    "duration": 19,
    "start_time": "2023-08-29T06:38:29.080Z"
   },
   {
    "duration": 123,
    "start_time": "2023-08-29T06:38:29.101Z"
   },
   {
    "duration": 900,
    "start_time": "2023-08-29T06:38:29.226Z"
   },
   {
    "duration": 1081,
    "start_time": "2023-08-29T06:38:30.127Z"
   },
   {
    "duration": 6,
    "start_time": "2023-08-29T06:38:31.209Z"
   },
   {
    "duration": 475,
    "start_time": "2023-08-29T06:38:31.216Z"
   },
   {
    "duration": 444,
    "start_time": "2023-08-29T06:38:31.692Z"
   },
   {
    "duration": 536,
    "start_time": "2023-08-29T06:38:32.139Z"
   },
   {
    "duration": 193,
    "start_time": "2023-08-29T06:38:32.677Z"
   },
   {
    "duration": 84,
    "start_time": "2023-08-29T06:38:32.872Z"
   },
   {
    "duration": 43,
    "start_time": "2023-08-29T06:38:32.958Z"
   },
   {
    "duration": 392,
    "start_time": "2023-08-29T06:38:33.002Z"
   },
   {
    "duration": 77,
    "start_time": "2023-08-29T06:38:33.395Z"
   },
   {
    "duration": 4547,
    "start_time": "2023-08-29T06:38:33.474Z"
   },
   {
    "duration": 105,
    "start_time": "2023-08-29T06:38:38.023Z"
   },
   {
    "duration": 84765,
    "start_time": "2023-08-29T06:38:38.130Z"
   },
   {
    "duration": 96,
    "start_time": "2023-08-29T06:40:02.898Z"
   },
   {
    "duration": 113,
    "start_time": "2023-08-29T06:40:02.996Z"
   },
   {
    "duration": 6,
    "start_time": "2023-08-29T06:40:03.111Z"
   },
   {
    "duration": 79,
    "start_time": "2023-08-29T06:40:03.118Z"
   },
   {
    "duration": 290,
    "start_time": "2023-08-29T06:40:03.199Z"
   },
   {
    "duration": 31,
    "start_time": "2023-08-29T06:40:03.491Z"
   },
   {
    "duration": 311,
    "start_time": "2023-08-29T06:40:03.524Z"
   },
   {
    "duration": 47,
    "start_time": "2023-08-29T06:40:03.837Z"
   },
   {
    "duration": 7,
    "start_time": "2023-08-29T06:40:03.886Z"
   },
   {
    "duration": 207508,
    "start_time": "2023-08-29T06:40:03.896Z"
   },
   {
    "duration": 271,
    "start_time": "2023-08-29T06:43:31.406Z"
   },
   {
    "duration": 32,
    "start_time": "2023-08-29T06:43:31.678Z"
   },
   {
    "duration": 286,
    "start_time": "2023-08-29T06:43:31.711Z"
   },
   {
    "duration": 32,
    "start_time": "2023-08-29T06:43:31.998Z"
   },
   {
    "duration": 363418,
    "start_time": "2023-08-29T06:43:32.032Z"
   },
   {
    "duration": 191,
    "start_time": "2023-08-29T06:49:35.456Z"
   },
   {
    "duration": 132,
    "start_time": "2023-08-29T06:49:35.648Z"
   },
   {
    "duration": 23,
    "start_time": "2023-08-29T06:49:35.782Z"
   },
   {
    "duration": 111,
    "start_time": "2023-08-29T06:49:35.807Z"
   },
   {
    "duration": 123,
    "start_time": "2023-08-29T06:49:35.920Z"
   },
   {
    "duration": 5,
    "start_time": "2023-08-29T06:49:36.045Z"
   },
   {
    "duration": 115,
    "start_time": "2023-08-29T06:49:36.057Z"
   },
   {
    "duration": 0,
    "start_time": "2023-08-29T06:49:36.174Z"
   },
   {
    "duration": 129,
    "start_time": "2023-08-29T06:51:30.689Z"
   },
   {
    "duration": 6,
    "start_time": "2023-08-29T06:52:40.898Z"
   },
   {
    "duration": 99,
    "start_time": "2023-08-29T06:57:53.617Z"
   },
   {
    "duration": 86,
    "start_time": "2023-08-29T06:58:04.657Z"
   },
   {
    "duration": 5,
    "start_time": "2023-08-29T06:58:12.682Z"
   },
   {
    "duration": 60,
    "start_time": "2023-08-29T12:37:53.347Z"
   },
   {
    "duration": 8,
    "start_time": "2023-08-29T12:38:01.367Z"
   },
   {
    "duration": 1747,
    "start_time": "2023-08-29T12:38:08.036Z"
   },
   {
    "duration": 3100,
    "start_time": "2023-08-29T12:38:09.785Z"
   },
   {
    "duration": 18,
    "start_time": "2023-08-29T12:38:12.887Z"
   },
   {
    "duration": 136,
    "start_time": "2023-08-29T12:38:12.907Z"
   },
   {
    "duration": 1012,
    "start_time": "2023-08-29T12:38:13.045Z"
   },
   {
    "duration": 1077,
    "start_time": "2023-08-29T12:38:14.059Z"
   },
   {
    "duration": 8,
    "start_time": "2023-08-29T12:38:15.138Z"
   },
   {
    "duration": 539,
    "start_time": "2023-08-29T12:38:15.157Z"
   },
   {
    "duration": 522,
    "start_time": "2023-08-29T12:38:15.698Z"
   },
   {
    "duration": 595,
    "start_time": "2023-08-29T12:38:16.224Z"
   },
   {
    "duration": 236,
    "start_time": "2023-08-29T12:38:16.821Z"
   },
   {
    "duration": 98,
    "start_time": "2023-08-29T12:38:17.059Z"
   },
   {
    "duration": 41,
    "start_time": "2023-08-29T12:38:17.159Z"
   },
   {
    "duration": 415,
    "start_time": "2023-08-29T12:38:17.202Z"
   },
   {
    "duration": 107,
    "start_time": "2023-08-29T12:38:17.620Z"
   },
   {
    "duration": 4903,
    "start_time": "2023-08-29T12:38:17.729Z"
   },
   {
    "duration": 101,
    "start_time": "2023-08-29T12:38:22.634Z"
   },
   {
    "duration": 90253,
    "start_time": "2023-08-29T12:38:22.737Z"
   },
   {
    "duration": 101,
    "start_time": "2023-08-29T12:39:52.992Z"
   },
   {
    "duration": 119,
    "start_time": "2023-08-29T12:39:53.096Z"
   },
   {
    "duration": 8,
    "start_time": "2023-08-29T12:39:53.218Z"
   },
   {
    "duration": 80,
    "start_time": "2023-08-29T12:39:53.228Z"
   },
   {
    "duration": 274,
    "start_time": "2023-08-29T12:39:53.310Z"
   },
   {
    "duration": 34,
    "start_time": "2023-08-29T12:39:53.586Z"
   },
   {
    "duration": 294,
    "start_time": "2023-08-29T12:39:53.622Z"
   },
   {
    "duration": 49,
    "start_time": "2023-08-29T12:39:53.918Z"
   },
   {
    "duration": 7,
    "start_time": "2023-08-29T12:39:53.970Z"
   },
   {
    "duration": 222389,
    "start_time": "2023-08-29T12:39:53.981Z"
   },
   {
    "duration": 276,
    "start_time": "2023-08-29T12:43:36.372Z"
   },
   {
    "duration": 33,
    "start_time": "2023-08-29T12:43:36.657Z"
   },
   {
    "duration": 309,
    "start_time": "2023-08-29T12:43:36.692Z"
   },
   {
    "duration": 54,
    "start_time": "2023-08-29T12:43:37.003Z"
   },
   {
    "duration": 392187,
    "start_time": "2023-08-29T12:43:37.059Z"
   },
   {
    "duration": 205,
    "start_time": "2023-08-29T12:50:09.248Z"
   },
   {
    "duration": 130,
    "start_time": "2023-08-29T12:50:09.455Z"
   },
   {
    "duration": 23,
    "start_time": "2023-08-29T12:50:09.587Z"
   },
   {
    "duration": 83,
    "start_time": "2023-08-29T12:50:09.612Z"
   },
   {
    "duration": 100,
    "start_time": "2023-08-29T12:50:09.696Z"
   },
   {
    "duration": 5,
    "start_time": "2023-08-29T12:50:09.798Z"
   },
   {
    "duration": 36,
    "start_time": "2023-08-29T12:50:09.804Z"
   },
   {
    "duration": 138,
    "start_time": "2023-08-29T12:52:33.298Z"
   },
   {
    "duration": 23,
    "start_time": "2023-08-29T12:55:14.291Z"
   },
   {
    "duration": 17,
    "start_time": "2023-08-29T12:55:25.774Z"
   },
   {
    "duration": 26,
    "start_time": "2023-08-29T14:45:32.482Z"
   },
   {
    "duration": 33,
    "start_time": "2023-08-29T14:46:15.950Z"
   },
   {
    "duration": 177,
    "start_time": "2023-08-29T14:46:32.143Z"
   },
   {
    "duration": 177,
    "start_time": "2023-08-29T14:46:42.058Z"
   },
   {
    "duration": 20,
    "start_time": "2023-08-29T14:47:15.037Z"
   },
   {
    "duration": 8,
    "start_time": "2023-08-29T14:48:17.741Z"
   },
   {
    "duration": 9,
    "start_time": "2023-08-29T14:48:25.661Z"
   },
   {
    "duration": 5,
    "start_time": "2023-08-29T14:48:35.674Z"
   },
   {
    "duration": 62,
    "start_time": "2023-08-29T14:48:49.118Z"
   },
   {
    "duration": 178,
    "start_time": "2023-08-29T14:48:58.389Z"
   },
   {
    "duration": 6,
    "start_time": "2023-08-29T14:49:03.482Z"
   },
   {
    "duration": 245,
    "start_time": "2023-08-29T14:51:27.830Z"
   },
   {
    "duration": 176,
    "start_time": "2023-08-29T14:51:35.221Z"
   },
   {
    "duration": 191,
    "start_time": "2023-08-29T14:52:41.615Z"
   },
   {
    "duration": 7266,
    "start_time": "2023-08-29T14:54:01.587Z"
   },
   {
    "duration": 20623,
    "start_time": "2023-08-29T14:55:08.833Z"
   },
   {
    "duration": 2052,
    "start_time": "2023-08-29T14:55:33.787Z"
   },
   {
    "duration": 229,
    "start_time": "2023-08-29T14:55:49.469Z"
   },
   {
    "duration": 3502,
    "start_time": "2023-08-29T14:56:12.808Z"
   },
   {
    "duration": 838,
    "start_time": "2023-08-29T14:56:16.312Z"
   },
   {
    "duration": 17,
    "start_time": "2023-08-29T14:56:17.152Z"
   },
   {
    "duration": 121,
    "start_time": "2023-08-29T14:56:17.171Z"
   },
   {
    "duration": 941,
    "start_time": "2023-08-29T14:56:17.294Z"
   },
   {
    "duration": 1264,
    "start_time": "2023-08-29T14:56:18.237Z"
   },
   {
    "duration": 5,
    "start_time": "2023-08-29T14:56:19.502Z"
   },
   {
    "duration": 499,
    "start_time": "2023-08-29T14:56:19.509Z"
   },
   {
    "duration": 474,
    "start_time": "2023-08-29T14:56:20.010Z"
   },
   {
    "duration": 611,
    "start_time": "2023-08-29T14:56:20.487Z"
   },
   {
    "duration": 196,
    "start_time": "2023-08-29T14:56:21.100Z"
   },
   {
    "duration": 87,
    "start_time": "2023-08-29T14:56:21.298Z"
   },
   {
    "duration": 41,
    "start_time": "2023-08-29T14:56:21.387Z"
   },
   {
    "duration": 322,
    "start_time": "2023-08-29T14:56:21.430Z"
   },
   {
    "duration": 71,
    "start_time": "2023-08-29T14:56:21.754Z"
   },
   {
    "duration": 4678,
    "start_time": "2023-08-29T14:56:21.827Z"
   },
   {
    "duration": 105,
    "start_time": "2023-08-29T14:56:26.507Z"
   },
   {
    "duration": 88652,
    "start_time": "2023-08-29T14:56:26.614Z"
   },
   {
    "duration": 105,
    "start_time": "2023-08-29T14:57:55.268Z"
   },
   {
    "duration": 111,
    "start_time": "2023-08-29T14:57:55.375Z"
   },
   {
    "duration": 5,
    "start_time": "2023-08-29T14:57:55.488Z"
   },
   {
    "duration": 61,
    "start_time": "2023-08-29T14:57:55.495Z"
   },
   {
    "duration": 273,
    "start_time": "2023-08-29T14:57:55.558Z"
   },
   {
    "duration": 36,
    "start_time": "2023-08-29T14:57:55.833Z"
   },
   {
    "duration": 264,
    "start_time": "2023-08-29T14:57:55.871Z"
   },
   {
    "duration": 43,
    "start_time": "2023-08-29T14:57:56.137Z"
   },
   {
    "duration": 7,
    "start_time": "2023-08-29T14:57:56.181Z"
   },
   {
    "duration": 221074,
    "start_time": "2023-08-29T14:57:56.191Z"
   },
   {
    "duration": 286,
    "start_time": "2023-08-29T15:01:37.268Z"
   },
   {
    "duration": 35,
    "start_time": "2023-08-29T15:01:37.555Z"
   },
   {
    "duration": 298,
    "start_time": "2023-08-29T15:01:37.592Z"
   },
   {
    "duration": 35,
    "start_time": "2023-08-29T15:01:37.892Z"
   },
   {
    "duration": 403867,
    "start_time": "2023-08-29T15:01:37.930Z"
   },
   {
    "duration": 186,
    "start_time": "2023-08-29T15:08:21.799Z"
   },
   {
    "duration": 117,
    "start_time": "2023-08-29T15:08:21.987Z"
   },
   {
    "duration": 19,
    "start_time": "2023-08-29T15:08:22.106Z"
   },
   {
    "duration": 82,
    "start_time": "2023-08-29T15:08:22.127Z"
   },
   {
    "duration": 93,
    "start_time": "2023-08-29T15:08:22.211Z"
   },
   {
    "duration": 5,
    "start_time": "2023-08-29T15:08:22.305Z"
   },
   {
    "duration": 23135,
    "start_time": "2023-08-29T15:08:22.311Z"
   },
   {
    "duration": 11,
    "start_time": "2023-08-29T15:08:45.448Z"
   },
   {
    "duration": 5,
    "start_time": "2023-08-29T15:17:36.622Z"
   },
   {
    "duration": 5,
    "start_time": "2023-08-29T15:19:52.079Z"
   },
   {
    "duration": 9578,
    "start_time": "2023-08-29T15:21:48.784Z"
   },
   {
    "duration": 166,
    "start_time": "2023-08-29T15:23:17.661Z"
   },
   {
    "duration": 596,
    "start_time": "2023-08-29T15:23:24.636Z"
   },
   {
    "duration": 70,
    "start_time": "2023-08-29T15:23:33.397Z"
   },
   {
    "duration": 147,
    "start_time": "2023-08-29T15:25:25.019Z"
   },
   {
    "duration": 21156,
    "start_time": "2023-08-29T15:26:58.966Z"
   },
   {
    "duration": 484,
    "start_time": "2023-08-29T15:29:00.340Z"
   },
   {
    "duration": 77,
    "start_time": "2023-08-29T15:29:40.052Z"
   },
   {
    "duration": 3441,
    "start_time": "2023-08-29T15:30:44.803Z"
   },
   {
    "duration": 900,
    "start_time": "2023-08-29T15:30:48.246Z"
   },
   {
    "duration": 23,
    "start_time": "2023-08-29T15:30:49.148Z"
   },
   {
    "duration": 126,
    "start_time": "2023-08-29T15:30:49.172Z"
   },
   {
    "duration": 996,
    "start_time": "2023-08-29T15:30:49.300Z"
   },
   {
    "duration": 1165,
    "start_time": "2023-08-29T15:30:50.298Z"
   },
   {
    "duration": 6,
    "start_time": "2023-08-29T15:30:51.465Z"
   },
   {
    "duration": 506,
    "start_time": "2023-08-29T15:30:51.473Z"
   },
   {
    "duration": 489,
    "start_time": "2023-08-29T15:30:51.981Z"
   },
   {
    "duration": 586,
    "start_time": "2023-08-29T15:30:52.471Z"
   },
   {
    "duration": 200,
    "start_time": "2023-08-29T15:30:53.059Z"
   },
   {
    "duration": 76,
    "start_time": "2023-08-29T15:30:53.261Z"
   },
   {
    "duration": 46,
    "start_time": "2023-08-29T15:30:53.355Z"
   },
   {
    "duration": 337,
    "start_time": "2023-08-29T15:30:53.405Z"
   },
   {
    "duration": 82,
    "start_time": "2023-08-29T15:30:53.744Z"
   },
   {
    "duration": 4920,
    "start_time": "2023-08-29T15:30:53.827Z"
   },
   {
    "duration": 125,
    "start_time": "2023-08-29T15:30:58.749Z"
   },
   {
    "duration": 90603,
    "start_time": "2023-08-29T15:30:58.876Z"
   },
   {
    "duration": 103,
    "start_time": "2023-08-29T15:32:29.481Z"
   },
   {
    "duration": 116,
    "start_time": "2023-08-29T15:32:29.586Z"
   },
   {
    "duration": 7,
    "start_time": "2023-08-29T15:32:29.703Z"
   },
   {
    "duration": 69,
    "start_time": "2023-08-29T15:32:29.712Z"
   },
   {
    "duration": 266,
    "start_time": "2023-08-29T15:32:29.783Z"
   },
   {
    "duration": 39,
    "start_time": "2023-08-29T15:32:30.051Z"
   },
   {
    "duration": 300,
    "start_time": "2023-08-29T15:32:30.092Z"
   },
   {
    "duration": 49,
    "start_time": "2023-08-29T15:32:30.394Z"
   },
   {
    "duration": 7,
    "start_time": "2023-08-29T15:32:30.457Z"
   },
   {
    "duration": 215370,
    "start_time": "2023-08-29T15:32:30.466Z"
   },
   {
    "duration": 305,
    "start_time": "2023-08-29T15:36:05.838Z"
   },
   {
    "duration": 47,
    "start_time": "2023-08-29T15:36:06.146Z"
   },
   {
    "duration": 363,
    "start_time": "2023-08-29T15:36:06.196Z"
   },
   {
    "duration": 43,
    "start_time": "2023-08-29T15:36:06.562Z"
   },
   {
    "duration": 19,
    "start_time": "2023-08-29T15:36:40.088Z"
   },
   {
    "duration": 406384,
    "start_time": "2023-08-29T15:36:45.648Z"
   },
   {
    "duration": 120,
    "start_time": "2023-08-29T15:43:47.733Z"
   },
   {
    "duration": 70,
    "start_time": "2023-08-29T15:43:52.492Z"
   },
   {
    "duration": 141,
    "start_time": "2023-08-29T15:44:05.386Z"
   },
   {
    "duration": 146,
    "start_time": "2023-08-29T15:44:19.191Z"
   },
   {
    "duration": 18,
    "start_time": "2023-08-29T15:44:40.563Z"
   },
   {
    "duration": 2837,
    "start_time": "2023-08-29T15:45:09.850Z"
   },
   {
    "duration": 14,
    "start_time": "2023-08-29T15:45:18.456Z"
   },
   {
    "duration": 108,
    "start_time": "2023-08-29T15:45:46.906Z"
   },
   {
    "duration": 17,
    "start_time": "2023-08-29T15:45:50.370Z"
   },
   {
    "duration": 49,
    "start_time": "2023-08-29T15:47:03.220Z"
   },
   {
    "duration": 42,
    "start_time": "2023-08-29T15:47:19.991Z"
   },
   {
    "duration": 43,
    "start_time": "2023-08-29T15:47:25.519Z"
   },
   {
    "duration": 43,
    "start_time": "2023-08-29T15:47:48.188Z"
   },
   {
    "duration": 38,
    "start_time": "2023-08-29T15:50:36.729Z"
   },
   {
    "duration": 37,
    "start_time": "2023-08-29T15:50:50.215Z"
   },
   {
    "duration": 44,
    "start_time": "2023-08-29T15:50:57.145Z"
   },
   {
    "duration": 8,
    "start_time": "2023-08-29T15:57:02.189Z"
   },
   {
    "duration": 6,
    "start_time": "2023-08-29T15:59:09.958Z"
   },
   {
    "duration": 2207,
    "start_time": "2023-08-29T16:00:43.351Z"
   },
   {
    "duration": 2156,
    "start_time": "2023-08-29T16:00:59.929Z"
   },
   {
    "duration": 3572,
    "start_time": "2023-08-29T16:01:38.643Z"
   },
   {
    "duration": 854,
    "start_time": "2023-08-29T16:01:42.217Z"
   },
   {
    "duration": 17,
    "start_time": "2023-08-29T16:01:43.073Z"
   },
   {
    "duration": 137,
    "start_time": "2023-08-29T16:01:43.092Z"
   },
   {
    "duration": 973,
    "start_time": "2023-08-29T16:01:43.231Z"
   },
   {
    "duration": 1194,
    "start_time": "2023-08-29T16:01:44.206Z"
   },
   {
    "duration": 5,
    "start_time": "2023-08-29T16:01:45.402Z"
   },
   {
    "duration": 494,
    "start_time": "2023-08-29T16:01:45.408Z"
   },
   {
    "duration": 473,
    "start_time": "2023-08-29T16:01:45.904Z"
   },
   {
    "duration": 584,
    "start_time": "2023-08-29T16:01:46.380Z"
   },
   {
    "duration": 216,
    "start_time": "2023-08-29T16:01:46.966Z"
   },
   {
    "duration": 106,
    "start_time": "2023-08-29T16:01:47.184Z"
   },
   {
    "duration": 44,
    "start_time": "2023-08-29T16:01:47.292Z"
   },
   {
    "duration": 345,
    "start_time": "2023-08-29T16:01:47.339Z"
   },
   {
    "duration": 79,
    "start_time": "2023-08-29T16:01:47.685Z"
   },
   {
    "duration": 4911,
    "start_time": "2023-08-29T16:01:47.766Z"
   },
   {
    "duration": 102,
    "start_time": "2023-08-29T16:01:52.679Z"
   },
   {
    "duration": 88346,
    "start_time": "2023-08-29T16:01:52.784Z"
   },
   {
    "duration": 96,
    "start_time": "2023-08-29T16:03:21.131Z"
   },
   {
    "duration": 113,
    "start_time": "2023-08-29T16:03:21.229Z"
   },
   {
    "duration": 14,
    "start_time": "2023-08-29T16:03:21.344Z"
   },
   {
    "duration": 46,
    "start_time": "2023-08-29T16:03:21.360Z"
   },
   {
    "duration": 260,
    "start_time": "2023-08-29T16:03:21.408Z"
   },
   {
    "duration": 32,
    "start_time": "2023-08-29T16:03:21.670Z"
   },
   {
    "duration": 274,
    "start_time": "2023-08-29T16:03:21.703Z"
   },
   {
    "duration": 40,
    "start_time": "2023-08-29T16:03:21.979Z"
   },
   {
    "duration": 8,
    "start_time": "2023-08-29T16:03:22.021Z"
   },
   {
    "duration": 212835,
    "start_time": "2023-08-29T16:03:22.058Z"
   },
   {
    "duration": 276,
    "start_time": "2023-08-29T16:06:54.895Z"
   },
   {
    "duration": 35,
    "start_time": "2023-08-29T16:06:55.173Z"
   },
   {
    "duration": 284,
    "start_time": "2023-08-29T16:06:55.210Z"
   },
   {
    "duration": 36,
    "start_time": "2023-08-29T16:06:55.496Z"
   },
   {
    "duration": 105,
    "start_time": "2023-08-29T16:06:55.533Z"
   },
   {
    "duration": 0,
    "start_time": "2023-08-29T16:06:55.640Z"
   },
   {
    "duration": 0,
    "start_time": "2023-08-29T16:06:55.641Z"
   },
   {
    "duration": 0,
    "start_time": "2023-08-29T16:06:55.642Z"
   },
   {
    "duration": 0,
    "start_time": "2023-08-29T16:06:55.643Z"
   },
   {
    "duration": 0,
    "start_time": "2023-08-29T16:06:55.644Z"
   },
   {
    "duration": 0,
    "start_time": "2023-08-29T16:06:55.645Z"
   },
   {
    "duration": 0,
    "start_time": "2023-08-29T16:06:55.646Z"
   },
   {
    "duration": 0,
    "start_time": "2023-08-29T16:06:55.647Z"
   },
   {
    "duration": 9373,
    "start_time": "2023-08-29T18:46:52.229Z"
   },
   {
    "duration": 1428,
    "start_time": "2023-08-29T18:47:01.604Z"
   },
   {
    "duration": 34,
    "start_time": "2023-08-29T18:47:03.034Z"
   },
   {
    "duration": 155,
    "start_time": "2023-08-29T18:47:03.073Z"
   },
   {
    "duration": 1093,
    "start_time": "2023-08-29T18:47:03.230Z"
   },
   {
    "duration": 1404,
    "start_time": "2023-08-29T18:47:04.325Z"
   },
   {
    "duration": 6,
    "start_time": "2023-08-29T18:47:05.730Z"
   },
   {
    "duration": 554,
    "start_time": "2023-08-29T18:47:05.748Z"
   },
   {
    "duration": 511,
    "start_time": "2023-08-29T18:47:06.303Z"
   },
   {
    "duration": 598,
    "start_time": "2023-08-29T18:47:06.817Z"
   },
   {
    "duration": 259,
    "start_time": "2023-08-29T18:47:07.416Z"
   },
   {
    "duration": 100,
    "start_time": "2023-08-29T18:47:07.677Z"
   },
   {
    "duration": 50,
    "start_time": "2023-08-29T18:47:07.780Z"
   },
   {
    "duration": 424,
    "start_time": "2023-08-29T18:47:07.832Z"
   },
   {
    "duration": 120,
    "start_time": "2023-08-29T18:47:08.257Z"
   },
   {
    "duration": 5928,
    "start_time": "2023-08-29T18:47:08.379Z"
   },
   {
    "duration": 144,
    "start_time": "2023-08-29T18:47:14.309Z"
   },
   {
    "duration": 124993,
    "start_time": "2023-08-29T18:47:14.454Z"
   },
   {
    "duration": 150,
    "start_time": "2023-08-29T18:49:19.451Z"
   },
   {
    "duration": 106,
    "start_time": "2023-08-29T18:49:19.603Z"
   },
   {
    "duration": 8,
    "start_time": "2023-08-29T18:49:19.711Z"
   },
   {
    "duration": 82,
    "start_time": "2023-08-29T18:49:19.720Z"
   },
   {
    "duration": 321,
    "start_time": "2023-08-29T18:49:19.805Z"
   },
   {
    "duration": 47,
    "start_time": "2023-08-29T18:49:20.127Z"
   },
   {
    "duration": 334,
    "start_time": "2023-08-29T18:49:20.176Z"
   },
   {
    "duration": 47,
    "start_time": "2023-08-29T18:49:20.512Z"
   },
   {
    "duration": 7,
    "start_time": "2023-08-29T18:49:20.574Z"
   },
   {
    "duration": 294149,
    "start_time": "2023-08-29T18:49:20.585Z"
   },
   {
    "duration": 340,
    "start_time": "2023-08-29T18:54:14.736Z"
   },
   {
    "duration": 30,
    "start_time": "2023-08-29T18:54:15.077Z"
   },
   {
    "duration": 307,
    "start_time": "2023-08-29T18:54:15.109Z"
   },
   {
    "duration": 58,
    "start_time": "2023-08-29T18:54:15.418Z"
   },
   {
    "duration": 491284,
    "start_time": "2023-08-29T18:54:15.479Z"
   },
   {
    "duration": 208,
    "start_time": "2023-08-29T19:02:26.767Z"
   },
   {
    "duration": 122,
    "start_time": "2023-08-29T19:02:26.977Z"
   },
   {
    "duration": 17,
    "start_time": "2023-08-29T19:02:27.101Z"
   },
   {
    "duration": 109,
    "start_time": "2023-08-29T19:02:27.120Z"
   },
   {
    "duration": 82,
    "start_time": "2023-08-29T19:02:27.230Z"
   },
   {
    "duration": 5,
    "start_time": "2023-08-29T19:02:27.314Z"
   },
   {
    "duration": 11,
    "start_time": "2023-08-29T19:02:27.320Z"
   },
   {
    "duration": 0,
    "start_time": "2023-08-29T19:02:27.333Z"
   },
   {
    "duration": 686,
    "start_time": "2023-08-29T19:04:28.296Z"
   },
   {
    "duration": 3810,
    "start_time": "2023-08-29T19:07:20.024Z"
   },
   {
    "duration": 923,
    "start_time": "2023-08-29T19:07:23.838Z"
   },
   {
    "duration": 18,
    "start_time": "2023-08-29T19:07:24.763Z"
   },
   {
    "duration": 148,
    "start_time": "2023-08-29T19:07:24.783Z"
   },
   {
    "duration": 1093,
    "start_time": "2023-08-29T19:07:24.933Z"
   },
   {
    "duration": 1268,
    "start_time": "2023-08-29T19:07:26.028Z"
   },
   {
    "duration": 6,
    "start_time": "2023-08-29T19:07:27.297Z"
   },
   {
    "duration": 514,
    "start_time": "2023-08-29T19:07:27.305Z"
   },
   {
    "duration": 508,
    "start_time": "2023-08-29T19:07:27.822Z"
   },
   {
    "duration": 611,
    "start_time": "2023-08-29T19:07:28.331Z"
   },
   {
    "duration": 249,
    "start_time": "2023-08-29T19:07:28.946Z"
   },
   {
    "duration": 95,
    "start_time": "2023-08-29T19:07:29.196Z"
   },
   {
    "duration": 67,
    "start_time": "2023-08-29T19:07:29.293Z"
   },
   {
    "duration": 355,
    "start_time": "2023-08-29T19:07:29.362Z"
   },
   {
    "duration": 111,
    "start_time": "2023-08-29T19:07:29.718Z"
   },
   {
    "duration": 5460,
    "start_time": "2023-08-29T19:07:29.831Z"
   },
   {
    "duration": 169,
    "start_time": "2023-08-29T19:07:35.293Z"
   },
   {
    "duration": 118115,
    "start_time": "2023-08-29T19:07:35.463Z"
   },
   {
    "duration": 135,
    "start_time": "2023-08-29T19:09:33.579Z"
   },
   {
    "duration": 107,
    "start_time": "2023-08-29T19:09:33.716Z"
   },
   {
    "duration": 6,
    "start_time": "2023-08-29T19:09:33.825Z"
   },
   {
    "duration": 58,
    "start_time": "2023-08-29T19:09:33.833Z"
   },
   {
    "duration": 309,
    "start_time": "2023-08-29T19:09:33.894Z"
   },
   {
    "duration": 34,
    "start_time": "2023-08-29T19:09:34.205Z"
   },
   {
    "duration": 284,
    "start_time": "2023-08-29T19:09:34.241Z"
   },
   {
    "duration": 49,
    "start_time": "2023-08-29T19:09:34.528Z"
   },
   {
    "duration": 9,
    "start_time": "2023-08-29T19:09:34.581Z"
   },
   {
    "duration": 276762,
    "start_time": "2023-08-29T19:09:34.592Z"
   },
   {
    "duration": 304,
    "start_time": "2023-08-29T19:14:11.357Z"
   },
   {
    "duration": 30,
    "start_time": "2023-08-29T19:14:11.663Z"
   },
   {
    "duration": 308,
    "start_time": "2023-08-29T19:14:11.695Z"
   },
   {
    "duration": 32,
    "start_time": "2023-08-29T19:14:12.004Z"
   },
   {
    "duration": 482732,
    "start_time": "2023-08-29T19:14:12.046Z"
   },
   {
    "duration": 200,
    "start_time": "2023-08-29T19:22:14.780Z"
   },
   {
    "duration": 115,
    "start_time": "2023-08-29T19:22:14.982Z"
   },
   {
    "duration": 19,
    "start_time": "2023-08-29T19:22:15.098Z"
   },
   {
    "duration": 111,
    "start_time": "2023-08-29T19:22:15.118Z"
   },
   {
    "duration": 86,
    "start_time": "2023-08-29T19:22:15.231Z"
   },
   {
    "duration": 5,
    "start_time": "2023-08-29T19:22:15.318Z"
   },
   {
    "duration": 804,
    "start_time": "2023-08-29T19:22:15.326Z"
   },
   {
    "duration": 0,
    "start_time": "2023-08-29T19:22:16.132Z"
   },
   {
    "duration": 84,
    "start_time": "2023-08-29T19:27:11.202Z"
   },
   {
    "duration": 10,
    "start_time": "2023-08-29T19:27:58.235Z"
   },
   {
    "duration": 12,
    "start_time": "2023-08-29T19:28:09.888Z"
   },
   {
    "duration": 9,
    "start_time": "2023-08-29T19:28:15.363Z"
   },
   {
    "duration": 5,
    "start_time": "2023-08-29T19:28:27.708Z"
   },
   {
    "duration": 7,
    "start_time": "2023-08-29T19:28:32.443Z"
   },
   {
    "duration": 6,
    "start_time": "2023-08-29T19:28:36.448Z"
   },
   {
    "duration": 91,
    "start_time": "2023-08-29T19:28:50.225Z"
   },
   {
    "duration": 82,
    "start_time": "2023-08-29T19:28:55.051Z"
   },
   {
    "duration": 5,
    "start_time": "2023-08-29T19:29:01.541Z"
   },
   {
    "duration": 10,
    "start_time": "2023-08-29T19:30:14.859Z"
   },
   {
    "duration": 11,
    "start_time": "2023-08-29T19:30:31.931Z"
   },
   {
    "duration": 12,
    "start_time": "2023-08-29T19:30:41.964Z"
   },
   {
    "duration": 7,
    "start_time": "2023-08-29T19:30:45.508Z"
   },
   {
    "duration": 5,
    "start_time": "2023-08-29T19:31:16.560Z"
   },
   {
    "duration": 5,
    "start_time": "2023-08-29T19:33:23.530Z"
   },
   {
    "duration": 3761,
    "start_time": "2023-08-29T19:33:54.453Z"
   },
   {
    "duration": 905,
    "start_time": "2023-08-29T19:33:58.216Z"
   },
   {
    "duration": 24,
    "start_time": "2023-08-29T19:33:59.126Z"
   },
   {
    "duration": 144,
    "start_time": "2023-08-29T19:33:59.151Z"
   },
   {
    "duration": 990,
    "start_time": "2023-08-29T19:33:59.296Z"
   },
   {
    "duration": 1237,
    "start_time": "2023-08-29T19:34:00.289Z"
   },
   {
    "duration": 6,
    "start_time": "2023-08-29T19:34:01.529Z"
   },
   {
    "duration": 575,
    "start_time": "2023-08-29T19:34:01.548Z"
   },
   {
    "duration": 542,
    "start_time": "2023-08-29T19:34:02.127Z"
   },
   {
    "duration": 622,
    "start_time": "2023-08-29T19:34:02.671Z"
   },
   {
    "duration": 215,
    "start_time": "2023-08-29T19:34:03.295Z"
   },
   {
    "duration": 91,
    "start_time": "2023-08-29T19:34:03.512Z"
   },
   {
    "duration": 58,
    "start_time": "2023-08-29T19:34:03.605Z"
   },
   {
    "duration": 344,
    "start_time": "2023-08-29T19:34:03.665Z"
   },
   {
    "duration": 101,
    "start_time": "2023-08-29T19:34:04.012Z"
   },
   {
    "duration": 5240,
    "start_time": "2023-08-29T19:34:04.114Z"
   },
   {
    "duration": 127,
    "start_time": "2023-08-29T19:34:09.356Z"
   },
   {
    "duration": 105466,
    "start_time": "2023-08-29T19:34:09.485Z"
   },
   {
    "duration": 128,
    "start_time": "2023-08-29T19:35:54.953Z"
   },
   {
    "duration": 112,
    "start_time": "2023-08-29T19:35:55.083Z"
   },
   {
    "duration": 6,
    "start_time": "2023-08-29T19:35:55.197Z"
   },
   {
    "duration": 74,
    "start_time": "2023-08-29T19:35:55.205Z"
   },
   {
    "duration": 348,
    "start_time": "2023-08-29T19:35:55.281Z"
   },
   {
    "duration": 49,
    "start_time": "2023-08-29T19:35:55.631Z"
   },
   {
    "duration": 276,
    "start_time": "2023-08-29T19:35:55.683Z"
   },
   {
    "duration": 37,
    "start_time": "2023-08-29T19:35:55.961Z"
   },
   {
    "duration": 7,
    "start_time": "2023-08-29T19:35:56.003Z"
   },
   {
    "duration": 254439,
    "start_time": "2023-08-29T19:35:56.013Z"
   },
   {
    "duration": 295,
    "start_time": "2023-08-29T19:40:10.454Z"
   },
   {
    "duration": 34,
    "start_time": "2023-08-29T19:40:10.751Z"
   },
   {
    "duration": 311,
    "start_time": "2023-08-29T19:40:10.787Z"
   },
   {
    "duration": 32,
    "start_time": "2023-08-29T19:40:11.100Z"
   },
   {
    "duration": 454132,
    "start_time": "2023-08-29T19:40:11.146Z"
   },
   {
    "duration": 195,
    "start_time": "2023-08-29T19:47:45.280Z"
   },
   {
    "duration": 107,
    "start_time": "2023-08-29T19:47:45.477Z"
   },
   {
    "duration": 20,
    "start_time": "2023-08-29T19:47:45.586Z"
   },
   {
    "duration": 115,
    "start_time": "2023-08-29T19:47:45.608Z"
   },
   {
    "duration": 99,
    "start_time": "2023-08-29T19:47:45.725Z"
   },
   {
    "duration": 6,
    "start_time": "2023-08-29T19:47:45.826Z"
   },
   {
    "duration": 720,
    "start_time": "2023-08-29T19:47:45.833Z"
   },
   {
    "duration": 0,
    "start_time": "2023-08-29T19:47:46.555Z"
   },
   {
    "duration": 87,
    "start_time": "2023-08-29T19:48:08.783Z"
   },
   {
    "duration": 165,
    "start_time": "2023-08-29T19:50:01.640Z"
   },
   {
    "duration": 10,
    "start_time": "2023-08-29T19:50:11.125Z"
   },
   {
    "duration": 11,
    "start_time": "2023-08-29T19:50:24.900Z"
   },
   {
    "duration": 3,
    "start_time": "2023-08-29T19:50:41.890Z"
   },
   {
    "duration": 3900,
    "start_time": "2023-08-29T19:51:59.429Z"
   },
   {
    "duration": 915,
    "start_time": "2023-08-29T19:52:03.331Z"
   },
   {
    "duration": 18,
    "start_time": "2023-08-29T19:52:04.248Z"
   },
   {
    "duration": 171,
    "start_time": "2023-08-29T19:52:04.267Z"
   },
   {
    "duration": 1032,
    "start_time": "2023-08-29T19:52:04.446Z"
   },
   {
    "duration": 1246,
    "start_time": "2023-08-29T19:52:05.479Z"
   },
   {
    "duration": 5,
    "start_time": "2023-08-29T19:52:06.727Z"
   },
   {
    "duration": 506,
    "start_time": "2023-08-29T19:52:06.747Z"
   },
   {
    "duration": 481,
    "start_time": "2023-08-29T19:52:07.254Z"
   },
   {
    "duration": 603,
    "start_time": "2023-08-29T19:52:07.737Z"
   },
   {
    "duration": 242,
    "start_time": "2023-08-29T19:52:08.342Z"
   },
   {
    "duration": 94,
    "start_time": "2023-08-29T19:52:08.586Z"
   },
   {
    "duration": 49,
    "start_time": "2023-08-29T19:52:08.682Z"
   },
   {
    "duration": 402,
    "start_time": "2023-08-29T19:52:08.734Z"
   },
   {
    "duration": 100,
    "start_time": "2023-08-29T19:52:09.138Z"
   },
   {
    "duration": 5059,
    "start_time": "2023-08-29T19:52:09.239Z"
   },
   {
    "duration": 133,
    "start_time": "2023-08-29T19:52:14.300Z"
   },
   {
    "duration": 107399,
    "start_time": "2023-08-29T19:52:14.435Z"
   },
   {
    "duration": 124,
    "start_time": "2023-08-29T19:54:01.836Z"
   },
   {
    "duration": 111,
    "start_time": "2023-08-29T19:54:01.962Z"
   },
   {
    "duration": 6,
    "start_time": "2023-08-29T19:54:02.075Z"
   },
   {
    "duration": 90,
    "start_time": "2023-08-29T19:54:02.083Z"
   },
   {
    "duration": 342,
    "start_time": "2023-08-29T19:54:02.176Z"
   },
   {
    "duration": 44,
    "start_time": "2023-08-29T19:54:02.521Z"
   },
   {
    "duration": 291,
    "start_time": "2023-08-29T19:54:02.567Z"
   },
   {
    "duration": 34,
    "start_time": "2023-08-29T19:54:02.861Z"
   },
   {
    "duration": 95,
    "start_time": "2023-08-29T19:54:02.897Z"
   },
   {
    "duration": 268288,
    "start_time": "2023-08-29T19:54:02.993Z"
   },
   {
    "duration": 297,
    "start_time": "2023-08-29T19:58:31.283Z"
   },
   {
    "duration": 7,
    "start_time": "2023-08-29T19:58:31.581Z"
   },
   {
    "duration": 352,
    "start_time": "2023-08-29T19:58:31.589Z"
   },
   {
    "duration": 11,
    "start_time": "2023-08-29T19:58:31.942Z"
   },
   {
    "duration": 26,
    "start_time": "2023-08-29T19:58:31.955Z"
   },
   {
    "duration": 374,
    "start_time": "2023-08-29T19:58:31.982Z"
   },
   {
    "duration": 28,
    "start_time": "2023-08-29T19:58:32.358Z"
   },
   {
    "duration": 18,
    "start_time": "2023-08-29T19:58:32.388Z"
   },
   {
    "duration": 89,
    "start_time": "2023-08-29T19:58:32.407Z"
   },
   {
    "duration": 176,
    "start_time": "2023-08-29T19:58:32.498Z"
   },
   {
    "duration": 0,
    "start_time": "2023-08-29T19:58:32.676Z"
   },
   {
    "duration": 0,
    "start_time": "2023-08-29T19:58:32.678Z"
   },
   {
    "duration": 0,
    "start_time": "2023-08-29T19:58:32.680Z"
   },
   {
    "duration": 3797,
    "start_time": "2023-08-29T19:59:25.643Z"
   },
   {
    "duration": 945,
    "start_time": "2023-08-29T19:59:29.442Z"
   },
   {
    "duration": 20,
    "start_time": "2023-08-29T19:59:30.389Z"
   },
   {
    "duration": 202,
    "start_time": "2023-08-29T19:59:30.411Z"
   },
   {
    "duration": 1043,
    "start_time": "2023-08-29T19:59:30.614Z"
   },
   {
    "duration": 1332,
    "start_time": "2023-08-29T19:59:31.659Z"
   },
   {
    "duration": 7,
    "start_time": "2023-08-29T19:59:32.993Z"
   },
   {
    "duration": 523,
    "start_time": "2023-08-29T19:59:33.001Z"
   },
   {
    "duration": 484,
    "start_time": "2023-08-29T19:59:33.526Z"
   },
   {
    "duration": 616,
    "start_time": "2023-08-29T19:59:34.013Z"
   },
   {
    "duration": 211,
    "start_time": "2023-08-29T19:59:34.631Z"
   },
   {
    "duration": 80,
    "start_time": "2023-08-29T19:59:34.847Z"
   },
   {
    "duration": 66,
    "start_time": "2023-08-29T19:59:34.929Z"
   },
   {
    "duration": 352,
    "start_time": "2023-08-29T19:59:34.997Z"
   },
   {
    "duration": 109,
    "start_time": "2023-08-29T19:59:35.351Z"
   },
   {
    "duration": 5565,
    "start_time": "2023-08-29T19:59:35.462Z"
   },
   {
    "duration": 132,
    "start_time": "2023-08-29T19:59:41.029Z"
   },
   {
    "duration": 107192,
    "start_time": "2023-08-29T19:59:41.163Z"
   },
   {
    "duration": 120,
    "start_time": "2023-08-29T20:01:28.357Z"
   },
   {
    "duration": 109,
    "start_time": "2023-08-29T20:01:28.479Z"
   },
   {
    "duration": 7,
    "start_time": "2023-08-29T20:01:28.590Z"
   },
   {
    "duration": 66,
    "start_time": "2023-08-29T20:01:28.599Z"
   },
   {
    "duration": 280,
    "start_time": "2023-08-29T20:01:28.667Z"
   },
   {
    "duration": 48,
    "start_time": "2023-08-29T20:01:28.949Z"
   },
   {
    "duration": 299,
    "start_time": "2023-08-29T20:01:28.999Z"
   },
   {
    "duration": 55,
    "start_time": "2023-08-29T20:01:29.300Z"
   },
   {
    "duration": 7,
    "start_time": "2023-08-29T20:01:29.358Z"
   },
   {
    "duration": 3955,
    "start_time": "2023-08-29T20:03:04.475Z"
   },
   {
    "duration": 918,
    "start_time": "2023-08-29T20:03:08.432Z"
   },
   {
    "duration": 20,
    "start_time": "2023-08-29T20:03:09.352Z"
   },
   {
    "duration": 153,
    "start_time": "2023-08-29T20:03:09.374Z"
   },
   {
    "duration": 1025,
    "start_time": "2023-08-29T20:03:09.529Z"
   },
   {
    "duration": 1249,
    "start_time": "2023-08-29T20:03:10.556Z"
   },
   {
    "duration": 6,
    "start_time": "2023-08-29T20:03:11.806Z"
   },
   {
    "duration": 532,
    "start_time": "2023-08-29T20:03:11.813Z"
   },
   {
    "duration": 502,
    "start_time": "2023-08-29T20:03:12.347Z"
   },
   {
    "duration": 596,
    "start_time": "2023-08-29T20:03:12.853Z"
   },
   {
    "duration": 223,
    "start_time": "2023-08-29T20:03:13.451Z"
   },
   {
    "duration": 99,
    "start_time": "2023-08-29T20:03:13.676Z"
   },
   {
    "duration": 49,
    "start_time": "2023-08-29T20:03:13.777Z"
   },
   {
    "duration": 376,
    "start_time": "2023-08-29T20:03:13.828Z"
   },
   {
    "duration": 101,
    "start_time": "2023-08-29T20:03:14.206Z"
   },
   {
    "duration": 8269,
    "start_time": "2023-08-30T06:38:45.468Z"
   },
   {
    "duration": 1126,
    "start_time": "2023-08-30T06:38:53.739Z"
   },
   {
    "duration": 17,
    "start_time": "2023-08-30T06:38:54.867Z"
   },
   {
    "duration": 162,
    "start_time": "2023-08-30T06:38:54.886Z"
   },
   {
    "duration": 911,
    "start_time": "2023-08-30T06:38:55.049Z"
   },
   {
    "duration": 1119,
    "start_time": "2023-08-30T06:38:55.961Z"
   },
   {
    "duration": 5,
    "start_time": "2023-08-30T06:38:57.082Z"
   },
   {
    "duration": 498,
    "start_time": "2023-08-30T06:38:57.088Z"
   },
   {
    "duration": 470,
    "start_time": "2023-08-30T06:38:57.588Z"
   },
   {
    "duration": 541,
    "start_time": "2023-08-30T06:38:58.062Z"
   },
   {
    "duration": 205,
    "start_time": "2023-08-30T06:38:58.604Z"
   },
   {
    "duration": 74,
    "start_time": "2023-08-30T06:38:58.811Z"
   },
   {
    "duration": 59,
    "start_time": "2023-08-30T06:38:58.887Z"
   },
   {
    "duration": 348,
    "start_time": "2023-08-30T06:38:58.947Z"
   },
   {
    "duration": 87,
    "start_time": "2023-08-30T06:38:59.297Z"
   },
   {
    "duration": 4947,
    "start_time": "2023-08-30T06:38:59.386Z"
   },
   {
    "duration": 121,
    "start_time": "2023-08-30T06:39:04.335Z"
   },
   {
    "duration": 97109,
    "start_time": "2023-08-30T06:39:04.458Z"
   },
   {
    "duration": 105,
    "start_time": "2023-08-30T06:40:41.569Z"
   },
   {
    "duration": 101,
    "start_time": "2023-08-30T06:40:41.676Z"
   },
   {
    "duration": 5,
    "start_time": "2023-08-30T06:40:41.779Z"
   },
   {
    "duration": 67,
    "start_time": "2023-08-30T06:40:41.786Z"
   },
   {
    "duration": 247,
    "start_time": "2023-08-30T06:40:41.855Z"
   },
   {
    "duration": 33,
    "start_time": "2023-08-30T06:40:42.104Z"
   },
   {
    "duration": 261,
    "start_time": "2023-08-30T06:40:42.139Z"
   },
   {
    "duration": 38,
    "start_time": "2023-08-30T06:40:42.403Z"
   },
   {
    "duration": 8,
    "start_time": "2023-08-30T06:40:42.443Z"
   },
   {
    "duration": 225451,
    "start_time": "2023-08-30T06:40:42.456Z"
   },
   {
    "duration": 266,
    "start_time": "2023-08-30T06:44:27.910Z"
   },
   {
    "duration": 36,
    "start_time": "2023-08-30T06:44:28.178Z"
   },
   {
    "duration": 275,
    "start_time": "2023-08-30T06:44:28.216Z"
   },
   {
    "duration": 43,
    "start_time": "2023-08-30T06:44:28.493Z"
   },
   {
    "duration": 3678,
    "start_time": "2023-08-30T06:50:35.108Z"
   },
   {
    "duration": 835,
    "start_time": "2023-08-30T06:50:38.788Z"
   },
   {
    "duration": 16,
    "start_time": "2023-08-30T06:50:39.625Z"
   },
   {
    "duration": 148,
    "start_time": "2023-08-30T06:50:39.643Z"
   },
   {
    "duration": 904,
    "start_time": "2023-08-30T06:50:39.792Z"
   },
   {
    "duration": 1102,
    "start_time": "2023-08-30T06:50:40.698Z"
   },
   {
    "duration": 8,
    "start_time": "2023-08-30T06:50:41.802Z"
   },
   {
    "duration": 469,
    "start_time": "2023-08-30T06:50:41.812Z"
   },
   {
    "duration": 467,
    "start_time": "2023-08-30T06:50:42.283Z"
   },
   {
    "duration": 533,
    "start_time": "2023-08-30T06:50:42.753Z"
   },
   {
    "duration": 194,
    "start_time": "2023-08-30T06:50:43.288Z"
   },
   {
    "duration": 75,
    "start_time": "2023-08-30T06:50:43.483Z"
   },
   {
    "duration": 59,
    "start_time": "2023-08-30T06:50:43.560Z"
   },
   {
    "duration": 334,
    "start_time": "2023-08-30T06:50:43.621Z"
   },
   {
    "duration": 85,
    "start_time": "2023-08-30T06:50:43.956Z"
   },
   {
    "duration": 4562,
    "start_time": "2023-08-30T06:50:44.043Z"
   },
   {
    "duration": 120,
    "start_time": "2023-08-30T06:50:48.609Z"
   },
   {
    "duration": 96584,
    "start_time": "2023-08-30T06:50:48.732Z"
   },
   {
    "duration": 117,
    "start_time": "2023-08-30T06:52:25.319Z"
   },
   {
    "duration": 114,
    "start_time": "2023-08-30T06:52:25.438Z"
   },
   {
    "duration": 6,
    "start_time": "2023-08-30T06:52:25.555Z"
   },
   {
    "duration": 67,
    "start_time": "2023-08-30T06:52:25.563Z"
   },
   {
    "duration": 280,
    "start_time": "2023-08-30T06:52:25.632Z"
   },
   {
    "duration": 30,
    "start_time": "2023-08-30T06:52:25.914Z"
   },
   {
    "duration": 274,
    "start_time": "2023-08-30T06:52:25.946Z"
   },
   {
    "duration": 33,
    "start_time": "2023-08-30T06:52:26.222Z"
   },
   {
    "duration": 6,
    "start_time": "2023-08-30T06:52:26.257Z"
   },
   {
    "duration": 231704,
    "start_time": "2023-08-30T06:52:26.268Z"
   },
   {
    "duration": 254,
    "start_time": "2023-08-30T06:56:17.974Z"
   },
   {
    "duration": 28,
    "start_time": "2023-08-30T06:56:18.229Z"
   },
   {
    "duration": 262,
    "start_time": "2023-08-30T06:56:18.258Z"
   },
   {
    "duration": 30,
    "start_time": "2023-08-30T06:56:18.522Z"
   },
   {
    "duration": 429884,
    "start_time": "2023-08-30T06:56:18.554Z"
   },
   {
    "duration": 211,
    "start_time": "2023-08-30T07:03:28.440Z"
   },
   {
    "duration": 110,
    "start_time": "2023-08-30T07:03:28.653Z"
   },
   {
    "duration": 18,
    "start_time": "2023-08-30T07:03:28.765Z"
   },
   {
    "duration": 105,
    "start_time": "2023-08-30T07:03:28.785Z"
   },
   {
    "duration": 98,
    "start_time": "2023-08-30T07:03:28.893Z"
   },
   {
    "duration": 4,
    "start_time": "2023-08-30T07:03:28.993Z"
   },
   {
    "duration": 629,
    "start_time": "2023-08-30T07:03:29.009Z"
   },
   {
    "duration": 0,
    "start_time": "2023-08-30T07:03:29.640Z"
   },
   {
    "duration": 84,
    "start_time": "2023-08-30T07:12:54.018Z"
   },
   {
    "duration": 9,
    "start_time": "2023-08-30T07:13:51.473Z"
   },
   {
    "duration": 35,
    "start_time": "2023-08-30T07:13:57.726Z"
   },
   {
    "duration": 3780,
    "start_time": "2023-08-30T07:14:58.420Z"
   },
   {
    "duration": 964,
    "start_time": "2023-08-30T07:15:02.202Z"
   },
   {
    "duration": 18,
    "start_time": "2023-08-30T07:15:03.168Z"
   },
   {
    "duration": 177,
    "start_time": "2023-08-30T07:15:03.188Z"
   },
   {
    "duration": 957,
    "start_time": "2023-08-30T07:15:03.367Z"
   },
   {
    "duration": 1234,
    "start_time": "2023-08-30T07:15:04.326Z"
   },
   {
    "duration": 6,
    "start_time": "2023-08-30T07:15:05.562Z"
   },
   {
    "duration": 584,
    "start_time": "2023-08-30T07:15:05.569Z"
   },
   {
    "duration": 525,
    "start_time": "2023-08-30T07:15:06.155Z"
   },
   {
    "duration": 620,
    "start_time": "2023-08-30T07:15:06.684Z"
   },
   {
    "duration": 216,
    "start_time": "2023-08-30T07:15:07.307Z"
   },
   {
    "duration": 90,
    "start_time": "2023-08-30T07:15:07.525Z"
   },
   {
    "duration": 50,
    "start_time": "2023-08-30T07:15:07.617Z"
   },
   {
    "duration": 366,
    "start_time": "2023-08-30T07:15:07.669Z"
   },
   {
    "duration": 96,
    "start_time": "2023-08-30T07:15:08.037Z"
   },
   {
    "duration": 5122,
    "start_time": "2023-08-30T07:15:08.135Z"
   },
   {
    "duration": 125,
    "start_time": "2023-08-30T07:15:13.259Z"
   },
   {
    "duration": 102702,
    "start_time": "2023-08-30T07:15:13.386Z"
   },
   {
    "duration": 148,
    "start_time": "2023-08-30T07:16:56.090Z"
   },
   {
    "duration": 131,
    "start_time": "2023-08-30T07:16:56.240Z"
   },
   {
    "duration": 7,
    "start_time": "2023-08-30T07:16:56.373Z"
   },
   {
    "duration": 70,
    "start_time": "2023-08-30T07:16:56.382Z"
   },
   {
    "duration": 328,
    "start_time": "2023-08-30T07:16:56.456Z"
   },
   {
    "duration": 46,
    "start_time": "2023-08-30T07:16:56.786Z"
   },
   {
    "duration": 319,
    "start_time": "2023-08-30T07:16:56.834Z"
   },
   {
    "duration": 35,
    "start_time": "2023-08-30T07:16:57.155Z"
   },
   {
    "duration": 19,
    "start_time": "2023-08-30T07:16:57.191Z"
   },
   {
    "duration": 258286,
    "start_time": "2023-08-30T07:16:57.215Z"
   },
   {
    "duration": 311,
    "start_time": "2023-08-30T07:21:15.516Z"
   },
   {
    "duration": 31,
    "start_time": "2023-08-30T07:21:15.830Z"
   },
   {
    "duration": 319,
    "start_time": "2023-08-30T07:21:15.863Z"
   },
   {
    "duration": 51,
    "start_time": "2023-08-30T07:21:16.183Z"
   },
   {
    "duration": 572667,
    "start_time": "2023-08-30T07:21:16.236Z"
   },
   {
    "duration": 240,
    "start_time": "2023-08-30T07:30:48.905Z"
   },
   {
    "duration": 125,
    "start_time": "2023-08-30T07:30:49.147Z"
   },
   {
    "duration": 18,
    "start_time": "2023-08-30T07:30:49.274Z"
   },
   {
    "duration": 132,
    "start_time": "2023-08-30T07:30:49.294Z"
   },
   {
    "duration": 101,
    "start_time": "2023-08-30T07:30:49.430Z"
   },
   {
    "duration": 7,
    "start_time": "2023-08-30T07:30:49.533Z"
   },
   {
    "duration": 114985,
    "start_time": "2023-08-30T07:30:49.541Z"
   },
   {
    "duration": 173,
    "start_time": "2023-08-30T07:32:44.528Z"
   },
   {
    "duration": 28,
    "start_time": "2023-08-30T07:33:17.534Z"
   },
   {
    "duration": 44,
    "start_time": "2023-08-30T07:33:38.542Z"
   },
   {
    "duration": 69,
    "start_time": "2023-08-30T07:33:51.380Z"
   },
   {
    "duration": 95,
    "start_time": "2023-08-30T07:38:32.269Z"
   },
   {
    "duration": 77,
    "start_time": "2023-08-30T07:39:00.456Z"
   },
   {
    "duration": 74,
    "start_time": "2023-08-30T08:19:57.024Z"
   },
   {
    "duration": 1006,
    "start_time": "2023-08-30T08:28:38.496Z"
   },
   {
    "duration": 1113,
    "start_time": "2023-08-30T08:51:28.510Z"
   },
   {
    "duration": 977,
    "start_time": "2023-08-30T08:52:23.364Z"
   },
   {
    "duration": 7,
    "start_time": "2023-08-30T08:52:56.859Z"
   },
   {
    "duration": 15,
    "start_time": "2023-08-30T08:53:09.528Z"
   },
   {
    "duration": 4,
    "start_time": "2023-08-30T08:53:29.891Z"
   },
   {
    "duration": 6,
    "start_time": "2023-08-30T08:53:36.213Z"
   },
   {
    "duration": 5,
    "start_time": "2023-08-30T08:53:50.159Z"
   },
   {
    "duration": 4,
    "start_time": "2023-08-30T08:54:16.583Z"
   },
   {
    "duration": 3,
    "start_time": "2023-08-30T08:54:21.675Z"
   },
   {
    "duration": 5,
    "start_time": "2023-08-30T08:54:33.795Z"
   },
   {
    "duration": 5,
    "start_time": "2023-08-30T08:54:39.569Z"
   },
   {
    "duration": 3,
    "start_time": "2023-08-30T08:56:01.889Z"
   },
   {
    "duration": 5,
    "start_time": "2023-08-30T08:56:08.771Z"
   },
   {
    "duration": 11,
    "start_time": "2023-08-30T08:56:16.407Z"
   },
   {
    "duration": 175,
    "start_time": "2023-08-30T08:56:18.446Z"
   },
   {
    "duration": 4,
    "start_time": "2023-08-30T08:56:21.159Z"
   },
   {
    "duration": 6,
    "start_time": "2023-08-30T08:56:24.375Z"
   },
   {
    "duration": 5,
    "start_time": "2023-08-30T08:56:28.363Z"
   },
   {
    "duration": 6690,
    "start_time": "2023-08-30T10:05:23.591Z"
   },
   {
    "duration": 1446,
    "start_time": "2023-08-30T10:05:30.289Z"
   },
   {
    "duration": 28,
    "start_time": "2023-08-30T10:05:31.737Z"
   },
   {
    "duration": 400,
    "start_time": "2023-08-30T10:05:31.773Z"
   },
   {
    "duration": 1669,
    "start_time": "2023-08-30T10:05:32.180Z"
   },
   {
    "duration": 2063,
    "start_time": "2023-08-30T10:05:33.851Z"
   },
   {
    "duration": 17,
    "start_time": "2023-08-30T10:05:35.920Z"
   },
   {
    "duration": 903,
    "start_time": "2023-08-30T10:05:35.952Z"
   },
   {
    "duration": 837,
    "start_time": "2023-08-30T10:05:36.862Z"
   },
   {
    "duration": 1100,
    "start_time": "2023-08-30T10:05:37.714Z"
   },
   {
    "duration": 590,
    "start_time": "2023-08-30T10:05:38.816Z"
   },
   {
    "duration": 139,
    "start_time": "2023-08-30T10:05:39.408Z"
   },
   {
    "duration": 94,
    "start_time": "2023-08-30T10:05:39.549Z"
   },
   {
    "duration": 766,
    "start_time": "2023-08-30T10:05:39.647Z"
   },
   {
    "duration": 259,
    "start_time": "2023-08-30T10:05:40.418Z"
   },
   {
    "duration": 9331,
    "start_time": "2023-08-30T10:05:40.684Z"
   },
   {
    "duration": 243,
    "start_time": "2023-08-30T10:05:50.018Z"
   },
   {
    "duration": 190365,
    "start_time": "2023-08-30T10:05:50.264Z"
   },
   {
    "duration": 173,
    "start_time": "2023-08-30T10:09:00.632Z"
   },
   {
    "duration": 135,
    "start_time": "2023-08-30T10:09:00.810Z"
   },
   {
    "duration": 9,
    "start_time": "2023-08-30T10:09:00.947Z"
   },
   {
    "duration": 113,
    "start_time": "2023-08-30T10:09:00.960Z"
   },
   {
    "duration": 411,
    "start_time": "2023-08-30T10:09:01.083Z"
   },
   {
    "duration": 51,
    "start_time": "2023-08-30T10:09:01.496Z"
   },
   {
    "duration": 379,
    "start_time": "2023-08-30T10:09:01.549Z"
   },
   {
    "duration": 46,
    "start_time": "2023-08-30T10:09:01.930Z"
   },
   {
    "duration": 11,
    "start_time": "2023-08-30T10:09:01.978Z"
   },
   {
    "duration": 406140,
    "start_time": "2023-08-30T10:09:01.991Z"
   },
   {
    "duration": 412,
    "start_time": "2023-08-30T10:15:48.135Z"
   },
   {
    "duration": 39,
    "start_time": "2023-08-30T10:15:48.549Z"
   },
   {
    "duration": 389,
    "start_time": "2023-08-30T10:15:48.590Z"
   },
   {
    "duration": 84,
    "start_time": "2023-08-30T10:15:48.982Z"
   },
   {
    "duration": 693159,
    "start_time": "2023-08-30T10:15:49.068Z"
   },
   {
    "duration": 246,
    "start_time": "2023-08-30T10:27:22.233Z"
   },
   {
    "duration": 145,
    "start_time": "2023-08-30T10:27:22.482Z"
   },
   {
    "duration": 27,
    "start_time": "2023-08-30T10:27:22.628Z"
   },
   {
    "duration": 153,
    "start_time": "2023-08-30T10:27:22.662Z"
   },
   {
    "duration": 136,
    "start_time": "2023-08-30T10:27:22.820Z"
   },
   {
    "duration": 12,
    "start_time": "2023-08-30T10:27:22.961Z"
   },
   {
    "duration": 106571,
    "start_time": "2023-08-30T10:27:22.975Z"
   },
   {
    "duration": 11070505,
    "start_time": "2023-08-30T10:29:09.559Z"
   },
   {
    "duration": 4,
    "start_time": "2023-08-30T13:41:50.964Z"
   },
   {
    "duration": 9936,
    "start_time": "2023-08-31T05:51:31.859Z"
   },
   {
    "duration": 1544,
    "start_time": "2023-08-31T05:51:41.797Z"
   },
   {
    "duration": 24,
    "start_time": "2023-08-31T05:51:43.343Z"
   },
   {
    "duration": 216,
    "start_time": "2023-08-31T05:51:43.370Z"
   },
   {
    "duration": 1168,
    "start_time": "2023-08-31T05:51:43.588Z"
   },
   {
    "duration": 1366,
    "start_time": "2023-08-31T05:51:44.758Z"
   },
   {
    "duration": 6,
    "start_time": "2023-08-31T05:51:46.126Z"
   },
   {
    "duration": 611,
    "start_time": "2023-08-31T05:51:46.142Z"
   },
   {
    "duration": 583,
    "start_time": "2023-08-31T05:51:46.755Z"
   },
   {
    "duration": 686,
    "start_time": "2023-08-31T05:51:47.341Z"
   },
   {
    "duration": 260,
    "start_time": "2023-08-31T05:51:48.028Z"
   },
   {
    "duration": 105,
    "start_time": "2023-08-31T05:51:48.289Z"
   },
   {
    "duration": 68,
    "start_time": "2023-08-31T05:51:48.402Z"
   },
   {
    "duration": 507,
    "start_time": "2023-08-31T05:51:48.471Z"
   },
   {
    "duration": 117,
    "start_time": "2023-08-31T05:51:48.980Z"
   },
   {
    "duration": 6245,
    "start_time": "2023-08-31T05:51:49.098Z"
   },
   {
    "duration": 145,
    "start_time": "2023-08-31T05:51:55.346Z"
   },
   {
    "duration": 132578,
    "start_time": "2023-08-31T05:51:55.493Z"
   },
   {
    "duration": 213,
    "start_time": "2023-08-31T05:54:08.073Z"
   },
   {
    "duration": 153,
    "start_time": "2023-08-31T05:54:08.288Z"
   },
   {
    "duration": 13,
    "start_time": "2023-08-31T05:54:08.445Z"
   },
   {
    "duration": 64,
    "start_time": "2023-08-31T05:54:08.460Z"
   },
   {
    "duration": 357,
    "start_time": "2023-08-31T05:54:08.528Z"
   },
   {
    "duration": 58,
    "start_time": "2023-08-31T05:54:08.887Z"
   },
   {
    "duration": 319,
    "start_time": "2023-08-31T05:54:08.947Z"
   },
   {
    "duration": 57,
    "start_time": "2023-08-31T05:54:09.269Z"
   },
   {
    "duration": 18,
    "start_time": "2023-08-31T05:54:09.331Z"
   },
   {
    "duration": 312358,
    "start_time": "2023-08-31T05:54:09.353Z"
   },
   {
    "duration": 356,
    "start_time": "2023-08-31T05:59:21.717Z"
   },
   {
    "duration": 67,
    "start_time": "2023-08-31T05:59:22.075Z"
   },
   {
    "duration": 320,
    "start_time": "2023-08-31T05:59:22.144Z"
   },
   {
    "duration": 47,
    "start_time": "2023-08-31T05:59:22.466Z"
   },
   {
    "duration": 557137,
    "start_time": "2023-08-31T05:59:22.521Z"
   },
   {
    "duration": 211,
    "start_time": "2023-08-31T06:08:39.660Z"
   },
   {
    "duration": 117,
    "start_time": "2023-08-31T06:08:39.872Z"
   },
   {
    "duration": 35,
    "start_time": "2023-08-31T06:08:39.991Z"
   },
   {
    "duration": 119,
    "start_time": "2023-08-31T06:08:40.035Z"
   },
   {
    "duration": 98,
    "start_time": "2023-08-31T06:08:40.156Z"
   },
   {
    "duration": 5,
    "start_time": "2023-08-31T06:08:40.256Z"
   },
   {
    "duration": 116340,
    "start_time": "2023-08-31T06:08:40.263Z"
   },
   {
    "duration": 9274105,
    "start_time": "2023-08-31T06:10:36.617Z"
   },
   {
    "duration": 2829,
    "start_time": "2023-08-31T09:17:34.651Z"
   },
   {
    "duration": 166,
    "start_time": "2023-08-31T09:18:19.379Z"
   },
   {
    "duration": 11,
    "start_time": "2023-08-31T09:25:35.448Z"
   },
   {
    "duration": 10,
    "start_time": "2023-08-31T09:25:49.775Z"
   },
   {
    "duration": 45,
    "start_time": "2023-08-31T09:25:55.234Z"
   },
   {
    "duration": 46,
    "start_time": "2023-08-31T09:27:20.453Z"
   },
   {
    "duration": 32,
    "start_time": "2023-08-31T09:27:46.236Z"
   },
   {
    "duration": 638,
    "start_time": "2023-08-31T09:29:10.488Z"
   },
   {
    "duration": 19,
    "start_time": "2023-08-31T09:30:26.579Z"
   },
   {
    "duration": 542,
    "start_time": "2023-08-31T09:30:36.940Z"
   },
   {
    "duration": 2855,
    "start_time": "2023-08-31T09:31:40.487Z"
   },
   {
    "duration": 1284134,
    "start_time": "2023-08-31T09:31:59.492Z"
   },
   {
    "duration": 17,
    "start_time": "2023-08-31T10:57:42.398Z"
   },
   {
    "duration": 2418,
    "start_time": "2023-08-31T10:57:57.542Z"
   },
   {
    "duration": 21,
    "start_time": "2023-08-31T10:58:06.297Z"
   },
   {
    "duration": 11,
    "start_time": "2023-08-31T10:59:11.845Z"
   },
   {
    "duration": 52,
    "start_time": "2023-08-31T10:59:24.696Z"
   },
   {
    "duration": 44,
    "start_time": "2023-08-31T11:00:10.749Z"
   },
   {
    "duration": 36,
    "start_time": "2023-08-31T11:00:27.618Z"
   },
   {
    "duration": 40,
    "start_time": "2023-08-31T11:00:47.853Z"
   },
   {
    "duration": 7320,
    "start_time": "2023-09-01T04:48:28.288Z"
   },
   {
    "duration": 1068,
    "start_time": "2023-09-01T04:48:35.610Z"
   },
   {
    "duration": 16,
    "start_time": "2023-09-01T04:48:36.680Z"
   },
   {
    "duration": 119,
    "start_time": "2023-09-01T04:48:36.698Z"
   },
   {
    "duration": 757,
    "start_time": "2023-09-01T04:48:36.818Z"
   },
   {
    "duration": 946,
    "start_time": "2023-09-01T04:48:37.577Z"
   },
   {
    "duration": 5,
    "start_time": "2023-09-01T04:48:38.524Z"
   },
   {
    "duration": 401,
    "start_time": "2023-09-01T04:48:38.530Z"
   },
   {
    "duration": 421,
    "start_time": "2023-09-01T04:48:38.932Z"
   },
   {
    "duration": 475,
    "start_time": "2023-09-01T04:48:39.355Z"
   },
   {
    "duration": 169,
    "start_time": "2023-09-01T04:48:39.832Z"
   },
   {
    "duration": 77,
    "start_time": "2023-09-01T04:48:40.002Z"
   },
   {
    "duration": 41,
    "start_time": "2023-09-01T04:48:40.080Z"
   },
   {
    "duration": 301,
    "start_time": "2023-09-01T04:48:40.123Z"
   },
   {
    "duration": 81,
    "start_time": "2023-09-01T04:48:40.425Z"
   },
   {
    "duration": 4216,
    "start_time": "2023-09-01T04:48:40.508Z"
   },
   {
    "duration": 103,
    "start_time": "2023-09-01T04:48:44.725Z"
   },
   {
    "duration": 86420,
    "start_time": "2023-09-01T04:48:44.829Z"
   },
   {
    "duration": 89,
    "start_time": "2023-09-01T04:50:11.251Z"
   },
   {
    "duration": 86,
    "start_time": "2023-09-01T04:50:11.341Z"
   },
   {
    "duration": 22,
    "start_time": "2023-09-01T04:50:11.429Z"
   },
   {
    "duration": 39,
    "start_time": "2023-09-01T04:50:11.452Z"
   },
   {
    "duration": 219,
    "start_time": "2023-09-01T04:50:11.492Z"
   },
   {
    "duration": 37,
    "start_time": "2023-09-01T04:50:11.712Z"
   },
   {
    "duration": 215,
    "start_time": "2023-09-01T04:50:11.751Z"
   },
   {
    "duration": 30,
    "start_time": "2023-09-01T04:50:11.967Z"
   },
   {
    "duration": 7,
    "start_time": "2023-09-01T04:50:11.999Z"
   },
   {
    "duration": 203271,
    "start_time": "2023-09-01T04:50:12.009Z"
   },
   {
    "duration": 228,
    "start_time": "2023-09-01T04:53:35.282Z"
   },
   {
    "duration": 27,
    "start_time": "2023-09-01T04:53:35.512Z"
   },
   {
    "duration": 235,
    "start_time": "2023-09-01T04:53:35.540Z"
   },
   {
    "duration": 29,
    "start_time": "2023-09-01T04:53:35.777Z"
   },
   {
    "duration": 3212,
    "start_time": "2023-09-01T04:57:55.646Z"
   },
   {
    "duration": 721,
    "start_time": "2023-09-01T04:57:58.860Z"
   },
   {
    "duration": 15,
    "start_time": "2023-09-01T04:57:59.582Z"
   },
   {
    "duration": 136,
    "start_time": "2023-09-01T04:57:59.599Z"
   },
   {
    "duration": 776,
    "start_time": "2023-09-01T04:57:59.737Z"
   },
   {
    "duration": 1028,
    "start_time": "2023-09-01T04:58:00.515Z"
   },
   {
    "duration": 7,
    "start_time": "2023-09-01T04:58:01.544Z"
   },
   {
    "duration": 490,
    "start_time": "2023-09-01T04:58:01.553Z"
   },
   {
    "duration": 435,
    "start_time": "2023-09-01T04:58:02.044Z"
   },
   {
    "duration": 461,
    "start_time": "2023-09-01T04:58:02.482Z"
   },
   {
    "duration": 177,
    "start_time": "2023-09-01T04:58:02.944Z"
   },
   {
    "duration": 392,
    "start_time": "2023-09-01T04:58:03.123Z"
   },
   {
    "duration": 43,
    "start_time": "2023-09-01T04:58:03.516Z"
   },
   {
    "duration": 299,
    "start_time": "2023-09-01T04:58:03.561Z"
   },
   {
    "duration": 75,
    "start_time": "2023-09-01T04:58:03.862Z"
   },
   {
    "duration": 4262,
    "start_time": "2023-09-01T04:58:03.939Z"
   },
   {
    "duration": 102,
    "start_time": "2023-09-01T04:58:08.202Z"
   },
   {
    "duration": 86056,
    "start_time": "2023-09-01T04:58:08.305Z"
   },
   {
    "duration": 101,
    "start_time": "2023-09-01T04:59:34.363Z"
   },
   {
    "duration": 87,
    "start_time": "2023-09-01T04:59:34.466Z"
   },
   {
    "duration": 6,
    "start_time": "2023-09-01T04:59:34.555Z"
   },
   {
    "duration": 38,
    "start_time": "2023-09-01T04:59:34.563Z"
   },
   {
    "duration": 238,
    "start_time": "2023-09-01T04:59:34.604Z"
   },
   {
    "duration": 27,
    "start_time": "2023-09-01T04:59:34.849Z"
   },
   {
    "duration": 223,
    "start_time": "2023-09-01T04:59:34.878Z"
   },
   {
    "duration": 31,
    "start_time": "2023-09-01T04:59:35.102Z"
   },
   {
    "duration": 15,
    "start_time": "2023-09-01T04:59:35.135Z"
   },
   {
    "duration": 214003,
    "start_time": "2023-09-01T04:59:35.153Z"
   },
   {
    "duration": 254,
    "start_time": "2023-09-01T05:03:09.158Z"
   },
   {
    "duration": 27,
    "start_time": "2023-09-01T05:03:09.413Z"
   },
   {
    "duration": 242,
    "start_time": "2023-09-01T05:03:09.449Z"
   },
   {
    "duration": 30,
    "start_time": "2023-09-01T05:03:09.693Z"
   },
   {
    "duration": 380817,
    "start_time": "2023-09-01T05:03:09.725Z"
   },
   {
    "duration": 161,
    "start_time": "2023-09-01T05:09:30.550Z"
   },
   {
    "duration": 90,
    "start_time": "2023-09-01T05:09:30.714Z"
   },
   {
    "duration": 16,
    "start_time": "2023-09-01T05:09:30.806Z"
   },
   {
    "duration": 195,
    "start_time": "2023-09-01T05:09:30.824Z"
   },
   {
    "duration": 69,
    "start_time": "2023-09-01T05:09:31.020Z"
   },
   {
    "duration": 4,
    "start_time": "2023-09-01T05:09:31.091Z"
   },
   {
    "duration": 161833,
    "start_time": "2023-09-01T05:09:31.097Z"
   },
   {
    "duration": 16,
    "start_time": "2023-09-01T05:14:36.985Z"
   },
   {
    "duration": 3257,
    "start_time": "2023-09-01T05:37:04.487Z"
   },
   {
    "duration": 694,
    "start_time": "2023-09-01T05:37:07.746Z"
   },
   {
    "duration": 19,
    "start_time": "2023-09-01T05:37:08.442Z"
   },
   {
    "duration": 120,
    "start_time": "2023-09-01T05:37:08.463Z"
   },
   {
    "duration": 766,
    "start_time": "2023-09-01T05:37:08.584Z"
   },
   {
    "duration": 987,
    "start_time": "2023-09-01T05:37:09.352Z"
   },
   {
    "duration": 10,
    "start_time": "2023-09-01T05:37:10.340Z"
   },
   {
    "duration": 405,
    "start_time": "2023-09-01T05:37:10.351Z"
   },
   {
    "duration": 393,
    "start_time": "2023-09-01T05:37:10.758Z"
   },
   {
    "duration": 470,
    "start_time": "2023-09-01T05:37:11.154Z"
   },
   {
    "duration": 179,
    "start_time": "2023-09-01T05:37:11.626Z"
   },
   {
    "duration": 72,
    "start_time": "2023-09-01T05:37:11.806Z"
   },
   {
    "duration": 39,
    "start_time": "2023-09-01T05:37:11.879Z"
   },
   {
    "duration": 320,
    "start_time": "2023-09-01T05:37:11.920Z"
   },
   {
    "duration": 79,
    "start_time": "2023-09-01T05:37:12.241Z"
   },
   {
    "duration": 4232,
    "start_time": "2023-09-01T05:37:12.321Z"
   },
   {
    "duration": 105,
    "start_time": "2023-09-01T05:37:16.554Z"
   },
   {
    "duration": 85919,
    "start_time": "2023-09-01T05:37:16.660Z"
   },
   {
    "duration": 115,
    "start_time": "2023-09-01T05:38:42.581Z"
   },
   {
    "duration": 92,
    "start_time": "2023-09-01T05:38:42.698Z"
   },
   {
    "duration": 6,
    "start_time": "2023-09-01T05:38:42.791Z"
   },
   {
    "duration": 63,
    "start_time": "2023-09-01T05:38:42.799Z"
   },
   {
    "duration": 214,
    "start_time": "2023-09-01T05:38:42.863Z"
   },
   {
    "duration": 25,
    "start_time": "2023-09-01T05:38:43.079Z"
   },
   {
    "duration": 225,
    "start_time": "2023-09-01T05:38:43.106Z"
   },
   {
    "duration": 34,
    "start_time": "2023-09-01T05:38:43.332Z"
   },
   {
    "duration": 6,
    "start_time": "2023-09-01T05:38:43.368Z"
   },
   {
    "duration": 205148,
    "start_time": "2023-09-01T05:38:43.377Z"
   },
   {
    "duration": 232,
    "start_time": "2023-09-01T05:42:08.526Z"
   },
   {
    "duration": 26,
    "start_time": "2023-09-01T05:42:08.760Z"
   },
   {
    "duration": 230,
    "start_time": "2023-09-01T05:42:08.788Z"
   },
   {
    "duration": 34,
    "start_time": "2023-09-01T05:42:09.019Z"
   },
   {
    "duration": 376202,
    "start_time": "2023-09-01T05:42:09.054Z"
   },
   {
    "duration": 154,
    "start_time": "2023-09-01T05:48:25.258Z"
   },
   {
    "duration": 92,
    "start_time": "2023-09-01T05:48:25.414Z"
   },
   {
    "duration": 17,
    "start_time": "2023-09-01T05:48:25.508Z"
   },
   {
    "duration": 87,
    "start_time": "2023-09-01T05:48:25.527Z"
   },
   {
    "duration": 81,
    "start_time": "2023-09-01T05:48:25.616Z"
   },
   {
    "duration": 4,
    "start_time": "2023-09-01T05:48:25.699Z"
   },
   {
    "duration": 156709,
    "start_time": "2023-09-01T05:48:25.705Z"
   },
   {
    "duration": 110,
    "start_time": "2023-09-01T05:51:02.416Z"
   },
   {
    "duration": 0,
    "start_time": "2023-09-01T05:51:02.528Z"
   },
   {
    "duration": 1613582,
    "start_time": "2023-09-01T05:51:45.142Z"
   },
   {
    "duration": 14822570,
    "start_time": "2023-09-01T06:30:41.296Z"
   },
   {
    "duration": 1163494,
    "start_time": "2023-09-01T10:37:43.868Z"
   },
   {
    "duration": 917,
    "start_time": "2023-09-01T11:56:23.877Z"
   },
   {
    "duration": 931,
    "start_time": "2023-09-01T11:58:12.134Z"
   },
   {
    "duration": 4,
    "start_time": "2023-09-01T12:21:52.892Z"
   },
   {
    "duration": 6549,
    "start_time": "2023-09-01T12:30:31.939Z"
   },
   {
    "duration": 5859,
    "start_time": "2023-09-01T12:37:19.704Z"
   },
   {
    "duration": 5914,
    "start_time": "2023-09-01T12:41:00.506Z"
   },
   {
    "duration": 5,
    "start_time": "2023-09-01T12:50:35.822Z"
   },
   {
    "duration": 3,
    "start_time": "2023-09-01T12:50:39.605Z"
   },
   {
    "duration": 14,
    "start_time": "2023-09-01T13:00:47.840Z"
   },
   {
    "duration": 6,
    "start_time": "2023-09-01T13:00:52.767Z"
   },
   {
    "duration": 4,
    "start_time": "2023-09-01T13:00:55.181Z"
   },
   {
    "duration": 5,
    "start_time": "2023-09-01T13:01:08.682Z"
   },
   {
    "duration": 5,
    "start_time": "2023-09-01T13:01:13.846Z"
   },
   {
    "duration": 7,
    "start_time": "2023-09-01T13:01:17.530Z"
   },
   {
    "duration": 8,
    "start_time": "2023-09-01T13:01:31.484Z"
   },
   {
    "duration": 45,
    "start_time": "2023-09-01T13:03:09.336Z"
   },
   {
    "duration": 8114,
    "start_time": "2023-09-04T07:03:57.067Z"
   },
   {
    "duration": 1155,
    "start_time": "2023-09-04T07:04:05.183Z"
   },
   {
    "duration": 16,
    "start_time": "2023-09-04T07:04:06.340Z"
   },
   {
    "duration": 145,
    "start_time": "2023-09-04T07:04:06.358Z"
   },
   {
    "duration": 897,
    "start_time": "2023-09-04T07:04:06.505Z"
   },
   {
    "duration": 1080,
    "start_time": "2023-09-04T07:04:07.404Z"
   },
   {
    "duration": 5,
    "start_time": "2023-09-04T07:04:08.485Z"
   },
   {
    "duration": 450,
    "start_time": "2023-09-04T07:04:08.492Z"
   },
   {
    "duration": 416,
    "start_time": "2023-09-04T07:04:08.944Z"
   },
   {
    "duration": 500,
    "start_time": "2023-09-04T07:04:09.362Z"
   },
   {
    "duration": 188,
    "start_time": "2023-09-04T07:04:09.863Z"
   },
   {
    "duration": 78,
    "start_time": "2023-09-04T07:04:10.052Z"
   },
   {
    "duration": 42,
    "start_time": "2023-09-04T07:04:10.132Z"
   },
   {
    "duration": 343,
    "start_time": "2023-09-04T07:04:10.176Z"
   },
   {
    "duration": 80,
    "start_time": "2023-09-04T07:04:10.523Z"
   },
   {
    "duration": 4619,
    "start_time": "2023-09-04T07:04:10.605Z"
   },
   {
    "duration": 113,
    "start_time": "2023-09-04T07:04:15.225Z"
   },
   {
    "duration": 92685,
    "start_time": "2023-09-04T07:04:15.340Z"
   },
   {
    "duration": 121,
    "start_time": "2023-09-04T07:05:48.027Z"
   },
   {
    "duration": 104,
    "start_time": "2023-09-04T07:05:48.149Z"
   },
   {
    "duration": 6,
    "start_time": "2023-09-04T07:05:48.255Z"
   },
   {
    "duration": 61,
    "start_time": "2023-09-04T07:05:48.263Z"
   },
   {
    "duration": 240,
    "start_time": "2023-09-04T07:05:48.326Z"
   },
   {
    "duration": 26,
    "start_time": "2023-09-04T07:05:48.567Z"
   },
   {
    "duration": 255,
    "start_time": "2023-09-04T07:05:48.595Z"
   },
   {
    "duration": 30,
    "start_time": "2023-09-04T07:05:48.851Z"
   },
   {
    "duration": 7,
    "start_time": "2023-09-04T07:05:48.883Z"
   },
   {
    "duration": 215911,
    "start_time": "2023-09-04T07:05:48.893Z"
   },
   {
    "duration": 256,
    "start_time": "2023-09-04T07:09:24.806Z"
   },
   {
    "duration": 28,
    "start_time": "2023-09-04T07:09:25.064Z"
   },
   {
    "duration": 274,
    "start_time": "2023-09-04T07:09:25.094Z"
   },
   {
    "duration": 31,
    "start_time": "2023-09-04T07:09:25.370Z"
   },
   {
    "duration": 434105,
    "start_time": "2023-09-04T07:09:25.403Z"
   },
   {
    "duration": 181,
    "start_time": "2023-09-04T07:16:39.510Z"
   },
   {
    "duration": 108,
    "start_time": "2023-09-04T07:16:39.693Z"
   },
   {
    "duration": 38,
    "start_time": "2023-09-04T07:16:39.803Z"
   },
   {
    "duration": 93,
    "start_time": "2023-09-04T07:16:39.843Z"
   },
   {
    "duration": 81,
    "start_time": "2023-09-04T07:16:39.938Z"
   },
   {
    "duration": 10,
    "start_time": "2023-09-04T07:16:40.022Z"
   },
   {
    "duration": 120179,
    "start_time": "2023-09-04T07:16:40.033Z"
   },
   {
    "duration": 309,
    "start_time": "2023-09-04T07:18:40.214Z"
   },
   {
    "duration": 3747,
    "start_time": "2023-09-04T07:45:00.871Z"
   },
   {
    "duration": 842,
    "start_time": "2023-09-04T07:45:04.620Z"
   },
   {
    "duration": 15,
    "start_time": "2023-09-04T07:45:05.463Z"
   },
   {
    "duration": 172,
    "start_time": "2023-09-04T07:45:05.480Z"
   },
   {
    "duration": 983,
    "start_time": "2023-09-04T07:45:05.653Z"
   },
   {
    "duration": 1127,
    "start_time": "2023-09-04T07:45:06.640Z"
   },
   {
    "duration": 5,
    "start_time": "2023-09-04T07:45:07.768Z"
   },
   {
    "duration": 475,
    "start_time": "2023-09-04T07:45:07.775Z"
   },
   {
    "duration": 440,
    "start_time": "2023-09-04T07:45:08.252Z"
   },
   {
    "duration": 511,
    "start_time": "2023-09-04T07:45:08.695Z"
   },
   {
    "duration": 208,
    "start_time": "2023-09-04T07:45:09.208Z"
   },
   {
    "duration": 85,
    "start_time": "2023-09-04T07:45:09.418Z"
   },
   {
    "duration": 77,
    "start_time": "2023-09-04T07:45:09.504Z"
   },
   {
    "duration": 320,
    "start_time": "2023-09-04T07:45:09.582Z"
   },
   {
    "duration": 96,
    "start_time": "2023-09-04T07:45:09.903Z"
   },
   {
    "duration": 4904,
    "start_time": "2023-09-04T07:45:10.001Z"
   },
   {
    "duration": 130,
    "start_time": "2023-09-04T07:45:14.908Z"
   },
   {
    "duration": 102722,
    "start_time": "2023-09-04T07:45:15.040Z"
   },
   {
    "duration": 192,
    "start_time": "2023-09-04T07:46:57.764Z"
   },
   {
    "duration": 103,
    "start_time": "2023-09-04T07:46:57.958Z"
   },
   {
    "duration": 6,
    "start_time": "2023-09-04T07:46:58.062Z"
   },
   {
    "duration": 60,
    "start_time": "2023-09-04T07:46:58.070Z"
   },
   {
    "duration": 249,
    "start_time": "2023-09-04T07:46:58.135Z"
   },
   {
    "duration": 55,
    "start_time": "2023-09-04T07:46:58.385Z"
   },
   {
    "duration": 250,
    "start_time": "2023-09-04T07:46:58.441Z"
   },
   {
    "duration": 50,
    "start_time": "2023-09-04T07:46:58.693Z"
   },
   {
    "duration": 7,
    "start_time": "2023-09-04T07:46:58.745Z"
   },
   {
    "duration": 253493,
    "start_time": "2023-09-04T07:46:58.755Z"
   },
   {
    "duration": 273,
    "start_time": "2023-09-04T07:51:12.250Z"
   },
   {
    "duration": 33,
    "start_time": "2023-09-04T07:51:12.530Z"
   },
   {
    "duration": 294,
    "start_time": "2023-09-04T07:51:12.565Z"
   },
   {
    "duration": 37,
    "start_time": "2023-09-04T07:51:12.861Z"
   },
   {
    "duration": 445153,
    "start_time": "2023-09-04T07:51:12.900Z"
   },
   {
    "duration": 189,
    "start_time": "2023-09-04T07:58:38.055Z"
   },
   {
    "duration": 102,
    "start_time": "2023-09-04T07:58:38.246Z"
   },
   {
    "duration": 19,
    "start_time": "2023-09-04T07:58:38.350Z"
   },
   {
    "duration": 104,
    "start_time": "2023-09-04T07:58:38.371Z"
   },
   {
    "duration": 103,
    "start_time": "2023-09-04T07:58:38.476Z"
   },
   {
    "duration": 4,
    "start_time": "2023-09-04T07:58:38.581Z"
   },
   {
    "duration": 123930,
    "start_time": "2023-09-04T07:58:38.587Z"
   },
   {
    "duration": 28116,
    "start_time": "2023-09-04T08:00:42.524Z"
   },
   {
    "duration": 1725883,
    "start_time": "2023-09-04T08:01:10.642Z"
   },
   {
    "duration": 2572401,
    "start_time": "2023-09-04T08:29:56.529Z"
   },
   {
    "duration": 898,
    "start_time": "2023-09-04T09:12:48.932Z"
   },
   {
    "duration": 3908,
    "start_time": "2023-09-04T10:06:03.167Z"
   },
   {
    "duration": 885,
    "start_time": "2023-09-04T10:06:07.077Z"
   },
   {
    "duration": 16,
    "start_time": "2023-09-04T10:06:07.964Z"
   },
   {
    "duration": 176,
    "start_time": "2023-09-04T10:06:07.982Z"
   },
   {
    "duration": 1025,
    "start_time": "2023-09-04T10:06:08.159Z"
   },
   {
    "duration": 1217,
    "start_time": "2023-09-04T10:06:09.186Z"
   },
   {
    "duration": 6,
    "start_time": "2023-09-04T10:06:10.406Z"
   },
   {
    "duration": 493,
    "start_time": "2023-09-04T10:06:10.427Z"
   },
   {
    "duration": 489,
    "start_time": "2023-09-04T10:06:10.928Z"
   },
   {
    "duration": 609,
    "start_time": "2023-09-04T10:06:11.420Z"
   },
   {
    "duration": 236,
    "start_time": "2023-09-04T10:06:12.034Z"
   },
   {
    "duration": 98,
    "start_time": "2023-09-04T10:06:12.272Z"
   },
   {
    "duration": 72,
    "start_time": "2023-09-04T10:06:12.372Z"
   },
   {
    "duration": 372,
    "start_time": "2023-09-04T10:06:12.448Z"
   },
   {
    "duration": 137,
    "start_time": "2023-09-04T10:06:12.822Z"
   },
   {
    "duration": 5453,
    "start_time": "2023-09-04T10:06:12.965Z"
   },
   {
    "duration": 142,
    "start_time": "2023-09-04T10:06:18.419Z"
   },
   {
    "duration": 116296,
    "start_time": "2023-09-04T10:06:18.563Z"
   },
   {
    "duration": 129,
    "start_time": "2023-09-04T10:08:14.861Z"
   },
   {
    "duration": 109,
    "start_time": "2023-09-04T10:08:14.992Z"
   },
   {
    "duration": 6,
    "start_time": "2023-09-04T10:08:15.103Z"
   },
   {
    "duration": 105,
    "start_time": "2023-09-04T10:08:15.124Z"
   },
   {
    "duration": 268,
    "start_time": "2023-09-04T10:08:15.239Z"
   },
   {
    "duration": 43,
    "start_time": "2023-09-04T10:08:15.509Z"
   },
   {
    "duration": 292,
    "start_time": "2023-09-04T10:08:15.554Z"
   },
   {
    "duration": 36,
    "start_time": "2023-09-04T10:08:15.852Z"
   },
   {
    "duration": 114,
    "start_time": "2023-09-04T10:08:15.890Z"
   },
   {
    "duration": 275693,
    "start_time": "2023-09-04T10:08:16.006Z"
   },
   {
    "duration": 274,
    "start_time": "2023-09-04T10:12:51.701Z"
   },
   {
    "duration": 28,
    "start_time": "2023-09-04T10:12:51.977Z"
   },
   {
    "duration": 279,
    "start_time": "2023-09-04T10:12:52.007Z"
   },
   {
    "duration": 46,
    "start_time": "2023-09-04T10:12:52.287Z"
   },
   {
    "duration": 427285,
    "start_time": "2023-09-04T10:12:52.335Z"
   },
   {
    "duration": 179,
    "start_time": "2023-09-04T10:19:59.622Z"
   },
   {
    "duration": 95,
    "start_time": "2023-09-04T10:19:59.803Z"
   },
   {
    "duration": 34,
    "start_time": "2023-09-04T10:19:59.900Z"
   },
   {
    "duration": 81,
    "start_time": "2023-09-04T10:19:59.938Z"
   },
   {
    "duration": 126,
    "start_time": "2023-09-04T10:20:00.023Z"
   },
   {
    "duration": 5,
    "start_time": "2023-09-04T10:20:00.151Z"
   },
   {
    "duration": 125676,
    "start_time": "2023-09-04T10:20:00.157Z"
   },
   {
    "duration": 30081,
    "start_time": "2023-09-04T10:22:05.843Z"
   },
   {
    "duration": 1762237,
    "start_time": "2023-09-04T10:22:35.929Z"
   },
   {
    "duration": 1454363,
    "start_time": "2023-09-04T10:51:58.168Z"
   },
   {
    "duration": 993,
    "start_time": "2023-09-04T11:16:12.532Z"
   },
   {
    "duration": 352,
    "start_time": "2023-09-04T11:25:04.768Z"
   },
   {
    "duration": 849,
    "start_time": "2023-09-04T11:25:41.686Z"
   },
   {
    "duration": 888,
    "start_time": "2023-09-04T11:28:49.241Z"
   },
   {
    "duration": 389,
    "start_time": "2023-09-04T11:34:28.794Z"
   },
   {
    "duration": 565,
    "start_time": "2023-09-04T11:34:36.466Z"
   },
   {
    "duration": 284,
    "start_time": "2023-09-04T13:34:01.921Z"
   },
   {
    "duration": 8398,
    "start_time": "2023-09-05T05:41:25.195Z"
   },
   {
    "duration": 1270,
    "start_time": "2023-09-05T05:41:33.596Z"
   },
   {
    "duration": 19,
    "start_time": "2023-09-05T05:41:34.868Z"
   },
   {
    "duration": 165,
    "start_time": "2023-09-05T05:41:34.890Z"
   },
   {
    "duration": 971,
    "start_time": "2023-09-05T05:41:35.056Z"
   },
   {
    "duration": 1145,
    "start_time": "2023-09-05T05:41:36.029Z"
   },
   {
    "duration": 5,
    "start_time": "2023-09-05T05:41:37.175Z"
   },
   {
    "duration": 496,
    "start_time": "2023-09-05T05:41:37.182Z"
   },
   {
    "duration": 490,
    "start_time": "2023-09-05T05:41:37.680Z"
   },
   {
    "duration": 568,
    "start_time": "2023-09-05T05:41:38.172Z"
   },
   {
    "duration": 216,
    "start_time": "2023-09-05T05:41:38.742Z"
   },
   {
    "duration": 91,
    "start_time": "2023-09-05T05:41:38.960Z"
   },
   {
    "duration": 64,
    "start_time": "2023-09-05T05:41:39.053Z"
   },
   {
    "duration": 357,
    "start_time": "2023-09-05T05:41:39.119Z"
   },
   {
    "duration": 106,
    "start_time": "2023-09-05T05:41:39.478Z"
   },
   {
    "duration": 4874,
    "start_time": "2023-09-05T05:41:39.586Z"
   },
   {
    "duration": 154,
    "start_time": "2023-09-05T05:41:44.462Z"
   },
   {
    "duration": 112863,
    "start_time": "2023-09-05T05:41:44.620Z"
   },
   {
    "duration": 136,
    "start_time": "2023-09-05T05:43:37.484Z"
   },
   {
    "duration": 113,
    "start_time": "2023-09-05T05:43:37.622Z"
   },
   {
    "duration": 8,
    "start_time": "2023-09-05T05:43:37.738Z"
   },
   {
    "duration": 64,
    "start_time": "2023-09-05T05:43:37.748Z"
   },
   {
    "duration": 285,
    "start_time": "2023-09-05T05:43:37.814Z"
   },
   {
    "duration": 34,
    "start_time": "2023-09-05T05:43:38.101Z"
   },
   {
    "duration": 309,
    "start_time": "2023-09-05T05:43:38.138Z"
   },
   {
    "duration": 34,
    "start_time": "2023-09-05T05:43:38.449Z"
   },
   {
    "duration": 19,
    "start_time": "2023-09-05T05:43:38.486Z"
   },
   {
    "duration": 260557,
    "start_time": "2023-09-05T05:43:38.509Z"
   },
   {
    "duration": 269,
    "start_time": "2023-09-05T05:47:59.068Z"
   },
   {
    "duration": 30,
    "start_time": "2023-09-05T05:47:59.338Z"
   },
   {
    "duration": 402,
    "start_time": "2023-09-05T05:47:59.370Z"
   },
   {
    "duration": 42,
    "start_time": "2023-09-05T05:47:59.774Z"
   },
   {
    "duration": 3663,
    "start_time": "2023-09-05T05:49:35.045Z"
   },
   {
    "duration": 923,
    "start_time": "2023-09-05T05:49:38.710Z"
   },
   {
    "duration": 17,
    "start_time": "2023-09-05T05:49:39.635Z"
   },
   {
    "duration": 175,
    "start_time": "2023-09-05T05:49:39.654Z"
   },
   {
    "duration": 965,
    "start_time": "2023-09-05T05:49:39.830Z"
   },
   {
    "duration": 1156,
    "start_time": "2023-09-05T05:49:40.797Z"
   },
   {
    "duration": 6,
    "start_time": "2023-09-05T05:49:41.954Z"
   },
   {
    "duration": 481,
    "start_time": "2023-09-05T05:49:41.961Z"
   },
   {
    "duration": 468,
    "start_time": "2023-09-05T05:49:42.444Z"
   },
   {
    "duration": 559,
    "start_time": "2023-09-05T05:49:42.915Z"
   },
   {
    "duration": 214,
    "start_time": "2023-09-05T05:49:43.476Z"
   },
   {
    "duration": 85,
    "start_time": "2023-09-05T05:49:43.691Z"
   },
   {
    "duration": 68,
    "start_time": "2023-09-05T05:49:43.777Z"
   },
   {
    "duration": 371,
    "start_time": "2023-09-05T05:49:43.846Z"
   },
   {
    "duration": 116,
    "start_time": "2023-09-05T05:49:44.219Z"
   },
   {
    "duration": 4957,
    "start_time": "2023-09-05T05:49:44.337Z"
   },
   {
    "duration": 142,
    "start_time": "2023-09-05T05:49:49.296Z"
   },
   {
    "duration": 110798,
    "start_time": "2023-09-05T05:49:49.439Z"
   },
   {
    "duration": 118,
    "start_time": "2023-09-05T05:51:40.239Z"
   },
   {
    "duration": 102,
    "start_time": "2023-09-05T05:51:40.359Z"
   },
   {
    "duration": 7,
    "start_time": "2023-09-05T05:51:40.463Z"
   },
   {
    "duration": 62,
    "start_time": "2023-09-05T05:51:40.471Z"
   },
   {
    "duration": 270,
    "start_time": "2023-09-05T05:51:40.535Z"
   },
   {
    "duration": 29,
    "start_time": "2023-09-05T05:51:40.806Z"
   },
   {
    "duration": 270,
    "start_time": "2023-09-05T05:51:40.836Z"
   },
   {
    "duration": 32,
    "start_time": "2023-09-05T05:51:41.108Z"
   },
   {
    "duration": 7,
    "start_time": "2023-09-05T05:51:41.142Z"
   },
   {
    "duration": 262068,
    "start_time": "2023-09-05T05:51:41.152Z"
   },
   {
    "duration": 288,
    "start_time": "2023-09-05T05:56:03.222Z"
   },
   {
    "duration": 30,
    "start_time": "2023-09-05T05:56:03.512Z"
   },
   {
    "duration": 300,
    "start_time": "2023-09-05T05:56:03.544Z"
   },
   {
    "duration": 37,
    "start_time": "2023-09-05T05:56:03.846Z"
   },
   {
    "duration": 476254,
    "start_time": "2023-09-05T05:56:03.885Z"
   },
   {
    "duration": 199,
    "start_time": "2023-09-05T06:04:00.141Z"
   },
   {
    "duration": 107,
    "start_time": "2023-09-05T06:04:00.342Z"
   },
   {
    "duration": 20,
    "start_time": "2023-09-05T06:04:00.451Z"
   },
   {
    "duration": 122,
    "start_time": "2023-09-05T06:04:00.473Z"
   },
   {
    "duration": 88,
    "start_time": "2023-09-05T06:04:00.601Z"
   },
   {
    "duration": 12,
    "start_time": "2023-09-05T06:04:00.691Z"
   },
   {
    "duration": 176,
    "start_time": "2023-09-05T08:48:18.620Z"
   },
   {
    "duration": 25,
    "start_time": "2023-09-05T08:50:08.246Z"
   },
   {
    "duration": 10,
    "start_time": "2023-09-05T08:50:37.452Z"
   },
   {
    "duration": 139,
    "start_time": "2023-09-05T08:50:49.518Z"
   },
   {
    "duration": 31,
    "start_time": "2023-09-05T08:51:23.396Z"
   },
   {
    "duration": 37,
    "start_time": "2023-09-05T08:51:37.118Z"
   },
   {
    "duration": 9,
    "start_time": "2023-09-05T08:51:48.119Z"
   },
   {
    "duration": 32621,
    "start_time": "2023-09-05T08:53:37.981Z"
   },
   {
    "duration": 2562,
    "start_time": "2023-09-05T09:01:59.389Z"
   },
   {
    "duration": 0,
    "start_time": "2023-09-05T09:06:14.305Z"
   },
   {
    "duration": 0,
    "start_time": "2023-09-05T09:06:14.306Z"
   },
   {
    "duration": 158901,
    "start_time": "2023-09-05T09:06:21.385Z"
   },
   {
    "duration": 5,
    "start_time": "2023-09-05T09:09:24.087Z"
   },
   {
    "duration": 95,
    "start_time": "2023-09-05T09:14:12.495Z"
   },
   {
    "duration": 222,
    "start_time": "2023-09-05T09:14:53.907Z"
   },
   {
    "duration": 5,
    "start_time": "2023-09-05T09:15:16.624Z"
   },
   {
    "duration": 4,
    "start_time": "2023-09-05T09:21:36.376Z"
   },
   {
    "duration": 1923325,
    "start_time": "2023-09-05T09:22:09.162Z"
   },
   {
    "duration": 146601,
    "start_time": "2023-09-05T09:55:59.405Z"
   },
   {
    "duration": 4,
    "start_time": "2023-09-05T09:58:50.508Z"
   },
   {
    "duration": 5,
    "start_time": "2023-09-05T09:59:10.456Z"
   },
   {
    "duration": 12,
    "start_time": "2023-09-05T10:00:13.073Z"
   },
   {
    "duration": 13,
    "start_time": "2023-09-05T10:00:50.875Z"
   },
   {
    "duration": 8,
    "start_time": "2023-09-05T10:01:38.864Z"
   },
   {
    "duration": 97,
    "start_time": "2023-09-05T10:02:36.646Z"
   },
   {
    "duration": 4,
    "start_time": "2023-09-05T10:02:43.746Z"
   },
   {
    "duration": 11,
    "start_time": "2023-09-05T10:03:25.449Z"
   },
   {
    "duration": 5,
    "start_time": "2023-09-05T10:03:58.885Z"
   },
   {
    "duration": 212,
    "start_time": "2023-09-05T10:05:42.609Z"
   },
   {
    "duration": 5,
    "start_time": "2023-09-05T10:05:47.203Z"
   },
   {
    "duration": 4,
    "start_time": "2023-09-05T10:06:13.689Z"
   },
   {
    "duration": 5,
    "start_time": "2023-09-05T10:06:20.794Z"
   },
   {
    "duration": 6,
    "start_time": "2023-09-05T10:07:22.433Z"
   },
   {
    "duration": 7,
    "start_time": "2023-09-05T10:07:34.246Z"
   },
   {
    "duration": 5,
    "start_time": "2023-09-05T10:07:42.343Z"
   },
   {
    "duration": 5,
    "start_time": "2023-09-05T10:09:51.879Z"
   },
   {
    "duration": 84,
    "start_time": "2023-09-05T10:10:07.079Z"
   },
   {
    "duration": 5,
    "start_time": "2023-09-05T10:10:57.730Z"
   },
   {
    "duration": 4,
    "start_time": "2023-09-05T10:11:07.200Z"
   },
   {
    "duration": 4,
    "start_time": "2023-09-05T10:11:14.515Z"
   },
   {
    "duration": 4,
    "start_time": "2023-09-05T10:11:42.283Z"
   },
   {
    "duration": 4258,
    "start_time": "2023-09-05T12:46:26.028Z"
   },
   {
    "duration": 1059,
    "start_time": "2023-09-05T12:46:30.289Z"
   },
   {
    "duration": 20,
    "start_time": "2023-09-05T12:46:31.350Z"
   },
   {
    "duration": 212,
    "start_time": "2023-09-05T12:46:31.372Z"
   },
   {
    "duration": 1223,
    "start_time": "2023-09-05T12:46:31.586Z"
   },
   {
    "duration": 1329,
    "start_time": "2023-09-05T12:46:32.811Z"
   },
   {
    "duration": 6,
    "start_time": "2023-09-05T12:46:34.142Z"
   },
   {
    "duration": 644,
    "start_time": "2023-09-05T12:46:34.150Z"
   },
   {
    "duration": 574,
    "start_time": "2023-09-05T12:46:34.800Z"
   },
   {
    "duration": 691,
    "start_time": "2023-09-05T12:46:35.378Z"
   },
   {
    "duration": 228,
    "start_time": "2023-09-05T12:46:36.071Z"
   },
   {
    "duration": 100,
    "start_time": "2023-09-05T12:46:36.302Z"
   },
   {
    "duration": 57,
    "start_time": "2023-09-05T12:46:36.404Z"
   },
   {
    "duration": 411,
    "start_time": "2023-09-05T12:46:36.462Z"
   },
   {
    "duration": 113,
    "start_time": "2023-09-05T12:46:36.876Z"
   },
   {
    "duration": 5567,
    "start_time": "2023-09-05T12:46:37.002Z"
   },
   {
    "duration": 160,
    "start_time": "2023-09-05T12:46:42.571Z"
   },
   {
    "duration": 116348,
    "start_time": "2023-09-05T12:46:42.733Z"
   },
   {
    "duration": 162,
    "start_time": "2023-09-05T12:48:39.084Z"
   },
   {
    "duration": 114,
    "start_time": "2023-09-05T12:48:39.248Z"
   },
   {
    "duration": 7,
    "start_time": "2023-09-05T12:48:39.363Z"
   },
   {
    "duration": 94,
    "start_time": "2023-09-05T12:48:39.371Z"
   },
   {
    "duration": 328,
    "start_time": "2023-09-05T12:48:39.467Z"
   },
   {
    "duration": 31,
    "start_time": "2023-09-05T12:48:39.801Z"
   },
   {
    "duration": 290,
    "start_time": "2023-09-05T12:48:39.834Z"
   },
   {
    "duration": 34,
    "start_time": "2023-09-05T12:48:40.126Z"
   },
   {
    "duration": 7,
    "start_time": "2023-09-05T12:48:40.162Z"
   },
   {
    "duration": 277998,
    "start_time": "2023-09-05T12:48:40.173Z"
   },
   {
    "duration": 303,
    "start_time": "2023-09-05T12:53:18.173Z"
   },
   {
    "duration": 48,
    "start_time": "2023-09-05T12:53:18.478Z"
   },
   {
    "duration": 345,
    "start_time": "2023-09-05T12:53:18.529Z"
   },
   {
    "duration": 53,
    "start_time": "2023-09-05T12:53:18.877Z"
   },
   {
    "duration": 509949,
    "start_time": "2023-09-05T12:53:18.933Z"
   },
   {
    "duration": 220,
    "start_time": "2023-09-05T13:01:48.884Z"
   },
   {
    "duration": 119,
    "start_time": "2023-09-05T13:01:49.106Z"
   },
   {
    "duration": 18,
    "start_time": "2023-09-05T13:01:49.227Z"
   },
   {
    "duration": 122,
    "start_time": "2023-09-05T13:01:49.247Z"
   },
   {
    "duration": 103,
    "start_time": "2023-09-05T13:01:49.372Z"
   },
   {
    "duration": 5,
    "start_time": "2023-09-05T13:01:49.477Z"
   },
   {
    "duration": 152317,
    "start_time": "2023-09-05T13:01:49.484Z"
   },
   {
    "duration": 6,
    "start_time": "2023-09-05T13:04:21.803Z"
   },
   {
    "duration": 1892266,
    "start_time": "2023-09-05T13:04:21.814Z"
   },
   {
    "duration": 4,
    "start_time": "2023-09-05T13:35:54.082Z"
   },
   {
    "duration": 1397420,
    "start_time": "2023-09-05T13:35:54.087Z"
   },
   {
    "duration": 4,
    "start_time": "2023-09-05T13:59:11.510Z"
   },
   {
    "duration": 602,
    "start_time": "2023-09-05T13:59:11.516Z"
   },
   {
    "duration": 120,
    "start_time": "2023-09-05T14:04:47.249Z"
   },
   {
    "duration": 616,
    "start_time": "2023-09-05T14:05:00.605Z"
   }
  ],
  "kernelspec": {
   "display_name": "Python 3 (ipykernel)",
   "language": "python",
   "name": "python3"
  },
  "language_info": {
   "codemirror_mode": {
    "name": "ipython",
    "version": 3
   },
   "file_extension": ".py",
   "mimetype": "text/x-python",
   "name": "python",
   "nbconvert_exporter": "python",
   "pygments_lexer": "ipython3",
   "version": "3.9.5"
  },
  "toc": {
   "base_numbering": 1,
   "nav_menu": {},
   "number_sections": true,
   "sideBar": true,
   "skip_h1_title": true,
   "title_cell": "Table of Contents",
   "title_sidebar": "Contents",
   "toc_cell": false,
   "toc_position": {},
   "toc_section_display": true,
   "toc_window_display": false
  }
 },
 "nbformat": 4,
 "nbformat_minor": 2
}
