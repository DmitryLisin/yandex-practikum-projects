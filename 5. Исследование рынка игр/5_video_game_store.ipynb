{
 "cells": [
  {
   "cell_type": "markdown",
   "metadata": {},
   "source": [
    "# Исследование для интрнет-магазина видеоигр"
   ]
  },
  {
   "cell_type": "markdown",
   "metadata": {},
   "source": [
    "Вы работаете в интернет-магазине «Стримчик», который продаёт по всему миру компьютерные игры. Из открытых источников доступны исторические данные о продажах игр, оценки пользователей и экспертов, жанры и платформы (например, Xbox или PlayStation). Вам нужно выявить определяющие успешность игры закономерности. Это позволит сделать ставку на потенциально популярный продукт и спланировать рекламные кампании.\n",
    "\n",
    "Перед вами данные до 2016 года. Представим, что сейчас декабрь 2016 г., и вы планируете кампанию на 2017-й. Нужно отработать принцип работы с данными. Неважно, прогнозируете ли вы продажи на 2017 год по данным 2016-го или же 2027-й — по данным 2026 года.\n",
    "\n",
    "В наборе данных попадается аббревиатура ESRB (Entertainment Software Rating Board) — это ассоциация, определяющая возрастной рейтинг компьютерных игр. ESRB оценивает игровой контент и присваивает ему подходящую возрастную категорию, например, «Для взрослых», «Для детей младшего возраста» или «Для подростков».\n",
    "\n",
    "Цель исследования:\n",
    "1. Составить портрет пользователя каждого региона.\n",
    "2. Определить факторы влияющие на успешность игры.\n",
    "3. Сформировать данные для планирования рекламной кампании.\n",
    "\n",
    "Ход исследования:\n",
    "   - Обзор данных\n",
    "   - Предобработка данных\n",
    "   - Проведение анализа популярности игр (по жанрам и платформам)\n",
    "   - Составления портрета пользователей по регионам\n",
    "   - Проверка гипотез\n",
    "   - Общий вывод"
   ]
  },
  {
   "cell_type": "code",
   "execution_count": 1,
   "metadata": {},
   "outputs": [],
   "source": [
    "# импортируем библиотеки\n",
    "import pandas as pd\n",
    "import numpy as np\n",
    "import matplotlib.pyplot as plt \n",
    "import scipy.stats as st\n",
    "import seaborn as sns"
   ]
  },
  {
   "cell_type": "markdown",
   "metadata": {},
   "source": [
    "### Загрузка данных"
   ]
  },
  {
   "cell_type": "markdown",
   "metadata": {},
   "source": [
    "Счиатем данные с помощью библиотеки Pandas."
   ]
  },
  {
   "cell_type": "code",
   "execution_count": 2,
   "metadata": {},
   "outputs": [],
   "source": [
    "# считываем файл с данными\n",
    "try:\n",
    "    data = pd.read_csv('/datasets/games.csv')\n",
    "except:\n",
    "    data = pd.read_csv('https://code.s3.yandex.net/datasets/games.csv')\n",
    "\n",
    "data.to_csv('games.csv')"
   ]
  },
  {
   "cell_type": "markdown",
   "metadata": {},
   "source": [
    "Выведем первые 10 строк и общую информацию датафрейма `data`."
   ]
  },
  {
   "cell_type": "code",
   "execution_count": 3,
   "metadata": {},
   "outputs": [
    {
     "data": {
      "text/html": [
       "<div>\n",
       "<style scoped>\n",
       "    .dataframe tbody tr th:only-of-type {\n",
       "        vertical-align: middle;\n",
       "    }\n",
       "\n",
       "    .dataframe tbody tr th {\n",
       "        vertical-align: top;\n",
       "    }\n",
       "\n",
       "    .dataframe thead th {\n",
       "        text-align: right;\n",
       "    }\n",
       "</style>\n",
       "<table border=\"1\" class=\"dataframe\">\n",
       "  <thead>\n",
       "    <tr style=\"text-align: right;\">\n",
       "      <th></th>\n",
       "      <th>Name</th>\n",
       "      <th>Platform</th>\n",
       "      <th>Year_of_Release</th>\n",
       "      <th>Genre</th>\n",
       "      <th>NA_sales</th>\n",
       "      <th>EU_sales</th>\n",
       "      <th>JP_sales</th>\n",
       "      <th>Other_sales</th>\n",
       "      <th>Critic_Score</th>\n",
       "      <th>User_Score</th>\n",
       "      <th>Rating</th>\n",
       "    </tr>\n",
       "  </thead>\n",
       "  <tbody>\n",
       "    <tr>\n",
       "      <th>0</th>\n",
       "      <td>Wii Sports</td>\n",
       "      <td>Wii</td>\n",
       "      <td>2006.0</td>\n",
       "      <td>Sports</td>\n",
       "      <td>41.36</td>\n",
       "      <td>28.96</td>\n",
       "      <td>3.77</td>\n",
       "      <td>8.45</td>\n",
       "      <td>76.0</td>\n",
       "      <td>8</td>\n",
       "      <td>E</td>\n",
       "    </tr>\n",
       "    <tr>\n",
       "      <th>1</th>\n",
       "      <td>Super Mario Bros.</td>\n",
       "      <td>NES</td>\n",
       "      <td>1985.0</td>\n",
       "      <td>Platform</td>\n",
       "      <td>29.08</td>\n",
       "      <td>3.58</td>\n",
       "      <td>6.81</td>\n",
       "      <td>0.77</td>\n",
       "      <td>NaN</td>\n",
       "      <td>NaN</td>\n",
       "      <td>NaN</td>\n",
       "    </tr>\n",
       "    <tr>\n",
       "      <th>2</th>\n",
       "      <td>Mario Kart Wii</td>\n",
       "      <td>Wii</td>\n",
       "      <td>2008.0</td>\n",
       "      <td>Racing</td>\n",
       "      <td>15.68</td>\n",
       "      <td>12.76</td>\n",
       "      <td>3.79</td>\n",
       "      <td>3.29</td>\n",
       "      <td>82.0</td>\n",
       "      <td>8.3</td>\n",
       "      <td>E</td>\n",
       "    </tr>\n",
       "    <tr>\n",
       "      <th>3</th>\n",
       "      <td>Wii Sports Resort</td>\n",
       "      <td>Wii</td>\n",
       "      <td>2009.0</td>\n",
       "      <td>Sports</td>\n",
       "      <td>15.61</td>\n",
       "      <td>10.93</td>\n",
       "      <td>3.28</td>\n",
       "      <td>2.95</td>\n",
       "      <td>80.0</td>\n",
       "      <td>8</td>\n",
       "      <td>E</td>\n",
       "    </tr>\n",
       "    <tr>\n",
       "      <th>4</th>\n",
       "      <td>Pokemon Red/Pokemon Blue</td>\n",
       "      <td>GB</td>\n",
       "      <td>1996.0</td>\n",
       "      <td>Role-Playing</td>\n",
       "      <td>11.27</td>\n",
       "      <td>8.89</td>\n",
       "      <td>10.22</td>\n",
       "      <td>1.00</td>\n",
       "      <td>NaN</td>\n",
       "      <td>NaN</td>\n",
       "      <td>NaN</td>\n",
       "    </tr>\n",
       "    <tr>\n",
       "      <th>5</th>\n",
       "      <td>Tetris</td>\n",
       "      <td>GB</td>\n",
       "      <td>1989.0</td>\n",
       "      <td>Puzzle</td>\n",
       "      <td>23.20</td>\n",
       "      <td>2.26</td>\n",
       "      <td>4.22</td>\n",
       "      <td>0.58</td>\n",
       "      <td>NaN</td>\n",
       "      <td>NaN</td>\n",
       "      <td>NaN</td>\n",
       "    </tr>\n",
       "    <tr>\n",
       "      <th>6</th>\n",
       "      <td>New Super Mario Bros.</td>\n",
       "      <td>DS</td>\n",
       "      <td>2006.0</td>\n",
       "      <td>Platform</td>\n",
       "      <td>11.28</td>\n",
       "      <td>9.14</td>\n",
       "      <td>6.50</td>\n",
       "      <td>2.88</td>\n",
       "      <td>89.0</td>\n",
       "      <td>8.5</td>\n",
       "      <td>E</td>\n",
       "    </tr>\n",
       "    <tr>\n",
       "      <th>7</th>\n",
       "      <td>Wii Play</td>\n",
       "      <td>Wii</td>\n",
       "      <td>2006.0</td>\n",
       "      <td>Misc</td>\n",
       "      <td>13.96</td>\n",
       "      <td>9.18</td>\n",
       "      <td>2.93</td>\n",
       "      <td>2.84</td>\n",
       "      <td>58.0</td>\n",
       "      <td>6.6</td>\n",
       "      <td>E</td>\n",
       "    </tr>\n",
       "    <tr>\n",
       "      <th>8</th>\n",
       "      <td>New Super Mario Bros. Wii</td>\n",
       "      <td>Wii</td>\n",
       "      <td>2009.0</td>\n",
       "      <td>Platform</td>\n",
       "      <td>14.44</td>\n",
       "      <td>6.94</td>\n",
       "      <td>4.70</td>\n",
       "      <td>2.24</td>\n",
       "      <td>87.0</td>\n",
       "      <td>8.4</td>\n",
       "      <td>E</td>\n",
       "    </tr>\n",
       "    <tr>\n",
       "      <th>9</th>\n",
       "      <td>Duck Hunt</td>\n",
       "      <td>NES</td>\n",
       "      <td>1984.0</td>\n",
       "      <td>Shooter</td>\n",
       "      <td>26.93</td>\n",
       "      <td>0.63</td>\n",
       "      <td>0.28</td>\n",
       "      <td>0.47</td>\n",
       "      <td>NaN</td>\n",
       "      <td>NaN</td>\n",
       "      <td>NaN</td>\n",
       "    </tr>\n",
       "  </tbody>\n",
       "</table>\n",
       "</div>"
      ],
      "text/plain": [
       "                        Name Platform  Year_of_Release         Genre  \\\n",
       "0                 Wii Sports      Wii           2006.0        Sports   \n",
       "1          Super Mario Bros.      NES           1985.0      Platform   \n",
       "2             Mario Kart Wii      Wii           2008.0        Racing   \n",
       "3          Wii Sports Resort      Wii           2009.0        Sports   \n",
       "4   Pokemon Red/Pokemon Blue       GB           1996.0  Role-Playing   \n",
       "5                     Tetris       GB           1989.0        Puzzle   \n",
       "6      New Super Mario Bros.       DS           2006.0      Platform   \n",
       "7                   Wii Play      Wii           2006.0          Misc   \n",
       "8  New Super Mario Bros. Wii      Wii           2009.0      Platform   \n",
       "9                  Duck Hunt      NES           1984.0       Shooter   \n",
       "\n",
       "   NA_sales  EU_sales  JP_sales  Other_sales  Critic_Score User_Score Rating  \n",
       "0     41.36     28.96      3.77         8.45          76.0          8      E  \n",
       "1     29.08      3.58      6.81         0.77           NaN        NaN    NaN  \n",
       "2     15.68     12.76      3.79         3.29          82.0        8.3      E  \n",
       "3     15.61     10.93      3.28         2.95          80.0          8      E  \n",
       "4     11.27      8.89     10.22         1.00           NaN        NaN    NaN  \n",
       "5     23.20      2.26      4.22         0.58           NaN        NaN    NaN  \n",
       "6     11.28      9.14      6.50         2.88          89.0        8.5      E  \n",
       "7     13.96      9.18      2.93         2.84          58.0        6.6      E  \n",
       "8     14.44      6.94      4.70         2.24          87.0        8.4      E  \n",
       "9     26.93      0.63      0.28         0.47           NaN        NaN    NaN  "
      ]
     },
     "execution_count": 3,
     "metadata": {},
     "output_type": "execute_result"
    }
   ],
   "source": [
    "data.head(10)"
   ]
  },
  {
   "cell_type": "code",
   "execution_count": 4,
   "metadata": {},
   "outputs": [
    {
     "name": "stdout",
     "output_type": "stream",
     "text": [
      "<class 'pandas.core.frame.DataFrame'>\n",
      "RangeIndex: 16715 entries, 0 to 16714\n",
      "Data columns (total 11 columns):\n",
      " #   Column           Non-Null Count  Dtype  \n",
      "---  ------           --------------  -----  \n",
      " 0   Name             16713 non-null  object \n",
      " 1   Platform         16715 non-null  object \n",
      " 2   Year_of_Release  16446 non-null  float64\n",
      " 3   Genre            16713 non-null  object \n",
      " 4   NA_sales         16715 non-null  float64\n",
      " 5   EU_sales         16715 non-null  float64\n",
      " 6   JP_sales         16715 non-null  float64\n",
      " 7   Other_sales      16715 non-null  float64\n",
      " 8   Critic_Score     8137 non-null   float64\n",
      " 9   User_Score       10014 non-null  object \n",
      " 10  Rating           9949 non-null   object \n",
      "dtypes: float64(6), object(5)\n",
      "memory usage: 1.4+ MB\n"
     ]
    }
   ],
   "source": [
    "data.info()"
   ]
  },
  {
   "cell_type": "markdown",
   "metadata": {},
   "source": [
    "# Описание данных\n",
    "\n",
    "- Name — название игры\n",
    "- Platform — платформа\n",
    "- Year_of_Release — год выпуска\n",
    "- Genre — жанр игры\n",
    "- NA_sales — продажи в Северной Америке (миллионы проданных копий)\n",
    "- EU_sales — продажи в Европе (миллионы проданных копий)\n",
    "- JP_sales — продажи в Японии (миллионы проданных копий)\n",
    "- Other_sales — продажи в других странах (миллионы проданных копий)\n",
    "- Critic_Score — оценка критиков (максимум 100)\n",
    "- User_Score — оценка пользователей (максимум 10)\n",
    "- Rating — рейтинг от организации ESRB (англ. Entertainment Software Rating Board). Эта ассоциация определяет рейтинг компьютерных игр и присваивает им подходящую возрастную категорию."
   ]
  },
  {
   "cell_type": "markdown",
   "metadata": {},
   "source": [
    "Отметим  интересные моменты:\n",
    "- Столбцы не приведены к хорошему стилю\n",
    "- В столбцах `Name`, `Year_of_Release`, `Genre`, `Critic_Score`, `User_Score`, `Rating` имеются пропуски в данных.\n",
    "- Столбцы `Year_of_Release`, `User_Score` имеют неверный тип данных.\n",
    "\n",
    "Построим общую гистограмму для всех чиловых столбцов таблицы."
   ]
  },
  {
   "cell_type": "code",
   "execution_count": 5,
   "metadata": {},
   "outputs": [
    {
     "data": {
      "image/png": "[encoded data removed]",
      "text/plain": [
       "<Figure size 1080x1440 with 6 Axes>"
      ]
     },
     "metadata": {
      "needs_background": "light"
     },
     "output_type": "display_data"
    }
   ],
   "source": [
    "data.hist(figsize=(15, 20))\n",
    "plt.show()"
   ]
  },
  {
   "cell_type": "markdown",
   "metadata": {},
   "source": [
    "Обратим внимание:\n",
    "\n",
    "Поля с информацией по продажам показывают, что данные там находятся относительно в узком диапазоне в зависимости от региона. Это неудивительно, т.к. данные в этих полях измеряются в миллионах. Есть выбросы с правой стороны графиков, это продажи наиболее успешных игр.\n",
    "\n",
    "Столбец с годами выпуска игр показывает как увеличивается объем игр с каждым годом.\n",
    "\n",
    "Столбец с оценками пользователей показывает, что пользователи в основном оценивают игры выше среднего."
   ]
  },
  {
   "cell_type": "markdown",
   "metadata": {},
   "source": [
    "**Вывод:** Мы выгрузили ифномацию в датафрейм `data`. Каждая строка обозначает отдельную игру и данные о ней. Дальше мы провели обзор датафрейма и составили первые шаги для предобработки данных.\n",
    "\n",
    "- Поменять названия столбцов\n",
    "- Обработать пропуски\n",
    "- Поменять типы данных где это необходимо"
   ]
  },
  {
   "cell_type": "markdown",
   "metadata": {},
   "source": [
    "### Предобработка данных"
   ]
  },
  {
   "cell_type": "markdown",
   "metadata": {},
   "source": [
    "#### Стиль заголовков"
   ]
  },
  {
   "cell_type": "markdown",
   "metadata": {},
   "source": [
    "Выведем на экран перечень столбцов."
   ]
  },
  {
   "cell_type": "code",
   "execution_count": 6,
   "metadata": {},
   "outputs": [
    {
     "data": {
      "text/plain": [
       "Index(['Name', 'Platform', 'Year_of_Release', 'Genre', 'NA_sales', 'EU_sales',\n",
       "       'JP_sales', 'Other_sales', 'Critic_Score', 'User_Score', 'Rating'],\n",
       "      dtype='object')"
      ]
     },
     "execution_count": 6,
     "metadata": {},
     "output_type": "execute_result"
    }
   ],
   "source": [
    "data.columns"
   ]
  },
  {
   "cell_type": "markdown",
   "metadata": {},
   "source": [
    "Все столбцы не соответсвуют хорошему стилю из-за заглавных букв. Приведем все названия к нижнему регистру и сделаем проверку."
   ]
  },
  {
   "cell_type": "code",
   "execution_count": 7,
   "metadata": {},
   "outputs": [
    {
     "data": {
      "text/plain": [
       "Index(['name', 'platform', 'year_of_release', 'genre', 'na_sales', 'eu_sales',\n",
       "       'jp_sales', 'other_sales', 'critic_score', 'user_score', 'rating'],\n",
       "      dtype='object')"
      ]
     },
     "execution_count": 7,
     "metadata": {},
     "output_type": "execute_result"
    }
   ],
   "source": [
    "data = data.rename(columns={i : i.lower() for i in data.columns})\n",
    "data.columns"
   ]
  },
  {
   "cell_type": "markdown",
   "metadata": {},
   "source": [
    "Все верно."
   ]
  },
  {
   "cell_type": "markdown",
   "metadata": {},
   "source": [
    "#### Обработка пропусков"
   ]
  },
  {
   "cell_type": "markdown",
   "metadata": {},
   "source": [
    "Выведем количество пропущенных значений."
   ]
  },
  {
   "cell_type": "code",
   "execution_count": 8,
   "metadata": {},
   "outputs": [
    {
     "data": {
      "text/plain": [
       "name                  2\n",
       "platform              0\n",
       "year_of_release     269\n",
       "genre                 2\n",
       "na_sales              0\n",
       "eu_sales              0\n",
       "jp_sales              0\n",
       "other_sales           0\n",
       "critic_score       8578\n",
       "user_score         6701\n",
       "rating             6766\n",
       "dtype: int64"
      ]
     },
     "execution_count": 8,
     "metadata": {},
     "output_type": "execute_result"
    }
   ],
   "source": [
    "data.isna().sum()"
   ]
  },
  {
   "cell_type": "markdown",
   "metadata": {},
   "source": [
    "Посмотрим долю пропусков:"
   ]
  },
  {
   "cell_type": "code",
   "execution_count": 9,
   "metadata": {},
   "outputs": [
    {
     "data": {
      "text/html": [
       "<style  type=\"text/css\" >\n",
       "#T_b6d1e_row0_col0{\n",
       "            background-color:  #b40426;\n",
       "            color:  #f1f1f1;\n",
       "        }#T_b6d1e_row1_col0{\n",
       "            background-color:  #ef886b;\n",
       "            color:  #000000;\n",
       "        }#T_b6d1e_row2_col0{\n",
       "            background-color:  #f08b6e;\n",
       "            color:  #000000;\n",
       "        }#T_b6d1e_row3_col0{\n",
       "            background-color:  #4358cb;\n",
       "            color:  #f1f1f1;\n",
       "        }#T_b6d1e_row4_col0,#T_b6d1e_row5_col0,#T_b6d1e_row6_col0,#T_b6d1e_row7_col0,#T_b6d1e_row8_col0,#T_b6d1e_row9_col0,#T_b6d1e_row10_col0{\n",
       "            background-color:  #3b4cc0;\n",
       "            color:  #f1f1f1;\n",
       "        }</style><table id=\"T_b6d1e_\" ><thead>    <tr>        <th class=\"blank level0\" ></th>        <th class=\"col_heading level0 col0\" >0</th>    </tr></thead><tbody>\n",
       "                <tr>\n",
       "                        <th id=\"T_b6d1e_level0_row0\" class=\"row_heading level0 row0\" >critic_score</th>\n",
       "                        <td id=\"T_b6d1e_row0_col0\" class=\"data row0 col0\" >51.300000</td>\n",
       "            </tr>\n",
       "            <tr>\n",
       "                        <th id=\"T_b6d1e_level0_row1\" class=\"row_heading level0 row1\" >rating</th>\n",
       "                        <td id=\"T_b6d1e_row1_col0\" class=\"data row1 col0\" >40.500000</td>\n",
       "            </tr>\n",
       "            <tr>\n",
       "                        <th id=\"T_b6d1e_level0_row2\" class=\"row_heading level0 row2\" >user_score</th>\n",
       "                        <td id=\"T_b6d1e_row2_col0\" class=\"data row2 col0\" >40.100000</td>\n",
       "            </tr>\n",
       "            <tr>\n",
       "                        <th id=\"T_b6d1e_level0_row3\" class=\"row_heading level0 row3\" >year_of_release</th>\n",
       "                        <td id=\"T_b6d1e_row3_col0\" class=\"data row3 col0\" >1.600000</td>\n",
       "            </tr>\n",
       "            <tr>\n",
       "                        <th id=\"T_b6d1e_level0_row4\" class=\"row_heading level0 row4\" >name</th>\n",
       "                        <td id=\"T_b6d1e_row4_col0\" class=\"data row4 col0\" >0.000000</td>\n",
       "            </tr>\n",
       "            <tr>\n",
       "                        <th id=\"T_b6d1e_level0_row5\" class=\"row_heading level0 row5\" >genre</th>\n",
       "                        <td id=\"T_b6d1e_row5_col0\" class=\"data row5 col0\" >0.000000</td>\n",
       "            </tr>\n",
       "            <tr>\n",
       "                        <th id=\"T_b6d1e_level0_row6\" class=\"row_heading level0 row6\" >platform</th>\n",
       "                        <td id=\"T_b6d1e_row6_col0\" class=\"data row6 col0\" >0.000000</td>\n",
       "            </tr>\n",
       "            <tr>\n",
       "                        <th id=\"T_b6d1e_level0_row7\" class=\"row_heading level0 row7\" >na_sales</th>\n",
       "                        <td id=\"T_b6d1e_row7_col0\" class=\"data row7 col0\" >0.000000</td>\n",
       "            </tr>\n",
       "            <tr>\n",
       "                        <th id=\"T_b6d1e_level0_row8\" class=\"row_heading level0 row8\" >eu_sales</th>\n",
       "                        <td id=\"T_b6d1e_row8_col0\" class=\"data row8 col0\" >0.000000</td>\n",
       "            </tr>\n",
       "            <tr>\n",
       "                        <th id=\"T_b6d1e_level0_row9\" class=\"row_heading level0 row9\" >jp_sales</th>\n",
       "                        <td id=\"T_b6d1e_row9_col0\" class=\"data row9 col0\" >0.000000</td>\n",
       "            </tr>\n",
       "            <tr>\n",
       "                        <th id=\"T_b6d1e_level0_row10\" class=\"row_heading level0 row10\" >other_sales</th>\n",
       "                        <td id=\"T_b6d1e_row10_col0\" class=\"data row10 col0\" >0.000000</td>\n",
       "            </tr>\n",
       "    </tbody></table>"
      ],
      "text/plain": [
       "<pandas.io.formats.style.Styler at 0x7f6ff713bca0>"
      ]
     },
     "execution_count": 9,
     "metadata": {},
     "output_type": "execute_result"
    }
   ],
   "source": [
    "pd.DataFrame(round(data.isna().mean().sort_values(ascending=False)*100,1)).style.background_gradient('coolwarm')"
   ]
  },
  {
   "cell_type": "markdown",
   "metadata": {},
   "source": [
    "В столбцах `name` и `year_of_release` находится очень малая доля пропусков. Рассмотрим их подробнее и если не найдем замену, удалим их."
   ]
  },
  {
   "cell_type": "markdown",
   "metadata": {},
   "source": [
    "##### Столбец `name`"
   ]
  },
  {
   "cell_type": "code",
   "execution_count": 10,
   "metadata": {
    "scrolled": true
   },
   "outputs": [
    {
     "data": {
      "text/html": [
       "<div>\n",
       "<style scoped>\n",
       "    .dataframe tbody tr th:only-of-type {\n",
       "        vertical-align: middle;\n",
       "    }\n",
       "\n",
       "    .dataframe tbody tr th {\n",
       "        vertical-align: top;\n",
       "    }\n",
       "\n",
       "    .dataframe thead th {\n",
       "        text-align: right;\n",
       "    }\n",
       "</style>\n",
       "<table border=\"1\" class=\"dataframe\">\n",
       "  <thead>\n",
       "    <tr style=\"text-align: right;\">\n",
       "      <th></th>\n",
       "      <th>name</th>\n",
       "      <th>platform</th>\n",
       "      <th>year_of_release</th>\n",
       "      <th>genre</th>\n",
       "      <th>na_sales</th>\n",
       "      <th>eu_sales</th>\n",
       "      <th>jp_sales</th>\n",
       "      <th>other_sales</th>\n",
       "      <th>critic_score</th>\n",
       "      <th>user_score</th>\n",
       "      <th>rating</th>\n",
       "    </tr>\n",
       "  </thead>\n",
       "  <tbody>\n",
       "    <tr>\n",
       "      <th>659</th>\n",
       "      <td>NaN</td>\n",
       "      <td>GEN</td>\n",
       "      <td>1993.0</td>\n",
       "      <td>NaN</td>\n",
       "      <td>1.78</td>\n",
       "      <td>0.53</td>\n",
       "      <td>0.00</td>\n",
       "      <td>0.08</td>\n",
       "      <td>NaN</td>\n",
       "      <td>NaN</td>\n",
       "      <td>NaN</td>\n",
       "    </tr>\n",
       "    <tr>\n",
       "      <th>14244</th>\n",
       "      <td>NaN</td>\n",
       "      <td>GEN</td>\n",
       "      <td>1993.0</td>\n",
       "      <td>NaN</td>\n",
       "      <td>0.00</td>\n",
       "      <td>0.00</td>\n",
       "      <td>0.03</td>\n",
       "      <td>0.00</td>\n",
       "      <td>NaN</td>\n",
       "      <td>NaN</td>\n",
       "      <td>NaN</td>\n",
       "    </tr>\n",
       "  </tbody>\n",
       "</table>\n",
       "</div>"
      ],
      "text/plain": [
       "      name platform  year_of_release genre  na_sales  eu_sales  jp_sales  \\\n",
       "659    NaN      GEN           1993.0   NaN      1.78      0.53      0.00   \n",
       "14244  NaN      GEN           1993.0   NaN      0.00      0.00      0.03   \n",
       "\n",
       "       other_sales  critic_score user_score rating  \n",
       "659           0.08           NaN        NaN    NaN  \n",
       "14244         0.00           NaN        NaN    NaN  "
      ]
     },
     "execution_count": 10,
     "metadata": {},
     "output_type": "execute_result"
    }
   ],
   "source": [
    "# строки с пропущенными названиями игр\n",
    "data[data['name'].isnull()]"
   ]
  },
  {
   "cell_type": "markdown",
   "metadata": {},
   "source": [
    "Всего две строки с играми от 1993 года без оценок и рейтинга. Вероятно произошла ошибка при чтении названия игры (например присутствовали символы из другой кодировки). Заменить эти данные мы не можем. Удалим эти строки."
   ]
  },
  {
   "cell_type": "code",
   "execution_count": 11,
   "metadata": {},
   "outputs": [
    {
     "data": {
      "text/plain": [
       "name                  0\n",
       "platform              0\n",
       "year_of_release     269\n",
       "genre                 0\n",
       "na_sales              0\n",
       "eu_sales              0\n",
       "jp_sales              0\n",
       "other_sales           0\n",
       "critic_score       8576\n",
       "user_score         6699\n",
       "rating             6764\n",
       "dtype: int64"
      ]
     },
     "execution_count": 11,
     "metadata": {},
     "output_type": "execute_result"
    }
   ],
   "source": [
    "data = data.dropna(subset=['name'])\n",
    "\n",
    "# проверим пропуски\n",
    "data.isna().sum()"
   ]
  },
  {
   "cell_type": "markdown",
   "metadata": {},
   "source": [
    "##### Столбец `year_of_release`"
   ]
  },
  {
   "cell_type": "code",
   "execution_count": 12,
   "metadata": {
    "scrolled": false
   },
   "outputs": [
    {
     "data": {
      "text/html": [
       "<div>\n",
       "<style scoped>\n",
       "    .dataframe tbody tr th:only-of-type {\n",
       "        vertical-align: middle;\n",
       "    }\n",
       "\n",
       "    .dataframe tbody tr th {\n",
       "        vertical-align: top;\n",
       "    }\n",
       "\n",
       "    .dataframe thead th {\n",
       "        text-align: right;\n",
       "    }\n",
       "</style>\n",
       "<table border=\"1\" class=\"dataframe\">\n",
       "  <thead>\n",
       "    <tr style=\"text-align: right;\">\n",
       "      <th></th>\n",
       "      <th>name</th>\n",
       "      <th>platform</th>\n",
       "      <th>year_of_release</th>\n",
       "      <th>genre</th>\n",
       "      <th>na_sales</th>\n",
       "      <th>eu_sales</th>\n",
       "      <th>jp_sales</th>\n",
       "      <th>other_sales</th>\n",
       "      <th>critic_score</th>\n",
       "      <th>user_score</th>\n",
       "      <th>rating</th>\n",
       "    </tr>\n",
       "  </thead>\n",
       "  <tbody>\n",
       "    <tr>\n",
       "      <th>183</th>\n",
       "      <td>Madden NFL 2004</td>\n",
       "      <td>PS2</td>\n",
       "      <td>NaN</td>\n",
       "      <td>Sports</td>\n",
       "      <td>4.26</td>\n",
       "      <td>0.26</td>\n",
       "      <td>0.01</td>\n",
       "      <td>0.71</td>\n",
       "      <td>94.0</td>\n",
       "      <td>8.5</td>\n",
       "      <td>E</td>\n",
       "    </tr>\n",
       "    <tr>\n",
       "      <th>377</th>\n",
       "      <td>FIFA Soccer 2004</td>\n",
       "      <td>PS2</td>\n",
       "      <td>NaN</td>\n",
       "      <td>Sports</td>\n",
       "      <td>0.59</td>\n",
       "      <td>2.36</td>\n",
       "      <td>0.04</td>\n",
       "      <td>0.51</td>\n",
       "      <td>84.0</td>\n",
       "      <td>6.4</td>\n",
       "      <td>E</td>\n",
       "    </tr>\n",
       "    <tr>\n",
       "      <th>456</th>\n",
       "      <td>LEGO Batman: The Videogame</td>\n",
       "      <td>Wii</td>\n",
       "      <td>NaN</td>\n",
       "      <td>Action</td>\n",
       "      <td>1.80</td>\n",
       "      <td>0.97</td>\n",
       "      <td>0.00</td>\n",
       "      <td>0.29</td>\n",
       "      <td>74.0</td>\n",
       "      <td>7.9</td>\n",
       "      <td>E10+</td>\n",
       "    </tr>\n",
       "    <tr>\n",
       "      <th>475</th>\n",
       "      <td>wwe Smackdown vs. Raw 2006</td>\n",
       "      <td>PS2</td>\n",
       "      <td>NaN</td>\n",
       "      <td>Fighting</td>\n",
       "      <td>1.57</td>\n",
       "      <td>1.02</td>\n",
       "      <td>0.00</td>\n",
       "      <td>0.41</td>\n",
       "      <td>NaN</td>\n",
       "      <td>NaN</td>\n",
       "      <td>NaN</td>\n",
       "    </tr>\n",
       "    <tr>\n",
       "      <th>609</th>\n",
       "      <td>Space Invaders</td>\n",
       "      <td>2600</td>\n",
       "      <td>NaN</td>\n",
       "      <td>Shooter</td>\n",
       "      <td>2.36</td>\n",
       "      <td>0.14</td>\n",
       "      <td>0.00</td>\n",
       "      <td>0.03</td>\n",
       "      <td>NaN</td>\n",
       "      <td>NaN</td>\n",
       "      <td>NaN</td>\n",
       "    </tr>\n",
       "    <tr>\n",
       "      <th>...</th>\n",
       "      <td>...</td>\n",
       "      <td>...</td>\n",
       "      <td>...</td>\n",
       "      <td>...</td>\n",
       "      <td>...</td>\n",
       "      <td>...</td>\n",
       "      <td>...</td>\n",
       "      <td>...</td>\n",
       "      <td>...</td>\n",
       "      <td>...</td>\n",
       "      <td>...</td>\n",
       "    </tr>\n",
       "    <tr>\n",
       "      <th>16373</th>\n",
       "      <td>PDC World Championship Darts 2008</td>\n",
       "      <td>PSP</td>\n",
       "      <td>NaN</td>\n",
       "      <td>Sports</td>\n",
       "      <td>0.01</td>\n",
       "      <td>0.00</td>\n",
       "      <td>0.00</td>\n",
       "      <td>0.00</td>\n",
       "      <td>43.0</td>\n",
       "      <td>tbd</td>\n",
       "      <td>E10+</td>\n",
       "    </tr>\n",
       "    <tr>\n",
       "      <th>16405</th>\n",
       "      <td>Freaky Flyers</td>\n",
       "      <td>GC</td>\n",
       "      <td>NaN</td>\n",
       "      <td>Racing</td>\n",
       "      <td>0.01</td>\n",
       "      <td>0.00</td>\n",
       "      <td>0.00</td>\n",
       "      <td>0.00</td>\n",
       "      <td>69.0</td>\n",
       "      <td>6.5</td>\n",
       "      <td>T</td>\n",
       "    </tr>\n",
       "    <tr>\n",
       "      <th>16448</th>\n",
       "      <td>Inversion</td>\n",
       "      <td>PC</td>\n",
       "      <td>NaN</td>\n",
       "      <td>Shooter</td>\n",
       "      <td>0.01</td>\n",
       "      <td>0.00</td>\n",
       "      <td>0.00</td>\n",
       "      <td>0.00</td>\n",
       "      <td>59.0</td>\n",
       "      <td>6.7</td>\n",
       "      <td>M</td>\n",
       "    </tr>\n",
       "    <tr>\n",
       "      <th>16458</th>\n",
       "      <td>Hakuouki: Shinsengumi Kitan</td>\n",
       "      <td>PS3</td>\n",
       "      <td>NaN</td>\n",
       "      <td>Adventure</td>\n",
       "      <td>0.01</td>\n",
       "      <td>0.00</td>\n",
       "      <td>0.00</td>\n",
       "      <td>0.00</td>\n",
       "      <td>NaN</td>\n",
       "      <td>NaN</td>\n",
       "      <td>NaN</td>\n",
       "    </tr>\n",
       "    <tr>\n",
       "      <th>16522</th>\n",
       "      <td>Virtua Quest</td>\n",
       "      <td>GC</td>\n",
       "      <td>NaN</td>\n",
       "      <td>Role-Playing</td>\n",
       "      <td>0.01</td>\n",
       "      <td>0.00</td>\n",
       "      <td>0.00</td>\n",
       "      <td>0.00</td>\n",
       "      <td>55.0</td>\n",
       "      <td>5.5</td>\n",
       "      <td>T</td>\n",
       "    </tr>\n",
       "  </tbody>\n",
       "</table>\n",
       "<p>269 rows × 11 columns</p>\n",
       "</div>"
      ],
      "text/plain": [
       "                                    name platform  year_of_release  \\\n",
       "183                      Madden NFL 2004      PS2              NaN   \n",
       "377                     FIFA Soccer 2004      PS2              NaN   \n",
       "456           LEGO Batman: The Videogame      Wii              NaN   \n",
       "475           wwe Smackdown vs. Raw 2006      PS2              NaN   \n",
       "609                       Space Invaders     2600              NaN   \n",
       "...                                  ...      ...              ...   \n",
       "16373  PDC World Championship Darts 2008      PSP              NaN   \n",
       "16405                      Freaky Flyers       GC              NaN   \n",
       "16448                          Inversion       PC              NaN   \n",
       "16458        Hakuouki: Shinsengumi Kitan      PS3              NaN   \n",
       "16522                       Virtua Quest       GC              NaN   \n",
       "\n",
       "              genre  na_sales  eu_sales  jp_sales  other_sales  critic_score  \\\n",
       "183          Sports      4.26      0.26      0.01         0.71          94.0   \n",
       "377          Sports      0.59      2.36      0.04         0.51          84.0   \n",
       "456          Action      1.80      0.97      0.00         0.29          74.0   \n",
       "475        Fighting      1.57      1.02      0.00         0.41           NaN   \n",
       "609         Shooter      2.36      0.14      0.00         0.03           NaN   \n",
       "...             ...       ...       ...       ...          ...           ...   \n",
       "16373        Sports      0.01      0.00      0.00         0.00          43.0   \n",
       "16405        Racing      0.01      0.00      0.00         0.00          69.0   \n",
       "16448       Shooter      0.01      0.00      0.00         0.00          59.0   \n",
       "16458     Adventure      0.01      0.00      0.00         0.00           NaN   \n",
       "16522  Role-Playing      0.01      0.00      0.00         0.00          55.0   \n",
       "\n",
       "      user_score rating  \n",
       "183          8.5      E  \n",
       "377          6.4      E  \n",
       "456          7.9   E10+  \n",
       "475          NaN    NaN  \n",
       "609          NaN    NaN  \n",
       "...          ...    ...  \n",
       "16373        tbd   E10+  \n",
       "16405        6.5      T  \n",
       "16448        6.7      M  \n",
       "16458        NaN    NaN  \n",
       "16522        5.5      T  \n",
       "\n",
       "[269 rows x 11 columns]"
      ]
     },
     "execution_count": 12,
     "metadata": {},
     "output_type": "execute_result"
    }
   ],
   "source": [
    "# строки с пропущенными годами выпуска игр\n",
    "data[data['year_of_release'].isnull()]"
   ]
  },
  {
   "cell_type": "markdown",
   "metadata": {},
   "source": [
    "Имеем 269 пропусков. Они не связаны ни с названиями игр, ни с платформой, ни с жанром. Вероятнее всего в источнике откуда бралась информация, не было этой информации. Логически заменить эти данные мы не можем их их достаточно мало (1.6%), поэтому удалим их."
   ]
  },
  {
   "cell_type": "code",
   "execution_count": 13,
   "metadata": {},
   "outputs": [
    {
     "data": {
      "text/plain": [
       "name                  0\n",
       "platform              0\n",
       "year_of_release       0\n",
       "genre                 0\n",
       "na_sales              0\n",
       "eu_sales              0\n",
       "jp_sales              0\n",
       "other_sales           0\n",
       "critic_score       8461\n",
       "user_score         6605\n",
       "rating             6676\n",
       "dtype: int64"
      ]
     },
     "execution_count": 13,
     "metadata": {},
     "output_type": "execute_result"
    }
   ],
   "source": [
    "data = data.dropna(subset=['year_of_release'])\n",
    "data.isna().sum()"
   ]
  },
  {
   "cell_type": "markdown",
   "metadata": {},
   "source": [
    "##### Столбцы `critic_score`, `user_score`, `rating`."
   ]
  },
  {
   "cell_type": "markdown",
   "metadata": {},
   "source": [
    "Мы имеем множество пропусков в столбцах `critic_score`, `user_score`, `rating`. Построим тепловую карту пропусков, чтобы выявить их связь."
   ]
  },
  {
   "cell_type": "code",
   "execution_count": 14,
   "metadata": {},
   "outputs": [
    {
     "data": {
      "image/png": "[encoded data removed]",
      "text/plain": [
       "<Figure size 720x576 with 2 Axes>"
      ]
     },
     "metadata": {
      "needs_background": "light"
     },
     "output_type": "display_data"
    }
   ],
   "source": [
    "plt.figure(figsize=(10,8))\n",
    "sns.heatmap(data.isna().sort_values(by='critic_score'))\n",
    "plt.title('Тепловая карта пропущенных значений')\n",
    "plt.show()"
   ]
  },
  {
   "cell_type": "markdown",
   "metadata": {},
   "source": [
    "Как мы видим, пропуски находятся почтив одних и тех же позициях. Некоторые игры, на некоторых платформах могут не оцениваться, т.к. являются полными переносами с другой платформы. Старые игры могут не оцениваться по причине малого количества игровых ревьюеров и аггрегаторов оценок в то время. Пропусков слишком много, и найти замену мы не можем. Оставляем столбец `ctitic_score` как есть. \n",
    "\n",
    "Столбец `user_score` имеет строковый тип данных, хотя предпологает числовой. Вероятно там находятся значения отличающиеся от числовых. Проверим."
   ]
  },
  {
   "cell_type": "code",
   "execution_count": 15,
   "metadata": {},
   "outputs": [
    {
     "data": {
      "text/plain": [
       "array(['8', nan, '8.3', '8.5', '6.6', '8.4', '8.6', '7.7', '6.3', '7.4',\n",
       "       '8.2', '9', '7.9', '8.1', '8.7', '7.1', '3.4', '5.3', '4.8', '3.2',\n",
       "       '8.9', '6.4', '7.8', '7.5', '2.6', '7.2', '9.2', '7', '7.3', '4.3',\n",
       "       '7.6', '5.7', '5', '9.1', '6.5', 'tbd', '8.8', '6.9', '9.4', '6.8',\n",
       "       '6.1', '6.7', '5.4', '4', '4.9', '4.5', '9.3', '6.2', '4.2', '6',\n",
       "       '3.7', '4.1', '5.8', '5.6', '5.5', '4.4', '4.6', '5.9', '3.9',\n",
       "       '3.1', '2.9', '5.2', '3.3', '4.7', '5.1', '3.5', '2.5', '1.9', '3',\n",
       "       '2.7', '2.2', '2', '9.5', '2.1', '3.6', '2.8', '1.8', '3.8', '0',\n",
       "       '1.6', '9.6', '2.4', '1.7', '1.1', '0.3', '1.5', '0.7', '1.2',\n",
       "       '2.3', '0.5', '1.3', '0.2', '0.6', '1.4', '0.9', '1', '9.7'],\n",
       "      dtype=object)"
      ]
     },
     "execution_count": 15,
     "metadata": {},
     "output_type": "execute_result"
    }
   ],
   "source": [
    "data['user_score'].unique()"
   ]
  },
  {
   "cell_type": "markdown",
   "metadata": {},
   "source": [
    "Действительно, пристутствует значение 'tbd', что означает To Be Determined, то есть \"Будет определено\". Обычно оно ставится у игр, которые не оценили достаточное количество пользователей, и оценка в данный момент неизвестна. Проверим количество строк с эти значением."
   ]
  },
  {
   "cell_type": "code",
   "execution_count": 16,
   "metadata": {},
   "outputs": [
    {
     "data": {
      "text/plain": [
       "2376"
      ]
     },
     "execution_count": 16,
     "metadata": {},
     "output_type": "execute_result"
    }
   ],
   "source": [
    "data[data['user_score'] == 'tbd']['name'].count()"
   ]
  },
  {
   "cell_type": "markdown",
   "metadata": {},
   "source": [
    "2376 значений. Удалять эти строки нам не нужно, поэтому преобразуем значение 'tbd' в NaN, т.к. дальше понадобится изменить тип столбца на числовой. Пропуски в этом столбце также оставляем, т.к. их слишком много и заменить их мы не можем."
   ]
  },
  {
   "cell_type": "code",
   "execution_count": 17,
   "metadata": {},
   "outputs": [],
   "source": [
    "data.loc[data['user_score']=='tbd', 'user_score'] = np.NaN"
   ]
  },
  {
   "cell_type": "markdown",
   "metadata": {},
   "source": [
    "Проверим неопределенные значения в столбце `rating`."
   ]
  },
  {
   "cell_type": "code",
   "execution_count": 18,
   "metadata": {},
   "outputs": [
    {
     "data": {
      "text/plain": [
       "E       3921\n",
       "T       2905\n",
       "M       1536\n",
       "E10+    1393\n",
       "EC         8\n",
       "K-A        3\n",
       "RP         1\n",
       "AO         1\n",
       "Name: rating, dtype: int64"
      ]
     },
     "execution_count": 18,
     "metadata": {},
     "output_type": "execute_result"
    }
   ],
   "source": [
    "data['rating'].value_counts()"
   ]
  },
  {
   "cell_type": "code",
   "execution_count": 19,
   "metadata": {},
   "outputs": [
    {
     "data": {
      "text/html": [
       "<div>\n",
       "<style scoped>\n",
       "    .dataframe tbody tr th:only-of-type {\n",
       "        vertical-align: middle;\n",
       "    }\n",
       "\n",
       "    .dataframe tbody tr th {\n",
       "        vertical-align: top;\n",
       "    }\n",
       "\n",
       "    .dataframe thead th {\n",
       "        text-align: right;\n",
       "    }\n",
       "</style>\n",
       "<table border=\"1\" class=\"dataframe\">\n",
       "  <thead>\n",
       "    <tr style=\"text-align: right;\">\n",
       "      <th></th>\n",
       "      <th>name</th>\n",
       "      <th>platform</th>\n",
       "      <th>year_of_release</th>\n",
       "      <th>genre</th>\n",
       "      <th>na_sales</th>\n",
       "      <th>eu_sales</th>\n",
       "      <th>jp_sales</th>\n",
       "      <th>other_sales</th>\n",
       "      <th>critic_score</th>\n",
       "      <th>user_score</th>\n",
       "      <th>rating</th>\n",
       "    </tr>\n",
       "  </thead>\n",
       "  <tbody>\n",
       "    <tr>\n",
       "      <th>1</th>\n",
       "      <td>Super Mario Bros.</td>\n",
       "      <td>NES</td>\n",
       "      <td>1985.0</td>\n",
       "      <td>Platform</td>\n",
       "      <td>29.08</td>\n",
       "      <td>3.58</td>\n",
       "      <td>6.81</td>\n",
       "      <td>0.77</td>\n",
       "      <td>NaN</td>\n",
       "      <td>NaN</td>\n",
       "      <td>NaN</td>\n",
       "    </tr>\n",
       "    <tr>\n",
       "      <th>4</th>\n",
       "      <td>Pokemon Red/Pokemon Blue</td>\n",
       "      <td>GB</td>\n",
       "      <td>1996.0</td>\n",
       "      <td>Role-Playing</td>\n",
       "      <td>11.27</td>\n",
       "      <td>8.89</td>\n",
       "      <td>10.22</td>\n",
       "      <td>1.00</td>\n",
       "      <td>NaN</td>\n",
       "      <td>NaN</td>\n",
       "      <td>NaN</td>\n",
       "    </tr>\n",
       "    <tr>\n",
       "      <th>5</th>\n",
       "      <td>Tetris</td>\n",
       "      <td>GB</td>\n",
       "      <td>1989.0</td>\n",
       "      <td>Puzzle</td>\n",
       "      <td>23.20</td>\n",
       "      <td>2.26</td>\n",
       "      <td>4.22</td>\n",
       "      <td>0.58</td>\n",
       "      <td>NaN</td>\n",
       "      <td>NaN</td>\n",
       "      <td>NaN</td>\n",
       "    </tr>\n",
       "    <tr>\n",
       "      <th>9</th>\n",
       "      <td>Duck Hunt</td>\n",
       "      <td>NES</td>\n",
       "      <td>1984.0</td>\n",
       "      <td>Shooter</td>\n",
       "      <td>26.93</td>\n",
       "      <td>0.63</td>\n",
       "      <td>0.28</td>\n",
       "      <td>0.47</td>\n",
       "      <td>NaN</td>\n",
       "      <td>NaN</td>\n",
       "      <td>NaN</td>\n",
       "    </tr>\n",
       "    <tr>\n",
       "      <th>10</th>\n",
       "      <td>Nintendogs</td>\n",
       "      <td>DS</td>\n",
       "      <td>2005.0</td>\n",
       "      <td>Simulation</td>\n",
       "      <td>9.05</td>\n",
       "      <td>10.95</td>\n",
       "      <td>1.93</td>\n",
       "      <td>2.74</td>\n",
       "      <td>NaN</td>\n",
       "      <td>NaN</td>\n",
       "      <td>NaN</td>\n",
       "    </tr>\n",
       "    <tr>\n",
       "      <th>...</th>\n",
       "      <td>...</td>\n",
       "      <td>...</td>\n",
       "      <td>...</td>\n",
       "      <td>...</td>\n",
       "      <td>...</td>\n",
       "      <td>...</td>\n",
       "      <td>...</td>\n",
       "      <td>...</td>\n",
       "      <td>...</td>\n",
       "      <td>...</td>\n",
       "      <td>...</td>\n",
       "    </tr>\n",
       "    <tr>\n",
       "      <th>16710</th>\n",
       "      <td>Samurai Warriors: Sanada Maru</td>\n",
       "      <td>PS3</td>\n",
       "      <td>2016.0</td>\n",
       "      <td>Action</td>\n",
       "      <td>0.00</td>\n",
       "      <td>0.00</td>\n",
       "      <td>0.01</td>\n",
       "      <td>0.00</td>\n",
       "      <td>NaN</td>\n",
       "      <td>NaN</td>\n",
       "      <td>NaN</td>\n",
       "    </tr>\n",
       "    <tr>\n",
       "      <th>16711</th>\n",
       "      <td>LMA Manager 2007</td>\n",
       "      <td>X360</td>\n",
       "      <td>2006.0</td>\n",
       "      <td>Sports</td>\n",
       "      <td>0.00</td>\n",
       "      <td>0.01</td>\n",
       "      <td>0.00</td>\n",
       "      <td>0.00</td>\n",
       "      <td>NaN</td>\n",
       "      <td>NaN</td>\n",
       "      <td>NaN</td>\n",
       "    </tr>\n",
       "    <tr>\n",
       "      <th>16712</th>\n",
       "      <td>Haitaka no Psychedelica</td>\n",
       "      <td>PSV</td>\n",
       "      <td>2016.0</td>\n",
       "      <td>Adventure</td>\n",
       "      <td>0.00</td>\n",
       "      <td>0.00</td>\n",
       "      <td>0.01</td>\n",
       "      <td>0.00</td>\n",
       "      <td>NaN</td>\n",
       "      <td>NaN</td>\n",
       "      <td>NaN</td>\n",
       "    </tr>\n",
       "    <tr>\n",
       "      <th>16713</th>\n",
       "      <td>Spirits &amp; Spells</td>\n",
       "      <td>GBA</td>\n",
       "      <td>2003.0</td>\n",
       "      <td>Platform</td>\n",
       "      <td>0.01</td>\n",
       "      <td>0.00</td>\n",
       "      <td>0.00</td>\n",
       "      <td>0.00</td>\n",
       "      <td>NaN</td>\n",
       "      <td>NaN</td>\n",
       "      <td>NaN</td>\n",
       "    </tr>\n",
       "    <tr>\n",
       "      <th>16714</th>\n",
       "      <td>Winning Post 8 2016</td>\n",
       "      <td>PSV</td>\n",
       "      <td>2016.0</td>\n",
       "      <td>Simulation</td>\n",
       "      <td>0.00</td>\n",
       "      <td>0.00</td>\n",
       "      <td>0.01</td>\n",
       "      <td>0.00</td>\n",
       "      <td>NaN</td>\n",
       "      <td>NaN</td>\n",
       "      <td>NaN</td>\n",
       "    </tr>\n",
       "  </tbody>\n",
       "</table>\n",
       "<p>6676 rows × 11 columns</p>\n",
       "</div>"
      ],
      "text/plain": [
       "                                name platform  year_of_release         genre  \\\n",
       "1                  Super Mario Bros.      NES           1985.0      Platform   \n",
       "4           Pokemon Red/Pokemon Blue       GB           1996.0  Role-Playing   \n",
       "5                             Tetris       GB           1989.0        Puzzle   \n",
       "9                          Duck Hunt      NES           1984.0       Shooter   \n",
       "10                        Nintendogs       DS           2005.0    Simulation   \n",
       "...                              ...      ...              ...           ...   \n",
       "16710  Samurai Warriors: Sanada Maru      PS3           2016.0        Action   \n",
       "16711               LMA Manager 2007     X360           2006.0        Sports   \n",
       "16712        Haitaka no Psychedelica      PSV           2016.0     Adventure   \n",
       "16713               Spirits & Spells      GBA           2003.0      Platform   \n",
       "16714            Winning Post 8 2016      PSV           2016.0    Simulation   \n",
       "\n",
       "       na_sales  eu_sales  jp_sales  other_sales  critic_score user_score  \\\n",
       "1         29.08      3.58      6.81         0.77           NaN        NaN   \n",
       "4         11.27      8.89     10.22         1.00           NaN        NaN   \n",
       "5         23.20      2.26      4.22         0.58           NaN        NaN   \n",
       "9         26.93      0.63      0.28         0.47           NaN        NaN   \n",
       "10         9.05     10.95      1.93         2.74           NaN        NaN   \n",
       "...         ...       ...       ...          ...           ...        ...   \n",
       "16710      0.00      0.00      0.01         0.00           NaN        NaN   \n",
       "16711      0.00      0.01      0.00         0.00           NaN        NaN   \n",
       "16712      0.00      0.00      0.01         0.00           NaN        NaN   \n",
       "16713      0.01      0.00      0.00         0.00           NaN        NaN   \n",
       "16714      0.00      0.00      0.01         0.00           NaN        NaN   \n",
       "\n",
       "      rating  \n",
       "1        NaN  \n",
       "4        NaN  \n",
       "5        NaN  \n",
       "9        NaN  \n",
       "10       NaN  \n",
       "...      ...  \n",
       "16710    NaN  \n",
       "16711    NaN  \n",
       "16712    NaN  \n",
       "16713    NaN  \n",
       "16714    NaN  \n",
       "\n",
       "[6676 rows x 11 columns]"
      ]
     },
     "execution_count": 19,
     "metadata": {},
     "output_type": "execute_result"
    }
   ],
   "source": [
    "data[data['rating'].isna()]"
   ]
  },
  {
   "cell_type": "markdown",
   "metadata": {},
   "source": [
    "Узнаем что значит каждая из маркировок:\n",
    "\n",
    "- «EC» («Early childhood») — «Для детей младшего возраста»\n",
    "- «E» («Everyone») — «Для всех»\n",
    "- «E10+» («Everyone 10 and older») — «Для всех от 10 лет и старше»\n",
    "- «T» («Teen») — «Подросткам»\n",
    "- «M» («Mature») — «Для взрослых»\n",
    "- «AO» («Adults Only 18+») — «Только для взрослых»\n",
    "- «RP» («Rating Pending») — «Рейтинг ожидается»\n",
    "- K-A: Для детей (устарел)\n",
    "\n",
    "Т.к. ESRB это организация действующая в пределах Северной Америки основанная в 1994 году, много игр вышедших задолго до основания организации, либо не выходящие на территории США и Канады не оцениваются этим рейтингом. Так же не оцениваются игры с онлайновой частью т.к. их содержание может зависеть от других игроков. Заменим значения Nan на unknown, чтобы не потерять эти данные при анализе игр по рейтингам.\n",
    "\n",
    "Значение RP можно заменить на unkwown, т.к. фактически этот рейтинг ничего не значит. Проверим сколько таких строк в таблице."
   ]
  },
  {
   "cell_type": "code",
   "execution_count": 20,
   "metadata": {},
   "outputs": [
    {
     "data": {
      "text/plain": [
       "1"
      ]
     },
     "execution_count": 20,
     "metadata": {},
     "output_type": "execute_result"
    }
   ],
   "source": [
    "data[data['rating']=='RP']['name'].count()"
   ]
  },
  {
   "cell_type": "markdown",
   "metadata": {},
   "source": [
    "Только одная игра имеет такой рейтинг. Заменим на NaN"
   ]
  },
  {
   "cell_type": "code",
   "execution_count": 21,
   "metadata": {},
   "outputs": [],
   "source": [
    "data.loc[data['rating']=='RP', 'rating'] = 'Unknown'"
   ]
  },
  {
   "cell_type": "code",
   "execution_count": 22,
   "metadata": {},
   "outputs": [],
   "source": [
    "data['rating'] = data['rating'].fillna('Unknown')"
   ]
  },
  {
   "cell_type": "markdown",
   "metadata": {},
   "source": [
    "Проверим наши пропуски."
   ]
  },
  {
   "cell_type": "code",
   "execution_count": 23,
   "metadata": {},
   "outputs": [
    {
     "name": "stdout",
     "output_type": "stream",
     "text": [
      "<class 'pandas.core.frame.DataFrame'>\n",
      "Int64Index: 16444 entries, 0 to 16714\n",
      "Data columns (total 11 columns):\n",
      " #   Column           Non-Null Count  Dtype  \n",
      "---  ------           --------------  -----  \n",
      " 0   name             16444 non-null  object \n",
      " 1   platform         16444 non-null  object \n",
      " 2   year_of_release  16444 non-null  float64\n",
      " 3   genre            16444 non-null  object \n",
      " 4   na_sales         16444 non-null  float64\n",
      " 5   eu_sales         16444 non-null  float64\n",
      " 6   jp_sales         16444 non-null  float64\n",
      " 7   other_sales      16444 non-null  float64\n",
      " 8   critic_score     7983 non-null   float64\n",
      " 9   user_score       7463 non-null   object \n",
      " 10  rating           16444 non-null  object \n",
      "dtypes: float64(6), object(5)\n",
      "memory usage: 1.5+ MB\n"
     ]
    }
   ],
   "source": [
    "data.info()"
   ]
  },
  {
   "cell_type": "markdown",
   "metadata": {},
   "source": [
    "По итогу обработки пропусков мы удалили 271 строку, что является 1.62 % от исходных данных. Считаем это допустимым."
   ]
  },
  {
   "cell_type": "markdown",
   "metadata": {},
   "source": [
    "#### Изменение типов данных"
   ]
  },
  {
   "cell_type": "markdown",
   "metadata": {},
   "source": [
    "Выведем информацию обо всех типах данных столбцов."
   ]
  },
  {
   "cell_type": "code",
   "execution_count": 24,
   "metadata": {},
   "outputs": [
    {
     "name": "stdout",
     "output_type": "stream",
     "text": [
      "<class 'pandas.core.frame.DataFrame'>\n",
      "Int64Index: 16444 entries, 0 to 16714\n",
      "Data columns (total 11 columns):\n",
      " #   Column           Non-Null Count  Dtype  \n",
      "---  ------           --------------  -----  \n",
      " 0   name             16444 non-null  object \n",
      " 1   platform         16444 non-null  object \n",
      " 2   year_of_release  16444 non-null  float64\n",
      " 3   genre            16444 non-null  object \n",
      " 4   na_sales         16444 non-null  float64\n",
      " 5   eu_sales         16444 non-null  float64\n",
      " 6   jp_sales         16444 non-null  float64\n",
      " 7   other_sales      16444 non-null  float64\n",
      " 8   critic_score     7983 non-null   float64\n",
      " 9   user_score       7463 non-null   object \n",
      " 10  rating           16444 non-null  object \n",
      "dtypes: float64(6), object(5)\n",
      "memory usage: 1.5+ MB\n"
     ]
    }
   ],
   "source": [
    "data.info()"
   ]
  },
  {
   "cell_type": "markdown",
   "metadata": {},
   "source": [
    "Преведем столбец `year_of_release` к типу данных int32, т.к. название года - целое число и тем самым мы сэкономим память.\n",
    "\n",
    "Столбец `user_score` приведем к вещественному типу данных."
   ]
  },
  {
   "cell_type": "code",
   "execution_count": 25,
   "metadata": {},
   "outputs": [
    {
     "name": "stdout",
     "output_type": "stream",
     "text": [
      "<class 'pandas.core.frame.DataFrame'>\n",
      "Int64Index: 16444 entries, 0 to 16714\n",
      "Data columns (total 11 columns):\n",
      " #   Column           Non-Null Count  Dtype  \n",
      "---  ------           --------------  -----  \n",
      " 0   name             16444 non-null  object \n",
      " 1   platform         16444 non-null  object \n",
      " 2   year_of_release  16444 non-null  int32  \n",
      " 3   genre            16444 non-null  object \n",
      " 4   na_sales         16444 non-null  float64\n",
      " 5   eu_sales         16444 non-null  float64\n",
      " 6   jp_sales         16444 non-null  float64\n",
      " 7   other_sales      16444 non-null  float64\n",
      " 8   critic_score     7983 non-null   float64\n",
      " 9   user_score       7463 non-null   float64\n",
      " 10  rating           16444 non-null  object \n",
      "dtypes: float64(6), int32(1), object(4)\n",
      "memory usage: 1.4+ MB\n"
     ]
    }
   ],
   "source": [
    "data['year_of_release'] = data['year_of_release'].astype('int32')\n",
    "data['user_score'] = data['user_score'].astype(float)\n",
    "\n",
    "# проверим\n",
    "data.info()"
   ]
  },
  {
   "cell_type": "markdown",
   "metadata": {},
   "source": [
    "Типы данных столбцов изменили."
   ]
  },
  {
   "cell_type": "markdown",
   "metadata": {},
   "source": [
    "#### Обработка дубликатов"
   ]
  },
  {
   "cell_type": "markdown",
   "metadata": {},
   "source": [
    "Проверим таблицу на наличие яввных дубликатов."
   ]
  },
  {
   "cell_type": "code",
   "execution_count": 26,
   "metadata": {},
   "outputs": [
    {
     "data": {
      "text/plain": [
       "0"
      ]
     },
     "execution_count": 26,
     "metadata": {},
     "output_type": "execute_result"
    }
   ],
   "source": [
    "data.duplicated().sum()"
   ]
  },
  {
   "cell_type": "markdown",
   "metadata": {},
   "source": [
    "Явных дубликатов нет.\n",
    "\n",
    "Проверим наличие дубликтов по столбцам `name`, `platform`, `year_of_release`, `genre`."
   ]
  },
  {
   "cell_type": "code",
   "execution_count": 27,
   "metadata": {
    "scrolled": true
   },
   "outputs": [
    {
     "data": {
      "text/html": [
       "<div>\n",
       "<style scoped>\n",
       "    .dataframe tbody tr th:only-of-type {\n",
       "        vertical-align: middle;\n",
       "    }\n",
       "\n",
       "    .dataframe tbody tr th {\n",
       "        vertical-align: top;\n",
       "    }\n",
       "\n",
       "    .dataframe thead th {\n",
       "        text-align: right;\n",
       "    }\n",
       "</style>\n",
       "<table border=\"1\" class=\"dataframe\">\n",
       "  <thead>\n",
       "    <tr style=\"text-align: right;\">\n",
       "      <th></th>\n",
       "      <th>name</th>\n",
       "      <th>platform</th>\n",
       "      <th>year_of_release</th>\n",
       "      <th>genre</th>\n",
       "      <th>na_sales</th>\n",
       "      <th>eu_sales</th>\n",
       "      <th>jp_sales</th>\n",
       "      <th>other_sales</th>\n",
       "      <th>critic_score</th>\n",
       "      <th>user_score</th>\n",
       "      <th>rating</th>\n",
       "    </tr>\n",
       "  </thead>\n",
       "  <tbody>\n",
       "    <tr>\n",
       "      <th>16230</th>\n",
       "      <td>Madden NFL 13</td>\n",
       "      <td>PS3</td>\n",
       "      <td>2012</td>\n",
       "      <td>Sports</td>\n",
       "      <td>0.0</td>\n",
       "      <td>0.01</td>\n",
       "      <td>0.0</td>\n",
       "      <td>0.0</td>\n",
       "      <td>83.0</td>\n",
       "      <td>5.5</td>\n",
       "      <td>E</td>\n",
       "    </tr>\n",
       "  </tbody>\n",
       "</table>\n",
       "</div>"
      ],
      "text/plain": [
       "                name platform  year_of_release   genre  na_sales  eu_sales  \\\n",
       "16230  Madden NFL 13      PS3             2012  Sports       0.0      0.01   \n",
       "\n",
       "       jp_sales  other_sales  critic_score  user_score rating  \n",
       "16230       0.0          0.0          83.0         5.5      E  "
      ]
     },
     "execution_count": 27,
     "metadata": {},
     "output_type": "execute_result"
    }
   ],
   "source": [
    "data[data.duplicated(subset=['name', 'platform', 'year_of_release', 'genre'])]"
   ]
  },
  {
   "cell_type": "markdown",
   "metadata": {},
   "source": [
    "Нашли один дубликат. Проверим все строки с этой игрой."
   ]
  },
  {
   "cell_type": "code",
   "execution_count": 28,
   "metadata": {
    "scrolled": true
   },
   "outputs": [
    {
     "data": {
      "text/html": [
       "<div>\n",
       "<style scoped>\n",
       "    .dataframe tbody tr th:only-of-type {\n",
       "        vertical-align: middle;\n",
       "    }\n",
       "\n",
       "    .dataframe tbody tr th {\n",
       "        vertical-align: top;\n",
       "    }\n",
       "\n",
       "    .dataframe thead th {\n",
       "        text-align: right;\n",
       "    }\n",
       "</style>\n",
       "<table border=\"1\" class=\"dataframe\">\n",
       "  <thead>\n",
       "    <tr style=\"text-align: right;\">\n",
       "      <th></th>\n",
       "      <th>name</th>\n",
       "      <th>platform</th>\n",
       "      <th>year_of_release</th>\n",
       "      <th>genre</th>\n",
       "      <th>na_sales</th>\n",
       "      <th>eu_sales</th>\n",
       "      <th>jp_sales</th>\n",
       "      <th>other_sales</th>\n",
       "      <th>critic_score</th>\n",
       "      <th>user_score</th>\n",
       "      <th>rating</th>\n",
       "    </tr>\n",
       "  </thead>\n",
       "  <tbody>\n",
       "    <tr>\n",
       "      <th>604</th>\n",
       "      <td>Madden NFL 13</td>\n",
       "      <td>PS3</td>\n",
       "      <td>2012</td>\n",
       "      <td>Sports</td>\n",
       "      <td>2.11</td>\n",
       "      <td>0.22</td>\n",
       "      <td>0.0</td>\n",
       "      <td>0.23</td>\n",
       "      <td>83.0</td>\n",
       "      <td>5.5</td>\n",
       "      <td>E</td>\n",
       "    </tr>\n",
       "    <tr>\n",
       "      <th>16230</th>\n",
       "      <td>Madden NFL 13</td>\n",
       "      <td>PS3</td>\n",
       "      <td>2012</td>\n",
       "      <td>Sports</td>\n",
       "      <td>0.00</td>\n",
       "      <td>0.01</td>\n",
       "      <td>0.0</td>\n",
       "      <td>0.00</td>\n",
       "      <td>83.0</td>\n",
       "      <td>5.5</td>\n",
       "      <td>E</td>\n",
       "    </tr>\n",
       "  </tbody>\n",
       "</table>\n",
       "</div>"
      ],
      "text/plain": [
       "                name platform  year_of_release   genre  na_sales  eu_sales  \\\n",
       "604    Madden NFL 13      PS3             2012  Sports      2.11      0.22   \n",
       "16230  Madden NFL 13      PS3             2012  Sports      0.00      0.01   \n",
       "\n",
       "       jp_sales  other_sales  critic_score  user_score rating  \n",
       "604         0.0         0.23          83.0         5.5      E  \n",
       "16230       0.0         0.00          83.0         5.5      E  "
      ]
     },
     "execution_count": 28,
     "metadata": {},
     "output_type": "execute_result"
    }
   ],
   "source": [
    "data[(data['name'] == 'Madden NFL 13') & (data['platform'] == 'PS3')]"
   ]
  },
  {
   "cell_type": "markdown",
   "metadata": {},
   "source": [
    "Действительно имеется дубликат отличающийся только продажами в европе. Сложим эти продажи и удалим последнюю строку."
   ]
  },
  {
   "cell_type": "code",
   "execution_count": 29,
   "metadata": {},
   "outputs": [
    {
     "data": {
      "text/html": [
       "<div>\n",
       "<style scoped>\n",
       "    .dataframe tbody tr th:only-of-type {\n",
       "        vertical-align: middle;\n",
       "    }\n",
       "\n",
       "    .dataframe tbody tr th {\n",
       "        vertical-align: top;\n",
       "    }\n",
       "\n",
       "    .dataframe thead th {\n",
       "        text-align: right;\n",
       "    }\n",
       "</style>\n",
       "<table border=\"1\" class=\"dataframe\">\n",
       "  <thead>\n",
       "    <tr style=\"text-align: right;\">\n",
       "      <th></th>\n",
       "      <th>name</th>\n",
       "      <th>platform</th>\n",
       "      <th>year_of_release</th>\n",
       "      <th>genre</th>\n",
       "      <th>na_sales</th>\n",
       "      <th>eu_sales</th>\n",
       "      <th>jp_sales</th>\n",
       "      <th>other_sales</th>\n",
       "      <th>critic_score</th>\n",
       "      <th>user_score</th>\n",
       "      <th>rating</th>\n",
       "    </tr>\n",
       "  </thead>\n",
       "  <tbody>\n",
       "  </tbody>\n",
       "</table>\n",
       "</div>"
      ],
      "text/plain": [
       "Empty DataFrame\n",
       "Columns: [name, platform, year_of_release, genre, na_sales, eu_sales, jp_sales, other_sales, critic_score, user_score, rating]\n",
       "Index: []"
      ]
     },
     "execution_count": 29,
     "metadata": {},
     "output_type": "execute_result"
    }
   ],
   "source": [
    "data.loc[604, 'eu_sales'] += data.loc[16230, 'eu_sales']\n",
    "data = data.drop(labels = [16230],axis = 0).reset_index(drop=True)\n",
    "\n",
    "# еще раз проверим дубликаты\n",
    "data[data.duplicated(subset=['name','platform', 'year_of_release', 'genre'])]"
   ]
  },
  {
   "cell_type": "markdown",
   "metadata": {},
   "source": [
    "Дубликаты по столбцам `name`, `platform`, `year_of_release`, `genre` отсутствуют.\n",
    "\n",
    "Проверим неявные дубликаты в строковых столбцах, кроме `name`. Игр слишком много и мы не сможем найти в нем все дубликаты, если они есть. Скорее всего данные используемые в таблице не вводились вручную и наличие дубликатов маловероятно. Проверим только столбцы `platform`, `genre`. В столбце `rating` мы уже убедились, что все в порядке."
   ]
  },
  {
   "cell_type": "code",
   "execution_count": 30,
   "metadata": {},
   "outputs": [
    {
     "data": {
      "text/plain": [
       "PS2     2127\n",
       "DS      2121\n",
       "PS3     1305\n",
       "Wii     1286\n",
       "X360    1232\n",
       "PSP     1193\n",
       "PS      1190\n",
       "PC       957\n",
       "GBA      811\n",
       "XB       803\n",
       "GC       542\n",
       "3DS      512\n",
       "PSV      429\n",
       "PS4      392\n",
       "N64      316\n",
       "XOne     247\n",
       "SNES     239\n",
       "SAT      173\n",
       "WiiU     147\n",
       "2600     116\n",
       "NES       98\n",
       "GB        97\n",
       "DC        52\n",
       "GEN       27\n",
       "NG        12\n",
       "SCD        6\n",
       "WS         6\n",
       "3DO        3\n",
       "TG16       2\n",
       "GG         1\n",
       "PCFX       1\n",
       "Name: platform, dtype: int64"
      ]
     },
     "execution_count": 30,
     "metadata": {},
     "output_type": "execute_result"
    }
   ],
   "source": [
    "# столбец platform\n",
    "data['platform'].value_counts()"
   ]
  },
  {
   "cell_type": "markdown",
   "metadata": {},
   "source": [
    "Неявных дубликатов и аномалий нет."
   ]
  },
  {
   "cell_type": "code",
   "execution_count": 31,
   "metadata": {},
   "outputs": [
    {
     "data": {
      "text/plain": [
       "Action          3307\n",
       "Sports          2305\n",
       "Misc            1721\n",
       "Role-Playing    1481\n",
       "Shooter         1296\n",
       "Adventure       1293\n",
       "Racing          1226\n",
       "Platform         878\n",
       "Simulation       857\n",
       "Fighting         837\n",
       "Strategy         673\n",
       "Puzzle           569\n",
       "Name: genre, dtype: int64"
      ]
     },
     "execution_count": 31,
     "metadata": {},
     "output_type": "execute_result"
    }
   ],
   "source": [
    "# столбец genre\n",
    "data['genre'].value_counts()"
   ]
  },
  {
   "cell_type": "markdown",
   "metadata": {},
   "source": [
    "Неявных дубликатов и аномалий нет."
   ]
  },
  {
   "cell_type": "markdown",
   "metadata": {},
   "source": [
    "#### Обработка аномальных значений."
   ]
  },
  {
   "cell_type": "markdown",
   "metadata": {},
   "source": [
    "Выведем информацию обо всех числовых полях таблицы."
   ]
  },
  {
   "cell_type": "code",
   "execution_count": 32,
   "metadata": {},
   "outputs": [
    {
     "data": {
      "text/html": [
       "<div>\n",
       "<style scoped>\n",
       "    .dataframe tbody tr th:only-of-type {\n",
       "        vertical-align: middle;\n",
       "    }\n",
       "\n",
       "    .dataframe tbody tr th {\n",
       "        vertical-align: top;\n",
       "    }\n",
       "\n",
       "    .dataframe thead th {\n",
       "        text-align: right;\n",
       "    }\n",
       "</style>\n",
       "<table border=\"1\" class=\"dataframe\">\n",
       "  <thead>\n",
       "    <tr style=\"text-align: right;\">\n",
       "      <th></th>\n",
       "      <th>year_of_release</th>\n",
       "      <th>na_sales</th>\n",
       "      <th>eu_sales</th>\n",
       "      <th>jp_sales</th>\n",
       "      <th>other_sales</th>\n",
       "      <th>critic_score</th>\n",
       "      <th>user_score</th>\n",
       "    </tr>\n",
       "  </thead>\n",
       "  <tbody>\n",
       "    <tr>\n",
       "      <th>count</th>\n",
       "      <td>16443.000000</td>\n",
       "      <td>16443.000000</td>\n",
       "      <td>16443.000000</td>\n",
       "      <td>16443.000000</td>\n",
       "      <td>16443.000000</td>\n",
       "      <td>7982.000000</td>\n",
       "      <td>7462.000000</td>\n",
       "    </tr>\n",
       "    <tr>\n",
       "      <th>mean</th>\n",
       "      <td>2006.485921</td>\n",
       "      <td>0.264028</td>\n",
       "      <td>0.145939</td>\n",
       "      <td>0.078492</td>\n",
       "      <td>0.047597</td>\n",
       "      <td>68.992608</td>\n",
       "      <td>7.126548</td>\n",
       "    </tr>\n",
       "    <tr>\n",
       "      <th>std</th>\n",
       "      <td>5.875546</td>\n",
       "      <td>0.818400</td>\n",
       "      <td>0.506731</td>\n",
       "      <td>0.311109</td>\n",
       "      <td>0.188011</td>\n",
       "      <td>13.920049</td>\n",
       "      <td>1.499429</td>\n",
       "    </tr>\n",
       "    <tr>\n",
       "      <th>min</th>\n",
       "      <td>1980.000000</td>\n",
       "      <td>0.000000</td>\n",
       "      <td>0.000000</td>\n",
       "      <td>0.000000</td>\n",
       "      <td>0.000000</td>\n",
       "      <td>13.000000</td>\n",
       "      <td>0.000000</td>\n",
       "    </tr>\n",
       "    <tr>\n",
       "      <th>25%</th>\n",
       "      <td>2003.000000</td>\n",
       "      <td>0.000000</td>\n",
       "      <td>0.000000</td>\n",
       "      <td>0.000000</td>\n",
       "      <td>0.000000</td>\n",
       "      <td>60.000000</td>\n",
       "      <td>6.400000</td>\n",
       "    </tr>\n",
       "    <tr>\n",
       "      <th>50%</th>\n",
       "      <td>2007.000000</td>\n",
       "      <td>0.080000</td>\n",
       "      <td>0.020000</td>\n",
       "      <td>0.000000</td>\n",
       "      <td>0.010000</td>\n",
       "      <td>71.000000</td>\n",
       "      <td>7.500000</td>\n",
       "    </tr>\n",
       "    <tr>\n",
       "      <th>75%</th>\n",
       "      <td>2010.000000</td>\n",
       "      <td>0.240000</td>\n",
       "      <td>0.110000</td>\n",
       "      <td>0.040000</td>\n",
       "      <td>0.030000</td>\n",
       "      <td>79.000000</td>\n",
       "      <td>8.200000</td>\n",
       "    </tr>\n",
       "    <tr>\n",
       "      <th>max</th>\n",
       "      <td>2016.000000</td>\n",
       "      <td>41.360000</td>\n",
       "      <td>28.960000</td>\n",
       "      <td>10.220000</td>\n",
       "      <td>10.570000</td>\n",
       "      <td>98.000000</td>\n",
       "      <td>9.700000</td>\n",
       "    </tr>\n",
       "  </tbody>\n",
       "</table>\n",
       "</div>"
      ],
      "text/plain": [
       "       year_of_release      na_sales      eu_sales      jp_sales  \\\n",
       "count     16443.000000  16443.000000  16443.000000  16443.000000   \n",
       "mean       2006.485921      0.264028      0.145939      0.078492   \n",
       "std           5.875546      0.818400      0.506731      0.311109   \n",
       "min        1980.000000      0.000000      0.000000      0.000000   \n",
       "25%        2003.000000      0.000000      0.000000      0.000000   \n",
       "50%        2007.000000      0.080000      0.020000      0.000000   \n",
       "75%        2010.000000      0.240000      0.110000      0.040000   \n",
       "max        2016.000000     41.360000     28.960000     10.220000   \n",
       "\n",
       "        other_sales  critic_score   user_score  \n",
       "count  16443.000000   7982.000000  7462.000000  \n",
       "mean       0.047597     68.992608     7.126548  \n",
       "std        0.188011     13.920049     1.499429  \n",
       "min        0.000000     13.000000     0.000000  \n",
       "25%        0.000000     60.000000     6.400000  \n",
       "50%        0.010000     71.000000     7.500000  \n",
       "75%        0.030000     79.000000     8.200000  \n",
       "max       10.570000     98.000000     9.700000  "
      ]
     },
     "execution_count": 32,
     "metadata": {},
     "output_type": "execute_result"
    }
   ],
   "source": [
    "data.describe()"
   ]
  },
  {
   "cell_type": "markdown",
   "metadata": {},
   "source": [
    "Все значения находятся в пределах нормы и их можно объяснить логически. Проверять подробнее не будем."
   ]
  },
  {
   "cell_type": "markdown",
   "metadata": {},
   "source": [
    "#### Добавление нового столбца"
   ]
  },
  {
   "cell_type": "markdown",
   "metadata": {},
   "source": [
    "Добавим столбец с суммарными продажами во всех регионах."
   ]
  },
  {
   "cell_type": "code",
   "execution_count": 33,
   "metadata": {},
   "outputs": [
    {
     "data": {
      "text/html": [
       "<div>\n",
       "<style scoped>\n",
       "    .dataframe tbody tr th:only-of-type {\n",
       "        vertical-align: middle;\n",
       "    }\n",
       "\n",
       "    .dataframe tbody tr th {\n",
       "        vertical-align: top;\n",
       "    }\n",
       "\n",
       "    .dataframe thead th {\n",
       "        text-align: right;\n",
       "    }\n",
       "</style>\n",
       "<table border=\"1\" class=\"dataframe\">\n",
       "  <thead>\n",
       "    <tr style=\"text-align: right;\">\n",
       "      <th></th>\n",
       "      <th>name</th>\n",
       "      <th>platform</th>\n",
       "      <th>year_of_release</th>\n",
       "      <th>genre</th>\n",
       "      <th>na_sales</th>\n",
       "      <th>eu_sales</th>\n",
       "      <th>jp_sales</th>\n",
       "      <th>other_sales</th>\n",
       "      <th>critic_score</th>\n",
       "      <th>user_score</th>\n",
       "      <th>rating</th>\n",
       "      <th>total_sales</th>\n",
       "    </tr>\n",
       "  </thead>\n",
       "  <tbody>\n",
       "    <tr>\n",
       "      <th>0</th>\n",
       "      <td>Wii Sports</td>\n",
       "      <td>Wii</td>\n",
       "      <td>2006</td>\n",
       "      <td>Sports</td>\n",
       "      <td>41.36</td>\n",
       "      <td>28.96</td>\n",
       "      <td>3.77</td>\n",
       "      <td>8.45</td>\n",
       "      <td>76.0</td>\n",
       "      <td>8.0</td>\n",
       "      <td>E</td>\n",
       "      <td>82.54</td>\n",
       "    </tr>\n",
       "    <tr>\n",
       "      <th>1</th>\n",
       "      <td>Super Mario Bros.</td>\n",
       "      <td>NES</td>\n",
       "      <td>1985</td>\n",
       "      <td>Platform</td>\n",
       "      <td>29.08</td>\n",
       "      <td>3.58</td>\n",
       "      <td>6.81</td>\n",
       "      <td>0.77</td>\n",
       "      <td>NaN</td>\n",
       "      <td>NaN</td>\n",
       "      <td>Unknown</td>\n",
       "      <td>40.24</td>\n",
       "    </tr>\n",
       "    <tr>\n",
       "      <th>2</th>\n",
       "      <td>Mario Kart Wii</td>\n",
       "      <td>Wii</td>\n",
       "      <td>2008</td>\n",
       "      <td>Racing</td>\n",
       "      <td>15.68</td>\n",
       "      <td>12.76</td>\n",
       "      <td>3.79</td>\n",
       "      <td>3.29</td>\n",
       "      <td>82.0</td>\n",
       "      <td>8.3</td>\n",
       "      <td>E</td>\n",
       "      <td>35.52</td>\n",
       "    </tr>\n",
       "    <tr>\n",
       "      <th>3</th>\n",
       "      <td>Wii Sports Resort</td>\n",
       "      <td>Wii</td>\n",
       "      <td>2009</td>\n",
       "      <td>Sports</td>\n",
       "      <td>15.61</td>\n",
       "      <td>10.93</td>\n",
       "      <td>3.28</td>\n",
       "      <td>2.95</td>\n",
       "      <td>80.0</td>\n",
       "      <td>8.0</td>\n",
       "      <td>E</td>\n",
       "      <td>32.77</td>\n",
       "    </tr>\n",
       "    <tr>\n",
       "      <th>4</th>\n",
       "      <td>Pokemon Red/Pokemon Blue</td>\n",
       "      <td>GB</td>\n",
       "      <td>1996</td>\n",
       "      <td>Role-Playing</td>\n",
       "      <td>11.27</td>\n",
       "      <td>8.89</td>\n",
       "      <td>10.22</td>\n",
       "      <td>1.00</td>\n",
       "      <td>NaN</td>\n",
       "      <td>NaN</td>\n",
       "      <td>Unknown</td>\n",
       "      <td>31.38</td>\n",
       "    </tr>\n",
       "    <tr>\n",
       "      <th>5</th>\n",
       "      <td>Tetris</td>\n",
       "      <td>GB</td>\n",
       "      <td>1989</td>\n",
       "      <td>Puzzle</td>\n",
       "      <td>23.20</td>\n",
       "      <td>2.26</td>\n",
       "      <td>4.22</td>\n",
       "      <td>0.58</td>\n",
       "      <td>NaN</td>\n",
       "      <td>NaN</td>\n",
       "      <td>Unknown</td>\n",
       "      <td>30.26</td>\n",
       "    </tr>\n",
       "    <tr>\n",
       "      <th>6</th>\n",
       "      <td>New Super Mario Bros.</td>\n",
       "      <td>DS</td>\n",
       "      <td>2006</td>\n",
       "      <td>Platform</td>\n",
       "      <td>11.28</td>\n",
       "      <td>9.14</td>\n",
       "      <td>6.50</td>\n",
       "      <td>2.88</td>\n",
       "      <td>89.0</td>\n",
       "      <td>8.5</td>\n",
       "      <td>E</td>\n",
       "      <td>29.80</td>\n",
       "    </tr>\n",
       "    <tr>\n",
       "      <th>7</th>\n",
       "      <td>Wii Play</td>\n",
       "      <td>Wii</td>\n",
       "      <td>2006</td>\n",
       "      <td>Misc</td>\n",
       "      <td>13.96</td>\n",
       "      <td>9.18</td>\n",
       "      <td>2.93</td>\n",
       "      <td>2.84</td>\n",
       "      <td>58.0</td>\n",
       "      <td>6.6</td>\n",
       "      <td>E</td>\n",
       "      <td>28.91</td>\n",
       "    </tr>\n",
       "    <tr>\n",
       "      <th>8</th>\n",
       "      <td>New Super Mario Bros. Wii</td>\n",
       "      <td>Wii</td>\n",
       "      <td>2009</td>\n",
       "      <td>Platform</td>\n",
       "      <td>14.44</td>\n",
       "      <td>6.94</td>\n",
       "      <td>4.70</td>\n",
       "      <td>2.24</td>\n",
       "      <td>87.0</td>\n",
       "      <td>8.4</td>\n",
       "      <td>E</td>\n",
       "      <td>28.32</td>\n",
       "    </tr>\n",
       "    <tr>\n",
       "      <th>9</th>\n",
       "      <td>Duck Hunt</td>\n",
       "      <td>NES</td>\n",
       "      <td>1984</td>\n",
       "      <td>Shooter</td>\n",
       "      <td>26.93</td>\n",
       "      <td>0.63</td>\n",
       "      <td>0.28</td>\n",
       "      <td>0.47</td>\n",
       "      <td>NaN</td>\n",
       "      <td>NaN</td>\n",
       "      <td>Unknown</td>\n",
       "      <td>28.31</td>\n",
       "    </tr>\n",
       "  </tbody>\n",
       "</table>\n",
       "</div>"
      ],
      "text/plain": [
       "                        name platform  year_of_release         genre  \\\n",
       "0                 Wii Sports      Wii             2006        Sports   \n",
       "1          Super Mario Bros.      NES             1985      Platform   \n",
       "2             Mario Kart Wii      Wii             2008        Racing   \n",
       "3          Wii Sports Resort      Wii             2009        Sports   \n",
       "4   Pokemon Red/Pokemon Blue       GB             1996  Role-Playing   \n",
       "5                     Tetris       GB             1989        Puzzle   \n",
       "6      New Super Mario Bros.       DS             2006      Platform   \n",
       "7                   Wii Play      Wii             2006          Misc   \n",
       "8  New Super Mario Bros. Wii      Wii             2009      Platform   \n",
       "9                  Duck Hunt      NES             1984       Shooter   \n",
       "\n",
       "   na_sales  eu_sales  jp_sales  other_sales  critic_score  user_score  \\\n",
       "0     41.36     28.96      3.77         8.45          76.0         8.0   \n",
       "1     29.08      3.58      6.81         0.77           NaN         NaN   \n",
       "2     15.68     12.76      3.79         3.29          82.0         8.3   \n",
       "3     15.61     10.93      3.28         2.95          80.0         8.0   \n",
       "4     11.27      8.89     10.22         1.00           NaN         NaN   \n",
       "5     23.20      2.26      4.22         0.58           NaN         NaN   \n",
       "6     11.28      9.14      6.50         2.88          89.0         8.5   \n",
       "7     13.96      9.18      2.93         2.84          58.0         6.6   \n",
       "8     14.44      6.94      4.70         2.24          87.0         8.4   \n",
       "9     26.93      0.63      0.28         0.47           NaN         NaN   \n",
       "\n",
       "    rating  total_sales  \n",
       "0        E        82.54  \n",
       "1  Unknown        40.24  \n",
       "2        E        35.52  \n",
       "3        E        32.77  \n",
       "4  Unknown        31.38  \n",
       "5  Unknown        30.26  \n",
       "6        E        29.80  \n",
       "7        E        28.91  \n",
       "8        E        28.32  \n",
       "9  Unknown        28.31  "
      ]
     },
     "execution_count": 33,
     "metadata": {},
     "output_type": "execute_result"
    }
   ],
   "source": [
    "data['total_sales'] = data['na_sales'] + data['eu_sales'] + data['jp_sales'] + data['other_sales']\n",
    "\n",
    "#проверка\n",
    "data.head(10)"
   ]
  },
  {
   "cell_type": "markdown",
   "metadata": {},
   "source": [
    "**Вывод.** В процессе предобработки данных были проведены следующие действия:\n",
    "- Все названия столбцов были приведены к хорошему стилю\n",
    "- В столбцах `name` и `year_of_release` были удалены пропуски\n",
    "- В столбце `user_score` значение 'tbd' заменено на NaN\n",
    "- В столбце `rating` значение 'RP' заменено на NaN\n",
    "- Удалены дубликаты по столбцам `name`, `platform`, `year_of_release`, `genre`\n",
    "- Изменили типы столбцов `year_of_release` и `user_score` на целочисленный и вещественный\n",
    "- Добавили столбец `total_sales` с суммарными продажами игры"
   ]
  },
  {
   "cell_type": "markdown",
   "metadata": {},
   "source": [
    "### Исследовательский анализ данных"
   ]
  },
  {
   "cell_type": "markdown",
   "metadata": {},
   "source": [
    "#### Количество игр по годам"
   ]
  },
  {
   "cell_type": "markdown",
   "metadata": {},
   "source": [
    "Построим столбчатую диаграмму по нашему датасету. Для полноты картины преобразовывать его не будем. Нам нужны все выпуски игр на всех платформах."
   ]
  },
  {
   "cell_type": "code",
   "execution_count": 34,
   "metadata": {},
   "outputs": [
    {
     "data": {
      "image/png": "[encoded data removed]",
      "text/plain": [
       "<Figure size 720x576 with 1 Axes>"
      ]
     },
     "metadata": {
      "needs_background": "light"
     },
     "output_type": "display_data"
    }
   ],
   "source": [
    "data.groupby('year_of_release')['name'].count().plot(kind='bar', figsize=(10,8))\n",
    "plt.title('Количество игр по годам')\n",
    "plt.xlabel('Год')\n",
    "plt.ylabel('Кол-во игр')\n",
    "plt.show()"
   ]
  },
  {
   "cell_type": "markdown",
   "metadata": {},
   "source": [
    "**Вывод:** По графику видим, что до 1995 года выпускалось менее 200 игр. C 1995 видим увеличение количества игр, в это время была выпущена игровая приставка Playstation, которая стала очень популярной. В следующие года начал активно развиваться консольный и компьтерный гейминг, выходят приставки нового поколения, игры становятся технологичными и качественными и вплоть до 2008 года включительно количество игр выростало большими темпами. На 2007 и 2008 год приходит пик разработки видеоигр. Дальше идет очень резкий спад. Вероятнее всего это связано с мировым финансовым кризисом 2008 года. Уменьшение платежеспособной аудитории, безработица,  падение акций компаний и следующее за этим закрытие студий и снижение качества игр - все это повлияло на количество выпускаемых игр.\n",
    "\n",
    "Для составления плана продаж нам приоритетнее брать данные начиная с 2012 года, именно с этого года падение стабилизировалось и количество игр держится примерно на одном уровне."
   ]
  },
  {
   "cell_type": "markdown",
   "metadata": {},
   "source": [
    "#### Продажи по платформам"
   ]
  },
  {
   "cell_type": "markdown",
   "metadata": {},
   "source": [
    "Выведем платформы по сумме продаж:"
   ]
  },
  {
   "cell_type": "code",
   "execution_count": 35,
   "metadata": {},
   "outputs": [
    {
     "data": {
      "text/html": [
       "<div>\n",
       "<style scoped>\n",
       "    .dataframe tbody tr th:only-of-type {\n",
       "        vertical-align: middle;\n",
       "    }\n",
       "\n",
       "    .dataframe tbody tr th {\n",
       "        vertical-align: top;\n",
       "    }\n",
       "\n",
       "    .dataframe thead th {\n",
       "        text-align: right;\n",
       "    }\n",
       "</style>\n",
       "<table border=\"1\" class=\"dataframe\">\n",
       "  <thead>\n",
       "    <tr style=\"text-align: right;\">\n",
       "      <th></th>\n",
       "      <th>total_sales</th>\n",
       "    </tr>\n",
       "    <tr>\n",
       "      <th>platform</th>\n",
       "      <th></th>\n",
       "    </tr>\n",
       "  </thead>\n",
       "  <tbody>\n",
       "    <tr>\n",
       "      <th>PS2</th>\n",
       "      <td>1233.56</td>\n",
       "    </tr>\n",
       "    <tr>\n",
       "      <th>X360</th>\n",
       "      <td>961.24</td>\n",
       "    </tr>\n",
       "    <tr>\n",
       "      <th>PS3</th>\n",
       "      <td>931.34</td>\n",
       "    </tr>\n",
       "    <tr>\n",
       "      <th>Wii</th>\n",
       "      <td>891.18</td>\n",
       "    </tr>\n",
       "    <tr>\n",
       "      <th>DS</th>\n",
       "      <td>802.78</td>\n",
       "    </tr>\n",
       "    <tr>\n",
       "      <th>PS</th>\n",
       "      <td>727.58</td>\n",
       "    </tr>\n",
       "    <tr>\n",
       "      <th>PS4</th>\n",
       "      <td>314.14</td>\n",
       "    </tr>\n",
       "    <tr>\n",
       "      <th>GBA</th>\n",
       "      <td>312.88</td>\n",
       "    </tr>\n",
       "    <tr>\n",
       "      <th>PSP</th>\n",
       "      <td>289.53</td>\n",
       "    </tr>\n",
       "    <tr>\n",
       "      <th>3DS</th>\n",
       "      <td>257.81</td>\n",
       "    </tr>\n",
       "    <tr>\n",
       "      <th>PC</th>\n",
       "      <td>255.76</td>\n",
       "    </tr>\n",
       "    <tr>\n",
       "      <th>GB</th>\n",
       "      <td>254.43</td>\n",
       "    </tr>\n",
       "    <tr>\n",
       "      <th>XB</th>\n",
       "      <td>251.57</td>\n",
       "    </tr>\n",
       "    <tr>\n",
       "      <th>NES</th>\n",
       "      <td>251.05</td>\n",
       "    </tr>\n",
       "    <tr>\n",
       "      <th>N64</th>\n",
       "      <td>218.01</td>\n",
       "    </tr>\n",
       "    <tr>\n",
       "      <th>SNES</th>\n",
       "      <td>200.04</td>\n",
       "    </tr>\n",
       "    <tr>\n",
       "      <th>GC</th>\n",
       "      <td>196.73</td>\n",
       "    </tr>\n",
       "    <tr>\n",
       "      <th>XOne</th>\n",
       "      <td>159.32</td>\n",
       "    </tr>\n",
       "    <tr>\n",
       "      <th>2600</th>\n",
       "      <td>86.48</td>\n",
       "    </tr>\n",
       "    <tr>\n",
       "      <th>WiiU</th>\n",
       "      <td>82.19</td>\n",
       "    </tr>\n",
       "    <tr>\n",
       "      <th>PSV</th>\n",
       "      <td>53.81</td>\n",
       "    </tr>\n",
       "    <tr>\n",
       "      <th>SAT</th>\n",
       "      <td>33.59</td>\n",
       "    </tr>\n",
       "    <tr>\n",
       "      <th>GEN</th>\n",
       "      <td>28.35</td>\n",
       "    </tr>\n",
       "    <tr>\n",
       "      <th>DC</th>\n",
       "      <td>15.95</td>\n",
       "    </tr>\n",
       "    <tr>\n",
       "      <th>SCD</th>\n",
       "      <td>1.86</td>\n",
       "    </tr>\n",
       "    <tr>\n",
       "      <th>NG</th>\n",
       "      <td>1.44</td>\n",
       "    </tr>\n",
       "    <tr>\n",
       "      <th>WS</th>\n",
       "      <td>1.42</td>\n",
       "    </tr>\n",
       "    <tr>\n",
       "      <th>TG16</th>\n",
       "      <td>0.16</td>\n",
       "    </tr>\n",
       "    <tr>\n",
       "      <th>3DO</th>\n",
       "      <td>0.10</td>\n",
       "    </tr>\n",
       "    <tr>\n",
       "      <th>GG</th>\n",
       "      <td>0.04</td>\n",
       "    </tr>\n",
       "    <tr>\n",
       "      <th>PCFX</th>\n",
       "      <td>0.03</td>\n",
       "    </tr>\n",
       "  </tbody>\n",
       "</table>\n",
       "</div>"
      ],
      "text/plain": [
       "          total_sales\n",
       "platform             \n",
       "PS2           1233.56\n",
       "X360           961.24\n",
       "PS3            931.34\n",
       "Wii            891.18\n",
       "DS             802.78\n",
       "PS             727.58\n",
       "PS4            314.14\n",
       "GBA            312.88\n",
       "PSP            289.53\n",
       "3DS            257.81\n",
       "PC             255.76\n",
       "GB             254.43\n",
       "XB             251.57\n",
       "NES            251.05\n",
       "N64            218.01\n",
       "SNES           200.04\n",
       "GC             196.73\n",
       "XOne           159.32\n",
       "2600            86.48\n",
       "WiiU            82.19\n",
       "PSV             53.81\n",
       "SAT             33.59\n",
       "GEN             28.35\n",
       "DC              15.95\n",
       "SCD              1.86\n",
       "NG               1.44\n",
       "WS               1.42\n",
       "TG16             0.16\n",
       "3DO              0.10\n",
       "GG               0.04\n",
       "PCFX             0.03"
      ]
     },
     "execution_count": 35,
     "metadata": {},
     "output_type": "execute_result"
    }
   ],
   "source": [
    "data.groupby('platform').agg({'total_sales':'sum'}).sort_values(by='total_sales', ascending=False)"
   ]
  },
  {
   "cell_type": "markdown",
   "metadata": {},
   "source": [
    "Для исследования мы возьмем первые 6 игровых платформ. Туда входят первые 3 платформы от Sony (PS, PS2, PS3), одна от Microsoft (X360) и две от Nintendo (Wii, DS). На основе них изучим жизненный цикл консолей. Построим распределенияя для них."
   ]
  },
  {
   "cell_type": "code",
   "execution_count": 36,
   "metadata": {
    "scrolled": false
   },
   "outputs": [
    {
     "data": {
      "image/png": "[encoded data removed]",
      "text/plain": [
       "<Figure size 720x576 with 1 Axes>"
      ]
     },
     "metadata": {
      "needs_background": "light"
     },
     "output_type": "display_data"
    },
    {
     "data": {
      "image/png": "[encoded data removed]",
      "text/plain": [
       "<Figure size 720x576 with 1 Axes>"
      ]
     },
     "metadata": {
      "needs_background": "light"
     },
     "output_type": "display_data"
    },
    {
     "data": {
      "image/png": "[encoded data removed]",
      "text/plain": [
       "<Figure size 720x576 with 1 Axes>"
      ]
     },
     "metadata": {
      "needs_background": "light"
     },
     "output_type": "display_data"
    },
    {
     "data": {
      "image/png": "[encoded data removed]",
      "text/plain": [
       "<Figure size 720x576 with 1 Axes>"
      ]
     },
     "metadata": {
      "needs_background": "light"
     },
     "output_type": "display_data"
    },
    {
     "data": {
      "image/png": "[encoded data removed]",
      "text/plain": [
       "<Figure size 720x576 with 1 Axes>"
      ]
     },
     "metadata": {
      "needs_background": "light"
     },
     "output_type": "display_data"
    },
    {
     "data": {
      "image/png": "[encoded data removed]",
      "text/plain": [
       "<Figure size 720x576 with 1 Axes>"
      ]
     },
     "metadata": {
      "needs_background": "light"
     },
     "output_type": "display_data"
    }
   ],
   "source": [
    "for i in ['PS', 'PS2', 'PS3', 'X360', 'Wii', 'DS']:\n",
    "    (data[data['platform'] == i]['year_of_release']\n",
    "    .hist(bins=len(data[data['platform'] == i]['year_of_release'].unique()), figsize=(10,8), edgecolor='black'))\n",
    "    plt.ylabel('Кол-во игр')\n",
    "    plt.title('Игры на платформе ' + i)\n",
    "    plt.show()"
   ]
  },
  {
   "cell_type": "markdown",
   "metadata": {},
   "source": [
    "Видим выброс на графики с продажами игр на DS в районе 1985 года. Данная консоль была выпущена в 2004 году. Проверим что это."
   ]
  },
  {
   "cell_type": "code",
   "execution_count": 37,
   "metadata": {},
   "outputs": [
    {
     "data": {
      "text/html": [
       "<div>\n",
       "<style scoped>\n",
       "    .dataframe tbody tr th:only-of-type {\n",
       "        vertical-align: middle;\n",
       "    }\n",
       "\n",
       "    .dataframe tbody tr th {\n",
       "        vertical-align: top;\n",
       "    }\n",
       "\n",
       "    .dataframe thead th {\n",
       "        text-align: right;\n",
       "    }\n",
       "</style>\n",
       "<table border=\"1\" class=\"dataframe\">\n",
       "  <thead>\n",
       "    <tr style=\"text-align: right;\">\n",
       "      <th></th>\n",
       "      <th>name</th>\n",
       "      <th>platform</th>\n",
       "      <th>year_of_release</th>\n",
       "      <th>genre</th>\n",
       "      <th>na_sales</th>\n",
       "      <th>eu_sales</th>\n",
       "      <th>jp_sales</th>\n",
       "      <th>other_sales</th>\n",
       "      <th>critic_score</th>\n",
       "      <th>user_score</th>\n",
       "      <th>rating</th>\n",
       "      <th>total_sales</th>\n",
       "    </tr>\n",
       "  </thead>\n",
       "  <tbody>\n",
       "    <tr>\n",
       "      <th>15704</th>\n",
       "      <td>Strongest Tokyo University Shogi DS</td>\n",
       "      <td>DS</td>\n",
       "      <td>1985</td>\n",
       "      <td>Action</td>\n",
       "      <td>0.0</td>\n",
       "      <td>0.0</td>\n",
       "      <td>0.02</td>\n",
       "      <td>0.0</td>\n",
       "      <td>NaN</td>\n",
       "      <td>NaN</td>\n",
       "      <td>Unknown</td>\n",
       "      <td>0.02</td>\n",
       "    </tr>\n",
       "  </tbody>\n",
       "</table>\n",
       "</div>"
      ],
      "text/plain": [
       "                                      name platform  year_of_release   genre  \\\n",
       "15704  Strongest Tokyo University Shogi DS       DS             1985  Action   \n",
       "\n",
       "       na_sales  eu_sales  jp_sales  other_sales  critic_score  user_score  \\\n",
       "15704       0.0       0.0      0.02          0.0           NaN         NaN   \n",
       "\n",
       "        rating  total_sales  \n",
       "15704  Unknown         0.02  "
      ]
     },
     "execution_count": 37,
     "metadata": {},
     "output_type": "execute_result"
    }
   ],
   "source": [
    "data[(data['platform'] == 'DS') & (data['year_of_release'] == 1985)]"
   ]
  },
  {
   "cell_type": "markdown",
   "metadata": {},
   "source": [
    "Данная игра в японскую игру \"Сёги\" была выпущена в Токийском университете задолго до выпуска консоли DS и оказалась в наборе данных по ошибке. Удалим эту строку."
   ]
  },
  {
   "cell_type": "code",
   "execution_count": 38,
   "metadata": {},
   "outputs": [],
   "source": [
    "data = data.drop(labels = [15957]).reset_index(drop=True)"
   ]
  },
  {
   "cell_type": "markdown",
   "metadata": {},
   "source": [
    "Построим распределение для DS еще раз."
   ]
  },
  {
   "cell_type": "code",
   "execution_count": 39,
   "metadata": {},
   "outputs": [
    {
     "data": {
      "image/png": "[encoded data removed]",
      "text/plain": [
       "<Figure size 720x576 with 1 Axes>"
      ]
     },
     "metadata": {
      "needs_background": "light"
     },
     "output_type": "display_data"
    }
   ],
   "source": [
    "(data[data['platform'] == 'DS']['year_of_release']\n",
    ".hist(bins=len(data[data['platform'] == 'DS']['year_of_release'].unique()), figsize=(10,8), edgecolor='black'))\n",
    "plt.ylabel('Кол-во игр')\n",
    "plt.title('Продажи игр на платформе DS')\n",
    "plt.show()"
   ]
  },
  {
   "cell_type": "markdown",
   "metadata": {},
   "source": [
    "Теперь приступим к анализу графиков. Выводы которые мы можем сделать:\n",
    "- Полный срок жизни платформы от 9 до 12 лет.\n",
    "- В основном данные распределены нормально, что говорит о том, что пик по выпуску игр на платформе стремится к половине её срока жизни.\n",
    "- На примере приставок PS, PS2, PS3 мы можем увидеть, что за спадом выпуска игр для  платформы идет выход консоли нового поколения."
   ]
  },
  {
   "cell_type": "markdown",
   "metadata": {},
   "source": [
    "Дальше для составления прогноза на 2017 год будем анализировать данные начиная с 2012 года, т.к. эти данные более точно отражают действительность. Брать период раньше нет смылса, т.к. игровая индустрия с 2008 по 2011 включительно переживала резкий спад в связи с мировым финансовым кризисом.\n",
    "Выведем продажи всех платформ в данный период."
   ]
  },
  {
   "cell_type": "code",
   "execution_count": 40,
   "metadata": {},
   "outputs": [
    {
     "data": {
      "text/html": [
       "<div>\n",
       "<style scoped>\n",
       "    .dataframe tbody tr th:only-of-type {\n",
       "        vertical-align: middle;\n",
       "    }\n",
       "\n",
       "    .dataframe tbody tr th {\n",
       "        vertical-align: top;\n",
       "    }\n",
       "\n",
       "    .dataframe thead th {\n",
       "        text-align: right;\n",
       "    }\n",
       "</style>\n",
       "<table border=\"1\" class=\"dataframe\">\n",
       "  <thead>\n",
       "    <tr style=\"text-align: right;\">\n",
       "      <th></th>\n",
       "      <th>total_sales</th>\n",
       "    </tr>\n",
       "    <tr>\n",
       "      <th>platform</th>\n",
       "      <th></th>\n",
       "    </tr>\n",
       "  </thead>\n",
       "  <tbody>\n",
       "    <tr>\n",
       "      <th>PS4</th>\n",
       "      <td>314.14</td>\n",
       "    </tr>\n",
       "    <tr>\n",
       "      <th>PS3</th>\n",
       "      <td>288.79</td>\n",
       "    </tr>\n",
       "    <tr>\n",
       "      <th>X360</th>\n",
       "      <td>236.54</td>\n",
       "    </tr>\n",
       "    <tr>\n",
       "      <th>3DS</th>\n",
       "      <td>194.61</td>\n",
       "    </tr>\n",
       "    <tr>\n",
       "      <th>XOne</th>\n",
       "      <td>159.32</td>\n",
       "    </tr>\n",
       "    <tr>\n",
       "      <th>WiiU</th>\n",
       "      <td>82.19</td>\n",
       "    </tr>\n",
       "    <tr>\n",
       "      <th>PC</th>\n",
       "      <td>62.65</td>\n",
       "    </tr>\n",
       "    <tr>\n",
       "      <th>PSV</th>\n",
       "      <td>49.18</td>\n",
       "    </tr>\n",
       "    <tr>\n",
       "      <th>Wii</th>\n",
       "      <td>35.37</td>\n",
       "    </tr>\n",
       "    <tr>\n",
       "      <th>DS</th>\n",
       "      <td>12.55</td>\n",
       "    </tr>\n",
       "    <tr>\n",
       "      <th>PSP</th>\n",
       "      <td>11.19</td>\n",
       "    </tr>\n",
       "  </tbody>\n",
       "</table>\n",
       "</div>"
      ],
      "text/plain": [
       "          total_sales\n",
       "platform             \n",
       "PS4            314.14\n",
       "PS3            288.79\n",
       "X360           236.54\n",
       "3DS            194.61\n",
       "XOne           159.32\n",
       "WiiU            82.19\n",
       "PC              62.65\n",
       "PSV             49.18\n",
       "Wii             35.37\n",
       "DS              12.55\n",
       "PSP             11.19"
      ]
     },
     "execution_count": 40,
     "metadata": {},
     "output_type": "execute_result"
    }
   ],
   "source": [
    "# создадим новый фрейм с актуальными данными\n",
    "data_new = data[data['year_of_release'] >= 2012]\n",
    "\n",
    "# вывод продаж\n",
    "data_new.groupby('platform').agg({'total_sales':'sum'}).sort_values(by='total_sales', ascending=False)"
   ]
  },
  {
   "cell_type": "markdown",
   "metadata": {},
   "source": [
    "Из них возьмем первые 5 платформ, таким образом затронем платформы старого поколения (PS3, X360) и нового (PS4, 3DS, XOne). Создадим свод продаж по году и платформе и построим из него график."
   ]
  },
  {
   "cell_type": "code",
   "execution_count": 41,
   "metadata": {},
   "outputs": [
    {
     "data": {
      "image/png": "[encoded data removed]",
      "text/plain": [
       "<Figure size 720x576 with 1 Axes>"
      ]
     },
     "metadata": {
      "needs_background": "light"
     },
     "output_type": "display_data"
    }
   ],
   "source": [
    "for i in ['PS4', 'PS3', 'X360', '3DS', 'XOne']:\n",
    "    (data_new[data_new['platform'] == i]\n",
    "     .groupby('year_of_release')['total_sales'].sum()\n",
    "     .plot(x='year_of_release', y = 'total_sales', grid=True, figsize=(10,8), style='o-', legend=True))\n",
    "plt.legend(['PS4', 'PS3', 'X360', '3DS', 'XOne'])\n",
    "plt.ylabel('Кол-во игр')\n",
    "plt.xlabel('Год')\n",
    "plt.title('Продажи игр по платформам и годам')\n",
    "plt.show()"
   ]
  },
  {
   "cell_type": "markdown",
   "metadata": {},
   "source": [
    "Видим, что идет спад продаж на всех платформах. Но на консолях старого поколения (PS3, X360) падение продаж продаж происходит с начала 2012 года, т.к. эти консоли уже утрачивают свою популярность. \n",
    "\n",
    "\n",
    "Консоли нового же поколения (PS4, XOne) вышли в 2013 году и сразу начали наращивать темп по продажам. Падение в 2016 году можно объяснить неполнотой картины в наборе данных, возможно упущены релизы с конца года. Но тем не менее плтаформы нового поколения более перспективны в ближайшем будущем. Мы только приближаемся к их пику. \n",
    "\n",
    "Портативная консоль 3DS же была выпущена в 2011 году и не оправдала ожиданий по продажам и была не очень популярной. Предположительно люди начали переходить на мобильный гейминг (из-за этого прекратили существование линейка портативных консолей от Sony). Из-за этого продажи игр падали из года в год.\n",
    "\n",
    "Теперь построим диаграмму размаха продаж игр по годам на каждой из этих платформ. С помощью нее найдем выбросы и узнаем в какие года были основыне продажи на платформе, и в какие незначительные."
   ]
  },
  {
   "cell_type": "code",
   "execution_count": 42,
   "metadata": {
    "scrolled": false
   },
   "outputs": [
    {
     "data": {
      "image/png": "[encoded data removed]",
      "text/plain": [
       "<Figure size 720x576 with 1 Axes>"
      ]
     },
     "metadata": {
      "needs_background": "light"
     },
     "output_type": "display_data"
    },
    {
     "data": {
      "image/png": "[encoded data removed]",
      "text/plain": [
       "<Figure size 720x576 with 1 Axes>"
      ]
     },
     "metadata": {
      "needs_background": "light"
     },
     "output_type": "display_data"
    },
    {
     "data": {
      "image/png": "[encoded data removed]",
      "text/plain": [
       "<Figure size 720x576 with 1 Axes>"
      ]
     },
     "metadata": {
      "needs_background": "light"
     },
     "output_type": "display_data"
    },
    {
     "data": {
      "image/png": "[encoded data removed]",
      "text/plain": [
       "<Figure size 720x576 with 1 Axes>"
      ]
     },
     "metadata": {
      "needs_background": "light"
     },
     "output_type": "display_data"
    }
   ],
   "source": [
    "(data_new[data_new['platform'].isin(['PS4', 'PS3', 'X360', '3DS', 'XOne'])]\n",
    ".boxplot('total_sales', by='platform', grid=True, figsize=(10,8), patch_artist = True))\n",
    "plt.title('Продажи игр по платформам и годам')\n",
    "\n",
    "# от 0 до 5 млн проданных копий\n",
    "(data_new[data_new['platform'].isin(['PS4', 'PS3', 'X360', '3DS', 'XOne'])]\n",
    ".boxplot('total_sales', by='platform', grid=True, figsize=(10,8), patch_artist = True))\n",
    "plt.ylim(0,5)\n",
    "\n",
    "# от 0 до 1 млн проданных копий\n",
    "(data_new[data_new['platform'].isin(['PS4', 'PS3', 'X360', '3DS', 'XOne'])]\n",
    ".boxplot('total_sales', by='platform', grid=True, figsize=(10,8), patch_artist = True))\n",
    "plt.ylim(0,1)\n",
    "\n",
    "\n",
    "# от 1 до 2 млн проданных копий\n",
    "(data_new[data_new['platform'].isin(['PS4', 'PS3', 'X360', '3DS', 'XOne'])]\n",
    ".boxplot('total_sales', by='platform', grid=True, figsize=(10,8), patch_artist = True))\n",
    "plt.ylim(1,2)\n",
    "plt.show()"
   ]
  },
  {
   "cell_type": "markdown",
   "metadata": {},
   "source": [
    "На данных диаграммах видим, что глобальные продажи игр в основном находятся в пределах от 100 до 900 тыс.проданных копий для основных платформ (PS и XBOX) и от 50 до 350 тыс. копий для 3DS (причины таких низких продаж мы описывали выше).\n",
    "Игры продающиеся больше 2 млн копий появляются довольно нечасто. Выбросы на графиках это однозначно самые продаваемые игры для своей платформы.\n",
    "\n",
    "Медиана находится примерно на одном уровне до 200 - 300 тыс. проданных копий, значит половина игр продается до этого количества, хотя разброс значений достаточно большой. \n",
    "\n",
    "**Вывод:** Проанализировав период 2012 - 2016 мы можем говорить, о том что платформы нового поколения (PS4 и XOne) быстро зарабатывают себе аудиторию. На данный момент PS4 является неоспоримым лидером по продаже игр, в то же время XOne не может обогнать по суммарным продажам X360 за изучаемый период, но мы видим тенденцию роста продаж на новых платформах и спад на старых.\n",
    "\n",
    "Старое поколение консолей и портативные консоли перестают быть актуальными, из-за прихода новых консолей и мобильного гейминга.\n",
    "\n",
    "PC не зашел ни в один из наших топов, что говорит о том что основные продажи игр идут через консоли. Это может быть связяно с отсутствием пиратства на них."
   ]
  },
  {
   "cell_type": "markdown",
   "metadata": {},
   "source": [
    "#### Взаимосвязь продаж и отзывов"
   ]
  },
  {
   "cell_type": "markdown",
   "metadata": {},
   "source": [
    "Данную связь будем изучать на примере PS4 самой популярной платформы в изучаемом периоде. \n",
    "\n",
    "Построим матрицу корреляций, и далее рассмотим эти зависимости на диаграммах рассеяния."
   ]
  },
  {
   "cell_type": "code",
   "execution_count": 43,
   "metadata": {},
   "outputs": [
    {
     "data": {
      "text/html": [
       "<div>\n",
       "<style scoped>\n",
       "    .dataframe tbody tr th:only-of-type {\n",
       "        vertical-align: middle;\n",
       "    }\n",
       "\n",
       "    .dataframe tbody tr th {\n",
       "        vertical-align: top;\n",
       "    }\n",
       "\n",
       "    .dataframe thead th {\n",
       "        text-align: right;\n",
       "    }\n",
       "</style>\n",
       "<table border=\"1\" class=\"dataframe\">\n",
       "  <thead>\n",
       "    <tr style=\"text-align: right;\">\n",
       "      <th></th>\n",
       "      <th>total_sales</th>\n",
       "      <th>critic_score</th>\n",
       "      <th>user_score</th>\n",
       "    </tr>\n",
       "  </thead>\n",
       "  <tbody>\n",
       "    <tr>\n",
       "      <th>total_sales</th>\n",
       "      <td>1.000000</td>\n",
       "      <td>0.406568</td>\n",
       "      <td>-0.031957</td>\n",
       "    </tr>\n",
       "    <tr>\n",
       "      <th>critic_score</th>\n",
       "      <td>0.406568</td>\n",
       "      <td>1.000000</td>\n",
       "      <td>0.557654</td>\n",
       "    </tr>\n",
       "    <tr>\n",
       "      <th>user_score</th>\n",
       "      <td>-0.031957</td>\n",
       "      <td>0.557654</td>\n",
       "      <td>1.000000</td>\n",
       "    </tr>\n",
       "  </tbody>\n",
       "</table>\n",
       "</div>"
      ],
      "text/plain": [
       "              total_sales  critic_score  user_score\n",
       "total_sales      1.000000      0.406568   -0.031957\n",
       "critic_score     0.406568      1.000000    0.557654\n",
       "user_score      -0.031957      0.557654    1.000000"
      ]
     },
     "execution_count": 43,
     "metadata": {},
     "output_type": "execute_result"
    }
   ],
   "source": [
    "data_new[data_new['platform'] == 'PS4'][['total_sales', 'critic_score', 'user_score']].corr()"
   ]
  },
  {
   "cell_type": "code",
   "execution_count": 44,
   "metadata": {},
   "outputs": [
    {
     "data": {
      "image/png": "[encoded data removed]",
      "text/plain": [
       "<Figure size 720x576 with 1 Axes>"
      ]
     },
     "metadata": {
      "needs_background": "light"
     },
     "output_type": "display_data"
    }
   ],
   "source": [
    "# график зависимости продаж от отзывов критиков\n",
    "data_new[data_new['platform'] == 'PS4'].plot(x='critic_score', y='total_sales', kind='scatter', figsize=(10,8), alpha=0.3)\n",
    "plt.title('Зависимость продаж от отзывов критиков')\n",
    "plt.xlabel('Рейтинг критиков')\n",
    "plt.ylabel('Продажи, млн.')\n",
    "plt.show()"
   ]
  },
  {
   "cell_type": "markdown",
   "metadata": {},
   "source": [
    "Видим слабую положительную связь между продажами игр и оценками критиков. Отзыв игрового журналиста не является определяющим параметром для покупки игры."
   ]
  },
  {
   "cell_type": "code",
   "execution_count": 45,
   "metadata": {},
   "outputs": [
    {
     "data": {
      "image/png": "[encoded data removed]",
      "text/plain": [
       "<Figure size 720x576 with 1 Axes>"
      ]
     },
     "metadata": {
      "needs_background": "light"
     },
     "output_type": "display_data"
    }
   ],
   "source": [
    "# график зависимости продаж от отзывов критиков\n",
    "data_new[data_new['platform'] == 'PS4'].plot(x='user_score', y='total_sales', kind='scatter', figsize=(10,8), alpha=0.3)\n",
    "plt.title('Зависимость продаж от отзывов критиков')\n",
    "plt.xlabel('Рейтинг игроков')\n",
    "plt.ylabel('Продажи, млн.')\n",
    "plt.show()"
   ]
  },
  {
   "cell_type": "markdown",
   "metadata": {},
   "source": [
    "Точки в графике разбросаны достаточно беспорядочно. Связи между оценками пользователей и продажами игр нет никакой. Об этом говорит нам и матрица корреляций. Можно считать что при покупке игры люди не считаются с мнением аудитории игры. Возможно дело в том, что каждый из них не считает другого авторитетом.\n",
    "\n",
    "Проверим выводы на остальных 4-х платформах из ТОП-5."
   ]
  },
  {
   "cell_type": "code",
   "execution_count": 46,
   "metadata": {},
   "outputs": [
    {
     "data": {
      "text/html": [
       "<div>\n",
       "<style scoped>\n",
       "    .dataframe tbody tr th:only-of-type {\n",
       "        vertical-align: middle;\n",
       "    }\n",
       "\n",
       "    .dataframe tbody tr th {\n",
       "        vertical-align: top;\n",
       "    }\n",
       "\n",
       "    .dataframe thead th {\n",
       "        text-align: right;\n",
       "    }\n",
       "</style>\n",
       "<table border=\"1\" class=\"dataframe\">\n",
       "  <thead>\n",
       "    <tr style=\"text-align: right;\">\n",
       "      <th></th>\n",
       "      <th>total_sales</th>\n",
       "      <th>critic_score</th>\n",
       "      <th>user_score</th>\n",
       "    </tr>\n",
       "  </thead>\n",
       "  <tbody>\n",
       "    <tr>\n",
       "      <th>total_sales</th>\n",
       "      <td>1.000000</td>\n",
       "      <td>0.334166</td>\n",
       "      <td>-0.006218</td>\n",
       "    </tr>\n",
       "    <tr>\n",
       "      <th>critic_score</th>\n",
       "      <td>0.334166</td>\n",
       "      <td>1.000000</td>\n",
       "      <td>0.544510</td>\n",
       "    </tr>\n",
       "    <tr>\n",
       "      <th>user_score</th>\n",
       "      <td>-0.006218</td>\n",
       "      <td>0.544510</td>\n",
       "      <td>1.000000</td>\n",
       "    </tr>\n",
       "  </tbody>\n",
       "</table>\n",
       "</div>"
      ],
      "text/plain": [
       "              total_sales  critic_score  user_score\n",
       "total_sales      1.000000      0.334166   -0.006218\n",
       "critic_score     0.334166      1.000000    0.544510\n",
       "user_score      -0.006218      0.544510    1.000000"
      ]
     },
     "execution_count": 46,
     "metadata": {},
     "output_type": "execute_result"
    }
   ],
   "source": [
    "# матрица корреляций для PS3\n",
    "data_new[data_new['platform'] == 'PS3'][['total_sales', 'critic_score', 'user_score']].corr()"
   ]
  },
  {
   "cell_type": "code",
   "execution_count": 47,
   "metadata": {},
   "outputs": [
    {
     "data": {
      "text/html": [
       "<div>\n",
       "<style scoped>\n",
       "    .dataframe tbody tr th:only-of-type {\n",
       "        vertical-align: middle;\n",
       "    }\n",
       "\n",
       "    .dataframe tbody tr th {\n",
       "        vertical-align: top;\n",
       "    }\n",
       "\n",
       "    .dataframe thead th {\n",
       "        text-align: right;\n",
       "    }\n",
       "</style>\n",
       "<table border=\"1\" class=\"dataframe\">\n",
       "  <thead>\n",
       "    <tr style=\"text-align: right;\">\n",
       "      <th></th>\n",
       "      <th>total_sales</th>\n",
       "      <th>critic_score</th>\n",
       "      <th>user_score</th>\n",
       "    </tr>\n",
       "  </thead>\n",
       "  <tbody>\n",
       "    <tr>\n",
       "      <th>total_sales</th>\n",
       "      <td>1.000000</td>\n",
       "      <td>0.360573</td>\n",
       "      <td>0.006164</td>\n",
       "    </tr>\n",
       "    <tr>\n",
       "      <th>critic_score</th>\n",
       "      <td>0.360573</td>\n",
       "      <td>1.000000</td>\n",
       "      <td>0.557352</td>\n",
       "    </tr>\n",
       "    <tr>\n",
       "      <th>user_score</th>\n",
       "      <td>0.006164</td>\n",
       "      <td>0.557352</td>\n",
       "      <td>1.000000</td>\n",
       "    </tr>\n",
       "  </tbody>\n",
       "</table>\n",
       "</div>"
      ],
      "text/plain": [
       "              total_sales  critic_score  user_score\n",
       "total_sales      1.000000      0.360573    0.006164\n",
       "critic_score     0.360573      1.000000    0.557352\n",
       "user_score       0.006164      0.557352    1.000000"
      ]
     },
     "execution_count": 47,
     "metadata": {},
     "output_type": "execute_result"
    }
   ],
   "source": [
    "# матрица корреляций для X360\n",
    "data_new[data_new['platform'] == 'X360'][['total_sales', 'critic_score', 'user_score']].corr()"
   ]
  },
  {
   "cell_type": "code",
   "execution_count": 48,
   "metadata": {},
   "outputs": [
    {
     "data": {
      "text/html": [
       "<div>\n",
       "<style scoped>\n",
       "    .dataframe tbody tr th:only-of-type {\n",
       "        vertical-align: middle;\n",
       "    }\n",
       "\n",
       "    .dataframe tbody tr th {\n",
       "        vertical-align: top;\n",
       "    }\n",
       "\n",
       "    .dataframe thead th {\n",
       "        text-align: right;\n",
       "    }\n",
       "</style>\n",
       "<table border=\"1\" class=\"dataframe\">\n",
       "  <thead>\n",
       "    <tr style=\"text-align: right;\">\n",
       "      <th></th>\n",
       "      <th>total_sales</th>\n",
       "      <th>critic_score</th>\n",
       "      <th>user_score</th>\n",
       "    </tr>\n",
       "  </thead>\n",
       "  <tbody>\n",
       "    <tr>\n",
       "      <th>total_sales</th>\n",
       "      <td>1.000000</td>\n",
       "      <td>0.320803</td>\n",
       "      <td>0.197583</td>\n",
       "    </tr>\n",
       "    <tr>\n",
       "      <th>critic_score</th>\n",
       "      <td>0.320803</td>\n",
       "      <td>1.000000</td>\n",
       "      <td>0.722762</td>\n",
       "    </tr>\n",
       "    <tr>\n",
       "      <th>user_score</th>\n",
       "      <td>0.197583</td>\n",
       "      <td>0.722762</td>\n",
       "      <td>1.000000</td>\n",
       "    </tr>\n",
       "  </tbody>\n",
       "</table>\n",
       "</div>"
      ],
      "text/plain": [
       "              total_sales  critic_score  user_score\n",
       "total_sales      1.000000      0.320803    0.197583\n",
       "critic_score     0.320803      1.000000    0.722762\n",
       "user_score       0.197583      0.722762    1.000000"
      ]
     },
     "execution_count": 48,
     "metadata": {},
     "output_type": "execute_result"
    }
   ],
   "source": [
    "# матрица корреляций для 3DS\n",
    "data_new[data_new['platform'] == '3DS'][['total_sales', 'critic_score', 'user_score']].corr()"
   ]
  },
  {
   "cell_type": "code",
   "execution_count": 49,
   "metadata": {},
   "outputs": [
    {
     "data": {
      "text/html": [
       "<div>\n",
       "<style scoped>\n",
       "    .dataframe tbody tr th:only-of-type {\n",
       "        vertical-align: middle;\n",
       "    }\n",
       "\n",
       "    .dataframe tbody tr th {\n",
       "        vertical-align: top;\n",
       "    }\n",
       "\n",
       "    .dataframe thead th {\n",
       "        text-align: right;\n",
       "    }\n",
       "</style>\n",
       "<table border=\"1\" class=\"dataframe\">\n",
       "  <thead>\n",
       "    <tr style=\"text-align: right;\">\n",
       "      <th></th>\n",
       "      <th>total_sales</th>\n",
       "      <th>critic_score</th>\n",
       "      <th>user_score</th>\n",
       "    </tr>\n",
       "  </thead>\n",
       "  <tbody>\n",
       "    <tr>\n",
       "      <th>total_sales</th>\n",
       "      <td>1.000000</td>\n",
       "      <td>0.416998</td>\n",
       "      <td>-0.068925</td>\n",
       "    </tr>\n",
       "    <tr>\n",
       "      <th>critic_score</th>\n",
       "      <td>0.416998</td>\n",
       "      <td>1.000000</td>\n",
       "      <td>0.472462</td>\n",
       "    </tr>\n",
       "    <tr>\n",
       "      <th>user_score</th>\n",
       "      <td>-0.068925</td>\n",
       "      <td>0.472462</td>\n",
       "      <td>1.000000</td>\n",
       "    </tr>\n",
       "  </tbody>\n",
       "</table>\n",
       "</div>"
      ],
      "text/plain": [
       "              total_sales  critic_score  user_score\n",
       "total_sales      1.000000      0.416998   -0.068925\n",
       "critic_score     0.416998      1.000000    0.472462\n",
       "user_score      -0.068925      0.472462    1.000000"
      ]
     },
     "execution_count": 49,
     "metadata": {},
     "output_type": "execute_result"
    }
   ],
   "source": [
    "# матрица корреляций для XOne\n",
    "data_new[data_new['platform'] == 'XOne'][['total_sales', 'critic_score', 'user_score']].corr()"
   ]
  },
  {
   "cell_type": "markdown",
   "metadata": {},
   "source": [
    "Как видим ситуация на остальных платформах примерно одинаковая. На 3DS мы можем увидеть относительно высокую связь между отзывами пользователей и продажами. Возможно это связяно с исключительностью самой консоли и выпускаемых на ней игр. В основном это эксклюзивы только для этой платформы, они менее известны в широком кругу и люди больше склонны полагаться на мнение других игроков, т.к. их гораздо меньше, а значит меньше фрода в оценках.\n",
    "\n",
    "**Вывод:** На всех крупных платформах оценки критиков и продажи игры имеют слабую положительную связь. Это значит, что оценки критиков не являются определяющим параметром для покупки игры, но люди обращают на него внимание, возможно это связано с тем, что люди отчасти прислушиваются к мнению авторитетных журналистов, но не настолько чтобы не получить самому удовольствие от игры.\n",
    "\n",
    "А вот между оценками пользователей и продажами игры нет никакой связи. Предпологаем, что при покупке игры люди не смотрят на мнение других пользователей."
   ]
  },
  {
   "cell_type": "markdown",
   "metadata": {},
   "source": [
    "#### Количество игр по жанрам"
   ]
  },
  {
   "cell_type": "markdown",
   "metadata": {},
   "source": [
    "Построим распределение игр по жанрам."
   ]
  },
  {
   "cell_type": "code",
   "execution_count": 50,
   "metadata": {},
   "outputs": [
    {
     "data": {
      "image/png": "[encoded data removed]",
      "text/plain": [
       "<Figure size 720x576 with 1 Axes>"
      ]
     },
     "metadata": {
      "needs_background": "light"
     },
     "output_type": "display_data"
    }
   ],
   "source": [
    "data_new.groupby('genre')['name'].count().sort_values().plot(kind='bar', figsize=(10,8))\n",
    "plt.title('Количество игр по жанрам')\n",
    "plt.xlabel('Жанр')\n",
    "plt.ylabel('Кол-во игр')\n",
    "plt.show()"
   ]
  },
  {
   "cell_type": "markdown",
   "metadata": {},
   "source": [
    "Самым популярным жанром является Action. Именно в этом жанре находятся самые популярные серии (GTA, Assassin's Creed и т.д.). Игры этого жанра могут сочетать в себе элементы из других жанров (ролевые элементы, гонки, пазлы и т.д.), являются досутпными для всех. Дальше идут ролевые игры и приключенческие (поджанр Action).\n",
    "\n",
    "Самые непопулярные жанры - это паззлы, страгтегии и симуляторы. Эти жанры более нишевые, имеют более высокий порог вхождения, эти игры приносят меньше денег. Стратегии, например, выходят преимущественно на PC из-за особенностей управления.\n",
    "\n",
    "Теперь посмотрим прибыльность каждого жанра. Для этого построим диаграммы размаха для каждого из них."
   ]
  },
  {
   "cell_type": "code",
   "execution_count": 51,
   "metadata": {},
   "outputs": [
    {
     "data": {
      "image/png": "[encoded data removed]",
      "text/plain": [
       "<Figure size 720x576 with 1 Axes>"
      ]
     },
     "metadata": {
      "needs_background": "light"
     },
     "output_type": "display_data"
    },
    {
     "data": {
      "image/png": "[encoded data removed]",
      "text/plain": [
       "<Figure size 720x576 with 1 Axes>"
      ]
     },
     "metadata": {
      "needs_background": "light"
     },
     "output_type": "display_data"
    }
   ],
   "source": [
    "(data_new.boxplot('total_sales', by='genre', grid=True, figsize=(10,8), patch_artist = True))\n",
    "plt.title('Продажи игр по платформам')\n",
    "\n",
    "(data_new.boxplot('total_sales', by='genre', grid=True, figsize=(10,8), patch_artist = True))\n",
    "plt.ylim(0,5)\n",
    "\n",
    "plt.show()"
   ]
  },
  {
   "cell_type": "code",
   "execution_count": 52,
   "metadata": {},
   "outputs": [
    {
     "name": "stdout",
     "output_type": "stream",
     "text": [
      "Топ-10 игр в жанре Sports\n",
      "               total_sales\n",
      "name                      \n",
      "FIFA 15              17.37\n",
      "FIFA 14              16.46\n",
      "FIFA 16              16.30\n",
      "FIFA 17              11.48\n",
      "NBA 2K16              7.98\n",
      "Madden NFL 16         7.40\n",
      "Madden NFL 15         7.26\n",
      "NBA 2K15              7.15\n",
      "NBA 2K14              6.97\n",
      "Madden NFL 13         6.45\n",
      "\n",
      "Топ-10 игр в жанре Shooter\n",
      "                                total_sales\n",
      "name                                       \n",
      "Call of Duty: Black Ops II            29.40\n",
      "Call of Duty: Ghosts                  27.39\n",
      "Call of Duty: Black Ops 3             25.67\n",
      "Call of Duty: Advanced Warfare        21.97\n",
      "Battlefield 4                         13.94\n",
      "Destiny                               12.54\n",
      "Star Wars Battlefront (2015)          12.19\n",
      "Halo 4                                 9.71\n",
      "Far Cry 4                              8.50\n",
      "Far Cry 3                              7.31\n",
      "\n",
      "Топ-10 игр в жанре Platform\n",
      "                             total_sales\n",
      "name                                    \n",
      "New Super Mario Bros. 2             9.90\n",
      "Skylanders SWAP Force               6.00\n",
      "New Super Mario Bros. U             5.23\n",
      "Super Mario 3D World                4.32\n",
      "Super Mario Maker                   3.21\n",
      "Rayman Legends                      3.17\n",
      "LEGO City Undercover                2.57\n",
      "LittleBigPlanet 3                   2.55\n",
      "New Super Luigi U                   2.23\n",
      "Donkey Kong Country Returns         1.90\n",
      "\n",
      "Топ-10 игр в жанре Adventure\n",
      "                              total_sales\n",
      "name                                     \n",
      "Minecraft: Story Mode                2.92\n",
      "Rise of the Tomb Raider              2.76\n",
      "The Walking Dead: Season One         2.28\n",
      "Until Dawn                           1.66\n",
      "Beyond: Two Souls                    1.64\n",
      "Disney Magical World                 0.93\n",
      "How to Train Your Dragon 2           0.79\n",
      "The Walking Dead: Season Two         0.76\n",
      "Tearaway                             0.62\n",
      "Toshochu: Run for Money              0.62\n"
     ]
    }
   ],
   "source": [
    "print('Топ-10 игр в жанре Sports')\n",
    "print(data_new.query('genre == \"Sports\"').groupby('name').agg({'total_sales':'sum'})\n",
    "          .sort_values(by='total_sales', ascending=False)[:10])\n",
    "print('\\nТоп-10 игр в жанре Shooter')\n",
    "print(data_new.query('genre == \"Shooter\"').groupby('name').agg({'total_sales':'sum'})\n",
    "          .sort_values(by='total_sales', ascending=False)[:10])\n",
    "print('\\nТоп-10 игр в жанре Platform')\n",
    "print(data_new.query('genre == \"Platform\"').groupby('name').agg({'total_sales':'sum'})\n",
    "          .sort_values(by='total_sales', ascending=False)[:10])\n",
    "print('\\nТоп-10 игр в жанре Adventure')\n",
    "print(data_new.query('genre == \"Adventure\"').groupby('name').agg({'total_sales':'sum'})\n",
    "          .sort_values(by='total_sales', ascending=False)[:10])"
   ]
  },
  {
   "cell_type": "markdown",
   "metadata": {},
   "source": [
    "Видим что самым прибыльным жанром является Shooter (75% игр этого жанра продаются тиражом до 1.5 млн. копий). Shooter является менее популярным жанром у разработчиков игр, чем РПГ и спортивные игры, но продается более успешно. Это можно объяснить тем, что в этом жанре выходят достаточно популярные серии игр (Call of Duty, Battlefield, Far Cry), которые выходят каждый год и продаются огромными тиражами. В этом жанре сложно изобрести что либо новое (игры из топ-10 шутеров объединяет вид от первого лица, строго боевая составляющая, наличие мультиплеера, сюжетная кампания про войну в том или ином виде), и разработчики не тянутся создавать игры в нем.\n",
    "\n",
    "Также можно отметить жанры Sports и Platform. По ним выходят не так много игр, что объясняется нишевостью жанорв, но большинство этих игр продаются достаточно высокими тиражами. В жанре спортивных игр локомотивами являются FIFA, NBA, NFL. Эти игры выходя ткаждый год и пользуются большой популярностью.\n",
    "\n",
    "В жанре Action наоборот выходят много игр, но 75% игр имеет продажи меньше 500 тысю копий.\n",
    "\n",
    "Также интересно что жанр Adventure находится в топ-3 по выпуску игр, но находится на одном из последних мест по продажам. Это говорит о том, что игры этого жанра находят большой отклик у разработчиков, но не у игроков. Игры этого жанра достаточно разнообразны каждая из них может похвастаться определенной механикой, но они не имеют той динамики, которая есть у популярных жанров. Топ-10 игр в жанре Adventure подтверждают это (Minecraft, The Walking Dead)\n",
    "\n",
    "В жанре Puzzle выходят мало игр, которые не пользуются особым успехом. Они имеют достаточно узкую аудиторию.\n",
    "\n",
    "**Вывод:** Самые продаваемые жанры: Shooter, Sports, Platform. Игры в жанре Action, занимают самую большую часть рынка, но большинство из них не продаются большими тиражами. В то же время шутеры имеют очень популярные серии которые выпускаются каждый год, и игры продаются огромными тиражами.\n",
    "\n",
    "Самые непродаваемые жанры: Puzzle, Adventure. "
   ]
  },
  {
   "cell_type": "markdown",
   "metadata": {},
   "source": [
    "**Общие выводы:** \n",
    "1. Для дальнейшего анализа берем период 2012 - 2016 г.\n",
    "2. Основные продажи в перспективе приходятся на консоли нового поколения (PS4, XOne). Темпы продаж игр растут с момента выхода в 2013 году.\n",
    "3. Консоли старого поколения отходят на второй план. Выпускаются меньше игр, падают продажи.\n",
    "4. Продажи на ПК сильно отстают от консолей.\n",
    "5. Портативные консоли становятся неактуальными из-за появления мобильного гейминга.\n",
    "6. Продажи игр слабо связаны с оценками критиков.\n",
    "7. Продажи игр не связаны с оценками игроков.\n",
    "8.  - Самые продаваемые жанры: Shooter, Sports, Platform. \n",
    "    - Самые непродаваемые: Puzzle, Adventure."
   ]
  },
  {
   "cell_type": "markdown",
   "metadata": {},
   "source": [
    "### Портрет пользователя каждого региона"
   ]
  },
  {
   "cell_type": "markdown",
   "metadata": {},
   "source": [
    "Исследуем данные по продажам в трех регионах - NA (Северная Америка), EU (Европа), JP (Япония). Это основные рынки для видеоигр. Для каждого региона составим портрет пользователя. \n",
    "\n",
    "Начнем с популярности платформ. Сгруппируем данные по платформам и рассчитаем продажи игр по регионам, возьмем у каждого региона топ-5 платформ."
   ]
  },
  {
   "cell_type": "code",
   "execution_count": 53,
   "metadata": {},
   "outputs": [
    {
     "name": "stdout",
     "output_type": "stream",
     "text": [
      "Топ 5 платформ в регионе NA\n",
      "platform\n",
      "X360    140.05\n",
      "PS4     108.74\n",
      "PS3     103.38\n",
      "XOne     93.12\n",
      "3DS      55.31\n",
      "Name: na_sales, dtype: float64 \n",
      "\n",
      "\n",
      "Топ 5 платформ в регионе EU\n",
      "platform\n",
      "PS4     141.09\n",
      "PS3     106.86\n",
      "X360     74.52\n",
      "XOne     51.59\n",
      "3DS      42.64\n",
      "Name: eu_sales, dtype: float64 \n",
      "\n",
      "\n",
      "Топ 5 платформ в регионе JP\n",
      "platform\n",
      "3DS     87.79\n",
      "PS3     35.29\n",
      "PSV     21.04\n",
      "PS4     15.96\n",
      "WiiU    13.01\n",
      "Name: jp_sales, dtype: float64 \n",
      "\n",
      "\n"
     ]
    }
   ],
   "source": [
    "for i in ['na_sales', 'eu_sales', 'jp_sales']:\n",
    "    print('Топ 5 платформ в регионе', i[:2].upper())\n",
    "    print(data_new.groupby('platform')[i].sum().sort_values(ascending=False)[:5], '\\n\\n')"
   ]
  },
  {
   "cell_type": "markdown",
   "metadata": {},
   "source": [
    "В Северной Америке и Европе в топе находятся одни и те же консоли, только в разном порядке. В Америке на первом месте стоит X360 с самыми большими продажами игр. Это может быть связано с тем, что X360 ориентирована была прежде всего на американский рынок и предлагает там больше возможностей и сервисов. В то же время PS ориентирована на международный рынок и может сервисов там и было меньше, большинство из них были локализованы во многих странах. Дальше идут консоли PS двух версий, новая XOne и замыкает пятерку портативная 3DS.\n",
    "\n",
    "В Европе первые места занимают консоли компании Sony, что подтверждает теорию о том что эта компания ориентируется в первую очередь на международный рынок. После них идут консоли Microsoft  как наиболее близкая альтернатива и в конце находится 3DS.\n",
    "\n",
    "В Японии очевидно предпочитают играть на отечетсвенных консолях. Причем в топе находятся сразу два представителя мира портативных консолей 3DS и PS Vita. PS3 по продажам игр обходит PS4 в два раза. Так же в топе находится WiiU, предлагающий опыт отличающийся от остальных консолей.\n",
    "\n",
    "Теперь выведем самые популярные жанры:"
   ]
  },
  {
   "cell_type": "code",
   "execution_count": 54,
   "metadata": {},
   "outputs": [
    {
     "name": "stdout",
     "output_type": "stream",
     "text": [
      "Топ 5 жанров в регионе NA\n",
      "genre\n",
      "Action          177.84\n",
      "Shooter         144.77\n",
      "Sports           81.53\n",
      "Role-Playing     64.00\n",
      "Misc             38.19\n",
      "Name: na_sales, dtype: float64 \n",
      "\n",
      "\n",
      "Топ 5 жанров в регионе EU\n",
      "genre\n",
      "Action          159.34\n",
      "Shooter         113.47\n",
      "Sports           69.09\n",
      "Role-Playing     48.53\n",
      "Racing           27.29\n",
      "Name: eu_sales, dtype: float64 \n",
      "\n",
      "\n",
      "Топ 5 жанров в регионе JP\n",
      "genre\n",
      "Role-Playing    65.44\n",
      "Action          52.80\n",
      "Misc            12.86\n",
      "Simulation      10.41\n",
      "Fighting         9.44\n",
      "Name: jp_sales, dtype: float64 \n",
      "\n",
      "\n"
     ]
    }
   ],
   "source": [
    "for i in ['na_sales', 'eu_sales', 'jp_sales']:\n",
    "    print('Топ 5 жанров в регионе', i[:2].upper())\n",
    "    print(data_new.groupby('genre')[i].sum().sort_values(ascending=False)[:5], '\\n\\n')"
   ]
  },
  {
   "cell_type": "markdown",
   "metadata": {},
   "source": [
    "В топах Европы и Америки на первых местах стоят экшны и шутеры. Их продажи сильно превосходят следующих по списку. Дальше идут спортивные и ролевые игры. И замыкают 5-ку в Америке игры с жанрами разного толка, которым не нашлось место в общем списке, а в Европе гонки.\n",
    "\n",
    "Японский рынок также сильно отличается от американского и европейского. На первом месте стоят РПГ и только после него экшны. Дальше идут игры прочих жанров не представленных в списке. Также здесь популярны жанры, не снискавшие большой словы во всем мире - различные симуляторы и файтинги.\n",
    "\n",
    "Дальше проверим зависимость продаж от рейтинг ESRB в регионах. Напомним значения маркировок:\n",
    "- «EC» («Early childhood») — «Для детей младшего возраста»\n",
    "- «E» («Everyone») — «Для всех»\n",
    "- «E10+» («Everyone 10 and older») — «Для всех от 10 лет и старше»\n",
    "- «T» («Teen») — «Подросткам»\n",
    "- «M» («Mature») — «Для взрослых»\n",
    "- «AO» («Adults Only 18+») — «Только для взрослых»\n",
    "- «RP» («Rating Pending») — «Рейтинг ожидается»\n",
    "- K-A: Для детей (устарел)\n"
   ]
  },
  {
   "cell_type": "code",
   "execution_count": 55,
   "metadata": {},
   "outputs": [
    {
     "name": "stdout",
     "output_type": "stream",
     "text": [
      "Рейтинг ESRB по регионам NA\n",
      "rating\n",
      "M          231.57\n",
      "E          114.37\n",
      "Unknown    103.31\n",
      "E10+        75.70\n",
      "T           66.02\n",
      "Name: na_sales, dtype: float64 \n",
      "\n",
      "\n",
      "Рейтинг ESRB по регионам EU\n",
      "rating\n",
      "M          193.96\n",
      "E          113.03\n",
      "Unknown     91.50\n",
      "E10+        55.37\n",
      "T           52.96\n",
      "Name: eu_sales, dtype: float64 \n",
      "\n",
      "\n",
      "Рейтинг ESRB по регионам JP\n",
      "rating\n",
      "Unknown    108.84\n",
      "E           28.33\n",
      "T           26.02\n",
      "M           21.20\n",
      "E10+         8.19\n",
      "Name: jp_sales, dtype: float64 \n",
      "\n",
      "\n"
     ]
    }
   ],
   "source": [
    "for i in ['na_sales', 'eu_sales', 'jp_sales']:\n",
    "    print('Рейтинг ESRB по регионам', i[:2].upper())\n",
    "    print(data_new.groupby('rating')[i].sum().sort_values(ascending=False), '\\n\\n')"
   ]
  },
  {
   "cell_type": "markdown",
   "metadata": {},
   "source": [
    "Опять же европейский и американский рынок очень схожи. Наибольшей популярностью пользуется игры предназначенные для взрослой аудитории (от 17 лет), дальше идут игры категории для всех, эти игры нейтральны и предназначены как для детей так и для взрослых Дальше идут игры для детей от 10 лет и замыкают списки игры для подростков (от 13 лет). \n",
    "\n",
    "Как видим в Японии очень популярны игры без рейтинга, это можно объяснить т.к. японцы предпочитают играть в отечественные игры, для которых ESRB не рассчитан. В Японии игры для для взрослой аудитории менее популярны чем игры для предназначенные для всех возрастов и подростков. Это может быть связано с национальным менталитетом и японцы предпочитаю играть в отечественные серии, которые связаны с героями аниме (Pokemon) и используют мультяшный стиль не предполагающий сцены откровенного насилия. \n",
    "\n",
    "**Вывод:** Пользователи из Америки могут играть на разных платформах, но предпочитают X360 несмотря на устарелость. Играют преимущественно в экшны и шутеры, но популярностью пользуются также спортивные и ролевые игры. Препочитают игры для взрослой аудитории либо предназначенные для всех возрастов. \n",
    "\n",
    "Пользователи из Европы играют в основном на приставках Sony, но могут и на приставках Microsoft. Играют преимущественно в экшны и шутеры, но популярностью полузуются также спортивные и ролевые игры. Препочитают игры для взрослой аудитории либо предназначенные для всех возрастов. Этим они схожи с американцами.\n",
    "\n",
    "Игроки из Японии играют исключительно на отечественных платформах, также у них в ходу портативный гейминг. Из жанров предпочитают РПГ и экшны, менее популярны игры самых разных жанров например симуляторы и файтинги. Шутеры у них вообще не популярны. Сформитровать преподчтения по рейтингам сложнее - самые популярные игры для японцев не имеют рейтинга ESRB (не выходят  официально на американский рынок, онлайн-игры). Из остальных релизов, оцениваемых ESRB, Японцы предпочитают игры предназначенные для всех возрастов, подростков и для взрослых."
   ]
  },
  {
   "cell_type": "markdown",
   "metadata": {},
   "source": [
    "### Проверка гипотез"
   ]
  },
  {
   "cell_type": "markdown",
   "metadata": {},
   "source": [
    "#### Средние пользовательские рейтинги платформ Xbox One и PC одинаковые"
   ]
  },
  {
   "cell_type": "markdown",
   "metadata": {},
   "source": [
    "Так как проверяем гипотезу о равенстве средних генеральных совокупностей ,то сформулирруем нулевую гипотезу как: Средние пользовательские рейтинги платформ Xbox One и PC равны.\n",
    "\n",
    "Альтернативная гипотеза тогда будет звучать так: Средние пользовательские рейтинги платформ Xbox One и PC не равны.\n",
    "\n",
    "Т.к. сравниваем две генеральные совокупности, будем использовать метод для проверки гипотезы о равенстве среднего двух генеральных совокупностей по взятым из них выборкам: `scipy.stats.ttest_ind`. \n",
    "Проверим можно ли использовать данный метод:\n",
    "1. Эти две генеральные совокупности не зависят друг от друга.\n",
    "\n",
    "Дальше проверим размер этих выборок"
   ]
  },
  {
   "cell_type": "code",
   "execution_count": 56,
   "metadata": {},
   "outputs": [
    {
     "name": "stdout",
     "output_type": "stream",
     "text": [
      "182\n",
      "206\n"
     ]
    }
   ],
   "source": [
    "score_xone = data_new.query('platform == \"XOne\"')['user_score'].dropna()\n",
    "score_pc = data_new.query('platform == \"PC\"')['user_score'].dropna()\n",
    "\n",
    "\n",
    "print(score_xone.count())\n",
    "print(score_pc.count())"
   ]
  },
  {
   "cell_type": "markdown",
   "metadata": {},
   "source": [
    "2. Выборки достаточно велики и выборочные средние, которые можно получить из одной и той же генеральной совокупности, будут распределены близко к нормальному вокруг истинного среднего этой совокупности.\n",
    "3. Выборки относительно равны по размеру и велики и нет оснований думать что дисперсии разные.\n",
    "\n",
    "Проверяем гипотезу:"
   ]
  },
  {
   "cell_type": "code",
   "execution_count": 57,
   "metadata": {},
   "outputs": [
    {
     "name": "stdout",
     "output_type": "stream",
     "text": [
      "p-значение: 0.5535080500643661\n",
      "Не получилось отвергнуть нулевую гипотезу\n"
     ]
    }
   ],
   "source": [
    "alpha = 0.05 # уровень статистической значимости\n",
    "\n",
    "results = st.ttest_ind(score_xone, score_pc)\n",
    "\n",
    "print('p-значение:', results.pvalue)\n",
    "\n",
    "if results.pvalue < alpha:\n",
    "    print('Отвергаем нулевую гипотезу')\n",
    "else:\n",
    "    print('Не получилось отвергнуть нулевую гипотезу') "
   ]
  },
  {
   "cell_type": "markdown",
   "metadata": {},
   "source": [
    "Значение p-value показывает: вероятность случайно получить такое или большее различие равна почти \n",
    "55%. Это слишком большая вероятность, чтобы делать вывод о значимом различии между средними оценками пользователей."
   ]
  },
  {
   "cell_type": "markdown",
   "metadata": {},
   "source": [
    "#### Средние пользовательские рейтинги жанров Action (англ. «действие», экшен-игры) и Sports (англ. «спортивные соревнования») разные."
   ]
  },
  {
   "cell_type": "markdown",
   "metadata": {},
   "source": [
    "Нулевая гипотеза: Средние пользовательские рейтинги жанров Action и Sports равны.\n",
    "\n",
    "Альтернативная гипотеза: Средние пользовательские рейтинги жанров Action и Sports не равны.\n",
    "\n",
    "Проверим размер выборок:"
   ]
  },
  {
   "cell_type": "code",
   "execution_count": 58,
   "metadata": {},
   "outputs": [
    {
     "name": "stdout",
     "output_type": "stream",
     "text": [
      "523\n",
      "194\n"
     ]
    }
   ],
   "source": [
    "score_action = data_new.query('genre == \"Action\"')['user_score'].dropna()\n",
    "score_sports = data_new.query('genre == \"Sports\"')['user_score'].dropna()\n",
    "\n",
    "\n",
    "print(score_action.count())\n",
    "print(score_sports.count())"
   ]
  },
  {
   "cell_type": "markdown",
   "metadata": {},
   "source": [
    "Проверим можно ли использовать данный метод:\n",
    "1. Эти две генеральные совокупности не зависят друг от друга.\n",
    "2. Выборки достаточно велики и выборочные средние, которые можно получить из одной и той же генеральной совокупности, будут распределены близко к нормальному вокруг истинного среднего этой совокупности.\n",
    "3. Выборки сильно отличаются друг от друго по размеру и есть основания полагать, что дисперсии выборок отличаются. Поставим параметр `equal_var=False`.\n",
    "\n",
    "Метод использовать можно. Проверим гипотезу."
   ]
  },
  {
   "cell_type": "code",
   "execution_count": 59,
   "metadata": {},
   "outputs": [
    {
     "name": "stdout",
     "output_type": "stream",
     "text": [
      "p-значение: 5.989458066467418e-20\n",
      "Отвергаем нулевую гипотезу\n"
     ]
    }
   ],
   "source": [
    "alpha = 0.05 # уровень статистической значимости\n",
    "\n",
    "results = st.ttest_ind(score_action, score_sports, equal_var=False)\n",
    "\n",
    "print('p-значение:', results.pvalue)\n",
    "\n",
    "if results.pvalue < alpha:\n",
    "    print('Отвергаем нулевую гипотезу')\n",
    "else:\n",
    "    print('Не получилось отвергнуть нулевую гипотезу') "
   ]
  },
  {
   "cell_type": "markdown",
   "metadata": {},
   "source": [
    "Полученное значение p-value меньше заданного уровня значимости, поэтому можно отвергнуть нулевую гипотезу. Есть основания говорить, что cредние пользовательские рейтинги жанров Action и Sports не равны.\n",
    "\n",
    "**Вывод:** \n",
    "1. Имеется большая вероятность что, средние пользовательские оценки пользователей на платформах Xbox One не различаются.\n",
    "\n",
    "2. Есть основания говорить, что cредние пользовательские рейтинги жанров Action и Sports не равны."
   ]
  },
  {
   "cell_type": "markdown",
   "metadata": {},
   "source": [
    "### Общий вывод"
   ]
  },
  {
   "cell_type": "markdown",
   "metadata": {},
   "source": [
    "В данном проекте мы изучили данные по компьютерным играм с 1980 по 2016 год.\n",
    "\n",
    "В процессе предобработки данных мы сделали следующие действия:\n",
    "- Все названия столбцов были приведены к хорошему стилю\n",
    "- В столбцах `name` и `year_of_release` были удалены пропуски\n",
    "- В столбце `user_score` значение 'tbd' заменено на NaN\n",
    "- В столбце `rating` значение 'RP' заменено на NaN\n",
    "- Удалены дубликаты по столбцам `name`, `platform`, `year_of_release`, `genre`\n",
    "- Изменили типы столбцов `year_of_release` и `user_score` на целочисленный и вещественный\n",
    "- Добавили столбец `total_sales` с суммарными продажами игры\n",
    "\n",
    "В результате исследования выяснили:\n",
    "1. Для планирования реламной кампании берем период 2012 - 2016 г.\n",
    "2. Основные продажи в перспективе приходятся на консоли нового поколения (PS4, XOne). Темпы продаж игр растут с момента выхода в 2013 году.\n",
    "3. Консоли старого поколения отходят на второй план. Выпускаются меньше игр, падают продажи.\n",
    "4. Продажи на ПК сильно отстают от консолей.\n",
    "5. Портативные консоли становятся неактуальными из-за появления мобильного гейминга.\n",
    "6. Продажи игр слабо связаны с оценками критиков.\n",
    "7. Продажи игр не связаны с оценками игроков.\n",
    "8.  - Самые продаваемые жанры: Shooter, Sports, Platform. \n",
    "    - Самые непродаваемые: Puzzle, Adventure.\n",
    "    \n",
    "Позже мы составили портрет пользователя для регионов (NA, EU, JP). Будем учитывать только актуальные платформы.\n",
    "- NA (Северная Америка)\n",
    "    - Любимая платформа: PS4\n",
    "    - Любимые жанры: Action, Shooter\n",
    "    - Основные возрастные категории: M (для взрослых), E (для всех возрастов)\n",
    "- EU (Европа)\n",
    "    - Любимая платформа: PS4\n",
    "    - Любимые жанры: Action, Shooter\n",
    "    - Основные возрастные категории: M (для взрослых), E (для всех возрастов)\n",
    "- JP (Япония)\n",
    "    - Любимая платформа: 3DS\n",
    "    - Любимые жанры: Role-Playing, Action\n",
    "    - Основные возрастные категории: игры преимущественно продаящиеся в этом регионе не оцениваются ESRB. Остальные игры: E (для всех возрастов), T (для подростков), M (для взрослых)\n",
    "    \n",
    " При проверке гипотез сделали следующие выводы:\n",
    " \n",
    "1. Имеется большая вероятность что, средние пользовательские оценки пользователей на платформах Xbox One не различаются.\n",
    "\n",
    "2. Есть основания говорить, что cредние пользовательские рейтинги жанров Action и Sports не равны.\n",
    "\n",
    " Рекомендации для рекламной кампании:\n",
    " 1. Делать ставку на консоли PS4 и Xbox One.\n",
    " 2. В рекламных баннерах игр на сайте монжно добавить оценки критиков.\n",
    " 3. Для оценки перспективности игр не учитывать рейтинги от пользователей.\n",
    " 3. Для пользователей из Северной Америки и Европы рекомендовать игры на PS4 в жанре Action и Shooter с рейтингом M и E.\n",
    " 4. Для пользователей из Японии рекомендовать игры для 3DS в жанре Role-Playing и Action с рейтингом E, T и M.\n",
    " 5. Длякаждого региона учитывать работу местных организаций для присвоения возрастного рейтинга игр."
   ]
  }
 ],
 "metadata": {
  "ExecuteTimeLog": [
   {
    "duration": 1250,
    "start_time": "2023-05-13T09:15:03.683Z"
   },
   {
    "duration": 318,
    "start_time": "2023-05-13T09:23:27.168Z"
   },
   {
    "duration": 29,
    "start_time": "2023-05-13T09:24:13.940Z"
   },
   {
    "duration": 15,
    "start_time": "2023-05-13T09:24:55.976Z"
   },
   {
    "duration": 726,
    "start_time": "2023-05-13T09:39:48.346Z"
   },
   {
    "duration": 773,
    "start_time": "2023-05-13T09:45:30.507Z"
   },
   {
    "duration": 886,
    "start_time": "2023-05-13T09:46:31.715Z"
   },
   {
    "duration": 4,
    "start_time": "2023-05-13T09:57:47.310Z"
   },
   {
    "duration": 4,
    "start_time": "2023-05-13T09:59:54.848Z"
   },
   {
    "duration": 107,
    "start_time": "2023-05-13T10:00:00.397Z"
   },
   {
    "duration": 5,
    "start_time": "2023-05-13T10:00:07.389Z"
   },
   {
    "duration": 8,
    "start_time": "2023-05-13T10:00:27.777Z"
   },
   {
    "duration": 12,
    "start_time": "2023-05-13T10:02:41.304Z"
   },
   {
    "duration": 16,
    "start_time": "2023-05-13T10:05:07.456Z"
   },
   {
    "duration": 15,
    "start_time": "2023-05-13T10:09:30.945Z"
   },
   {
    "duration": 21,
    "start_time": "2023-05-13T10:09:37.192Z"
   },
   {
    "duration": 20,
    "start_time": "2023-05-13T10:09:45.917Z"
   },
   {
    "duration": 48,
    "start_time": "2023-05-15T14:42:50.174Z"
   },
   {
    "duration": 1298,
    "start_time": "2023-05-15T14:42:59.923Z"
   },
   {
    "duration": 427,
    "start_time": "2023-05-15T14:43:01.224Z"
   },
   {
    "duration": 21,
    "start_time": "2023-05-15T14:43:01.653Z"
   },
   {
    "duration": 118,
    "start_time": "2023-05-15T14:43:01.677Z"
   },
   {
    "duration": 832,
    "start_time": "2023-05-15T14:43:01.797Z"
   },
   {
    "duration": 4,
    "start_time": "2023-05-15T14:43:02.631Z"
   },
   {
    "duration": 14,
    "start_time": "2023-05-15T14:43:02.636Z"
   },
   {
    "duration": 15,
    "start_time": "2023-05-15T14:43:02.651Z"
   },
   {
    "duration": 14,
    "start_time": "2023-05-15T14:43:02.668Z"
   },
   {
    "duration": 120,
    "start_time": "2023-05-15T14:43:02.685Z"
   },
   {
    "duration": 13,
    "start_time": "2023-05-15T14:44:23.633Z"
   },
   {
    "duration": 19,
    "start_time": "2023-05-15T14:46:04.911Z"
   },
   {
    "duration": 14,
    "start_time": "2023-05-15T14:46:21.911Z"
   },
   {
    "duration": 14,
    "start_time": "2023-05-15T14:46:55.502Z"
   },
   {
    "duration": 9,
    "start_time": "2023-05-15T14:49:23.017Z"
   },
   {
    "duration": 14,
    "start_time": "2023-05-15T14:49:43.029Z"
   },
   {
    "duration": 22,
    "start_time": "2023-05-15T14:50:57.678Z"
   },
   {
    "duration": 3,
    "start_time": "2023-05-15T14:51:49.216Z"
   },
   {
    "duration": 4,
    "start_time": "2023-05-15T14:51:54.555Z"
   },
   {
    "duration": 12,
    "start_time": "2023-05-15T14:54:33.019Z"
   },
   {
    "duration": 8,
    "start_time": "2023-05-15T14:58:29.363Z"
   },
   {
    "duration": 12,
    "start_time": "2023-05-15T15:02:05.505Z"
   },
   {
    "duration": 12,
    "start_time": "2023-05-15T15:08:09.579Z"
   },
   {
    "duration": 3,
    "start_time": "2023-05-15T15:08:22.177Z"
   },
   {
    "duration": 11,
    "start_time": "2023-05-15T15:08:47.955Z"
   },
   {
    "duration": 10,
    "start_time": "2023-05-15T15:08:53.254Z"
   },
   {
    "duration": 11,
    "start_time": "2023-05-15T15:09:01.725Z"
   },
   {
    "duration": 12,
    "start_time": "2023-05-15T15:09:05.015Z"
   },
   {
    "duration": 57,
    "start_time": "2023-05-15T15:09:35.701Z"
   },
   {
    "duration": 34,
    "start_time": "2023-05-15T15:09:54.052Z"
   },
   {
    "duration": 18,
    "start_time": "2023-05-15T15:10:05.400Z"
   },
   {
    "duration": 736,
    "start_time": "2023-05-15T15:10:09.046Z"
   },
   {
    "duration": 631,
    "start_time": "2023-05-15T15:10:32.391Z"
   },
   {
    "duration": 1242,
    "start_time": "2023-05-15T15:10:45.003Z"
   },
   {
    "duration": 299,
    "start_time": "2023-05-15T15:10:46.247Z"
   },
   {
    "duration": 22,
    "start_time": "2023-05-15T15:10:46.547Z"
   },
   {
    "duration": 17,
    "start_time": "2023-05-15T15:10:46.571Z"
   },
   {
    "duration": 815,
    "start_time": "2023-05-15T15:10:46.590Z"
   },
   {
    "duration": 4,
    "start_time": "2023-05-15T15:10:47.407Z"
   },
   {
    "duration": 23,
    "start_time": "2023-05-15T15:10:47.412Z"
   },
   {
    "duration": 23,
    "start_time": "2023-05-15T15:10:47.437Z"
   },
   {
    "duration": 623,
    "start_time": "2023-05-15T15:10:47.461Z"
   },
   {
    "duration": 15,
    "start_time": "2023-05-15T15:10:48.086Z"
   },
   {
    "duration": 46,
    "start_time": "2023-05-15T15:10:48.102Z"
   },
   {
    "duration": 52,
    "start_time": "2023-05-15T15:10:48.150Z"
   },
   {
    "duration": 36,
    "start_time": "2023-05-15T15:10:48.204Z"
   },
   {
    "duration": 32,
    "start_time": "2023-05-15T15:10:48.241Z"
   },
   {
    "duration": 46,
    "start_time": "2023-05-15T15:10:48.275Z"
   },
   {
    "duration": 127,
    "start_time": "2023-05-15T15:10:48.323Z"
   },
   {
    "duration": 1257,
    "start_time": "2023-05-15T15:11:36.803Z"
   },
   {
    "duration": 277,
    "start_time": "2023-05-15T15:11:38.062Z"
   },
   {
    "duration": 20,
    "start_time": "2023-05-15T15:11:38.341Z"
   },
   {
    "duration": 37,
    "start_time": "2023-05-15T15:11:38.363Z"
   },
   {
    "duration": 783,
    "start_time": "2023-05-15T15:11:38.401Z"
   },
   {
    "duration": 4,
    "start_time": "2023-05-15T15:11:39.187Z"
   },
   {
    "duration": 34,
    "start_time": "2023-05-15T15:11:39.193Z"
   },
   {
    "duration": 15,
    "start_time": "2023-05-15T15:11:39.229Z"
   },
   {
    "duration": 705,
    "start_time": "2023-05-15T15:11:39.246Z"
   },
   {
    "duration": 16,
    "start_time": "2023-05-15T15:11:39.953Z"
   },
   {
    "duration": 17,
    "start_time": "2023-05-15T15:11:39.971Z"
   },
   {
    "duration": 39,
    "start_time": "2023-05-15T15:11:39.990Z"
   },
   {
    "duration": 7,
    "start_time": "2023-05-15T15:11:40.032Z"
   },
   {
    "duration": 14,
    "start_time": "2023-05-15T15:11:40.041Z"
   },
   {
    "duration": 15,
    "start_time": "2023-05-15T15:11:40.057Z"
   },
   {
    "duration": 140,
    "start_time": "2023-05-15T15:11:40.075Z"
   },
   {
    "duration": 1238,
    "start_time": "2023-05-15T15:12:02.149Z"
   },
   {
    "duration": 264,
    "start_time": "2023-05-15T15:12:03.389Z"
   },
   {
    "duration": 21,
    "start_time": "2023-05-15T15:12:03.655Z"
   },
   {
    "duration": 28,
    "start_time": "2023-05-15T15:12:03.678Z"
   },
   {
    "duration": 825,
    "start_time": "2023-05-15T15:12:03.708Z"
   },
   {
    "duration": 5,
    "start_time": "2023-05-15T15:12:04.534Z"
   },
   {
    "duration": 11,
    "start_time": "2023-05-15T15:12:04.541Z"
   },
   {
    "duration": 14,
    "start_time": "2023-05-15T15:12:04.555Z"
   },
   {
    "duration": 588,
    "start_time": "2023-05-15T15:12:07.739Z"
   },
   {
    "duration": 110,
    "start_time": "2023-05-15T15:12:12.301Z"
   },
   {
    "duration": 600,
    "start_time": "2023-05-15T15:12:16.400Z"
   },
   {
    "duration": 123,
    "start_time": "2023-05-15T15:29:24.180Z"
   },
   {
    "duration": 696,
    "start_time": "2023-05-15T15:29:33.079Z"
   },
   {
    "duration": 656,
    "start_time": "2023-05-15T15:29:42.045Z"
   },
   {
    "duration": 602,
    "start_time": "2023-05-15T15:30:21.734Z"
   },
   {
    "duration": 616,
    "start_time": "2023-05-15T15:30:25.255Z"
   },
   {
    "duration": 728,
    "start_time": "2023-05-15T15:30:32.174Z"
   },
   {
    "duration": 604,
    "start_time": "2023-05-15T15:30:37.148Z"
   },
   {
    "duration": 890,
    "start_time": "2023-05-15T15:31:43.919Z"
   },
   {
    "duration": 914,
    "start_time": "2023-05-15T15:32:20.528Z"
   },
   {
    "duration": 1253,
    "start_time": "2023-05-15T15:32:57.094Z"
   },
   {
    "duration": 262,
    "start_time": "2023-05-15T15:32:58.349Z"
   },
   {
    "duration": 20,
    "start_time": "2023-05-15T15:32:58.613Z"
   },
   {
    "duration": 15,
    "start_time": "2023-05-15T15:32:58.635Z"
   },
   {
    "duration": 777,
    "start_time": "2023-05-15T15:32:58.651Z"
   },
   {
    "duration": 5,
    "start_time": "2023-05-15T15:32:59.431Z"
   },
   {
    "duration": 15,
    "start_time": "2023-05-15T15:32:59.438Z"
   },
   {
    "duration": 11,
    "start_time": "2023-05-15T15:32:59.455Z"
   },
   {
    "duration": 19,
    "start_time": "2023-05-15T15:32:59.468Z"
   },
   {
    "duration": 37,
    "start_time": "2023-05-15T15:32:59.491Z"
   },
   {
    "duration": 23,
    "start_time": "2023-05-15T15:32:59.530Z"
   },
   {
    "duration": 7,
    "start_time": "2023-05-15T15:32:59.555Z"
   },
   {
    "duration": 22,
    "start_time": "2023-05-15T15:32:59.564Z"
   },
   {
    "duration": 1001,
    "start_time": "2023-05-15T15:32:59.589Z"
   },
   {
    "duration": 15,
    "start_time": "2023-05-15T15:33:00.592Z"
   },
   {
    "duration": 117,
    "start_time": "2023-05-15T15:33:00.609Z"
   },
   {
    "duration": 7,
    "start_time": "2023-05-15T15:38:38.255Z"
   },
   {
    "duration": 14,
    "start_time": "2023-05-15T15:42:30.414Z"
   },
   {
    "duration": 9,
    "start_time": "2023-05-15T15:43:28.376Z"
   },
   {
    "duration": 1095,
    "start_time": "2023-05-15T15:43:57.573Z"
   },
   {
    "duration": 233,
    "start_time": "2023-05-15T15:43:58.670Z"
   },
   {
    "duration": 20,
    "start_time": "2023-05-15T15:43:58.904Z"
   },
   {
    "duration": 13,
    "start_time": "2023-05-15T15:43:58.926Z"
   },
   {
    "duration": 785,
    "start_time": "2023-05-15T15:43:58.941Z"
   },
   {
    "duration": 5,
    "start_time": "2023-05-15T15:43:59.728Z"
   },
   {
    "duration": 7,
    "start_time": "2023-05-15T15:43:59.735Z"
   },
   {
    "duration": 12,
    "start_time": "2023-05-15T15:43:59.745Z"
   },
   {
    "duration": 17,
    "start_time": "2023-05-15T15:43:59.760Z"
   },
   {
    "duration": 49,
    "start_time": "2023-05-15T15:43:59.780Z"
   },
   {
    "duration": 26,
    "start_time": "2023-05-15T15:43:59.831Z"
   },
   {
    "duration": 13,
    "start_time": "2023-05-15T15:43:59.859Z"
   },
   {
    "duration": 13,
    "start_time": "2023-05-15T15:44:09.787Z"
   },
   {
    "duration": 8,
    "start_time": "2023-05-15T15:44:36.013Z"
   },
   {
    "duration": 8,
    "start_time": "2023-05-15T15:44:54.286Z"
   },
   {
    "duration": 11,
    "start_time": "2023-05-15T15:45:12.259Z"
   },
   {
    "duration": 16,
    "start_time": "2023-05-15T15:46:52.767Z"
   },
   {
    "duration": 15,
    "start_time": "2023-05-15T15:52:49.718Z"
   },
   {
    "duration": 3,
    "start_time": "2023-05-15T15:53:33.492Z"
   },
   {
    "duration": 4,
    "start_time": "2023-05-15T15:53:48.066Z"
   },
   {
    "duration": 893,
    "start_time": "2023-05-15T15:55:23.015Z"
   },
   {
    "duration": 27,
    "start_time": "2023-05-15T16:00:39.810Z"
   },
   {
    "duration": 2126,
    "start_time": "2023-05-15T16:01:31.319Z"
   },
   {
    "duration": 11,
    "start_time": "2023-05-15T16:01:41.615Z"
   },
   {
    "duration": 8,
    "start_time": "2023-05-15T16:01:53.748Z"
   },
   {
    "duration": 160,
    "start_time": "2023-05-15T16:02:00.522Z"
   },
   {
    "duration": 14,
    "start_time": "2023-05-15T16:02:15.629Z"
   },
   {
    "duration": 167,
    "start_time": "2023-05-15T16:02:19.611Z"
   },
   {
    "duration": 326,
    "start_time": "2023-05-15T16:02:24.592Z"
   },
   {
    "duration": 312,
    "start_time": "2023-05-15T16:02:35.757Z"
   },
   {
    "duration": 57,
    "start_time": "2023-05-15T16:02:53.190Z"
   },
   {
    "duration": 161,
    "start_time": "2023-05-15T16:02:56.090Z"
   },
   {
    "duration": 3411,
    "start_time": "2023-05-15T16:03:17.207Z"
   },
   {
    "duration": 132,
    "start_time": "2023-05-15T16:03:28.002Z"
   },
   {
    "duration": 9,
    "start_time": "2023-05-15T16:03:34.275Z"
   },
   {
    "duration": 8,
    "start_time": "2023-05-15T16:03:54.346Z"
   },
   {
    "duration": 8,
    "start_time": "2023-05-15T16:04:14.110Z"
   },
   {
    "duration": 8,
    "start_time": "2023-05-15T16:04:27.131Z"
   },
   {
    "duration": 122,
    "start_time": "2023-05-15T16:04:37.752Z"
   },
   {
    "duration": 7,
    "start_time": "2023-05-15T16:04:50.298Z"
   },
   {
    "duration": 7,
    "start_time": "2023-05-15T16:04:57.742Z"
   },
   {
    "duration": 16,
    "start_time": "2023-05-15T16:05:19.097Z"
   },
   {
    "duration": 16,
    "start_time": "2023-05-15T16:05:25.719Z"
   },
   {
    "duration": 142,
    "start_time": "2023-05-15T16:05:48.110Z"
   },
   {
    "duration": 109,
    "start_time": "2023-05-15T16:05:59.434Z"
   },
   {
    "duration": 143,
    "start_time": "2023-05-15T16:06:12.718Z"
   },
   {
    "duration": 146,
    "start_time": "2023-05-15T16:06:32.121Z"
   },
   {
    "duration": 9,
    "start_time": "2023-05-15T16:07:07.006Z"
   },
   {
    "duration": 146,
    "start_time": "2023-05-15T16:07:23.875Z"
   },
   {
    "duration": 188,
    "start_time": "2023-05-15T16:07:36.785Z"
   },
   {
    "duration": 50,
    "start_time": "2023-05-15T17:22:37.464Z"
   },
   {
    "duration": 1327,
    "start_time": "2023-05-15T17:22:52.542Z"
   },
   {
    "duration": 443,
    "start_time": "2023-05-15T17:22:53.871Z"
   },
   {
    "duration": 19,
    "start_time": "2023-05-15T17:22:54.316Z"
   },
   {
    "duration": 14,
    "start_time": "2023-05-15T17:22:54.337Z"
   },
   {
    "duration": 788,
    "start_time": "2023-05-15T17:22:54.352Z"
   },
   {
    "duration": 10,
    "start_time": "2023-05-15T17:22:55.141Z"
   },
   {
    "duration": 9,
    "start_time": "2023-05-15T17:22:55.153Z"
   },
   {
    "duration": 10,
    "start_time": "2023-05-15T17:22:55.164Z"
   },
   {
    "duration": 12,
    "start_time": "2023-05-15T17:22:55.176Z"
   },
   {
    "duration": 12,
    "start_time": "2023-05-15T17:22:55.191Z"
   },
   {
    "duration": 48,
    "start_time": "2023-05-15T17:22:55.204Z"
   },
   {
    "duration": 14,
    "start_time": "2023-05-15T17:22:55.254Z"
   },
   {
    "duration": 980,
    "start_time": "2023-05-15T17:22:55.270Z"
   },
   {
    "duration": 176,
    "start_time": "2023-05-15T17:22:56.252Z"
   },
   {
    "duration": 7,
    "start_time": "2023-05-15T17:22:56.429Z"
   },
   {
    "duration": 17,
    "start_time": "2023-05-15T17:22:56.450Z"
   },
   {
    "duration": 113,
    "start_time": "2023-05-15T17:22:56.469Z"
   },
   {
    "duration": 154,
    "start_time": "2023-05-15T17:23:03.681Z"
   },
   {
    "duration": 250,
    "start_time": "2023-05-15T17:23:10.161Z"
   },
   {
    "duration": 7,
    "start_time": "2023-05-15T17:23:15.036Z"
   },
   {
    "duration": 7,
    "start_time": "2023-05-15T17:23:44.624Z"
   },
   {
    "duration": 173,
    "start_time": "2023-05-15T17:23:50.130Z"
   },
   {
    "duration": 148,
    "start_time": "2023-05-15T17:24:06.525Z"
   },
   {
    "duration": 148,
    "start_time": "2023-05-15T17:24:29.375Z"
   },
   {
    "duration": 27,
    "start_time": "2023-05-15T17:53:56.839Z"
   },
   {
    "duration": 25,
    "start_time": "2023-05-15T17:54:33.241Z"
   },
   {
    "duration": 3025,
    "start_time": "2023-05-15T17:54:45.638Z"
   },
   {
    "duration": 7,
    "start_time": "2023-05-15T17:54:54.870Z"
   },
   {
    "duration": 9,
    "start_time": "2023-05-15T17:55:11.225Z"
   },
   {
    "duration": 7,
    "start_time": "2023-05-15T17:55:23.987Z"
   },
   {
    "duration": 19,
    "start_time": "2023-05-15T17:57:44.400Z"
   },
   {
    "duration": 140,
    "start_time": "2023-05-15T17:58:13.412Z"
   },
   {
    "duration": 15,
    "start_time": "2023-05-15T17:58:17.263Z"
   },
   {
    "duration": 31,
    "start_time": "2023-05-15T18:05:04.349Z"
   },
   {
    "duration": 24,
    "start_time": "2023-05-15T18:05:10.437Z"
   },
   {
    "duration": 7,
    "start_time": "2023-05-15T18:05:30.311Z"
   },
   {
    "duration": 7,
    "start_time": "2023-05-15T18:07:55.074Z"
   },
   {
    "duration": 9,
    "start_time": "2023-05-15T18:08:05.972Z"
   },
   {
    "duration": 9,
    "start_time": "2023-05-15T18:08:15.070Z"
   },
   {
    "duration": 9,
    "start_time": "2023-05-15T18:08:23.464Z"
   },
   {
    "duration": 6,
    "start_time": "2023-05-15T18:08:29.627Z"
   },
   {
    "duration": 17,
    "start_time": "2023-05-15T18:09:39.248Z"
   },
   {
    "duration": 16,
    "start_time": "2023-05-15T18:09:48.525Z"
   },
   {
    "duration": 7,
    "start_time": "2023-05-15T18:11:27.064Z"
   },
   {
    "duration": 16,
    "start_time": "2023-05-15T18:11:37.444Z"
   },
   {
    "duration": 6,
    "start_time": "2023-05-15T18:11:45.469Z"
   },
   {
    "duration": 8,
    "start_time": "2023-05-15T18:11:50.011Z"
   },
   {
    "duration": 5,
    "start_time": "2023-05-15T18:11:53.721Z"
   },
   {
    "duration": 343,
    "start_time": "2023-05-15T18:12:51.675Z"
   },
   {
    "duration": 5,
    "start_time": "2023-05-15T18:12:58.001Z"
   },
   {
    "duration": 5,
    "start_time": "2023-05-15T18:15:27.908Z"
   },
   {
    "duration": 5,
    "start_time": "2023-05-15T18:21:16.824Z"
   },
   {
    "duration": 4,
    "start_time": "2023-05-15T18:26:01.999Z"
   },
   {
    "duration": 546,
    "start_time": "2023-05-15T18:26:05.856Z"
   },
   {
    "duration": 641,
    "start_time": "2023-05-15T18:26:16.269Z"
   },
   {
    "duration": 1033,
    "start_time": "2023-05-15T18:26:40.304Z"
   },
   {
    "duration": 222,
    "start_time": "2023-05-15T18:26:41.339Z"
   },
   {
    "duration": 18,
    "start_time": "2023-05-15T18:26:41.563Z"
   },
   {
    "duration": 12,
    "start_time": "2023-05-15T18:26:41.582Z"
   },
   {
    "duration": 681,
    "start_time": "2023-05-15T18:26:41.596Z"
   },
   {
    "duration": 4,
    "start_time": "2023-05-15T18:26:42.279Z"
   },
   {
    "duration": 6,
    "start_time": "2023-05-15T18:26:42.284Z"
   },
   {
    "duration": 8,
    "start_time": "2023-05-15T18:26:42.291Z"
   },
   {
    "duration": 27,
    "start_time": "2023-05-15T18:26:42.300Z"
   },
   {
    "duration": 31,
    "start_time": "2023-05-15T18:26:42.328Z"
   },
   {
    "duration": 20,
    "start_time": "2023-05-15T18:26:42.360Z"
   },
   {
    "duration": 12,
    "start_time": "2023-05-15T18:26:42.382Z"
   },
   {
    "duration": 885,
    "start_time": "2023-05-15T18:26:42.396Z"
   },
   {
    "duration": 6,
    "start_time": "2023-05-15T18:26:43.284Z"
   },
   {
    "duration": 14,
    "start_time": "2023-05-15T18:26:43.291Z"
   },
   {
    "duration": 108,
    "start_time": "2023-05-15T18:26:43.306Z"
   },
   {
    "duration": 60,
    "start_time": "2023-05-15T18:27:26.930Z"
   },
   {
    "duration": 1261,
    "start_time": "2023-05-15T18:27:30.652Z"
   },
   {
    "duration": 6,
    "start_time": "2023-05-15T18:27:39.393Z"
   },
   {
    "duration": 10,
    "start_time": "2023-05-15T18:27:52.415Z"
   },
   {
    "duration": 4,
    "start_time": "2023-05-15T18:27:57.994Z"
   },
   {
    "duration": 5,
    "start_time": "2023-05-15T18:28:05.428Z"
   },
   {
    "duration": 6,
    "start_time": "2023-05-15T18:28:09.119Z"
   },
   {
    "duration": 832,
    "start_time": "2023-05-15T18:28:18.157Z"
   },
   {
    "duration": 11,
    "start_time": "2023-05-15T18:28:26.037Z"
   },
   {
    "duration": 7,
    "start_time": "2023-05-15T18:30:58.495Z"
   },
   {
    "duration": 6,
    "start_time": "2023-05-15T18:31:16.062Z"
   },
   {
    "duration": 9,
    "start_time": "2023-05-15T18:35:03.282Z"
   },
   {
    "duration": 13,
    "start_time": "2023-05-15T18:35:12.095Z"
   },
   {
    "duration": 4,
    "start_time": "2023-05-15T18:36:09.201Z"
   },
   {
    "duration": 3,
    "start_time": "2023-05-15T18:36:29.717Z"
   },
   {
    "duration": 9,
    "start_time": "2023-05-15T18:38:25.595Z"
   },
   {
    "duration": 4,
    "start_time": "2023-05-15T18:38:29.378Z"
   },
   {
    "duration": 7,
    "start_time": "2023-05-15T18:40:39.105Z"
   },
   {
    "duration": 16,
    "start_time": "2023-05-15T18:40:50.088Z"
   },
   {
    "duration": 16,
    "start_time": "2023-05-15T18:40:55.938Z"
   },
   {
    "duration": 1101,
    "start_time": "2023-05-15T18:41:06.705Z"
   },
   {
    "duration": 233,
    "start_time": "2023-05-15T18:41:07.808Z"
   },
   {
    "duration": 20,
    "start_time": "2023-05-15T18:41:08.043Z"
   },
   {
    "duration": 14,
    "start_time": "2023-05-15T18:41:08.065Z"
   },
   {
    "duration": 816,
    "start_time": "2023-05-15T18:41:08.081Z"
   },
   {
    "duration": 5,
    "start_time": "2023-05-15T18:41:08.898Z"
   },
   {
    "duration": 7,
    "start_time": "2023-05-15T18:41:08.905Z"
   },
   {
    "duration": 9,
    "start_time": "2023-05-15T18:41:08.914Z"
   },
   {
    "duration": 36,
    "start_time": "2023-05-15T18:41:08.924Z"
   },
   {
    "duration": 27,
    "start_time": "2023-05-15T18:41:08.962Z"
   },
   {
    "duration": 52,
    "start_time": "2023-05-15T18:41:08.991Z"
   },
   {
    "duration": 15,
    "start_time": "2023-05-15T18:41:09.045Z"
   },
   {
    "duration": 948,
    "start_time": "2023-05-15T18:41:09.061Z"
   },
   {
    "duration": 6,
    "start_time": "2023-05-15T18:41:10.012Z"
   },
   {
    "duration": 8,
    "start_time": "2023-05-15T18:41:10.019Z"
   },
   {
    "duration": 28,
    "start_time": "2023-05-15T18:41:10.028Z"
   },
   {
    "duration": 13,
    "start_time": "2023-05-15T18:41:10.058Z"
   },
   {
    "duration": 40,
    "start_time": "2023-05-15T18:41:10.072Z"
   },
   {
    "duration": 99,
    "start_time": "2023-05-15T18:41:10.113Z"
   },
   {
    "duration": 21,
    "start_time": "2023-05-15T18:43:26.873Z"
   },
   {
    "duration": 8,
    "start_time": "2023-05-15T18:45:26.952Z"
   },
   {
    "duration": 13,
    "start_time": "2023-05-15T18:45:35.483Z"
   },
   {
    "duration": 6,
    "start_time": "2023-05-15T18:57:34.688Z"
   },
   {
    "duration": 6,
    "start_time": "2023-05-15T19:02:55.420Z"
   },
   {
    "duration": 7,
    "start_time": "2023-05-15T19:03:25.518Z"
   },
   {
    "duration": 10,
    "start_time": "2023-05-15T19:03:52.687Z"
   },
   {
    "duration": 21,
    "start_time": "2023-05-15T19:04:01.211Z"
   },
   {
    "duration": 24,
    "start_time": "2023-05-15T19:04:40.047Z"
   },
   {
    "duration": 15,
    "start_time": "2023-05-15T19:05:04.212Z"
   },
   {
    "duration": 16,
    "start_time": "2023-05-15T19:05:43.313Z"
   },
   {
    "duration": 21,
    "start_time": "2023-05-15T19:06:59.640Z"
   },
   {
    "duration": 16,
    "start_time": "2023-05-15T19:07:48.702Z"
   },
   {
    "duration": 18,
    "start_time": "2023-05-15T19:08:36.133Z"
   },
   {
    "duration": 1016,
    "start_time": "2023-05-15T19:10:35.722Z"
   },
   {
    "duration": 6,
    "start_time": "2023-05-15T19:10:41.079Z"
   },
   {
    "duration": 14,
    "start_time": "2023-05-15T19:10:54.270Z"
   },
   {
    "duration": 4,
    "start_time": "2023-05-15T19:10:59.238Z"
   },
   {
    "duration": 4,
    "start_time": "2023-05-15T19:11:22.221Z"
   },
   {
    "duration": 4,
    "start_time": "2023-05-15T19:11:29.291Z"
   },
   {
    "duration": 6,
    "start_time": "2023-05-15T19:12:57.517Z"
   },
   {
    "duration": 12,
    "start_time": "2023-05-15T19:13:06.808Z"
   },
   {
    "duration": 1101,
    "start_time": "2023-05-15T19:13:12.921Z"
   },
   {
    "duration": 304,
    "start_time": "2023-05-15T19:13:14.024Z"
   },
   {
    "duration": 24,
    "start_time": "2023-05-15T19:13:14.330Z"
   },
   {
    "duration": 19,
    "start_time": "2023-05-15T19:13:14.363Z"
   },
   {
    "duration": 793,
    "start_time": "2023-05-15T19:13:14.384Z"
   },
   {
    "duration": 5,
    "start_time": "2023-05-15T19:13:15.179Z"
   },
   {
    "duration": 6,
    "start_time": "2023-05-15T19:13:15.185Z"
   },
   {
    "duration": 8,
    "start_time": "2023-05-15T19:13:15.192Z"
   },
   {
    "duration": 14,
    "start_time": "2023-05-15T19:13:15.201Z"
   },
   {
    "duration": 15,
    "start_time": "2023-05-15T19:13:15.217Z"
   },
   {
    "duration": 46,
    "start_time": "2023-05-15T19:13:15.233Z"
   },
   {
    "duration": 12,
    "start_time": "2023-05-15T19:13:15.282Z"
   },
   {
    "duration": 980,
    "start_time": "2023-05-15T19:13:15.296Z"
   },
   {
    "duration": 5,
    "start_time": "2023-05-15T19:13:16.279Z"
   },
   {
    "duration": 6,
    "start_time": "2023-05-15T19:13:16.286Z"
   },
   {
    "duration": 14,
    "start_time": "2023-05-15T19:13:16.293Z"
   },
   {
    "duration": 13,
    "start_time": "2023-05-15T19:13:16.309Z"
   },
   {
    "duration": 50,
    "start_time": "2023-05-15T19:13:16.324Z"
   },
   {
    "duration": 14,
    "start_time": "2023-05-15T19:13:16.375Z"
   },
   {
    "duration": 18,
    "start_time": "2023-05-15T19:13:16.390Z"
   },
   {
    "duration": 16,
    "start_time": "2023-05-15T19:13:16.410Z"
   },
   {
    "duration": 36,
    "start_time": "2023-05-15T19:13:16.427Z"
   },
   {
    "duration": 15,
    "start_time": "2023-05-15T19:13:16.467Z"
   },
   {
    "duration": 7,
    "start_time": "2023-05-15T19:13:16.484Z"
   },
   {
    "duration": 1019,
    "start_time": "2023-05-15T19:13:39.579Z"
   },
   {
    "duration": 1152,
    "start_time": "2023-05-15T19:13:52.407Z"
   },
   {
    "duration": 267,
    "start_time": "2023-05-15T19:13:53.561Z"
   },
   {
    "duration": 33,
    "start_time": "2023-05-15T19:13:53.830Z"
   },
   {
    "duration": 18,
    "start_time": "2023-05-15T19:13:53.872Z"
   },
   {
    "duration": 854,
    "start_time": "2023-05-15T19:13:53.892Z"
   },
   {
    "duration": 10,
    "start_time": "2023-05-15T19:13:54.750Z"
   },
   {
    "duration": 18,
    "start_time": "2023-05-15T19:13:54.762Z"
   },
   {
    "duration": 10,
    "start_time": "2023-05-15T19:13:54.786Z"
   },
   {
    "duration": 19,
    "start_time": "2023-05-15T19:13:54.798Z"
   },
   {
    "duration": 14,
    "start_time": "2023-05-15T19:13:54.820Z"
   },
   {
    "duration": 50,
    "start_time": "2023-05-15T19:13:54.835Z"
   },
   {
    "duration": 12,
    "start_time": "2023-05-15T19:13:54.887Z"
   },
   {
    "duration": 942,
    "start_time": "2023-05-15T19:13:54.901Z"
   },
   {
    "duration": 26,
    "start_time": "2023-05-15T19:13:55.845Z"
   },
   {
    "duration": 6,
    "start_time": "2023-05-15T19:13:55.875Z"
   },
   {
    "duration": 15,
    "start_time": "2023-05-15T19:13:55.883Z"
   },
   {
    "duration": 13,
    "start_time": "2023-05-15T19:13:55.899Z"
   },
   {
    "duration": 14,
    "start_time": "2023-05-15T19:13:55.914Z"
   },
   {
    "duration": 26,
    "start_time": "2023-05-15T19:13:55.929Z"
   },
   {
    "duration": 21,
    "start_time": "2023-05-15T19:13:55.963Z"
   },
   {
    "duration": 15,
    "start_time": "2023-05-15T19:13:55.985Z"
   },
   {
    "duration": 18,
    "start_time": "2023-05-15T19:13:56.001Z"
   },
   {
    "duration": 5,
    "start_time": "2023-05-15T19:13:56.021Z"
   },
   {
    "duration": 26,
    "start_time": "2023-05-15T19:13:56.028Z"
   },
   {
    "duration": 1495,
    "start_time": "2023-05-15T19:15:30.241Z"
   },
   {
    "duration": 1158,
    "start_time": "2023-05-15T19:16:04.944Z"
   },
   {
    "duration": 281,
    "start_time": "2023-05-15T19:16:06.104Z"
   },
   {
    "duration": 20,
    "start_time": "2023-05-15T19:16:06.387Z"
   },
   {
    "duration": 13,
    "start_time": "2023-05-15T19:16:06.409Z"
   },
   {
    "duration": 826,
    "start_time": "2023-05-15T19:16:06.424Z"
   },
   {
    "duration": 4,
    "start_time": "2023-05-15T19:16:07.251Z"
   },
   {
    "duration": 14,
    "start_time": "2023-05-15T19:16:07.260Z"
   },
   {
    "duration": 11,
    "start_time": "2023-05-15T19:16:07.276Z"
   },
   {
    "duration": 16,
    "start_time": "2023-05-15T19:16:07.291Z"
   },
   {
    "duration": 12,
    "start_time": "2023-05-15T19:16:07.308Z"
   },
   {
    "duration": 46,
    "start_time": "2023-05-15T19:16:07.322Z"
   },
   {
    "duration": 17,
    "start_time": "2023-05-15T19:16:07.370Z"
   },
   {
    "duration": 1062,
    "start_time": "2023-05-15T19:16:07.390Z"
   },
   {
    "duration": 10,
    "start_time": "2023-05-15T19:16:08.461Z"
   },
   {
    "duration": 10,
    "start_time": "2023-05-15T19:16:08.473Z"
   },
   {
    "duration": 18,
    "start_time": "2023-05-15T19:16:08.485Z"
   },
   {
    "duration": 14,
    "start_time": "2023-05-15T19:16:08.505Z"
   },
   {
    "duration": 40,
    "start_time": "2023-05-15T19:16:08.520Z"
   },
   {
    "duration": 20,
    "start_time": "2023-05-15T19:16:08.562Z"
   },
   {
    "duration": 51,
    "start_time": "2023-05-15T19:16:08.583Z"
   },
   {
    "duration": 15,
    "start_time": "2023-05-15T19:16:08.636Z"
   },
   {
    "duration": 31,
    "start_time": "2023-05-15T19:16:08.657Z"
   },
   {
    "duration": 9,
    "start_time": "2023-05-15T19:16:08.690Z"
   },
   {
    "duration": 8,
    "start_time": "2023-05-15T19:16:08.701Z"
   },
   {
    "duration": 6,
    "start_time": "2023-05-15T19:17:00.403Z"
   },
   {
    "duration": 109,
    "start_time": "2023-05-15T19:19:49.497Z"
   },
   {
    "duration": 13,
    "start_time": "2023-05-15T19:29:21.081Z"
   },
   {
    "duration": 1149,
    "start_time": "2023-05-15T19:30:58.704Z"
   },
   {
    "duration": 342,
    "start_time": "2023-05-15T19:30:59.855Z"
   },
   {
    "duration": 20,
    "start_time": "2023-05-15T19:31:00.199Z"
   },
   {
    "duration": 61,
    "start_time": "2023-05-15T19:31:00.221Z"
   },
   {
    "duration": 817,
    "start_time": "2023-05-15T19:31:00.286Z"
   },
   {
    "duration": 4,
    "start_time": "2023-05-15T19:31:01.105Z"
   },
   {
    "duration": 70,
    "start_time": "2023-05-15T19:31:01.110Z"
   },
   {
    "duration": 9,
    "start_time": "2023-05-15T19:31:01.187Z"
   },
   {
    "duration": 36,
    "start_time": "2023-05-15T19:31:01.198Z"
   },
   {
    "duration": 56,
    "start_time": "2023-05-15T19:31:01.236Z"
   },
   {
    "duration": 50,
    "start_time": "2023-05-15T19:31:01.294Z"
   },
   {
    "duration": 27,
    "start_time": "2023-05-15T19:31:01.345Z"
   },
   {
    "duration": 1031,
    "start_time": "2023-05-15T19:31:01.375Z"
   },
   {
    "duration": 4,
    "start_time": "2023-05-15T19:31:02.409Z"
   },
   {
    "duration": 27,
    "start_time": "2023-05-15T19:31:19.130Z"
   },
   {
    "duration": 13,
    "start_time": "2023-05-15T19:31:26.697Z"
   },
   {
    "duration": 10,
    "start_time": "2023-05-15T19:31:33.829Z"
   },
   {
    "duration": 7,
    "start_time": "2023-05-15T19:31:41.717Z"
   },
   {
    "duration": 5,
    "start_time": "2023-05-15T19:32:30.525Z"
   },
   {
    "duration": 43,
    "start_time": "2023-05-15T19:32:52.467Z"
   },
   {
    "duration": 123,
    "start_time": "2023-05-15T19:33:27.066Z"
   },
   {
    "duration": 6,
    "start_time": "2023-05-15T19:33:36.181Z"
   },
   {
    "duration": 16,
    "start_time": "2023-05-15T19:34:04.093Z"
   },
   {
    "duration": 22,
    "start_time": "2023-05-15T19:34:11.839Z"
   },
   {
    "duration": 18,
    "start_time": "2023-05-15T19:34:14.418Z"
   },
   {
    "duration": 13,
    "start_time": "2023-05-15T19:34:20.996Z"
   },
   {
    "duration": 20,
    "start_time": "2023-05-15T19:34:23.104Z"
   },
   {
    "duration": 1117,
    "start_time": "2023-05-15T19:34:38.284Z"
   },
   {
    "duration": 284,
    "start_time": "2023-05-15T19:34:39.403Z"
   },
   {
    "duration": 18,
    "start_time": "2023-05-15T19:34:39.689Z"
   },
   {
    "duration": 13,
    "start_time": "2023-05-15T19:34:39.709Z"
   },
   {
    "duration": 791,
    "start_time": "2023-05-15T19:34:39.723Z"
   },
   {
    "duration": 4,
    "start_time": "2023-05-15T19:34:40.516Z"
   },
   {
    "duration": 7,
    "start_time": "2023-05-15T19:34:40.521Z"
   },
   {
    "duration": 56,
    "start_time": "2023-05-15T19:34:40.530Z"
   },
   {
    "duration": 14,
    "start_time": "2023-05-15T19:34:40.591Z"
   },
   {
    "duration": 13,
    "start_time": "2023-05-15T19:34:40.606Z"
   },
   {
    "duration": 19,
    "start_time": "2023-05-15T19:34:40.620Z"
   },
   {
    "duration": 24,
    "start_time": "2023-05-15T19:34:40.641Z"
   },
   {
    "duration": 956,
    "start_time": "2023-05-15T19:34:40.673Z"
   },
   {
    "duration": 5,
    "start_time": "2023-05-15T19:34:41.632Z"
   },
   {
    "duration": 23,
    "start_time": "2023-05-15T19:34:41.639Z"
   },
   {
    "duration": 6,
    "start_time": "2023-05-15T19:34:41.664Z"
   },
   {
    "duration": 18,
    "start_time": "2023-05-15T19:34:41.672Z"
   },
   {
    "duration": 6,
    "start_time": "2023-05-15T19:34:41.691Z"
   },
   {
    "duration": 14,
    "start_time": "2023-05-15T19:34:41.698Z"
   },
   {
    "duration": 12,
    "start_time": "2023-05-15T19:34:41.714Z"
   },
   {
    "duration": 47,
    "start_time": "2023-05-15T19:34:41.727Z"
   },
   {
    "duration": 16,
    "start_time": "2023-05-15T19:34:41.775Z"
   },
   {
    "duration": 18,
    "start_time": "2023-05-15T19:34:41.795Z"
   },
   {
    "duration": 14,
    "start_time": "2023-05-15T19:34:41.815Z"
   },
   {
    "duration": 50,
    "start_time": "2023-05-15T19:34:41.831Z"
   },
   {
    "duration": 7,
    "start_time": "2023-05-15T19:34:41.883Z"
   },
   {
    "duration": 10,
    "start_time": "2023-05-15T19:34:41.892Z"
   },
   {
    "duration": 7,
    "start_time": "2023-05-15T19:34:41.903Z"
   },
   {
    "duration": 6,
    "start_time": "2023-05-15T19:35:19.089Z"
   },
   {
    "duration": 18,
    "start_time": "2023-05-15T19:35:58.790Z"
   },
   {
    "duration": 4,
    "start_time": "2023-05-15T19:36:04.198Z"
   },
   {
    "duration": 14,
    "start_time": "2023-05-15T19:36:07.293Z"
   },
   {
    "duration": 4,
    "start_time": "2023-05-15T19:36:16.693Z"
   },
   {
    "duration": 18,
    "start_time": "2023-05-15T19:36:18.285Z"
   },
   {
    "duration": 13,
    "start_time": "2023-05-15T19:36:29.847Z"
   },
   {
    "duration": 15,
    "start_time": "2023-05-15T19:36:31.947Z"
   },
   {
    "duration": 1123,
    "start_time": "2023-05-15T19:36:37.491Z"
   },
   {
    "duration": 283,
    "start_time": "2023-05-15T19:36:38.616Z"
   },
   {
    "duration": 17,
    "start_time": "2023-05-15T19:36:38.901Z"
   },
   {
    "duration": 47,
    "start_time": "2023-05-15T19:36:38.921Z"
   },
   {
    "duration": 825,
    "start_time": "2023-05-15T19:36:38.972Z"
   },
   {
    "duration": 4,
    "start_time": "2023-05-15T19:36:39.799Z"
   },
   {
    "duration": 21,
    "start_time": "2023-05-15T19:36:39.805Z"
   },
   {
    "duration": 9,
    "start_time": "2023-05-15T19:36:39.828Z"
   },
   {
    "duration": 31,
    "start_time": "2023-05-15T19:36:39.838Z"
   },
   {
    "duration": 22,
    "start_time": "2023-05-15T19:36:39.874Z"
   },
   {
    "duration": 19,
    "start_time": "2023-05-15T19:36:39.898Z"
   },
   {
    "duration": 11,
    "start_time": "2023-05-15T19:36:39.918Z"
   },
   {
    "duration": 985,
    "start_time": "2023-05-15T19:36:39.931Z"
   },
   {
    "duration": 5,
    "start_time": "2023-05-15T19:36:40.918Z"
   },
   {
    "duration": 7,
    "start_time": "2023-05-15T19:36:40.925Z"
   },
   {
    "duration": 24,
    "start_time": "2023-05-15T19:36:40.934Z"
   },
   {
    "duration": 31,
    "start_time": "2023-05-15T19:36:40.959Z"
   },
   {
    "duration": 6,
    "start_time": "2023-05-15T19:36:40.991Z"
   },
   {
    "duration": 12,
    "start_time": "2023-05-15T19:36:40.999Z"
   },
   {
    "duration": 12,
    "start_time": "2023-05-15T19:36:41.013Z"
   },
   {
    "duration": 26,
    "start_time": "2023-05-15T19:36:41.027Z"
   },
   {
    "duration": 31,
    "start_time": "2023-05-15T19:36:41.058Z"
   },
   {
    "duration": 17,
    "start_time": "2023-05-15T19:36:41.092Z"
   },
   {
    "duration": 14,
    "start_time": "2023-05-15T19:36:41.110Z"
   },
   {
    "duration": 17,
    "start_time": "2023-05-15T19:36:41.126Z"
   },
   {
    "duration": 21,
    "start_time": "2023-05-15T19:36:41.150Z"
   },
   {
    "duration": 13,
    "start_time": "2023-05-15T19:36:41.175Z"
   },
   {
    "duration": 7,
    "start_time": "2023-05-15T19:36:41.192Z"
   },
   {
    "duration": 66,
    "start_time": "2023-05-15T19:42:46.727Z"
   },
   {
    "duration": 6,
    "start_time": "2023-05-15T19:43:37.218Z"
   },
   {
    "duration": 1136,
    "start_time": "2023-05-15T19:45:38.645Z"
   },
   {
    "duration": 255,
    "start_time": "2023-05-15T19:45:39.783Z"
   },
   {
    "duration": 20,
    "start_time": "2023-05-15T19:45:40.040Z"
   },
   {
    "duration": 22,
    "start_time": "2023-05-15T19:45:40.062Z"
   },
   {
    "duration": 749,
    "start_time": "2023-05-15T19:45:40.085Z"
   },
   {
    "duration": 4,
    "start_time": "2023-05-15T19:45:40.835Z"
   },
   {
    "duration": 18,
    "start_time": "2023-05-15T19:45:40.841Z"
   },
   {
    "duration": 21,
    "start_time": "2023-05-15T19:45:40.860Z"
   },
   {
    "duration": 14,
    "start_time": "2023-05-15T19:45:40.883Z"
   },
   {
    "duration": 13,
    "start_time": "2023-05-15T19:45:40.899Z"
   },
   {
    "duration": 19,
    "start_time": "2023-05-15T19:45:40.914Z"
   },
   {
    "duration": 20,
    "start_time": "2023-05-15T19:45:40.954Z"
   },
   {
    "duration": 894,
    "start_time": "2023-05-15T19:45:40.975Z"
   },
   {
    "duration": 8,
    "start_time": "2023-05-15T19:45:41.871Z"
   },
   {
    "duration": 9,
    "start_time": "2023-05-15T19:45:41.885Z"
   },
   {
    "duration": 5,
    "start_time": "2023-05-15T19:45:41.895Z"
   },
   {
    "duration": 14,
    "start_time": "2023-05-15T19:45:41.902Z"
   },
   {
    "duration": 14,
    "start_time": "2023-05-15T19:45:41.917Z"
   },
   {
    "duration": 10,
    "start_time": "2023-05-15T19:45:41.932Z"
   },
   {
    "duration": 37,
    "start_time": "2023-05-15T19:45:41.943Z"
   },
   {
    "duration": 13,
    "start_time": "2023-05-15T19:45:41.982Z"
   },
   {
    "duration": 14,
    "start_time": "2023-05-15T19:45:41.996Z"
   },
   {
    "duration": 12,
    "start_time": "2023-05-15T19:45:42.011Z"
   },
   {
    "duration": 30,
    "start_time": "2023-05-15T19:45:42.024Z"
   },
   {
    "duration": 24,
    "start_time": "2023-05-15T19:45:42.056Z"
   },
   {
    "duration": 18,
    "start_time": "2023-05-15T19:45:42.081Z"
   },
   {
    "duration": 7,
    "start_time": "2023-05-15T19:45:42.100Z"
   },
   {
    "duration": 13,
    "start_time": "2023-05-15T19:45:42.111Z"
   },
   {
    "duration": 5,
    "start_time": "2023-05-15T19:46:48.903Z"
   },
   {
    "duration": 1192,
    "start_time": "2023-05-15T19:47:17.235Z"
   },
   {
    "duration": 251,
    "start_time": "2023-05-15T19:47:18.428Z"
   },
   {
    "duration": 21,
    "start_time": "2023-05-15T19:47:18.681Z"
   },
   {
    "duration": 14,
    "start_time": "2023-05-15T19:47:18.705Z"
   },
   {
    "duration": 758,
    "start_time": "2023-05-15T19:47:18.720Z"
   },
   {
    "duration": 3,
    "start_time": "2023-05-15T19:47:19.480Z"
   },
   {
    "duration": 7,
    "start_time": "2023-05-15T19:47:19.485Z"
   },
   {
    "duration": 8,
    "start_time": "2023-05-15T19:47:19.494Z"
   },
   {
    "duration": 14,
    "start_time": "2023-05-15T19:47:19.503Z"
   },
   {
    "duration": 47,
    "start_time": "2023-05-15T19:47:19.519Z"
   },
   {
    "duration": 21,
    "start_time": "2023-05-15T19:47:19.572Z"
   },
   {
    "duration": 11,
    "start_time": "2023-05-15T19:47:19.595Z"
   },
   {
    "duration": 974,
    "start_time": "2023-05-15T19:47:19.608Z"
   },
   {
    "duration": 6,
    "start_time": "2023-05-15T19:47:20.589Z"
   },
   {
    "duration": 10,
    "start_time": "2023-05-15T19:47:20.597Z"
   },
   {
    "duration": 7,
    "start_time": "2023-05-15T19:47:20.609Z"
   },
   {
    "duration": 8,
    "start_time": "2023-05-15T19:47:20.617Z"
   },
   {
    "duration": 7,
    "start_time": "2023-05-15T19:47:20.627Z"
   },
   {
    "duration": 50,
    "start_time": "2023-05-15T19:47:20.635Z"
   },
   {
    "duration": 22,
    "start_time": "2023-05-15T19:47:20.686Z"
   },
   {
    "duration": 11,
    "start_time": "2023-05-15T19:47:20.710Z"
   },
   {
    "duration": 16,
    "start_time": "2023-05-15T19:47:20.722Z"
   },
   {
    "duration": 26,
    "start_time": "2023-05-15T19:47:20.740Z"
   },
   {
    "duration": 21,
    "start_time": "2023-05-15T19:47:20.768Z"
   },
   {
    "duration": 15,
    "start_time": "2023-05-15T19:47:20.791Z"
   },
   {
    "duration": 28,
    "start_time": "2023-05-15T19:47:20.807Z"
   },
   {
    "duration": 5,
    "start_time": "2023-05-15T19:47:20.837Z"
   },
   {
    "duration": 18,
    "start_time": "2023-05-15T19:47:20.851Z"
   },
   {
    "duration": 30,
    "start_time": "2023-05-15T19:50:03.876Z"
   },
   {
    "duration": 52,
    "start_time": "2023-05-16T14:27:50.262Z"
   },
   {
    "duration": 1373,
    "start_time": "2023-05-16T14:27:57.712Z"
   },
   {
    "duration": 397,
    "start_time": "2023-05-16T14:27:59.088Z"
   },
   {
    "duration": 22,
    "start_time": "2023-05-16T14:27:59.487Z"
   },
   {
    "duration": 24,
    "start_time": "2023-05-16T14:27:59.511Z"
   },
   {
    "duration": 735,
    "start_time": "2023-05-16T14:27:59.537Z"
   },
   {
    "duration": 5,
    "start_time": "2023-05-16T14:28:00.273Z"
   },
   {
    "duration": 37,
    "start_time": "2023-05-16T14:28:00.285Z"
   },
   {
    "duration": 35,
    "start_time": "2023-05-16T14:28:00.323Z"
   },
   {
    "duration": 42,
    "start_time": "2023-05-16T14:28:00.360Z"
   },
   {
    "duration": 147,
    "start_time": "2023-05-16T14:28:00.406Z"
   },
   {
    "duration": 101,
    "start_time": "2023-05-16T14:28:00.555Z"
   },
   {
    "duration": 73,
    "start_time": "2023-05-16T14:28:00.658Z"
   },
   {
    "duration": 1004,
    "start_time": "2023-05-16T14:28:00.733Z"
   },
   {
    "duration": 6,
    "start_time": "2023-05-16T14:28:01.739Z"
   },
   {
    "duration": 49,
    "start_time": "2023-05-16T14:28:01.747Z"
   },
   {
    "duration": 52,
    "start_time": "2023-05-16T14:28:01.798Z"
   },
   {
    "duration": 59,
    "start_time": "2023-05-16T14:28:01.852Z"
   },
   {
    "duration": 45,
    "start_time": "2023-05-16T14:28:01.913Z"
   },
   {
    "duration": 60,
    "start_time": "2023-05-16T14:28:01.959Z"
   },
   {
    "duration": 63,
    "start_time": "2023-05-16T14:28:02.021Z"
   },
   {
    "duration": 45,
    "start_time": "2023-05-16T14:28:02.086Z"
   },
   {
    "duration": 34,
    "start_time": "2023-05-16T14:28:02.133Z"
   },
   {
    "duration": 19,
    "start_time": "2023-05-16T14:28:02.169Z"
   },
   {
    "duration": 35,
    "start_time": "2023-05-16T14:28:02.190Z"
   },
   {
    "duration": 19,
    "start_time": "2023-05-16T14:28:02.228Z"
   },
   {
    "duration": 42,
    "start_time": "2023-05-16T14:28:02.249Z"
   },
   {
    "duration": 65,
    "start_time": "2023-05-16T14:28:02.293Z"
   },
   {
    "duration": 76,
    "start_time": "2023-05-16T14:28:02.361Z"
   },
   {
    "duration": 72,
    "start_time": "2023-05-16T14:28:02.438Z"
   },
   {
    "duration": 77,
    "start_time": "2023-05-16T14:28:02.512Z"
   },
   {
    "duration": 136,
    "start_time": "2023-05-16T14:31:52.049Z"
   },
   {
    "duration": 303,
    "start_time": "2023-05-16T14:32:01.428Z"
   },
   {
    "duration": 228,
    "start_time": "2023-05-16T14:34:35.631Z"
   },
   {
    "duration": 226,
    "start_time": "2023-05-16T14:34:42.519Z"
   },
   {
    "duration": 177,
    "start_time": "2023-05-16T14:34:59.795Z"
   },
   {
    "duration": 228,
    "start_time": "2023-05-16T14:35:14.980Z"
   },
   {
    "duration": 396,
    "start_time": "2023-05-16T14:35:19.032Z"
   },
   {
    "duration": 215,
    "start_time": "2023-05-16T14:35:24.074Z"
   },
   {
    "duration": 221,
    "start_time": "2023-05-16T14:35:34.280Z"
   },
   {
    "duration": 246,
    "start_time": "2023-05-16T14:35:49.469Z"
   },
   {
    "duration": 13,
    "start_time": "2023-05-16T15:10:54.506Z"
   },
   {
    "duration": 5,
    "start_time": "2023-05-16T15:11:10.175Z"
   },
   {
    "duration": 109,
    "start_time": "2023-05-16T15:11:12.987Z"
   },
   {
    "duration": 11,
    "start_time": "2023-05-16T15:11:19.881Z"
   },
   {
    "duration": 12,
    "start_time": "2023-05-16T15:11:33.385Z"
   },
   {
    "duration": 12,
    "start_time": "2023-05-16T15:11:53.565Z"
   },
   {
    "duration": 14,
    "start_time": "2023-05-16T15:12:06.893Z"
   },
   {
    "duration": 114,
    "start_time": "2023-05-16T15:12:21.056Z"
   },
   {
    "duration": 13,
    "start_time": "2023-05-16T15:12:29.959Z"
   },
   {
    "duration": 12,
    "start_time": "2023-05-16T15:12:38.685Z"
   },
   {
    "duration": 565,
    "start_time": "2023-05-16T15:24:48.842Z"
   },
   {
    "duration": 226,
    "start_time": "2023-05-16T15:25:04.514Z"
   },
   {
    "duration": 0,
    "start_time": "2023-05-16T15:25:42.298Z"
   },
   {
    "duration": 116,
    "start_time": "2023-05-16T15:25:45.784Z"
   },
   {
    "duration": 1296,
    "start_time": "2023-05-16T17:55:54.296Z"
   },
   {
    "duration": 707,
    "start_time": "2023-05-16T17:55:55.594Z"
   },
   {
    "duration": 22,
    "start_time": "2023-05-16T17:55:56.302Z"
   },
   {
    "duration": 17,
    "start_time": "2023-05-16T17:55:56.326Z"
   },
   {
    "duration": 712,
    "start_time": "2023-05-16T17:55:56.344Z"
   },
   {
    "duration": 5,
    "start_time": "2023-05-16T17:55:57.057Z"
   },
   {
    "duration": 8,
    "start_time": "2023-05-16T17:55:57.063Z"
   },
   {
    "duration": 7,
    "start_time": "2023-05-16T17:55:57.073Z"
   },
   {
    "duration": 37,
    "start_time": "2023-05-16T17:55:57.081Z"
   },
   {
    "duration": 12,
    "start_time": "2023-05-16T17:55:57.122Z"
   },
   {
    "duration": 18,
    "start_time": "2023-05-16T17:55:57.135Z"
   },
   {
    "duration": 10,
    "start_time": "2023-05-16T17:55:57.154Z"
   },
   {
    "duration": 989,
    "start_time": "2023-05-16T17:55:57.165Z"
   },
   {
    "duration": 5,
    "start_time": "2023-05-16T17:55:58.156Z"
   },
   {
    "duration": 17,
    "start_time": "2023-05-16T17:55:58.163Z"
   },
   {
    "duration": 5,
    "start_time": "2023-05-16T17:55:58.182Z"
   },
   {
    "duration": 28,
    "start_time": "2023-05-16T17:55:58.189Z"
   },
   {
    "duration": 7,
    "start_time": "2023-05-16T17:55:58.219Z"
   },
   {
    "duration": 5,
    "start_time": "2023-05-16T17:55:58.228Z"
   },
   {
    "duration": 14,
    "start_time": "2023-05-16T17:55:58.235Z"
   },
   {
    "duration": 12,
    "start_time": "2023-05-16T17:55:58.251Z"
   },
   {
    "duration": 15,
    "start_time": "2023-05-16T17:55:58.265Z"
   },
   {
    "duration": 41,
    "start_time": "2023-05-16T17:55:58.282Z"
   },
   {
    "duration": 18,
    "start_time": "2023-05-16T17:55:58.324Z"
   },
   {
    "duration": 14,
    "start_time": "2023-05-16T17:55:58.344Z"
   },
   {
    "duration": 18,
    "start_time": "2023-05-16T17:55:58.359Z"
   },
   {
    "duration": 40,
    "start_time": "2023-05-16T17:55:58.378Z"
   },
   {
    "duration": 6,
    "start_time": "2023-05-16T17:55:58.422Z"
   },
   {
    "duration": 40,
    "start_time": "2023-05-16T17:55:58.430Z"
   },
   {
    "duration": 39,
    "start_time": "2023-05-16T17:55:58.472Z"
   },
   {
    "duration": 311,
    "start_time": "2023-05-16T17:55:58.515Z"
   },
   {
    "duration": 13,
    "start_time": "2023-05-16T17:55:58.827Z"
   },
   {
    "duration": 206,
    "start_time": "2023-05-16T17:55:58.842Z"
   },
   {
    "duration": 197,
    "start_time": "2023-05-16T17:56:18.393Z"
   },
   {
    "duration": 179,
    "start_time": "2023-05-16T17:56:22.392Z"
   },
   {
    "duration": 114,
    "start_time": "2023-05-16T17:56:26.488Z"
   },
   {
    "duration": 141,
    "start_time": "2023-05-16T17:56:32.545Z"
   },
   {
    "duration": 133,
    "start_time": "2023-05-16T17:56:37.716Z"
   },
   {
    "duration": 230,
    "start_time": "2023-05-16T18:08:41.937Z"
   },
   {
    "duration": 834,
    "start_time": "2023-05-16T18:08:50.901Z"
   },
   {
    "duration": 155,
    "start_time": "2023-05-16T18:09:12.980Z"
   },
   {
    "duration": 1067,
    "start_time": "2023-05-16T18:09:28.300Z"
   },
   {
    "duration": 1112,
    "start_time": "2023-05-16T18:09:31.720Z"
   },
   {
    "duration": 83,
    "start_time": "2023-05-16T18:10:01.600Z"
   },
   {
    "duration": 8,
    "start_time": "2023-05-16T18:11:06.796Z"
   },
   {
    "duration": 1086,
    "start_time": "2023-05-16T18:11:23.603Z"
   },
   {
    "duration": 7,
    "start_time": "2023-05-16T18:13:55.190Z"
   },
   {
    "duration": 6,
    "start_time": "2023-05-16T18:14:00.433Z"
   },
   {
    "duration": 7,
    "start_time": "2023-05-16T18:14:06.100Z"
   },
   {
    "duration": 28,
    "start_time": "2023-05-16T18:14:14.724Z"
   },
   {
    "duration": 13,
    "start_time": "2023-05-16T18:14:58.778Z"
   },
   {
    "duration": 18,
    "start_time": "2023-05-16T18:23:28.496Z"
   },
   {
    "duration": 6,
    "start_time": "2023-05-16T18:23:42.884Z"
   },
   {
    "duration": 333,
    "start_time": "2023-05-16T18:23:53.085Z"
   },
   {
    "duration": 258,
    "start_time": "2023-05-16T18:24:08.343Z"
   },
   {
    "duration": 272,
    "start_time": "2023-05-16T18:24:23.704Z"
   },
   {
    "duration": 306,
    "start_time": "2023-05-16T18:24:32.406Z"
   },
   {
    "duration": 260,
    "start_time": "2023-05-16T18:24:38.251Z"
   },
   {
    "duration": 1030,
    "start_time": "2023-05-16T18:26:46.092Z"
   },
   {
    "duration": 45,
    "start_time": "2023-05-16T18:27:34.841Z"
   },
   {
    "duration": 46,
    "start_time": "2023-05-16T18:28:08.784Z"
   },
   {
    "duration": 793,
    "start_time": "2023-05-16T18:28:15.048Z"
   },
   {
    "duration": 13,
    "start_time": "2023-05-16T18:29:40.788Z"
   },
   {
    "duration": 7,
    "start_time": "2023-05-16T18:59:01.124Z"
   },
   {
    "duration": 997,
    "start_time": "2023-05-16T18:59:37.803Z"
   },
   {
    "duration": 160,
    "start_time": "2023-05-16T19:00:24.487Z"
   },
   {
    "duration": 202,
    "start_time": "2023-05-16T19:26:23.391Z"
   },
   {
    "duration": 172,
    "start_time": "2023-05-16T19:26:39.689Z"
   },
   {
    "duration": 7,
    "start_time": "2023-05-16T19:27:49.621Z"
   },
   {
    "duration": 201,
    "start_time": "2023-05-16T19:28:12.535Z"
   },
   {
    "duration": 13,
    "start_time": "2023-05-16T19:42:53.997Z"
   },
   {
    "duration": 44,
    "start_time": "2023-05-16T19:45:16.743Z"
   },
   {
    "duration": 11,
    "start_time": "2023-05-16T19:45:57.561Z"
   },
   {
    "duration": 14,
    "start_time": "2023-05-16T19:51:10.509Z"
   },
   {
    "duration": 21,
    "start_time": "2023-05-16T19:53:35.757Z"
   },
   {
    "duration": 127,
    "start_time": "2023-05-16T19:54:22.989Z"
   },
   {
    "duration": 45,
    "start_time": "2023-05-16T19:54:48.244Z"
   },
   {
    "duration": 207,
    "start_time": "2023-05-16T19:54:51.657Z"
   },
   {
    "duration": 172,
    "start_time": "2023-05-16T19:55:04.194Z"
   },
   {
    "duration": 226,
    "start_time": "2023-05-16T19:55:15.829Z"
   },
   {
    "duration": 1307,
    "start_time": "2023-05-16T19:56:46.299Z"
   },
   {
    "duration": 837,
    "start_time": "2023-05-16T19:57:03.311Z"
   },
   {
    "duration": 769,
    "start_time": "2023-05-16T19:57:17.891Z"
   },
   {
    "duration": 1001,
    "start_time": "2023-05-16T19:57:59.058Z"
   },
   {
    "duration": 867,
    "start_time": "2023-05-16T19:58:11.431Z"
   },
   {
    "duration": 765,
    "start_time": "2023-05-16T19:59:54.438Z"
   },
   {
    "duration": 151,
    "start_time": "2023-05-16T20:00:18.533Z"
   },
   {
    "duration": 815,
    "start_time": "2023-05-16T20:00:21.415Z"
   },
   {
    "duration": 1000,
    "start_time": "2023-05-16T20:04:12.242Z"
   },
   {
    "duration": 821,
    "start_time": "2023-05-16T20:04:33.628Z"
   },
   {
    "duration": 1041,
    "start_time": "2023-05-16T20:04:52.356Z"
   },
   {
    "duration": 1075,
    "start_time": "2023-05-16T20:05:08.100Z"
   },
   {
    "duration": 1181,
    "start_time": "2023-05-16T20:05:26.163Z"
   },
   {
    "duration": 1173,
    "start_time": "2023-05-16T20:05:29.958Z"
   },
   {
    "duration": 1127,
    "start_time": "2023-05-16T20:05:37.021Z"
   },
   {
    "duration": 390,
    "start_time": "2023-05-16T20:06:13.191Z"
   },
   {
    "duration": 1072,
    "start_time": "2023-05-16T20:07:32.798Z"
   },
   {
    "duration": 812,
    "start_time": "2023-05-16T20:07:38.490Z"
   },
   {
    "duration": 879,
    "start_time": "2023-05-16T20:08:19.846Z"
   },
   {
    "duration": 964,
    "start_time": "2023-05-16T20:08:32.616Z"
   },
   {
    "duration": 724,
    "start_time": "2023-05-17T14:36:48.203Z"
   },
   {
    "duration": 53,
    "start_time": "2023-05-17T14:36:55.859Z"
   },
   {
    "duration": 1193,
    "start_time": "2023-05-17T14:37:05.024Z"
   },
   {
    "duration": 390,
    "start_time": "2023-05-17T14:37:06.218Z"
   },
   {
    "duration": 23,
    "start_time": "2023-05-17T14:37:06.612Z"
   },
   {
    "duration": 15,
    "start_time": "2023-05-17T14:37:06.638Z"
   },
   {
    "duration": 689,
    "start_time": "2023-05-17T14:37:06.655Z"
   },
   {
    "duration": 4,
    "start_time": "2023-05-17T14:37:07.346Z"
   },
   {
    "duration": 15,
    "start_time": "2023-05-17T14:37:07.351Z"
   },
   {
    "duration": 45,
    "start_time": "2023-05-17T14:37:07.367Z"
   },
   {
    "duration": 14,
    "start_time": "2023-05-17T14:37:07.414Z"
   },
   {
    "duration": 18,
    "start_time": "2023-05-17T14:37:07.429Z"
   },
   {
    "duration": 23,
    "start_time": "2023-05-17T14:37:07.449Z"
   },
   {
    "duration": 9,
    "start_time": "2023-05-17T14:37:07.474Z"
   },
   {
    "duration": 848,
    "start_time": "2023-05-17T14:37:07.491Z"
   },
   {
    "duration": 5,
    "start_time": "2023-05-17T14:37:08.341Z"
   },
   {
    "duration": 10,
    "start_time": "2023-05-17T14:37:08.348Z"
   },
   {
    "duration": 11,
    "start_time": "2023-05-17T14:37:08.360Z"
   },
   {
    "duration": 30,
    "start_time": "2023-05-17T14:37:08.373Z"
   },
   {
    "duration": 19,
    "start_time": "2023-05-17T14:37:08.404Z"
   },
   {
    "duration": 10,
    "start_time": "2023-05-17T14:37:08.424Z"
   },
   {
    "duration": 14,
    "start_time": "2023-05-17T14:37:08.435Z"
   },
   {
    "duration": 10,
    "start_time": "2023-05-17T14:37:08.451Z"
   },
   {
    "duration": 13,
    "start_time": "2023-05-17T14:37:08.463Z"
   },
   {
    "duration": 14,
    "start_time": "2023-05-17T14:37:08.477Z"
   },
   {
    "duration": 36,
    "start_time": "2023-05-17T14:37:08.492Z"
   },
   {
    "duration": 20,
    "start_time": "2023-05-17T14:37:08.530Z"
   },
   {
    "duration": 22,
    "start_time": "2023-05-17T14:37:08.551Z"
   },
   {
    "duration": 7,
    "start_time": "2023-05-17T14:37:08.575Z"
   },
   {
    "duration": 62,
    "start_time": "2023-05-17T14:37:08.584Z"
   },
   {
    "duration": 31,
    "start_time": "2023-05-17T14:37:08.647Z"
   },
   {
    "duration": 25,
    "start_time": "2023-05-17T14:37:08.679Z"
   },
   {
    "duration": 253,
    "start_time": "2023-05-17T14:37:08.705Z"
   },
   {
    "duration": 11,
    "start_time": "2023-05-17T14:37:08.959Z"
   },
   {
    "duration": 1024,
    "start_time": "2023-05-17T14:37:08.971Z"
   },
   {
    "duration": 13,
    "start_time": "2023-05-17T14:37:09.997Z"
   },
   {
    "duration": 21,
    "start_time": "2023-05-17T14:37:10.012Z"
   },
   {
    "duration": 141,
    "start_time": "2023-05-17T14:37:10.034Z"
   },
   {
    "duration": 31,
    "start_time": "2023-05-17T14:37:10.176Z"
   },
   {
    "duration": 3469,
    "start_time": "2023-05-17T14:37:10.209Z"
   },
   {
    "duration": 0,
    "start_time": "2023-05-17T14:37:13.679Z"
   },
   {
    "duration": 232,
    "start_time": "2023-05-17T14:37:35.014Z"
   },
   {
    "duration": 263,
    "start_time": "2023-05-17T14:37:47.704Z"
   },
   {
    "duration": 4124,
    "start_time": "2023-05-17T14:38:11.625Z"
   },
   {
    "duration": 197,
    "start_time": "2023-05-17T14:38:41.908Z"
   },
   {
    "duration": 10,
    "start_time": "2023-05-17T14:38:48.341Z"
   },
   {
    "duration": 7,
    "start_time": "2023-05-17T14:39:10.014Z"
   },
   {
    "duration": 8,
    "start_time": "2023-05-17T14:39:19.349Z"
   },
   {
    "duration": 7,
    "start_time": "2023-05-17T14:39:29.527Z"
   },
   {
    "duration": 10,
    "start_time": "2023-05-17T14:39:55.112Z"
   },
   {
    "duration": 9,
    "start_time": "2023-05-17T14:40:01.792Z"
   },
   {
    "duration": 12,
    "start_time": "2023-05-17T14:40:12.904Z"
   },
   {
    "duration": 8,
    "start_time": "2023-05-17T14:40:18.104Z"
   },
   {
    "duration": 14,
    "start_time": "2023-05-17T14:40:42.341Z"
   },
   {
    "duration": 220,
    "start_time": "2023-05-17T14:40:48.604Z"
   },
   {
    "duration": 322,
    "start_time": "2023-05-17T14:41:38.213Z"
   },
   {
    "duration": 375,
    "start_time": "2023-05-17T14:42:25.903Z"
   },
   {
    "duration": 253,
    "start_time": "2023-05-17T14:43:30.845Z"
   },
   {
    "duration": 295,
    "start_time": "2023-05-17T14:43:39.115Z"
   },
   {
    "duration": 449,
    "start_time": "2023-05-17T15:23:09.208Z"
   },
   {
    "duration": 158,
    "start_time": "2023-05-17T15:23:16.216Z"
   },
   {
    "duration": 205,
    "start_time": "2023-05-17T15:23:27.432Z"
   },
   {
    "duration": 14,
    "start_time": "2023-05-17T15:24:18.839Z"
   },
   {
    "duration": 1229,
    "start_time": "2023-05-17T15:24:26.304Z"
   },
   {
    "duration": 1399,
    "start_time": "2023-05-17T17:36:04.134Z"
   },
   {
    "duration": 276,
    "start_time": "2023-05-17T17:36:05.535Z"
   },
   {
    "duration": 19,
    "start_time": "2023-05-17T17:36:05.813Z"
   },
   {
    "duration": 20,
    "start_time": "2023-05-17T17:36:05.834Z"
   },
   {
    "duration": 693,
    "start_time": "2023-05-17T17:36:05.855Z"
   },
   {
    "duration": 3,
    "start_time": "2023-05-17T17:36:06.550Z"
   },
   {
    "duration": 6,
    "start_time": "2023-05-17T17:36:06.555Z"
   },
   {
    "duration": 10,
    "start_time": "2023-05-17T17:36:06.563Z"
   },
   {
    "duration": 15,
    "start_time": "2023-05-17T17:36:06.574Z"
   },
   {
    "duration": 35,
    "start_time": "2023-05-17T17:36:06.591Z"
   },
   {
    "duration": 19,
    "start_time": "2023-05-17T17:36:06.628Z"
   },
   {
    "duration": 13,
    "start_time": "2023-05-17T17:36:06.648Z"
   },
   {
    "duration": 904,
    "start_time": "2023-05-17T17:36:06.663Z"
   },
   {
    "duration": 5,
    "start_time": "2023-05-17T17:36:07.569Z"
   },
   {
    "duration": 8,
    "start_time": "2023-05-17T17:36:07.576Z"
   },
   {
    "duration": 9,
    "start_time": "2023-05-17T17:36:07.586Z"
   },
   {
    "duration": 24,
    "start_time": "2023-05-17T17:36:07.597Z"
   },
   {
    "duration": 19,
    "start_time": "2023-05-17T17:36:07.623Z"
   },
   {
    "duration": 15,
    "start_time": "2023-05-17T17:36:07.644Z"
   },
   {
    "duration": 24,
    "start_time": "2023-05-17T17:36:07.661Z"
   },
   {
    "duration": 29,
    "start_time": "2023-05-17T17:36:07.686Z"
   },
   {
    "duration": 14,
    "start_time": "2023-05-17T17:36:07.717Z"
   },
   {
    "duration": 15,
    "start_time": "2023-05-17T17:36:07.732Z"
   },
   {
    "duration": 16,
    "start_time": "2023-05-17T17:36:07.749Z"
   },
   {
    "duration": 14,
    "start_time": "2023-05-17T17:36:07.766Z"
   },
   {
    "duration": 38,
    "start_time": "2023-05-17T17:36:07.781Z"
   },
   {
    "duration": 13,
    "start_time": "2023-05-17T17:36:07.820Z"
   },
   {
    "duration": 6,
    "start_time": "2023-05-17T17:36:07.836Z"
   },
   {
    "duration": 41,
    "start_time": "2023-05-17T17:36:07.844Z"
   },
   {
    "duration": 30,
    "start_time": "2023-05-17T17:36:07.887Z"
   },
   {
    "duration": 293,
    "start_time": "2023-05-17T17:36:07.919Z"
   },
   {
    "duration": 11,
    "start_time": "2023-05-17T17:36:08.217Z"
   },
   {
    "duration": 903,
    "start_time": "2023-05-17T17:36:08.230Z"
   },
   {
    "duration": 13,
    "start_time": "2023-05-17T17:36:09.135Z"
   },
   {
    "duration": 6,
    "start_time": "2023-05-17T17:36:09.149Z"
   },
   {
    "duration": 152,
    "start_time": "2023-05-17T17:36:09.156Z"
   },
   {
    "duration": 17,
    "start_time": "2023-05-17T17:36:09.310Z"
   },
   {
    "duration": 295,
    "start_time": "2023-05-17T17:36:09.329Z"
   },
   {
    "duration": 253,
    "start_time": "2023-05-17T17:36:09.626Z"
   },
   {
    "duration": 297,
    "start_time": "2023-05-17T17:36:11.542Z"
   },
   {
    "duration": 105,
    "start_time": "2023-05-17T17:37:11.585Z"
   },
   {
    "duration": 228,
    "start_time": "2023-05-17T17:37:44.385Z"
   },
   {
    "duration": 180,
    "start_time": "2023-05-17T17:40:30.551Z"
   },
   {
    "duration": 180,
    "start_time": "2023-05-17T17:40:57.789Z"
   },
   {
    "duration": 179,
    "start_time": "2023-05-17T17:42:49.346Z"
   },
   {
    "duration": 18,
    "start_time": "2023-05-17T17:44:11.695Z"
   },
   {
    "duration": 26,
    "start_time": "2023-05-17T17:45:05.097Z"
   },
   {
    "duration": 73,
    "start_time": "2023-05-17T18:00:28.968Z"
   },
   {
    "duration": 81,
    "start_time": "2023-05-17T18:00:33.623Z"
   },
   {
    "duration": 9,
    "start_time": "2023-05-17T18:00:38.689Z"
   },
   {
    "duration": 1207,
    "start_time": "2023-05-17T18:00:47.408Z"
   },
   {
    "duration": 237,
    "start_time": "2023-05-17T18:00:48.617Z"
   },
   {
    "duration": 21,
    "start_time": "2023-05-17T18:00:48.856Z"
   },
   {
    "duration": 31,
    "start_time": "2023-05-17T18:00:48.880Z"
   },
   {
    "duration": 693,
    "start_time": "2023-05-17T18:00:48.912Z"
   },
   {
    "duration": 4,
    "start_time": "2023-05-17T18:00:49.606Z"
   },
   {
    "duration": 8,
    "start_time": "2023-05-17T18:00:49.618Z"
   },
   {
    "duration": 17,
    "start_time": "2023-05-17T18:00:49.627Z"
   },
   {
    "duration": 19,
    "start_time": "2023-05-17T18:00:49.646Z"
   },
   {
    "duration": 13,
    "start_time": "2023-05-17T18:00:49.668Z"
   },
   {
    "duration": 22,
    "start_time": "2023-05-17T18:00:49.683Z"
   },
   {
    "duration": 11,
    "start_time": "2023-05-17T18:00:49.718Z"
   },
   {
    "duration": 827,
    "start_time": "2023-05-17T18:00:49.730Z"
   },
   {
    "duration": 5,
    "start_time": "2023-05-17T18:00:50.559Z"
   },
   {
    "duration": 11,
    "start_time": "2023-05-17T18:00:50.565Z"
   },
   {
    "duration": 16,
    "start_time": "2023-05-17T18:00:50.578Z"
   },
   {
    "duration": 13,
    "start_time": "2023-05-17T18:00:50.595Z"
   },
   {
    "duration": 16,
    "start_time": "2023-05-17T18:00:50.609Z"
   },
   {
    "duration": 13,
    "start_time": "2023-05-17T18:00:50.626Z"
   },
   {
    "duration": 16,
    "start_time": "2023-05-17T18:00:50.640Z"
   },
   {
    "duration": 16,
    "start_time": "2023-05-17T18:00:50.657Z"
   },
   {
    "duration": 16,
    "start_time": "2023-05-17T18:00:50.675Z"
   },
   {
    "duration": 14,
    "start_time": "2023-05-17T18:00:50.693Z"
   },
   {
    "duration": 23,
    "start_time": "2023-05-17T18:00:50.708Z"
   },
   {
    "duration": 19,
    "start_time": "2023-05-17T18:00:50.733Z"
   },
   {
    "duration": 24,
    "start_time": "2023-05-17T18:00:50.753Z"
   },
   {
    "duration": 7,
    "start_time": "2023-05-17T18:00:50.779Z"
   },
   {
    "duration": 28,
    "start_time": "2023-05-17T18:00:50.791Z"
   },
   {
    "duration": 48,
    "start_time": "2023-05-17T18:00:50.821Z"
   },
   {
    "duration": 20,
    "start_time": "2023-05-17T18:00:50.871Z"
   },
   {
    "duration": 307,
    "start_time": "2023-05-17T18:00:50.893Z"
   },
   {
    "duration": 17,
    "start_time": "2023-05-17T18:00:51.202Z"
   },
   {
    "duration": 944,
    "start_time": "2023-05-17T18:00:51.220Z"
   },
   {
    "duration": 17,
    "start_time": "2023-05-17T18:00:52.166Z"
   },
   {
    "duration": 8,
    "start_time": "2023-05-17T18:00:52.184Z"
   },
   {
    "duration": 160,
    "start_time": "2023-05-17T18:00:52.194Z"
   },
   {
    "duration": 11,
    "start_time": "2023-05-17T18:00:52.356Z"
   },
   {
    "duration": 253,
    "start_time": "2023-05-17T18:00:52.368Z"
   },
   {
    "duration": 130,
    "start_time": "2023-05-17T18:00:52.623Z"
   },
   {
    "duration": 593,
    "start_time": "2023-05-17T18:01:15.518Z"
   },
   {
    "duration": 34,
    "start_time": "2023-05-17T18:01:41.948Z"
   },
   {
    "duration": 18,
    "start_time": "2023-05-17T18:02:05.449Z"
   },
   {
    "duration": 164,
    "start_time": "2023-05-17T18:02:26.215Z"
   },
   {
    "duration": 203,
    "start_time": "2023-05-17T18:04:20.314Z"
   },
   {
    "duration": 116,
    "start_time": "2023-05-17T18:04:35.029Z"
   },
   {
    "duration": 162,
    "start_time": "2023-05-17T18:04:47.386Z"
   },
   {
    "duration": 189,
    "start_time": "2023-05-17T18:15:14.007Z"
   },
   {
    "duration": 415,
    "start_time": "2023-05-17T18:17:04.591Z"
   },
   {
    "duration": 448,
    "start_time": "2023-05-17T18:17:44.391Z"
   },
   {
    "duration": 318,
    "start_time": "2023-05-17T18:17:59.752Z"
   },
   {
    "duration": 352,
    "start_time": "2023-05-17T18:23:32.414Z"
   },
   {
    "duration": 359,
    "start_time": "2023-05-17T18:23:47.877Z"
   },
   {
    "duration": 353,
    "start_time": "2023-05-17T18:26:38.389Z"
   },
   {
    "duration": 590,
    "start_time": "2023-05-17T18:26:55.557Z"
   },
   {
    "duration": 663,
    "start_time": "2023-05-17T18:28:38.396Z"
   },
   {
    "duration": 676,
    "start_time": "2023-05-17T18:57:42.193Z"
   },
   {
    "duration": 690,
    "start_time": "2023-05-17T18:57:43.921Z"
   },
   {
    "duration": 714,
    "start_time": "2023-05-17T18:58:25.420Z"
   },
   {
    "duration": 136,
    "start_time": "2023-05-17T19:49:53.795Z"
   },
   {
    "duration": 142,
    "start_time": "2023-05-17T19:50:05.151Z"
   },
   {
    "duration": 141,
    "start_time": "2023-05-17T19:50:22.181Z"
   },
   {
    "duration": 152,
    "start_time": "2023-05-17T19:51:28.330Z"
   },
   {
    "duration": 1241,
    "start_time": "2023-05-17T19:53:47.400Z"
   },
   {
    "duration": 65,
    "start_time": "2023-05-17T19:53:59.529Z"
   },
   {
    "duration": 70,
    "start_time": "2023-05-17T19:54:03.105Z"
   },
   {
    "duration": 10,
    "start_time": "2023-05-17T19:54:09.884Z"
   },
   {
    "duration": 166,
    "start_time": "2023-05-17T19:55:35.592Z"
   },
   {
    "duration": 166,
    "start_time": "2023-05-17T19:58:02.610Z"
   },
   {
    "duration": 154,
    "start_time": "2023-05-17T19:58:39.696Z"
   },
   {
    "duration": 9,
    "start_time": "2023-05-17T20:07:03.654Z"
   },
   {
    "duration": 9,
    "start_time": "2023-05-17T20:07:16.423Z"
   },
   {
    "duration": 11,
    "start_time": "2023-05-17T20:07:20.964Z"
   },
   {
    "duration": 11,
    "start_time": "2023-05-17T20:07:31.092Z"
   },
   {
    "duration": 12,
    "start_time": "2023-05-17T20:09:00.780Z"
   },
   {
    "duration": 10,
    "start_time": "2023-05-17T20:10:13.801Z"
   },
   {
    "duration": 10,
    "start_time": "2023-05-17T20:10:29.099Z"
   },
   {
    "duration": 10,
    "start_time": "2023-05-17T20:10:34.392Z"
   },
   {
    "duration": 10,
    "start_time": "2023-05-17T20:10:40.331Z"
   },
   {
    "duration": 11,
    "start_time": "2023-05-17T20:11:30.021Z"
   },
   {
    "duration": 10,
    "start_time": "2023-05-17T20:11:51.608Z"
   },
   {
    "duration": 10,
    "start_time": "2023-05-17T20:22:52.699Z"
   },
   {
    "duration": 9,
    "start_time": "2023-05-17T20:23:28.531Z"
   },
   {
    "duration": 31,
    "start_time": "2023-05-17T20:24:40.483Z"
   },
   {
    "duration": 11,
    "start_time": "2023-05-17T20:25:15.200Z"
   },
   {
    "duration": 8,
    "start_time": "2023-05-17T20:25:24.206Z"
   },
   {
    "duration": 7,
    "start_time": "2023-05-17T20:25:28.351Z"
   },
   {
    "duration": 8,
    "start_time": "2023-05-17T20:25:45.101Z"
   },
   {
    "duration": 81,
    "start_time": "2023-05-18T11:18:01.583Z"
   },
   {
    "duration": 1530,
    "start_time": "2023-05-18T11:18:09.258Z"
   },
   {
    "duration": 466,
    "start_time": "2023-05-18T11:18:10.790Z"
   },
   {
    "duration": 27,
    "start_time": "2023-05-18T11:18:11.258Z"
   },
   {
    "duration": 15,
    "start_time": "2023-05-18T11:18:11.287Z"
   },
   {
    "duration": 914,
    "start_time": "2023-05-18T11:18:11.304Z"
   },
   {
    "duration": 8,
    "start_time": "2023-05-18T11:18:12.220Z"
   },
   {
    "duration": 15,
    "start_time": "2023-05-18T11:18:12.230Z"
   },
   {
    "duration": 16,
    "start_time": "2023-05-18T11:18:12.247Z"
   },
   {
    "duration": 21,
    "start_time": "2023-05-18T11:18:12.266Z"
   },
   {
    "duration": 66,
    "start_time": "2023-05-18T11:18:12.289Z"
   },
   {
    "duration": 24,
    "start_time": "2023-05-18T11:18:12.356Z"
   },
   {
    "duration": 23,
    "start_time": "2023-05-18T11:18:12.383Z"
   },
   {
    "duration": 1076,
    "start_time": "2023-05-18T11:18:12.408Z"
   },
   {
    "duration": 6,
    "start_time": "2023-05-18T11:18:13.487Z"
   },
   {
    "duration": 8,
    "start_time": "2023-05-18T11:18:13.495Z"
   },
   {
    "duration": 7,
    "start_time": "2023-05-18T11:18:13.504Z"
   },
   {
    "duration": 12,
    "start_time": "2023-05-18T11:18:13.527Z"
   },
   {
    "duration": 11,
    "start_time": "2023-05-18T11:18:13.541Z"
   },
   {
    "duration": 27,
    "start_time": "2023-05-18T11:18:13.553Z"
   },
   {
    "duration": 41,
    "start_time": "2023-05-18T11:18:13.582Z"
   },
   {
    "duration": 24,
    "start_time": "2023-05-18T11:18:13.625Z"
   },
   {
    "duration": 19,
    "start_time": "2023-05-18T11:18:13.652Z"
   },
   {
    "duration": 14,
    "start_time": "2023-05-18T11:18:13.673Z"
   },
   {
    "duration": 54,
    "start_time": "2023-05-18T11:18:13.689Z"
   },
   {
    "duration": 18,
    "start_time": "2023-05-18T11:18:13.748Z"
   },
   {
    "duration": 25,
    "start_time": "2023-05-18T11:18:13.768Z"
   },
   {
    "duration": 8,
    "start_time": "2023-05-18T11:18:13.795Z"
   },
   {
    "duration": 11,
    "start_time": "2023-05-18T11:18:13.829Z"
   },
   {
    "duration": 44,
    "start_time": "2023-05-18T11:18:13.842Z"
   },
   {
    "duration": 37,
    "start_time": "2023-05-18T11:18:13.888Z"
   },
   {
    "duration": 377,
    "start_time": "2023-05-18T11:18:13.928Z"
   },
   {
    "duration": 26,
    "start_time": "2023-05-18T11:18:14.306Z"
   },
   {
    "duration": 1165,
    "start_time": "2023-05-18T11:18:14.334Z"
   },
   {
    "duration": 16,
    "start_time": "2023-05-18T11:18:15.501Z"
   },
   {
    "duration": 9,
    "start_time": "2023-05-18T11:18:15.527Z"
   },
   {
    "duration": 224,
    "start_time": "2023-05-18T11:18:15.539Z"
   },
   {
    "duration": 14,
    "start_time": "2023-05-18T11:18:15.765Z"
   },
   {
    "duration": 388,
    "start_time": "2023-05-18T11:18:15.781Z"
   },
   {
    "duration": 987,
    "start_time": "2023-05-18T11:18:16.171Z"
   },
   {
    "duration": 10,
    "start_time": "2023-05-18T11:18:17.160Z"
   },
   {
    "duration": 215,
    "start_time": "2023-05-18T11:18:17.174Z"
   },
   {
    "duration": 200,
    "start_time": "2023-05-18T11:18:17.390Z"
   },
   {
    "duration": 11,
    "start_time": "2023-05-18T11:18:17.591Z"
   },
   {
    "duration": 35,
    "start_time": "2023-05-18T11:18:17.604Z"
   },
   {
    "duration": 15,
    "start_time": "2023-05-18T11:18:17.641Z"
   },
   {
    "duration": 13,
    "start_time": "2023-05-18T11:18:17.658Z"
   },
   {
    "duration": 280,
    "start_time": "2023-05-18T11:18:17.673Z"
   },
   {
    "duration": 196,
    "start_time": "2023-05-18T11:36:19.377Z"
   },
   {
    "duration": 101,
    "start_time": "2023-05-18T12:05:42.058Z"
   },
   {
    "duration": 11,
    "start_time": "2023-05-18T12:05:45.602Z"
   },
   {
    "duration": 189,
    "start_time": "2023-05-18T12:11:54.478Z"
   },
   {
    "duration": 188,
    "start_time": "2023-05-18T12:11:58.691Z"
   },
   {
    "duration": 13,
    "start_time": "2023-05-18T12:12:09.653Z"
   },
   {
    "duration": 205,
    "start_time": "2023-05-18T12:12:18.986Z"
   },
   {
    "duration": 213,
    "start_time": "2023-05-18T12:12:33.083Z"
   },
   {
    "duration": 52,
    "start_time": "2023-05-18T12:39:49.167Z"
   },
   {
    "duration": 21,
    "start_time": "2023-05-18T12:40:06.267Z"
   },
   {
    "duration": 20,
    "start_time": "2023-05-18T12:40:15.689Z"
   },
   {
    "duration": 50,
    "start_time": "2023-05-18T12:40:42.183Z"
   },
   {
    "duration": 48,
    "start_time": "2023-05-18T12:40:47.654Z"
   },
   {
    "duration": 14,
    "start_time": "2023-05-18T12:40:52.663Z"
   },
   {
    "duration": 13,
    "start_time": "2023-05-18T12:41:33.669Z"
   },
   {
    "duration": 14,
    "start_time": "2023-05-18T12:46:42.194Z"
   },
   {
    "duration": 15,
    "start_time": "2023-05-18T12:46:52.054Z"
   },
   {
    "duration": 35,
    "start_time": "2023-05-18T12:47:45.202Z"
   },
   {
    "duration": 17,
    "start_time": "2023-05-18T12:47:55.067Z"
   },
   {
    "duration": 21,
    "start_time": "2023-05-18T12:48:46.694Z"
   },
   {
    "duration": 23,
    "start_time": "2023-05-18T12:49:16.754Z"
   },
   {
    "duration": 20,
    "start_time": "2023-05-18T12:49:28.380Z"
   },
   {
    "duration": 21,
    "start_time": "2023-05-18T12:50:07.091Z"
   },
   {
    "duration": 849,
    "start_time": "2023-05-18T12:50:25.152Z"
   },
   {
    "duration": 22,
    "start_time": "2023-05-18T12:50:37.482Z"
   },
   {
    "duration": 21,
    "start_time": "2023-05-18T12:50:45.561Z"
   },
   {
    "duration": 18,
    "start_time": "2023-05-18T12:50:55.681Z"
   },
   {
    "duration": 23,
    "start_time": "2023-05-18T12:51:06.589Z"
   },
   {
    "duration": 39,
    "start_time": "2023-05-18T12:51:36.123Z"
   },
   {
    "duration": 31,
    "start_time": "2023-05-18T12:52:04.689Z"
   },
   {
    "duration": 22,
    "start_time": "2023-05-18T13:33:14.951Z"
   },
   {
    "duration": 21,
    "start_time": "2023-05-18T13:33:28.007Z"
   },
   {
    "duration": 190,
    "start_time": "2023-05-18T13:34:36.888Z"
   },
   {
    "duration": 298,
    "start_time": "2023-05-18T13:35:06.986Z"
   },
   {
    "duration": 18,
    "start_time": "2023-05-18T13:35:59.167Z"
   },
   {
    "duration": 11,
    "start_time": "2023-05-18T13:38:56.055Z"
   },
   {
    "duration": 8,
    "start_time": "2023-05-18T13:38:59.294Z"
   },
   {
    "duration": 12,
    "start_time": "2023-05-18T13:39:10.254Z"
   },
   {
    "duration": 20,
    "start_time": "2023-05-18T13:39:52.538Z"
   },
   {
    "duration": 18,
    "start_time": "2023-05-18T13:40:02.858Z"
   },
   {
    "duration": 12,
    "start_time": "2023-05-18T13:40:31.494Z"
   },
   {
    "duration": 9,
    "start_time": "2023-05-18T13:40:55.373Z"
   },
   {
    "duration": 14,
    "start_time": "2023-05-18T13:41:02.501Z"
   },
   {
    "duration": 13,
    "start_time": "2023-05-18T13:41:53.379Z"
   },
   {
    "duration": 16,
    "start_time": "2023-05-18T13:42:03.247Z"
   },
   {
    "duration": 26,
    "start_time": "2023-05-18T13:42:17.635Z"
   },
   {
    "duration": 15,
    "start_time": "2023-05-18T13:43:08.787Z"
   },
   {
    "duration": 23,
    "start_time": "2023-05-18T13:43:16.654Z"
   },
   {
    "duration": 13,
    "start_time": "2023-05-18T13:43:24.156Z"
   },
   {
    "duration": 14,
    "start_time": "2023-05-18T13:43:36.595Z"
   },
   {
    "duration": 47,
    "start_time": "2023-05-18T17:10:27.454Z"
   },
   {
    "duration": 1251,
    "start_time": "2023-05-18T17:10:35.358Z"
   },
   {
    "duration": 294,
    "start_time": "2023-05-18T17:10:36.611Z"
   },
   {
    "duration": 19,
    "start_time": "2023-05-18T17:10:36.907Z"
   },
   {
    "duration": 13,
    "start_time": "2023-05-18T17:10:36.927Z"
   },
   {
    "duration": 859,
    "start_time": "2023-05-18T17:10:36.942Z"
   },
   {
    "duration": 6,
    "start_time": "2023-05-18T17:10:37.803Z"
   },
   {
    "duration": 9,
    "start_time": "2023-05-18T17:10:37.810Z"
   },
   {
    "duration": 8,
    "start_time": "2023-05-18T17:10:37.821Z"
   },
   {
    "duration": 16,
    "start_time": "2023-05-18T17:10:37.830Z"
   },
   {
    "duration": 13,
    "start_time": "2023-05-18T17:10:37.848Z"
   },
   {
    "duration": 44,
    "start_time": "2023-05-18T17:10:37.863Z"
   },
   {
    "duration": 12,
    "start_time": "2023-05-18T17:10:37.908Z"
   },
   {
    "duration": 972,
    "start_time": "2023-05-18T17:10:37.921Z"
   },
   {
    "duration": 5,
    "start_time": "2023-05-18T17:10:38.897Z"
   },
   {
    "duration": 10,
    "start_time": "2023-05-18T17:10:38.904Z"
   },
   {
    "duration": 7,
    "start_time": "2023-05-18T17:10:38.916Z"
   },
   {
    "duration": 8,
    "start_time": "2023-05-18T17:10:38.925Z"
   },
   {
    "duration": 9,
    "start_time": "2023-05-18T17:10:38.935Z"
   },
   {
    "duration": 6,
    "start_time": "2023-05-18T17:10:38.946Z"
   },
   {
    "duration": 27,
    "start_time": "2023-05-18T17:10:38.954Z"
   },
   {
    "duration": 28,
    "start_time": "2023-05-18T17:10:38.983Z"
   },
   {
    "duration": 15,
    "start_time": "2023-05-18T17:10:39.012Z"
   },
   {
    "duration": 13,
    "start_time": "2023-05-18T17:10:39.029Z"
   },
   {
    "duration": 16,
    "start_time": "2023-05-18T17:10:39.043Z"
   },
   {
    "duration": 39,
    "start_time": "2023-05-18T17:10:39.060Z"
   },
   {
    "duration": 25,
    "start_time": "2023-05-18T17:10:39.100Z"
   },
   {
    "duration": 6,
    "start_time": "2023-05-18T17:10:39.127Z"
   },
   {
    "duration": 10,
    "start_time": "2023-05-18T17:10:39.134Z"
   },
   {
    "duration": 36,
    "start_time": "2023-05-18T17:10:39.145Z"
   },
   {
    "duration": 30,
    "start_time": "2023-05-18T17:10:39.183Z"
   },
   {
    "duration": 337,
    "start_time": "2023-05-18T17:10:39.214Z"
   },
   {
    "duration": 16,
    "start_time": "2023-05-18T17:10:39.553Z"
   },
   {
    "duration": 975,
    "start_time": "2023-05-18T17:10:39.571Z"
   },
   {
    "duration": 14,
    "start_time": "2023-05-18T17:10:40.548Z"
   },
   {
    "duration": 11,
    "start_time": "2023-05-18T17:10:40.563Z"
   },
   {
    "duration": 156,
    "start_time": "2023-05-18T17:10:40.575Z"
   },
   {
    "duration": 12,
    "start_time": "2023-05-18T17:10:40.732Z"
   },
   {
    "duration": 261,
    "start_time": "2023-05-18T17:10:40.745Z"
   },
   {
    "duration": 757,
    "start_time": "2023-05-18T17:10:41.008Z"
   },
   {
    "duration": 10,
    "start_time": "2023-05-18T17:10:41.767Z"
   },
   {
    "duration": 178,
    "start_time": "2023-05-18T17:10:41.781Z"
   },
   {
    "duration": 169,
    "start_time": "2023-05-18T17:10:41.960Z"
   },
   {
    "duration": 10,
    "start_time": "2023-05-18T17:10:42.131Z"
   },
   {
    "duration": 12,
    "start_time": "2023-05-18T17:10:42.143Z"
   },
   {
    "duration": 10,
    "start_time": "2023-05-18T17:10:42.157Z"
   },
   {
    "duration": 32,
    "start_time": "2023-05-18T17:10:42.169Z"
   },
   {
    "duration": 182,
    "start_time": "2023-05-18T17:10:42.202Z"
   },
   {
    "duration": 189,
    "start_time": "2023-05-18T17:10:42.386Z"
   },
   {
    "duration": 36,
    "start_time": "2023-05-18T17:10:42.577Z"
   },
   {
    "duration": 11,
    "start_time": "2023-05-18T17:10:42.615Z"
   },
   {
    "duration": 10,
    "start_time": "2023-05-18T17:10:42.627Z"
   },
   {
    "duration": 1100,
    "start_time": "2023-05-18T17:20:06.623Z"
   },
   {
    "duration": 1206,
    "start_time": "2023-05-18T17:20:27.285Z"
   },
   {
    "duration": 981,
    "start_time": "2023-05-18T17:20:30.952Z"
   },
   {
    "duration": 1068,
    "start_time": "2023-05-18T17:20:38.882Z"
   },
   {
    "duration": 834,
    "start_time": "2023-05-18T17:20:50.485Z"
   },
   {
    "duration": 14,
    "start_time": "2023-05-18T17:21:48.814Z"
   },
   {
    "duration": 113,
    "start_time": "2023-05-18T18:22:11.863Z"
   },
   {
    "duration": 71,
    "start_time": "2023-05-18T18:22:16.280Z"
   },
   {
    "duration": 28,
    "start_time": "2023-05-18T18:22:23.964Z"
   },
   {
    "duration": 22,
    "start_time": "2023-05-18T18:22:37.810Z"
   },
   {
    "duration": 8,
    "start_time": "2023-05-18T18:22:58.361Z"
   },
   {
    "duration": 8,
    "start_time": "2023-05-18T18:23:10.366Z"
   },
   {
    "duration": 9,
    "start_time": "2023-05-18T18:23:18.038Z"
   },
   {
    "duration": 10,
    "start_time": "2023-05-18T18:23:31.682Z"
   },
   {
    "duration": 10,
    "start_time": "2023-05-18T18:25:03.568Z"
   },
   {
    "duration": 10,
    "start_time": "2023-05-18T18:25:53.389Z"
   },
   {
    "duration": 9,
    "start_time": "2023-05-18T18:33:17.895Z"
   },
   {
    "duration": 8,
    "start_time": "2023-05-18T18:33:30.612Z"
   },
   {
    "duration": 5,
    "start_time": "2023-05-18T18:36:32.402Z"
   },
   {
    "duration": 5,
    "start_time": "2023-05-18T18:36:39.642Z"
   },
   {
    "duration": 5,
    "start_time": "2023-05-18T18:36:49.470Z"
   },
   {
    "duration": 4,
    "start_time": "2023-05-18T18:37:05.095Z"
   },
   {
    "duration": 4,
    "start_time": "2023-05-18T18:37:08.478Z"
   },
   {
    "duration": 5,
    "start_time": "2023-05-18T18:37:17.412Z"
   },
   {
    "duration": 9,
    "start_time": "2023-05-18T18:37:40.601Z"
   },
   {
    "duration": 5,
    "start_time": "2023-05-18T18:37:44.591Z"
   },
   {
    "duration": 11,
    "start_time": "2023-05-18T18:38:04.095Z"
   },
   {
    "duration": 5,
    "start_time": "2023-05-18T18:38:13.255Z"
   },
   {
    "duration": 6,
    "start_time": "2023-05-18T18:40:37.668Z"
   },
   {
    "duration": 9,
    "start_time": "2023-05-18T18:46:51.196Z"
   },
   {
    "duration": 50,
    "start_time": "2023-05-19T06:41:50.274Z"
   },
   {
    "duration": 1373,
    "start_time": "2023-05-19T06:41:58.303Z"
   },
   {
    "duration": 391,
    "start_time": "2023-05-19T06:41:59.678Z"
   },
   {
    "duration": 29,
    "start_time": "2023-05-19T06:42:00.072Z"
   },
   {
    "duration": 74,
    "start_time": "2023-05-19T06:42:00.104Z"
   },
   {
    "duration": 816,
    "start_time": "2023-05-19T06:42:00.180Z"
   },
   {
    "duration": 4,
    "start_time": "2023-05-19T06:42:00.998Z"
   },
   {
    "duration": 30,
    "start_time": "2023-05-19T06:42:01.003Z"
   },
   {
    "duration": 83,
    "start_time": "2023-05-19T06:42:01.035Z"
   },
   {
    "duration": 51,
    "start_time": "2023-05-19T06:42:01.119Z"
   },
   {
    "duration": 62,
    "start_time": "2023-05-19T06:42:01.172Z"
   },
   {
    "duration": 45,
    "start_time": "2023-05-19T06:42:01.236Z"
   },
   {
    "duration": 46,
    "start_time": "2023-05-19T06:42:01.283Z"
   },
   {
    "duration": 937,
    "start_time": "2023-05-19T06:42:01.330Z"
   },
   {
    "duration": 5,
    "start_time": "2023-05-19T06:42:02.269Z"
   },
   {
    "duration": 23,
    "start_time": "2023-05-19T06:42:02.275Z"
   },
   {
    "duration": 12,
    "start_time": "2023-05-19T06:42:02.300Z"
   },
   {
    "duration": 14,
    "start_time": "2023-05-19T06:42:02.313Z"
   },
   {
    "duration": 7,
    "start_time": "2023-05-19T06:42:02.329Z"
   },
   {
    "duration": 6,
    "start_time": "2023-05-19T06:42:02.338Z"
   },
   {
    "duration": 17,
    "start_time": "2023-05-19T06:42:02.346Z"
   },
   {
    "duration": 11,
    "start_time": "2023-05-19T06:42:02.365Z"
   },
   {
    "duration": 47,
    "start_time": "2023-05-19T06:42:02.377Z"
   },
   {
    "duration": 15,
    "start_time": "2023-05-19T06:42:02.425Z"
   },
   {
    "duration": 27,
    "start_time": "2023-05-19T06:42:02.442Z"
   },
   {
    "duration": 18,
    "start_time": "2023-05-19T06:42:02.471Z"
   },
   {
    "duration": 34,
    "start_time": "2023-05-19T06:42:02.492Z"
   },
   {
    "duration": 6,
    "start_time": "2023-05-19T06:42:02.528Z"
   },
   {
    "duration": 14,
    "start_time": "2023-05-19T06:42:02.537Z"
   },
   {
    "duration": 36,
    "start_time": "2023-05-19T06:42:02.552Z"
   },
   {
    "duration": 18,
    "start_time": "2023-05-19T06:42:02.590Z"
   },
   {
    "duration": 306,
    "start_time": "2023-05-19T06:42:02.609Z"
   },
   {
    "duration": 11,
    "start_time": "2023-05-19T06:42:02.917Z"
   },
   {
    "duration": 944,
    "start_time": "2023-05-19T06:42:02.929Z"
   },
   {
    "duration": 14,
    "start_time": "2023-05-19T06:42:03.875Z"
   },
   {
    "duration": 19,
    "start_time": "2023-05-19T06:42:03.890Z"
   },
   {
    "duration": 188,
    "start_time": "2023-05-19T06:42:03.911Z"
   },
   {
    "duration": 15,
    "start_time": "2023-05-19T06:42:04.101Z"
   },
   {
    "duration": 291,
    "start_time": "2023-05-19T06:42:04.118Z"
   },
   {
    "duration": 740,
    "start_time": "2023-05-19T06:42:04.411Z"
   },
   {
    "duration": 10,
    "start_time": "2023-05-19T06:42:05.152Z"
   },
   {
    "duration": 162,
    "start_time": "2023-05-19T06:42:05.163Z"
   },
   {
    "duration": 158,
    "start_time": "2023-05-19T06:42:05.326Z"
   },
   {
    "duration": 10,
    "start_time": "2023-05-19T06:42:05.485Z"
   },
   {
    "duration": 14,
    "start_time": "2023-05-19T06:42:05.496Z"
   },
   {
    "duration": 9,
    "start_time": "2023-05-19T06:42:05.511Z"
   },
   {
    "duration": 30,
    "start_time": "2023-05-19T06:42:05.521Z"
   },
   {
    "duration": 181,
    "start_time": "2023-05-19T06:42:05.553Z"
   },
   {
    "duration": 203,
    "start_time": "2023-05-19T06:42:05.735Z"
   },
   {
    "duration": 31,
    "start_time": "2023-05-19T06:42:05.940Z"
   },
   {
    "duration": 10,
    "start_time": "2023-05-19T06:42:05.972Z"
   },
   {
    "duration": 23,
    "start_time": "2023-05-19T06:42:05.983Z"
   },
   {
    "duration": 9,
    "start_time": "2023-05-19T06:42:06.008Z"
   },
   {
    "duration": 8,
    "start_time": "2023-05-19T06:42:06.019Z"
   },
   {
    "duration": 24,
    "start_time": "2023-05-19T06:42:06.028Z"
   },
   {
    "duration": 14,
    "start_time": "2023-05-19T06:42:06.053Z"
   },
   {
    "duration": 4,
    "start_time": "2023-05-19T06:42:06.069Z"
   },
   {
    "duration": 1199,
    "start_time": "2023-05-19T13:10:18.972Z"
   },
   {
    "duration": 364,
    "start_time": "2023-05-19T13:10:20.173Z"
   },
   {
    "duration": 18,
    "start_time": "2023-05-19T13:10:20.539Z"
   },
   {
    "duration": 24,
    "start_time": "2023-05-19T13:10:20.559Z"
   },
   {
    "duration": 693,
    "start_time": "2023-05-19T13:10:20.586Z"
   },
   {
    "duration": 4,
    "start_time": "2023-05-19T13:10:21.281Z"
   },
   {
    "duration": 20,
    "start_time": "2023-05-19T13:10:21.287Z"
   },
   {
    "duration": 11,
    "start_time": "2023-05-19T13:10:21.309Z"
   },
   {
    "duration": 19,
    "start_time": "2023-05-19T13:10:21.322Z"
   },
   {
    "duration": 17,
    "start_time": "2023-05-19T13:10:21.344Z"
   },
   {
    "duration": 58,
    "start_time": "2023-05-19T13:10:21.362Z"
   },
   {
    "duration": 15,
    "start_time": "2023-05-19T13:10:21.421Z"
   },
   {
    "duration": 1099,
    "start_time": "2023-05-19T13:10:21.438Z"
   },
   {
    "duration": 6,
    "start_time": "2023-05-19T13:10:22.540Z"
   },
   {
    "duration": 12,
    "start_time": "2023-05-19T13:10:22.547Z"
   },
   {
    "duration": 7,
    "start_time": "2023-05-19T13:10:22.560Z"
   },
   {
    "duration": 12,
    "start_time": "2023-05-19T13:10:22.569Z"
   },
   {
    "duration": 34,
    "start_time": "2023-05-19T13:10:22.583Z"
   },
   {
    "duration": 5,
    "start_time": "2023-05-19T13:10:22.619Z"
   },
   {
    "duration": 18,
    "start_time": "2023-05-19T13:10:22.625Z"
   },
   {
    "duration": 16,
    "start_time": "2023-05-19T13:10:22.646Z"
   },
   {
    "duration": 46,
    "start_time": "2023-05-19T13:10:22.665Z"
   },
   {
    "duration": 17,
    "start_time": "2023-05-19T13:10:22.713Z"
   },
   {
    "duration": 22,
    "start_time": "2023-05-19T13:10:22.732Z"
   },
   {
    "duration": 22,
    "start_time": "2023-05-19T13:10:22.759Z"
   },
   {
    "duration": 37,
    "start_time": "2023-05-19T13:10:22.783Z"
   },
   {
    "duration": 7,
    "start_time": "2023-05-19T13:10:22.822Z"
   },
   {
    "duration": 9,
    "start_time": "2023-05-19T13:10:22.833Z"
   },
   {
    "duration": 67,
    "start_time": "2023-05-19T13:10:22.844Z"
   },
   {
    "duration": 16,
    "start_time": "2023-05-19T13:10:22.913Z"
   },
   {
    "duration": 439,
    "start_time": "2023-05-19T13:10:22.931Z"
   },
   {
    "duration": 16,
    "start_time": "2023-05-19T13:10:23.372Z"
   },
   {
    "duration": 881,
    "start_time": "2023-05-19T13:10:23.389Z"
   },
   {
    "duration": 15,
    "start_time": "2023-05-19T13:10:24.273Z"
   },
   {
    "duration": 18,
    "start_time": "2023-05-19T13:10:24.290Z"
   },
   {
    "duration": 181,
    "start_time": "2023-05-19T13:10:24.309Z"
   },
   {
    "duration": 17,
    "start_time": "2023-05-19T13:10:24.492Z"
   },
   {
    "duration": 271,
    "start_time": "2023-05-19T13:10:24.510Z"
   },
   {
    "duration": 674,
    "start_time": "2023-05-19T13:10:24.782Z"
   },
   {
    "duration": 12,
    "start_time": "2023-05-19T13:10:25.457Z"
   },
   {
    "duration": 196,
    "start_time": "2023-05-19T13:10:25.471Z"
   },
   {
    "duration": 177,
    "start_time": "2023-05-19T13:10:25.669Z"
   },
   {
    "duration": 9,
    "start_time": "2023-05-19T13:10:25.848Z"
   },
   {
    "duration": 12,
    "start_time": "2023-05-19T13:10:25.858Z"
   },
   {
    "duration": 9,
    "start_time": "2023-05-19T13:10:25.871Z"
   },
   {
    "duration": 30,
    "start_time": "2023-05-19T13:10:25.881Z"
   },
   {
    "duration": 171,
    "start_time": "2023-05-19T13:10:25.912Z"
   },
   {
    "duration": 183,
    "start_time": "2023-05-19T13:10:26.084Z"
   },
   {
    "duration": 39,
    "start_time": "2023-05-19T13:10:26.269Z"
   },
   {
    "duration": 12,
    "start_time": "2023-05-19T13:10:26.310Z"
   },
   {
    "duration": 15,
    "start_time": "2023-05-19T13:10:26.323Z"
   },
   {
    "duration": 12,
    "start_time": "2023-05-19T13:10:26.340Z"
   },
   {
    "duration": 35,
    "start_time": "2023-05-19T13:10:26.353Z"
   },
   {
    "duration": 6,
    "start_time": "2023-05-19T13:10:26.390Z"
   },
   {
    "duration": 9,
    "start_time": "2023-05-19T13:10:26.407Z"
   },
   {
    "duration": 14,
    "start_time": "2023-05-19T13:10:26.418Z"
   },
   {
    "duration": 875,
    "start_time": "2023-05-19T13:10:47.716Z"
   },
   {
    "duration": 1252,
    "start_time": "2023-05-19T15:36:56.503Z"
   },
   {
    "duration": 394,
    "start_time": "2023-05-19T15:36:57.757Z"
   },
   {
    "duration": 26,
    "start_time": "2023-05-19T15:36:58.154Z"
   },
   {
    "duration": 15,
    "start_time": "2023-05-19T15:36:58.182Z"
   },
   {
    "duration": 868,
    "start_time": "2023-05-19T15:36:58.199Z"
   },
   {
    "duration": 5,
    "start_time": "2023-05-19T15:36:59.069Z"
   },
   {
    "duration": 7,
    "start_time": "2023-05-19T15:36:59.077Z"
   },
   {
    "duration": 23,
    "start_time": "2023-05-19T15:36:59.085Z"
   },
   {
    "duration": 20,
    "start_time": "2023-05-19T15:36:59.124Z"
   },
   {
    "duration": 17,
    "start_time": "2023-05-19T15:36:59.146Z"
   },
   {
    "duration": 22,
    "start_time": "2023-05-19T15:36:59.164Z"
   },
   {
    "duration": 19,
    "start_time": "2023-05-19T15:36:59.188Z"
   },
   {
    "duration": 1180,
    "start_time": "2023-05-19T15:36:59.208Z"
   },
   {
    "duration": 5,
    "start_time": "2023-05-19T15:37:00.390Z"
   },
   {
    "duration": 22,
    "start_time": "2023-05-19T15:37:00.397Z"
   },
   {
    "duration": 19,
    "start_time": "2023-05-19T15:37:00.421Z"
   },
   {
    "duration": 52,
    "start_time": "2023-05-19T15:37:00.442Z"
   },
   {
    "duration": 42,
    "start_time": "2023-05-19T15:37:00.496Z"
   },
   {
    "duration": 11,
    "start_time": "2023-05-19T15:37:00.540Z"
   },
   {
    "duration": 36,
    "start_time": "2023-05-19T15:37:00.553Z"
   },
   {
    "duration": 87,
    "start_time": "2023-05-19T15:37:00.591Z"
   },
   {
    "duration": 72,
    "start_time": "2023-05-19T15:37:00.681Z"
   },
   {
    "duration": 47,
    "start_time": "2023-05-19T15:37:00.754Z"
   },
   {
    "duration": 149,
    "start_time": "2023-05-19T15:37:00.803Z"
   },
   {
    "duration": 168,
    "start_time": "2023-05-19T15:37:00.954Z"
   },
   {
    "duration": 174,
    "start_time": "2023-05-19T15:37:01.124Z"
   },
   {
    "duration": 182,
    "start_time": "2023-05-19T15:37:01.299Z"
   },
   {
    "duration": 69,
    "start_time": "2023-05-19T15:37:01.485Z"
   },
   {
    "duration": 83,
    "start_time": "2023-05-19T15:37:01.555Z"
   },
   {
    "duration": 30,
    "start_time": "2023-05-19T15:37:01.640Z"
   },
   {
    "duration": 393,
    "start_time": "2023-05-19T15:37:01.672Z"
   },
   {
    "duration": 14,
    "start_time": "2023-05-19T15:37:02.067Z"
   },
   {
    "duration": 1120,
    "start_time": "2023-05-19T15:37:02.083Z"
   },
   {
    "duration": 21,
    "start_time": "2023-05-19T15:37:03.205Z"
   },
   {
    "duration": 11,
    "start_time": "2023-05-19T15:37:03.229Z"
   },
   {
    "duration": 192,
    "start_time": "2023-05-19T15:37:03.242Z"
   },
   {
    "duration": 15,
    "start_time": "2023-05-19T15:37:03.436Z"
   },
   {
    "duration": 315,
    "start_time": "2023-05-19T15:37:03.452Z"
   },
   {
    "duration": 882,
    "start_time": "2023-05-19T15:37:03.768Z"
   },
   {
    "duration": 12,
    "start_time": "2023-05-19T15:37:04.652Z"
   },
   {
    "duration": 202,
    "start_time": "2023-05-19T15:37:04.666Z"
   },
   {
    "duration": 209,
    "start_time": "2023-05-19T15:37:04.870Z"
   },
   {
    "duration": 11,
    "start_time": "2023-05-19T15:37:05.081Z"
   },
   {
    "duration": 25,
    "start_time": "2023-05-19T15:37:05.093Z"
   },
   {
    "duration": 23,
    "start_time": "2023-05-19T15:37:05.124Z"
   },
   {
    "duration": 17,
    "start_time": "2023-05-19T15:37:05.148Z"
   },
   {
    "duration": 230,
    "start_time": "2023-05-19T15:37:05.166Z"
   },
   {
    "duration": 245,
    "start_time": "2023-05-19T15:37:05.398Z"
   },
   {
    "duration": 34,
    "start_time": "2023-05-19T15:37:05.646Z"
   },
   {
    "duration": 12,
    "start_time": "2023-05-19T15:37:05.682Z"
   },
   {
    "duration": 49,
    "start_time": "2023-05-19T15:37:05.696Z"
   },
   {
    "duration": 30,
    "start_time": "2023-05-19T15:37:05.747Z"
   },
   {
    "duration": 15,
    "start_time": "2023-05-19T15:37:05.779Z"
   },
   {
    "duration": 9,
    "start_time": "2023-05-19T15:37:05.796Z"
   },
   {
    "duration": 20,
    "start_time": "2023-05-19T15:37:05.807Z"
   },
   {
    "duration": 25,
    "start_time": "2023-05-19T15:37:05.829Z"
   },
   {
    "duration": 1209,
    "start_time": "2023-05-22T06:25:53.750Z"
   },
   {
    "duration": 270,
    "start_time": "2023-05-22T06:25:54.961Z"
   },
   {
    "duration": 18,
    "start_time": "2023-05-22T06:25:55.232Z"
   },
   {
    "duration": 12,
    "start_time": "2023-05-22T06:25:55.252Z"
   },
   {
    "duration": 624,
    "start_time": "2023-05-22T06:25:55.266Z"
   },
   {
    "duration": 4,
    "start_time": "2023-05-22T06:25:55.893Z"
   },
   {
    "duration": 25,
    "start_time": "2023-05-22T06:25:55.900Z"
   },
   {
    "duration": 11,
    "start_time": "2023-05-22T06:25:55.927Z"
   },
   {
    "duration": 65,
    "start_time": "2023-05-22T06:25:55.940Z"
   },
   {
    "duration": 13,
    "start_time": "2023-05-22T06:25:56.008Z"
   },
   {
    "duration": 16,
    "start_time": "2023-05-22T06:25:56.023Z"
   },
   {
    "duration": 29,
    "start_time": "2023-05-22T06:25:56.041Z"
   },
   {
    "duration": 20,
    "start_time": "2023-05-22T06:25:56.085Z"
   },
   {
    "duration": 925,
    "start_time": "2023-05-22T06:25:56.106Z"
   },
   {
    "duration": 5,
    "start_time": "2023-05-22T06:25:57.032Z"
   },
   {
    "duration": 16,
    "start_time": "2023-05-22T06:25:57.039Z"
   },
   {
    "duration": 5,
    "start_time": "2023-05-22T06:25:57.058Z"
   },
   {
    "duration": 21,
    "start_time": "2023-05-22T06:25:57.064Z"
   },
   {
    "duration": 5,
    "start_time": "2023-05-22T06:25:57.087Z"
   },
   {
    "duration": 14,
    "start_time": "2023-05-22T06:25:57.093Z"
   },
   {
    "duration": 14,
    "start_time": "2023-05-22T06:25:57.109Z"
   },
   {
    "duration": 15,
    "start_time": "2023-05-22T06:25:57.125Z"
   },
   {
    "duration": 16,
    "start_time": "2023-05-22T06:25:57.141Z"
   },
   {
    "duration": 25,
    "start_time": "2023-05-22T06:25:57.159Z"
   },
   {
    "duration": 16,
    "start_time": "2023-05-22T06:25:57.186Z"
   },
   {
    "duration": 13,
    "start_time": "2023-05-22T06:25:57.204Z"
   },
   {
    "duration": 19,
    "start_time": "2023-05-22T06:25:57.218Z"
   },
   {
    "duration": 5,
    "start_time": "2023-05-22T06:25:57.240Z"
   },
   {
    "duration": 7,
    "start_time": "2023-05-22T06:25:57.247Z"
   },
   {
    "duration": 57,
    "start_time": "2023-05-22T06:25:57.255Z"
   },
   {
    "duration": 16,
    "start_time": "2023-05-22T06:25:57.313Z"
   },
   {
    "duration": 349,
    "start_time": "2023-05-22T06:25:57.330Z"
   },
   {
    "duration": 13,
    "start_time": "2023-05-22T06:25:57.681Z"
   },
   {
    "duration": 865,
    "start_time": "2023-05-22T06:25:57.696Z"
   },
   {
    "duration": 13,
    "start_time": "2023-05-22T06:25:58.563Z"
   },
   {
    "duration": 5,
    "start_time": "2023-05-22T06:25:58.584Z"
   },
   {
    "duration": 152,
    "start_time": "2023-05-22T06:25:58.590Z"
   },
   {
    "duration": 10,
    "start_time": "2023-05-22T06:25:58.744Z"
   },
   {
    "duration": 271,
    "start_time": "2023-05-22T06:25:58.756Z"
   },
   {
    "duration": 675,
    "start_time": "2023-05-22T06:25:59.029Z"
   },
   {
    "duration": 9,
    "start_time": "2023-05-22T06:25:59.705Z"
   },
   {
    "duration": 157,
    "start_time": "2023-05-22T06:25:59.716Z"
   },
   {
    "duration": 151,
    "start_time": "2023-05-22T06:25:59.874Z"
   },
   {
    "duration": 12,
    "start_time": "2023-05-22T06:26:00.027Z"
   },
   {
    "duration": 62,
    "start_time": "2023-05-22T06:26:00.041Z"
   },
   {
    "duration": 49,
    "start_time": "2023-05-22T06:26:00.105Z"
   },
   {
    "duration": 49,
    "start_time": "2023-05-22T06:26:00.156Z"
   },
   {
    "duration": 156,
    "start_time": "2023-05-22T06:26:00.206Z"
   },
   {
    "duration": 170,
    "start_time": "2023-05-22T06:26:00.364Z"
   },
   {
    "duration": 28,
    "start_time": "2023-05-22T06:26:00.536Z"
   },
   {
    "duration": 25,
    "start_time": "2023-05-22T06:26:00.565Z"
   },
   {
    "duration": 46,
    "start_time": "2023-05-22T06:26:00.592Z"
   },
   {
    "duration": 29,
    "start_time": "2023-05-22T06:26:00.639Z"
   },
   {
    "duration": 38,
    "start_time": "2023-05-22T06:26:00.670Z"
   },
   {
    "duration": 73,
    "start_time": "2023-05-22T06:26:00.710Z"
   },
   {
    "duration": 36,
    "start_time": "2023-05-22T06:26:00.785Z"
   },
   {
    "duration": 38,
    "start_time": "2023-05-22T06:26:00.822Z"
   },
   {
    "duration": 3,
    "start_time": "2023-05-22T06:28:44.302Z"
   },
   {
    "duration": 14,
    "start_time": "2023-05-22T06:29:01.533Z"
   },
   {
    "duration": 12,
    "start_time": "2023-05-22T06:29:05.973Z"
   },
   {
    "duration": 15,
    "start_time": "2023-05-22T06:29:09.595Z"
   },
   {
    "duration": 12,
    "start_time": "2023-05-22T06:29:14.341Z"
   },
   {
    "duration": 14,
    "start_time": "2023-05-22T06:29:17.453Z"
   },
   {
    "duration": 232,
    "start_time": "2023-05-22T07:12:32.147Z"
   },
   {
    "duration": 421,
    "start_time": "2023-05-22T07:13:14.270Z"
   },
   {
    "duration": 498,
    "start_time": "2023-05-22T07:13:20.486Z"
   },
   {
    "duration": 419,
    "start_time": "2023-05-22T07:29:40.111Z"
   },
   {
    "duration": 26,
    "start_time": "2023-05-22T07:36:39.246Z"
   },
   {
    "duration": 31,
    "start_time": "2023-05-22T07:36:53.945Z"
   },
   {
    "duration": 19,
    "start_time": "2023-05-22T08:32:36.626Z"
   },
   {
    "duration": 19,
    "start_time": "2023-05-22T08:40:48.903Z"
   },
   {
    "duration": 18,
    "start_time": "2023-05-22T08:41:02.130Z"
   },
   {
    "duration": 18,
    "start_time": "2023-05-22T08:44:21.209Z"
   },
   {
    "duration": 4,
    "start_time": "2023-05-22T08:50:56.527Z"
   },
   {
    "duration": 1027,
    "start_time": "2023-05-22T08:51:13.587Z"
   },
   {
    "duration": 237,
    "start_time": "2023-05-22T08:51:14.616Z"
   },
   {
    "duration": 16,
    "start_time": "2023-05-22T08:51:14.854Z"
   },
   {
    "duration": 16,
    "start_time": "2023-05-22T08:51:14.872Z"
   },
   {
    "duration": 611,
    "start_time": "2023-05-22T08:51:14.889Z"
   },
   {
    "duration": 4,
    "start_time": "2023-05-22T08:51:15.502Z"
   },
   {
    "duration": 25,
    "start_time": "2023-05-22T08:51:15.507Z"
   },
   {
    "duration": 35,
    "start_time": "2023-05-22T08:51:15.534Z"
   },
   {
    "duration": 51,
    "start_time": "2023-05-22T08:51:15.570Z"
   },
   {
    "duration": 11,
    "start_time": "2023-05-22T08:51:15.624Z"
   },
   {
    "duration": 19,
    "start_time": "2023-05-22T08:51:15.636Z"
   },
   {
    "duration": 18,
    "start_time": "2023-05-22T08:51:15.656Z"
   },
   {
    "duration": 11,
    "start_time": "2023-05-22T08:51:15.687Z"
   },
   {
    "duration": 766,
    "start_time": "2023-05-22T08:51:15.699Z"
   },
   {
    "duration": 9,
    "start_time": "2023-05-22T08:51:16.467Z"
   },
   {
    "duration": 38,
    "start_time": "2023-05-22T08:51:16.484Z"
   },
   {
    "duration": 36,
    "start_time": "2023-05-22T08:51:16.524Z"
   },
   {
    "duration": 34,
    "start_time": "2023-05-22T08:51:16.563Z"
   },
   {
    "duration": 45,
    "start_time": "2023-05-22T08:51:16.599Z"
   },
   {
    "duration": 21,
    "start_time": "2023-05-22T08:51:16.646Z"
   },
   {
    "duration": 15,
    "start_time": "2023-05-22T08:51:16.669Z"
   },
   {
    "duration": 23,
    "start_time": "2023-05-22T08:51:16.686Z"
   },
   {
    "duration": 108,
    "start_time": "2023-05-22T08:51:16.711Z"
   },
   {
    "duration": 0,
    "start_time": "2023-05-22T08:51:16.821Z"
   },
   {
    "duration": 0,
    "start_time": "2023-05-22T08:51:16.822Z"
   },
   {
    "duration": 0,
    "start_time": "2023-05-22T08:51:16.823Z"
   },
   {
    "duration": 0,
    "start_time": "2023-05-22T08:51:16.825Z"
   },
   {
    "duration": 0,
    "start_time": "2023-05-22T08:51:16.826Z"
   },
   {
    "duration": 0,
    "start_time": "2023-05-22T08:51:16.826Z"
   },
   {
    "duration": 0,
    "start_time": "2023-05-22T08:51:16.827Z"
   },
   {
    "duration": 0,
    "start_time": "2023-05-22T08:51:16.829Z"
   },
   {
    "duration": 0,
    "start_time": "2023-05-22T08:51:16.829Z"
   },
   {
    "duration": 0,
    "start_time": "2023-05-22T08:51:16.830Z"
   },
   {
    "duration": 0,
    "start_time": "2023-05-22T08:51:16.831Z"
   },
   {
    "duration": 0,
    "start_time": "2023-05-22T08:51:16.832Z"
   },
   {
    "duration": 0,
    "start_time": "2023-05-22T08:51:16.833Z"
   },
   {
    "duration": 0,
    "start_time": "2023-05-22T08:51:16.834Z"
   },
   {
    "duration": 0,
    "start_time": "2023-05-22T08:51:16.835Z"
   },
   {
    "duration": 0,
    "start_time": "2023-05-22T08:51:16.836Z"
   },
   {
    "duration": 0,
    "start_time": "2023-05-22T08:51:16.837Z"
   },
   {
    "duration": 0,
    "start_time": "2023-05-22T08:51:16.838Z"
   },
   {
    "duration": 0,
    "start_time": "2023-05-22T08:51:16.839Z"
   },
   {
    "duration": 0,
    "start_time": "2023-05-22T08:51:16.840Z"
   },
   {
    "duration": 0,
    "start_time": "2023-05-22T08:51:16.841Z"
   },
   {
    "duration": 0,
    "start_time": "2023-05-22T08:51:16.842Z"
   },
   {
    "duration": 0,
    "start_time": "2023-05-22T08:51:16.843Z"
   },
   {
    "duration": 0,
    "start_time": "2023-05-22T08:51:16.844Z"
   },
   {
    "duration": 0,
    "start_time": "2023-05-22T08:51:16.845Z"
   },
   {
    "duration": 0,
    "start_time": "2023-05-22T08:51:16.846Z"
   },
   {
    "duration": 0,
    "start_time": "2023-05-22T08:51:16.847Z"
   },
   {
    "duration": 0,
    "start_time": "2023-05-22T08:51:16.847Z"
   },
   {
    "duration": 0,
    "start_time": "2023-05-22T08:51:16.847Z"
   },
   {
    "duration": 0,
    "start_time": "2023-05-22T08:51:16.848Z"
   },
   {
    "duration": 0,
    "start_time": "2023-05-22T08:51:16.848Z"
   },
   {
    "duration": 0,
    "start_time": "2023-05-22T08:51:16.848Z"
   },
   {
    "duration": 0,
    "start_time": "2023-05-22T08:51:16.849Z"
   },
   {
    "duration": 0,
    "start_time": "2023-05-22T08:51:16.849Z"
   },
   {
    "duration": 0,
    "start_time": "2023-05-22T08:51:16.850Z"
   },
   {
    "duration": 0,
    "start_time": "2023-05-22T08:51:16.884Z"
   },
   {
    "duration": 159,
    "start_time": "2023-05-22T08:51:54.296Z"
   },
   {
    "duration": 1049,
    "start_time": "2023-05-22T08:52:04.392Z"
   },
   {
    "duration": 285,
    "start_time": "2023-05-22T08:52:05.442Z"
   },
   {
    "duration": 26,
    "start_time": "2023-05-22T08:52:05.728Z"
   },
   {
    "duration": 18,
    "start_time": "2023-05-22T08:52:05.757Z"
   },
   {
    "duration": 726,
    "start_time": "2023-05-22T08:52:05.777Z"
   },
   {
    "duration": 4,
    "start_time": "2023-05-22T08:52:06.505Z"
   },
   {
    "duration": 12,
    "start_time": "2023-05-22T08:52:06.511Z"
   },
   {
    "duration": 13,
    "start_time": "2023-05-22T08:52:06.525Z"
   },
   {
    "duration": 58,
    "start_time": "2023-05-22T08:52:06.539Z"
   },
   {
    "duration": 12,
    "start_time": "2023-05-22T08:52:06.600Z"
   },
   {
    "duration": 13,
    "start_time": "2023-05-22T08:52:06.614Z"
   },
   {
    "duration": 27,
    "start_time": "2023-05-22T08:52:06.629Z"
   },
   {
    "duration": 39,
    "start_time": "2023-05-22T08:52:06.658Z"
   },
   {
    "duration": 776,
    "start_time": "2023-05-22T08:52:06.699Z"
   },
   {
    "duration": 8,
    "start_time": "2023-05-22T08:52:07.477Z"
   },
   {
    "duration": 8,
    "start_time": "2023-05-22T08:52:07.487Z"
   },
   {
    "duration": 6,
    "start_time": "2023-05-22T08:52:07.496Z"
   },
   {
    "duration": 7,
    "start_time": "2023-05-22T08:52:07.504Z"
   },
   {
    "duration": 22,
    "start_time": "2023-05-22T08:52:07.512Z"
   },
   {
    "duration": 4,
    "start_time": "2023-05-22T08:52:07.536Z"
   },
   {
    "duration": 9,
    "start_time": "2023-05-22T08:52:07.541Z"
   },
   {
    "duration": 35,
    "start_time": "2023-05-22T08:52:07.552Z"
   },
   {
    "duration": 17,
    "start_time": "2023-05-22T08:52:07.589Z"
   },
   {
    "duration": 12,
    "start_time": "2023-05-22T08:52:07.608Z"
   },
   {
    "duration": 27,
    "start_time": "2023-05-22T08:52:07.622Z"
   },
   {
    "duration": 37,
    "start_time": "2023-05-22T08:52:07.651Z"
   },
   {
    "duration": 26,
    "start_time": "2023-05-22T08:52:07.690Z"
   },
   {
    "duration": 14,
    "start_time": "2023-05-22T08:52:07.721Z"
   },
   {
    "duration": 26,
    "start_time": "2023-05-22T08:52:07.737Z"
   },
   {
    "duration": 24,
    "start_time": "2023-05-22T08:52:07.764Z"
   },
   {
    "duration": 8,
    "start_time": "2023-05-22T08:52:07.790Z"
   },
   {
    "duration": 47,
    "start_time": "2023-05-22T08:52:07.800Z"
   },
   {
    "duration": 16,
    "start_time": "2023-05-22T08:52:07.848Z"
   },
   {
    "duration": 405,
    "start_time": "2023-05-22T08:52:07.866Z"
   },
   {
    "duration": 24,
    "start_time": "2023-05-22T08:52:08.273Z"
   },
   {
    "duration": 859,
    "start_time": "2023-05-22T08:52:08.299Z"
   },
   {
    "duration": 13,
    "start_time": "2023-05-22T08:52:09.160Z"
   },
   {
    "duration": 6,
    "start_time": "2023-05-22T08:52:09.185Z"
   },
   {
    "duration": 144,
    "start_time": "2023-05-22T08:52:09.192Z"
   },
   {
    "duration": 11,
    "start_time": "2023-05-22T08:52:09.338Z"
   },
   {
    "duration": 316,
    "start_time": "2023-05-22T08:52:09.351Z"
   },
   {
    "duration": 662,
    "start_time": "2023-05-22T08:52:09.670Z"
   },
   {
    "duration": 10,
    "start_time": "2023-05-22T08:52:10.333Z"
   },
   {
    "duration": 164,
    "start_time": "2023-05-22T08:52:10.344Z"
   },
   {
    "duration": 156,
    "start_time": "2023-05-22T08:52:10.510Z"
   },
   {
    "duration": 18,
    "start_time": "2023-05-22T08:52:10.668Z"
   },
   {
    "duration": 12,
    "start_time": "2023-05-22T08:52:10.687Z"
   },
   {
    "duration": 10,
    "start_time": "2023-05-22T08:52:10.700Z"
   },
   {
    "duration": 10,
    "start_time": "2023-05-22T08:52:10.712Z"
   },
   {
    "duration": 174,
    "start_time": "2023-05-22T08:52:10.723Z"
   },
   {
    "duration": 462,
    "start_time": "2023-05-22T08:52:10.899Z"
   },
   {
    "duration": 44,
    "start_time": "2023-05-22T08:52:11.362Z"
   },
   {
    "duration": 10,
    "start_time": "2023-05-22T08:52:11.408Z"
   },
   {
    "duration": 10,
    "start_time": "2023-05-22T08:52:11.420Z"
   },
   {
    "duration": 10,
    "start_time": "2023-05-22T08:52:11.431Z"
   },
   {
    "duration": 42,
    "start_time": "2023-05-22T08:52:11.443Z"
   },
   {
    "duration": 4,
    "start_time": "2023-05-22T08:52:11.486Z"
   },
   {
    "duration": 10,
    "start_time": "2023-05-22T08:52:11.492Z"
   },
   {
    "duration": 9,
    "start_time": "2023-05-22T08:52:11.504Z"
   },
   {
    "duration": 11,
    "start_time": "2023-05-22T08:55:18.319Z"
   },
   {
    "duration": 28,
    "start_time": "2023-05-22T08:55:28.075Z"
   },
   {
    "duration": 1056,
    "start_time": "2023-05-22T09:06:17.991Z"
   },
   {
    "duration": 288,
    "start_time": "2023-05-22T09:06:19.049Z"
   },
   {
    "duration": 17,
    "start_time": "2023-05-22T09:06:19.339Z"
   },
   {
    "duration": 19,
    "start_time": "2023-05-22T09:06:19.358Z"
   },
   {
    "duration": 639,
    "start_time": "2023-05-22T09:06:19.378Z"
   },
   {
    "duration": 5,
    "start_time": "2023-05-22T09:06:20.018Z"
   },
   {
    "duration": 24,
    "start_time": "2023-05-22T09:06:20.024Z"
   },
   {
    "duration": 30,
    "start_time": "2023-05-22T09:06:20.050Z"
   },
   {
    "duration": 57,
    "start_time": "2023-05-22T09:06:20.081Z"
   },
   {
    "duration": 13,
    "start_time": "2023-05-22T09:06:20.140Z"
   },
   {
    "duration": 23,
    "start_time": "2023-05-22T09:06:20.155Z"
   },
   {
    "duration": 21,
    "start_time": "2023-05-22T09:06:20.179Z"
   },
   {
    "duration": 11,
    "start_time": "2023-05-22T09:06:20.201Z"
   },
   {
    "duration": 861,
    "start_time": "2023-05-22T09:06:20.214Z"
   },
   {
    "duration": 9,
    "start_time": "2023-05-22T09:06:21.077Z"
   },
   {
    "duration": 16,
    "start_time": "2023-05-22T09:06:21.087Z"
   },
   {
    "duration": 20,
    "start_time": "2023-05-22T09:06:21.104Z"
   },
   {
    "duration": 9,
    "start_time": "2023-05-22T09:06:21.126Z"
   },
   {
    "duration": 21,
    "start_time": "2023-05-22T09:06:21.137Z"
   },
   {
    "duration": 6,
    "start_time": "2023-05-22T09:06:21.159Z"
   },
   {
    "duration": 21,
    "start_time": "2023-05-22T09:06:21.166Z"
   },
   {
    "duration": 13,
    "start_time": "2023-05-22T09:06:21.189Z"
   },
   {
    "duration": 28,
    "start_time": "2023-05-22T09:06:21.204Z"
   },
   {
    "duration": 17,
    "start_time": "2023-05-22T09:06:21.234Z"
   },
   {
    "duration": 16,
    "start_time": "2023-05-22T09:06:21.254Z"
   },
   {
    "duration": 23,
    "start_time": "2023-05-22T09:06:21.271Z"
   },
   {
    "duration": 17,
    "start_time": "2023-05-22T09:06:21.296Z"
   },
   {
    "duration": 15,
    "start_time": "2023-05-22T09:06:21.316Z"
   },
   {
    "duration": 17,
    "start_time": "2023-05-22T09:06:21.332Z"
   },
   {
    "duration": 35,
    "start_time": "2023-05-22T09:06:21.351Z"
   },
   {
    "duration": 40,
    "start_time": "2023-05-22T09:06:21.388Z"
   },
   {
    "duration": 57,
    "start_time": "2023-05-22T09:06:21.430Z"
   },
   {
    "duration": 17,
    "start_time": "2023-05-22T09:06:21.489Z"
   },
   {
    "duration": 327,
    "start_time": "2023-05-22T09:06:21.508Z"
   },
   {
    "duration": 16,
    "start_time": "2023-05-22T09:06:21.837Z"
   },
   {
    "duration": 825,
    "start_time": "2023-05-22T09:06:21.855Z"
   },
   {
    "duration": 13,
    "start_time": "2023-05-22T09:06:22.684Z"
   },
   {
    "duration": 29,
    "start_time": "2023-05-22T09:06:22.699Z"
   },
   {
    "duration": 181,
    "start_time": "2023-05-22T09:06:22.730Z"
   },
   {
    "duration": 11,
    "start_time": "2023-05-22T09:06:22.912Z"
   },
   {
    "duration": 299,
    "start_time": "2023-05-22T09:06:22.925Z"
   },
   {
    "duration": 675,
    "start_time": "2023-05-22T09:06:23.225Z"
   },
   {
    "duration": 9,
    "start_time": "2023-05-22T09:06:23.902Z"
   },
   {
    "duration": 153,
    "start_time": "2023-05-22T09:06:23.912Z"
   },
   {
    "duration": 152,
    "start_time": "2023-05-22T09:06:24.067Z"
   },
   {
    "duration": 11,
    "start_time": "2023-05-22T09:06:24.221Z"
   },
   {
    "duration": 17,
    "start_time": "2023-05-22T09:06:24.234Z"
   },
   {
    "duration": 16,
    "start_time": "2023-05-22T09:06:24.253Z"
   },
   {
    "duration": 10,
    "start_time": "2023-05-22T09:06:24.286Z"
   },
   {
    "duration": 176,
    "start_time": "2023-05-22T09:06:24.297Z"
   },
   {
    "duration": 452,
    "start_time": "2023-05-22T09:06:24.475Z"
   },
   {
    "duration": 40,
    "start_time": "2023-05-22T09:06:24.929Z"
   },
   {
    "duration": 14,
    "start_time": "2023-05-22T09:06:24.986Z"
   },
   {
    "duration": 13,
    "start_time": "2023-05-22T09:06:25.002Z"
   },
   {
    "duration": 16,
    "start_time": "2023-05-22T09:06:25.017Z"
   },
   {
    "duration": 13,
    "start_time": "2023-05-22T09:06:25.035Z"
   },
   {
    "duration": 38,
    "start_time": "2023-05-22T09:06:25.050Z"
   },
   {
    "duration": 30,
    "start_time": "2023-05-22T09:06:25.090Z"
   },
   {
    "duration": 33,
    "start_time": "2023-05-22T09:06:25.123Z"
   },
   {
    "duration": 4,
    "start_time": "2023-05-22T09:17:32.560Z"
   },
   {
    "duration": 5,
    "start_time": "2023-05-22T09:17:43.976Z"
   },
   {
    "duration": 5,
    "start_time": "2023-05-22T09:17:58.177Z"
   },
   {
    "duration": 1099,
    "start_time": "2023-05-22T09:25:13.147Z"
   },
   {
    "duration": 279,
    "start_time": "2023-05-22T09:25:14.248Z"
   },
   {
    "duration": 18,
    "start_time": "2023-05-22T09:25:14.529Z"
   },
   {
    "duration": 21,
    "start_time": "2023-05-22T09:25:14.549Z"
   },
   {
    "duration": 653,
    "start_time": "2023-05-22T09:25:14.571Z"
   },
   {
    "duration": 5,
    "start_time": "2023-05-22T09:25:15.226Z"
   },
   {
    "duration": 50,
    "start_time": "2023-05-22T09:25:15.232Z"
   },
   {
    "duration": 21,
    "start_time": "2023-05-22T09:25:15.284Z"
   },
   {
    "duration": 68,
    "start_time": "2023-05-22T09:25:15.307Z"
   },
   {
    "duration": 15,
    "start_time": "2023-05-22T09:25:15.384Z"
   },
   {
    "duration": 17,
    "start_time": "2023-05-22T09:25:15.401Z"
   },
   {
    "duration": 21,
    "start_time": "2023-05-22T09:25:15.419Z"
   },
   {
    "duration": 14,
    "start_time": "2023-05-22T09:25:15.441Z"
   },
   {
    "duration": 830,
    "start_time": "2023-05-22T09:25:15.457Z"
   },
   {
    "duration": 6,
    "start_time": "2023-05-22T09:25:16.288Z"
   },
   {
    "duration": 24,
    "start_time": "2023-05-22T09:25:16.296Z"
   },
   {
    "duration": 18,
    "start_time": "2023-05-22T09:25:16.322Z"
   },
   {
    "duration": 30,
    "start_time": "2023-05-22T09:25:16.342Z"
   },
   {
    "duration": 36,
    "start_time": "2023-05-22T09:25:16.374Z"
   },
   {
    "duration": 26,
    "start_time": "2023-05-22T09:25:16.411Z"
   },
   {
    "duration": 20,
    "start_time": "2023-05-22T09:25:16.439Z"
   },
   {
    "duration": 19,
    "start_time": "2023-05-22T09:25:16.461Z"
   },
   {
    "duration": 24,
    "start_time": "2023-05-22T09:25:16.481Z"
   },
   {
    "duration": 11,
    "start_time": "2023-05-22T09:25:16.506Z"
   },
   {
    "duration": 15,
    "start_time": "2023-05-22T09:25:16.519Z"
   },
   {
    "duration": 13,
    "start_time": "2023-05-22T09:25:16.535Z"
   },
   {
    "duration": 17,
    "start_time": "2023-05-22T09:25:16.549Z"
   },
   {
    "duration": 28,
    "start_time": "2023-05-22T09:25:16.569Z"
   },
   {
    "duration": 21,
    "start_time": "2023-05-22T09:25:16.598Z"
   },
   {
    "duration": 6,
    "start_time": "2023-05-22T09:25:16.620Z"
   },
   {
    "duration": 10,
    "start_time": "2023-05-22T09:25:16.627Z"
   },
   {
    "duration": 48,
    "start_time": "2023-05-22T09:25:16.638Z"
   },
   {
    "duration": 19,
    "start_time": "2023-05-22T09:25:16.688Z"
   },
   {
    "duration": 340,
    "start_time": "2023-05-22T09:25:16.708Z"
   },
   {
    "duration": 11,
    "start_time": "2023-05-22T09:25:17.049Z"
   },
   {
    "duration": 777,
    "start_time": "2023-05-22T09:25:17.061Z"
   },
   {
    "duration": 13,
    "start_time": "2023-05-22T09:25:17.839Z"
   },
   {
    "duration": 13,
    "start_time": "2023-05-22T09:25:17.853Z"
   },
   {
    "duration": 137,
    "start_time": "2023-05-22T09:25:17.867Z"
   },
   {
    "duration": 11,
    "start_time": "2023-05-22T09:25:18.005Z"
   },
   {
    "duration": 277,
    "start_time": "2023-05-22T09:25:18.018Z"
   },
   {
    "duration": 665,
    "start_time": "2023-05-22T09:25:18.298Z"
   },
   {
    "duration": 20,
    "start_time": "2023-05-22T09:25:18.965Z"
   },
   {
    "duration": 156,
    "start_time": "2023-05-22T09:25:18.986Z"
   },
   {
    "duration": 145,
    "start_time": "2023-05-22T09:25:19.144Z"
   },
   {
    "duration": 9,
    "start_time": "2023-05-22T09:25:19.291Z"
   },
   {
    "duration": 23,
    "start_time": "2023-05-22T09:25:19.302Z"
   },
   {
    "duration": 32,
    "start_time": "2023-05-22T09:25:19.326Z"
   },
   {
    "duration": 18,
    "start_time": "2023-05-22T09:25:19.359Z"
   },
   {
    "duration": 216,
    "start_time": "2023-05-22T09:25:19.379Z"
   },
   {
    "duration": 430,
    "start_time": "2023-05-22T09:25:19.596Z"
   },
   {
    "duration": 28,
    "start_time": "2023-05-22T09:25:20.027Z"
   },
   {
    "duration": 33,
    "start_time": "2023-05-22T09:25:20.057Z"
   },
   {
    "duration": 31,
    "start_time": "2023-05-22T09:25:20.091Z"
   },
   {
    "duration": 15,
    "start_time": "2023-05-22T09:25:20.124Z"
   },
   {
    "duration": 14,
    "start_time": "2023-05-22T09:25:20.141Z"
   },
   {
    "duration": 9,
    "start_time": "2023-05-22T09:25:20.157Z"
   },
   {
    "duration": 22,
    "start_time": "2023-05-22T09:25:20.167Z"
   },
   {
    "duration": 11,
    "start_time": "2023-05-22T09:25:20.191Z"
   },
   {
    "duration": 1162,
    "start_time": "2023-05-22T09:26:00.881Z"
   },
   {
    "duration": 263,
    "start_time": "2023-05-22T09:26:02.044Z"
   },
   {
    "duration": 25,
    "start_time": "2023-05-22T09:26:02.308Z"
   },
   {
    "duration": 96,
    "start_time": "2023-05-22T09:26:02.334Z"
   },
   {
    "duration": 845,
    "start_time": "2023-05-22T09:26:02.432Z"
   },
   {
    "duration": 5,
    "start_time": "2023-05-22T09:26:03.286Z"
   },
   {
    "duration": 18,
    "start_time": "2023-05-22T09:26:03.292Z"
   },
   {
    "duration": 12,
    "start_time": "2023-05-22T09:26:03.312Z"
   },
   {
    "duration": 85,
    "start_time": "2023-05-22T09:26:03.325Z"
   },
   {
    "duration": 19,
    "start_time": "2023-05-22T09:26:03.413Z"
   },
   {
    "duration": 22,
    "start_time": "2023-05-22T09:26:03.433Z"
   },
   {
    "duration": 44,
    "start_time": "2023-05-22T09:26:03.457Z"
   },
   {
    "duration": 14,
    "start_time": "2023-05-22T09:26:03.504Z"
   },
   {
    "duration": 832,
    "start_time": "2023-05-22T09:26:03.520Z"
   },
   {
    "duration": 5,
    "start_time": "2023-05-22T09:26:04.354Z"
   },
   {
    "duration": 26,
    "start_time": "2023-05-22T09:26:04.360Z"
   },
   {
    "duration": 30,
    "start_time": "2023-05-22T09:26:04.387Z"
   },
   {
    "duration": 20,
    "start_time": "2023-05-22T09:26:04.418Z"
   },
   {
    "duration": 26,
    "start_time": "2023-05-22T09:26:04.440Z"
   },
   {
    "duration": 11,
    "start_time": "2023-05-22T09:26:04.468Z"
   },
   {
    "duration": 20,
    "start_time": "2023-05-22T09:26:04.480Z"
   },
   {
    "duration": 7,
    "start_time": "2023-05-22T09:26:04.501Z"
   },
   {
    "duration": 22,
    "start_time": "2023-05-22T09:26:04.509Z"
   },
   {
    "duration": 13,
    "start_time": "2023-05-22T09:26:04.532Z"
   },
   {
    "duration": 24,
    "start_time": "2023-05-22T09:26:04.547Z"
   },
   {
    "duration": 12,
    "start_time": "2023-05-22T09:26:04.572Z"
   },
   {
    "duration": 22,
    "start_time": "2023-05-22T09:26:04.585Z"
   },
   {
    "duration": 12,
    "start_time": "2023-05-22T09:26:04.611Z"
   },
   {
    "duration": 32,
    "start_time": "2023-05-22T09:26:04.624Z"
   },
   {
    "duration": 6,
    "start_time": "2023-05-22T09:26:04.657Z"
   },
   {
    "duration": 27,
    "start_time": "2023-05-22T09:26:04.665Z"
   },
   {
    "duration": 37,
    "start_time": "2023-05-22T09:26:04.694Z"
   },
   {
    "duration": 23,
    "start_time": "2023-05-22T09:26:04.733Z"
   },
   {
    "duration": 344,
    "start_time": "2023-05-22T09:26:04.758Z"
   },
   {
    "duration": 17,
    "start_time": "2023-05-22T09:26:05.104Z"
   },
   {
    "duration": 786,
    "start_time": "2023-05-22T09:26:05.123Z"
   },
   {
    "duration": 13,
    "start_time": "2023-05-22T09:26:05.911Z"
   },
   {
    "duration": 26,
    "start_time": "2023-05-22T09:26:05.926Z"
   },
   {
    "duration": 138,
    "start_time": "2023-05-22T09:26:05.953Z"
   },
   {
    "duration": 23,
    "start_time": "2023-05-22T09:26:06.093Z"
   },
   {
    "duration": 358,
    "start_time": "2023-05-22T09:26:06.117Z"
   },
   {
    "duration": 654,
    "start_time": "2023-05-22T09:26:06.477Z"
   },
   {
    "duration": 11,
    "start_time": "2023-05-22T09:26:07.133Z"
   },
   {
    "duration": 158,
    "start_time": "2023-05-22T09:26:07.145Z"
   },
   {
    "duration": 147,
    "start_time": "2023-05-22T09:26:07.305Z"
   },
   {
    "duration": 9,
    "start_time": "2023-05-22T09:26:07.454Z"
   },
   {
    "duration": 27,
    "start_time": "2023-05-22T09:26:07.464Z"
   },
   {
    "duration": 20,
    "start_time": "2023-05-22T09:26:07.492Z"
   },
   {
    "duration": 14,
    "start_time": "2023-05-22T09:26:07.513Z"
   },
   {
    "duration": 149,
    "start_time": "2023-05-22T09:26:07.528Z"
   },
   {
    "duration": 424,
    "start_time": "2023-05-22T09:26:07.684Z"
   },
   {
    "duration": 27,
    "start_time": "2023-05-22T09:26:08.110Z"
   },
   {
    "duration": 12,
    "start_time": "2023-05-22T09:26:08.139Z"
   },
   {
    "duration": 35,
    "start_time": "2023-05-22T09:26:08.153Z"
   },
   {
    "duration": 12,
    "start_time": "2023-05-22T09:26:08.190Z"
   },
   {
    "duration": 10,
    "start_time": "2023-05-22T09:26:08.204Z"
   },
   {
    "duration": 5,
    "start_time": "2023-05-22T09:26:08.215Z"
   },
   {
    "duration": 14,
    "start_time": "2023-05-22T09:26:08.221Z"
   },
   {
    "duration": 15,
    "start_time": "2023-05-22T09:26:08.237Z"
   },
   {
    "duration": 1182,
    "start_time": "2023-05-22T10:11:13.050Z"
   },
   {
    "duration": 282,
    "start_time": "2023-05-22T10:11:14.234Z"
   },
   {
    "duration": 19,
    "start_time": "2023-05-22T10:11:14.518Z"
   },
   {
    "duration": 13,
    "start_time": "2023-05-22T10:11:14.539Z"
   },
   {
    "duration": 789,
    "start_time": "2023-05-22T10:11:14.554Z"
   },
   {
    "duration": 5,
    "start_time": "2023-05-22T10:11:15.345Z"
   },
   {
    "duration": 11,
    "start_time": "2023-05-22T10:11:15.351Z"
   },
   {
    "duration": 25,
    "start_time": "2023-05-22T10:11:15.364Z"
   },
   {
    "duration": 63,
    "start_time": "2023-05-22T10:11:15.391Z"
   },
   {
    "duration": 35,
    "start_time": "2023-05-22T10:11:15.456Z"
   },
   {
    "duration": 14,
    "start_time": "2023-05-22T10:11:15.493Z"
   },
   {
    "duration": 35,
    "start_time": "2023-05-22T10:11:15.508Z"
   },
   {
    "duration": 22,
    "start_time": "2023-05-22T10:11:15.545Z"
   },
   {
    "duration": 1042,
    "start_time": "2023-05-22T10:11:15.568Z"
   },
   {
    "duration": 6,
    "start_time": "2023-05-22T10:11:16.612Z"
   },
   {
    "duration": 14,
    "start_time": "2023-05-22T10:11:16.620Z"
   },
   {
    "duration": 18,
    "start_time": "2023-05-22T10:11:16.635Z"
   },
   {
    "duration": 12,
    "start_time": "2023-05-22T10:11:16.655Z"
   },
   {
    "duration": 27,
    "start_time": "2023-05-22T10:11:16.678Z"
   },
   {
    "duration": 6,
    "start_time": "2023-05-22T10:11:16.707Z"
   },
   {
    "duration": 7,
    "start_time": "2023-05-22T10:11:16.715Z"
   },
   {
    "duration": 7,
    "start_time": "2023-05-22T10:11:16.723Z"
   },
   {
    "duration": 28,
    "start_time": "2023-05-22T10:11:16.731Z"
   },
   {
    "duration": 17,
    "start_time": "2023-05-22T10:11:16.786Z"
   },
   {
    "duration": 21,
    "start_time": "2023-05-22T10:11:16.805Z"
   },
   {
    "duration": 16,
    "start_time": "2023-05-22T10:11:16.828Z"
   },
   {
    "duration": 47,
    "start_time": "2023-05-22T10:11:16.847Z"
   },
   {
    "duration": 17,
    "start_time": "2023-05-22T10:11:16.899Z"
   },
   {
    "duration": 43,
    "start_time": "2023-05-22T10:11:16.918Z"
   },
   {
    "duration": 7,
    "start_time": "2023-05-22T10:11:16.963Z"
   },
   {
    "duration": 22,
    "start_time": "2023-05-22T10:11:16.971Z"
   },
   {
    "duration": 49,
    "start_time": "2023-05-22T10:11:16.994Z"
   },
   {
    "duration": 20,
    "start_time": "2023-05-22T10:11:17.045Z"
   },
   {
    "duration": 442,
    "start_time": "2023-05-22T10:11:17.067Z"
   },
   {
    "duration": 15,
    "start_time": "2023-05-22T10:11:17.510Z"
   },
   {
    "duration": 1028,
    "start_time": "2023-05-22T10:11:17.527Z"
   },
   {
    "duration": 36,
    "start_time": "2023-05-22T10:11:18.557Z"
   },
   {
    "duration": 9,
    "start_time": "2023-05-22T10:11:18.595Z"
   },
   {
    "duration": 194,
    "start_time": "2023-05-22T10:11:18.605Z"
   },
   {
    "duration": 15,
    "start_time": "2023-05-22T10:11:18.801Z"
   },
   {
    "duration": 324,
    "start_time": "2023-05-22T10:11:18.818Z"
   },
   {
    "duration": 901,
    "start_time": "2023-05-22T10:11:19.144Z"
   },
   {
    "duration": 13,
    "start_time": "2023-05-22T10:11:20.047Z"
   },
   {
    "duration": 208,
    "start_time": "2023-05-22T10:11:20.062Z"
   },
   {
    "duration": 196,
    "start_time": "2023-05-22T10:11:20.272Z"
   },
   {
    "duration": 17,
    "start_time": "2023-05-22T10:11:20.478Z"
   },
   {
    "duration": 16,
    "start_time": "2023-05-22T10:11:20.496Z"
   },
   {
    "duration": 21,
    "start_time": "2023-05-22T10:11:20.514Z"
   },
   {
    "duration": 11,
    "start_time": "2023-05-22T10:11:20.538Z"
   },
   {
    "duration": 214,
    "start_time": "2023-05-22T10:11:20.551Z"
   },
   {
    "duration": 577,
    "start_time": "2023-05-22T10:11:20.767Z"
   },
   {
    "duration": 48,
    "start_time": "2023-05-22T10:11:21.346Z"
   },
   {
    "duration": 13,
    "start_time": "2023-05-22T10:11:21.396Z"
   },
   {
    "duration": 30,
    "start_time": "2023-05-22T10:11:21.411Z"
   },
   {
    "duration": 30,
    "start_time": "2023-05-22T10:11:21.443Z"
   },
   {
    "duration": 22,
    "start_time": "2023-05-22T10:11:21.475Z"
   },
   {
    "duration": 12,
    "start_time": "2023-05-22T10:11:21.499Z"
   },
   {
    "duration": 19,
    "start_time": "2023-05-22T10:11:21.513Z"
   },
   {
    "duration": 6,
    "start_time": "2023-05-22T10:11:21.534Z"
   }
  ],
  "kernelspec": {
   "display_name": "Python 3 (ipykernel)",
   "language": "python",
   "name": "python3"
  },
  "language_info": {
   "codemirror_mode": {
    "name": "ipython",
    "version": 3
   },
   "file_extension": ".py",
   "mimetype": "text/x-python",
   "name": "python",
   "nbconvert_exporter": "python",
   "pygments_lexer": "ipython3",
   "version": "3.9.5"
  },
  "toc": {
   "base_numbering": 1,
   "nav_menu": {},
   "number_sections": true,
   "sideBar": true,
   "skip_h1_title": true,
   "title_cell": "Table of Contents",
   "title_sidebar": "Contents",
   "toc_cell": false,
   "toc_position": {},
   "toc_section_display": true,
   "toc_window_display": false
  }
 },
 "nbformat": 4,
 "nbformat_minor": 2
}
