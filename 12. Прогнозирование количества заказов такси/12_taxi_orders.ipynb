{
 "cells": [
  {
   "cell_type": "markdown",
   "id": "05056449",
   "metadata": {},
   "source": [
    "#  Прогнозирование заказов такси"
   ]
  },
  {
   "cell_type": "markdown",
   "id": "75c655a0",
   "metadata": {},
   "source": [
    "Компания «Чётенькое такси» собрала исторические данные о заказах такси в аэропортах. Чтобы привлекать больше водителей в период пиковой нагрузки, нужно спрогнозировать количество заказов такси на следующий час. Постройте модель для такого предсказания.\n",
    "\n",
    "Значение метрики *RMSE* на тестовой выборке должно быть не больше 48.\n",
    "\n",
    "Вам нужно:\n",
    "\n",
    "1. Загрузить данные и выполнить их ресемплирование по одному часу.\n",
    "2. Проанализировать данные.\n",
    "3. Обучить разные модели с различными гиперпараметрами. Сделать тестовую выборку размером 10% от исходных данных.\n",
    "4. Проверить данные на тестовой выборке и сделать выводы.\n",
    "\n",
    "\n",
    "Данные лежат в файле `taxi.csv`. Количество заказов находится в столбце `num_orders` (от англ. *number of orders*, «число заказов»).\n",
    "\n",
    "Цель исследования: Создать модель со значением метрики RMSE не больше 48.\n",
    "\n",
    "Ход исследования:\n",
    "\n",
    "- Подготовка данных\n",
    "- Анализ данных\n",
    "- Обучение моделей\n",
    "- Проверка на тестовой выборке\n",
    "- Общий вывод"
   ]
  },
  {
   "cell_type": "markdown",
   "id": "1b9a7587",
   "metadata": {},
   "source": [
    "## Подготовка"
   ]
  },
  {
   "cell_type": "code",
   "execution_count": 1,
   "id": "40eafb2e",
   "metadata": {},
   "outputs": [],
   "source": [
    "# импорт библиотек\n",
    "import pandas as pd\n",
    "from matplotlib import pyplot as plt\n",
    "from statsmodels.tsa.seasonal import seasonal_decompose\n",
    "from statsmodels.tsa.stattools import adfuller\n",
    "from statsmodels.graphics import tsaplots\n",
    "from sklearn.linear_model import RidgeCV\n",
    "from sklearn.ensemble import RandomForestRegressor\n",
    "from catboost import CatBoostRegressor\n",
    "from sklearn.model_selection import (\n",
    "    cross_validate, \n",
    "    train_test_split,\n",
    "    RandomizedSearchCV,\n",
    "    TimeSeriesSplit\n",
    ")\n",
    "from sklearn.metrics import mean_squared_error"
   ]
  },
  {
   "cell_type": "code",
   "execution_count": 2,
   "id": "a93617c8",
   "metadata": {},
   "outputs": [],
   "source": [
    "# загрузка данных\n",
    "try:\n",
    "    data = pd.read_csv('/datasets/taxi.csv', parse_dates=['datetime'], index_col=['datetime'])\n",
    "except:\n",
    "    data = pd.read_csv('https://code.s3.yandex.net//datasets/taxi.csv', parse_dates=['datetime'], index_col=['datetime'])"
   ]
  },
  {
   "cell_type": "code",
   "execution_count": 3,
   "id": "81711f0b",
   "metadata": {},
   "outputs": [
    {
     "data": {
      "text/html": [
       "<div>\n",
       "<style scoped>\n",
       "    .dataframe tbody tr th:only-of-type {\n",
       "        vertical-align: middle;\n",
       "    }\n",
       "\n",
       "    .dataframe tbody tr th {\n",
       "        vertical-align: top;\n",
       "    }\n",
       "\n",
       "    .dataframe thead th {\n",
       "        text-align: right;\n",
       "    }\n",
       "</style>\n",
       "<table border=\"1\" class=\"dataframe\">\n",
       "  <thead>\n",
       "    <tr style=\"text-align: right;\">\n",
       "      <th></th>\n",
       "      <th>num_orders</th>\n",
       "    </tr>\n",
       "    <tr>\n",
       "      <th>datetime</th>\n",
       "      <th></th>\n",
       "    </tr>\n",
       "  </thead>\n",
       "  <tbody>\n",
       "    <tr>\n",
       "      <th>2018-03-01 00:00:00</th>\n",
       "      <td>9</td>\n",
       "    </tr>\n",
       "    <tr>\n",
       "      <th>2018-03-01 00:10:00</th>\n",
       "      <td>14</td>\n",
       "    </tr>\n",
       "    <tr>\n",
       "      <th>2018-03-01 00:20:00</th>\n",
       "      <td>28</td>\n",
       "    </tr>\n",
       "    <tr>\n",
       "      <th>2018-03-01 00:30:00</th>\n",
       "      <td>20</td>\n",
       "    </tr>\n",
       "    <tr>\n",
       "      <th>2018-03-01 00:40:00</th>\n",
       "      <td>32</td>\n",
       "    </tr>\n",
       "  </tbody>\n",
       "</table>\n",
       "</div>"
      ],
      "text/plain": [
       "                     num_orders\n",
       "datetime                       \n",
       "2018-03-01 00:00:00           9\n",
       "2018-03-01 00:10:00          14\n",
       "2018-03-01 00:20:00          28\n",
       "2018-03-01 00:30:00          20\n",
       "2018-03-01 00:40:00          32"
      ]
     },
     "execution_count": 3,
     "metadata": {},
     "output_type": "execute_result"
    }
   ],
   "source": [
    "# первые строки датафрейма\n",
    "data.head()"
   ]
  },
  {
   "cell_type": "code",
   "execution_count": 4,
   "id": "a87cbe85",
   "metadata": {},
   "outputs": [
    {
     "name": "stdout",
     "output_type": "stream",
     "text": [
      "<class 'pandas.core.frame.DataFrame'>\n",
      "DatetimeIndex: 26496 entries, 2018-03-01 00:00:00 to 2018-08-31 23:50:00\n",
      "Data columns (total 1 columns):\n",
      " #   Column      Non-Null Count  Dtype\n",
      "---  ------      --------------  -----\n",
      " 0   num_orders  26496 non-null  int64\n",
      "dtypes: int64(1)\n",
      "memory usage: 414.0 KB\n"
     ]
    }
   ],
   "source": [
    "# информация о датафрейме\n",
    "data.info()"
   ]
  },
  {
   "cell_type": "code",
   "execution_count": 5,
   "id": "a0555ff5",
   "metadata": {},
   "outputs": [
    {
     "data": {
      "text/html": [
       "<div>\n",
       "<style scoped>\n",
       "    .dataframe tbody tr th:only-of-type {\n",
       "        vertical-align: middle;\n",
       "    }\n",
       "\n",
       "    .dataframe tbody tr th {\n",
       "        vertical-align: top;\n",
       "    }\n",
       "\n",
       "    .dataframe thead th {\n",
       "        text-align: right;\n",
       "    }\n",
       "</style>\n",
       "<table border=\"1\" class=\"dataframe\">\n",
       "  <thead>\n",
       "    <tr style=\"text-align: right;\">\n",
       "      <th></th>\n",
       "      <th>count</th>\n",
       "      <th>mean</th>\n",
       "      <th>std</th>\n",
       "      <th>min</th>\n",
       "      <th>25%</th>\n",
       "      <th>50%</th>\n",
       "      <th>75%</th>\n",
       "      <th>max</th>\n",
       "    </tr>\n",
       "  </thead>\n",
       "  <tbody>\n",
       "    <tr>\n",
       "      <th>num_orders</th>\n",
       "      <td>26496.0</td>\n",
       "      <td>14.070463</td>\n",
       "      <td>9.21133</td>\n",
       "      <td>0.0</td>\n",
       "      <td>8.0</td>\n",
       "      <td>13.0</td>\n",
       "      <td>19.0</td>\n",
       "      <td>119.0</td>\n",
       "    </tr>\n",
       "  </tbody>\n",
       "</table>\n",
       "</div>"
      ],
      "text/plain": [
       "              count       mean      std  min  25%   50%   75%    max\n",
       "num_orders  26496.0  14.070463  9.21133  0.0  8.0  13.0  19.0  119.0"
      ]
     },
     "execution_count": 5,
     "metadata": {},
     "output_type": "execute_result"
    }
   ],
   "source": [
    "# описание столбцов\n",
    "data.describe().T"
   ]
  },
  {
   "cell_type": "code",
   "execution_count": 6,
   "id": "73cf99b1",
   "metadata": {},
   "outputs": [
    {
     "data": {
      "text/plain": [
       "True"
      ]
     },
     "execution_count": 6,
     "metadata": {},
     "output_type": "execute_result"
    }
   ],
   "source": [
    "# проверка ряда на монотонность\n",
    "data.index.is_monotonic"
   ]
  },
  {
   "cell_type": "markdown",
   "id": "65e0fa68",
   "metadata": {},
   "source": [
    "Т.к. нам нужно будет делать предсказания на каждый следующий час, сделаем ресемплирование по одному часу. Количество заказов при агрегировании будет суммироваться."
   ]
  },
  {
   "cell_type": "code",
   "execution_count": 7,
   "id": "c95c37ca",
   "metadata": {},
   "outputs": [
    {
     "name": "stdout",
     "output_type": "stream",
     "text": [
      "Размер нового датафрейма: (4416, 1)\n"
     ]
    }
   ],
   "source": [
    "data = data.resample('1H').sum()\n",
    "print(f'Размер нового датафрейма: {data.shape}')"
   ]
  },
  {
   "cell_type": "markdown",
   "id": "6505bef7",
   "metadata": {},
   "source": [
    "**Вывод:**\n",
    "В данной части исследования мы провели обзор данных. Датасет состоит из двух столбцов один из которых `datetime` - отметки времени (1 марта - 31 августа), которые мы сделали индексами, а второй столбец `num_orders` - целевой признак содержащий количество заказов, который по итогу нам нужно будет спрогнозировать. \n",
    "\n",
    "В датафреме отсутствуют пропуски, также можно приметить что аномалии также отсутствуют.\n",
    "\n",
    "Дата и время расположены в хронологическом порядке. Для построения модели мы провели ресемплирование по одному часу с суммированием целевого признака. Колмчество строк уменьшилось до 4416. "
   ]
  },
  {
   "cell_type": "markdown",
   "id": "330be1f9",
   "metadata": {},
   "source": [
    "## Анализ"
   ]
  },
  {
   "cell_type": "code",
   "execution_count": 8,
   "id": "a58773bb",
   "metadata": {},
   "outputs": [
    {
     "data": {
      "image/png": "[encoded data removed]",
      "text/plain": [
       "<Figure size 720x720 with 1 Axes>"
      ]
     },
     "metadata": {
      "needs_background": "light"
     },
     "output_type": "display_data"
    }
   ],
   "source": [
    "# распределение количества заказов\n",
    "data['num_orders'].hist(figsize = (10,10), bins=100)\n",
    "plt.title('Распределение количества заказов в час')\n",
    "plt.show()"
   ]
  },
  {
   "cell_type": "markdown",
   "id": "da996cca",
   "metadata": {},
   "source": [
    "Количество заказов распределено неравномерно. Основная часть значений находится в пределах от 0 до 150 заказов в час"
   ]
  },
  {
   "cell_type": "code",
   "execution_count": 9,
   "id": "02c30325",
   "metadata": {
    "scrolled": false
   },
   "outputs": [
    {
     "data": {
      "image/png": "[encoded data removed]",
      "text/plain": [
       "<Figure size 720x720 with 1 Axes>"
      ]
     },
     "metadata": {
      "needs_background": "light"
     },
     "output_type": "display_data"
    }
   ],
   "source": [
    "data.plot(figsize=(10,10))\n",
    "plt.title('Количество заказов по времени')\n",
    "plt.show()"
   ]
  },
  {
   "cell_type": "markdown",
   "id": "d4081808",
   "metadata": {},
   "source": [
    "На графике можно заметить, что он постепенно движется вверх, что говорит об увеличении количества заказов к концу лета. Видно огромное количество колебаний, количество заказов скачет от часа к часу.\n",
    "\n",
    "Создадим новый признак \"скользящее среднее\". Он задает общий тренд ряда. На графике мы увидим уменьшение амплитуды колебаний. Чтобы предотвратить утечку целевого признака, мы не будем включать текущее значение ряда с помощью shift()."
   ]
  },
  {
   "cell_type": "code",
   "execution_count": 10,
   "id": "51884b0d",
   "metadata": {},
   "outputs": [
    {
     "data": {
      "image/png": "[encoded data removed]",
      "text/plain": [
       "<Figure size 720x720 with 1 Axes>"
      ]
     },
     "metadata": {
      "needs_background": "light"
     },
     "output_type": "display_data"
    }
   ],
   "source": [
    "# скользящее среднее (не учитываем текущее значение)\n",
    "data['rolling_mean'] = data['num_orders'].shift().rolling(5).mean()\n",
    "data.plot(figsize=(10,10))\n",
    "plt.title('Скользящее среднее')\n",
    "plt.show()"
   ]
  },
  {
   "cell_type": "markdown",
   "id": "212ff1ba",
   "metadata": {},
   "source": [
    "Временной ряд и график скользящего среднего действительно сгладился относительно первоначального. Увеличение количества заказов ближе к концу лета является трендом.\n",
    "\n",
    "Проанализируем тренд и сезонность более подробно."
   ]
  },
  {
   "cell_type": "code",
   "execution_count": 11,
   "id": "261bfe25",
   "metadata": {},
   "outputs": [
    {
     "data": {
      "image/png": "[encoded data removed]",
      "text/plain": [
       "<Figure size 720x720 with 3 Axes>"
      ]
     },
     "metadata": {
      "needs_background": "light"
     },
     "output_type": "display_data"
    }
   ],
   "source": [
    "# раскладываем временной ряд\n",
    "decomposed = seasonal_decompose(data['num_orders'])\n",
    "plt.figure(figsize=(10, 10))\n",
    "plt.subplot(311)\n",
    "decomposed.trend.plot(ax=plt.gca())\n",
    "plt.title('Тренд')\n",
    "plt.subplot(312)\n",
    "# проверяем сезонную составляющую в первые два дня\n",
    "decomposed.seasonal[:72].plot(ax=plt.gca())\n",
    "plt.title('Сезонность')\n",
    "plt.subplot(313)\n",
    "decomposed.resid.plot(ax=plt.gca())\n",
    "plt.title('Остаток')\n",
    "plt.tight_layout()"
   ]
  },
  {
   "cell_type": "markdown",
   "id": "7e6a955f",
   "metadata": {},
   "source": [
    "Действительно, видим что увеличение количества заказов в час под конец лета является трендом.\n",
    "\n",
    "График сезонной составляющей говорит о том, что количество заказов увеличивается с 6 утра, потом в обед затишье и снова пик с 15 до 18. И еще видим пик в полночь, это объясняется отсутствием или малым количеством общественного транспорта в это время.\n",
    "\n",
    "Видим увеличение дисперсии в Августе на графике остатков. Эти данные будет сложнее предсказать. Причем, эти данные попадут в тестовую выборку. Следует ожидать разброса между метриками при кросс-валидации и тестировании.\n",
    "\n",
    "Ресеплируем ряд по дням и проверим недельную сезонность. "
   ]
  },
  {
   "cell_type": "code",
   "execution_count": 12,
   "id": "15dd16c3",
   "metadata": {},
   "outputs": [
    {
     "data": {
      "image/png": "[encoded data removed]",
      "text/plain": [
       "<Figure size 1080x360 with 1 Axes>"
      ]
     },
     "metadata": {
      "needs_background": "light"
     },
     "output_type": "display_data"
    }
   ],
   "source": [
    "data_day = data['num_orders'].resample('1D').sum()\n",
    "# раскладываем временной ряд\n",
    "decomposed_day = seasonal_decompose(data_day)\n",
    "decomposed_day.seasonal[:70].plot(figsize=(15,5))\n",
    "plt.title('Сезонность по дням')\n",
    "plt.show()"
   ]
  },
  {
   "cell_type": "markdown",
   "id": "7f562c10",
   "metadata": {},
   "source": [
    "Видим сезонность по неделям. Она заключается в увеличении количесва заказов со среды по пятницу и с воскресения по понедельник. Во втроник идет значительное падение заказов. \n",
    "\n",
    "Проверим ряд на стационарность. Создадим новый признак - скользящее стандартное отклонение."
   ]
  },
  {
   "cell_type": "code",
   "execution_count": 13,
   "id": "3ac92df6",
   "metadata": {},
   "outputs": [
    {
     "data": {
      "image/png": "[encoded data removed]",
      "text/plain": [
       "<Figure size 720x720 with 1 Axes>"
      ]
     },
     "metadata": {
      "needs_background": "light"
     },
     "output_type": "display_data"
    }
   ],
   "source": [
    "# скользящее среднее (не учитываем текущее значение)\n",
    "data['rolling_std'] = data['num_orders'].shift().rolling(5).std()\n",
    "data.plot(figsize=(10,10))\n",
    "plt.title('Скользящее стандартное отклонение')\n",
    "plt.show()"
   ]
  },
  {
   "cell_type": "markdown",
   "id": "bdc8aa2f",
   "metadata": {},
   "source": [
    "У временного ряда меняется среднее и стандартное отклонение, также имеется тренд и сезонность, значит ряд в строгом смысле не стационарный. Однако делать однозначные выводы по графикам мы не будем. Првоерим стационарность ряда тестом Дики-Фуллера.\n",
    "\n",
    "Нулевая гипотеза ($H_0$) - ряд нестационарен.\n",
    "\n",
    "Альтернативная гипотеза($H_A$) - ряд стационарен"
   ]
  },
  {
   "cell_type": "code",
   "execution_count": 14,
   "id": "4e007002",
   "metadata": {},
   "outputs": [
    {
     "name": "stdout",
     "output_type": "stream",
     "text": [
      "Отвергаем нулевую гипотезу - наш ряд стационарный\n",
      "p-value = 4.0549397892403547e-17\n"
     ]
    }
   ],
   "source": [
    "# тест Дики-Фуллера \n",
    "\n",
    "ts = data['num_orders']\n",
    "st_test = adfuller(ts, regression='ctt')\n",
    "\n",
    "# возбмем уровень значимости 0.05\n",
    "# p_value = st_test[1]\n",
    "if st_test[1] < 0.05:\n",
    "    print('Отвергаем нулевую гипотезу - наш ряд стационарный')\n",
    "else:\n",
    "    print('Нулевая гипотеза не отвергнута - ряд нестационарный')\n",
    "print('p-value =', st_test[1])"
   ]
  },
  {
   "cell_type": "markdown",
   "id": "ca08aef8",
   "metadata": {},
   "source": [
    "**Вывод:** В результате анализа нашего временного ряда мы выяснили, что он имеет тренд и сезонную состалвяющую. Ряд в строгом смысле не является стационарным, однако тест Дики-Фуллера показал что ряд - приводимый к стационарному.\n",
    "\n",
    "Параллельно мы добавили два признака: скользящее среднее и скользящее стандартное отклонение."
   ]
  },
  {
   "cell_type": "markdown",
   "id": "1d770039",
   "metadata": {},
   "source": [
    "## Обучение"
   ]
  },
  {
   "cell_type": "markdown",
   "id": "9e21f765",
   "metadata": {},
   "source": [
    "Создадим календарные признаки для горизонта прогнозирования."
   ]
  },
  {
   "cell_type": "code",
   "execution_count": 15,
   "id": "540d8ae2",
   "metadata": {},
   "outputs": [
    {
     "data": {
      "text/html": [
       "<div>\n",
       "<style scoped>\n",
       "    .dataframe tbody tr th:only-of-type {\n",
       "        vertical-align: middle;\n",
       "    }\n",
       "\n",
       "    .dataframe tbody tr th {\n",
       "        vertical-align: top;\n",
       "    }\n",
       "\n",
       "    .dataframe thead th {\n",
       "        text-align: right;\n",
       "    }\n",
       "</style>\n",
       "<table border=\"1\" class=\"dataframe\">\n",
       "  <thead>\n",
       "    <tr style=\"text-align: right;\">\n",
       "      <th></th>\n",
       "      <th>num_orders</th>\n",
       "      <th>rolling_mean</th>\n",
       "      <th>rolling_std</th>\n",
       "      <th>day</th>\n",
       "      <th>hour</th>\n",
       "      <th>day_of_week</th>\n",
       "    </tr>\n",
       "    <tr>\n",
       "      <th>datetime</th>\n",
       "      <th></th>\n",
       "      <th></th>\n",
       "      <th></th>\n",
       "      <th></th>\n",
       "      <th></th>\n",
       "      <th></th>\n",
       "    </tr>\n",
       "  </thead>\n",
       "  <tbody>\n",
       "    <tr>\n",
       "      <th>2018-03-01 00:00:00</th>\n",
       "      <td>124</td>\n",
       "      <td>NaN</td>\n",
       "      <td>NaN</td>\n",
       "      <td>1</td>\n",
       "      <td>0</td>\n",
       "      <td>3</td>\n",
       "    </tr>\n",
       "    <tr>\n",
       "      <th>2018-03-01 01:00:00</th>\n",
       "      <td>85</td>\n",
       "      <td>NaN</td>\n",
       "      <td>NaN</td>\n",
       "      <td>1</td>\n",
       "      <td>1</td>\n",
       "      <td>3</td>\n",
       "    </tr>\n",
       "    <tr>\n",
       "      <th>2018-03-01 02:00:00</th>\n",
       "      <td>71</td>\n",
       "      <td>NaN</td>\n",
       "      <td>NaN</td>\n",
       "      <td>1</td>\n",
       "      <td>2</td>\n",
       "      <td>3</td>\n",
       "    </tr>\n",
       "    <tr>\n",
       "      <th>2018-03-01 03:00:00</th>\n",
       "      <td>66</td>\n",
       "      <td>NaN</td>\n",
       "      <td>NaN</td>\n",
       "      <td>1</td>\n",
       "      <td>3</td>\n",
       "      <td>3</td>\n",
       "    </tr>\n",
       "    <tr>\n",
       "      <th>2018-03-01 04:00:00</th>\n",
       "      <td>43</td>\n",
       "      <td>NaN</td>\n",
       "      <td>NaN</td>\n",
       "      <td>1</td>\n",
       "      <td>4</td>\n",
       "      <td>3</td>\n",
       "    </tr>\n",
       "    <tr>\n",
       "      <th>2018-03-01 05:00:00</th>\n",
       "      <td>6</td>\n",
       "      <td>77.8</td>\n",
       "      <td>29.928248</td>\n",
       "      <td>1</td>\n",
       "      <td>5</td>\n",
       "      <td>3</td>\n",
       "    </tr>\n",
       "    <tr>\n",
       "      <th>2018-03-01 06:00:00</th>\n",
       "      <td>12</td>\n",
       "      <td>54.2</td>\n",
       "      <td>30.898220</td>\n",
       "      <td>1</td>\n",
       "      <td>6</td>\n",
       "      <td>3</td>\n",
       "    </tr>\n",
       "    <tr>\n",
       "      <th>2018-03-01 07:00:00</th>\n",
       "      <td>15</td>\n",
       "      <td>39.6</td>\n",
       "      <td>29.938270</td>\n",
       "      <td>1</td>\n",
       "      <td>7</td>\n",
       "      <td>3</td>\n",
       "    </tr>\n",
       "    <tr>\n",
       "      <th>2018-03-01 08:00:00</th>\n",
       "      <td>34</td>\n",
       "      <td>28.4</td>\n",
       "      <td>25.383065</td>\n",
       "      <td>1</td>\n",
       "      <td>8</td>\n",
       "      <td>3</td>\n",
       "    </tr>\n",
       "    <tr>\n",
       "      <th>2018-03-01 09:00:00</th>\n",
       "      <td>69</td>\n",
       "      <td>22.0</td>\n",
       "      <td>15.732133</td>\n",
       "      <td>1</td>\n",
       "      <td>9</td>\n",
       "      <td>3</td>\n",
       "    </tr>\n",
       "  </tbody>\n",
       "</table>\n",
       "</div>"
      ],
      "text/plain": [
       "                     num_orders  rolling_mean  rolling_std  day  hour  \\\n",
       "datetime                                                                \n",
       "2018-03-01 00:00:00         124           NaN          NaN    1     0   \n",
       "2018-03-01 01:00:00          85           NaN          NaN    1     1   \n",
       "2018-03-01 02:00:00          71           NaN          NaN    1     2   \n",
       "2018-03-01 03:00:00          66           NaN          NaN    1     3   \n",
       "2018-03-01 04:00:00          43           NaN          NaN    1     4   \n",
       "2018-03-01 05:00:00           6          77.8    29.928248    1     5   \n",
       "2018-03-01 06:00:00          12          54.2    30.898220    1     6   \n",
       "2018-03-01 07:00:00          15          39.6    29.938270    1     7   \n",
       "2018-03-01 08:00:00          34          28.4    25.383065    1     8   \n",
       "2018-03-01 09:00:00          69          22.0    15.732133    1     9   \n",
       "\n",
       "                     day_of_week  \n",
       "datetime                          \n",
       "2018-03-01 00:00:00            3  \n",
       "2018-03-01 01:00:00            3  \n",
       "2018-03-01 02:00:00            3  \n",
       "2018-03-01 03:00:00            3  \n",
       "2018-03-01 04:00:00            3  \n",
       "2018-03-01 05:00:00            3  \n",
       "2018-03-01 06:00:00            3  \n",
       "2018-03-01 07:00:00            3  \n",
       "2018-03-01 08:00:00            3  \n",
       "2018-03-01 09:00:00            3  "
      ]
     },
     "execution_count": 15,
     "metadata": {},
     "output_type": "execute_result"
    }
   ],
   "source": [
    "# день\n",
    "data['day'] = data.index.day\n",
    "# час\n",
    "data['hour'] = data.index.hour\n",
    "# день недели\n",
    "data['day_of_week'] = data.index.dayofweek\n",
    "\n",
    "data.head(10)"
   ]
  },
  {
   "cell_type": "markdown",
   "id": "e8c4a708",
   "metadata": {},
   "source": [
    "Создадим признаки с отстающими значениями. Определить количество \"лагов\" которое будем добавлять нам поможет график автокорреляции. Т.к. мы имеем недельную и суточную сезонность нам важно посмотреть корреляцию лагов в течение недели (7 * 24 = 168 часов)."
   ]
  },
  {
   "cell_type": "code",
   "execution_count": 16,
   "id": "b7ff316d",
   "metadata": {},
   "outputs": [
    {
     "data": {
      "image/png": "[encoded data removed]",
      "text/plain": [
       "<Figure size 1332x432 with 1 Axes>"
      ]
     },
     "metadata": {
      "needs_background": "light"
     },
     "output_type": "display_data"
    }
   ],
   "source": [
    "# график автокорелляции\n",
    "\n",
    "ts = data['num_orders']\n",
    "\n",
    "fig = tsaplots.plot_acf(ts,lags= 180)\n",
    "fig.set_size_inches(18.5, 6)\n",
    "plt.ylim(-.1, 1.1)\n",
    "plt.show() "
   ]
  },
  {
   "cell_type": "markdown",
   "id": "00b452a0",
   "metadata": {},
   "source": [
    "Видим самую высокую корреляцию с целевым признаком на значении 168. Создадим 168 лагов в нашем датасете."
   ]
  },
  {
   "cell_type": "code",
   "execution_count": 17,
   "id": "421fe613",
   "metadata": {},
   "outputs": [],
   "source": [
    "# отстающие значения\n",
    "for lag in range(1, 169):\n",
    "    data['lag_{}'.format(lag)] = data['num_orders'].shift(lag)"
   ]
  },
  {
   "cell_type": "code",
   "execution_count": 18,
   "id": "8b68808e",
   "metadata": {},
   "outputs": [
    {
     "name": "stdout",
     "output_type": "stream",
     "text": [
      "<class 'pandas.core.frame.DataFrame'>\n",
      "DatetimeIndex: 4248 entries, 2018-03-08 00:00:00 to 2018-08-31 23:00:00\n",
      "Freq: H\n",
      "Columns: 174 entries, num_orders to lag_168\n",
      "dtypes: float64(170), int64(4)\n",
      "memory usage: 5.7 MB\n"
     ]
    }
   ],
   "source": [
    "# удалим пропущенные значения\n",
    "data = data.dropna()\n",
    "data.info()"
   ]
  },
  {
   "cell_type": "code",
   "execution_count": 19,
   "id": "336f9aff",
   "metadata": {},
   "outputs": [
    {
     "name": "stdout",
     "output_type": "stream",
     "text": [
      "Размер фрейма признаков обучающей выборки: (3823, 173)\n",
      "Размер фрейма целевого признака обучающей выборки: (3823,)\n",
      "Размер фрейма признаков тестовой выборки: (425, 173)\n",
      "Размер фрейма целевого признака тестовой выборки: (425,)\n"
     ]
    }
   ],
   "source": [
    "# разделение выборки на обучающую итестовую\n",
    "features = data.drop('num_orders', axis=1)\n",
    "target = data['num_orders']\n",
    "features_train, features_test, target_train, target_test = train_test_split(features, target, shuffle=False, test_size=0.1)\n",
    "print('Размер фрейма признаков обучающей выборки:', features_train.shape)\n",
    "print('Размер фрейма целевого признака обучающей выборки:', target_train.shape)\n",
    "print('Размер фрейма признаков тестовой выборки:', features_test.shape)\n",
    "print('Размер фрейма целевого признака тестовой выборки:', target_test.shape)"
   ]
  },
  {
   "cell_type": "code",
   "execution_count": 20,
   "id": "8f6c1dcc",
   "metadata": {},
   "outputs": [
    {
     "name": "stdout",
     "output_type": "stream",
     "text": [
      "RMSE: 22.724044324135157\n",
      "Alpha: 1.0\n"
     ]
    }
   ],
   "source": [
    "# Ridge - регрессия\n",
    "\n",
    "# используем TimeSeriesSplit т.к. данные надо разделить упорядочено\n",
    "tscv = TimeSeriesSplit(n_splits=5)\n",
    "\n",
    "model_ridge = RidgeCV(alphas=[1e-3, 1e-2, 1e-1, 1],\n",
    "                      scoring='neg_root_mean_squared_error', cv=tscv)\n",
    "model_ridge.fit(features_train, target_train)\n",
    "\n",
    "print(f'RMSE: {model_ridge.best_score_ * -1}')\n",
    "print(f'Alpha: {model_ridge.alpha_}')"
   ]
  },
  {
   "cell_type": "code",
   "execution_count": 24,
   "id": "a5c97fff",
   "metadata": {},
   "outputs": [
    {
     "name": "stdout",
     "output_type": "stream",
     "text": [
      "RMSE: 22.857565679101377\n",
      "Лучшие параметры: {'n_estimators': 300, 'min_samples_split': 2, 'min_samples_leaf': 3, 'max_depth': 14}\n"
     ]
    }
   ],
   "source": [
    "# случайный лес\n",
    "model_rf = RandomForestRegressor(random_state=96)\n",
    "\n",
    "param_grid_rf = {\n",
    "    'n_estimators': range(50, 501, 50),\n",
    "    'max_depth': range(2, 16),\n",
    "    'min_samples_split': (2, 3, 4),\n",
    "    'min_samples_leaf': (1, 2, 3, 4)\n",
    "}\n",
    "\n",
    "rs_rf = RandomizedSearchCV(\n",
    "    model_rf, \n",
    "    param_distributions=param_grid_rf, \n",
    "    scoring='neg_root_mean_squared_error', \n",
    "    n_jobs=-1, \n",
    "    random_state=96,\n",
    "    cv=tscv\n",
    ")\n",
    "\n",
    "rs_rf.fit(features_train, target_train)\n",
    "\n",
    "print(f'RMSE: {rs_rf.best_score_ * -1}')\n",
    "print(f'Лучшие параметры: {rs_rf.best_params_}')"
   ]
  },
  {
   "cell_type": "code",
   "execution_count": 22,
   "id": "a6d5692b",
   "metadata": {},
   "outputs": [
    {
     "name": "stdout",
     "output_type": "stream",
     "text": [
      "RMSE: 23.11293747764839\n",
      "Лучшие параметры: {'max_depth': 2, 'learning_rate': 0.3, 'iterations': 70}\n"
     ]
    }
   ],
   "source": [
    "# модель градиентного бустинга\n",
    "model_boost = CatBoostRegressor(random_state=96, loss_function='RMSE', verbose=False)\n",
    "\n",
    "param_grid_boost = {\n",
    "    'iterations': range(10, 301, 10),\n",
    "    'max_depth': range(2, 16),\n",
    "    'learning_rate': (0.1, 0.2, 0.3, 0.4)\n",
    "}\n",
    "\n",
    "rs_boost = RandomizedSearchCV(\n",
    "    model_boost, \n",
    "    param_distributions=param_grid_boost, \n",
    "    scoring='neg_root_mean_squared_error', \n",
    "    n_jobs=-1, \n",
    "    random_state=96,\n",
    "    cv=tscv\n",
    ")\n",
    "\n",
    "rs_boost.fit(features_train, target_train)\n",
    "\n",
    "print(f'RMSE: {rs_boost.best_score_ * -1}')\n",
    "print(f'Лучшие параметры: {rs_boost.best_params_}')"
   ]
  },
  {
   "cell_type": "markdown",
   "id": "a7ae98c8",
   "metadata": {},
   "source": [
    "**Вывод:**\n",
    "Мы создали новые признаки: \n",
    "- календарные:  `day`, `day_of_week`, `hour`\n",
    "- отстающие значения: `lag_1` - `lag_168`\n",
    "\n",
    "\n",
    "После мы удалили пропущенные значения и разделили исходный датасет на обучающую и тестовую выборки в соотношении: \n",
    "- обучающая выборка - 90%\n",
    "- тестовая выборка - 10%\n",
    "\n",
    "По итогу были рассмотрены и оценены 3 модели. Расположем их по убыванию метрики RMSE:\n",
    "\n",
    "1. Ridge-регрессия.\n",
    "   - RMSE: 22.72\n",
    "    - Alpha: 1.0\n",
    "    \n",
    "    \n",
    "2. Случайный лес.\n",
    "    - RMSE: 22.86\n",
    "    - Лучшие параметры: {'n_estimators': 300, 'min_samples_split': 2, 'min_samples_leaf': 3, 'max_depth': 14}\n",
    "\n",
    "\n",
    "3. Градиентный бустинг.\n",
    "    - RMSE: 23.11\n",
    "    - Лучшие параметры: {'max_depth': 2, 'learning_rate': 0.3, 'iterations': 70}\n",
    "\n",
    "На тестирование выходит модель случайного леса."
   ]
  },
  {
   "cell_type": "markdown",
   "id": "36e9fe8a",
   "metadata": {},
   "source": [
    "## Тестирование"
   ]
  },
  {
   "cell_type": "code",
   "execution_count": 25,
   "id": "ce803ea5",
   "metadata": {},
   "outputs": [
    {
     "name": "stdout",
     "output_type": "stream",
     "text": [
      "RMSE модели ridge-регрессии на тестовой выборке: 34.22\n"
     ]
    }
   ],
   "source": [
    "# тестирование лучшей модели случайного леса\n",
    "prediction_ridge = model_ridge.predict(features_test)\n",
    "rmse_ridge = mean_squared_error(target_test, prediction_ridge, squared=False)\n",
    "print(f'RMSE модели ridge-регрессии на тестовой выборке: {rmse_ridge:.2f}')"
   ]
  },
  {
   "cell_type": "markdown",
   "id": "1a9f9381",
   "metadata": {},
   "source": [
    "Проверим модель на адекватность."
   ]
  },
  {
   "cell_type": "code",
   "execution_count": 26,
   "id": "1b41b617",
   "metadata": {},
   "outputs": [
    {
     "name": "stdout",
     "output_type": "stream",
     "text": [
      "RMSE : 58.82\n"
     ]
    }
   ],
   "source": [
    "pred_previous = target_test.shift()\n",
    "pred_previous.iloc[0] = target_train.iloc[-1]\n",
    "rmse_prev = mean_squared_error(target_test, pred_previous, squared=False)\n",
    "print(f'RMSE : {rmse_prev:.2f}')"
   ]
  },
  {
   "cell_type": "markdown",
   "id": "46e72910",
   "metadata": {},
   "source": [
    "RMSE полученное нашей моделью ridge-регрессии (34.22) оказалось лучше чем при построении прогноза на основе предыдущих значений (58.82)"
   ]
  },
  {
   "cell_type": "markdown",
   "id": "100cc690",
   "metadata": {},
   "source": [
    "**Вывод:** Модель ridge-регрессии с параметрами: {'alpha': 1} на тестовой выборке показала результат 34.22. Также эта модель прошла проверку на адекватность. Берем эту модель в производство."
   ]
  },
  {
   "cell_type": "markdown",
   "id": "4b7845aa",
   "metadata": {},
   "source": [
    "## Общий вывод"
   ]
  },
  {
   "cell_type": "markdown",
   "id": "65110e71",
   "metadata": {},
   "source": [
    "Мы провели исследование исторических данных о заказах такси в аэропортах предоставленные компанией \"Четенькое такси\". Наша цель - разработать модель для предсказания количества заказов такси на следующий час. Это требовалось для привлечения водителей в период пиковой нагрузки.\n",
    "\n",
    "В результате подготовки данных сделали следующие:\n",
    "- ресемплирование по одному часу\n",
    "- добавили признаки\n",
    "    - скользящее среднее \n",
    "    - скользящее стандартное отклонение\n",
    "    - день\n",
    "    - час\n",
    "    - день недели\n",
    "    - отстающие значения: lag_1 - lag_168\n",
    "\n",
    "Проведя анализ данных мы выявили следующие:\n",
    "- ряд монотонный\n",
    "- ряд стационарный\n",
    "- имеется тренд на увеличение заказов такси под конец лета\n",
    "- имеется сезонная составляющая (посуточная и еженедельная)\n",
    "\n",
    "Дальше мы создали три модели. \n",
    "\n",
    "1. Ridge-регрессия.\n",
    "   - RMSE (кросс-валидация): 22.72\n",
    "    - Alpha: 1.0\n",
    "    - RMSE (тест): 34.22\n",
    "    \n",
    "    \n",
    "2. Случайный лес.\n",
    "    - RMSE: 22.86\n",
    "    - Лучшие параметры: {'n_estimators': 300, 'min_samples_split': 2, 'min_samples_leaf': 3, 'max_depth': 14}\n",
    "\n",
    "\n",
    "3. Градиентный бустинг.\n",
    "    - RMSE: 23.11\n",
    "    - Лучшие параметры: {'max_depth': 2, 'learning_rate': 0.3, 'iterations': 70}\n",
    "\n",
    "Модель ridge-регрессии имеет на тестовой выборке значением метрики RMSE не больше 48, таким образом цель выполнена. Данная модель показывает результаты значительно лучшие чем при прогнозировании предыдущим значением. Данная модель пойдет в производство.\n",
    "\n",
    "Дальнейшие рекомендации:\n",
    "\n",
    "- Модель ridge-регрессии лучше всех справилась с работой. Потребовалось добавить значительное количество \"лагов\". Это количество можно посмотреть на графике автокорреляции.\n",
    "\n",
    "- Графики ряда, скользящего среднего и скользящего стандартного отклонения в некоторых случаях не могут дать однозначную информацию о стационарности ряда. Нужно проводить тест Дики-Фуллера."
   ]
  }
 ],
 "metadata": {
  "ExecuteTimeLog": [
   {
    "duration": 6,
    "start_time": "2023-09-05T17:16:18.214Z"
   },
   {
    "duration": 729,
    "start_time": "2023-09-05T17:21:17.597Z"
   },
   {
    "duration": 330,
    "start_time": "2023-09-05T17:22:21.938Z"
   },
   {
    "duration": 24,
    "start_time": "2023-09-05T17:22:35.369Z"
   },
   {
    "duration": 20,
    "start_time": "2023-09-05T17:23:04.833Z"
   },
   {
    "duration": 93,
    "start_time": "2023-09-05T17:23:47.223Z"
   },
   {
    "duration": 12,
    "start_time": "2023-09-05T17:23:48.139Z"
   },
   {
    "duration": 11,
    "start_time": "2023-09-05T17:23:49.053Z"
   },
   {
    "duration": 52,
    "start_time": "2023-09-05T17:23:59.728Z"
   },
   {
    "duration": 18,
    "start_time": "2023-09-05T17:24:00.207Z"
   },
   {
    "duration": 12,
    "start_time": "2023-09-05T17:24:01.055Z"
   },
   {
    "duration": 22,
    "start_time": "2023-09-05T17:24:15.293Z"
   },
   {
    "duration": 29,
    "start_time": "2023-09-05T17:24:21.929Z"
   },
   {
    "duration": 22,
    "start_time": "2023-09-05T17:25:51.663Z"
   },
   {
    "duration": 24,
    "start_time": "2023-09-05T17:25:58.760Z"
   },
   {
    "duration": 6,
    "start_time": "2023-09-05T17:27:06.566Z"
   },
   {
    "duration": 14,
    "start_time": "2023-09-05T17:27:24.321Z"
   },
   {
    "duration": 4,
    "start_time": "2023-09-05T17:28:37.105Z"
   },
   {
    "duration": 6,
    "start_time": "2023-09-05T17:28:45.243Z"
   },
   {
    "duration": 9,
    "start_time": "2023-09-05T17:28:50.704Z"
   },
   {
    "duration": 178,
    "start_time": "2023-09-05T17:29:00.145Z"
   },
   {
    "duration": 15,
    "start_time": "2023-09-05T17:29:54.570Z"
   },
   {
    "duration": 30,
    "start_time": "2023-09-05T17:30:01.861Z"
   },
   {
    "duration": 21,
    "start_time": "2023-09-05T17:30:08.644Z"
   },
   {
    "duration": 21,
    "start_time": "2023-09-05T17:30:11.419Z"
   },
   {
    "duration": 5,
    "start_time": "2023-09-05T17:30:15.652Z"
   },
   {
    "duration": 14,
    "start_time": "2023-09-05T17:30:22.605Z"
   },
   {
    "duration": 5,
    "start_time": "2023-09-05T17:30:24.997Z"
   },
   {
    "duration": 704,
    "start_time": "2023-09-05T17:30:34.584Z"
   },
   {
    "duration": 89,
    "start_time": "2023-09-05T17:30:35.295Z"
   },
   {
    "duration": 30,
    "start_time": "2023-09-05T17:30:35.392Z"
   },
   {
    "duration": 23,
    "start_time": "2023-09-05T17:30:35.429Z"
   },
   {
    "duration": 92,
    "start_time": "2023-09-05T17:30:35.459Z"
   },
   {
    "duration": 13,
    "start_time": "2023-09-05T17:30:35.561Z"
   },
   {
    "duration": 1135,
    "start_time": "2023-09-05T17:31:36.933Z"
   },
   {
    "duration": 185,
    "start_time": "2023-09-05T17:31:41.513Z"
   },
   {
    "duration": 1143,
    "start_time": "2023-09-05T17:31:43.189Z"
   },
   {
    "duration": 511,
    "start_time": "2023-09-05T17:32:02.285Z"
   },
   {
    "duration": 667,
    "start_time": "2023-09-05T17:32:07.455Z"
   },
   {
    "duration": 56,
    "start_time": "2023-09-05T17:43:19.720Z"
   },
   {
    "duration": 11,
    "start_time": "2023-09-05T17:43:22.178Z"
   },
   {
    "duration": 28,
    "start_time": "2023-09-05T17:43:24.999Z"
   },
   {
    "duration": 45,
    "start_time": "2023-09-05T17:43:33.214Z"
   },
   {
    "duration": 24,
    "start_time": "2023-09-05T17:43:38.650Z"
   },
   {
    "duration": 6,
    "start_time": "2023-09-05T17:43:41.777Z"
   },
   {
    "duration": 320,
    "start_time": "2023-09-05T17:43:45.599Z"
   },
   {
    "duration": 17,
    "start_time": "2023-09-05T17:45:34.837Z"
   },
   {
    "duration": 15,
    "start_time": "2023-09-05T17:59:50.123Z"
   },
   {
    "duration": 42,
    "start_time": "2023-09-05T18:10:19.617Z"
   },
   {
    "duration": 78,
    "start_time": "2023-09-05T18:10:24.671Z"
   },
   {
    "duration": 16,
    "start_time": "2023-09-05T18:10:56.961Z"
   },
   {
    "duration": 1041,
    "start_time": "2023-09-05T18:12:25.816Z"
   },
   {
    "duration": 1496,
    "start_time": "2023-09-05T18:12:39.063Z"
   },
   {
    "duration": 36,
    "start_time": "2023-09-05T18:15:26.519Z"
   },
   {
    "duration": 35,
    "start_time": "2023-09-05T18:15:34.631Z"
   },
   {
    "duration": 30,
    "start_time": "2023-09-05T18:17:06.197Z"
   },
   {
    "duration": 67,
    "start_time": "2023-09-05T18:17:57.822Z"
   },
   {
    "duration": 222,
    "start_time": "2023-09-05T18:18:20.478Z"
   },
   {
    "duration": 1272,
    "start_time": "2023-09-05T18:18:29.495Z"
   },
   {
    "duration": 102,
    "start_time": "2023-09-05T18:18:30.774Z"
   },
   {
    "duration": 19,
    "start_time": "2023-09-05T18:18:30.878Z"
   },
   {
    "duration": 88,
    "start_time": "2023-09-05T18:18:30.909Z"
   },
   {
    "duration": 133,
    "start_time": "2023-09-05T18:18:31.005Z"
   },
   {
    "duration": 86,
    "start_time": "2023-09-05T18:18:31.140Z"
   },
   {
    "duration": 524,
    "start_time": "2023-09-05T18:18:31.228Z"
   },
   {
    "duration": 32,
    "start_time": "2023-09-05T18:18:31.755Z"
   },
   {
    "duration": 132,
    "start_time": "2023-09-05T18:18:31.789Z"
   },
   {
    "duration": 46,
    "start_time": "2023-09-05T18:18:31.924Z"
   },
   {
    "duration": 999,
    "start_time": "2023-09-05T18:32:30.401Z"
   },
   {
    "duration": 113,
    "start_time": "2023-09-05T18:32:31.402Z"
   },
   {
    "duration": 44,
    "start_time": "2023-09-05T18:32:31.524Z"
   },
   {
    "duration": 90,
    "start_time": "2023-09-05T18:32:31.570Z"
   },
   {
    "duration": 110,
    "start_time": "2023-09-05T18:32:31.663Z"
   },
   {
    "duration": 51,
    "start_time": "2023-09-05T18:32:31.775Z"
   },
   {
    "duration": 460,
    "start_time": "2023-09-05T18:32:31.828Z"
   },
   {
    "duration": 404,
    "start_time": "2023-09-05T18:32:35.498Z"
   },
   {
    "duration": 917,
    "start_time": "2023-09-05T18:32:50.389Z"
   },
   {
    "duration": 592,
    "start_time": "2023-09-05T18:33:06.042Z"
   },
   {
    "duration": 582,
    "start_time": "2023-09-05T18:33:12.555Z"
   },
   {
    "duration": 609,
    "start_time": "2023-09-05T18:34:42.378Z"
   },
   {
    "duration": 598,
    "start_time": "2023-09-05T18:34:52.609Z"
   },
   {
    "duration": 960,
    "start_time": "2023-09-05T18:35:57.206Z"
   },
   {
    "duration": 100,
    "start_time": "2023-09-05T18:35:58.168Z"
   },
   {
    "duration": 44,
    "start_time": "2023-09-05T18:35:58.271Z"
   },
   {
    "duration": 18,
    "start_time": "2023-09-05T18:35:58.321Z"
   },
   {
    "duration": 32,
    "start_time": "2023-09-05T18:35:58.342Z"
   },
   {
    "duration": 12,
    "start_time": "2023-09-05T18:35:58.379Z"
   },
   {
    "duration": 403,
    "start_time": "2023-09-05T18:35:58.393Z"
   },
   {
    "duration": 2008,
    "start_time": "2023-09-05T18:36:06.106Z"
   },
   {
    "duration": 720,
    "start_time": "2023-09-05T18:36:19.757Z"
   },
   {
    "duration": 590,
    "start_time": "2023-09-05T18:37:04.437Z"
   },
   {
    "duration": 1169,
    "start_time": "2023-09-05T18:38:24.214Z"
   },
   {
    "duration": 98,
    "start_time": "2023-09-05T18:38:25.390Z"
   },
   {
    "duration": 23,
    "start_time": "2023-09-05T18:38:25.494Z"
   },
   {
    "duration": 26,
    "start_time": "2023-09-05T18:38:25.528Z"
   },
   {
    "duration": 32,
    "start_time": "2023-09-05T18:38:25.561Z"
   },
   {
    "duration": 10,
    "start_time": "2023-09-05T18:38:25.600Z"
   },
   {
    "duration": 417,
    "start_time": "2023-09-05T18:38:31.685Z"
   },
   {
    "duration": 483,
    "start_time": "2023-09-05T18:38:37.556Z"
   },
   {
    "duration": 738,
    "start_time": "2023-09-05T18:39:30.425Z"
   },
   {
    "duration": 238,
    "start_time": "2023-09-05T18:44:35.166Z"
   },
   {
    "duration": 126,
    "start_time": "2023-09-05T18:44:45.901Z"
   },
   {
    "duration": 30,
    "start_time": "2023-09-05T18:44:50.340Z"
   },
   {
    "duration": 555,
    "start_time": "2023-09-05T18:44:54.406Z"
   },
   {
    "duration": 1058,
    "start_time": "2023-09-05T18:45:08.329Z"
   },
   {
    "duration": 1455,
    "start_time": "2023-09-05T18:47:47.171Z"
   },
   {
    "duration": 115,
    "start_time": "2023-09-05T18:47:48.632Z"
   },
   {
    "duration": 19,
    "start_time": "2023-09-05T18:47:48.750Z"
   },
   {
    "duration": 23,
    "start_time": "2023-09-05T18:47:48.772Z"
   },
   {
    "duration": 81,
    "start_time": "2023-09-05T18:47:48.798Z"
   },
   {
    "duration": 41,
    "start_time": "2023-09-05T18:47:48.882Z"
   },
   {
    "duration": 595,
    "start_time": "2023-09-05T18:47:48.925Z"
   },
   {
    "duration": 588,
    "start_time": "2023-09-05T18:47:49.529Z"
   },
   {
    "duration": 642,
    "start_time": "2023-09-05T18:48:16.259Z"
   },
   {
    "duration": 24,
    "start_time": "2023-09-05T18:48:38.267Z"
   },
   {
    "duration": 24,
    "start_time": "2023-09-05T18:48:43.085Z"
   },
   {
    "duration": 32,
    "start_time": "2023-09-05T18:48:49.505Z"
   },
   {
    "duration": 366,
    "start_time": "2023-09-05T18:49:25.377Z"
   },
   {
    "duration": 632,
    "start_time": "2023-09-05T18:49:33.591Z"
   },
   {
    "duration": 436,
    "start_time": "2023-09-05T18:49:40.899Z"
   },
   {
    "duration": 503,
    "start_time": "2023-09-05T18:50:52.173Z"
   },
   {
    "duration": 210,
    "start_time": "2023-09-05T18:51:15.763Z"
   },
   {
    "duration": 525,
    "start_time": "2023-09-05T18:51:25.281Z"
   },
   {
    "duration": 367,
    "start_time": "2023-09-05T18:51:30.742Z"
   },
   {
    "duration": 486,
    "start_time": "2023-09-05T18:51:41.677Z"
   },
   {
    "duration": 452,
    "start_time": "2023-09-05T18:51:53.503Z"
   },
   {
    "duration": 297,
    "start_time": "2023-09-05T18:52:01.006Z"
   },
   {
    "duration": 235,
    "start_time": "2023-09-05T18:52:08.967Z"
   },
   {
    "duration": 403,
    "start_time": "2023-09-05T18:52:17.442Z"
   },
   {
    "duration": 296,
    "start_time": "2023-09-05T18:52:23.717Z"
   },
   {
    "duration": 269,
    "start_time": "2023-09-05T18:52:34.376Z"
   },
   {
    "duration": 264,
    "start_time": "2023-09-05T18:52:51.248Z"
   },
   {
    "duration": 271,
    "start_time": "2023-09-05T18:52:57.128Z"
   },
   {
    "duration": 287,
    "start_time": "2023-09-05T18:55:40.345Z"
   },
   {
    "duration": 251,
    "start_time": "2023-09-05T18:55:47.622Z"
   },
   {
    "duration": 235,
    "start_time": "2023-09-05T18:55:56.775Z"
   },
   {
    "duration": 182,
    "start_time": "2023-09-05T18:56:04.539Z"
   },
   {
    "duration": 192,
    "start_time": "2023-09-05T18:56:12.623Z"
   },
   {
    "duration": 29,
    "start_time": "2023-09-05T19:11:16.640Z"
   },
   {
    "duration": 16,
    "start_time": "2023-09-05T19:11:20.341Z"
   },
   {
    "duration": 151,
    "start_time": "2023-09-05T19:14:35.811Z"
   },
   {
    "duration": 460,
    "start_time": "2023-09-05T19:15:02.913Z"
   },
   {
    "duration": 8,
    "start_time": "2023-09-05T19:15:07.030Z"
   },
   {
    "duration": 11,
    "start_time": "2023-09-05T19:15:36.234Z"
   },
   {
    "duration": 26,
    "start_time": "2023-09-05T19:15:38.564Z"
   },
   {
    "duration": 10,
    "start_time": "2023-09-05T19:15:48.122Z"
   },
   {
    "duration": 7,
    "start_time": "2023-09-05T19:15:50.199Z"
   },
   {
    "duration": 412,
    "start_time": "2023-09-05T19:16:30.179Z"
   },
   {
    "duration": 383,
    "start_time": "2023-09-05T19:16:41.433Z"
   },
   {
    "duration": 18,
    "start_time": "2023-09-05T19:17:06.075Z"
   },
   {
    "duration": 9,
    "start_time": "2023-09-05T19:17:13.663Z"
   },
   {
    "duration": 4,
    "start_time": "2023-09-05T19:18:58.604Z"
   },
   {
    "duration": 86,
    "start_time": "2023-09-05T19:19:05.875Z"
   },
   {
    "duration": 5,
    "start_time": "2023-09-05T19:19:35.774Z"
   },
   {
    "duration": 45,
    "start_time": "2023-09-05T19:21:06.819Z"
   },
   {
    "duration": 19,
    "start_time": "2023-09-05T19:22:14.708Z"
   },
   {
    "duration": 6,
    "start_time": "2023-09-05T19:22:43.180Z"
   },
   {
    "duration": 34,
    "start_time": "2023-09-05T19:22:48.819Z"
   },
   {
    "duration": 39,
    "start_time": "2023-09-05T19:23:26.916Z"
   },
   {
    "duration": 12167,
    "start_time": "2023-09-05T19:24:21.878Z"
   },
   {
    "duration": 5,
    "start_time": "2023-09-05T19:24:48.909Z"
   },
   {
    "duration": 21990,
    "start_time": "2023-09-05T19:24:58.600Z"
   },
   {
    "duration": 6,
    "start_time": "2023-09-05T19:25:23.958Z"
   },
   {
    "duration": 8,
    "start_time": "2023-09-05T19:25:29.699Z"
   },
   {
    "duration": 27448,
    "start_time": "2023-09-05T19:25:49.514Z"
   },
   {
    "duration": 4,
    "start_time": "2023-09-05T19:26:32.129Z"
   },
   {
    "duration": 5,
    "start_time": "2023-09-05T19:26:37.560Z"
   },
   {
    "duration": 79,
    "start_time": "2023-09-05T19:28:34.678Z"
   },
   {
    "duration": 179,
    "start_time": "2023-09-05T19:28:41.277Z"
   },
   {
    "duration": 26,
    "start_time": "2023-09-05T19:29:06.640Z"
   },
   {
    "duration": 46,
    "start_time": "2023-09-06T05:33:25.861Z"
   },
   {
    "duration": 7,
    "start_time": "2023-09-06T05:33:31.731Z"
   },
   {
    "duration": 1543,
    "start_time": "2023-09-06T05:33:52.078Z"
   },
   {
    "duration": 117,
    "start_time": "2023-09-06T05:33:53.623Z"
   },
   {
    "duration": 11,
    "start_time": "2023-09-06T05:33:53.741Z"
   },
   {
    "duration": 45,
    "start_time": "2023-09-06T05:33:53.753Z"
   },
   {
    "duration": 37,
    "start_time": "2023-09-06T05:33:53.799Z"
   },
   {
    "duration": 28,
    "start_time": "2023-09-06T05:33:53.837Z"
   },
   {
    "duration": 19,
    "start_time": "2023-09-06T05:33:53.867Z"
   },
   {
    "duration": 215,
    "start_time": "2023-09-06T05:33:53.887Z"
   },
   {
    "duration": 351,
    "start_time": "2023-09-06T05:33:54.103Z"
   },
   {
    "duration": 9,
    "start_time": "2023-09-06T05:34:16.863Z"
   },
   {
    "duration": 373,
    "start_time": "2023-09-06T05:34:20.896Z"
   },
   {
    "duration": 6,
    "start_time": "2023-09-06T05:35:51.542Z"
   },
   {
    "duration": 297,
    "start_time": "2023-09-06T05:35:56.368Z"
   },
   {
    "duration": 245,
    "start_time": "2023-09-06T05:36:08.573Z"
   },
   {
    "duration": 302,
    "start_time": "2023-09-06T05:44:40.337Z"
   },
   {
    "duration": 295,
    "start_time": "2023-09-06T05:44:57.426Z"
   },
   {
    "duration": 129,
    "start_time": "2023-09-06T06:11:09.672Z"
   },
   {
    "duration": 18,
    "start_time": "2023-09-06T06:11:46.919Z"
   },
   {
    "duration": 10,
    "start_time": "2023-09-06T06:12:25.734Z"
   },
   {
    "duration": 25,
    "start_time": "2023-09-06T06:12:26.452Z"
   },
   {
    "duration": 836,
    "start_time": "2023-09-06T06:12:54.683Z"
   },
   {
    "duration": 1563,
    "start_time": "2023-09-06T06:13:14.485Z"
   },
   {
    "duration": 56,
    "start_time": "2023-09-06T06:13:16.051Z"
   },
   {
    "duration": 13,
    "start_time": "2023-09-06T06:13:16.110Z"
   },
   {
    "duration": 123,
    "start_time": "2023-09-06T06:13:16.131Z"
   },
   {
    "duration": 211,
    "start_time": "2023-09-06T06:13:16.256Z"
   },
   {
    "duration": 118,
    "start_time": "2023-09-06T06:13:16.468Z"
   },
   {
    "duration": 256,
    "start_time": "2023-09-06T06:13:16.587Z"
   },
   {
    "duration": 325,
    "start_time": "2023-09-06T06:13:16.845Z"
   },
   {
    "duration": 293,
    "start_time": "2023-09-06T06:13:17.172Z"
   },
   {
    "duration": 423,
    "start_time": "2023-09-06T06:13:17.467Z"
   },
   {
    "duration": 715,
    "start_time": "2023-09-06T06:13:21.440Z"
   },
   {
    "duration": 566,
    "start_time": "2023-09-06T06:14:10.606Z"
   },
   {
    "duration": 821,
    "start_time": "2023-09-06T06:14:18.327Z"
   },
   {
    "duration": 727,
    "start_time": "2023-09-06T06:14:29.333Z"
   },
   {
    "duration": 720,
    "start_time": "2023-09-06T06:14:35.027Z"
   },
   {
    "duration": 811,
    "start_time": "2023-09-06T06:14:50.749Z"
   },
   {
    "duration": 663,
    "start_time": "2023-09-06T06:15:38.168Z"
   },
   {
    "duration": 746,
    "start_time": "2023-09-06T06:15:42.655Z"
   },
   {
    "duration": 805,
    "start_time": "2023-09-06T06:15:49.021Z"
   },
   {
    "duration": 623,
    "start_time": "2023-09-06T06:16:35.361Z"
   },
   {
    "duration": 784,
    "start_time": "2023-09-06T06:16:44.187Z"
   },
   {
    "duration": 684,
    "start_time": "2023-09-06T06:17:32.562Z"
   },
   {
    "duration": 724,
    "start_time": "2023-09-06T06:17:44.640Z"
   },
   {
    "duration": 804,
    "start_time": "2023-09-06T06:17:52.958Z"
   },
   {
    "duration": 674,
    "start_time": "2023-09-06T06:18:10.019Z"
   },
   {
    "duration": 620,
    "start_time": "2023-09-06T06:18:16.194Z"
   },
   {
    "duration": 680,
    "start_time": "2023-09-06T06:18:25.862Z"
   },
   {
    "duration": 724,
    "start_time": "2023-09-06T06:18:41.379Z"
   },
   {
    "duration": 649,
    "start_time": "2023-09-06T06:19:05.139Z"
   },
   {
    "duration": 750,
    "start_time": "2023-09-06T06:19:15.606Z"
   },
   {
    "duration": 772,
    "start_time": "2023-09-06T06:19:22.586Z"
   },
   {
    "duration": 703,
    "start_time": "2023-09-06T06:19:30.143Z"
   },
   {
    "duration": 664,
    "start_time": "2023-09-06T06:20:06.613Z"
   },
   {
    "duration": 665,
    "start_time": "2023-09-06T06:20:44.178Z"
   },
   {
    "duration": 187,
    "start_time": "2023-09-06T06:21:00.001Z"
   },
   {
    "duration": 391,
    "start_time": "2023-09-06T06:21:02.994Z"
   },
   {
    "duration": 686,
    "start_time": "2023-09-06T06:36:27.200Z"
   },
   {
    "duration": 683,
    "start_time": "2023-09-06T06:36:34.858Z"
   },
   {
    "duration": 719,
    "start_time": "2023-09-06T06:38:40.758Z"
   },
   {
    "duration": 888,
    "start_time": "2023-09-06T06:39:36.496Z"
   },
   {
    "duration": 425,
    "start_time": "2023-09-06T07:21:53.265Z"
   },
   {
    "duration": 503,
    "start_time": "2023-09-06T07:22:02.188Z"
   },
   {
    "duration": 457,
    "start_time": "2023-09-06T07:22:07.582Z"
   },
   {
    "duration": 570,
    "start_time": "2023-09-06T07:24:23.273Z"
   },
   {
    "duration": 397,
    "start_time": "2023-09-06T07:24:45.059Z"
   },
   {
    "duration": 394,
    "start_time": "2023-09-06T07:24:53.577Z"
   },
   {
    "duration": 369,
    "start_time": "2023-09-06T07:29:17.963Z"
   },
   {
    "duration": 511,
    "start_time": "2023-09-06T07:29:23.402Z"
   },
   {
    "duration": 426,
    "start_time": "2023-09-06T07:29:28.105Z"
   },
   {
    "duration": 368,
    "start_time": "2023-09-06T07:29:33.953Z"
   },
   {
    "duration": 5,
    "start_time": "2023-09-06T07:37:32.258Z"
   },
   {
    "duration": 5,
    "start_time": "2023-09-06T07:37:48.351Z"
   },
   {
    "duration": 212,
    "start_time": "2023-09-06T07:37:51.580Z"
   },
   {
    "duration": 23,
    "start_time": "2023-09-06T08:30:47.486Z"
   },
   {
    "duration": 922,
    "start_time": "2023-09-06T08:31:10.245Z"
   },
   {
    "duration": 1840,
    "start_time": "2023-09-06T08:31:39.168Z"
   },
   {
    "duration": 83,
    "start_time": "2023-09-06T08:31:41.010Z"
   },
   {
    "duration": 9,
    "start_time": "2023-09-06T08:31:41.095Z"
   },
   {
    "duration": 42,
    "start_time": "2023-09-06T08:31:41.106Z"
   },
   {
    "duration": 32,
    "start_time": "2023-09-06T08:31:41.158Z"
   },
   {
    "duration": 4,
    "start_time": "2023-09-06T08:31:41.191Z"
   },
   {
    "duration": 19,
    "start_time": "2023-09-06T08:31:41.197Z"
   },
   {
    "duration": 342,
    "start_time": "2023-09-06T08:31:41.217Z"
   },
   {
    "duration": 328,
    "start_time": "2023-09-06T08:31:41.561Z"
   },
   {
    "duration": 476,
    "start_time": "2023-09-06T08:31:41.891Z"
   },
   {
    "duration": 771,
    "start_time": "2023-09-06T08:31:42.369Z"
   },
   {
    "duration": 417,
    "start_time": "2023-09-06T08:31:43.141Z"
   },
   {
    "duration": 28,
    "start_time": "2023-09-06T08:31:43.566Z"
   },
   {
    "duration": 18,
    "start_time": "2023-09-06T08:32:08.488Z"
   },
   {
    "duration": 7,
    "start_time": "2023-09-06T08:33:00.203Z"
   },
   {
    "duration": 14,
    "start_time": "2023-09-06T08:33:14.969Z"
   },
   {
    "duration": 26,
    "start_time": "2023-09-06T08:43:28.931Z"
   },
   {
    "duration": 36,
    "start_time": "2023-09-06T08:46:40.681Z"
   },
   {
    "duration": 141,
    "start_time": "2023-09-06T08:46:48.319Z"
   },
   {
    "duration": 156,
    "start_time": "2023-09-06T08:47:08.224Z"
   },
   {
    "duration": 34,
    "start_time": "2023-09-06T08:47:39.570Z"
   },
   {
    "duration": 10,
    "start_time": "2023-09-06T08:49:35.499Z"
   },
   {
    "duration": 19,
    "start_time": "2023-09-06T08:49:44.848Z"
   },
   {
    "duration": 40258,
    "start_time": "2023-09-06T08:49:50.874Z"
   },
   {
    "duration": 43137,
    "start_time": "2023-09-06T08:52:33.557Z"
   },
   {
    "duration": 70,
    "start_time": "2023-09-06T08:57:07.648Z"
   },
   {
    "duration": 3,
    "start_time": "2023-09-06T09:00:09.500Z"
   },
   {
    "duration": 17,
    "start_time": "2023-09-06T09:07:09.569Z"
   },
   {
    "duration": 8,
    "start_time": "2023-09-06T09:07:26.358Z"
   },
   {
    "duration": 160598,
    "start_time": "2023-09-06T09:07:34.894Z"
   },
   {
    "duration": 0,
    "start_time": "2023-09-06T09:10:15.494Z"
   },
   {
    "duration": 1644,
    "start_time": "2023-09-06T09:54:24.613Z"
   },
   {
    "duration": 51,
    "start_time": "2023-09-06T09:54:26.259Z"
   },
   {
    "duration": 10,
    "start_time": "2023-09-06T09:54:26.312Z"
   },
   {
    "duration": 18,
    "start_time": "2023-09-06T09:54:26.324Z"
   },
   {
    "duration": 16,
    "start_time": "2023-09-06T09:54:26.343Z"
   },
   {
    "duration": 5,
    "start_time": "2023-09-06T09:54:26.361Z"
   },
   {
    "duration": 32,
    "start_time": "2023-09-06T09:54:26.368Z"
   },
   {
    "duration": 307,
    "start_time": "2023-09-06T09:54:26.402Z"
   },
   {
    "duration": 371,
    "start_time": "2023-09-06T09:54:26.711Z"
   },
   {
    "duration": 346,
    "start_time": "2023-09-06T09:54:27.085Z"
   },
   {
    "duration": 724,
    "start_time": "2023-09-06T09:54:27.435Z"
   },
   {
    "duration": 354,
    "start_time": "2023-09-06T09:54:28.160Z"
   },
   {
    "duration": 29,
    "start_time": "2023-09-06T09:54:28.516Z"
   },
   {
    "duration": 14,
    "start_time": "2023-09-06T09:54:28.547Z"
   },
   {
    "duration": 9,
    "start_time": "2023-09-06T09:54:28.563Z"
   },
   {
    "duration": 154,
    "start_time": "2023-09-06T09:54:28.574Z"
   },
   {
    "duration": 35873,
    "start_time": "2023-09-06T09:54:28.734Z"
   },
   {
    "duration": 0,
    "start_time": "2023-09-06T09:55:04.609Z"
   },
   {
    "duration": 35173,
    "start_time": "2023-09-06T09:55:28.377Z"
   },
   {
    "duration": 1704,
    "start_time": "2023-09-06T10:35:44.113Z"
   },
   {
    "duration": 84,
    "start_time": "2023-09-06T10:35:45.820Z"
   },
   {
    "duration": 27,
    "start_time": "2023-09-06T10:35:45.906Z"
   },
   {
    "duration": 13,
    "start_time": "2023-09-06T10:35:45.937Z"
   },
   {
    "duration": 31,
    "start_time": "2023-09-06T10:35:45.952Z"
   },
   {
    "duration": 8,
    "start_time": "2023-09-06T10:35:45.985Z"
   },
   {
    "duration": 28,
    "start_time": "2023-09-06T10:35:45.995Z"
   },
   {
    "duration": 457,
    "start_time": "2023-09-06T10:35:46.032Z"
   },
   {
    "duration": 419,
    "start_time": "2023-09-06T10:35:46.492Z"
   },
   {
    "duration": 396,
    "start_time": "2023-09-06T10:35:46.916Z"
   },
   {
    "duration": 795,
    "start_time": "2023-09-06T10:35:47.314Z"
   },
   {
    "duration": 424,
    "start_time": "2023-09-06T10:35:48.110Z"
   },
   {
    "duration": 32,
    "start_time": "2023-09-06T10:35:48.535Z"
   },
   {
    "duration": 104,
    "start_time": "2023-09-06T10:35:48.572Z"
   },
   {
    "duration": 108,
    "start_time": "2023-09-06T10:35:48.678Z"
   },
   {
    "duration": 184,
    "start_time": "2023-09-06T10:35:48.788Z"
   },
   {
    "duration": 39517,
    "start_time": "2023-09-06T10:35:48.974Z"
   },
   {
    "duration": 1708,
    "start_time": "2023-09-06T10:43:15.487Z"
   },
   {
    "duration": 52,
    "start_time": "2023-09-06T10:43:17.197Z"
   },
   {
    "duration": 15,
    "start_time": "2023-09-06T10:43:17.251Z"
   },
   {
    "duration": 96,
    "start_time": "2023-09-06T10:43:17.268Z"
   },
   {
    "duration": 34,
    "start_time": "2023-09-06T10:43:17.366Z"
   },
   {
    "duration": 49,
    "start_time": "2023-09-06T10:43:17.402Z"
   },
   {
    "duration": 41,
    "start_time": "2023-09-06T10:43:17.453Z"
   },
   {
    "duration": 298,
    "start_time": "2023-09-06T10:43:17.496Z"
   },
   {
    "duration": 383,
    "start_time": "2023-09-06T10:43:17.796Z"
   },
   {
    "duration": 360,
    "start_time": "2023-09-06T10:43:18.182Z"
   },
   {
    "duration": 756,
    "start_time": "2023-09-06T10:43:18.545Z"
   },
   {
    "duration": 393,
    "start_time": "2023-09-06T10:43:19.303Z"
   },
   {
    "duration": 42,
    "start_time": "2023-09-06T10:43:19.698Z"
   },
   {
    "duration": 14,
    "start_time": "2023-09-06T10:43:19.743Z"
   },
   {
    "duration": 42,
    "start_time": "2023-09-06T10:43:19.759Z"
   },
   {
    "duration": 79,
    "start_time": "2023-09-06T10:43:19.803Z"
   },
   {
    "duration": 36117,
    "start_time": "2023-09-06T10:43:19.884Z"
   },
   {
    "duration": 1473,
    "start_time": "2023-09-06T10:51:37.656Z"
   },
   {
    "duration": 51,
    "start_time": "2023-09-06T10:51:39.132Z"
   },
   {
    "duration": 11,
    "start_time": "2023-09-06T10:51:39.184Z"
   },
   {
    "duration": 58,
    "start_time": "2023-09-06T10:51:39.197Z"
   },
   {
    "duration": 83,
    "start_time": "2023-09-06T10:51:39.257Z"
   },
   {
    "duration": 50,
    "start_time": "2023-09-06T10:51:39.342Z"
   },
   {
    "duration": 38,
    "start_time": "2023-09-06T10:51:39.394Z"
   },
   {
    "duration": 280,
    "start_time": "2023-09-06T10:51:39.438Z"
   },
   {
    "duration": 376,
    "start_time": "2023-09-06T10:51:39.720Z"
   },
   {
    "duration": 349,
    "start_time": "2023-09-06T10:51:40.099Z"
   },
   {
    "duration": 709,
    "start_time": "2023-09-06T10:51:40.450Z"
   },
   {
    "duration": 354,
    "start_time": "2023-09-06T10:51:41.161Z"
   },
   {
    "duration": 34,
    "start_time": "2023-09-06T10:51:41.516Z"
   },
   {
    "duration": 207,
    "start_time": "2023-09-06T10:51:41.551Z"
   },
   {
    "duration": 19,
    "start_time": "2023-09-06T10:51:41.759Z"
   },
   {
    "duration": 61,
    "start_time": "2023-09-06T10:51:41.780Z"
   },
   {
    "duration": 34949,
    "start_time": "2023-09-06T10:51:41.843Z"
   },
   {
    "duration": 16006,
    "start_time": "2023-09-06T10:52:16.794Z"
   },
   {
    "duration": 15173,
    "start_time": "2023-09-06T10:54:08.036Z"
   },
   {
    "duration": 14511,
    "start_time": "2023-09-06T10:55:26.511Z"
   },
   {
    "duration": 3,
    "start_time": "2023-09-06T11:30:43.186Z"
   },
   {
    "duration": 66,
    "start_time": "2023-09-06T11:31:20.917Z"
   },
   {
    "duration": 64,
    "start_time": "2023-09-06T11:31:46.370Z"
   },
   {
    "duration": 218,
    "start_time": "2023-09-06T11:31:56.366Z"
   },
   {
    "duration": 35,
    "start_time": "2023-09-06T11:32:01.386Z"
   },
   {
    "duration": 49,
    "start_time": "2023-09-06T11:32:05.403Z"
   },
   {
    "duration": 32,
    "start_time": "2023-09-06T11:32:10.162Z"
   },
   {
    "duration": 104,
    "start_time": "2023-09-06T11:32:14.928Z"
   },
   {
    "duration": 103,
    "start_time": "2023-09-06T11:32:18.241Z"
   },
   {
    "duration": 44,
    "start_time": "2023-09-06T11:33:46.848Z"
   },
   {
    "duration": 106,
    "start_time": "2023-09-06T11:34:02.324Z"
   },
   {
    "duration": 54,
    "start_time": "2023-09-06T11:34:10.388Z"
   },
   {
    "duration": 34,
    "start_time": "2023-09-06T11:34:14.953Z"
   },
   {
    "duration": 31,
    "start_time": "2023-09-06T11:34:18.592Z"
   },
   {
    "duration": 55,
    "start_time": "2023-09-06T11:34:23.603Z"
   },
   {
    "duration": 46,
    "start_time": "2023-09-06T11:34:27.947Z"
   },
   {
    "duration": 33,
    "start_time": "2023-09-06T11:34:33.269Z"
   },
   {
    "duration": 11,
    "start_time": "2023-09-06T11:36:12.049Z"
   },
   {
    "duration": 128,
    "start_time": "2023-09-06T11:36:34.064Z"
   },
   {
    "duration": 17,
    "start_time": "2023-09-06T11:38:31.355Z"
   },
   {
    "duration": 15,
    "start_time": "2023-09-06T11:39:45.275Z"
   },
   {
    "duration": 293,
    "start_time": "2023-09-06T11:40:13.251Z"
   },
   {
    "duration": 297,
    "start_time": "2023-09-06T11:40:29.551Z"
   },
   {
    "duration": 262,
    "start_time": "2023-09-06T11:41:10.674Z"
   },
   {
    "duration": 19,
    "start_time": "2023-09-06T11:47:06.651Z"
   },
   {
    "duration": 17,
    "start_time": "2023-09-06T11:47:13.618Z"
   },
   {
    "duration": 253835,
    "start_time": "2023-09-06T11:47:33.977Z"
   },
   {
    "duration": 0,
    "start_time": "2023-09-06T11:51:47.813Z"
   },
   {
    "duration": 1691,
    "start_time": "2023-09-06T11:58:38.672Z"
   },
   {
    "duration": 53,
    "start_time": "2023-09-06T11:58:40.367Z"
   },
   {
    "duration": 20,
    "start_time": "2023-09-06T11:58:40.422Z"
   },
   {
    "duration": 31,
    "start_time": "2023-09-06T11:58:40.445Z"
   },
   {
    "duration": 27,
    "start_time": "2023-09-06T11:58:40.479Z"
   },
   {
    "duration": 5,
    "start_time": "2023-09-06T11:58:40.508Z"
   },
   {
    "duration": 23,
    "start_time": "2023-09-06T11:58:40.516Z"
   },
   {
    "duration": 340,
    "start_time": "2023-09-06T11:58:40.541Z"
   },
   {
    "duration": 397,
    "start_time": "2023-09-06T11:58:40.883Z"
   },
   {
    "duration": 384,
    "start_time": "2023-09-06T11:58:41.281Z"
   },
   {
    "duration": 731,
    "start_time": "2023-09-06T11:58:41.667Z"
   },
   {
    "duration": 406,
    "start_time": "2023-09-06T11:58:42.400Z"
   },
   {
    "duration": 41,
    "start_time": "2023-09-06T11:58:42.808Z"
   },
   {
    "duration": 23,
    "start_time": "2023-09-06T11:58:42.854Z"
   },
   {
    "duration": 10,
    "start_time": "2023-09-06T11:58:42.879Z"
   },
   {
    "duration": 342,
    "start_time": "2023-09-06T11:58:42.891Z"
   },
   {
    "duration": 38161,
    "start_time": "2023-09-06T11:58:43.234Z"
   },
   {
    "duration": 17357,
    "start_time": "2023-09-06T11:59:21.397Z"
   },
   {
    "duration": 1895,
    "start_time": "2023-09-06T12:00:14.845Z"
   },
   {
    "duration": 56,
    "start_time": "2023-09-06T12:00:16.742Z"
   },
   {
    "duration": 9,
    "start_time": "2023-09-06T12:00:16.799Z"
   },
   {
    "duration": 23,
    "start_time": "2023-09-06T12:00:16.810Z"
   },
   {
    "duration": 25,
    "start_time": "2023-09-06T12:00:16.837Z"
   },
   {
    "duration": 25,
    "start_time": "2023-09-06T12:00:16.863Z"
   },
   {
    "duration": 37,
    "start_time": "2023-09-06T12:00:16.890Z"
   },
   {
    "duration": 334,
    "start_time": "2023-09-06T12:00:16.931Z"
   },
   {
    "duration": 394,
    "start_time": "2023-09-06T12:00:17.267Z"
   },
   {
    "duration": 343,
    "start_time": "2023-09-06T12:00:17.665Z"
   },
   {
    "duration": 769,
    "start_time": "2023-09-06T12:00:18.010Z"
   },
   {
    "duration": 436,
    "start_time": "2023-09-06T12:00:18.781Z"
   },
   {
    "duration": 40,
    "start_time": "2023-09-06T12:00:19.232Z"
   },
   {
    "duration": 117,
    "start_time": "2023-09-06T12:00:19.276Z"
   },
   {
    "duration": 15,
    "start_time": "2023-09-06T12:00:19.395Z"
   },
   {
    "duration": 336,
    "start_time": "2023-09-06T12:00:19.412Z"
   },
   {
    "duration": 3326,
    "start_time": "2023-09-06T12:00:46.754Z"
   },
   {
    "duration": 58,
    "start_time": "2023-09-06T12:00:50.082Z"
   },
   {
    "duration": 17,
    "start_time": "2023-09-06T12:00:50.141Z"
   },
   {
    "duration": 61,
    "start_time": "2023-09-06T12:00:50.160Z"
   },
   {
    "duration": 46,
    "start_time": "2023-09-06T12:00:50.224Z"
   },
   {
    "duration": 38,
    "start_time": "2023-09-06T12:00:50.272Z"
   },
   {
    "duration": 122,
    "start_time": "2023-09-06T12:00:50.311Z"
   },
   {
    "duration": 516,
    "start_time": "2023-09-06T12:00:50.435Z"
   },
   {
    "duration": 386,
    "start_time": "2023-09-06T12:00:50.953Z"
   },
   {
    "duration": 361,
    "start_time": "2023-09-06T12:00:51.341Z"
   },
   {
    "duration": 777,
    "start_time": "2023-09-06T12:00:51.704Z"
   },
   {
    "duration": 432,
    "start_time": "2023-09-06T12:00:52.483Z"
   },
   {
    "duration": 64,
    "start_time": "2023-09-06T12:00:52.916Z"
   },
   {
    "duration": 15,
    "start_time": "2023-09-06T12:00:52.984Z"
   },
   {
    "duration": 8,
    "start_time": "2023-09-06T12:00:53.001Z"
   },
   {
    "duration": 360,
    "start_time": "2023-09-06T12:00:53.011Z"
   },
   {
    "duration": 38493,
    "start_time": "2023-09-06T12:00:53.423Z"
   },
   {
    "duration": 18240,
    "start_time": "2023-09-06T12:01:31.932Z"
   },
   {
    "duration": 307175,
    "start_time": "2023-09-06T12:01:50.174Z"
   },
   {
    "duration": 1592,
    "start_time": "2023-09-06T12:12:03.643Z"
   },
   {
    "duration": 60,
    "start_time": "2023-09-06T12:12:05.238Z"
   },
   {
    "duration": 11,
    "start_time": "2023-09-06T12:12:05.300Z"
   },
   {
    "duration": 18,
    "start_time": "2023-09-06T12:12:05.312Z"
   },
   {
    "duration": 25,
    "start_time": "2023-09-06T12:12:05.341Z"
   },
   {
    "duration": 4,
    "start_time": "2023-09-06T12:12:05.369Z"
   },
   {
    "duration": 12,
    "start_time": "2023-09-06T12:12:05.375Z"
   },
   {
    "duration": 342,
    "start_time": "2023-09-06T12:12:05.389Z"
   },
   {
    "duration": 443,
    "start_time": "2023-09-06T12:12:05.737Z"
   },
   {
    "duration": 388,
    "start_time": "2023-09-06T12:12:06.182Z"
   },
   {
    "duration": 751,
    "start_time": "2023-09-06T12:12:06.573Z"
   },
   {
    "duration": 393,
    "start_time": "2023-09-06T12:12:07.336Z"
   },
   {
    "duration": 40,
    "start_time": "2023-09-06T12:12:07.739Z"
   },
   {
    "duration": 80,
    "start_time": "2023-09-06T12:12:07.783Z"
   },
   {
    "duration": 27,
    "start_time": "2023-09-06T12:12:07.865Z"
   },
   {
    "duration": 377,
    "start_time": "2023-09-06T12:12:07.894Z"
   },
   {
    "duration": 36907,
    "start_time": "2023-09-06T12:12:08.277Z"
   },
   {
    "duration": 356292,
    "start_time": "2023-09-06T12:12:45.185Z"
   },
   {
    "duration": 69239,
    "start_time": "2023-09-06T12:22:14.035Z"
   },
   {
    "duration": 280833,
    "start_time": "2023-09-06T12:26:01.937Z"
   },
   {
    "duration": 3,
    "start_time": "2023-09-06T12:36:02.139Z"
   },
   {
    "duration": 271,
    "start_time": "2023-09-06T12:36:36.404Z"
   },
   {
    "duration": 7,
    "start_time": "2023-09-06T12:36:43.451Z"
   },
   {
    "duration": 1983,
    "start_time": "2023-09-06T12:37:58.956Z"
   },
   {
    "duration": 84,
    "start_time": "2023-09-06T12:38:00.943Z"
   },
   {
    "duration": 29,
    "start_time": "2023-09-06T12:38:01.030Z"
   },
   {
    "duration": 32,
    "start_time": "2023-09-06T12:38:01.067Z"
   },
   {
    "duration": 48,
    "start_time": "2023-09-06T12:38:01.102Z"
   },
   {
    "duration": 13,
    "start_time": "2023-09-06T12:38:01.156Z"
   },
   {
    "duration": 35,
    "start_time": "2023-09-06T12:38:01.171Z"
   },
   {
    "duration": 408,
    "start_time": "2023-09-06T12:38:01.208Z"
   },
   {
    "duration": 562,
    "start_time": "2023-09-06T12:38:01.624Z"
   },
   {
    "duration": 541,
    "start_time": "2023-09-06T12:38:02.189Z"
   },
   {
    "duration": 1069,
    "start_time": "2023-09-06T12:38:02.733Z"
   },
   {
    "duration": 72,
    "start_time": "2023-09-06T12:38:03.806Z"
   },
   {
    "duration": 22,
    "start_time": "2023-09-06T12:38:03.881Z"
   },
   {
    "duration": 20,
    "start_time": "2023-09-06T12:38:03.928Z"
   },
   {
    "duration": 410,
    "start_time": "2023-09-06T12:38:03.951Z"
   },
   {
    "duration": 9,
    "start_time": "2023-09-06T12:38:10.801Z"
   },
   {
    "duration": 5,
    "start_time": "2023-09-06T12:39:34.933Z"
   },
   {
    "duration": 59,
    "start_time": "2023-09-06T12:39:34.940Z"
   },
   {
    "duration": 8,
    "start_time": "2023-09-06T12:39:35.000Z"
   },
   {
    "duration": 72,
    "start_time": "2023-09-06T12:39:35.010Z"
   },
   {
    "duration": 249,
    "start_time": "2023-09-06T12:39:35.084Z"
   },
   {
    "duration": 106,
    "start_time": "2023-09-06T12:39:35.335Z"
   },
   {
    "duration": 30,
    "start_time": "2023-09-06T12:39:35.443Z"
   },
   {
    "duration": 341,
    "start_time": "2023-09-06T12:39:35.476Z"
   },
   {
    "duration": 380,
    "start_time": "2023-09-06T12:39:35.819Z"
   },
   {
    "duration": 435,
    "start_time": "2023-09-06T12:39:36.202Z"
   },
   {
    "duration": 717,
    "start_time": "2023-09-06T12:39:36.641Z"
   },
   {
    "duration": 382,
    "start_time": "2023-09-06T12:39:37.360Z"
   },
   {
    "duration": 5,
    "start_time": "2023-09-06T12:39:37.743Z"
   },
   {
    "duration": 42,
    "start_time": "2023-09-06T12:39:37.750Z"
   },
   {
    "duration": 26,
    "start_time": "2023-09-06T12:39:37.794Z"
   },
   {
    "duration": 21,
    "start_time": "2023-09-06T12:39:37.822Z"
   },
   {
    "duration": 381,
    "start_time": "2023-09-06T12:39:37.845Z"
   },
   {
    "duration": 7,
    "start_time": "2023-09-06T12:39:48.749Z"
   },
   {
    "duration": 4,
    "start_time": "2023-09-06T12:40:22.471Z"
   },
   {
    "duration": 68,
    "start_time": "2023-09-06T12:40:22.477Z"
   },
   {
    "duration": 8,
    "start_time": "2023-09-06T12:40:22.547Z"
   },
   {
    "duration": 18,
    "start_time": "2023-09-06T12:40:22.557Z"
   },
   {
    "duration": 19,
    "start_time": "2023-09-06T12:40:22.577Z"
   },
   {
    "duration": 4,
    "start_time": "2023-09-06T12:40:22.598Z"
   },
   {
    "duration": 29,
    "start_time": "2023-09-06T12:40:22.603Z"
   },
   {
    "duration": 267,
    "start_time": "2023-09-06T12:40:22.633Z"
   },
   {
    "duration": 312,
    "start_time": "2023-09-06T12:40:22.902Z"
   },
   {
    "duration": 427,
    "start_time": "2023-09-06T12:40:23.216Z"
   },
   {
    "duration": 702,
    "start_time": "2023-09-06T12:40:23.644Z"
   },
   {
    "duration": 343,
    "start_time": "2023-09-06T12:40:24.349Z"
   },
   {
    "duration": 37,
    "start_time": "2023-09-06T12:40:24.693Z"
   },
   {
    "duration": 17,
    "start_time": "2023-09-06T12:40:24.733Z"
   },
   {
    "duration": 7,
    "start_time": "2023-09-06T12:40:24.751Z"
   },
   {
    "duration": 395,
    "start_time": "2023-09-06T12:40:24.760Z"
   },
   {
    "duration": 6,
    "start_time": "2023-09-06T12:40:29.914Z"
   },
   {
    "duration": 145,
    "start_time": "2023-09-06T12:41:05.760Z"
   },
   {
    "duration": 36727,
    "start_time": "2023-09-06T12:41:12.812Z"
   },
   {
    "duration": 29,
    "start_time": "2023-09-06T12:42:03.018Z"
   },
   {
    "duration": 3,
    "start_time": "2023-09-06T12:44:13.651Z"
   },
   {
    "duration": 52,
    "start_time": "2023-09-06T12:44:13.656Z"
   },
   {
    "duration": 7,
    "start_time": "2023-09-06T12:44:13.709Z"
   },
   {
    "duration": 16,
    "start_time": "2023-09-06T12:44:13.718Z"
   },
   {
    "duration": 28,
    "start_time": "2023-09-06T12:44:13.736Z"
   },
   {
    "duration": 6,
    "start_time": "2023-09-06T12:44:13.766Z"
   },
   {
    "duration": 12,
    "start_time": "2023-09-06T12:44:13.774Z"
   },
   {
    "duration": 351,
    "start_time": "2023-09-06T12:44:13.788Z"
   },
   {
    "duration": 271,
    "start_time": "2023-09-06T12:44:14.141Z"
   },
   {
    "duration": 324,
    "start_time": "2023-09-06T12:44:14.413Z"
   },
   {
    "duration": 711,
    "start_time": "2023-09-06T12:44:14.739Z"
   },
   {
    "duration": 532,
    "start_time": "2023-09-06T12:44:15.452Z"
   },
   {
    "duration": 26,
    "start_time": "2023-09-06T12:44:15.986Z"
   },
   {
    "duration": 25,
    "start_time": "2023-09-06T12:44:16.023Z"
   },
   {
    "duration": 8,
    "start_time": "2023-09-06T12:44:16.050Z"
   },
   {
    "duration": 391,
    "start_time": "2023-09-06T12:44:16.059Z"
   },
   {
    "duration": 9,
    "start_time": "2023-09-06T12:44:26.204Z"
   },
   {
    "duration": 1781,
    "start_time": "2023-09-06T12:45:00.710Z"
   },
   {
    "duration": 58,
    "start_time": "2023-09-06T12:45:02.494Z"
   },
   {
    "duration": 13,
    "start_time": "2023-09-06T12:45:02.554Z"
   },
   {
    "duration": 16,
    "start_time": "2023-09-06T12:45:02.569Z"
   },
   {
    "duration": 17,
    "start_time": "2023-09-06T12:45:02.587Z"
   },
   {
    "duration": 11,
    "start_time": "2023-09-06T12:45:02.626Z"
   },
   {
    "duration": 16,
    "start_time": "2023-09-06T12:45:02.638Z"
   },
   {
    "duration": 298,
    "start_time": "2023-09-06T12:45:02.656Z"
   },
   {
    "duration": 385,
    "start_time": "2023-09-06T12:45:02.956Z"
   },
   {
    "duration": 348,
    "start_time": "2023-09-06T12:45:03.344Z"
   },
   {
    "duration": 736,
    "start_time": "2023-09-06T12:45:03.694Z"
   },
   {
    "duration": 357,
    "start_time": "2023-09-06T12:45:04.431Z"
   },
   {
    "duration": 36,
    "start_time": "2023-09-06T12:45:04.791Z"
   },
   {
    "duration": 17,
    "start_time": "2023-09-06T12:45:04.829Z"
   },
   {
    "duration": 9,
    "start_time": "2023-09-06T12:45:04.848Z"
   },
   {
    "duration": 389,
    "start_time": "2023-09-06T12:45:04.859Z"
   },
   {
    "duration": 7,
    "start_time": "2023-09-06T12:45:17.803Z"
   },
   {
    "duration": 1586,
    "start_time": "2023-09-06T12:45:59.186Z"
   },
   {
    "duration": 70,
    "start_time": "2023-09-06T12:46:00.774Z"
   },
   {
    "duration": 12,
    "start_time": "2023-09-06T12:46:00.846Z"
   },
   {
    "duration": 81,
    "start_time": "2023-09-06T12:46:00.860Z"
   },
   {
    "duration": 54,
    "start_time": "2023-09-06T12:46:00.947Z"
   },
   {
    "duration": 40,
    "start_time": "2023-09-06T12:46:01.003Z"
   },
   {
    "duration": 31,
    "start_time": "2023-09-06T12:46:01.045Z"
   },
   {
    "duration": 381,
    "start_time": "2023-09-06T12:46:01.078Z"
   },
   {
    "duration": 385,
    "start_time": "2023-09-06T12:46:01.461Z"
   },
   {
    "duration": 386,
    "start_time": "2023-09-06T12:46:01.849Z"
   },
   {
    "duration": 761,
    "start_time": "2023-09-06T12:46:02.240Z"
   },
   {
    "duration": 373,
    "start_time": "2023-09-06T12:46:03.003Z"
   },
   {
    "duration": 19,
    "start_time": "2023-09-06T12:46:03.379Z"
   },
   {
    "duration": 58,
    "start_time": "2023-09-06T12:46:03.400Z"
   },
   {
    "duration": 81,
    "start_time": "2023-09-06T12:46:03.460Z"
   },
   {
    "duration": 204,
    "start_time": "2023-09-06T12:46:03.544Z"
   },
   {
    "duration": 9,
    "start_time": "2023-09-06T12:46:16.598Z"
   },
   {
    "duration": 1584,
    "start_time": "2023-09-06T12:47:55.781Z"
   },
   {
    "duration": 49,
    "start_time": "2023-09-06T12:47:57.367Z"
   },
   {
    "duration": 24,
    "start_time": "2023-09-06T12:47:57.418Z"
   },
   {
    "duration": 19,
    "start_time": "2023-09-06T12:47:57.444Z"
   },
   {
    "duration": 22,
    "start_time": "2023-09-06T12:47:57.465Z"
   },
   {
    "duration": 4,
    "start_time": "2023-09-06T12:47:57.489Z"
   },
   {
    "duration": 11,
    "start_time": "2023-09-06T12:47:57.495Z"
   },
   {
    "duration": 282,
    "start_time": "2023-09-06T12:47:57.508Z"
   },
   {
    "duration": 377,
    "start_time": "2023-09-06T12:47:57.792Z"
   },
   {
    "duration": 329,
    "start_time": "2023-09-06T12:47:58.171Z"
   },
   {
    "duration": 716,
    "start_time": "2023-09-06T12:47:58.502Z"
   },
   {
    "duration": 384,
    "start_time": "2023-09-06T12:47:59.220Z"
   },
   {
    "duration": 39,
    "start_time": "2023-09-06T12:47:59.606Z"
   },
   {
    "duration": 15,
    "start_time": "2023-09-06T12:47:59.646Z"
   },
   {
    "duration": 7,
    "start_time": "2023-09-06T12:47:59.663Z"
   },
   {
    "duration": 191,
    "start_time": "2023-09-06T12:47:59.671Z"
   },
   {
    "duration": 6,
    "start_time": "2023-09-06T12:48:05.657Z"
   },
   {
    "duration": 1521,
    "start_time": "2023-09-06T12:48:51.366Z"
   },
   {
    "duration": 64,
    "start_time": "2023-09-06T12:48:52.889Z"
   },
   {
    "duration": 11,
    "start_time": "2023-09-06T12:48:52.955Z"
   },
   {
    "duration": 10,
    "start_time": "2023-09-06T12:48:52.968Z"
   },
   {
    "duration": 17,
    "start_time": "2023-09-06T12:48:52.980Z"
   },
   {
    "duration": 31,
    "start_time": "2023-09-06T12:48:52.999Z"
   },
   {
    "duration": 19,
    "start_time": "2023-09-06T12:48:53.032Z"
   },
   {
    "duration": 288,
    "start_time": "2023-09-06T12:48:53.054Z"
   },
   {
    "duration": 398,
    "start_time": "2023-09-06T12:48:53.343Z"
   },
   {
    "duration": 332,
    "start_time": "2023-09-06T12:48:53.744Z"
   },
   {
    "duration": 703,
    "start_time": "2023-09-06T12:48:54.077Z"
   },
   {
    "duration": 357,
    "start_time": "2023-09-06T12:48:54.781Z"
   },
   {
    "duration": 28,
    "start_time": "2023-09-06T12:48:55.140Z"
   },
   {
    "duration": 13,
    "start_time": "2023-09-06T12:48:55.170Z"
   },
   {
    "duration": 7,
    "start_time": "2023-09-06T12:48:55.185Z"
   },
   {
    "duration": 366,
    "start_time": "2023-09-06T12:48:55.193Z"
   },
   {
    "duration": 7,
    "start_time": "2023-09-06T12:49:02.111Z"
   },
   {
    "duration": 1573,
    "start_time": "2023-09-06T12:52:18.173Z"
   },
   {
    "duration": 49,
    "start_time": "2023-09-06T12:52:19.749Z"
   },
   {
    "duration": 10,
    "start_time": "2023-09-06T12:52:19.800Z"
   },
   {
    "duration": 26,
    "start_time": "2023-09-06T12:52:19.812Z"
   },
   {
    "duration": 19,
    "start_time": "2023-09-06T12:52:19.843Z"
   },
   {
    "duration": 4,
    "start_time": "2023-09-06T12:52:19.863Z"
   },
   {
    "duration": 24,
    "start_time": "2023-09-06T12:52:19.869Z"
   },
   {
    "duration": 307,
    "start_time": "2023-09-06T12:52:19.895Z"
   },
   {
    "duration": 399,
    "start_time": "2023-09-06T12:52:20.204Z"
   },
   {
    "duration": 355,
    "start_time": "2023-09-06T12:52:20.606Z"
   },
   {
    "duration": 715,
    "start_time": "2023-09-06T12:52:20.963Z"
   },
   {
    "duration": 370,
    "start_time": "2023-09-06T12:52:21.679Z"
   },
   {
    "duration": 34,
    "start_time": "2023-09-06T12:52:22.051Z"
   },
   {
    "duration": 202,
    "start_time": "2023-09-06T12:52:22.087Z"
   },
   {
    "duration": 62,
    "start_time": "2023-09-06T12:52:22.291Z"
   },
   {
    "duration": 1492,
    "start_time": "2023-09-06T12:52:22.355Z"
   },
   {
    "duration": 54209,
    "start_time": "2023-09-06T12:52:23.849Z"
   },
   {
    "duration": 7,
    "start_time": "2023-09-06T12:53:33.046Z"
   },
   {
    "duration": 129,
    "start_time": "2023-09-06T12:53:38.781Z"
   },
   {
    "duration": 22,
    "start_time": "2023-09-06T12:53:47.967Z"
   },
   {
    "duration": 1607,
    "start_time": "2023-09-06T12:56:30.097Z"
   },
   {
    "duration": 65,
    "start_time": "2023-09-06T12:56:31.706Z"
   },
   {
    "duration": 40,
    "start_time": "2023-09-06T12:56:31.773Z"
   },
   {
    "duration": 84,
    "start_time": "2023-09-06T12:56:31.815Z"
   },
   {
    "duration": 63,
    "start_time": "2023-09-06T12:56:31.901Z"
   },
   {
    "duration": 190,
    "start_time": "2023-09-06T12:56:31.965Z"
   },
   {
    "duration": 263,
    "start_time": "2023-09-06T12:56:32.156Z"
   },
   {
    "duration": 312,
    "start_time": "2023-09-06T12:56:32.422Z"
   },
   {
    "duration": 422,
    "start_time": "2023-09-06T12:56:32.736Z"
   },
   {
    "duration": 345,
    "start_time": "2023-09-06T12:56:33.160Z"
   },
   {
    "duration": 753,
    "start_time": "2023-09-06T12:56:33.507Z"
   },
   {
    "duration": 351,
    "start_time": "2023-09-06T12:56:34.261Z"
   },
   {
    "duration": 49,
    "start_time": "2023-09-06T12:56:34.613Z"
   },
   {
    "duration": 15,
    "start_time": "2023-09-06T12:56:34.664Z"
   },
   {
    "duration": 16,
    "start_time": "2023-09-06T12:56:34.680Z"
   },
   {
    "duration": 1861,
    "start_time": "2023-09-06T12:56:34.698Z"
   },
   {
    "duration": 54247,
    "start_time": "2023-09-06T12:56:36.624Z"
   },
   {
    "duration": 406620,
    "start_time": "2023-09-06T12:57:30.873Z"
   },
   {
    "duration": 1507,
    "start_time": "2023-09-06T13:05:42.396Z"
   },
   {
    "duration": 59,
    "start_time": "2023-09-06T13:05:43.905Z"
   },
   {
    "duration": 10,
    "start_time": "2023-09-06T13:05:43.965Z"
   },
   {
    "duration": 83,
    "start_time": "2023-09-06T13:05:43.977Z"
   },
   {
    "duration": 104,
    "start_time": "2023-09-06T13:05:44.062Z"
   },
   {
    "duration": 90,
    "start_time": "2023-09-06T13:05:44.168Z"
   },
   {
    "duration": 37,
    "start_time": "2023-09-06T13:05:44.259Z"
   },
   {
    "duration": 306,
    "start_time": "2023-09-06T13:05:44.298Z"
   },
   {
    "duration": 391,
    "start_time": "2023-09-06T13:05:44.606Z"
   },
   {
    "duration": 346,
    "start_time": "2023-09-06T13:05:45.001Z"
   },
   {
    "duration": 798,
    "start_time": "2023-09-06T13:05:45.349Z"
   },
   {
    "duration": 394,
    "start_time": "2023-09-06T13:05:46.150Z"
   },
   {
    "duration": 37,
    "start_time": "2023-09-06T13:05:46.545Z"
   },
   {
    "duration": 14,
    "start_time": "2023-09-06T13:05:46.583Z"
   },
   {
    "duration": 16,
    "start_time": "2023-09-06T13:05:46.599Z"
   },
   {
    "duration": 1821,
    "start_time": "2023-09-06T13:05:46.616Z"
   },
   {
    "duration": 71131,
    "start_time": "2023-09-06T13:05:48.443Z"
   },
   {
    "duration": 379998,
    "start_time": "2023-09-06T13:06:59.576Z"
   },
   {
    "duration": 33,
    "start_time": "2023-09-06T13:13:19.576Z"
   },
   {
    "duration": 27,
    "start_time": "2023-09-06T13:13:32.293Z"
   },
   {
    "duration": 8,
    "start_time": "2023-09-06T13:13:41.680Z"
   },
   {
    "duration": 27,
    "start_time": "2023-09-06T13:13:45.658Z"
   },
   {
    "duration": 31,
    "start_time": "2023-09-06T13:16:30.956Z"
   },
   {
    "duration": 138,
    "start_time": "2023-09-06T13:18:32.593Z"
   },
   {
    "duration": 3557,
    "start_time": "2023-09-06T14:36:16.543Z"
   },
   {
    "duration": 47,
    "start_time": "2023-09-06T14:36:20.102Z"
   },
   {
    "duration": 10,
    "start_time": "2023-09-06T14:36:20.151Z"
   },
   {
    "duration": 38,
    "start_time": "2023-09-06T14:36:20.163Z"
   },
   {
    "duration": 30,
    "start_time": "2023-09-06T14:36:20.203Z"
   },
   {
    "duration": 13,
    "start_time": "2023-09-06T14:36:20.235Z"
   },
   {
    "duration": 31,
    "start_time": "2023-09-06T14:36:20.249Z"
   },
   {
    "duration": 241,
    "start_time": "2023-09-06T14:36:20.282Z"
   },
   {
    "duration": 318,
    "start_time": "2023-09-06T14:36:20.526Z"
   },
   {
    "duration": 293,
    "start_time": "2023-09-06T14:36:20.846Z"
   },
   {
    "duration": 639,
    "start_time": "2023-09-06T14:36:21.141Z"
   },
   {
    "duration": 312,
    "start_time": "2023-09-06T14:36:21.782Z"
   },
   {
    "duration": 2439,
    "start_time": "2023-09-06T14:36:22.096Z"
   },
   {
    "duration": 286,
    "start_time": "2023-09-06T14:38:06.317Z"
   },
   {
    "duration": 86,
    "start_time": "2023-09-07T05:18:22.062Z"
   },
   {
    "duration": 47,
    "start_time": "2023-09-07T05:19:10.426Z"
   },
   {
    "duration": 1755,
    "start_time": "2023-09-07T05:19:24.335Z"
   },
   {
    "duration": 120,
    "start_time": "2023-09-07T05:19:26.092Z"
   },
   {
    "duration": 11,
    "start_time": "2023-09-07T05:19:26.213Z"
   },
   {
    "duration": 15,
    "start_time": "2023-09-07T05:19:26.226Z"
   },
   {
    "duration": 17,
    "start_time": "2023-09-07T05:19:26.242Z"
   },
   {
    "duration": 3,
    "start_time": "2023-09-07T05:19:26.260Z"
   },
   {
    "duration": 14,
    "start_time": "2023-09-07T05:19:26.265Z"
   },
   {
    "duration": 309,
    "start_time": "2023-09-07T05:19:26.281Z"
   },
   {
    "duration": 347,
    "start_time": "2023-09-07T05:19:56.584Z"
   },
   {
    "duration": 339,
    "start_time": "2023-09-07T05:20:02.883Z"
   },
   {
    "duration": 773,
    "start_time": "2023-09-07T05:20:27.467Z"
   },
   {
    "duration": 352,
    "start_time": "2023-09-07T06:09:18.190Z"
   },
   {
    "duration": 2643,
    "start_time": "2023-09-07T06:26:04.204Z"
   },
   {
    "duration": 3,
    "start_time": "2023-09-07T06:47:24.757Z"
   },
   {
    "duration": 2466,
    "start_time": "2023-09-07T06:49:12.585Z"
   },
   {
    "duration": 2261,
    "start_time": "2023-09-07T06:49:25.295Z"
   },
   {
    "duration": 2291,
    "start_time": "2023-09-07T07:00:46.462Z"
   },
   {
    "duration": 441,
    "start_time": "2023-09-07T07:09:10.913Z"
   },
   {
    "duration": 339,
    "start_time": "2023-09-07T07:09:44.602Z"
   },
   {
    "duration": 1597,
    "start_time": "2023-09-07T07:10:09.979Z"
   },
   {
    "duration": 52,
    "start_time": "2023-09-07T07:10:11.578Z"
   },
   {
    "duration": 12,
    "start_time": "2023-09-07T07:10:11.631Z"
   },
   {
    "duration": 20,
    "start_time": "2023-09-07T07:10:11.645Z"
   },
   {
    "duration": 16,
    "start_time": "2023-09-07T07:10:11.667Z"
   },
   {
    "duration": 4,
    "start_time": "2023-09-07T07:10:11.685Z"
   },
   {
    "duration": 31,
    "start_time": "2023-09-07T07:10:11.690Z"
   },
   {
    "duration": 306,
    "start_time": "2023-09-07T07:10:11.723Z"
   },
   {
    "duration": 365,
    "start_time": "2023-09-07T07:10:12.031Z"
   },
   {
    "duration": 352,
    "start_time": "2023-09-07T07:10:12.397Z"
   },
   {
    "duration": 723,
    "start_time": "2023-09-07T07:10:12.752Z"
   },
   {
    "duration": 324,
    "start_time": "2023-09-07T07:10:13.476Z"
   },
   {
    "duration": 1613,
    "start_time": "2023-09-07T07:10:39.659Z"
   },
   {
    "duration": 51,
    "start_time": "2023-09-07T07:10:41.274Z"
   },
   {
    "duration": 11,
    "start_time": "2023-09-07T07:10:41.327Z"
   },
   {
    "duration": 30,
    "start_time": "2023-09-07T07:10:41.340Z"
   },
   {
    "duration": 18,
    "start_time": "2023-09-07T07:10:41.371Z"
   },
   {
    "duration": 11,
    "start_time": "2023-09-07T07:10:41.390Z"
   },
   {
    "duration": 23,
    "start_time": "2023-09-07T07:10:41.403Z"
   },
   {
    "duration": 283,
    "start_time": "2023-09-07T07:10:41.427Z"
   },
   {
    "duration": 372,
    "start_time": "2023-09-07T07:10:41.711Z"
   },
   {
    "duration": 364,
    "start_time": "2023-09-07T07:10:42.085Z"
   },
   {
    "duration": 746,
    "start_time": "2023-09-07T07:10:42.451Z"
   },
   {
    "duration": 369,
    "start_time": "2023-09-07T07:10:43.199Z"
   },
   {
    "duration": 142,
    "start_time": "2023-09-07T07:13:48.366Z"
   },
   {
    "duration": 18,
    "start_time": "2023-09-07T07:14:16.026Z"
   },
   {
    "duration": 11,
    "start_time": "2023-09-07T07:16:47.923Z"
   },
   {
    "duration": 18,
    "start_time": "2023-09-07T07:19:18.614Z"
   },
   {
    "duration": 955,
    "start_time": "2023-09-07T07:41:16.649Z"
   },
   {
    "duration": 12,
    "start_time": "2023-09-07T07:41:21.587Z"
   },
   {
    "duration": 328,
    "start_time": "2023-09-07T07:42:29.811Z"
   },
   {
    "duration": 287,
    "start_time": "2023-09-07T07:42:46.330Z"
   },
   {
    "duration": 332,
    "start_time": "2023-09-07T07:42:53.700Z"
   },
   {
    "duration": 516,
    "start_time": "2023-09-07T07:42:59.891Z"
   },
   {
    "duration": 417,
    "start_time": "2023-09-07T07:43:22.375Z"
   },
   {
    "duration": 432,
    "start_time": "2023-09-07T07:43:39.040Z"
   },
   {
    "duration": 415,
    "start_time": "2023-09-07T07:43:51.428Z"
   },
   {
    "duration": 297,
    "start_time": "2023-09-07T07:43:56.515Z"
   },
   {
    "duration": 357,
    "start_time": "2023-09-07T07:44:03.255Z"
   },
   {
    "duration": 345,
    "start_time": "2023-09-07T07:44:11.865Z"
   },
   {
    "duration": 358,
    "start_time": "2023-09-07T07:44:35.543Z"
   },
   {
    "duration": 354,
    "start_time": "2023-09-07T07:49:11.708Z"
   },
   {
    "duration": 12,
    "start_time": "2023-09-07T07:49:21.289Z"
   },
   {
    "duration": 371,
    "start_time": "2023-09-07T07:51:41.969Z"
   },
   {
    "duration": 1711,
    "start_time": "2023-09-07T08:07:07.820Z"
   },
   {
    "duration": 51,
    "start_time": "2023-09-07T08:07:09.533Z"
   },
   {
    "duration": 13,
    "start_time": "2023-09-07T08:07:09.586Z"
   },
   {
    "duration": 24,
    "start_time": "2023-09-07T08:07:09.601Z"
   },
   {
    "duration": 34,
    "start_time": "2023-09-07T08:07:09.627Z"
   },
   {
    "duration": 4,
    "start_time": "2023-09-07T08:07:09.662Z"
   },
   {
    "duration": 17,
    "start_time": "2023-09-07T08:07:09.668Z"
   },
   {
    "duration": 310,
    "start_time": "2023-09-07T08:07:09.687Z"
   },
   {
    "duration": 393,
    "start_time": "2023-09-07T08:07:09.998Z"
   },
   {
    "duration": 404,
    "start_time": "2023-09-07T08:07:10.394Z"
   },
   {
    "duration": 753,
    "start_time": "2023-09-07T08:07:10.800Z"
   },
   {
    "duration": 370,
    "start_time": "2023-09-07T08:07:11.555Z"
   },
   {
    "duration": 475,
    "start_time": "2023-09-07T08:07:11.927Z"
   },
   {
    "duration": 144,
    "start_time": "2023-09-07T08:07:12.404Z"
   },
   {
    "duration": 3180,
    "start_time": "2023-09-07T08:08:23.479Z"
   },
   {
    "duration": 109,
    "start_time": "2023-09-07T08:09:45.134Z"
   },
   {
    "duration": 392,
    "start_time": "2023-09-07T08:11:33.462Z"
   },
   {
    "duration": 414,
    "start_time": "2023-09-07T08:12:15.480Z"
   },
   {
    "duration": 356,
    "start_time": "2023-09-07T08:12:21.766Z"
   },
   {
    "duration": 309,
    "start_time": "2023-09-07T08:12:25.916Z"
   },
   {
    "duration": 376,
    "start_time": "2023-09-07T08:12:29.279Z"
   },
   {
    "duration": 16,
    "start_time": "2023-09-07T08:22:02.570Z"
   },
   {
    "duration": 5,
    "start_time": "2023-09-07T08:24:52.301Z"
   },
   {
    "duration": 329,
    "start_time": "2023-09-07T08:25:18.610Z"
   },
   {
    "duration": 5,
    "start_time": "2023-09-07T08:26:41.707Z"
   },
   {
    "duration": 259,
    "start_time": "2023-09-07T08:31:46.378Z"
   },
   {
    "duration": 273,
    "start_time": "2023-09-07T08:32:00.385Z"
   },
   {
    "duration": 123,
    "start_time": "2023-09-07T08:33:16.336Z"
   },
   {
    "duration": 36,
    "start_time": "2023-09-07T08:33:19.728Z"
   },
   {
    "duration": 16,
    "start_time": "2023-09-07T08:33:46.974Z"
   },
   {
    "duration": 6401,
    "start_time": "2023-09-07T08:34:28.554Z"
   },
   {
    "duration": 1623,
    "start_time": "2023-09-07T08:34:58.954Z"
   },
   {
    "duration": 51,
    "start_time": "2023-09-07T08:35:00.579Z"
   },
   {
    "duration": 109,
    "start_time": "2023-09-07T08:35:00.632Z"
   },
   {
    "duration": 171,
    "start_time": "2023-09-07T08:35:00.743Z"
   },
   {
    "duration": 37,
    "start_time": "2023-09-07T08:35:00.916Z"
   },
   {
    "duration": 37,
    "start_time": "2023-09-07T08:35:00.954Z"
   },
   {
    "duration": 59,
    "start_time": "2023-09-07T08:35:00.993Z"
   },
   {
    "duration": 343,
    "start_time": "2023-09-07T08:35:01.054Z"
   },
   {
    "duration": 389,
    "start_time": "2023-09-07T08:35:01.399Z"
   },
   {
    "duration": 374,
    "start_time": "2023-09-07T08:35:01.791Z"
   },
   {
    "duration": 740,
    "start_time": "2023-09-07T08:35:02.167Z"
   },
   {
    "duration": 389,
    "start_time": "2023-09-07T08:35:02.909Z"
   },
   {
    "duration": 488,
    "start_time": "2023-09-07T08:35:03.299Z"
   },
   {
    "duration": 2258,
    "start_time": "2023-09-07T08:35:03.789Z"
   },
   {
    "duration": 104,
    "start_time": "2023-09-07T08:35:06.050Z"
   },
   {
    "duration": 307,
    "start_time": "2023-09-07T08:35:06.155Z"
   },
   {
    "duration": 133,
    "start_time": "2023-09-07T08:35:06.464Z"
   },
   {
    "duration": 48,
    "start_time": "2023-09-07T08:35:06.599Z"
   },
   {
    "duration": 18,
    "start_time": "2023-09-07T08:35:06.649Z"
   },
   {
    "duration": 5082,
    "start_time": "2023-09-07T08:35:06.668Z"
   },
   {
    "duration": 722008,
    "start_time": "2023-09-07T08:35:11.754Z"
   },
   {
    "duration": 3656662,
    "start_time": "2023-09-07T08:47:13.763Z"
   },
   {
    "duration": 897771,
    "start_time": "2023-09-07T09:49:27.018Z"
   },
   {
    "duration": 1367256,
    "start_time": "2023-09-07T10:04:24.791Z"
   },
   {
    "duration": 11,
    "start_time": "2023-09-07T10:29:54.823Z"
   },
   {
    "duration": 6,
    "start_time": "2023-09-07T10:36:37.180Z"
   },
   {
    "duration": 89,
    "start_time": "2023-09-07T10:49:06.263Z"
   }
  ],
  "kernelspec": {
   "display_name": "Python 3 (ipykernel)",
   "language": "python",
   "name": "python3"
  },
  "language_info": {
   "codemirror_mode": {
    "name": "ipython",
    "version": 3
   },
   "file_extension": ".py",
   "mimetype": "text/x-python",
   "name": "python",
   "nbconvert_exporter": "python",
   "pygments_lexer": "ipython3",
   "version": "3.9.5"
  },
  "toc": {
   "base_numbering": 1,
   "nav_menu": {},
   "number_sections": true,
   "sideBar": true,
   "skip_h1_title": true,
   "title_cell": "Table of Contents",
   "title_sidebar": "Contents",
   "toc_cell": false,
   "toc_position": {},
   "toc_section_display": true,
   "toc_window_display": false
  }
 },
 "nbformat": 4,
 "nbformat_minor": 5
}
