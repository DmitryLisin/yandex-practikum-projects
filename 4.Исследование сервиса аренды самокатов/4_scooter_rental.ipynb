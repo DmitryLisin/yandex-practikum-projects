{
 "cells": [
  {
   "cell_type": "markdown",
   "id": "a804aa94",
   "metadata": {},
   "source": [
    "# Исследование сервиса аренды самокатов GoFast\n",
    "\n",
    "Проанализируйте данные и проверьте некоторые гипотезы, которые могут помочь бизнесу вырасти.\n",
    "Чтобы совершать поездки по городу, пользователи сервиса GoFast пользуются мобильным приложением. Сервисом можно пользоваться:\n",
    "- без подписки\n",
    "    - абонентская плата отсутствует;\n",
    "    - стоимость одной минуты поездки — 8 рублей;\n",
    "    - стоимость старта (начала поездки) — 50 рублей;\n",
    "- с подпиской Ultra\n",
    "    - абонентская плата — 199 рублей в месяц;\n",
    "    - стоимость одной минуты поездки — 6 рублей;\n",
    "    - стоимость старта — бесплатно.\n",
    "    \n",
    "Цель исследования:\n",
    "1. Предоставить рекомендации продакт-менеджерам для увеличения кол-ва пользователей.\n",
    "2. Изучить поведение пользователей в приложении.\n",
    "3. Установить, как наличие подписки влияет на ежемесячную выручку с пользователя.\n",
    "4. Определить зависимость износа самокатов от их использования юзерами с подпиской.\n",
    "\n",
    "    Ход исследования:\n",
    "    - Обзор данных\n",
    "    - Предобработка данных\n",
    "    - Проведения анализа пользователей (возраст, география)\n",
    "    - Проведение анализа активности пользователей (расстояние, время)\n",
    "    - Объединение данных в одну таблицу\n",
    "    - Проверка гипотез\n",
    "    - Общий вывод"
   ]
  },
  {
   "cell_type": "code",
   "execution_count": 1,
   "id": "72576667",
   "metadata": {},
   "outputs": [],
   "source": [
    "# импортируем библиотеки\n",
    "import pandas as pd\n",
    "import numpy as np\n",
    "import matplotlib.pyplot as plt \n",
    "import scipy.stats as st"
   ]
  },
  {
   "cell_type": "markdown",
   "id": "c42cbe00",
   "metadata": {},
   "source": [
    "### Загрузка данных"
   ]
  },
  {
   "cell_type": "markdown",
   "id": "4f351d73",
   "metadata": {},
   "source": [
    "Считаем CSV-файлы с данными с помощью библиотеки Pandas и сохраним их в датафреймы"
   ]
  },
  {
   "cell_type": "code",
   "execution_count": 2,
   "id": "eff9f206",
   "metadata": {},
   "outputs": [],
   "source": [
    "# считываем файл с пользователями\n",
    "try:\n",
    "    users = pd.read_csv('/datasets/users_go.csv')\n",
    "except:\n",
    "    users = pd.read_csv('https://code.s3.yandex.net/datasets/users_go.csv')\n",
    "\n",
    "users.to_csv('users_go.csv')\n",
    "\n",
    "# считываем файл с поездками\n",
    "try:\n",
    "    rides = pd.read_csv('/datasets/rides_go.csv')\n",
    "except:\n",
    "    rides = pd.read_csv('https://code.s3.yandex.net/datasets/rides_go.csv')\n",
    "\n",
    "rides.to_csv('rides_go.csv')\n",
    "\n",
    "# считываем файл с подписками\n",
    "try:\n",
    "    subscriptions = pd.read_csv('/datasets/subscriptions_go.csv')\n",
    "except:\n",
    "    subscriptions = pd.read_csv('https://code.s3.yandex.net/datasets/subscriptions_go.csv')\n",
    "\n",
    "subscriptions.to_csv('subscriptions_go.csv')"
   ]
  },
  {
   "cell_type": "markdown",
   "id": "d86dbc16",
   "metadata": {},
   "source": [
    "Выведем первые 5 строк и общую информацию датафрейма `users`"
   ]
  },
  {
   "cell_type": "code",
   "execution_count": 3,
   "id": "6179d0c0",
   "metadata": {
    "scrolled": false
   },
   "outputs": [
    {
     "data": {
      "text/html": [
       "<div>\n",
       "<style scoped>\n",
       "    .dataframe tbody tr th:only-of-type {\n",
       "        vertical-align: middle;\n",
       "    }\n",
       "\n",
       "    .dataframe tbody tr th {\n",
       "        vertical-align: top;\n",
       "    }\n",
       "\n",
       "    .dataframe thead th {\n",
       "        text-align: right;\n",
       "    }\n",
       "</style>\n",
       "<table border=\"1\" class=\"dataframe\">\n",
       "  <thead>\n",
       "    <tr style=\"text-align: right;\">\n",
       "      <th></th>\n",
       "      <th>user_id</th>\n",
       "      <th>name</th>\n",
       "      <th>age</th>\n",
       "      <th>city</th>\n",
       "      <th>subscription_type</th>\n",
       "    </tr>\n",
       "  </thead>\n",
       "  <tbody>\n",
       "    <tr>\n",
       "      <th>0</th>\n",
       "      <td>1</td>\n",
       "      <td>Кира</td>\n",
       "      <td>22</td>\n",
       "      <td>Тюмень</td>\n",
       "      <td>ultra</td>\n",
       "    </tr>\n",
       "    <tr>\n",
       "      <th>1</th>\n",
       "      <td>2</td>\n",
       "      <td>Станислав</td>\n",
       "      <td>31</td>\n",
       "      <td>Омск</td>\n",
       "      <td>ultra</td>\n",
       "    </tr>\n",
       "    <tr>\n",
       "      <th>2</th>\n",
       "      <td>3</td>\n",
       "      <td>Алексей</td>\n",
       "      <td>20</td>\n",
       "      <td>Москва</td>\n",
       "      <td>ultra</td>\n",
       "    </tr>\n",
       "    <tr>\n",
       "      <th>3</th>\n",
       "      <td>4</td>\n",
       "      <td>Константин</td>\n",
       "      <td>26</td>\n",
       "      <td>Ростов-на-Дону</td>\n",
       "      <td>ultra</td>\n",
       "    </tr>\n",
       "    <tr>\n",
       "      <th>4</th>\n",
       "      <td>5</td>\n",
       "      <td>Адель</td>\n",
       "      <td>28</td>\n",
       "      <td>Омск</td>\n",
       "      <td>ultra</td>\n",
       "    </tr>\n",
       "  </tbody>\n",
       "</table>\n",
       "</div>"
      ],
      "text/plain": [
       "   user_id        name  age            city subscription_type\n",
       "0        1        Кира   22          Тюмень             ultra\n",
       "1        2   Станислав   31            Омск             ultra\n",
       "2        3     Алексей   20          Москва             ultra\n",
       "3        4  Константин   26  Ростов-на-Дону             ultra\n",
       "4        5       Адель   28            Омск             ultra"
      ]
     },
     "execution_count": 3,
     "metadata": {},
     "output_type": "execute_result"
    }
   ],
   "source": [
    "# первые 5 строк таблицы users\n",
    "users.head()"
   ]
  },
  {
   "cell_type": "code",
   "execution_count": 4,
   "id": "30201596",
   "metadata": {},
   "outputs": [
    {
     "name": "stdout",
     "output_type": "stream",
     "text": [
      "<class 'pandas.core.frame.DataFrame'>\n",
      "RangeIndex: 1565 entries, 0 to 1564\n",
      "Data columns (total 5 columns):\n",
      " #   Column             Non-Null Count  Dtype \n",
      "---  ------             --------------  ----- \n",
      " 0   user_id            1565 non-null   int64 \n",
      " 1   name               1565 non-null   object\n",
      " 2   age                1565 non-null   int64 \n",
      " 3   city               1565 non-null   object\n",
      " 4   subscription_type  1565 non-null   object\n",
      "dtypes: int64(2), object(3)\n",
      "memory usage: 61.3+ KB\n"
     ]
    }
   ],
   "source": [
    "# общая информация таблицы users\n",
    "users.info()"
   ]
  },
  {
   "cell_type": "markdown",
   "id": "288a52c0",
   "metadata": {},
   "source": [
    "Выведем первые 5 строк и общую информацию датафрейма `rides`"
   ]
  },
  {
   "cell_type": "code",
   "execution_count": 5,
   "id": "39745688",
   "metadata": {},
   "outputs": [
    {
     "data": {
      "text/html": [
       "<div>\n",
       "<style scoped>\n",
       "    .dataframe tbody tr th:only-of-type {\n",
       "        vertical-align: middle;\n",
       "    }\n",
       "\n",
       "    .dataframe tbody tr th {\n",
       "        vertical-align: top;\n",
       "    }\n",
       "\n",
       "    .dataframe thead th {\n",
       "        text-align: right;\n",
       "    }\n",
       "</style>\n",
       "<table border=\"1\" class=\"dataframe\">\n",
       "  <thead>\n",
       "    <tr style=\"text-align: right;\">\n",
       "      <th></th>\n",
       "      <th>user_id</th>\n",
       "      <th>distance</th>\n",
       "      <th>duration</th>\n",
       "      <th>date</th>\n",
       "    </tr>\n",
       "  </thead>\n",
       "  <tbody>\n",
       "    <tr>\n",
       "      <th>0</th>\n",
       "      <td>1</td>\n",
       "      <td>4409.919140</td>\n",
       "      <td>25.599769</td>\n",
       "      <td>2021-01-01</td>\n",
       "    </tr>\n",
       "    <tr>\n",
       "      <th>1</th>\n",
       "      <td>1</td>\n",
       "      <td>2617.592153</td>\n",
       "      <td>15.816871</td>\n",
       "      <td>2021-01-18</td>\n",
       "    </tr>\n",
       "    <tr>\n",
       "      <th>2</th>\n",
       "      <td>1</td>\n",
       "      <td>754.159807</td>\n",
       "      <td>6.232113</td>\n",
       "      <td>2021-04-20</td>\n",
       "    </tr>\n",
       "    <tr>\n",
       "      <th>3</th>\n",
       "      <td>1</td>\n",
       "      <td>2694.783254</td>\n",
       "      <td>18.511000</td>\n",
       "      <td>2021-08-11</td>\n",
       "    </tr>\n",
       "    <tr>\n",
       "      <th>4</th>\n",
       "      <td>1</td>\n",
       "      <td>4028.687306</td>\n",
       "      <td>26.265803</td>\n",
       "      <td>2021-08-28</td>\n",
       "    </tr>\n",
       "  </tbody>\n",
       "</table>\n",
       "</div>"
      ],
      "text/plain": [
       "   user_id     distance   duration        date\n",
       "0        1  4409.919140  25.599769  2021-01-01\n",
       "1        1  2617.592153  15.816871  2021-01-18\n",
       "2        1   754.159807   6.232113  2021-04-20\n",
       "3        1  2694.783254  18.511000  2021-08-11\n",
       "4        1  4028.687306  26.265803  2021-08-28"
      ]
     },
     "execution_count": 5,
     "metadata": {},
     "output_type": "execute_result"
    }
   ],
   "source": [
    "# первые 5 строк таблицы rides\n",
    "rides.head()"
   ]
  },
  {
   "cell_type": "code",
   "execution_count": 6,
   "id": "14440ea7",
   "metadata": {},
   "outputs": [
    {
     "name": "stdout",
     "output_type": "stream",
     "text": [
      "<class 'pandas.core.frame.DataFrame'>\n",
      "RangeIndex: 18068 entries, 0 to 18067\n",
      "Data columns (total 4 columns):\n",
      " #   Column    Non-Null Count  Dtype  \n",
      "---  ------    --------------  -----  \n",
      " 0   user_id   18068 non-null  int64  \n",
      " 1   distance  18068 non-null  float64\n",
      " 2   duration  18068 non-null  float64\n",
      " 3   date      18068 non-null  object \n",
      "dtypes: float64(2), int64(1), object(1)\n",
      "memory usage: 564.8+ KB\n"
     ]
    }
   ],
   "source": [
    "# общая информация таблицы rides\n",
    "rides.info()"
   ]
  },
  {
   "cell_type": "markdown",
   "id": "4f471da9",
   "metadata": {},
   "source": [
    "Заметим, что столбец `date` имеет тип данных object. Изменим его дальше на этапе предобработки.\n",
    "Выведем первые 5 строк и общую информацию датафрейма `subscritions`"
   ]
  },
  {
   "cell_type": "code",
   "execution_count": 7,
   "id": "629a8015",
   "metadata": {},
   "outputs": [
    {
     "data": {
      "text/html": [
       "<div>\n",
       "<style scoped>\n",
       "    .dataframe tbody tr th:only-of-type {\n",
       "        vertical-align: middle;\n",
       "    }\n",
       "\n",
       "    .dataframe tbody tr th {\n",
       "        vertical-align: top;\n",
       "    }\n",
       "\n",
       "    .dataframe thead th {\n",
       "        text-align: right;\n",
       "    }\n",
       "</style>\n",
       "<table border=\"1\" class=\"dataframe\">\n",
       "  <thead>\n",
       "    <tr style=\"text-align: right;\">\n",
       "      <th></th>\n",
       "      <th>subscription_type</th>\n",
       "      <th>minute_price</th>\n",
       "      <th>start_ride_price</th>\n",
       "      <th>subscription_fee</th>\n",
       "    </tr>\n",
       "  </thead>\n",
       "  <tbody>\n",
       "    <tr>\n",
       "      <th>0</th>\n",
       "      <td>free</td>\n",
       "      <td>8</td>\n",
       "      <td>50</td>\n",
       "      <td>0</td>\n",
       "    </tr>\n",
       "    <tr>\n",
       "      <th>1</th>\n",
       "      <td>ultra</td>\n",
       "      <td>6</td>\n",
       "      <td>0</td>\n",
       "      <td>199</td>\n",
       "    </tr>\n",
       "  </tbody>\n",
       "</table>\n",
       "</div>"
      ],
      "text/plain": [
       "  subscription_type  minute_price  start_ride_price  subscription_fee\n",
       "0              free             8                50                 0\n",
       "1             ultra             6                 0               199"
      ]
     },
     "execution_count": 7,
     "metadata": {},
     "output_type": "execute_result"
    }
   ],
   "source": [
    "# строки таблицы subscriptions\n",
    "subscriptions.head()"
   ]
  },
  {
   "cell_type": "code",
   "execution_count": 8,
   "id": "99d47d5e",
   "metadata": {},
   "outputs": [
    {
     "name": "stdout",
     "output_type": "stream",
     "text": [
      "<class 'pandas.core.frame.DataFrame'>\n",
      "RangeIndex: 2 entries, 0 to 1\n",
      "Data columns (total 4 columns):\n",
      " #   Column             Non-Null Count  Dtype \n",
      "---  ------             --------------  ----- \n",
      " 0   subscription_type  2 non-null      object\n",
      " 1   minute_price       2 non-null      int64 \n",
      " 2   start_ride_price   2 non-null      int64 \n",
      " 3   subscription_fee   2 non-null      int64 \n",
      "dtypes: int64(3), object(1)\n",
      "memory usage: 192.0+ bytes\n"
     ]
    }
   ],
   "source": [
    "# общая информация таблицы subscriptions\n",
    "subscriptions.info()"
   ]
  },
  {
   "cell_type": "markdown",
   "id": "e334fb05",
   "metadata": {},
   "source": [
    "# Описание данных\n",
    "\n",
    "В основных данных есть информация о пользователях, их поездках и подписках.\n",
    "- Пользователи — users_go.csv\n",
    "    - user_id\tуникальный идентификатор пользователя\n",
    "    - name\tимя пользователя\n",
    "    - age\tвозраст\n",
    "    - city\tгород\n",
    "    - subscription_type\tтип подписки (free, ultra)\n",
    "- Поездки — rides_go.csv\n",
    "    - user_id\tуникальный идентификатор пользователя\n",
    "    - distance\tрасстояние, которое пользователь проехал в текущей сессии (в метрах)\n",
    "    - duration\tпродолжительность сессии (в минутах) — время с того момента, как пользователь нажал кнопку «Начать поездку» до момента, как он нажал кнопку «Завершить поездку»\n",
    "    - date\tдата совершения поездки\n",
    "- Подписки — subscriptions_go.csv\n",
    "    - subscription_type\tтип подписки\n",
    "    - minute_price\tстоимость одной минуты поездки по данной подписке\n",
    "    - start_ride_price\tстоимость начала поездки\n",
    "    - subscription_fee\tстоимость ежемесячного платежа\n"
   ]
  },
  {
   "cell_type": "markdown",
   "id": "f0d05e3b",
   "metadata": {},
   "source": [
    "**Вывод:** Мы выгрузили три таблицы с данными.\n",
    "- users - пользователи\n",
    "- rides - поездки\n",
    "- subscriptions - подписки\n",
    "\n",
    "Изучили структуру данных и наметили шаги для предобработки данных (замена типа данных столбца `date`).\n",
    "Пропущенные данные отсутствуют."
   ]
  },
  {
   "cell_type": "markdown",
   "id": "e95ebca7",
   "metadata": {},
   "source": [
    "### Предобработка данных"
   ]
  },
  {
   "cell_type": "markdown",
   "id": "8abb4631",
   "metadata": {},
   "source": [
    "#### Изменение типов данных"
   ]
  },
  {
   "cell_type": "markdown",
   "id": "e53c356f",
   "metadata": {},
   "source": [
    "В результате исследования данных, обнаружили, что в таблице `rides` столбец `date` имеет тип object. Приведем его к типу date для выполнения дальнейших преобразований."
   ]
  },
  {
   "cell_type": "code",
   "execution_count": 9,
   "id": "af6d202c",
   "metadata": {},
   "outputs": [],
   "source": [
    "rides['date'] = pd.to_datetime(rides['date'], format='%Y-%m-%d')"
   ]
  },
  {
   "cell_type": "markdown",
   "id": "632f1124",
   "metadata": {},
   "source": [
    "У остальных столбцов типы данных соответствуют содержимому. Проверим наше преобразование."
   ]
  },
  {
   "cell_type": "code",
   "execution_count": 10,
   "id": "eae04a8e",
   "metadata": {},
   "outputs": [
    {
     "name": "stdout",
     "output_type": "stream",
     "text": [
      "<class 'pandas.core.frame.DataFrame'>\n",
      "RangeIndex: 18068 entries, 0 to 18067\n",
      "Data columns (total 4 columns):\n",
      " #   Column    Non-Null Count  Dtype         \n",
      "---  ------    --------------  -----         \n",
      " 0   user_id   18068 non-null  int64         \n",
      " 1   distance  18068 non-null  float64       \n",
      " 2   duration  18068 non-null  float64       \n",
      " 3   date      18068 non-null  datetime64[ns]\n",
      "dtypes: datetime64[ns](1), float64(2), int64(1)\n",
      "memory usage: 564.8 KB\n"
     ]
    }
   ],
   "source": [
    "rides.info()"
   ]
  },
  {
   "cell_type": "markdown",
   "id": "dad19131",
   "metadata": {},
   "source": [
    "Столбец `date` имеет тип данных date."
   ]
  },
  {
   "cell_type": "markdown",
   "id": "10a7f9bd",
   "metadata": {},
   "source": [
    "#### Добавление нового столбца"
   ]
  },
  {
   "cell_type": "markdown",
   "id": "524cb817",
   "metadata": {},
   "source": [
    "Для дальнейшего анализа нам нужен столбец с номером месяца в таблице `rides`. Назовем этот столбец `month`."
   ]
  },
  {
   "cell_type": "code",
   "execution_count": 11,
   "id": "73dd62c8",
   "metadata": {},
   "outputs": [],
   "source": [
    "# используем атрибут month\n",
    "rides['month'] = rides['date'].dt.month"
   ]
  },
  {
   "cell_type": "markdown",
   "id": "a6b02da6",
   "metadata": {},
   "source": [
    "Проверим новый столбец."
   ]
  },
  {
   "cell_type": "code",
   "execution_count": 12,
   "id": "fa3ce93f",
   "metadata": {},
   "outputs": [
    {
     "data": {
      "text/html": [
       "<div>\n",
       "<style scoped>\n",
       "    .dataframe tbody tr th:only-of-type {\n",
       "        vertical-align: middle;\n",
       "    }\n",
       "\n",
       "    .dataframe tbody tr th {\n",
       "        vertical-align: top;\n",
       "    }\n",
       "\n",
       "    .dataframe thead th {\n",
       "        text-align: right;\n",
       "    }\n",
       "</style>\n",
       "<table border=\"1\" class=\"dataframe\">\n",
       "  <thead>\n",
       "    <tr style=\"text-align: right;\">\n",
       "      <th></th>\n",
       "      <th>user_id</th>\n",
       "      <th>distance</th>\n",
       "      <th>duration</th>\n",
       "      <th>date</th>\n",
       "      <th>month</th>\n",
       "    </tr>\n",
       "  </thead>\n",
       "  <tbody>\n",
       "    <tr>\n",
       "      <th>0</th>\n",
       "      <td>1</td>\n",
       "      <td>4409.919140</td>\n",
       "      <td>25.599769</td>\n",
       "      <td>2021-01-01</td>\n",
       "      <td>1</td>\n",
       "    </tr>\n",
       "    <tr>\n",
       "      <th>1</th>\n",
       "      <td>1</td>\n",
       "      <td>2617.592153</td>\n",
       "      <td>15.816871</td>\n",
       "      <td>2021-01-18</td>\n",
       "      <td>1</td>\n",
       "    </tr>\n",
       "    <tr>\n",
       "      <th>2</th>\n",
       "      <td>1</td>\n",
       "      <td>754.159807</td>\n",
       "      <td>6.232113</td>\n",
       "      <td>2021-04-20</td>\n",
       "      <td>4</td>\n",
       "    </tr>\n",
       "    <tr>\n",
       "      <th>3</th>\n",
       "      <td>1</td>\n",
       "      <td>2694.783254</td>\n",
       "      <td>18.511000</td>\n",
       "      <td>2021-08-11</td>\n",
       "      <td>8</td>\n",
       "    </tr>\n",
       "    <tr>\n",
       "      <th>4</th>\n",
       "      <td>1</td>\n",
       "      <td>4028.687306</td>\n",
       "      <td>26.265803</td>\n",
       "      <td>2021-08-28</td>\n",
       "      <td>8</td>\n",
       "    </tr>\n",
       "    <tr>\n",
       "      <th>5</th>\n",
       "      <td>1</td>\n",
       "      <td>2770.890808</td>\n",
       "      <td>16.650138</td>\n",
       "      <td>2021-10-09</td>\n",
       "      <td>10</td>\n",
       "    </tr>\n",
       "    <tr>\n",
       "      <th>6</th>\n",
       "      <td>1</td>\n",
       "      <td>3039.020292</td>\n",
       "      <td>14.927879</td>\n",
       "      <td>2021-10-19</td>\n",
       "      <td>10</td>\n",
       "    </tr>\n",
       "    <tr>\n",
       "      <th>7</th>\n",
       "      <td>1</td>\n",
       "      <td>2842.118050</td>\n",
       "      <td>23.117468</td>\n",
       "      <td>2021-11-06</td>\n",
       "      <td>11</td>\n",
       "    </tr>\n",
       "    <tr>\n",
       "      <th>8</th>\n",
       "      <td>1</td>\n",
       "      <td>3412.690668</td>\n",
       "      <td>15.238072</td>\n",
       "      <td>2021-11-14</td>\n",
       "      <td>11</td>\n",
       "    </tr>\n",
       "    <tr>\n",
       "      <th>9</th>\n",
       "      <td>1</td>\n",
       "      <td>748.690645</td>\n",
       "      <td>15.041884</td>\n",
       "      <td>2021-11-22</td>\n",
       "      <td>11</td>\n",
       "    </tr>\n",
       "  </tbody>\n",
       "</table>\n",
       "</div>"
      ],
      "text/plain": [
       "   user_id     distance   duration       date  month\n",
       "0        1  4409.919140  25.599769 2021-01-01      1\n",
       "1        1  2617.592153  15.816871 2021-01-18      1\n",
       "2        1   754.159807   6.232113 2021-04-20      4\n",
       "3        1  2694.783254  18.511000 2021-08-11      8\n",
       "4        1  4028.687306  26.265803 2021-08-28      8\n",
       "5        1  2770.890808  16.650138 2021-10-09     10\n",
       "6        1  3039.020292  14.927879 2021-10-19     10\n",
       "7        1  2842.118050  23.117468 2021-11-06     11\n",
       "8        1  3412.690668  15.238072 2021-11-14     11\n",
       "9        1   748.690645  15.041884 2021-11-22     11"
      ]
     },
     "execution_count": 12,
     "metadata": {},
     "output_type": "execute_result"
    }
   ],
   "source": [
    "rides.head(10)"
   ]
  },
  {
   "cell_type": "markdown",
   "id": "4d4d1b4c",
   "metadata": {},
   "source": [
    "Столбец с месяцем добавлен."
   ]
  },
  {
   "cell_type": "markdown",
   "id": "be224f06",
   "metadata": {},
   "source": [
    "#### Обработка дубликатов"
   ]
  },
  {
   "cell_type": "markdown",
   "id": "1cdf3b06",
   "metadata": {},
   "source": [
    "Проверим наличие явных дубликатов. Начнем с таблицы `users`."
   ]
  },
  {
   "cell_type": "code",
   "execution_count": 13,
   "id": "e7e29c6a",
   "metadata": {},
   "outputs": [
    {
     "data": {
      "text/plain": [
       "31"
      ]
     },
     "execution_count": 13,
     "metadata": {},
     "output_type": "execute_result"
    }
   ],
   "source": [
    "users.duplicated().sum()"
   ]
  },
  {
   "cell_type": "markdown",
   "id": "91c1f736",
   "metadata": {},
   "source": [
    "Данные в таблице `users` действительно могут дублироваться, т.к. можно найти людей в одном городе с одинаковыми именами, возрастом и типом подписки. Но наличие дубликатов в столбце `user_id` говорит о том, что повторы действительно есть. Удалим эти строки и сделаем проверку."
   ]
  },
  {
   "cell_type": "code",
   "execution_count": 14,
   "id": "89f2d804",
   "metadata": {},
   "outputs": [
    {
     "data": {
      "text/plain": [
       "0"
      ]
     },
     "execution_count": 14,
     "metadata": {},
     "output_type": "execute_result"
    }
   ],
   "source": [
    "users = users.drop_duplicates()\n",
    "users.duplicated().sum()"
   ]
  },
  {
   "cell_type": "markdown",
   "id": "7c7164da",
   "metadata": {},
   "source": [
    "Дубликаты в таблице `users` удалены. Перейдем к столбцу `rides`."
   ]
  },
  {
   "cell_type": "code",
   "execution_count": 15,
   "id": "819400ce",
   "metadata": {},
   "outputs": [
    {
     "data": {
      "text/plain": [
       "0"
      ]
     },
     "execution_count": 15,
     "metadata": {},
     "output_type": "execute_result"
    }
   ],
   "source": [
    "rides.duplicated().sum()"
   ]
  },
  {
   "cell_type": "markdown",
   "id": "8397470a",
   "metadata": {},
   "source": [
    "В таблице `rides` явные дубликаты отсутствуют.\n",
    "\n",
    "В таблице `subscriptions` содержится две строки и нет смысла проверять её на наличие дубликатов.\n",
    "\n",
    "Проверим наличие неявных дубликтов названии городов. В остальных столбцах всех таблиц проводить проверку на неявные дубликаты нет смысла."
   ]
  },
  {
   "cell_type": "code",
   "execution_count": 16,
   "id": "dafc6bd0",
   "metadata": {},
   "outputs": [
    {
     "data": {
      "text/plain": [
       "array(['Екатеринбург', 'Краснодар', 'Москва', 'Омск', 'Пятигорск',\n",
       "       'Ростов-на-Дону', 'Сочи', 'Тюмень'], dtype=object)"
      ]
     },
     "execution_count": 16,
     "metadata": {},
     "output_type": "execute_result"
    }
   ],
   "source": [
    "# уникальные города\n",
    "users['city'].sort_values().unique()"
   ]
  },
  {
   "cell_type": "markdown",
   "id": "982a5205",
   "metadata": {},
   "source": [
    "Неявных дубликатов нет."
   ]
  },
  {
   "cell_type": "markdown",
   "id": "3e63cdf4",
   "metadata": {},
   "source": [
    "#### Обработка аномалий"
   ]
  },
  {
   "cell_type": "markdown",
   "id": "2a402406",
   "metadata": {},
   "source": [
    "Выведем информацию обо всех полях в таблице `rides`"
   ]
  },
  {
   "cell_type": "code",
   "execution_count": 17,
   "id": "dba68f39",
   "metadata": {},
   "outputs": [
    {
     "data": {
      "text/html": [
       "<div>\n",
       "<style scoped>\n",
       "    .dataframe tbody tr th:only-of-type {\n",
       "        vertical-align: middle;\n",
       "    }\n",
       "\n",
       "    .dataframe tbody tr th {\n",
       "        vertical-align: top;\n",
       "    }\n",
       "\n",
       "    .dataframe thead th {\n",
       "        text-align: right;\n",
       "    }\n",
       "</style>\n",
       "<table border=\"1\" class=\"dataframe\">\n",
       "  <thead>\n",
       "    <tr style=\"text-align: right;\">\n",
       "      <th></th>\n",
       "      <th>user_id</th>\n",
       "      <th>distance</th>\n",
       "      <th>duration</th>\n",
       "      <th>month</th>\n",
       "    </tr>\n",
       "  </thead>\n",
       "  <tbody>\n",
       "    <tr>\n",
       "      <th>count</th>\n",
       "      <td>18068.000000</td>\n",
       "      <td>18068.000000</td>\n",
       "      <td>18068.000000</td>\n",
       "      <td>18068.000000</td>\n",
       "    </tr>\n",
       "    <tr>\n",
       "      <th>mean</th>\n",
       "      <td>842.869936</td>\n",
       "      <td>3070.659976</td>\n",
       "      <td>17.805011</td>\n",
       "      <td>6.486772</td>\n",
       "    </tr>\n",
       "    <tr>\n",
       "      <th>std</th>\n",
       "      <td>434.734317</td>\n",
       "      <td>1116.831209</td>\n",
       "      <td>6.091051</td>\n",
       "      <td>3.437410</td>\n",
       "    </tr>\n",
       "    <tr>\n",
       "      <th>min</th>\n",
       "      <td>1.000000</td>\n",
       "      <td>0.855683</td>\n",
       "      <td>0.500000</td>\n",
       "      <td>1.000000</td>\n",
       "    </tr>\n",
       "    <tr>\n",
       "      <th>25%</th>\n",
       "      <td>487.000000</td>\n",
       "      <td>2543.226360</td>\n",
       "      <td>13.597563</td>\n",
       "      <td>4.000000</td>\n",
       "    </tr>\n",
       "    <tr>\n",
       "      <th>50%</th>\n",
       "      <td>889.000000</td>\n",
       "      <td>3133.609994</td>\n",
       "      <td>17.678395</td>\n",
       "      <td>6.000000</td>\n",
       "    </tr>\n",
       "    <tr>\n",
       "      <th>75%</th>\n",
       "      <td>1213.250000</td>\n",
       "      <td>3776.222735</td>\n",
       "      <td>21.724800</td>\n",
       "      <td>9.000000</td>\n",
       "    </tr>\n",
       "    <tr>\n",
       "      <th>max</th>\n",
       "      <td>1534.000000</td>\n",
       "      <td>7211.007745</td>\n",
       "      <td>40.823963</td>\n",
       "      <td>12.000000</td>\n",
       "    </tr>\n",
       "  </tbody>\n",
       "</table>\n",
       "</div>"
      ],
      "text/plain": [
       "            user_id      distance      duration         month\n",
       "count  18068.000000  18068.000000  18068.000000  18068.000000\n",
       "mean     842.869936   3070.659976     17.805011      6.486772\n",
       "std      434.734317   1116.831209      6.091051      3.437410\n",
       "min        1.000000      0.855683      0.500000      1.000000\n",
       "25%      487.000000   2543.226360     13.597563      4.000000\n",
       "50%      889.000000   3133.609994     17.678395      6.000000\n",
       "75%     1213.250000   3776.222735     21.724800      9.000000\n",
       "max     1534.000000   7211.007745     40.823963     12.000000"
      ]
     },
     "execution_count": 17,
     "metadata": {},
     "output_type": "execute_result"
    }
   ],
   "source": [
    "rides.describe()"
   ]
  },
  {
   "cell_type": "markdown",
   "id": "953530fa",
   "metadata": {},
   "source": [
    "Посторим диаграммы размаха для столбцов `distance` и `duration`"
   ]
  },
  {
   "cell_type": "code",
   "execution_count": 18,
   "id": "429faf34",
   "metadata": {
    "scrolled": false
   },
   "outputs": [
    {
     "data": {
      "image/png": "[encoded data removed]",
      "text/plain": [
       "<Figure size 720x576 with 1 Axes>"
      ]
     },
     "metadata": {
      "needs_background": "light"
     },
     "output_type": "display_data"
    }
   ],
   "source": [
    "rides.boxplot('distance', figsize=(10,8))\n",
    "plt.title('Расстояние поездки')\n",
    "plt.ylabel('Расстояние, м.')\n",
    "plt.show()"
   ]
  },
  {
   "cell_type": "markdown",
   "id": "55ec713b",
   "metadata": {},
   "source": [
    "Видим множество выбросов как сверху, так и снизу. Но такие значения мы можем объяснить поведением пользователя. Убирать выбросы не будем. Проверим столбец `duration`."
   ]
  },
  {
   "cell_type": "code",
   "execution_count": 19,
   "id": "1c0d50cf",
   "metadata": {},
   "outputs": [
    {
     "data": {
      "image/png": "[encoded data removed]",
      "text/plain": [
       "<Figure size 720x576 with 1 Axes>"
      ]
     },
     "metadata": {
      "needs_background": "light"
     },
     "output_type": "display_data"
    },
    {
     "data": {
      "image/png": "[encoded data removed]",
      "text/plain": [
       "<Figure size 720x576 with 1 Axes>"
      ]
     },
     "metadata": {
      "needs_background": "light"
     },
     "output_type": "display_data"
    }
   ],
   "source": [
    "rides.boxplot('duration', figsize=(10,8))\n",
    "plt.title('Продолжительность поездок')\n",
    "plt.xlabel('Время, мин.')\n",
    "plt.show()\n",
    "\n",
    "rides.boxplot('duration', figsize=(10,8))\n",
    "plt.title('Продолжительность поездок')\n",
    "plt.xlabel('Время, мин.')\n",
    "plt.ylim(0, 1)\n",
    "plt.show()"
   ]
  },
  {
   "cell_type": "markdown",
   "id": "53d17cbd",
   "metadata": {},
   "source": [
    "Видим выбросы на единственной отметке 0,5 мин. Проверим какие там данные."
   ]
  },
  {
   "cell_type": "code",
   "execution_count": 20,
   "id": "ed2d1525",
   "metadata": {},
   "outputs": [
    {
     "data": {
      "text/html": [
       "<div>\n",
       "<style scoped>\n",
       "    .dataframe tbody tr th:only-of-type {\n",
       "        vertical-align: middle;\n",
       "    }\n",
       "\n",
       "    .dataframe tbody tr th {\n",
       "        vertical-align: top;\n",
       "    }\n",
       "\n",
       "    .dataframe thead th {\n",
       "        text-align: right;\n",
       "    }\n",
       "</style>\n",
       "<table border=\"1\" class=\"dataframe\">\n",
       "  <thead>\n",
       "    <tr style=\"text-align: right;\">\n",
       "      <th></th>\n",
       "      <th>user_id</th>\n",
       "      <th>distance</th>\n",
       "      <th>duration</th>\n",
       "      <th>date</th>\n",
       "      <th>month</th>\n",
       "    </tr>\n",
       "  </thead>\n",
       "  <tbody>\n",
       "    <tr>\n",
       "      <th>6531</th>\n",
       "      <td>701</td>\n",
       "      <td>4196.445201</td>\n",
       "      <td>0.5</td>\n",
       "      <td>2021-08-31</td>\n",
       "      <td>8</td>\n",
       "    </tr>\n",
       "    <tr>\n",
       "      <th>6570</th>\n",
       "      <td>704</td>\n",
       "      <td>4830.824371</td>\n",
       "      <td>0.5</td>\n",
       "      <td>2021-10-14</td>\n",
       "      <td>10</td>\n",
       "    </tr>\n",
       "    <tr>\n",
       "      <th>6680</th>\n",
       "      <td>712</td>\n",
       "      <td>4684.004397</td>\n",
       "      <td>0.5</td>\n",
       "      <td>2021-03-04</td>\n",
       "      <td>3</td>\n",
       "    </tr>\n",
       "    <tr>\n",
       "      <th>6695</th>\n",
       "      <td>713</td>\n",
       "      <td>5215.642710</td>\n",
       "      <td>0.5</td>\n",
       "      <td>2021-02-25</td>\n",
       "      <td>2</td>\n",
       "    </tr>\n",
       "    <tr>\n",
       "      <th>6768</th>\n",
       "      <td>718</td>\n",
       "      <td>5197.436649</td>\n",
       "      <td>0.5</td>\n",
       "      <td>2021-02-11</td>\n",
       "      <td>2</td>\n",
       "    </tr>\n",
       "    <tr>\n",
       "      <th>...</th>\n",
       "      <td>...</td>\n",
       "      <td>...</td>\n",
       "      <td>...</td>\n",
       "      <td>...</td>\n",
       "      <td>...</td>\n",
       "    </tr>\n",
       "    <tr>\n",
       "      <th>17004</th>\n",
       "      <td>1460</td>\n",
       "      <td>5531.335845</td>\n",
       "      <td>0.5</td>\n",
       "      <td>2021-01-19</td>\n",
       "      <td>1</td>\n",
       "    </tr>\n",
       "    <tr>\n",
       "      <th>17242</th>\n",
       "      <td>1477</td>\n",
       "      <td>6724.932981</td>\n",
       "      <td>0.5</td>\n",
       "      <td>2021-01-12</td>\n",
       "      <td>1</td>\n",
       "    </tr>\n",
       "    <tr>\n",
       "      <th>17314</th>\n",
       "      <td>1483</td>\n",
       "      <td>4445.481070</td>\n",
       "      <td>0.5</td>\n",
       "      <td>2021-03-06</td>\n",
       "      <td>3</td>\n",
       "    </tr>\n",
       "    <tr>\n",
       "      <th>17505</th>\n",
       "      <td>1496</td>\n",
       "      <td>5722.551787</td>\n",
       "      <td>0.5</td>\n",
       "      <td>2021-02-14</td>\n",
       "      <td>2</td>\n",
       "    </tr>\n",
       "    <tr>\n",
       "      <th>17909</th>\n",
       "      <td>1524</td>\n",
       "      <td>4103.998874</td>\n",
       "      <td>0.5</td>\n",
       "      <td>2021-06-18</td>\n",
       "      <td>6</td>\n",
       "    </tr>\n",
       "  </tbody>\n",
       "</table>\n",
       "<p>95 rows × 5 columns</p>\n",
       "</div>"
      ],
      "text/plain": [
       "       user_id     distance  duration       date  month\n",
       "6531       701  4196.445201       0.5 2021-08-31      8\n",
       "6570       704  4830.824371       0.5 2021-10-14     10\n",
       "6680       712  4684.004397       0.5 2021-03-04      3\n",
       "6695       713  5215.642710       0.5 2021-02-25      2\n",
       "6768       718  5197.436649       0.5 2021-02-11      2\n",
       "...        ...          ...       ...        ...    ...\n",
       "17004     1460  5531.335845       0.5 2021-01-19      1\n",
       "17242     1477  6724.932981       0.5 2021-01-12      1\n",
       "17314     1483  4445.481070       0.5 2021-03-06      3\n",
       "17505     1496  5722.551787       0.5 2021-02-14      2\n",
       "17909     1524  4103.998874       0.5 2021-06-18      6\n",
       "\n",
       "[95 rows x 5 columns]"
      ]
     },
     "execution_count": 20,
     "metadata": {},
     "output_type": "execute_result"
    }
   ],
   "source": [
    "rides[rides['duration'] < 1]"
   ]
  },
  {
   "cell_type": "markdown",
   "id": "ab643d43",
   "metadata": {},
   "source": [
    "Значения времени действительно слишком маленькие по сравнению с пройденным расстоянием. Возможна ошибка в расчете поездки. Проверим данные от 1 до 3 минут."
   ]
  },
  {
   "cell_type": "code",
   "execution_count": 21,
   "id": "8ae65378",
   "metadata": {
    "scrolled": true
   },
   "outputs": [
    {
     "data": {
      "text/html": [
       "<div>\n",
       "<style scoped>\n",
       "    .dataframe tbody tr th:only-of-type {\n",
       "        vertical-align: middle;\n",
       "    }\n",
       "\n",
       "    .dataframe tbody tr th {\n",
       "        vertical-align: top;\n",
       "    }\n",
       "\n",
       "    .dataframe thead th {\n",
       "        text-align: right;\n",
       "    }\n",
       "</style>\n",
       "<table border=\"1\" class=\"dataframe\">\n",
       "  <thead>\n",
       "    <tr style=\"text-align: right;\">\n",
       "      <th></th>\n",
       "      <th>user_id</th>\n",
       "      <th>distance</th>\n",
       "      <th>duration</th>\n",
       "      <th>date</th>\n",
       "      <th>month</th>\n",
       "    </tr>\n",
       "  </thead>\n",
       "  <tbody>\n",
       "    <tr>\n",
       "      <th>6691</th>\n",
       "      <td>712</td>\n",
       "      <td>23.963062</td>\n",
       "      <td>2.053251</td>\n",
       "      <td>2021-11-22</td>\n",
       "      <td>11</td>\n",
       "    </tr>\n",
       "    <tr>\n",
       "      <th>6801</th>\n",
       "      <td>720</td>\n",
       "      <td>102.323624</td>\n",
       "      <td>2.292353</td>\n",
       "      <td>2021-09-20</td>\n",
       "      <td>9</td>\n",
       "    </tr>\n",
       "    <tr>\n",
       "      <th>7453</th>\n",
       "      <td>768</td>\n",
       "      <td>273.136262</td>\n",
       "      <td>2.744917</td>\n",
       "      <td>2021-02-20</td>\n",
       "      <td>2</td>\n",
       "    </tr>\n",
       "    <tr>\n",
       "      <th>8676</th>\n",
       "      <td>863</td>\n",
       "      <td>466.343107</td>\n",
       "      <td>2.999307</td>\n",
       "      <td>2021-04-11</td>\n",
       "      <td>4</td>\n",
       "    </tr>\n",
       "    <tr>\n",
       "      <th>8906</th>\n",
       "      <td>880</td>\n",
       "      <td>11.283615</td>\n",
       "      <td>2.035632</td>\n",
       "      <td>2021-03-28</td>\n",
       "      <td>3</td>\n",
       "    </tr>\n",
       "    <tr>\n",
       "      <th>9320</th>\n",
       "      <td>910</td>\n",
       "      <td>126.040770</td>\n",
       "      <td>2.472653</td>\n",
       "      <td>2021-02-21</td>\n",
       "      <td>2</td>\n",
       "    </tr>\n",
       "    <tr>\n",
       "      <th>10291</th>\n",
       "      <td>977</td>\n",
       "      <td>90.850696</td>\n",
       "      <td>2.320650</td>\n",
       "      <td>2021-08-15</td>\n",
       "      <td>8</td>\n",
       "    </tr>\n",
       "    <tr>\n",
       "      <th>10865</th>\n",
       "      <td>1019</td>\n",
       "      <td>216.259429</td>\n",
       "      <td>2.480577</td>\n",
       "      <td>2021-07-26</td>\n",
       "      <td>7</td>\n",
       "    </tr>\n",
       "    <tr>\n",
       "      <th>11336</th>\n",
       "      <td>1053</td>\n",
       "      <td>391.007269</td>\n",
       "      <td>2.902324</td>\n",
       "      <td>2021-09-10</td>\n",
       "      <td>9</td>\n",
       "    </tr>\n",
       "    <tr>\n",
       "      <th>12016</th>\n",
       "      <td>1103</td>\n",
       "      <td>147.453884</td>\n",
       "      <td>2.315973</td>\n",
       "      <td>2021-02-26</td>\n",
       "      <td>2</td>\n",
       "    </tr>\n",
       "    <tr>\n",
       "      <th>12485</th>\n",
       "      <td>1138</td>\n",
       "      <td>295.422441</td>\n",
       "      <td>2.844064</td>\n",
       "      <td>2021-02-13</td>\n",
       "      <td>2</td>\n",
       "    </tr>\n",
       "    <tr>\n",
       "      <th>12498</th>\n",
       "      <td>1139</td>\n",
       "      <td>169.699209</td>\n",
       "      <td>2.351102</td>\n",
       "      <td>2021-11-16</td>\n",
       "      <td>11</td>\n",
       "    </tr>\n",
       "    <tr>\n",
       "      <th>12527</th>\n",
       "      <td>1141</td>\n",
       "      <td>200.034777</td>\n",
       "      <td>2.923237</td>\n",
       "      <td>2021-08-22</td>\n",
       "      <td>8</td>\n",
       "    </tr>\n",
       "    <tr>\n",
       "      <th>12599</th>\n",
       "      <td>1147</td>\n",
       "      <td>262.050671</td>\n",
       "      <td>2.683610</td>\n",
       "      <td>2021-06-25</td>\n",
       "      <td>6</td>\n",
       "    </tr>\n",
       "    <tr>\n",
       "      <th>12607</th>\n",
       "      <td>1147</td>\n",
       "      <td>412.345955</td>\n",
       "      <td>2.824692</td>\n",
       "      <td>2021-12-25</td>\n",
       "      <td>12</td>\n",
       "    </tr>\n",
       "    <tr>\n",
       "      <th>13308</th>\n",
       "      <td>1198</td>\n",
       "      <td>84.410014</td>\n",
       "      <td>2.180879</td>\n",
       "      <td>2021-06-11</td>\n",
       "      <td>6</td>\n",
       "    </tr>\n",
       "    <tr>\n",
       "      <th>13485</th>\n",
       "      <td>1210</td>\n",
       "      <td>85.063560</td>\n",
       "      <td>2.392601</td>\n",
       "      <td>2021-01-13</td>\n",
       "      <td>1</td>\n",
       "    </tr>\n",
       "    <tr>\n",
       "      <th>13538</th>\n",
       "      <td>1213</td>\n",
       "      <td>127.789262</td>\n",
       "      <td>2.451021</td>\n",
       "      <td>2021-04-11</td>\n",
       "      <td>4</td>\n",
       "    </tr>\n",
       "    <tr>\n",
       "      <th>14066</th>\n",
       "      <td>1250</td>\n",
       "      <td>66.340137</td>\n",
       "      <td>2.234142</td>\n",
       "      <td>2021-04-12</td>\n",
       "      <td>4</td>\n",
       "    </tr>\n",
       "    <tr>\n",
       "      <th>14081</th>\n",
       "      <td>1251</td>\n",
       "      <td>41.212830</td>\n",
       "      <td>2.224797</td>\n",
       "      <td>2021-04-15</td>\n",
       "      <td>4</td>\n",
       "    </tr>\n",
       "    <tr>\n",
       "      <th>15512</th>\n",
       "      <td>1356</td>\n",
       "      <td>181.295471</td>\n",
       "      <td>2.988884</td>\n",
       "      <td>2021-02-24</td>\n",
       "      <td>2</td>\n",
       "    </tr>\n",
       "    <tr>\n",
       "      <th>15607</th>\n",
       "      <td>1362</td>\n",
       "      <td>46.560533</td>\n",
       "      <td>2.253967</td>\n",
       "      <td>2021-09-22</td>\n",
       "      <td>9</td>\n",
       "    </tr>\n",
       "    <tr>\n",
       "      <th>15612</th>\n",
       "      <td>1363</td>\n",
       "      <td>264.104789</td>\n",
       "      <td>2.546424</td>\n",
       "      <td>2021-07-10</td>\n",
       "      <td>7</td>\n",
       "    </tr>\n",
       "    <tr>\n",
       "      <th>15985</th>\n",
       "      <td>1388</td>\n",
       "      <td>108.121606</td>\n",
       "      <td>2.341437</td>\n",
       "      <td>2021-09-11</td>\n",
       "      <td>9</td>\n",
       "    </tr>\n",
       "    <tr>\n",
       "      <th>16077</th>\n",
       "      <td>1395</td>\n",
       "      <td>393.328069</td>\n",
       "      <td>2.874062</td>\n",
       "      <td>2021-02-25</td>\n",
       "      <td>2</td>\n",
       "    </tr>\n",
       "    <tr>\n",
       "      <th>16553</th>\n",
       "      <td>1426</td>\n",
       "      <td>435.655865</td>\n",
       "      <td>2.933548</td>\n",
       "      <td>2021-01-18</td>\n",
       "      <td>1</td>\n",
       "    </tr>\n",
       "    <tr>\n",
       "      <th>16596</th>\n",
       "      <td>1428</td>\n",
       "      <td>251.247681</td>\n",
       "      <td>2.942179</td>\n",
       "      <td>2021-11-18</td>\n",
       "      <td>11</td>\n",
       "    </tr>\n",
       "    <tr>\n",
       "      <th>16654</th>\n",
       "      <td>1432</td>\n",
       "      <td>292.272709</td>\n",
       "      <td>2.835065</td>\n",
       "      <td>2021-05-26</td>\n",
       "      <td>5</td>\n",
       "    </tr>\n",
       "    <tr>\n",
       "      <th>17309</th>\n",
       "      <td>1482</td>\n",
       "      <td>111.298857</td>\n",
       "      <td>2.222598</td>\n",
       "      <td>2021-07-24</td>\n",
       "      <td>7</td>\n",
       "    </tr>\n",
       "    <tr>\n",
       "      <th>17460</th>\n",
       "      <td>1492</td>\n",
       "      <td>458.631163</td>\n",
       "      <td>2.917262</td>\n",
       "      <td>2021-04-15</td>\n",
       "      <td>4</td>\n",
       "    </tr>\n",
       "    <tr>\n",
       "      <th>17663</th>\n",
       "      <td>1507</td>\n",
       "      <td>214.587357</td>\n",
       "      <td>2.495202</td>\n",
       "      <td>2021-05-25</td>\n",
       "      <td>5</td>\n",
       "    </tr>\n",
       "    <tr>\n",
       "      <th>17712</th>\n",
       "      <td>1510</td>\n",
       "      <td>166.223109</td>\n",
       "      <td>2.343910</td>\n",
       "      <td>2021-09-06</td>\n",
       "      <td>9</td>\n",
       "    </tr>\n",
       "    <tr>\n",
       "      <th>17802</th>\n",
       "      <td>1516</td>\n",
       "      <td>393.696926</td>\n",
       "      <td>2.874882</td>\n",
       "      <td>2021-07-28</td>\n",
       "      <td>7</td>\n",
       "    </tr>\n",
       "  </tbody>\n",
       "</table>\n",
       "</div>"
      ],
      "text/plain": [
       "       user_id    distance  duration       date  month\n",
       "6691       712   23.963062  2.053251 2021-11-22     11\n",
       "6801       720  102.323624  2.292353 2021-09-20      9\n",
       "7453       768  273.136262  2.744917 2021-02-20      2\n",
       "8676       863  466.343107  2.999307 2021-04-11      4\n",
       "8906       880   11.283615  2.035632 2021-03-28      3\n",
       "9320       910  126.040770  2.472653 2021-02-21      2\n",
       "10291      977   90.850696  2.320650 2021-08-15      8\n",
       "10865     1019  216.259429  2.480577 2021-07-26      7\n",
       "11336     1053  391.007269  2.902324 2021-09-10      9\n",
       "12016     1103  147.453884  2.315973 2021-02-26      2\n",
       "12485     1138  295.422441  2.844064 2021-02-13      2\n",
       "12498     1139  169.699209  2.351102 2021-11-16     11\n",
       "12527     1141  200.034777  2.923237 2021-08-22      8\n",
       "12599     1147  262.050671  2.683610 2021-06-25      6\n",
       "12607     1147  412.345955  2.824692 2021-12-25     12\n",
       "13308     1198   84.410014  2.180879 2021-06-11      6\n",
       "13485     1210   85.063560  2.392601 2021-01-13      1\n",
       "13538     1213  127.789262  2.451021 2021-04-11      4\n",
       "14066     1250   66.340137  2.234142 2021-04-12      4\n",
       "14081     1251   41.212830  2.224797 2021-04-15      4\n",
       "15512     1356  181.295471  2.988884 2021-02-24      2\n",
       "15607     1362   46.560533  2.253967 2021-09-22      9\n",
       "15612     1363  264.104789  2.546424 2021-07-10      7\n",
       "15985     1388  108.121606  2.341437 2021-09-11      9\n",
       "16077     1395  393.328069  2.874062 2021-02-25      2\n",
       "16553     1426  435.655865  2.933548 2021-01-18      1\n",
       "16596     1428  251.247681  2.942179 2021-11-18     11\n",
       "16654     1432  292.272709  2.835065 2021-05-26      5\n",
       "17309     1482  111.298857  2.222598 2021-07-24      7\n",
       "17460     1492  458.631163  2.917262 2021-04-15      4\n",
       "17663     1507  214.587357  2.495202 2021-05-25      5\n",
       "17712     1510  166.223109  2.343910 2021-09-06      9\n",
       "17802     1516  393.696926  2.874882 2021-07-28      7"
      ]
     },
     "execution_count": 21,
     "metadata": {},
     "output_type": "execute_result"
    }
   ],
   "source": [
    "rides[(rides['duration'] < 3) & (rides['duration'] > 1)]"
   ]
  },
  {
   "cell_type": "markdown",
   "id": "e2244f73",
   "metadata": {},
   "source": [
    "Здесь мы видим более реалистичные значения, значит ошибка в расчетах на предыдущем этапе есть. Скорее всего неправильно рассчитывается, как раз таки время, а не расстояние. Заменить это время логически обоснованным мы не можем, значит удалим эти строки."
   ]
  },
  {
   "cell_type": "code",
   "execution_count": 22,
   "id": "380cb729",
   "metadata": {},
   "outputs": [
    {
     "data": {
      "text/plain": [
       "count    17973.000000\n",
       "mean        17.896480\n",
       "std          5.975424\n",
       "min          2.035632\n",
       "25%         13.670439\n",
       "50%         17.714122\n",
       "75%         21.747016\n",
       "max         40.823963\n",
       "Name: duration, dtype: float64"
      ]
     },
     "execution_count": 22,
     "metadata": {},
     "output_type": "execute_result"
    }
   ],
   "source": [
    "rides = rides[rides['duration'] > 0.5]\n",
    "rides['duration'].describe()"
   ]
  },
  {
   "cell_type": "markdown",
   "id": "ab8ab7ee",
   "metadata": {},
   "source": [
    "Удалили 95 строк что составляло 5.26% от исходных данных. Считаем это допустимым.\n",
    "\n",
    "Проверим диапазон дат в столбце `date`."
   ]
  },
  {
   "cell_type": "code",
   "execution_count": 23,
   "id": "4035aded",
   "metadata": {},
   "outputs": [
    {
     "name": "stdout",
     "output_type": "stream",
     "text": [
      "Минимальная дата:  2021-01-01 00:00:00\n",
      "Максимальная дата:  2021-12-30 00:00:00\n"
     ]
    }
   ],
   "source": [
    "print('Минимальная дата: ', rides['date'].min())\n",
    "print('Максимальная дата: ', rides['date'].max())"
   ]
  },
  {
   "cell_type": "markdown",
   "id": "e0ae200c",
   "metadata": {},
   "source": [
    "Имеем данные почти за весь 2021 год."
   ]
  },
  {
   "cell_type": "markdown",
   "id": "4698258e",
   "metadata": {},
   "source": [
    "**Вывод:** В результате предобработки данных мы:\n",
    "- изменили тип данных столбца `date` на date\n",
    "- удалили явные дубликаты в таблице `users`\n",
    "- добавили в таблицу `rides` столбец с месяцами(`month`)\n",
    "- удалили аномальные значения в поле `duration` таблицы `rides`"
   ]
  },
  {
   "cell_type": "markdown",
   "id": "212593c7",
   "metadata": {},
   "source": [
    "### Исследовательский анализ данных"
   ]
  },
  {
   "cell_type": "markdown",
   "id": "b0edf852",
   "metadata": {},
   "source": [
    "#### Частота встречаемости городов."
   ]
  },
  {
   "cell_type": "code",
   "execution_count": 24,
   "id": "e3a4274c",
   "metadata": {},
   "outputs": [
    {
     "data": {
      "text/plain": [
       "Пятигорск         219\n",
       "Екатеринбург      204\n",
       "Ростов-на-Дону    198\n",
       "Краснодар         193\n",
       "Сочи              189\n",
       "Омск              183\n",
       "Тюмень            180\n",
       "Москва            168\n",
       "Name: city, dtype: int64"
      ]
     },
     "execution_count": 24,
     "metadata": {},
     "output_type": "execute_result"
    }
   ],
   "source": [
    "# кол-во уникальных значений\n",
    "users['city'].value_counts()"
   ]
  },
  {
   "cell_type": "code",
   "execution_count": 25,
   "id": "1f4c8d42",
   "metadata": {},
   "outputs": [
    {
     "data": {
      "image/png": "[encoded data removed]",
      "text/plain": [
       "<Figure size 720x576 with 1 Axes>"
      ]
     },
     "metadata": {
      "needs_background": "light"
     },
     "output_type": "display_data"
    }
   ],
   "source": [
    "# гистограмма\n",
    "users['city'].value_counts().plot(kind='barh', figsize=(10,8))\n",
    "plt.title('Частота встречаемости городов')\n",
    "plt.show()"
   ]
  },
  {
   "cell_type": "markdown",
   "id": "27ddf55f",
   "metadata": {},
   "source": [
    "Распределение близко к равномерному. Из них всех меньше пользователей в Москве - 168, а больше всех в Пятигорске - 219."
   ]
  },
  {
   "cell_type": "markdown",
   "id": "50b1e756",
   "metadata": {},
   "source": [
    "#### Cоотношение пользователей с подпиской и без подписки"
   ]
  },
  {
   "cell_type": "code",
   "execution_count": 26,
   "id": "e0c75c08",
   "metadata": {},
   "outputs": [
    {
     "data": {
      "text/plain": [
       "free     835\n",
       "ultra    699\n",
       "Name: subscription_type, dtype: int64"
      ]
     },
     "execution_count": 26,
     "metadata": {},
     "output_type": "execute_result"
    }
   ],
   "source": [
    "# кол-во уникальных знаений\n",
    "users['subscription_type'].value_counts()"
   ]
  },
  {
   "cell_type": "code",
   "execution_count": 27,
   "id": "d8be4b39",
   "metadata": {},
   "outputs": [
    {
     "data": {
      "image/png": "[encoded data removed]",
      "text/plain": [
       "<Figure size 720x576 with 1 Axes>"
      ]
     },
     "metadata": {},
     "output_type": "display_data"
    }
   ],
   "source": [
    "# круговой график\n",
    "users['subscription_type'].value_counts().plot(kind='pie',figsize=(10,8), autopct='%1.0f%%')\n",
    "plt.title('Cоотношение пользователей с подпиской и без подписки')\n",
    "plt.show()"
   ]
  },
  {
   "cell_type": "markdown",
   "id": "035aab94",
   "metadata": {},
   "source": [
    "Количество пользователей с подпиской (46%) не сильно меньше, чем с подпиской (54%)."
   ]
  },
  {
   "cell_type": "markdown",
   "id": "1fd32905",
   "metadata": {},
   "source": [
    "#### Возраст пользователей"
   ]
  },
  {
   "cell_type": "code",
   "execution_count": 28,
   "id": "b2247939",
   "metadata": {},
   "outputs": [
    {
     "data": {
      "image/png": "[encoded data removed]",
      "text/plain": [
       "<Figure size 720x576 with 1 Axes>"
      ]
     },
     "metadata": {
      "needs_background": "light"
     },
     "output_type": "display_data"
    },
    {
     "data": {
      "text/plain": [
       "count    1534.000000\n",
       "mean       24.903520\n",
       "std         4.572367\n",
       "min        12.000000\n",
       "25%        22.000000\n",
       "50%        25.000000\n",
       "75%        28.000000\n",
       "max        43.000000\n",
       "Name: age, dtype: float64"
      ]
     },
     "execution_count": 28,
     "metadata": {},
     "output_type": "execute_result"
    }
   ],
   "source": [
    "# гистограмма\n",
    "users['age'].hist(figsize=(10,8), bins=30)\n",
    "plt.title('Частота возрастов пользователей')\n",
    "plt.xlabel('Возраст, лет')\n",
    "plt.show()\n",
    "\n",
    "# описание данных\n",
    "users['age'].describe()"
   ]
  },
  {
   "cell_type": "markdown",
   "id": "b88e1a33",
   "metadata": {},
   "source": [
    "Распределение возрастов близко к нормальному. Значения собираются вокруг центра, которое является средним (24.9). Медиана же равна 25. Большой части ползователей сервиса от 18 до 33 лет."
   ]
  },
  {
   "cell_type": "markdown",
   "id": "953e1c99",
   "metadata": {},
   "source": [
    "#### Расстояние, которое пользователь преодолел за одну поездку"
   ]
  },
  {
   "cell_type": "code",
   "execution_count": 29,
   "id": "0a8dd6de",
   "metadata": {},
   "outputs": [
    {
     "data": {
      "image/png": "[encoded data removed]",
      "text/plain": [
       "<Figure size 720x576 with 1 Axes>"
      ]
     },
     "metadata": {
      "needs_background": "light"
     },
     "output_type": "display_data"
    },
    {
     "data": {
      "text/plain": [
       "count    17973.000000\n",
       "mean      3059.863833\n",
       "std       1108.814612\n",
       "min          0.855683\n",
       "25%       2538.839628\n",
       "50%       3129.029255\n",
       "75%       3762.636244\n",
       "max       7066.003772\n",
       "Name: distance, dtype: float64"
      ]
     },
     "execution_count": 29,
     "metadata": {},
     "output_type": "execute_result"
    }
   ],
   "source": [
    "# гистограмма\n",
    "rides['distance'].hist(figsize=(10,8), bins=100)\n",
    "plt.title('Расстояние, которое пользователь преодолел за одну поездку')\n",
    "plt.xlabel('Расстояние, м.')\n",
    "plt.show()\n",
    "\n",
    "# описание данных\n",
    "rides['distance'].describe()"
   ]
  },
  {
   "cell_type": "markdown",
   "id": "e1f6cbd5",
   "metadata": {},
   "source": [
    "В основном самокаты берут для преодоления расстоняния от 2 до 5 км. Больше 6 км. на самокате практически не ездят. На графике можно заметить, люди также периодически берут самокат для преодоления расстояния до 1.5 км., это могут быть проездки в ближайший магазин, в гости или дургие места находящихся в пределах одной улицы."
   ]
  },
  {
   "cell_type": "markdown",
   "id": "d0a63329",
   "metadata": {},
   "source": [
    "#### Продолжительность поездок"
   ]
  },
  {
   "cell_type": "code",
   "execution_count": 30,
   "id": "00b3218a",
   "metadata": {},
   "outputs": [
    {
     "data": {
      "image/png": "[encoded data removed]",
      "text/plain": [
       "<Figure size 720x576 with 1 Axes>"
      ]
     },
     "metadata": {
      "needs_background": "light"
     },
     "output_type": "display_data"
    },
    {
     "data": {
      "text/plain": [
       "count    17973.000000\n",
       "mean        17.896480\n",
       "std          5.975424\n",
       "min          2.035632\n",
       "25%         13.670439\n",
       "50%         17.714122\n",
       "75%         21.747016\n",
       "max         40.823963\n",
       "Name: duration, dtype: float64"
      ]
     },
     "execution_count": 30,
     "metadata": {},
     "output_type": "execute_result"
    }
   ],
   "source": [
    "# гистограмма\n",
    "rides['duration'].hist(figsize=(10,8), bins=100)\n",
    "plt.title('Продолжительность поездок')\n",
    "plt.xlabel('Время, мин.')\n",
    "plt.show()\n",
    "\n",
    "# описание данных\n",
    "rides['duration'].describe()"
   ]
  },
  {
   "cell_type": "markdown",
   "id": "71853053",
   "metadata": {},
   "source": [
    "Распределение близко к нормальному. Данные сосредоточенны в промежутке от 5 до 30 мин."
   ]
  },
  {
   "cell_type": "markdown",
   "id": "7e055893",
   "metadata": {},
   "source": [
    "**Вывод:** В результате исследования данных таблиц выяснили:\n",
    "\n",
    "- В имеющейся выборке количество пользователей в городах распределено плюс/минус равномерно, и это не зависит от численности города. Например в Москве меньше всего пользователей, хотя население в разы отличается от остальных.\n",
    "- Пользователей с подпиской меньше (46% против 54%), хотя разница невелика.\n",
    "- Основная аудитория сервиса имеет возраст от 18 до 33 лет.\n",
    "- Самокаты берут в основном для преодоления расстояния до 1.5 км. (магазин, гости), и от 2 до 5 км (работа, прогулки)\n",
    "- В осном время поездки от 5 до 30 мин."
   ]
  },
  {
   "cell_type": "markdown",
   "id": "4ef51331",
   "metadata": {},
   "source": [
    "### Объединение данных"
   ]
  },
  {
   "cell_type": "markdown",
   "id": "f61540c8",
   "metadata": {},
   "source": [
    "#### Объединение данных о пользователях, поездках и подписках"
   ]
  },
  {
   "cell_type": "code",
   "execution_count": 31,
   "id": "66f028d3",
   "metadata": {},
   "outputs": [],
   "source": [
    "# параметры оставляем по умолчанию. Объединение будет внутренним, \n",
    "# а таблицы будут объеденены по совпадающим столбцам user_id и subsription_type.\n",
    "data = rides.merge(users).merge(subscriptions)"
   ]
  },
  {
   "cell_type": "markdown",
   "id": "01a5724d",
   "metadata": {},
   "source": [
    "Проверим новую таблицу."
   ]
  },
  {
   "cell_type": "code",
   "execution_count": 32,
   "id": "ab984d42",
   "metadata": {},
   "outputs": [
    {
     "name": "stdout",
     "output_type": "stream",
     "text": [
      "<class 'pandas.core.frame.DataFrame'>\n",
      "Int64Index: 17973 entries, 0 to 17972\n",
      "Data columns (total 12 columns):\n",
      " #   Column             Non-Null Count  Dtype         \n",
      "---  ------             --------------  -----         \n",
      " 0   user_id            17973 non-null  int64         \n",
      " 1   distance           17973 non-null  float64       \n",
      " 2   duration           17973 non-null  float64       \n",
      " 3   date               17973 non-null  datetime64[ns]\n",
      " 4   month              17973 non-null  int64         \n",
      " 5   name               17973 non-null  object        \n",
      " 6   age                17973 non-null  int64         \n",
      " 7   city               17973 non-null  object        \n",
      " 8   subscription_type  17973 non-null  object        \n",
      " 9   minute_price       17973 non-null  int64         \n",
      " 10  start_ride_price   17973 non-null  int64         \n",
      " 11  subscription_fee   17973 non-null  int64         \n",
      "dtypes: datetime64[ns](1), float64(2), int64(6), object(3)\n",
      "memory usage: 1.8+ MB\n"
     ]
    }
   ],
   "source": [
    "data.info()"
   ]
  },
  {
   "cell_type": "markdown",
   "id": "355bd17d",
   "metadata": {},
   "source": [
    "Объединили таблицу в одну. Количество строк в `data` совпадает с кол-вом строк в таблице `rides`, значит объединили таблицы правильно."
   ]
  },
  {
   "cell_type": "markdown",
   "id": "5a237f5e",
   "metadata": {},
   "source": [
    "#### Создание новых датафреймов"
   ]
  },
  {
   "cell_type": "code",
   "execution_count": 33,
   "id": "f4ffe5c3",
   "metadata": {},
   "outputs": [
    {
     "data": {
      "text/html": [
       "<div>\n",
       "<style scoped>\n",
       "    .dataframe tbody tr th:only-of-type {\n",
       "        vertical-align: middle;\n",
       "    }\n",
       "\n",
       "    .dataframe tbody tr th {\n",
       "        vertical-align: top;\n",
       "    }\n",
       "\n",
       "    .dataframe thead th {\n",
       "        text-align: right;\n",
       "    }\n",
       "</style>\n",
       "<table border=\"1\" class=\"dataframe\">\n",
       "  <thead>\n",
       "    <tr style=\"text-align: right;\">\n",
       "      <th></th>\n",
       "      <th>user_id</th>\n",
       "      <th>distance</th>\n",
       "      <th>duration</th>\n",
       "      <th>date</th>\n",
       "      <th>month</th>\n",
       "      <th>name</th>\n",
       "      <th>age</th>\n",
       "      <th>city</th>\n",
       "      <th>subscription_type</th>\n",
       "      <th>minute_price</th>\n",
       "      <th>start_ride_price</th>\n",
       "      <th>subscription_fee</th>\n",
       "    </tr>\n",
       "  </thead>\n",
       "  <tbody>\n",
       "    <tr>\n",
       "      <th>6500</th>\n",
       "      <td>700</td>\n",
       "      <td>2515.690719</td>\n",
       "      <td>14.944286</td>\n",
       "      <td>2021-01-02</td>\n",
       "      <td>1</td>\n",
       "      <td>Айдар</td>\n",
       "      <td>22</td>\n",
       "      <td>Омск</td>\n",
       "      <td>free</td>\n",
       "      <td>8</td>\n",
       "      <td>50</td>\n",
       "      <td>0</td>\n",
       "    </tr>\n",
       "    <tr>\n",
       "      <th>6501</th>\n",
       "      <td>700</td>\n",
       "      <td>846.932642</td>\n",
       "      <td>16.234663</td>\n",
       "      <td>2021-02-01</td>\n",
       "      <td>2</td>\n",
       "      <td>Айдар</td>\n",
       "      <td>22</td>\n",
       "      <td>Омск</td>\n",
       "      <td>free</td>\n",
       "      <td>8</td>\n",
       "      <td>50</td>\n",
       "      <td>0</td>\n",
       "    </tr>\n",
       "    <tr>\n",
       "      <th>6502</th>\n",
       "      <td>700</td>\n",
       "      <td>4004.434142</td>\n",
       "      <td>20.016628</td>\n",
       "      <td>2021-02-04</td>\n",
       "      <td>2</td>\n",
       "      <td>Айдар</td>\n",
       "      <td>22</td>\n",
       "      <td>Омск</td>\n",
       "      <td>free</td>\n",
       "      <td>8</td>\n",
       "      <td>50</td>\n",
       "      <td>0</td>\n",
       "    </tr>\n",
       "    <tr>\n",
       "      <th>6503</th>\n",
       "      <td>700</td>\n",
       "      <td>1205.911290</td>\n",
       "      <td>9.782872</td>\n",
       "      <td>2021-02-10</td>\n",
       "      <td>2</td>\n",
       "      <td>Айдар</td>\n",
       "      <td>22</td>\n",
       "      <td>Омск</td>\n",
       "      <td>free</td>\n",
       "      <td>8</td>\n",
       "      <td>50</td>\n",
       "      <td>0</td>\n",
       "    </tr>\n",
       "    <tr>\n",
       "      <th>6504</th>\n",
       "      <td>700</td>\n",
       "      <td>3047.379435</td>\n",
       "      <td>17.427673</td>\n",
       "      <td>2021-02-14</td>\n",
       "      <td>2</td>\n",
       "      <td>Айдар</td>\n",
       "      <td>22</td>\n",
       "      <td>Омск</td>\n",
       "      <td>free</td>\n",
       "      <td>8</td>\n",
       "      <td>50</td>\n",
       "      <td>0</td>\n",
       "    </tr>\n",
       "    <tr>\n",
       "      <th>6505</th>\n",
       "      <td>700</td>\n",
       "      <td>4342.002254</td>\n",
       "      <td>22.368009</td>\n",
       "      <td>2021-02-23</td>\n",
       "      <td>2</td>\n",
       "      <td>Айдар</td>\n",
       "      <td>22</td>\n",
       "      <td>Омск</td>\n",
       "      <td>free</td>\n",
       "      <td>8</td>\n",
       "      <td>50</td>\n",
       "      <td>0</td>\n",
       "    </tr>\n",
       "    <tr>\n",
       "      <th>6506</th>\n",
       "      <td>700</td>\n",
       "      <td>3798.334905</td>\n",
       "      <td>18.243756</td>\n",
       "      <td>2021-03-03</td>\n",
       "      <td>3</td>\n",
       "      <td>Айдар</td>\n",
       "      <td>22</td>\n",
       "      <td>Омск</td>\n",
       "      <td>free</td>\n",
       "      <td>8</td>\n",
       "      <td>50</td>\n",
       "      <td>0</td>\n",
       "    </tr>\n",
       "    <tr>\n",
       "      <th>6507</th>\n",
       "      <td>700</td>\n",
       "      <td>2984.551206</td>\n",
       "      <td>15.424899</td>\n",
       "      <td>2021-04-09</td>\n",
       "      <td>4</td>\n",
       "      <td>Айдар</td>\n",
       "      <td>22</td>\n",
       "      <td>Омск</td>\n",
       "      <td>free</td>\n",
       "      <td>8</td>\n",
       "      <td>50</td>\n",
       "      <td>0</td>\n",
       "    </tr>\n",
       "    <tr>\n",
       "      <th>6508</th>\n",
       "      <td>700</td>\n",
       "      <td>3360.107141</td>\n",
       "      <td>16.765497</td>\n",
       "      <td>2021-06-12</td>\n",
       "      <td>6</td>\n",
       "      <td>Айдар</td>\n",
       "      <td>22</td>\n",
       "      <td>Омск</td>\n",
       "      <td>free</td>\n",
       "      <td>8</td>\n",
       "      <td>50</td>\n",
       "      <td>0</td>\n",
       "    </tr>\n",
       "    <tr>\n",
       "      <th>6509</th>\n",
       "      <td>700</td>\n",
       "      <td>2567.543847</td>\n",
       "      <td>11.312160</td>\n",
       "      <td>2021-06-23</td>\n",
       "      <td>6</td>\n",
       "      <td>Айдар</td>\n",
       "      <td>22</td>\n",
       "      <td>Омск</td>\n",
       "      <td>free</td>\n",
       "      <td>8</td>\n",
       "      <td>50</td>\n",
       "      <td>0</td>\n",
       "    </tr>\n",
       "  </tbody>\n",
       "</table>\n",
       "</div>"
      ],
      "text/plain": [
       "      user_id     distance   duration       date  month   name  age  city  \\\n",
       "6500      700  2515.690719  14.944286 2021-01-02      1  Айдар   22  Омск   \n",
       "6501      700   846.932642  16.234663 2021-02-01      2  Айдар   22  Омск   \n",
       "6502      700  4004.434142  20.016628 2021-02-04      2  Айдар   22  Омск   \n",
       "6503      700  1205.911290   9.782872 2021-02-10      2  Айдар   22  Омск   \n",
       "6504      700  3047.379435  17.427673 2021-02-14      2  Айдар   22  Омск   \n",
       "6505      700  4342.002254  22.368009 2021-02-23      2  Айдар   22  Омск   \n",
       "6506      700  3798.334905  18.243756 2021-03-03      3  Айдар   22  Омск   \n",
       "6507      700  2984.551206  15.424899 2021-04-09      4  Айдар   22  Омск   \n",
       "6508      700  3360.107141  16.765497 2021-06-12      6  Айдар   22  Омск   \n",
       "6509      700  2567.543847  11.312160 2021-06-23      6  Айдар   22  Омск   \n",
       "\n",
       "     subscription_type  minute_price  start_ride_price  subscription_fee  \n",
       "6500              free             8                50                 0  \n",
       "6501              free             8                50                 0  \n",
       "6502              free             8                50                 0  \n",
       "6503              free             8                50                 0  \n",
       "6504              free             8                50                 0  \n",
       "6505              free             8                50                 0  \n",
       "6506              free             8                50                 0  \n",
       "6507              free             8                50                 0  \n",
       "6508              free             8                50                 0  \n",
       "6509              free             8                50                 0  "
      ]
     },
     "execution_count": 33,
     "metadata": {},
     "output_type": "execute_result"
    }
   ],
   "source": [
    "# данные о пользователях без подписки\n",
    "data_no_sub = data[data['subscription_type'] == 'free']\n",
    "data_no_sub.head(10)"
   ]
  },
  {
   "cell_type": "code",
   "execution_count": 34,
   "id": "3c1eac02",
   "metadata": {},
   "outputs": [
    {
     "data": {
      "text/html": [
       "<div>\n",
       "<style scoped>\n",
       "    .dataframe tbody tr th:only-of-type {\n",
       "        vertical-align: middle;\n",
       "    }\n",
       "\n",
       "    .dataframe tbody tr th {\n",
       "        vertical-align: top;\n",
       "    }\n",
       "\n",
       "    .dataframe thead th {\n",
       "        text-align: right;\n",
       "    }\n",
       "</style>\n",
       "<table border=\"1\" class=\"dataframe\">\n",
       "  <thead>\n",
       "    <tr style=\"text-align: right;\">\n",
       "      <th></th>\n",
       "      <th>user_id</th>\n",
       "      <th>distance</th>\n",
       "      <th>duration</th>\n",
       "      <th>date</th>\n",
       "      <th>month</th>\n",
       "      <th>name</th>\n",
       "      <th>age</th>\n",
       "      <th>city</th>\n",
       "      <th>subscription_type</th>\n",
       "      <th>minute_price</th>\n",
       "      <th>start_ride_price</th>\n",
       "      <th>subscription_fee</th>\n",
       "    </tr>\n",
       "  </thead>\n",
       "  <tbody>\n",
       "    <tr>\n",
       "      <th>0</th>\n",
       "      <td>1</td>\n",
       "      <td>4409.919140</td>\n",
       "      <td>25.599769</td>\n",
       "      <td>2021-01-01</td>\n",
       "      <td>1</td>\n",
       "      <td>Кира</td>\n",
       "      <td>22</td>\n",
       "      <td>Тюмень</td>\n",
       "      <td>ultra</td>\n",
       "      <td>6</td>\n",
       "      <td>0</td>\n",
       "      <td>199</td>\n",
       "    </tr>\n",
       "    <tr>\n",
       "      <th>1</th>\n",
       "      <td>1</td>\n",
       "      <td>2617.592153</td>\n",
       "      <td>15.816871</td>\n",
       "      <td>2021-01-18</td>\n",
       "      <td>1</td>\n",
       "      <td>Кира</td>\n",
       "      <td>22</td>\n",
       "      <td>Тюмень</td>\n",
       "      <td>ultra</td>\n",
       "      <td>6</td>\n",
       "      <td>0</td>\n",
       "      <td>199</td>\n",
       "    </tr>\n",
       "    <tr>\n",
       "      <th>2</th>\n",
       "      <td>1</td>\n",
       "      <td>754.159807</td>\n",
       "      <td>6.232113</td>\n",
       "      <td>2021-04-20</td>\n",
       "      <td>4</td>\n",
       "      <td>Кира</td>\n",
       "      <td>22</td>\n",
       "      <td>Тюмень</td>\n",
       "      <td>ultra</td>\n",
       "      <td>6</td>\n",
       "      <td>0</td>\n",
       "      <td>199</td>\n",
       "    </tr>\n",
       "    <tr>\n",
       "      <th>3</th>\n",
       "      <td>1</td>\n",
       "      <td>2694.783254</td>\n",
       "      <td>18.511000</td>\n",
       "      <td>2021-08-11</td>\n",
       "      <td>8</td>\n",
       "      <td>Кира</td>\n",
       "      <td>22</td>\n",
       "      <td>Тюмень</td>\n",
       "      <td>ultra</td>\n",
       "      <td>6</td>\n",
       "      <td>0</td>\n",
       "      <td>199</td>\n",
       "    </tr>\n",
       "    <tr>\n",
       "      <th>4</th>\n",
       "      <td>1</td>\n",
       "      <td>4028.687306</td>\n",
       "      <td>26.265803</td>\n",
       "      <td>2021-08-28</td>\n",
       "      <td>8</td>\n",
       "      <td>Кира</td>\n",
       "      <td>22</td>\n",
       "      <td>Тюмень</td>\n",
       "      <td>ultra</td>\n",
       "      <td>6</td>\n",
       "      <td>0</td>\n",
       "      <td>199</td>\n",
       "    </tr>\n",
       "    <tr>\n",
       "      <th>5</th>\n",
       "      <td>1</td>\n",
       "      <td>2770.890808</td>\n",
       "      <td>16.650138</td>\n",
       "      <td>2021-10-09</td>\n",
       "      <td>10</td>\n",
       "      <td>Кира</td>\n",
       "      <td>22</td>\n",
       "      <td>Тюмень</td>\n",
       "      <td>ultra</td>\n",
       "      <td>6</td>\n",
       "      <td>0</td>\n",
       "      <td>199</td>\n",
       "    </tr>\n",
       "    <tr>\n",
       "      <th>6</th>\n",
       "      <td>1</td>\n",
       "      <td>3039.020292</td>\n",
       "      <td>14.927879</td>\n",
       "      <td>2021-10-19</td>\n",
       "      <td>10</td>\n",
       "      <td>Кира</td>\n",
       "      <td>22</td>\n",
       "      <td>Тюмень</td>\n",
       "      <td>ultra</td>\n",
       "      <td>6</td>\n",
       "      <td>0</td>\n",
       "      <td>199</td>\n",
       "    </tr>\n",
       "    <tr>\n",
       "      <th>7</th>\n",
       "      <td>1</td>\n",
       "      <td>2842.118050</td>\n",
       "      <td>23.117468</td>\n",
       "      <td>2021-11-06</td>\n",
       "      <td>11</td>\n",
       "      <td>Кира</td>\n",
       "      <td>22</td>\n",
       "      <td>Тюмень</td>\n",
       "      <td>ultra</td>\n",
       "      <td>6</td>\n",
       "      <td>0</td>\n",
       "      <td>199</td>\n",
       "    </tr>\n",
       "    <tr>\n",
       "      <th>8</th>\n",
       "      <td>1</td>\n",
       "      <td>3412.690668</td>\n",
       "      <td>15.238072</td>\n",
       "      <td>2021-11-14</td>\n",
       "      <td>11</td>\n",
       "      <td>Кира</td>\n",
       "      <td>22</td>\n",
       "      <td>Тюмень</td>\n",
       "      <td>ultra</td>\n",
       "      <td>6</td>\n",
       "      <td>0</td>\n",
       "      <td>199</td>\n",
       "    </tr>\n",
       "    <tr>\n",
       "      <th>9</th>\n",
       "      <td>1</td>\n",
       "      <td>748.690645</td>\n",
       "      <td>15.041884</td>\n",
       "      <td>2021-11-22</td>\n",
       "      <td>11</td>\n",
       "      <td>Кира</td>\n",
       "      <td>22</td>\n",
       "      <td>Тюмень</td>\n",
       "      <td>ultra</td>\n",
       "      <td>6</td>\n",
       "      <td>0</td>\n",
       "      <td>199</td>\n",
       "    </tr>\n",
       "  </tbody>\n",
       "</table>\n",
       "</div>"
      ],
      "text/plain": [
       "   user_id     distance   duration       date  month  name  age    city  \\\n",
       "0        1  4409.919140  25.599769 2021-01-01      1  Кира   22  Тюмень   \n",
       "1        1  2617.592153  15.816871 2021-01-18      1  Кира   22  Тюмень   \n",
       "2        1   754.159807   6.232113 2021-04-20      4  Кира   22  Тюмень   \n",
       "3        1  2694.783254  18.511000 2021-08-11      8  Кира   22  Тюмень   \n",
       "4        1  4028.687306  26.265803 2021-08-28      8  Кира   22  Тюмень   \n",
       "5        1  2770.890808  16.650138 2021-10-09     10  Кира   22  Тюмень   \n",
       "6        1  3039.020292  14.927879 2021-10-19     10  Кира   22  Тюмень   \n",
       "7        1  2842.118050  23.117468 2021-11-06     11  Кира   22  Тюмень   \n",
       "8        1  3412.690668  15.238072 2021-11-14     11  Кира   22  Тюмень   \n",
       "9        1   748.690645  15.041884 2021-11-22     11  Кира   22  Тюмень   \n",
       "\n",
       "  subscription_type  minute_price  start_ride_price  subscription_fee  \n",
       "0             ultra             6                 0               199  \n",
       "1             ultra             6                 0               199  \n",
       "2             ultra             6                 0               199  \n",
       "3             ultra             6                 0               199  \n",
       "4             ultra             6                 0               199  \n",
       "5             ultra             6                 0               199  \n",
       "6             ultra             6                 0               199  \n",
       "7             ultra             6                 0               199  \n",
       "8             ultra             6                 0               199  \n",
       "9             ultra             6                 0               199  "
      ]
     },
     "execution_count": 34,
     "metadata": {},
     "output_type": "execute_result"
    }
   ],
   "source": [
    "# данные о пользователях с подпиской\n",
    "data_with_sub = data[data['subscription_type'] == 'ultra']\n",
    "data_with_sub.head(10)"
   ]
  },
  {
   "cell_type": "markdown",
   "id": "320f78ca",
   "metadata": {},
   "source": [
    "#### Исследование расстояния и времени у пользователей с подпиской и без подписки"
   ]
  },
  {
   "cell_type": "code",
   "execution_count": 35,
   "id": "3b095e3c",
   "metadata": {},
   "outputs": [
    {
     "data": {
      "image/png": "[encoded data removed]",
      "text/plain": [
       "<Figure size 720x576 with 1 Axes>"
      ]
     },
     "metadata": {
      "needs_background": "light"
     },
     "output_type": "display_data"
    },
    {
     "data": {
      "text/plain": [
       "count    11473.000000\n",
       "mean      3028.374239\n",
       "std       1235.541051\n",
       "min          0.855683\n",
       "25%       2360.878149\n",
       "50%       3102.083025\n",
       "75%       3883.979311\n",
       "max       7066.003772\n",
       "Name: distance, dtype: float64"
      ]
     },
     "execution_count": 35,
     "metadata": {},
     "output_type": "execute_result"
    }
   ],
   "source": [
    "# расстояние поездок у пользователей без подписки\n",
    "data_no_sub['distance'].hist(figsize=(10,8), bins=100)\n",
    "plt.title('Расстояние поездок у пользователей без подписки')\n",
    "plt.xlabel('Расстояние, м.')\n",
    "plt.show()\n",
    "\n",
    "# описание данных\n",
    "data_no_sub['distance'].describe()"
   ]
  },
  {
   "cell_type": "markdown",
   "id": "c0f7ac5a",
   "metadata": {},
   "source": [
    "График по форме идентичен графику с общими данными, но смещен чуть влево (среднее время поездки меньше)."
   ]
  },
  {
   "cell_type": "code",
   "execution_count": 36,
   "id": "a293ef84",
   "metadata": {},
   "outputs": [
    {
     "data": {
      "image/png": "[encoded data removed]",
      "text/plain": [
       "<Figure size 720x576 with 1 Axes>"
      ]
     },
     "metadata": {
      "needs_background": "light"
     },
     "output_type": "display_data"
    },
    {
     "data": {
      "text/plain": [
       "count    6500.000000\n",
       "mean     3115.445388\n",
       "std       836.895330\n",
       "min       244.210438\n",
       "25%      2785.444017\n",
       "50%      3148.637229\n",
       "75%      3560.574425\n",
       "max      5699.769662\n",
       "Name: distance, dtype: float64"
      ]
     },
     "execution_count": 36,
     "metadata": {},
     "output_type": "execute_result"
    }
   ],
   "source": [
    "# расстояние поездок у пользователей с подпиской\n",
    "data_with_sub['distance'].hist(figsize=(10,8), bins=100)\n",
    "plt.title('Расстояние поездок у пользователей с подпиской')\n",
    "plt.xlabel('Расстояние, м.')\n",
    "plt.show()\n",
    "\n",
    "# описание данных\n",
    "data_with_sub['distance'].describe()"
   ]
  },
  {
   "cell_type": "markdown",
   "id": "4df13f3d",
   "metadata": {},
   "source": [
    "У пользователей с подпиской график смещен вправо (среднее время поездки больше), и менее вытянут(среднеквадратическое отклонение меньше). Пользователи без подписки совершают больше коротких поездок (до 1 км.)."
   ]
  },
  {
   "cell_type": "code",
   "execution_count": 37,
   "id": "ac7b5a23",
   "metadata": {},
   "outputs": [
    {
     "data": {
      "image/png": "[encoded data removed]",
      "text/plain": [
       "<Figure size 720x576 with 1 Axes>"
      ]
     },
     "metadata": {
      "needs_background": "light"
     },
     "output_type": "display_data"
    },
    {
     "data": {
      "text/plain": [
       "count    11473.000000\n",
       "mean        17.530771\n",
       "std          6.162609\n",
       "min          2.035632\n",
       "25%         13.085688\n",
       "50%         17.383807\n",
       "75%         21.638038\n",
       "max         34.948498\n",
       "Name: duration, dtype: float64"
      ]
     },
     "execution_count": 37,
     "metadata": {},
     "output_type": "execute_result"
    }
   ],
   "source": [
    "# продолжительность поездок у пользователей без подписки\n",
    "data_no_sub['duration'].hist(figsize=(10,8), bins=100)\n",
    "plt.title('Продолжительность поездок у пользователей без подписки')\n",
    "plt.xlabel('Время, мин.')\n",
    "plt.show()\n",
    "\n",
    "# описание данных\n",
    "data_no_sub['duration'].describe()"
   ]
  },
  {
   "cell_type": "markdown",
   "id": "f2ff828d",
   "metadata": {},
   "source": [
    "График по внешнему виду и параметрам идентичен графику со всеми данными. Cредняя продолжительность поездки меньше."
   ]
  },
  {
   "cell_type": "code",
   "execution_count": 38,
   "id": "9924baa2",
   "metadata": {},
   "outputs": [
    {
     "data": {
      "image/png": "[encoded data removed]",
      "text/plain": [
       "<Figure size 720x576 with 1 Axes>"
      ]
     },
     "metadata": {
      "needs_background": "light"
     },
     "output_type": "display_data"
    },
    {
     "data": {
      "text/plain": [
       "count    6500.000000\n",
       "mean       18.541985\n",
       "std         5.572048\n",
       "min         3.760353\n",
       "25%        14.524654\n",
       "50%        18.178153\n",
       "75%        21.884129\n",
       "max        40.823963\n",
       "Name: duration, dtype: float64"
      ]
     },
     "execution_count": 38,
     "metadata": {},
     "output_type": "execute_result"
    }
   ],
   "source": [
    "# продолжительность поездок у пользователей с подпиской\n",
    "data_with_sub['duration'].hist(figsize=(10,8), bins=100)\n",
    "plt.title('Продолжительность поездок у пользователей с подпиской')\n",
    "plt.xlabel('Время, мин.')\n",
    "plt.show()\n",
    "\n",
    "# описание данных\n",
    "data_with_sub['duration'].describe()"
   ]
  },
  {
   "cell_type": "markdown",
   "id": "ff21d116",
   "metadata": {},
   "source": [
    "График по внешнему виду и параметрам идентичен графику со всеми данными. Cредняя продолжительность поездки больше. Так же заметно что график меньше вытянут."
   ]
  },
  {
   "cell_type": "markdown",
   "id": "3d401ef0",
   "metadata": {},
   "source": [
    "**Вывод:** На данном этапе мы объединили три таблицы `users`, `rides` и `subscriptions` в одну - `data`, с помощью метода `merge()`. Из нее создали два датафрейма `data_with_sub` (пользователи с подпиской) и `data_no_sub` (пользователи без подписки). \n",
    "\n",
    "В этих датафреймах мы исследовали продолжительность поездок и расстоние, в результате чего пришли к выводу, что распределение внутри каждого набора остается близким к нормальному. У пользователей с подпиской средние изучаемых параметров ненамного смещены в большую сторону относительно пользователей без подписки. Это говорит о том, что пользователи с подпиской в целом тратят чуть больше времени, и ездят на чуть большее расстояние чем пользователи без подписки. Вероятно это связано с условиями подписки, и с ней ездить на большие расстояния более выгодно. \n",
    "\n",
    "Стандартное отклонение у изучаемых параметров у пользователей с подпиской меньше чем без подписки, что говорит о том что данные больше сосредоточены вокруг среднего значения. Это также можно увидеть на графиках."
   ]
  },
  {
   "cell_type": "markdown",
   "id": "402d620f",
   "metadata": {},
   "source": [
    "### Подсчёт выручки"
   ]
  },
  {
   "cell_type": "markdown",
   "id": "14b2866b",
   "metadata": {},
   "source": [
    "Создадим датафрейм с агрегированными данными о поездках на основе датафрейма `data`: найдем суммарное расстояние, количество поездок и суммарное время для каждого пользователя за каждый месяц. Также добавим данные о подписке."
   ]
  },
  {
   "cell_type": "code",
   "execution_count": 39,
   "id": "eaec3bf8",
   "metadata": {},
   "outputs": [
    {
     "data": {
      "text/html": [
       "<div>\n",
       "<style scoped>\n",
       "    .dataframe tbody tr th:only-of-type {\n",
       "        vertical-align: middle;\n",
       "    }\n",
       "\n",
       "    .dataframe tbody tr th {\n",
       "        vertical-align: top;\n",
       "    }\n",
       "\n",
       "    .dataframe thead th {\n",
       "        text-align: right;\n",
       "    }\n",
       "</style>\n",
       "<table border=\"1\" class=\"dataframe\">\n",
       "  <thead>\n",
       "    <tr style=\"text-align: right;\">\n",
       "      <th></th>\n",
       "      <th>month</th>\n",
       "      <th>user_id</th>\n",
       "      <th>subscription_fee</th>\n",
       "      <th>start_ride_price</th>\n",
       "      <th>minute_price</th>\n",
       "      <th>count_rides</th>\n",
       "      <th>distance</th>\n",
       "      <th>duration</th>\n",
       "    </tr>\n",
       "  </thead>\n",
       "  <tbody>\n",
       "    <tr>\n",
       "      <th>0</th>\n",
       "      <td>1</td>\n",
       "      <td>1</td>\n",
       "      <td>199</td>\n",
       "      <td>0</td>\n",
       "      <td>6</td>\n",
       "      <td>2</td>\n",
       "      <td>7027.511294</td>\n",
       "      <td>41.416640</td>\n",
       "    </tr>\n",
       "    <tr>\n",
       "      <th>1</th>\n",
       "      <td>1</td>\n",
       "      <td>3</td>\n",
       "      <td>199</td>\n",
       "      <td>0</td>\n",
       "      <td>6</td>\n",
       "      <td>1</td>\n",
       "      <td>3061.777147</td>\n",
       "      <td>12.654443</td>\n",
       "    </tr>\n",
       "    <tr>\n",
       "      <th>2</th>\n",
       "      <td>1</td>\n",
       "      <td>5</td>\n",
       "      <td>199</td>\n",
       "      <td>0</td>\n",
       "      <td>6</td>\n",
       "      <td>1</td>\n",
       "      <td>3914.646990</td>\n",
       "      <td>12.395153</td>\n",
       "    </tr>\n",
       "    <tr>\n",
       "      <th>3</th>\n",
       "      <td>1</td>\n",
       "      <td>7</td>\n",
       "      <td>199</td>\n",
       "      <td>0</td>\n",
       "      <td>6</td>\n",
       "      <td>2</td>\n",
       "      <td>6478.080979</td>\n",
       "      <td>27.653450</td>\n",
       "    </tr>\n",
       "    <tr>\n",
       "      <th>4</th>\n",
       "      <td>1</td>\n",
       "      <td>12</td>\n",
       "      <td>199</td>\n",
       "      <td>0</td>\n",
       "      <td>6</td>\n",
       "      <td>1</td>\n",
       "      <td>3577.151148</td>\n",
       "      <td>32.462907</td>\n",
       "    </tr>\n",
       "    <tr>\n",
       "      <th>...</th>\n",
       "      <td>...</td>\n",
       "      <td>...</td>\n",
       "      <td>...</td>\n",
       "      <td>...</td>\n",
       "      <td>...</td>\n",
       "      <td>...</td>\n",
       "      <td>...</td>\n",
       "      <td>...</td>\n",
       "    </tr>\n",
       "    <tr>\n",
       "      <th>11295</th>\n",
       "      <td>12</td>\n",
       "      <td>1525</td>\n",
       "      <td>0</td>\n",
       "      <td>50</td>\n",
       "      <td>8</td>\n",
       "      <td>1</td>\n",
       "      <td>4597.854350</td>\n",
       "      <td>33.220866</td>\n",
       "    </tr>\n",
       "    <tr>\n",
       "      <th>11296</th>\n",
       "      <td>12</td>\n",
       "      <td>1526</td>\n",
       "      <td>0</td>\n",
       "      <td>50</td>\n",
       "      <td>8</td>\n",
       "      <td>1</td>\n",
       "      <td>3644.121544</td>\n",
       "      <td>22.665456</td>\n",
       "    </tr>\n",
       "    <tr>\n",
       "      <th>11297</th>\n",
       "      <td>12</td>\n",
       "      <td>1528</td>\n",
       "      <td>0</td>\n",
       "      <td>50</td>\n",
       "      <td>8</td>\n",
       "      <td>1</td>\n",
       "      <td>3998.569324</td>\n",
       "      <td>10.272902</td>\n",
       "    </tr>\n",
       "    <tr>\n",
       "      <th>11298</th>\n",
       "      <td>12</td>\n",
       "      <td>1532</td>\n",
       "      <td>0</td>\n",
       "      <td>50</td>\n",
       "      <td>8</td>\n",
       "      <td>2</td>\n",
       "      <td>6111.889853</td>\n",
       "      <td>40.128222</td>\n",
       "    </tr>\n",
       "    <tr>\n",
       "      <th>11299</th>\n",
       "      <td>12</td>\n",
       "      <td>1534</td>\n",
       "      <td>0</td>\n",
       "      <td>50</td>\n",
       "      <td>8</td>\n",
       "      <td>1</td>\n",
       "      <td>2371.711192</td>\n",
       "      <td>15.893917</td>\n",
       "    </tr>\n",
       "  </tbody>\n",
       "</table>\n",
       "<p>11300 rows × 8 columns</p>\n",
       "</div>"
      ],
      "text/plain": [
       "       month  user_id  subscription_fee  start_ride_price  minute_price  \\\n",
       "0          1        1               199                 0             6   \n",
       "1          1        3               199                 0             6   \n",
       "2          1        5               199                 0             6   \n",
       "3          1        7               199                 0             6   \n",
       "4          1       12               199                 0             6   \n",
       "...      ...      ...               ...               ...           ...   \n",
       "11295     12     1525                 0                50             8   \n",
       "11296     12     1526                 0                50             8   \n",
       "11297     12     1528                 0                50             8   \n",
       "11298     12     1532                 0                50             8   \n",
       "11299     12     1534                 0                50             8   \n",
       "\n",
       "       count_rides     distance   duration  \n",
       "0                2  7027.511294  41.416640  \n",
       "1                1  3061.777147  12.654443  \n",
       "2                1  3914.646990  12.395153  \n",
       "3                2  6478.080979  27.653450  \n",
       "4                1  3577.151148  32.462907  \n",
       "...            ...          ...        ...  \n",
       "11295            1  4597.854350  33.220866  \n",
       "11296            1  3644.121544  22.665456  \n",
       "11297            1  3998.569324  10.272902  \n",
       "11298            2  6111.889853  40.128222  \n",
       "11299            1  2371.711192  15.893917  \n",
       "\n",
       "[11300 rows x 8 columns]"
      ]
     },
     "execution_count": 39,
     "metadata": {},
     "output_type": "execute_result"
    }
   ],
   "source": [
    "# используем метод groupby()\n",
    "data_revenue = data.groupby(['month', 'user_id', 'subscription_fee', 'start_ride_price',\n",
    "                             'minute_price']).agg({'date':'count', 'distance':'sum', 'duration':'sum'}).reset_index()\n",
    "# переименуем столбец date в count_rides\n",
    "data_revenue = data_revenue.rename(columns={'date':'count_rides'})\n",
    "data_revenue"
   ]
  },
  {
   "cell_type": "markdown",
   "id": "6c169082",
   "metadata": {},
   "source": [
    "Проверим что один ползователь каждый месяц имеет только один вид подписки."
   ]
  },
  {
   "cell_type": "code",
   "execution_count": 40,
   "id": "0ae12dcd",
   "metadata": {},
   "outputs": [
    {
     "name": "stdout",
     "output_type": "stream",
     "text": [
      "(11300, 8)\n",
      "(11300, 3)\n"
     ]
    }
   ],
   "source": [
    "print(data_revenue.shape)\n",
    "print(data.groupby(['month', 'user_id']).agg({'user_id':'count', 'distance':'sum', 'duration':'sum'}).shape)"
   ]
  },
  {
   "cell_type": "markdown",
   "id": "d98dc272",
   "metadata": {},
   "source": [
    "Кол-во строк одинаково, значит все верно.\n",
    "\n",
    "Для дальнейших расчетов, продолжительность поездки в каждой строке датафрейма `data_revenue` округлим до следующего целого числа."
   ]
  },
  {
   "cell_type": "code",
   "execution_count": 41,
   "id": "ddfc5e97",
   "metadata": {},
   "outputs": [
    {
     "data": {
      "text/html": [
       "<div>\n",
       "<style scoped>\n",
       "    .dataframe tbody tr th:only-of-type {\n",
       "        vertical-align: middle;\n",
       "    }\n",
       "\n",
       "    .dataframe tbody tr th {\n",
       "        vertical-align: top;\n",
       "    }\n",
       "\n",
       "    .dataframe thead th {\n",
       "        text-align: right;\n",
       "    }\n",
       "</style>\n",
       "<table border=\"1\" class=\"dataframe\">\n",
       "  <thead>\n",
       "    <tr style=\"text-align: right;\">\n",
       "      <th></th>\n",
       "      <th>month</th>\n",
       "      <th>user_id</th>\n",
       "      <th>subscription_fee</th>\n",
       "      <th>start_ride_price</th>\n",
       "      <th>minute_price</th>\n",
       "      <th>count_rides</th>\n",
       "      <th>distance</th>\n",
       "      <th>duration</th>\n",
       "    </tr>\n",
       "  </thead>\n",
       "  <tbody>\n",
       "    <tr>\n",
       "      <th>0</th>\n",
       "      <td>1</td>\n",
       "      <td>1</td>\n",
       "      <td>199</td>\n",
       "      <td>0</td>\n",
       "      <td>6</td>\n",
       "      <td>2</td>\n",
       "      <td>7027.511294</td>\n",
       "      <td>42</td>\n",
       "    </tr>\n",
       "    <tr>\n",
       "      <th>1</th>\n",
       "      <td>1</td>\n",
       "      <td>3</td>\n",
       "      <td>199</td>\n",
       "      <td>0</td>\n",
       "      <td>6</td>\n",
       "      <td>1</td>\n",
       "      <td>3061.777147</td>\n",
       "      <td>13</td>\n",
       "    </tr>\n",
       "    <tr>\n",
       "      <th>2</th>\n",
       "      <td>1</td>\n",
       "      <td>5</td>\n",
       "      <td>199</td>\n",
       "      <td>0</td>\n",
       "      <td>6</td>\n",
       "      <td>1</td>\n",
       "      <td>3914.646990</td>\n",
       "      <td>13</td>\n",
       "    </tr>\n",
       "    <tr>\n",
       "      <th>3</th>\n",
       "      <td>1</td>\n",
       "      <td>7</td>\n",
       "      <td>199</td>\n",
       "      <td>0</td>\n",
       "      <td>6</td>\n",
       "      <td>2</td>\n",
       "      <td>6478.080979</td>\n",
       "      <td>28</td>\n",
       "    </tr>\n",
       "    <tr>\n",
       "      <th>4</th>\n",
       "      <td>1</td>\n",
       "      <td>12</td>\n",
       "      <td>199</td>\n",
       "      <td>0</td>\n",
       "      <td>6</td>\n",
       "      <td>1</td>\n",
       "      <td>3577.151148</td>\n",
       "      <td>33</td>\n",
       "    </tr>\n",
       "    <tr>\n",
       "      <th>...</th>\n",
       "      <td>...</td>\n",
       "      <td>...</td>\n",
       "      <td>...</td>\n",
       "      <td>...</td>\n",
       "      <td>...</td>\n",
       "      <td>...</td>\n",
       "      <td>...</td>\n",
       "      <td>...</td>\n",
       "    </tr>\n",
       "    <tr>\n",
       "      <th>11295</th>\n",
       "      <td>12</td>\n",
       "      <td>1525</td>\n",
       "      <td>0</td>\n",
       "      <td>50</td>\n",
       "      <td>8</td>\n",
       "      <td>1</td>\n",
       "      <td>4597.854350</td>\n",
       "      <td>34</td>\n",
       "    </tr>\n",
       "    <tr>\n",
       "      <th>11296</th>\n",
       "      <td>12</td>\n",
       "      <td>1526</td>\n",
       "      <td>0</td>\n",
       "      <td>50</td>\n",
       "      <td>8</td>\n",
       "      <td>1</td>\n",
       "      <td>3644.121544</td>\n",
       "      <td>23</td>\n",
       "    </tr>\n",
       "    <tr>\n",
       "      <th>11297</th>\n",
       "      <td>12</td>\n",
       "      <td>1528</td>\n",
       "      <td>0</td>\n",
       "      <td>50</td>\n",
       "      <td>8</td>\n",
       "      <td>1</td>\n",
       "      <td>3998.569324</td>\n",
       "      <td>11</td>\n",
       "    </tr>\n",
       "    <tr>\n",
       "      <th>11298</th>\n",
       "      <td>12</td>\n",
       "      <td>1532</td>\n",
       "      <td>0</td>\n",
       "      <td>50</td>\n",
       "      <td>8</td>\n",
       "      <td>2</td>\n",
       "      <td>6111.889853</td>\n",
       "      <td>41</td>\n",
       "    </tr>\n",
       "    <tr>\n",
       "      <th>11299</th>\n",
       "      <td>12</td>\n",
       "      <td>1534</td>\n",
       "      <td>0</td>\n",
       "      <td>50</td>\n",
       "      <td>8</td>\n",
       "      <td>1</td>\n",
       "      <td>2371.711192</td>\n",
       "      <td>16</td>\n",
       "    </tr>\n",
       "  </tbody>\n",
       "</table>\n",
       "<p>11300 rows × 8 columns</p>\n",
       "</div>"
      ],
      "text/plain": [
       "       month  user_id  subscription_fee  start_ride_price  minute_price  \\\n",
       "0          1        1               199                 0             6   \n",
       "1          1        3               199                 0             6   \n",
       "2          1        5               199                 0             6   \n",
       "3          1        7               199                 0             6   \n",
       "4          1       12               199                 0             6   \n",
       "...      ...      ...               ...               ...           ...   \n",
       "11295     12     1525                 0                50             8   \n",
       "11296     12     1526                 0                50             8   \n",
       "11297     12     1528                 0                50             8   \n",
       "11298     12     1532                 0                50             8   \n",
       "11299     12     1534                 0                50             8   \n",
       "\n",
       "       count_rides     distance  duration  \n",
       "0                2  7027.511294        42  \n",
       "1                1  3061.777147        13  \n",
       "2                1  3914.646990        13  \n",
       "3                2  6478.080979        28  \n",
       "4                1  3577.151148        33  \n",
       "...            ...          ...       ...  \n",
       "11295            1  4597.854350        34  \n",
       "11296            1  3644.121544        23  \n",
       "11297            1  3998.569324        11  \n",
       "11298            2  6111.889853        41  \n",
       "11299            1  2371.711192        16  \n",
       "\n",
       "[11300 rows x 8 columns]"
      ]
     },
     "execution_count": 41,
     "metadata": {},
     "output_type": "execute_result"
    }
   ],
   "source": [
    "# используем метод np.ceil() и преобразовываем в целое число\n",
    "data_revenue['duration'] = np.ceil(data_revenue['duration']).astype(int)\n",
    "data_revenue"
   ]
  },
  {
   "cell_type": "markdown",
   "id": "b26d4e67",
   "metadata": {},
   "source": [
    "Добавим столбец с выручкой за поездку."
   ]
  },
  {
   "cell_type": "code",
   "execution_count": 42,
   "id": "920f1954",
   "metadata": {},
   "outputs": [
    {
     "data": {
      "text/html": [
       "<div>\n",
       "<style scoped>\n",
       "    .dataframe tbody tr th:only-of-type {\n",
       "        vertical-align: middle;\n",
       "    }\n",
       "\n",
       "    .dataframe tbody tr th {\n",
       "        vertical-align: top;\n",
       "    }\n",
       "\n",
       "    .dataframe thead th {\n",
       "        text-align: right;\n",
       "    }\n",
       "</style>\n",
       "<table border=\"1\" class=\"dataframe\">\n",
       "  <thead>\n",
       "    <tr style=\"text-align: right;\">\n",
       "      <th></th>\n",
       "      <th>month</th>\n",
       "      <th>user_id</th>\n",
       "      <th>subscription_fee</th>\n",
       "      <th>start_ride_price</th>\n",
       "      <th>minute_price</th>\n",
       "      <th>count_rides</th>\n",
       "      <th>distance</th>\n",
       "      <th>duration</th>\n",
       "      <th>revenue</th>\n",
       "    </tr>\n",
       "  </thead>\n",
       "  <tbody>\n",
       "    <tr>\n",
       "      <th>0</th>\n",
       "      <td>1</td>\n",
       "      <td>1</td>\n",
       "      <td>199</td>\n",
       "      <td>0</td>\n",
       "      <td>6</td>\n",
       "      <td>2</td>\n",
       "      <td>7027.511294</td>\n",
       "      <td>42</td>\n",
       "      <td>451</td>\n",
       "    </tr>\n",
       "    <tr>\n",
       "      <th>1</th>\n",
       "      <td>1</td>\n",
       "      <td>3</td>\n",
       "      <td>199</td>\n",
       "      <td>0</td>\n",
       "      <td>6</td>\n",
       "      <td>1</td>\n",
       "      <td>3061.777147</td>\n",
       "      <td>13</td>\n",
       "      <td>277</td>\n",
       "    </tr>\n",
       "    <tr>\n",
       "      <th>2</th>\n",
       "      <td>1</td>\n",
       "      <td>5</td>\n",
       "      <td>199</td>\n",
       "      <td>0</td>\n",
       "      <td>6</td>\n",
       "      <td>1</td>\n",
       "      <td>3914.646990</td>\n",
       "      <td>13</td>\n",
       "      <td>277</td>\n",
       "    </tr>\n",
       "    <tr>\n",
       "      <th>3</th>\n",
       "      <td>1</td>\n",
       "      <td>7</td>\n",
       "      <td>199</td>\n",
       "      <td>0</td>\n",
       "      <td>6</td>\n",
       "      <td>2</td>\n",
       "      <td>6478.080979</td>\n",
       "      <td>28</td>\n",
       "      <td>367</td>\n",
       "    </tr>\n",
       "    <tr>\n",
       "      <th>4</th>\n",
       "      <td>1</td>\n",
       "      <td>12</td>\n",
       "      <td>199</td>\n",
       "      <td>0</td>\n",
       "      <td>6</td>\n",
       "      <td>1</td>\n",
       "      <td>3577.151148</td>\n",
       "      <td>33</td>\n",
       "      <td>397</td>\n",
       "    </tr>\n",
       "    <tr>\n",
       "      <th>...</th>\n",
       "      <td>...</td>\n",
       "      <td>...</td>\n",
       "      <td>...</td>\n",
       "      <td>...</td>\n",
       "      <td>...</td>\n",
       "      <td>...</td>\n",
       "      <td>...</td>\n",
       "      <td>...</td>\n",
       "      <td>...</td>\n",
       "    </tr>\n",
       "    <tr>\n",
       "      <th>11295</th>\n",
       "      <td>12</td>\n",
       "      <td>1525</td>\n",
       "      <td>0</td>\n",
       "      <td>50</td>\n",
       "      <td>8</td>\n",
       "      <td>1</td>\n",
       "      <td>4597.854350</td>\n",
       "      <td>34</td>\n",
       "      <td>322</td>\n",
       "    </tr>\n",
       "    <tr>\n",
       "      <th>11296</th>\n",
       "      <td>12</td>\n",
       "      <td>1526</td>\n",
       "      <td>0</td>\n",
       "      <td>50</td>\n",
       "      <td>8</td>\n",
       "      <td>1</td>\n",
       "      <td>3644.121544</td>\n",
       "      <td>23</td>\n",
       "      <td>234</td>\n",
       "    </tr>\n",
       "    <tr>\n",
       "      <th>11297</th>\n",
       "      <td>12</td>\n",
       "      <td>1528</td>\n",
       "      <td>0</td>\n",
       "      <td>50</td>\n",
       "      <td>8</td>\n",
       "      <td>1</td>\n",
       "      <td>3998.569324</td>\n",
       "      <td>11</td>\n",
       "      <td>138</td>\n",
       "    </tr>\n",
       "    <tr>\n",
       "      <th>11298</th>\n",
       "      <td>12</td>\n",
       "      <td>1532</td>\n",
       "      <td>0</td>\n",
       "      <td>50</td>\n",
       "      <td>8</td>\n",
       "      <td>2</td>\n",
       "      <td>6111.889853</td>\n",
       "      <td>41</td>\n",
       "      <td>428</td>\n",
       "    </tr>\n",
       "    <tr>\n",
       "      <th>11299</th>\n",
       "      <td>12</td>\n",
       "      <td>1534</td>\n",
       "      <td>0</td>\n",
       "      <td>50</td>\n",
       "      <td>8</td>\n",
       "      <td>1</td>\n",
       "      <td>2371.711192</td>\n",
       "      <td>16</td>\n",
       "      <td>178</td>\n",
       "    </tr>\n",
       "  </tbody>\n",
       "</table>\n",
       "<p>11300 rows × 9 columns</p>\n",
       "</div>"
      ],
      "text/plain": [
       "       month  user_id  subscription_fee  start_ride_price  minute_price  \\\n",
       "0          1        1               199                 0             6   \n",
       "1          1        3               199                 0             6   \n",
       "2          1        5               199                 0             6   \n",
       "3          1        7               199                 0             6   \n",
       "4          1       12               199                 0             6   \n",
       "...      ...      ...               ...               ...           ...   \n",
       "11295     12     1525                 0                50             8   \n",
       "11296     12     1526                 0                50             8   \n",
       "11297     12     1528                 0                50             8   \n",
       "11298     12     1532                 0                50             8   \n",
       "11299     12     1534                 0                50             8   \n",
       "\n",
       "       count_rides     distance  duration  revenue  \n",
       "0                2  7027.511294        42      451  \n",
       "1                1  3061.777147        13      277  \n",
       "2                1  3914.646990        13      277  \n",
       "3                2  6478.080979        28      367  \n",
       "4                1  3577.151148        33      397  \n",
       "...            ...          ...       ...      ...  \n",
       "11295            1  4597.854350        34      322  \n",
       "11296            1  3644.121544        23      234  \n",
       "11297            1  3998.569324        11      138  \n",
       "11298            2  6111.889853        41      428  \n",
       "11299            1  2371.711192        16      178  \n",
       "\n",
       "[11300 rows x 9 columns]"
      ]
     },
     "execution_count": 42,
     "metadata": {},
     "output_type": "execute_result"
    }
   ],
   "source": [
    "#  цена подписки + стоимость старта поездки * кол-во поездок + цена за минуту * кол-во минут\n",
    "data_revenue['revenue'] =  data_revenue['subscription_fee'] + data_revenue['start_ride_price'] * data_revenue['count_rides'] + \\\n",
    "data_revenue['minute_price'] * data_revenue['duration']\n",
    "\n",
    "data_revenue"
   ]
  },
  {
   "cell_type": "markdown",
   "id": "ba1a1f98",
   "metadata": {},
   "source": [
    "**Вывод:** Мы создали новый датафрейм с данными о поездках пользователей в разбивке по месяцам. Добавили туда выручку от каждого пользователя в месяц."
   ]
  },
  {
   "cell_type": "markdown",
   "id": "41545ac0",
   "metadata": {},
   "source": [
    "### Проверка гипотез"
   ]
  },
  {
   "cell_type": "markdown",
   "id": "19596771",
   "metadata": {},
   "source": [
    "#### Тратят ли пользователи с подпиской больше времени на поездки"
   ]
  },
  {
   "cell_type": "markdown",
   "id": "380769b2",
   "metadata": {},
   "source": [
    "- Нулевая гипотеза: средние значения продолжительности сессии у пользователей с подпиской и без подписки равны\n",
    "- Альтернативная гипотеза: среднее значение продолжительности сессии у пользователей с подпиской больше чем у пользователей без подписки"
   ]
  },
  {
   "cell_type": "code",
   "execution_count": 43,
   "id": "23ea867b",
   "metadata": {},
   "outputs": [
    {
     "name": "stdout",
     "output_type": "stream",
     "text": [
      "p-value: 4.704468074453899e-28\n",
      "Отвергаем нулевую гипотезу\n"
     ]
    }
   ],
   "source": [
    "# задаём уровень значимости\n",
    "alpha = 0.05\n",
    "\n",
    "# продолжительной сессий у пользователей с подпиской\n",
    "first_group_duration = data_with_sub['duration'] \n",
    "\n",
    "# продолжительной сессий у пользователей без подписки\n",
    "second_group_duration = data_no_sub['duration'] \n",
    "\n",
    "# проводим ttest для двух выборок, в качестве альтернативной используем одностороннюю гипотезу \"больше\"\n",
    "results = st.ttest_ind(first_group_duration, second_group_duration, alternative='greater')\n",
    "\n",
    "print(f'p-value: {results.pvalue}')\n",
    "\n",
    "# проверяем p-value\n",
    "if results.pvalue < alpha:\n",
    "    print('Отвергаем нулевую гипотезу')\n",
    "else:\n",
    "    print('Нет оснований отвергнуть нулевую гипотезу')"
   ]
  },
  {
   "cell_type": "markdown",
   "id": "c52de66c",
   "metadata": {},
   "source": [
    "Полученное значение p-value значительно меньше заданного уровня значимости, поэтому можно отвергнуть нулевую гипотезу. **Есть основания говорить, что пользователи с подпиской тратят на поездки больше времени.**"
   ]
  },
  {
   "cell_type": "markdown",
   "id": "ca77668f",
   "metadata": {},
   "source": [
    "#### Расстояние, которое проезжают пользователи с подпиской за одну поездку, не превышает 3130 метров"
   ]
  },
  {
   "cell_type": "markdown",
   "id": "b096ca21",
   "metadata": {},
   "source": [
    "- Нулевая гипотеза: продолжительности сессии у пользователей с подпиской равны 3130 метров.\n",
    "- Альтернативная гипотеза: продолжительности сессии у пользователей с подпиской меньше 3130 метров."
   ]
  },
  {
   "cell_type": "code",
   "execution_count": 44,
   "id": "113f9d6b",
   "metadata": {},
   "outputs": [
    {
     "name": "stdout",
     "output_type": "stream",
     "text": [
      "p-value: 0.08046311521502146\n",
      "Нет оснований отвергнуть нулевую гипотезу\n"
     ]
    }
   ],
   "source": [
    "# задаём уровень значимости\n",
    "alpha = 0.05\n",
    "\n",
    "# оптимальное расстояние одной поездки\n",
    "interested_value = 3130\n",
    "\n",
    "# продолжительной сессий у пользователей с подпиской\n",
    "durations = data_with_sub['distance'] \n",
    "\n",
    "# проводим ttest для выборки и оптимального значения, в качестве альтернативной используем одностороннюю гипотезу \"меньше\"\n",
    "results = st.ttest_1samp(durations, interested_value, alternative='less')\n",
    "results1 = st.ttest_1samp(durations, interested_value, alternative='greater')\n",
    "\n",
    "\n",
    "print(f'p-value: {results.pvalue}')\n",
    "\n",
    "# проверяем p-value\n",
    "if results.pvalue < alpha:\n",
    "    print('Отвергаем нулевую гипотезу')\n",
    "else:\n",
    "    print('Нет оснований отвергнуть нулевую гипотезу')"
   ]
  },
  {
   "cell_type": "markdown",
   "id": "313ce7d1",
   "metadata": {},
   "source": [
    "У нас нет достаточных доказательств для того чтобы отвергнуть гипотезу. **Пользователи с подпиской проезжают не меньше 3130 метров. Самокаты изнашиваются быстрее.**"
   ]
  },
  {
   "cell_type": "markdown",
   "id": "387c127f",
   "metadata": {},
   "source": [
    "#### Помесячная выручка от пользователей с подпиской по месяцам выше, чем выручка от пользователей без подписки."
   ]
  },
  {
   "cell_type": "markdown",
   "id": "a36b6b53",
   "metadata": {},
   "source": [
    "- Нулевая гипотеза: Помесячная выручка от пользователей с подпиской по месяцам равна выручке от пользователей без подписки.\n",
    "- Альтернативная гипотеза: Помесячная выручка от пользователей с подпиской по месяцам выше, чем выручка от пользователей без подписки."
   ]
  },
  {
   "cell_type": "code",
   "execution_count": 45,
   "id": "921fe60b",
   "metadata": {},
   "outputs": [
    {
     "name": "stdout",
     "output_type": "stream",
     "text": [
      "p-value: 3.914474385320123e-34\n",
      "Отвергаем нулевую гипотезу\n"
     ]
    }
   ],
   "source": [
    "# задаём уровень значимости\n",
    "alpha = 0.05\n",
    "\n",
    "# выручка у пользователей с подпиской\n",
    "first_group_duration = data_revenue.loc[data_revenue['subscription_fee'] != 0, 'revenue']\n",
    "\n",
    "# выручка у пользователей без подписки\n",
    "second_group_duration = data_revenue.loc[data_revenue['subscription_fee'] == 0, 'revenue']\n",
    "\n",
    "# проводим ttest для двух выборок, в качестве альтернативной используем одностороннюю гипотезу \"больше\"\n",
    "results = st.ttest_ind(first_group_duration, second_group_duration, alternative='greater')\n",
    "\n",
    "print(f'p-value: {results.pvalue}')\n",
    "\n",
    "# проверяем p-value\n",
    "if results.pvalue < alpha:\n",
    "    print('Отвергаем нулевую гипотезу')\n",
    "else:\n",
    "    print('Нет оснований отвергнуть нулевую гипотезу')"
   ]
  },
  {
   "cell_type": "markdown",
   "id": "b7666ba3",
   "metadata": {},
   "source": [
    "Полученное значение p-value значительно меньше заданного уровня значимости, поэтому можно отвергнуть нулевую гипотезу. **Есть основания говорить, что пользователи с подпиской приносят больше выручки, чем пользователи без подписки.**"
   ]
  },
  {
   "cell_type": "markdown",
   "id": "c7cddf6e",
   "metadata": {},
   "source": [
    "#### Выбор теста"
   ]
  },
  {
   "cell_type": "markdown",
   "id": "a7e62b81",
   "metadata": {},
   "source": [
    "Исходные данные: техническая команда сервиса обновила сервера, с которыми взаимодействует мобильное приложение. Она надеется, что из-за этого количество обращений в техподдержку значимо снизилось. Некоторый файл содержит для каждого пользователя данные о количестве обращений до обновления и после него.\n",
    "\n",
    "Для проверки этой гипотезы будем использовать t-тест для зависимых парных выборок `scipy.stats.ttest_rel()`."
   ]
  },
  {
   "cell_type": "markdown",
   "id": "4b7ead50",
   "metadata": {},
   "source": [
    "**Вывод:** Пользователи с подпиской тратят на поездки больше времени и приносят большую выручку чем пользователи без подписки. Но они проезжают расстояние достаточное большее чтобы ускорить износ самокатов."
   ]
  },
  {
   "cell_type": "markdown",
   "id": "150498c0",
   "metadata": {},
   "source": [
    "### Общий вывод"
   ]
  },
  {
   "cell_type": "markdown",
   "id": "5adc15cb",
   "metadata": {},
   "source": [
    "В данном проекте мы изучили данные сервиса аренды самокатов GoFast. Мы изучили три таблицы с информацией о пользователях, поездках и подписках.\n",
    "\n",
    "В процессе предобработки данных мы сделали следующее:\n",
    "- изменили тип данных столбца `date` на date\n",
    "- удалили явные дубликаты в таблице `users`\n",
    "- добавили в таблицу `rides` столбец с месяцами(`month`)\n",
    "- удалили выбросы в столбце `duration`. Значения с длительностью поездки равной 0.5 оказались аномальными.\n",
    "\n",
    "\n",
    "В результате исследования данных таблиц выяснили:\n",
    "\n",
    "- Количество пользователей в городах распределено плюс/минус равномерно, и это не зависит от численности города. \n",
    "- Пользователей с подпиской меньше чем с подпиской (46% против 54%).\n",
    "- Основная аудитория сервиса имеет возраст от 18 до 33 лет.\n",
    "- В основном люди ездят на расстояние от 2 до 5 км. Пользователи без подписки совершают больше коротких поездок (до 1 км.).\n",
    "- В основном время поездки от 5 до 30 мин.\n",
    "\n",
    "Позже мы объединили все данные в одну таблицу и построили сводную по месяцам и пользователям. В этой сводной рассчитали выручку которую приносит каждый пользователь за месяц.\n",
    "\n",
    "В итоге мы проверили для продакт-менеджеров несколько гипотез чтобы помочь им определить акционные предложения для пользователей с подпиской. В результате мы выяснили следующее:\n",
    "- Пользователи с подпиской тратят на поездки больше времени чем пользователи без подписки.\n",
    "- Пользователи с подпиской приносят большую выручку чем пользователи без подписки. \n",
    "- Пользователи с подпиской проезжают расстояние достаточное большее чтобы ускорить износ самокатов.\n",
    "\n",
    "Рекомендации для продакт менеджеров:\n",
    "- Необходимо стимулировать пользователей приобретать платную подписку посредством проведения акций (бесплатный пробный период или со скидкой).\n",
    "- Имеем 46% пользователей с подпиской, что составляет почти половину. Требуется разработка кампаний по удержанию такой большой группы клиентов.\n",
    "- Зная стремительный характер износа самокатов, особенно при использовании платными подписчиками, проверить и доработать имеющиеся средства и инструменты для оперативного ремонта. Это также не позволит увеличить количество несчастных случаев.\n",
    "- Найти и справить ошибку приводящую к расчету времени поездки в 0.5 мин. Проверить, как отображается эта информация у пользователей.\n",
    "- Если выборка пользователей проводилась из всех покрытых населенных пунктов, то нужно расширять географию присутствия сервиса, не задействованы многие города-миллионики. Также нужно уделить внимание городам поменьше, с минимальным присутствием конкурентов."
   ]
  }
 ],
 "metadata": {
  "ExecuteTimeLog": [
   {
    "duration": 461,
    "start_time": "2023-05-04T18:55:28.058Z"
   },
   {
    "duration": 592,
    "start_time": "2023-05-04T19:04:54.149Z"
   },
   {
    "duration": 321,
    "start_time": "2023-05-04T19:05:10.493Z"
   },
   {
    "duration": 74,
    "start_time": "2023-05-04T19:12:12.633Z"
   },
   {
    "duration": 13,
    "start_time": "2023-05-04T19:12:14.907Z"
   },
   {
    "duration": 14,
    "start_time": "2023-05-04T19:12:22.417Z"
   },
   {
    "duration": 12,
    "start_time": "2023-05-04T19:12:31.794Z"
   },
   {
    "duration": 15,
    "start_time": "2023-05-04T19:12:55.174Z"
   },
   {
    "duration": 11,
    "start_time": "2023-05-04T19:13:04.855Z"
   },
   {
    "duration": 9,
    "start_time": "2023-05-04T19:13:33.534Z"
   },
   {
    "duration": 12,
    "start_time": "2023-05-04T19:13:54.086Z"
   },
   {
    "duration": 11,
    "start_time": "2023-05-04T19:13:58.310Z"
   },
   {
    "duration": 3,
    "start_time": "2023-05-04T19:14:16.280Z"
   },
   {
    "duration": 328,
    "start_time": "2023-05-04T19:14:16.284Z"
   },
   {
    "duration": 11,
    "start_time": "2023-05-04T19:14:16.614Z"
   },
   {
    "duration": 12,
    "start_time": "2023-05-04T19:14:19.492Z"
   },
   {
    "duration": 11,
    "start_time": "2023-05-04T19:14:58.486Z"
   },
   {
    "duration": 9,
    "start_time": "2023-05-04T19:15:05.160Z"
   },
   {
    "duration": 12,
    "start_time": "2023-05-04T19:15:21.345Z"
   },
   {
    "duration": 12,
    "start_time": "2023-05-04T19:15:32.537Z"
   },
   {
    "duration": 9,
    "start_time": "2023-05-04T19:15:36.993Z"
   },
   {
    "duration": 7,
    "start_time": "2023-05-04T19:15:48.283Z"
   },
   {
    "duration": 8,
    "start_time": "2023-05-04T19:16:10.589Z"
   },
   {
    "duration": 12,
    "start_time": "2023-05-04T19:16:11.543Z"
   },
   {
    "duration": 8,
    "start_time": "2023-05-04T19:16:56.048Z"
   },
   {
    "duration": 13,
    "start_time": "2023-05-04T19:17:33.402Z"
   },
   {
    "duration": 902,
    "start_time": "2023-05-04T19:21:14.032Z"
   },
   {
    "duration": 453,
    "start_time": "2023-05-04T19:21:34.777Z"
   },
   {
    "duration": 9,
    "start_time": "2023-05-04T19:27:59.106Z"
   },
   {
    "duration": 12,
    "start_time": "2023-05-04T19:28:05.611Z"
   },
   {
    "duration": 15,
    "start_time": "2023-05-04T19:28:11.178Z"
   },
   {
    "duration": 9,
    "start_time": "2023-05-04T19:37:46.288Z"
   },
   {
    "duration": 13,
    "start_time": "2023-05-04T19:37:53.575Z"
   },
   {
    "duration": 7,
    "start_time": "2023-05-04T19:40:40.791Z"
   },
   {
    "duration": 8,
    "start_time": "2023-05-04T19:40:43.055Z"
   },
   {
    "duration": 12,
    "start_time": "2023-05-04T19:40:55.422Z"
   },
   {
    "duration": 10,
    "start_time": "2023-05-04T19:41:00.415Z"
   },
   {
    "duration": 5,
    "start_time": "2023-05-04T19:41:25.123Z"
   },
   {
    "duration": 69,
    "start_time": "2023-05-04T19:42:08.607Z"
   },
   {
    "duration": 9,
    "start_time": "2023-05-04T19:58:03.684Z"
   },
   {
    "duration": 10,
    "start_time": "2023-05-04T20:00:50.371Z"
   },
   {
    "duration": 5,
    "start_time": "2023-05-04T20:01:20.310Z"
   },
   {
    "duration": 11,
    "start_time": "2023-05-04T20:01:42.091Z"
   },
   {
    "duration": 6,
    "start_time": "2023-05-04T20:02:20.166Z"
   },
   {
    "duration": 8,
    "start_time": "2023-05-04T20:02:40.820Z"
   },
   {
    "duration": 6,
    "start_time": "2023-05-04T20:04:25.224Z"
   },
   {
    "duration": 17,
    "start_time": "2023-05-04T20:07:23.397Z"
   },
   {
    "duration": 6,
    "start_time": "2023-05-04T20:07:31.620Z"
   },
   {
    "duration": 4,
    "start_time": "2023-05-04T20:07:36.274Z"
   },
   {
    "duration": 6,
    "start_time": "2023-05-04T20:07:38.351Z"
   },
   {
    "duration": 7,
    "start_time": "2023-05-04T20:08:00.722Z"
   },
   {
    "duration": 453,
    "start_time": "2023-05-04T20:08:45.249Z"
   },
   {
    "duration": 371,
    "start_time": "2023-05-04T20:08:45.704Z"
   },
   {
    "duration": 15,
    "start_time": "2023-05-04T20:08:46.077Z"
   },
   {
    "duration": 11,
    "start_time": "2023-05-04T20:08:46.093Z"
   },
   {
    "duration": 9,
    "start_time": "2023-05-04T20:08:46.106Z"
   },
   {
    "duration": 12,
    "start_time": "2023-05-04T20:08:46.117Z"
   },
   {
    "duration": 36,
    "start_time": "2023-05-04T20:08:46.130Z"
   },
   {
    "duration": 13,
    "start_time": "2023-05-04T20:08:46.169Z"
   },
   {
    "duration": 11,
    "start_time": "2023-05-04T20:08:46.184Z"
   },
   {
    "duration": 11,
    "start_time": "2023-05-04T20:08:46.198Z"
   },
   {
    "duration": 7,
    "start_time": "2023-05-04T20:08:46.211Z"
   },
   {
    "duration": 48,
    "start_time": "2023-05-04T20:08:46.220Z"
   },
   {
    "duration": 8,
    "start_time": "2023-05-04T20:08:46.269Z"
   },
   {
    "duration": 5,
    "start_time": "2023-05-04T20:08:46.278Z"
   },
   {
    "duration": 8,
    "start_time": "2023-05-04T20:08:46.285Z"
   },
   {
    "duration": 13,
    "start_time": "2023-05-04T20:08:46.295Z"
   },
   {
    "duration": 8,
    "start_time": "2023-05-04T20:09:12.174Z"
   },
   {
    "duration": 10,
    "start_time": "2023-05-04T20:09:24.340Z"
   },
   {
    "duration": 14,
    "start_time": "2023-05-04T20:10:43.784Z"
   },
   {
    "duration": 9,
    "start_time": "2023-05-04T20:11:29.630Z"
   },
   {
    "duration": 7,
    "start_time": "2023-05-04T20:12:19.730Z"
   },
   {
    "duration": 5,
    "start_time": "2023-05-04T20:12:29.187Z"
   },
   {
    "duration": 8,
    "start_time": "2023-05-04T20:12:39.474Z"
   },
   {
    "duration": 5,
    "start_time": "2023-05-04T20:15:04.936Z"
   },
   {
    "duration": 14,
    "start_time": "2023-05-04T20:15:24.557Z"
   },
   {
    "duration": 16,
    "start_time": "2023-05-04T20:15:31.951Z"
   },
   {
    "duration": 9,
    "start_time": "2023-05-04T20:15:35.852Z"
   },
   {
    "duration": 10,
    "start_time": "2023-05-04T20:16:55.755Z"
   },
   {
    "duration": 1189,
    "start_time": "2023-05-04T20:17:07.852Z"
   },
   {
    "duration": 1471,
    "start_time": "2023-05-04T20:17:25.869Z"
   },
   {
    "duration": 5,
    "start_time": "2023-05-04T20:20:22.271Z"
   },
   {
    "duration": 5,
    "start_time": "2023-05-04T20:20:45.278Z"
   },
   {
    "duration": 3,
    "start_time": "2023-05-04T20:25:45.873Z"
   },
   {
    "duration": 10,
    "start_time": "2023-05-04T20:25:48.754Z"
   },
   {
    "duration": 8,
    "start_time": "2023-05-04T20:25:54.708Z"
   },
   {
    "duration": 10,
    "start_time": "2023-05-04T20:25:57.148Z"
   },
   {
    "duration": 228,
    "start_time": "2023-05-04T20:26:37.865Z"
   },
   {
    "duration": 169,
    "start_time": "2023-05-04T20:27:02.296Z"
   },
   {
    "duration": 215,
    "start_time": "2023-05-04T20:27:13.833Z"
   },
   {
    "duration": 193,
    "start_time": "2023-05-04T20:27:24.048Z"
   },
   {
    "duration": 201,
    "start_time": "2023-05-04T20:27:34.356Z"
   },
   {
    "duration": 224,
    "start_time": "2023-05-04T20:27:38.450Z"
   },
   {
    "duration": 144,
    "start_time": "2023-05-04T20:27:41.974Z"
   },
   {
    "duration": 143,
    "start_time": "2023-05-04T20:27:50.843Z"
   },
   {
    "duration": 191,
    "start_time": "2023-05-04T20:28:06.997Z"
   },
   {
    "duration": 6,
    "start_time": "2023-05-04T20:29:04.883Z"
   },
   {
    "duration": 170,
    "start_time": "2023-05-04T20:29:24.127Z"
   },
   {
    "duration": 46,
    "start_time": "2023-05-05T12:52:06.605Z"
   },
   {
    "duration": 843,
    "start_time": "2023-05-05T12:52:15.414Z"
   },
   {
    "duration": 858,
    "start_time": "2023-05-05T12:52:16.259Z"
   },
   {
    "duration": 13,
    "start_time": "2023-05-05T12:52:17.119Z"
   },
   {
    "duration": 16,
    "start_time": "2023-05-05T12:52:17.135Z"
   },
   {
    "duration": 15,
    "start_time": "2023-05-05T12:52:17.153Z"
   },
   {
    "duration": 20,
    "start_time": "2023-05-05T12:52:17.170Z"
   },
   {
    "duration": 10,
    "start_time": "2023-05-05T12:52:17.192Z"
   },
   {
    "duration": 17,
    "start_time": "2023-05-05T12:52:17.205Z"
   },
   {
    "duration": 20,
    "start_time": "2023-05-05T12:52:17.224Z"
   },
   {
    "duration": 15,
    "start_time": "2023-05-05T12:52:17.247Z"
   },
   {
    "duration": 19,
    "start_time": "2023-05-05T12:52:17.264Z"
   },
   {
    "duration": 11,
    "start_time": "2023-05-05T12:52:17.285Z"
   },
   {
    "duration": 9,
    "start_time": "2023-05-05T12:52:17.297Z"
   },
   {
    "duration": 9,
    "start_time": "2023-05-05T12:52:17.307Z"
   },
   {
    "duration": 8,
    "start_time": "2023-05-05T12:52:17.318Z"
   },
   {
    "duration": 6,
    "start_time": "2023-05-05T12:52:17.328Z"
   },
   {
    "duration": 50,
    "start_time": "2023-05-05T12:52:17.335Z"
   },
   {
    "duration": 189,
    "start_time": "2023-05-05T12:52:17.387Z"
   },
   {
    "duration": 72,
    "start_time": "2023-05-05T12:52:17.578Z"
   },
   {
    "duration": 7,
    "start_time": "2023-05-05T12:52:24.110Z"
   },
   {
    "duration": 176,
    "start_time": "2023-05-05T12:53:27.656Z"
   },
   {
    "duration": 154,
    "start_time": "2023-05-05T12:53:39.096Z"
   },
   {
    "duration": 202,
    "start_time": "2023-05-05T12:53:45.484Z"
   },
   {
    "duration": 15,
    "start_time": "2023-05-05T12:55:04.700Z"
   },
   {
    "duration": 14,
    "start_time": "2023-05-05T12:55:13.635Z"
   },
   {
    "duration": 69,
    "start_time": "2023-05-08T10:33:26.176Z"
   },
   {
    "duration": 794,
    "start_time": "2023-05-08T10:33:33.509Z"
   },
   {
    "duration": 721,
    "start_time": "2023-05-08T10:33:34.306Z"
   },
   {
    "duration": 16,
    "start_time": "2023-05-08T10:33:35.029Z"
   },
   {
    "duration": 19,
    "start_time": "2023-05-08T10:33:35.050Z"
   },
   {
    "duration": 26,
    "start_time": "2023-05-08T10:33:35.071Z"
   },
   {
    "duration": 14,
    "start_time": "2023-05-08T10:33:35.098Z"
   },
   {
    "duration": 9,
    "start_time": "2023-05-08T10:33:35.113Z"
   },
   {
    "duration": 15,
    "start_time": "2023-05-08T10:33:35.124Z"
   },
   {
    "duration": 21,
    "start_time": "2023-05-08T10:33:35.141Z"
   },
   {
    "duration": 19,
    "start_time": "2023-05-08T10:33:35.164Z"
   },
   {
    "duration": 5,
    "start_time": "2023-05-08T10:33:35.185Z"
   },
   {
    "duration": 23,
    "start_time": "2023-05-08T10:33:35.191Z"
   },
   {
    "duration": 10,
    "start_time": "2023-05-08T10:33:35.216Z"
   },
   {
    "duration": 10,
    "start_time": "2023-05-08T10:33:35.228Z"
   },
   {
    "duration": 28,
    "start_time": "2023-05-08T10:33:35.239Z"
   },
   {
    "duration": 6,
    "start_time": "2023-05-08T10:33:35.269Z"
   },
   {
    "duration": 10,
    "start_time": "2023-05-08T10:33:35.277Z"
   },
   {
    "duration": 188,
    "start_time": "2023-05-08T10:33:35.289Z"
   },
   {
    "duration": 7,
    "start_time": "2023-05-08T10:33:35.479Z"
   },
   {
    "duration": 106,
    "start_time": "2023-05-08T10:33:35.488Z"
   },
   {
    "duration": 112,
    "start_time": "2023-05-08T10:34:17.018Z"
   },
   {
    "duration": 13,
    "start_time": "2023-05-08T10:34:24.868Z"
   },
   {
    "duration": 161,
    "start_time": "2023-05-08T10:34:55.498Z"
   },
   {
    "duration": 138,
    "start_time": "2023-05-08T10:35:08.165Z"
   },
   {
    "duration": 163,
    "start_time": "2023-05-08T10:35:32.273Z"
   },
   {
    "duration": 219,
    "start_time": "2023-05-08T10:35:37.536Z"
   },
   {
    "duration": 151,
    "start_time": "2023-05-08T10:35:45.570Z"
   },
   {
    "duration": 22,
    "start_time": "2023-05-08T10:36:33.841Z"
   },
   {
    "duration": 11,
    "start_time": "2023-05-08T10:37:51.697Z"
   },
   {
    "duration": 470,
    "start_time": "2023-05-08T10:38:10.113Z"
   },
   {
    "duration": 362,
    "start_time": "2023-05-08T10:41:52.945Z"
   },
   {
    "duration": 344,
    "start_time": "2023-05-08T10:42:23.393Z"
   },
   {
    "duration": 439,
    "start_time": "2023-05-08T10:42:53.288Z"
   },
   {
    "duration": 18983,
    "start_time": "2023-05-08T10:44:05.793Z"
   },
   {
    "duration": 89,
    "start_time": "2023-05-08T10:44:28.512Z"
   },
   {
    "duration": 105,
    "start_time": "2023-05-08T10:44:40.776Z"
   },
   {
    "duration": 125,
    "start_time": "2023-05-08T10:44:45.016Z"
   },
   {
    "duration": 105,
    "start_time": "2023-05-08T10:44:47.937Z"
   },
   {
    "duration": 118,
    "start_time": "2023-05-08T10:46:14.432Z"
   },
   {
    "duration": 96,
    "start_time": "2023-05-08T10:48:35.192Z"
   },
   {
    "duration": 146,
    "start_time": "2023-05-08T10:49:03.648Z"
   },
   {
    "duration": 174,
    "start_time": "2023-05-08T10:49:51.008Z"
   },
   {
    "duration": 215,
    "start_time": "2023-05-08T10:49:54.504Z"
   },
   {
    "duration": 294,
    "start_time": "2023-05-08T10:49:58.032Z"
   },
   {
    "duration": 162,
    "start_time": "2023-05-08T10:50:53.874Z"
   },
   {
    "duration": 1223,
    "start_time": "2023-05-08T10:55:31.208Z"
   },
   {
    "duration": 186,
    "start_time": "2023-05-08T10:55:48.752Z"
   },
   {
    "duration": 232,
    "start_time": "2023-05-08T10:55:54.686Z"
   },
   {
    "duration": 264,
    "start_time": "2023-05-08T10:55:59.895Z"
   },
   {
    "duration": 188,
    "start_time": "2023-05-08T10:56:32.616Z"
   },
   {
    "duration": 170,
    "start_time": "2023-05-08T10:56:39.063Z"
   },
   {
    "duration": 243,
    "start_time": "2023-05-08T10:56:57.480Z"
   },
   {
    "duration": 313,
    "start_time": "2023-05-08T11:04:16.120Z"
   },
   {
    "duration": 7,
    "start_time": "2023-05-08T11:05:50.063Z"
   },
   {
    "duration": 78,
    "start_time": "2023-05-08T11:05:55.343Z"
   },
   {
    "duration": 16,
    "start_time": "2023-05-08T11:06:00.679Z"
   },
   {
    "duration": 218,
    "start_time": "2023-05-08T11:13:29.703Z"
   },
   {
    "duration": 247,
    "start_time": "2023-05-08T11:13:36.263Z"
   },
   {
    "duration": 120,
    "start_time": "2023-05-08T11:15:59.222Z"
   },
   {
    "duration": 109,
    "start_time": "2023-05-08T11:17:11.270Z"
   },
   {
    "duration": 16,
    "start_time": "2023-05-08T11:18:54.605Z"
   },
   {
    "duration": 16,
    "start_time": "2023-05-08T11:19:19.870Z"
   },
   {
    "duration": 16,
    "start_time": "2023-05-08T11:19:24.505Z"
   },
   {
    "duration": 13,
    "start_time": "2023-05-08T11:19:31.487Z"
   },
   {
    "duration": 8,
    "start_time": "2023-05-08T11:21:16.910Z"
   },
   {
    "duration": 355,
    "start_time": "2023-05-08T11:21:31.678Z"
   },
   {
    "duration": 19,
    "start_time": "2023-05-08T11:21:41.527Z"
   },
   {
    "duration": 126,
    "start_time": "2023-05-08T11:21:55.814Z"
   },
   {
    "duration": 126,
    "start_time": "2023-05-08T11:22:04.182Z"
   },
   {
    "duration": 4,
    "start_time": "2023-05-08T11:25:07.406Z"
   },
   {
    "duration": 5,
    "start_time": "2023-05-08T11:25:29.390Z"
   },
   {
    "duration": 4,
    "start_time": "2023-05-08T11:25:34.953Z"
   },
   {
    "duration": 9,
    "start_time": "2023-05-08T11:26:03.942Z"
   },
   {
    "duration": 7,
    "start_time": "2023-05-08T11:28:10.467Z"
   },
   {
    "duration": 12,
    "start_time": "2023-05-08T11:28:13.790Z"
   },
   {
    "duration": 4,
    "start_time": "2023-05-08T11:30:06.118Z"
   },
   {
    "duration": 4,
    "start_time": "2023-05-08T11:30:09.774Z"
   },
   {
    "duration": 4,
    "start_time": "2023-05-08T11:30:19.581Z"
   },
   {
    "duration": 3,
    "start_time": "2023-05-08T11:30:28.582Z"
   },
   {
    "duration": 197,
    "start_time": "2023-05-08T11:42:14.422Z"
   },
   {
    "duration": 179,
    "start_time": "2023-05-08T11:42:19.621Z"
   },
   {
    "duration": 17,
    "start_time": "2023-05-08T11:53:51.908Z"
   },
   {
    "duration": 30,
    "start_time": "2023-05-08T11:53:57.924Z"
   },
   {
    "duration": 14,
    "start_time": "2023-05-08T11:56:08.605Z"
   },
   {
    "duration": 12,
    "start_time": "2023-05-08T11:56:37.292Z"
   },
   {
    "duration": 9,
    "start_time": "2023-05-08T12:01:49.724Z"
   },
   {
    "duration": 12,
    "start_time": "2023-05-08T12:02:02.100Z"
   },
   {
    "duration": 11,
    "start_time": "2023-05-08T12:02:12.612Z"
   },
   {
    "duration": 19,
    "start_time": "2023-05-08T12:02:17.323Z"
   },
   {
    "duration": 5,
    "start_time": "2023-05-08T12:02:34.868Z"
   },
   {
    "duration": 15,
    "start_time": "2023-05-08T12:02:51.668Z"
   },
   {
    "duration": 20,
    "start_time": "2023-05-08T12:02:58.052Z"
   },
   {
    "duration": 301,
    "start_time": "2023-05-08T12:08:26.003Z"
   },
   {
    "duration": 248,
    "start_time": "2023-05-08T12:09:11.219Z"
   },
   {
    "duration": 266,
    "start_time": "2023-05-08T12:09:23.124Z"
   },
   {
    "duration": 259,
    "start_time": "2023-05-08T12:10:20.150Z"
   },
   {
    "duration": 239,
    "start_time": "2023-05-08T12:12:19.364Z"
   },
   {
    "duration": 239,
    "start_time": "2023-05-08T12:21:58.172Z"
   },
   {
    "duration": 396,
    "start_time": "2023-05-08T12:22:00.669Z"
   },
   {
    "duration": 234,
    "start_time": "2023-05-08T12:22:17.484Z"
   },
   {
    "duration": 244,
    "start_time": "2023-05-08T12:24:19.980Z"
   },
   {
    "duration": 304,
    "start_time": "2023-05-08T12:24:24.940Z"
   },
   {
    "duration": 255,
    "start_time": "2023-05-08T12:24:30.803Z"
   },
   {
    "duration": 318,
    "start_time": "2023-05-08T12:24:50.539Z"
   },
   {
    "duration": 606,
    "start_time": "2023-05-08T12:27:57.952Z"
   },
   {
    "duration": 345,
    "start_time": "2023-05-08T12:27:58.559Z"
   },
   {
    "duration": 13,
    "start_time": "2023-05-08T12:27:58.905Z"
   },
   {
    "duration": 10,
    "start_time": "2023-05-08T12:27:58.920Z"
   },
   {
    "duration": 9,
    "start_time": "2023-05-08T12:27:58.931Z"
   },
   {
    "duration": 11,
    "start_time": "2023-05-08T12:27:58.941Z"
   },
   {
    "duration": 9,
    "start_time": "2023-05-08T12:27:58.953Z"
   },
   {
    "duration": 11,
    "start_time": "2023-05-08T12:27:58.963Z"
   },
   {
    "duration": 10,
    "start_time": "2023-05-08T12:27:58.975Z"
   },
   {
    "duration": 35,
    "start_time": "2023-05-08T12:27:58.987Z"
   },
   {
    "duration": 11,
    "start_time": "2023-05-08T12:27:59.023Z"
   },
   {
    "duration": 24,
    "start_time": "2023-05-08T12:27:59.036Z"
   },
   {
    "duration": 13,
    "start_time": "2023-05-08T12:27:59.061Z"
   },
   {
    "duration": 9,
    "start_time": "2023-05-08T12:27:59.075Z"
   },
   {
    "duration": 8,
    "start_time": "2023-05-08T12:27:59.086Z"
   },
   {
    "duration": 4,
    "start_time": "2023-05-08T12:27:59.095Z"
   },
   {
    "duration": 6,
    "start_time": "2023-05-08T12:27:59.101Z"
   },
   {
    "duration": 171,
    "start_time": "2023-05-08T12:27:59.108Z"
   },
   {
    "duration": 5,
    "start_time": "2023-05-08T12:27:59.280Z"
   },
   {
    "duration": 107,
    "start_time": "2023-05-08T12:27:59.286Z"
   },
   {
    "duration": 179,
    "start_time": "2023-05-08T12:27:59.394Z"
   },
   {
    "duration": 334,
    "start_time": "2023-05-08T12:27:59.574Z"
   },
   {
    "duration": 268,
    "start_time": "2023-05-08T12:27:59.909Z"
   },
   {
    "duration": 18,
    "start_time": "2023-05-08T12:28:00.180Z"
   },
   {
    "duration": 33,
    "start_time": "2023-05-08T12:28:00.200Z"
   },
   {
    "duration": 13,
    "start_time": "2023-05-08T12:28:00.235Z"
   },
   {
    "duration": 296,
    "start_time": "2023-05-08T12:28:00.249Z"
   },
   {
    "duration": 20,
    "start_time": "2023-05-08T12:28:00.551Z"
   },
   {
    "duration": 48,
    "start_time": "2023-05-08T12:28:00.573Z"
   },
   {
    "duration": 27,
    "start_time": "2023-05-08T12:28:00.623Z"
   },
   {
    "duration": 50,
    "start_time": "2023-05-08T12:28:00.652Z"
   },
   {
    "duration": 330,
    "start_time": "2023-05-08T12:28:00.704Z"
   },
   {
    "duration": 264,
    "start_time": "2023-05-08T12:28:01.036Z"
   },
   {
    "duration": 257,
    "start_time": "2023-05-08T12:28:01.302Z"
   },
   {
    "duration": 326,
    "start_time": "2023-05-08T12:28:01.561Z"
   },
   {
    "duration": 98,
    "start_time": "2023-05-08T13:49:00.862Z"
   },
   {
    "duration": 23,
    "start_time": "2023-05-08T13:49:25.806Z"
   },
   {
    "duration": 9,
    "start_time": "2023-05-08T13:50:09.424Z"
   },
   {
    "duration": 8,
    "start_time": "2023-05-08T13:50:26.615Z"
   },
   {
    "duration": 20,
    "start_time": "2023-05-08T13:50:43.997Z"
   },
   {
    "duration": 9,
    "start_time": "2023-05-08T13:51:38.635Z"
   },
   {
    "duration": 18,
    "start_time": "2023-05-08T13:51:45.669Z"
   },
   {
    "duration": 19,
    "start_time": "2023-05-08T13:54:03.621Z"
   },
   {
    "duration": 13,
    "start_time": "2023-05-08T13:54:29.085Z"
   },
   {
    "duration": 18,
    "start_time": "2023-05-08T13:54:35.501Z"
   },
   {
    "duration": 695,
    "start_time": "2023-05-08T13:57:37.863Z"
   },
   {
    "duration": 331,
    "start_time": "2023-05-08T13:57:38.559Z"
   },
   {
    "duration": 11,
    "start_time": "2023-05-08T13:57:38.891Z"
   },
   {
    "duration": 12,
    "start_time": "2023-05-08T13:57:38.904Z"
   },
   {
    "duration": 10,
    "start_time": "2023-05-08T13:57:38.917Z"
   },
   {
    "duration": 12,
    "start_time": "2023-05-08T13:57:38.928Z"
   },
   {
    "duration": 6,
    "start_time": "2023-05-08T13:57:38.941Z"
   },
   {
    "duration": 11,
    "start_time": "2023-05-08T13:57:38.949Z"
   },
   {
    "duration": 10,
    "start_time": "2023-05-08T13:57:38.962Z"
   },
   {
    "duration": 9,
    "start_time": "2023-05-08T13:57:38.974Z"
   },
   {
    "duration": 3,
    "start_time": "2023-05-08T13:57:38.985Z"
   },
   {
    "duration": 10,
    "start_time": "2023-05-08T13:57:38.989Z"
   },
   {
    "duration": 10,
    "start_time": "2023-05-08T13:57:39.000Z"
   },
   {
    "duration": 9,
    "start_time": "2023-05-08T13:57:39.011Z"
   },
   {
    "duration": 30,
    "start_time": "2023-05-08T13:57:39.021Z"
   },
   {
    "duration": 7,
    "start_time": "2023-05-08T13:57:39.053Z"
   },
   {
    "duration": 6,
    "start_time": "2023-05-08T13:57:39.061Z"
   },
   {
    "duration": 195,
    "start_time": "2023-05-08T13:57:39.069Z"
   },
   {
    "duration": 5,
    "start_time": "2023-05-08T13:57:39.265Z"
   },
   {
    "duration": 104,
    "start_time": "2023-05-08T13:57:39.272Z"
   },
   {
    "duration": 211,
    "start_time": "2023-05-08T13:57:39.377Z"
   },
   {
    "duration": 344,
    "start_time": "2023-05-08T13:57:39.590Z"
   },
   {
    "duration": 249,
    "start_time": "2023-05-08T13:57:39.936Z"
   },
   {
    "duration": 13,
    "start_time": "2023-05-08T13:57:40.187Z"
   },
   {
    "duration": 16,
    "start_time": "2023-05-08T13:57:40.202Z"
   },
   {
    "duration": 29,
    "start_time": "2023-05-08T13:57:40.220Z"
   },
   {
    "duration": 272,
    "start_time": "2023-05-08T13:57:40.251Z"
   },
   {
    "duration": 27,
    "start_time": "2023-05-08T13:57:40.527Z"
   },
   {
    "duration": 15,
    "start_time": "2023-05-08T13:57:40.556Z"
   },
   {
    "duration": 19,
    "start_time": "2023-05-08T13:57:40.572Z"
   },
   {
    "duration": 27,
    "start_time": "2023-05-08T13:57:40.592Z"
   },
   {
    "duration": 263,
    "start_time": "2023-05-08T13:57:40.621Z"
   },
   {
    "duration": 265,
    "start_time": "2023-05-08T13:57:40.886Z"
   },
   {
    "duration": 260,
    "start_time": "2023-05-08T13:57:41.153Z"
   },
   {
    "duration": 334,
    "start_time": "2023-05-08T13:57:41.415Z"
   },
   {
    "duration": 20,
    "start_time": "2023-05-08T13:57:41.751Z"
   },
   {
    "duration": 603,
    "start_time": "2023-05-08T13:59:17.273Z"
   },
   {
    "duration": 320,
    "start_time": "2023-05-08T13:59:17.878Z"
   },
   {
    "duration": 11,
    "start_time": "2023-05-08T13:59:18.200Z"
   },
   {
    "duration": 11,
    "start_time": "2023-05-08T13:59:18.212Z"
   },
   {
    "duration": 9,
    "start_time": "2023-05-08T13:59:18.224Z"
   },
   {
    "duration": 13,
    "start_time": "2023-05-08T13:59:18.234Z"
   },
   {
    "duration": 6,
    "start_time": "2023-05-08T13:59:18.248Z"
   },
   {
    "duration": 10,
    "start_time": "2023-05-08T13:59:18.256Z"
   },
   {
    "duration": 7,
    "start_time": "2023-05-08T13:59:18.268Z"
   },
   {
    "duration": 8,
    "start_time": "2023-05-08T13:59:18.277Z"
   },
   {
    "duration": 3,
    "start_time": "2023-05-08T13:59:18.287Z"
   },
   {
    "duration": 9,
    "start_time": "2023-05-08T13:59:18.292Z"
   },
   {
    "duration": 7,
    "start_time": "2023-05-08T13:59:18.303Z"
   },
   {
    "duration": 43,
    "start_time": "2023-05-08T13:59:18.311Z"
   },
   {
    "duration": 8,
    "start_time": "2023-05-08T13:59:18.356Z"
   },
   {
    "duration": 5,
    "start_time": "2023-05-08T13:59:18.366Z"
   },
   {
    "duration": 7,
    "start_time": "2023-05-08T13:59:18.372Z"
   },
   {
    "duration": 179,
    "start_time": "2023-05-08T13:59:18.380Z"
   },
   {
    "duration": 6,
    "start_time": "2023-05-08T13:59:18.561Z"
   },
   {
    "duration": 104,
    "start_time": "2023-05-08T13:59:18.568Z"
   },
   {
    "duration": 184,
    "start_time": "2023-05-08T13:59:18.674Z"
   },
   {
    "duration": 320,
    "start_time": "2023-05-08T13:59:18.859Z"
   },
   {
    "duration": 251,
    "start_time": "2023-05-08T13:59:19.181Z"
   },
   {
    "duration": 19,
    "start_time": "2023-05-08T13:59:19.434Z"
   },
   {
    "duration": 16,
    "start_time": "2023-05-08T13:59:19.455Z"
   },
   {
    "duration": 8,
    "start_time": "2023-05-08T13:59:19.473Z"
   },
   {
    "duration": 284,
    "start_time": "2023-05-08T13:59:19.483Z"
   },
   {
    "duration": 18,
    "start_time": "2023-05-08T13:59:19.771Z"
   },
   {
    "duration": 19,
    "start_time": "2023-05-08T13:59:19.791Z"
   },
   {
    "duration": 99,
    "start_time": "2023-05-08T13:59:19.812Z"
   },
   {
    "duration": 0,
    "start_time": "2023-05-08T13:59:19.913Z"
   },
   {
    "duration": 0,
    "start_time": "2023-05-08T13:59:19.914Z"
   },
   {
    "duration": 0,
    "start_time": "2023-05-08T13:59:19.916Z"
   },
   {
    "duration": 0,
    "start_time": "2023-05-08T13:59:19.917Z"
   },
   {
    "duration": 0,
    "start_time": "2023-05-08T13:59:19.918Z"
   },
   {
    "duration": 0,
    "start_time": "2023-05-08T13:59:19.919Z"
   },
   {
    "duration": 0,
    "start_time": "2023-05-08T13:59:19.921Z"
   },
   {
    "duration": 579,
    "start_time": "2023-05-08T13:59:28.994Z"
   },
   {
    "duration": 338,
    "start_time": "2023-05-08T13:59:29.574Z"
   },
   {
    "duration": 12,
    "start_time": "2023-05-08T13:59:29.913Z"
   },
   {
    "duration": 10,
    "start_time": "2023-05-08T13:59:29.927Z"
   },
   {
    "duration": 11,
    "start_time": "2023-05-08T13:59:29.939Z"
   },
   {
    "duration": 14,
    "start_time": "2023-05-08T13:59:29.952Z"
   },
   {
    "duration": 7,
    "start_time": "2023-05-08T13:59:29.968Z"
   },
   {
    "duration": 10,
    "start_time": "2023-05-08T13:59:29.977Z"
   },
   {
    "duration": 11,
    "start_time": "2023-05-08T13:59:29.989Z"
   },
   {
    "duration": 21,
    "start_time": "2023-05-08T13:59:30.002Z"
   },
   {
    "duration": 4,
    "start_time": "2023-05-08T13:59:30.025Z"
   },
   {
    "duration": 25,
    "start_time": "2023-05-08T13:59:30.030Z"
   },
   {
    "duration": 6,
    "start_time": "2023-05-08T13:59:30.056Z"
   },
   {
    "duration": 10,
    "start_time": "2023-05-08T13:59:30.064Z"
   },
   {
    "duration": 10,
    "start_time": "2023-05-08T13:59:30.076Z"
   },
   {
    "duration": 10,
    "start_time": "2023-05-08T13:59:30.088Z"
   },
   {
    "duration": 6,
    "start_time": "2023-05-08T13:59:30.099Z"
   },
   {
    "duration": 185,
    "start_time": "2023-05-08T13:59:30.107Z"
   },
   {
    "duration": 5,
    "start_time": "2023-05-08T13:59:30.293Z"
   },
   {
    "duration": 114,
    "start_time": "2023-05-08T13:59:30.300Z"
   },
   {
    "duration": 179,
    "start_time": "2023-05-08T13:59:30.416Z"
   },
   {
    "duration": 343,
    "start_time": "2023-05-08T13:59:30.596Z"
   },
   {
    "duration": 269,
    "start_time": "2023-05-08T13:59:30.941Z"
   },
   {
    "duration": 13,
    "start_time": "2023-05-08T13:59:31.212Z"
   },
   {
    "duration": 41,
    "start_time": "2023-05-08T13:59:31.226Z"
   },
   {
    "duration": 26,
    "start_time": "2023-05-08T13:59:31.269Z"
   },
   {
    "duration": 264,
    "start_time": "2023-05-08T13:59:31.296Z"
   },
   {
    "duration": 14,
    "start_time": "2023-05-08T13:59:31.563Z"
   },
   {
    "duration": 40,
    "start_time": "2023-05-08T13:59:31.579Z"
   },
   {
    "duration": 94,
    "start_time": "2023-05-08T13:59:31.621Z"
   },
   {
    "duration": 0,
    "start_time": "2023-05-08T13:59:31.717Z"
   },
   {
    "duration": 0,
    "start_time": "2023-05-08T13:59:31.718Z"
   },
   {
    "duration": 0,
    "start_time": "2023-05-08T13:59:31.720Z"
   },
   {
    "duration": 0,
    "start_time": "2023-05-08T13:59:31.722Z"
   },
   {
    "duration": 0,
    "start_time": "2023-05-08T13:59:31.723Z"
   },
   {
    "duration": 0,
    "start_time": "2023-05-08T13:59:31.724Z"
   },
   {
    "duration": 0,
    "start_time": "2023-05-08T13:59:31.725Z"
   },
   {
    "duration": 591,
    "start_time": "2023-05-08T14:01:27.487Z"
   },
   {
    "duration": 349,
    "start_time": "2023-05-08T14:01:28.080Z"
   },
   {
    "duration": 11,
    "start_time": "2023-05-08T14:01:28.431Z"
   },
   {
    "duration": 20,
    "start_time": "2023-05-08T14:01:28.444Z"
   },
   {
    "duration": 19,
    "start_time": "2023-05-08T14:01:28.466Z"
   },
   {
    "duration": 15,
    "start_time": "2023-05-08T14:01:28.486Z"
   },
   {
    "duration": 6,
    "start_time": "2023-05-08T14:01:28.503Z"
   },
   {
    "duration": 11,
    "start_time": "2023-05-08T14:01:28.511Z"
   },
   {
    "duration": 9,
    "start_time": "2023-05-08T14:01:28.523Z"
   },
   {
    "duration": 14,
    "start_time": "2023-05-08T14:01:28.535Z"
   },
   {
    "duration": 3,
    "start_time": "2023-05-08T14:01:28.551Z"
   },
   {
    "duration": 12,
    "start_time": "2023-05-08T14:01:28.556Z"
   },
   {
    "duration": 13,
    "start_time": "2023-05-08T14:01:28.569Z"
   },
   {
    "duration": 7,
    "start_time": "2023-05-08T14:01:28.583Z"
   },
   {
    "duration": 10,
    "start_time": "2023-05-08T14:01:28.592Z"
   },
   {
    "duration": 9,
    "start_time": "2023-05-08T14:01:28.604Z"
   },
   {
    "duration": 14,
    "start_time": "2023-05-08T14:01:28.614Z"
   },
   {
    "duration": 170,
    "start_time": "2023-05-08T14:01:28.629Z"
   },
   {
    "duration": 5,
    "start_time": "2023-05-08T14:01:28.801Z"
   },
   {
    "duration": 109,
    "start_time": "2023-05-08T14:01:28.808Z"
   },
   {
    "duration": 184,
    "start_time": "2023-05-08T14:01:28.919Z"
   },
   {
    "duration": 301,
    "start_time": "2023-05-08T14:01:29.104Z"
   },
   {
    "duration": 254,
    "start_time": "2023-05-08T14:01:29.407Z"
   },
   {
    "duration": 13,
    "start_time": "2023-05-08T14:01:29.662Z"
   },
   {
    "duration": 22,
    "start_time": "2023-05-08T14:01:29.676Z"
   },
   {
    "duration": 3,
    "start_time": "2023-05-08T14:01:29.699Z"
   },
   {
    "duration": 273,
    "start_time": "2023-05-08T14:01:29.704Z"
   },
   {
    "duration": 15,
    "start_time": "2023-05-08T14:01:29.980Z"
   },
   {
    "duration": 12,
    "start_time": "2023-05-08T14:01:29.997Z"
   },
   {
    "duration": 39,
    "start_time": "2023-05-08T14:01:30.010Z"
   },
   {
    "duration": 21,
    "start_time": "2023-05-08T14:01:30.050Z"
   },
   {
    "duration": 266,
    "start_time": "2023-05-08T14:01:30.073Z"
   },
   {
    "duration": 270,
    "start_time": "2023-05-08T14:01:30.341Z"
   },
   {
    "duration": 267,
    "start_time": "2023-05-08T14:01:30.612Z"
   },
   {
    "duration": 336,
    "start_time": "2023-05-08T14:01:30.880Z"
   },
   {
    "duration": 18,
    "start_time": "2023-05-08T14:01:31.218Z"
   },
   {
    "duration": 33,
    "start_time": "2023-05-08T14:01:31.237Z"
   },
   {
    "duration": 4,
    "start_time": "2023-05-08T14:02:35.069Z"
   },
   {
    "duration": 619,
    "start_time": "2023-05-08T14:02:43.365Z"
   },
   {
    "duration": 345,
    "start_time": "2023-05-08T14:02:43.986Z"
   },
   {
    "duration": 11,
    "start_time": "2023-05-08T14:02:44.332Z"
   },
   {
    "duration": 14,
    "start_time": "2023-05-08T14:02:44.345Z"
   },
   {
    "duration": 12,
    "start_time": "2023-05-08T14:02:44.360Z"
   },
   {
    "duration": 12,
    "start_time": "2023-05-08T14:02:44.374Z"
   },
   {
    "duration": 6,
    "start_time": "2023-05-08T14:02:44.388Z"
   },
   {
    "duration": 12,
    "start_time": "2023-05-08T14:02:44.396Z"
   },
   {
    "duration": 6,
    "start_time": "2023-05-08T14:02:44.409Z"
   },
   {
    "duration": 14,
    "start_time": "2023-05-08T14:02:44.417Z"
   },
   {
    "duration": 4,
    "start_time": "2023-05-08T14:02:44.452Z"
   },
   {
    "duration": 13,
    "start_time": "2023-05-08T14:02:44.458Z"
   },
   {
    "duration": 10,
    "start_time": "2023-05-08T14:02:44.473Z"
   },
   {
    "duration": 16,
    "start_time": "2023-05-08T14:02:44.485Z"
   },
   {
    "duration": 9,
    "start_time": "2023-05-08T14:02:44.503Z"
   },
   {
    "duration": 6,
    "start_time": "2023-05-08T14:02:44.514Z"
   },
   {
    "duration": 32,
    "start_time": "2023-05-08T14:02:44.522Z"
   },
   {
    "duration": 194,
    "start_time": "2023-05-08T14:02:44.556Z"
   },
   {
    "duration": 5,
    "start_time": "2023-05-08T14:02:44.752Z"
   },
   {
    "duration": 107,
    "start_time": "2023-05-08T14:02:44.759Z"
   },
   {
    "duration": 189,
    "start_time": "2023-05-08T14:02:44.867Z"
   },
   {
    "duration": 324,
    "start_time": "2023-05-08T14:02:45.057Z"
   },
   {
    "duration": 271,
    "start_time": "2023-05-08T14:02:45.383Z"
   },
   {
    "duration": 13,
    "start_time": "2023-05-08T14:02:45.655Z"
   },
   {
    "duration": 16,
    "start_time": "2023-05-08T14:02:45.669Z"
   },
   {
    "duration": 4,
    "start_time": "2023-05-08T14:02:45.687Z"
   },
   {
    "duration": 270,
    "start_time": "2023-05-08T14:02:45.692Z"
   },
   {
    "duration": 16,
    "start_time": "2023-05-08T14:02:45.966Z"
   },
   {
    "duration": 12,
    "start_time": "2023-05-08T14:02:45.983Z"
   },
   {
    "duration": 16,
    "start_time": "2023-05-08T14:02:45.997Z"
   },
   {
    "duration": 44,
    "start_time": "2023-05-08T14:02:46.015Z"
   },
   {
    "duration": 255,
    "start_time": "2023-05-08T14:02:46.060Z"
   },
   {
    "duration": 266,
    "start_time": "2023-05-08T14:02:46.316Z"
   },
   {
    "duration": 252,
    "start_time": "2023-05-08T14:02:46.584Z"
   },
   {
    "duration": 321,
    "start_time": "2023-05-08T14:02:46.838Z"
   },
   {
    "duration": 18,
    "start_time": "2023-05-08T14:02:47.160Z"
   },
   {
    "duration": 3,
    "start_time": "2023-05-08T14:02:47.180Z"
   },
   {
    "duration": 14,
    "start_time": "2023-05-08T14:03:22.853Z"
   },
   {
    "duration": 79,
    "start_time": "2023-05-08T14:04:09.125Z"
   },
   {
    "duration": 16,
    "start_time": "2023-05-08T14:04:18.117Z"
   },
   {
    "duration": 20,
    "start_time": "2023-05-08T14:09:21.084Z"
   },
   {
    "duration": 23,
    "start_time": "2023-05-08T14:09:49.461Z"
   },
   {
    "duration": 7,
    "start_time": "2023-05-08T14:12:43.325Z"
   },
   {
    "duration": 7,
    "start_time": "2023-05-08T14:13:24.364Z"
   },
   {
    "duration": 19,
    "start_time": "2023-05-08T14:13:27.685Z"
   },
   {
    "duration": 8,
    "start_time": "2023-05-08T14:13:30.532Z"
   },
   {
    "duration": 8,
    "start_time": "2023-05-08T14:14:12.332Z"
   },
   {
    "duration": 4,
    "start_time": "2023-05-08T14:14:16.701Z"
   },
   {
    "duration": 18,
    "start_time": "2023-05-08T14:14:21.100Z"
   },
   {
    "duration": 26,
    "start_time": "2023-05-08T14:16:34.804Z"
   },
   {
    "duration": 617,
    "start_time": "2023-05-08T14:16:40.809Z"
   },
   {
    "duration": 381,
    "start_time": "2023-05-08T14:16:41.428Z"
   },
   {
    "duration": 11,
    "start_time": "2023-05-08T14:16:41.811Z"
   },
   {
    "duration": 11,
    "start_time": "2023-05-08T14:16:41.825Z"
   },
   {
    "duration": 10,
    "start_time": "2023-05-08T14:16:41.838Z"
   },
   {
    "duration": 11,
    "start_time": "2023-05-08T14:16:41.850Z"
   },
   {
    "duration": 7,
    "start_time": "2023-05-08T14:16:41.864Z"
   },
   {
    "duration": 18,
    "start_time": "2023-05-08T14:16:41.873Z"
   },
   {
    "duration": 8,
    "start_time": "2023-05-08T14:16:41.893Z"
   },
   {
    "duration": 10,
    "start_time": "2023-05-08T14:16:41.904Z"
   },
   {
    "duration": 34,
    "start_time": "2023-05-08T14:16:41.916Z"
   },
   {
    "duration": 10,
    "start_time": "2023-05-08T14:16:41.952Z"
   },
   {
    "duration": 7,
    "start_time": "2023-05-08T14:16:41.963Z"
   },
   {
    "duration": 8,
    "start_time": "2023-05-08T14:16:41.971Z"
   },
   {
    "duration": 7,
    "start_time": "2023-05-08T14:16:41.981Z"
   },
   {
    "duration": 5,
    "start_time": "2023-05-08T14:16:41.989Z"
   },
   {
    "duration": 7,
    "start_time": "2023-05-08T14:16:41.995Z"
   },
   {
    "duration": 196,
    "start_time": "2023-05-08T14:16:42.004Z"
   },
   {
    "duration": 5,
    "start_time": "2023-05-08T14:16:42.202Z"
   },
   {
    "duration": 106,
    "start_time": "2023-05-08T14:16:42.209Z"
   },
   {
    "duration": 191,
    "start_time": "2023-05-08T14:16:42.317Z"
   },
   {
    "duration": 302,
    "start_time": "2023-05-08T14:16:42.509Z"
   },
   {
    "duration": 257,
    "start_time": "2023-05-08T14:16:42.812Z"
   },
   {
    "duration": 12,
    "start_time": "2023-05-08T14:16:43.070Z"
   },
   {
    "duration": 20,
    "start_time": "2023-05-08T14:16:43.084Z"
   },
   {
    "duration": 4,
    "start_time": "2023-05-08T14:16:43.105Z"
   },
   {
    "duration": 263,
    "start_time": "2023-05-08T14:16:43.110Z"
   },
   {
    "duration": 16,
    "start_time": "2023-05-08T14:16:43.378Z"
   },
   {
    "duration": 14,
    "start_time": "2023-05-08T14:16:43.396Z"
   },
   {
    "duration": 43,
    "start_time": "2023-05-08T14:16:43.412Z"
   },
   {
    "duration": 19,
    "start_time": "2023-05-08T14:16:43.457Z"
   },
   {
    "duration": 262,
    "start_time": "2023-05-08T14:16:43.478Z"
   },
   {
    "duration": 245,
    "start_time": "2023-05-08T14:16:43.742Z"
   },
   {
    "duration": 243,
    "start_time": "2023-05-08T14:16:43.989Z"
   },
   {
    "duration": 344,
    "start_time": "2023-05-08T14:16:44.233Z"
   },
   {
    "duration": 21,
    "start_time": "2023-05-08T14:16:44.579Z"
   },
   {
    "duration": 34,
    "start_time": "2023-05-08T14:16:44.602Z"
   },
   {
    "duration": 31,
    "start_time": "2023-05-08T14:16:44.637Z"
   },
   {
    "duration": 18,
    "start_time": "2023-05-08T14:17:07.269Z"
   },
   {
    "duration": 14,
    "start_time": "2023-05-08T14:17:19.516Z"
   },
   {
    "duration": 19,
    "start_time": "2023-05-08T14:19:12.652Z"
   },
   {
    "duration": 19,
    "start_time": "2023-05-08T14:19:27.309Z"
   },
   {
    "duration": 621,
    "start_time": "2023-05-08T14:19:33.661Z"
   },
   {
    "duration": 343,
    "start_time": "2023-05-08T14:19:34.284Z"
   },
   {
    "duration": 12,
    "start_time": "2023-05-08T14:19:34.628Z"
   },
   {
    "duration": 14,
    "start_time": "2023-05-08T14:19:34.642Z"
   },
   {
    "duration": 10,
    "start_time": "2023-05-08T14:19:34.657Z"
   },
   {
    "duration": 10,
    "start_time": "2023-05-08T14:19:34.668Z"
   },
   {
    "duration": 5,
    "start_time": "2023-05-08T14:19:34.680Z"
   },
   {
    "duration": 19,
    "start_time": "2023-05-08T14:19:34.687Z"
   },
   {
    "duration": 9,
    "start_time": "2023-05-08T14:19:34.708Z"
   },
   {
    "duration": 8,
    "start_time": "2023-05-08T14:19:34.720Z"
   },
   {
    "duration": 19,
    "start_time": "2023-05-08T14:19:34.730Z"
   },
   {
    "duration": 8,
    "start_time": "2023-05-08T14:19:34.750Z"
   },
   {
    "duration": 6,
    "start_time": "2023-05-08T14:19:34.759Z"
   },
   {
    "duration": 8,
    "start_time": "2023-05-08T14:19:34.767Z"
   },
   {
    "duration": 7,
    "start_time": "2023-05-08T14:19:34.776Z"
   },
   {
    "duration": 5,
    "start_time": "2023-05-08T14:19:34.785Z"
   },
   {
    "duration": 8,
    "start_time": "2023-05-08T14:19:34.792Z"
   },
   {
    "duration": 223,
    "start_time": "2023-05-08T14:19:34.802Z"
   },
   {
    "duration": 6,
    "start_time": "2023-05-08T14:19:35.028Z"
   },
   {
    "duration": 114,
    "start_time": "2023-05-08T14:19:35.049Z"
   },
   {
    "duration": 186,
    "start_time": "2023-05-08T14:19:35.164Z"
   },
   {
    "duration": 293,
    "start_time": "2023-05-08T14:19:35.352Z"
   },
   {
    "duration": 245,
    "start_time": "2023-05-08T14:19:35.649Z"
   },
   {
    "duration": 12,
    "start_time": "2023-05-08T14:19:35.896Z"
   },
   {
    "duration": 17,
    "start_time": "2023-05-08T14:19:35.910Z"
   },
   {
    "duration": 19,
    "start_time": "2023-05-08T14:19:35.929Z"
   },
   {
    "duration": 256,
    "start_time": "2023-05-08T14:19:35.950Z"
   },
   {
    "duration": 13,
    "start_time": "2023-05-08T14:19:36.209Z"
   },
   {
    "duration": 24,
    "start_time": "2023-05-08T14:19:36.224Z"
   },
   {
    "duration": 16,
    "start_time": "2023-05-08T14:19:36.250Z"
   },
   {
    "duration": 13,
    "start_time": "2023-05-08T14:19:36.268Z"
   },
   {
    "duration": 267,
    "start_time": "2023-05-08T14:19:36.282Z"
   },
   {
    "duration": 242,
    "start_time": "2023-05-08T14:19:36.550Z"
   },
   {
    "duration": 244,
    "start_time": "2023-05-08T14:19:36.793Z"
   },
   {
    "duration": 331,
    "start_time": "2023-05-08T14:19:37.039Z"
   },
   {
    "duration": 19,
    "start_time": "2023-05-08T14:19:37.372Z"
   },
   {
    "duration": 13,
    "start_time": "2023-05-08T14:19:37.392Z"
   },
   {
    "duration": 47,
    "start_time": "2023-05-08T14:19:37.407Z"
   },
   {
    "duration": 16,
    "start_time": "2023-05-08T14:19:59.948Z"
   },
   {
    "duration": 20,
    "start_time": "2023-05-08T14:20:10.724Z"
   },
   {
    "duration": 14,
    "start_time": "2023-05-08T14:20:13.845Z"
   },
   {
    "duration": 25,
    "start_time": "2023-05-08T14:23:01.780Z"
   },
   {
    "duration": 91,
    "start_time": "2023-05-08T14:23:19.764Z"
   },
   {
    "duration": 72,
    "start_time": "2023-05-08T14:24:08.996Z"
   },
   {
    "duration": 71,
    "start_time": "2023-05-08T14:24:13.444Z"
   },
   {
    "duration": 99,
    "start_time": "2023-05-08T14:24:20.685Z"
   },
   {
    "duration": 26,
    "start_time": "2023-05-08T14:24:35.996Z"
   },
   {
    "duration": 4,
    "start_time": "2023-05-08T14:31:12.176Z"
   },
   {
    "duration": 82,
    "start_time": "2023-05-08T14:31:27.428Z"
   },
   {
    "duration": 11,
    "start_time": "2023-05-08T14:31:43.591Z"
   },
   {
    "duration": 93,
    "start_time": "2023-05-08T14:32:36.453Z"
   },
   {
    "duration": 98,
    "start_time": "2023-05-08T14:32:45.579Z"
   },
   {
    "duration": 1188,
    "start_time": "2023-05-08T14:33:05.764Z"
   },
   {
    "duration": 6,
    "start_time": "2023-05-08T14:33:41.773Z"
   },
   {
    "duration": 20,
    "start_time": "2023-05-08T14:34:31.380Z"
   },
   {
    "duration": 18,
    "start_time": "2023-05-08T14:34:49.928Z"
   },
   {
    "duration": 18,
    "start_time": "2023-05-08T14:35:07.820Z"
   },
   {
    "duration": 24,
    "start_time": "2023-05-08T14:35:11.227Z"
   },
   {
    "duration": 25,
    "start_time": "2023-05-08T14:35:19.300Z"
   },
   {
    "duration": 23,
    "start_time": "2023-05-08T14:37:49.004Z"
   },
   {
    "duration": 28,
    "start_time": "2023-05-08T14:38:21.899Z"
   },
   {
    "duration": 28,
    "start_time": "2023-05-08T14:38:35.636Z"
   },
   {
    "duration": 29,
    "start_time": "2023-05-08T14:38:39.251Z"
   },
   {
    "duration": 29,
    "start_time": "2023-05-08T14:38:51.643Z"
   },
   {
    "duration": 29,
    "start_time": "2023-05-08T14:39:22.172Z"
   },
   {
    "duration": 24,
    "start_time": "2023-05-08T14:39:27.693Z"
   },
   {
    "duration": 26,
    "start_time": "2023-05-08T14:39:52.988Z"
   },
   {
    "duration": 11,
    "start_time": "2023-05-08T14:40:04.403Z"
   },
   {
    "duration": 25,
    "start_time": "2023-05-08T14:40:58.796Z"
   },
   {
    "duration": 14,
    "start_time": "2023-05-08T14:41:05.492Z"
   },
   {
    "duration": 1700,
    "start_time": "2023-05-08T14:42:12.034Z"
   },
   {
    "duration": 29,
    "start_time": "2023-05-08T14:42:26.084Z"
   },
   {
    "duration": 14,
    "start_time": "2023-05-08T14:42:28.682Z"
   },
   {
    "duration": 14,
    "start_time": "2023-05-08T14:42:30.827Z"
   },
   {
    "duration": 21,
    "start_time": "2023-05-08T14:42:33.803Z"
   },
   {
    "duration": 14,
    "start_time": "2023-05-08T14:42:48.971Z"
   },
   {
    "duration": 15,
    "start_time": "2023-05-08T14:43:38.859Z"
   },
   {
    "duration": 14,
    "start_time": "2023-05-08T14:45:14.340Z"
   },
   {
    "duration": 14,
    "start_time": "2023-05-08T14:46:03.667Z"
   },
   {
    "duration": 7,
    "start_time": "2023-05-08T14:47:50.527Z"
   },
   {
    "duration": 1235,
    "start_time": "2023-05-08T14:48:01.114Z"
   },
   {
    "duration": 675,
    "start_time": "2023-05-08T14:48:19.233Z"
   },
   {
    "duration": 365,
    "start_time": "2023-05-08T14:48:19.910Z"
   },
   {
    "duration": 11,
    "start_time": "2023-05-08T14:48:20.277Z"
   },
   {
    "duration": 13,
    "start_time": "2023-05-08T14:48:20.289Z"
   },
   {
    "duration": 12,
    "start_time": "2023-05-08T14:48:20.303Z"
   },
   {
    "duration": 17,
    "start_time": "2023-05-08T14:48:20.316Z"
   },
   {
    "duration": 9,
    "start_time": "2023-05-08T14:48:20.334Z"
   },
   {
    "duration": 11,
    "start_time": "2023-05-08T14:48:20.345Z"
   },
   {
    "duration": 9,
    "start_time": "2023-05-08T14:48:20.358Z"
   },
   {
    "duration": 7,
    "start_time": "2023-05-08T14:48:20.370Z"
   },
   {
    "duration": 4,
    "start_time": "2023-05-08T14:48:20.378Z"
   },
   {
    "duration": 9,
    "start_time": "2023-05-08T14:48:20.383Z"
   },
   {
    "duration": 11,
    "start_time": "2023-05-08T14:48:20.393Z"
   },
   {
    "duration": 9,
    "start_time": "2023-05-08T14:48:20.405Z"
   },
   {
    "duration": 26,
    "start_time": "2023-05-08T14:48:20.415Z"
   },
   {
    "duration": 10,
    "start_time": "2023-05-08T14:48:20.442Z"
   },
   {
    "duration": 16,
    "start_time": "2023-05-08T14:48:20.454Z"
   },
   {
    "duration": 159,
    "start_time": "2023-05-08T14:48:20.472Z"
   },
   {
    "duration": 6,
    "start_time": "2023-05-08T14:48:20.632Z"
   },
   {
    "duration": 109,
    "start_time": "2023-05-08T14:48:20.639Z"
   },
   {
    "duration": 172,
    "start_time": "2023-05-08T14:48:20.750Z"
   },
   {
    "duration": 313,
    "start_time": "2023-05-08T14:48:20.924Z"
   },
   {
    "duration": 262,
    "start_time": "2023-05-08T14:48:21.238Z"
   },
   {
    "duration": 13,
    "start_time": "2023-05-08T14:48:21.501Z"
   },
   {
    "duration": 13,
    "start_time": "2023-05-08T14:48:21.516Z"
   },
   {
    "duration": 21,
    "start_time": "2023-05-08T14:48:21.530Z"
   },
   {
    "duration": 254,
    "start_time": "2023-05-08T14:48:21.552Z"
   },
   {
    "duration": 16,
    "start_time": "2023-05-08T14:48:21.810Z"
   },
   {
    "duration": 28,
    "start_time": "2023-05-08T14:48:21.827Z"
   },
   {
    "duration": 16,
    "start_time": "2023-05-08T14:48:21.857Z"
   },
   {
    "duration": 14,
    "start_time": "2023-05-08T14:48:21.875Z"
   },
   {
    "duration": 275,
    "start_time": "2023-05-08T14:48:21.890Z"
   },
   {
    "duration": 246,
    "start_time": "2023-05-08T14:48:22.166Z"
   },
   {
    "duration": 241,
    "start_time": "2023-05-08T14:48:22.413Z"
   },
   {
    "duration": 314,
    "start_time": "2023-05-08T14:48:22.655Z"
   },
   {
    "duration": 23,
    "start_time": "2023-05-08T14:48:22.971Z"
   },
   {
    "duration": 9,
    "start_time": "2023-05-08T14:48:22.996Z"
   },
   {
    "duration": 12,
    "start_time": "2023-05-08T14:48:23.007Z"
   },
   {
    "duration": 41,
    "start_time": "2023-05-08T14:48:23.020Z"
   },
   {
    "duration": 1108,
    "start_time": "2023-05-08T15:02:05.440Z"
   },
   {
    "duration": 338,
    "start_time": "2023-05-08T15:02:06.550Z"
   },
   {
    "duration": 11,
    "start_time": "2023-05-08T15:02:06.889Z"
   },
   {
    "duration": 10,
    "start_time": "2023-05-08T15:02:06.902Z"
   },
   {
    "duration": 12,
    "start_time": "2023-05-08T15:02:06.913Z"
   },
   {
    "duration": 16,
    "start_time": "2023-05-08T15:02:06.927Z"
   },
   {
    "duration": 6,
    "start_time": "2023-05-08T15:02:06.945Z"
   },
   {
    "duration": 13,
    "start_time": "2023-05-08T15:02:06.953Z"
   },
   {
    "duration": 9,
    "start_time": "2023-05-08T15:02:06.968Z"
   },
   {
    "duration": 10,
    "start_time": "2023-05-08T15:02:06.979Z"
   },
   {
    "duration": 4,
    "start_time": "2023-05-08T15:02:06.991Z"
   },
   {
    "duration": 20,
    "start_time": "2023-05-08T15:02:06.997Z"
   },
   {
    "duration": 8,
    "start_time": "2023-05-08T15:02:07.018Z"
   },
   {
    "duration": 9,
    "start_time": "2023-05-08T15:02:07.052Z"
   },
   {
    "duration": 9,
    "start_time": "2023-05-08T15:02:07.063Z"
   },
   {
    "duration": 6,
    "start_time": "2023-05-08T15:02:07.073Z"
   },
   {
    "duration": 7,
    "start_time": "2023-05-08T15:02:07.080Z"
   },
   {
    "duration": 184,
    "start_time": "2023-05-08T15:02:07.088Z"
   },
   {
    "duration": 6,
    "start_time": "2023-05-08T15:02:07.274Z"
   },
   {
    "duration": 107,
    "start_time": "2023-05-08T15:02:07.281Z"
   },
   {
    "duration": 182,
    "start_time": "2023-05-08T15:02:07.390Z"
   },
   {
    "duration": 263,
    "start_time": "2023-05-08T15:02:07.573Z"
   },
   {
    "duration": 253,
    "start_time": "2023-05-08T15:02:07.837Z"
   },
   {
    "duration": 13,
    "start_time": "2023-05-08T15:02:08.091Z"
   },
   {
    "duration": 12,
    "start_time": "2023-05-08T15:02:08.105Z"
   },
   {
    "duration": 5,
    "start_time": "2023-05-08T15:02:08.118Z"
   },
   {
    "duration": 281,
    "start_time": "2023-05-08T15:02:08.125Z"
   },
   {
    "duration": 15,
    "start_time": "2023-05-08T15:02:08.409Z"
   },
   {
    "duration": 26,
    "start_time": "2023-05-08T15:02:08.426Z"
   },
   {
    "duration": 16,
    "start_time": "2023-05-08T15:02:08.453Z"
   },
   {
    "duration": 14,
    "start_time": "2023-05-08T15:02:08.471Z"
   },
   {
    "duration": 342,
    "start_time": "2023-05-08T15:02:08.486Z"
   },
   {
    "duration": 249,
    "start_time": "2023-05-08T15:02:08.833Z"
   },
   {
    "duration": 249,
    "start_time": "2023-05-08T15:02:09.084Z"
   },
   {
    "duration": 260,
    "start_time": "2023-05-08T15:02:09.335Z"
   },
   {
    "duration": 27,
    "start_time": "2023-05-08T15:02:09.596Z"
   },
   {
    "duration": 28,
    "start_time": "2023-05-08T15:02:09.624Z"
   },
   {
    "duration": 13,
    "start_time": "2023-05-08T15:02:09.653Z"
   },
   {
    "duration": 14,
    "start_time": "2023-05-08T15:02:09.667Z"
   },
   {
    "duration": 6,
    "start_time": "2023-05-08T15:05:25.258Z"
   },
   {
    "duration": 5,
    "start_time": "2023-05-08T15:21:13.097Z"
   },
   {
    "duration": 4,
    "start_time": "2023-05-08T15:21:18.697Z"
   },
   {
    "duration": 5,
    "start_time": "2023-05-08T15:21:45.554Z"
   },
   {
    "duration": 5,
    "start_time": "2023-05-08T15:22:16.768Z"
   },
   {
    "duration": 5,
    "start_time": "2023-05-08T15:49:33.319Z"
   },
   {
    "duration": 5,
    "start_time": "2023-05-08T15:50:09.543Z"
   },
   {
    "duration": 5,
    "start_time": "2023-05-08T15:50:16.703Z"
   },
   {
    "duration": 6,
    "start_time": "2023-05-08T15:50:52.871Z"
   },
   {
    "duration": 5,
    "start_time": "2023-05-08T15:51:00.311Z"
   },
   {
    "duration": 4,
    "start_time": "2023-05-08T15:52:29.248Z"
   },
   {
    "duration": 5,
    "start_time": "2023-05-08T15:52:57.110Z"
   },
   {
    "duration": 4,
    "start_time": "2023-05-08T15:53:30.343Z"
   },
   {
    "duration": 5,
    "start_time": "2023-05-08T15:54:15.223Z"
   },
   {
    "duration": 5,
    "start_time": "2023-05-08T15:54:29.183Z"
   },
   {
    "duration": 5,
    "start_time": "2023-05-08T15:54:34.796Z"
   },
   {
    "duration": 5,
    "start_time": "2023-05-08T15:54:41.695Z"
   },
   {
    "duration": 4,
    "start_time": "2023-05-08T15:57:45.592Z"
   },
   {
    "duration": 5,
    "start_time": "2023-05-08T15:58:02.999Z"
   },
   {
    "duration": 4,
    "start_time": "2023-05-08T15:58:42.655Z"
   },
   {
    "duration": 5,
    "start_time": "2023-05-08T15:58:46.782Z"
   },
   {
    "duration": 4,
    "start_time": "2023-05-08T15:59:55.175Z"
   },
   {
    "duration": 5,
    "start_time": "2023-05-08T16:06:48.862Z"
   },
   {
    "duration": 7,
    "start_time": "2023-05-08T16:06:54.750Z"
   },
   {
    "duration": 5,
    "start_time": "2023-05-08T17:05:32.019Z"
   },
   {
    "duration": 6,
    "start_time": "2023-05-08T17:05:47.206Z"
   },
   {
    "duration": 7,
    "start_time": "2023-05-08T17:26:04.330Z"
   },
   {
    "duration": 4,
    "start_time": "2023-05-08T17:26:15.707Z"
   },
   {
    "duration": 1099,
    "start_time": "2023-05-09T16:08:08.701Z"
   },
   {
    "duration": 638,
    "start_time": "2023-05-09T16:08:09.801Z"
   },
   {
    "duration": 10,
    "start_time": "2023-05-09T16:08:10.440Z"
   },
   {
    "duration": 34,
    "start_time": "2023-05-09T16:08:10.451Z"
   },
   {
    "duration": 8,
    "start_time": "2023-05-09T16:08:10.487Z"
   },
   {
    "duration": 19,
    "start_time": "2023-05-09T16:08:10.496Z"
   },
   {
    "duration": 6,
    "start_time": "2023-05-09T16:08:10.517Z"
   },
   {
    "duration": 10,
    "start_time": "2023-05-09T16:08:10.524Z"
   },
   {
    "duration": 7,
    "start_time": "2023-05-09T16:08:10.535Z"
   },
   {
    "duration": 8,
    "start_time": "2023-05-09T16:08:10.543Z"
   },
   {
    "duration": 20,
    "start_time": "2023-05-09T16:08:10.552Z"
   },
   {
    "duration": 10,
    "start_time": "2023-05-09T16:08:10.573Z"
   },
   {
    "duration": 19,
    "start_time": "2023-05-09T16:08:10.584Z"
   },
   {
    "duration": 9,
    "start_time": "2023-05-09T16:08:10.607Z"
   },
   {
    "duration": 8,
    "start_time": "2023-05-09T16:08:10.618Z"
   },
   {
    "duration": 6,
    "start_time": "2023-05-09T16:08:10.628Z"
   },
   {
    "duration": 6,
    "start_time": "2023-05-09T16:08:10.635Z"
   },
   {
    "duration": 174,
    "start_time": "2023-05-09T16:08:10.642Z"
   },
   {
    "duration": 6,
    "start_time": "2023-05-09T16:08:10.818Z"
   },
   {
    "duration": 112,
    "start_time": "2023-05-09T16:08:10.825Z"
   },
   {
    "duration": 158,
    "start_time": "2023-05-09T16:08:10.939Z"
   },
   {
    "duration": 247,
    "start_time": "2023-05-09T16:08:11.099Z"
   },
   {
    "duration": 232,
    "start_time": "2023-05-09T16:08:11.347Z"
   },
   {
    "duration": 12,
    "start_time": "2023-05-09T16:08:11.581Z"
   },
   {
    "duration": 42,
    "start_time": "2023-05-09T16:08:11.594Z"
   },
   {
    "duration": 12,
    "start_time": "2023-05-09T16:08:11.637Z"
   },
   {
    "duration": 239,
    "start_time": "2023-05-09T16:08:11.650Z"
   },
   {
    "duration": 15,
    "start_time": "2023-05-09T16:08:11.891Z"
   },
   {
    "duration": 12,
    "start_time": "2023-05-09T16:08:11.908Z"
   },
   {
    "duration": 15,
    "start_time": "2023-05-09T16:08:11.922Z"
   },
   {
    "duration": 42,
    "start_time": "2023-05-09T16:08:11.938Z"
   },
   {
    "duration": 305,
    "start_time": "2023-05-09T16:08:11.982Z"
   },
   {
    "duration": 225,
    "start_time": "2023-05-09T16:08:12.289Z"
   },
   {
    "duration": 224,
    "start_time": "2023-05-09T16:08:12.515Z"
   },
   {
    "duration": 250,
    "start_time": "2023-05-09T16:08:12.740Z"
   },
   {
    "duration": 23,
    "start_time": "2023-05-09T16:08:12.991Z"
   },
   {
    "duration": 10,
    "start_time": "2023-05-09T16:08:13.016Z"
   },
   {
    "duration": 11,
    "start_time": "2023-05-09T16:08:13.028Z"
   },
   {
    "duration": 42,
    "start_time": "2023-05-09T16:08:13.040Z"
   },
   {
    "duration": 6,
    "start_time": "2023-05-09T16:08:13.084Z"
   },
   {
    "duration": 11,
    "start_time": "2023-05-09T16:08:13.094Z"
   },
   {
    "duration": 1882,
    "start_time": "2023-05-09T16:08:13.107Z"
   },
   {
    "duration": 6,
    "start_time": "2023-05-09T16:09:23.640Z"
   },
   {
    "duration": 6,
    "start_time": "2023-05-09T16:09:44.203Z"
   },
   {
    "duration": 6,
    "start_time": "2023-05-09T16:09:52.792Z"
   },
   {
    "duration": 7,
    "start_time": "2023-05-09T16:10:47.199Z"
   },
   {
    "duration": 6,
    "start_time": "2023-05-09T16:10:52.627Z"
   },
   {
    "duration": 6,
    "start_time": "2023-05-09T16:11:58.700Z"
   },
   {
    "duration": 999,
    "start_time": "2023-05-09T18:55:56.797Z"
   },
   {
    "duration": 385,
    "start_time": "2023-05-09T18:55:57.797Z"
   },
   {
    "duration": 10,
    "start_time": "2023-05-09T18:55:58.184Z"
   },
   {
    "duration": 9,
    "start_time": "2023-05-09T18:55:58.196Z"
   },
   {
    "duration": 10,
    "start_time": "2023-05-09T18:55:58.207Z"
   },
   {
    "duration": 12,
    "start_time": "2023-05-09T18:55:58.218Z"
   },
   {
    "duration": 6,
    "start_time": "2023-05-09T18:55:58.231Z"
   },
   {
    "duration": 11,
    "start_time": "2023-05-09T18:55:58.238Z"
   },
   {
    "duration": 27,
    "start_time": "2023-05-09T18:55:58.250Z"
   },
   {
    "duration": 9,
    "start_time": "2023-05-09T18:55:58.279Z"
   },
   {
    "duration": 18,
    "start_time": "2023-05-09T18:55:58.289Z"
   },
   {
    "duration": 11,
    "start_time": "2023-05-09T18:55:58.308Z"
   },
   {
    "duration": 7,
    "start_time": "2023-05-09T18:55:58.320Z"
   },
   {
    "duration": 20,
    "start_time": "2023-05-09T18:55:58.329Z"
   },
   {
    "duration": 29,
    "start_time": "2023-05-09T18:55:58.350Z"
   },
   {
    "duration": 4,
    "start_time": "2023-05-09T18:55:58.381Z"
   },
   {
    "duration": 8,
    "start_time": "2023-05-09T18:55:58.386Z"
   },
   {
    "duration": 148,
    "start_time": "2023-05-09T18:55:58.395Z"
   },
   {
    "duration": 5,
    "start_time": "2023-05-09T18:55:58.545Z"
   },
   {
    "duration": 101,
    "start_time": "2023-05-09T18:55:58.551Z"
   },
   {
    "duration": 165,
    "start_time": "2023-05-09T18:55:58.653Z"
   },
   {
    "duration": 245,
    "start_time": "2023-05-09T18:55:58.820Z"
   },
   {
    "duration": 236,
    "start_time": "2023-05-09T18:55:59.067Z"
   },
   {
    "duration": 13,
    "start_time": "2023-05-09T18:55:59.304Z"
   },
   {
    "duration": 17,
    "start_time": "2023-05-09T18:55:59.318Z"
   },
   {
    "duration": 10,
    "start_time": "2023-05-09T18:55:59.336Z"
   },
   {
    "duration": 237,
    "start_time": "2023-05-09T18:55:59.348Z"
   },
   {
    "duration": 14,
    "start_time": "2023-05-09T18:55:59.589Z"
   },
   {
    "duration": 12,
    "start_time": "2023-05-09T18:55:59.604Z"
   },
   {
    "duration": 20,
    "start_time": "2023-05-09T18:55:59.617Z"
   },
   {
    "duration": 12,
    "start_time": "2023-05-09T18:55:59.638Z"
   },
   {
    "duration": 298,
    "start_time": "2023-05-09T18:55:59.651Z"
   },
   {
    "duration": 221,
    "start_time": "2023-05-09T18:55:59.951Z"
   },
   {
    "duration": 221,
    "start_time": "2023-05-09T18:56:00.174Z"
   },
   {
    "duration": 258,
    "start_time": "2023-05-09T18:56:00.397Z"
   },
   {
    "duration": 35,
    "start_time": "2023-05-09T18:56:00.656Z"
   },
   {
    "duration": 11,
    "start_time": "2023-05-09T18:56:00.693Z"
   },
   {
    "duration": 29,
    "start_time": "2023-05-09T18:56:00.705Z"
   },
   {
    "duration": 65,
    "start_time": "2023-05-09T18:56:00.736Z"
   },
   {
    "duration": 28,
    "start_time": "2023-05-09T18:56:00.802Z"
   },
   {
    "duration": 41,
    "start_time": "2023-05-09T18:56:00.831Z"
   },
   {
    "duration": 35,
    "start_time": "2023-05-09T18:56:00.874Z"
   },
   {
    "duration": 1516,
    "start_time": "2023-05-11T14:10:49.339Z"
   },
   {
    "duration": 1257,
    "start_time": "2023-05-11T14:10:50.858Z"
   },
   {
    "duration": 25,
    "start_time": "2023-05-11T14:10:52.117Z"
   },
   {
    "duration": 18,
    "start_time": "2023-05-11T14:10:52.148Z"
   },
   {
    "duration": 16,
    "start_time": "2023-05-11T14:10:52.169Z"
   },
   {
    "duration": 27,
    "start_time": "2023-05-11T14:10:52.187Z"
   },
   {
    "duration": 14,
    "start_time": "2023-05-11T14:10:52.216Z"
   },
   {
    "duration": 17,
    "start_time": "2023-05-11T14:10:52.233Z"
   },
   {
    "duration": 10,
    "start_time": "2023-05-11T14:10:52.253Z"
   },
   {
    "duration": 53,
    "start_time": "2023-05-11T14:10:52.266Z"
   },
   {
    "duration": 16,
    "start_time": "2023-05-11T14:10:52.321Z"
   },
   {
    "duration": 15,
    "start_time": "2023-05-11T14:10:52.341Z"
   },
   {
    "duration": 6,
    "start_time": "2023-05-11T14:10:52.359Z"
   },
   {
    "duration": 25,
    "start_time": "2023-05-11T14:10:52.367Z"
   },
   {
    "duration": 31,
    "start_time": "2023-05-11T14:10:52.396Z"
   },
   {
    "duration": 8,
    "start_time": "2023-05-11T14:10:52.429Z"
   },
   {
    "duration": 8,
    "start_time": "2023-05-11T14:10:52.442Z"
   },
   {
    "duration": 252,
    "start_time": "2023-05-11T14:10:52.453Z"
   },
   {
    "duration": 23,
    "start_time": "2023-05-11T14:10:52.724Z"
   },
   {
    "duration": 146,
    "start_time": "2023-05-11T14:10:52.749Z"
   },
   {
    "duration": 339,
    "start_time": "2023-05-11T14:10:52.897Z"
   },
   {
    "duration": 407,
    "start_time": "2023-05-11T14:10:53.238Z"
   },
   {
    "duration": 399,
    "start_time": "2023-05-11T14:10:53.648Z"
   },
   {
    "duration": 17,
    "start_time": "2023-05-11T14:10:54.052Z"
   },
   {
    "duration": 45,
    "start_time": "2023-05-11T14:10:54.071Z"
   },
   {
    "duration": 8,
    "start_time": "2023-05-11T14:10:54.123Z"
   },
   {
    "duration": 445,
    "start_time": "2023-05-11T14:10:54.135Z"
   },
   {
    "duration": 30,
    "start_time": "2023-05-11T14:10:54.597Z"
   },
   {
    "duration": 25,
    "start_time": "2023-05-11T14:10:54.630Z"
   },
   {
    "duration": 38,
    "start_time": "2023-05-11T14:10:54.657Z"
   },
   {
    "duration": 52,
    "start_time": "2023-05-11T14:10:54.698Z"
   },
   {
    "duration": 485,
    "start_time": "2023-05-11T14:10:54.757Z"
   },
   {
    "duration": 390,
    "start_time": "2023-05-11T14:10:55.245Z"
   },
   {
    "duration": 369,
    "start_time": "2023-05-11T14:10:55.636Z"
   },
   {
    "duration": 390,
    "start_time": "2023-05-11T14:10:56.013Z"
   },
   {
    "duration": 38,
    "start_time": "2023-05-11T14:10:56.405Z"
   },
   {
    "duration": 16,
    "start_time": "2023-05-11T14:10:56.445Z"
   },
   {
    "duration": 48,
    "start_time": "2023-05-11T14:10:56.464Z"
   },
   {
    "duration": 35,
    "start_time": "2023-05-11T14:10:56.514Z"
   },
   {
    "duration": 15,
    "start_time": "2023-05-11T14:10:56.551Z"
   },
   {
    "duration": 19,
    "start_time": "2023-05-11T14:10:56.569Z"
   },
   {
    "duration": 34,
    "start_time": "2023-05-11T14:10:56.590Z"
   },
   {
    "duration": 62,
    "start_time": "2023-05-11T18:17:04.308Z"
   },
   {
    "duration": 1305,
    "start_time": "2023-05-11T18:17:20.607Z"
   },
   {
    "duration": 818,
    "start_time": "2023-05-11T18:17:21.914Z"
   },
   {
    "duration": 20,
    "start_time": "2023-05-11T18:17:22.735Z"
   },
   {
    "duration": 26,
    "start_time": "2023-05-11T18:17:22.757Z"
   },
   {
    "duration": 70,
    "start_time": "2023-05-11T18:17:22.785Z"
   },
   {
    "duration": 64,
    "start_time": "2023-05-11T18:17:22.856Z"
   },
   {
    "duration": 19,
    "start_time": "2023-05-11T18:17:22.921Z"
   },
   {
    "duration": 36,
    "start_time": "2023-05-11T18:17:22.942Z"
   },
   {
    "duration": 31,
    "start_time": "2023-05-11T18:17:22.980Z"
   },
   {
    "duration": 38,
    "start_time": "2023-05-11T18:17:23.012Z"
   },
   {
    "duration": 35,
    "start_time": "2023-05-11T18:17:23.052Z"
   },
   {
    "duration": 44,
    "start_time": "2023-05-11T18:17:23.089Z"
   },
   {
    "duration": 39,
    "start_time": "2023-05-11T18:17:23.135Z"
   },
   {
    "duration": 49,
    "start_time": "2023-05-11T18:17:23.177Z"
   },
   {
    "duration": 33,
    "start_time": "2023-05-11T18:17:23.227Z"
   },
   {
    "duration": 13,
    "start_time": "2023-05-11T18:17:23.262Z"
   },
   {
    "duration": 100,
    "start_time": "2023-05-11T18:17:23.277Z"
   },
   {
    "duration": 124,
    "start_time": "2023-05-11T18:21:26.418Z"
   },
   {
    "duration": 178,
    "start_time": "2023-05-11T18:21:45.763Z"
   },
   {
    "duration": 144,
    "start_time": "2023-05-11T18:22:19.528Z"
   },
   {
    "duration": 185,
    "start_time": "2023-05-11T18:27:20.272Z"
   },
   {
    "duration": 171,
    "start_time": "2023-05-11T18:27:26.354Z"
   },
   {
    "duration": 158,
    "start_time": "2023-05-11T18:27:48.463Z"
   },
   {
    "duration": 28,
    "start_time": "2023-05-11T18:34:10.616Z"
   },
   {
    "duration": 11,
    "start_time": "2023-05-11T18:34:22.554Z"
   },
   {
    "duration": 14,
    "start_time": "2023-05-11T18:34:29.487Z"
   },
   {
    "duration": 251,
    "start_time": "2023-05-11T18:37:04.702Z"
   },
   {
    "duration": 311,
    "start_time": "2023-05-11T18:37:11.237Z"
   },
   {
    "duration": 17,
    "start_time": "2023-05-11T18:38:24.031Z"
   },
   {
    "duration": 17,
    "start_time": "2023-05-11T18:39:00.107Z"
   },
   {
    "duration": 5,
    "start_time": "2023-05-11T18:39:43.271Z"
   },
   {
    "duration": 7,
    "start_time": "2023-05-11T18:41:52.153Z"
   },
   {
    "duration": 7,
    "start_time": "2023-05-11T18:42:33.935Z"
   },
   {
    "duration": 1083,
    "start_time": "2023-05-11T18:43:20.360Z"
   },
   {
    "duration": 430,
    "start_time": "2023-05-11T18:43:21.446Z"
   },
   {
    "duration": 25,
    "start_time": "2023-05-11T18:43:21.877Z"
   },
   {
    "duration": 32,
    "start_time": "2023-05-11T18:43:21.903Z"
   },
   {
    "duration": 10,
    "start_time": "2023-05-11T18:43:21.937Z"
   },
   {
    "duration": 11,
    "start_time": "2023-05-11T18:43:21.949Z"
   },
   {
    "duration": 6,
    "start_time": "2023-05-11T18:43:21.961Z"
   },
   {
    "duration": 9,
    "start_time": "2023-05-11T18:43:21.969Z"
   },
   {
    "duration": 13,
    "start_time": "2023-05-11T18:43:21.980Z"
   },
   {
    "duration": 38,
    "start_time": "2023-05-11T18:43:21.995Z"
   },
   {
    "duration": 3,
    "start_time": "2023-05-11T18:43:22.035Z"
   },
   {
    "duration": 11,
    "start_time": "2023-05-11T18:43:22.040Z"
   },
   {
    "duration": 7,
    "start_time": "2023-05-11T18:43:22.052Z"
   },
   {
    "duration": 7,
    "start_time": "2023-05-11T18:43:22.061Z"
   },
   {
    "duration": 25,
    "start_time": "2023-05-11T18:43:22.069Z"
   },
   {
    "duration": 9,
    "start_time": "2023-05-11T18:43:22.095Z"
   },
   {
    "duration": 23,
    "start_time": "2023-05-11T18:43:22.106Z"
   },
   {
    "duration": 177,
    "start_time": "2023-05-11T18:43:22.130Z"
   },
   {
    "duration": 289,
    "start_time": "2023-05-11T18:43:22.309Z"
   },
   {
    "duration": 25,
    "start_time": "2023-05-11T18:43:22.601Z"
   },
   {
    "duration": 20,
    "start_time": "2023-05-11T18:43:22.628Z"
   },
   {
    "duration": 15,
    "start_time": "2023-05-11T18:43:22.650Z"
   },
   {
    "duration": 4,
    "start_time": "2023-05-11T18:43:22.666Z"
   },
   {
    "duration": 5,
    "start_time": "2023-05-11T18:44:07.023Z"
   },
   {
    "duration": 6,
    "start_time": "2023-05-11T18:45:29.341Z"
   },
   {
    "duration": 148,
    "start_time": "2023-05-11T18:45:35.612Z"
   },
   {
    "duration": 1109,
    "start_time": "2023-05-11T18:45:58.806Z"
   },
   {
    "duration": 684,
    "start_time": "2023-05-11T18:45:59.918Z"
   },
   {
    "duration": 15,
    "start_time": "2023-05-11T18:46:00.604Z"
   },
   {
    "duration": 50,
    "start_time": "2023-05-11T18:46:00.620Z"
   },
   {
    "duration": 46,
    "start_time": "2023-05-11T18:46:00.672Z"
   },
   {
    "duration": 36,
    "start_time": "2023-05-11T18:46:00.720Z"
   },
   {
    "duration": 63,
    "start_time": "2023-05-11T18:46:00.758Z"
   },
   {
    "duration": 51,
    "start_time": "2023-05-11T18:46:00.824Z"
   },
   {
    "duration": 49,
    "start_time": "2023-05-11T18:46:00.876Z"
   },
   {
    "duration": 86,
    "start_time": "2023-05-11T18:46:00.927Z"
   },
   {
    "duration": 39,
    "start_time": "2023-05-11T18:46:01.015Z"
   },
   {
    "duration": 59,
    "start_time": "2023-05-11T18:46:01.056Z"
   },
   {
    "duration": 33,
    "start_time": "2023-05-11T18:46:01.117Z"
   },
   {
    "duration": 64,
    "start_time": "2023-05-11T18:46:01.152Z"
   },
   {
    "duration": 40,
    "start_time": "2023-05-11T18:46:01.218Z"
   },
   {
    "duration": 68,
    "start_time": "2023-05-11T18:46:01.260Z"
   },
   {
    "duration": 52,
    "start_time": "2023-05-11T18:46:01.329Z"
   },
   {
    "duration": 209,
    "start_time": "2023-05-11T18:46:01.383Z"
   },
   {
    "duration": 337,
    "start_time": "2023-05-11T18:46:01.593Z"
   },
   {
    "duration": 17,
    "start_time": "2023-05-11T18:46:01.932Z"
   },
   {
    "duration": 63,
    "start_time": "2023-05-11T18:46:01.951Z"
   },
   {
    "duration": 35,
    "start_time": "2023-05-11T18:46:02.016Z"
   },
   {
    "duration": 21,
    "start_time": "2023-05-11T18:46:02.053Z"
   },
   {
    "duration": 41,
    "start_time": "2023-05-11T18:46:02.075Z"
   },
   {
    "duration": 175,
    "start_time": "2023-05-11T18:46:02.117Z"
   },
   {
    "duration": 145,
    "start_time": "2023-05-11T18:47:53.813Z"
   },
   {
    "duration": 158,
    "start_time": "2023-05-11T18:47:58.450Z"
   },
   {
    "duration": 136,
    "start_time": "2023-05-11T18:49:03.977Z"
   },
   {
    "duration": 172,
    "start_time": "2023-05-11T18:49:11.376Z"
   },
   {
    "duration": 111,
    "start_time": "2023-05-11T18:50:08.700Z"
   },
   {
    "duration": 168,
    "start_time": "2023-05-11T18:50:46.635Z"
   },
   {
    "duration": 186,
    "start_time": "2023-05-11T18:50:52.567Z"
   },
   {
    "duration": 146,
    "start_time": "2023-05-11T18:51:02.080Z"
   },
   {
    "duration": 992,
    "start_time": "2023-05-11T18:52:14.358Z"
   },
   {
    "duration": 382,
    "start_time": "2023-05-11T18:52:15.352Z"
   },
   {
    "duration": 15,
    "start_time": "2023-05-11T18:52:15.737Z"
   },
   {
    "duration": 9,
    "start_time": "2023-05-11T18:52:15.754Z"
   },
   {
    "duration": 17,
    "start_time": "2023-05-11T18:52:15.765Z"
   },
   {
    "duration": 33,
    "start_time": "2023-05-11T18:52:15.783Z"
   },
   {
    "duration": 9,
    "start_time": "2023-05-11T18:52:15.817Z"
   },
   {
    "duration": 13,
    "start_time": "2023-05-11T18:52:15.827Z"
   },
   {
    "duration": 23,
    "start_time": "2023-05-11T18:52:15.842Z"
   },
   {
    "duration": 20,
    "start_time": "2023-05-11T18:52:15.867Z"
   },
   {
    "duration": 11,
    "start_time": "2023-05-11T18:52:15.898Z"
   },
   {
    "duration": 28,
    "start_time": "2023-05-11T18:52:15.912Z"
   },
   {
    "duration": 13,
    "start_time": "2023-05-11T18:52:15.942Z"
   },
   {
    "duration": 61,
    "start_time": "2023-05-11T18:52:15.957Z"
   },
   {
    "duration": 33,
    "start_time": "2023-05-11T18:52:16.020Z"
   },
   {
    "duration": 21,
    "start_time": "2023-05-11T18:52:16.055Z"
   },
   {
    "duration": 57,
    "start_time": "2023-05-11T18:52:16.078Z"
   },
   {
    "duration": 160,
    "start_time": "2023-05-11T18:52:16.136Z"
   },
   {
    "duration": 265,
    "start_time": "2023-05-11T18:52:16.303Z"
   },
   {
    "duration": 33,
    "start_time": "2023-05-11T18:52:16.570Z"
   },
   {
    "duration": 33,
    "start_time": "2023-05-11T18:52:16.604Z"
   },
   {
    "duration": 17,
    "start_time": "2023-05-11T18:52:16.638Z"
   },
   {
    "duration": 7,
    "start_time": "2023-05-11T18:52:16.657Z"
   },
   {
    "duration": 7,
    "start_time": "2023-05-11T18:52:16.665Z"
   },
   {
    "duration": 161,
    "start_time": "2023-05-11T18:52:16.674Z"
   },
   {
    "duration": 6,
    "start_time": "2023-05-11T18:52:16.836Z"
   },
   {
    "duration": 117,
    "start_time": "2023-05-11T18:52:16.843Z"
   },
   {
    "duration": 187,
    "start_time": "2023-05-11T18:52:16.962Z"
   },
   {
    "duration": 281,
    "start_time": "2023-05-11T18:52:17.150Z"
   },
   {
    "duration": 320,
    "start_time": "2023-05-11T18:52:17.433Z"
   },
   {
    "duration": 17,
    "start_time": "2023-05-11T18:52:17.755Z"
   },
   {
    "duration": 41,
    "start_time": "2023-05-11T18:52:17.773Z"
   },
   {
    "duration": 19,
    "start_time": "2023-05-11T18:52:17.816Z"
   },
   {
    "duration": 16,
    "start_time": "2023-05-11T18:52:17.836Z"
   },
   {
    "duration": 254,
    "start_time": "2023-05-11T18:52:17.854Z"
   },
   {
    "duration": 276,
    "start_time": "2023-05-11T18:52:18.109Z"
   },
   {
    "duration": 259,
    "start_time": "2023-05-11T18:52:18.386Z"
   },
   {
    "duration": 266,
    "start_time": "2023-05-11T18:52:18.647Z"
   },
   {
    "duration": 23,
    "start_time": "2023-05-11T18:52:18.914Z"
   },
   {
    "duration": 9,
    "start_time": "2023-05-11T18:52:18.939Z"
   },
   {
    "duration": 12,
    "start_time": "2023-05-11T18:52:18.949Z"
   },
   {
    "duration": 45,
    "start_time": "2023-05-11T18:52:18.963Z"
   },
   {
    "duration": 6,
    "start_time": "2023-05-11T18:52:19.009Z"
   },
   {
    "duration": 6,
    "start_time": "2023-05-11T18:52:19.016Z"
   },
   {
    "duration": 10,
    "start_time": "2023-05-11T18:52:19.024Z"
   },
   {
    "duration": 1087,
    "start_time": "2023-05-11T19:49:25.823Z"
   },
   {
    "duration": 435,
    "start_time": "2023-05-11T19:49:26.912Z"
   },
   {
    "duration": 12,
    "start_time": "2023-05-11T19:49:27.348Z"
   },
   {
    "duration": 11,
    "start_time": "2023-05-11T19:49:27.362Z"
   },
   {
    "duration": 8,
    "start_time": "2023-05-11T19:49:27.374Z"
   },
   {
    "duration": 41,
    "start_time": "2023-05-11T19:49:27.384Z"
   },
   {
    "duration": 8,
    "start_time": "2023-05-11T19:49:27.427Z"
   },
   {
    "duration": 11,
    "start_time": "2023-05-11T19:49:27.436Z"
   },
   {
    "duration": 8,
    "start_time": "2023-05-11T19:49:27.449Z"
   },
   {
    "duration": 10,
    "start_time": "2023-05-11T19:49:27.459Z"
   },
   {
    "duration": 3,
    "start_time": "2023-05-11T19:49:27.471Z"
   },
   {
    "duration": 31,
    "start_time": "2023-05-11T19:49:27.475Z"
   },
   {
    "duration": 19,
    "start_time": "2023-05-11T19:49:27.507Z"
   },
   {
    "duration": 7,
    "start_time": "2023-05-11T19:49:27.527Z"
   },
   {
    "duration": 8,
    "start_time": "2023-05-11T19:49:27.535Z"
   },
   {
    "duration": 4,
    "start_time": "2023-05-11T19:49:27.545Z"
   },
   {
    "duration": 24,
    "start_time": "2023-05-11T19:49:27.551Z"
   },
   {
    "duration": 152,
    "start_time": "2023-05-11T19:49:27.576Z"
   },
   {
    "duration": 252,
    "start_time": "2023-05-11T19:49:27.730Z"
   },
   {
    "duration": 23,
    "start_time": "2023-05-11T19:49:27.984Z"
   },
   {
    "duration": 23,
    "start_time": "2023-05-11T19:49:28.009Z"
   },
   {
    "duration": 9,
    "start_time": "2023-05-11T19:49:28.034Z"
   },
   {
    "duration": 8,
    "start_time": "2023-05-11T19:49:28.045Z"
   },
   {
    "duration": 6,
    "start_time": "2023-05-11T19:49:28.054Z"
   },
   {
    "duration": 155,
    "start_time": "2023-05-11T19:49:28.062Z"
   },
   {
    "duration": 6,
    "start_time": "2023-05-11T19:49:28.219Z"
   },
   {
    "duration": 189,
    "start_time": "2023-05-11T19:49:28.226Z"
   },
   {
    "duration": 175,
    "start_time": "2023-05-11T19:49:28.418Z"
   },
   {
    "duration": 263,
    "start_time": "2023-05-11T19:49:28.595Z"
   },
   {
    "duration": 347,
    "start_time": "2023-05-11T19:49:28.860Z"
   },
   {
    "duration": 20,
    "start_time": "2023-05-11T19:49:29.212Z"
   },
   {
    "duration": 17,
    "start_time": "2023-05-11T19:49:29.234Z"
   },
   {
    "duration": 17,
    "start_time": "2023-05-11T19:49:29.252Z"
   },
   {
    "duration": 13,
    "start_time": "2023-05-11T19:49:29.270Z"
   },
   {
    "duration": 274,
    "start_time": "2023-05-11T19:49:29.285Z"
   },
   {
    "duration": 262,
    "start_time": "2023-05-11T19:49:29.561Z"
   },
   {
    "duration": 273,
    "start_time": "2023-05-11T19:49:29.825Z"
   },
   {
    "duration": 295,
    "start_time": "2023-05-11T19:49:30.099Z"
   },
   {
    "duration": 38,
    "start_time": "2023-05-11T19:49:30.395Z"
   },
   {
    "duration": 30,
    "start_time": "2023-05-11T19:49:30.435Z"
   },
   {
    "duration": 46,
    "start_time": "2023-05-11T19:49:30.466Z"
   },
   {
    "duration": 27,
    "start_time": "2023-05-11T19:49:30.514Z"
   },
   {
    "duration": 19,
    "start_time": "2023-05-11T19:49:30.542Z"
   },
   {
    "duration": 19,
    "start_time": "2023-05-11T19:49:30.563Z"
   },
   {
    "duration": 70,
    "start_time": "2023-05-11T19:49:30.583Z"
   },
   {
    "duration": 1122,
    "start_time": "2023-05-11T19:51:24.115Z"
   },
   {
    "duration": 392,
    "start_time": "2023-05-11T19:51:25.239Z"
   },
   {
    "duration": 15,
    "start_time": "2023-05-11T19:51:25.632Z"
   },
   {
    "duration": 21,
    "start_time": "2023-05-11T19:51:25.648Z"
   },
   {
    "duration": 9,
    "start_time": "2023-05-11T19:51:25.672Z"
   },
   {
    "duration": 42,
    "start_time": "2023-05-11T19:51:25.682Z"
   },
   {
    "duration": 8,
    "start_time": "2023-05-11T19:51:25.726Z"
   },
   {
    "duration": 13,
    "start_time": "2023-05-11T19:51:25.735Z"
   },
   {
    "duration": 10,
    "start_time": "2023-05-11T19:51:25.749Z"
   },
   {
    "duration": 7,
    "start_time": "2023-05-11T19:51:25.761Z"
   },
   {
    "duration": 4,
    "start_time": "2023-05-11T19:51:25.769Z"
   },
   {
    "duration": 20,
    "start_time": "2023-05-11T19:51:25.774Z"
   },
   {
    "duration": 25,
    "start_time": "2023-05-11T19:51:25.795Z"
   },
   {
    "duration": 7,
    "start_time": "2023-05-11T19:51:25.823Z"
   },
   {
    "duration": 9,
    "start_time": "2023-05-11T19:51:25.831Z"
   },
   {
    "duration": 13,
    "start_time": "2023-05-11T19:51:25.841Z"
   },
   {
    "duration": 20,
    "start_time": "2023-05-11T19:51:25.855Z"
   },
   {
    "duration": 159,
    "start_time": "2023-05-11T19:51:25.892Z"
   },
   {
    "duration": 285,
    "start_time": "2023-05-11T19:51:26.056Z"
   },
   {
    "duration": 19,
    "start_time": "2023-05-11T19:51:26.343Z"
   },
   {
    "duration": 57,
    "start_time": "2023-05-11T19:51:26.364Z"
   },
   {
    "duration": 11,
    "start_time": "2023-05-11T19:51:26.423Z"
   },
   {
    "duration": 13,
    "start_time": "2023-05-11T19:51:26.436Z"
   },
   {
    "duration": 13,
    "start_time": "2023-05-11T19:51:26.451Z"
   },
   {
    "duration": 146,
    "start_time": "2023-05-11T19:51:26.465Z"
   },
   {
    "duration": 6,
    "start_time": "2023-05-11T19:51:26.613Z"
   },
   {
    "duration": 120,
    "start_time": "2023-05-11T19:51:26.621Z"
   },
   {
    "duration": 192,
    "start_time": "2023-05-11T19:51:26.743Z"
   },
   {
    "duration": 294,
    "start_time": "2023-05-11T19:51:26.937Z"
   },
   {
    "duration": 321,
    "start_time": "2023-05-11T19:51:27.232Z"
   },
   {
    "duration": 15,
    "start_time": "2023-05-11T19:51:27.555Z"
   },
   {
    "duration": 30,
    "start_time": "2023-05-11T19:51:27.572Z"
   },
   {
    "duration": 25,
    "start_time": "2023-05-11T19:51:27.608Z"
   },
   {
    "duration": 16,
    "start_time": "2023-05-11T19:51:27.634Z"
   },
   {
    "duration": 278,
    "start_time": "2023-05-11T19:51:27.651Z"
   },
   {
    "duration": 249,
    "start_time": "2023-05-11T19:51:27.930Z"
   },
   {
    "duration": 266,
    "start_time": "2023-05-11T19:51:28.184Z"
   },
   {
    "duration": 270,
    "start_time": "2023-05-11T19:51:28.452Z"
   },
   {
    "duration": 29,
    "start_time": "2023-05-11T19:51:28.723Z"
   },
   {
    "duration": 11,
    "start_time": "2023-05-11T19:51:28.754Z"
   },
   {
    "duration": 39,
    "start_time": "2023-05-11T19:51:28.769Z"
   },
   {
    "duration": 18,
    "start_time": "2023-05-11T19:51:28.811Z"
   },
   {
    "duration": 5,
    "start_time": "2023-05-11T19:51:28.830Z"
   },
   {
    "duration": 7,
    "start_time": "2023-05-11T19:51:28.836Z"
   },
   {
    "duration": 16,
    "start_time": "2023-05-11T19:51:28.845Z"
   }
  ],
  "kernelspec": {
   "display_name": "Python 3 (ipykernel)",
   "language": "python",
   "name": "python3"
  },
  "language_info": {
   "codemirror_mode": {
    "name": "ipython",
    "version": 3
   },
   "file_extension": ".py",
   "mimetype": "text/x-python",
   "name": "python",
   "nbconvert_exporter": "python",
   "pygments_lexer": "ipython3",
   "version": "3.9.5"
  },
  "toc": {
   "base_numbering": 1,
   "nav_menu": {},
   "number_sections": true,
   "sideBar": true,
   "skip_h1_title": true,
   "title_cell": "Table of Contents",
   "title_sidebar": "Contents",
   "toc_cell": false,
   "toc_position": {},
   "toc_section_display": true,
   "toc_window_display": true
  }
 },
 "nbformat": 4,
 "nbformat_minor": 5
}
