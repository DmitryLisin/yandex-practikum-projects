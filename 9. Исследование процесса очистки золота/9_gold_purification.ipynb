{
 "cells": [
  {
   "cell_type": "markdown",
   "metadata": {
    "toc": true
   },
   "source": [
    "<h1>Содержание<span class=\"tocSkip\"></span></h1>\n",
    "<div class=\"toc\"><ul class=\"toc-item\"><li><span><a href=\"#Подготовка-данных\" data-toc-modified-id=\"Подготовка-данных-1\"><span class=\"toc-item-num\">1&nbsp;&nbsp;</span>Подготовка данных</a></span><ul class=\"toc-item\"><li><span><a href=\"#Обзор-данных\" data-toc-modified-id=\"Обзор-данных-1.1\"><span class=\"toc-item-num\">1.1&nbsp;&nbsp;</span>Обзор данных</a></span></li><li><span><a href=\"#Проверка-эффективности-обогащения\" data-toc-modified-id=\"Проверка-эффективности-обогащения-1.2\"><span class=\"toc-item-num\">1.2&nbsp;&nbsp;</span>Проверка эффективности обогащения</a></span></li><li><span><a href=\"#Отсутствующие-признаки-в-тестовой-выборке\" data-toc-modified-id=\"Отсутствующие-признаки-в-тестовой-выборке-1.3\"><span class=\"toc-item-num\">1.3&nbsp;&nbsp;</span>Отсутствующие признаки в тестовой выборке</a></span></li><li><span><a href=\"#Предобработка-данных\" data-toc-modified-id=\"Предобработка-данных-1.4\"><span class=\"toc-item-num\">1.4&nbsp;&nbsp;</span>Предобработка данных</a></span><ul class=\"toc-item\"><li><span><a href=\"#Изменение-типа-данных\" data-toc-modified-id=\"Изменение-типа-данных-1.4.1\"><span class=\"toc-item-num\">1.4.1&nbsp;&nbsp;</span>Изменение типа данных</a></span></li><li><span><a href=\"#Обработка-аномальных-значений\" data-toc-modified-id=\"Обработка-аномальных-значений-1.4.2\"><span class=\"toc-item-num\">1.4.2&nbsp;&nbsp;</span>Обработка аномальных значений</a></span></li><li><span><a href=\"#Обработка-пропущенных-значений\" data-toc-modified-id=\"Обработка-пропущенных-значений-1.4.3\"><span class=\"toc-item-num\">1.4.3&nbsp;&nbsp;</span>Обработка пропущенных значений</a></span></li><li><span><a href=\"#Удаление-ненужных-полей\" data-toc-modified-id=\"Удаление-ненужных-полей-1.4.4\"><span class=\"toc-item-num\">1.4.4&nbsp;&nbsp;</span>Удаление ненужных полей</a></span></li><li><span><a href=\"#Масштабирование-признаков\" data-toc-modified-id=\"Масштабирование-признаков-1.4.5\"><span class=\"toc-item-num\">1.4.5&nbsp;&nbsp;</span>Масштабирование признаков</a></span></li></ul></li></ul></li><li><span><a href=\"#Анализ-данных\" data-toc-modified-id=\"Анализ-данных-2\"><span class=\"toc-item-num\">2&nbsp;&nbsp;</span>Анализ данных</a></span><ul class=\"toc-item\"><li><span><a href=\"#Анализ-концентрации-металлов\" data-toc-modified-id=\"Анализ-концентрации-металлов-2.1\"><span class=\"toc-item-num\">2.1&nbsp;&nbsp;</span>Анализ концентрации металлов</a></span></li><li><span><a href=\"#Анализ-размеров-гранул-исходного-сырья\" data-toc-modified-id=\"Анализ-размеров-гранул-исходного-сырья-2.2\"><span class=\"toc-item-num\">2.2&nbsp;&nbsp;</span>Анализ размеров гранул исходного сырья</a></span></li><li><span><a href=\"#Анализ-суммарной-концентрации-металлов-на-разных-стадиях\" data-toc-modified-id=\"Анализ-суммарной-концентрации-металлов-на-разных-стадиях-2.3\"><span class=\"toc-item-num\">2.3&nbsp;&nbsp;</span>Анализ суммарной концентрации металлов на разных стадиях</a></span></li></ul></li><li><span><a href=\"#Модель\" data-toc-modified-id=\"Модель-3\"><span class=\"toc-item-num\">3&nbsp;&nbsp;</span>Модель</a></span><ul class=\"toc-item\"><li><span><a href=\"#sMAPE\" data-toc-modified-id=\"sMAPE-3.1\"><span class=\"toc-item-num\">3.1&nbsp;&nbsp;</span>sMAPE</a></span></li><li><span><a href=\"#Обучение-модели\" data-toc-modified-id=\"Обучение-модели-3.2\"><span class=\"toc-item-num\">3.2&nbsp;&nbsp;</span>Обучение модели</a></span></li><li><span><a href=\"#Тестовая-выборка\" data-toc-modified-id=\"Тестовая-выборка-3.3\"><span class=\"toc-item-num\">3.3&nbsp;&nbsp;</span>Тестовая выборка</a></span></li><li><span><a href=\"#Проверка-модели-на-адекватность\" data-toc-modified-id=\"Проверка-модели-на-адекватность-3.4\"><span class=\"toc-item-num\">3.4&nbsp;&nbsp;</span>Проверка модели на адекватность</a></span></li></ul></li><li><span><a href=\"#Общий-вывод\" data-toc-modified-id=\"Общий-вывод-4\"><span class=\"toc-item-num\">4&nbsp;&nbsp;</span>Общий вывод</a></span></li></ul></div>"
   ]
  },
  {
   "cell_type": "markdown",
   "metadata": {},
   "source": [
    "# Восстановление золота из руды"
   ]
  },
  {
   "cell_type": "markdown",
   "metadata": {},
   "source": [
    "Подготовьте прототип модели машинного обучения для «Цифры». Компания разрабатывает решения для эффективной работы промышленных предприятий.\n",
    "\n",
    "Модель должна предсказать коэффициент восстановления золота из золотосодержащей руды. Используйте данные с параметрами добычи и очистки. \n",
    "\n",
    "Модель поможет оптимизировать производство, чтобы не запускать предприятие с убыточными характеристиками.\n",
    "\n",
    "Цель исследования:\n",
    "- Создать модель для предсказания коэффициента восстановления золота из золотосодержащей руды.\n",
    "\n",
    "Ход исследования:\n",
    "\n",
    "1. Подготовить данные;\n",
    "2. Провести исследовательский анализ данных;\n",
    "3. Построить и обучить модель.\n"
   ]
  },
  {
   "cell_type": "markdown",
   "metadata": {},
   "source": [
    "## Подготовка данных"
   ]
  },
  {
   "cell_type": "markdown",
   "metadata": {},
   "source": [
    "### Обзор данных"
   ]
  },
  {
   "cell_type": "code",
   "execution_count": 1,
   "metadata": {},
   "outputs": [],
   "source": [
    "# импорт библиотек\n",
    "import pandas as pd\n",
    "import numpy as np\n",
    "import matplotlib.pyplot as plt \n",
    "from scipy import stats as st\n",
    "import seaborn as sns\n",
    "from sklearn.model_selection import train_test_split\n",
    "from sklearn.metrics import mean_absolute_error\n",
    "from sklearn.metrics import make_scorer\n",
    "from sklearn.preprocessing import StandardScaler\n",
    "from sklearn.linear_model import LinearRegression\n",
    "from sklearn.tree import DecisionTreeRegressor\n",
    "from sklearn.ensemble import RandomForestRegressor\n",
    "from sklearn.model_selection import cross_val_score\n",
    "from sklearn.dummy import DummyRegressor"
   ]
  },
  {
   "cell_type": "code",
   "execution_count": 2,
   "metadata": {},
   "outputs": [],
   "source": [
    "# считываем файлы с данными\n",
    "try:\n",
    "    data_train = pd.read_csv('/datasets/gold_industry_train.csv')\n",
    "except:\n",
    "    data_train = pd.read_csv('https://code.s3.yandex.net/datasets/gold_industry_train.csv')\n",
    "\n",
    "try:\n",
    "    data_test = pd.read_csv('/datasets/gold_industry_test.csv')\n",
    "except:\n",
    "    data_test = pd.read_csv('https://code.s3.yandex.net/datasets/gold_industry_test.csv')\n",
    "\n",
    "try:\n",
    "    data_full = pd.read_csv('/datasets/gold_industry_full.csv')\n",
    "except:\n",
    "    data_full = pd.read_csv('https://code.s3.yandex.net/datasets/gold_industry_full.csv')"
   ]
  },
  {
   "cell_type": "markdown",
   "metadata": {},
   "source": [
    "Выведем на экран содержимое трех датасетов:"
   ]
  },
  {
   "cell_type": "code",
   "execution_count": 3,
   "metadata": {
    "scrolled": false
   },
   "outputs": [
    {
     "data": {
      "text/html": [
       "<div>\n",
       "<style scoped>\n",
       "    .dataframe tbody tr th:only-of-type {\n",
       "        vertical-align: middle;\n",
       "    }\n",
       "\n",
       "    .dataframe tbody tr th {\n",
       "        vertical-align: top;\n",
       "    }\n",
       "\n",
       "    .dataframe thead th {\n",
       "        text-align: right;\n",
       "    }\n",
       "</style>\n",
       "<table border=\"1\" class=\"dataframe\">\n",
       "  <thead>\n",
       "    <tr style=\"text-align: right;\">\n",
       "      <th></th>\n",
       "      <th>date</th>\n",
       "      <th>rougher.input.feed_au</th>\n",
       "      <th>rougher.input.feed_ag</th>\n",
       "      <th>rougher.input.feed_pb</th>\n",
       "      <th>rougher.input.feed_sol</th>\n",
       "      <th>rougher.input.feed_rate</th>\n",
       "      <th>rougher.input.feed_size</th>\n",
       "      <th>rougher.input.floatbank10_sulfate</th>\n",
       "      <th>rougher.input.floatbank10_xanthate</th>\n",
       "      <th>rougher.state.floatbank10_a_air</th>\n",
       "      <th>...</th>\n",
       "      <th>secondary_cleaner.output.tail_sol</th>\n",
       "      <th>final.output.concentrate_au</th>\n",
       "      <th>final.output.concentrate_ag</th>\n",
       "      <th>final.output.concentrate_pb</th>\n",
       "      <th>final.output.concentrate_sol</th>\n",
       "      <th>final.output.recovery</th>\n",
       "      <th>final.output.tail_au</th>\n",
       "      <th>final.output.tail_ag</th>\n",
       "      <th>final.output.tail_pb</th>\n",
       "      <th>final.output.tail_sol</th>\n",
       "    </tr>\n",
       "  </thead>\n",
       "  <tbody>\n",
       "    <tr>\n",
       "      <th>0</th>\n",
       "      <td>2016-01-15 00:00:00</td>\n",
       "      <td>6.486150</td>\n",
       "      <td>6.100378</td>\n",
       "      <td>2.284912</td>\n",
       "      <td>36.808594</td>\n",
       "      <td>523.546326</td>\n",
       "      <td>55.486599</td>\n",
       "      <td>11.986616</td>\n",
       "      <td>6.007990</td>\n",
       "      <td>999.706909</td>\n",
       "      <td>...</td>\n",
       "      <td>8.764648</td>\n",
       "      <td>42.192020</td>\n",
       "      <td>6.055403</td>\n",
       "      <td>9.889648</td>\n",
       "      <td>5.507324</td>\n",
       "      <td>70.541216</td>\n",
       "      <td>2.143149</td>\n",
       "      <td>10.411962</td>\n",
       "      <td>0.895447</td>\n",
       "      <td>16.904297</td>\n",
       "    </tr>\n",
       "    <tr>\n",
       "      <th>1</th>\n",
       "      <td>2016-01-15 01:00:00</td>\n",
       "      <td>6.478583</td>\n",
       "      <td>6.161113</td>\n",
       "      <td>2.266033</td>\n",
       "      <td>35.753385</td>\n",
       "      <td>525.290581</td>\n",
       "      <td>57.278666</td>\n",
       "      <td>11.971193</td>\n",
       "      <td>6.005766</td>\n",
       "      <td>1000.286398</td>\n",
       "      <td>...</td>\n",
       "      <td>9.001494</td>\n",
       "      <td>42.701629</td>\n",
       "      <td>6.029369</td>\n",
       "      <td>9.968944</td>\n",
       "      <td>5.257781</td>\n",
       "      <td>69.266198</td>\n",
       "      <td>2.224930</td>\n",
       "      <td>10.462676</td>\n",
       "      <td>0.927452</td>\n",
       "      <td>16.634514</td>\n",
       "    </tr>\n",
       "    <tr>\n",
       "      <th>2</th>\n",
       "      <td>2016-01-15 02:00:00</td>\n",
       "      <td>6.362222</td>\n",
       "      <td>6.116455</td>\n",
       "      <td>2.159622</td>\n",
       "      <td>35.971630</td>\n",
       "      <td>530.026610</td>\n",
       "      <td>57.510649</td>\n",
       "      <td>11.920603</td>\n",
       "      <td>6.197377</td>\n",
       "      <td>999.719565</td>\n",
       "      <td>...</td>\n",
       "      <td>8.842896</td>\n",
       "      <td>42.657501</td>\n",
       "      <td>6.055926</td>\n",
       "      <td>10.213995</td>\n",
       "      <td>5.383759</td>\n",
       "      <td>68.116445</td>\n",
       "      <td>2.257889</td>\n",
       "      <td>10.507046</td>\n",
       "      <td>0.953716</td>\n",
       "      <td>16.208849</td>\n",
       "    </tr>\n",
       "    <tr>\n",
       "      <th>3</th>\n",
       "      <td>2016-01-15 03:00:00</td>\n",
       "      <td>6.118189</td>\n",
       "      <td>6.043309</td>\n",
       "      <td>2.037807</td>\n",
       "      <td>36.862241</td>\n",
       "      <td>542.590390</td>\n",
       "      <td>57.792734</td>\n",
       "      <td>11.630094</td>\n",
       "      <td>6.203177</td>\n",
       "      <td>999.814770</td>\n",
       "      <td>...</td>\n",
       "      <td>9.122857</td>\n",
       "      <td>42.689819</td>\n",
       "      <td>6.047977</td>\n",
       "      <td>9.977019</td>\n",
       "      <td>4.858634</td>\n",
       "      <td>68.347543</td>\n",
       "      <td>2.146849</td>\n",
       "      <td>10.422762</td>\n",
       "      <td>0.883763</td>\n",
       "      <td>16.532835</td>\n",
       "    </tr>\n",
       "    <tr>\n",
       "      <th>4</th>\n",
       "      <td>2016-01-15 04:00:00</td>\n",
       "      <td>5.663707</td>\n",
       "      <td>6.060915</td>\n",
       "      <td>1.786875</td>\n",
       "      <td>34.347666</td>\n",
       "      <td>540.531893</td>\n",
       "      <td>56.047189</td>\n",
       "      <td>10.957755</td>\n",
       "      <td>6.198826</td>\n",
       "      <td>999.678690</td>\n",
       "      <td>...</td>\n",
       "      <td>8.871028</td>\n",
       "      <td>42.774141</td>\n",
       "      <td>6.148599</td>\n",
       "      <td>10.142511</td>\n",
       "      <td>4.939416</td>\n",
       "      <td>66.927016</td>\n",
       "      <td>2.055292</td>\n",
       "      <td>10.360302</td>\n",
       "      <td>0.792826</td>\n",
       "      <td>16.525686</td>\n",
       "    </tr>\n",
       "  </tbody>\n",
       "</table>\n",
       "<p>5 rows × 87 columns</p>\n",
       "</div>"
      ],
      "text/plain": [
       "                  date  rougher.input.feed_au  rougher.input.feed_ag  \\\n",
       "0  2016-01-15 00:00:00               6.486150               6.100378   \n",
       "1  2016-01-15 01:00:00               6.478583               6.161113   \n",
       "2  2016-01-15 02:00:00               6.362222               6.116455   \n",
       "3  2016-01-15 03:00:00               6.118189               6.043309   \n",
       "4  2016-01-15 04:00:00               5.663707               6.060915   \n",
       "\n",
       "   rougher.input.feed_pb  rougher.input.feed_sol  rougher.input.feed_rate  \\\n",
       "0               2.284912               36.808594               523.546326   \n",
       "1               2.266033               35.753385               525.290581   \n",
       "2               2.159622               35.971630               530.026610   \n",
       "3               2.037807               36.862241               542.590390   \n",
       "4               1.786875               34.347666               540.531893   \n",
       "\n",
       "   rougher.input.feed_size  rougher.input.floatbank10_sulfate  \\\n",
       "0                55.486599                          11.986616   \n",
       "1                57.278666                          11.971193   \n",
       "2                57.510649                          11.920603   \n",
       "3                57.792734                          11.630094   \n",
       "4                56.047189                          10.957755   \n",
       "\n",
       "   rougher.input.floatbank10_xanthate  rougher.state.floatbank10_a_air  ...  \\\n",
       "0                            6.007990                       999.706909  ...   \n",
       "1                            6.005766                      1000.286398  ...   \n",
       "2                            6.197377                       999.719565  ...   \n",
       "3                            6.203177                       999.814770  ...   \n",
       "4                            6.198826                       999.678690  ...   \n",
       "\n",
       "   secondary_cleaner.output.tail_sol  final.output.concentrate_au  \\\n",
       "0                           8.764648                    42.192020   \n",
       "1                           9.001494                    42.701629   \n",
       "2                           8.842896                    42.657501   \n",
       "3                           9.122857                    42.689819   \n",
       "4                           8.871028                    42.774141   \n",
       "\n",
       "   final.output.concentrate_ag  final.output.concentrate_pb  \\\n",
       "0                     6.055403                     9.889648   \n",
       "1                     6.029369                     9.968944   \n",
       "2                     6.055926                    10.213995   \n",
       "3                     6.047977                     9.977019   \n",
       "4                     6.148599                    10.142511   \n",
       "\n",
       "   final.output.concentrate_sol  final.output.recovery  final.output.tail_au  \\\n",
       "0                      5.507324              70.541216              2.143149   \n",
       "1                      5.257781              69.266198              2.224930   \n",
       "2                      5.383759              68.116445              2.257889   \n",
       "3                      4.858634              68.347543              2.146849   \n",
       "4                      4.939416              66.927016              2.055292   \n",
       "\n",
       "   final.output.tail_ag  final.output.tail_pb  final.output.tail_sol  \n",
       "0             10.411962              0.895447              16.904297  \n",
       "1             10.462676              0.927452              16.634514  \n",
       "2             10.507046              0.953716              16.208849  \n",
       "3             10.422762              0.883763              16.532835  \n",
       "4             10.360302              0.792826              16.525686  \n",
       "\n",
       "[5 rows x 87 columns]"
      ]
     },
     "execution_count": 3,
     "metadata": {},
     "output_type": "execute_result"
    }
   ],
   "source": [
    "data_train.head()"
   ]
  },
  {
   "cell_type": "code",
   "execution_count": 4,
   "metadata": {
    "scrolled": false
   },
   "outputs": [
    {
     "data": {
      "text/html": [
       "<div>\n",
       "<style scoped>\n",
       "    .dataframe tbody tr th:only-of-type {\n",
       "        vertical-align: middle;\n",
       "    }\n",
       "\n",
       "    .dataframe tbody tr th {\n",
       "        vertical-align: top;\n",
       "    }\n",
       "\n",
       "    .dataframe thead th {\n",
       "        text-align: right;\n",
       "    }\n",
       "</style>\n",
       "<table border=\"1\" class=\"dataframe\">\n",
       "  <thead>\n",
       "    <tr style=\"text-align: right;\">\n",
       "      <th></th>\n",
       "      <th>date</th>\n",
       "      <th>rougher.input.feed_au</th>\n",
       "      <th>rougher.input.feed_ag</th>\n",
       "      <th>rougher.input.feed_pb</th>\n",
       "      <th>rougher.input.feed_sol</th>\n",
       "      <th>rougher.input.feed_rate</th>\n",
       "      <th>rougher.input.feed_size</th>\n",
       "      <th>rougher.input.floatbank10_sulfate</th>\n",
       "      <th>rougher.input.floatbank10_xanthate</th>\n",
       "      <th>rougher.state.floatbank10_a_air</th>\n",
       "      <th>...</th>\n",
       "      <th>secondary_cleaner.state.floatbank4_a_air</th>\n",
       "      <th>secondary_cleaner.state.floatbank4_a_level</th>\n",
       "      <th>secondary_cleaner.state.floatbank4_b_air</th>\n",
       "      <th>secondary_cleaner.state.floatbank4_b_level</th>\n",
       "      <th>secondary_cleaner.state.floatbank5_a_air</th>\n",
       "      <th>secondary_cleaner.state.floatbank5_a_level</th>\n",
       "      <th>secondary_cleaner.state.floatbank5_b_air</th>\n",
       "      <th>secondary_cleaner.state.floatbank5_b_level</th>\n",
       "      <th>secondary_cleaner.state.floatbank6_a_air</th>\n",
       "      <th>secondary_cleaner.state.floatbank6_a_level</th>\n",
       "    </tr>\n",
       "  </thead>\n",
       "  <tbody>\n",
       "    <tr>\n",
       "      <th>0</th>\n",
       "      <td>2017-12-09 14:59:59</td>\n",
       "      <td>4.365491</td>\n",
       "      <td>6.158718</td>\n",
       "      <td>3.875727</td>\n",
       "      <td>39.135119</td>\n",
       "      <td>555.820208</td>\n",
       "      <td>94.544358</td>\n",
       "      <td>6.146982</td>\n",
       "      <td>9.308612</td>\n",
       "      <td>1196.238112</td>\n",
       "      <td>...</td>\n",
       "      <td>23.018622</td>\n",
       "      <td>-500.492702</td>\n",
       "      <td>20.020205</td>\n",
       "      <td>-500.220296</td>\n",
       "      <td>17.963512</td>\n",
       "      <td>-499.939490</td>\n",
       "      <td>12.990306</td>\n",
       "      <td>-500.080993</td>\n",
       "      <td>19.990336</td>\n",
       "      <td>-499.191575</td>\n",
       "    </tr>\n",
       "    <tr>\n",
       "      <th>1</th>\n",
       "      <td>2017-12-09 15:59:59</td>\n",
       "      <td>4.362781</td>\n",
       "      <td>6.048130</td>\n",
       "      <td>3.902537</td>\n",
       "      <td>39.713906</td>\n",
       "      <td>544.731687</td>\n",
       "      <td>123.742430</td>\n",
       "      <td>6.210119</td>\n",
       "      <td>9.297709</td>\n",
       "      <td>1201.904177</td>\n",
       "      <td>...</td>\n",
       "      <td>23.024963</td>\n",
       "      <td>-501.153409</td>\n",
       "      <td>20.054122</td>\n",
       "      <td>-500.314711</td>\n",
       "      <td>17.979515</td>\n",
       "      <td>-499.272871</td>\n",
       "      <td>12.992404</td>\n",
       "      <td>-499.976268</td>\n",
       "      <td>20.013986</td>\n",
       "      <td>-500.625471</td>\n",
       "    </tr>\n",
       "    <tr>\n",
       "      <th>2</th>\n",
       "      <td>2017-12-09 16:59:59</td>\n",
       "      <td>5.081681</td>\n",
       "      <td>6.082745</td>\n",
       "      <td>4.564078</td>\n",
       "      <td>37.208683</td>\n",
       "      <td>558.155110</td>\n",
       "      <td>82.610855</td>\n",
       "      <td>7.363824</td>\n",
       "      <td>9.003562</td>\n",
       "      <td>1200.826926</td>\n",
       "      <td>...</td>\n",
       "      <td>22.993827</td>\n",
       "      <td>-501.559663</td>\n",
       "      <td>20.029144</td>\n",
       "      <td>-500.000662</td>\n",
       "      <td>18.012723</td>\n",
       "      <td>-500.024764</td>\n",
       "      <td>13.016445</td>\n",
       "      <td>-500.058432</td>\n",
       "      <td>19.973767</td>\n",
       "      <td>-501.394155</td>\n",
       "    </tr>\n",
       "    <tr>\n",
       "      <th>3</th>\n",
       "      <td>2017-12-09 17:59:59</td>\n",
       "      <td>5.145949</td>\n",
       "      <td>6.084374</td>\n",
       "      <td>4.768124</td>\n",
       "      <td>36.808874</td>\n",
       "      <td>539.713765</td>\n",
       "      <td>77.984784</td>\n",
       "      <td>6.927072</td>\n",
       "      <td>8.955597</td>\n",
       "      <td>1199.292489</td>\n",
       "      <td>...</td>\n",
       "      <td>23.032807</td>\n",
       "      <td>-501.287889</td>\n",
       "      <td>19.977466</td>\n",
       "      <td>-500.159903</td>\n",
       "      <td>17.980463</td>\n",
       "      <td>-500.504602</td>\n",
       "      <td>12.949071</td>\n",
       "      <td>-500.009937</td>\n",
       "      <td>20.010332</td>\n",
       "      <td>-508.337973</td>\n",
       "    </tr>\n",
       "    <tr>\n",
       "      <th>4</th>\n",
       "      <td>2017-12-09 18:59:59</td>\n",
       "      <td>5.735249</td>\n",
       "      <td>6.165220</td>\n",
       "      <td>4.512346</td>\n",
       "      <td>37.810642</td>\n",
       "      <td>558.713584</td>\n",
       "      <td>86.434874</td>\n",
       "      <td>7.823471</td>\n",
       "      <td>7.490356</td>\n",
       "      <td>1198.005449</td>\n",
       "      <td>...</td>\n",
       "      <td>23.001911</td>\n",
       "      <td>-499.947838</td>\n",
       "      <td>20.023735</td>\n",
       "      <td>-499.713680</td>\n",
       "      <td>17.990955</td>\n",
       "      <td>-500.334769</td>\n",
       "      <td>13.007523</td>\n",
       "      <td>-499.968459</td>\n",
       "      <td>19.995999</td>\n",
       "      <td>-499.788805</td>\n",
       "    </tr>\n",
       "  </tbody>\n",
       "</table>\n",
       "<p>5 rows × 53 columns</p>\n",
       "</div>"
      ],
      "text/plain": [
       "                  date  rougher.input.feed_au  rougher.input.feed_ag  \\\n",
       "0  2017-12-09 14:59:59               4.365491               6.158718   \n",
       "1  2017-12-09 15:59:59               4.362781               6.048130   \n",
       "2  2017-12-09 16:59:59               5.081681               6.082745   \n",
       "3  2017-12-09 17:59:59               5.145949               6.084374   \n",
       "4  2017-12-09 18:59:59               5.735249               6.165220   \n",
       "\n",
       "   rougher.input.feed_pb  rougher.input.feed_sol  rougher.input.feed_rate  \\\n",
       "0               3.875727               39.135119               555.820208   \n",
       "1               3.902537               39.713906               544.731687   \n",
       "2               4.564078               37.208683               558.155110   \n",
       "3               4.768124               36.808874               539.713765   \n",
       "4               4.512346               37.810642               558.713584   \n",
       "\n",
       "   rougher.input.feed_size  rougher.input.floatbank10_sulfate  \\\n",
       "0                94.544358                           6.146982   \n",
       "1               123.742430                           6.210119   \n",
       "2                82.610855                           7.363824   \n",
       "3                77.984784                           6.927072   \n",
       "4                86.434874                           7.823471   \n",
       "\n",
       "   rougher.input.floatbank10_xanthate  rougher.state.floatbank10_a_air  ...  \\\n",
       "0                            9.308612                      1196.238112  ...   \n",
       "1                            9.297709                      1201.904177  ...   \n",
       "2                            9.003562                      1200.826926  ...   \n",
       "3                            8.955597                      1199.292489  ...   \n",
       "4                            7.490356                      1198.005449  ...   \n",
       "\n",
       "   secondary_cleaner.state.floatbank4_a_air  \\\n",
       "0                                 23.018622   \n",
       "1                                 23.024963   \n",
       "2                                 22.993827   \n",
       "3                                 23.032807   \n",
       "4                                 23.001911   \n",
       "\n",
       "   secondary_cleaner.state.floatbank4_a_level  \\\n",
       "0                                 -500.492702   \n",
       "1                                 -501.153409   \n",
       "2                                 -501.559663   \n",
       "3                                 -501.287889   \n",
       "4                                 -499.947838   \n",
       "\n",
       "   secondary_cleaner.state.floatbank4_b_air  \\\n",
       "0                                 20.020205   \n",
       "1                                 20.054122   \n",
       "2                                 20.029144   \n",
       "3                                 19.977466   \n",
       "4                                 20.023735   \n",
       "\n",
       "   secondary_cleaner.state.floatbank4_b_level  \\\n",
       "0                                 -500.220296   \n",
       "1                                 -500.314711   \n",
       "2                                 -500.000662   \n",
       "3                                 -500.159903   \n",
       "4                                 -499.713680   \n",
       "\n",
       "   secondary_cleaner.state.floatbank5_a_air  \\\n",
       "0                                 17.963512   \n",
       "1                                 17.979515   \n",
       "2                                 18.012723   \n",
       "3                                 17.980463   \n",
       "4                                 17.990955   \n",
       "\n",
       "   secondary_cleaner.state.floatbank5_a_level  \\\n",
       "0                                 -499.939490   \n",
       "1                                 -499.272871   \n",
       "2                                 -500.024764   \n",
       "3                                 -500.504602   \n",
       "4                                 -500.334769   \n",
       "\n",
       "   secondary_cleaner.state.floatbank5_b_air  \\\n",
       "0                                 12.990306   \n",
       "1                                 12.992404   \n",
       "2                                 13.016445   \n",
       "3                                 12.949071   \n",
       "4                                 13.007523   \n",
       "\n",
       "   secondary_cleaner.state.floatbank5_b_level  \\\n",
       "0                                 -500.080993   \n",
       "1                                 -499.976268   \n",
       "2                                 -500.058432   \n",
       "3                                 -500.009937   \n",
       "4                                 -499.968459   \n",
       "\n",
       "   secondary_cleaner.state.floatbank6_a_air  \\\n",
       "0                                 19.990336   \n",
       "1                                 20.013986   \n",
       "2                                 19.973767   \n",
       "3                                 20.010332   \n",
       "4                                 19.995999   \n",
       "\n",
       "   secondary_cleaner.state.floatbank6_a_level  \n",
       "0                                 -499.191575  \n",
       "1                                 -500.625471  \n",
       "2                                 -501.394155  \n",
       "3                                 -508.337973  \n",
       "4                                 -499.788805  \n",
       "\n",
       "[5 rows x 53 columns]"
      ]
     },
     "execution_count": 4,
     "metadata": {},
     "output_type": "execute_result"
    }
   ],
   "source": [
    "data_test.head()"
   ]
  },
  {
   "cell_type": "code",
   "execution_count": 5,
   "metadata": {
    "scrolled": true
   },
   "outputs": [
    {
     "data": {
      "text/html": [
       "<div>\n",
       "<style scoped>\n",
       "    .dataframe tbody tr th:only-of-type {\n",
       "        vertical-align: middle;\n",
       "    }\n",
       "\n",
       "    .dataframe tbody tr th {\n",
       "        vertical-align: top;\n",
       "    }\n",
       "\n",
       "    .dataframe thead th {\n",
       "        text-align: right;\n",
       "    }\n",
       "</style>\n",
       "<table border=\"1\" class=\"dataframe\">\n",
       "  <thead>\n",
       "    <tr style=\"text-align: right;\">\n",
       "      <th></th>\n",
       "      <th>date</th>\n",
       "      <th>rougher.input.feed_au</th>\n",
       "      <th>rougher.input.feed_ag</th>\n",
       "      <th>rougher.input.feed_pb</th>\n",
       "      <th>rougher.input.feed_sol</th>\n",
       "      <th>rougher.input.feed_rate</th>\n",
       "      <th>rougher.input.feed_size</th>\n",
       "      <th>rougher.input.floatbank10_sulfate</th>\n",
       "      <th>rougher.input.floatbank10_xanthate</th>\n",
       "      <th>rougher.state.floatbank10_a_air</th>\n",
       "      <th>...</th>\n",
       "      <th>secondary_cleaner.output.tail_sol</th>\n",
       "      <th>final.output.concentrate_au</th>\n",
       "      <th>final.output.concentrate_ag</th>\n",
       "      <th>final.output.concentrate_pb</th>\n",
       "      <th>final.output.concentrate_sol</th>\n",
       "      <th>final.output.recovery</th>\n",
       "      <th>final.output.tail_au</th>\n",
       "      <th>final.output.tail_ag</th>\n",
       "      <th>final.output.tail_pb</th>\n",
       "      <th>final.output.tail_sol</th>\n",
       "    </tr>\n",
       "  </thead>\n",
       "  <tbody>\n",
       "    <tr>\n",
       "      <th>0</th>\n",
       "      <td>2016-01-15 00:00:00</td>\n",
       "      <td>6.486150</td>\n",
       "      <td>6.100378</td>\n",
       "      <td>2.284912</td>\n",
       "      <td>36.808594</td>\n",
       "      <td>523.546326</td>\n",
       "      <td>55.486599</td>\n",
       "      <td>11.986616</td>\n",
       "      <td>6.007990</td>\n",
       "      <td>999.706909</td>\n",
       "      <td>...</td>\n",
       "      <td>8.764648</td>\n",
       "      <td>42.192020</td>\n",
       "      <td>6.055403</td>\n",
       "      <td>9.889648</td>\n",
       "      <td>5.507324</td>\n",
       "      <td>70.541216</td>\n",
       "      <td>2.143149</td>\n",
       "      <td>10.411962</td>\n",
       "      <td>0.895447</td>\n",
       "      <td>16.904297</td>\n",
       "    </tr>\n",
       "    <tr>\n",
       "      <th>1</th>\n",
       "      <td>2016-01-15 01:00:00</td>\n",
       "      <td>6.478583</td>\n",
       "      <td>6.161113</td>\n",
       "      <td>2.266033</td>\n",
       "      <td>35.753385</td>\n",
       "      <td>525.290581</td>\n",
       "      <td>57.278666</td>\n",
       "      <td>11.971193</td>\n",
       "      <td>6.005766</td>\n",
       "      <td>1000.286398</td>\n",
       "      <td>...</td>\n",
       "      <td>9.001494</td>\n",
       "      <td>42.701629</td>\n",
       "      <td>6.029369</td>\n",
       "      <td>9.968944</td>\n",
       "      <td>5.257781</td>\n",
       "      <td>69.266198</td>\n",
       "      <td>2.224930</td>\n",
       "      <td>10.462676</td>\n",
       "      <td>0.927452</td>\n",
       "      <td>16.634514</td>\n",
       "    </tr>\n",
       "    <tr>\n",
       "      <th>2</th>\n",
       "      <td>2016-01-15 02:00:00</td>\n",
       "      <td>6.362222</td>\n",
       "      <td>6.116455</td>\n",
       "      <td>2.159622</td>\n",
       "      <td>35.971630</td>\n",
       "      <td>530.026610</td>\n",
       "      <td>57.510649</td>\n",
       "      <td>11.920603</td>\n",
       "      <td>6.197377</td>\n",
       "      <td>999.719565</td>\n",
       "      <td>...</td>\n",
       "      <td>8.842896</td>\n",
       "      <td>42.657501</td>\n",
       "      <td>6.055926</td>\n",
       "      <td>10.213995</td>\n",
       "      <td>5.383759</td>\n",
       "      <td>68.116445</td>\n",
       "      <td>2.257889</td>\n",
       "      <td>10.507046</td>\n",
       "      <td>0.953716</td>\n",
       "      <td>16.208849</td>\n",
       "    </tr>\n",
       "    <tr>\n",
       "      <th>3</th>\n",
       "      <td>2016-01-15 03:00:00</td>\n",
       "      <td>6.118189</td>\n",
       "      <td>6.043309</td>\n",
       "      <td>2.037807</td>\n",
       "      <td>36.862241</td>\n",
       "      <td>542.590390</td>\n",
       "      <td>57.792734</td>\n",
       "      <td>11.630094</td>\n",
       "      <td>6.203177</td>\n",
       "      <td>999.814770</td>\n",
       "      <td>...</td>\n",
       "      <td>9.122857</td>\n",
       "      <td>42.689819</td>\n",
       "      <td>6.047977</td>\n",
       "      <td>9.977019</td>\n",
       "      <td>4.858634</td>\n",
       "      <td>68.347543</td>\n",
       "      <td>2.146849</td>\n",
       "      <td>10.422762</td>\n",
       "      <td>0.883763</td>\n",
       "      <td>16.532835</td>\n",
       "    </tr>\n",
       "    <tr>\n",
       "      <th>4</th>\n",
       "      <td>2016-01-15 04:00:00</td>\n",
       "      <td>5.663707</td>\n",
       "      <td>6.060915</td>\n",
       "      <td>1.786875</td>\n",
       "      <td>34.347666</td>\n",
       "      <td>540.531893</td>\n",
       "      <td>56.047189</td>\n",
       "      <td>10.957755</td>\n",
       "      <td>6.198826</td>\n",
       "      <td>999.678690</td>\n",
       "      <td>...</td>\n",
       "      <td>8.871028</td>\n",
       "      <td>42.774141</td>\n",
       "      <td>6.148599</td>\n",
       "      <td>10.142511</td>\n",
       "      <td>4.939416</td>\n",
       "      <td>66.927016</td>\n",
       "      <td>2.055292</td>\n",
       "      <td>10.360302</td>\n",
       "      <td>0.792826</td>\n",
       "      <td>16.525686</td>\n",
       "    </tr>\n",
       "  </tbody>\n",
       "</table>\n",
       "<p>5 rows × 87 columns</p>\n",
       "</div>"
      ],
      "text/plain": [
       "                  date  rougher.input.feed_au  rougher.input.feed_ag  \\\n",
       "0  2016-01-15 00:00:00               6.486150               6.100378   \n",
       "1  2016-01-15 01:00:00               6.478583               6.161113   \n",
       "2  2016-01-15 02:00:00               6.362222               6.116455   \n",
       "3  2016-01-15 03:00:00               6.118189               6.043309   \n",
       "4  2016-01-15 04:00:00               5.663707               6.060915   \n",
       "\n",
       "   rougher.input.feed_pb  rougher.input.feed_sol  rougher.input.feed_rate  \\\n",
       "0               2.284912               36.808594               523.546326   \n",
       "1               2.266033               35.753385               525.290581   \n",
       "2               2.159622               35.971630               530.026610   \n",
       "3               2.037807               36.862241               542.590390   \n",
       "4               1.786875               34.347666               540.531893   \n",
       "\n",
       "   rougher.input.feed_size  rougher.input.floatbank10_sulfate  \\\n",
       "0                55.486599                          11.986616   \n",
       "1                57.278666                          11.971193   \n",
       "2                57.510649                          11.920603   \n",
       "3                57.792734                          11.630094   \n",
       "4                56.047189                          10.957755   \n",
       "\n",
       "   rougher.input.floatbank10_xanthate  rougher.state.floatbank10_a_air  ...  \\\n",
       "0                            6.007990                       999.706909  ...   \n",
       "1                            6.005766                      1000.286398  ...   \n",
       "2                            6.197377                       999.719565  ...   \n",
       "3                            6.203177                       999.814770  ...   \n",
       "4                            6.198826                       999.678690  ...   \n",
       "\n",
       "   secondary_cleaner.output.tail_sol  final.output.concentrate_au  \\\n",
       "0                           8.764648                    42.192020   \n",
       "1                           9.001494                    42.701629   \n",
       "2                           8.842896                    42.657501   \n",
       "3                           9.122857                    42.689819   \n",
       "4                           8.871028                    42.774141   \n",
       "\n",
       "   final.output.concentrate_ag  final.output.concentrate_pb  \\\n",
       "0                     6.055403                     9.889648   \n",
       "1                     6.029369                     9.968944   \n",
       "2                     6.055926                    10.213995   \n",
       "3                     6.047977                     9.977019   \n",
       "4                     6.148599                    10.142511   \n",
       "\n",
       "   final.output.concentrate_sol  final.output.recovery  final.output.tail_au  \\\n",
       "0                      5.507324              70.541216              2.143149   \n",
       "1                      5.257781              69.266198              2.224930   \n",
       "2                      5.383759              68.116445              2.257889   \n",
       "3                      4.858634              68.347543              2.146849   \n",
       "4                      4.939416              66.927016              2.055292   \n",
       "\n",
       "   final.output.tail_ag  final.output.tail_pb  final.output.tail_sol  \n",
       "0             10.411962              0.895447              16.904297  \n",
       "1             10.462676              0.927452              16.634514  \n",
       "2             10.507046              0.953716              16.208849  \n",
       "3             10.422762              0.883763              16.532835  \n",
       "4             10.360302              0.792826              16.525686  \n",
       "\n",
       "[5 rows x 87 columns]"
      ]
     },
     "execution_count": 5,
     "metadata": {},
     "output_type": "execute_result"
    }
   ],
   "source": [
    "data_full.head()"
   ]
  },
  {
   "cell_type": "markdown",
   "metadata": {},
   "source": [
    "Данные слишком объемные и не умещаются на листе. Выведем общую информацию о таблицах."
   ]
  },
  {
   "cell_type": "code",
   "execution_count": 6,
   "metadata": {
    "scrolled": true
   },
   "outputs": [
    {
     "name": "stdout",
     "output_type": "stream",
     "text": [
      "<class 'pandas.core.frame.DataFrame'>\n",
      "RangeIndex: 14579 entries, 0 to 14578\n",
      "Data columns (total 87 columns):\n",
      " #   Column                                              Non-Null Count  Dtype  \n",
      "---  ------                                              --------------  -----  \n",
      " 0   date                                                14579 non-null  object \n",
      " 1   rougher.input.feed_au                               14579 non-null  float64\n",
      " 2   rougher.input.feed_ag                               14579 non-null  float64\n",
      " 3   rougher.input.feed_pb                               14507 non-null  float64\n",
      " 4   rougher.input.feed_sol                              14502 non-null  float64\n",
      " 5   rougher.input.feed_rate                             14572 non-null  float64\n",
      " 6   rougher.input.feed_size                             14478 non-null  float64\n",
      " 7   rougher.input.floatbank10_sulfate                   14548 non-null  float64\n",
      " 8   rougher.input.floatbank10_xanthate                  14572 non-null  float64\n",
      " 9   rougher.state.floatbank10_a_air                     14579 non-null  float64\n",
      " 10  rougher.state.floatbank10_a_level                   14579 non-null  float64\n",
      " 11  rougher.state.floatbank10_b_air                     14579 non-null  float64\n",
      " 12  rougher.state.floatbank10_b_level                   14579 non-null  float64\n",
      " 13  rougher.state.floatbank10_c_air                     14579 non-null  float64\n",
      " 14  rougher.state.floatbank10_c_level                   14579 non-null  float64\n",
      " 15  rougher.state.floatbank10_d_air                     14579 non-null  float64\n",
      " 16  rougher.state.floatbank10_d_level                   14579 non-null  float64\n",
      " 17  rougher.state.floatbank10_e_air                     14150 non-null  float64\n",
      " 18  rougher.state.floatbank10_e_level                   14579 non-null  float64\n",
      " 19  rougher.state.floatbank10_f_air                     14579 non-null  float64\n",
      " 20  rougher.state.floatbank10_f_level                   14579 non-null  float64\n",
      " 21  rougher.input.floatbank11_sulfate                   14543 non-null  float64\n",
      " 22  rougher.input.floatbank11_xanthate                  14172 non-null  float64\n",
      " 23  rougher.calculation.sulfate_to_au_concentrate       14578 non-null  float64\n",
      " 24  rougher.calculation.floatbank10_sulfate_to_au_feed  14578 non-null  float64\n",
      " 25  rougher.calculation.floatbank11_sulfate_to_au_feed  14578 non-null  float64\n",
      " 26  rougher.calculation.au_pb_ratio                     14579 non-null  float64\n",
      " 27  rougher.output.concentrate_au                       14579 non-null  float64\n",
      " 28  rougher.output.concentrate_ag                       14579 non-null  float64\n",
      " 29  rougher.output.concentrate_pb                       14579 non-null  float64\n",
      " 30  rougher.output.concentrate_sol                      14561 non-null  float64\n",
      " 31  rougher.output.recovery                             14579 non-null  float64\n",
      " 32  rougher.output.tail_au                              14579 non-null  float64\n",
      " 33  rougher.output.tail_ag                              14578 non-null  float64\n",
      " 34  rougher.output.tail_pb                              14579 non-null  float64\n",
      " 35  rougher.output.tail_sol                             14579 non-null  float64\n",
      " 36  primary_cleaner.input.sulfate                       14556 non-null  float64\n",
      " 37  primary_cleaner.input.depressant                    14551 non-null  float64\n",
      " 38  primary_cleaner.input.feed_size                     14579 non-null  float64\n",
      " 39  primary_cleaner.input.xanthate                      14518 non-null  float64\n",
      " 40  primary_cleaner.state.floatbank8_a_air              14576 non-null  float64\n",
      " 41  primary_cleaner.state.floatbank8_a_level            14579 non-null  float64\n",
      " 42  primary_cleaner.state.floatbank8_b_air              14576 non-null  float64\n",
      " 43  primary_cleaner.state.floatbank8_b_level            14579 non-null  float64\n",
      " 44  primary_cleaner.state.floatbank8_c_air              14579 non-null  float64\n",
      " 45  primary_cleaner.state.floatbank8_c_level            14579 non-null  float64\n",
      " 46  primary_cleaner.state.floatbank8_d_air              14578 non-null  float64\n",
      " 47  primary_cleaner.state.floatbank8_d_level            14579 non-null  float64\n",
      " 48  primary_cleaner.output.concentrate_au               14579 non-null  float64\n",
      " 49  primary_cleaner.output.concentrate_ag               14579 non-null  float64\n",
      " 50  primary_cleaner.output.concentrate_pb               14491 non-null  float64\n",
      " 51  primary_cleaner.output.concentrate_sol              14314 non-null  float64\n",
      " 52  primary_cleaner.output.tail_au                      14579 non-null  float64\n",
      " 53  primary_cleaner.output.tail_ag                      14575 non-null  float64\n",
      " 54  primary_cleaner.output.tail_pb                      14573 non-null  float64\n",
      " 55  primary_cleaner.output.tail_sol                     14534 non-null  float64\n",
      " 56  secondary_cleaner.state.floatbank2_a_air            14485 non-null  float64\n",
      " 57  secondary_cleaner.state.floatbank2_a_level          14579 non-null  float64\n",
      " 58  secondary_cleaner.state.floatbank2_b_air            14557 non-null  float64\n",
      " 59  secondary_cleaner.state.floatbank2_b_level          14579 non-null  float64\n",
      " 60  secondary_cleaner.state.floatbank3_a_air            14567 non-null  float64\n",
      " 61  secondary_cleaner.state.floatbank3_a_level          14579 non-null  float64\n",
      " 62  secondary_cleaner.state.floatbank3_b_air            14579 non-null  float64\n",
      " 63  secondary_cleaner.state.floatbank3_b_level          14579 non-null  float64\n",
      " 64  secondary_cleaner.state.floatbank4_a_air            14574 non-null  float64\n",
      " 65  secondary_cleaner.state.floatbank4_a_level          14579 non-null  float64\n",
      " 66  secondary_cleaner.state.floatbank4_b_air            14579 non-null  float64\n",
      " 67  secondary_cleaner.state.floatbank4_b_level          14579 non-null  float64\n",
      " 68  secondary_cleaner.state.floatbank5_a_air            14579 non-null  float64\n",
      " 69  secondary_cleaner.state.floatbank5_a_level          14579 non-null  float64\n",
      " 70  secondary_cleaner.state.floatbank5_b_air            14579 non-null  float64\n",
      " 71  secondary_cleaner.state.floatbank5_b_level          14579 non-null  float64\n",
      " 72  secondary_cleaner.state.floatbank6_a_air            14578 non-null  float64\n",
      " 73  secondary_cleaner.state.floatbank6_a_level          14579 non-null  float64\n",
      " 74  secondary_cleaner.output.tail_au                    14579 non-null  float64\n",
      " 75  secondary_cleaner.output.tail_ag                    14578 non-null  float64\n",
      " 76  secondary_cleaner.output.tail_pb                    14575 non-null  float64\n",
      " 77  secondary_cleaner.output.tail_sol                   13659 non-null  float64\n",
      " 78  final.output.concentrate_au                         14579 non-null  float64\n",
      " 79  final.output.concentrate_ag                         14578 non-null  float64\n",
      " 80  final.output.concentrate_pb                         14578 non-null  float64\n",
      " 81  final.output.concentrate_sol                        14387 non-null  float64\n",
      " 82  final.output.recovery                               14579 non-null  float64\n",
      " 83  final.output.tail_au                                14579 non-null  float64\n",
      " 84  final.output.tail_ag                                14578 non-null  float64\n",
      " 85  final.output.tail_pb                                14504 non-null  float64\n",
      " 86  final.output.tail_sol                               14574 non-null  float64\n",
      "dtypes: float64(86), object(1)\n",
      "memory usage: 9.7+ MB\n"
     ]
    }
   ],
   "source": [
    "data_train.info()"
   ]
  },
  {
   "cell_type": "code",
   "execution_count": 7,
   "metadata": {
    "scrolled": true
   },
   "outputs": [
    {
     "name": "stdout",
     "output_type": "stream",
     "text": [
      "<class 'pandas.core.frame.DataFrame'>\n",
      "RangeIndex: 4860 entries, 0 to 4859\n",
      "Data columns (total 53 columns):\n",
      " #   Column                                      Non-Null Count  Dtype  \n",
      "---  ------                                      --------------  -----  \n",
      " 0   date                                        4860 non-null   object \n",
      " 1   rougher.input.feed_au                       4860 non-null   float64\n",
      " 2   rougher.input.feed_ag                       4860 non-null   float64\n",
      " 3   rougher.input.feed_pb                       4832 non-null   float64\n",
      " 4   rougher.input.feed_sol                      4838 non-null   float64\n",
      " 5   rougher.input.feed_rate                     4856 non-null   float64\n",
      " 6   rougher.input.feed_size                     4816 non-null   float64\n",
      " 7   rougher.input.floatbank10_sulfate           4857 non-null   float64\n",
      " 8   rougher.input.floatbank10_xanthate          4859 non-null   float64\n",
      " 9   rougher.state.floatbank10_a_air             4859 non-null   float64\n",
      " 10  rougher.state.floatbank10_a_level           4859 non-null   float64\n",
      " 11  rougher.state.floatbank10_b_air             4859 non-null   float64\n",
      " 12  rougher.state.floatbank10_b_level           4859 non-null   float64\n",
      " 13  rougher.state.floatbank10_c_air             4859 non-null   float64\n",
      " 14  rougher.state.floatbank10_c_level           4859 non-null   float64\n",
      " 15  rougher.state.floatbank10_d_air             4860 non-null   float64\n",
      " 16  rougher.state.floatbank10_d_level           4860 non-null   float64\n",
      " 17  rougher.state.floatbank10_e_air             4853 non-null   float64\n",
      " 18  rougher.state.floatbank10_e_level           4860 non-null   float64\n",
      " 19  rougher.state.floatbank10_f_air             4860 non-null   float64\n",
      " 20  rougher.state.floatbank10_f_level           4860 non-null   float64\n",
      " 21  rougher.input.floatbank11_sulfate           4852 non-null   float64\n",
      " 22  rougher.input.floatbank11_xanthate          4814 non-null   float64\n",
      " 23  primary_cleaner.input.sulfate               4859 non-null   float64\n",
      " 24  primary_cleaner.input.depressant            4851 non-null   float64\n",
      " 25  primary_cleaner.input.feed_size             4860 non-null   float64\n",
      " 26  primary_cleaner.input.xanthate              4817 non-null   float64\n",
      " 27  primary_cleaner.state.floatbank8_a_air      4859 non-null   float64\n",
      " 28  primary_cleaner.state.floatbank8_a_level    4859 non-null   float64\n",
      " 29  primary_cleaner.state.floatbank8_b_air      4859 non-null   float64\n",
      " 30  primary_cleaner.state.floatbank8_b_level    4859 non-null   float64\n",
      " 31  primary_cleaner.state.floatbank8_c_air      4858 non-null   float64\n",
      " 32  primary_cleaner.state.floatbank8_c_level    4859 non-null   float64\n",
      " 33  primary_cleaner.state.floatbank8_d_air      4858 non-null   float64\n",
      " 34  primary_cleaner.state.floatbank8_d_level    4859 non-null   float64\n",
      " 35  secondary_cleaner.state.floatbank2_a_air    4734 non-null   float64\n",
      " 36  secondary_cleaner.state.floatbank2_a_level  4859 non-null   float64\n",
      " 37  secondary_cleaner.state.floatbank2_b_air    4859 non-null   float64\n",
      " 38  secondary_cleaner.state.floatbank2_b_level  4859 non-null   float64\n",
      " 39  secondary_cleaner.state.floatbank3_a_air    4859 non-null   float64\n",
      " 40  secondary_cleaner.state.floatbank3_a_level  4859 non-null   float64\n",
      " 41  secondary_cleaner.state.floatbank3_b_air    4859 non-null   float64\n",
      " 42  secondary_cleaner.state.floatbank3_b_level  4859 non-null   float64\n",
      " 43  secondary_cleaner.state.floatbank4_a_air    4859 non-null   float64\n",
      " 44  secondary_cleaner.state.floatbank4_a_level  4859 non-null   float64\n",
      " 45  secondary_cleaner.state.floatbank4_b_air    4859 non-null   float64\n",
      " 46  secondary_cleaner.state.floatbank4_b_level  4859 non-null   float64\n",
      " 47  secondary_cleaner.state.floatbank5_a_air    4859 non-null   float64\n",
      " 48  secondary_cleaner.state.floatbank5_a_level  4859 non-null   float64\n",
      " 49  secondary_cleaner.state.floatbank5_b_air    4859 non-null   float64\n",
      " 50  secondary_cleaner.state.floatbank5_b_level  4859 non-null   float64\n",
      " 51  secondary_cleaner.state.floatbank6_a_air    4859 non-null   float64\n",
      " 52  secondary_cleaner.state.floatbank6_a_level  4859 non-null   float64\n",
      "dtypes: float64(52), object(1)\n",
      "memory usage: 2.0+ MB\n"
     ]
    }
   ],
   "source": [
    "data_test.info()"
   ]
  },
  {
   "cell_type": "code",
   "execution_count": 8,
   "metadata": {
    "scrolled": true
   },
   "outputs": [
    {
     "name": "stdout",
     "output_type": "stream",
     "text": [
      "<class 'pandas.core.frame.DataFrame'>\n",
      "RangeIndex: 19439 entries, 0 to 19438\n",
      "Data columns (total 87 columns):\n",
      " #   Column                                              Non-Null Count  Dtype  \n",
      "---  ------                                              --------------  -----  \n",
      " 0   date                                                19439 non-null  object \n",
      " 1   rougher.input.feed_au                               19439 non-null  float64\n",
      " 2   rougher.input.feed_ag                               19439 non-null  float64\n",
      " 3   rougher.input.feed_pb                               19339 non-null  float64\n",
      " 4   rougher.input.feed_sol                              19340 non-null  float64\n",
      " 5   rougher.input.feed_rate                             19428 non-null  float64\n",
      " 6   rougher.input.feed_size                             19294 non-null  float64\n",
      " 7   rougher.input.floatbank10_sulfate                   19405 non-null  float64\n",
      " 8   rougher.input.floatbank10_xanthate                  19431 non-null  float64\n",
      " 9   rougher.state.floatbank10_a_air                     19438 non-null  float64\n",
      " 10  rougher.state.floatbank10_a_level                   19438 non-null  float64\n",
      " 11  rougher.state.floatbank10_b_air                     19438 non-null  float64\n",
      " 12  rougher.state.floatbank10_b_level                   19438 non-null  float64\n",
      " 13  rougher.state.floatbank10_c_air                     19438 non-null  float64\n",
      " 14  rougher.state.floatbank10_c_level                   19438 non-null  float64\n",
      " 15  rougher.state.floatbank10_d_air                     19439 non-null  float64\n",
      " 16  rougher.state.floatbank10_d_level                   19439 non-null  float64\n",
      " 17  rougher.state.floatbank10_e_air                     19003 non-null  float64\n",
      " 18  rougher.state.floatbank10_e_level                   19439 non-null  float64\n",
      " 19  rougher.state.floatbank10_f_air                     19439 non-null  float64\n",
      " 20  rougher.state.floatbank10_f_level                   19439 non-null  float64\n",
      " 21  rougher.input.floatbank11_sulfate                   19395 non-null  float64\n",
      " 22  rougher.input.floatbank11_xanthate                  18986 non-null  float64\n",
      " 23  rougher.calculation.sulfate_to_au_concentrate       19437 non-null  float64\n",
      " 24  rougher.calculation.floatbank10_sulfate_to_au_feed  19437 non-null  float64\n",
      " 25  rougher.calculation.floatbank11_sulfate_to_au_feed  19437 non-null  float64\n",
      " 26  rougher.calculation.au_pb_ratio                     19439 non-null  float64\n",
      " 27  rougher.output.concentrate_au                       19439 non-null  float64\n",
      " 28  rougher.output.concentrate_ag                       19439 non-null  float64\n",
      " 29  rougher.output.concentrate_pb                       19439 non-null  float64\n",
      " 30  rougher.output.concentrate_sol                      19416 non-null  float64\n",
      " 31  rougher.output.recovery                             19439 non-null  float64\n",
      " 32  rougher.output.tail_au                              19439 non-null  float64\n",
      " 33  rougher.output.tail_ag                              19438 non-null  float64\n",
      " 34  rougher.output.tail_pb                              19439 non-null  float64\n",
      " 35  rougher.output.tail_sol                             19439 non-null  float64\n",
      " 36  primary_cleaner.input.sulfate                       19415 non-null  float64\n",
      " 37  primary_cleaner.input.depressant                    19402 non-null  float64\n",
      " 38  primary_cleaner.input.feed_size                     19439 non-null  float64\n",
      " 39  primary_cleaner.input.xanthate                      19335 non-null  float64\n",
      " 40  primary_cleaner.state.floatbank8_a_air              19435 non-null  float64\n",
      " 41  primary_cleaner.state.floatbank8_a_level            19438 non-null  float64\n",
      " 42  primary_cleaner.state.floatbank8_b_air              19435 non-null  float64\n",
      " 43  primary_cleaner.state.floatbank8_b_level            19438 non-null  float64\n",
      " 44  primary_cleaner.state.floatbank8_c_air              19437 non-null  float64\n",
      " 45  primary_cleaner.state.floatbank8_c_level            19438 non-null  float64\n",
      " 46  primary_cleaner.state.floatbank8_d_air              19436 non-null  float64\n",
      " 47  primary_cleaner.state.floatbank8_d_level            19438 non-null  float64\n",
      " 48  primary_cleaner.output.concentrate_au               19439 non-null  float64\n",
      " 49  primary_cleaner.output.concentrate_ag               19439 non-null  float64\n",
      " 50  primary_cleaner.output.concentrate_pb               19323 non-null  float64\n",
      " 51  primary_cleaner.output.concentrate_sol              19069 non-null  float64\n",
      " 52  primary_cleaner.output.tail_au                      19439 non-null  float64\n",
      " 53  primary_cleaner.output.tail_ag                      19435 non-null  float64\n",
      " 54  primary_cleaner.output.tail_pb                      19418 non-null  float64\n",
      " 55  primary_cleaner.output.tail_sol                     19377 non-null  float64\n",
      " 56  secondary_cleaner.state.floatbank2_a_air            19219 non-null  float64\n",
      " 57  secondary_cleaner.state.floatbank2_a_level          19438 non-null  float64\n",
      " 58  secondary_cleaner.state.floatbank2_b_air            19416 non-null  float64\n",
      " 59  secondary_cleaner.state.floatbank2_b_level          19438 non-null  float64\n",
      " 60  secondary_cleaner.state.floatbank3_a_air            19426 non-null  float64\n",
      " 61  secondary_cleaner.state.floatbank3_a_level          19438 non-null  float64\n",
      " 62  secondary_cleaner.state.floatbank3_b_air            19438 non-null  float64\n",
      " 63  secondary_cleaner.state.floatbank3_b_level          19438 non-null  float64\n",
      " 64  secondary_cleaner.state.floatbank4_a_air            19433 non-null  float64\n",
      " 65  secondary_cleaner.state.floatbank4_a_level          19438 non-null  float64\n",
      " 66  secondary_cleaner.state.floatbank4_b_air            19438 non-null  float64\n",
      " 67  secondary_cleaner.state.floatbank4_b_level          19438 non-null  float64\n",
      " 68  secondary_cleaner.state.floatbank5_a_air            19438 non-null  float64\n",
      " 69  secondary_cleaner.state.floatbank5_a_level          19438 non-null  float64\n",
      " 70  secondary_cleaner.state.floatbank5_b_air            19438 non-null  float64\n",
      " 71  secondary_cleaner.state.floatbank5_b_level          19438 non-null  float64\n",
      " 72  secondary_cleaner.state.floatbank6_a_air            19437 non-null  float64\n",
      " 73  secondary_cleaner.state.floatbank6_a_level          19438 non-null  float64\n",
      " 74  secondary_cleaner.output.tail_au                    19439 non-null  float64\n",
      " 75  secondary_cleaner.output.tail_ag                    19437 non-null  float64\n",
      " 76  secondary_cleaner.output.tail_pb                    19427 non-null  float64\n",
      " 77  secondary_cleaner.output.tail_sol                   17691 non-null  float64\n",
      " 78  final.output.concentrate_au                         19439 non-null  float64\n",
      " 79  final.output.concentrate_ag                         19438 non-null  float64\n",
      " 80  final.output.concentrate_pb                         19438 non-null  float64\n",
      " 81  final.output.concentrate_sol                        19228 non-null  float64\n",
      " 82  final.output.recovery                               19439 non-null  float64\n",
      " 83  final.output.tail_au                                19439 non-null  float64\n",
      " 84  final.output.tail_ag                                19438 non-null  float64\n",
      " 85  final.output.tail_pb                                19338 non-null  float64\n",
      " 86  final.output.tail_sol                               19433 non-null  float64\n",
      "dtypes: float64(86), object(1)\n",
      "memory usage: 12.9+ MB\n"
     ]
    }
   ],
   "source": [
    "data_full.info()"
   ]
  },
  {
   "cell_type": "markdown",
   "metadata": {},
   "source": [
    "Данные представлены примущественно числовыми столбцами. Имеем некоторе количество пропусков.\n",
    "Выведем описание данных."
   ]
  },
  {
   "cell_type": "markdown",
   "metadata": {},
   "source": [
    "Технологический процесс\n",
    "- Rougher feed — исходное сырье\n",
    "- Rougher additions (или reagent additions) — флотационные реагенты: Xanthate, Sulphate, Depressant\n",
    "- Xanthate — ксантогенат (промотер, или активатор флотации);\n",
    "- Sulphate — сульфат (на данном производстве сульфид натрия);\n",
    "- Depressant — депрессант (силикат натрия).\n",
    "- Rougher process (англ. «грубый процесс») — флотация\n",
    "- Rougher tails — отвальные хвосты\n",
    "- Float banks — флотационная установка\n",
    "- Cleaner process — очистка\n",
    "- Rougher Au — черновой концентрат золота\n",
    "- Final Au — финальный концентрат золота\n",
    "\n",
    "Параметры этапов\n",
    "- air amount — объём воздуха\n",
    "- fluid levels — уровень жидкости\n",
    "- feed size — размер гранул сырья\n",
    "- feed rate — скорость подачи"
   ]
  },
  {
   "cell_type": "markdown",
   "metadata": {},
   "source": [
    "Выведем наименование признаков:"
   ]
  },
  {
   "cell_type": "markdown",
   "metadata": {},
   "source": [
    "Наименование признаков должно быть такое:\n",
    "\n",
    "`[этап].[тип_параметра].[название_параметра]`\n",
    "\n",
    "Пример: rougher.input.feed_ag\n",
    "\n",
    "Возможные значения для блока `[этап]`:\n",
    "\n",
    "- rougher — флотация\n",
    "- primary_cleaner — первичная очистка\n",
    "- secondary_cleaner — вторичная очистка\n",
    "- final — финальные характеристики\n",
    "\n",
    "Возможные значения для блока `[тип_параметра]`:\n",
    "- input — параметры сырья\n",
    "- output — параметры продукта\n",
    "- state — параметры, характеризующие текущее состояние этапа\n",
    "- calculation — расчётные характеристики"
   ]
  },
  {
   "cell_type": "markdown",
   "metadata": {},
   "source": [
    "### Проверка эффективности обогащения"
   ]
  },
  {
   "cell_type": "markdown",
   "metadata": {},
   "source": [
    "Эффективность обогащения рассчитывается по формуле:\n",
    "\n",
    "$Recovery = \\frac{C \\times (F - T)}{F \\times (C - T)} \\times 100\\%$\n",
    "\n",
    "где:\n",
    "- C — доля золота в концентрате после флотации/очистки;\n",
    "- F — доля золота в сырье/концентрате до флотации/очистки;\n",
    "- T — доля золота в отвальных хвостах после флотации/очистки.\n",
    "\n",
    "Вычислим эффективность обогащения на обучающей выборке для признака `rougher.output.recovery`. Найдем MAE между нашими расчётами и значением признака."
   ]
  },
  {
   "cell_type": "code",
   "execution_count": 9,
   "metadata": {},
   "outputs": [
    {
     "name": "stdout",
     "output_type": "stream",
     "text": [
      "MAE между нашими расчётами и значением эффективности обогащения: 9.83758577644259e-15\n"
     ]
    }
   ],
   "source": [
    "C = data_train['rougher.output.concentrate_au']\n",
    "F = data_train['rougher.input.feed_au']\n",
    "T = data_train['rougher.output.tail_au']\n",
    "\n",
    "data_train['rougher.output.calc_recovery'] = (C*(F-T)/(F*(C-T))) * 100\n",
    "\n",
    "print('MAE между нашими расчётами и значением эффективности обогащения:',\n",
    "      mean_absolute_error(data_train['rougher.output.recovery'], data_train['rougher.output.calc_recovery']))"
   ]
  },
  {
   "cell_type": "markdown",
   "metadata": {},
   "source": [
    "**Вывод:** MAE минимально, значит эффективность обогащения рассчитана правильно."
   ]
  },
  {
   "cell_type": "markdown",
   "metadata": {},
   "source": [
    "### Отсутствующие признаки в тестовой выборке"
   ]
  },
  {
   "cell_type": "markdown",
   "metadata": {},
   "source": [
    "В таблице с тестовыми данными, столбцов на 34 меньше чем в обучающих. Проверим какие столбцы отсутствуют."
   ]
  },
  {
   "cell_type": "code",
   "execution_count": 10,
   "metadata": {},
   "outputs": [
    {
     "data": {
      "text/plain": [
       "Index(['final.output.concentrate_ag', 'final.output.concentrate_au',\n",
       "       'final.output.concentrate_pb', 'final.output.concentrate_sol',\n",
       "       'final.output.recovery', 'final.output.tail_ag', 'final.output.tail_au',\n",
       "       'final.output.tail_pb', 'final.output.tail_sol',\n",
       "       'primary_cleaner.output.concentrate_ag',\n",
       "       'primary_cleaner.output.concentrate_au',\n",
       "       'primary_cleaner.output.concentrate_pb',\n",
       "       'primary_cleaner.output.concentrate_sol',\n",
       "       'primary_cleaner.output.tail_ag', 'primary_cleaner.output.tail_au',\n",
       "       'primary_cleaner.output.tail_pb', 'primary_cleaner.output.tail_sol',\n",
       "       'rougher.calculation.au_pb_ratio',\n",
       "       'rougher.calculation.floatbank10_sulfate_to_au_feed',\n",
       "       'rougher.calculation.floatbank11_sulfate_to_au_feed',\n",
       "       'rougher.calculation.sulfate_to_au_concentrate',\n",
       "       'rougher.output.calc_recovery', 'rougher.output.concentrate_ag',\n",
       "       'rougher.output.concentrate_au', 'rougher.output.concentrate_pb',\n",
       "       'rougher.output.concentrate_sol', 'rougher.output.recovery',\n",
       "       'rougher.output.tail_ag', 'rougher.output.tail_au',\n",
       "       'rougher.output.tail_pb', 'rougher.output.tail_sol',\n",
       "       'secondary_cleaner.output.tail_ag', 'secondary_cleaner.output.tail_au',\n",
       "       'secondary_cleaner.output.tail_pb',\n",
       "       'secondary_cleaner.output.tail_sol'],\n",
       "      dtype='object')"
      ]
     },
     "execution_count": 10,
     "metadata": {},
     "output_type": "execute_result"
    }
   ],
   "source": [
    "data_train.columns.difference(data_test.columns)"
   ]
  },
  {
   "cell_type": "markdown",
   "metadata": {},
   "source": [
    "**Вывод:** Столбцы с типом параметра `output` и `calculation` отсутствуют в тестовой выборке. Эти значения рассчитываются и замеряются после завершения технологического этапа  и могут содержать информацию о том, что модель пытается предсказать, поэтому они не могут использоваться для обучения модели. Их использование может привести к \"утечке данных\"."
   ]
  },
  {
   "cell_type": "markdown",
   "metadata": {},
   "source": [
    "### Предобработка данных"
   ]
  },
  {
   "cell_type": "markdown",
   "metadata": {},
   "source": [
    "#### Изменение типа данных"
   ]
  },
  {
   "cell_type": "markdown",
   "metadata": {},
   "source": [
    "Поменяем тип данных в столбцах `date` во всех таблицах"
   ]
  },
  {
   "cell_type": "code",
   "execution_count": 11,
   "metadata": {},
   "outputs": [],
   "source": [
    "data_train['date'] = pd.to_datetime(data_train['date'], format= '%Y-%m-%d %H:%M:%S')\n",
    "data_test['date'] = pd.to_datetime(data_test['date'], format= '%Y-%m-%d %H:%M:%S')\n",
    "data_full['date'] = pd.to_datetime(data_full['date'], format= '%Y-%m-%d %H:%M:%S')"
   ]
  },
  {
   "cell_type": "markdown",
   "metadata": {},
   "source": [
    "#### Обработка аномальных значений"
   ]
  },
  {
   "cell_type": "markdown",
   "metadata": {},
   "source": [
    "Для обработки аномальных значений выведем описание всех полей таблицы `data_full`."
   ]
  },
  {
   "cell_type": "code",
   "execution_count": 12,
   "metadata": {
    "scrolled": true
   },
   "outputs": [
    {
     "data": {
      "text/html": [
       "<div>\n",
       "<style scoped>\n",
       "    .dataframe tbody tr th:only-of-type {\n",
       "        vertical-align: middle;\n",
       "    }\n",
       "\n",
       "    .dataframe tbody tr th {\n",
       "        vertical-align: top;\n",
       "    }\n",
       "\n",
       "    .dataframe thead th {\n",
       "        text-align: right;\n",
       "    }\n",
       "</style>\n",
       "<table border=\"1\" class=\"dataframe\">\n",
       "  <thead>\n",
       "    <tr style=\"text-align: right;\">\n",
       "      <th></th>\n",
       "      <th>count</th>\n",
       "      <th>mean</th>\n",
       "      <th>std</th>\n",
       "      <th>min</th>\n",
       "      <th>25%</th>\n",
       "      <th>50%</th>\n",
       "      <th>75%</th>\n",
       "      <th>max</th>\n",
       "    </tr>\n",
       "  </thead>\n",
       "  <tbody>\n",
       "    <tr>\n",
       "      <th>rougher.input.feed_au</th>\n",
       "      <td>19439.0</td>\n",
       "      <td>8.266097</td>\n",
       "      <td>1.955092</td>\n",
       "      <td>1.000000e-02</td>\n",
       "      <td>6.854384</td>\n",
       "      <td>8.125839</td>\n",
       "      <td>9.769917</td>\n",
       "      <td>1.373133e+01</td>\n",
       "    </tr>\n",
       "    <tr>\n",
       "      <th>rougher.input.feed_ag</th>\n",
       "      <td>19439.0</td>\n",
       "      <td>8.794927</td>\n",
       "      <td>1.936847</td>\n",
       "      <td>1.000000e-02</td>\n",
       "      <td>7.237967</td>\n",
       "      <td>8.593574</td>\n",
       "      <td>10.213771</td>\n",
       "      <td>1.459603e+01</td>\n",
       "    </tr>\n",
       "    <tr>\n",
       "      <th>rougher.input.feed_pb</th>\n",
       "      <td>19339.0</td>\n",
       "      <td>3.598085</td>\n",
       "      <td>1.049486</td>\n",
       "      <td>1.000000e-02</td>\n",
       "      <td>2.887280</td>\n",
       "      <td>3.534895</td>\n",
       "      <td>4.244161</td>\n",
       "      <td>7.142594e+00</td>\n",
       "    </tr>\n",
       "    <tr>\n",
       "      <th>rougher.input.feed_sol</th>\n",
       "      <td>19340.0</td>\n",
       "      <td>36.695114</td>\n",
       "      <td>5.145445</td>\n",
       "      <td>1.000000e-02</td>\n",
       "      <td>34.207799</td>\n",
       "      <td>37.202650</td>\n",
       "      <td>40.039133</td>\n",
       "      <td>5.347774e+01</td>\n",
       "    </tr>\n",
       "    <tr>\n",
       "      <th>rougher.input.feed_rate</th>\n",
       "      <td>19428.0</td>\n",
       "      <td>478.320042</td>\n",
       "      <td>105.373758</td>\n",
       "      <td>2.985849e-03</td>\n",
       "      <td>416.525453</td>\n",
       "      <td>499.416120</td>\n",
       "      <td>550.172183</td>\n",
       "      <td>7.175088e+02</td>\n",
       "    </tr>\n",
       "    <tr>\n",
       "      <th>rougher.input.feed_size</th>\n",
       "      <td>19294.0</td>\n",
       "      <td>58.970310</td>\n",
       "      <td>21.634478</td>\n",
       "      <td>4.636880e-02</td>\n",
       "      <td>47.435103</td>\n",
       "      <td>54.610197</td>\n",
       "      <td>65.023044</td>\n",
       "      <td>4.849675e+02</td>\n",
       "    </tr>\n",
       "    <tr>\n",
       "      <th>rougher.input.floatbank10_sulfate</th>\n",
       "      <td>19405.0</td>\n",
       "      <td>12.334373</td>\n",
       "      <td>3.427317</td>\n",
       "      <td>1.083112e-03</td>\n",
       "      <td>10.000362</td>\n",
       "      <td>12.001174</td>\n",
       "      <td>14.716595</td>\n",
       "      <td>3.611827e+01</td>\n",
       "    </tr>\n",
       "    <tr>\n",
       "      <th>rougher.input.floatbank10_xanthate</th>\n",
       "      <td>19431.0</td>\n",
       "      <td>6.021474</td>\n",
       "      <td>1.127263</td>\n",
       "      <td>5.682328e-04</td>\n",
       "      <td>5.398678</td>\n",
       "      <td>6.008273</td>\n",
       "      <td>6.798051</td>\n",
       "      <td>9.703448e+00</td>\n",
       "    </tr>\n",
       "    <tr>\n",
       "      <th>rougher.state.floatbank10_a_air</th>\n",
       "      <td>19438.0</td>\n",
       "      <td>1105.315068</td>\n",
       "      <td>160.826798</td>\n",
       "      <td>-4.206929e-02</td>\n",
       "      <td>999.661867</td>\n",
       "      <td>1001.072890</td>\n",
       "      <td>1205.620588</td>\n",
       "      <td>1.521980e+03</td>\n",
       "    </tr>\n",
       "    <tr>\n",
       "      <th>rougher.state.floatbank10_a_level</th>\n",
       "      <td>19438.0</td>\n",
       "      <td>-376.610690</td>\n",
       "      <td>93.909667</td>\n",
       "      <td>-6.579498e+02</td>\n",
       "      <td>-499.835165</td>\n",
       "      <td>-300.263994</td>\n",
       "      <td>-299.981998</td>\n",
       "      <td>-2.737761e+02</td>\n",
       "    </tr>\n",
       "    <tr>\n",
       "      <th>rougher.state.floatbank10_b_air</th>\n",
       "      <td>19438.0</td>\n",
       "      <td>1320.221139</td>\n",
       "      <td>176.287095</td>\n",
       "      <td>-7.218064e-01</td>\n",
       "      <td>1199.626115</td>\n",
       "      <td>1301.579988</td>\n",
       "      <td>1448.630789</td>\n",
       "      <td>1.809194e+03</td>\n",
       "    </tr>\n",
       "    <tr>\n",
       "      <th>rougher.state.floatbank10_b_level</th>\n",
       "      <td>19438.0</td>\n",
       "      <td>-467.247826</td>\n",
       "      <td>54.673142</td>\n",
       "      <td>-6.502600e+02</td>\n",
       "      <td>-500.201130</td>\n",
       "      <td>-499.784045</td>\n",
       "      <td>-400.615589</td>\n",
       "      <td>-2.963831e+02</td>\n",
       "    </tr>\n",
       "    <tr>\n",
       "      <th>rougher.state.floatbank10_c_air</th>\n",
       "      <td>19438.0</td>\n",
       "      <td>1299.968799</td>\n",
       "      <td>202.804325</td>\n",
       "      <td>-5.663551e-02</td>\n",
       "      <td>1151.076301</td>\n",
       "      <td>1300.211537</td>\n",
       "      <td>1449.464001</td>\n",
       "      <td>2.499129e+03</td>\n",
       "    </tr>\n",
       "    <tr>\n",
       "      <th>rougher.state.floatbank10_c_level</th>\n",
       "      <td>19438.0</td>\n",
       "      <td>-467.716946</td>\n",
       "      <td>53.534825</td>\n",
       "      <td>-6.475444e+02</td>\n",
       "      <td>-500.217218</td>\n",
       "      <td>-499.713364</td>\n",
       "      <td>-400.985743</td>\n",
       "      <td>-2.921555e+02</td>\n",
       "    </tr>\n",
       "    <tr>\n",
       "      <th>rougher.state.floatbank10_d_air</th>\n",
       "      <td>19439.0</td>\n",
       "      <td>1211.563299</td>\n",
       "      <td>204.019326</td>\n",
       "      <td>-9.922190e-01</td>\n",
       "      <td>1061.051788</td>\n",
       "      <td>1201.569141</td>\n",
       "      <td>1352.880320</td>\n",
       "      <td>1.817199e+03</td>\n",
       "    </tr>\n",
       "    <tr>\n",
       "      <th>rougher.state.floatbank10_d_level</th>\n",
       "      <td>19439.0</td>\n",
       "      <td>-468.239912</td>\n",
       "      <td>53.921458</td>\n",
       "      <td>-6.483907e+02</td>\n",
       "      <td>-500.386386</td>\n",
       "      <td>-499.532412</td>\n",
       "      <td>-401.638550</td>\n",
       "      <td>-7.639733e+01</td>\n",
       "    </tr>\n",
       "    <tr>\n",
       "      <th>rougher.state.floatbank10_e_air</th>\n",
       "      <td>19003.0</td>\n",
       "      <td>1080.869685</td>\n",
       "      <td>172.149992</td>\n",
       "      <td>-1.982295e+00</td>\n",
       "      <td>998.675263</td>\n",
       "      <td>1050.029461</td>\n",
       "      <td>1199.425140</td>\n",
       "      <td>1.922637e+03</td>\n",
       "    </tr>\n",
       "    <tr>\n",
       "      <th>rougher.state.floatbank10_e_level</th>\n",
       "      <td>19439.0</td>\n",
       "      <td>-466.037742</td>\n",
       "      <td>57.384424</td>\n",
       "      <td>-6.494439e+02</td>\n",
       "      <td>-500.232191</td>\n",
       "      <td>-499.663089</td>\n",
       "      <td>-401.161191</td>\n",
       "      <td>-1.397530e+02</td>\n",
       "    </tr>\n",
       "    <tr>\n",
       "      <th>rougher.state.floatbank10_f_air</th>\n",
       "      <td>19439.0</td>\n",
       "      <td>1025.274256</td>\n",
       "      <td>164.487837</td>\n",
       "      <td>-2.593390e+00</td>\n",
       "      <td>900.995511</td>\n",
       "      <td>999.924821</td>\n",
       "      <td>1099.719692</td>\n",
       "      <td>1.706308e+03</td>\n",
       "    </tr>\n",
       "    <tr>\n",
       "      <th>rougher.state.floatbank10_f_level</th>\n",
       "      <td>19439.0</td>\n",
       "      <td>-466.265327</td>\n",
       "      <td>57.850263</td>\n",
       "      <td>-6.499493e+02</td>\n",
       "      <td>-500.522553</td>\n",
       "      <td>-499.471777</td>\n",
       "      <td>-401.511042</td>\n",
       "      <td>-1.917185e+02</td>\n",
       "    </tr>\n",
       "    <tr>\n",
       "      <th>rougher.input.floatbank11_sulfate</th>\n",
       "      <td>19395.0</td>\n",
       "      <td>12.064140</td>\n",
       "      <td>3.784221</td>\n",
       "      <td>7.673764e-05</td>\n",
       "      <td>9.998460</td>\n",
       "      <td>12.000204</td>\n",
       "      <td>14.636766</td>\n",
       "      <td>3.798065e+01</td>\n",
       "    </tr>\n",
       "    <tr>\n",
       "      <th>rougher.input.floatbank11_xanthate</th>\n",
       "      <td>18986.0</td>\n",
       "      <td>6.065533</td>\n",
       "      <td>1.099118</td>\n",
       "      <td>2.904126e-04</td>\n",
       "      <td>5.402368</td>\n",
       "      <td>6.098580</td>\n",
       "      <td>6.801233</td>\n",
       "      <td>9.698407e+00</td>\n",
       "    </tr>\n",
       "    <tr>\n",
       "      <th>rougher.calculation.sulfate_to_au_concentrate</th>\n",
       "      <td>19437.0</td>\n",
       "      <td>42171.189025</td>\n",
       "      <td>324362.111569</td>\n",
       "      <td>-4.223520e+07</td>\n",
       "      <td>40700.946040</td>\n",
       "      <td>44696.480712</td>\n",
       "      <td>48168.210371</td>\n",
       "      <td>3.428099e+06</td>\n",
       "    </tr>\n",
       "    <tr>\n",
       "      <th>rougher.calculation.floatbank10_sulfate_to_au_feed</th>\n",
       "      <td>19437.0</td>\n",
       "      <td>3393.052498</td>\n",
       "      <td>4943.845943</td>\n",
       "      <td>-4.865987e+02</td>\n",
       "      <td>2611.425833</td>\n",
       "      <td>3018.353876</td>\n",
       "      <td>3676.769750</td>\n",
       "      <td>6.296390e+05</td>\n",
       "    </tr>\n",
       "    <tr>\n",
       "      <th>rougher.calculation.floatbank11_sulfate_to_au_feed</th>\n",
       "      <td>19437.0</td>\n",
       "      <td>3256.854171</td>\n",
       "      <td>5781.423659</td>\n",
       "      <td>-2.649828e+02</td>\n",
       "      <td>2551.437587</td>\n",
       "      <td>2997.218088</td>\n",
       "      <td>3601.998911</td>\n",
       "      <td>7.186850e+05</td>\n",
       "    </tr>\n",
       "    <tr>\n",
       "      <th>rougher.calculation.au_pb_ratio</th>\n",
       "      <td>19439.0</td>\n",
       "      <td>2.420119</td>\n",
       "      <td>0.814935</td>\n",
       "      <td>-1.054761e-02</td>\n",
       "      <td>2.035434</td>\n",
       "      <td>2.309665</td>\n",
       "      <td>2.731794</td>\n",
       "      <td>3.937927e+01</td>\n",
       "    </tr>\n",
       "    <tr>\n",
       "      <th>rougher.output.concentrate_au</th>\n",
       "      <td>19439.0</td>\n",
       "      <td>19.772000</td>\n",
       "      <td>3.753600</td>\n",
       "      <td>0.000000e+00</td>\n",
       "      <td>18.802523</td>\n",
       "      <td>20.280214</td>\n",
       "      <td>21.717843</td>\n",
       "      <td>2.882451e+01</td>\n",
       "    </tr>\n",
       "    <tr>\n",
       "      <th>rougher.output.concentrate_ag</th>\n",
       "      <td>19439.0</td>\n",
       "      <td>11.994759</td>\n",
       "      <td>2.733862</td>\n",
       "      <td>0.000000e+00</td>\n",
       "      <td>10.628337</td>\n",
       "      <td>12.098115</td>\n",
       "      <td>13.736996</td>\n",
       "      <td>2.448027e+01</td>\n",
       "    </tr>\n",
       "    <tr>\n",
       "      <th>rougher.output.concentrate_pb</th>\n",
       "      <td>19439.0</td>\n",
       "      <td>7.606272</td>\n",
       "      <td>1.796757</td>\n",
       "      <td>0.000000e+00</td>\n",
       "      <td>6.725987</td>\n",
       "      <td>7.742580</td>\n",
       "      <td>8.565199</td>\n",
       "      <td>1.361707e+01</td>\n",
       "    </tr>\n",
       "    <tr>\n",
       "      <th>rougher.output.concentrate_sol</th>\n",
       "      <td>19416.0</td>\n",
       "      <td>28.805571</td>\n",
       "      <td>5.944207</td>\n",
       "      <td>0.000000e+00</td>\n",
       "      <td>27.224120</td>\n",
       "      <td>29.835345</td>\n",
       "      <td>32.189933</td>\n",
       "      <td>3.835119e+01</td>\n",
       "    </tr>\n",
       "    <tr>\n",
       "      <th>rougher.output.recovery</th>\n",
       "      <td>19439.0</td>\n",
       "      <td>83.328587</td>\n",
       "      <td>14.148086</td>\n",
       "      <td>0.000000e+00</td>\n",
       "      <td>81.037957</td>\n",
       "      <td>86.188892</td>\n",
       "      <td>90.010670</td>\n",
       "      <td>1.000000e+02</td>\n",
       "    </tr>\n",
       "    <tr>\n",
       "      <th>rougher.output.tail_au</th>\n",
       "      <td>19439.0</td>\n",
       "      <td>1.816391</td>\n",
       "      <td>0.680046</td>\n",
       "      <td>2.067578e-02</td>\n",
       "      <td>1.404207</td>\n",
       "      <td>1.808170</td>\n",
       "      <td>2.211861</td>\n",
       "      <td>9.688980e+00</td>\n",
       "    </tr>\n",
       "    <tr>\n",
       "      <th>rougher.output.tail_ag</th>\n",
       "      <td>19438.0</td>\n",
       "      <td>5.588982</td>\n",
       "      <td>1.111288</td>\n",
       "      <td>5.945623e-01</td>\n",
       "      <td>4.889892</td>\n",
       "      <td>5.765802</td>\n",
       "      <td>6.389234</td>\n",
       "      <td>1.271918e+01</td>\n",
       "    </tr>\n",
       "    <tr>\n",
       "      <th>rougher.output.tail_pb</th>\n",
       "      <td>19439.0</td>\n",
       "      <td>0.645782</td>\n",
       "      <td>0.251526</td>\n",
       "      <td>7.566066e-03</td>\n",
       "      <td>0.477728</td>\n",
       "      <td>0.617465</td>\n",
       "      <td>0.778271</td>\n",
       "      <td>3.778064e+00</td>\n",
       "    </tr>\n",
       "    <tr>\n",
       "      <th>rougher.output.tail_sol</th>\n",
       "      <td>19439.0</td>\n",
       "      <td>18.057106</td>\n",
       "      <td>3.449218</td>\n",
       "      <td>1.001465e+01</td>\n",
       "      <td>15.822525</td>\n",
       "      <td>18.106867</td>\n",
       "      <td>20.088151</td>\n",
       "      <td>6.611719e+01</td>\n",
       "    </tr>\n",
       "    <tr>\n",
       "      <th>primary_cleaner.input.sulfate</th>\n",
       "      <td>19415.0</td>\n",
       "      <td>144.624774</td>\n",
       "      <td>44.464071</td>\n",
       "      <td>3.111820e-03</td>\n",
       "      <td>114.107029</td>\n",
       "      <td>143.232103</td>\n",
       "      <td>175.075656</td>\n",
       "      <td>2.659831e+02</td>\n",
       "    </tr>\n",
       "    <tr>\n",
       "      <th>primary_cleaner.input.depressant</th>\n",
       "      <td>19402.0</td>\n",
       "      <td>8.817039</td>\n",
       "      <td>3.286186</td>\n",
       "      <td>0.000000e+00</td>\n",
       "      <td>6.076909</td>\n",
       "      <td>8.038311</td>\n",
       "      <td>11.013521</td>\n",
       "      <td>4.000000e+01</td>\n",
       "    </tr>\n",
       "    <tr>\n",
       "      <th>primary_cleaner.input.feed_size</th>\n",
       "      <td>19439.0</td>\n",
       "      <td>7.307078</td>\n",
       "      <td>0.613509</td>\n",
       "      <td>1.080000e+00</td>\n",
       "      <td>6.940000</td>\n",
       "      <td>7.280000</td>\n",
       "      <td>7.670000</td>\n",
       "      <td>1.550000e+01</td>\n",
       "    </tr>\n",
       "    <tr>\n",
       "      <th>primary_cleaner.input.xanthate</th>\n",
       "      <td>19335.0</td>\n",
       "      <td>1.021795</td>\n",
       "      <td>0.513254</td>\n",
       "      <td>4.632753e-06</td>\n",
       "      <td>0.697224</td>\n",
       "      <td>0.940863</td>\n",
       "      <td>1.210990</td>\n",
       "      <td>4.102454e+00</td>\n",
       "    </tr>\n",
       "    <tr>\n",
       "      <th>primary_cleaner.state.floatbank8_a_air</th>\n",
       "      <td>19435.0</td>\n",
       "      <td>1589.353532</td>\n",
       "      <td>128.996838</td>\n",
       "      <td>5.445860e-32</td>\n",
       "      <td>1505.063192</td>\n",
       "      <td>1600.596566</td>\n",
       "      <td>1697.657718</td>\n",
       "      <td>2.103104e+03</td>\n",
       "    </tr>\n",
       "    <tr>\n",
       "      <th>primary_cleaner.state.floatbank8_a_level</th>\n",
       "      <td>19438.0</td>\n",
       "      <td>-491.195012</td>\n",
       "      <td>32.431842</td>\n",
       "      <td>-7.986417e+02</td>\n",
       "      <td>-500.308544</td>\n",
       "      <td>-499.926134</td>\n",
       "      <td>-499.433950</td>\n",
       "      <td>-5.719540e+01</td>\n",
       "    </tr>\n",
       "    <tr>\n",
       "      <th>primary_cleaner.state.floatbank8_b_air</th>\n",
       "      <td>19435.0</td>\n",
       "      <td>1591.344175</td>\n",
       "      <td>131.810879</td>\n",
       "      <td>6.647490e-32</td>\n",
       "      <td>1503.629878</td>\n",
       "      <td>1600.520975</td>\n",
       "      <td>1699.217656</td>\n",
       "      <td>2.114907e+03</td>\n",
       "    </tr>\n",
       "    <tr>\n",
       "      <th>primary_cleaner.state.floatbank8_b_level</th>\n",
       "      <td>19438.0</td>\n",
       "      <td>-492.192978</td>\n",
       "      <td>33.794822</td>\n",
       "      <td>-7.999970e+02</td>\n",
       "      <td>-500.437171</td>\n",
       "      <td>-499.956767</td>\n",
       "      <td>-499.373336</td>\n",
       "      <td>-1.425272e+02</td>\n",
       "    </tr>\n",
       "    <tr>\n",
       "      <th>primary_cleaner.state.floatbank8_c_air</th>\n",
       "      <td>19437.0</td>\n",
       "      <td>1586.669124</td>\n",
       "      <td>136.111402</td>\n",
       "      <td>4.033736e-32</td>\n",
       "      <td>1500.926924</td>\n",
       "      <td>1600.253890</td>\n",
       "      <td>1699.482929</td>\n",
       "      <td>2.013156e+03</td>\n",
       "    </tr>\n",
       "    <tr>\n",
       "      <th>primary_cleaner.state.floatbank8_c_level</th>\n",
       "      <td>19438.0</td>\n",
       "      <td>-491.980070</td>\n",
       "      <td>32.711455</td>\n",
       "      <td>-7.999606e+02</td>\n",
       "      <td>-500.703932</td>\n",
       "      <td>-499.909524</td>\n",
       "      <td>-498.857643</td>\n",
       "      <td>-1.509370e+02</td>\n",
       "    </tr>\n",
       "    <tr>\n",
       "      <th>primary_cleaner.state.floatbank8_d_air</th>\n",
       "      <td>19436.0</td>\n",
       "      <td>1542.912418</td>\n",
       "      <td>246.199602</td>\n",
       "      <td>4.039220e-32</td>\n",
       "      <td>1494.219469</td>\n",
       "      <td>1599.447470</td>\n",
       "      <td>1698.524904</td>\n",
       "      <td>2.398904e+03</td>\n",
       "    </tr>\n",
       "    <tr>\n",
       "      <th>primary_cleaner.state.floatbank8_d_level</th>\n",
       "      <td>19438.0</td>\n",
       "      <td>-488.017382</td>\n",
       "      <td>43.959780</td>\n",
       "      <td>-7.997943e+02</td>\n",
       "      <td>-500.458365</td>\n",
       "      <td>-499.905974</td>\n",
       "      <td>-499.064695</td>\n",
       "      <td>-3.060183e+01</td>\n",
       "    </tr>\n",
       "    <tr>\n",
       "      <th>primary_cleaner.output.concentrate_au</th>\n",
       "      <td>19439.0</td>\n",
       "      <td>32.119400</td>\n",
       "      <td>5.627611</td>\n",
       "      <td>0.000000e+00</td>\n",
       "      <td>30.463140</td>\n",
       "      <td>32.841295</td>\n",
       "      <td>35.048006</td>\n",
       "      <td>4.593393e+01</td>\n",
       "    </tr>\n",
       "    <tr>\n",
       "      <th>primary_cleaner.output.concentrate_ag</th>\n",
       "      <td>19439.0</td>\n",
       "      <td>8.442408</td>\n",
       "      <td>2.054465</td>\n",
       "      <td>0.000000e+00</td>\n",
       "      <td>7.263288</td>\n",
       "      <td>8.507298</td>\n",
       "      <td>9.809001</td>\n",
       "      <td>1.608163e+01</td>\n",
       "    </tr>\n",
       "    <tr>\n",
       "      <th>primary_cleaner.output.concentrate_pb</th>\n",
       "      <td>19323.0</td>\n",
       "      <td>9.829530</td>\n",
       "      <td>2.556843</td>\n",
       "      <td>0.000000e+00</td>\n",
       "      <td>8.702328</td>\n",
       "      <td>10.152433</td>\n",
       "      <td>11.424971</td>\n",
       "      <td>1.708128e+01</td>\n",
       "    </tr>\n",
       "  </tbody>\n",
       "</table>\n",
       "</div>"
      ],
      "text/plain": [
       "                                                      count          mean  \\\n",
       "rougher.input.feed_au                               19439.0      8.266097   \n",
       "rougher.input.feed_ag                               19439.0      8.794927   \n",
       "rougher.input.feed_pb                               19339.0      3.598085   \n",
       "rougher.input.feed_sol                              19340.0     36.695114   \n",
       "rougher.input.feed_rate                             19428.0    478.320042   \n",
       "rougher.input.feed_size                             19294.0     58.970310   \n",
       "rougher.input.floatbank10_sulfate                   19405.0     12.334373   \n",
       "rougher.input.floatbank10_xanthate                  19431.0      6.021474   \n",
       "rougher.state.floatbank10_a_air                     19438.0   1105.315068   \n",
       "rougher.state.floatbank10_a_level                   19438.0   -376.610690   \n",
       "rougher.state.floatbank10_b_air                     19438.0   1320.221139   \n",
       "rougher.state.floatbank10_b_level                   19438.0   -467.247826   \n",
       "rougher.state.floatbank10_c_air                     19438.0   1299.968799   \n",
       "rougher.state.floatbank10_c_level                   19438.0   -467.716946   \n",
       "rougher.state.floatbank10_d_air                     19439.0   1211.563299   \n",
       "rougher.state.floatbank10_d_level                   19439.0   -468.239912   \n",
       "rougher.state.floatbank10_e_air                     19003.0   1080.869685   \n",
       "rougher.state.floatbank10_e_level                   19439.0   -466.037742   \n",
       "rougher.state.floatbank10_f_air                     19439.0   1025.274256   \n",
       "rougher.state.floatbank10_f_level                   19439.0   -466.265327   \n",
       "rougher.input.floatbank11_sulfate                   19395.0     12.064140   \n",
       "rougher.input.floatbank11_xanthate                  18986.0      6.065533   \n",
       "rougher.calculation.sulfate_to_au_concentrate       19437.0  42171.189025   \n",
       "rougher.calculation.floatbank10_sulfate_to_au_feed  19437.0   3393.052498   \n",
       "rougher.calculation.floatbank11_sulfate_to_au_feed  19437.0   3256.854171   \n",
       "rougher.calculation.au_pb_ratio                     19439.0      2.420119   \n",
       "rougher.output.concentrate_au                       19439.0     19.772000   \n",
       "rougher.output.concentrate_ag                       19439.0     11.994759   \n",
       "rougher.output.concentrate_pb                       19439.0      7.606272   \n",
       "rougher.output.concentrate_sol                      19416.0     28.805571   \n",
       "rougher.output.recovery                             19439.0     83.328587   \n",
       "rougher.output.tail_au                              19439.0      1.816391   \n",
       "rougher.output.tail_ag                              19438.0      5.588982   \n",
       "rougher.output.tail_pb                              19439.0      0.645782   \n",
       "rougher.output.tail_sol                             19439.0     18.057106   \n",
       "primary_cleaner.input.sulfate                       19415.0    144.624774   \n",
       "primary_cleaner.input.depressant                    19402.0      8.817039   \n",
       "primary_cleaner.input.feed_size                     19439.0      7.307078   \n",
       "primary_cleaner.input.xanthate                      19335.0      1.021795   \n",
       "primary_cleaner.state.floatbank8_a_air              19435.0   1589.353532   \n",
       "primary_cleaner.state.floatbank8_a_level            19438.0   -491.195012   \n",
       "primary_cleaner.state.floatbank8_b_air              19435.0   1591.344175   \n",
       "primary_cleaner.state.floatbank8_b_level            19438.0   -492.192978   \n",
       "primary_cleaner.state.floatbank8_c_air              19437.0   1586.669124   \n",
       "primary_cleaner.state.floatbank8_c_level            19438.0   -491.980070   \n",
       "primary_cleaner.state.floatbank8_d_air              19436.0   1542.912418   \n",
       "primary_cleaner.state.floatbank8_d_level            19438.0   -488.017382   \n",
       "primary_cleaner.output.concentrate_au               19439.0     32.119400   \n",
       "primary_cleaner.output.concentrate_ag               19439.0      8.442408   \n",
       "primary_cleaner.output.concentrate_pb               19323.0      9.829530   \n",
       "\n",
       "                                                              std  \\\n",
       "rougher.input.feed_au                                    1.955092   \n",
       "rougher.input.feed_ag                                    1.936847   \n",
       "rougher.input.feed_pb                                    1.049486   \n",
       "rougher.input.feed_sol                                   5.145445   \n",
       "rougher.input.feed_rate                                105.373758   \n",
       "rougher.input.feed_size                                 21.634478   \n",
       "rougher.input.floatbank10_sulfate                        3.427317   \n",
       "rougher.input.floatbank10_xanthate                       1.127263   \n",
       "rougher.state.floatbank10_a_air                        160.826798   \n",
       "rougher.state.floatbank10_a_level                       93.909667   \n",
       "rougher.state.floatbank10_b_air                        176.287095   \n",
       "rougher.state.floatbank10_b_level                       54.673142   \n",
       "rougher.state.floatbank10_c_air                        202.804325   \n",
       "rougher.state.floatbank10_c_level                       53.534825   \n",
       "rougher.state.floatbank10_d_air                        204.019326   \n",
       "rougher.state.floatbank10_d_level                       53.921458   \n",
       "rougher.state.floatbank10_e_air                        172.149992   \n",
       "rougher.state.floatbank10_e_level                       57.384424   \n",
       "rougher.state.floatbank10_f_air                        164.487837   \n",
       "rougher.state.floatbank10_f_level                       57.850263   \n",
       "rougher.input.floatbank11_sulfate                        3.784221   \n",
       "rougher.input.floatbank11_xanthate                       1.099118   \n",
       "rougher.calculation.sulfate_to_au_concentrate       324362.111569   \n",
       "rougher.calculation.floatbank10_sulfate_to_au_feed    4943.845943   \n",
       "rougher.calculation.floatbank11_sulfate_to_au_feed    5781.423659   \n",
       "rougher.calculation.au_pb_ratio                          0.814935   \n",
       "rougher.output.concentrate_au                            3.753600   \n",
       "rougher.output.concentrate_ag                            2.733862   \n",
       "rougher.output.concentrate_pb                            1.796757   \n",
       "rougher.output.concentrate_sol                           5.944207   \n",
       "rougher.output.recovery                                 14.148086   \n",
       "rougher.output.tail_au                                   0.680046   \n",
       "rougher.output.tail_ag                                   1.111288   \n",
       "rougher.output.tail_pb                                   0.251526   \n",
       "rougher.output.tail_sol                                  3.449218   \n",
       "primary_cleaner.input.sulfate                           44.464071   \n",
       "primary_cleaner.input.depressant                         3.286186   \n",
       "primary_cleaner.input.feed_size                          0.613509   \n",
       "primary_cleaner.input.xanthate                           0.513254   \n",
       "primary_cleaner.state.floatbank8_a_air                 128.996838   \n",
       "primary_cleaner.state.floatbank8_a_level                32.431842   \n",
       "primary_cleaner.state.floatbank8_b_air                 131.810879   \n",
       "primary_cleaner.state.floatbank8_b_level                33.794822   \n",
       "primary_cleaner.state.floatbank8_c_air                 136.111402   \n",
       "primary_cleaner.state.floatbank8_c_level                32.711455   \n",
       "primary_cleaner.state.floatbank8_d_air                 246.199602   \n",
       "primary_cleaner.state.floatbank8_d_level                43.959780   \n",
       "primary_cleaner.output.concentrate_au                    5.627611   \n",
       "primary_cleaner.output.concentrate_ag                    2.054465   \n",
       "primary_cleaner.output.concentrate_pb                    2.556843   \n",
       "\n",
       "                                                             min  \\\n",
       "rougher.input.feed_au                               1.000000e-02   \n",
       "rougher.input.feed_ag                               1.000000e-02   \n",
       "rougher.input.feed_pb                               1.000000e-02   \n",
       "rougher.input.feed_sol                              1.000000e-02   \n",
       "rougher.input.feed_rate                             2.985849e-03   \n",
       "rougher.input.feed_size                             4.636880e-02   \n",
       "rougher.input.floatbank10_sulfate                   1.083112e-03   \n",
       "rougher.input.floatbank10_xanthate                  5.682328e-04   \n",
       "rougher.state.floatbank10_a_air                    -4.206929e-02   \n",
       "rougher.state.floatbank10_a_level                  -6.579498e+02   \n",
       "rougher.state.floatbank10_b_air                    -7.218064e-01   \n",
       "rougher.state.floatbank10_b_level                  -6.502600e+02   \n",
       "rougher.state.floatbank10_c_air                    -5.663551e-02   \n",
       "rougher.state.floatbank10_c_level                  -6.475444e+02   \n",
       "rougher.state.floatbank10_d_air                    -9.922190e-01   \n",
       "rougher.state.floatbank10_d_level                  -6.483907e+02   \n",
       "rougher.state.floatbank10_e_air                    -1.982295e+00   \n",
       "rougher.state.floatbank10_e_level                  -6.494439e+02   \n",
       "rougher.state.floatbank10_f_air                    -2.593390e+00   \n",
       "rougher.state.floatbank10_f_level                  -6.499493e+02   \n",
       "rougher.input.floatbank11_sulfate                   7.673764e-05   \n",
       "rougher.input.floatbank11_xanthate                  2.904126e-04   \n",
       "rougher.calculation.sulfate_to_au_concentrate      -4.223520e+07   \n",
       "rougher.calculation.floatbank10_sulfate_to_au_feed -4.865987e+02   \n",
       "rougher.calculation.floatbank11_sulfate_to_au_feed -2.649828e+02   \n",
       "rougher.calculation.au_pb_ratio                    -1.054761e-02   \n",
       "rougher.output.concentrate_au                       0.000000e+00   \n",
       "rougher.output.concentrate_ag                       0.000000e+00   \n",
       "rougher.output.concentrate_pb                       0.000000e+00   \n",
       "rougher.output.concentrate_sol                      0.000000e+00   \n",
       "rougher.output.recovery                             0.000000e+00   \n",
       "rougher.output.tail_au                              2.067578e-02   \n",
       "rougher.output.tail_ag                              5.945623e-01   \n",
       "rougher.output.tail_pb                              7.566066e-03   \n",
       "rougher.output.tail_sol                             1.001465e+01   \n",
       "primary_cleaner.input.sulfate                       3.111820e-03   \n",
       "primary_cleaner.input.depressant                    0.000000e+00   \n",
       "primary_cleaner.input.feed_size                     1.080000e+00   \n",
       "primary_cleaner.input.xanthate                      4.632753e-06   \n",
       "primary_cleaner.state.floatbank8_a_air              5.445860e-32   \n",
       "primary_cleaner.state.floatbank8_a_level           -7.986417e+02   \n",
       "primary_cleaner.state.floatbank8_b_air              6.647490e-32   \n",
       "primary_cleaner.state.floatbank8_b_level           -7.999970e+02   \n",
       "primary_cleaner.state.floatbank8_c_air              4.033736e-32   \n",
       "primary_cleaner.state.floatbank8_c_level           -7.999606e+02   \n",
       "primary_cleaner.state.floatbank8_d_air              4.039220e-32   \n",
       "primary_cleaner.state.floatbank8_d_level           -7.997943e+02   \n",
       "primary_cleaner.output.concentrate_au               0.000000e+00   \n",
       "primary_cleaner.output.concentrate_ag               0.000000e+00   \n",
       "primary_cleaner.output.concentrate_pb               0.000000e+00   \n",
       "\n",
       "                                                             25%  \\\n",
       "rougher.input.feed_au                                   6.854384   \n",
       "rougher.input.feed_ag                                   7.237967   \n",
       "rougher.input.feed_pb                                   2.887280   \n",
       "rougher.input.feed_sol                                 34.207799   \n",
       "rougher.input.feed_rate                               416.525453   \n",
       "rougher.input.feed_size                                47.435103   \n",
       "rougher.input.floatbank10_sulfate                      10.000362   \n",
       "rougher.input.floatbank10_xanthate                      5.398678   \n",
       "rougher.state.floatbank10_a_air                       999.661867   \n",
       "rougher.state.floatbank10_a_level                    -499.835165   \n",
       "rougher.state.floatbank10_b_air                      1199.626115   \n",
       "rougher.state.floatbank10_b_level                    -500.201130   \n",
       "rougher.state.floatbank10_c_air                      1151.076301   \n",
       "rougher.state.floatbank10_c_level                    -500.217218   \n",
       "rougher.state.floatbank10_d_air                      1061.051788   \n",
       "rougher.state.floatbank10_d_level                    -500.386386   \n",
       "rougher.state.floatbank10_e_air                       998.675263   \n",
       "rougher.state.floatbank10_e_level                    -500.232191   \n",
       "rougher.state.floatbank10_f_air                       900.995511   \n",
       "rougher.state.floatbank10_f_level                    -500.522553   \n",
       "rougher.input.floatbank11_sulfate                       9.998460   \n",
       "rougher.input.floatbank11_xanthate                      5.402368   \n",
       "rougher.calculation.sulfate_to_au_concentrate       40700.946040   \n",
       "rougher.calculation.floatbank10_sulfate_to_au_feed   2611.425833   \n",
       "rougher.calculation.floatbank11_sulfate_to_au_feed   2551.437587   \n",
       "rougher.calculation.au_pb_ratio                         2.035434   \n",
       "rougher.output.concentrate_au                          18.802523   \n",
       "rougher.output.concentrate_ag                          10.628337   \n",
       "rougher.output.concentrate_pb                           6.725987   \n",
       "rougher.output.concentrate_sol                         27.224120   \n",
       "rougher.output.recovery                                81.037957   \n",
       "rougher.output.tail_au                                  1.404207   \n",
       "rougher.output.tail_ag                                  4.889892   \n",
       "rougher.output.tail_pb                                  0.477728   \n",
       "rougher.output.tail_sol                                15.822525   \n",
       "primary_cleaner.input.sulfate                         114.107029   \n",
       "primary_cleaner.input.depressant                        6.076909   \n",
       "primary_cleaner.input.feed_size                         6.940000   \n",
       "primary_cleaner.input.xanthate                          0.697224   \n",
       "primary_cleaner.state.floatbank8_a_air               1505.063192   \n",
       "primary_cleaner.state.floatbank8_a_level             -500.308544   \n",
       "primary_cleaner.state.floatbank8_b_air               1503.629878   \n",
       "primary_cleaner.state.floatbank8_b_level             -500.437171   \n",
       "primary_cleaner.state.floatbank8_c_air               1500.926924   \n",
       "primary_cleaner.state.floatbank8_c_level             -500.703932   \n",
       "primary_cleaner.state.floatbank8_d_air               1494.219469   \n",
       "primary_cleaner.state.floatbank8_d_level             -500.458365   \n",
       "primary_cleaner.output.concentrate_au                  30.463140   \n",
       "primary_cleaner.output.concentrate_ag                   7.263288   \n",
       "primary_cleaner.output.concentrate_pb                   8.702328   \n",
       "\n",
       "                                                             50%  \\\n",
       "rougher.input.feed_au                                   8.125839   \n",
       "rougher.input.feed_ag                                   8.593574   \n",
       "rougher.input.feed_pb                                   3.534895   \n",
       "rougher.input.feed_sol                                 37.202650   \n",
       "rougher.input.feed_rate                               499.416120   \n",
       "rougher.input.feed_size                                54.610197   \n",
       "rougher.input.floatbank10_sulfate                      12.001174   \n",
       "rougher.input.floatbank10_xanthate                      6.008273   \n",
       "rougher.state.floatbank10_a_air                      1001.072890   \n",
       "rougher.state.floatbank10_a_level                    -300.263994   \n",
       "rougher.state.floatbank10_b_air                      1301.579988   \n",
       "rougher.state.floatbank10_b_level                    -499.784045   \n",
       "rougher.state.floatbank10_c_air                      1300.211537   \n",
       "rougher.state.floatbank10_c_level                    -499.713364   \n",
       "rougher.state.floatbank10_d_air                      1201.569141   \n",
       "rougher.state.floatbank10_d_level                    -499.532412   \n",
       "rougher.state.floatbank10_e_air                      1050.029461   \n",
       "rougher.state.floatbank10_e_level                    -499.663089   \n",
       "rougher.state.floatbank10_f_air                       999.924821   \n",
       "rougher.state.floatbank10_f_level                    -499.471777   \n",
       "rougher.input.floatbank11_sulfate                      12.000204   \n",
       "rougher.input.floatbank11_xanthate                      6.098580   \n",
       "rougher.calculation.sulfate_to_au_concentrate       44696.480712   \n",
       "rougher.calculation.floatbank10_sulfate_to_au_feed   3018.353876   \n",
       "rougher.calculation.floatbank11_sulfate_to_au_feed   2997.218088   \n",
       "rougher.calculation.au_pb_ratio                         2.309665   \n",
       "rougher.output.concentrate_au                          20.280214   \n",
       "rougher.output.concentrate_ag                          12.098115   \n",
       "rougher.output.concentrate_pb                           7.742580   \n",
       "rougher.output.concentrate_sol                         29.835345   \n",
       "rougher.output.recovery                                86.188892   \n",
       "rougher.output.tail_au                                  1.808170   \n",
       "rougher.output.tail_ag                                  5.765802   \n",
       "rougher.output.tail_pb                                  0.617465   \n",
       "rougher.output.tail_sol                                18.106867   \n",
       "primary_cleaner.input.sulfate                         143.232103   \n",
       "primary_cleaner.input.depressant                        8.038311   \n",
       "primary_cleaner.input.feed_size                         7.280000   \n",
       "primary_cleaner.input.xanthate                          0.940863   \n",
       "primary_cleaner.state.floatbank8_a_air               1600.596566   \n",
       "primary_cleaner.state.floatbank8_a_level             -499.926134   \n",
       "primary_cleaner.state.floatbank8_b_air               1600.520975   \n",
       "primary_cleaner.state.floatbank8_b_level             -499.956767   \n",
       "primary_cleaner.state.floatbank8_c_air               1600.253890   \n",
       "primary_cleaner.state.floatbank8_c_level             -499.909524   \n",
       "primary_cleaner.state.floatbank8_d_air               1599.447470   \n",
       "primary_cleaner.state.floatbank8_d_level             -499.905974   \n",
       "primary_cleaner.output.concentrate_au                  32.841295   \n",
       "primary_cleaner.output.concentrate_ag                   8.507298   \n",
       "primary_cleaner.output.concentrate_pb                  10.152433   \n",
       "\n",
       "                                                             75%           max  \n",
       "rougher.input.feed_au                                   9.769917  1.373133e+01  \n",
       "rougher.input.feed_ag                                  10.213771  1.459603e+01  \n",
       "rougher.input.feed_pb                                   4.244161  7.142594e+00  \n",
       "rougher.input.feed_sol                                 40.039133  5.347774e+01  \n",
       "rougher.input.feed_rate                               550.172183  7.175088e+02  \n",
       "rougher.input.feed_size                                65.023044  4.849675e+02  \n",
       "rougher.input.floatbank10_sulfate                      14.716595  3.611827e+01  \n",
       "rougher.input.floatbank10_xanthate                      6.798051  9.703448e+00  \n",
       "rougher.state.floatbank10_a_air                      1205.620588  1.521980e+03  \n",
       "rougher.state.floatbank10_a_level                    -299.981998 -2.737761e+02  \n",
       "rougher.state.floatbank10_b_air                      1448.630789  1.809194e+03  \n",
       "rougher.state.floatbank10_b_level                    -400.615589 -2.963831e+02  \n",
       "rougher.state.floatbank10_c_air                      1449.464001  2.499129e+03  \n",
       "rougher.state.floatbank10_c_level                    -400.985743 -2.921555e+02  \n",
       "rougher.state.floatbank10_d_air                      1352.880320  1.817199e+03  \n",
       "rougher.state.floatbank10_d_level                    -401.638550 -7.639733e+01  \n",
       "rougher.state.floatbank10_e_air                      1199.425140  1.922637e+03  \n",
       "rougher.state.floatbank10_e_level                    -401.161191 -1.397530e+02  \n",
       "rougher.state.floatbank10_f_air                      1099.719692  1.706308e+03  \n",
       "rougher.state.floatbank10_f_level                    -401.511042 -1.917185e+02  \n",
       "rougher.input.floatbank11_sulfate                      14.636766  3.798065e+01  \n",
       "rougher.input.floatbank11_xanthate                      6.801233  9.698407e+00  \n",
       "rougher.calculation.sulfate_to_au_concentrate       48168.210371  3.428099e+06  \n",
       "rougher.calculation.floatbank10_sulfate_to_au_feed   3676.769750  6.296390e+05  \n",
       "rougher.calculation.floatbank11_sulfate_to_au_feed   3601.998911  7.186850e+05  \n",
       "rougher.calculation.au_pb_ratio                         2.731794  3.937927e+01  \n",
       "rougher.output.concentrate_au                          21.717843  2.882451e+01  \n",
       "rougher.output.concentrate_ag                          13.736996  2.448027e+01  \n",
       "rougher.output.concentrate_pb                           8.565199  1.361707e+01  \n",
       "rougher.output.concentrate_sol                         32.189933  3.835119e+01  \n",
       "rougher.output.recovery                                90.010670  1.000000e+02  \n",
       "rougher.output.tail_au                                  2.211861  9.688980e+00  \n",
       "rougher.output.tail_ag                                  6.389234  1.271918e+01  \n",
       "rougher.output.tail_pb                                  0.778271  3.778064e+00  \n",
       "rougher.output.tail_sol                                20.088151  6.611719e+01  \n",
       "primary_cleaner.input.sulfate                         175.075656  2.659831e+02  \n",
       "primary_cleaner.input.depressant                       11.013521  4.000000e+01  \n",
       "primary_cleaner.input.feed_size                         7.670000  1.550000e+01  \n",
       "primary_cleaner.input.xanthate                          1.210990  4.102454e+00  \n",
       "primary_cleaner.state.floatbank8_a_air               1697.657718  2.103104e+03  \n",
       "primary_cleaner.state.floatbank8_a_level             -499.433950 -5.719540e+01  \n",
       "primary_cleaner.state.floatbank8_b_air               1699.217656  2.114907e+03  \n",
       "primary_cleaner.state.floatbank8_b_level             -499.373336 -1.425272e+02  \n",
       "primary_cleaner.state.floatbank8_c_air               1699.482929  2.013156e+03  \n",
       "primary_cleaner.state.floatbank8_c_level             -498.857643 -1.509370e+02  \n",
       "primary_cleaner.state.floatbank8_d_air               1698.524904  2.398904e+03  \n",
       "primary_cleaner.state.floatbank8_d_level             -499.064695 -3.060183e+01  \n",
       "primary_cleaner.output.concentrate_au                  35.048006  4.593393e+01  \n",
       "primary_cleaner.output.concentrate_ag                   9.809001  1.608163e+01  \n",
       "primary_cleaner.output.concentrate_pb                  11.424971  1.708128e+01  "
      ]
     },
     "execution_count": 12,
     "metadata": {},
     "output_type": "execute_result"
    }
   ],
   "source": [
    "data_full.describe().T[:50]"
   ]
  },
  {
   "cell_type": "code",
   "execution_count": 13,
   "metadata": {
    "scrolled": true
   },
   "outputs": [
    {
     "data": {
      "text/html": [
       "<div>\n",
       "<style scoped>\n",
       "    .dataframe tbody tr th:only-of-type {\n",
       "        vertical-align: middle;\n",
       "    }\n",
       "\n",
       "    .dataframe tbody tr th {\n",
       "        vertical-align: top;\n",
       "    }\n",
       "\n",
       "    .dataframe thead th {\n",
       "        text-align: right;\n",
       "    }\n",
       "</style>\n",
       "<table border=\"1\" class=\"dataframe\">\n",
       "  <thead>\n",
       "    <tr style=\"text-align: right;\">\n",
       "      <th></th>\n",
       "      <th>count</th>\n",
       "      <th>mean</th>\n",
       "      <th>std</th>\n",
       "      <th>min</th>\n",
       "      <th>25%</th>\n",
       "      <th>50%</th>\n",
       "      <th>75%</th>\n",
       "      <th>max</th>\n",
       "    </tr>\n",
       "  </thead>\n",
       "  <tbody>\n",
       "    <tr>\n",
       "      <th>primary_cleaner.output.tail_au</th>\n",
       "      <td>19439.0</td>\n",
       "      <td>3.914179</td>\n",
       "      <td>1.593034</td>\n",
       "      <td>0.000000</td>\n",
       "      <td>2.924844</td>\n",
       "      <td>3.623234</td>\n",
       "      <td>4.585705</td>\n",
       "      <td>17.788925</td>\n",
       "    </tr>\n",
       "    <tr>\n",
       "      <th>primary_cleaner.output.tail_ag</th>\n",
       "      <td>19435.0</td>\n",
       "      <td>16.145826</td>\n",
       "      <td>3.548598</td>\n",
       "      <td>0.000000</td>\n",
       "      <td>14.017742</td>\n",
       "      <td>15.842836</td>\n",
       "      <td>18.013975</td>\n",
       "      <td>29.459575</td>\n",
       "    </tr>\n",
       "    <tr>\n",
       "      <th>primary_cleaner.output.tail_pb</th>\n",
       "      <td>19418.0</td>\n",
       "      <td>3.435656</td>\n",
       "      <td>1.392536</td>\n",
       "      <td>0.000000</td>\n",
       "      <td>2.504365</td>\n",
       "      <td>3.271153</td>\n",
       "      <td>4.181748</td>\n",
       "      <td>9.634565</td>\n",
       "    </tr>\n",
       "    <tr>\n",
       "      <th>primary_cleaner.output.tail_sol</th>\n",
       "      <td>19377.0</td>\n",
       "      <td>7.973209</td>\n",
       "      <td>2.212677</td>\n",
       "      <td>0.000000</td>\n",
       "      <td>6.747483</td>\n",
       "      <td>8.183673</td>\n",
       "      <td>9.548586</td>\n",
       "      <td>22.276364</td>\n",
       "    </tr>\n",
       "    <tr>\n",
       "      <th>secondary_cleaner.state.floatbank2_a_air</th>\n",
       "      <td>19219.0</td>\n",
       "      <td>28.705564</td>\n",
       "      <td>5.458789</td>\n",
       "      <td>0.077503</td>\n",
       "      <td>25.048462</td>\n",
       "      <td>29.099943</td>\n",
       "      <td>33.012536</td>\n",
       "      <td>52.651399</td>\n",
       "    </tr>\n",
       "    <tr>\n",
       "      <th>secondary_cleaner.state.floatbank2_a_level</th>\n",
       "      <td>19438.0</td>\n",
       "      <td>-502.367331</td>\n",
       "      <td>53.571950</td>\n",
       "      <td>-799.606441</td>\n",
       "      <td>-500.233700</td>\n",
       "      <td>-499.973250</td>\n",
       "      <td>-499.671261</td>\n",
       "      <td>-127.875565</td>\n",
       "    </tr>\n",
       "    <tr>\n",
       "      <th>secondary_cleaner.state.floatbank2_b_air</th>\n",
       "      <td>19416.0</td>\n",
       "      <td>24.106800</td>\n",
       "      <td>5.749616</td>\n",
       "      <td>0.000000</td>\n",
       "      <td>20.919853</td>\n",
       "      <td>25.043289</td>\n",
       "      <td>28.008197</td>\n",
       "      <td>35.152122</td>\n",
       "    </tr>\n",
       "    <tr>\n",
       "      <th>secondary_cleaner.state.floatbank2_b_level</th>\n",
       "      <td>19438.0</td>\n",
       "      <td>-503.230712</td>\n",
       "      <td>56.567724</td>\n",
       "      <td>-799.873878</td>\n",
       "      <td>-500.253794</td>\n",
       "      <td>-500.015439</td>\n",
       "      <td>-499.785698</td>\n",
       "      <td>-211.999273</td>\n",
       "    </tr>\n",
       "    <tr>\n",
       "      <th>secondary_cleaner.state.floatbank3_a_air</th>\n",
       "      <td>19426.0</td>\n",
       "      <td>28.199338</td>\n",
       "      <td>6.134908</td>\n",
       "      <td>0.000000</td>\n",
       "      <td>24.949227</td>\n",
       "      <td>27.982129</td>\n",
       "      <td>33.002798</td>\n",
       "      <td>44.260464</td>\n",
       "    </tr>\n",
       "    <tr>\n",
       "      <th>secondary_cleaner.state.floatbank3_a_level</th>\n",
       "      <td>19438.0</td>\n",
       "      <td>-486.203350</td>\n",
       "      <td>54.412349</td>\n",
       "      <td>-799.755798</td>\n",
       "      <td>-500.213546</td>\n",
       "      <td>-499.930680</td>\n",
       "      <td>-499.325739</td>\n",
       "      <td>-191.678810</td>\n",
       "    </tr>\n",
       "    <tr>\n",
       "      <th>secondary_cleaner.state.floatbank3_b_air</th>\n",
       "      <td>19438.0</td>\n",
       "      <td>22.200645</td>\n",
       "      <td>5.574001</td>\n",
       "      <td>0.000000</td>\n",
       "      <td>18.995924</td>\n",
       "      <td>22.011231</td>\n",
       "      <td>25.998206</td>\n",
       "      <td>35.072841</td>\n",
       "    </tr>\n",
       "    <tr>\n",
       "      <th>secondary_cleaner.state.floatbank3_b_level</th>\n",
       "      <td>19438.0</td>\n",
       "      <td>-493.742107</td>\n",
       "      <td>43.372158</td>\n",
       "      <td>-809.333008</td>\n",
       "      <td>-500.123034</td>\n",
       "      <td>-499.981902</td>\n",
       "      <td>-499.812834</td>\n",
       "      <td>-159.742331</td>\n",
       "    </tr>\n",
       "    <tr>\n",
       "      <th>secondary_cleaner.state.floatbank4_a_air</th>\n",
       "      <td>19433.0</td>\n",
       "      <td>18.987674</td>\n",
       "      <td>5.411058</td>\n",
       "      <td>0.000000</td>\n",
       "      <td>14.975734</td>\n",
       "      <td>18.017481</td>\n",
       "      <td>23.012470</td>\n",
       "      <td>30.115735</td>\n",
       "    </tr>\n",
       "    <tr>\n",
       "      <th>secondary_cleaner.state.floatbank4_a_level</th>\n",
       "      <td>19438.0</td>\n",
       "      <td>-485.894516</td>\n",
       "      <td>47.758570</td>\n",
       "      <td>-799.798523</td>\n",
       "      <td>-500.704892</td>\n",
       "      <td>-499.837793</td>\n",
       "      <td>-498.249730</td>\n",
       "      <td>-245.239184</td>\n",
       "    </tr>\n",
       "    <tr>\n",
       "      <th>secondary_cleaner.state.floatbank4_b_air</th>\n",
       "      <td>19438.0</td>\n",
       "      <td>15.010366</td>\n",
       "      <td>4.890228</td>\n",
       "      <td>0.000000</td>\n",
       "      <td>11.940294</td>\n",
       "      <td>14.971014</td>\n",
       "      <td>19.034162</td>\n",
       "      <td>31.269706</td>\n",
       "    </tr>\n",
       "    <tr>\n",
       "      <th>secondary_cleaner.state.floatbank4_b_level</th>\n",
       "      <td>19438.0</td>\n",
       "      <td>-461.078636</td>\n",
       "      <td>67.405524</td>\n",
       "      <td>-800.836914</td>\n",
       "      <td>-500.187742</td>\n",
       "      <td>-499.459786</td>\n",
       "      <td>-400.118106</td>\n",
       "      <td>-6.506986</td>\n",
       "    </tr>\n",
       "    <tr>\n",
       "      <th>secondary_cleaner.state.floatbank5_a_air</th>\n",
       "      <td>19438.0</td>\n",
       "      <td>15.694452</td>\n",
       "      <td>5.510974</td>\n",
       "      <td>-0.372054</td>\n",
       "      <td>10.988606</td>\n",
       "      <td>15.000036</td>\n",
       "      <td>18.026190</td>\n",
       "      <td>43.709931</td>\n",
       "    </tr>\n",
       "    <tr>\n",
       "      <th>secondary_cleaner.state.floatbank5_a_level</th>\n",
       "      <td>19438.0</td>\n",
       "      <td>-488.684065</td>\n",
       "      <td>34.533396</td>\n",
       "      <td>-797.323986</td>\n",
       "      <td>-500.458467</td>\n",
       "      <td>-499.802605</td>\n",
       "      <td>-498.384187</td>\n",
       "      <td>-244.483566</td>\n",
       "    </tr>\n",
       "    <tr>\n",
       "      <th>secondary_cleaner.state.floatbank5_b_air</th>\n",
       "      <td>19438.0</td>\n",
       "      <td>12.198224</td>\n",
       "      <td>5.333024</td>\n",
       "      <td>0.528083</td>\n",
       "      <td>8.971105</td>\n",
       "      <td>11.019433</td>\n",
       "      <td>14.019088</td>\n",
       "      <td>27.926001</td>\n",
       "    </tr>\n",
       "    <tr>\n",
       "      <th>secondary_cleaner.state.floatbank5_b_level</th>\n",
       "      <td>19438.0</td>\n",
       "      <td>-487.149827</td>\n",
       "      <td>38.347312</td>\n",
       "      <td>-800.220337</td>\n",
       "      <td>-500.129462</td>\n",
       "      <td>-499.935317</td>\n",
       "      <td>-499.436708</td>\n",
       "      <td>-137.740004</td>\n",
       "    </tr>\n",
       "    <tr>\n",
       "      <th>secondary_cleaner.state.floatbank6_a_air</th>\n",
       "      <td>19437.0</td>\n",
       "      <td>18.959024</td>\n",
       "      <td>5.550498</td>\n",
       "      <td>-0.079426</td>\n",
       "      <td>14.983037</td>\n",
       "      <td>19.960541</td>\n",
       "      <td>24.003170</td>\n",
       "      <td>32.188906</td>\n",
       "    </tr>\n",
       "    <tr>\n",
       "      <th>secondary_cleaner.state.floatbank6_a_level</th>\n",
       "      <td>19438.0</td>\n",
       "      <td>-505.436305</td>\n",
       "      <td>37.689057</td>\n",
       "      <td>-809.741464</td>\n",
       "      <td>-500.728067</td>\n",
       "      <td>-500.048400</td>\n",
       "      <td>-499.495378</td>\n",
       "      <td>-104.427459</td>\n",
       "    </tr>\n",
       "    <tr>\n",
       "      <th>secondary_cleaner.output.tail_au</th>\n",
       "      <td>19439.0</td>\n",
       "      <td>4.339625</td>\n",
       "      <td>2.326751</td>\n",
       "      <td>0.000000</td>\n",
       "      <td>3.182770</td>\n",
       "      <td>4.072412</td>\n",
       "      <td>5.063081</td>\n",
       "      <td>26.811643</td>\n",
       "    </tr>\n",
       "    <tr>\n",
       "      <th>secondary_cleaner.output.tail_ag</th>\n",
       "      <td>19437.0</td>\n",
       "      <td>14.586833</td>\n",
       "      <td>4.265202</td>\n",
       "      <td>0.000000</td>\n",
       "      <td>12.640239</td>\n",
       "      <td>15.641902</td>\n",
       "      <td>17.358217</td>\n",
       "      <td>23.264738</td>\n",
       "    </tr>\n",
       "    <tr>\n",
       "      <th>secondary_cleaner.output.tail_pb</th>\n",
       "      <td>19427.0</td>\n",
       "      <td>5.777703</td>\n",
       "      <td>2.774598</td>\n",
       "      <td>0.000000</td>\n",
       "      <td>3.864733</td>\n",
       "      <td>5.344073</td>\n",
       "      <td>7.788467</td>\n",
       "      <td>17.042505</td>\n",
       "    </tr>\n",
       "    <tr>\n",
       "      <th>secondary_cleaner.output.tail_sol</th>\n",
       "      <td>17691.0</td>\n",
       "      <td>7.167247</td>\n",
       "      <td>3.916079</td>\n",
       "      <td>0.000000</td>\n",
       "      <td>3.845475</td>\n",
       "      <td>7.685827</td>\n",
       "      <td>10.411296</td>\n",
       "      <td>26.000772</td>\n",
       "    </tr>\n",
       "    <tr>\n",
       "      <th>final.output.concentrate_au</th>\n",
       "      <td>19439.0</td>\n",
       "      <td>44.076513</td>\n",
       "      <td>5.129784</td>\n",
       "      <td>0.000000</td>\n",
       "      <td>43.402215</td>\n",
       "      <td>45.011244</td>\n",
       "      <td>46.275313</td>\n",
       "      <td>52.756638</td>\n",
       "    </tr>\n",
       "    <tr>\n",
       "      <th>final.output.concentrate_ag</th>\n",
       "      <td>19438.0</td>\n",
       "      <td>5.168470</td>\n",
       "      <td>1.372348</td>\n",
       "      <td>0.000000</td>\n",
       "      <td>4.251240</td>\n",
       "      <td>5.066094</td>\n",
       "      <td>5.895527</td>\n",
       "      <td>16.001945</td>\n",
       "    </tr>\n",
       "    <tr>\n",
       "      <th>final.output.concentrate_pb</th>\n",
       "      <td>19438.0</td>\n",
       "      <td>9.978895</td>\n",
       "      <td>1.669240</td>\n",
       "      <td>0.000000</td>\n",
       "      <td>9.137262</td>\n",
       "      <td>10.102433</td>\n",
       "      <td>11.035769</td>\n",
       "      <td>17.031899</td>\n",
       "    </tr>\n",
       "    <tr>\n",
       "      <th>final.output.concentrate_sol</th>\n",
       "      <td>19228.0</td>\n",
       "      <td>9.501224</td>\n",
       "      <td>2.787537</td>\n",
       "      <td>0.000000</td>\n",
       "      <td>7.722820</td>\n",
       "      <td>9.218961</td>\n",
       "      <td>10.947813</td>\n",
       "      <td>19.615720</td>\n",
       "    </tr>\n",
       "    <tr>\n",
       "      <th>final.output.recovery</th>\n",
       "      <td>19439.0</td>\n",
       "      <td>67.050208</td>\n",
       "      <td>10.125840</td>\n",
       "      <td>0.000000</td>\n",
       "      <td>63.299712</td>\n",
       "      <td>68.172738</td>\n",
       "      <td>72.686642</td>\n",
       "      <td>100.000000</td>\n",
       "    </tr>\n",
       "    <tr>\n",
       "      <th>final.output.tail_au</th>\n",
       "      <td>19439.0</td>\n",
       "      <td>3.042467</td>\n",
       "      <td>0.922808</td>\n",
       "      <td>0.000000</td>\n",
       "      <td>2.461138</td>\n",
       "      <td>2.984909</td>\n",
       "      <td>3.571351</td>\n",
       "      <td>8.245022</td>\n",
       "    </tr>\n",
       "    <tr>\n",
       "      <th>final.output.tail_ag</th>\n",
       "      <td>19438.0</td>\n",
       "      <td>9.688589</td>\n",
       "      <td>2.328642</td>\n",
       "      <td>0.000000</td>\n",
       "      <td>8.062878</td>\n",
       "      <td>9.743623</td>\n",
       "      <td>11.134294</td>\n",
       "      <td>19.552149</td>\n",
       "    </tr>\n",
       "    <tr>\n",
       "      <th>final.output.tail_pb</th>\n",
       "      <td>19338.0</td>\n",
       "      <td>2.705795</td>\n",
       "      <td>0.949077</td>\n",
       "      <td>0.000000</td>\n",
       "      <td>2.040119</td>\n",
       "      <td>2.748730</td>\n",
       "      <td>3.333216</td>\n",
       "      <td>5.804178</td>\n",
       "    </tr>\n",
       "    <tr>\n",
       "      <th>final.output.tail_sol</th>\n",
       "      <td>19433.0</td>\n",
       "      <td>10.583728</td>\n",
       "      <td>2.868782</td>\n",
       "      <td>0.000000</td>\n",
       "      <td>8.938947</td>\n",
       "      <td>10.622456</td>\n",
       "      <td>12.104271</td>\n",
       "      <td>22.317730</td>\n",
       "    </tr>\n",
       "  </tbody>\n",
       "</table>\n",
       "</div>"
      ],
      "text/plain": [
       "                                              count        mean        std  \\\n",
       "primary_cleaner.output.tail_au              19439.0    3.914179   1.593034   \n",
       "primary_cleaner.output.tail_ag              19435.0   16.145826   3.548598   \n",
       "primary_cleaner.output.tail_pb              19418.0    3.435656   1.392536   \n",
       "primary_cleaner.output.tail_sol             19377.0    7.973209   2.212677   \n",
       "secondary_cleaner.state.floatbank2_a_air    19219.0   28.705564   5.458789   \n",
       "secondary_cleaner.state.floatbank2_a_level  19438.0 -502.367331  53.571950   \n",
       "secondary_cleaner.state.floatbank2_b_air    19416.0   24.106800   5.749616   \n",
       "secondary_cleaner.state.floatbank2_b_level  19438.0 -503.230712  56.567724   \n",
       "secondary_cleaner.state.floatbank3_a_air    19426.0   28.199338   6.134908   \n",
       "secondary_cleaner.state.floatbank3_a_level  19438.0 -486.203350  54.412349   \n",
       "secondary_cleaner.state.floatbank3_b_air    19438.0   22.200645   5.574001   \n",
       "secondary_cleaner.state.floatbank3_b_level  19438.0 -493.742107  43.372158   \n",
       "secondary_cleaner.state.floatbank4_a_air    19433.0   18.987674   5.411058   \n",
       "secondary_cleaner.state.floatbank4_a_level  19438.0 -485.894516  47.758570   \n",
       "secondary_cleaner.state.floatbank4_b_air    19438.0   15.010366   4.890228   \n",
       "secondary_cleaner.state.floatbank4_b_level  19438.0 -461.078636  67.405524   \n",
       "secondary_cleaner.state.floatbank5_a_air    19438.0   15.694452   5.510974   \n",
       "secondary_cleaner.state.floatbank5_a_level  19438.0 -488.684065  34.533396   \n",
       "secondary_cleaner.state.floatbank5_b_air    19438.0   12.198224   5.333024   \n",
       "secondary_cleaner.state.floatbank5_b_level  19438.0 -487.149827  38.347312   \n",
       "secondary_cleaner.state.floatbank6_a_air    19437.0   18.959024   5.550498   \n",
       "secondary_cleaner.state.floatbank6_a_level  19438.0 -505.436305  37.689057   \n",
       "secondary_cleaner.output.tail_au            19439.0    4.339625   2.326751   \n",
       "secondary_cleaner.output.tail_ag            19437.0   14.586833   4.265202   \n",
       "secondary_cleaner.output.tail_pb            19427.0    5.777703   2.774598   \n",
       "secondary_cleaner.output.tail_sol           17691.0    7.167247   3.916079   \n",
       "final.output.concentrate_au                 19439.0   44.076513   5.129784   \n",
       "final.output.concentrate_ag                 19438.0    5.168470   1.372348   \n",
       "final.output.concentrate_pb                 19438.0    9.978895   1.669240   \n",
       "final.output.concentrate_sol                19228.0    9.501224   2.787537   \n",
       "final.output.recovery                       19439.0   67.050208  10.125840   \n",
       "final.output.tail_au                        19439.0    3.042467   0.922808   \n",
       "final.output.tail_ag                        19438.0    9.688589   2.328642   \n",
       "final.output.tail_pb                        19338.0    2.705795   0.949077   \n",
       "final.output.tail_sol                       19433.0   10.583728   2.868782   \n",
       "\n",
       "                                                   min         25%  \\\n",
       "primary_cleaner.output.tail_au                0.000000    2.924844   \n",
       "primary_cleaner.output.tail_ag                0.000000   14.017742   \n",
       "primary_cleaner.output.tail_pb                0.000000    2.504365   \n",
       "primary_cleaner.output.tail_sol               0.000000    6.747483   \n",
       "secondary_cleaner.state.floatbank2_a_air      0.077503   25.048462   \n",
       "secondary_cleaner.state.floatbank2_a_level -799.606441 -500.233700   \n",
       "secondary_cleaner.state.floatbank2_b_air      0.000000   20.919853   \n",
       "secondary_cleaner.state.floatbank2_b_level -799.873878 -500.253794   \n",
       "secondary_cleaner.state.floatbank3_a_air      0.000000   24.949227   \n",
       "secondary_cleaner.state.floatbank3_a_level -799.755798 -500.213546   \n",
       "secondary_cleaner.state.floatbank3_b_air      0.000000   18.995924   \n",
       "secondary_cleaner.state.floatbank3_b_level -809.333008 -500.123034   \n",
       "secondary_cleaner.state.floatbank4_a_air      0.000000   14.975734   \n",
       "secondary_cleaner.state.floatbank4_a_level -799.798523 -500.704892   \n",
       "secondary_cleaner.state.floatbank4_b_air      0.000000   11.940294   \n",
       "secondary_cleaner.state.floatbank4_b_level -800.836914 -500.187742   \n",
       "secondary_cleaner.state.floatbank5_a_air     -0.372054   10.988606   \n",
       "secondary_cleaner.state.floatbank5_a_level -797.323986 -500.458467   \n",
       "secondary_cleaner.state.floatbank5_b_air      0.528083    8.971105   \n",
       "secondary_cleaner.state.floatbank5_b_level -800.220337 -500.129462   \n",
       "secondary_cleaner.state.floatbank6_a_air     -0.079426   14.983037   \n",
       "secondary_cleaner.state.floatbank6_a_level -809.741464 -500.728067   \n",
       "secondary_cleaner.output.tail_au              0.000000    3.182770   \n",
       "secondary_cleaner.output.tail_ag              0.000000   12.640239   \n",
       "secondary_cleaner.output.tail_pb              0.000000    3.864733   \n",
       "secondary_cleaner.output.tail_sol             0.000000    3.845475   \n",
       "final.output.concentrate_au                   0.000000   43.402215   \n",
       "final.output.concentrate_ag                   0.000000    4.251240   \n",
       "final.output.concentrate_pb                   0.000000    9.137262   \n",
       "final.output.concentrate_sol                  0.000000    7.722820   \n",
       "final.output.recovery                         0.000000   63.299712   \n",
       "final.output.tail_au                          0.000000    2.461138   \n",
       "final.output.tail_ag                          0.000000    8.062878   \n",
       "final.output.tail_pb                          0.000000    2.040119   \n",
       "final.output.tail_sol                         0.000000    8.938947   \n",
       "\n",
       "                                                   50%         75%         max  \n",
       "primary_cleaner.output.tail_au                3.623234    4.585705   17.788925  \n",
       "primary_cleaner.output.tail_ag               15.842836   18.013975   29.459575  \n",
       "primary_cleaner.output.tail_pb                3.271153    4.181748    9.634565  \n",
       "primary_cleaner.output.tail_sol               8.183673    9.548586   22.276364  \n",
       "secondary_cleaner.state.floatbank2_a_air     29.099943   33.012536   52.651399  \n",
       "secondary_cleaner.state.floatbank2_a_level -499.973250 -499.671261 -127.875565  \n",
       "secondary_cleaner.state.floatbank2_b_air     25.043289   28.008197   35.152122  \n",
       "secondary_cleaner.state.floatbank2_b_level -500.015439 -499.785698 -211.999273  \n",
       "secondary_cleaner.state.floatbank3_a_air     27.982129   33.002798   44.260464  \n",
       "secondary_cleaner.state.floatbank3_a_level -499.930680 -499.325739 -191.678810  \n",
       "secondary_cleaner.state.floatbank3_b_air     22.011231   25.998206   35.072841  \n",
       "secondary_cleaner.state.floatbank3_b_level -499.981902 -499.812834 -159.742331  \n",
       "secondary_cleaner.state.floatbank4_a_air     18.017481   23.012470   30.115735  \n",
       "secondary_cleaner.state.floatbank4_a_level -499.837793 -498.249730 -245.239184  \n",
       "secondary_cleaner.state.floatbank4_b_air     14.971014   19.034162   31.269706  \n",
       "secondary_cleaner.state.floatbank4_b_level -499.459786 -400.118106   -6.506986  \n",
       "secondary_cleaner.state.floatbank5_a_air     15.000036   18.026190   43.709931  \n",
       "secondary_cleaner.state.floatbank5_a_level -499.802605 -498.384187 -244.483566  \n",
       "secondary_cleaner.state.floatbank5_b_air     11.019433   14.019088   27.926001  \n",
       "secondary_cleaner.state.floatbank5_b_level -499.935317 -499.436708 -137.740004  \n",
       "secondary_cleaner.state.floatbank6_a_air     19.960541   24.003170   32.188906  \n",
       "secondary_cleaner.state.floatbank6_a_level -500.048400 -499.495378 -104.427459  \n",
       "secondary_cleaner.output.tail_au              4.072412    5.063081   26.811643  \n",
       "secondary_cleaner.output.tail_ag             15.641902   17.358217   23.264738  \n",
       "secondary_cleaner.output.tail_pb              5.344073    7.788467   17.042505  \n",
       "secondary_cleaner.output.tail_sol             7.685827   10.411296   26.000772  \n",
       "final.output.concentrate_au                  45.011244   46.275313   52.756638  \n",
       "final.output.concentrate_ag                   5.066094    5.895527   16.001945  \n",
       "final.output.concentrate_pb                  10.102433   11.035769   17.031899  \n",
       "final.output.concentrate_sol                  9.218961   10.947813   19.615720  \n",
       "final.output.recovery                        68.172738   72.686642  100.000000  \n",
       "final.output.tail_au                          2.984909    3.571351    8.245022  \n",
       "final.output.tail_ag                          9.743623   11.134294   19.552149  \n",
       "final.output.tail_pb                          2.748730    3.333216    5.804178  \n",
       "final.output.tail_sol                        10.622456   12.104271   22.317730  "
      ]
     },
     "execution_count": 13,
     "metadata": {},
     "output_type": "execute_result"
    }
   ],
   "source": [
    "data_full.describe().T[51:]"
   ]
  },
  {
   "cell_type": "markdown",
   "metadata": {},
   "source": [
    "Видим, что некоторые поля с концентрацией металлов равны 0. Подразумеваем, что в руде должна находится хоть какая-то доля металлов. Вероятно мы имеем ошибку расчета, либо проблему с датчиками в этот момент. Поменяем 0 в этих полях на пропуски."
   ]
  },
  {
   "cell_type": "code",
   "execution_count": 14,
   "metadata": {},
   "outputs": [],
   "source": [
    "# меняем в обучающей и исходной выборке\n",
    "columns = [x for x in data_full.columns if x.endswith(('au', 'ag', 'pb', 'sol'))]\n",
    "data_train[columns] = data_train[columns].replace({0:np.nan})\n",
    "data_full[columns] = data_full[columns].replace({0:np.nan})\n",
    "\n",
    "# меняем в тестовой выборке\n",
    "columns_test = [x for x in columns if x in data_test.columns]\n",
    "data_test[columns_test] = data_test[columns_test].replace({0:np.nan})"
   ]
  },
  {
   "cell_type": "markdown",
   "metadata": {},
   "source": [
    "**Вывод:** Мы заменили 0 в концентрациях металлов и соли на пустые значения. Т.к. предпологаем что нулевых значений в руде быть не может."
   ]
  },
  {
   "cell_type": "markdown",
   "metadata": {},
   "source": [
    "#### Обработка пропущенных значений"
   ]
  },
  {
   "cell_type": "markdown",
   "metadata": {},
   "source": [
    "Выведем количество строк с пропущенными значениями."
   ]
  },
  {
   "cell_type": "code",
   "execution_count": 15,
   "metadata": {},
   "outputs": [
    {
     "name": "stdout",
     "output_type": "stream",
     "text": [
      "secondary_cleaner.output.tail_sol                     1647\n",
      "secondary_cleaner.output.tail_pb                       731\n",
      "secondary_cleaner.output.tail_ag                       728\n",
      "secondary_cleaner.output.tail_au                       727\n",
      "rougher.state.floatbank10_e_air                        429\n",
      "rougher.output.concentrate_sol                         412\n",
      "rougher.input.floatbank11_xanthate                     407\n",
      "rougher.output.concentrate_pb                          394\n",
      "rougher.output.concentrate_ag                          394\n",
      "rougher.output.concentrate_au                          394\n",
      "primary_cleaner.output.concentrate_sol                 373\n",
      "final.output.concentrate_sol                           290\n",
      "primary_cleaner.output.concentrate_pb                  196\n",
      "final.output.tail_pb                                   147\n",
      "primary_cleaner.output.tail_sol                        144\n",
      "primary_cleaner.output.concentrate_ag                  108\n",
      "primary_cleaner.output.concentrate_au                  108\n",
      "primary_cleaner.output.tail_pb                         105\n",
      "primary_cleaner.output.tail_ag                         103\n",
      "rougher.input.feed_size                                101\n",
      "final.output.concentrate_ag                             99\n",
      "final.output.concentrate_pb                             99\n",
      "primary_cleaner.output.tail_au                          99\n",
      "final.output.concentrate_au                             98\n",
      "secondary_cleaner.state.floatbank2_a_air                94\n",
      "rougher.input.feed_sol                                  77\n",
      "final.output.tail_sol                                   77\n",
      "final.output.tail_ag                                    73\n",
      "rougher.input.feed_pb                                   72\n",
      "final.output.tail_au                                    72\n",
      "primary_cleaner.input.xanthate                          61\n",
      "rougher.input.floatbank11_sulfate                       36\n",
      "rougher.input.floatbank10_sulfate                       31\n",
      "primary_cleaner.input.depressant                        28\n",
      "primary_cleaner.input.sulfate                           23\n",
      "secondary_cleaner.state.floatbank2_b_air                22\n",
      "secondary_cleaner.state.floatbank3_a_air                12\n",
      "rougher.input.feed_rate                                  7\n",
      "rougher.input.floatbank10_xanthate                       7\n",
      "secondary_cleaner.state.floatbank4_a_air                 5\n",
      "primary_cleaner.state.floatbank8_a_air                   3\n",
      "primary_cleaner.state.floatbank8_b_air                   3\n",
      "secondary_cleaner.state.floatbank6_a_air                 1\n",
      "rougher.calculation.floatbank11_sulfate_to_au_feed       1\n",
      "primary_cleaner.state.floatbank8_d_air                   1\n",
      "rougher.output.tail_ag                                   1\n",
      "rougher.calculation.sulfate_to_au_concentrate            1\n",
      "rougher.calculation.floatbank10_sulfate_to_au_feed       1\n",
      "secondary_cleaner.state.floatbank3_b_air                 0\n",
      "secondary_cleaner.state.floatbank3_b_level               0\n",
      "dtype: int64\n",
      "\n",
      "secondary_cleaner.state.floatbank2_a_air      126\n",
      "rougher.input.floatbank11_xanthate             46\n",
      "rougher.input.feed_size                        44\n",
      "primary_cleaner.input.xanthate                 43\n",
      "rougher.input.feed_pb                          28\n",
      "rougher.input.feed_sol                         22\n",
      "primary_cleaner.input.depressant                9\n",
      "rougher.input.floatbank11_sulfate               8\n",
      "rougher.state.floatbank10_e_air                 7\n",
      "rougher.input.feed_rate                         4\n",
      "rougher.input.floatbank10_sulfate               3\n",
      "primary_cleaner.state.floatbank8_d_air          2\n",
      "primary_cleaner.state.floatbank8_c_air          2\n",
      "primary_cleaner.state.floatbank8_d_level        1\n",
      "secondary_cleaner.state.floatbank3_a_level      1\n",
      "secondary_cleaner.state.floatbank2_a_level      1\n",
      "secondary_cleaner.state.floatbank2_b_air        1\n",
      "secondary_cleaner.state.floatbank2_b_level      1\n",
      "secondary_cleaner.state.floatbank3_a_air        1\n",
      "secondary_cleaner.state.floatbank4_a_air        1\n",
      "secondary_cleaner.state.floatbank3_b_air        1\n",
      "secondary_cleaner.state.floatbank3_b_level      1\n",
      "secondary_cleaner.state.floatbank4_a_level      1\n",
      "secondary_cleaner.state.floatbank4_b_air        1\n",
      "secondary_cleaner.state.floatbank4_b_level      1\n",
      "secondary_cleaner.state.floatbank5_a_air        1\n",
      "secondary_cleaner.state.floatbank5_a_level      1\n",
      "secondary_cleaner.state.floatbank5_b_air        1\n",
      "secondary_cleaner.state.floatbank5_b_level      1\n",
      "secondary_cleaner.state.floatbank6_a_air        1\n",
      "primary_cleaner.state.floatbank8_c_level        1\n",
      "secondary_cleaner.state.floatbank6_a_level      1\n",
      "primary_cleaner.state.floatbank8_b_level        1\n",
      "rougher.state.floatbank10_c_air                 1\n",
      "primary_cleaner.state.floatbank8_a_level        1\n",
      "primary_cleaner.state.floatbank8_a_air          1\n",
      "rougher.input.floatbank10_xanthate              1\n",
      "primary_cleaner.input.sulfate                   1\n",
      "rougher.state.floatbank10_a_air                 1\n",
      "rougher.state.floatbank10_a_level               1\n",
      "rougher.state.floatbank10_b_air                 1\n",
      "primary_cleaner.state.floatbank8_b_air          1\n",
      "rougher.state.floatbank10_b_level               1\n",
      "rougher.state.floatbank10_c_level               1\n",
      "rougher.input.feed_ag                           0\n",
      "rougher.state.floatbank10_d_level               0\n",
      "rougher.state.floatbank10_d_air                 0\n",
      "rougher.state.floatbank10_e_level               0\n",
      "rougher.state.floatbank10_f_air                 0\n",
      "rougher.state.floatbank10_f_level               0\n",
      "dtype: int64\n",
      "\n",
      "secondary_cleaner.output.tail_sol                     2597\n",
      "secondary_cleaner.output.tail_pb                       861\n",
      "secondary_cleaner.output.tail_ag                       851\n",
      "secondary_cleaner.output.tail_au                       849\n",
      "primary_cleaner.output.concentrate_sol                 478\n",
      "rougher.input.floatbank11_xanthate                     453\n",
      "rougher.state.floatbank10_e_air                        436\n",
      "rougher.output.concentrate_sol                         417\n",
      "rougher.output.concentrate_pb                          394\n",
      "rougher.output.concentrate_ag                          394\n",
      "rougher.output.concentrate_au                          394\n",
      "final.output.concentrate_sol                           309\n",
      "primary_cleaner.output.concentrate_pb                  224\n",
      "secondary_cleaner.state.floatbank2_a_air               220\n",
      "final.output.tail_pb                                   192\n",
      "primary_cleaner.output.tail_sol                        186\n",
      "primary_cleaner.output.tail_pb                         145\n",
      "rougher.input.feed_size                                145\n",
      "primary_cleaner.output.tail_ag                         128\n",
      "primary_cleaner.output.tail_au                         124\n",
      "primary_cleaner.output.concentrate_ag                  108\n",
      "primary_cleaner.output.concentrate_au                  108\n",
      "primary_cleaner.input.xanthate                         104\n",
      "rougher.input.feed_pb                                  100\n",
      "final.output.concentrate_pb                             99\n",
      "rougher.input.feed_sol                                  99\n",
      "final.output.concentrate_ag                             99\n",
      "final.output.concentrate_au                             98\n",
      "final.output.tail_sol                                   97\n",
      "final.output.tail_ag                                    92\n",
      "final.output.tail_au                                    91\n",
      "rougher.input.floatbank11_sulfate                       44\n",
      "primary_cleaner.input.depressant                        37\n",
      "rougher.input.floatbank10_sulfate                       34\n",
      "primary_cleaner.input.sulfate                           24\n",
      "secondary_cleaner.state.floatbank2_b_air                23\n",
      "secondary_cleaner.state.floatbank3_a_air                13\n",
      "rougher.input.feed_rate                                 11\n",
      "rougher.input.floatbank10_xanthate                       8\n",
      "secondary_cleaner.state.floatbank4_a_air                 6\n",
      "primary_cleaner.state.floatbank8_a_air                   4\n",
      "primary_cleaner.state.floatbank8_b_air                   4\n",
      "primary_cleaner.state.floatbank8_d_air                   3\n",
      "rougher.calculation.floatbank10_sulfate_to_au_feed       2\n",
      "rougher.calculation.sulfate_to_au_concentrate            2\n",
      "primary_cleaner.state.floatbank8_c_air                   2\n",
      "secondary_cleaner.state.floatbank6_a_air                 2\n",
      "rougher.calculation.floatbank11_sulfate_to_au_feed       2\n",
      "secondary_cleaner.state.floatbank3_b_level               1\n",
      "secondary_cleaner.state.floatbank3_b_air                 1\n",
      "dtype: int64\n"
     ]
    }
   ],
   "source": [
    "print(data_train.isna().sum().sort_values(ascending=False)[:50])\n",
    "print()\n",
    "print(data_test.isna().sum().sort_values(ascending=False)[:50])\n",
    "print()\n",
    "print(data_full.isna().sum().sort_values(ascending=False)[:50])"
   ]
  },
  {
   "cell_type": "code",
   "execution_count": 16,
   "metadata": {},
   "outputs": [
    {
     "name": "stdout",
     "output_type": "stream",
     "text": [
      "Кол-во строк с пропущенными значениями в обучающей выборке - 3120, что составляет 21.400644763015297%\n",
      "Кол-во строк с пропущенными значениями в тестовой выборке - 323, что составляет 6.6460905349794235%\n",
      "Кол-во строк с пропущенными значениями в исходной выборке - 4363, что составляет 22.444570193940017%\n"
     ]
    }
   ],
   "source": [
    "print(f'Кол-во строк с пропущенными значениями в обучающей выборке - \\\n",
    "{(data_train.shape[0] - data_train.dropna().shape[0])}, что составляет \\\n",
    "{100 *(data_train.shape[0] - data_train.dropna().shape[0])/data_train.shape[0]}%')\n",
    "\n",
    "print(f'Кол-во строк с пропущенными значениями в тестовой выборке - \\\n",
    "{(data_test.shape[0] - data_test.dropna().shape[0])}, что составляет \\\n",
    "{100 *(data_test.shape[0] - data_test.dropna().shape[0])/data_test.shape[0]}%')\n",
    "\n",
    "print(f'Кол-во строк с пропущенными значениями в исходной выборке - \\\n",
    "{(data_full.shape[0] - data_full.dropna().shape[0])}, что составляет \\\n",
    "{100 *(data_full.shape[0] - data_full.dropna().shape[0])/data_full.shape[0]}%')"
   ]
  },
  {
   "cell_type": "markdown",
   "metadata": {},
   "source": [
    "Т.к. соседние данные по условию похожи, то заменим все пропуски предыдущим значением. Перед этим отсортировав данные по времени."
   ]
  },
  {
   "cell_type": "code",
   "execution_count": 17,
   "metadata": {},
   "outputs": [],
   "source": [
    "# сортируем значения по времени\n",
    "data_train = data_train.sort_values('date').reset_index(drop=True)\n",
    "data_test = data_test.sort_values('date').reset_index(drop=True)\n",
    "data_full = data_full.sort_values('date').reset_index(drop=True)\n",
    "\n",
    "# заменяем пропущенные значения\n",
    "data_train = data_train.fillna(method='ffill')\n",
    "data_test = data_test.fillna(method='ffill')\n",
    "data_full = data_full.fillna(method='ffill')"
   ]
  },
  {
   "cell_type": "markdown",
   "metadata": {},
   "source": [
    "Проверим."
   ]
  },
  {
   "cell_type": "code",
   "execution_count": 18,
   "metadata": {},
   "outputs": [
    {
     "name": "stdout",
     "output_type": "stream",
     "text": [
      "Кол-во строк с пропущенными значениями в обучающей выборке - 0, что составляет 0.0%\n",
      "Кол-во строк с пропущенными значениями в тестовой выборке - 0, что составляет 0.0%\n",
      "Кол-во строк с пропущенными значениями в исходной выборке - 0, что составляет 0.0%\n"
     ]
    }
   ],
   "source": [
    "print(f'Кол-во строк с пропущенными значениями в обучающей выборке - \\\n",
    "{(data_train.shape[0] - data_train.dropna().shape[0])}, что составляет \\\n",
    "{100 *(data_train.shape[0] - data_train.dropna().shape[0])/data_train.shape[0]}%')\n",
    "\n",
    "print(f'Кол-во строк с пропущенными значениями в тестовой выборке - \\\n",
    "{(data_test.shape[0] - data_test.dropna().shape[0])}, что составляет \\\n",
    "{100 *(data_test.shape[0] - data_test.dropna().shape[0])/data_test.shape[0]}%')\n",
    "\n",
    "print(f'Кол-во строк с пропущенными значениями в исходной выборке - \\\n",
    "{(data_full.shape[0] - data_full.dropna().shape[0])}, что составляет \\\n",
    "{100 *(data_full.shape[0] - data_full.dropna().shape[0])/data_full.shape[0]}%')"
   ]
  },
  {
   "cell_type": "markdown",
   "metadata": {},
   "source": [
    "**Вывод:** Мы заменили пропущенные значения предыдущим измерением во всех выборках."
   ]
  },
  {
   "cell_type": "markdown",
   "metadata": {},
   "source": [
    "#### Удаление ненужных полей"
   ]
  },
  {
   "cell_type": "markdown",
   "metadata": {},
   "source": [
    "Сначала добавим столбцы с целевыми признаками в тестовую выборку. Объединение сделаем по дате."
   ]
  },
  {
   "cell_type": "code",
   "execution_count": 19,
   "metadata": {
    "scrolled": true
   },
   "outputs": [],
   "source": [
    "data_test = data_test.merge(data_full[['date','rougher.output.recovery','final.output.recovery']], on='date')"
   ]
  },
  {
   "cell_type": "markdown",
   "metadata": {},
   "source": [
    "Удалим из обучающей выборки ненужные столбцы `output` и `calculation` кроме столбцов с `recovery`. Также удалим столбец `date` из обучающего и тестового набора данных, т.к. этот столбец не несет никакой ценности для обучения модели."
   ]
  },
  {
   "cell_type": "code",
   "execution_count": 20,
   "metadata": {},
   "outputs": [
    {
     "name": "stdout",
     "output_type": "stream",
     "text": [
      "<class 'pandas.core.frame.DataFrame'>\n",
      "RangeIndex: 14579 entries, 0 to 14578\n",
      "Data columns (total 54 columns):\n",
      " #   Column                                      Non-Null Count  Dtype  \n",
      "---  ------                                      --------------  -----  \n",
      " 0   rougher.input.feed_au                       14579 non-null  float64\n",
      " 1   rougher.input.feed_ag                       14579 non-null  float64\n",
      " 2   rougher.input.feed_pb                       14579 non-null  float64\n",
      " 3   rougher.input.feed_sol                      14579 non-null  float64\n",
      " 4   rougher.input.feed_rate                     14579 non-null  float64\n",
      " 5   rougher.input.feed_size                     14579 non-null  float64\n",
      " 6   rougher.input.floatbank10_sulfate           14579 non-null  float64\n",
      " 7   rougher.input.floatbank10_xanthate          14579 non-null  float64\n",
      " 8   rougher.state.floatbank10_a_air             14579 non-null  float64\n",
      " 9   rougher.state.floatbank10_a_level           14579 non-null  float64\n",
      " 10  rougher.state.floatbank10_b_air             14579 non-null  float64\n",
      " 11  rougher.state.floatbank10_b_level           14579 non-null  float64\n",
      " 12  rougher.state.floatbank10_c_air             14579 non-null  float64\n",
      " 13  rougher.state.floatbank10_c_level           14579 non-null  float64\n",
      " 14  rougher.state.floatbank10_d_air             14579 non-null  float64\n",
      " 15  rougher.state.floatbank10_d_level           14579 non-null  float64\n",
      " 16  rougher.state.floatbank10_e_air             14579 non-null  float64\n",
      " 17  rougher.state.floatbank10_e_level           14579 non-null  float64\n",
      " 18  rougher.state.floatbank10_f_air             14579 non-null  float64\n",
      " 19  rougher.state.floatbank10_f_level           14579 non-null  float64\n",
      " 20  rougher.input.floatbank11_sulfate           14579 non-null  float64\n",
      " 21  rougher.input.floatbank11_xanthate          14579 non-null  float64\n",
      " 22  rougher.output.recovery                     14579 non-null  float64\n",
      " 23  primary_cleaner.input.sulfate               14579 non-null  float64\n",
      " 24  primary_cleaner.input.depressant            14579 non-null  float64\n",
      " 25  primary_cleaner.input.feed_size             14579 non-null  float64\n",
      " 26  primary_cleaner.input.xanthate              14579 non-null  float64\n",
      " 27  primary_cleaner.state.floatbank8_a_air      14579 non-null  float64\n",
      " 28  primary_cleaner.state.floatbank8_a_level    14579 non-null  float64\n",
      " 29  primary_cleaner.state.floatbank8_b_air      14579 non-null  float64\n",
      " 30  primary_cleaner.state.floatbank8_b_level    14579 non-null  float64\n",
      " 31  primary_cleaner.state.floatbank8_c_air      14579 non-null  float64\n",
      " 32  primary_cleaner.state.floatbank8_c_level    14579 non-null  float64\n",
      " 33  primary_cleaner.state.floatbank8_d_air      14579 non-null  float64\n",
      " 34  primary_cleaner.state.floatbank8_d_level    14579 non-null  float64\n",
      " 35  secondary_cleaner.state.floatbank2_a_air    14579 non-null  float64\n",
      " 36  secondary_cleaner.state.floatbank2_a_level  14579 non-null  float64\n",
      " 37  secondary_cleaner.state.floatbank2_b_air    14579 non-null  float64\n",
      " 38  secondary_cleaner.state.floatbank2_b_level  14579 non-null  float64\n",
      " 39  secondary_cleaner.state.floatbank3_a_air    14579 non-null  float64\n",
      " 40  secondary_cleaner.state.floatbank3_a_level  14579 non-null  float64\n",
      " 41  secondary_cleaner.state.floatbank3_b_air    14579 non-null  float64\n",
      " 42  secondary_cleaner.state.floatbank3_b_level  14579 non-null  float64\n",
      " 43  secondary_cleaner.state.floatbank4_a_air    14579 non-null  float64\n",
      " 44  secondary_cleaner.state.floatbank4_a_level  14579 non-null  float64\n",
      " 45  secondary_cleaner.state.floatbank4_b_air    14579 non-null  float64\n",
      " 46  secondary_cleaner.state.floatbank4_b_level  14579 non-null  float64\n",
      " 47  secondary_cleaner.state.floatbank5_a_air    14579 non-null  float64\n",
      " 48  secondary_cleaner.state.floatbank5_a_level  14579 non-null  float64\n",
      " 49  secondary_cleaner.state.floatbank5_b_air    14579 non-null  float64\n",
      " 50  secondary_cleaner.state.floatbank5_b_level  14579 non-null  float64\n",
      " 51  secondary_cleaner.state.floatbank6_a_air    14579 non-null  float64\n",
      " 52  secondary_cleaner.state.floatbank6_a_level  14579 non-null  float64\n",
      " 53  final.output.recovery                       14579 non-null  float64\n",
      "dtypes: float64(54)\n",
      "memory usage: 6.0 MB\n",
      "None\n",
      "<class 'pandas.core.frame.DataFrame'>\n",
      "Int64Index: 4860 entries, 0 to 4859\n",
      "Data columns (total 54 columns):\n",
      " #   Column                                      Non-Null Count  Dtype  \n",
      "---  ------                                      --------------  -----  \n",
      " 0   rougher.input.feed_au                       4860 non-null   float64\n",
      " 1   rougher.input.feed_ag                       4860 non-null   float64\n",
      " 2   rougher.input.feed_pb                       4860 non-null   float64\n",
      " 3   rougher.input.feed_sol                      4860 non-null   float64\n",
      " 4   rougher.input.feed_rate                     4860 non-null   float64\n",
      " 5   rougher.input.feed_size                     4860 non-null   float64\n",
      " 6   rougher.input.floatbank10_sulfate           4860 non-null   float64\n",
      " 7   rougher.input.floatbank10_xanthate          4860 non-null   float64\n",
      " 8   rougher.state.floatbank10_a_air             4860 non-null   float64\n",
      " 9   rougher.state.floatbank10_a_level           4860 non-null   float64\n",
      " 10  rougher.state.floatbank10_b_air             4860 non-null   float64\n",
      " 11  rougher.state.floatbank10_b_level           4860 non-null   float64\n",
      " 12  rougher.state.floatbank10_c_air             4860 non-null   float64\n",
      " 13  rougher.state.floatbank10_c_level           4860 non-null   float64\n",
      " 14  rougher.state.floatbank10_d_air             4860 non-null   float64\n",
      " 15  rougher.state.floatbank10_d_level           4860 non-null   float64\n",
      " 16  rougher.state.floatbank10_e_air             4860 non-null   float64\n",
      " 17  rougher.state.floatbank10_e_level           4860 non-null   float64\n",
      " 18  rougher.state.floatbank10_f_air             4860 non-null   float64\n",
      " 19  rougher.state.floatbank10_f_level           4860 non-null   float64\n",
      " 20  rougher.input.floatbank11_sulfate           4860 non-null   float64\n",
      " 21  rougher.input.floatbank11_xanthate          4860 non-null   float64\n",
      " 22  primary_cleaner.input.sulfate               4860 non-null   float64\n",
      " 23  primary_cleaner.input.depressant            4860 non-null   float64\n",
      " 24  primary_cleaner.input.feed_size             4860 non-null   float64\n",
      " 25  primary_cleaner.input.xanthate              4860 non-null   float64\n",
      " 26  primary_cleaner.state.floatbank8_a_air      4860 non-null   float64\n",
      " 27  primary_cleaner.state.floatbank8_a_level    4860 non-null   float64\n",
      " 28  primary_cleaner.state.floatbank8_b_air      4860 non-null   float64\n",
      " 29  primary_cleaner.state.floatbank8_b_level    4860 non-null   float64\n",
      " 30  primary_cleaner.state.floatbank8_c_air      4860 non-null   float64\n",
      " 31  primary_cleaner.state.floatbank8_c_level    4860 non-null   float64\n",
      " 32  primary_cleaner.state.floatbank8_d_air      4860 non-null   float64\n",
      " 33  primary_cleaner.state.floatbank8_d_level    4860 non-null   float64\n",
      " 34  secondary_cleaner.state.floatbank2_a_air    4860 non-null   float64\n",
      " 35  secondary_cleaner.state.floatbank2_a_level  4860 non-null   float64\n",
      " 36  secondary_cleaner.state.floatbank2_b_air    4860 non-null   float64\n",
      " 37  secondary_cleaner.state.floatbank2_b_level  4860 non-null   float64\n",
      " 38  secondary_cleaner.state.floatbank3_a_air    4860 non-null   float64\n",
      " 39  secondary_cleaner.state.floatbank3_a_level  4860 non-null   float64\n",
      " 40  secondary_cleaner.state.floatbank3_b_air    4860 non-null   float64\n",
      " 41  secondary_cleaner.state.floatbank3_b_level  4860 non-null   float64\n",
      " 42  secondary_cleaner.state.floatbank4_a_air    4860 non-null   float64\n",
      " 43  secondary_cleaner.state.floatbank4_a_level  4860 non-null   float64\n",
      " 44  secondary_cleaner.state.floatbank4_b_air    4860 non-null   float64\n",
      " 45  secondary_cleaner.state.floatbank4_b_level  4860 non-null   float64\n",
      " 46  secondary_cleaner.state.floatbank5_a_air    4860 non-null   float64\n",
      " 47  secondary_cleaner.state.floatbank5_a_level  4860 non-null   float64\n",
      " 48  secondary_cleaner.state.floatbank5_b_air    4860 non-null   float64\n",
      " 49  secondary_cleaner.state.floatbank5_b_level  4860 non-null   float64\n",
      " 50  secondary_cleaner.state.floatbank6_a_air    4860 non-null   float64\n",
      " 51  secondary_cleaner.state.floatbank6_a_level  4860 non-null   float64\n",
      " 52  rougher.output.recovery                     4860 non-null   float64\n",
      " 53  final.output.recovery                       4860 non-null   float64\n",
      "dtypes: float64(54)\n",
      "memory usage: 2.0 MB\n",
      "None\n"
     ]
    }
   ],
   "source": [
    "columns = data_train.columns.difference(data_test.columns)\n",
    "data_train = data_train.drop([*columns, 'date'], axis=1)\n",
    "data_test = data_test.drop(['date'], axis=1)\n",
    "print(data_train.info())\n",
    "print(data_test.info())"
   ]
  },
  {
   "cell_type": "markdown",
   "metadata": {},
   "source": [
    "Все верно"
   ]
  },
  {
   "cell_type": "markdown",
   "metadata": {},
   "source": [
    "#### Масштабирование признаков"
   ]
  },
  {
   "cell_type": "markdown",
   "metadata": {},
   "source": [
    "На примере обучающей выборки проверим разброс числовых значений."
   ]
  },
  {
   "cell_type": "code",
   "execution_count": 21,
   "metadata": {
    "scrolled": true
   },
   "outputs": [
    {
     "data": {
      "text/html": [
       "<div>\n",
       "<style scoped>\n",
       "    .dataframe tbody tr th:only-of-type {\n",
       "        vertical-align: middle;\n",
       "    }\n",
       "\n",
       "    .dataframe tbody tr th {\n",
       "        vertical-align: top;\n",
       "    }\n",
       "\n",
       "    .dataframe thead th {\n",
       "        text-align: right;\n",
       "    }\n",
       "</style>\n",
       "<table border=\"1\" class=\"dataframe\">\n",
       "  <thead>\n",
       "    <tr style=\"text-align: right;\">\n",
       "      <th></th>\n",
       "      <th>count</th>\n",
       "      <th>mean</th>\n",
       "      <th>std</th>\n",
       "      <th>min</th>\n",
       "      <th>25%</th>\n",
       "      <th>50%</th>\n",
       "      <th>75%</th>\n",
       "      <th>max</th>\n",
       "    </tr>\n",
       "  </thead>\n",
       "  <tbody>\n",
       "    <tr>\n",
       "      <th>rougher.input.feed_au</th>\n",
       "      <td>14579.0</td>\n",
       "      <td>8.352941</td>\n",
       "      <td>1.934376</td>\n",
       "      <td>1.000000e-02</td>\n",
       "      <td>6.932996</td>\n",
       "      <td>8.225284</td>\n",
       "      <td>9.832210</td>\n",
       "      <td>13.731330</td>\n",
       "    </tr>\n",
       "    <tr>\n",
       "      <th>rougher.input.feed_ag</th>\n",
       "      <td>14579.0</td>\n",
       "      <td>8.877460</td>\n",
       "      <td>1.922536</td>\n",
       "      <td>1.000000e-02</td>\n",
       "      <td>7.341922</td>\n",
       "      <td>8.715859</td>\n",
       "      <td>10.255843</td>\n",
       "      <td>14.596026</td>\n",
       "    </tr>\n",
       "    <tr>\n",
       "      <th>rougher.input.feed_pb</th>\n",
       "      <td>14579.0</td>\n",
       "      <td>3.592094</td>\n",
       "      <td>1.068227</td>\n",
       "      <td>1.000000e-02</td>\n",
       "      <td>2.868687</td>\n",
       "      <td>3.524599</td>\n",
       "      <td>4.253958</td>\n",
       "      <td>7.052325</td>\n",
       "    </tr>\n",
       "    <tr>\n",
       "      <th>rougher.input.feed_sol</th>\n",
       "      <td>14579.0</td>\n",
       "      <td>36.545646</td>\n",
       "      <td>5.221540</td>\n",
       "      <td>1.000000e-02</td>\n",
       "      <td>34.076253</td>\n",
       "      <td>37.091668</td>\n",
       "      <td>39.885734</td>\n",
       "      <td>53.475325</td>\n",
       "    </tr>\n",
       "    <tr>\n",
       "      <th>rougher.input.feed_rate</th>\n",
       "      <td>14579.0</td>\n",
       "      <td>474.284502</td>\n",
       "      <td>108.540067</td>\n",
       "      <td>2.985849e-03</td>\n",
       "      <td>411.020607</td>\n",
       "      <td>498.144696</td>\n",
       "      <td>549.576867</td>\n",
       "      <td>717.508837</td>\n",
       "    </tr>\n",
       "    <tr>\n",
       "      <th>rougher.input.feed_size</th>\n",
       "      <td>14579.0</td>\n",
       "      <td>59.070865</td>\n",
       "      <td>22.903811</td>\n",
       "      <td>4.919367e-02</td>\n",
       "      <td>47.322462</td>\n",
       "      <td>54.464259</td>\n",
       "      <td>64.469177</td>\n",
       "      <td>484.967466</td>\n",
       "    </tr>\n",
       "    <tr>\n",
       "      <th>rougher.input.floatbank10_sulfate</th>\n",
       "      <td>14579.0</td>\n",
       "      <td>12.406554</td>\n",
       "      <td>3.460023</td>\n",
       "      <td>1.083112e-03</td>\n",
       "      <td>10.002228</td>\n",
       "      <td>12.003079</td>\n",
       "      <td>14.917931</td>\n",
       "      <td>36.118275</td>\n",
       "    </tr>\n",
       "    <tr>\n",
       "      <th>rougher.input.floatbank10_xanthate</th>\n",
       "      <td>14579.0</td>\n",
       "      <td>5.993247</td>\n",
       "      <td>1.155053</td>\n",
       "      <td>5.682328e-04</td>\n",
       "      <td>5.303563</td>\n",
       "      <td>6.003001</td>\n",
       "      <td>6.796563</td>\n",
       "      <td>9.703448</td>\n",
       "    </tr>\n",
       "    <tr>\n",
       "      <th>rougher.state.floatbank10_a_air</th>\n",
       "      <td>14579.0</td>\n",
       "      <td>1104.208278</td>\n",
       "      <td>162.235606</td>\n",
       "      <td>-4.206929e-02</td>\n",
       "      <td>999.644856</td>\n",
       "      <td>1000.982624</td>\n",
       "      <td>1292.663971</td>\n",
       "      <td>1512.299531</td>\n",
       "    </tr>\n",
       "    <tr>\n",
       "      <th>rougher.state.floatbank10_a_level</th>\n",
       "      <td>14579.0</td>\n",
       "      <td>-379.367166</td>\n",
       "      <td>94.652311</td>\n",
       "      <td>-6.579498e+02</td>\n",
       "      <td>-499.861797</td>\n",
       "      <td>-300.314199</td>\n",
       "      <td>-299.989315</td>\n",
       "      <td>-273.776101</td>\n",
       "    </tr>\n",
       "    <tr>\n",
       "      <th>rougher.state.floatbank10_b_air</th>\n",
       "      <td>14579.0</td>\n",
       "      <td>1322.845805</td>\n",
       "      <td>181.612353</td>\n",
       "      <td>-7.218064e-01</td>\n",
       "      <td>1199.563063</td>\n",
       "      <td>1302.379807</td>\n",
       "      <td>1449.971526</td>\n",
       "      <td>1809.194008</td>\n",
       "    </tr>\n",
       "    <tr>\n",
       "      <th>rougher.state.floatbank10_b_level</th>\n",
       "      <td>14579.0</td>\n",
       "      <td>-465.495165</td>\n",
       "      <td>56.220206</td>\n",
       "      <td>-6.502600e+02</td>\n",
       "      <td>-500.195180</td>\n",
       "      <td>-499.767998</td>\n",
       "      <td>-400.490924</td>\n",
       "      <td>-296.383080</td>\n",
       "    </tr>\n",
       "    <tr>\n",
       "      <th>rougher.state.floatbank10_c_air</th>\n",
       "      <td>14579.0</td>\n",
       "      <td>1302.745258</td>\n",
       "      <td>209.728859</td>\n",
       "      <td>-5.663551e-02</td>\n",
       "      <td>1150.739645</td>\n",
       "      <td>1300.639429</td>\n",
       "      <td>1450.429812</td>\n",
       "      <td>2499.129174</td>\n",
       "    </tr>\n",
       "    <tr>\n",
       "      <th>rougher.state.floatbank10_c_level</th>\n",
       "      <td>14579.0</td>\n",
       "      <td>-465.988660</td>\n",
       "      <td>55.261827</td>\n",
       "      <td>-6.475444e+02</td>\n",
       "      <td>-500.214580</td>\n",
       "      <td>-499.693772</td>\n",
       "      <td>-400.793268</td>\n",
       "      <td>-292.155509</td>\n",
       "    </tr>\n",
       "    <tr>\n",
       "      <th>rougher.state.floatbank10_d_air</th>\n",
       "      <td>14579.0</td>\n",
       "      <td>1214.062375</td>\n",
       "      <td>210.056163</td>\n",
       "      <td>-9.922190e-01</td>\n",
       "      <td>1060.476511</td>\n",
       "      <td>1202.656040</td>\n",
       "      <td>1387.579519</td>\n",
       "      <td>1817.199290</td>\n",
       "    </tr>\n",
       "    <tr>\n",
       "      <th>rougher.state.floatbank10_d_level</th>\n",
       "      <td>14579.0</td>\n",
       "      <td>-466.526202</td>\n",
       "      <td>55.701015</td>\n",
       "      <td>-6.483907e+02</td>\n",
       "      <td>-500.369461</td>\n",
       "      <td>-499.511621</td>\n",
       "      <td>-401.231087</td>\n",
       "      <td>-76.397327</td>\n",
       "    </tr>\n",
       "    <tr>\n",
       "      <th>rougher.state.floatbank10_e_air</th>\n",
       "      <td>14579.0</td>\n",
       "      <td>1077.402291</td>\n",
       "      <td>177.782042</td>\n",
       "      <td>-1.982295e+00</td>\n",
       "      <td>996.752246</td>\n",
       "      <td>1049.767982</td>\n",
       "      <td>1199.291235</td>\n",
       "      <td>1922.636637</td>\n",
       "    </tr>\n",
       "    <tr>\n",
       "      <th>rougher.state.floatbank10_e_level</th>\n",
       "      <td>14579.0</td>\n",
       "      <td>-464.228268</td>\n",
       "      <td>59.132193</td>\n",
       "      <td>-6.494439e+02</td>\n",
       "      <td>-500.220652</td>\n",
       "      <td>-499.640275</td>\n",
       "      <td>-400.842206</td>\n",
       "      <td>-139.753025</td>\n",
       "    </tr>\n",
       "    <tr>\n",
       "      <th>rougher.state.floatbank10_f_air</th>\n",
       "      <td>14579.0</td>\n",
       "      <td>1025.775819</td>\n",
       "      <td>169.680255</td>\n",
       "      <td>-2.593390e+00</td>\n",
       "      <td>900.713144</td>\n",
       "      <td>999.870453</td>\n",
       "      <td>1099.789243</td>\n",
       "      <td>1706.307502</td>\n",
       "    </tr>\n",
       "    <tr>\n",
       "      <th>rougher.state.floatbank10_f_level</th>\n",
       "      <td>14579.0</td>\n",
       "      <td>-464.549373</td>\n",
       "      <td>59.622879</td>\n",
       "      <td>-6.499493e+02</td>\n",
       "      <td>-500.518102</td>\n",
       "      <td>-499.451154</td>\n",
       "      <td>-401.190552</td>\n",
       "      <td>-191.718480</td>\n",
       "    </tr>\n",
       "    <tr>\n",
       "      <th>rougher.input.floatbank11_sulfate</th>\n",
       "      <td>14579.0</td>\n",
       "      <td>12.093194</td>\n",
       "      <td>3.936742</td>\n",
       "      <td>7.673764e-05</td>\n",
       "      <td>9.999554</td>\n",
       "      <td>12.000739</td>\n",
       "      <td>14.827159</td>\n",
       "      <td>37.980648</td>\n",
       "    </tr>\n",
       "    <tr>\n",
       "      <th>rougher.input.floatbank11_xanthate</th>\n",
       "      <td>14579.0</td>\n",
       "      <td>5.962211</td>\n",
       "      <td>1.225105</td>\n",
       "      <td>2.904126e-04</td>\n",
       "      <td>5.301094</td>\n",
       "      <td>6.003439</td>\n",
       "      <td>6.799110</td>\n",
       "      <td>9.698407</td>\n",
       "    </tr>\n",
       "    <tr>\n",
       "      <th>rougher.output.recovery</th>\n",
       "      <td>14579.0</td>\n",
       "      <td>82.521200</td>\n",
       "      <td>15.797521</td>\n",
       "      <td>0.000000e+00</td>\n",
       "      <td>80.558542</td>\n",
       "      <td>85.946497</td>\n",
       "      <td>89.960375</td>\n",
       "      <td>100.000000</td>\n",
       "    </tr>\n",
       "    <tr>\n",
       "      <th>primary_cleaner.input.sulfate</th>\n",
       "      <td>14579.0</td>\n",
       "      <td>144.986735</td>\n",
       "      <td>45.306744</td>\n",
       "      <td>3.111820e-03</td>\n",
       "      <td>114.185941</td>\n",
       "      <td>144.597396</td>\n",
       "      <td>176.125075</td>\n",
       "      <td>265.983123</td>\n",
       "    </tr>\n",
       "    <tr>\n",
       "      <th>primary_cleaner.input.depressant</th>\n",
       "      <td>14579.0</td>\n",
       "      <td>8.852004</td>\n",
       "      <td>3.331524</td>\n",
       "      <td>0.000000e+00</td>\n",
       "      <td>6.148940</td>\n",
       "      <td>8.053901</td>\n",
       "      <td>11.060357</td>\n",
       "      <td>40.000000</td>\n",
       "    </tr>\n",
       "    <tr>\n",
       "      <th>primary_cleaner.input.feed_size</th>\n",
       "      <td>14579.0</td>\n",
       "      <td>7.307600</td>\n",
       "      <td>0.621609</td>\n",
       "      <td>1.080000e+00</td>\n",
       "      <td>6.940000</td>\n",
       "      <td>7.280000</td>\n",
       "      <td>7.689666</td>\n",
       "      <td>15.500000</td>\n",
       "    </tr>\n",
       "    <tr>\n",
       "      <th>primary_cleaner.input.xanthate</th>\n",
       "      <td>14579.0</td>\n",
       "      <td>1.023934</td>\n",
       "      <td>0.520318</td>\n",
       "      <td>4.632753e-06</td>\n",
       "      <td>0.695508</td>\n",
       "      <td>0.952996</td>\n",
       "      <td>1.220673</td>\n",
       "      <td>4.102454</td>\n",
       "    </tr>\n",
       "    <tr>\n",
       "      <th>primary_cleaner.state.floatbank8_a_air</th>\n",
       "      <td>14579.0</td>\n",
       "      <td>1589.693672</td>\n",
       "      <td>130.315644</td>\n",
       "      <td>5.445860e-32</td>\n",
       "      <td>1504.974645</td>\n",
       "      <td>1600.686404</td>\n",
       "      <td>1697.830691</td>\n",
       "      <td>2103.103580</td>\n",
       "    </tr>\n",
       "    <tr>\n",
       "      <th>primary_cleaner.state.floatbank8_a_level</th>\n",
       "      <td>14579.0</td>\n",
       "      <td>-492.185489</td>\n",
       "      <td>30.827141</td>\n",
       "      <td>-7.986417e+02</td>\n",
       "      <td>-500.320169</td>\n",
       "      <td>-499.935617</td>\n",
       "      <td>-499.457104</td>\n",
       "      <td>-57.195404</td>\n",
       "    </tr>\n",
       "    <tr>\n",
       "      <th>primary_cleaner.state.floatbank8_b_air</th>\n",
       "      <td>14579.0</td>\n",
       "      <td>1592.047391</td>\n",
       "      <td>131.705352</td>\n",
       "      <td>6.647490e-32</td>\n",
       "      <td>1505.262935</td>\n",
       "      <td>1600.561895</td>\n",
       "      <td>1699.150223</td>\n",
       "      <td>2114.906758</td>\n",
       "    </tr>\n",
       "    <tr>\n",
       "      <th>primary_cleaner.state.floatbank8_b_level</th>\n",
       "      <td>14579.0</td>\n",
       "      <td>-492.838585</td>\n",
       "      <td>33.288228</td>\n",
       "      <td>-7.999970e+02</td>\n",
       "      <td>-500.440327</td>\n",
       "      <td>-499.962584</td>\n",
       "      <td>-499.383154</td>\n",
       "      <td>-142.527229</td>\n",
       "    </tr>\n",
       "    <tr>\n",
       "      <th>primary_cleaner.state.floatbank8_c_air</th>\n",
       "      <td>14579.0</td>\n",
       "      <td>1585.923933</td>\n",
       "      <td>137.229160</td>\n",
       "      <td>4.033736e-32</td>\n",
       "      <td>1500.845053</td>\n",
       "      <td>1600.225842</td>\n",
       "      <td>1699.482362</td>\n",
       "      <td>2013.156457</td>\n",
       "    </tr>\n",
       "    <tr>\n",
       "      <th>primary_cleaner.state.floatbank8_c_level</th>\n",
       "      <td>14579.0</td>\n",
       "      <td>-492.726140</td>\n",
       "      <td>32.359161</td>\n",
       "      <td>-7.999606e+02</td>\n",
       "      <td>-500.709838</td>\n",
       "      <td>-499.914492</td>\n",
       "      <td>-498.899663</td>\n",
       "      <td>-150.937035</td>\n",
       "    </tr>\n",
       "    <tr>\n",
       "      <th>primary_cleaner.state.floatbank8_d_air</th>\n",
       "      <td>14579.0</td>\n",
       "      <td>1547.177880</td>\n",
       "      <td>242.708641</td>\n",
       "      <td>4.039220e-32</td>\n",
       "      <td>1497.966157</td>\n",
       "      <td>1599.493227</td>\n",
       "      <td>1698.396291</td>\n",
       "      <td>2398.903635</td>\n",
       "    </tr>\n",
       "    <tr>\n",
       "      <th>primary_cleaner.state.floatbank8_d_level</th>\n",
       "      <td>14579.0</td>\n",
       "      <td>-488.724249</td>\n",
       "      <td>44.157594</td>\n",
       "      <td>-7.997943e+02</td>\n",
       "      <td>-500.464464</td>\n",
       "      <td>-499.916753</td>\n",
       "      <td>-499.137048</td>\n",
       "      <td>-30.601828</td>\n",
       "    </tr>\n",
       "    <tr>\n",
       "      <th>secondary_cleaner.state.floatbank2_a_air</th>\n",
       "      <td>14579.0</td>\n",
       "      <td>28.475151</td>\n",
       "      <td>5.480148</td>\n",
       "      <td>7.750256e-02</td>\n",
       "      <td>25.035881</td>\n",
       "      <td>28.991839</td>\n",
       "      <td>32.875776</td>\n",
       "      <td>52.651399</td>\n",
       "    </tr>\n",
       "    <tr>\n",
       "      <th>secondary_cleaner.state.floatbank2_a_level</th>\n",
       "      <td>14579.0</td>\n",
       "      <td>-503.321444</td>\n",
       "      <td>56.555780</td>\n",
       "      <td>-7.996058e+02</td>\n",
       "      <td>-500.240915</td>\n",
       "      <td>-499.975415</td>\n",
       "      <td>-499.668396</td>\n",
       "      <td>-127.875565</td>\n",
       "    </tr>\n",
       "    <tr>\n",
       "      <th>secondary_cleaner.state.floatbank2_b_air</th>\n",
       "      <td>14579.0</td>\n",
       "      <td>23.883064</td>\n",
       "      <td>5.846504</td>\n",
       "      <td>0.000000e+00</td>\n",
       "      <td>20.082163</td>\n",
       "      <td>24.986711</td>\n",
       "      <td>27.996850</td>\n",
       "      <td>35.152122</td>\n",
       "    </tr>\n",
       "    <tr>\n",
       "      <th>secondary_cleaner.state.floatbank2_b_level</th>\n",
       "      <td>14579.0</td>\n",
       "      <td>-504.455206</td>\n",
       "      <td>60.219739</td>\n",
       "      <td>-7.998703e+02</td>\n",
       "      <td>-500.264871</td>\n",
       "      <td>-500.017709</td>\n",
       "      <td>-499.786233</td>\n",
       "      <td>-211.999273</td>\n",
       "    </tr>\n",
       "    <tr>\n",
       "      <th>secondary_cleaner.state.floatbank3_a_air</th>\n",
       "      <td>14579.0</td>\n",
       "      <td>27.949792</td>\n",
       "      <td>6.145120</td>\n",
       "      <td>0.000000e+00</td>\n",
       "      <td>24.708814</td>\n",
       "      <td>27.966037</td>\n",
       "      <td>32.981383</td>\n",
       "      <td>44.260464</td>\n",
       "    </tr>\n",
       "    <tr>\n",
       "      <th>secondary_cleaner.state.floatbank3_a_level</th>\n",
       "      <td>14579.0</td>\n",
       "      <td>-485.112844</td>\n",
       "      <td>55.205693</td>\n",
       "      <td>-7.997558e+02</td>\n",
       "      <td>-500.214111</td>\n",
       "      <td>-499.922655</td>\n",
       "      <td>-499.233769</td>\n",
       "      <td>-191.678810</td>\n",
       "    </tr>\n",
       "    <tr>\n",
       "      <th>secondary_cleaner.state.floatbank3_b_air</th>\n",
       "      <td>14579.0</td>\n",
       "      <td>22.056638</td>\n",
       "      <td>5.605309</td>\n",
       "      <td>0.000000e+00</td>\n",
       "      <td>18.990660</td>\n",
       "      <td>21.995308</td>\n",
       "      <td>25.979469</td>\n",
       "      <td>35.072841</td>\n",
       "    </tr>\n",
       "    <tr>\n",
       "      <th>secondary_cleaner.state.floatbank3_b_level</th>\n",
       "      <td>14579.0</td>\n",
       "      <td>-493.400930</td>\n",
       "      <td>44.228650</td>\n",
       "      <td>-8.093330e+02</td>\n",
       "      <td>-500.123568</td>\n",
       "      <td>-499.980765</td>\n",
       "      <td>-499.808121</td>\n",
       "      <td>-159.742331</td>\n",
       "    </tr>\n",
       "    <tr>\n",
       "      <th>secondary_cleaner.state.floatbank4_a_air</th>\n",
       "      <td>14579.0</td>\n",
       "      <td>18.692961</td>\n",
       "      <td>5.206092</td>\n",
       "      <td>0.000000e+00</td>\n",
       "      <td>14.962791</td>\n",
       "      <td>18.005232</td>\n",
       "      <td>22.976901</td>\n",
       "      <td>30.115735</td>\n",
       "    </tr>\n",
       "    <tr>\n",
       "      <th>secondary_cleaner.state.floatbank4_a_level</th>\n",
       "      <td>14579.0</td>\n",
       "      <td>-484.971102</td>\n",
       "      <td>48.795359</td>\n",
       "      <td>-7.997985e+02</td>\n",
       "      <td>-500.704937</td>\n",
       "      <td>-499.820809</td>\n",
       "      <td>-498.048862</td>\n",
       "      <td>-245.239184</td>\n",
       "    </tr>\n",
       "    <tr>\n",
       "      <th>secondary_cleaner.state.floatbank4_b_air</th>\n",
       "      <td>14579.0</td>\n",
       "      <td>14.823764</td>\n",
       "      <td>4.863659</td>\n",
       "      <td>0.000000e+00</td>\n",
       "      <td>11.889685</td>\n",
       "      <td>14.957945</td>\n",
       "      <td>17.125406</td>\n",
       "      <td>31.269706</td>\n",
       "    </tr>\n",
       "    <tr>\n",
       "      <th>secondary_cleaner.state.floatbank4_b_level</th>\n",
       "      <td>14579.0</td>\n",
       "      <td>-460.046154</td>\n",
       "      <td>67.933026</td>\n",
       "      <td>-8.008369e+02</td>\n",
       "      <td>-500.184081</td>\n",
       "      <td>-499.424528</td>\n",
       "      <td>-400.083087</td>\n",
       "      <td>-6.506986</td>\n",
       "    </tr>\n",
       "    <tr>\n",
       "      <th>secondary_cleaner.state.floatbank5_a_air</th>\n",
       "      <td>14579.0</td>\n",
       "      <td>15.394610</td>\n",
       "      <td>5.405045</td>\n",
       "      <td>-3.720540e-01</td>\n",
       "      <td>10.977413</td>\n",
       "      <td>14.963654</td>\n",
       "      <td>18.012762</td>\n",
       "      <td>43.709931</td>\n",
       "    </tr>\n",
       "    <tr>\n",
       "      <th>secondary_cleaner.state.floatbank5_a_level</th>\n",
       "      <td>14579.0</td>\n",
       "      <td>-487.973768</td>\n",
       "      <td>35.231439</td>\n",
       "      <td>-7.973240e+02</td>\n",
       "      <td>-500.451167</td>\n",
       "      <td>-499.772653</td>\n",
       "      <td>-498.182011</td>\n",
       "      <td>-244.483566</td>\n",
       "    </tr>\n",
       "    <tr>\n",
       "      <th>secondary_cleaner.state.floatbank5_b_air</th>\n",
       "      <td>14579.0</td>\n",
       "      <td>11.949009</td>\n",
       "      <td>5.241169</td>\n",
       "      <td>5.280828e-01</td>\n",
       "      <td>8.947381</td>\n",
       "      <td>11.000057</td>\n",
       "      <td>14.002573</td>\n",
       "      <td>27.926001</td>\n",
       "    </tr>\n",
       "    <tr>\n",
       "      <th>secondary_cleaner.state.floatbank5_b_level</th>\n",
       "      <td>14579.0</td>\n",
       "      <td>-486.338692</td>\n",
       "      <td>38.726292</td>\n",
       "      <td>-8.002203e+02</td>\n",
       "      <td>-500.129137</td>\n",
       "      <td>-499.926255</td>\n",
       "      <td>-499.285414</td>\n",
       "      <td>-137.740004</td>\n",
       "    </tr>\n",
       "    <tr>\n",
       "      <th>secondary_cleaner.state.floatbank6_a_air</th>\n",
       "      <td>14579.0</td>\n",
       "      <td>18.927133</td>\n",
       "      <td>5.550736</td>\n",
       "      <td>-7.942623e-02</td>\n",
       "      <td>14.985684</td>\n",
       "      <td>19.960781</td>\n",
       "      <td>23.038231</td>\n",
       "      <td>32.188906</td>\n",
       "    </tr>\n",
       "    <tr>\n",
       "      <th>secondary_cleaner.state.floatbank6_a_level</th>\n",
       "      <td>14579.0</td>\n",
       "      <td>-505.688730</td>\n",
       "      <td>37.347370</td>\n",
       "      <td>-8.097415e+02</td>\n",
       "      <td>-500.755346</td>\n",
       "      <td>-500.054273</td>\n",
       "      <td>-499.506135</td>\n",
       "      <td>-123.307487</td>\n",
       "    </tr>\n",
       "    <tr>\n",
       "      <th>final.output.recovery</th>\n",
       "      <td>14579.0</td>\n",
       "      <td>66.759066</td>\n",
       "      <td>10.619709</td>\n",
       "      <td>0.000000e+00</td>\n",
       "      <td>63.114596</td>\n",
       "      <td>67.962788</td>\n",
       "      <td>72.598187</td>\n",
       "      <td>100.000000</td>\n",
       "    </tr>\n",
       "  </tbody>\n",
       "</table>\n",
       "</div>"
      ],
      "text/plain": [
       "                                              count         mean         std  \\\n",
       "rougher.input.feed_au                       14579.0     8.352941    1.934376   \n",
       "rougher.input.feed_ag                       14579.0     8.877460    1.922536   \n",
       "rougher.input.feed_pb                       14579.0     3.592094    1.068227   \n",
       "rougher.input.feed_sol                      14579.0    36.545646    5.221540   \n",
       "rougher.input.feed_rate                     14579.0   474.284502  108.540067   \n",
       "rougher.input.feed_size                     14579.0    59.070865   22.903811   \n",
       "rougher.input.floatbank10_sulfate           14579.0    12.406554    3.460023   \n",
       "rougher.input.floatbank10_xanthate          14579.0     5.993247    1.155053   \n",
       "rougher.state.floatbank10_a_air             14579.0  1104.208278  162.235606   \n",
       "rougher.state.floatbank10_a_level           14579.0  -379.367166   94.652311   \n",
       "rougher.state.floatbank10_b_air             14579.0  1322.845805  181.612353   \n",
       "rougher.state.floatbank10_b_level           14579.0  -465.495165   56.220206   \n",
       "rougher.state.floatbank10_c_air             14579.0  1302.745258  209.728859   \n",
       "rougher.state.floatbank10_c_level           14579.0  -465.988660   55.261827   \n",
       "rougher.state.floatbank10_d_air             14579.0  1214.062375  210.056163   \n",
       "rougher.state.floatbank10_d_level           14579.0  -466.526202   55.701015   \n",
       "rougher.state.floatbank10_e_air             14579.0  1077.402291  177.782042   \n",
       "rougher.state.floatbank10_e_level           14579.0  -464.228268   59.132193   \n",
       "rougher.state.floatbank10_f_air             14579.0  1025.775819  169.680255   \n",
       "rougher.state.floatbank10_f_level           14579.0  -464.549373   59.622879   \n",
       "rougher.input.floatbank11_sulfate           14579.0    12.093194    3.936742   \n",
       "rougher.input.floatbank11_xanthate          14579.0     5.962211    1.225105   \n",
       "rougher.output.recovery                     14579.0    82.521200   15.797521   \n",
       "primary_cleaner.input.sulfate               14579.0   144.986735   45.306744   \n",
       "primary_cleaner.input.depressant            14579.0     8.852004    3.331524   \n",
       "primary_cleaner.input.feed_size             14579.0     7.307600    0.621609   \n",
       "primary_cleaner.input.xanthate              14579.0     1.023934    0.520318   \n",
       "primary_cleaner.state.floatbank8_a_air      14579.0  1589.693672  130.315644   \n",
       "primary_cleaner.state.floatbank8_a_level    14579.0  -492.185489   30.827141   \n",
       "primary_cleaner.state.floatbank8_b_air      14579.0  1592.047391  131.705352   \n",
       "primary_cleaner.state.floatbank8_b_level    14579.0  -492.838585   33.288228   \n",
       "primary_cleaner.state.floatbank8_c_air      14579.0  1585.923933  137.229160   \n",
       "primary_cleaner.state.floatbank8_c_level    14579.0  -492.726140   32.359161   \n",
       "primary_cleaner.state.floatbank8_d_air      14579.0  1547.177880  242.708641   \n",
       "primary_cleaner.state.floatbank8_d_level    14579.0  -488.724249   44.157594   \n",
       "secondary_cleaner.state.floatbank2_a_air    14579.0    28.475151    5.480148   \n",
       "secondary_cleaner.state.floatbank2_a_level  14579.0  -503.321444   56.555780   \n",
       "secondary_cleaner.state.floatbank2_b_air    14579.0    23.883064    5.846504   \n",
       "secondary_cleaner.state.floatbank2_b_level  14579.0  -504.455206   60.219739   \n",
       "secondary_cleaner.state.floatbank3_a_air    14579.0    27.949792    6.145120   \n",
       "secondary_cleaner.state.floatbank3_a_level  14579.0  -485.112844   55.205693   \n",
       "secondary_cleaner.state.floatbank3_b_air    14579.0    22.056638    5.605309   \n",
       "secondary_cleaner.state.floatbank3_b_level  14579.0  -493.400930   44.228650   \n",
       "secondary_cleaner.state.floatbank4_a_air    14579.0    18.692961    5.206092   \n",
       "secondary_cleaner.state.floatbank4_a_level  14579.0  -484.971102   48.795359   \n",
       "secondary_cleaner.state.floatbank4_b_air    14579.0    14.823764    4.863659   \n",
       "secondary_cleaner.state.floatbank4_b_level  14579.0  -460.046154   67.933026   \n",
       "secondary_cleaner.state.floatbank5_a_air    14579.0    15.394610    5.405045   \n",
       "secondary_cleaner.state.floatbank5_a_level  14579.0  -487.973768   35.231439   \n",
       "secondary_cleaner.state.floatbank5_b_air    14579.0    11.949009    5.241169   \n",
       "secondary_cleaner.state.floatbank5_b_level  14579.0  -486.338692   38.726292   \n",
       "secondary_cleaner.state.floatbank6_a_air    14579.0    18.927133    5.550736   \n",
       "secondary_cleaner.state.floatbank6_a_level  14579.0  -505.688730   37.347370   \n",
       "final.output.recovery                       14579.0    66.759066   10.619709   \n",
       "\n",
       "                                                     min          25%  \\\n",
       "rougher.input.feed_au                       1.000000e-02     6.932996   \n",
       "rougher.input.feed_ag                       1.000000e-02     7.341922   \n",
       "rougher.input.feed_pb                       1.000000e-02     2.868687   \n",
       "rougher.input.feed_sol                      1.000000e-02    34.076253   \n",
       "rougher.input.feed_rate                     2.985849e-03   411.020607   \n",
       "rougher.input.feed_size                     4.919367e-02    47.322462   \n",
       "rougher.input.floatbank10_sulfate           1.083112e-03    10.002228   \n",
       "rougher.input.floatbank10_xanthate          5.682328e-04     5.303563   \n",
       "rougher.state.floatbank10_a_air            -4.206929e-02   999.644856   \n",
       "rougher.state.floatbank10_a_level          -6.579498e+02  -499.861797   \n",
       "rougher.state.floatbank10_b_air            -7.218064e-01  1199.563063   \n",
       "rougher.state.floatbank10_b_level          -6.502600e+02  -500.195180   \n",
       "rougher.state.floatbank10_c_air            -5.663551e-02  1150.739645   \n",
       "rougher.state.floatbank10_c_level          -6.475444e+02  -500.214580   \n",
       "rougher.state.floatbank10_d_air            -9.922190e-01  1060.476511   \n",
       "rougher.state.floatbank10_d_level          -6.483907e+02  -500.369461   \n",
       "rougher.state.floatbank10_e_air            -1.982295e+00   996.752246   \n",
       "rougher.state.floatbank10_e_level          -6.494439e+02  -500.220652   \n",
       "rougher.state.floatbank10_f_air            -2.593390e+00   900.713144   \n",
       "rougher.state.floatbank10_f_level          -6.499493e+02  -500.518102   \n",
       "rougher.input.floatbank11_sulfate           7.673764e-05     9.999554   \n",
       "rougher.input.floatbank11_xanthate          2.904126e-04     5.301094   \n",
       "rougher.output.recovery                     0.000000e+00    80.558542   \n",
       "primary_cleaner.input.sulfate               3.111820e-03   114.185941   \n",
       "primary_cleaner.input.depressant            0.000000e+00     6.148940   \n",
       "primary_cleaner.input.feed_size             1.080000e+00     6.940000   \n",
       "primary_cleaner.input.xanthate              4.632753e-06     0.695508   \n",
       "primary_cleaner.state.floatbank8_a_air      5.445860e-32  1504.974645   \n",
       "primary_cleaner.state.floatbank8_a_level   -7.986417e+02  -500.320169   \n",
       "primary_cleaner.state.floatbank8_b_air      6.647490e-32  1505.262935   \n",
       "primary_cleaner.state.floatbank8_b_level   -7.999970e+02  -500.440327   \n",
       "primary_cleaner.state.floatbank8_c_air      4.033736e-32  1500.845053   \n",
       "primary_cleaner.state.floatbank8_c_level   -7.999606e+02  -500.709838   \n",
       "primary_cleaner.state.floatbank8_d_air      4.039220e-32  1497.966157   \n",
       "primary_cleaner.state.floatbank8_d_level   -7.997943e+02  -500.464464   \n",
       "secondary_cleaner.state.floatbank2_a_air    7.750256e-02    25.035881   \n",
       "secondary_cleaner.state.floatbank2_a_level -7.996058e+02  -500.240915   \n",
       "secondary_cleaner.state.floatbank2_b_air    0.000000e+00    20.082163   \n",
       "secondary_cleaner.state.floatbank2_b_level -7.998703e+02  -500.264871   \n",
       "secondary_cleaner.state.floatbank3_a_air    0.000000e+00    24.708814   \n",
       "secondary_cleaner.state.floatbank3_a_level -7.997558e+02  -500.214111   \n",
       "secondary_cleaner.state.floatbank3_b_air    0.000000e+00    18.990660   \n",
       "secondary_cleaner.state.floatbank3_b_level -8.093330e+02  -500.123568   \n",
       "secondary_cleaner.state.floatbank4_a_air    0.000000e+00    14.962791   \n",
       "secondary_cleaner.state.floatbank4_a_level -7.997985e+02  -500.704937   \n",
       "secondary_cleaner.state.floatbank4_b_air    0.000000e+00    11.889685   \n",
       "secondary_cleaner.state.floatbank4_b_level -8.008369e+02  -500.184081   \n",
       "secondary_cleaner.state.floatbank5_a_air   -3.720540e-01    10.977413   \n",
       "secondary_cleaner.state.floatbank5_a_level -7.973240e+02  -500.451167   \n",
       "secondary_cleaner.state.floatbank5_b_air    5.280828e-01     8.947381   \n",
       "secondary_cleaner.state.floatbank5_b_level -8.002203e+02  -500.129137   \n",
       "secondary_cleaner.state.floatbank6_a_air   -7.942623e-02    14.985684   \n",
       "secondary_cleaner.state.floatbank6_a_level -8.097415e+02  -500.755346   \n",
       "final.output.recovery                       0.000000e+00    63.114596   \n",
       "\n",
       "                                                    50%          75%  \\\n",
       "rougher.input.feed_au                          8.225284     9.832210   \n",
       "rougher.input.feed_ag                          8.715859    10.255843   \n",
       "rougher.input.feed_pb                          3.524599     4.253958   \n",
       "rougher.input.feed_sol                        37.091668    39.885734   \n",
       "rougher.input.feed_rate                      498.144696   549.576867   \n",
       "rougher.input.feed_size                       54.464259    64.469177   \n",
       "rougher.input.floatbank10_sulfate             12.003079    14.917931   \n",
       "rougher.input.floatbank10_xanthate             6.003001     6.796563   \n",
       "rougher.state.floatbank10_a_air             1000.982624  1292.663971   \n",
       "rougher.state.floatbank10_a_level           -300.314199  -299.989315   \n",
       "rougher.state.floatbank10_b_air             1302.379807  1449.971526   \n",
       "rougher.state.floatbank10_b_level           -499.767998  -400.490924   \n",
       "rougher.state.floatbank10_c_air             1300.639429  1450.429812   \n",
       "rougher.state.floatbank10_c_level           -499.693772  -400.793268   \n",
       "rougher.state.floatbank10_d_air             1202.656040  1387.579519   \n",
       "rougher.state.floatbank10_d_level           -499.511621  -401.231087   \n",
       "rougher.state.floatbank10_e_air             1049.767982  1199.291235   \n",
       "rougher.state.floatbank10_e_level           -499.640275  -400.842206   \n",
       "rougher.state.floatbank10_f_air              999.870453  1099.789243   \n",
       "rougher.state.floatbank10_f_level           -499.451154  -401.190552   \n",
       "rougher.input.floatbank11_sulfate             12.000739    14.827159   \n",
       "rougher.input.floatbank11_xanthate             6.003439     6.799110   \n",
       "rougher.output.recovery                       85.946497    89.960375   \n",
       "primary_cleaner.input.sulfate                144.597396   176.125075   \n",
       "primary_cleaner.input.depressant               8.053901    11.060357   \n",
       "primary_cleaner.input.feed_size                7.280000     7.689666   \n",
       "primary_cleaner.input.xanthate                 0.952996     1.220673   \n",
       "primary_cleaner.state.floatbank8_a_air      1600.686404  1697.830691   \n",
       "primary_cleaner.state.floatbank8_a_level    -499.935617  -499.457104   \n",
       "primary_cleaner.state.floatbank8_b_air      1600.561895  1699.150223   \n",
       "primary_cleaner.state.floatbank8_b_level    -499.962584  -499.383154   \n",
       "primary_cleaner.state.floatbank8_c_air      1600.225842  1699.482362   \n",
       "primary_cleaner.state.floatbank8_c_level    -499.914492  -498.899663   \n",
       "primary_cleaner.state.floatbank8_d_air      1599.493227  1698.396291   \n",
       "primary_cleaner.state.floatbank8_d_level    -499.916753  -499.137048   \n",
       "secondary_cleaner.state.floatbank2_a_air      28.991839    32.875776   \n",
       "secondary_cleaner.state.floatbank2_a_level  -499.975415  -499.668396   \n",
       "secondary_cleaner.state.floatbank2_b_air      24.986711    27.996850   \n",
       "secondary_cleaner.state.floatbank2_b_level  -500.017709  -499.786233   \n",
       "secondary_cleaner.state.floatbank3_a_air      27.966037    32.981383   \n",
       "secondary_cleaner.state.floatbank3_a_level  -499.922655  -499.233769   \n",
       "secondary_cleaner.state.floatbank3_b_air      21.995308    25.979469   \n",
       "secondary_cleaner.state.floatbank3_b_level  -499.980765  -499.808121   \n",
       "secondary_cleaner.state.floatbank4_a_air      18.005232    22.976901   \n",
       "secondary_cleaner.state.floatbank4_a_level  -499.820809  -498.048862   \n",
       "secondary_cleaner.state.floatbank4_b_air      14.957945    17.125406   \n",
       "secondary_cleaner.state.floatbank4_b_level  -499.424528  -400.083087   \n",
       "secondary_cleaner.state.floatbank5_a_air      14.963654    18.012762   \n",
       "secondary_cleaner.state.floatbank5_a_level  -499.772653  -498.182011   \n",
       "secondary_cleaner.state.floatbank5_b_air      11.000057    14.002573   \n",
       "secondary_cleaner.state.floatbank5_b_level  -499.926255  -499.285414   \n",
       "secondary_cleaner.state.floatbank6_a_air      19.960781    23.038231   \n",
       "secondary_cleaner.state.floatbank6_a_level  -500.054273  -499.506135   \n",
       "final.output.recovery                         67.962788    72.598187   \n",
       "\n",
       "                                                    max  \n",
       "rougher.input.feed_au                         13.731330  \n",
       "rougher.input.feed_ag                         14.596026  \n",
       "rougher.input.feed_pb                          7.052325  \n",
       "rougher.input.feed_sol                        53.475325  \n",
       "rougher.input.feed_rate                      717.508837  \n",
       "rougher.input.feed_size                      484.967466  \n",
       "rougher.input.floatbank10_sulfate             36.118275  \n",
       "rougher.input.floatbank10_xanthate             9.703448  \n",
       "rougher.state.floatbank10_a_air             1512.299531  \n",
       "rougher.state.floatbank10_a_level           -273.776101  \n",
       "rougher.state.floatbank10_b_air             1809.194008  \n",
       "rougher.state.floatbank10_b_level           -296.383080  \n",
       "rougher.state.floatbank10_c_air             2499.129174  \n",
       "rougher.state.floatbank10_c_level           -292.155509  \n",
       "rougher.state.floatbank10_d_air             1817.199290  \n",
       "rougher.state.floatbank10_d_level            -76.397327  \n",
       "rougher.state.floatbank10_e_air             1922.636637  \n",
       "rougher.state.floatbank10_e_level           -139.753025  \n",
       "rougher.state.floatbank10_f_air             1706.307502  \n",
       "rougher.state.floatbank10_f_level           -191.718480  \n",
       "rougher.input.floatbank11_sulfate             37.980648  \n",
       "rougher.input.floatbank11_xanthate             9.698407  \n",
       "rougher.output.recovery                      100.000000  \n",
       "primary_cleaner.input.sulfate                265.983123  \n",
       "primary_cleaner.input.depressant              40.000000  \n",
       "primary_cleaner.input.feed_size               15.500000  \n",
       "primary_cleaner.input.xanthate                 4.102454  \n",
       "primary_cleaner.state.floatbank8_a_air      2103.103580  \n",
       "primary_cleaner.state.floatbank8_a_level     -57.195404  \n",
       "primary_cleaner.state.floatbank8_b_air      2114.906758  \n",
       "primary_cleaner.state.floatbank8_b_level    -142.527229  \n",
       "primary_cleaner.state.floatbank8_c_air      2013.156457  \n",
       "primary_cleaner.state.floatbank8_c_level    -150.937035  \n",
       "primary_cleaner.state.floatbank8_d_air      2398.903635  \n",
       "primary_cleaner.state.floatbank8_d_level     -30.601828  \n",
       "secondary_cleaner.state.floatbank2_a_air      52.651399  \n",
       "secondary_cleaner.state.floatbank2_a_level  -127.875565  \n",
       "secondary_cleaner.state.floatbank2_b_air      35.152122  \n",
       "secondary_cleaner.state.floatbank2_b_level  -211.999273  \n",
       "secondary_cleaner.state.floatbank3_a_air      44.260464  \n",
       "secondary_cleaner.state.floatbank3_a_level  -191.678810  \n",
       "secondary_cleaner.state.floatbank3_b_air      35.072841  \n",
       "secondary_cleaner.state.floatbank3_b_level  -159.742331  \n",
       "secondary_cleaner.state.floatbank4_a_air      30.115735  \n",
       "secondary_cleaner.state.floatbank4_a_level  -245.239184  \n",
       "secondary_cleaner.state.floatbank4_b_air      31.269706  \n",
       "secondary_cleaner.state.floatbank4_b_level    -6.506986  \n",
       "secondary_cleaner.state.floatbank5_a_air      43.709931  \n",
       "secondary_cleaner.state.floatbank5_a_level  -244.483566  \n",
       "secondary_cleaner.state.floatbank5_b_air      27.926001  \n",
       "secondary_cleaner.state.floatbank5_b_level  -137.740004  \n",
       "secondary_cleaner.state.floatbank6_a_air      32.188906  \n",
       "secondary_cleaner.state.floatbank6_a_level  -123.307487  \n",
       "final.output.recovery                        100.000000  "
      ]
     },
     "execution_count": 21,
     "metadata": {},
     "output_type": "execute_result"
    }
   ],
   "source": [
    "data_train.describe().T"
   ]
  },
  {
   "cell_type": "markdown",
   "metadata": {},
   "source": [
    "Разброс действительно присутствует. Приведем числовые признаки к одному масштабу с помощью метода стандартизации данных и сохраним их в новые датафреймы."
   ]
  },
  {
   "cell_type": "code",
   "execution_count": 22,
   "metadata": {
    "scrolled": true
   },
   "outputs": [
    {
     "data": {
      "text/html": [
       "<div>\n",
       "<style scoped>\n",
       "    .dataframe tbody tr th:only-of-type {\n",
       "        vertical-align: middle;\n",
       "    }\n",
       "\n",
       "    .dataframe tbody tr th {\n",
       "        vertical-align: top;\n",
       "    }\n",
       "\n",
       "    .dataframe thead th {\n",
       "        text-align: right;\n",
       "    }\n",
       "</style>\n",
       "<table border=\"1\" class=\"dataframe\">\n",
       "  <thead>\n",
       "    <tr style=\"text-align: right;\">\n",
       "      <th></th>\n",
       "      <th>count</th>\n",
       "      <th>mean</th>\n",
       "      <th>std</th>\n",
       "      <th>min</th>\n",
       "      <th>25%</th>\n",
       "      <th>50%</th>\n",
       "      <th>75%</th>\n",
       "      <th>max</th>\n",
       "    </tr>\n",
       "  </thead>\n",
       "  <tbody>\n",
       "    <tr>\n",
       "      <th>rougher.input.feed_au</th>\n",
       "      <td>14579.0</td>\n",
       "      <td>5.380610e-16</td>\n",
       "      <td>1.000034</td>\n",
       "      <td>-4.313136</td>\n",
       "      <td>-0.734083</td>\n",
       "      <td>-0.065996</td>\n",
       "      <td>0.764753</td>\n",
       "      <td>2.780521</td>\n",
       "    </tr>\n",
       "    <tr>\n",
       "      <th>rougher.input.feed_ag</th>\n",
       "      <td>14579.0</td>\n",
       "      <td>5.380610e-16</td>\n",
       "      <td>1.000034</td>\n",
       "      <td>-4.612535</td>\n",
       "      <td>-0.798732</td>\n",
       "      <td>-0.084059</td>\n",
       "      <td>0.716986</td>\n",
       "      <td>2.974594</td>\n",
       "    </tr>\n",
       "    <tr>\n",
       "      <th>rougher.input.feed_pb</th>\n",
       "      <td>14579.0</td>\n",
       "      <td>-3.119194e-16</td>\n",
       "      <td>1.000034</td>\n",
       "      <td>-3.353423</td>\n",
       "      <td>-0.677227</td>\n",
       "      <td>-0.063186</td>\n",
       "      <td>0.619612</td>\n",
       "      <td>3.239339</td>\n",
       "    </tr>\n",
       "    <tr>\n",
       "      <th>rougher.input.feed_sol</th>\n",
       "      <td>14579.0</td>\n",
       "      <td>9.981422e-16</td>\n",
       "      <td>1.000034</td>\n",
       "      <td>-6.997342</td>\n",
       "      <td>-0.472941</td>\n",
       "      <td>0.104575</td>\n",
       "      <td>0.639697</td>\n",
       "      <td>3.242388</td>\n",
       "    </tr>\n",
       "    <tr>\n",
       "      <th>rougher.input.feed_rate</th>\n",
       "      <td>14579.0</td>\n",
       "      <td>-4.366872e-16</td>\n",
       "      <td>1.000034</td>\n",
       "      <td>-4.369794</td>\n",
       "      <td>-0.582882</td>\n",
       "      <td>0.219836</td>\n",
       "      <td>0.693706</td>\n",
       "      <td>2.240948</td>\n",
       "    </tr>\n",
       "    <tr>\n",
       "      <th>rougher.input.feed_size</th>\n",
       "      <td>14579.0</td>\n",
       "      <td>6.238389e-17</td>\n",
       "      <td>1.000034</td>\n",
       "      <td>-2.577025</td>\n",
       "      <td>-0.512963</td>\n",
       "      <td>-0.201135</td>\n",
       "      <td>0.235703</td>\n",
       "      <td>18.595648</td>\n",
       "    </tr>\n",
       "    <tr>\n",
       "      <th>rougher.input.floatbank10_sulfate</th>\n",
       "      <td>14579.0</td>\n",
       "      <td>2.495356e-16</td>\n",
       "      <td>1.000034</td>\n",
       "      <td>-3.585495</td>\n",
       "      <td>-0.694911</td>\n",
       "      <td>-0.116615</td>\n",
       "      <td>0.725852</td>\n",
       "      <td>6.853288</td>\n",
       "    </tr>\n",
       "    <tr>\n",
       "      <th>rougher.input.floatbank10_xanthate</th>\n",
       "      <td>14579.0</td>\n",
       "      <td>-7.486067e-16</td>\n",
       "      <td>1.000034</td>\n",
       "      <td>-5.188408</td>\n",
       "      <td>-0.597122</td>\n",
       "      <td>0.008445</td>\n",
       "      <td>0.695504</td>\n",
       "      <td>3.212259</td>\n",
       "    </tr>\n",
       "    <tr>\n",
       "      <th>rougher.state.floatbank10_a_air</th>\n",
       "      <td>14579.0</td>\n",
       "      <td>-1.138506e-15</td>\n",
       "      <td>1.000034</td>\n",
       "      <td>-6.806695</td>\n",
       "      <td>-0.644538</td>\n",
       "      <td>-0.636292</td>\n",
       "      <td>1.161657</td>\n",
       "      <td>2.515510</td>\n",
       "    </tr>\n",
       "    <tr>\n",
       "      <th>rougher.state.floatbank10_a_level</th>\n",
       "      <td>14579.0</td>\n",
       "      <td>1.247678e-16</td>\n",
       "      <td>1.000034</td>\n",
       "      <td>-2.943321</td>\n",
       "      <td>-1.273067</td>\n",
       "      <td>0.835222</td>\n",
       "      <td>0.838654</td>\n",
       "      <td>1.115606</td>\n",
       "    </tr>\n",
       "    <tr>\n",
       "      <th>rougher.state.floatbank10_b_air</th>\n",
       "      <td>14579.0</td>\n",
       "      <td>-1.871517e-16</td>\n",
       "      <td>1.000034</td>\n",
       "      <td>-7.288122</td>\n",
       "      <td>-0.678847</td>\n",
       "      <td>-0.112694</td>\n",
       "      <td>0.700008</td>\n",
       "      <td>2.678039</td>\n",
       "    </tr>\n",
       "    <tr>\n",
       "      <th>rougher.state.floatbank10_b_level</th>\n",
       "      <td>14579.0</td>\n",
       "      <td>7.174147e-16</td>\n",
       "      <td>1.000034</td>\n",
       "      <td>-3.286562</td>\n",
       "      <td>-0.617237</td>\n",
       "      <td>-0.609639</td>\n",
       "      <td>1.156283</td>\n",
       "      <td>3.008133</td>\n",
       "    </tr>\n",
       "    <tr>\n",
       "      <th>rougher.state.floatbank10_c_air</th>\n",
       "      <td>14579.0</td>\n",
       "      <td>-9.357583e-16</td>\n",
       "      <td>1.000034</td>\n",
       "      <td>-6.212052</td>\n",
       "      <td>-0.724797</td>\n",
       "      <td>-0.010041</td>\n",
       "      <td>0.704193</td>\n",
       "      <td>5.704627</td>\n",
       "    </tr>\n",
       "    <tr>\n",
       "      <th>rougher.state.floatbank10_c_level</th>\n",
       "      <td>14579.0</td>\n",
       "      <td>-7.486067e-16</td>\n",
       "      <td>1.000034</td>\n",
       "      <td>-3.285487</td>\n",
       "      <td>-0.619362</td>\n",
       "      <td>-0.609938</td>\n",
       "      <td>1.179795</td>\n",
       "      <td>3.145736</td>\n",
       "    </tr>\n",
       "    <tr>\n",
       "      <th>rougher.state.floatbank10_d_air</th>\n",
       "      <td>14579.0</td>\n",
       "      <td>-1.871517e-16</td>\n",
       "      <td>1.000034</td>\n",
       "      <td>-5.784626</td>\n",
       "      <td>-0.731191</td>\n",
       "      <td>-0.054303</td>\n",
       "      <td>0.826080</td>\n",
       "      <td>2.871411</td>\n",
       "    </tr>\n",
       "    <tr>\n",
       "      <th>rougher.state.floatbank10_d_level</th>\n",
       "      <td>14579.0</td>\n",
       "      <td>9.357583e-16</td>\n",
       "      <td>1.000034</td>\n",
       "      <td>-3.265124</td>\n",
       "      <td>-0.607609</td>\n",
       "      <td>-0.592207</td>\n",
       "      <td>1.172283</td>\n",
       "      <td>7.004222</td>\n",
       "    </tr>\n",
       "    <tr>\n",
       "      <th>rougher.state.floatbank10_e_air</th>\n",
       "      <td>14579.0</td>\n",
       "      <td>-8.733744e-16</td>\n",
       "      <td>1.000034</td>\n",
       "      <td>-6.071601</td>\n",
       "      <td>-0.453661</td>\n",
       "      <td>-0.155445</td>\n",
       "      <td>0.685632</td>\n",
       "      <td>4.754492</td>\n",
       "    </tr>\n",
       "    <tr>\n",
       "      <th>rougher.state.floatbank10_e_level</th>\n",
       "      <td>14579.0</td>\n",
       "      <td>-4.366872e-16</td>\n",
       "      <td>1.000034</td>\n",
       "      <td>-3.132338</td>\n",
       "      <td>-0.608698</td>\n",
       "      <td>-0.598882</td>\n",
       "      <td>1.071975</td>\n",
       "      <td>5.487474</td>\n",
       "    </tr>\n",
       "    <tr>\n",
       "      <th>rougher.state.floatbank10_f_air</th>\n",
       "      <td>14579.0</td>\n",
       "      <td>-2.495356e-16</td>\n",
       "      <td>1.000034</td>\n",
       "      <td>-6.060838</td>\n",
       "      <td>-0.737074</td>\n",
       "      <td>-0.152677</td>\n",
       "      <td>0.436208</td>\n",
       "      <td>4.010809</td>\n",
       "    </tr>\n",
       "    <tr>\n",
       "      <th>rougher.state.floatbank10_f_level</th>\n",
       "      <td>14579.0</td>\n",
       "      <td>-5.614550e-16</td>\n",
       "      <td>1.000034</td>\n",
       "      <td>-3.109650</td>\n",
       "      <td>-0.603291</td>\n",
       "      <td>-0.585396</td>\n",
       "      <td>1.062696</td>\n",
       "      <td>4.576100</td>\n",
       "    </tr>\n",
       "    <tr>\n",
       "      <th>rougher.input.floatbank11_sulfate</th>\n",
       "      <td>14579.0</td>\n",
       "      <td>1.403637e-16</td>\n",
       "      <td>1.000034</td>\n",
       "      <td>-3.071964</td>\n",
       "      <td>-0.531839</td>\n",
       "      <td>-0.023486</td>\n",
       "      <td>0.694498</td>\n",
       "      <td>6.576082</td>\n",
       "    </tr>\n",
       "    <tr>\n",
       "      <th>rougher.input.floatbank11_xanthate</th>\n",
       "      <td>14579.0</td>\n",
       "      <td>2.651315e-16</td>\n",
       "      <td>1.000034</td>\n",
       "      <td>-4.866622</td>\n",
       "      <td>-0.539660</td>\n",
       "      <td>0.033654</td>\n",
       "      <td>0.683147</td>\n",
       "      <td>3.049798</td>\n",
       "    </tr>\n",
       "    <tr>\n",
       "      <th>rougher.output.recovery</th>\n",
       "      <td>14579.0</td>\n",
       "      <td>8.252120e+01</td>\n",
       "      <td>15.797521</td>\n",
       "      <td>0.000000</td>\n",
       "      <td>80.558542</td>\n",
       "      <td>85.946497</td>\n",
       "      <td>89.960375</td>\n",
       "      <td>100.000000</td>\n",
       "    </tr>\n",
       "    <tr>\n",
       "      <th>primary_cleaner.input.sulfate</th>\n",
       "      <td>14579.0</td>\n",
       "      <td>6.238389e-17</td>\n",
       "      <td>1.000034</td>\n",
       "      <td>-3.200155</td>\n",
       "      <td>-0.679851</td>\n",
       "      <td>-0.008594</td>\n",
       "      <td>0.687302</td>\n",
       "      <td>2.670696</td>\n",
       "    </tr>\n",
       "    <tr>\n",
       "      <th>primary_cleaner.input.depressant</th>\n",
       "      <td>14579.0</td>\n",
       "      <td>-1.559597e-17</td>\n",
       "      <td>1.000034</td>\n",
       "      <td>-2.657134</td>\n",
       "      <td>-0.811387</td>\n",
       "      <td>-0.239569</td>\n",
       "      <td>0.662888</td>\n",
       "      <td>9.349793</td>\n",
       "    </tr>\n",
       "    <tr>\n",
       "      <th>primary_cleaner.input.feed_size</th>\n",
       "      <td>14579.0</td>\n",
       "      <td>-9.357583e-17</td>\n",
       "      <td>1.000034</td>\n",
       "      <td>-10.018860</td>\n",
       "      <td>-0.591388</td>\n",
       "      <td>-0.044402</td>\n",
       "      <td>0.614662</td>\n",
       "      <td>13.179799</td>\n",
       "    </tr>\n",
       "    <tr>\n",
       "      <th>primary_cleaner.input.xanthate</th>\n",
       "      <td>14579.0</td>\n",
       "      <td>-9.357583e-17</td>\n",
       "      <td>1.000034</td>\n",
       "      <td>-1.967959</td>\n",
       "      <td>-0.631224</td>\n",
       "      <td>-0.136341</td>\n",
       "      <td>0.378126</td>\n",
       "      <td>5.916817</td>\n",
       "    </tr>\n",
       "    <tr>\n",
       "      <th>primary_cleaner.state.floatbank8_a_air</th>\n",
       "      <td>14579.0</td>\n",
       "      <td>1.427031e-15</td>\n",
       "      <td>1.000034</td>\n",
       "      <td>-12.199212</td>\n",
       "      <td>-0.650129</td>\n",
       "      <td>0.084358</td>\n",
       "      <td>0.829837</td>\n",
       "      <td>3.939876</td>\n",
       "    </tr>\n",
       "    <tr>\n",
       "      <th>primary_cleaner.state.floatbank8_a_level</th>\n",
       "      <td>14579.0</td>\n",
       "      <td>-7.720006e-16</td>\n",
       "      <td>1.000034</td>\n",
       "      <td>-9.941457</td>\n",
       "      <td>-0.263890</td>\n",
       "      <td>-0.251415</td>\n",
       "      <td>-0.235892</td>\n",
       "      <td>14.111104</td>\n",
       "    </tr>\n",
       "    <tr>\n",
       "      <th>primary_cleaner.state.floatbank8_b_air</th>\n",
       "      <td>14579.0</td>\n",
       "      <td>8.577785e-16</td>\n",
       "      <td>1.000034</td>\n",
       "      <td>-12.088362</td>\n",
       "      <td>-0.658951</td>\n",
       "      <td>0.064650</td>\n",
       "      <td>0.813228</td>\n",
       "      <td>3.970054</td>\n",
       "    </tr>\n",
       "    <tr>\n",
       "      <th>primary_cleaner.state.floatbank8_b_level</th>\n",
       "      <td>14579.0</td>\n",
       "      <td>1.785739e-15</td>\n",
       "      <td>1.000034</td>\n",
       "      <td>-9.227555</td>\n",
       "      <td>-0.228369</td>\n",
       "      <td>-0.214017</td>\n",
       "      <td>-0.196610</td>\n",
       "      <td>10.523942</td>\n",
       "    </tr>\n",
       "    <tr>\n",
       "      <th>primary_cleaner.state.floatbank8_c_air</th>\n",
       "      <td>14579.0</td>\n",
       "      <td>6.394349e-16</td>\n",
       "      <td>1.000034</td>\n",
       "      <td>-11.557152</td>\n",
       "      <td>-0.619998</td>\n",
       "      <td>0.104223</td>\n",
       "      <td>0.827538</td>\n",
       "      <td>3.113385</td>\n",
       "    </tr>\n",
       "    <tr>\n",
       "      <th>primary_cleaner.state.floatbank8_c_level</th>\n",
       "      <td>14579.0</td>\n",
       "      <td>-6.706268e-16</td>\n",
       "      <td>1.000034</td>\n",
       "      <td>-9.494837</td>\n",
       "      <td>-0.246730</td>\n",
       "      <td>-0.222150</td>\n",
       "      <td>-0.190788</td>\n",
       "      <td>10.562722</td>\n",
       "    </tr>\n",
       "    <tr>\n",
       "      <th>primary_cleaner.state.floatbank8_d_air</th>\n",
       "      <td>14579.0</td>\n",
       "      <td>-3.898993e-16</td>\n",
       "      <td>1.000034</td>\n",
       "      <td>-6.374849</td>\n",
       "      <td>-0.202767</td>\n",
       "      <td>0.215555</td>\n",
       "      <td>0.623066</td>\n",
       "      <td>3.509372</td>\n",
       "    </tr>\n",
       "    <tr>\n",
       "      <th>primary_cleaner.state.floatbank8_d_level</th>\n",
       "      <td>14579.0</td>\n",
       "      <td>1.621981e-15</td>\n",
       "      <td>1.000034</td>\n",
       "      <td>-7.044783</td>\n",
       "      <td>-0.265880</td>\n",
       "      <td>-0.253476</td>\n",
       "      <td>-0.235818</td>\n",
       "      <td>10.375070</td>\n",
       "    </tr>\n",
       "    <tr>\n",
       "      <th>secondary_cleaner.state.floatbank2_a_air</th>\n",
       "      <td>14579.0</td>\n",
       "      <td>6.238389e-16</td>\n",
       "      <td>1.000034</td>\n",
       "      <td>-5.182091</td>\n",
       "      <td>-0.627609</td>\n",
       "      <td>0.094287</td>\n",
       "      <td>0.803040</td>\n",
       "      <td>4.411756</td>\n",
       "    </tr>\n",
       "    <tr>\n",
       "      <th>secondary_cleaner.state.floatbank2_a_level</th>\n",
       "      <td>14579.0</td>\n",
       "      <td>7.486067e-16</td>\n",
       "      <td>1.000034</td>\n",
       "      <td>-5.238978</td>\n",
       "      <td>0.054471</td>\n",
       "      <td>0.059165</td>\n",
       "      <td>0.064594</td>\n",
       "      <td>6.638734</td>\n",
       "    </tr>\n",
       "    <tr>\n",
       "      <th>secondary_cleaner.state.floatbank2_b_air</th>\n",
       "      <td>14579.0</td>\n",
       "      <td>-3.275154e-16</td>\n",
       "      <td>1.000034</td>\n",
       "      <td>-4.085156</td>\n",
       "      <td>-0.650137</td>\n",
       "      <td>0.188777</td>\n",
       "      <td>0.703656</td>\n",
       "      <td>1.927553</td>\n",
       "    </tr>\n",
       "    <tr>\n",
       "      <th>secondary_cleaner.state.floatbank2_b_level</th>\n",
       "      <td>14579.0</td>\n",
       "      <td>-1.091718e-16</td>\n",
       "      <td>1.000034</td>\n",
       "      <td>-4.905787</td>\n",
       "      <td>0.069586</td>\n",
       "      <td>0.073691</td>\n",
       "      <td>0.077535</td>\n",
       "      <td>4.856646</td>\n",
       "    </tr>\n",
       "    <tr>\n",
       "      <th>secondary_cleaner.state.floatbank3_a_air</th>\n",
       "      <td>14579.0</td>\n",
       "      <td>3.743033e-16</td>\n",
       "      <td>1.000034</td>\n",
       "      <td>-4.548447</td>\n",
       "      <td>-0.527425</td>\n",
       "      <td>0.002644</td>\n",
       "      <td>0.818823</td>\n",
       "      <td>2.654339</td>\n",
       "    </tr>\n",
       "    <tr>\n",
       "      <th>secondary_cleaner.state.floatbank3_a_level</th>\n",
       "      <td>14579.0</td>\n",
       "      <td>1.200890e-15</td>\n",
       "      <td>1.000034</td>\n",
       "      <td>-5.699661</td>\n",
       "      <td>-0.273555</td>\n",
       "      <td>-0.268275</td>\n",
       "      <td>-0.255796</td>\n",
       "      <td>5.315468</td>\n",
       "    </tr>\n",
       "    <tr>\n",
       "      <th>secondary_cleaner.state.floatbank3_b_air</th>\n",
       "      <td>14579.0</td>\n",
       "      <td>2.183436e-16</td>\n",
       "      <td>1.000034</td>\n",
       "      <td>-3.935090</td>\n",
       "      <td>-0.546996</td>\n",
       "      <td>-0.010942</td>\n",
       "      <td>0.699866</td>\n",
       "      <td>2.322200</td>\n",
       "    </tr>\n",
       "    <tr>\n",
       "      <th>secondary_cleaner.state.floatbank3_b_level</th>\n",
       "      <td>14579.0</td>\n",
       "      <td>-1.263274e-15</td>\n",
       "      <td>1.000034</td>\n",
       "      <td>-7.143399</td>\n",
       "      <td>-0.152003</td>\n",
       "      <td>-0.148774</td>\n",
       "      <td>-0.144870</td>\n",
       "      <td>7.544206</td>\n",
       "    </tr>\n",
       "    <tr>\n",
       "      <th>secondary_cleaner.state.floatbank4_a_air</th>\n",
       "      <td>14579.0</td>\n",
       "      <td>-5.146671e-16</td>\n",
       "      <td>1.000034</td>\n",
       "      <td>-3.590717</td>\n",
       "      <td>-0.716526</td>\n",
       "      <td>-0.132105</td>\n",
       "      <td>0.822899</td>\n",
       "      <td>2.194192</td>\n",
       "    </tr>\n",
       "    <tr>\n",
       "      <th>secondary_cleaner.state.floatbank4_a_level</th>\n",
       "      <td>14579.0</td>\n",
       "      <td>1.029334e-15</td>\n",
       "      <td>1.000034</td>\n",
       "      <td>-6.452216</td>\n",
       "      <td>-0.322456</td>\n",
       "      <td>-0.304337</td>\n",
       "      <td>-0.268022</td>\n",
       "      <td>4.913175</td>\n",
       "    </tr>\n",
       "    <tr>\n",
       "      <th>secondary_cleaner.state.floatbank4_b_air</th>\n",
       "      <td>14579.0</td>\n",
       "      <td>7.797986e-18</td>\n",
       "      <td>1.000034</td>\n",
       "      <td>-3.047967</td>\n",
       "      <td>-0.603287</td>\n",
       "      <td>0.027589</td>\n",
       "      <td>0.473249</td>\n",
       "      <td>3.381509</td>\n",
       "    </tr>\n",
       "    <tr>\n",
       "      <th>secondary_cleaner.state.floatbank4_b_level</th>\n",
       "      <td>14579.0</td>\n",
       "      <td>-2.027476e-16</td>\n",
       "      <td>1.000034</td>\n",
       "      <td>-5.016742</td>\n",
       "      <td>-0.590866</td>\n",
       "      <td>-0.579685</td>\n",
       "      <td>0.882709</td>\n",
       "      <td>6.676498</td>\n",
       "    </tr>\n",
       "    <tr>\n",
       "      <th>secondary_cleaner.state.floatbank5_a_air</th>\n",
       "      <td>14579.0</td>\n",
       "      <td>5.068691e-16</td>\n",
       "      <td>1.000034</td>\n",
       "      <td>-2.917128</td>\n",
       "      <td>-0.817264</td>\n",
       "      <td>-0.079735</td>\n",
       "      <td>0.484407</td>\n",
       "      <td>5.238864</td>\n",
       "    </tr>\n",
       "    <tr>\n",
       "      <th>secondary_cleaner.state.floatbank5_a_level</th>\n",
       "      <td>14579.0</td>\n",
       "      <td>4.054953e-16</td>\n",
       "      <td>1.000034</td>\n",
       "      <td>-8.780817</td>\n",
       "      <td>-0.354167</td>\n",
       "      <td>-0.334908</td>\n",
       "      <td>-0.289758</td>\n",
       "      <td>6.911400</td>\n",
       "    </tr>\n",
       "    <tr>\n",
       "      <th>secondary_cleaner.state.floatbank5_b_air</th>\n",
       "      <td>14579.0</td>\n",
       "      <td>4.132933e-16</td>\n",
       "      <td>1.000034</td>\n",
       "      <td>-2.179155</td>\n",
       "      <td>-0.572722</td>\n",
       "      <td>-0.181064</td>\n",
       "      <td>0.391828</td>\n",
       "      <td>3.048469</td>\n",
       "    </tr>\n",
       "    <tr>\n",
       "      <th>secondary_cleaner.state.floatbank5_b_level</th>\n",
       "      <td>14579.0</td>\n",
       "      <td>4.210912e-16</td>\n",
       "      <td>1.000034</td>\n",
       "      <td>-8.105408</td>\n",
       "      <td>-0.356113</td>\n",
       "      <td>-0.350873</td>\n",
       "      <td>-0.334325</td>\n",
       "      <td>9.001911</td>\n",
       "    </tr>\n",
       "    <tr>\n",
       "      <th>secondary_cleaner.state.floatbank6_a_air</th>\n",
       "      <td>14579.0</td>\n",
       "      <td>3.743033e-16</td>\n",
       "      <td>1.000034</td>\n",
       "      <td>-3.424269</td>\n",
       "      <td>-0.710101</td>\n",
       "      <td>0.186225</td>\n",
       "      <td>0.740666</td>\n",
       "      <td>2.389274</td>\n",
       "    </tr>\n",
       "    <tr>\n",
       "      <th>secondary_cleaner.state.floatbank6_a_level</th>\n",
       "      <td>14579.0</td>\n",
       "      <td>3.119194e-17</td>\n",
       "      <td>1.000034</td>\n",
       "      <td>-8.141488</td>\n",
       "      <td>0.132099</td>\n",
       "      <td>0.150871</td>\n",
       "      <td>0.165549</td>\n",
       "      <td>10.238856</td>\n",
       "    </tr>\n",
       "    <tr>\n",
       "      <th>final.output.recovery</th>\n",
       "      <td>14579.0</td>\n",
       "      <td>6.675907e+01</td>\n",
       "      <td>10.619709</td>\n",
       "      <td>0.000000</td>\n",
       "      <td>63.114596</td>\n",
       "      <td>67.962788</td>\n",
       "      <td>72.598187</td>\n",
       "      <td>100.000000</td>\n",
       "    </tr>\n",
       "  </tbody>\n",
       "</table>\n",
       "</div>"
      ],
      "text/plain": [
       "                                              count          mean        std  \\\n",
       "rougher.input.feed_au                       14579.0  5.380610e-16   1.000034   \n",
       "rougher.input.feed_ag                       14579.0  5.380610e-16   1.000034   \n",
       "rougher.input.feed_pb                       14579.0 -3.119194e-16   1.000034   \n",
       "rougher.input.feed_sol                      14579.0  9.981422e-16   1.000034   \n",
       "rougher.input.feed_rate                     14579.0 -4.366872e-16   1.000034   \n",
       "rougher.input.feed_size                     14579.0  6.238389e-17   1.000034   \n",
       "rougher.input.floatbank10_sulfate           14579.0  2.495356e-16   1.000034   \n",
       "rougher.input.floatbank10_xanthate          14579.0 -7.486067e-16   1.000034   \n",
       "rougher.state.floatbank10_a_air             14579.0 -1.138506e-15   1.000034   \n",
       "rougher.state.floatbank10_a_level           14579.0  1.247678e-16   1.000034   \n",
       "rougher.state.floatbank10_b_air             14579.0 -1.871517e-16   1.000034   \n",
       "rougher.state.floatbank10_b_level           14579.0  7.174147e-16   1.000034   \n",
       "rougher.state.floatbank10_c_air             14579.0 -9.357583e-16   1.000034   \n",
       "rougher.state.floatbank10_c_level           14579.0 -7.486067e-16   1.000034   \n",
       "rougher.state.floatbank10_d_air             14579.0 -1.871517e-16   1.000034   \n",
       "rougher.state.floatbank10_d_level           14579.0  9.357583e-16   1.000034   \n",
       "rougher.state.floatbank10_e_air             14579.0 -8.733744e-16   1.000034   \n",
       "rougher.state.floatbank10_e_level           14579.0 -4.366872e-16   1.000034   \n",
       "rougher.state.floatbank10_f_air             14579.0 -2.495356e-16   1.000034   \n",
       "rougher.state.floatbank10_f_level           14579.0 -5.614550e-16   1.000034   \n",
       "rougher.input.floatbank11_sulfate           14579.0  1.403637e-16   1.000034   \n",
       "rougher.input.floatbank11_xanthate          14579.0  2.651315e-16   1.000034   \n",
       "rougher.output.recovery                     14579.0  8.252120e+01  15.797521   \n",
       "primary_cleaner.input.sulfate               14579.0  6.238389e-17   1.000034   \n",
       "primary_cleaner.input.depressant            14579.0 -1.559597e-17   1.000034   \n",
       "primary_cleaner.input.feed_size             14579.0 -9.357583e-17   1.000034   \n",
       "primary_cleaner.input.xanthate              14579.0 -9.357583e-17   1.000034   \n",
       "primary_cleaner.state.floatbank8_a_air      14579.0  1.427031e-15   1.000034   \n",
       "primary_cleaner.state.floatbank8_a_level    14579.0 -7.720006e-16   1.000034   \n",
       "primary_cleaner.state.floatbank8_b_air      14579.0  8.577785e-16   1.000034   \n",
       "primary_cleaner.state.floatbank8_b_level    14579.0  1.785739e-15   1.000034   \n",
       "primary_cleaner.state.floatbank8_c_air      14579.0  6.394349e-16   1.000034   \n",
       "primary_cleaner.state.floatbank8_c_level    14579.0 -6.706268e-16   1.000034   \n",
       "primary_cleaner.state.floatbank8_d_air      14579.0 -3.898993e-16   1.000034   \n",
       "primary_cleaner.state.floatbank8_d_level    14579.0  1.621981e-15   1.000034   \n",
       "secondary_cleaner.state.floatbank2_a_air    14579.0  6.238389e-16   1.000034   \n",
       "secondary_cleaner.state.floatbank2_a_level  14579.0  7.486067e-16   1.000034   \n",
       "secondary_cleaner.state.floatbank2_b_air    14579.0 -3.275154e-16   1.000034   \n",
       "secondary_cleaner.state.floatbank2_b_level  14579.0 -1.091718e-16   1.000034   \n",
       "secondary_cleaner.state.floatbank3_a_air    14579.0  3.743033e-16   1.000034   \n",
       "secondary_cleaner.state.floatbank3_a_level  14579.0  1.200890e-15   1.000034   \n",
       "secondary_cleaner.state.floatbank3_b_air    14579.0  2.183436e-16   1.000034   \n",
       "secondary_cleaner.state.floatbank3_b_level  14579.0 -1.263274e-15   1.000034   \n",
       "secondary_cleaner.state.floatbank4_a_air    14579.0 -5.146671e-16   1.000034   \n",
       "secondary_cleaner.state.floatbank4_a_level  14579.0  1.029334e-15   1.000034   \n",
       "secondary_cleaner.state.floatbank4_b_air    14579.0  7.797986e-18   1.000034   \n",
       "secondary_cleaner.state.floatbank4_b_level  14579.0 -2.027476e-16   1.000034   \n",
       "secondary_cleaner.state.floatbank5_a_air    14579.0  5.068691e-16   1.000034   \n",
       "secondary_cleaner.state.floatbank5_a_level  14579.0  4.054953e-16   1.000034   \n",
       "secondary_cleaner.state.floatbank5_b_air    14579.0  4.132933e-16   1.000034   \n",
       "secondary_cleaner.state.floatbank5_b_level  14579.0  4.210912e-16   1.000034   \n",
       "secondary_cleaner.state.floatbank6_a_air    14579.0  3.743033e-16   1.000034   \n",
       "secondary_cleaner.state.floatbank6_a_level  14579.0  3.119194e-17   1.000034   \n",
       "final.output.recovery                       14579.0  6.675907e+01  10.619709   \n",
       "\n",
       "                                                  min        25%        50%  \\\n",
       "rougher.input.feed_au                       -4.313136  -0.734083  -0.065996   \n",
       "rougher.input.feed_ag                       -4.612535  -0.798732  -0.084059   \n",
       "rougher.input.feed_pb                       -3.353423  -0.677227  -0.063186   \n",
       "rougher.input.feed_sol                      -6.997342  -0.472941   0.104575   \n",
       "rougher.input.feed_rate                     -4.369794  -0.582882   0.219836   \n",
       "rougher.input.feed_size                     -2.577025  -0.512963  -0.201135   \n",
       "rougher.input.floatbank10_sulfate           -3.585495  -0.694911  -0.116615   \n",
       "rougher.input.floatbank10_xanthate          -5.188408  -0.597122   0.008445   \n",
       "rougher.state.floatbank10_a_air             -6.806695  -0.644538  -0.636292   \n",
       "rougher.state.floatbank10_a_level           -2.943321  -1.273067   0.835222   \n",
       "rougher.state.floatbank10_b_air             -7.288122  -0.678847  -0.112694   \n",
       "rougher.state.floatbank10_b_level           -3.286562  -0.617237  -0.609639   \n",
       "rougher.state.floatbank10_c_air             -6.212052  -0.724797  -0.010041   \n",
       "rougher.state.floatbank10_c_level           -3.285487  -0.619362  -0.609938   \n",
       "rougher.state.floatbank10_d_air             -5.784626  -0.731191  -0.054303   \n",
       "rougher.state.floatbank10_d_level           -3.265124  -0.607609  -0.592207   \n",
       "rougher.state.floatbank10_e_air             -6.071601  -0.453661  -0.155445   \n",
       "rougher.state.floatbank10_e_level           -3.132338  -0.608698  -0.598882   \n",
       "rougher.state.floatbank10_f_air             -6.060838  -0.737074  -0.152677   \n",
       "rougher.state.floatbank10_f_level           -3.109650  -0.603291  -0.585396   \n",
       "rougher.input.floatbank11_sulfate           -3.071964  -0.531839  -0.023486   \n",
       "rougher.input.floatbank11_xanthate          -4.866622  -0.539660   0.033654   \n",
       "rougher.output.recovery                      0.000000  80.558542  85.946497   \n",
       "primary_cleaner.input.sulfate               -3.200155  -0.679851  -0.008594   \n",
       "primary_cleaner.input.depressant            -2.657134  -0.811387  -0.239569   \n",
       "primary_cleaner.input.feed_size            -10.018860  -0.591388  -0.044402   \n",
       "primary_cleaner.input.xanthate              -1.967959  -0.631224  -0.136341   \n",
       "primary_cleaner.state.floatbank8_a_air     -12.199212  -0.650129   0.084358   \n",
       "primary_cleaner.state.floatbank8_a_level    -9.941457  -0.263890  -0.251415   \n",
       "primary_cleaner.state.floatbank8_b_air     -12.088362  -0.658951   0.064650   \n",
       "primary_cleaner.state.floatbank8_b_level    -9.227555  -0.228369  -0.214017   \n",
       "primary_cleaner.state.floatbank8_c_air     -11.557152  -0.619998   0.104223   \n",
       "primary_cleaner.state.floatbank8_c_level    -9.494837  -0.246730  -0.222150   \n",
       "primary_cleaner.state.floatbank8_d_air      -6.374849  -0.202767   0.215555   \n",
       "primary_cleaner.state.floatbank8_d_level    -7.044783  -0.265880  -0.253476   \n",
       "secondary_cleaner.state.floatbank2_a_air    -5.182091  -0.627609   0.094287   \n",
       "secondary_cleaner.state.floatbank2_a_level  -5.238978   0.054471   0.059165   \n",
       "secondary_cleaner.state.floatbank2_b_air    -4.085156  -0.650137   0.188777   \n",
       "secondary_cleaner.state.floatbank2_b_level  -4.905787   0.069586   0.073691   \n",
       "secondary_cleaner.state.floatbank3_a_air    -4.548447  -0.527425   0.002644   \n",
       "secondary_cleaner.state.floatbank3_a_level  -5.699661  -0.273555  -0.268275   \n",
       "secondary_cleaner.state.floatbank3_b_air    -3.935090  -0.546996  -0.010942   \n",
       "secondary_cleaner.state.floatbank3_b_level  -7.143399  -0.152003  -0.148774   \n",
       "secondary_cleaner.state.floatbank4_a_air    -3.590717  -0.716526  -0.132105   \n",
       "secondary_cleaner.state.floatbank4_a_level  -6.452216  -0.322456  -0.304337   \n",
       "secondary_cleaner.state.floatbank4_b_air    -3.047967  -0.603287   0.027589   \n",
       "secondary_cleaner.state.floatbank4_b_level  -5.016742  -0.590866  -0.579685   \n",
       "secondary_cleaner.state.floatbank5_a_air    -2.917128  -0.817264  -0.079735   \n",
       "secondary_cleaner.state.floatbank5_a_level  -8.780817  -0.354167  -0.334908   \n",
       "secondary_cleaner.state.floatbank5_b_air    -2.179155  -0.572722  -0.181064   \n",
       "secondary_cleaner.state.floatbank5_b_level  -8.105408  -0.356113  -0.350873   \n",
       "secondary_cleaner.state.floatbank6_a_air    -3.424269  -0.710101   0.186225   \n",
       "secondary_cleaner.state.floatbank6_a_level  -8.141488   0.132099   0.150871   \n",
       "final.output.recovery                        0.000000  63.114596  67.962788   \n",
       "\n",
       "                                                  75%         max  \n",
       "rougher.input.feed_au                        0.764753    2.780521  \n",
       "rougher.input.feed_ag                        0.716986    2.974594  \n",
       "rougher.input.feed_pb                        0.619612    3.239339  \n",
       "rougher.input.feed_sol                       0.639697    3.242388  \n",
       "rougher.input.feed_rate                      0.693706    2.240948  \n",
       "rougher.input.feed_size                      0.235703   18.595648  \n",
       "rougher.input.floatbank10_sulfate            0.725852    6.853288  \n",
       "rougher.input.floatbank10_xanthate           0.695504    3.212259  \n",
       "rougher.state.floatbank10_a_air              1.161657    2.515510  \n",
       "rougher.state.floatbank10_a_level            0.838654    1.115606  \n",
       "rougher.state.floatbank10_b_air              0.700008    2.678039  \n",
       "rougher.state.floatbank10_b_level            1.156283    3.008133  \n",
       "rougher.state.floatbank10_c_air              0.704193    5.704627  \n",
       "rougher.state.floatbank10_c_level            1.179795    3.145736  \n",
       "rougher.state.floatbank10_d_air              0.826080    2.871411  \n",
       "rougher.state.floatbank10_d_level            1.172283    7.004222  \n",
       "rougher.state.floatbank10_e_air              0.685632    4.754492  \n",
       "rougher.state.floatbank10_e_level            1.071975    5.487474  \n",
       "rougher.state.floatbank10_f_air              0.436208    4.010809  \n",
       "rougher.state.floatbank10_f_level            1.062696    4.576100  \n",
       "rougher.input.floatbank11_sulfate            0.694498    6.576082  \n",
       "rougher.input.floatbank11_xanthate           0.683147    3.049798  \n",
       "rougher.output.recovery                     89.960375  100.000000  \n",
       "primary_cleaner.input.sulfate                0.687302    2.670696  \n",
       "primary_cleaner.input.depressant             0.662888    9.349793  \n",
       "primary_cleaner.input.feed_size              0.614662   13.179799  \n",
       "primary_cleaner.input.xanthate               0.378126    5.916817  \n",
       "primary_cleaner.state.floatbank8_a_air       0.829837    3.939876  \n",
       "primary_cleaner.state.floatbank8_a_level    -0.235892   14.111104  \n",
       "primary_cleaner.state.floatbank8_b_air       0.813228    3.970054  \n",
       "primary_cleaner.state.floatbank8_b_level    -0.196610   10.523942  \n",
       "primary_cleaner.state.floatbank8_c_air       0.827538    3.113385  \n",
       "primary_cleaner.state.floatbank8_c_level    -0.190788   10.562722  \n",
       "primary_cleaner.state.floatbank8_d_air       0.623066    3.509372  \n",
       "primary_cleaner.state.floatbank8_d_level    -0.235818   10.375070  \n",
       "secondary_cleaner.state.floatbank2_a_air     0.803040    4.411756  \n",
       "secondary_cleaner.state.floatbank2_a_level   0.064594    6.638734  \n",
       "secondary_cleaner.state.floatbank2_b_air     0.703656    1.927553  \n",
       "secondary_cleaner.state.floatbank2_b_level   0.077535    4.856646  \n",
       "secondary_cleaner.state.floatbank3_a_air     0.818823    2.654339  \n",
       "secondary_cleaner.state.floatbank3_a_level  -0.255796    5.315468  \n",
       "secondary_cleaner.state.floatbank3_b_air     0.699866    2.322200  \n",
       "secondary_cleaner.state.floatbank3_b_level  -0.144870    7.544206  \n",
       "secondary_cleaner.state.floatbank4_a_air     0.822899    2.194192  \n",
       "secondary_cleaner.state.floatbank4_a_level  -0.268022    4.913175  \n",
       "secondary_cleaner.state.floatbank4_b_air     0.473249    3.381509  \n",
       "secondary_cleaner.state.floatbank4_b_level   0.882709    6.676498  \n",
       "secondary_cleaner.state.floatbank5_a_air     0.484407    5.238864  \n",
       "secondary_cleaner.state.floatbank5_a_level  -0.289758    6.911400  \n",
       "secondary_cleaner.state.floatbank5_b_air     0.391828    3.048469  \n",
       "secondary_cleaner.state.floatbank5_b_level  -0.334325    9.001911  \n",
       "secondary_cleaner.state.floatbank6_a_air     0.740666    2.389274  \n",
       "secondary_cleaner.state.floatbank6_a_level   0.165549   10.238856  \n",
       "final.output.recovery                       72.598187  100.000000  "
      ]
     },
     "execution_count": 22,
     "metadata": {},
     "output_type": "execute_result"
    }
   ],
   "source": [
    "data_train_new = data_train.copy()\n",
    "data_test_new = data_test.copy()\n",
    "\n",
    "numeric = [x for x in data_test.columns if 'recovery' not in x]\n",
    "scaler = StandardScaler()\n",
    "scaler.fit(data_train_new[numeric])\n",
    "data_train_new[numeric] = scaler.transform(data_train_new[numeric])\n",
    "data_test_new[numeric] = scaler.transform(data_test_new[numeric])\n",
    "data_train_new.describe().T"
   ]
  },
  {
   "cell_type": "markdown",
   "metadata": {},
   "source": [
    "Сделано."
   ]
  },
  {
   "cell_type": "markdown",
   "metadata": {},
   "source": [
    "**Общий вывод:** \n",
    "В этой части мы исследовали две из трех таблиц с исходными данными. Одна таблица с обучающей выборкой, вторая с тестовой. В тестовой выборке отсутствуют столбцы с типами параметра `output` и `calculation` Эти значения могут содержать информацию о том, что модель пытается предсказать, и их использование может привести к \"утечке данных\". Мы удалили эти столбцы кроме столбцов с целевыми признаками из обучающей выборки. Также был удален столбец `date`.\n",
    "\n",
    "В обучающей выборке мы проверили правильность расчета столбца `rougher.output.recovery` с эффективностью обогащения после флотации. MAE между нашими расчётами и значением эффективности обогащения: 9.83758577644259e-15. Это значение достаточно мало, из чего мы можем сделать вывод, что столбец посчитан верно.\n",
    "\n",
    "В результате предобработки данных мы сделали следующее:\n",
    "1. Удалили 0 значения в концентрациях металлов и солей.\n",
    "2. Заменили строки с отутствующими значениями предыдущими измерениями.\n",
    "2. Привели числовые признаки к одному масштабу.\n",
    "3. Поменяли тип данных столбца с датами.\n",
    "4. Добавили столбцы с целевыми признаками в тестовую выборку."
   ]
  },
  {
   "cell_type": "markdown",
   "metadata": {},
   "source": [
    "## Анализ данных"
   ]
  },
  {
   "cell_type": "markdown",
   "metadata": {},
   "source": [
    "### Анализ концентрации металлов"
   ]
  },
  {
   "cell_type": "markdown",
   "metadata": {},
   "source": [
    "Посмотрим, как меняется концентрация металлов (Au, Ag, Pb) на различных этапах: в сырье, в черновом концентрате, в концентрате после первой очистки и в финальном концентрате. Построим для каждого варианта распределение и вслед за этим описания этих столбцов. Для анализа возьмем таблицу `data_full`."
   ]
  },
  {
   "cell_type": "code",
   "execution_count": 23,
   "metadata": {
    "scrolled": false
   },
   "outputs": [
    {
     "data": {
      "image/png": "[encoded data removed]",
      "text/plain": [
       "<Figure size 1000x800 with 1 Axes>"
      ]
     },
     "metadata": {},
     "output_type": "display_data"
    },
    {
     "data": {
      "image/png": "[encoded data removed]",
      "text/plain": [
       "<Figure size 1000x800 with 1 Axes>"
      ]
     },
     "metadata": {},
     "output_type": "display_data"
    },
    {
     "data": {
      "image/png": "[encoded data removed]",
      "text/plain": [
       "<Figure size 1000x800 with 1 Axes>"
      ]
     },
     "metadata": {},
     "output_type": "display_data"
    }
   ],
   "source": [
    "columns = {}\n",
    "for x in ['au', 'ag', 'pb']:\n",
    "    l = []\n",
    "    for y in data_full.columns:\n",
    "        if y.endswith((x)) and 'tail' not in y:\n",
    "            l.append(y)\n",
    "    columns[x] = l\n",
    "    \n",
    "for i in columns:\n",
    "    (data_full[columns[i][0]]\n",
    "    .plot(kind='hist', grid=True, label=columns[i][0], alpha=0.6, figsize=(10,8)))\n",
    "    (data_full[columns[i][1]]\n",
    "    .plot(kind='hist', grid=True, label=columns[i][1], alpha=0.6, figsize=(10,8)))\n",
    "    (data_full[columns[i][2]]\n",
    "    .plot(kind='hist', grid=True, label=columns[i][2], alpha=0.6, figsize=(10,8)))\n",
    "    (data_full[columns[i][3]]\n",
    "    .plot(kind='hist', grid=True, label=columns[i][3], alpha=0.6, figsize=(10,8)))\n",
    "    plt.legend()\n",
    "    plt.title(f'Анализ концентрации {columns[i][0][-2:].upper()}')\n",
    "    plt.show()\n",
    "    \n",
    "\n"
   ]
  },
  {
   "cell_type": "code",
   "execution_count": 24,
   "metadata": {},
   "outputs": [
    {
     "data": {
      "text/html": [
       "<div>\n",
       "<style scoped>\n",
       "    .dataframe tbody tr th:only-of-type {\n",
       "        vertical-align: middle;\n",
       "    }\n",
       "\n",
       "    .dataframe tbody tr th {\n",
       "        vertical-align: top;\n",
       "    }\n",
       "\n",
       "    .dataframe thead th {\n",
       "        text-align: right;\n",
       "    }\n",
       "</style>\n",
       "<table border=\"1\" class=\"dataframe\">\n",
       "  <thead>\n",
       "    <tr style=\"text-align: right;\">\n",
       "      <th></th>\n",
       "      <th>count</th>\n",
       "      <th>mean</th>\n",
       "      <th>std</th>\n",
       "      <th>min</th>\n",
       "      <th>25%</th>\n",
       "      <th>50%</th>\n",
       "      <th>75%</th>\n",
       "      <th>max</th>\n",
       "    </tr>\n",
       "  </thead>\n",
       "  <tbody>\n",
       "    <tr>\n",
       "      <th>rougher.input.feed_au</th>\n",
       "      <td>19439.0</td>\n",
       "      <td>8.266097</td>\n",
       "      <td>1.955092</td>\n",
       "      <td>0.010000</td>\n",
       "      <td>6.854384</td>\n",
       "      <td>8.125839</td>\n",
       "      <td>9.769917</td>\n",
       "      <td>13.731330</td>\n",
       "    </tr>\n",
       "    <tr>\n",
       "      <th>rougher.input.feed_ag</th>\n",
       "      <td>19439.0</td>\n",
       "      <td>8.794927</td>\n",
       "      <td>1.936847</td>\n",
       "      <td>0.010000</td>\n",
       "      <td>7.237967</td>\n",
       "      <td>8.593574</td>\n",
       "      <td>10.213771</td>\n",
       "      <td>14.596026</td>\n",
       "    </tr>\n",
       "    <tr>\n",
       "      <th>rougher.input.feed_pb</th>\n",
       "      <td>19439.0</td>\n",
       "      <td>3.584516</td>\n",
       "      <td>1.064760</td>\n",
       "      <td>0.010000</td>\n",
       "      <td>2.872178</td>\n",
       "      <td>3.528235</td>\n",
       "      <td>4.241005</td>\n",
       "      <td>7.142594</td>\n",
       "    </tr>\n",
       "    <tr>\n",
       "      <th>rougher.output.concentrate_au</th>\n",
       "      <td>19439.0</td>\n",
       "      <td>20.120150</td>\n",
       "      <td>2.544191</td>\n",
       "      <td>0.010000</td>\n",
       "      <td>18.872372</td>\n",
       "      <td>20.296063</td>\n",
       "      <td>21.735295</td>\n",
       "      <td>28.824507</td>\n",
       "    </tr>\n",
       "    <tr>\n",
       "      <th>rougher.output.concentrate_ag</th>\n",
       "      <td>19439.0</td>\n",
       "      <td>12.179476</td>\n",
       "      <td>2.208380</td>\n",
       "      <td>0.010000</td>\n",
       "      <td>10.667469</td>\n",
       "      <td>12.125993</td>\n",
       "      <td>13.744201</td>\n",
       "      <td>24.480271</td>\n",
       "    </tr>\n",
       "    <tr>\n",
       "      <th>rougher.output.concentrate_pb</th>\n",
       "      <td>19439.0</td>\n",
       "      <td>7.734938</td>\n",
       "      <td>1.452411</td>\n",
       "      <td>0.010000</td>\n",
       "      <td>6.745030</td>\n",
       "      <td>7.748991</td>\n",
       "      <td>8.568809</td>\n",
       "      <td>13.617072</td>\n",
       "    </tr>\n",
       "    <tr>\n",
       "      <th>rougher.output.tail_au</th>\n",
       "      <td>19439.0</td>\n",
       "      <td>1.816391</td>\n",
       "      <td>0.680046</td>\n",
       "      <td>0.020676</td>\n",
       "      <td>1.404207</td>\n",
       "      <td>1.808170</td>\n",
       "      <td>2.211861</td>\n",
       "      <td>9.688980</td>\n",
       "    </tr>\n",
       "    <tr>\n",
       "      <th>rougher.output.tail_ag</th>\n",
       "      <td>19439.0</td>\n",
       "      <td>5.589064</td>\n",
       "      <td>1.111318</td>\n",
       "      <td>0.594562</td>\n",
       "      <td>4.889934</td>\n",
       "      <td>5.765829</td>\n",
       "      <td>6.389399</td>\n",
       "      <td>12.719177</td>\n",
       "    </tr>\n",
       "    <tr>\n",
       "      <th>rougher.output.tail_pb</th>\n",
       "      <td>19439.0</td>\n",
       "      <td>0.645782</td>\n",
       "      <td>0.251526</td>\n",
       "      <td>0.007566</td>\n",
       "      <td>0.477728</td>\n",
       "      <td>0.617465</td>\n",
       "      <td>0.778271</td>\n",
       "      <td>3.778064</td>\n",
       "    </tr>\n",
       "    <tr>\n",
       "      <th>primary_cleaner.output.concentrate_au</th>\n",
       "      <td>19439.0</td>\n",
       "      <td>32.251853</td>\n",
       "      <td>5.176631</td>\n",
       "      <td>0.010000</td>\n",
       "      <td>30.480137</td>\n",
       "      <td>32.850661</td>\n",
       "      <td>35.054689</td>\n",
       "      <td>45.933934</td>\n",
       "    </tr>\n",
       "    <tr>\n",
       "      <th>primary_cleaner.output.concentrate_ag</th>\n",
       "      <td>19439.0</td>\n",
       "      <td>8.475749</td>\n",
       "      <td>1.974663</td>\n",
       "      <td>0.010000</td>\n",
       "      <td>7.272413</td>\n",
       "      <td>8.511956</td>\n",
       "      <td>9.812723</td>\n",
       "      <td>16.081632</td>\n",
       "    </tr>\n",
       "    <tr>\n",
       "      <th>primary_cleaner.output.concentrate_pb</th>\n",
       "      <td>19439.0</td>\n",
       "      <td>9.855703</td>\n",
       "      <td>2.478817</td>\n",
       "      <td>0.010000</td>\n",
       "      <td>8.698359</td>\n",
       "      <td>10.149894</td>\n",
       "      <td>11.424063</td>\n",
       "      <td>17.081278</td>\n",
       "    </tr>\n",
       "    <tr>\n",
       "      <th>primary_cleaner.output.tail_au</th>\n",
       "      <td>19439.0</td>\n",
       "      <td>3.935265</td>\n",
       "      <td>1.570293</td>\n",
       "      <td>0.045269</td>\n",
       "      <td>2.935824</td>\n",
       "      <td>3.632042</td>\n",
       "      <td>4.592246</td>\n",
       "      <td>17.788925</td>\n",
       "    </tr>\n",
       "    <tr>\n",
       "      <th>primary_cleaner.output.tail_ag</th>\n",
       "      <td>19439.0</td>\n",
       "      <td>16.221647</td>\n",
       "      <td>3.344095</td>\n",
       "      <td>0.235819</td>\n",
       "      <td>14.036888</td>\n",
       "      <td>15.851231</td>\n",
       "      <td>18.021195</td>\n",
       "      <td>29.459575</td>\n",
       "    </tr>\n",
       "    <tr>\n",
       "      <th>primary_cleaner.output.tail_pb</th>\n",
       "      <td>19439.0</td>\n",
       "      <td>3.449768</td>\n",
       "      <td>1.371422</td>\n",
       "      <td>0.049552</td>\n",
       "      <td>2.514370</td>\n",
       "      <td>3.274637</td>\n",
       "      <td>4.183668</td>\n",
       "      <td>9.634565</td>\n",
       "    </tr>\n",
       "    <tr>\n",
       "      <th>secondary_cleaner.output.tail_au</th>\n",
       "      <td>19439.0</td>\n",
       "      <td>4.469747</td>\n",
       "      <td>2.183600</td>\n",
       "      <td>0.005877</td>\n",
       "      <td>3.243354</td>\n",
       "      <td>4.107723</td>\n",
       "      <td>5.077714</td>\n",
       "      <td>26.811643</td>\n",
       "    </tr>\n",
       "    <tr>\n",
       "      <th>secondary_cleaner.output.tail_ag</th>\n",
       "      <td>19439.0</td>\n",
       "      <td>15.107523</td>\n",
       "      <td>3.191490</td>\n",
       "      <td>0.017409</td>\n",
       "      <td>12.948185</td>\n",
       "      <td>15.799773</td>\n",
       "      <td>17.374926</td>\n",
       "      <td>23.264738</td>\n",
       "    </tr>\n",
       "    <tr>\n",
       "      <th>secondary_cleaner.output.tail_pb</th>\n",
       "      <td>19439.0</td>\n",
       "      <td>5.961202</td>\n",
       "      <td>2.550922</td>\n",
       "      <td>0.007514</td>\n",
       "      <td>3.982781</td>\n",
       "      <td>5.481762</td>\n",
       "      <td>7.805548</td>\n",
       "      <td>17.042505</td>\n",
       "    </tr>\n",
       "    <tr>\n",
       "      <th>final.output.concentrate_au</th>\n",
       "      <td>19439.0</td>\n",
       "      <td>44.250899</td>\n",
       "      <td>4.210389</td>\n",
       "      <td>0.010000</td>\n",
       "      <td>43.417165</td>\n",
       "      <td>45.015048</td>\n",
       "      <td>46.277955</td>\n",
       "      <td>52.756638</td>\n",
       "    </tr>\n",
       "    <tr>\n",
       "      <th>final.output.concentrate_ag</th>\n",
       "      <td>19439.0</td>\n",
       "      <td>5.192644</td>\n",
       "      <td>1.334741</td>\n",
       "      <td>0.010000</td>\n",
       "      <td>4.260459</td>\n",
       "      <td>5.071432</td>\n",
       "      <td>5.900000</td>\n",
       "      <td>16.001945</td>\n",
       "    </tr>\n",
       "    <tr>\n",
       "      <th>final.output.concentrate_pb</th>\n",
       "      <td>19439.0</td>\n",
       "      <td>10.020581</td>\n",
       "      <td>1.529146</td>\n",
       "      <td>0.010000</td>\n",
       "      <td>9.149866</td>\n",
       "      <td>10.107256</td>\n",
       "      <td>11.039024</td>\n",
       "      <td>17.031899</td>\n",
       "    </tr>\n",
       "    <tr>\n",
       "      <th>final.output.tail_au</th>\n",
       "      <td>19439.0</td>\n",
       "      <td>3.051229</td>\n",
       "      <td>0.906332</td>\n",
       "      <td>0.000777</td>\n",
       "      <td>2.464121</td>\n",
       "      <td>2.987837</td>\n",
       "      <td>3.571563</td>\n",
       "      <td>8.245022</td>\n",
       "    </tr>\n",
       "    <tr>\n",
       "      <th>final.output.tail_ag</th>\n",
       "      <td>19439.0</td>\n",
       "      <td>9.714790</td>\n",
       "      <td>2.261796</td>\n",
       "      <td>0.016790</td>\n",
       "      <td>8.068289</td>\n",
       "      <td>9.747560</td>\n",
       "      <td>11.134924</td>\n",
       "      <td>19.552149</td>\n",
       "    </tr>\n",
       "    <tr>\n",
       "      <th>final.output.tail_pb</th>\n",
       "      <td>19439.0</td>\n",
       "      <td>2.703245</td>\n",
       "      <td>0.946835</td>\n",
       "      <td>0.004508</td>\n",
       "      <td>2.034570</td>\n",
       "      <td>2.746906</td>\n",
       "      <td>3.329869</td>\n",
       "      <td>5.804178</td>\n",
       "    </tr>\n",
       "  </tbody>\n",
       "</table>\n",
       "</div>"
      ],
      "text/plain": [
       "                                         count       mean       std       min  \\\n",
       "rougher.input.feed_au                  19439.0   8.266097  1.955092  0.010000   \n",
       "rougher.input.feed_ag                  19439.0   8.794927  1.936847  0.010000   \n",
       "rougher.input.feed_pb                  19439.0   3.584516  1.064760  0.010000   \n",
       "rougher.output.concentrate_au          19439.0  20.120150  2.544191  0.010000   \n",
       "rougher.output.concentrate_ag          19439.0  12.179476  2.208380  0.010000   \n",
       "rougher.output.concentrate_pb          19439.0   7.734938  1.452411  0.010000   \n",
       "rougher.output.tail_au                 19439.0   1.816391  0.680046  0.020676   \n",
       "rougher.output.tail_ag                 19439.0   5.589064  1.111318  0.594562   \n",
       "rougher.output.tail_pb                 19439.0   0.645782  0.251526  0.007566   \n",
       "primary_cleaner.output.concentrate_au  19439.0  32.251853  5.176631  0.010000   \n",
       "primary_cleaner.output.concentrate_ag  19439.0   8.475749  1.974663  0.010000   \n",
       "primary_cleaner.output.concentrate_pb  19439.0   9.855703  2.478817  0.010000   \n",
       "primary_cleaner.output.tail_au         19439.0   3.935265  1.570293  0.045269   \n",
       "primary_cleaner.output.tail_ag         19439.0  16.221647  3.344095  0.235819   \n",
       "primary_cleaner.output.tail_pb         19439.0   3.449768  1.371422  0.049552   \n",
       "secondary_cleaner.output.tail_au       19439.0   4.469747  2.183600  0.005877   \n",
       "secondary_cleaner.output.tail_ag       19439.0  15.107523  3.191490  0.017409   \n",
       "secondary_cleaner.output.tail_pb       19439.0   5.961202  2.550922  0.007514   \n",
       "final.output.concentrate_au            19439.0  44.250899  4.210389  0.010000   \n",
       "final.output.concentrate_ag            19439.0   5.192644  1.334741  0.010000   \n",
       "final.output.concentrate_pb            19439.0  10.020581  1.529146  0.010000   \n",
       "final.output.tail_au                   19439.0   3.051229  0.906332  0.000777   \n",
       "final.output.tail_ag                   19439.0   9.714790  2.261796  0.016790   \n",
       "final.output.tail_pb                   19439.0   2.703245  0.946835  0.004508   \n",
       "\n",
       "                                             25%        50%        75%  \\\n",
       "rougher.input.feed_au                   6.854384   8.125839   9.769917   \n",
       "rougher.input.feed_ag                   7.237967   8.593574  10.213771   \n",
       "rougher.input.feed_pb                   2.872178   3.528235   4.241005   \n",
       "rougher.output.concentrate_au          18.872372  20.296063  21.735295   \n",
       "rougher.output.concentrate_ag          10.667469  12.125993  13.744201   \n",
       "rougher.output.concentrate_pb           6.745030   7.748991   8.568809   \n",
       "rougher.output.tail_au                  1.404207   1.808170   2.211861   \n",
       "rougher.output.tail_ag                  4.889934   5.765829   6.389399   \n",
       "rougher.output.tail_pb                  0.477728   0.617465   0.778271   \n",
       "primary_cleaner.output.concentrate_au  30.480137  32.850661  35.054689   \n",
       "primary_cleaner.output.concentrate_ag   7.272413   8.511956   9.812723   \n",
       "primary_cleaner.output.concentrate_pb   8.698359  10.149894  11.424063   \n",
       "primary_cleaner.output.tail_au          2.935824   3.632042   4.592246   \n",
       "primary_cleaner.output.tail_ag         14.036888  15.851231  18.021195   \n",
       "primary_cleaner.output.tail_pb          2.514370   3.274637   4.183668   \n",
       "secondary_cleaner.output.tail_au        3.243354   4.107723   5.077714   \n",
       "secondary_cleaner.output.tail_ag       12.948185  15.799773  17.374926   \n",
       "secondary_cleaner.output.tail_pb        3.982781   5.481762   7.805548   \n",
       "final.output.concentrate_au            43.417165  45.015048  46.277955   \n",
       "final.output.concentrate_ag             4.260459   5.071432   5.900000   \n",
       "final.output.concentrate_pb             9.149866  10.107256  11.039024   \n",
       "final.output.tail_au                    2.464121   2.987837   3.571563   \n",
       "final.output.tail_ag                    8.068289   9.747560  11.134924   \n",
       "final.output.tail_pb                    2.034570   2.746906   3.329869   \n",
       "\n",
       "                                             max  \n",
       "rougher.input.feed_au                  13.731330  \n",
       "rougher.input.feed_ag                  14.596026  \n",
       "rougher.input.feed_pb                   7.142594  \n",
       "rougher.output.concentrate_au          28.824507  \n",
       "rougher.output.concentrate_ag          24.480271  \n",
       "rougher.output.concentrate_pb          13.617072  \n",
       "rougher.output.tail_au                  9.688980  \n",
       "rougher.output.tail_ag                 12.719177  \n",
       "rougher.output.tail_pb                  3.778064  \n",
       "primary_cleaner.output.concentrate_au  45.933934  \n",
       "primary_cleaner.output.concentrate_ag  16.081632  \n",
       "primary_cleaner.output.concentrate_pb  17.081278  \n",
       "primary_cleaner.output.tail_au         17.788925  \n",
       "primary_cleaner.output.tail_ag         29.459575  \n",
       "primary_cleaner.output.tail_pb          9.634565  \n",
       "secondary_cleaner.output.tail_au       26.811643  \n",
       "secondary_cleaner.output.tail_ag       23.264738  \n",
       "secondary_cleaner.output.tail_pb       17.042505  \n",
       "final.output.concentrate_au            52.756638  \n",
       "final.output.concentrate_ag            16.001945  \n",
       "final.output.concentrate_pb            17.031899  \n",
       "final.output.tail_au                    8.245022  \n",
       "final.output.tail_ag                   19.552149  \n",
       "final.output.tail_pb                    5.804178  "
      ]
     },
     "execution_count": 24,
     "metadata": {},
     "output_type": "execute_result"
    }
   ],
   "source": [
    "data_full[[x for x in data_full.columns if x.endswith(('au', 'ag', 'pb'))]].describe().T"
   ]
  },
  {
   "cell_type": "markdown",
   "metadata": {},
   "source": [
    "**Выводы:**\n",
    "1. Концентрация золота увеличивается после каждого этапа. График сдвигается вправо, но оставляет за собой длинный хвост, в этих случаях либо этап флотации или очистки пройден неправильно, либо исходное сырье было дефектное.\n",
    "\n",
    "2. Доля серебра в среднем увеличивается после этапа флотации. График становится уже, среднее и медиана стягивается к 12%. Увеличение количества серебра на этом этапе говорит о том, что флотация слабо затрагивает его. После этапов очистки доля серебра уменьшается.\n",
    "\n",
    "3. Доля свинца увеличивается после каждого этапа. В отличии от серебра не только после этапа флотации, но и первичной очистки. Это также свидетельствует, что свинец в руде достаточно устойчив к очистным мероприятиям."
   ]
  },
  {
   "cell_type": "markdown",
   "metadata": {},
   "source": [
    "### Анализ размеров гранул исходного сырья"
   ]
  },
  {
   "cell_type": "markdown",
   "metadata": {},
   "source": [
    "Сравним распределения размеров гранул исходного сырья на обучающей и тестовой выборках. Если распределения сильно отличаются друг от друга, оценка модели будет неправильной. Построим графики распределений."
   ]
  },
  {
   "cell_type": "code",
   "execution_count": 25,
   "metadata": {},
   "outputs": [
    {
     "data": {
      "image/png": "[encoded data removed]",
      "text/plain": [
       "<Figure size 1000x800 with 1 Axes>"
      ]
     },
     "metadata": {},
     "output_type": "display_data"
    }
   ],
   "source": [
    "plt.figure(figsize=(10, 8))\n",
    "sns.histplot(data_test['rougher.input.feed_size'], label='test', kde=True, color='black')\n",
    "sns.histplot(data_train['rougher.input.feed_size'], label='train', kde=True)\n",
    "plt.legend()\n",
    "plt.show()"
   ]
  },
  {
   "cell_type": "code",
   "execution_count": 26,
   "metadata": {},
   "outputs": [
    {
     "name": "stdout",
     "output_type": "stream",
     "text": [
      "count    4860.000000\n",
      "mean       59.136150\n",
      "std        19.512497\n",
      "min         0.046369\n",
      "25%        47.610795\n",
      "50%        55.461058\n",
      "75%        66.538910\n",
      "max       363.989699\n",
      "Name: rougher.input.feed_size, dtype: float64\n",
      "count    14579.000000\n",
      "mean        59.070865\n",
      "std         22.903811\n",
      "min          0.049194\n",
      "25%         47.322462\n",
      "50%         54.464259\n",
      "75%         64.469177\n",
      "max        484.967466\n",
      "Name: rougher.input.feed_size, dtype: float64\n"
     ]
    }
   ],
   "source": [
    "for i in [data_test['rougher.input.feed_size'], data_train['rougher.input.feed_size']]:\n",
    "    print(i.describe())"
   ]
  },
  {
   "cell_type": "markdown",
   "metadata": {},
   "source": [
    "Визуально распределения очень похожи. Проведем статистический тест на равенство средних двух генеральных совокупностей."
   ]
  },
  {
   "cell_type": "code",
   "execution_count": 27,
   "metadata": {},
   "outputs": [
    {
     "name": "stdout",
     "output_type": "stream",
     "text": [
      "p-значение: 0.8468970428326675\n",
      "Не получилось отвергнуть нулевую гипотезу\n"
     ]
    }
   ],
   "source": [
    "alpha = 0.05 \n",
    "\n",
    "results = st.ttest_ind(data_test['rougher.input.feed_size'],\n",
    "                       data_train['rougher.input.feed_size'], equal_var=False) # equal_var = False, т.к. выборки отличаются по размеру\n",
    "\n",
    "print('p-значение:', results.pvalue)\n",
    "\n",
    "if results.pvalue < alpha:\n",
    "    print('Отвергаем нулевую гипотезу')\n",
    "else:\n",
    "    print('Не получилось отвергнуть нулевую гипотезу') "
   ]
  },
  {
   "cell_type": "markdown",
   "metadata": {},
   "source": [
    "**Вывод:**  Мы не можем сказать что распределения размеров гранул исходного сырья на обучающей и тестовой выборках различаются друг от друга. Это видно как на рисунке, так и по результатам статистического теста."
   ]
  },
  {
   "cell_type": "markdown",
   "metadata": {},
   "source": [
    "### Анализ суммарной концентрации металлов на разных стадиях"
   ]
  },
  {
   "cell_type": "markdown",
   "metadata": {},
   "source": [
    "Исследуем суммарную концентрацию металлов на разных стадиях: в сырье, в черновом концентрате, в концентрате после первой очистки и в финальном концентрате. Для начала создадим 4 новых столбца с суммами концентраций после каждого этапа."
   ]
  },
  {
   "cell_type": "code",
   "execution_count": 28,
   "metadata": {},
   "outputs": [
    {
     "data": {
      "text/html": [
       "<div>\n",
       "<style scoped>\n",
       "    .dataframe tbody tr th:only-of-type {\n",
       "        vertical-align: middle;\n",
       "    }\n",
       "\n",
       "    .dataframe tbody tr th {\n",
       "        vertical-align: top;\n",
       "    }\n",
       "\n",
       "    .dataframe thead th {\n",
       "        text-align: right;\n",
       "    }\n",
       "</style>\n",
       "<table border=\"1\" class=\"dataframe\">\n",
       "  <thead>\n",
       "    <tr style=\"text-align: right;\">\n",
       "      <th></th>\n",
       "      <th>date</th>\n",
       "      <th>rougher.input.feed_au</th>\n",
       "      <th>rougher.input.feed_ag</th>\n",
       "      <th>rougher.input.feed_pb</th>\n",
       "      <th>rougher.input.feed_sol</th>\n",
       "      <th>rougher.input.feed_rate</th>\n",
       "      <th>rougher.input.feed_size</th>\n",
       "      <th>rougher.input.floatbank10_sulfate</th>\n",
       "      <th>rougher.input.floatbank10_xanthate</th>\n",
       "      <th>rougher.state.floatbank10_a_air</th>\n",
       "      <th>...</th>\n",
       "      <th>final.output.concentrate_sol</th>\n",
       "      <th>final.output.recovery</th>\n",
       "      <th>final.output.tail_au</th>\n",
       "      <th>final.output.tail_ag</th>\n",
       "      <th>final.output.tail_pb</th>\n",
       "      <th>final.output.tail_sol</th>\n",
       "      <th>sum_input</th>\n",
       "      <th>sum_rougher</th>\n",
       "      <th>sum_primary_cleaner</th>\n",
       "      <th>sum_final</th>\n",
       "    </tr>\n",
       "  </thead>\n",
       "  <tbody>\n",
       "    <tr>\n",
       "      <th>0</th>\n",
       "      <td>2016-01-15 00:00:00</td>\n",
       "      <td>6.486150</td>\n",
       "      <td>6.100378</td>\n",
       "      <td>2.284912</td>\n",
       "      <td>36.808594</td>\n",
       "      <td>523.546326</td>\n",
       "      <td>55.486599</td>\n",
       "      <td>11.986616</td>\n",
       "      <td>6.007990</td>\n",
       "      <td>999.706909</td>\n",
       "      <td>...</td>\n",
       "      <td>5.507324</td>\n",
       "      <td>70.541216</td>\n",
       "      <td>2.143149</td>\n",
       "      <td>10.411962</td>\n",
       "      <td>0.895447</td>\n",
       "      <td>16.904297</td>\n",
       "      <td>14.871440</td>\n",
       "      <td>38.395653</td>\n",
       "      <td>53.111627</td>\n",
       "      <td>58.137072</td>\n",
       "    </tr>\n",
       "    <tr>\n",
       "      <th>1</th>\n",
       "      <td>2016-01-15 01:00:00</td>\n",
       "      <td>6.478583</td>\n",
       "      <td>6.161113</td>\n",
       "      <td>2.266033</td>\n",
       "      <td>35.753385</td>\n",
       "      <td>525.290581</td>\n",
       "      <td>57.278666</td>\n",
       "      <td>11.971193</td>\n",
       "      <td>6.005766</td>\n",
       "      <td>1000.286398</td>\n",
       "      <td>...</td>\n",
       "      <td>5.257781</td>\n",
       "      <td>69.266198</td>\n",
       "      <td>2.224930</td>\n",
       "      <td>10.462676</td>\n",
       "      <td>0.927452</td>\n",
       "      <td>16.634514</td>\n",
       "      <td>14.905729</td>\n",
       "      <td>38.945647</td>\n",
       "      <td>53.174338</td>\n",
       "      <td>58.699942</td>\n",
       "    </tr>\n",
       "    <tr>\n",
       "      <th>2</th>\n",
       "      <td>2016-01-15 02:00:00</td>\n",
       "      <td>6.362222</td>\n",
       "      <td>6.116455</td>\n",
       "      <td>2.159622</td>\n",
       "      <td>35.971630</td>\n",
       "      <td>530.026610</td>\n",
       "      <td>57.510649</td>\n",
       "      <td>11.920603</td>\n",
       "      <td>6.197377</td>\n",
       "      <td>999.719565</td>\n",
       "      <td>...</td>\n",
       "      <td>5.383759</td>\n",
       "      <td>68.116445</td>\n",
       "      <td>2.257889</td>\n",
       "      <td>10.507046</td>\n",
       "      <td>0.953716</td>\n",
       "      <td>16.208849</td>\n",
       "      <td>14.638299</td>\n",
       "      <td>38.649756</td>\n",
       "      <td>52.927464</td>\n",
       "      <td>58.927421</td>\n",
       "    </tr>\n",
       "    <tr>\n",
       "      <th>3</th>\n",
       "      <td>2016-01-15 03:00:00</td>\n",
       "      <td>6.118189</td>\n",
       "      <td>6.043309</td>\n",
       "      <td>2.037807</td>\n",
       "      <td>36.862241</td>\n",
       "      <td>542.590390</td>\n",
       "      <td>57.792734</td>\n",
       "      <td>11.630094</td>\n",
       "      <td>6.203177</td>\n",
       "      <td>999.814770</td>\n",
       "      <td>...</td>\n",
       "      <td>4.858634</td>\n",
       "      <td>68.347543</td>\n",
       "      <td>2.146849</td>\n",
       "      <td>10.422762</td>\n",
       "      <td>0.883763</td>\n",
       "      <td>16.532835</td>\n",
       "      <td>14.199305</td>\n",
       "      <td>38.411473</td>\n",
       "      <td>43.979185</td>\n",
       "      <td>58.714815</td>\n",
       "    </tr>\n",
       "    <tr>\n",
       "      <th>4</th>\n",
       "      <td>2016-01-15 04:00:00</td>\n",
       "      <td>5.663707</td>\n",
       "      <td>6.060915</td>\n",
       "      <td>1.786875</td>\n",
       "      <td>34.347666</td>\n",
       "      <td>540.531893</td>\n",
       "      <td>56.047189</td>\n",
       "      <td>10.957755</td>\n",
       "      <td>6.198826</td>\n",
       "      <td>999.678690</td>\n",
       "      <td>...</td>\n",
       "      <td>4.939416</td>\n",
       "      <td>66.927016</td>\n",
       "      <td>2.055292</td>\n",
       "      <td>10.360302</td>\n",
       "      <td>0.792826</td>\n",
       "      <td>16.525686</td>\n",
       "      <td>13.511497</td>\n",
       "      <td>38.867359</td>\n",
       "      <td>52.121146</td>\n",
       "      <td>59.065251</td>\n",
       "    </tr>\n",
       "    <tr>\n",
       "      <th>...</th>\n",
       "      <td>...</td>\n",
       "      <td>...</td>\n",
       "      <td>...</td>\n",
       "      <td>...</td>\n",
       "      <td>...</td>\n",
       "      <td>...</td>\n",
       "      <td>...</td>\n",
       "      <td>...</td>\n",
       "      <td>...</td>\n",
       "      <td>...</td>\n",
       "      <td>...</td>\n",
       "      <td>...</td>\n",
       "      <td>...</td>\n",
       "      <td>...</td>\n",
       "      <td>...</td>\n",
       "      <td>...</td>\n",
       "      <td>...</td>\n",
       "      <td>...</td>\n",
       "      <td>...</td>\n",
       "      <td>...</td>\n",
       "      <td>...</td>\n",
       "    </tr>\n",
       "    <tr>\n",
       "      <th>19434</th>\n",
       "      <td>2018-08-18 06:59:59</td>\n",
       "      <td>6.620245</td>\n",
       "      <td>5.992592</td>\n",
       "      <td>2.589242</td>\n",
       "      <td>39.934641</td>\n",
       "      <td>578.654582</td>\n",
       "      <td>63.473450</td>\n",
       "      <td>14.688804</td>\n",
       "      <td>6.898599</td>\n",
       "      <td>999.688257</td>\n",
       "      <td>...</td>\n",
       "      <td>6.459561</td>\n",
       "      <td>68.786981</td>\n",
       "      <td>2.314786</td>\n",
       "      <td>10.286797</td>\n",
       "      <td>1.171459</td>\n",
       "      <td>19.131121</td>\n",
       "      <td>15.202079</td>\n",
       "      <td>36.914925</td>\n",
       "      <td>35.020953</td>\n",
       "      <td>58.775321</td>\n",
       "    </tr>\n",
       "    <tr>\n",
       "      <th>19435</th>\n",
       "      <td>2018-08-18 07:59:59</td>\n",
       "      <td>6.741324</td>\n",
       "      <td>6.158617</td>\n",
       "      <td>2.647185</td>\n",
       "      <td>40.176307</td>\n",
       "      <td>571.622005</td>\n",
       "      <td>62.815291</td>\n",
       "      <td>14.892720</td>\n",
       "      <td>6.903204</td>\n",
       "      <td>1000.479783</td>\n",
       "      <td>...</td>\n",
       "      <td>6.258693</td>\n",
       "      <td>67.839536</td>\n",
       "      <td>2.423143</td>\n",
       "      <td>10.382891</td>\n",
       "      <td>1.239738</td>\n",
       "      <td>18.544924</td>\n",
       "      <td>15.547126</td>\n",
       "      <td>37.740421</td>\n",
       "      <td>53.164595</td>\n",
       "      <td>59.719404</td>\n",
       "    </tr>\n",
       "    <tr>\n",
       "      <th>19436</th>\n",
       "      <td>2018-08-18 08:59:59</td>\n",
       "      <td>6.627458</td>\n",
       "      <td>6.015149</td>\n",
       "      <td>2.466127</td>\n",
       "      <td>39.841423</td>\n",
       "      <td>563.733146</td>\n",
       "      <td>61.287347</td>\n",
       "      <td>13.723692</td>\n",
       "      <td>6.700148</td>\n",
       "      <td>1000.014718</td>\n",
       "      <td>...</td>\n",
       "      <td>6.057627</td>\n",
       "      <td>70.847012</td>\n",
       "      <td>2.161256</td>\n",
       "      <td>10.324415</td>\n",
       "      <td>0.961210</td>\n",
       "      <td>18.185262</td>\n",
       "      <td>15.108735</td>\n",
       "      <td>37.824768</td>\n",
       "      <td>54.005770</td>\n",
       "      <td>59.503013</td>\n",
       "    </tr>\n",
       "    <tr>\n",
       "      <th>19437</th>\n",
       "      <td>2018-08-18 09:59:59</td>\n",
       "      <td>6.702243</td>\n",
       "      <td>6.097592</td>\n",
       "      <td>2.278955</td>\n",
       "      <td>37.728375</td>\n",
       "      <td>549.812490</td>\n",
       "      <td>59.637037</td>\n",
       "      <td>13.746510</td>\n",
       "      <td>6.706417</td>\n",
       "      <td>999.635748</td>\n",
       "      <td>...</td>\n",
       "      <td>5.484318</td>\n",
       "      <td>72.659046</td>\n",
       "      <td>2.064422</td>\n",
       "      <td>10.475957</td>\n",
       "      <td>1.050592</td>\n",
       "      <td>17.525656</td>\n",
       "      <td>15.078790</td>\n",
       "      <td>38.241211</td>\n",
       "      <td>42.135319</td>\n",
       "      <td>59.173650</td>\n",
       "    </tr>\n",
       "    <tr>\n",
       "      <th>19438</th>\n",
       "      <td>2018-08-18 10:59:59</td>\n",
       "      <td>6.633002</td>\n",
       "      <td>5.908793</td>\n",
       "      <td>2.440899</td>\n",
       "      <td>36.958540</td>\n",
       "      <td>573.076049</td>\n",
       "      <td>58.509262</td>\n",
       "      <td>13.707775</td>\n",
       "      <td>6.820245</td>\n",
       "      <td>1000.589156</td>\n",
       "      <td>...</td>\n",
       "      <td>5.282514</td>\n",
       "      <td>70.279619</td>\n",
       "      <td>2.209593</td>\n",
       "      <td>10.487013</td>\n",
       "      <td>1.159805</td>\n",
       "      <td>17.483979</td>\n",
       "      <td>14.982695</td>\n",
       "      <td>37.911329</td>\n",
       "      <td>53.450808</td>\n",
       "      <td>58.902686</td>\n",
       "    </tr>\n",
       "  </tbody>\n",
       "</table>\n",
       "<p>19439 rows × 91 columns</p>\n",
       "</div>"
      ],
      "text/plain": [
       "                     date  rougher.input.feed_au  rougher.input.feed_ag  \\\n",
       "0     2016-01-15 00:00:00               6.486150               6.100378   \n",
       "1     2016-01-15 01:00:00               6.478583               6.161113   \n",
       "2     2016-01-15 02:00:00               6.362222               6.116455   \n",
       "3     2016-01-15 03:00:00               6.118189               6.043309   \n",
       "4     2016-01-15 04:00:00               5.663707               6.060915   \n",
       "...                   ...                    ...                    ...   \n",
       "19434 2018-08-18 06:59:59               6.620245               5.992592   \n",
       "19435 2018-08-18 07:59:59               6.741324               6.158617   \n",
       "19436 2018-08-18 08:59:59               6.627458               6.015149   \n",
       "19437 2018-08-18 09:59:59               6.702243               6.097592   \n",
       "19438 2018-08-18 10:59:59               6.633002               5.908793   \n",
       "\n",
       "       rougher.input.feed_pb  rougher.input.feed_sol  rougher.input.feed_rate  \\\n",
       "0                   2.284912               36.808594               523.546326   \n",
       "1                   2.266033               35.753385               525.290581   \n",
       "2                   2.159622               35.971630               530.026610   \n",
       "3                   2.037807               36.862241               542.590390   \n",
       "4                   1.786875               34.347666               540.531893   \n",
       "...                      ...                     ...                      ...   \n",
       "19434               2.589242               39.934641               578.654582   \n",
       "19435               2.647185               40.176307               571.622005   \n",
       "19436               2.466127               39.841423               563.733146   \n",
       "19437               2.278955               37.728375               549.812490   \n",
       "19438               2.440899               36.958540               573.076049   \n",
       "\n",
       "       rougher.input.feed_size  rougher.input.floatbank10_sulfate  \\\n",
       "0                    55.486599                          11.986616   \n",
       "1                    57.278666                          11.971193   \n",
       "2                    57.510649                          11.920603   \n",
       "3                    57.792734                          11.630094   \n",
       "4                    56.047189                          10.957755   \n",
       "...                        ...                                ...   \n",
       "19434                63.473450                          14.688804   \n",
       "19435                62.815291                          14.892720   \n",
       "19436                61.287347                          13.723692   \n",
       "19437                59.637037                          13.746510   \n",
       "19438                58.509262                          13.707775   \n",
       "\n",
       "       rougher.input.floatbank10_xanthate  rougher.state.floatbank10_a_air  \\\n",
       "0                                6.007990                       999.706909   \n",
       "1                                6.005766                      1000.286398   \n",
       "2                                6.197377                       999.719565   \n",
       "3                                6.203177                       999.814770   \n",
       "4                                6.198826                       999.678690   \n",
       "...                                   ...                              ...   \n",
       "19434                            6.898599                       999.688257   \n",
       "19435                            6.903204                      1000.479783   \n",
       "19436                            6.700148                      1000.014718   \n",
       "19437                            6.706417                       999.635748   \n",
       "19438                            6.820245                      1000.589156   \n",
       "\n",
       "       ...  final.output.concentrate_sol  final.output.recovery  \\\n",
       "0      ...                      5.507324              70.541216   \n",
       "1      ...                      5.257781              69.266198   \n",
       "2      ...                      5.383759              68.116445   \n",
       "3      ...                      4.858634              68.347543   \n",
       "4      ...                      4.939416              66.927016   \n",
       "...    ...                           ...                    ...   \n",
       "19434  ...                      6.459561              68.786981   \n",
       "19435  ...                      6.258693              67.839536   \n",
       "19436  ...                      6.057627              70.847012   \n",
       "19437  ...                      5.484318              72.659046   \n",
       "19438  ...                      5.282514              70.279619   \n",
       "\n",
       "       final.output.tail_au  final.output.tail_ag  final.output.tail_pb  \\\n",
       "0                  2.143149             10.411962              0.895447   \n",
       "1                  2.224930             10.462676              0.927452   \n",
       "2                  2.257889             10.507046              0.953716   \n",
       "3                  2.146849             10.422762              0.883763   \n",
       "4                  2.055292             10.360302              0.792826   \n",
       "...                     ...                   ...                   ...   \n",
       "19434              2.314786             10.286797              1.171459   \n",
       "19435              2.423143             10.382891              1.239738   \n",
       "19436              2.161256             10.324415              0.961210   \n",
       "19437              2.064422             10.475957              1.050592   \n",
       "19438              2.209593             10.487013              1.159805   \n",
       "\n",
       "       final.output.tail_sol  sum_input  sum_rougher  sum_primary_cleaner  \\\n",
       "0                  16.904297  14.871440    38.395653            53.111627   \n",
       "1                  16.634514  14.905729    38.945647            53.174338   \n",
       "2                  16.208849  14.638299    38.649756            52.927464   \n",
       "3                  16.532835  14.199305    38.411473            43.979185   \n",
       "4                  16.525686  13.511497    38.867359            52.121146   \n",
       "...                      ...        ...          ...                  ...   \n",
       "19434              19.131121  15.202079    36.914925            35.020953   \n",
       "19435              18.544924  15.547126    37.740421            53.164595   \n",
       "19436              18.185262  15.108735    37.824768            54.005770   \n",
       "19437              17.525656  15.078790    38.241211            42.135319   \n",
       "19438              17.483979  14.982695    37.911329            53.450808   \n",
       "\n",
       "       sum_final  \n",
       "0      58.137072  \n",
       "1      58.699942  \n",
       "2      58.927421  \n",
       "3      58.714815  \n",
       "4      59.065251  \n",
       "...          ...  \n",
       "19434  58.775321  \n",
       "19435  59.719404  \n",
       "19436  59.503013  \n",
       "19437  59.173650  \n",
       "19438  58.902686  \n",
       "\n",
       "[19439 rows x 91 columns]"
      ]
     },
     "execution_count": 28,
     "metadata": {},
     "output_type": "execute_result"
    }
   ],
   "source": [
    "data_full['sum_input'] = data_full['rougher.input.feed_au'] + data_full['rougher.input.feed_ag'] + data_full['rougher.input.feed_pb']\n",
    "data_full['sum_rougher'] = data_full['rougher.output.concentrate_au'] + data_full['rougher.output.concentrate_ag'] + data_full['rougher.output.concentrate_pb']\n",
    "data_full['sum_primary_cleaner'] = data_full['primary_cleaner.output.concentrate_au'] + data_full['primary_cleaner.output.concentrate_ag'] + data_full['primary_cleaner.output.concentrate_pb']\n",
    "data_full['sum_final'] = data_full['final.output.concentrate_au'] + data_full['final.output.concentrate_ag'] + data_full['final.output.concentrate_pb']\n",
    "data_full"
   ]
  },
  {
   "cell_type": "markdown",
   "metadata": {},
   "source": [
    "Все верно. Теперь построим распределения."
   ]
  },
  {
   "cell_type": "code",
   "execution_count": 29,
   "metadata": {},
   "outputs": [
    {
     "data": {
      "image/png": "[encoded data removed]",
      "text/plain": [
       "<Figure size 1000x800 with 1 Axes>"
      ]
     },
     "metadata": {},
     "output_type": "display_data"
    }
   ],
   "source": [
    "plt.figure(figsize=(10, 8))\n",
    "sns.histplot(data_full['sum_input'], label='input', kde=True)\n",
    "sns.histplot(data_full['sum_rougher'], label='rougher', kde=True,color='yellow')\n",
    "sns.histplot(data_full['sum_primary_cleaner'], label='primary_cleaner', kde=True, color='orange')\n",
    "sns.histplot(data_full['sum_final'], label='output', kde=True, color='red')\n",
    "plt.legend()\n",
    "plt.show()"
   ]
  },
  {
   "cell_type": "markdown",
   "metadata": {},
   "source": [
    "**Вывод:** Суммарная концентрация металлов увеличивается после каждого этапа. С каждым новым этапом золото занимает наибольшую долю, дальше идет свинец и наименьшую долю занимает серебро."
   ]
  },
  {
   "cell_type": "markdown",
   "metadata": {},
   "source": [
    "## Модель"
   ]
  },
  {
   "cell_type": "markdown",
   "metadata": {},
   "source": [
    "### sMAPE"
   ]
  },
  {
   "cell_type": "markdown",
   "metadata": {},
   "source": [
    "sMAPE рассчитывается по формуле:\n",
    "\n",
    "$sMAPE = \\frac{1}{N}\\sum\\limits_{i=1}^N\\frac{|y_i - \\hat y_i|}{(|y_i| + |\\hat y_i|) / 2} \\times 100\\%$\n",
    "\n",
    "где:\n",
    "- $y_i$ — значение целевого признака для объекта с порядковым номером i в выборке, на которой измеряется качество;\n",
    "- $\\hat y_i$ — значение предсказания для объекта с порядковым номером i, например, в тестовой выборке;\n",
    "- N — количество объектов в выборке;\n",
    "- $\\sum\\limits_{i=1}^N$ - суммирование по всем объектам выборки (i меняется от 1 до N)\n",
    "\n",
    "Мы рассчитываем sMAPE для двух столбцов `rougher.output.recovery` и `final.output.recovery`.\n",
    "\n",
    "Итоговое sMAPE считается так:\n",
    "\n",
    "$Итоговое \\; sMAPE = 25\\% \\times sMAPE(rougher) + 75\\% \\times sMAPE(final)$\n",
    "\n",
    "Создадим функции для их расчета:"
   ]
  },
  {
   "cell_type": "code",
   "execution_count": 30,
   "metadata": {},
   "outputs": [],
   "source": [
    "# функция для расчета sMAPE\n",
    "\n",
    "def sMAPE(target, predictions):\n",
    "    sMAPE = 1/len(target) * np.sum(np.abs(target-predictions) / ((np.abs(target) + np.abs(predictions)) / 2))*100\n",
    "    return sMAPE\n",
    "    \n",
    "# функция для расчета итогового sMAPE\n",
    "def ultimate_sMAPE(rougher_sMAPE, final_sMAPE):\n",
    "    ultimate_sMAPE = 0.25 * rougher_sMAPE + 0.75 * final_sMAPE\n",
    "    return ultimate_sMAPE"
   ]
  },
  {
   "cell_type": "markdown",
   "metadata": {},
   "source": [
    "### Обучение модели"
   ]
  },
  {
   "cell_type": "markdown",
   "metadata": {},
   "source": [
    "Подготовим признаки для обучения моделей."
   ]
  },
  {
   "cell_type": "code",
   "execution_count": 31,
   "metadata": {},
   "outputs": [],
   "source": [
    "# для пргнозирования rougher.output.recovery нам нужны данные с параметром rougher\n",
    "features_rougher = data_train_new[[x for x in data_train_new if x.startswith('rougher') and 'output' not in x]]\n",
    "target_rougher = data_train_new['rougher.output.recovery']\n",
    "\n",
    "# для прогнозирования final.output.recovery нам нужны все данные, т.к. в учет идут данные рассчитанные на этапе флотации\n",
    "features_final = data_train_new.drop(['rougher.output.recovery', 'final.output.recovery'], axis=1)\n",
    "target_final = data_train_new['final.output.recovery']"
   ]
  },
  {
   "cell_type": "code",
   "execution_count": 32,
   "metadata": {},
   "outputs": [
    {
     "name": "stdout",
     "output_type": "stream",
     "text": [
      "\n",
      "Итоговый sMAPE наилучшей модели: 11.559657708045151 \n",
      "sMAPE (rougher): 15.06462263927665 \n",
      "sMAPE (final): 10.391336064301319 \n",
      "Глубина дерева: 2\n",
      "\n",
      "CPU times: total: 203 ms\n",
      "Wall time: 17.9 s\n"
     ]
    }
   ],
   "source": [
    "%%time\n",
    "\n",
    "# дерево решений\n",
    "\n",
    "best_sMAPE_tree = []\n",
    "best_result_tree = 100\n",
    "best_params_tree = 0\n",
    "\n",
    "for depth in range(1,10):\n",
    "    model_r = DecisionTreeRegressor(random_state=96, max_depth=depth)\n",
    "    scores_r = cross_val_score(model_r, features_rougher, target_rougher, cv=5, scoring=make_scorer(sMAPE, greater_is_better=False), n_jobs=-1)\n",
    "    sMAPE_rougher = np.abs(np.mean(scores_r))\n",
    "    \n",
    "    model_f = DecisionTreeRegressor(random_state=96, max_depth=depth)\n",
    "    scores_f = cross_val_score(model_f, features_final, target_final, cv=5, scoring=make_scorer(sMAPE, greater_is_better=False), n_jobs=-1)\n",
    "    sMAPE_final = np.abs(np.mean(scores_f))\n",
    "    \n",
    "    ultimate_result = ultimate_sMAPE(sMAPE_rougher, sMAPE_final)\n",
    "    \n",
    "    if ultimate_result < best_result_tree:\n",
    "        best_sMAPE_tree = [sMAPE_rougher, sMAPE_final]\n",
    "        best_result_tree = ultimate_result\n",
    "        best_params_tree = depth\n",
    "        \n",
    "print(\"\\nИтоговый sMAPE наилучшей модели:\", best_result_tree, \n",
    "      \"\\nsMAPE (rougher):\", best_sMAPE_tree[0],\n",
    "      \"\\nsMAPE (final):\", best_sMAPE_tree[1],\n",
    "      \"\\nГлубина дерева:\", best_params_tree)\n",
    "print()"
   ]
  },
  {
   "cell_type": "code",
   "execution_count": 33,
   "metadata": {},
   "outputs": [
    {
     "name": "stdout",
     "output_type": "stream",
     "text": [
      "\n",
      "Итоговый sMAPE наилучшей модели: 11.225914938519166 \n",
      "sMAPE (rougher): 13.201083737861518 \n",
      "sMAPE (final): 10.567525338738383 \n",
      "Количество деревьев: 40 \n",
      "Глубина дерева: 3\n",
      "\n",
      "CPU times: total: 1.44 s\n",
      "Wall time: 51min 25s\n"
     ]
    }
   ],
   "source": [
    "%%time\n",
    "\n",
    "# случайный лес\n",
    "\n",
    "best_sMAPE_forest = []\n",
    "best_result_forest = 100\n",
    "best_params_forest = []\n",
    "\n",
    "for est in range(10, 101, 30):\n",
    "    for depth in range (1, 11):\n",
    "        model_r = RandomForestRegressor(random_state=96, n_estimators=est, max_depth=depth)\n",
    "        scores_r = cross_val_score(model_r, features_rougher, target_rougher, cv=5, scoring=make_scorer(sMAPE, greater_is_better=False), n_jobs=-1)\n",
    "        sMAPE_rougher = np.abs(np.mean(scores_r))\n",
    "\n",
    "        model_f = RandomForestRegressor(random_state=96, n_estimators=est, max_depth=depth)\n",
    "        scores_f = cross_val_score(model_f, features_final, target_final, cv=5, scoring=make_scorer(sMAPE, greater_is_better=False), n_jobs=-1)\n",
    "        sMAPE_final = np.abs(np.mean(scores_f))\n",
    "\n",
    "        ultimate_result = ultimate_sMAPE(sMAPE_rougher, sMAPE_final)\n",
    "\n",
    "        if ultimate_result < best_result_forest:\n",
    "            best_sMAPE_forest = [sMAPE_rougher, sMAPE_final]\n",
    "            best_result_forest = ultimate_result\n",
    "            best_params_forest = [est, depth]\n",
    "            \n",
    "        \n",
    "print(\"\\nИтоговый sMAPE наилучшей модели:\", best_result_forest, \n",
    "      \"\\nsMAPE (rougher):\", best_sMAPE_forest[0],\n",
    "      \"\\nsMAPE (final):\", best_sMAPE_forest[1],\n",
    "      \"\\nКоличество деревьев:\", best_params_forest[0],\n",
    "      \"\\nГлубина дерева:\", best_params_forest[1])\n",
    "print()"
   ]
  },
  {
   "cell_type": "code",
   "execution_count": 38,
   "metadata": {},
   "outputs": [
    {
     "name": "stdout",
     "output_type": "stream",
     "text": [
      "\n",
      "Итоговый sMAPE наилучшей модели: 11.575661607489618 \n",
      "sMAPE (rougher): 12.795377234651083 \n",
      "sMAPE (final): 11.169089731769128\n",
      "\n",
      "CPU times: total: 46.9 ms\n",
      "Wall time: 935 ms\n"
     ]
    }
   ],
   "source": [
    "%%time\n",
    "\n",
    "# линейная регрессия\n",
    "\n",
    "best_sMAPE_reg = []\n",
    "\n",
    "model_r = LinearRegression()\n",
    "scores_r = cross_val_score(model_r, features_rougher, target_rougher, cv=5, scoring=make_scorer(sMAPE, greater_is_better=False), n_jobs=-1)\n",
    "best_sMAPE_reg.append(np.abs(np.mean(scores_r)))\n",
    "\n",
    "model_f = LinearRegression()\n",
    "scores_f = cross_val_score(model_f, features_final, target_final, cv=5, scoring=make_scorer(sMAPE, greater_is_better=False), n_jobs=-1)\n",
    "best_sMAPE_reg.append(np.abs(np.mean(scores_f)))\n",
    "\n",
    "best_result_reg = ultimate_sMAPE(best_sMAPE_reg[0], best_sMAPE_reg[1])\n",
    "\n",
    "print(\"\\nИтоговый sMAPE наилучшей модели:\", best_result_reg, \n",
    "      \"\\nsMAPE (rougher):\", best_sMAPE_reg[0],\n",
    "      \"\\nsMAPE (final):\", best_sMAPE_reg[1])\n",
    "print()"
   ]
  },
  {
   "cell_type": "markdown",
   "metadata": {},
   "source": [
    "**Вывод:** Наилучшие результаты показала модель случайного леса с параметрами 40 деревьев и глубина дерева - 3.\n",
    "- Итоговый sMAPE : 11.575661607489618 \n",
    "- sMAPE (rougher): 12.795377234651083 \n",
    "- sMAPE (final): 11.169089731769128"
   ]
  },
  {
   "cell_type": "markdown",
   "metadata": {},
   "source": [
    "### Тестовая выборка"
   ]
  },
  {
   "cell_type": "markdown",
   "metadata": {},
   "source": [
    "Проверим нашу лучшую модель на тестовой выборке."
   ]
  },
  {
   "cell_type": "code",
   "execution_count": 35,
   "metadata": {},
   "outputs": [],
   "source": [
    "# для пргнозирования rougher.output.recovery нам нужны данные с параметром rougher\n",
    "features_rougher_test = data_test_new[[x for x in data_test_new if x.startswith('rougher') and 'output' not in x]]\n",
    "target_rougher_test = data_test_new['rougher.output.recovery']\n",
    "# для прогнозирования final.output.recovery нам нужны все данные, т.к. в учет идут данные рассчитанные на этапе флотации\n",
    "features_final_test = data_test_new.drop(['rougher.output.recovery', 'final.output.recovery'], axis=1)\n",
    "target_final_test = data_test_new['final.output.recovery']"
   ]
  },
  {
   "cell_type": "code",
   "execution_count": 39,
   "metadata": {
    "scrolled": true
   },
   "outputs": [
    {
     "name": "stdout",
     "output_type": "stream",
     "text": [
      "\n",
      "Итоговый sMAPE наилучшей модели на тестовой выборке: 7.729238079186234 \n",
      "sMAPE (rougher): 5.837285590081303 \n",
      "sMAPE (final): 8.359888908887877\n",
      "\n",
      "CPU times: total: 6.62 s\n",
      "Wall time: 14.5 s\n"
     ]
    }
   ],
   "source": [
    "%%time\n",
    "\n",
    "model_r = RandomForestRegressor(random_state=96, n_estimators=40, max_depth=3)\n",
    "model_r.fit(features_rougher, target_rougher)\n",
    "predicted_rougher = model_r.predict(features_rougher_test)\n",
    "sMAPE_rougher_test = sMAPE(target_rougher_test, predicted_rougher)\n",
    "\n",
    "model_f = RandomForestRegressor(random_state=96, n_estimators=40, max_depth=3)\n",
    "model_f.fit(features_final, target_final)\n",
    "predicted_final = model_f.predict(features_final_test)\n",
    "sMAPE_final_test = sMAPE(target_final_test, predicted_final)\n",
    "\n",
    "sMAPE_ultimate_test = ultimate_sMAPE(sMAPE_rougher_test, sMAPE_final_test)\n",
    "\n",
    "print(\"\\nИтоговый sMAPE наилучшей модели на тестовой выборке:\", sMAPE_ultimate_test, \n",
    "      \"\\nsMAPE (rougher):\", sMAPE_rougher_test,\n",
    "      \"\\nsMAPE (final):\", sMAPE_final_test)\n",
    "print()"
   ]
  },
  {
   "cell_type": "markdown",
   "metadata": {},
   "source": [
    "Лучшая модель случайного леса с параметрами 40 деревьев и глубиной дерева - 3 на тестовой выборке показала следующие результаты:\n",
    "- Итоговый sMAPE на тестовой выборке: 7.729238079186234 \n",
    "- sMAPE (rougher): 5.837285590081303 \n",
    "- sMAPE (final): 8.359888908887877"
   ]
  },
  {
   "cell_type": "markdown",
   "metadata": {},
   "source": [
    "### Проверка модели на адекватность"
   ]
  },
  {
   "cell_type": "markdown",
   "metadata": {},
   "source": [
    "Проверим нашу лучшую модель на адекватность."
   ]
  },
  {
   "cell_type": "code",
   "execution_count": 40,
   "metadata": {},
   "outputs": [
    {
     "name": "stdout",
     "output_type": "stream",
     "text": [
      "\n",
      "Итоговый sMAPE наилучшей модели на тестовой выборке: 8.843396027364125 \n",
      "sMAPE (rougher): 7.149670979818717 \n",
      "sMAPE (final): 9.407971043212594\n",
      "\n",
      "CPU times: total: 0 ns\n",
      "Wall time: 5.47 ms\n"
     ]
    }
   ],
   "source": [
    "%%time\n",
    "\n",
    "model_r = DummyRegressor(strategy=\"mean\")\n",
    "model_r.fit(features_rougher, target_rougher)\n",
    "predicted_rougher = model_r.predict(features_rougher_test)\n",
    "sMAPE_rougher_test = sMAPE(target_rougher_test, predicted_rougher)\n",
    "\n",
    "model_f = DummyRegressor(strategy=\"mean\")\n",
    "model_f.fit(features_final, target_final)\n",
    "predicted_final = model_f.predict(features_final_test)\n",
    "sMAPE_final_test = sMAPE(target_final_test, predicted_final)\n",
    "\n",
    "sMAPE_ultimate_test = ultimate_sMAPE(sMAPE_rougher_test, sMAPE_final_test)\n",
    "\n",
    "print(\"\\nИтоговый sMAPE наилучшей модели на тестовой выборке:\", sMAPE_ultimate_test, \n",
    "      \"\\nsMAPE (rougher):\", sMAPE_rougher_test,\n",
    "      \"\\nsMAPE (final):\", sMAPE_final_test)\n",
    "print()"
   ]
  },
  {
   "cell_type": "markdown",
   "metadata": {},
   "source": [
    "Наша модель показала лучший результат, чем константная модель."
   ]
  },
  {
   "cell_type": "markdown",
   "metadata": {},
   "source": [
    "**Вывод:** Модель с параметрами случайного леса с параметрами 40 деревьев и глубиной дерева - 3 показала наилучший результат (11.58) при оценке качества кросс-валидацией.\n",
    "На тестовой выборке она показала результат 7.73, что оказалось больше чем sMAPE константной модели."
   ]
  },
  {
   "cell_type": "markdown",
   "metadata": {},
   "source": [
    "## Общий вывод"
   ]
  },
  {
   "cell_type": "markdown",
   "metadata": {},
   "source": [
    "В данном проекте мы изучили данные с параметрами добычи и очистки золотосодержащей руды. Мы должны были подготовить прототип модели для компании \"Цифры\". Модель должна предсказать коэффициент восстановления золота из золотосодержащей руды. Нам были даны 3 файла с исходными данными и производными из них тестовой и обучающей выборкой.\n",
    "\n",
    "Во время проведения обзора данных, мы обнаружили, что в тренировочной выборке присутствуют поля `output` и `calculation`, которые отсутствуют в тестовой выборке. Эти поля использовали параметры, которые рассчитывались после завершения технологических этапов, поэтому мы их удалили, чтобы не допустить \"утечку данных\". Также была проведена проверка расчета эффективности обогащения после этапа флотации. Мы вручную вычислили эти данные и сравнили с имеющимися. MAE между нашими расчётами и значением эффективности обогащения составил 9.83758577644259e-15.\n",
    "\n",
    "В результате предобработки данных мы сделали следующее:\n",
    "1. Удалили 0 значения в концентрациях металлов и солей.\n",
    "2. Заменили строки с отутствующими значениями предыдущими измерениями.\n",
    "2. Привели числовые признаки к одному масштабу.\n",
    "3. Поменяли тип данных столбца с датами.\n",
    "4. Добавили столбцы с целевыми признаками в тестовую выборку.\n",
    "\n",
    "При исследовании концентрации металлов были сделаны следующие выводы:\n",
    "1. Концентрация золота увеличивается после каждого этапа.\n",
    "\n",
    "2. Доля серебра в среднем увеличивается после этапа флотации. После этапов очистки доля серебра уменьшается.\n",
    "\n",
    "3. Доля свинца увеличивается после каждого этапа вплоть до вторичной очистки.\n",
    "\n",
    "При анализе размеров гранул исходного сырья с помощью статистического теста и визуального исследования были сделаны выводы, что \n",
    "распределения размеров гранул исходного сырья на обучающей и тестовой выборках не различаются друг от друга.\n",
    "\n",
    "Также мы выяснили, что суммарная концентрация металлов увеличивается после каждого этапа. С каждым новым этапом золото занимает наибольшую долю, дальше идет свинец и наименьшую долю занимает серебро.\n",
    "\n",
    "Мы обучили и оценили с помощью методики кросс-валидации модели Решающего дерева, Случайного леса и Линейной регрессии. Наилучший результат показала модель случайного леса с параметрами 40 деревьев и глубина дерева - 3.\n",
    "- Итоговый sMAPE : 11.575661607489618 \n",
    "- sMAPE (rougher): 12.795377234651083 \n",
    "- sMAPE (final): 11.169089731769128\n",
    "\n",
    "На тестовой выборке модель показала:\n",
    "- Итоговый sMAPE на тестовой выборке: 7.729238079186234 \n",
    "- sMAPE (rougher): 5.837285590081303 \n",
    "- sMAPE (final): 8.359888908887877\n",
    "\n",
    "Сравнение с константной моделью наша модель прошла успешно.\n",
    "\n",
    "\n",
    "Дальнейшие рекомендации:\n",
    "- Некоторые концентрации металлов и солей были не рассчитаны в исходных данных. Вероятно причина в датчиках, которые измеряют концентрации. Может потребоваться замена или ремонт.\n",
    "- Обучение и оценка модели случайного леса методикой кросс-валидации занимает очень много времени (на разных устройствах от 30 до 120 мин)"
   ]
  }
 ],
 "metadata": {
  "ExecuteTimeLog": [
   {
    "duration": 1784,
    "start_time": "2023-07-13T17:23:20.051Z"
   },
   {
    "duration": 3372,
    "start_time": "2023-07-13T17:26:30.829Z"
   },
   {
    "duration": 777,
    "start_time": "2023-07-13T17:27:17.934Z"
   },
   {
    "duration": 36,
    "start_time": "2023-07-13T17:27:34.454Z"
   },
   {
    "duration": 32,
    "start_time": "2023-07-13T17:28:47.005Z"
   },
   {
    "duration": 21,
    "start_time": "2023-07-13T17:29:11.738Z"
   },
   {
    "duration": 119,
    "start_time": "2023-07-13T17:31:11.407Z"
   },
   {
    "duration": 11,
    "start_time": "2023-07-13T17:31:27.884Z"
   },
   {
    "duration": 83,
    "start_time": "2023-07-13T17:31:41.212Z"
   },
   {
    "duration": 67,
    "start_time": "2023-07-13T17:31:44.398Z"
   },
   {
    "duration": 101,
    "start_time": "2023-07-13T17:32:48.464Z"
   },
   {
    "duration": 17676,
    "start_time": "2023-07-13T17:32:55.660Z"
   },
   {
    "duration": 856,
    "start_time": "2023-07-13T17:33:13.338Z"
   },
   {
    "duration": 4882,
    "start_time": "2023-07-13T17:39:39.901Z"
   },
   {
    "duration": 1031,
    "start_time": "2023-07-13T17:39:44.785Z"
   },
   {
    "duration": 33,
    "start_time": "2023-07-13T17:39:45.819Z"
   },
   {
    "duration": 47,
    "start_time": "2023-07-13T17:39:45.854Z"
   },
   {
    "duration": 27,
    "start_time": "2023-07-13T17:39:45.903Z"
   },
   {
    "duration": 56,
    "start_time": "2023-07-13T17:39:45.933Z"
   },
   {
    "duration": 21,
    "start_time": "2023-07-13T17:40:22.911Z"
   },
   {
    "duration": 20,
    "start_time": "2023-07-13T17:40:50.136Z"
   },
   {
    "duration": 246,
    "start_time": "2023-07-13T17:42:45.149Z"
   },
   {
    "duration": 3,
    "start_time": "2023-07-13T17:50:14.796Z"
   },
   {
    "duration": 3,
    "start_time": "2023-07-13T18:22:26.759Z"
   },
   {
    "duration": 6,
    "start_time": "2023-07-13T18:23:50.667Z"
   },
   {
    "duration": 167,
    "start_time": "2023-07-13T18:24:01.291Z"
   },
   {
    "duration": 18,
    "start_time": "2023-07-13T18:24:37.134Z"
   },
   {
    "duration": 19,
    "start_time": "2023-07-13T18:24:51.434Z"
   },
   {
    "duration": 8,
    "start_time": "2023-07-13T18:24:55.552Z"
   },
   {
    "duration": 72,
    "start_time": "2023-07-13T18:26:13.807Z"
   },
   {
    "duration": 11,
    "start_time": "2023-07-13T18:26:26.413Z"
   },
   {
    "duration": 69,
    "start_time": "2023-07-13T18:26:53.719Z"
   },
   {
    "duration": 9,
    "start_time": "2023-07-13T18:27:00.160Z"
   },
   {
    "duration": 5,
    "start_time": "2023-07-13T18:29:43.521Z"
   },
   {
    "duration": 20,
    "start_time": "2023-07-13T18:29:52.144Z"
   },
   {
    "duration": 5,
    "start_time": "2023-07-13T18:30:07.397Z"
   },
   {
    "duration": 5,
    "start_time": "2023-07-13T18:33:57.790Z"
   },
   {
    "duration": 6,
    "start_time": "2023-07-13T18:45:00.823Z"
   },
   {
    "duration": 9,
    "start_time": "2023-07-13T19:10:55.396Z"
   },
   {
    "duration": 17,
    "start_time": "2023-07-13T19:11:50.643Z"
   },
   {
    "duration": 3,
    "start_time": "2023-07-13T19:12:06.490Z"
   },
   {
    "duration": 25,
    "start_time": "2023-07-13T19:12:11.718Z"
   },
   {
    "duration": 2578,
    "start_time": "2023-07-13T19:12:21.418Z"
   },
   {
    "duration": 10,
    "start_time": "2023-07-13T19:12:56.712Z"
   },
   {
    "duration": 15,
    "start_time": "2023-07-13T19:15:17.662Z"
   },
   {
    "duration": 18,
    "start_time": "2023-07-13T19:15:24.561Z"
   },
   {
    "duration": 10,
    "start_time": "2023-07-13T19:15:36.661Z"
   },
   {
    "duration": 21,
    "start_time": "2023-07-13T19:15:53.453Z"
   },
   {
    "duration": 9,
    "start_time": "2023-07-13T19:16:52.979Z"
   },
   {
    "duration": 24,
    "start_time": "2023-07-13T19:18:34.838Z"
   },
   {
    "duration": 40,
    "start_time": "2023-07-13T19:18:48.094Z"
   },
   {
    "duration": 12,
    "start_time": "2023-07-13T19:20:21.089Z"
   },
   {
    "duration": 12,
    "start_time": "2023-07-13T19:20:39.019Z"
   },
   {
    "duration": 14,
    "start_time": "2023-07-13T19:20:43.910Z"
   },
   {
    "duration": 15,
    "start_time": "2023-07-13T19:25:16.911Z"
   },
   {
    "duration": 16,
    "start_time": "2023-07-13T19:25:44.793Z"
   },
   {
    "duration": 21,
    "start_time": "2023-07-13T19:26:19.996Z"
   },
   {
    "duration": 18,
    "start_time": "2023-07-13T19:26:27.450Z"
   },
   {
    "duration": 1562,
    "start_time": "2023-07-13T19:26:52.493Z"
   },
   {
    "duration": 882,
    "start_time": "2023-07-13T19:26:54.058Z"
   },
   {
    "duration": 36,
    "start_time": "2023-07-13T19:26:54.941Z"
   },
   {
    "duration": 23,
    "start_time": "2023-07-13T19:26:54.980Z"
   },
   {
    "duration": 35,
    "start_time": "2023-07-13T19:26:55.006Z"
   },
   {
    "duration": 32,
    "start_time": "2023-07-13T19:26:55.043Z"
   },
   {
    "duration": 13,
    "start_time": "2023-07-13T19:26:55.077Z"
   },
   {
    "duration": 37,
    "start_time": "2023-07-13T19:26:55.092Z"
   },
   {
    "duration": 10,
    "start_time": "2023-07-13T19:26:55.131Z"
   },
   {
    "duration": 28,
    "start_time": "2023-07-13T19:26:55.144Z"
   },
   {
    "duration": 55,
    "start_time": "2023-07-13T19:26:55.174Z"
   },
   {
    "duration": 61,
    "start_time": "2023-07-13T19:26:55.231Z"
   },
   {
    "duration": 15,
    "start_time": "2023-07-13T19:27:38.960Z"
   },
   {
    "duration": 15,
    "start_time": "2023-07-13T19:27:47.013Z"
   },
   {
    "duration": 13,
    "start_time": "2023-07-13T19:27:51.651Z"
   },
   {
    "duration": 13,
    "start_time": "2023-07-13T19:28:03.192Z"
   },
   {
    "duration": 13,
    "start_time": "2023-07-13T19:28:06.243Z"
   },
   {
    "duration": 16,
    "start_time": "2023-07-13T19:28:43.629Z"
   },
   {
    "duration": 11,
    "start_time": "2023-07-13T19:30:32.705Z"
   },
   {
    "duration": 9,
    "start_time": "2023-07-13T19:31:04.495Z"
   },
   {
    "duration": 12,
    "start_time": "2023-07-13T19:31:24.120Z"
   },
   {
    "duration": 11,
    "start_time": "2023-07-13T19:31:38.552Z"
   },
   {
    "duration": 166,
    "start_time": "2023-07-13T19:37:24.519Z"
   },
   {
    "duration": 128,
    "start_time": "2023-07-13T19:43:04.116Z"
   },
   {
    "duration": 1474,
    "start_time": "2023-07-13T19:43:28.591Z"
   },
   {
    "duration": 862,
    "start_time": "2023-07-13T19:43:30.076Z"
   },
   {
    "duration": 46,
    "start_time": "2023-07-13T19:43:30.940Z"
   },
   {
    "duration": 24,
    "start_time": "2023-07-13T19:43:30.988Z"
   },
   {
    "duration": 49,
    "start_time": "2023-07-13T19:43:31.014Z"
   },
   {
    "duration": 66,
    "start_time": "2023-07-13T19:43:31.065Z"
   },
   {
    "duration": 58,
    "start_time": "2023-07-13T19:43:31.133Z"
   },
   {
    "duration": 52,
    "start_time": "2023-07-13T19:43:31.192Z"
   },
   {
    "duration": 41,
    "start_time": "2023-07-13T19:43:31.246Z"
   },
   {
    "duration": 50,
    "start_time": "2023-07-13T19:43:31.288Z"
   },
   {
    "duration": 177,
    "start_time": "2023-07-13T19:43:31.340Z"
   },
   {
    "duration": 0,
    "start_time": "2023-07-13T19:43:31.519Z"
   },
   {
    "duration": 0,
    "start_time": "2023-07-13T19:43:31.520Z"
   },
   {
    "duration": 0,
    "start_time": "2023-07-13T19:43:31.521Z"
   },
   {
    "duration": 0,
    "start_time": "2023-07-13T19:43:31.523Z"
   },
   {
    "duration": 0,
    "start_time": "2023-07-13T19:43:31.524Z"
   },
   {
    "duration": 35,
    "start_time": "2023-07-13T19:43:44.852Z"
   },
   {
    "duration": 1463,
    "start_time": "2023-07-13T19:45:19.941Z"
   },
   {
    "duration": 823,
    "start_time": "2023-07-13T19:45:21.406Z"
   },
   {
    "duration": 39,
    "start_time": "2023-07-13T19:45:22.231Z"
   },
   {
    "duration": 30,
    "start_time": "2023-07-13T19:45:22.274Z"
   },
   {
    "duration": 24,
    "start_time": "2023-07-13T19:45:22.307Z"
   },
   {
    "duration": 41,
    "start_time": "2023-07-13T19:45:22.333Z"
   },
   {
    "duration": 18,
    "start_time": "2023-07-13T19:45:22.378Z"
   },
   {
    "duration": 22,
    "start_time": "2023-07-13T19:45:22.398Z"
   },
   {
    "duration": 61,
    "start_time": "2023-07-13T19:45:22.422Z"
   },
   {
    "duration": 5,
    "start_time": "2023-07-13T19:45:22.485Z"
   },
   {
    "duration": 101,
    "start_time": "2023-07-13T19:45:22.492Z"
   },
   {
    "duration": 74,
    "start_time": "2023-07-13T19:45:22.594Z"
   },
   {
    "duration": 14,
    "start_time": "2023-07-13T19:45:22.672Z"
   },
   {
    "duration": 11,
    "start_time": "2023-07-13T19:45:22.690Z"
   },
   {
    "duration": 405,
    "start_time": "2023-07-13T19:45:22.703Z"
   },
   {
    "duration": 286,
    "start_time": "2023-07-13T19:45:23.109Z"
   },
   {
    "duration": 21,
    "start_time": "2023-07-13T20:01:59.515Z"
   },
   {
    "duration": 1643,
    "start_time": "2023-07-13T20:02:12.461Z"
   },
   {
    "duration": 814,
    "start_time": "2023-07-13T20:02:14.106Z"
   },
   {
    "duration": 27,
    "start_time": "2023-07-13T20:02:14.921Z"
   },
   {
    "duration": 44,
    "start_time": "2023-07-13T20:02:14.951Z"
   },
   {
    "duration": 83,
    "start_time": "2023-07-13T20:02:14.996Z"
   },
   {
    "duration": 79,
    "start_time": "2023-07-13T20:02:15.081Z"
   },
   {
    "duration": 44,
    "start_time": "2023-07-13T20:02:15.162Z"
   },
   {
    "duration": 50,
    "start_time": "2023-07-13T20:02:15.208Z"
   },
   {
    "duration": 25,
    "start_time": "2023-07-13T20:02:15.260Z"
   },
   {
    "duration": 12,
    "start_time": "2023-07-13T20:02:15.288Z"
   },
   {
    "duration": 51,
    "start_time": "2023-07-13T20:02:15.302Z"
   },
   {
    "duration": 22,
    "start_time": "2023-07-13T20:02:15.355Z"
   },
   {
    "duration": 11,
    "start_time": "2023-07-13T20:02:15.379Z"
   },
   {
    "duration": 33,
    "start_time": "2023-07-13T20:02:15.391Z"
   },
   {
    "duration": 200,
    "start_time": "2023-07-13T20:02:15.425Z"
   },
   {
    "duration": 123,
    "start_time": "2023-07-13T20:02:15.627Z"
   },
   {
    "duration": 34,
    "start_time": "2023-07-13T20:04:27.193Z"
   },
   {
    "duration": 11,
    "start_time": "2023-07-13T20:06:21.393Z"
   },
   {
    "duration": 13,
    "start_time": "2023-07-13T20:06:48.934Z"
   },
   {
    "duration": 13,
    "start_time": "2023-07-13T20:07:04.498Z"
   },
   {
    "duration": 14,
    "start_time": "2023-07-13T20:08:05.472Z"
   },
   {
    "duration": 10,
    "start_time": "2023-07-13T20:08:19.444Z"
   },
   {
    "duration": 8,
    "start_time": "2023-07-13T20:08:30.582Z"
   },
   {
    "duration": 11,
    "start_time": "2023-07-13T20:09:39.346Z"
   },
   {
    "duration": 14,
    "start_time": "2023-07-13T20:11:22.644Z"
   },
   {
    "duration": 11,
    "start_time": "2023-07-13T20:11:42.393Z"
   },
   {
    "duration": 12,
    "start_time": "2023-07-13T20:11:47.092Z"
   },
   {
    "duration": 13,
    "start_time": "2023-07-13T20:12:05.015Z"
   },
   {
    "duration": 10,
    "start_time": "2023-07-13T20:12:12.257Z"
   },
   {
    "duration": 5,
    "start_time": "2023-07-13T20:12:20.689Z"
   },
   {
    "duration": 5,
    "start_time": "2023-07-13T20:12:36.922Z"
   },
   {
    "duration": 14,
    "start_time": "2023-07-13T20:12:47.685Z"
   },
   {
    "duration": 69,
    "start_time": "2023-07-13T20:13:31.121Z"
   },
   {
    "duration": 4,
    "start_time": "2023-07-13T20:13:38.699Z"
   },
   {
    "duration": 11,
    "start_time": "2023-07-13T20:13:42.103Z"
   },
   {
    "duration": 11,
    "start_time": "2023-07-13T20:13:48.018Z"
   },
   {
    "duration": 13,
    "start_time": "2023-07-13T20:14:23.167Z"
   },
   {
    "duration": 10,
    "start_time": "2023-07-13T20:14:57.572Z"
   },
   {
    "duration": 17,
    "start_time": "2023-07-13T20:15:27.773Z"
   },
   {
    "duration": 13,
    "start_time": "2023-07-13T20:15:53.069Z"
   },
   {
    "duration": 16,
    "start_time": "2023-07-13T20:16:02.016Z"
   },
   {
    "duration": 11,
    "start_time": "2023-07-13T20:16:31.994Z"
   },
   {
    "duration": 9,
    "start_time": "2023-07-13T20:16:44.154Z"
   },
   {
    "duration": 13,
    "start_time": "2023-07-13T20:16:55.553Z"
   },
   {
    "duration": 1443,
    "start_time": "2023-07-13T20:17:03.323Z"
   },
   {
    "duration": 827,
    "start_time": "2023-07-13T20:17:04.768Z"
   },
   {
    "duration": 27,
    "start_time": "2023-07-13T20:17:05.597Z"
   },
   {
    "duration": 66,
    "start_time": "2023-07-13T20:17:05.626Z"
   },
   {
    "duration": 49,
    "start_time": "2023-07-13T20:17:05.694Z"
   },
   {
    "duration": 52,
    "start_time": "2023-07-13T20:17:05.745Z"
   },
   {
    "duration": 45,
    "start_time": "2023-07-13T20:17:05.798Z"
   },
   {
    "duration": 77,
    "start_time": "2023-07-13T20:17:05.844Z"
   },
   {
    "duration": 51,
    "start_time": "2023-07-13T20:17:05.923Z"
   },
   {
    "duration": 41,
    "start_time": "2023-07-13T20:17:05.976Z"
   },
   {
    "duration": 89,
    "start_time": "2023-07-13T20:17:06.019Z"
   },
   {
    "duration": 73,
    "start_time": "2023-07-13T20:17:06.110Z"
   },
   {
    "duration": 103,
    "start_time": "2023-07-13T20:17:06.185Z"
   },
   {
    "duration": 44,
    "start_time": "2023-07-13T20:17:06.292Z"
   },
   {
    "duration": 366,
    "start_time": "2023-07-13T20:17:06.337Z"
   },
   {
    "duration": 62,
    "start_time": "2023-07-13T20:17:06.705Z"
   },
   {
    "duration": 219,
    "start_time": "2023-07-13T20:17:06.769Z"
   },
   {
    "duration": 33,
    "start_time": "2023-07-13T20:17:25.162Z"
   },
   {
    "duration": 1514,
    "start_time": "2023-07-13T20:17:40.852Z"
   },
   {
    "duration": 791,
    "start_time": "2023-07-13T20:17:42.369Z"
   },
   {
    "duration": 28,
    "start_time": "2023-07-13T20:17:43.162Z"
   },
   {
    "duration": 26,
    "start_time": "2023-07-13T20:17:43.191Z"
   },
   {
    "duration": 49,
    "start_time": "2023-07-13T20:17:43.220Z"
   },
   {
    "duration": 23,
    "start_time": "2023-07-13T20:17:43.270Z"
   },
   {
    "duration": 15,
    "start_time": "2023-07-13T20:17:43.295Z"
   },
   {
    "duration": 20,
    "start_time": "2023-07-13T20:17:43.311Z"
   },
   {
    "duration": 35,
    "start_time": "2023-07-13T20:17:43.333Z"
   },
   {
    "duration": 5,
    "start_time": "2023-07-13T20:17:43.370Z"
   },
   {
    "duration": 50,
    "start_time": "2023-07-13T20:17:43.377Z"
   },
   {
    "duration": 41,
    "start_time": "2023-07-13T20:17:43.429Z"
   },
   {
    "duration": 11,
    "start_time": "2023-07-13T20:17:43.472Z"
   },
   {
    "duration": 8,
    "start_time": "2023-07-13T20:17:43.485Z"
   },
   {
    "duration": 167,
    "start_time": "2023-07-13T20:17:43.495Z"
   },
   {
    "duration": 32,
    "start_time": "2023-07-13T20:17:43.666Z"
   },
   {
    "duration": 155,
    "start_time": "2023-07-13T20:18:05.085Z"
   },
   {
    "duration": 180,
    "start_time": "2023-07-13T20:18:43.300Z"
   },
   {
    "duration": 58,
    "start_time": "2023-07-14T13:27:46.912Z"
   },
   {
    "duration": 1994,
    "start_time": "2023-07-14T13:27:56.381Z"
   },
   {
    "duration": 2554,
    "start_time": "2023-07-14T13:27:58.379Z"
   },
   {
    "duration": 43,
    "start_time": "2023-07-14T13:28:00.936Z"
   },
   {
    "duration": 41,
    "start_time": "2023-07-14T13:28:00.981Z"
   },
   {
    "duration": 73,
    "start_time": "2023-07-14T13:28:01.024Z"
   },
   {
    "duration": 60,
    "start_time": "2023-07-14T13:28:01.099Z"
   },
   {
    "duration": 45,
    "start_time": "2023-07-14T13:28:01.167Z"
   },
   {
    "duration": 61,
    "start_time": "2023-07-14T13:28:01.214Z"
   },
   {
    "duration": 27,
    "start_time": "2023-07-14T13:28:01.279Z"
   },
   {
    "duration": 67,
    "start_time": "2023-07-14T13:28:01.309Z"
   },
   {
    "duration": 83,
    "start_time": "2023-07-14T13:28:01.378Z"
   },
   {
    "duration": 29,
    "start_time": "2023-07-14T13:28:01.462Z"
   },
   {
    "duration": 33,
    "start_time": "2023-07-14T13:28:01.493Z"
   },
   {
    "duration": 35,
    "start_time": "2023-07-14T13:28:01.528Z"
   },
   {
    "duration": 212,
    "start_time": "2023-07-14T13:28:01.564Z"
   },
   {
    "duration": 221,
    "start_time": "2023-07-14T13:28:01.778Z"
   },
   {
    "duration": 143,
    "start_time": "2023-07-14T13:28:02.001Z"
   },
   {
    "duration": 0,
    "start_time": "2023-07-14T13:28:02.146Z"
   },
   {
    "duration": 166,
    "start_time": "2023-07-14T13:30:16.230Z"
   },
   {
    "duration": 16,
    "start_time": "2023-07-14T13:34:17.771Z"
   },
   {
    "duration": 16,
    "start_time": "2023-07-14T13:34:32.986Z"
   },
   {
    "duration": 14,
    "start_time": "2023-07-14T13:38:55.871Z"
   },
   {
    "duration": 15,
    "start_time": "2023-07-14T13:39:12.599Z"
   },
   {
    "duration": 13,
    "start_time": "2023-07-14T13:39:43.982Z"
   },
   {
    "duration": 14,
    "start_time": "2023-07-14T13:40:08.781Z"
   },
   {
    "duration": 14,
    "start_time": "2023-07-14T13:40:29.932Z"
   },
   {
    "duration": 84,
    "start_time": "2023-07-14T13:40:40.384Z"
   },
   {
    "duration": 5,
    "start_time": "2023-07-14T13:41:05.089Z"
   },
   {
    "duration": 14,
    "start_time": "2023-07-14T13:41:23.942Z"
   },
   {
    "duration": 4251,
    "start_time": "2023-07-14T13:43:30.436Z"
   },
   {
    "duration": 2243,
    "start_time": "2023-07-14T13:44:29.645Z"
   },
   {
    "duration": 731,
    "start_time": "2023-07-14T14:07:08.568Z"
   },
   {
    "duration": 771,
    "start_time": "2023-07-14T14:07:47.600Z"
   },
   {
    "duration": 686,
    "start_time": "2023-07-14T15:08:27.772Z"
   },
   {
    "duration": 786,
    "start_time": "2023-07-14T15:18:31.563Z"
   },
   {
    "duration": 980,
    "start_time": "2023-07-14T15:18:36.685Z"
   },
   {
    "duration": 1224,
    "start_time": "2023-07-14T15:18:54.219Z"
   },
   {
    "duration": 1458,
    "start_time": "2023-07-14T15:19:01.381Z"
   },
   {
    "duration": 1921,
    "start_time": "2023-07-14T15:19:19.286Z"
   },
   {
    "duration": 1489,
    "start_time": "2023-07-14T15:19:36.162Z"
   },
   {
    "duration": 92,
    "start_time": "2023-07-14T15:19:53.643Z"
   },
   {
    "duration": 86,
    "start_time": "2023-07-14T15:19:58.614Z"
   },
   {
    "duration": 1539,
    "start_time": "2023-07-14T15:20:01.707Z"
   },
   {
    "duration": 1536,
    "start_time": "2023-07-14T15:20:07.579Z"
   },
   {
    "duration": 1665,
    "start_time": "2023-07-14T15:20:10.651Z"
   },
   {
    "duration": 1620,
    "start_time": "2023-07-14T15:20:33.528Z"
   },
   {
    "duration": 1029,
    "start_time": "2023-07-14T15:23:52.971Z"
   },
   {
    "duration": 1840,
    "start_time": "2023-07-14T15:24:05.095Z"
   },
   {
    "duration": 1963,
    "start_time": "2023-07-14T15:24:11.304Z"
   },
   {
    "duration": 2668,
    "start_time": "2023-07-14T15:25:07.212Z"
   },
   {
    "duration": 1658,
    "start_time": "2023-07-14T15:25:43.187Z"
   },
   {
    "duration": 15,
    "start_time": "2023-07-14T15:29:00.721Z"
   },
   {
    "duration": 11,
    "start_time": "2023-07-14T15:29:07.874Z"
   },
   {
    "duration": 53,
    "start_time": "2023-07-14T15:29:10.820Z"
   },
   {
    "duration": 146,
    "start_time": "2023-07-14T16:04:47.841Z"
   },
   {
    "duration": 194,
    "start_time": "2023-07-14T16:05:01.300Z"
   },
   {
    "duration": 1531,
    "start_time": "2023-07-14T16:07:14.560Z"
   },
   {
    "duration": 846,
    "start_time": "2023-07-14T16:07:16.094Z"
   },
   {
    "duration": 44,
    "start_time": "2023-07-14T16:07:16.942Z"
   },
   {
    "duration": 24,
    "start_time": "2023-07-14T16:07:16.989Z"
   },
   {
    "duration": 61,
    "start_time": "2023-07-14T16:07:17.015Z"
   },
   {
    "duration": 39,
    "start_time": "2023-07-14T16:07:17.078Z"
   },
   {
    "duration": 16,
    "start_time": "2023-07-14T16:07:17.120Z"
   },
   {
    "duration": 28,
    "start_time": "2023-07-14T16:07:17.153Z"
   },
   {
    "duration": 12,
    "start_time": "2023-07-14T16:07:17.183Z"
   },
   {
    "duration": 23,
    "start_time": "2023-07-14T16:07:17.200Z"
   },
   {
    "duration": 66,
    "start_time": "2023-07-14T16:07:17.226Z"
   },
   {
    "duration": 27,
    "start_time": "2023-07-14T16:07:17.294Z"
   },
   {
    "duration": 37,
    "start_time": "2023-07-14T16:07:17.323Z"
   },
   {
    "duration": 31,
    "start_time": "2023-07-14T16:07:17.362Z"
   },
   {
    "duration": 170,
    "start_time": "2023-07-14T16:07:17.395Z"
   },
   {
    "duration": 196,
    "start_time": "2023-07-14T16:07:17.567Z"
   },
   {
    "duration": 2006,
    "start_time": "2023-07-14T16:07:17.765Z"
   },
   {
    "duration": 55,
    "start_time": "2023-07-14T16:07:19.772Z"
   },
   {
    "duration": 144,
    "start_time": "2023-07-14T16:07:19.829Z"
   },
   {
    "duration": 201,
    "start_time": "2023-07-14T16:07:19.976Z"
   },
   {
    "duration": 1572,
    "start_time": "2023-07-17T04:46:08.156Z"
   },
   {
    "duration": 1998,
    "start_time": "2023-07-17T04:46:09.730Z"
   },
   {
    "duration": 22,
    "start_time": "2023-07-17T04:46:11.730Z"
   },
   {
    "duration": 18,
    "start_time": "2023-07-17T04:46:11.754Z"
   },
   {
    "duration": 32,
    "start_time": "2023-07-17T04:46:11.774Z"
   },
   {
    "duration": 34,
    "start_time": "2023-07-17T04:46:11.808Z"
   },
   {
    "duration": 17,
    "start_time": "2023-07-17T04:46:11.843Z"
   },
   {
    "duration": 22,
    "start_time": "2023-07-17T04:46:11.862Z"
   },
   {
    "duration": 8,
    "start_time": "2023-07-17T04:46:11.886Z"
   },
   {
    "duration": 4,
    "start_time": "2023-07-17T04:46:11.896Z"
   },
   {
    "duration": 40,
    "start_time": "2023-07-17T04:46:11.901Z"
   },
   {
    "duration": 17,
    "start_time": "2023-07-17T04:46:11.943Z"
   },
   {
    "duration": 12,
    "start_time": "2023-07-17T04:46:11.961Z"
   },
   {
    "duration": 15,
    "start_time": "2023-07-17T04:46:11.975Z"
   },
   {
    "duration": 142,
    "start_time": "2023-07-17T04:46:11.991Z"
   },
   {
    "duration": 157,
    "start_time": "2023-07-17T04:46:12.134Z"
   },
   {
    "duration": 1434,
    "start_time": "2023-07-17T04:46:12.293Z"
   },
   {
    "duration": 47,
    "start_time": "2023-07-17T04:46:13.729Z"
   },
   {
    "duration": 105,
    "start_time": "2023-07-17T04:46:13.778Z"
   },
   {
    "duration": 136,
    "start_time": "2023-07-17T04:46:13.884Z"
   },
   {
    "duration": 1437,
    "start_time": "2023-07-17T04:48:15.617Z"
   },
   {
    "duration": 122,
    "start_time": "2023-07-17T04:50:47.666Z"
   },
   {
    "duration": 93,
    "start_time": "2023-07-17T04:50:50.813Z"
   },
   {
    "duration": 1259,
    "start_time": "2023-07-17T04:51:50.667Z"
   },
   {
    "duration": 680,
    "start_time": "2023-07-17T04:51:51.928Z"
   },
   {
    "duration": 22,
    "start_time": "2023-07-17T04:51:52.609Z"
   },
   {
    "duration": 20,
    "start_time": "2023-07-17T04:51:52.632Z"
   },
   {
    "duration": 31,
    "start_time": "2023-07-17T04:51:52.654Z"
   },
   {
    "duration": 32,
    "start_time": "2023-07-17T04:51:52.686Z"
   },
   {
    "duration": 15,
    "start_time": "2023-07-17T04:51:52.719Z"
   },
   {
    "duration": 22,
    "start_time": "2023-07-17T04:51:52.735Z"
   },
   {
    "duration": 7,
    "start_time": "2023-07-17T04:51:52.758Z"
   },
   {
    "duration": 5,
    "start_time": "2023-07-17T04:51:52.766Z"
   },
   {
    "duration": 52,
    "start_time": "2023-07-17T04:51:52.772Z"
   },
   {
    "duration": 17,
    "start_time": "2023-07-17T04:51:52.825Z"
   },
   {
    "duration": 13,
    "start_time": "2023-07-17T04:51:52.843Z"
   },
   {
    "duration": 7,
    "start_time": "2023-07-17T04:51:52.859Z"
   },
   {
    "duration": 143,
    "start_time": "2023-07-17T04:51:52.867Z"
   },
   {
    "duration": 155,
    "start_time": "2023-07-17T04:51:53.011Z"
   },
   {
    "duration": 1451,
    "start_time": "2023-07-17T04:51:53.168Z"
   },
   {
    "duration": 43,
    "start_time": "2023-07-17T04:51:54.620Z"
   },
   {
    "duration": 114,
    "start_time": "2023-07-17T04:51:54.664Z"
   },
   {
    "duration": 120,
    "start_time": "2023-07-17T04:51:54.779Z"
   },
   {
    "duration": 147,
    "start_time": "2023-07-17T04:52:46.423Z"
   },
   {
    "duration": 1340,
    "start_time": "2023-07-17T04:52:56.544Z"
   },
   {
    "duration": 713,
    "start_time": "2023-07-17T04:52:57.886Z"
   },
   {
    "duration": 23,
    "start_time": "2023-07-17T04:52:58.600Z"
   },
   {
    "duration": 18,
    "start_time": "2023-07-17T04:52:58.624Z"
   },
   {
    "duration": 32,
    "start_time": "2023-07-17T04:52:58.643Z"
   },
   {
    "duration": 33,
    "start_time": "2023-07-17T04:52:58.677Z"
   },
   {
    "duration": 15,
    "start_time": "2023-07-17T04:52:58.711Z"
   },
   {
    "duration": 22,
    "start_time": "2023-07-17T04:52:58.727Z"
   },
   {
    "duration": 7,
    "start_time": "2023-07-17T04:52:58.751Z"
   },
   {
    "duration": 22,
    "start_time": "2023-07-17T04:52:58.760Z"
   },
   {
    "duration": 40,
    "start_time": "2023-07-17T04:52:58.784Z"
   },
   {
    "duration": 16,
    "start_time": "2023-07-17T04:52:58.826Z"
   },
   {
    "duration": 8,
    "start_time": "2023-07-17T04:52:58.844Z"
   },
   {
    "duration": 8,
    "start_time": "2023-07-17T04:52:58.854Z"
   },
   {
    "duration": 158,
    "start_time": "2023-07-17T04:52:58.864Z"
   },
   {
    "duration": 158,
    "start_time": "2023-07-17T04:52:59.024Z"
   },
   {
    "duration": 1563,
    "start_time": "2023-07-17T04:52:59.184Z"
   },
   {
    "duration": 43,
    "start_time": "2023-07-17T04:53:00.748Z"
   },
   {
    "duration": 163,
    "start_time": "2023-07-17T04:53:00.792Z"
   },
   {
    "duration": 144,
    "start_time": "2023-07-17T04:53:00.957Z"
   },
   {
    "duration": 233,
    "start_time": "2023-07-17T04:54:00.592Z"
   },
   {
    "duration": 139,
    "start_time": "2023-07-17T04:54:17.831Z"
   },
   {
    "duration": 114,
    "start_time": "2023-07-17T04:54:24.130Z"
   },
   {
    "duration": 144,
    "start_time": "2023-07-17T04:54:31.865Z"
   },
   {
    "duration": 170,
    "start_time": "2023-07-17T04:54:37.512Z"
   },
   {
    "duration": 293,
    "start_time": "2023-07-17T04:54:41.725Z"
   },
   {
    "duration": 212,
    "start_time": "2023-07-17T04:54:54.088Z"
   },
   {
    "duration": 228,
    "start_time": "2023-07-17T04:59:43.634Z"
   },
   {
    "duration": 3,
    "start_time": "2023-07-17T05:05:08.800Z"
   },
   {
    "duration": 1357,
    "start_time": "2023-07-17T05:05:38.615Z"
   },
   {
    "duration": 692,
    "start_time": "2023-07-17T05:05:39.974Z"
   },
   {
    "duration": 21,
    "start_time": "2023-07-17T05:05:40.668Z"
   },
   {
    "duration": 16,
    "start_time": "2023-07-17T05:05:40.691Z"
   },
   {
    "duration": 18,
    "start_time": "2023-07-17T05:05:40.720Z"
   },
   {
    "duration": 24,
    "start_time": "2023-07-17T05:05:40.740Z"
   },
   {
    "duration": 20,
    "start_time": "2023-07-17T05:05:40.765Z"
   },
   {
    "duration": 15,
    "start_time": "2023-07-17T05:05:40.786Z"
   },
   {
    "duration": 18,
    "start_time": "2023-07-17T05:05:40.803Z"
   },
   {
    "duration": 5,
    "start_time": "2023-07-17T05:05:40.823Z"
   },
   {
    "duration": 55,
    "start_time": "2023-07-17T05:05:40.829Z"
   },
   {
    "duration": 36,
    "start_time": "2023-07-17T05:05:40.886Z"
   },
   {
    "duration": 8,
    "start_time": "2023-07-17T05:05:40.923Z"
   },
   {
    "duration": 17,
    "start_time": "2023-07-17T05:05:40.932Z"
   },
   {
    "duration": 284,
    "start_time": "2023-07-17T05:05:40.950Z"
   },
   {
    "duration": 303,
    "start_time": "2023-07-17T05:05:41.236Z"
   },
   {
    "duration": 2059,
    "start_time": "2023-07-17T05:05:41.540Z"
   },
   {
    "duration": 43,
    "start_time": "2023-07-17T05:05:43.601Z"
   },
   {
    "duration": 225,
    "start_time": "2023-07-17T05:05:43.645Z"
   },
   {
    "duration": 234,
    "start_time": "2023-07-17T05:05:43.872Z"
   },
   {
    "duration": 6,
    "start_time": "2023-07-17T05:10:08.045Z"
   },
   {
    "duration": 5,
    "start_time": "2023-07-17T05:11:07.381Z"
   },
   {
    "duration": 6,
    "start_time": "2023-07-17T05:11:12.687Z"
   },
   {
    "duration": 48,
    "start_time": "2023-07-17T11:46:17.940Z"
   },
   {
    "duration": 1787,
    "start_time": "2023-07-17T11:46:24.901Z"
   },
   {
    "duration": 2208,
    "start_time": "2023-07-17T11:46:26.690Z"
   },
   {
    "duration": 26,
    "start_time": "2023-07-17T11:46:28.900Z"
   },
   {
    "duration": 22,
    "start_time": "2023-07-17T11:46:28.929Z"
   },
   {
    "duration": 49,
    "start_time": "2023-07-17T11:46:28.952Z"
   },
   {
    "duration": 42,
    "start_time": "2023-07-17T11:46:29.003Z"
   },
   {
    "duration": 26,
    "start_time": "2023-07-17T11:46:29.046Z"
   },
   {
    "duration": 45,
    "start_time": "2023-07-17T11:46:29.073Z"
   },
   {
    "duration": 9,
    "start_time": "2023-07-17T11:46:29.120Z"
   },
   {
    "duration": 22,
    "start_time": "2023-07-17T11:46:29.131Z"
   },
   {
    "duration": 96,
    "start_time": "2023-07-17T11:46:29.154Z"
   },
   {
    "duration": 18,
    "start_time": "2023-07-17T11:46:29.252Z"
   },
   {
    "duration": 21,
    "start_time": "2023-07-17T11:46:29.271Z"
   },
   {
    "duration": 28,
    "start_time": "2023-07-17T11:46:29.294Z"
   },
   {
    "duration": 165,
    "start_time": "2023-07-17T11:46:29.324Z"
   },
   {
    "duration": 179,
    "start_time": "2023-07-17T11:46:29.491Z"
   },
   {
    "duration": 1736,
    "start_time": "2023-07-17T11:46:29.672Z"
   },
   {
    "duration": 51,
    "start_time": "2023-07-17T11:46:31.410Z"
   },
   {
    "duration": 276,
    "start_time": "2023-07-17T11:46:31.462Z"
   },
   {
    "duration": 273,
    "start_time": "2023-07-17T11:46:31.740Z"
   },
   {
    "duration": 6,
    "start_time": "2023-07-17T11:46:32.015Z"
   },
   {
    "duration": 270,
    "start_time": "2023-07-17T11:49:59.145Z"
   },
   {
    "duration": 6,
    "start_time": "2023-07-17T11:55:44.462Z"
   },
   {
    "duration": 5,
    "start_time": "2023-07-17T11:55:53.938Z"
   },
   {
    "duration": 6,
    "start_time": "2023-07-17T12:00:05.452Z"
   },
   {
    "duration": 7,
    "start_time": "2023-07-17T12:00:12.093Z"
   },
   {
    "duration": 370,
    "start_time": "2023-07-17T12:05:17.559Z"
   },
   {
    "duration": 164,
    "start_time": "2023-07-17T12:09:58.292Z"
   },
   {
    "duration": 234,
    "start_time": "2023-07-17T12:10:31.955Z"
   },
   {
    "duration": 567,
    "start_time": "2023-07-17T12:10:51.422Z"
   },
   {
    "duration": 548,
    "start_time": "2023-07-17T12:11:02.151Z"
   },
   {
    "duration": 548,
    "start_time": "2023-07-17T12:11:31.959Z"
   },
   {
    "duration": 574,
    "start_time": "2023-07-17T12:11:42.974Z"
   },
   {
    "duration": 745,
    "start_time": "2023-07-17T12:12:04.507Z"
   },
   {
    "duration": 580,
    "start_time": "2023-07-17T12:12:23.767Z"
   },
   {
    "duration": 1814,
    "start_time": "2023-07-17T12:12:36.167Z"
   },
   {
    "duration": 1452,
    "start_time": "2023-07-17T12:12:48.276Z"
   },
   {
    "duration": 1874,
    "start_time": "2023-07-17T12:14:30.763Z"
   },
   {
    "duration": 1974,
    "start_time": "2023-07-17T12:14:38.243Z"
   },
   {
    "duration": 1649,
    "start_time": "2023-07-17T12:14:59.796Z"
   },
   {
    "duration": 1926,
    "start_time": "2023-07-17T12:16:20.806Z"
   },
   {
    "duration": 1719,
    "start_time": "2023-07-17T12:16:53.651Z"
   },
   {
    "duration": 1805,
    "start_time": "2023-07-17T12:17:09.479Z"
   },
   {
    "duration": 1862,
    "start_time": "2023-07-17T12:18:10.285Z"
   },
   {
    "duration": 1831,
    "start_time": "2023-07-17T12:18:44.157Z"
   },
   {
    "duration": 1557,
    "start_time": "2023-07-17T12:18:54.055Z"
   },
   {
    "duration": 1702,
    "start_time": "2023-07-17T12:20:44.984Z"
   },
   {
    "duration": 1668,
    "start_time": "2023-07-17T12:20:52.349Z"
   },
   {
    "duration": 440,
    "start_time": "2023-07-17T12:21:06.993Z"
   },
   {
    "duration": 378,
    "start_time": "2023-07-17T12:21:33.347Z"
   },
   {
    "duration": 474,
    "start_time": "2023-07-17T12:21:41.465Z"
   },
   {
    "duration": 403,
    "start_time": "2023-07-17T12:21:54.120Z"
   },
   {
    "duration": 389,
    "start_time": "2023-07-17T12:22:09.759Z"
   },
   {
    "duration": 271,
    "start_time": "2023-07-17T12:24:15.551Z"
   },
   {
    "duration": 455,
    "start_time": "2023-07-17T12:24:26.309Z"
   },
   {
    "duration": 162,
    "start_time": "2023-07-17T12:24:36.647Z"
   },
   {
    "duration": 864,
    "start_time": "2023-07-17T12:24:43.951Z"
   },
   {
    "duration": 159,
    "start_time": "2023-07-17T12:24:58.062Z"
   },
   {
    "duration": 409,
    "start_time": "2023-07-17T12:25:04.869Z"
   },
   {
    "duration": 5,
    "start_time": "2023-07-17T12:34:45.660Z"
   },
   {
    "duration": 141,
    "start_time": "2023-07-17T12:36:48.447Z"
   },
   {
    "duration": 146,
    "start_time": "2023-07-17T12:36:53.646Z"
   },
   {
    "duration": 137,
    "start_time": "2023-07-17T12:36:57.220Z"
   },
   {
    "duration": 125,
    "start_time": "2023-07-17T12:37:02.658Z"
   },
   {
    "duration": 181,
    "start_time": "2023-07-17T12:37:15.462Z"
   },
   {
    "duration": 406,
    "start_time": "2023-07-17T12:37:36.042Z"
   },
   {
    "duration": 427,
    "start_time": "2023-07-17T12:38:13.061Z"
   },
   {
    "duration": 4,
    "start_time": "2023-07-17T12:38:32.495Z"
   },
   {
    "duration": 410,
    "start_time": "2023-07-17T12:39:09.268Z"
   },
   {
    "duration": 4,
    "start_time": "2023-07-17T12:39:16.173Z"
   },
   {
    "duration": 5,
    "start_time": "2023-07-17T12:39:20.142Z"
   },
   {
    "duration": 4,
    "start_time": "2023-07-17T12:39:34.406Z"
   },
   {
    "duration": 5,
    "start_time": "2023-07-17T12:39:43.040Z"
   },
   {
    "duration": 4,
    "start_time": "2023-07-17T12:40:13.692Z"
   },
   {
    "duration": 4,
    "start_time": "2023-07-17T12:40:20.582Z"
   },
   {
    "duration": 726,
    "start_time": "2023-07-17T12:40:25.402Z"
   },
   {
    "duration": 1085,
    "start_time": "2023-07-17T12:44:36.554Z"
   },
   {
    "duration": 754,
    "start_time": "2023-07-17T12:45:20.400Z"
   },
   {
    "duration": 918,
    "start_time": "2023-07-17T12:45:29.396Z"
   },
   {
    "duration": 944,
    "start_time": "2023-07-17T12:48:18.198Z"
   },
   {
    "duration": 830,
    "start_time": "2023-07-17T12:48:49.761Z"
   },
   {
    "duration": 832,
    "start_time": "2023-07-17T12:49:04.218Z"
   },
   {
    "duration": 777,
    "start_time": "2023-07-17T13:09:01.959Z"
   },
   {
    "duration": 463,
    "start_time": "2023-07-17T13:09:23.599Z"
   },
   {
    "duration": 6,
    "start_time": "2023-07-17T13:09:31.066Z"
   },
   {
    "duration": 58,
    "start_time": "2023-07-17T13:10:26.445Z"
   },
   {
    "duration": 129,
    "start_time": "2023-07-17T13:13:49.215Z"
   },
   {
    "duration": 223,
    "start_time": "2023-07-17T13:14:11.210Z"
   },
   {
    "duration": 2451,
    "start_time": "2023-07-17T13:15:07.405Z"
   },
   {
    "duration": 32,
    "start_time": "2023-07-17T13:15:12.846Z"
   },
   {
    "duration": 29,
    "start_time": "2023-07-17T13:15:48.811Z"
   },
   {
    "duration": 47,
    "start_time": "2023-07-17T13:17:50.846Z"
   },
   {
    "duration": 28,
    "start_time": "2023-07-17T13:18:10.508Z"
   },
   {
    "duration": 22,
    "start_time": "2023-07-17T13:18:21.863Z"
   },
   {
    "duration": 23,
    "start_time": "2023-07-17T13:19:31.259Z"
   },
   {
    "duration": 316,
    "start_time": "2023-07-17T13:19:54.585Z"
   },
   {
    "duration": 182,
    "start_time": "2023-07-17T13:20:03.576Z"
   },
   {
    "duration": 41,
    "start_time": "2023-07-17T13:20:13.497Z"
   },
   {
    "duration": 15,
    "start_time": "2023-07-17T14:28:00.067Z"
   },
   {
    "duration": 4,
    "start_time": "2023-07-17T14:31:52.748Z"
   },
   {
    "duration": 767,
    "start_time": "2023-07-17T14:33:48.417Z"
   },
   {
    "duration": 5,
    "start_time": "2023-07-17T14:33:51.315Z"
   },
   {
    "duration": 4,
    "start_time": "2023-07-17T14:35:11.952Z"
   },
   {
    "duration": 5,
    "start_time": "2023-07-17T14:35:45.868Z"
   },
   {
    "duration": 118,
    "start_time": "2023-07-17T14:35:58.751Z"
   },
   {
    "duration": 138,
    "start_time": "2023-07-17T14:36:07.348Z"
   },
   {
    "duration": 4,
    "start_time": "2023-07-17T14:38:29.100Z"
   },
   {
    "duration": 134,
    "start_time": "2023-07-17T14:40:19.814Z"
   },
   {
    "duration": 5,
    "start_time": "2023-07-17T14:41:52.562Z"
   },
   {
    "duration": 124,
    "start_time": "2023-07-17T14:42:47.348Z"
   },
   {
    "duration": 4,
    "start_time": "2023-07-17T14:46:29.313Z"
   },
   {
    "duration": 4,
    "start_time": "2023-07-17T14:46:35.764Z"
   },
   {
    "duration": 3,
    "start_time": "2023-07-17T14:47:18.693Z"
   },
   {
    "duration": 4,
    "start_time": "2023-07-17T14:47:19.348Z"
   },
   {
    "duration": 759,
    "start_time": "2023-07-17T14:49:29.193Z"
   },
   {
    "duration": 729,
    "start_time": "2023-07-17T14:49:52.348Z"
   },
   {
    "duration": 914,
    "start_time": "2023-07-17T14:51:25.361Z"
   },
   {
    "duration": 799,
    "start_time": "2023-07-17T14:52:56.311Z"
   },
   {
    "duration": 763,
    "start_time": "2023-07-17T14:53:19.464Z"
   },
   {
    "duration": 876,
    "start_time": "2023-07-17T14:53:40.168Z"
   },
   {
    "duration": 251,
    "start_time": "2023-07-17T14:53:57.078Z"
   },
   {
    "duration": 811,
    "start_time": "2023-07-17T14:54:12.416Z"
   },
   {
    "duration": 1040,
    "start_time": "2023-07-17T14:54:34.408Z"
   },
   {
    "duration": 793,
    "start_time": "2023-07-17T14:56:58.361Z"
   },
   {
    "duration": 826,
    "start_time": "2023-07-17T14:58:22.254Z"
   },
   {
    "duration": 7,
    "start_time": "2023-07-17T14:58:40.721Z"
   },
   {
    "duration": 51,
    "start_time": "2023-07-17T14:58:40.813Z"
   },
   {
    "duration": 891,
    "start_time": "2023-07-17T14:58:47.175Z"
   },
   {
    "duration": 804,
    "start_time": "2023-07-17T14:59:08.001Z"
   },
   {
    "duration": 1442,
    "start_time": "2023-07-17T14:59:22.885Z"
   },
   {
    "duration": 778,
    "start_time": "2023-07-17T14:59:24.329Z"
   },
   {
    "duration": 24,
    "start_time": "2023-07-17T14:59:25.109Z"
   },
   {
    "duration": 20,
    "start_time": "2023-07-17T14:59:25.135Z"
   },
   {
    "duration": 19,
    "start_time": "2023-07-17T14:59:25.176Z"
   },
   {
    "duration": 28,
    "start_time": "2023-07-17T14:59:25.197Z"
   },
   {
    "duration": 18,
    "start_time": "2023-07-17T14:59:25.227Z"
   },
   {
    "duration": 39,
    "start_time": "2023-07-17T14:59:25.247Z"
   },
   {
    "duration": 8,
    "start_time": "2023-07-17T14:59:25.288Z"
   },
   {
    "duration": 9,
    "start_time": "2023-07-17T14:59:25.298Z"
   },
   {
    "duration": 43,
    "start_time": "2023-07-17T14:59:25.309Z"
   },
   {
    "duration": 33,
    "start_time": "2023-07-17T14:59:25.354Z"
   },
   {
    "duration": 7,
    "start_time": "2023-07-17T14:59:25.389Z"
   },
   {
    "duration": 7,
    "start_time": "2023-07-17T14:59:25.398Z"
   },
   {
    "duration": 163,
    "start_time": "2023-07-17T14:59:25.407Z"
   },
   {
    "duration": 179,
    "start_time": "2023-07-17T14:59:25.575Z"
   },
   {
    "duration": 882,
    "start_time": "2023-07-17T14:59:25.756Z"
   },
   {
    "duration": 131,
    "start_time": "2023-07-17T14:59:26.640Z"
   },
   {
    "duration": 606,
    "start_time": "2023-07-17T14:59:26.773Z"
   },
   {
    "duration": 2484,
    "start_time": "2023-07-17T14:59:27.381Z"
   },
   {
    "duration": 0,
    "start_time": "2023-07-17T14:59:29.866Z"
   },
   {
    "duration": 0,
    "start_time": "2023-07-17T14:59:29.867Z"
   },
   {
    "duration": 0,
    "start_time": "2023-07-17T14:59:29.868Z"
   },
   {
    "duration": 812,
    "start_time": "2023-07-17T15:00:24.763Z"
   },
   {
    "duration": 139,
    "start_time": "2023-07-17T15:04:23.417Z"
   },
   {
    "duration": 1045,
    "start_time": "2023-07-17T15:04:32.567Z"
   },
   {
    "duration": 938,
    "start_time": "2023-07-17T15:04:44.650Z"
   },
   {
    "duration": 1294,
    "start_time": "2023-07-17T15:04:54.117Z"
   },
   {
    "duration": 1224,
    "start_time": "2023-07-17T15:05:08.088Z"
   },
   {
    "duration": 1296,
    "start_time": "2023-07-17T15:05:26.758Z"
   },
   {
    "duration": 9,
    "start_time": "2023-07-17T15:07:00.711Z"
   },
   {
    "duration": 9,
    "start_time": "2023-07-17T15:07:08.766Z"
   },
   {
    "duration": 10,
    "start_time": "2023-07-17T15:07:13.585Z"
   },
   {
    "duration": 10,
    "start_time": "2023-07-17T15:07:21.870Z"
   },
   {
    "duration": 53,
    "start_time": "2023-07-17T15:30:53.173Z"
   },
   {
    "duration": 1547,
    "start_time": "2023-07-17T15:31:07.316Z"
   },
   {
    "duration": 735,
    "start_time": "2023-07-17T15:31:08.865Z"
   },
   {
    "duration": 22,
    "start_time": "2023-07-17T15:31:09.601Z"
   },
   {
    "duration": 19,
    "start_time": "2023-07-17T15:31:09.625Z"
   },
   {
    "duration": 41,
    "start_time": "2023-07-17T15:31:09.646Z"
   },
   {
    "duration": 23,
    "start_time": "2023-07-17T15:31:09.689Z"
   },
   {
    "duration": 12,
    "start_time": "2023-07-17T15:31:09.714Z"
   },
   {
    "duration": 27,
    "start_time": "2023-07-17T15:31:09.728Z"
   },
   {
    "duration": 23,
    "start_time": "2023-07-17T15:31:09.757Z"
   },
   {
    "duration": 16,
    "start_time": "2023-07-17T15:31:09.782Z"
   },
   {
    "duration": 45,
    "start_time": "2023-07-17T15:31:09.800Z"
   },
   {
    "duration": 41,
    "start_time": "2023-07-17T15:31:12.405Z"
   },
   {
    "duration": 33,
    "start_time": "2023-07-17T15:31:24.356Z"
   },
   {
    "duration": 19,
    "start_time": "2023-07-17T15:31:36.475Z"
   },
   {
    "duration": 30,
    "start_time": "2023-07-17T15:35:27.748Z"
   },
   {
    "duration": 7,
    "start_time": "2023-07-17T15:37:41.560Z"
   },
   {
    "duration": 8,
    "start_time": "2023-07-17T15:37:47.823Z"
   },
   {
    "duration": 26,
    "start_time": "2023-07-17T15:38:06.783Z"
   },
   {
    "duration": 9,
    "start_time": "2023-07-17T15:40:53.713Z"
   },
   {
    "duration": 7,
    "start_time": "2023-07-17T15:40:57.519Z"
   },
   {
    "duration": 51,
    "start_time": "2023-07-17T15:41:59.748Z"
   },
   {
    "duration": 67,
    "start_time": "2023-07-17T15:42:33.406Z"
   },
   {
    "duration": 16,
    "start_time": "2023-07-17T15:42:59.072Z"
   },
   {
    "duration": 12,
    "start_time": "2023-07-17T15:43:00.064Z"
   },
   {
    "duration": 17,
    "start_time": "2023-07-17T15:43:24.274Z"
   },
   {
    "duration": 1662,
    "start_time": "2023-07-17T15:43:47.021Z"
   },
   {
    "duration": 775,
    "start_time": "2023-07-17T15:43:48.685Z"
   },
   {
    "duration": 25,
    "start_time": "2023-07-17T15:43:49.475Z"
   },
   {
    "duration": 37,
    "start_time": "2023-07-17T15:43:49.501Z"
   },
   {
    "duration": 37,
    "start_time": "2023-07-17T15:43:49.541Z"
   },
   {
    "duration": 24,
    "start_time": "2023-07-17T15:43:49.580Z"
   },
   {
    "duration": 14,
    "start_time": "2023-07-17T15:43:49.606Z"
   },
   {
    "duration": 30,
    "start_time": "2023-07-17T15:43:49.622Z"
   },
   {
    "duration": 8,
    "start_time": "2023-07-17T15:43:49.654Z"
   },
   {
    "duration": 4,
    "start_time": "2023-07-17T15:43:49.664Z"
   },
   {
    "duration": 44,
    "start_time": "2023-07-17T15:43:49.670Z"
   },
   {
    "duration": 19,
    "start_time": "2023-07-17T15:43:49.715Z"
   },
   {
    "duration": 17,
    "start_time": "2023-07-17T15:43:52.476Z"
   },
   {
    "duration": 16,
    "start_time": "2023-07-17T15:44:06.306Z"
   },
   {
    "duration": 47,
    "start_time": "2023-07-17T15:46:28.386Z"
   },
   {
    "duration": 33,
    "start_time": "2023-07-17T15:46:35.167Z"
   },
   {
    "duration": 16,
    "start_time": "2023-07-17T15:47:22.475Z"
   },
   {
    "duration": 17,
    "start_time": "2023-07-17T15:47:47.000Z"
   },
   {
    "duration": 12,
    "start_time": "2023-07-17T15:47:57.073Z"
   },
   {
    "duration": 12,
    "start_time": "2023-07-17T15:47:58.155Z"
   },
   {
    "duration": 167,
    "start_time": "2023-07-17T15:49:29.055Z"
   },
   {
    "duration": 173,
    "start_time": "2023-07-17T15:49:32.602Z"
   },
   {
    "duration": 307,
    "start_time": "2023-07-17T15:49:37.771Z"
   },
   {
    "duration": 1540,
    "start_time": "2023-07-17T15:49:58.100Z"
   },
   {
    "duration": 845,
    "start_time": "2023-07-17T15:49:59.642Z"
   },
   {
    "duration": 27,
    "start_time": "2023-07-17T15:50:00.489Z"
   },
   {
    "duration": 43,
    "start_time": "2023-07-17T15:50:00.518Z"
   },
   {
    "duration": 58,
    "start_time": "2023-07-17T15:50:00.563Z"
   },
   {
    "duration": 75,
    "start_time": "2023-07-17T15:50:00.624Z"
   },
   {
    "duration": 37,
    "start_time": "2023-07-17T15:50:00.702Z"
   },
   {
    "duration": 61,
    "start_time": "2023-07-17T15:50:00.740Z"
   },
   {
    "duration": 24,
    "start_time": "2023-07-17T15:50:00.803Z"
   },
   {
    "duration": 40,
    "start_time": "2023-07-17T15:50:00.830Z"
   },
   {
    "duration": 68,
    "start_time": "2023-07-17T15:50:00.872Z"
   },
   {
    "duration": 20,
    "start_time": "2023-07-17T15:50:00.941Z"
   },
   {
    "duration": 75,
    "start_time": "2023-07-17T15:50:00.963Z"
   },
   {
    "duration": 35,
    "start_time": "2023-07-17T15:50:01.040Z"
   },
   {
    "duration": 251,
    "start_time": "2023-07-17T15:50:01.078Z"
   },
   {
    "duration": 193,
    "start_time": "2023-07-17T15:50:01.330Z"
   },
   {
    "duration": 327,
    "start_time": "2023-07-17T15:50:01.525Z"
   },
   {
    "duration": 0,
    "start_time": "2023-07-17T15:50:01.853Z"
   },
   {
    "duration": 0,
    "start_time": "2023-07-17T15:50:01.855Z"
   },
   {
    "duration": 0,
    "start_time": "2023-07-17T15:50:01.856Z"
   },
   {
    "duration": 1560,
    "start_time": "2023-07-17T15:52:56.702Z"
   },
   {
    "duration": 848,
    "start_time": "2023-07-17T15:52:58.264Z"
   },
   {
    "duration": 25,
    "start_time": "2023-07-17T15:52:59.113Z"
   },
   {
    "duration": 35,
    "start_time": "2023-07-17T15:52:59.141Z"
   },
   {
    "duration": 28,
    "start_time": "2023-07-17T15:52:59.178Z"
   },
   {
    "duration": 29,
    "start_time": "2023-07-17T15:52:59.209Z"
   },
   {
    "duration": 17,
    "start_time": "2023-07-17T15:52:59.240Z"
   },
   {
    "duration": 36,
    "start_time": "2023-07-17T15:52:59.259Z"
   },
   {
    "duration": 8,
    "start_time": "2023-07-17T15:52:59.298Z"
   },
   {
    "duration": 6,
    "start_time": "2023-07-17T15:52:59.309Z"
   },
   {
    "duration": 75,
    "start_time": "2023-07-17T15:52:59.316Z"
   },
   {
    "duration": 20,
    "start_time": "2023-07-17T15:52:59.393Z"
   },
   {
    "duration": 33,
    "start_time": "2023-07-17T15:52:59.415Z"
   },
   {
    "duration": 30,
    "start_time": "2023-07-17T15:52:59.451Z"
   },
   {
    "duration": 172,
    "start_time": "2023-07-17T15:52:59.484Z"
   },
   {
    "duration": 210,
    "start_time": "2023-07-17T15:52:59.658Z"
   },
   {
    "duration": 951,
    "start_time": "2023-07-17T15:52:59.870Z"
   },
   {
    "duration": 162,
    "start_time": "2023-07-17T15:53:00.824Z"
   },
   {
    "duration": 1421,
    "start_time": "2023-07-17T15:53:00.988Z"
   },
   {
    "duration": 13,
    "start_time": "2023-07-17T15:53:02.411Z"
   },
   {
    "duration": 114,
    "start_time": "2023-07-17T16:04:22.467Z"
   },
   {
    "duration": 2673,
    "start_time": "2023-07-17T16:04:34.095Z"
   },
   {
    "duration": 2002,
    "start_time": "2023-07-17T16:05:01.759Z"
   },
   {
    "duration": 828,
    "start_time": "2023-07-17T16:05:03.763Z"
   },
   {
    "duration": 28,
    "start_time": "2023-07-17T16:05:04.593Z"
   },
   {
    "duration": 18,
    "start_time": "2023-07-17T16:05:04.623Z"
   },
   {
    "duration": 43,
    "start_time": "2023-07-17T16:05:04.643Z"
   },
   {
    "duration": 32,
    "start_time": "2023-07-17T16:05:04.688Z"
   },
   {
    "duration": 18,
    "start_time": "2023-07-17T16:05:04.722Z"
   },
   {
    "duration": 44,
    "start_time": "2023-07-17T16:05:04.742Z"
   },
   {
    "duration": 8,
    "start_time": "2023-07-17T16:05:04.788Z"
   },
   {
    "duration": 8,
    "start_time": "2023-07-17T16:05:04.798Z"
   },
   {
    "duration": 44,
    "start_time": "2023-07-17T16:05:04.808Z"
   },
   {
    "duration": 2824,
    "start_time": "2023-07-17T16:05:06.481Z"
   },
   {
    "duration": 14,
    "start_time": "2023-07-17T16:05:45.435Z"
   },
   {
    "duration": 2690,
    "start_time": "2023-07-17T16:06:07.867Z"
   },
   {
    "duration": 119,
    "start_time": "2023-07-17T16:06:32.315Z"
   },
   {
    "duration": 15,
    "start_time": "2023-07-17T16:06:34.563Z"
   },
   {
    "duration": 118,
    "start_time": "2023-07-17T16:06:55.993Z"
   },
   {
    "duration": 14,
    "start_time": "2023-07-17T16:07:14.368Z"
   },
   {
    "duration": 16,
    "start_time": "2023-07-17T16:07:28.251Z"
   },
   {
    "duration": 1977,
    "start_time": "2023-07-17T16:07:44.900Z"
   },
   {
    "duration": 1671,
    "start_time": "2023-07-17T16:08:08.326Z"
   },
   {
    "duration": 12,
    "start_time": "2023-07-17T16:08:18.247Z"
   },
   {
    "duration": 4,
    "start_time": "2023-07-17T16:08:23.359Z"
   },
   {
    "duration": 1753,
    "start_time": "2023-07-17T16:08:25.871Z"
   },
   {
    "duration": 2774,
    "start_time": "2023-07-17T16:08:44.004Z"
   },
   {
    "duration": 14,
    "start_time": "2023-07-17T16:11:18.667Z"
   },
   {
    "duration": 2691,
    "start_time": "2023-07-17T16:11:20.788Z"
   },
   {
    "duration": 2799,
    "start_time": "2023-07-17T16:17:20.618Z"
   },
   {
    "duration": 1586,
    "start_time": "2023-07-17T16:17:40.984Z"
   },
   {
    "duration": 854,
    "start_time": "2023-07-17T16:17:42.572Z"
   },
   {
    "duration": 24,
    "start_time": "2023-07-17T16:17:43.427Z"
   },
   {
    "duration": 31,
    "start_time": "2023-07-17T16:17:43.452Z"
   },
   {
    "duration": 34,
    "start_time": "2023-07-17T16:17:43.485Z"
   },
   {
    "duration": 26,
    "start_time": "2023-07-17T16:17:43.521Z"
   },
   {
    "duration": 13,
    "start_time": "2023-07-17T16:17:43.548Z"
   },
   {
    "duration": 24,
    "start_time": "2023-07-17T16:17:43.563Z"
   },
   {
    "duration": 8,
    "start_time": "2023-07-17T16:17:43.588Z"
   },
   {
    "duration": 15,
    "start_time": "2023-07-17T16:17:43.597Z"
   },
   {
    "duration": 0,
    "start_time": "2023-07-17T16:17:46.404Z"
   },
   {
    "duration": 1856,
    "start_time": "2023-07-17T16:17:55.343Z"
   },
   {
    "duration": 7,
    "start_time": "2023-07-17T16:19:10.499Z"
   },
   {
    "duration": 17,
    "start_time": "2023-07-17T16:20:06.275Z"
   },
   {
    "duration": 19,
    "start_time": "2023-07-17T16:20:34.160Z"
   },
   {
    "duration": 39,
    "start_time": "2023-07-17T16:22:27.155Z"
   },
   {
    "duration": 152,
    "start_time": "2023-07-17T16:23:28.087Z"
   },
   {
    "duration": 233,
    "start_time": "2023-07-17T16:24:17.615Z"
   },
   {
    "duration": 1462,
    "start_time": "2023-07-17T16:25:15.687Z"
   },
   {
    "duration": 786,
    "start_time": "2023-07-17T16:25:17.151Z"
   },
   {
    "duration": 23,
    "start_time": "2023-07-17T16:25:17.939Z"
   },
   {
    "duration": 27,
    "start_time": "2023-07-17T16:25:17.963Z"
   },
   {
    "duration": 35,
    "start_time": "2023-07-17T16:25:17.993Z"
   },
   {
    "duration": 20,
    "start_time": "2023-07-17T16:25:18.029Z"
   },
   {
    "duration": 12,
    "start_time": "2023-07-17T16:25:18.051Z"
   },
   {
    "duration": 28,
    "start_time": "2023-07-17T16:25:18.064Z"
   },
   {
    "duration": 27,
    "start_time": "2023-07-17T16:25:18.094Z"
   },
   {
    "duration": 15,
    "start_time": "2023-07-17T16:25:18.122Z"
   },
   {
    "duration": 55,
    "start_time": "2023-07-17T16:25:18.138Z"
   },
   {
    "duration": 43,
    "start_time": "2023-07-17T16:25:18.196Z"
   },
   {
    "duration": 18,
    "start_time": "2023-07-17T16:25:18.240Z"
   },
   {
    "duration": 31,
    "start_time": "2023-07-17T16:25:18.260Z"
   },
   {
    "duration": 14,
    "start_time": "2023-07-17T16:25:18.293Z"
   },
   {
    "duration": 160,
    "start_time": "2023-07-17T16:25:18.308Z"
   },
   {
    "duration": 212,
    "start_time": "2023-07-17T16:25:18.470Z"
   },
   {
    "duration": 1700,
    "start_time": "2023-07-17T16:25:18.683Z"
   },
   {
    "duration": 132,
    "start_time": "2023-07-17T16:25:20.384Z"
   },
   {
    "duration": 1265,
    "start_time": "2023-07-17T16:25:20.518Z"
   },
   {
    "duration": 10,
    "start_time": "2023-07-17T16:25:21.785Z"
   },
   {
    "duration": 232,
    "start_time": "2023-07-17T16:31:30.107Z"
   },
   {
    "duration": 232,
    "start_time": "2023-07-17T16:31:55.551Z"
   },
   {
    "duration": 227,
    "start_time": "2023-07-17T16:32:03.671Z"
   },
   {
    "duration": 1482,
    "start_time": "2023-07-17T16:32:28.411Z"
   },
   {
    "duration": 793,
    "start_time": "2023-07-17T16:32:29.896Z"
   },
   {
    "duration": 25,
    "start_time": "2023-07-17T16:32:30.691Z"
   },
   {
    "duration": 73,
    "start_time": "2023-07-17T16:32:30.719Z"
   },
   {
    "duration": 90,
    "start_time": "2023-07-17T16:32:30.794Z"
   },
   {
    "duration": 96,
    "start_time": "2023-07-17T16:32:30.885Z"
   },
   {
    "duration": 52,
    "start_time": "2023-07-17T16:32:30.983Z"
   },
   {
    "duration": 55,
    "start_time": "2023-07-17T16:32:31.037Z"
   },
   {
    "duration": 33,
    "start_time": "2023-07-17T16:32:31.094Z"
   },
   {
    "duration": 56,
    "start_time": "2023-07-17T16:32:31.129Z"
   },
   {
    "duration": 80,
    "start_time": "2023-07-17T16:32:31.187Z"
   },
   {
    "duration": 256,
    "start_time": "2023-07-17T16:32:38.060Z"
   },
   {
    "duration": 261,
    "start_time": "2023-07-17T16:35:58.871Z"
   },
   {
    "duration": 217,
    "start_time": "2023-07-17T16:46:25.390Z"
   },
   {
    "duration": 231,
    "start_time": "2023-07-17T16:47:56.686Z"
   },
   {
    "duration": 322,
    "start_time": "2023-07-17T16:48:14.806Z"
   },
   {
    "duration": 229,
    "start_time": "2023-07-17T16:48:23.314Z"
   },
   {
    "duration": 225,
    "start_time": "2023-07-17T16:48:28.154Z"
   },
   {
    "duration": 230,
    "start_time": "2023-07-17T16:48:41.958Z"
   },
   {
    "duration": 221,
    "start_time": "2023-07-17T16:48:47.392Z"
   },
   {
    "duration": 234,
    "start_time": "2023-07-17T16:48:50.711Z"
   },
   {
    "duration": 297,
    "start_time": "2023-07-17T16:48:56.966Z"
   },
   {
    "duration": 217,
    "start_time": "2023-07-17T16:49:03.151Z"
   },
   {
    "duration": 284,
    "start_time": "2023-07-17T16:49:06.651Z"
   },
   {
    "duration": 228,
    "start_time": "2023-07-17T16:49:48.770Z"
   },
   {
    "duration": 228,
    "start_time": "2023-07-17T16:49:57.278Z"
   },
   {
    "duration": 235,
    "start_time": "2023-07-17T16:50:13.942Z"
   },
   {
    "duration": 267,
    "start_time": "2023-07-17T16:50:19.209Z"
   },
   {
    "duration": 8,
    "start_time": "2023-07-17T16:50:36.846Z"
   },
   {
    "duration": 230,
    "start_time": "2023-07-17T16:50:41.718Z"
   },
   {
    "duration": 18,
    "start_time": "2023-07-17T16:59:37.091Z"
   },
   {
    "duration": 29,
    "start_time": "2023-07-17T17:00:28.278Z"
   },
   {
    "duration": 27,
    "start_time": "2023-07-17T17:01:25.707Z"
   },
   {
    "duration": 29,
    "start_time": "2023-07-17T17:01:50.606Z"
   },
   {
    "duration": 13,
    "start_time": "2023-07-17T17:04:42.597Z"
   },
   {
    "duration": 9,
    "start_time": "2023-07-17T17:05:12.685Z"
   },
   {
    "duration": 10,
    "start_time": "2023-07-17T17:05:21.607Z"
   },
   {
    "duration": 11,
    "start_time": "2023-07-17T17:05:26.099Z"
   },
   {
    "duration": 1296,
    "start_time": "2023-07-17T17:05:49.000Z"
   },
   {
    "duration": 27,
    "start_time": "2023-07-17T17:30:19.299Z"
   },
   {
    "duration": 28,
    "start_time": "2023-07-17T17:30:37.997Z"
   },
   {
    "duration": 1264,
    "start_time": "2023-07-17T17:32:10.185Z"
   },
   {
    "duration": 1354,
    "start_time": "2023-07-17T17:32:52.670Z"
   },
   {
    "duration": 68,
    "start_time": "2023-07-18T04:49:49.513Z"
   },
   {
    "duration": 1601,
    "start_time": "2023-07-18T04:50:39.388Z"
   },
   {
    "duration": 2778,
    "start_time": "2023-07-18T04:50:40.993Z"
   },
   {
    "duration": 80,
    "start_time": "2023-07-18T04:50:43.773Z"
   },
   {
    "duration": 93,
    "start_time": "2023-07-18T04:50:43.855Z"
   },
   {
    "duration": 32,
    "start_time": "2023-07-18T04:50:43.951Z"
   },
   {
    "duration": 74,
    "start_time": "2023-07-18T04:50:43.984Z"
   },
   {
    "duration": 15,
    "start_time": "2023-07-18T04:50:44.066Z"
   },
   {
    "duration": 68,
    "start_time": "2023-07-18T04:50:44.083Z"
   },
   {
    "duration": 13,
    "start_time": "2023-07-18T04:50:44.153Z"
   },
   {
    "duration": 5,
    "start_time": "2023-07-18T04:50:44.167Z"
   },
   {
    "duration": 72,
    "start_time": "2023-07-18T04:50:44.173Z"
   },
   {
    "duration": 270,
    "start_time": "2023-07-18T04:50:44.248Z"
   },
   {
    "duration": 287,
    "start_time": "2023-07-18T04:50:44.520Z"
   },
   {
    "duration": 1413,
    "start_time": "2023-07-18T04:50:44.810Z"
   },
   {
    "duration": 30,
    "start_time": "2023-07-18T04:50:46.224Z"
   },
   {
    "duration": 47,
    "start_time": "2023-07-18T04:50:46.255Z"
   },
   {
    "duration": 14,
    "start_time": "2023-07-18T04:50:46.303Z"
   },
   {
    "duration": 30,
    "start_time": "2023-07-18T04:50:46.319Z"
   },
   {
    "duration": 13,
    "start_time": "2023-07-18T04:50:46.350Z"
   },
   {
    "duration": 159,
    "start_time": "2023-07-18T04:50:46.365Z"
   },
   {
    "duration": 175,
    "start_time": "2023-07-18T04:50:46.526Z"
   },
   {
    "duration": 951,
    "start_time": "2023-07-18T04:50:46.703Z"
   },
   {
    "duration": 1381,
    "start_time": "2023-07-18T04:50:47.656Z"
   },
   {
    "duration": 14,
    "start_time": "2023-07-18T04:50:49.039Z"
   },
   {
    "duration": 60,
    "start_time": "2023-07-18T16:44:00.717Z"
   },
   {
    "duration": 1572,
    "start_time": "2023-07-18T16:44:15.512Z"
   },
   {
    "duration": 2283,
    "start_time": "2023-07-18T16:44:17.086Z"
   },
   {
    "duration": 71,
    "start_time": "2023-07-18T16:44:19.371Z"
   },
   {
    "duration": 16,
    "start_time": "2023-07-18T16:44:19.445Z"
   },
   {
    "duration": 80,
    "start_time": "2023-07-18T16:44:19.463Z"
   },
   {
    "duration": 98,
    "start_time": "2023-07-18T16:44:19.545Z"
   },
   {
    "duration": 16,
    "start_time": "2023-07-18T16:44:19.645Z"
   },
   {
    "duration": 76,
    "start_time": "2023-07-18T16:44:19.663Z"
   },
   {
    "duration": 9,
    "start_time": "2023-07-18T16:44:19.741Z"
   },
   {
    "duration": 5,
    "start_time": "2023-07-18T16:44:19.753Z"
   },
   {
    "duration": 66,
    "start_time": "2023-07-18T16:44:19.760Z"
   },
   {
    "duration": 427,
    "start_time": "2023-07-18T16:44:19.827Z"
   },
   {
    "duration": 305,
    "start_time": "2023-07-18T16:44:20.255Z"
   },
   {
    "duration": 19,
    "start_time": "2023-07-18T16:44:20.561Z"
   },
   {
    "duration": 41,
    "start_time": "2023-07-18T16:44:20.582Z"
   },
   {
    "duration": 18,
    "start_time": "2023-07-18T16:44:20.625Z"
   },
   {
    "duration": 15,
    "start_time": "2023-07-18T16:44:20.645Z"
   },
   {
    "duration": 20,
    "start_time": "2023-07-18T16:44:20.662Z"
   },
   {
    "duration": 141,
    "start_time": "2023-07-18T16:44:20.683Z"
   },
   {
    "duration": 151,
    "start_time": "2023-07-18T16:44:20.825Z"
   },
   {
    "duration": 820,
    "start_time": "2023-07-18T16:44:20.978Z"
   },
   {
    "duration": 1086,
    "start_time": "2023-07-18T16:44:21.799Z"
   },
   {
    "duration": 10,
    "start_time": "2023-07-18T16:44:22.886Z"
   },
   {
    "duration": 13,
    "start_time": "2023-07-18T16:45:36.692Z"
   },
   {
    "duration": 22,
    "start_time": "2023-07-18T16:45:44.010Z"
   },
   {
    "duration": 18,
    "start_time": "2023-07-18T16:45:55.129Z"
   },
   {
    "duration": 1423,
    "start_time": "2023-07-18T16:47:54.595Z"
   },
   {
    "duration": 679,
    "start_time": "2023-07-18T16:47:56.021Z"
   },
   {
    "duration": 22,
    "start_time": "2023-07-18T16:47:56.702Z"
   },
   {
    "duration": 18,
    "start_time": "2023-07-18T16:47:56.726Z"
   },
   {
    "duration": 38,
    "start_time": "2023-07-18T16:47:56.745Z"
   },
   {
    "duration": 30,
    "start_time": "2023-07-18T16:47:56.785Z"
   },
   {
    "duration": 22,
    "start_time": "2023-07-18T16:47:56.817Z"
   },
   {
    "duration": 30,
    "start_time": "2023-07-18T16:47:56.840Z"
   },
   {
    "duration": 8,
    "start_time": "2023-07-18T16:47:56.872Z"
   },
   {
    "duration": 12,
    "start_time": "2023-07-18T16:47:56.881Z"
   },
   {
    "duration": 34,
    "start_time": "2023-07-18T16:47:56.894Z"
   },
   {
    "duration": 228,
    "start_time": "2023-07-18T16:47:56.930Z"
   },
   {
    "duration": 218,
    "start_time": "2023-07-18T16:47:57.160Z"
   },
   {
    "duration": 19,
    "start_time": "2023-07-18T16:47:57.381Z"
   },
   {
    "duration": 44,
    "start_time": "2023-07-18T16:47:57.402Z"
   },
   {
    "duration": 13,
    "start_time": "2023-07-18T16:47:57.447Z"
   },
   {
    "duration": 35,
    "start_time": "2023-07-18T16:47:57.462Z"
   },
   {
    "duration": 15,
    "start_time": "2023-07-18T16:47:57.499Z"
   },
   {
    "duration": 14,
    "start_time": "2023-07-18T16:47:57.520Z"
   },
   {
    "duration": 133,
    "start_time": "2023-07-18T16:47:57.535Z"
   },
   {
    "duration": 157,
    "start_time": "2023-07-18T16:47:57.670Z"
   },
   {
    "duration": 1023,
    "start_time": "2023-07-18T16:47:57.829Z"
   },
   {
    "duration": 1647,
    "start_time": "2023-07-18T16:47:58.853Z"
   },
   {
    "duration": 9,
    "start_time": "2023-07-18T16:48:00.502Z"
   },
   {
    "duration": 86,
    "start_time": "2023-07-18T16:52:43.427Z"
   },
   {
    "duration": 93,
    "start_time": "2023-07-18T16:52:48.770Z"
   },
   {
    "duration": 121,
    "start_time": "2023-07-18T16:53:00.343Z"
   },
   {
    "duration": 4,
    "start_time": "2023-07-18T16:53:20.396Z"
   },
   {
    "duration": 13,
    "start_time": "2023-07-18T16:54:26.595Z"
   },
   {
    "duration": 11,
    "start_time": "2023-07-18T16:54:27.651Z"
   },
   {
    "duration": 1697,
    "start_time": "2023-07-18T16:55:01.473Z"
   },
   {
    "duration": 697,
    "start_time": "2023-07-18T16:55:03.172Z"
   },
   {
    "duration": 21,
    "start_time": "2023-07-18T16:55:03.871Z"
   },
   {
    "duration": 28,
    "start_time": "2023-07-18T16:55:03.894Z"
   },
   {
    "duration": 28,
    "start_time": "2023-07-18T16:55:03.923Z"
   },
   {
    "duration": 23,
    "start_time": "2023-07-18T16:55:03.953Z"
   },
   {
    "duration": 18,
    "start_time": "2023-07-18T16:55:03.978Z"
   },
   {
    "duration": 24,
    "start_time": "2023-07-18T16:55:03.998Z"
   },
   {
    "duration": 7,
    "start_time": "2023-07-18T16:55:04.023Z"
   },
   {
    "duration": 12,
    "start_time": "2023-07-18T16:55:04.032Z"
   },
   {
    "duration": 13,
    "start_time": "2023-07-18T16:55:04.046Z"
   },
   {
    "duration": 221,
    "start_time": "2023-07-18T16:55:04.060Z"
   },
   {
    "duration": 211,
    "start_time": "2023-07-18T16:55:04.282Z"
   },
   {
    "duration": 12,
    "start_time": "2023-07-18T16:55:08.840Z"
   },
   {
    "duration": 118,
    "start_time": "2023-07-18T16:55:24.689Z"
   },
   {
    "duration": 21,
    "start_time": "2023-07-18T16:56:32.963Z"
   },
   {
    "duration": 12,
    "start_time": "2023-07-18T16:57:35.225Z"
   },
   {
    "duration": 14,
    "start_time": "2023-07-18T16:58:00.340Z"
   },
   {
    "duration": 16,
    "start_time": "2023-07-18T16:58:29.525Z"
   },
   {
    "duration": 207,
    "start_time": "2023-07-18T16:58:45.996Z"
   },
   {
    "duration": 202,
    "start_time": "2023-07-18T16:58:54.588Z"
   },
   {
    "duration": 1458,
    "start_time": "2023-07-18T16:59:44.437Z"
   },
   {
    "duration": 678,
    "start_time": "2023-07-18T16:59:45.896Z"
   },
   {
    "duration": 19,
    "start_time": "2023-07-18T16:59:46.576Z"
   },
   {
    "duration": 28,
    "start_time": "2023-07-18T16:59:46.597Z"
   },
   {
    "duration": 21,
    "start_time": "2023-07-18T16:59:46.627Z"
   },
   {
    "duration": 40,
    "start_time": "2023-07-18T16:59:46.649Z"
   },
   {
    "duration": 11,
    "start_time": "2023-07-18T16:59:46.690Z"
   },
   {
    "duration": 18,
    "start_time": "2023-07-18T16:59:46.703Z"
   },
   {
    "duration": 7,
    "start_time": "2023-07-18T16:59:46.723Z"
   },
   {
    "duration": 4,
    "start_time": "2023-07-18T16:59:46.732Z"
   },
   {
    "duration": 13,
    "start_time": "2023-07-18T16:59:46.737Z"
   },
   {
    "duration": 230,
    "start_time": "2023-07-18T16:59:46.751Z"
   },
   {
    "duration": 225,
    "start_time": "2023-07-18T16:59:46.983Z"
   },
   {
    "duration": 26,
    "start_time": "2023-07-18T16:59:47.209Z"
   },
   {
    "duration": 206,
    "start_time": "2023-07-18T17:00:23.275Z"
   },
   {
    "duration": 207,
    "start_time": "2023-07-18T17:00:35.120Z"
   },
   {
    "duration": 21,
    "start_time": "2023-07-18T17:04:47.459Z"
   },
   {
    "duration": 51,
    "start_time": "2023-07-18T17:25:42.092Z"
   },
   {
    "duration": 6,
    "start_time": "2023-07-18T17:27:35.956Z"
   },
   {
    "duration": 25,
    "start_time": "2023-07-18T17:27:40.542Z"
   },
   {
    "duration": 31,
    "start_time": "2023-07-18T17:28:05.284Z"
   },
   {
    "duration": 29,
    "start_time": "2023-07-18T17:28:54.234Z"
   },
   {
    "duration": 159,
    "start_time": "2023-07-18T17:30:35.184Z"
   },
   {
    "duration": 41,
    "start_time": "2023-07-18T17:30:46.708Z"
   },
   {
    "duration": 47,
    "start_time": "2023-07-18T17:31:18.052Z"
   },
   {
    "duration": 17,
    "start_time": "2023-07-18T17:31:35.159Z"
   },
   {
    "duration": 215,
    "start_time": "2023-07-18T17:32:29.384Z"
   },
   {
    "duration": 208,
    "start_time": "2023-07-18T17:32:41.999Z"
   },
   {
    "duration": 17,
    "start_time": "2023-07-18T17:34:11.667Z"
   },
   {
    "duration": 17,
    "start_time": "2023-07-18T17:34:30.146Z"
   },
   {
    "duration": 16,
    "start_time": "2023-07-18T17:34:42.450Z"
   },
   {
    "duration": 1406,
    "start_time": "2023-07-18T17:34:54.051Z"
   },
   {
    "duration": 746,
    "start_time": "2023-07-18T17:34:55.459Z"
   },
   {
    "duration": 25,
    "start_time": "2023-07-18T17:34:56.206Z"
   },
   {
    "duration": 24,
    "start_time": "2023-07-18T17:34:56.232Z"
   },
   {
    "duration": 20,
    "start_time": "2023-07-18T17:34:56.257Z"
   },
   {
    "duration": 55,
    "start_time": "2023-07-18T17:34:56.278Z"
   },
   {
    "duration": 14,
    "start_time": "2023-07-18T17:34:56.335Z"
   },
   {
    "duration": 31,
    "start_time": "2023-07-18T17:34:56.350Z"
   },
   {
    "duration": 7,
    "start_time": "2023-07-18T17:34:56.382Z"
   },
   {
    "duration": 20,
    "start_time": "2023-07-18T17:34:56.391Z"
   },
   {
    "duration": 38,
    "start_time": "2023-07-18T17:34:56.412Z"
   },
   {
    "duration": 229,
    "start_time": "2023-07-18T17:34:56.451Z"
   },
   {
    "duration": 219,
    "start_time": "2023-07-18T17:34:56.681Z"
   },
   {
    "duration": 32,
    "start_time": "2023-07-18T17:34:56.902Z"
   },
   {
    "duration": 17,
    "start_time": "2023-07-18T17:34:56.935Z"
   },
   {
    "duration": 16,
    "start_time": "2023-07-18T17:35:33.760Z"
   },
   {
    "duration": 1421,
    "start_time": "2023-07-18T17:35:39.733Z"
   },
   {
    "duration": 822,
    "start_time": "2023-07-18T17:35:41.156Z"
   },
   {
    "duration": 23,
    "start_time": "2023-07-18T17:35:41.979Z"
   },
   {
    "duration": 30,
    "start_time": "2023-07-18T17:35:42.004Z"
   },
   {
    "duration": 37,
    "start_time": "2023-07-18T17:35:42.036Z"
   },
   {
    "duration": 22,
    "start_time": "2023-07-18T17:35:42.074Z"
   },
   {
    "duration": 12,
    "start_time": "2023-07-18T17:35:42.098Z"
   },
   {
    "duration": 19,
    "start_time": "2023-07-18T17:35:42.111Z"
   },
   {
    "duration": 8,
    "start_time": "2023-07-18T17:35:42.131Z"
   },
   {
    "duration": 22,
    "start_time": "2023-07-18T17:35:42.140Z"
   },
   {
    "duration": 20,
    "start_time": "2023-07-18T17:35:42.163Z"
   },
   {
    "duration": 233,
    "start_time": "2023-07-18T17:35:42.184Z"
   },
   {
    "duration": 237,
    "start_time": "2023-07-18T17:35:42.425Z"
   },
   {
    "duration": 25,
    "start_time": "2023-07-18T17:35:42.664Z"
   },
   {
    "duration": 14,
    "start_time": "2023-07-18T17:35:42.690Z"
   },
   {
    "duration": 39,
    "start_time": "2023-07-18T17:35:42.724Z"
   },
   {
    "duration": 39,
    "start_time": "2023-07-18T17:35:42.764Z"
   },
   {
    "duration": 52,
    "start_time": "2023-07-18T17:35:42.805Z"
   },
   {
    "duration": 26,
    "start_time": "2023-07-18T17:35:42.859Z"
   },
   {
    "duration": 154,
    "start_time": "2023-07-18T17:35:42.887Z"
   },
   {
    "duration": 162,
    "start_time": "2023-07-18T17:35:43.043Z"
   },
   {
    "duration": 1822,
    "start_time": "2023-07-18T17:35:43.207Z"
   },
   {
    "duration": 1541,
    "start_time": "2023-07-18T17:35:45.031Z"
   },
   {
    "duration": 9,
    "start_time": "2023-07-18T17:35:46.574Z"
   },
   {
    "duration": 922,
    "start_time": "2023-07-18T17:37:01.644Z"
   },
   {
    "duration": 117,
    "start_time": "2023-07-18T17:38:28.864Z"
   },
   {
    "duration": 106,
    "start_time": "2023-07-18T17:39:20.684Z"
   },
   {
    "duration": 112,
    "start_time": "2023-07-18T17:39:29.948Z"
   },
   {
    "duration": 910,
    "start_time": "2023-07-18T17:39:35.563Z"
   },
   {
    "duration": 15,
    "start_time": "2023-07-18T17:40:01.034Z"
   },
   {
    "duration": 88,
    "start_time": "2023-07-18T17:40:53.106Z"
   },
   {
    "duration": 73,
    "start_time": "2023-07-18T17:40:59.003Z"
   },
   {
    "duration": 1063,
    "start_time": "2023-07-18T17:42:35.489Z"
   },
   {
    "duration": 9,
    "start_time": "2023-07-18T17:42:44.285Z"
   },
   {
    "duration": 4,
    "start_time": "2023-07-18T17:43:28.406Z"
   },
   {
    "duration": 5,
    "start_time": "2023-07-18T17:43:34.932Z"
   },
   {
    "duration": 4,
    "start_time": "2023-07-18T17:47:33.359Z"
   },
   {
    "duration": 4,
    "start_time": "2023-07-18T17:57:30.895Z"
   },
   {
    "duration": 2099,
    "start_time": "2023-07-18T18:01:27.040Z"
   },
   {
    "duration": 2346,
    "start_time": "2023-07-18T18:01:44.888Z"
   },
   {
    "duration": 25,
    "start_time": "2023-07-18T18:02:37.977Z"
   },
   {
    "duration": 7,
    "start_time": "2023-07-18T18:02:46.589Z"
   },
   {
    "duration": 24,
    "start_time": "2023-07-18T18:02:50.055Z"
   },
   {
    "duration": 1135,
    "start_time": "2023-07-18T18:02:57.999Z"
   },
   {
    "duration": 2501,
    "start_time": "2023-07-18T18:03:21.986Z"
   },
   {
    "duration": 2709,
    "start_time": "2023-07-18T18:03:32.779Z"
   },
   {
    "duration": 2541,
    "start_time": "2023-07-18T18:04:05.919Z"
   },
   {
    "duration": 2480,
    "start_time": "2023-07-18T18:05:08.980Z"
   },
   {
    "duration": 30,
    "start_time": "2023-07-18T18:05:30.169Z"
   },
   {
    "duration": 3,
    "start_time": "2023-07-18T18:44:22.562Z"
   },
   {
    "duration": 13,
    "start_time": "2023-07-18T19:21:28.823Z"
   },
   {
    "duration": 22,
    "start_time": "2023-07-18T19:43:33.552Z"
   },
   {
    "duration": 5,
    "start_time": "2023-07-18T19:43:39.921Z"
   },
   {
    "duration": 9,
    "start_time": "2023-07-18T19:44:36.937Z"
   },
   {
    "duration": 16,
    "start_time": "2023-07-18T19:45:02.300Z"
   },
   {
    "duration": 19,
    "start_time": "2023-07-18T19:45:12.276Z"
   },
   {
    "duration": 8,
    "start_time": "2023-07-18T19:50:45.700Z"
   },
   {
    "duration": 11,
    "start_time": "2023-07-18T19:50:48.891Z"
   },
   {
    "duration": 9,
    "start_time": "2023-07-18T19:51:10.213Z"
   },
   {
    "duration": 44,
    "start_time": "2023-07-18T19:51:19.994Z"
   },
   {
    "duration": 13,
    "start_time": "2023-07-18T19:51:42.325Z"
   },
   {
    "duration": 2006,
    "start_time": "2023-07-18T19:52:20.653Z"
   },
   {
    "duration": 12,
    "start_time": "2023-07-18T19:53:23.440Z"
   },
   {
    "duration": 5,
    "start_time": "2023-07-18T19:54:10.444Z"
   },
   {
    "duration": 9,
    "start_time": "2023-07-18T19:54:14.063Z"
   },
   {
    "duration": 3,
    "start_time": "2023-07-18T19:54:19.147Z"
   },
   {
    "duration": 2019,
    "start_time": "2023-07-18T19:54:22.433Z"
   },
   {
    "duration": 3,
    "start_time": "2023-07-18T19:54:48.231Z"
   },
   {
    "duration": 2037,
    "start_time": "2023-07-18T19:54:51.157Z"
   },
   {
    "duration": 3,
    "start_time": "2023-07-18T19:55:16.441Z"
   },
   {
    "duration": 2060,
    "start_time": "2023-07-18T19:55:19.650Z"
   },
   {
    "duration": 2078,
    "start_time": "2023-07-18T19:56:05.746Z"
   },
   {
    "duration": 2104,
    "start_time": "2023-07-18T19:56:16.147Z"
   },
   {
    "duration": 7,
    "start_time": "2023-07-18T19:57:16.718Z"
   },
   {
    "duration": 4,
    "start_time": "2023-07-18T19:59:16.777Z"
   },
   {
    "duration": 3,
    "start_time": "2023-07-18T19:59:23.506Z"
   },
   {
    "duration": 4,
    "start_time": "2023-07-18T20:00:19.004Z"
   },
   {
    "duration": 2051,
    "start_time": "2023-07-18T20:00:21.424Z"
   },
   {
    "duration": 3,
    "start_time": "2023-07-18T20:00:55.852Z"
   },
   {
    "duration": 2117,
    "start_time": "2023-07-18T20:00:58.907Z"
   },
   {
    "duration": 2067,
    "start_time": "2023-07-18T20:02:27.412Z"
   },
   {
    "duration": 2094,
    "start_time": "2023-07-18T20:02:33.874Z"
   },
   {
    "duration": 2,
    "start_time": "2023-07-18T20:13:42.602Z"
   },
   {
    "duration": 2151,
    "start_time": "2023-07-18T20:13:45.188Z"
   },
   {
    "duration": 3,
    "start_time": "2023-07-18T20:13:56.264Z"
   },
   {
    "duration": 2084,
    "start_time": "2023-07-18T20:14:03.181Z"
   },
   {
    "duration": 3,
    "start_time": "2023-07-18T20:14:28.383Z"
   },
   {
    "duration": 2072,
    "start_time": "2023-07-18T20:14:30.823Z"
   },
   {
    "duration": 1994,
    "start_time": "2023-07-18T20:17:40.641Z"
   },
   {
    "duration": 3,
    "start_time": "2023-07-18T20:19:41.025Z"
   },
   {
    "duration": 2138,
    "start_time": "2023-07-18T20:19:44.154Z"
   },
   {
    "duration": 2,
    "start_time": "2023-07-18T20:21:01.864Z"
   },
   {
    "duration": 2184,
    "start_time": "2023-07-18T20:21:05.304Z"
   },
   {
    "duration": 2001,
    "start_time": "2023-07-18T20:22:15.275Z"
   },
   {
    "duration": 2116,
    "start_time": "2023-07-18T20:23:30.675Z"
   },
   {
    "duration": 2138,
    "start_time": "2023-07-18T20:26:25.749Z"
   },
   {
    "duration": 2020,
    "start_time": "2023-07-18T20:26:46.334Z"
   },
   {
    "duration": 1583,
    "start_time": "2023-07-19T04:52:19.826Z"
   },
   {
    "duration": 2158,
    "start_time": "2023-07-19T04:52:21.411Z"
   },
   {
    "duration": 26,
    "start_time": "2023-07-19T04:52:23.570Z"
   },
   {
    "duration": 29,
    "start_time": "2023-07-19T04:52:23.598Z"
   },
   {
    "duration": 26,
    "start_time": "2023-07-19T04:52:23.630Z"
   },
   {
    "duration": 26,
    "start_time": "2023-07-19T04:52:23.657Z"
   },
   {
    "duration": 11,
    "start_time": "2023-07-19T04:52:23.685Z"
   },
   {
    "duration": 36,
    "start_time": "2023-07-19T04:52:23.698Z"
   },
   {
    "duration": 8,
    "start_time": "2023-07-19T04:52:23.736Z"
   },
   {
    "duration": 9,
    "start_time": "2023-07-19T04:52:23.746Z"
   },
   {
    "duration": 19,
    "start_time": "2023-07-19T04:52:23.757Z"
   },
   {
    "duration": 264,
    "start_time": "2023-07-19T04:52:23.777Z"
   },
   {
    "duration": 239,
    "start_time": "2023-07-19T04:52:24.043Z"
   },
   {
    "duration": 37,
    "start_time": "2023-07-19T04:52:24.284Z"
   },
   {
    "duration": 16,
    "start_time": "2023-07-19T04:52:24.322Z"
   },
   {
    "duration": 46,
    "start_time": "2023-07-19T04:52:24.340Z"
   },
   {
    "duration": 64,
    "start_time": "2023-07-19T04:52:24.388Z"
   },
   {
    "duration": 37,
    "start_time": "2023-07-19T04:52:24.454Z"
   },
   {
    "duration": 41,
    "start_time": "2023-07-19T04:52:24.493Z"
   },
   {
    "duration": 148,
    "start_time": "2023-07-19T04:52:24.536Z"
   },
   {
    "duration": 216,
    "start_time": "2023-07-19T04:52:24.686Z"
   },
   {
    "duration": 923,
    "start_time": "2023-07-19T04:52:24.904Z"
   },
   {
    "duration": 75,
    "start_time": "2023-07-19T04:52:25.828Z"
   },
   {
    "duration": 1202,
    "start_time": "2023-07-19T04:52:25.905Z"
   },
   {
    "duration": 14,
    "start_time": "2023-07-19T04:52:27.110Z"
   },
   {
    "duration": 20,
    "start_time": "2023-07-19T04:52:27.126Z"
   },
   {
    "duration": 52,
    "start_time": "2023-07-19T04:52:27.147Z"
   },
   {
    "duration": 2742,
    "start_time": "2023-07-19T04:52:27.202Z"
   },
   {
    "duration": 3,
    "start_time": "2023-07-19T04:52:29.946Z"
   },
   {
    "duration": 20,
    "start_time": "2023-07-19T04:52:29.950Z"
   },
   {
    "duration": 2066,
    "start_time": "2023-07-19T04:52:29.973Z"
   },
   {
    "duration": 214,
    "start_time": "2023-07-19T04:52:32.040Z"
   },
   {
    "duration": 24,
    "start_time": "2023-07-19T04:52:59.764Z"
   },
   {
    "duration": 7,
    "start_time": "2023-07-19T04:54:07.256Z"
   },
   {
    "duration": 24,
    "start_time": "2023-07-19T04:54:11.180Z"
   },
   {
    "duration": 1885,
    "start_time": "2023-07-19T04:54:18.028Z"
   },
   {
    "duration": 13,
    "start_time": "2023-07-19T04:57:13.322Z"
   },
   {
    "duration": 12,
    "start_time": "2023-07-19T04:57:44.639Z"
   },
   {
    "duration": 3320,
    "start_time": "2023-07-19T04:58:04.284Z"
   },
   {
    "duration": 5,
    "start_time": "2023-07-19T04:59:18.996Z"
   },
   {
    "duration": 4,
    "start_time": "2023-07-19T04:59:28.799Z"
   },
   {
    "duration": 5,
    "start_time": "2023-07-19T05:04:59.099Z"
   },
   {
    "duration": 25,
    "start_time": "2023-07-19T05:06:03.717Z"
   },
   {
    "duration": 4,
    "start_time": "2023-07-19T05:07:21.703Z"
   },
   {
    "duration": 49,
    "start_time": "2023-07-19T12:30:17.555Z"
   },
   {
    "duration": 6,
    "start_time": "2023-07-19T12:30:32.553Z"
   },
   {
    "duration": 1650,
    "start_time": "2023-07-19T12:30:39.911Z"
   },
   {
    "duration": 2169,
    "start_time": "2023-07-19T12:30:41.563Z"
   },
   {
    "duration": 25,
    "start_time": "2023-07-19T12:30:43.734Z"
   },
   {
    "duration": 20,
    "start_time": "2023-07-19T12:30:43.761Z"
   },
   {
    "duration": 47,
    "start_time": "2023-07-19T12:30:43.782Z"
   },
   {
    "duration": 20,
    "start_time": "2023-07-19T12:30:43.831Z"
   },
   {
    "duration": 10,
    "start_time": "2023-07-19T12:30:43.853Z"
   },
   {
    "duration": 16,
    "start_time": "2023-07-19T12:30:43.865Z"
   },
   {
    "duration": 8,
    "start_time": "2023-07-19T12:30:43.883Z"
   },
   {
    "duration": 4,
    "start_time": "2023-07-19T12:30:43.894Z"
   },
   {
    "duration": 43,
    "start_time": "2023-07-19T12:30:43.900Z"
   },
   {
    "duration": 229,
    "start_time": "2023-07-19T12:30:43.945Z"
   },
   {
    "duration": 229,
    "start_time": "2023-07-19T12:30:44.176Z"
   },
   {
    "duration": 33,
    "start_time": "2023-07-19T12:30:44.407Z"
   },
   {
    "duration": 15,
    "start_time": "2023-07-19T12:30:44.442Z"
   },
   {
    "duration": 56,
    "start_time": "2023-07-19T12:30:44.459Z"
   },
   {
    "duration": 50,
    "start_time": "2023-07-19T12:30:44.517Z"
   },
   {
    "duration": 47,
    "start_time": "2023-07-19T12:30:44.569Z"
   },
   {
    "duration": 42,
    "start_time": "2023-07-19T12:30:44.618Z"
   },
   {
    "duration": 198,
    "start_time": "2023-07-19T12:30:44.662Z"
   },
   {
    "duration": 172,
    "start_time": "2023-07-19T12:30:44.862Z"
   },
   {
    "duration": 880,
    "start_time": "2023-07-19T12:30:45.035Z"
   },
   {
    "duration": 80,
    "start_time": "2023-07-19T12:30:45.916Z"
   },
   {
    "duration": 1183,
    "start_time": "2023-07-19T12:30:45.998Z"
   },
   {
    "duration": 11,
    "start_time": "2023-07-19T12:30:47.183Z"
   },
   {
    "duration": 18,
    "start_time": "2023-07-19T12:30:47.196Z"
   },
   {
    "duration": 47,
    "start_time": "2023-07-19T12:30:47.215Z"
   },
   {
    "duration": 2814,
    "start_time": "2023-07-19T12:30:47.264Z"
   },
   {
    "duration": 3,
    "start_time": "2023-07-19T12:30:50.080Z"
   },
   {
    "duration": 39,
    "start_time": "2023-07-19T12:30:50.085Z"
   },
   {
    "duration": 39,
    "start_time": "2023-07-19T12:30:50.125Z"
   },
   {
    "duration": 1868,
    "start_time": "2023-07-19T12:30:50.166Z"
   },
   {
    "duration": 3297,
    "start_time": "2023-07-19T12:30:52.036Z"
   },
   {
    "duration": 0,
    "start_time": "2023-07-19T12:30:55.335Z"
   },
   {
    "duration": 0,
    "start_time": "2023-07-19T12:30:55.336Z"
   },
   {
    "duration": 4,
    "start_time": "2023-07-19T12:32:50.880Z"
   },
   {
    "duration": 3,
    "start_time": "2023-07-19T12:33:21.452Z"
   },
   {
    "duration": 3526,
    "start_time": "2023-07-19T12:34:21.958Z"
   },
   {
    "duration": 3475,
    "start_time": "2023-07-19T12:34:55.890Z"
   },
   {
    "duration": 3047,
    "start_time": "2023-07-19T12:55:29.898Z"
   },
   {
    "duration": 3359,
    "start_time": "2023-07-19T12:55:40.891Z"
   },
   {
    "duration": 3,
    "start_time": "2023-07-19T12:55:49.439Z"
   },
   {
    "duration": 3,
    "start_time": "2023-07-19T12:58:36.013Z"
   },
   {
    "duration": 4,
    "start_time": "2023-07-19T12:59:31.784Z"
   },
   {
    "duration": 4,
    "start_time": "2023-07-19T12:59:34.203Z"
   },
   {
    "duration": 4,
    "start_time": "2023-07-19T12:59:37.281Z"
   },
   {
    "duration": 4,
    "start_time": "2023-07-19T12:59:39.620Z"
   },
   {
    "duration": 4,
    "start_time": "2023-07-19T12:59:42.020Z"
   },
   {
    "duration": 4,
    "start_time": "2023-07-19T12:59:44.708Z"
   },
   {
    "duration": 3,
    "start_time": "2023-07-19T12:59:49.448Z"
   },
   {
    "duration": 3,
    "start_time": "2023-07-19T12:59:52.593Z"
   },
   {
    "duration": 4,
    "start_time": "2023-07-19T12:59:54.990Z"
   },
   {
    "duration": 76,
    "start_time": "2023-07-19T12:59:55.058Z"
   },
   {
    "duration": 4,
    "start_time": "2023-07-19T12:59:57.844Z"
   },
   {
    "duration": 10,
    "start_time": "2023-07-19T13:02:16.931Z"
   },
   {
    "duration": 3512,
    "start_time": "2023-07-19T13:03:05.312Z"
   },
   {
    "duration": 418,
    "start_time": "2023-07-19T13:04:39.598Z"
   },
   {
    "duration": 1949,
    "start_time": "2023-07-19T13:06:17.042Z"
   },
   {
    "duration": 839,
    "start_time": "2023-07-19T13:10:12.394Z"
   },
   {
    "duration": 931,
    "start_time": "2023-07-19T13:10:21.300Z"
   },
   {
    "duration": 7,
    "start_time": "2023-07-19T13:13:07.883Z"
   },
   {
    "duration": 109,
    "start_time": "2023-07-19T13:13:24.310Z"
   },
   {
    "duration": 11,
    "start_time": "2023-07-19T13:14:36.066Z"
   },
   {
    "duration": 148,
    "start_time": "2023-07-19T13:14:37.391Z"
   },
   {
    "duration": 6,
    "start_time": "2023-07-19T13:15:42.299Z"
   },
   {
    "duration": 102,
    "start_time": "2023-07-19T13:15:43.435Z"
   },
   {
    "duration": 6,
    "start_time": "2023-07-19T13:15:59.855Z"
   },
   {
    "duration": 4040,
    "start_time": "2023-07-19T13:16:00.592Z"
   },
   {
    "duration": 7838,
    "start_time": "2023-07-19T13:16:45.121Z"
   },
   {
    "duration": 3,
    "start_time": "2023-07-19T13:33:59.874Z"
   },
   {
    "duration": 7,
    "start_time": "2023-07-19T13:34:04.893Z"
   },
   {
    "duration": 9,
    "start_time": "2023-07-19T13:49:07.153Z"
   },
   {
    "duration": 16,
    "start_time": "2023-07-19T13:49:32.118Z"
   },
   {
    "duration": 187,
    "start_time": "2023-07-19T13:49:51.222Z"
   },
   {
    "duration": 203,
    "start_time": "2023-07-19T13:50:07.018Z"
   },
   {
    "duration": 179,
    "start_time": "2023-07-19T13:50:30.879Z"
   },
   {
    "duration": 44546,
    "start_time": "2023-07-19T13:51:14.720Z"
   },
   {
    "duration": 45090,
    "start_time": "2023-07-19T13:52:58.174Z"
   },
   {
    "duration": 46271,
    "start_time": "2023-07-19T13:54:11.146Z"
   },
   {
    "duration": 1405,
    "start_time": "2023-07-19T13:56:49.892Z"
   },
   {
    "duration": 812,
    "start_time": "2023-07-19T13:56:51.299Z"
   },
   {
    "duration": 40,
    "start_time": "2023-07-19T13:56:52.113Z"
   },
   {
    "duration": 25,
    "start_time": "2023-07-19T13:56:52.155Z"
   },
   {
    "duration": 66,
    "start_time": "2023-07-19T13:56:52.182Z"
   },
   {
    "duration": 147,
    "start_time": "2023-07-19T13:56:52.250Z"
   },
   {
    "duration": 11,
    "start_time": "2023-07-19T13:56:52.399Z"
   },
   {
    "duration": 54,
    "start_time": "2023-07-19T13:56:52.411Z"
   },
   {
    "duration": 13,
    "start_time": "2023-07-19T13:56:52.466Z"
   },
   {
    "duration": 11,
    "start_time": "2023-07-19T13:56:52.482Z"
   },
   {
    "duration": 14,
    "start_time": "2023-07-19T13:56:52.495Z"
   },
   {
    "duration": 274,
    "start_time": "2023-07-19T13:56:52.510Z"
   },
   {
    "duration": 391,
    "start_time": "2023-07-19T13:56:52.785Z"
   },
   {
    "duration": 84,
    "start_time": "2023-07-19T13:56:53.177Z"
   },
   {
    "duration": 16,
    "start_time": "2023-07-19T13:56:53.263Z"
   },
   {
    "duration": 114,
    "start_time": "2023-07-19T13:56:53.332Z"
   },
   {
    "duration": 93,
    "start_time": "2023-07-19T13:56:53.447Z"
   },
   {
    "duration": 93,
    "start_time": "2023-07-19T13:56:53.543Z"
   },
   {
    "duration": 40,
    "start_time": "2023-07-19T13:56:53.639Z"
   },
   {
    "duration": 387,
    "start_time": "2023-07-19T13:56:53.681Z"
   },
   {
    "duration": 391,
    "start_time": "2023-07-19T13:56:54.070Z"
   },
   {
    "duration": 1276,
    "start_time": "2023-07-19T13:56:54.462Z"
   },
   {
    "duration": 83,
    "start_time": "2023-07-19T13:56:55.739Z"
   },
   {
    "duration": 1244,
    "start_time": "2023-07-19T13:56:55.833Z"
   },
   {
    "duration": 10,
    "start_time": "2023-07-19T13:56:57.078Z"
   },
   {
    "duration": 5,
    "start_time": "2023-07-19T13:56:57.090Z"
   },
   {
    "duration": 62,
    "start_time": "2023-07-19T13:56:57.096Z"
   },
   {
    "duration": 2956,
    "start_time": "2023-07-19T13:56:57.161Z"
   },
   {
    "duration": 14,
    "start_time": "2023-07-19T13:57:00.119Z"
   },
   {
    "duration": 46,
    "start_time": "2023-07-19T13:57:00.134Z"
   },
   {
    "duration": 752,
    "start_time": "2023-07-19T13:57:00.182Z"
   },
   {
    "duration": 47571,
    "start_time": "2023-07-19T13:57:00.939Z"
   },
   {
    "duration": 1035,
    "start_time": "2023-07-19T13:57:48.512Z"
   },
   {
    "duration": 0,
    "start_time": "2023-07-19T13:57:49.549Z"
   },
   {
    "duration": 735,
    "start_time": "2023-07-19T14:00:15.347Z"
   },
   {
    "duration": 49136,
    "start_time": "2023-07-19T14:00:22.994Z"
   },
   {
    "duration": 20175,
    "start_time": "2023-07-19T14:01:55.535Z"
   },
   {
    "duration": 19615,
    "start_time": "2023-07-19T14:02:38.802Z"
   },
   {
    "duration": 2079049,
    "start_time": "2023-07-19T14:11:19.468Z"
   },
   {
    "duration": 2455,
    "start_time": "2023-07-19T14:46:43.280Z"
   },
   {
    "duration": 27,
    "start_time": "2023-07-19T14:55:35.645Z"
   },
   {
    "duration": 4,
    "start_time": "2023-07-19T14:57:59.771Z"
   },
   {
    "duration": 792,
    "start_time": "2023-07-19T14:57:59.777Z"
   },
   {
    "duration": 25,
    "start_time": "2023-07-19T14:58:00.572Z"
   },
   {
    "duration": 46,
    "start_time": "2023-07-19T14:58:00.599Z"
   },
   {
    "duration": 61,
    "start_time": "2023-07-19T14:58:00.648Z"
   },
   {
    "duration": 59,
    "start_time": "2023-07-19T14:58:00.711Z"
   },
   {
    "duration": 69,
    "start_time": "2023-07-19T14:58:00.772Z"
   },
   {
    "duration": 47,
    "start_time": "2023-07-19T14:58:00.843Z"
   },
   {
    "duration": 44,
    "start_time": "2023-07-19T14:58:00.892Z"
   },
   {
    "duration": 21,
    "start_time": "2023-07-19T14:58:00.938Z"
   },
   {
    "duration": 24,
    "start_time": "2023-07-19T14:58:00.961Z"
   },
   {
    "duration": 300,
    "start_time": "2023-07-19T14:58:00.987Z"
   },
   {
    "duration": 300,
    "start_time": "2023-07-19T14:58:01.289Z"
   },
   {
    "duration": 26,
    "start_time": "2023-07-19T14:58:01.591Z"
   },
   {
    "duration": 103,
    "start_time": "2023-07-19T14:58:01.619Z"
   },
   {
    "duration": 99,
    "start_time": "2023-07-19T14:58:01.724Z"
   },
   {
    "duration": 89,
    "start_time": "2023-07-19T14:58:01.825Z"
   },
   {
    "duration": 52,
    "start_time": "2023-07-19T14:58:01.916Z"
   },
   {
    "duration": 14,
    "start_time": "2023-07-19T14:58:04.366Z"
   },
   {
    "duration": 4,
    "start_time": "2023-07-19T14:58:48.862Z"
   },
   {
    "duration": 781,
    "start_time": "2023-07-19T14:58:48.869Z"
   },
   {
    "duration": 22,
    "start_time": "2023-07-19T14:58:49.652Z"
   },
   {
    "duration": 53,
    "start_time": "2023-07-19T14:58:49.676Z"
   },
   {
    "duration": 43,
    "start_time": "2023-07-19T14:58:49.731Z"
   },
   {
    "duration": 58,
    "start_time": "2023-07-19T14:58:49.776Z"
   },
   {
    "duration": 23,
    "start_time": "2023-07-19T14:58:49.836Z"
   },
   {
    "duration": 17,
    "start_time": "2023-07-19T14:58:49.860Z"
   },
   {
    "duration": 8,
    "start_time": "2023-07-19T14:58:49.879Z"
   },
   {
    "duration": 22,
    "start_time": "2023-07-19T14:58:49.889Z"
   },
   {
    "duration": 24,
    "start_time": "2023-07-19T14:58:49.913Z"
   },
   {
    "duration": 258,
    "start_time": "2023-07-19T14:58:49.939Z"
   },
   {
    "duration": 241,
    "start_time": "2023-07-19T14:58:50.199Z"
   },
   {
    "duration": 29,
    "start_time": "2023-07-19T14:58:50.441Z"
   },
   {
    "duration": 21,
    "start_time": "2023-07-19T14:58:50.473Z"
   },
   {
    "duration": 50,
    "start_time": "2023-07-19T14:58:50.496Z"
   },
   {
    "duration": 37,
    "start_time": "2023-07-19T14:58:50.548Z"
   },
   {
    "duration": 60,
    "start_time": "2023-07-19T14:58:50.587Z"
   },
   {
    "duration": 9,
    "start_time": "2023-07-19T14:58:54.254Z"
   },
   {
    "duration": 5,
    "start_time": "2023-07-19T14:59:06.783Z"
   },
   {
    "duration": 817,
    "start_time": "2023-07-19T14:59:06.791Z"
   },
   {
    "duration": 26,
    "start_time": "2023-07-19T14:59:07.610Z"
   },
   {
    "duration": 63,
    "start_time": "2023-07-19T14:59:07.638Z"
   },
   {
    "duration": 28,
    "start_time": "2023-07-19T14:59:07.704Z"
   },
   {
    "duration": 31,
    "start_time": "2023-07-19T14:59:07.734Z"
   },
   {
    "duration": 13,
    "start_time": "2023-07-19T14:59:07.767Z"
   },
   {
    "duration": 24,
    "start_time": "2023-07-19T14:59:07.782Z"
   },
   {
    "duration": 8,
    "start_time": "2023-07-19T14:59:07.808Z"
   },
   {
    "duration": 6,
    "start_time": "2023-07-19T14:59:07.831Z"
   },
   {
    "duration": 28,
    "start_time": "2023-07-19T14:59:07.840Z"
   },
   {
    "duration": 265,
    "start_time": "2023-07-19T14:59:07.870Z"
   },
   {
    "duration": 248,
    "start_time": "2023-07-19T14:59:08.136Z"
   },
   {
    "duration": 25,
    "start_time": "2023-07-19T14:59:08.386Z"
   },
   {
    "duration": 28,
    "start_time": "2023-07-19T14:59:08.413Z"
   },
   {
    "duration": 62,
    "start_time": "2023-07-19T14:59:08.442Z"
   },
   {
    "duration": 31,
    "start_time": "2023-07-19T14:59:08.506Z"
   },
   {
    "duration": 39,
    "start_time": "2023-07-19T14:59:08.539Z"
   },
   {
    "duration": 9,
    "start_time": "2023-07-19T14:59:08.579Z"
   },
   {
    "duration": 58,
    "start_time": "2023-07-19T14:59:08.589Z"
   },
   {
    "duration": 159,
    "start_time": "2023-07-19T14:59:08.649Z"
   },
   {
    "duration": 189,
    "start_time": "2023-07-19T14:59:08.810Z"
   },
   {
    "duration": 5,
    "start_time": "2023-07-19T15:00:21.609Z"
   },
   {
    "duration": 2282,
    "start_time": "2023-07-19T15:04:37.054Z"
   },
   {
    "duration": 10215,
    "start_time": "2023-07-19T15:04:51.497Z"
   },
   {
    "duration": 6,
    "start_time": "2023-07-19T15:05:37.698Z"
   },
   {
    "duration": 10067,
    "start_time": "2023-07-19T15:05:39.968Z"
   },
   {
    "duration": 10032,
    "start_time": "2023-07-19T15:06:10.378Z"
   },
   {
    "duration": 8,
    "start_time": "2023-07-19T15:07:35.777Z"
   },
   {
    "duration": 4,
    "start_time": "2023-07-19T15:07:54.153Z"
   },
   {
    "duration": 6,
    "start_time": "2023-07-19T15:08:53.497Z"
   },
   {
    "duration": 26,
    "start_time": "2023-07-19T15:09:07.501Z"
   },
   {
    "duration": 26,
    "start_time": "2023-07-19T15:09:49.651Z"
   },
   {
    "duration": 5,
    "start_time": "2023-07-19T15:10:07.104Z"
   },
   {
    "duration": 7,
    "start_time": "2023-07-19T15:10:27.067Z"
   },
   {
    "duration": 10071,
    "start_time": "2023-07-19T15:10:36.590Z"
   },
   {
    "duration": 7,
    "start_time": "2023-07-19T15:10:51.190Z"
   },
   {
    "duration": 9,
    "start_time": "2023-07-19T15:10:51.269Z"
   },
   {
    "duration": 6,
    "start_time": "2023-07-19T15:11:02.979Z"
   },
   {
    "duration": 23,
    "start_time": "2023-07-19T15:11:29.314Z"
   },
   {
    "duration": 25,
    "start_time": "2023-07-19T15:11:53.660Z"
   },
   {
    "duration": 2980,
    "start_time": "2023-07-19T15:12:24.652Z"
   },
   {
    "duration": 4,
    "start_time": "2023-07-19T15:12:29.934Z"
   },
   {
    "duration": 7,
    "start_time": "2023-07-19T15:12:53.044Z"
   },
   {
    "duration": 10538,
    "start_time": "2023-07-19T15:12:57.195Z"
   },
   {
    "duration": 6,
    "start_time": "2023-07-19T15:13:25.133Z"
   },
   {
    "duration": 4,
    "start_time": "2023-07-19T15:13:37.304Z"
   },
   {
    "duration": 4,
    "start_time": "2023-07-19T15:13:58.953Z"
   },
   {
    "duration": 10210,
    "start_time": "2023-07-19T15:14:05.952Z"
   },
   {
    "duration": 2518,
    "start_time": "2023-07-19T15:14:20.313Z"
   },
   {
    "duration": 4,
    "start_time": "2023-07-19T15:14:49.121Z"
   },
   {
    "duration": 5,
    "start_time": "2023-07-19T15:14:57.899Z"
   },
   {
    "duration": 4,
    "start_time": "2023-07-19T15:15:13.630Z"
   },
   {
    "duration": 6,
    "start_time": "2023-07-19T15:15:18.147Z"
   },
   {
    "duration": 4,
    "start_time": "2023-07-19T15:15:31.983Z"
   },
   {
    "duration": 5,
    "start_time": "2023-07-19T15:15:43.336Z"
   },
   {
    "duration": 4,
    "start_time": "2023-07-19T15:15:47.938Z"
   },
   {
    "duration": 114,
    "start_time": "2023-07-19T15:16:31.941Z"
   },
   {
    "duration": 5,
    "start_time": "2023-07-19T15:17:05.353Z"
   },
   {
    "duration": 9,
    "start_time": "2023-07-19T15:17:14.346Z"
   },
   {
    "duration": 8,
    "start_time": "2023-07-19T15:19:53.493Z"
   },
   {
    "duration": 10231,
    "start_time": "2023-07-19T15:19:54.989Z"
   },
   {
    "duration": 2312,
    "start_time": "2023-07-19T15:20:49.720Z"
   },
   {
    "duration": 2679,
    "start_time": "2023-07-19T15:21:43.069Z"
   },
   {
    "duration": 2683,
    "start_time": "2023-07-19T15:22:10.756Z"
   },
   {
    "duration": 19124,
    "start_time": "2023-07-19T15:22:20.463Z"
   },
   {
    "duration": 19184,
    "start_time": "2023-07-19T15:23:29.746Z"
   },
   {
    "duration": 4,
    "start_time": "2023-07-19T15:24:19.773Z"
   },
   {
    "duration": 18543,
    "start_time": "2023-07-19T15:24:39.956Z"
   },
   {
    "duration": 1462,
    "start_time": "2023-07-19T15:25:16.653Z"
   },
   {
    "duration": 765,
    "start_time": "2023-07-19T15:25:18.117Z"
   },
   {
    "duration": 24,
    "start_time": "2023-07-19T15:25:18.884Z"
   },
   {
    "duration": 46,
    "start_time": "2023-07-19T15:25:18.910Z"
   },
   {
    "duration": 25,
    "start_time": "2023-07-19T15:25:18.958Z"
   },
   {
    "duration": 48,
    "start_time": "2023-07-19T15:25:18.984Z"
   },
   {
    "duration": 15,
    "start_time": "2023-07-19T15:25:19.034Z"
   },
   {
    "duration": 15,
    "start_time": "2023-07-19T15:25:19.050Z"
   },
   {
    "duration": 8,
    "start_time": "2023-07-19T15:25:19.066Z"
   },
   {
    "duration": 11,
    "start_time": "2023-07-19T15:25:19.076Z"
   },
   {
    "duration": 20,
    "start_time": "2023-07-19T15:25:19.088Z"
   },
   {
    "duration": 295,
    "start_time": "2023-07-19T15:25:19.109Z"
   },
   {
    "duration": 242,
    "start_time": "2023-07-19T15:25:19.405Z"
   },
   {
    "duration": 29,
    "start_time": "2023-07-19T15:25:19.649Z"
   },
   {
    "duration": 61,
    "start_time": "2023-07-19T15:25:19.681Z"
   },
   {
    "duration": 45,
    "start_time": "2023-07-19T15:25:19.744Z"
   },
   {
    "duration": 49,
    "start_time": "2023-07-19T15:25:19.791Z"
   },
   {
    "duration": 39,
    "start_time": "2023-07-19T15:25:19.842Z"
   },
   {
    "duration": 9,
    "start_time": "2023-07-19T15:25:19.882Z"
   },
   {
    "duration": 45,
    "start_time": "2023-07-19T15:25:19.892Z"
   },
   {
    "duration": 152,
    "start_time": "2023-07-19T15:25:19.939Z"
   },
   {
    "duration": 180,
    "start_time": "2023-07-19T15:25:20.093Z"
   },
   {
    "duration": 945,
    "start_time": "2023-07-19T15:25:20.275Z"
   },
   {
    "duration": 82,
    "start_time": "2023-07-19T15:25:21.222Z"
   },
   {
    "duration": 1131,
    "start_time": "2023-07-19T15:25:21.306Z"
   },
   {
    "duration": 9,
    "start_time": "2023-07-19T15:25:22.439Z"
   },
   {
    "duration": 16,
    "start_time": "2023-07-19T15:25:22.450Z"
   },
   {
    "duration": 43,
    "start_time": "2023-07-19T15:25:22.469Z"
   },
   {
    "duration": 3016,
    "start_time": "2023-07-19T15:25:22.514Z"
   },
   {
    "duration": 3,
    "start_time": "2023-07-19T15:25:25.532Z"
   },
   {
    "duration": 16,
    "start_time": "2023-07-19T15:25:25.537Z"
   },
   {
    "duration": 20334,
    "start_time": "2023-07-19T15:25:30.509Z"
   },
   {
    "duration": 4,
    "start_time": "2023-07-19T15:29:12.173Z"
   },
   {
    "duration": 810,
    "start_time": "2023-07-19T15:29:12.179Z"
   },
   {
    "duration": 20,
    "start_time": "2023-07-19T15:29:12.991Z"
   },
   {
    "duration": 32,
    "start_time": "2023-07-19T15:29:13.013Z"
   },
   {
    "duration": 53,
    "start_time": "2023-07-19T15:29:13.047Z"
   },
   {
    "duration": 29,
    "start_time": "2023-07-19T15:29:13.102Z"
   },
   {
    "duration": 11,
    "start_time": "2023-07-19T15:29:13.133Z"
   },
   {
    "duration": 24,
    "start_time": "2023-07-19T15:29:13.145Z"
   },
   {
    "duration": 6,
    "start_time": "2023-07-19T15:29:13.171Z"
   },
   {
    "duration": 11,
    "start_time": "2023-07-19T15:29:13.179Z"
   },
   {
    "duration": 18,
    "start_time": "2023-07-19T15:29:13.191Z"
   },
   {
    "duration": 275,
    "start_time": "2023-07-19T15:29:13.210Z"
   },
   {
    "duration": 234,
    "start_time": "2023-07-19T15:29:13.488Z"
   },
   {
    "duration": 30,
    "start_time": "2023-07-19T15:29:13.731Z"
   },
   {
    "duration": 15,
    "start_time": "2023-07-19T15:29:13.763Z"
   },
   {
    "duration": 61,
    "start_time": "2023-07-19T15:29:13.780Z"
   },
   {
    "duration": 33,
    "start_time": "2023-07-19T15:29:13.842Z"
   },
   {
    "duration": 39,
    "start_time": "2023-07-19T15:29:13.876Z"
   },
   {
    "duration": 23,
    "start_time": "2023-07-19T15:29:13.916Z"
   },
   {
    "duration": 1359,
    "start_time": "2023-07-19T15:29:25.178Z"
   },
   {
    "duration": 781,
    "start_time": "2023-07-19T15:29:26.540Z"
   },
   {
    "duration": 28,
    "start_time": "2023-07-19T15:29:27.322Z"
   },
   {
    "duration": 21,
    "start_time": "2023-07-19T15:29:27.351Z"
   },
   {
    "duration": 32,
    "start_time": "2023-07-19T15:29:27.375Z"
   },
   {
    "duration": 23,
    "start_time": "2023-07-19T15:29:27.409Z"
   },
   {
    "duration": 12,
    "start_time": "2023-07-19T15:29:27.434Z"
   },
   {
    "duration": 19,
    "start_time": "2023-07-19T15:29:27.447Z"
   },
   {
    "duration": 8,
    "start_time": "2023-07-19T15:29:27.468Z"
   },
   {
    "duration": 7,
    "start_time": "2023-07-19T15:29:27.477Z"
   },
   {
    "duration": 45,
    "start_time": "2023-07-19T15:29:27.486Z"
   },
   {
    "duration": 276,
    "start_time": "2023-07-19T15:29:27.533Z"
   },
   {
    "duration": 245,
    "start_time": "2023-07-19T15:29:27.811Z"
   },
   {
    "duration": 26,
    "start_time": "2023-07-19T15:29:28.059Z"
   },
   {
    "duration": 14,
    "start_time": "2023-07-19T15:29:28.086Z"
   },
   {
    "duration": 63,
    "start_time": "2023-07-19T15:29:28.102Z"
   },
   {
    "duration": 31,
    "start_time": "2023-07-19T15:29:28.167Z"
   },
   {
    "duration": 57,
    "start_time": "2023-07-19T15:29:28.200Z"
   },
   {
    "duration": 9,
    "start_time": "2023-07-19T15:29:28.258Z"
   },
   {
    "duration": 25,
    "start_time": "2023-07-19T15:29:33.147Z"
   },
   {
    "duration": 174,
    "start_time": "2023-07-19T15:31:38.185Z"
   },
   {
    "duration": 91,
    "start_time": "2023-07-19T15:31:54.659Z"
   },
   {
    "duration": 181,
    "start_time": "2023-07-19T15:31:59.347Z"
   },
   {
    "duration": 159,
    "start_time": "2023-07-19T15:33:22.052Z"
   },
   {
    "duration": 1583,
    "start_time": "2023-07-19T15:33:52.181Z"
   },
   {
    "duration": 763,
    "start_time": "2023-07-19T15:33:53.766Z"
   },
   {
    "duration": 26,
    "start_time": "2023-07-19T15:33:54.532Z"
   },
   {
    "duration": 50,
    "start_time": "2023-07-19T15:33:54.561Z"
   },
   {
    "duration": 53,
    "start_time": "2023-07-19T15:33:54.613Z"
   },
   {
    "duration": 65,
    "start_time": "2023-07-19T15:33:54.670Z"
   },
   {
    "duration": 31,
    "start_time": "2023-07-19T15:33:54.738Z"
   },
   {
    "duration": 47,
    "start_time": "2023-07-19T15:33:54.771Z"
   },
   {
    "duration": 26,
    "start_time": "2023-07-19T15:33:54.820Z"
   },
   {
    "duration": 32,
    "start_time": "2023-07-19T15:33:54.848Z"
   },
   {
    "duration": 23,
    "start_time": "2023-07-19T15:33:54.881Z"
   },
   {
    "duration": 279,
    "start_time": "2023-07-19T15:33:54.906Z"
   },
   {
    "duration": 232,
    "start_time": "2023-07-19T15:33:55.187Z"
   },
   {
    "duration": 29,
    "start_time": "2023-07-19T15:33:55.421Z"
   },
   {
    "duration": 21,
    "start_time": "2023-07-19T15:33:55.451Z"
   },
   {
    "duration": 54,
    "start_time": "2023-07-19T15:33:55.474Z"
   },
   {
    "duration": 81,
    "start_time": "2023-07-19T15:33:55.531Z"
   },
   {
    "duration": 40,
    "start_time": "2023-07-19T15:33:55.613Z"
   },
   {
    "duration": 9,
    "start_time": "2023-07-19T15:33:55.655Z"
   },
   {
    "duration": 45,
    "start_time": "2023-07-19T15:33:55.665Z"
   },
   {
    "duration": 170,
    "start_time": "2023-07-19T15:33:55.712Z"
   },
   {
    "duration": 183,
    "start_time": "2023-07-19T15:33:55.883Z"
   },
   {
    "duration": 940,
    "start_time": "2023-07-19T15:33:56.068Z"
   },
   {
    "duration": 97,
    "start_time": "2023-07-19T15:33:57.010Z"
   },
   {
    "duration": 1169,
    "start_time": "2023-07-19T15:33:57.110Z"
   },
   {
    "duration": 11,
    "start_time": "2023-07-19T15:33:58.281Z"
   },
   {
    "duration": 40,
    "start_time": "2023-07-19T15:33:58.293Z"
   },
   {
    "duration": 54,
    "start_time": "2023-07-19T15:33:58.336Z"
   },
   {
    "duration": 3101,
    "start_time": "2023-07-19T15:33:58.392Z"
   },
   {
    "duration": 4,
    "start_time": "2023-07-19T15:34:01.495Z"
   },
   {
    "duration": 96,
    "start_time": "2023-07-19T15:34:01.501Z"
   },
   {
    "duration": 19025,
    "start_time": "2023-07-19T15:34:01.599Z"
   },
   {
    "duration": 8,
    "start_time": "2023-07-19T15:34:20.626Z"
   },
   {
    "duration": 9938,
    "start_time": "2023-07-19T15:34:22.151Z"
   },
   {
    "duration": 10,
    "start_time": "2023-07-19T15:34:49.808Z"
   },
   {
    "duration": 4617,
    "start_time": "2023-07-19T15:36:32.620Z"
   }
  ],
  "kernelspec": {
   "display_name": "Python 3 (ipykernel)",
   "language": "python",
   "name": "python3"
  },
  "language_info": {
   "codemirror_mode": {
    "name": "ipython",
    "version": 3
   },
   "file_extension": ".py",
   "mimetype": "text/x-python",
   "name": "python",
   "nbconvert_exporter": "python",
   "pygments_lexer": "ipython3",
   "version": "3.9.5"
  },
  "toc": {
   "base_numbering": 1,
   "nav_menu": {},
   "number_sections": true,
   "sideBar": true,
   "skip_h1_title": true,
   "title_cell": "Содержание",
   "title_sidebar": "Contents",
   "toc_cell": true,
   "toc_position": {
    "height": "392.593px",
    "left": "33.051px",
    "top": "110.255px",
    "width": "295px"
   },
   "toc_section_display": true,
   "toc_window_display": true
  }
 },
 "nbformat": 4,
 "nbformat_minor": 2
}
