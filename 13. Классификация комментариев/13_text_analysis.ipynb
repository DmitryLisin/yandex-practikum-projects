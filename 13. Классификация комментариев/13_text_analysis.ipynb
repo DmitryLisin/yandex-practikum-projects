{
 "cells": [
  {
   "cell_type": "markdown",
   "metadata": {
    "toc": true
   },
   "source": [
    "<h1>Содержание<span class=\"tocSkip\"></span></h1>\n",
    "<div class=\"toc\"><ul class=\"toc-item\"><li><span><a href=\"#Подготовка\" data-toc-modified-id=\"Подготовка-1\"><span class=\"toc-item-num\">1&nbsp;&nbsp;</span>Подготовка</a></span><ul class=\"toc-item\"><li><span><a href=\"#Обзор-данных\" data-toc-modified-id=\"Обзор-данных-1.1\"><span class=\"toc-item-num\">1.1&nbsp;&nbsp;</span>Обзор данных</a></span></li><li><span><a href=\"#Очистка-и-лемматизация-данных\" data-toc-modified-id=\"Очистка-и-лемматизация-данных-1.2\"><span class=\"toc-item-num\">1.2&nbsp;&nbsp;</span>Очистка и лемматизация данных</a></span></li><li><span><a href=\"#Разделение-данных\" data-toc-modified-id=\"Разделение-данных-1.3\"><span class=\"toc-item-num\">1.3&nbsp;&nbsp;</span>Разделение данных</a></span></li></ul></li><li><span><a href=\"#Обучение\" data-toc-modified-id=\"Обучение-2\"><span class=\"toc-item-num\">2&nbsp;&nbsp;</span>Обучение</a></span><ul class=\"toc-item\"><li><span><a href=\"#Логистическая-регрессия\" data-toc-modified-id=\"Логистическая-регрессия-2.1\"><span class=\"toc-item-num\">2.1&nbsp;&nbsp;</span>Логистическая регрессия</a></span></li><li><span><a href=\"#Случайный-лес\" data-toc-modified-id=\"Случайный-лес-2.2\"><span class=\"toc-item-num\">2.2&nbsp;&nbsp;</span>Случайный лес</a></span></li><li><span><a href=\"#Градиентный-бустинг\" data-toc-modified-id=\"Градиентный-бустинг-2.3\"><span class=\"toc-item-num\">2.3&nbsp;&nbsp;</span>Градиентный бустинг</a></span></li><li><span><a href=\"#Тестирование\" data-toc-modified-id=\"Тестирование-2.4\"><span class=\"toc-item-num\">2.4&nbsp;&nbsp;</span>Тестирование</a></span></li><li><span><a href=\"#Проверка-на-адекватность\" data-toc-modified-id=\"Проверка-на-адекватность-2.5\"><span class=\"toc-item-num\">2.5&nbsp;&nbsp;</span>Проверка на адекватность</a></span></li></ul></li><li><span><a href=\"#Выводы\" data-toc-modified-id=\"Выводы-3\"><span class=\"toc-item-num\">3&nbsp;&nbsp;</span>Выводы</a></span></li></ul></div>"
   ]
  },
  {
   "cell_type": "markdown",
   "metadata": {
    "id": "j_q52Cqye0kg"
   },
   "source": [
    "# Проект для «Викишоп»"
   ]
  },
  {
   "cell_type": "markdown",
   "metadata": {
    "id": "h_b9BNg3e0kg"
   },
   "source": [
    "Интернет-магазин «Викишоп» запускает новый сервис. Теперь пользователи могут редактировать и дополнять описания товаров, как в вики-сообществах. То есть клиенты предлагают свои правки и комментируют изменения других. Магазину нужен инструмент, который будет искать токсичные комментарии и отправлять их на модерацию.\n",
    "\n",
    "Обучите модель классифицировать комментарии на позитивные и негативные. В вашем распоряжении набор данных с разметкой о токсичности правок.\n",
    "\n",
    "Цель исследования: Построить модель со значением метрики качества *F1* не меньше 0.75.\n",
    "\n",
    "Ход исследования:\n",
    "1. Загрузка данных\n",
    "2. Обзор данных\n",
    "3. Очитска данных\n",
    "4. Лемматизация данных\n",
    "5. Векторизация данных\n",
    "6. Разбивка данных\n",
    "7. Обучение моделей\n",
    "8. Тестирование\n",
    "9. Проверка на адекватность\n",
    "10. Общий вывод"
   ]
  },
  {
   "cell_type": "markdown",
   "metadata": {
    "id": "JvtboQnDe0kg"
   },
   "source": [
    "## Подготовка"
   ]
  },
  {
   "cell_type": "markdown",
   "metadata": {
    "id": "UNWPajyhe0kh"
   },
   "source": [
    "### Обзор данных"
   ]
  },
  {
   "cell_type": "code",
   "execution_count": 1,
   "metadata": {
    "colab": {
     "base_uri": "https://localhost:8080/"
    },
    "id": "9v-KxTFXe0kh",
    "outputId": "1116ce66-95fa-4c0a-ff93-c7a85dbe5a5f"
   },
   "outputs": [
    {
     "name": "stdout",
     "output_type": "stream",
     "text": [
      "Collecting catboost\n",
      "  Downloading catboost-1.2.1-cp310-cp310-manylinux2014_x86_64.whl (98.7 MB)\n",
      "\u001b[2K     \u001b[90m━━━━━━━━━━━━━━━━━━━━━━━━━━━━━━━━━━━━━━━━\u001b[0m \u001b[32m98.7/98.7 MB\u001b[0m \u001b[31m7.5 MB/s\u001b[0m eta \u001b[36m0:00:00\u001b[0m\n",
      "\u001b[?25hRequirement already satisfied: graphviz in /usr/local/lib/python3.10/dist-packages (from catboost) (0.20.1)\n",
      "Requirement already satisfied: matplotlib in /usr/local/lib/python3.10/dist-packages (from catboost) (3.7.1)\n",
      "Requirement already satisfied: numpy>=1.16.0 in /usr/local/lib/python3.10/dist-packages (from catboost) (1.23.5)\n",
      "Requirement already satisfied: pandas>=0.24 in /usr/local/lib/python3.10/dist-packages (from catboost) (1.5.3)\n",
      "Requirement already satisfied: scipy in /usr/local/lib/python3.10/dist-packages (from catboost) (1.11.2)\n",
      "Requirement already satisfied: plotly in /usr/local/lib/python3.10/dist-packages (from catboost) (5.15.0)\n",
      "Requirement already satisfied: six in /usr/local/lib/python3.10/dist-packages (from catboost) (1.16.0)\n",
      "Requirement already satisfied: python-dateutil>=2.8.1 in /usr/local/lib/python3.10/dist-packages (from pandas>=0.24->catboost) (2.8.2)\n",
      "Requirement already satisfied: pytz>=2020.1 in /usr/local/lib/python3.10/dist-packages (from pandas>=0.24->catboost) (2023.3.post1)\n",
      "Requirement already satisfied: contourpy>=1.0.1 in /usr/local/lib/python3.10/dist-packages (from matplotlib->catboost) (1.1.0)\n",
      "Requirement already satisfied: cycler>=0.10 in /usr/local/lib/python3.10/dist-packages (from matplotlib->catboost) (0.11.0)\n",
      "Requirement already satisfied: fonttools>=4.22.0 in /usr/local/lib/python3.10/dist-packages (from matplotlib->catboost) (4.42.1)\n",
      "Requirement already satisfied: kiwisolver>=1.0.1 in /usr/local/lib/python3.10/dist-packages (from matplotlib->catboost) (1.4.5)\n",
      "Requirement already satisfied: packaging>=20.0 in /usr/local/lib/python3.10/dist-packages (from matplotlib->catboost) (23.1)\n",
      "Requirement already satisfied: pillow>=6.2.0 in /usr/local/lib/python3.10/dist-packages (from matplotlib->catboost) (9.4.0)\n",
      "Requirement already satisfied: pyparsing>=2.3.1 in /usr/local/lib/python3.10/dist-packages (from matplotlib->catboost) (3.1.1)\n",
      "Requirement already satisfied: tenacity>=6.2.0 in /usr/local/lib/python3.10/dist-packages (from plotly->catboost) (8.2.3)\n",
      "Installing collected packages: catboost\n",
      "Successfully installed catboost-1.2.1\n"
     ]
    }
   ],
   "source": [
    "# импорт модулей\n",
    "! pip install catboost\n",
    "import pandas as pd\n",
    "import re\n",
    "import spacy\n",
    "from matplotlib import pyplot as plt\n",
    "from sklearn.feature_extraction.text import TfidfVectorizer\n",
    "from sklearn.linear_model import LogisticRegression\n",
    "from sklearn.ensemble import RandomForestClassifier\n",
    "import nltk\n",
    "from nltk.corpus import stopwords as nltk_stopwords\n",
    "import numpy as np\n",
    "from sklearn.model_selection import (\n",
    "    train_test_split,\n",
    "    RandomizedSearchCV,\n",
    "    GridSearchCV,\n",
    "    cross_validate\n",
    ")\n",
    "from catboost import CatBoostClassifier\n",
    "from sklearn.utils.class_weight import compute_class_weight\n",
    "from sklearn.metrics import f1_score\n",
    "from sklearn.pipeline import Pipeline"
   ]
  },
  {
   "cell_type": "code",
   "execution_count": 2,
   "metadata": {
    "id": "jXTf-tJ-e0ki"
   },
   "outputs": [],
   "source": [
    "# загрузка данных\n",
    "try:\n",
    "    data = pd.read_csv('/datasets/toxic_comments.csv')\n",
    "except:\n",
    "     data = pd.read_csv('https://code.s3.yandex.net//datasets/toxic_comments.csv')"
   ]
  },
  {
   "cell_type": "code",
   "execution_count": 3,
   "metadata": {
    "colab": {
     "base_uri": "https://localhost:8080/",
     "height": 363
    },
    "id": "Q7pQeNSQe0kj",
    "outputId": "dd0244bb-097f-4f7a-e3ef-fe9af14c433d"
   },
   "outputs": [
    {
     "data": {
      "text/html": [
       "\n",
       "  <div id=\"df-19401f8c-8fde-4ad3-90c3-6c3b42b7ad81\" class=\"colab-df-container\">\n",
       "    <div>\n",
       "<style scoped>\n",
       "    .dataframe tbody tr th:only-of-type {\n",
       "        vertical-align: middle;\n",
       "    }\n",
       "\n",
       "    .dataframe tbody tr th {\n",
       "        vertical-align: top;\n",
       "    }\n",
       "\n",
       "    .dataframe thead th {\n",
       "        text-align: right;\n",
       "    }\n",
       "</style>\n",
       "<table border=\"1\" class=\"dataframe\">\n",
       "  <thead>\n",
       "    <tr style=\"text-align: right;\">\n",
       "      <th></th>\n",
       "      <th>Unnamed: 0</th>\n",
       "      <th>text</th>\n",
       "      <th>toxic</th>\n",
       "    </tr>\n",
       "  </thead>\n",
       "  <tbody>\n",
       "    <tr>\n",
       "      <th>0</th>\n",
       "      <td>0</td>\n",
       "      <td>Explanation\\nWhy the edits made under my usern...</td>\n",
       "      <td>0</td>\n",
       "    </tr>\n",
       "    <tr>\n",
       "      <th>1</th>\n",
       "      <td>1</td>\n",
       "      <td>D'aww! He matches this background colour I'm s...</td>\n",
       "      <td>0</td>\n",
       "    </tr>\n",
       "    <tr>\n",
       "      <th>2</th>\n",
       "      <td>2</td>\n",
       "      <td>Hey man, I'm really not trying to edit war. It...</td>\n",
       "      <td>0</td>\n",
       "    </tr>\n",
       "    <tr>\n",
       "      <th>3</th>\n",
       "      <td>3</td>\n",
       "      <td>\"\\nMore\\nI can't make any real suggestions on ...</td>\n",
       "      <td>0</td>\n",
       "    </tr>\n",
       "    <tr>\n",
       "      <th>4</th>\n",
       "      <td>4</td>\n",
       "      <td>You, sir, are my hero. Any chance you remember...</td>\n",
       "      <td>0</td>\n",
       "    </tr>\n",
       "    <tr>\n",
       "      <th>5</th>\n",
       "      <td>5</td>\n",
       "      <td>\"\\n\\nCongratulations from me as well, use the ...</td>\n",
       "      <td>0</td>\n",
       "    </tr>\n",
       "    <tr>\n",
       "      <th>6</th>\n",
       "      <td>6</td>\n",
       "      <td>COCKSUCKER BEFORE YOU PISS AROUND ON MY WORK</td>\n",
       "      <td>1</td>\n",
       "    </tr>\n",
       "    <tr>\n",
       "      <th>7</th>\n",
       "      <td>7</td>\n",
       "      <td>Your vandalism to the Matt Shirvington article...</td>\n",
       "      <td>0</td>\n",
       "    </tr>\n",
       "    <tr>\n",
       "      <th>8</th>\n",
       "      <td>8</td>\n",
       "      <td>Sorry if the word 'nonsense' was offensive to ...</td>\n",
       "      <td>0</td>\n",
       "    </tr>\n",
       "    <tr>\n",
       "      <th>9</th>\n",
       "      <td>9</td>\n",
       "      <td>alignment on this subject and which are contra...</td>\n",
       "      <td>0</td>\n",
       "    </tr>\n",
       "  </tbody>\n",
       "</table>\n",
       "</div>\n",
       "    <div class=\"colab-df-buttons\">\n",
       "\n",
       "  <div class=\"colab-df-container\">\n",
       "    <button class=\"colab-df-convert\" onclick=\"convertToInteractive('df-19401f8c-8fde-4ad3-90c3-6c3b42b7ad81')\"\n",
       "            title=\"Convert this dataframe to an interactive table.\"\n",
       "            style=\"display:none;\">\n",
       "\n",
       "  <svg xmlns=\"http://www.w3.org/2000/svg\" height=\"24px\" viewBox=\"0 -960 960 960\">\n",
       "    <path d=\"M120-120v-720h720v720H120Zm60-500h600v-160H180v160Zm220 220h160v-160H400v160Zm0 220h160v-160H400v160ZM180-400h160v-160H180v160Zm440 0h160v-160H620v160ZM180-180h160v-160H180v160Zm440 0h160v-160H620v160Z\"/>\n",
       "  </svg>\n",
       "    </button>\n",
       "\n",
       "  <style>\n",
       "    .colab-df-container {\n",
       "      display:flex;\n",
       "      gap: 12px;\n",
       "    }\n",
       "\n",
       "    .colab-df-convert {\n",
       "      background-color: #E8F0FE;\n",
       "      border: none;\n",
       "      border-radius: 50%;\n",
       "      cursor: pointer;\n",
       "      display: none;\n",
       "      fill: #1967D2;\n",
       "      height: 32px;\n",
       "      padding: 0 0 0 0;\n",
       "      width: 32px;\n",
       "    }\n",
       "\n",
       "    .colab-df-convert:hover {\n",
       "      background-color: #E2EBFA;\n",
       "      box-shadow: 0px 1px 2px rgba(60, 64, 67, 0.3), 0px 1px 3px 1px rgba(60, 64, 67, 0.15);\n",
       "      fill: #174EA6;\n",
       "    }\n",
       "\n",
       "    .colab-df-buttons div {\n",
       "      margin-bottom: 4px;\n",
       "    }\n",
       "\n",
       "    [theme=dark] .colab-df-convert {\n",
       "      background-color: #3B4455;\n",
       "      fill: #D2E3FC;\n",
       "    }\n",
       "\n",
       "    [theme=dark] .colab-df-convert:hover {\n",
       "      background-color: #434B5C;\n",
       "      box-shadow: 0px 1px 3px 1px rgba(0, 0, 0, 0.15);\n",
       "      filter: drop-shadow(0px 1px 2px rgba(0, 0, 0, 0.3));\n",
       "      fill: #FFFFFF;\n",
       "    }\n",
       "  </style>\n",
       "\n",
       "    <script>\n",
       "      const buttonEl =\n",
       "        document.querySelector('#df-19401f8c-8fde-4ad3-90c3-6c3b42b7ad81 button.colab-df-convert');\n",
       "      buttonEl.style.display =\n",
       "        google.colab.kernel.accessAllowed ? 'block' : 'none';\n",
       "\n",
       "      async function convertToInteractive(key) {\n",
       "        const element = document.querySelector('#df-19401f8c-8fde-4ad3-90c3-6c3b42b7ad81');\n",
       "        const dataTable =\n",
       "          await google.colab.kernel.invokeFunction('convertToInteractive',\n",
       "                                                    [key], {});\n",
       "        if (!dataTable) return;\n",
       "\n",
       "        const docLinkHtml = 'Like what you see? Visit the ' +\n",
       "          '<a target=\"_blank\" href=https://colab.research.google.com/notebooks/data_table.ipynb>data table notebook</a>'\n",
       "          + ' to learn more about interactive tables.';\n",
       "        element.innerHTML = '';\n",
       "        dataTable['output_type'] = 'display_data';\n",
       "        await google.colab.output.renderOutput(dataTable, element);\n",
       "        const docLink = document.createElement('div');\n",
       "        docLink.innerHTML = docLinkHtml;\n",
       "        element.appendChild(docLink);\n",
       "      }\n",
       "    </script>\n",
       "  </div>\n",
       "\n",
       "\n",
       "<div id=\"df-0cf312d7-505c-46b5-97f3-1436a81562f5\">\n",
       "  <button class=\"colab-df-quickchart\" onclick=\"quickchart('df-0cf312d7-505c-46b5-97f3-1436a81562f5')\"\n",
       "            title=\"Suggest charts.\"\n",
       "            style=\"display:none;\">\n",
       "\n",
       "<svg xmlns=\"http://www.w3.org/2000/svg\" height=\"24px\"viewBox=\"0 0 24 24\"\n",
       "     width=\"24px\">\n",
       "    <g>\n",
       "        <path d=\"M19 3H5c-1.1 0-2 .9-2 2v14c0 1.1.9 2 2 2h14c1.1 0 2-.9 2-2V5c0-1.1-.9-2-2-2zM9 17H7v-7h2v7zm4 0h-2V7h2v10zm4 0h-2v-4h2v4z\"/>\n",
       "    </g>\n",
       "</svg>\n",
       "  </button>\n",
       "\n",
       "<style>\n",
       "  .colab-df-quickchart {\n",
       "      --bg-color: #E8F0FE;\n",
       "      --fill-color: #1967D2;\n",
       "      --hover-bg-color: #E2EBFA;\n",
       "      --hover-fill-color: #174EA6;\n",
       "      --disabled-fill-color: #AAA;\n",
       "      --disabled-bg-color: #DDD;\n",
       "  }\n",
       "\n",
       "  [theme=dark] .colab-df-quickchart {\n",
       "      --bg-color: #3B4455;\n",
       "      --fill-color: #D2E3FC;\n",
       "      --hover-bg-color: #434B5C;\n",
       "      --hover-fill-color: #FFFFFF;\n",
       "      --disabled-bg-color: #3B4455;\n",
       "      --disabled-fill-color: #666;\n",
       "  }\n",
       "\n",
       "  .colab-df-quickchart {\n",
       "    background-color: var(--bg-color);\n",
       "    border: none;\n",
       "    border-radius: 50%;\n",
       "    cursor: pointer;\n",
       "    display: none;\n",
       "    fill: var(--fill-color);\n",
       "    height: 32px;\n",
       "    padding: 0;\n",
       "    width: 32px;\n",
       "  }\n",
       "\n",
       "  .colab-df-quickchart:hover {\n",
       "    background-color: var(--hover-bg-color);\n",
       "    box-shadow: 0 1px 2px rgba(60, 64, 67, 0.3), 0 1px 3px 1px rgba(60, 64, 67, 0.15);\n",
       "    fill: var(--button-hover-fill-color);\n",
       "  }\n",
       "\n",
       "  .colab-df-quickchart-complete:disabled,\n",
       "  .colab-df-quickchart-complete:disabled:hover {\n",
       "    background-color: var(--disabled-bg-color);\n",
       "    fill: var(--disabled-fill-color);\n",
       "    box-shadow: none;\n",
       "  }\n",
       "\n",
       "  .colab-df-spinner {\n",
       "    border: 2px solid var(--fill-color);\n",
       "    border-color: transparent;\n",
       "    border-bottom-color: var(--fill-color);\n",
       "    animation:\n",
       "      spin 1s steps(1) infinite;\n",
       "  }\n",
       "\n",
       "  @keyframes spin {\n",
       "    0% {\n",
       "      border-color: transparent;\n",
       "      border-bottom-color: var(--fill-color);\n",
       "      border-left-color: var(--fill-color);\n",
       "    }\n",
       "    20% {\n",
       "      border-color: transparent;\n",
       "      border-left-color: var(--fill-color);\n",
       "      border-top-color: var(--fill-color);\n",
       "    }\n",
       "    30% {\n",
       "      border-color: transparent;\n",
       "      border-left-color: var(--fill-color);\n",
       "      border-top-color: var(--fill-color);\n",
       "      border-right-color: var(--fill-color);\n",
       "    }\n",
       "    40% {\n",
       "      border-color: transparent;\n",
       "      border-right-color: var(--fill-color);\n",
       "      border-top-color: var(--fill-color);\n",
       "    }\n",
       "    60% {\n",
       "      border-color: transparent;\n",
       "      border-right-color: var(--fill-color);\n",
       "    }\n",
       "    80% {\n",
       "      border-color: transparent;\n",
       "      border-right-color: var(--fill-color);\n",
       "      border-bottom-color: var(--fill-color);\n",
       "    }\n",
       "    90% {\n",
       "      border-color: transparent;\n",
       "      border-bottom-color: var(--fill-color);\n",
       "    }\n",
       "  }\n",
       "</style>\n",
       "\n",
       "  <script>\n",
       "    async function quickchart(key) {\n",
       "      const quickchartButtonEl =\n",
       "        document.querySelector('#' + key + ' button');\n",
       "      quickchartButtonEl.disabled = true;  // To prevent multiple clicks.\n",
       "      quickchartButtonEl.classList.add('colab-df-spinner');\n",
       "      try {\n",
       "        const charts = await google.colab.kernel.invokeFunction(\n",
       "            'suggestCharts', [key], {});\n",
       "      } catch (error) {\n",
       "        console.error('Error during call to suggestCharts:', error);\n",
       "      }\n",
       "      quickchartButtonEl.classList.remove('colab-df-spinner');\n",
       "      quickchartButtonEl.classList.add('colab-df-quickchart-complete');\n",
       "    }\n",
       "    (() => {\n",
       "      let quickchartButtonEl =\n",
       "        document.querySelector('#df-0cf312d7-505c-46b5-97f3-1436a81562f5 button');\n",
       "      quickchartButtonEl.style.display =\n",
       "        google.colab.kernel.accessAllowed ? 'block' : 'none';\n",
       "    })();\n",
       "  </script>\n",
       "</div>\n",
       "    </div>\n",
       "  </div>\n"
      ],
      "text/plain": [
       "   Unnamed: 0                                               text  toxic\n",
       "0           0  Explanation\\nWhy the edits made under my usern...      0\n",
       "1           1  D'aww! He matches this background colour I'm s...      0\n",
       "2           2  Hey man, I'm really not trying to edit war. It...      0\n",
       "3           3  \"\\nMore\\nI can't make any real suggestions on ...      0\n",
       "4           4  You, sir, are my hero. Any chance you remember...      0\n",
       "5           5  \"\\n\\nCongratulations from me as well, use the ...      0\n",
       "6           6       COCKSUCKER BEFORE YOU PISS AROUND ON MY WORK      1\n",
       "7           7  Your vandalism to the Matt Shirvington article...      0\n",
       "8           8  Sorry if the word 'nonsense' was offensive to ...      0\n",
       "9           9  alignment on this subject and which are contra...      0"
      ]
     },
     "execution_count": 3,
     "metadata": {},
     "output_type": "execute_result"
    }
   ],
   "source": [
    "# первые строки\n",
    "data.head(10)"
   ]
  },
  {
   "cell_type": "code",
   "execution_count": 4,
   "metadata": {
    "colab": {
     "base_uri": "https://localhost:8080/"
    },
    "id": "ieR_aVERe0kj",
    "outputId": "655f92c3-b7f1-4118-f913-79184a5ecb1c"
   },
   "outputs": [
    {
     "name": "stdout",
     "output_type": "stream",
     "text": [
      "<class 'pandas.core.frame.DataFrame'>\n",
      "RangeIndex: 159292 entries, 0 to 159291\n",
      "Data columns (total 3 columns):\n",
      " #   Column      Non-Null Count   Dtype \n",
      "---  ------      --------------   ----- \n",
      " 0   Unnamed: 0  159292 non-null  int64 \n",
      " 1   text        159292 non-null  object\n",
      " 2   toxic       159292 non-null  int64 \n",
      "dtypes: int64(2), object(1)\n",
      "memory usage: 3.6+ MB\n"
     ]
    }
   ],
   "source": [
    "# информация о столбцах\n",
    "data.info()"
   ]
  },
  {
   "cell_type": "markdown",
   "metadata": {
    "id": "Ex1cB2R-e0kk"
   },
   "source": [
    "### Очистка и лемматизация данных"
   ]
  },
  {
   "cell_type": "code",
   "execution_count": 5,
   "metadata": {
    "id": "__FCccSWe0kk"
   },
   "outputs": [],
   "source": [
    "data['text'] = data['text'].astype('U')"
   ]
  },
  {
   "cell_type": "code",
   "execution_count": 6,
   "metadata": {
    "colab": {
     "base_uri": "https://localhost:8080/",
     "height": 536
    },
    "id": "Nq1mCGI_e0kk",
    "outputId": "6469dc94-aeeb-499f-c927-44ded1ecaffb"
   },
   "outputs": [
    {
     "data": {
      "text/html": [
       "\n",
       "  <div id=\"df-1e2fc37c-0b65-466c-be20-a649a241c710\" class=\"colab-df-container\">\n",
       "    <div>\n",
       "<style scoped>\n",
       "    .dataframe tbody tr th:only-of-type {\n",
       "        vertical-align: middle;\n",
       "    }\n",
       "\n",
       "    .dataframe tbody tr th {\n",
       "        vertical-align: top;\n",
       "    }\n",
       "\n",
       "    .dataframe thead th {\n",
       "        text-align: right;\n",
       "    }\n",
       "</style>\n",
       "<table border=\"1\" class=\"dataframe\">\n",
       "  <thead>\n",
       "    <tr style=\"text-align: right;\">\n",
       "      <th></th>\n",
       "      <th>Unnamed: 0</th>\n",
       "      <th>text</th>\n",
       "      <th>toxic</th>\n",
       "      <th>lemm</th>\n",
       "    </tr>\n",
       "  </thead>\n",
       "  <tbody>\n",
       "    <tr>\n",
       "      <th>0</th>\n",
       "      <td>0</td>\n",
       "      <td>Explanation\\nWhy the edits made under my usern...</td>\n",
       "      <td>0</td>\n",
       "      <td>explanation why the edits made under my userna...</td>\n",
       "    </tr>\n",
       "    <tr>\n",
       "      <th>1</th>\n",
       "      <td>1</td>\n",
       "      <td>D'aww! He matches this background colour I'm s...</td>\n",
       "      <td>0</td>\n",
       "      <td>d aww he matches this background colour i m se...</td>\n",
       "    </tr>\n",
       "    <tr>\n",
       "      <th>2</th>\n",
       "      <td>2</td>\n",
       "      <td>Hey man, I'm really not trying to edit war. It...</td>\n",
       "      <td>0</td>\n",
       "      <td>hey man i m really not trying to edit war it s...</td>\n",
       "    </tr>\n",
       "    <tr>\n",
       "      <th>3</th>\n",
       "      <td>3</td>\n",
       "      <td>\"\\nMore\\nI can't make any real suggestions on ...</td>\n",
       "      <td>0</td>\n",
       "      <td>more i can t make any real suggestions on impr...</td>\n",
       "    </tr>\n",
       "    <tr>\n",
       "      <th>4</th>\n",
       "      <td>4</td>\n",
       "      <td>You, sir, are my hero. Any chance you remember...</td>\n",
       "      <td>0</td>\n",
       "      <td>you sir are my hero any chance you remember wh...</td>\n",
       "    </tr>\n",
       "    <tr>\n",
       "      <th>5</th>\n",
       "      <td>5</td>\n",
       "      <td>\"\\n\\nCongratulations from me as well, use the ...</td>\n",
       "      <td>0</td>\n",
       "      <td>congratulations from me as well use the tools ...</td>\n",
       "    </tr>\n",
       "    <tr>\n",
       "      <th>6</th>\n",
       "      <td>6</td>\n",
       "      <td>COCKSUCKER BEFORE YOU PISS AROUND ON MY WORK</td>\n",
       "      <td>1</td>\n",
       "      <td>cocksucker before you piss around on my work</td>\n",
       "    </tr>\n",
       "    <tr>\n",
       "      <th>7</th>\n",
       "      <td>7</td>\n",
       "      <td>Your vandalism to the Matt Shirvington article...</td>\n",
       "      <td>0</td>\n",
       "      <td>your vandalism to the matt shirvington article...</td>\n",
       "    </tr>\n",
       "    <tr>\n",
       "      <th>8</th>\n",
       "      <td>8</td>\n",
       "      <td>Sorry if the word 'nonsense' was offensive to ...</td>\n",
       "      <td>0</td>\n",
       "      <td>sorry if the word nonsense was offensive to yo...</td>\n",
       "    </tr>\n",
       "    <tr>\n",
       "      <th>9</th>\n",
       "      <td>9</td>\n",
       "      <td>alignment on this subject and which are contra...</td>\n",
       "      <td>0</td>\n",
       "      <td>alignment on this subject and which are contra...</td>\n",
       "    </tr>\n",
       "  </tbody>\n",
       "</table>\n",
       "</div>\n",
       "    <div class=\"colab-df-buttons\">\n",
       "\n",
       "  <div class=\"colab-df-container\">\n",
       "    <button class=\"colab-df-convert\" onclick=\"convertToInteractive('df-1e2fc37c-0b65-466c-be20-a649a241c710')\"\n",
       "            title=\"Convert this dataframe to an interactive table.\"\n",
       "            style=\"display:none;\">\n",
       "\n",
       "  <svg xmlns=\"http://www.w3.org/2000/svg\" height=\"24px\" viewBox=\"0 -960 960 960\">\n",
       "    <path d=\"M120-120v-720h720v720H120Zm60-500h600v-160H180v160Zm220 220h160v-160H400v160Zm0 220h160v-160H400v160ZM180-400h160v-160H180v160Zm440 0h160v-160H620v160ZM180-180h160v-160H180v160Zm440 0h160v-160H620v160Z\"/>\n",
       "  </svg>\n",
       "    </button>\n",
       "\n",
       "  <style>\n",
       "    .colab-df-container {\n",
       "      display:flex;\n",
       "      gap: 12px;\n",
       "    }\n",
       "\n",
       "    .colab-df-convert {\n",
       "      background-color: #E8F0FE;\n",
       "      border: none;\n",
       "      border-radius: 50%;\n",
       "      cursor: pointer;\n",
       "      display: none;\n",
       "      fill: #1967D2;\n",
       "      height: 32px;\n",
       "      padding: 0 0 0 0;\n",
       "      width: 32px;\n",
       "    }\n",
       "\n",
       "    .colab-df-convert:hover {\n",
       "      background-color: #E2EBFA;\n",
       "      box-shadow: 0px 1px 2px rgba(60, 64, 67, 0.3), 0px 1px 3px 1px rgba(60, 64, 67, 0.15);\n",
       "      fill: #174EA6;\n",
       "    }\n",
       "\n",
       "    .colab-df-buttons div {\n",
       "      margin-bottom: 4px;\n",
       "    }\n",
       "\n",
       "    [theme=dark] .colab-df-convert {\n",
       "      background-color: #3B4455;\n",
       "      fill: #D2E3FC;\n",
       "    }\n",
       "\n",
       "    [theme=dark] .colab-df-convert:hover {\n",
       "      background-color: #434B5C;\n",
       "      box-shadow: 0px 1px 3px 1px rgba(0, 0, 0, 0.15);\n",
       "      filter: drop-shadow(0px 1px 2px rgba(0, 0, 0, 0.3));\n",
       "      fill: #FFFFFF;\n",
       "    }\n",
       "  </style>\n",
       "\n",
       "    <script>\n",
       "      const buttonEl =\n",
       "        document.querySelector('#df-1e2fc37c-0b65-466c-be20-a649a241c710 button.colab-df-convert');\n",
       "      buttonEl.style.display =\n",
       "        google.colab.kernel.accessAllowed ? 'block' : 'none';\n",
       "\n",
       "      async function convertToInteractive(key) {\n",
       "        const element = document.querySelector('#df-1e2fc37c-0b65-466c-be20-a649a241c710');\n",
       "        const dataTable =\n",
       "          await google.colab.kernel.invokeFunction('convertToInteractive',\n",
       "                                                    [key], {});\n",
       "        if (!dataTable) return;\n",
       "\n",
       "        const docLinkHtml = 'Like what you see? Visit the ' +\n",
       "          '<a target=\"_blank\" href=https://colab.research.google.com/notebooks/data_table.ipynb>data table notebook</a>'\n",
       "          + ' to learn more about interactive tables.';\n",
       "        element.innerHTML = '';\n",
       "        dataTable['output_type'] = 'display_data';\n",
       "        await google.colab.output.renderOutput(dataTable, element);\n",
       "        const docLink = document.createElement('div');\n",
       "        docLink.innerHTML = docLinkHtml;\n",
       "        element.appendChild(docLink);\n",
       "      }\n",
       "    </script>\n",
       "  </div>\n",
       "\n",
       "\n",
       "<div id=\"df-9f5bfc53-1782-49d2-82e5-ff9a1ef6dd6f\">\n",
       "  <button class=\"colab-df-quickchart\" onclick=\"quickchart('df-9f5bfc53-1782-49d2-82e5-ff9a1ef6dd6f')\"\n",
       "            title=\"Suggest charts.\"\n",
       "            style=\"display:none;\">\n",
       "\n",
       "<svg xmlns=\"http://www.w3.org/2000/svg\" height=\"24px\"viewBox=\"0 0 24 24\"\n",
       "     width=\"24px\">\n",
       "    <g>\n",
       "        <path d=\"M19 3H5c-1.1 0-2 .9-2 2v14c0 1.1.9 2 2 2h14c1.1 0 2-.9 2-2V5c0-1.1-.9-2-2-2zM9 17H7v-7h2v7zm4 0h-2V7h2v10zm4 0h-2v-4h2v4z\"/>\n",
       "    </g>\n",
       "</svg>\n",
       "  </button>\n",
       "\n",
       "<style>\n",
       "  .colab-df-quickchart {\n",
       "      --bg-color: #E8F0FE;\n",
       "      --fill-color: #1967D2;\n",
       "      --hover-bg-color: #E2EBFA;\n",
       "      --hover-fill-color: #174EA6;\n",
       "      --disabled-fill-color: #AAA;\n",
       "      --disabled-bg-color: #DDD;\n",
       "  }\n",
       "\n",
       "  [theme=dark] .colab-df-quickchart {\n",
       "      --bg-color: #3B4455;\n",
       "      --fill-color: #D2E3FC;\n",
       "      --hover-bg-color: #434B5C;\n",
       "      --hover-fill-color: #FFFFFF;\n",
       "      --disabled-bg-color: #3B4455;\n",
       "      --disabled-fill-color: #666;\n",
       "  }\n",
       "\n",
       "  .colab-df-quickchart {\n",
       "    background-color: var(--bg-color);\n",
       "    border: none;\n",
       "    border-radius: 50%;\n",
       "    cursor: pointer;\n",
       "    display: none;\n",
       "    fill: var(--fill-color);\n",
       "    height: 32px;\n",
       "    padding: 0;\n",
       "    width: 32px;\n",
       "  }\n",
       "\n",
       "  .colab-df-quickchart:hover {\n",
       "    background-color: var(--hover-bg-color);\n",
       "    box-shadow: 0 1px 2px rgba(60, 64, 67, 0.3), 0 1px 3px 1px rgba(60, 64, 67, 0.15);\n",
       "    fill: var(--button-hover-fill-color);\n",
       "  }\n",
       "\n",
       "  .colab-df-quickchart-complete:disabled,\n",
       "  .colab-df-quickchart-complete:disabled:hover {\n",
       "    background-color: var(--disabled-bg-color);\n",
       "    fill: var(--disabled-fill-color);\n",
       "    box-shadow: none;\n",
       "  }\n",
       "\n",
       "  .colab-df-spinner {\n",
       "    border: 2px solid var(--fill-color);\n",
       "    border-color: transparent;\n",
       "    border-bottom-color: var(--fill-color);\n",
       "    animation:\n",
       "      spin 1s steps(1) infinite;\n",
       "  }\n",
       "\n",
       "  @keyframes spin {\n",
       "    0% {\n",
       "      border-color: transparent;\n",
       "      border-bottom-color: var(--fill-color);\n",
       "      border-left-color: var(--fill-color);\n",
       "    }\n",
       "    20% {\n",
       "      border-color: transparent;\n",
       "      border-left-color: var(--fill-color);\n",
       "      border-top-color: var(--fill-color);\n",
       "    }\n",
       "    30% {\n",
       "      border-color: transparent;\n",
       "      border-left-color: var(--fill-color);\n",
       "      border-top-color: var(--fill-color);\n",
       "      border-right-color: var(--fill-color);\n",
       "    }\n",
       "    40% {\n",
       "      border-color: transparent;\n",
       "      border-right-color: var(--fill-color);\n",
       "      border-top-color: var(--fill-color);\n",
       "    }\n",
       "    60% {\n",
       "      border-color: transparent;\n",
       "      border-right-color: var(--fill-color);\n",
       "    }\n",
       "    80% {\n",
       "      border-color: transparent;\n",
       "      border-right-color: var(--fill-color);\n",
       "      border-bottom-color: var(--fill-color);\n",
       "    }\n",
       "    90% {\n",
       "      border-color: transparent;\n",
       "      border-bottom-color: var(--fill-color);\n",
       "    }\n",
       "  }\n",
       "</style>\n",
       "\n",
       "  <script>\n",
       "    async function quickchart(key) {\n",
       "      const quickchartButtonEl =\n",
       "        document.querySelector('#' + key + ' button');\n",
       "      quickchartButtonEl.disabled = true;  // To prevent multiple clicks.\n",
       "      quickchartButtonEl.classList.add('colab-df-spinner');\n",
       "      try {\n",
       "        const charts = await google.colab.kernel.invokeFunction(\n",
       "            'suggestCharts', [key], {});\n",
       "      } catch (error) {\n",
       "        console.error('Error during call to suggestCharts:', error);\n",
       "      }\n",
       "      quickchartButtonEl.classList.remove('colab-df-spinner');\n",
       "      quickchartButtonEl.classList.add('colab-df-quickchart-complete');\n",
       "    }\n",
       "    (() => {\n",
       "      let quickchartButtonEl =\n",
       "        document.querySelector('#df-9f5bfc53-1782-49d2-82e5-ff9a1ef6dd6f button');\n",
       "      quickchartButtonEl.style.display =\n",
       "        google.colab.kernel.accessAllowed ? 'block' : 'none';\n",
       "    })();\n",
       "  </script>\n",
       "</div>\n",
       "    </div>\n",
       "  </div>\n"
      ],
      "text/plain": [
       "   Unnamed: 0                                               text  toxic  \\\n",
       "0           0  Explanation\\nWhy the edits made under my usern...      0   \n",
       "1           1  D'aww! He matches this background colour I'm s...      0   \n",
       "2           2  Hey man, I'm really not trying to edit war. It...      0   \n",
       "3           3  \"\\nMore\\nI can't make any real suggestions on ...      0   \n",
       "4           4  You, sir, are my hero. Any chance you remember...      0   \n",
       "5           5  \"\\n\\nCongratulations from me as well, use the ...      0   \n",
       "6           6       COCKSUCKER BEFORE YOU PISS AROUND ON MY WORK      1   \n",
       "7           7  Your vandalism to the Matt Shirvington article...      0   \n",
       "8           8  Sorry if the word 'nonsense' was offensive to ...      0   \n",
       "9           9  alignment on this subject and which are contra...      0   \n",
       "\n",
       "                                                lemm  \n",
       "0  explanation why the edits made under my userna...  \n",
       "1  d aww he matches this background colour i m se...  \n",
       "2  hey man i m really not trying to edit war it s...  \n",
       "3  more i can t make any real suggestions on impr...  \n",
       "4  you sir are my hero any chance you remember wh...  \n",
       "5  congratulations from me as well use the tools ...  \n",
       "6       cocksucker before you piss around on my work  \n",
       "7  your vandalism to the matt shirvington article...  \n",
       "8  sorry if the word nonsense was offensive to yo...  \n",
       "9  alignment on this subject and which are contra...  "
      ]
     },
     "execution_count": 6,
     "metadata": {},
     "output_type": "execute_result"
    }
   ],
   "source": [
    "# удаляем все кроме английских слов приводим к нижнему регистру\n",
    "def clear_text(text):\n",
    "    text = re.sub(r'[^a-zA-Z]', ' ', text)\n",
    "    return ' '.join(text.split()).lower()\n",
    "\n",
    "data['lemm'] = data['text'].apply(clear_text)\n",
    "\n",
    "data.head(10)"
   ]
  },
  {
   "cell_type": "code",
   "execution_count": 7,
   "metadata": {
    "colab": {
     "base_uri": "https://localhost:8080/",
     "height": 536
    },
    "id": "lySwPEa7e0kk",
    "outputId": "a8387811-354c-4d45-c674-d4b81bb5ebfd"
   },
   "outputs": [
    {
     "data": {
      "text/html": [
       "\n",
       "  <div id=\"df-045cbcc9-10cf-4c98-b2a3-d044eefaa190\" class=\"colab-df-container\">\n",
       "    <div>\n",
       "<style scoped>\n",
       "    .dataframe tbody tr th:only-of-type {\n",
       "        vertical-align: middle;\n",
       "    }\n",
       "\n",
       "    .dataframe tbody tr th {\n",
       "        vertical-align: top;\n",
       "    }\n",
       "\n",
       "    .dataframe thead th {\n",
       "        text-align: right;\n",
       "    }\n",
       "</style>\n",
       "<table border=\"1\" class=\"dataframe\">\n",
       "  <thead>\n",
       "    <tr style=\"text-align: right;\">\n",
       "      <th></th>\n",
       "      <th>Unnamed: 0</th>\n",
       "      <th>text</th>\n",
       "      <th>toxic</th>\n",
       "      <th>lemm</th>\n",
       "    </tr>\n",
       "  </thead>\n",
       "  <tbody>\n",
       "    <tr>\n",
       "      <th>0</th>\n",
       "      <td>0</td>\n",
       "      <td>Explanation\\nWhy the edits made under my usern...</td>\n",
       "      <td>0</td>\n",
       "      <td>Explanation \\n why the edit make under my user...</td>\n",
       "    </tr>\n",
       "    <tr>\n",
       "      <th>1</th>\n",
       "      <td>1</td>\n",
       "      <td>D'aww! He matches this background colour I'm s...</td>\n",
       "      <td>0</td>\n",
       "      <td>D'aww ! he match this background colour I be s...</td>\n",
       "    </tr>\n",
       "    <tr>\n",
       "      <th>2</th>\n",
       "      <td>2</td>\n",
       "      <td>Hey man, I'm really not trying to edit war. It...</td>\n",
       "      <td>0</td>\n",
       "      <td>hey man , I be really not try to edit war . it...</td>\n",
       "    </tr>\n",
       "    <tr>\n",
       "      <th>3</th>\n",
       "      <td>3</td>\n",
       "      <td>\"\\nMore\\nI can't make any real suggestions on ...</td>\n",
       "      <td>0</td>\n",
       "      <td>\" \\n More \\n I can not make any real suggestio...</td>\n",
       "    </tr>\n",
       "    <tr>\n",
       "      <th>4</th>\n",
       "      <td>4</td>\n",
       "      <td>You, sir, are my hero. Any chance you remember...</td>\n",
       "      <td>0</td>\n",
       "      <td>you , sir , be my hero . any chance you rememb...</td>\n",
       "    </tr>\n",
       "    <tr>\n",
       "      <th>5</th>\n",
       "      <td>5</td>\n",
       "      <td>\"\\n\\nCongratulations from me as well, use the ...</td>\n",
       "      <td>0</td>\n",
       "      <td>\" \\n\\n congratulation from I as well , use the...</td>\n",
       "    </tr>\n",
       "    <tr>\n",
       "      <th>6</th>\n",
       "      <td>6</td>\n",
       "      <td>COCKSUCKER BEFORE YOU PISS AROUND ON MY WORK</td>\n",
       "      <td>1</td>\n",
       "      <td>COCKSUCKER before you pis around on MY work</td>\n",
       "    </tr>\n",
       "    <tr>\n",
       "      <th>7</th>\n",
       "      <td>7</td>\n",
       "      <td>Your vandalism to the Matt Shirvington article...</td>\n",
       "      <td>0</td>\n",
       "      <td>your vandalism to the Matt Shirvington article...</td>\n",
       "    </tr>\n",
       "    <tr>\n",
       "      <th>8</th>\n",
       "      <td>8</td>\n",
       "      <td>Sorry if the word 'nonsense' was offensive to ...</td>\n",
       "      <td>0</td>\n",
       "      <td>sorry if the word ' nonsense ' be offensive to...</td>\n",
       "    </tr>\n",
       "    <tr>\n",
       "      <th>9</th>\n",
       "      <td>9</td>\n",
       "      <td>alignment on this subject and which are contra...</td>\n",
       "      <td>0</td>\n",
       "      <td>alignment on this subject and which be contrar...</td>\n",
       "    </tr>\n",
       "  </tbody>\n",
       "</table>\n",
       "</div>\n",
       "    <div class=\"colab-df-buttons\">\n",
       "\n",
       "  <div class=\"colab-df-container\">\n",
       "    <button class=\"colab-df-convert\" onclick=\"convertToInteractive('df-045cbcc9-10cf-4c98-b2a3-d044eefaa190')\"\n",
       "            title=\"Convert this dataframe to an interactive table.\"\n",
       "            style=\"display:none;\">\n",
       "\n",
       "  <svg xmlns=\"http://www.w3.org/2000/svg\" height=\"24px\" viewBox=\"0 -960 960 960\">\n",
       "    <path d=\"M120-120v-720h720v720H120Zm60-500h600v-160H180v160Zm220 220h160v-160H400v160Zm0 220h160v-160H400v160ZM180-400h160v-160H180v160Zm440 0h160v-160H620v160ZM180-180h160v-160H180v160Zm440 0h160v-160H620v160Z\"/>\n",
       "  </svg>\n",
       "    </button>\n",
       "\n",
       "  <style>\n",
       "    .colab-df-container {\n",
       "      display:flex;\n",
       "      gap: 12px;\n",
       "    }\n",
       "\n",
       "    .colab-df-convert {\n",
       "      background-color: #E8F0FE;\n",
       "      border: none;\n",
       "      border-radius: 50%;\n",
       "      cursor: pointer;\n",
       "      display: none;\n",
       "      fill: #1967D2;\n",
       "      height: 32px;\n",
       "      padding: 0 0 0 0;\n",
       "      width: 32px;\n",
       "    }\n",
       "\n",
       "    .colab-df-convert:hover {\n",
       "      background-color: #E2EBFA;\n",
       "      box-shadow: 0px 1px 2px rgba(60, 64, 67, 0.3), 0px 1px 3px 1px rgba(60, 64, 67, 0.15);\n",
       "      fill: #174EA6;\n",
       "    }\n",
       "\n",
       "    .colab-df-buttons div {\n",
       "      margin-bottom: 4px;\n",
       "    }\n",
       "\n",
       "    [theme=dark] .colab-df-convert {\n",
       "      background-color: #3B4455;\n",
       "      fill: #D2E3FC;\n",
       "    }\n",
       "\n",
       "    [theme=dark] .colab-df-convert:hover {\n",
       "      background-color: #434B5C;\n",
       "      box-shadow: 0px 1px 3px 1px rgba(0, 0, 0, 0.15);\n",
       "      filter: drop-shadow(0px 1px 2px rgba(0, 0, 0, 0.3));\n",
       "      fill: #FFFFFF;\n",
       "    }\n",
       "  </style>\n",
       "\n",
       "    <script>\n",
       "      const buttonEl =\n",
       "        document.querySelector('#df-045cbcc9-10cf-4c98-b2a3-d044eefaa190 button.colab-df-convert');\n",
       "      buttonEl.style.display =\n",
       "        google.colab.kernel.accessAllowed ? 'block' : 'none';\n",
       "\n",
       "      async function convertToInteractive(key) {\n",
       "        const element = document.querySelector('#df-045cbcc9-10cf-4c98-b2a3-d044eefaa190');\n",
       "        const dataTable =\n",
       "          await google.colab.kernel.invokeFunction('convertToInteractive',\n",
       "                                                    [key], {});\n",
       "        if (!dataTable) return;\n",
       "\n",
       "        const docLinkHtml = 'Like what you see? Visit the ' +\n",
       "          '<a target=\"_blank\" href=https://colab.research.google.com/notebooks/data_table.ipynb>data table notebook</a>'\n",
       "          + ' to learn more about interactive tables.';\n",
       "        element.innerHTML = '';\n",
       "        dataTable['output_type'] = 'display_data';\n",
       "        await google.colab.output.renderOutput(dataTable, element);\n",
       "        const docLink = document.createElement('div');\n",
       "        docLink.innerHTML = docLinkHtml;\n",
       "        element.appendChild(docLink);\n",
       "      }\n",
       "    </script>\n",
       "  </div>\n",
       "\n",
       "\n",
       "<div id=\"df-640ac74c-99bf-4839-8c58-824b059ba60b\">\n",
       "  <button class=\"colab-df-quickchart\" onclick=\"quickchart('df-640ac74c-99bf-4839-8c58-824b059ba60b')\"\n",
       "            title=\"Suggest charts.\"\n",
       "            style=\"display:none;\">\n",
       "\n",
       "<svg xmlns=\"http://www.w3.org/2000/svg\" height=\"24px\"viewBox=\"0 0 24 24\"\n",
       "     width=\"24px\">\n",
       "    <g>\n",
       "        <path d=\"M19 3H5c-1.1 0-2 .9-2 2v14c0 1.1.9 2 2 2h14c1.1 0 2-.9 2-2V5c0-1.1-.9-2-2-2zM9 17H7v-7h2v7zm4 0h-2V7h2v10zm4 0h-2v-4h2v4z\"/>\n",
       "    </g>\n",
       "</svg>\n",
       "  </button>\n",
       "\n",
       "<style>\n",
       "  .colab-df-quickchart {\n",
       "      --bg-color: #E8F0FE;\n",
       "      --fill-color: #1967D2;\n",
       "      --hover-bg-color: #E2EBFA;\n",
       "      --hover-fill-color: #174EA6;\n",
       "      --disabled-fill-color: #AAA;\n",
       "      --disabled-bg-color: #DDD;\n",
       "  }\n",
       "\n",
       "  [theme=dark] .colab-df-quickchart {\n",
       "      --bg-color: #3B4455;\n",
       "      --fill-color: #D2E3FC;\n",
       "      --hover-bg-color: #434B5C;\n",
       "      --hover-fill-color: #FFFFFF;\n",
       "      --disabled-bg-color: #3B4455;\n",
       "      --disabled-fill-color: #666;\n",
       "  }\n",
       "\n",
       "  .colab-df-quickchart {\n",
       "    background-color: var(--bg-color);\n",
       "    border: none;\n",
       "    border-radius: 50%;\n",
       "    cursor: pointer;\n",
       "    display: none;\n",
       "    fill: var(--fill-color);\n",
       "    height: 32px;\n",
       "    padding: 0;\n",
       "    width: 32px;\n",
       "  }\n",
       "\n",
       "  .colab-df-quickchart:hover {\n",
       "    background-color: var(--hover-bg-color);\n",
       "    box-shadow: 0 1px 2px rgba(60, 64, 67, 0.3), 0 1px 3px 1px rgba(60, 64, 67, 0.15);\n",
       "    fill: var(--button-hover-fill-color);\n",
       "  }\n",
       "\n",
       "  .colab-df-quickchart-complete:disabled,\n",
       "  .colab-df-quickchart-complete:disabled:hover {\n",
       "    background-color: var(--disabled-bg-color);\n",
       "    fill: var(--disabled-fill-color);\n",
       "    box-shadow: none;\n",
       "  }\n",
       "\n",
       "  .colab-df-spinner {\n",
       "    border: 2px solid var(--fill-color);\n",
       "    border-color: transparent;\n",
       "    border-bottom-color: var(--fill-color);\n",
       "    animation:\n",
       "      spin 1s steps(1) infinite;\n",
       "  }\n",
       "\n",
       "  @keyframes spin {\n",
       "    0% {\n",
       "      border-color: transparent;\n",
       "      border-bottom-color: var(--fill-color);\n",
       "      border-left-color: var(--fill-color);\n",
       "    }\n",
       "    20% {\n",
       "      border-color: transparent;\n",
       "      border-left-color: var(--fill-color);\n",
       "      border-top-color: var(--fill-color);\n",
       "    }\n",
       "    30% {\n",
       "      border-color: transparent;\n",
       "      border-left-color: var(--fill-color);\n",
       "      border-top-color: var(--fill-color);\n",
       "      border-right-color: var(--fill-color);\n",
       "    }\n",
       "    40% {\n",
       "      border-color: transparent;\n",
       "      border-right-color: var(--fill-color);\n",
       "      border-top-color: var(--fill-color);\n",
       "    }\n",
       "    60% {\n",
       "      border-color: transparent;\n",
       "      border-right-color: var(--fill-color);\n",
       "    }\n",
       "    80% {\n",
       "      border-color: transparent;\n",
       "      border-right-color: var(--fill-color);\n",
       "      border-bottom-color: var(--fill-color);\n",
       "    }\n",
       "    90% {\n",
       "      border-color: transparent;\n",
       "      border-bottom-color: var(--fill-color);\n",
       "    }\n",
       "  }\n",
       "</style>\n",
       "\n",
       "  <script>\n",
       "    async function quickchart(key) {\n",
       "      const quickchartButtonEl =\n",
       "        document.querySelector('#' + key + ' button');\n",
       "      quickchartButtonEl.disabled = true;  // To prevent multiple clicks.\n",
       "      quickchartButtonEl.classList.add('colab-df-spinner');\n",
       "      try {\n",
       "        const charts = await google.colab.kernel.invokeFunction(\n",
       "            'suggestCharts', [key], {});\n",
       "      } catch (error) {\n",
       "        console.error('Error during call to suggestCharts:', error);\n",
       "      }\n",
       "      quickchartButtonEl.classList.remove('colab-df-spinner');\n",
       "      quickchartButtonEl.classList.add('colab-df-quickchart-complete');\n",
       "    }\n",
       "    (() => {\n",
       "      let quickchartButtonEl =\n",
       "        document.querySelector('#df-640ac74c-99bf-4839-8c58-824b059ba60b button');\n",
       "      quickchartButtonEl.style.display =\n",
       "        google.colab.kernel.accessAllowed ? 'block' : 'none';\n",
       "    })();\n",
       "  </script>\n",
       "</div>\n",
       "    </div>\n",
       "  </div>\n"
      ],
      "text/plain": [
       "   Unnamed: 0                                               text  toxic  \\\n",
       "0           0  Explanation\\nWhy the edits made under my usern...      0   \n",
       "1           1  D'aww! He matches this background colour I'm s...      0   \n",
       "2           2  Hey man, I'm really not trying to edit war. It...      0   \n",
       "3           3  \"\\nMore\\nI can't make any real suggestions on ...      0   \n",
       "4           4  You, sir, are my hero. Any chance you remember...      0   \n",
       "5           5  \"\\n\\nCongratulations from me as well, use the ...      0   \n",
       "6           6       COCKSUCKER BEFORE YOU PISS AROUND ON MY WORK      1   \n",
       "7           7  Your vandalism to the Matt Shirvington article...      0   \n",
       "8           8  Sorry if the word 'nonsense' was offensive to ...      0   \n",
       "9           9  alignment on this subject and which are contra...      0   \n",
       "\n",
       "                                                lemm  \n",
       "0  Explanation \\n why the edit make under my user...  \n",
       "1  D'aww ! he match this background colour I be s...  \n",
       "2  hey man , I be really not try to edit war . it...  \n",
       "3  \" \\n More \\n I can not make any real suggestio...  \n",
       "4  you , sir , be my hero . any chance you rememb...  \n",
       "5  \" \\n\\n congratulation from I as well , use the...  \n",
       "6        COCKSUCKER before you pis around on MY work  \n",
       "7  your vandalism to the Matt Shirvington article...  \n",
       "8  sorry if the word ' nonsense ' be offensive to...  \n",
       "9  alignment on this subject and which be contrar...  "
      ]
     },
     "execution_count": 7,
     "metadata": {},
     "output_type": "execute_result"
    }
   ],
   "source": [
    "# загружаем датасет с лемматизированным текстом\n",
    "# если сохраненного датасета нет, то делаем лемматизацию и сохраняем\n",
    "# (т.к. процесс лемматизации занимает много времени)\n",
    "\n",
    "try:\n",
    "    data = pd.read_csv('toxic_comments_lemm.csv')\n",
    "except:\n",
    "    # языковая модель\n",
    "    nlp = spacy.load(\"en_core_web_sm\")\n",
    "\n",
    "    # функция для лемматизации\n",
    "    def lemmatize(text):\n",
    "        doc = nlp(text)\n",
    "        return ' '.join([token.lemma_ for token in doc])\n",
    "\n",
    "    data['lemm'] = data['text'].apply(lemmatize)\n",
    "    data.to_csv('toxic_comments_lemm.csv')\n",
    "\n",
    "data.head(10)"
   ]
  },
  {
   "cell_type": "markdown",
   "metadata": {
    "id": "y5jE77bce0kk"
   },
   "source": [
    "### Разделение данных"
   ]
  },
  {
   "cell_type": "code",
   "execution_count": 8,
   "metadata": {
    "colab": {
     "base_uri": "https://localhost:8080/",
     "height": 452
    },
    "id": "z8g7T35ke0kl",
    "outputId": "5ea97a62-e911-4c52-ae44-71fa81529a36"
   },
   "outputs": [
    {
     "data": {
      "image/png": "[encoded data removed]",
      "text/plain": [
       "<Figure size 640x480 with 1 Axes>"
      ]
     },
     "metadata": {},
     "output_type": "display_data"
    }
   ],
   "source": [
    "# анализ баланса классов\n",
    "data['toxic'].hist()\n",
    "plt.title('Баланс классов')\n",
    "plt.show()"
   ]
  },
  {
   "cell_type": "markdown",
   "metadata": {
    "id": "occS1wsqe0kl"
   },
   "source": [
    "Классы несбалансированы, поэтому разбиваем на выборки со стратификацией по целевой переменной."
   ]
  },
  {
   "cell_type": "code",
   "execution_count": 9,
   "metadata": {
    "colab": {
     "base_uri": "https://localhost:8080/"
    },
    "id": "5IygdZx_e0kl",
    "outputId": "ee563059-aaac-4d0b-980d-0235f2093c4a"
   },
   "outputs": [
    {
     "name": "stdout",
     "output_type": "stream",
     "text": [
      "Размер фрейма признаков обучающей выборки: (119469,)\n",
      "Размер фрейма целевого признака обучающей выборки: (119469,)\n",
      "Размер фрейма признаков тестовой выборки: (39823,)\n",
      "Размер фрейма целевого признака тестовой выборки: (39823,)\n"
     ]
    }
   ],
   "source": [
    "# разделение выборки на обучающую и тестовую\n",
    "features = data['lemm']\n",
    "target = data['toxic']\n",
    "features_train, features_test, target_train, target_test = train_test_split(features, target, test_size=0.25,\n",
    "                                                                            stratify=target, random_state=96)\n",
    "print('Размер фрейма признаков обучающей выборки:', features_train.shape)\n",
    "print('Размер фрейма целевого признака обучающей выборки:', target_train.shape)\n",
    "print('Размер фрейма признаков тестовой выборки:', features_test.shape)\n",
    "print('Размер фрейма целевого признака тестовой выборки:', target_test.shape)"
   ]
  },
  {
   "cell_type": "markdown",
   "metadata": {
    "id": "cbROMTo1AWeh"
   },
   "source": [
    "Т.к. во время подбора параметров для CatBoost тратится много времени и кросс-валидация заканчивается отключением ядра, уменьшим выборки для этого алгоритма."
   ]
  },
  {
   "cell_type": "code",
   "execution_count": 10,
   "metadata": {
    "id": "rUbZ9JGKBEMG"
   },
   "outputs": [],
   "source": [
    "# берем 1000 строк для обучающей выборки и 333 для тестовой. Тем самым сохраним отношение (75%:25%)\n",
    "features_train_boost = features_train.sample(n=1000, random_state=96)\n",
    "target_train_boost = target_train.sample(n=1000, random_state=96)\n",
    "features_test_boost = features_test.sample(n=333, random_state=96)\n",
    "target_test_boost = target_test.sample(n=333, random_state=96)"
   ]
  },
  {
   "cell_type": "markdown",
   "metadata": {
    "id": "ud5uTiBXe0km"
   },
   "source": [
    "**Вывод:** В этой главе мы провели подготовку данных к обучению. Обзор данных показал нам размерность датасета, отсутствие пропусков и типы данных столбцов.\n",
    "Далее мы оставили в текстах только английские символы и привели к нижнему регистру. С помощью библиотеки spacy мы провели лемматизацию текста.\n",
    "\n",
    "Мы разделили датасет на тренировочную и тестовую выборку в соотношении (75%:25%).  Анализ целевых классов показал, что они несбалансированы. Поэтому при разделении мы использовали стратификацию по целевой переменной. Наконец мы удалили английские стоп-слова.\n",
    "\n",
    "Дополнительно мы сделали тренировочную и тестовую выборку для модели CatBoost, имеющие 1000 и 333 строк соответственно. Позже для них провели векторизацию."
   ]
  },
  {
   "cell_type": "markdown",
   "metadata": {
    "id": "H2GahkdNe0km"
   },
   "source": [
    "## Обучение"
   ]
  },
  {
   "cell_type": "markdown",
   "metadata": {
    "id": "Iq4ElFDze0km"
   },
   "source": [
    "### Логистическая регрессия"
   ]
  },
  {
   "cell_type": "code",
   "execution_count": 11,
   "metadata": {
    "colab": {
     "base_uri": "https://localhost:8080/"
    },
    "id": "jAX0_bgoe0kn",
    "outputId": "5fe568b5-0422-4be3-b93a-7bbaf6ffac6b"
   },
   "outputs": [
    {
     "name": "stderr",
     "output_type": "stream",
     "text": [
      "[nltk_data] Downloading package stopwords to /root/nltk_data...\n",
      "[nltk_data]   Unzipping corpora/stopwords.zip.\n"
     ]
    },
    {
     "name": "stdout",
     "output_type": "stream",
     "text": [
      "F1: 0.7626861243657042\n",
      "Лучшие параметры: {'model_reg__C': 10}\n",
      "CPU times: user 37.6 s, sys: 29.1 s, total: 1min 6s\n",
      "Wall time: 6min 33s\n"
     ]
    }
   ],
   "source": [
    "%%time\n",
    "# используем class_weight='balanced' чтобы придать меньшему классу больший вес\n",
    "model_reg = LogisticRegression(random_state=96, class_weight='balanced', max_iter=1000)\n",
    "\n",
    "# объявляем векторайзер и список стоп-слов\n",
    "nltk.download('stopwords')\n",
    "stopwords = list(nltk_stopwords.words('english'))\n",
    "vect = TfidfVectorizer(stop_words=stopwords)\n",
    "\n",
    "# настройка пайплайна\n",
    "pipeline_reg = Pipeline(\n",
    "    [\n",
    "        (\"vect\", vect),\n",
    "        (\"model_reg\", model_reg),\n",
    "    ]\n",
    ")\n",
    "\n",
    "param_grid_reg = {\n",
    "                  'model_reg__C':[0.01, 0.1, 1, 10, 100]\n",
    "}\n",
    "gs_reg = GridSearchCV(pipeline_reg,\n",
    "                      param_grid=param_grid_reg,\n",
    "                      scoring='f1',\n",
    "                      n_jobs=-1\n",
    "                     )\n",
    "gs_reg.fit(features_train, target_train)\n",
    "\n",
    "print(f'F1: {gs_reg.best_score_}')\n",
    "print(f'Лучшие параметры: {gs_reg.best_params_}')"
   ]
  },
  {
   "cell_type": "markdown",
   "metadata": {
    "id": "GoXk1NQle0kn"
   },
   "source": [
    "### Случайный лес"
   ]
  },
  {
   "cell_type": "code",
   "execution_count": 12,
   "metadata": {
    "colab": {
     "base_uri": "https://localhost:8080/"
    },
    "id": "W31Xpbx7e0kn",
    "outputId": "a7977ce3-5f37-4e32-e968-a61a5b36d829"
   },
   "outputs": [
    {
     "name": "stdout",
     "output_type": "stream",
     "text": [
      "F1: 0.36607866407130174\n",
      "Лучшие параметры: {'model_rf__n_estimators': 50, 'model_rf__max_depth': 15}\n",
      "CPU times: user 26.5 s, sys: 6.47 s, total: 33 s\n",
      "Wall time: 9min 50s\n"
     ]
    }
   ],
   "source": [
    "%%time\n",
    "# случайный лес\n",
    "model_rf = RandomForestClassifier(random_state=96, class_weight='balanced')\n",
    "\n",
    "# настройка пайплайна\n",
    "pipeline_rf = Pipeline(\n",
    "    [\n",
    "        (\"vect\", vect),\n",
    "        (\"model_rf\", model_rf),\n",
    "    ]\n",
    ")\n",
    "\n",
    "param_grid_rf = {\n",
    "    'model_rf__n_estimators': range(50, 201, 50),\n",
    "    'model_rf__max_depth': range(2, 16),\n",
    "}\n",
    "\n",
    "gs_rf = RandomizedSearchCV(\n",
    "    pipeline_rf,\n",
    "    param_distributions=param_grid_rf,\n",
    "    scoring='f1',\n",
    "    n_jobs=-1,\n",
    "    random_state=96\n",
    ")\n",
    "\n",
    "gs_rf.fit(features_train, target_train)\n",
    "\n",
    "print(f'F1: {gs_rf.best_score_}')\n",
    "print(f'Лучшие параметры: {gs_rf.best_params_}')"
   ]
  },
  {
   "cell_type": "markdown",
   "metadata": {
    "id": "-_zsMrvye0kn"
   },
   "source": [
    "### Градиентный бустинг"
   ]
  },
  {
   "cell_type": "code",
   "execution_count": 13,
   "metadata": {
    "id": "-NNRo_SBe0kn"
   },
   "outputs": [],
   "source": [
    "# рассчитаем веса классов\n",
    "classes = np.unique(target_train_boost)\n",
    "weights = compute_class_weight(class_weight='balanced', classes=classes, y=target_train_boost)\n",
    "class_weights = dict(zip(classes, weights))"
   ]
  },
  {
   "cell_type": "code",
   "execution_count": 14,
   "metadata": {
    "colab": {
     "base_uri": "https://localhost:8080/"
    },
    "id": "8haynyH9HhUT",
    "outputId": "2620cd78-5672-4dec-f83c-a20676ec388d"
   },
   "outputs": [
    {
     "name": "stdout",
     "output_type": "stream",
     "text": [
      "F1: 0.47324199775812675\n",
      "Лучшие параметры: {'model_boost__max_depth': 8, 'model_boost__learning_rate': 0.2, 'model_boost__iterations': 50}\n",
      "CPU times: user 14.6 s, sys: 4.28 s, total: 18.8 s\n",
      "Wall time: 3min 29s\n"
     ]
    }
   ],
   "source": [
    "%%time\n",
    "# модель градиентного бустинга\n",
    "model_boost = CatBoostClassifier(random_state=96,\n",
    "                                 verbose=False, class_weights=class_weights)\n",
    "\n",
    "# настройка пайплайна\n",
    "pipeline_boost = Pipeline(\n",
    "    [\n",
    "        (\"vect\", vect),\n",
    "        (\"model_boost\", model_boost),\n",
    "    ]\n",
    ")\n",
    "\n",
    "param_grid_boost = {\n",
    "    'model_boost__iterations': range(10, 51, 10),\n",
    "    'model_boost__max_depth': range(2, 11),\n",
    "    'model_boost__learning_rate': (0.1, 0.2, 0.3, 0.4)\n",
    "}\n",
    "\n",
    "gs_boost = RandomizedSearchCV(\n",
    "    pipeline_boost,\n",
    "    param_distributions=param_grid_boost,\n",
    "    scoring='f1',\n",
    "    n_jobs=-1,\n",
    "    random_state=96\n",
    ")\n",
    "\n",
    "gs_boost.fit(features_train_boost, target_train_boost)\n",
    "\n",
    "print(f'F1: {gs_boost.best_score_}')\n",
    "print(f'Лучшие параметры: {gs_boost.best_params_}')"
   ]
  },
  {
   "cell_type": "markdown",
   "metadata": {
    "id": "sp5DOPNwYBpk"
   },
   "source": [
    "Мы определили конвейеры, содержащие векторизатор и модели для классификации текстов.\n",
    "\n",
    "Наилучший показатель F1 = 0.76 показала модель логистической регрессии с параметрами {C=10; max_iter=1000}. Эта модель показала достаточный результат F1 и она отправляется на тестирование.\n",
    "\n",
    "На втором месте с показателем F1 = 0.47 модель CatBoost с параметрами {'max_depth': 8, 'learning_rate': 0.2, 'iterations': 50}.\n",
    "\n",
    "Хуже всех показала себя модель случайного леса с F1 = 0.37 и параметрами {'n_estimators': 50, 'max_depth': 15}."
   ]
  },
  {
   "cell_type": "markdown",
   "metadata": {
    "id": "s7EUsixSZFAJ"
   },
   "source": [
    "### Тестирование"
   ]
  },
  {
   "cell_type": "code",
   "execution_count": 15,
   "metadata": {
    "colab": {
     "base_uri": "https://localhost:8080/"
    },
    "id": "8RvfTVIjZHBS",
    "outputId": "f572708f-f5a3-423d-a6a7-fb341f9f7746"
   },
   "outputs": [
    {
     "name": "stdout",
     "output_type": "stream",
     "text": [
      "F1 на тестовой выборке: 0.7693376563223715\n"
     ]
    }
   ],
   "source": [
    "# тестирование модели логистической регрессии\n",
    "pred = gs_reg.predict(features_test)\n",
    "print('F1 на тестовой выборке:', f1_score(target_test, pred))"
   ]
  },
  {
   "cell_type": "markdown",
   "metadata": {
    "id": "wGRIB0e8a2lS"
   },
   "source": [
    "Модель прошла тест."
   ]
  },
  {
   "cell_type": "markdown",
   "metadata": {
    "id": "fEunl25BaxYD"
   },
   "source": [
    "### Проверка на адекватность"
   ]
  },
  {
   "cell_type": "code",
   "execution_count": 16,
   "metadata": {
    "colab": {
     "base_uri": "https://localhost:8080/"
    },
    "id": "Kapl4xRIa0l8",
    "outputId": "5356bf13-143e-4b89-f407-8270152cf4b9"
   },
   "outputs": [
    {
     "name": "stdout",
     "output_type": "stream",
     "text": [
      "F1 константной модели: 0.18445827349609065\n"
     ]
    }
   ],
   "source": [
    "# создадим константный массив\n",
    "ones = np.ones(len(target_test))\n",
    "print('F1 константной модели:', f1_score(target_test, ones))"
   ]
  },
  {
   "cell_type": "markdown",
   "metadata": {
    "id": "Bgv6vwC-bl2r"
   },
   "source": [
    "**Вывод:**\n",
    "Модель логистической регрессии с F1 = 0.77 показала лучший результат чем константная модель F1 = 0.18.\n",
    "Проверка на адекватность пройдена. Модель логистической регрессии может идти в производство.\n",
    "\n",
    "Другие модели:\n",
    "- CatBoost: F1 = 0.47, параметры {'max_depth': 8, 'learning_rate': 0.2, 'iterations': 50}.\n",
    "- Модель случайного леса: F1 = 0.37, параметры{'n_estimators': 50, 'max_depth': 15}"
   ]
  },
  {
   "cell_type": "markdown",
   "metadata": {
    "id": "xwbl7zdKe0kn"
   },
   "source": [
    "## Выводы"
   ]
  },
  {
   "cell_type": "markdown",
   "metadata": {
    "id": "XUJTCEnicJ-I"
   },
   "source": [
    "Мы провели исследование данных с комментариями на предмет их токсичности. Заказчиком был интернет-магазин «Викишоп». Он запускает новый сервис с возможностью редактирования описания товаров, как в вики-сообществах, и им нужен инструмент для поиска токсичных комментариев для их дальнейшей отправки на модерацию.\n",
    "\n",
    "Процесс подготовки данных включал в себя:\n",
    "- обзор данных\n",
    "- очистка от символов не входящих в английский алфавит и стоп-слов\n",
    "- приведение к нижнему регистру\n",
    "- лемматизация\n",
    "- разбиение на тренировочную и тестовую выборки\n",
    "- векторизация\n",
    "\n",
    "В процессе обнаружили дисбаланс классов, который мы устранили путем разбиения со стратификацией. Дополнительно во время создания моделей мы поменяли веса классов и использовали конвейеры, куда мы поместили векторизаторы и сами модели.\n",
    "\n",
    "В итоге, мы выполнили цель и создали модель логистической регрессии, которая классифицирует комментарии на позитивные и негативные, с параметрами  {C=10; max_iter=1000} и результатом F1 = 0.76 на кросс-валидации и F1 = 0.77 на тестовой выборке. Модель прошла целевую метрику (0.75), проверку на адекватность и отправляется в производство.\n",
    "\n",
    "Другие модели:\n",
    "- CatBoost: F1 = 0.47, параметры {'max_depth': 8, 'learning_rate': 0.2, 'iterations': 50}.\n",
    "- Модель случайного леса: F1 = 0.37, параметры{'n_estimators': 50, 'max_depth': 15}\n",
    "\n",
    "Дальнейшие рекомендации:\n",
    "- Модель CatBoost не подходит для обучения больших датасетов с текстами на слабых машинах\n",
    "- Модель логистической регрессии показала наилучший результат метрики F1 и подбор параметров занял наименьшее время"
   ]
  }
 ],
 "metadata": {
  "ExecuteTimeLog": [
   {
    "duration": 1549,
    "start_time": "2023-09-11T08:30:36.632Z"
   },
   {
    "duration": 4525,
    "start_time": "2023-09-11T08:32:13.048Z"
   },
   {
    "duration": 953,
    "start_time": "2023-09-11T08:32:31.518Z"
   },
   {
    "duration": 21,
    "start_time": "2023-09-11T08:32:39.123Z"
   },
   {
    "duration": 7,
    "start_time": "2023-09-11T08:32:42.483Z"
   },
   {
    "duration": 7,
    "start_time": "2023-09-11T08:32:48.862Z"
   },
   {
    "duration": 38,
    "start_time": "2023-09-11T08:32:56.528Z"
   },
   {
    "duration": 2169,
    "start_time": "2023-09-11T08:33:27.705Z"
   },
   {
    "duration": 12434,
    "start_time": "2023-09-11T08:34:16.496Z"
   },
   {
    "duration": 1508,
    "start_time": "2023-09-11T08:35:41.280Z"
   },
   {
    "duration": 2560,
    "start_time": "2023-09-11T08:35:42.789Z"
   },
   {
    "duration": 20,
    "start_time": "2023-09-11T08:35:45.352Z"
   },
   {
    "duration": 76,
    "start_time": "2023-09-11T08:35:45.375Z"
   },
   {
    "duration": 2203,
    "start_time": "2023-09-11T08:35:45.453Z"
   },
   {
    "duration": 12407,
    "start_time": "2023-09-11T08:35:47.658Z"
   },
   {
    "duration": 1335,
    "start_time": "2023-09-11T15:58:03.229Z"
   },
   {
    "duration": 2597,
    "start_time": "2023-09-11T15:58:19.845Z"
   },
   {
    "duration": 15,
    "start_time": "2023-09-11T15:58:35.650Z"
   },
   {
    "duration": 32,
    "start_time": "2023-09-11T15:58:46.218Z"
   },
   {
    "duration": 9,
    "start_time": "2023-09-11T16:05:35.128Z"
   },
   {
    "duration": 112,
    "start_time": "2023-09-11T16:12:52.616Z"
   },
   {
    "duration": 4,
    "start_time": "2023-09-11T16:12:56.141Z"
   },
   {
    "duration": 96,
    "start_time": "2023-09-11T16:13:22.243Z"
   },
   {
    "duration": 70,
    "start_time": "2023-09-11T16:13:25.046Z"
   },
   {
    "duration": 86,
    "start_time": "2023-09-11T16:13:27.363Z"
   },
   {
    "duration": 5,
    "start_time": "2023-09-11T16:13:29.044Z"
   },
   {
    "duration": 116,
    "start_time": "2023-09-11T16:15:15.552Z"
   },
   {
    "duration": 4,
    "start_time": "2023-09-11T16:15:17.440Z"
   },
   {
    "duration": 35,
    "start_time": "2023-09-11T16:15:17.950Z"
   },
   {
    "duration": 692,
    "start_time": "2023-09-11T16:15:49.636Z"
   },
   {
    "duration": 16,
    "start_time": "2023-09-11T16:15:53.002Z"
   },
   {
    "duration": 626,
    "start_time": "2023-09-11T16:16:24.824Z"
   },
   {
    "duration": 3,
    "start_time": "2023-09-11T16:18:36.594Z"
   },
   {
    "duration": 190,
    "start_time": "2023-09-11T16:18:37.423Z"
   },
   {
    "duration": 6,
    "start_time": "2023-09-11T16:18:41.010Z"
   },
   {
    "duration": 43,
    "start_time": "2023-09-11T16:18:55.218Z"
   },
   {
    "duration": 35,
    "start_time": "2023-09-11T16:19:14.315Z"
   },
   {
    "duration": 2263,
    "start_time": "2023-09-11T16:43:37.922Z"
   },
   {
    "duration": 3352,
    "start_time": "2023-09-11T16:55:04.317Z"
   },
   {
    "duration": 668,
    "start_time": "2023-09-11T16:57:57.928Z"
   },
   {
    "duration": 4136,
    "start_time": "2023-09-11T17:03:56.019Z"
   },
   {
    "duration": 975,
    "start_time": "2023-09-11T17:04:00.158Z"
   },
   {
    "duration": 17,
    "start_time": "2023-09-11T17:04:01.134Z"
   },
   {
    "duration": 77,
    "start_time": "2023-09-11T17:04:01.153Z"
   },
   {
    "duration": 2329,
    "start_time": "2023-09-11T17:04:01.233Z"
   },
   {
    "duration": 1045,
    "start_time": "2023-09-11T17:04:03.563Z"
   },
   {
    "duration": 4,
    "start_time": "2023-09-11T17:04:13.003Z"
   },
   {
    "duration": 903,
    "start_time": "2023-09-11T17:04:23.923Z"
   },
   {
    "duration": 8,
    "start_time": "2023-09-11T17:04:25.453Z"
   },
   {
    "duration": 32,
    "start_time": "2023-09-11T17:04:26.076Z"
   },
   {
    "duration": 493,
    "start_time": "2023-09-11T17:04:28.460Z"
   },
   {
    "duration": 4061,
    "start_time": "2023-09-11T17:05:28.748Z"
   },
   {
    "duration": 984,
    "start_time": "2023-09-11T17:05:32.811Z"
   },
   {
    "duration": 22,
    "start_time": "2023-09-11T17:05:33.796Z"
   },
   {
    "duration": 35,
    "start_time": "2023-09-11T17:05:33.820Z"
   },
   {
    "duration": 2276,
    "start_time": "2023-09-11T17:05:33.858Z"
   },
   {
    "duration": 1063,
    "start_time": "2023-09-11T17:05:36.136Z"
   },
   {
    "duration": 4372,
    "start_time": "2023-09-11T17:08:40.692Z"
   },
   {
    "duration": 986,
    "start_time": "2023-09-11T17:08:45.066Z"
   },
   {
    "duration": 18,
    "start_time": "2023-09-11T17:08:46.054Z"
   },
   {
    "duration": 50,
    "start_time": "2023-09-11T17:08:46.074Z"
   },
   {
    "duration": 4384,
    "start_time": "2023-09-11T17:08:46.126Z"
   },
   {
    "duration": 3,
    "start_time": "2023-09-11T17:32:39.210Z"
   },
   {
    "duration": 1046,
    "start_time": "2023-09-11T17:33:06.268Z"
   },
   {
    "duration": 529,
    "start_time": "2023-09-11T17:33:13.615Z"
   },
   {
    "duration": 483,
    "start_time": "2023-09-11T17:33:25.343Z"
   },
   {
    "duration": 500,
    "start_time": "2023-09-11T17:33:35.119Z"
   },
   {
    "duration": 83,
    "start_time": "2023-09-11T17:33:54.035Z"
   },
   {
    "duration": 75,
    "start_time": "2023-09-11T17:33:58.332Z"
   },
   {
    "duration": 487,
    "start_time": "2023-09-11T17:34:04.776Z"
   },
   {
    "duration": 21,
    "start_time": "2023-09-11T17:37:08.159Z"
   },
   {
    "duration": 961,
    "start_time": "2023-09-11T17:37:12.624Z"
   },
   {
    "duration": 30,
    "start_time": "2023-09-11T17:37:38.927Z"
   },
   {
    "duration": 4714,
    "start_time": "2023-09-11T17:37:40.091Z"
   },
   {
    "duration": 2844348,
    "start_time": "2023-09-11T17:37:48.500Z"
   },
   {
    "duration": 4,
    "start_time": "2023-09-12T05:16:04.941Z"
   },
   {
    "duration": 826,
    "start_time": "2023-09-12T05:22:43.503Z"
   },
   {
    "duration": 43,
    "start_time": "2023-09-12T05:23:10.975Z"
   },
   {
    "duration": 183,
    "start_time": "2023-09-12T05:23:15.308Z"
   },
   {
    "duration": 4,
    "start_time": "2023-09-12T05:26:20.528Z"
   },
   {
    "duration": 5,
    "start_time": "2023-09-12T05:26:30.277Z"
   },
   {
    "duration": 7206,
    "start_time": "2023-09-12T05:26:45.995Z"
   },
   {
    "duration": 7673,
    "start_time": "2023-09-12T05:26:56.158Z"
   },
   {
    "duration": 145,
    "start_time": "2023-09-12T05:27:12.743Z"
   },
   {
    "duration": 75,
    "start_time": "2023-09-12T05:30:47.777Z"
   },
   {
    "duration": 6066,
    "start_time": "2023-09-12T05:31:48.160Z"
   },
   {
    "duration": 4,
    "start_time": "2023-09-12T05:32:01.139Z"
   },
   {
    "duration": 5192,
    "start_time": "2023-09-12T05:32:49.016Z"
   },
   {
    "duration": 2382,
    "start_time": "2023-09-12T05:32:54.210Z"
   },
   {
    "duration": 13,
    "start_time": "2023-09-12T05:32:56.594Z"
   },
   {
    "duration": 36,
    "start_time": "2023-09-12T05:32:56.609Z"
   },
   {
    "duration": 32,
    "start_time": "2023-09-12T05:32:56.647Z"
   },
   {
    "duration": 4233,
    "start_time": "2023-09-12T05:32:56.682Z"
   },
   {
    "duration": 3724,
    "start_time": "2023-09-12T05:33:00.917Z"
   },
   {
    "duration": 171,
    "start_time": "2023-09-12T05:33:04.642Z"
   },
   {
    "duration": 71,
    "start_time": "2023-09-12T05:33:04.815Z"
   },
   {
    "duration": 6142,
    "start_time": "2023-09-12T05:33:04.888Z"
   },
   {
    "duration": 4199,
    "start_time": "2023-09-12T05:34:45.488Z"
   },
   {
    "duration": 4228,
    "start_time": "2023-09-12T05:35:01.096Z"
   },
   {
    "duration": 4327,
    "start_time": "2023-09-12T05:35:21.398Z"
   },
   {
    "duration": 932,
    "start_time": "2023-09-12T05:35:25.727Z"
   },
   {
    "duration": 13,
    "start_time": "2023-09-12T05:35:26.660Z"
   },
   {
    "duration": 44,
    "start_time": "2023-09-12T05:35:26.675Z"
   },
   {
    "duration": 29,
    "start_time": "2023-09-12T05:35:26.721Z"
   },
   {
    "duration": 4146,
    "start_time": "2023-09-12T05:35:26.752Z"
   },
   {
    "duration": 2653911,
    "start_time": "2023-09-12T05:35:30.900Z"
   },
   {
    "duration": 171,
    "start_time": "2023-09-12T06:19:44.813Z"
   },
   {
    "duration": 531,
    "start_time": "2023-09-12T06:19:44.985Z"
   },
   {
    "duration": 7470,
    "start_time": "2023-09-12T06:19:45.518Z"
   },
   {
    "duration": 8098,
    "start_time": "2023-09-12T06:29:09.162Z"
   },
   {
    "duration": 7945,
    "start_time": "2023-09-12T06:30:20.511Z"
   },
   {
    "duration": 8123,
    "start_time": "2023-09-12T06:32:56.158Z"
   },
   {
    "duration": 23489,
    "start_time": "2023-09-12T06:33:06.288Z"
   },
   {
    "duration": 7939,
    "start_time": "2023-09-12T06:34:03.358Z"
   },
   {
    "duration": 343,
    "start_time": "2023-09-12T06:35:19.407Z"
   },
   {
    "duration": 184393,
    "start_time": "2023-09-12T06:35:40.322Z"
   },
   {
    "duration": 182166,
    "start_time": "2023-09-12T06:38:47.747Z"
   },
   {
    "duration": 4,
    "start_time": "2023-09-12T06:50:16.410Z"
   },
   {
    "duration": 4,
    "start_time": "2023-09-12T06:50:24.164Z"
   },
   {
    "duration": 21,
    "start_time": "2023-09-12T06:56:48.966Z"
   },
   {
    "duration": 22,
    "start_time": "2023-09-12T06:56:54.020Z"
   },
   {
    "duration": 4676,
    "start_time": "2023-09-12T07:30:29.280Z"
   },
   {
    "duration": 928,
    "start_time": "2023-09-12T07:30:33.958Z"
   },
   {
    "duration": 13,
    "start_time": "2023-09-12T07:30:34.887Z"
   },
   {
    "duration": 37,
    "start_time": "2023-09-12T07:30:34.910Z"
   },
   {
    "duration": 33,
    "start_time": "2023-09-12T07:30:34.950Z"
   },
   {
    "duration": 4386,
    "start_time": "2023-09-12T07:30:34.984Z"
   },
   {
    "duration": 2813,
    "start_time": "2023-09-12T07:30:39.372Z"
   },
   {
    "duration": 180,
    "start_time": "2023-09-12T07:30:42.187Z"
   },
   {
    "duration": 103,
    "start_time": "2023-09-12T07:30:42.368Z"
   },
   {
    "duration": 8203,
    "start_time": "2023-09-12T07:30:42.474Z"
   },
   {
    "duration": 81,
    "start_time": "2023-09-12T07:30:50.678Z"
   },
   {
    "duration": 1,
    "start_time": "2023-09-12T07:30:50.761Z"
   },
   {
    "duration": 0,
    "start_time": "2023-09-12T07:30:50.763Z"
   },
   {
    "duration": 4387,
    "start_time": "2023-09-12T07:31:18.645Z"
   },
   {
    "duration": 954,
    "start_time": "2023-09-12T07:31:23.034Z"
   },
   {
    "duration": 20,
    "start_time": "2023-09-12T07:31:23.990Z"
   },
   {
    "duration": 34,
    "start_time": "2023-09-12T07:31:24.012Z"
   },
   {
    "duration": 33,
    "start_time": "2023-09-12T07:31:24.048Z"
   },
   {
    "duration": 4349,
    "start_time": "2023-09-12T07:31:24.083Z"
   },
   {
    "duration": 2788,
    "start_time": "2023-09-12T07:31:28.433Z"
   },
   {
    "duration": 170,
    "start_time": "2023-09-12T07:31:31.223Z"
   },
   {
    "duration": 80,
    "start_time": "2023-09-12T07:31:31.395Z"
   },
   {
    "duration": 8254,
    "start_time": "2023-09-12T07:31:31.477Z"
   },
   {
    "duration": 478,
    "start_time": "2023-09-12T07:31:39.733Z"
   },
   {
    "duration": 153,
    "start_time": "2023-09-12T07:31:40.212Z"
   },
   {
    "duration": 120,
    "start_time": "2023-09-12T07:31:40.367Z"
   },
   {
    "duration": 4537,
    "start_time": "2023-09-12T07:32:49.874Z"
   },
   {
    "duration": 966,
    "start_time": "2023-09-12T07:32:54.413Z"
   },
   {
    "duration": 14,
    "start_time": "2023-09-12T07:32:55.382Z"
   },
   {
    "duration": 42,
    "start_time": "2023-09-12T07:32:55.398Z"
   },
   {
    "duration": 32,
    "start_time": "2023-09-12T07:32:55.443Z"
   },
   {
    "duration": 4372,
    "start_time": "2023-09-12T07:32:55.476Z"
   },
   {
    "duration": 3061,
    "start_time": "2023-09-12T07:32:59.849Z"
   },
   {
    "duration": 175,
    "start_time": "2023-09-12T07:33:02.912Z"
   },
   {
    "duration": 69,
    "start_time": "2023-09-12T07:33:03.088Z"
   },
   {
    "duration": 8157,
    "start_time": "2023-09-12T07:33:03.159Z"
   },
   {
    "duration": 4494,
    "start_time": "2023-09-12T07:41:52.048Z"
   },
   {
    "duration": 950,
    "start_time": "2023-09-12T07:41:56.545Z"
   },
   {
    "duration": 17,
    "start_time": "2023-09-12T07:41:57.497Z"
   },
   {
    "duration": 41,
    "start_time": "2023-09-12T07:41:57.516Z"
   },
   {
    "duration": 35,
    "start_time": "2023-09-12T07:41:57.559Z"
   },
   {
    "duration": 4405,
    "start_time": "2023-09-12T07:46:32.711Z"
   },
   {
    "duration": 899,
    "start_time": "2023-09-12T07:46:37.118Z"
   },
   {
    "duration": 12,
    "start_time": "2023-09-12T07:46:38.019Z"
   },
   {
    "duration": 30,
    "start_time": "2023-09-12T07:46:38.034Z"
   },
   {
    "duration": 47,
    "start_time": "2023-09-12T07:46:38.066Z"
   },
   {
    "duration": 4375,
    "start_time": "2023-09-12T07:46:38.115Z"
   },
   {
    "duration": 2964,
    "start_time": "2023-09-12T07:46:42.492Z"
   },
   {
    "duration": 174,
    "start_time": "2023-09-12T07:46:45.458Z"
   },
   {
    "duration": 82,
    "start_time": "2023-09-12T07:46:45.634Z"
   },
   {
    "duration": 8127,
    "start_time": "2023-09-12T07:46:45.718Z"
   }
  ],
  "colab": {
   "provenance": []
  },
  "kernelspec": {
   "display_name": "Python 3 (ipykernel)",
   "language": "python",
   "name": "python3"
  },
  "language_info": {
   "codemirror_mode": {
    "name": "ipython",
    "version": 3
   },
   "file_extension": ".py",
   "mimetype": "text/x-python",
   "name": "python",
   "nbconvert_exporter": "python",
   "pygments_lexer": "ipython3",
   "version": "3.9.5"
  },
  "toc": {
   "base_numbering": 1,
   "nav_menu": {},
   "number_sections": true,
   "sideBar": true,
   "skip_h1_title": true,
   "title_cell": "Содержание",
   "title_sidebar": "Contents",
   "toc_cell": true,
   "toc_position": {
    "height": "calc(100% - 180px)",
    "left": "10px",
    "top": "150px",
    "width": "239px"
   },
   "toc_section_display": true,
   "toc_window_display": true
  }
 },
 "nbformat": 4,
 "nbformat_minor": 1
}
